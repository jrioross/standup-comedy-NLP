{
 "cells": [
  {
   "cell_type": "markdown",
   "metadata": {},
   "source": [
    "# Feature Engineering for Standup Scripts"
   ]
  },
  {
   "cell_type": "markdown",
   "metadata": {},
   "source": [
    "## Imports"
   ]
  },
  {
   "cell_type": "code",
   "execution_count": 308,
   "metadata": {},
   "outputs": [],
   "source": [
    "import pickle\n",
    "import numpy as np\n",
    "import pandas as pd\n",
    "from datetime import date\n",
    "\n",
    "import matplotlib.pyplot as plt\n",
    "import seaborn as sns\n",
    "import plotly.express as px\n",
    "\n",
    "import re\n",
    "from collections import Counter, defaultdict\n",
    "import itertools\n",
    "import nltk\n",
    "from nltk.corpus import stopwords\n",
    "from nltk.tokenize import word_tokenize, sent_tokenize, regexp_tokenize\n",
    "import gensim\n",
    "from gensim.corpora.dictionary import Dictionary\n",
    "import spacy"
   ]
  },
  {
   "cell_type": "code",
   "execution_count": 309,
   "metadata": {},
   "outputs": [],
   "source": [
    "sw = stopwords.words(\"english\")"
   ]
  },
  {
   "cell_type": "code",
   "execution_count": 310,
   "metadata": {},
   "outputs": [],
   "source": [
    "transcripts_df = pd.read_pickle('../data/transcripts_raw_df.pickle')"
   ]
  },
  {
   "cell_type": "code",
   "execution_count": 311,
   "metadata": {},
   "outputs": [],
   "source": [
    "with open(f'../data/imdb_title_results_2022-05-23.pickle', 'rb') as file:\n",
    "    show_meta = pickle.load(file)"
   ]
  },
  {
   "cell_type": "markdown",
   "metadata": {},
   "source": [
    "## add metadata to transcripts_df"
   ]
  },
  {
   "cell_type": "markdown",
   "metadata": {},
   "source": [
    "Drop:\n",
    "- type\n",
    "- fullTitle\n",
    "- languages\n",
    "- languageList\n",
    "- boxOffice\n",
    "- keywords\n",
    "- keywordList\n",
    "- plot\n",
    "- plotLocal\n",
    "- plotLocalIsRtl\n",
    "- stars\n",
    "Separate Table:\n",
    "- similars"
   ]
  },
  {
   "cell_type": "code",
   "execution_count": 312,
   "metadata": {},
   "outputs": [],
   "source": [
    "meta = pd.concat([pd.DataFrame.from_dict({index: show}, orient = 'index') for index, show in enumerate(show_meta)])"
   ]
  },
  {
   "cell_type": "code",
   "execution_count": 313,
   "metadata": {},
   "outputs": [],
   "source": [
    "def extract_artist(Series):\n",
    "    colonoscopy = re.search(r\"^.+:\", Series['title'])\n",
    "    commoscopy = re.search(r\"^.+,\", Series['writers'])\n",
    "    if colonoscopy:\n",
    "        return Series['title'][:colonoscopy.end()-1]\n",
    "    elif commoscopy:\n",
    "        return Series['writers'][:commoscopy.end()-1]\n",
    "    else:\n",
    "        return Series['writers']"
   ]
  },
  {
   "cell_type": "code",
   "execution_count": 314,
   "metadata": {},
   "outputs": [],
   "source": [
    "meta['artist'] = [extract_artist(row) for ind, row in  meta.iterrows()]"
   ]
  },
  {
   "cell_type": "code",
   "execution_count": 315,
   "metadata": {},
   "outputs": [],
   "source": [
    "# Manually fill the one missing runtime\n",
    "meta.loc[meta['runtimeMins'].isnull(), 'runtimeMins'] = '60'"
   ]
  },
  {
   "cell_type": "code",
   "execution_count": 316,
   "metadata": {},
   "outputs": [],
   "source": [
    "meta = meta[meta.columns[meta.isnull().sum() < 200]]\n",
    "def extract_mins(string):\n",
    "    if 'H' in string:\n",
    "        return int(re.search('\\d+', string).group(0))*60\n",
    "    else:\n",
    "        return int(re.search('\\d+', string).group(0))\n",
    "meta['runtimeMins'] = meta['runtimeMins'].apply(extract_mins)"
   ]
  },
  {
   "cell_type": "code",
   "execution_count": 317,
   "metadata": {},
   "outputs": [],
   "source": [
    "# dropcols = [\n",
    "# 'type',\n",
    "# 'originalTitle',\n",
    "# 'fullTitle',\n",
    "# 'languages',\n",
    "# 'languageList',\n",
    "# 'boxOffice',\n",
    "# 'keywords',\n",
    "# 'keywordList',\n",
    "# 'plot',\n",
    "# 'plotLocal',\n",
    "# 'plotLocalIsRtl',\n",
    "# 'directors', \n",
    "# 'directorList', \n",
    "# 'writers',\n",
    "# 'writerList', \n",
    "# 'stars', \n",
    "# 'starList', \n",
    "# 'actorList',\n",
    "# 'countries',\n",
    "# 'countryList'\n",
    "# ]\n",
    "\n",
    "# meta = meta.drop(columns=dropcols)"
   ]
  },
  {
   "cell_type": "code",
   "execution_count": 318,
   "metadata": {},
   "outputs": [],
   "source": [
    "keepcols = ['id', 'title', 'year', 'image', 'releaseDate', 'runtimeMins',\n",
    "       'runtimeStr', 'awards', 'genres', 'genreList', 'companies',\n",
    "       'companyList', 'contentRating', 'imDbRating', 'imDbRatingVotes',\n",
    "       'similars', 'artist']\n",
    "meta = meta[keepcols]"
   ]
  },
  {
   "cell_type": "code",
   "execution_count": 325,
   "metadata": {},
   "outputs": [],
   "source": [
    "meta['year'] = meta['year'].astype(int)\n",
    "meta['releaseDate'] = pd.to_datetime(meta['releaseDate'])\n",
    "meta['imDbRating'] = meta['imDbRating'].astype(float)\n",
    "meta['imDbRatingVotes'] = meta['imDbRatingVotes'].astype(int)"
   ]
  },
  {
   "cell_type": "code",
   "execution_count": 324,
   "metadata": {},
   "outputs": [
    {
     "data": {
      "text/plain": [
       "Index(['id', 'title', 'year', 'image', 'releaseDate', 'runtimeMins',\n",
       "       'runtimeStr', 'awards', 'genres', 'genreList', 'companies',\n",
       "       'companyList', 'contentRating', 'imDbRating', 'imDbRatingVotes',\n",
       "       'similars', 'artist'],\n",
       "      dtype='object')"
      ]
     },
     "execution_count": 324,
     "metadata": {},
     "output_type": "execute_result"
    }
   ],
   "source": [
    "meta.columns"
   ]
  },
  {
   "cell_type": "code",
   "execution_count": 326,
   "metadata": {},
   "outputs": [
    {
     "data": {
      "application/vnd.plotly.v1+json": {
       "config": {
        "plotlyServerURL": "https://plotly.com"
       },
       "data": [
        {
         "alignmentgroup": "True",
         "boxpoints": "all",
         "customdata": [
          [
           "Jim Gaffigan: Comedy Monster"
          ],
          [
           "Sorry"
          ],
          [
           "Drew Michael: Drew Michael"
          ],
          [
           "Drew Michael: Red Blue Green"
          ],
          [
           "Mo Amer: Mohammed in Texas"
          ],
          [
           "Dave Chappelle: The Closer"
          ],
          [
           "Kathleen Madigan: Bothering Jesus"
          ],
          [
           "Kathleen Madigan: Madigan Again"
          ],
          [
           "Phil Wang: Philly Philly Wang Wang"
          ],
          [
           "Tom Papa: You're Doing Great!"
          ],
          [
           "Tom Papa: Human Mule"
          ],
          [
           "Tom Papa: Freaked Out"
          ],
          [
           "Inside"
          ],
          [
           "Tig Notaro: Boyish Girl Interrupted"
          ],
          [
           "Joe List: I Hate Myself"
          ],
          [
           "Nate Bargatze: The Greatest Average American"
          ],
          [
           "Brian Regan: On the Rocks"
          ],
          [
           "Doug Stanhope: Beer Hall Putsch"
          ],
          [
           "Tamborine"
          ],
          [
           "Sarah Cooper: Everything's Fine"
          ],
          [
           "Bo Burnham: Words, Words, Words"
          ],
          [
           "Vir Das: Outside in - The Lockdown Special"
          ],
          [
           "Larry the Cable Guy: Remain Seated"
          ],
          [
           "Craig Ferguson: Just Being Honest"
          ],
          [
           "Kevin Hart: Zero F**ks Given"
          ],
          [
           "Sam Morril: I Got This"
          ],
          [
           "Ronny Chieng: Asian Comedian Destroys America"
          ],
          [
           "Craig Ferguson: A Wee Bit o' Revolution"
          ],
          [
           "Michael McIntyre: Showman"
          ],
          [
           "Rob Schneider: Asian Momma, Mexican Kids"
          ],
          [
           "Sam Jay: 3 in the Morning"
          ],
          [
           "Jack Whitehall: I'm Only Joking"
          ],
          [
           "Urzila Carlson: Overqualified Loser"
          ],
          [
           "George Lopez: We'll Do It for Half"
          ],
          [
           "Jim Jefferies: Intolerant"
          ],
          [
           "George Carlin: Doin' It Again"
          ],
          [
           "Eric Andre: Legalize Everything"
          ],
          [
           "Roy Wood Jr.: Father Figure"
          ],
          [
           "Amy Schumer Presents Mark Normand: Don't Be Yourself"
          ],
          [
           "Chris Gethard: Career Suicide"
          ],
          [
           "Ramy Youssef: Feelings"
          ],
          [
           "Kenny Sebastian: Don't Be That Guy"
          ],
          [
           "Billy Connolly: High Horse Tour Live"
          ],
          [
           "Hannah Gadsby: Douglas"
          ],
          [
           "Hasan Minhaj: Homecoming King"
          ],
          [
           "Patton Oswalt: I Love Everything"
          ],
          [
           "Russell Peters: Deported"
          ],
          [
           "Jimmy O. Yang: Good Deal"
          ],
          [
           "Jo Koy: Lights Out"
          ],
          [
           "Lee Mack: Going Out Live"
          ],
          [
           "Lee Mack: Live"
          ],
          [
           "T.J. Miller: No Real Reason"
          ],
          [
           "Jerry Seinfeld: 23 Hours to Kill"
          ],
          [
           "Sincerely Louis CK"
          ],
          [
           "Jim Norton: American Degenerate"
          ],
          [
           "Jim Norton: Monster Rain"
          ],
          [
           "Maria Bamford: Weakness Is the Brand"
          ],
          [
           "Chris D'Elia: White Male. Black Comic."
          ],
          [
           "Chris D'Elia: Man on Fire"
          ],
          [
           "Tom Segura: Ball Hog"
          ],
          [
           "Bert Kreischer: Hey Big Boy"
          ],
          [
           "Marc Maron: End Times Fun"
          ],
          [
           "Pete Davidson: SMD"
          ],
          [
           "Pete Davidson: Alive from New York"
          ],
          [
           "Amanda Seales: I Be Knowin'"
          ],
          [
           "Stewart Lee: Carpet Remnant World"
          ],
          [
           "Stewart Lee: Content Provider"
          ],
          [
           "Sara Pascoe Live: LadsLadsLads"
          ],
          [
           "Dan Soder: Son of a Gary"
          ],
          [
           "Jim Gaffigan: Quality Time"
          ],
          [
           "Kevin Bridges: A Whole Different Story"
          ],
          [
           "Kevin Bridges: The Story So Far - Live in Glasgow"
          ],
          [
           "Kevin Bridges: The Story Continues..."
          ],
          [
           "Michelle Wolf: Joke Show"
          ],
          [
           "Tiffany Haddish: Black Mitzvah"
          ],
          [
           "Mike Birbiglia: The New One"
          ],
          [
           "Iliza Shlesinger: Unveiled"
          ],
          [
           "Seth Meyers: Lobby Baby"
          ],
          [
           "Arsenio Hall: Smart and Classy"
          ],
          [
           "Nikki Glaser: Bangin'"
          ],
          [
           "Bill Burr: Paper Tiger"
          ],
          [
           "Dave Chappelle: Sticks & Stones"
          ],
          [
           "Emily Heller: Ice Thickeners"
          ],
          [
           "David Cross: Oh Come On"
          ],
          [
           "Whitney Cummings: Can I Touch It?"
          ],
          [
           "Aziz Ansari: Right Now"
          ],
          [
           "Ralphie May Filthy Animal Tour"
          ],
          [
           "Mike Epps: Only One Mike"
          ],
          [
           "Adam Devine: Best Time of Our Lives"
          ],
          [
           "Jo Koy: Live from Seattle"
          ],
          [
           "Jo Koy: Comin' in Hot"
          ],
          [
           "Wanda Sykes: Not Normal"
          ],
          [
           "Cedric the Entertainer: Live from the Ville"
          ],
          [
           "Eddie Murphy: Raw"
          ],
          [
           "Colin Quinn: The New York Story"
          ],
          [
           "Demetri Martin: Live (At the Time)"
          ],
          [
           "George Carlin: What Am I Doing in New Jersey?"
          ],
          [
           "Chelsea Peretti: One of the Greats"
          ],
          [
           "Anthony Jeselnik: Fire in the Maternity Ward"
          ],
          [
           "Roy Wood Jr.: No One Loves You"
          ],
          [
           "Robin Williams: Weapons of Self Destruction"
          ],
          [
           "Robin Williams Live on Broadway"
          ],
          [
           "Jimmy Carr: The Best of Ultimate Gold Greatest Hits"
          ],
          [
           "Nate Bargatze: The Tennessee Kid"
          ],
          [
           "W. Kamau Bell: Private School Negro"
          ],
          [
           "Kevin Hart: Irresponsible"
          ],
          [
           "Nate Bargatze: Full Time Magic"
          ],
          [
           "Amy Schumer: Growing"
          ],
          [
           "Enissa Amani: Ehrenwort"
          ],
          [
           "Ken Jeong: You Complete Me, Ho"
          ],
          [
           "Ray Romano: Right Here, Around the Corner"
          ],
          [
           "Gabriel \"Fluffy\" Iglesias: One Show Fits All"
          ],
          [
           "Sebastian Maniscalco: Stay Hungry"
          ],
          [
           "Sebastian Maniscalco: Aren't You Embarrassed?"
          ],
          [
           "Sebastian Maniscalco: What's Wrong with People?"
          ],
          [
           "Oh, Hello on Broadway"
          ],
          [
           "Ellen DeGeneres: Relatable"
          ],
          [
           "Pete Holmes: Dirty Clean"
          ],
          [
           "Vir Das: Losing It"
          ],
          [
           "Trevor Noah: Son of Patricia"
          ],
          [
           "Jeff Foxworthy & Larry the Cable Guy: We've Been Thinking"
          ],
          [
           "Adam Sandler: 100% Fresh"
          ],
          [
           "Jeff Foxworthy: Totally Committed"
          ],
          [
           "Ron White: If You Quit Listening, I'll Shut Up"
          ],
          [
           "Mo Amer: The Vagabond"
          ],
          [
           "Joe Mande's Award-Winning Comedy Special"
          ],
          [
           "Henry Rollins: Keep Talking, Pal"
          ],
          [
           "Joe Rogan: Strange Times"
          ],
          [
           "D.L. Hughley: Contrarian"
          ],
          [
           "Iliza Shlesinger: Freezing Hot"
          ],
          [
           "Iliza Shlesinger: War Paint"
          ],
          [
           "Bert Kreischer: Secret Time"
          ],
          [
           "Demetri Martin: The Overthinker"
          ],
          [
           "Bill Maher: Live from Oklahoma"
          ],
          [
           "Rowan Atkinson: Not Just a Pretty Face"
          ],
          [
           "Iliza Shlesinger: Confirmed Kills"
          ],
          [
           "Iliza: Elder Millennial"
          ],
          [
           "Jim Gaffigan: Noble Ape"
          ],
          [
           "Jim Norton: Contextually Inadequate"
          ],
          [
           "Hannah Gadsby: Nanette"
          ],
          [
           "Brad Williams: Daddy Issues"
          ],
          [
           "DeRay Davis: How to Act Black"
          ],
          [
           "Ricky Gervais: Live IV - Science"
          ],
          [
           "Jim Jefferies: This Is Me Now"
          ],
          [
           "Russell Peters: Outsourced"
          ],
          [
           "Russell Peters: Almost Famous"
          ],
          [
           "Ron White: A Little Unprofessional"
          ],
          [
           "Michael McIntyre: Hello Wembley!"
          ],
          [
           "Kevin Smith: Silent But Deadly"
          ],
          [
           "Kevin James: Never Don't Give Up"
          ],
          [
           "Brent Morin: I'm Brent Morin"
          ],
          [
           "Nikki Glaser: Perfect"
          ],
          [
           "Ali Wong: Hard Knock Wife"
          ],
          [
           "Kavin Jay: Everybody Calm Down!"
          ],
          [
           "John Mulaney: Kid Gorgeous at Radio City"
          ],
          [
           "Eddie Griffin: Undeniable"
          ],
          [
           "Greg Davies: You Magnificent Beast"
          ],
          [
           "George Carlin: You Are All Diseased"
          ],
          [
           "Marlon Wayans: Woke-ish"
          ],
          [
           "Ricky Gervais: Humanity"
          ],
          [
           "Adel Karam: Live from Beirut"
          ],
          [
           "Stewart Lee: 90s Comedian"
          ],
          [
           "Mike Birbiglia: My Girlfriend's Boyfriend"
          ],
          [
           "Dave Attell: Road Work"
          ],
          [
           "Eddie Izzard: Glorious"
          ],
          [
           "Chris Rock: Bring the Pain"
          ],
          [
           "Ari Shaffir: Double Negative"
          ],
          [
           "Tamborine"
          ],
          [
           "Fred Armisen: Standup For Drummers"
          ],
          [
           "Dana Carvey: Straight White Male, 60"
          ],
          [
           "Eddie Izzard: Stripped"
          ],
          [
           "Todd Glass: Act Happy"
          ],
          [
           "Brian Regan: Standing Up"
          ],
          [
           "Brian Regan: Nunchucks and Flamethrowers"
          ],
          [
           "Katt Williams: Great America"
          ],
          [
           "Jimmy Carr: Being Funny"
          ],
          [
           "Jimmy Carr: Laughing and Joking"
          ],
          [
           "Eddie Izzard: Unrepeatable"
          ],
          [
           "D.L. Hughley: Unapologetic"
          ],
          [
           "Bridget Everett: Gynecological Wonder"
          ],
          [
           "Chris Rock: Never Scared"
          ],
          [
           "Stewart Lee: Stand-Up Comedian"
          ],
          [
           "Jimmy Carr: Funny Business"
          ],
          [
           "Eddie Izzard: Dress to Kill"
          ],
          [
           "Chris Tucker Live"
          ],
          [
           "Kevin Hart: What Now?"
          ],
          [
           "Kevin Hart: Let Me Explain"
          ],
          [
           "Tom Segura: Disgraceful"
          ],
          [
           "Michelle Wolf: Nice Lady"
          ],
          [
           "Fahim Anwar: There's No Business Like Show Business"
          ],
          [
           "Ellen DeGeneres: The Beginning"
          ],
          [
           "Maz Jobrani: Immigrant"
          ],
          [
           "Todd Barry: Spicy Honey"
          ],
          [
           "Jerry Seinfeld: 'I'm Telling You for the Last Time'"
          ],
          [
           "Craig Ferguson: Does This Need to Be Said?"
          ],
          [
           "Dave Chappelle: The Bird Revelation"
          ],
          [
           "Dave Chappelle: The Bird Revelation"
          ],
          [
           "Dave Chappelle: Equanimity"
          ],
          [
           "Craig Ferguson: I'm Here to Help"
          ],
          [
           "Russell Howard: Recalibrate"
          ],
          [
           "Whitney Cummings: I Love You"
          ],
          [
           "Whitney Cummings: I'm Your Girlfriend"
          ],
          [
           "Sarah Millican: Chatterbox Live"
          ],
          [
           "Anjelah Johnson: Not Fancy"
          ],
          [
           "Ricky Gervais Live 2: Politics"
          ],
          [
           "Russell Howard Live: Dingledodies"
          ],
          [
           "Christina P: Mother Inferior"
          ],
          [
           "Jack Whitehall: At Large"
          ],
          [
           "Cristela Alonzo: Lower Classy"
          ],
          [
           "Judah Friedlander: America is the Greatest Country in the United States"
          ],
          [
           "Aziz Ansari Live in Madison Square Garden"
          ],
          [
           "Aziz Ansari: Buried Alive"
          ],
          [
           "Paul Mooney: A Piece of My Mind - God Bless America"
          ],
          [
           "Patton Oswalt: Annihilation"
          ],
          [
           "Chris Rock: Kill the Messenger - London, New York, Johannesburg"
          ],
          [
           "Bill Maher: Live from D.C."
          ],
          [
           "Sarah Silverman: Jesus Is Magic"
          ],
          [
           "Sarah Silverman: We Are Miracles"
          ],
          [
           "Pablo Francisco: Ouch! Live from San Jose"
          ],
          [
           "Bill Maher... But I'm Not Wrong"
          ],
          [
           "Russell Brand: Messiah Complex"
          ],
          [
           "Chris Rock: Bigger & Blacker"
          ],
          [
           "Gabriel Iglesias: Hot and Fluffy"
          ],
          [
           "Gabriel Iglesias: I'm Not Fat... I'm Fluffy"
          ],
          [
           "Gabriel Iglesias: I'm Sorry for What I Said When I Was Hungry"
          ],
          [
           "Rory Scovel Tries Stand-Up for the First Time"
          ],
          [
           "Lisa Lampanelli: Back to the Drawing Board"
          ],
          [
           "Erik Griffin: The Ugly Truth"
          ],
          [
           "Jen Kirkman: Just Keep Livin?"
          ],
          [
           "Daniel Tosh: Completely Serious"
          ],
          [
           "Al Madrigal: Why Is the Rabbit Crying?"
          ],
          [
           "Neal Brennan: 3 Mics"
          ],
          [
           "John Mulaney: New in Town"
          ],
          [
           "Donald Glover: Weirdo"
          ],
          [
           "Ali Wong: Baby Cobra"
          ],
          [
           "Norm Macdonald: Hitler's Dog, Gossip & Trickery"
          ],
          [
           "Daniel Tosh: People Pleaser"
          ],
          [
           "Marc Maron: More Later"
          ],
          [
           "Dylan Moran: Off the Hook"
          ],
          [
           "Richard Pryor: Live and Smokin'"
          ],
          [
           "Richard Pryor... Here and Now"
          ],
          [
           "Bill Burr: Why Do I Do This?"
          ],
          [
           "Amy Schumer: Mostly Sex Stuff"
          ],
          [
           "Jim Jefferies Alcoholocaust"
          ],
          [
           "Amy Schumer: Live at the Apollo"
          ],
          [
           "Kevin Hart: Seriously Funny"
          ],
          [
           "Hannibal Buress: Comedy Camisado"
          ],
          [
           "Neal Brennan: Women and Black Dudes"
          ],
          [
           "Nick Offerman: American Ham"
          ],
          [
           "Aziz Ansari: Intimate Moments for a Sensual Evening"
          ],
          [
           "Big Jay Oakerson: Live at Webster Hall"
          ],
          [
           "Doug Stanhope: No Refunds"
          ],
          [
           "George Carlin at USC"
          ],
          [
           "Jim Norton: Mouthful of Shame"
          ],
          [
           "Michael Che Matters"
          ],
          [
           "Joe Rogan: Triggered"
          ],
          [
           "Trevor Noah: Lost in Translation"
          ],
          [
           "Maria Bamford: Old Baby"
          ],
          [
           "Bo Burnham: what."
          ],
          [
           "Bo Burnham: Make Happy"
          ],
          [
           "Anthony Jeselnik: Caligula"
          ],
          [
           "Anthony Jeselnik: Thoughts and Prayers"
          ],
          [
           "John Mulaney: The Comeback Kid"
          ],
          [
           "Bill Hicks: Revelations"
          ],
          [
           "Lewis Black: Black to the Future"
          ],
          [
           "Doug Stanhope: Before Turning the Gun on Himself"
          ],
          [
           "Doug Stanhope: Deadbeat Hero"
          ],
          [
           "Jim Jefferies: Contraband"
          ],
          [
           "Mike Birbiglia: Thank God for Jokes"
          ],
          [
           "Sarah Silverman: A Speck of Dust"
          ],
          [
           "George Carlin: Playin' with Your Head"
          ],
          [
           "On Location: George Carlin at Phoenix"
          ],
          [
           "Louis C.K.: Chewed Up"
          ],
          [
           "Tom Segura: Completely Normal"
          ],
          [
           "George Carlin: Carlin on Campus"
          ],
          [
           "Louis C.K.: Live at the Beacon Theater"
          ],
          [
           "Ricky Gervais: Out of England 2 - The Stand-Up Special"
          ],
          [
           "Amy Schumer: The Leather Special"
          ],
          [
           "Jim Gaffigan: Cinco"
          ],
          [
           "Jim Jefferies: I Swear to God"
          ],
          [
           "Louis C.K.: Hilarious"
          ],
          [
           "Louis C.K.: Shameless"
          ],
          [
           "Bill Burr: I'm Sorry You Feel That Way"
          ],
          [
           "Bill Burr: You People Are All the Same."
          ],
          [
           "Dave Chappelle: For What It's Worth"
          ],
          [
           "Dave Chappelle: Killin' Them Softly"
          ],
          [
           "Eddie Griffin: You Can Tell 'Em I Said It!"
          ],
          [
           "Bill Burr: Walk Your Way Out"
          ],
          [
           "Louis C.K. Oh My God"
          ],
          [
           "Louis C.K.: Live at the Comedy Store"
          ],
          [
           "Bill Hicks: Relentless"
          ],
          [
           "Daniel Tosh: Happy Thoughts"
          ],
          [
           "Patrice O'Neal: Elephant in the Room"
          ],
          [
           "Katt Williams Live"
          ],
          [
           "Richard Pryor: Live in Concert"
          ],
          [
           "Richard Pryor: Live on the Sunset Strip"
          ],
          [
           "Trevor Noah: Afraid of the Dark"
          ],
          [
           "Jim Jefferies: BARE"
          ],
          [
           "Deep in the Heart of Texas: Dave Chappelle Live at Austin City Limits"
          ],
          [
           "Tom Segura: Mostly Stories"
          ],
          [
           "Bill Burr: Let It Go"
          ],
          [
           "George Carlin: Jammin' in New York"
          ],
          [
           "George Carlin: You Are All Diseased"
          ],
          [
           "George Carlin... It's Bad for Ya!"
          ],
          [
           "Jim Jefferies: Freedumb"
          ],
          [
           "Eddie Murphy: Delirious"
          ],
          [
           "The Age of Spin: Dave Chappelle Live at the Hollywood Palladium"
          ],
          [
           "George Carlin: Back in Town"
          ],
          [
           "Louis C.K. 2017"
          ],
          [
           "George Carlin: Jammin' in New York"
          ],
          [
           "Reggie Watts: Spatial"
          ],
          [
           "George Carlin: Complaints & Grievances"
          ],
          [
           "George Carlin: Life Is Worth Losing"
          ],
          [
           "George Carlin... It's Bad for Ya!"
          ]
         ],
         "fillcolor": "rgba(255,255,255,0)",
         "hoveron": "points",
         "hovertemplate": "imDbRatingVotes=%{x}<br>title=%{customdata[0]}<extra></extra>",
         "legendgroup": "",
         "line": {
          "color": "rgba(255,255,255,0)"
         },
         "marker": {
          "color": "#636efa"
         },
         "name": "",
         "offsetgroup": "",
         "orientation": "h",
         "pointpos": 0,
         "showlegend": false,
         "type": "box",
         "x": [
          1618,
          2363,
          368,
          261,
          615,
          25270,
          539,
          367,
          576,
          843,
          187,
          235,
          45963,
          674,
          207,
          1328,
          604,
          1116,
          6918,
          1709,
          3818,
          256,
          261,
          423,
          3356,
          340,
          3126,
          498,
          1221,
          759,
          506,
          1472,
          376,
          447,
          2777,
          2354,
          2502,
          344,
          455,
          535,
          724,
          1935,
          158,
          3938,
          7196,
          1274,
          816,
          1463,
          122,
          156,
          298,
          149,
          5070,
          5473,
          496,
          477,
          142,
          361,
          1726,
          2869,
          1932,
          1911,
          641,
          4082,
          376,
          608,
          504,
          97,
          333,
          1163,
          245,
          333,
          302,
          1585,
          961,
          1827,
          1668,
          2542,
          457,
          1634,
          10689,
          25703,
          22,
          290,
          1733,
          5119,
          142,
          297,
          949,
          1342,
          1016,
          1816,
          683,
          19671,
          998,
          2181,
          1978,
          2380,
          3564,
          94,
          3328,
          6020,
          2250,
          1812,
          770,
          4456,
          271,
          3820,
          194,
          2378,
          1672,
          1797,
          1295,
          1056,
          1206,
          3106,
          4673,
          452,
          1247,
          4033,
          633,
          5148,
          379,
          835,
          828,
          500,
          284,
          4320,
          609,
          2592,
          2019,
          2318,
          1699,
          575,
          2867,
          2866,
          4036,
          1283,
          506,
          12185,
          212,
          427,
          2215,
          3984,
          1709,
          1895,
          582,
          994,
          1114,
          1457,
          691,
          343,
          4893,
          232,
          7792,
          263,
          2333,
          4253,
          1396,
          18551,
          146,
          415,
          3311,
          477,
          2529,
          3931,
          719,
          6918,
          1285,
          1491,
          775,
          367,
          752,
          679,
          960,
          1153,
          1151,
          1487,
          197,
          91,
          5342,
          493,
          4243,
          7297,
          1939,
          9458,
          9013,
          3759,
          1045,
          49,
          867,
          843,
          852,
          5837,
          691,
          9870,
          9870,
          12157,
          814,
          1602,
          496,
          719,
          215,
          686,
          3480,
          419,
          947,
          2122,
          854,
          1436,
          3251,
          3985,
          51,
          2368,
          4294,
          516,
          5569,
          1435,
          687,
          1197,
          1212,
          7076,
          3482,
          2495,
          2542,
          824,
          106,
          66,
          1289,
          3105,
          91,
          3279,
          6663,
          3563,
          6933,
          2942,
          874,
          441,
          380,
          1099,
          2342,
          4511,
          3021,
          2621,
          3402,
          5542,
          1516,
          216,
          1279,
          2415,
          320,
          1142,
          981,
          1325,
          2625,
          4507,
          646,
          949,
          11685,
          14764,
          1406,
          5188,
          8497,
          3086,
          320,
          650,
          845,
          1200,
          2476,
          3715,
          1745,
          1353,
          10591,
          2594,
          1774,
          9887,
          2285,
          9801,
          2394,
          2883,
          11978,
          8578,
          7967,
          7364,
          8595,
          9904,
          549,
          7144,
          9307,
          6476,
          2528,
          2395,
          1312,
          470,
          5209,
          4173,
          5184,
          5419,
          11430,
          3551,
          5315,
          3607,
          4253,
          5970,
          5404,
          17578,
          12385,
          3248,
          10095,
          3607,
          506,
          3554,
          4602,
          5970
         ],
         "x0": " ",
         "xaxis": "x",
         "y0": " ",
         "yaxis": "y"
        }
       ],
       "layout": {
        "boxmode": "group",
        "legend": {
         "tracegroupgap": 0
        },
        "margin": {
         "t": 60
        },
        "template": {
         "data": {
          "bar": [
           {
            "error_x": {
             "color": "#2a3f5f"
            },
            "error_y": {
             "color": "#2a3f5f"
            },
            "marker": {
             "line": {
              "color": "#E5ECF6",
              "width": 0.5
             },
             "pattern": {
              "fillmode": "overlay",
              "size": 10,
              "solidity": 0.2
             }
            },
            "type": "bar"
           }
          ],
          "barpolar": [
           {
            "marker": {
             "line": {
              "color": "#E5ECF6",
              "width": 0.5
             },
             "pattern": {
              "fillmode": "overlay",
              "size": 10,
              "solidity": 0.2
             }
            },
            "type": "barpolar"
           }
          ],
          "carpet": [
           {
            "aaxis": {
             "endlinecolor": "#2a3f5f",
             "gridcolor": "white",
             "linecolor": "white",
             "minorgridcolor": "white",
             "startlinecolor": "#2a3f5f"
            },
            "baxis": {
             "endlinecolor": "#2a3f5f",
             "gridcolor": "white",
             "linecolor": "white",
             "minorgridcolor": "white",
             "startlinecolor": "#2a3f5f"
            },
            "type": "carpet"
           }
          ],
          "choropleth": [
           {
            "colorbar": {
             "outlinewidth": 0,
             "ticks": ""
            },
            "type": "choropleth"
           }
          ],
          "contour": [
           {
            "colorbar": {
             "outlinewidth": 0,
             "ticks": ""
            },
            "colorscale": [
             [
              0,
              "#0d0887"
             ],
             [
              0.1111111111111111,
              "#46039f"
             ],
             [
              0.2222222222222222,
              "#7201a8"
             ],
             [
              0.3333333333333333,
              "#9c179e"
             ],
             [
              0.4444444444444444,
              "#bd3786"
             ],
             [
              0.5555555555555556,
              "#d8576b"
             ],
             [
              0.6666666666666666,
              "#ed7953"
             ],
             [
              0.7777777777777778,
              "#fb9f3a"
             ],
             [
              0.8888888888888888,
              "#fdca26"
             ],
             [
              1,
              "#f0f921"
             ]
            ],
            "type": "contour"
           }
          ],
          "contourcarpet": [
           {
            "colorbar": {
             "outlinewidth": 0,
             "ticks": ""
            },
            "type": "contourcarpet"
           }
          ],
          "heatmap": [
           {
            "colorbar": {
             "outlinewidth": 0,
             "ticks": ""
            },
            "colorscale": [
             [
              0,
              "#0d0887"
             ],
             [
              0.1111111111111111,
              "#46039f"
             ],
             [
              0.2222222222222222,
              "#7201a8"
             ],
             [
              0.3333333333333333,
              "#9c179e"
             ],
             [
              0.4444444444444444,
              "#bd3786"
             ],
             [
              0.5555555555555556,
              "#d8576b"
             ],
             [
              0.6666666666666666,
              "#ed7953"
             ],
             [
              0.7777777777777778,
              "#fb9f3a"
             ],
             [
              0.8888888888888888,
              "#fdca26"
             ],
             [
              1,
              "#f0f921"
             ]
            ],
            "type": "heatmap"
           }
          ],
          "heatmapgl": [
           {
            "colorbar": {
             "outlinewidth": 0,
             "ticks": ""
            },
            "colorscale": [
             [
              0,
              "#0d0887"
             ],
             [
              0.1111111111111111,
              "#46039f"
             ],
             [
              0.2222222222222222,
              "#7201a8"
             ],
             [
              0.3333333333333333,
              "#9c179e"
             ],
             [
              0.4444444444444444,
              "#bd3786"
             ],
             [
              0.5555555555555556,
              "#d8576b"
             ],
             [
              0.6666666666666666,
              "#ed7953"
             ],
             [
              0.7777777777777778,
              "#fb9f3a"
             ],
             [
              0.8888888888888888,
              "#fdca26"
             ],
             [
              1,
              "#f0f921"
             ]
            ],
            "type": "heatmapgl"
           }
          ],
          "histogram": [
           {
            "marker": {
             "pattern": {
              "fillmode": "overlay",
              "size": 10,
              "solidity": 0.2
             }
            },
            "type": "histogram"
           }
          ],
          "histogram2d": [
           {
            "colorbar": {
             "outlinewidth": 0,
             "ticks": ""
            },
            "colorscale": [
             [
              0,
              "#0d0887"
             ],
             [
              0.1111111111111111,
              "#46039f"
             ],
             [
              0.2222222222222222,
              "#7201a8"
             ],
             [
              0.3333333333333333,
              "#9c179e"
             ],
             [
              0.4444444444444444,
              "#bd3786"
             ],
             [
              0.5555555555555556,
              "#d8576b"
             ],
             [
              0.6666666666666666,
              "#ed7953"
             ],
             [
              0.7777777777777778,
              "#fb9f3a"
             ],
             [
              0.8888888888888888,
              "#fdca26"
             ],
             [
              1,
              "#f0f921"
             ]
            ],
            "type": "histogram2d"
           }
          ],
          "histogram2dcontour": [
           {
            "colorbar": {
             "outlinewidth": 0,
             "ticks": ""
            },
            "colorscale": [
             [
              0,
              "#0d0887"
             ],
             [
              0.1111111111111111,
              "#46039f"
             ],
             [
              0.2222222222222222,
              "#7201a8"
             ],
             [
              0.3333333333333333,
              "#9c179e"
             ],
             [
              0.4444444444444444,
              "#bd3786"
             ],
             [
              0.5555555555555556,
              "#d8576b"
             ],
             [
              0.6666666666666666,
              "#ed7953"
             ],
             [
              0.7777777777777778,
              "#fb9f3a"
             ],
             [
              0.8888888888888888,
              "#fdca26"
             ],
             [
              1,
              "#f0f921"
             ]
            ],
            "type": "histogram2dcontour"
           }
          ],
          "mesh3d": [
           {
            "colorbar": {
             "outlinewidth": 0,
             "ticks": ""
            },
            "type": "mesh3d"
           }
          ],
          "parcoords": [
           {
            "line": {
             "colorbar": {
              "outlinewidth": 0,
              "ticks": ""
             }
            },
            "type": "parcoords"
           }
          ],
          "pie": [
           {
            "automargin": true,
            "type": "pie"
           }
          ],
          "scatter": [
           {
            "marker": {
             "colorbar": {
              "outlinewidth": 0,
              "ticks": ""
             }
            },
            "type": "scatter"
           }
          ],
          "scatter3d": [
           {
            "line": {
             "colorbar": {
              "outlinewidth": 0,
              "ticks": ""
             }
            },
            "marker": {
             "colorbar": {
              "outlinewidth": 0,
              "ticks": ""
             }
            },
            "type": "scatter3d"
           }
          ],
          "scattercarpet": [
           {
            "marker": {
             "colorbar": {
              "outlinewidth": 0,
              "ticks": ""
             }
            },
            "type": "scattercarpet"
           }
          ],
          "scattergeo": [
           {
            "marker": {
             "colorbar": {
              "outlinewidth": 0,
              "ticks": ""
             }
            },
            "type": "scattergeo"
           }
          ],
          "scattergl": [
           {
            "marker": {
             "colorbar": {
              "outlinewidth": 0,
              "ticks": ""
             }
            },
            "type": "scattergl"
           }
          ],
          "scattermapbox": [
           {
            "marker": {
             "colorbar": {
              "outlinewidth": 0,
              "ticks": ""
             }
            },
            "type": "scattermapbox"
           }
          ],
          "scatterpolar": [
           {
            "marker": {
             "colorbar": {
              "outlinewidth": 0,
              "ticks": ""
             }
            },
            "type": "scatterpolar"
           }
          ],
          "scatterpolargl": [
           {
            "marker": {
             "colorbar": {
              "outlinewidth": 0,
              "ticks": ""
             }
            },
            "type": "scatterpolargl"
           }
          ],
          "scatterternary": [
           {
            "marker": {
             "colorbar": {
              "outlinewidth": 0,
              "ticks": ""
             }
            },
            "type": "scatterternary"
           }
          ],
          "surface": [
           {
            "colorbar": {
             "outlinewidth": 0,
             "ticks": ""
            },
            "colorscale": [
             [
              0,
              "#0d0887"
             ],
             [
              0.1111111111111111,
              "#46039f"
             ],
             [
              0.2222222222222222,
              "#7201a8"
             ],
             [
              0.3333333333333333,
              "#9c179e"
             ],
             [
              0.4444444444444444,
              "#bd3786"
             ],
             [
              0.5555555555555556,
              "#d8576b"
             ],
             [
              0.6666666666666666,
              "#ed7953"
             ],
             [
              0.7777777777777778,
              "#fb9f3a"
             ],
             [
              0.8888888888888888,
              "#fdca26"
             ],
             [
              1,
              "#f0f921"
             ]
            ],
            "type": "surface"
           }
          ],
          "table": [
           {
            "cells": {
             "fill": {
              "color": "#EBF0F8"
             },
             "line": {
              "color": "white"
             }
            },
            "header": {
             "fill": {
              "color": "#C8D4E3"
             },
             "line": {
              "color": "white"
             }
            },
            "type": "table"
           }
          ]
         },
         "layout": {
          "annotationdefaults": {
           "arrowcolor": "#2a3f5f",
           "arrowhead": 0,
           "arrowwidth": 1
          },
          "autotypenumbers": "strict",
          "coloraxis": {
           "colorbar": {
            "outlinewidth": 0,
            "ticks": ""
           }
          },
          "colorscale": {
           "diverging": [
            [
             0,
             "#8e0152"
            ],
            [
             0.1,
             "#c51b7d"
            ],
            [
             0.2,
             "#de77ae"
            ],
            [
             0.3,
             "#f1b6da"
            ],
            [
             0.4,
             "#fde0ef"
            ],
            [
             0.5,
             "#f7f7f7"
            ],
            [
             0.6,
             "#e6f5d0"
            ],
            [
             0.7,
             "#b8e186"
            ],
            [
             0.8,
             "#7fbc41"
            ],
            [
             0.9,
             "#4d9221"
            ],
            [
             1,
             "#276419"
            ]
           ],
           "sequential": [
            [
             0,
             "#0d0887"
            ],
            [
             0.1111111111111111,
             "#46039f"
            ],
            [
             0.2222222222222222,
             "#7201a8"
            ],
            [
             0.3333333333333333,
             "#9c179e"
            ],
            [
             0.4444444444444444,
             "#bd3786"
            ],
            [
             0.5555555555555556,
             "#d8576b"
            ],
            [
             0.6666666666666666,
             "#ed7953"
            ],
            [
             0.7777777777777778,
             "#fb9f3a"
            ],
            [
             0.8888888888888888,
             "#fdca26"
            ],
            [
             1,
             "#f0f921"
            ]
           ],
           "sequentialminus": [
            [
             0,
             "#0d0887"
            ],
            [
             0.1111111111111111,
             "#46039f"
            ],
            [
             0.2222222222222222,
             "#7201a8"
            ],
            [
             0.3333333333333333,
             "#9c179e"
            ],
            [
             0.4444444444444444,
             "#bd3786"
            ],
            [
             0.5555555555555556,
             "#d8576b"
            ],
            [
             0.6666666666666666,
             "#ed7953"
            ],
            [
             0.7777777777777778,
             "#fb9f3a"
            ],
            [
             0.8888888888888888,
             "#fdca26"
            ],
            [
             1,
             "#f0f921"
            ]
           ]
          },
          "colorway": [
           "#636efa",
           "#EF553B",
           "#00cc96",
           "#ab63fa",
           "#FFA15A",
           "#19d3f3",
           "#FF6692",
           "#B6E880",
           "#FF97FF",
           "#FECB52"
          ],
          "font": {
           "color": "#2a3f5f"
          },
          "geo": {
           "bgcolor": "white",
           "lakecolor": "white",
           "landcolor": "#E5ECF6",
           "showlakes": true,
           "showland": true,
           "subunitcolor": "white"
          },
          "hoverlabel": {
           "align": "left"
          },
          "hovermode": "closest",
          "mapbox": {
           "style": "light"
          },
          "paper_bgcolor": "white",
          "plot_bgcolor": "#E5ECF6",
          "polar": {
           "angularaxis": {
            "gridcolor": "white",
            "linecolor": "white",
            "ticks": ""
           },
           "bgcolor": "#E5ECF6",
           "radialaxis": {
            "gridcolor": "white",
            "linecolor": "white",
            "ticks": ""
           }
          },
          "scene": {
           "xaxis": {
            "backgroundcolor": "#E5ECF6",
            "gridcolor": "white",
            "gridwidth": 2,
            "linecolor": "white",
            "showbackground": true,
            "ticks": "",
            "zerolinecolor": "white"
           },
           "yaxis": {
            "backgroundcolor": "#E5ECF6",
            "gridcolor": "white",
            "gridwidth": 2,
            "linecolor": "white",
            "showbackground": true,
            "ticks": "",
            "zerolinecolor": "white"
           },
           "zaxis": {
            "backgroundcolor": "#E5ECF6",
            "gridcolor": "white",
            "gridwidth": 2,
            "linecolor": "white",
            "showbackground": true,
            "ticks": "",
            "zerolinecolor": "white"
           }
          },
          "shapedefaults": {
           "line": {
            "color": "#2a3f5f"
           }
          },
          "ternary": {
           "aaxis": {
            "gridcolor": "white",
            "linecolor": "white",
            "ticks": ""
           },
           "baxis": {
            "gridcolor": "white",
            "linecolor": "white",
            "ticks": ""
           },
           "bgcolor": "#E5ECF6",
           "caxis": {
            "gridcolor": "white",
            "linecolor": "white",
            "ticks": ""
           }
          },
          "title": {
           "x": 0.05
          },
          "xaxis": {
           "automargin": true,
           "gridcolor": "white",
           "linecolor": "white",
           "ticks": "",
           "title": {
            "standoff": 15
           },
           "zerolinecolor": "white",
           "zerolinewidth": 2
          },
          "yaxis": {
           "automargin": true,
           "gridcolor": "white",
           "linecolor": "white",
           "ticks": "",
           "title": {
            "standoff": 15
           },
           "zerolinecolor": "white",
           "zerolinewidth": 2
          }
         }
        },
        "xaxis": {
         "anchor": "y",
         "domain": [
          0,
          1
         ],
         "title": {
          "text": "imDbRatingVotes"
         }
        },
        "yaxis": {
         "anchor": "x",
         "domain": [
          0,
          1
         ]
        }
       }
      }
     },
     "metadata": {},
     "output_type": "display_data"
    }
   ],
   "source": [
    "px.strip(meta, x = 'imDbRatingVotes', hover_data = ['title'])"
   ]
  },
  {
   "cell_type": "code",
   "execution_count": 327,
   "metadata": {},
   "outputs": [
    {
     "data": {
      "application/vnd.plotly.v1+json": {
       "config": {
        "plotlyServerURL": "https://plotly.com"
       },
       "data": [
        {
         "customdata": [
          [
           "Jim Gaffigan: Comedy Monster"
          ],
          [
           "Sorry"
          ],
          [
           "Drew Michael: Drew Michael"
          ],
          [
           "Drew Michael: Red Blue Green"
          ],
          [
           "Mo Amer: Mohammed in Texas"
          ],
          [
           "Dave Chappelle: The Closer"
          ],
          [
           "Kathleen Madigan: Bothering Jesus"
          ],
          [
           "Kathleen Madigan: Madigan Again"
          ],
          [
           "Phil Wang: Philly Philly Wang Wang"
          ],
          [
           "Tom Papa: You're Doing Great!"
          ],
          [
           "Tom Papa: Human Mule"
          ],
          [
           "Tom Papa: Freaked Out"
          ],
          [
           "Inside"
          ],
          [
           "Tig Notaro: Boyish Girl Interrupted"
          ],
          [
           "Joe List: I Hate Myself"
          ],
          [
           "Nate Bargatze: The Greatest Average American"
          ],
          [
           "Brian Regan: On the Rocks"
          ],
          [
           "Doug Stanhope: Beer Hall Putsch"
          ],
          [
           "Tamborine"
          ],
          [
           "Sarah Cooper: Everything's Fine"
          ],
          [
           "Bo Burnham: Words, Words, Words"
          ],
          [
           "Vir Das: Outside in - The Lockdown Special"
          ],
          [
           "Larry the Cable Guy: Remain Seated"
          ],
          [
           "Craig Ferguson: Just Being Honest"
          ],
          [
           "Kevin Hart: Zero F**ks Given"
          ],
          [
           "Sam Morril: I Got This"
          ],
          [
           "Ronny Chieng: Asian Comedian Destroys America"
          ],
          [
           "Craig Ferguson: A Wee Bit o' Revolution"
          ],
          [
           "Michael McIntyre: Showman"
          ],
          [
           "Rob Schneider: Asian Momma, Mexican Kids"
          ],
          [
           "Sam Jay: 3 in the Morning"
          ],
          [
           "Jack Whitehall: I'm Only Joking"
          ],
          [
           "Urzila Carlson: Overqualified Loser"
          ],
          [
           "George Lopez: We'll Do It for Half"
          ],
          [
           "Jim Jefferies: Intolerant"
          ],
          [
           "George Carlin: Doin' It Again"
          ],
          [
           "Eric Andre: Legalize Everything"
          ],
          [
           "Roy Wood Jr.: Father Figure"
          ],
          [
           "Amy Schumer Presents Mark Normand: Don't Be Yourself"
          ],
          [
           "Chris Gethard: Career Suicide"
          ],
          [
           "Ramy Youssef: Feelings"
          ],
          [
           "Kenny Sebastian: Don't Be That Guy"
          ],
          [
           "Billy Connolly: High Horse Tour Live"
          ],
          [
           "Hannah Gadsby: Douglas"
          ],
          [
           "Hasan Minhaj: Homecoming King"
          ],
          [
           "Patton Oswalt: I Love Everything"
          ],
          [
           "Russell Peters: Deported"
          ],
          [
           "Jimmy O. Yang: Good Deal"
          ],
          [
           "Jo Koy: Lights Out"
          ],
          [
           "Lee Mack: Going Out Live"
          ],
          [
           "Lee Mack: Live"
          ],
          [
           "T.J. Miller: No Real Reason"
          ],
          [
           "Jerry Seinfeld: 23 Hours to Kill"
          ],
          [
           "Sincerely Louis CK"
          ],
          [
           "Jim Norton: American Degenerate"
          ],
          [
           "Jim Norton: Monster Rain"
          ],
          [
           "Maria Bamford: Weakness Is the Brand"
          ],
          [
           "Chris D'Elia: White Male. Black Comic."
          ],
          [
           "Chris D'Elia: Man on Fire"
          ],
          [
           "Tom Segura: Ball Hog"
          ],
          [
           "Bert Kreischer: Hey Big Boy"
          ],
          [
           "Marc Maron: End Times Fun"
          ],
          [
           "Pete Davidson: SMD"
          ],
          [
           "Pete Davidson: Alive from New York"
          ],
          [
           "Amanda Seales: I Be Knowin'"
          ],
          [
           "Stewart Lee: Carpet Remnant World"
          ],
          [
           "Stewart Lee: Content Provider"
          ],
          [
           "Sara Pascoe Live: LadsLadsLads"
          ],
          [
           "Dan Soder: Son of a Gary"
          ],
          [
           "Jim Gaffigan: Quality Time"
          ],
          [
           "Kevin Bridges: A Whole Different Story"
          ],
          [
           "Kevin Bridges: The Story So Far - Live in Glasgow"
          ],
          [
           "Kevin Bridges: The Story Continues..."
          ],
          [
           "Michelle Wolf: Joke Show"
          ],
          [
           "Tiffany Haddish: Black Mitzvah"
          ],
          [
           "Mike Birbiglia: The New One"
          ],
          [
           "Iliza Shlesinger: Unveiled"
          ],
          [
           "Seth Meyers: Lobby Baby"
          ],
          [
           "Arsenio Hall: Smart and Classy"
          ],
          [
           "Nikki Glaser: Bangin'"
          ],
          [
           "Bill Burr: Paper Tiger"
          ],
          [
           "Dave Chappelle: Sticks & Stones"
          ],
          [
           "Emily Heller: Ice Thickeners"
          ],
          [
           "David Cross: Oh Come On"
          ],
          [
           "Whitney Cummings: Can I Touch It?"
          ],
          [
           "Aziz Ansari: Right Now"
          ],
          [
           "Ralphie May Filthy Animal Tour"
          ],
          [
           "Mike Epps: Only One Mike"
          ],
          [
           "Adam Devine: Best Time of Our Lives"
          ],
          [
           "Jo Koy: Live from Seattle"
          ],
          [
           "Jo Koy: Comin' in Hot"
          ],
          [
           "Wanda Sykes: Not Normal"
          ],
          [
           "Cedric the Entertainer: Live from the Ville"
          ],
          [
           "Eddie Murphy: Raw"
          ],
          [
           "Colin Quinn: The New York Story"
          ],
          [
           "Demetri Martin: Live (At the Time)"
          ],
          [
           "George Carlin: What Am I Doing in New Jersey?"
          ],
          [
           "Chelsea Peretti: One of the Greats"
          ],
          [
           "Anthony Jeselnik: Fire in the Maternity Ward"
          ],
          [
           "Roy Wood Jr.: No One Loves You"
          ],
          [
           "Robin Williams: Weapons of Self Destruction"
          ],
          [
           "Robin Williams Live on Broadway"
          ],
          [
           "Jimmy Carr: The Best of Ultimate Gold Greatest Hits"
          ],
          [
           "Nate Bargatze: The Tennessee Kid"
          ],
          [
           "W. Kamau Bell: Private School Negro"
          ],
          [
           "Kevin Hart: Irresponsible"
          ],
          [
           "Nate Bargatze: Full Time Magic"
          ],
          [
           "Amy Schumer: Growing"
          ],
          [
           "Enissa Amani: Ehrenwort"
          ],
          [
           "Ken Jeong: You Complete Me, Ho"
          ],
          [
           "Ray Romano: Right Here, Around the Corner"
          ],
          [
           "Gabriel \"Fluffy\" Iglesias: One Show Fits All"
          ],
          [
           "Sebastian Maniscalco: Stay Hungry"
          ],
          [
           "Sebastian Maniscalco: Aren't You Embarrassed?"
          ],
          [
           "Sebastian Maniscalco: What's Wrong with People?"
          ],
          [
           "Oh, Hello on Broadway"
          ],
          [
           "Ellen DeGeneres: Relatable"
          ],
          [
           "Pete Holmes: Dirty Clean"
          ],
          [
           "Vir Das: Losing It"
          ],
          [
           "Trevor Noah: Son of Patricia"
          ],
          [
           "Jeff Foxworthy & Larry the Cable Guy: We've Been Thinking"
          ],
          [
           "Adam Sandler: 100% Fresh"
          ],
          [
           "Jeff Foxworthy: Totally Committed"
          ],
          [
           "Ron White: If You Quit Listening, I'll Shut Up"
          ],
          [
           "Mo Amer: The Vagabond"
          ],
          [
           "Joe Mande's Award-Winning Comedy Special"
          ],
          [
           "Henry Rollins: Keep Talking, Pal"
          ],
          [
           "Joe Rogan: Strange Times"
          ],
          [
           "D.L. Hughley: Contrarian"
          ],
          [
           "Iliza Shlesinger: Freezing Hot"
          ],
          [
           "Iliza Shlesinger: War Paint"
          ],
          [
           "Bert Kreischer: Secret Time"
          ],
          [
           "Demetri Martin: The Overthinker"
          ],
          [
           "Bill Maher: Live from Oklahoma"
          ],
          [
           "Rowan Atkinson: Not Just a Pretty Face"
          ],
          [
           "Iliza Shlesinger: Confirmed Kills"
          ],
          [
           "Iliza: Elder Millennial"
          ],
          [
           "Jim Gaffigan: Noble Ape"
          ],
          [
           "Jim Norton: Contextually Inadequate"
          ],
          [
           "Hannah Gadsby: Nanette"
          ],
          [
           "Brad Williams: Daddy Issues"
          ],
          [
           "DeRay Davis: How to Act Black"
          ],
          [
           "Ricky Gervais: Live IV - Science"
          ],
          [
           "Jim Jefferies: This Is Me Now"
          ],
          [
           "Russell Peters: Outsourced"
          ],
          [
           "Russell Peters: Almost Famous"
          ],
          [
           "Ron White: A Little Unprofessional"
          ],
          [
           "Michael McIntyre: Hello Wembley!"
          ],
          [
           "Kevin Smith: Silent But Deadly"
          ],
          [
           "Kevin James: Never Don't Give Up"
          ],
          [
           "Brent Morin: I'm Brent Morin"
          ],
          [
           "Nikki Glaser: Perfect"
          ],
          [
           "Ali Wong: Hard Knock Wife"
          ],
          [
           "Kavin Jay: Everybody Calm Down!"
          ],
          [
           "John Mulaney: Kid Gorgeous at Radio City"
          ],
          [
           "Eddie Griffin: Undeniable"
          ],
          [
           "Greg Davies: You Magnificent Beast"
          ],
          [
           "George Carlin: You Are All Diseased"
          ],
          [
           "Marlon Wayans: Woke-ish"
          ],
          [
           "Ricky Gervais: Humanity"
          ],
          [
           "Adel Karam: Live from Beirut"
          ],
          [
           "Stewart Lee: 90s Comedian"
          ],
          [
           "Mike Birbiglia: My Girlfriend's Boyfriend"
          ],
          [
           "Dave Attell: Road Work"
          ],
          [
           "Eddie Izzard: Glorious"
          ],
          [
           "Chris Rock: Bring the Pain"
          ],
          [
           "Ari Shaffir: Double Negative"
          ],
          [
           "Tamborine"
          ],
          [
           "Fred Armisen: Standup For Drummers"
          ],
          [
           "Dana Carvey: Straight White Male, 60"
          ],
          [
           "Eddie Izzard: Stripped"
          ],
          [
           "Todd Glass: Act Happy"
          ],
          [
           "Brian Regan: Standing Up"
          ],
          [
           "Brian Regan: Nunchucks and Flamethrowers"
          ],
          [
           "Katt Williams: Great America"
          ],
          [
           "Jimmy Carr: Being Funny"
          ],
          [
           "Jimmy Carr: Laughing and Joking"
          ],
          [
           "Eddie Izzard: Unrepeatable"
          ],
          [
           "D.L. Hughley: Unapologetic"
          ],
          [
           "Bridget Everett: Gynecological Wonder"
          ],
          [
           "Chris Rock: Never Scared"
          ],
          [
           "Stewart Lee: Stand-Up Comedian"
          ],
          [
           "Jimmy Carr: Funny Business"
          ],
          [
           "Eddie Izzard: Dress to Kill"
          ],
          [
           "Chris Tucker Live"
          ],
          [
           "Kevin Hart: What Now?"
          ],
          [
           "Kevin Hart: Let Me Explain"
          ],
          [
           "Tom Segura: Disgraceful"
          ],
          [
           "Michelle Wolf: Nice Lady"
          ],
          [
           "Fahim Anwar: There's No Business Like Show Business"
          ],
          [
           "Ellen DeGeneres: The Beginning"
          ],
          [
           "Maz Jobrani: Immigrant"
          ],
          [
           "Todd Barry: Spicy Honey"
          ],
          [
           "Jerry Seinfeld: 'I'm Telling You for the Last Time'"
          ],
          [
           "Craig Ferguson: Does This Need to Be Said?"
          ],
          [
           "Dave Chappelle: The Bird Revelation"
          ],
          [
           "Dave Chappelle: The Bird Revelation"
          ],
          [
           "Dave Chappelle: Equanimity"
          ],
          [
           "Craig Ferguson: I'm Here to Help"
          ],
          [
           "Russell Howard: Recalibrate"
          ],
          [
           "Whitney Cummings: I Love You"
          ],
          [
           "Whitney Cummings: I'm Your Girlfriend"
          ],
          [
           "Sarah Millican: Chatterbox Live"
          ],
          [
           "Anjelah Johnson: Not Fancy"
          ],
          [
           "Ricky Gervais Live 2: Politics"
          ],
          [
           "Russell Howard Live: Dingledodies"
          ],
          [
           "Christina P: Mother Inferior"
          ],
          [
           "Jack Whitehall: At Large"
          ],
          [
           "Cristela Alonzo: Lower Classy"
          ],
          [
           "Judah Friedlander: America is the Greatest Country in the United States"
          ],
          [
           "Aziz Ansari Live in Madison Square Garden"
          ],
          [
           "Aziz Ansari: Buried Alive"
          ],
          [
           "Paul Mooney: A Piece of My Mind - God Bless America"
          ],
          [
           "Patton Oswalt: Annihilation"
          ],
          [
           "Chris Rock: Kill the Messenger - London, New York, Johannesburg"
          ],
          [
           "Bill Maher: Live from D.C."
          ],
          [
           "Sarah Silverman: Jesus Is Magic"
          ],
          [
           "Sarah Silverman: We Are Miracles"
          ],
          [
           "Pablo Francisco: Ouch! Live from San Jose"
          ],
          [
           "Bill Maher... But I'm Not Wrong"
          ],
          [
           "Russell Brand: Messiah Complex"
          ],
          [
           "Chris Rock: Bigger & Blacker"
          ],
          [
           "Gabriel Iglesias: Hot and Fluffy"
          ],
          [
           "Gabriel Iglesias: I'm Not Fat... I'm Fluffy"
          ],
          [
           "Gabriel Iglesias: I'm Sorry for What I Said When I Was Hungry"
          ],
          [
           "Rory Scovel Tries Stand-Up for the First Time"
          ],
          [
           "Lisa Lampanelli: Back to the Drawing Board"
          ],
          [
           "Erik Griffin: The Ugly Truth"
          ],
          [
           "Jen Kirkman: Just Keep Livin?"
          ],
          [
           "Daniel Tosh: Completely Serious"
          ],
          [
           "Al Madrigal: Why Is the Rabbit Crying?"
          ],
          [
           "Neal Brennan: 3 Mics"
          ],
          [
           "John Mulaney: New in Town"
          ],
          [
           "Donald Glover: Weirdo"
          ],
          [
           "Ali Wong: Baby Cobra"
          ],
          [
           "Norm Macdonald: Hitler's Dog, Gossip & Trickery"
          ],
          [
           "Daniel Tosh: People Pleaser"
          ],
          [
           "Marc Maron: More Later"
          ],
          [
           "Dylan Moran: Off the Hook"
          ],
          [
           "Richard Pryor: Live and Smokin'"
          ],
          [
           "Richard Pryor... Here and Now"
          ],
          [
           "Bill Burr: Why Do I Do This?"
          ],
          [
           "Amy Schumer: Mostly Sex Stuff"
          ],
          [
           "Jim Jefferies Alcoholocaust"
          ],
          [
           "Amy Schumer: Live at the Apollo"
          ],
          [
           "Kevin Hart: Seriously Funny"
          ],
          [
           "Hannibal Buress: Comedy Camisado"
          ],
          [
           "Neal Brennan: Women and Black Dudes"
          ],
          [
           "Nick Offerman: American Ham"
          ],
          [
           "Aziz Ansari: Intimate Moments for a Sensual Evening"
          ],
          [
           "Big Jay Oakerson: Live at Webster Hall"
          ],
          [
           "Doug Stanhope: No Refunds"
          ],
          [
           "George Carlin at USC"
          ],
          [
           "Jim Norton: Mouthful of Shame"
          ],
          [
           "Michael Che Matters"
          ],
          [
           "Joe Rogan: Triggered"
          ],
          [
           "Trevor Noah: Lost in Translation"
          ],
          [
           "Maria Bamford: Old Baby"
          ],
          [
           "Bo Burnham: what."
          ],
          [
           "Bo Burnham: Make Happy"
          ],
          [
           "Anthony Jeselnik: Caligula"
          ],
          [
           "Anthony Jeselnik: Thoughts and Prayers"
          ],
          [
           "John Mulaney: The Comeback Kid"
          ],
          [
           "Bill Hicks: Revelations"
          ],
          [
           "Lewis Black: Black to the Future"
          ],
          [
           "Doug Stanhope: Before Turning the Gun on Himself"
          ],
          [
           "Doug Stanhope: Deadbeat Hero"
          ],
          [
           "Jim Jefferies: Contraband"
          ],
          [
           "Mike Birbiglia: Thank God for Jokes"
          ],
          [
           "Sarah Silverman: A Speck of Dust"
          ],
          [
           "George Carlin: Playin' with Your Head"
          ],
          [
           "On Location: George Carlin at Phoenix"
          ],
          [
           "Louis C.K.: Chewed Up"
          ],
          [
           "Tom Segura: Completely Normal"
          ],
          [
           "George Carlin: Carlin on Campus"
          ],
          [
           "Louis C.K.: Live at the Beacon Theater"
          ],
          [
           "Ricky Gervais: Out of England 2 - The Stand-Up Special"
          ],
          [
           "Amy Schumer: The Leather Special"
          ],
          [
           "Jim Gaffigan: Cinco"
          ],
          [
           "Jim Jefferies: I Swear to God"
          ],
          [
           "Louis C.K.: Hilarious"
          ],
          [
           "Louis C.K.: Shameless"
          ],
          [
           "Bill Burr: I'm Sorry You Feel That Way"
          ],
          [
           "Bill Burr: You People Are All the Same."
          ],
          [
           "Dave Chappelle: For What It's Worth"
          ],
          [
           "Dave Chappelle: Killin' Them Softly"
          ],
          [
           "Eddie Griffin: You Can Tell 'Em I Said It!"
          ],
          [
           "Bill Burr: Walk Your Way Out"
          ],
          [
           "Louis C.K. Oh My God"
          ],
          [
           "Louis C.K.: Live at the Comedy Store"
          ],
          [
           "Bill Hicks: Relentless"
          ],
          [
           "Daniel Tosh: Happy Thoughts"
          ],
          [
           "Patrice O'Neal: Elephant in the Room"
          ],
          [
           "Katt Williams Live"
          ],
          [
           "Richard Pryor: Live in Concert"
          ],
          [
           "Richard Pryor: Live on the Sunset Strip"
          ],
          [
           "Trevor Noah: Afraid of the Dark"
          ],
          [
           "Jim Jefferies: BARE"
          ],
          [
           "Deep in the Heart of Texas: Dave Chappelle Live at Austin City Limits"
          ],
          [
           "Tom Segura: Mostly Stories"
          ],
          [
           "Bill Burr: Let It Go"
          ],
          [
           "George Carlin: Jammin' in New York"
          ],
          [
           "George Carlin: You Are All Diseased"
          ],
          [
           "George Carlin... It's Bad for Ya!"
          ],
          [
           "Jim Jefferies: Freedumb"
          ],
          [
           "Eddie Murphy: Delirious"
          ],
          [
           "The Age of Spin: Dave Chappelle Live at the Hollywood Palladium"
          ],
          [
           "George Carlin: Back in Town"
          ],
          [
           "Louis C.K. 2017"
          ],
          [
           "George Carlin: Jammin' in New York"
          ],
          [
           "Reggie Watts: Spatial"
          ],
          [
           "George Carlin: Complaints & Grievances"
          ],
          [
           "George Carlin: Life Is Worth Losing"
          ],
          [
           "George Carlin... It's Bad for Ya!"
          ]
         ],
         "hovertemplate": "imDbRatingVotes=%{x}<br>imDbRating=%{y}<br>title=%{customdata[0]}<extra></extra>",
         "legendgroup": "",
         "marker": {
          "color": "#636efa",
          "symbol": "circle"
         },
         "mode": "markers",
         "name": "",
         "orientation": "v",
         "showlegend": false,
         "type": "scatter",
         "x": [
          1618,
          2363,
          368,
          261,
          615,
          25270,
          539,
          367,
          576,
          843,
          187,
          235,
          45963,
          674,
          207,
          1328,
          604,
          1116,
          6918,
          1709,
          3818,
          256,
          261,
          423,
          3356,
          340,
          3126,
          498,
          1221,
          759,
          506,
          1472,
          376,
          447,
          2777,
          2354,
          2502,
          344,
          455,
          535,
          724,
          1935,
          158,
          3938,
          7196,
          1274,
          816,
          1463,
          122,
          156,
          298,
          149,
          5070,
          5473,
          496,
          477,
          142,
          361,
          1726,
          2869,
          1932,
          1911,
          641,
          4082,
          376,
          608,
          504,
          97,
          333,
          1163,
          245,
          333,
          302,
          1585,
          961,
          1827,
          1668,
          2542,
          457,
          1634,
          10689,
          25703,
          22,
          290,
          1733,
          5119,
          142,
          297,
          949,
          1342,
          1016,
          1816,
          683,
          19671,
          998,
          2181,
          1978,
          2380,
          3564,
          94,
          3328,
          6020,
          2250,
          1812,
          770,
          4456,
          271,
          3820,
          194,
          2378,
          1672,
          1797,
          1295,
          1056,
          1206,
          3106,
          4673,
          452,
          1247,
          4033,
          633,
          5148,
          379,
          835,
          828,
          500,
          284,
          4320,
          609,
          2592,
          2019,
          2318,
          1699,
          575,
          2867,
          2866,
          4036,
          1283,
          506,
          12185,
          212,
          427,
          2215,
          3984,
          1709,
          1895,
          582,
          994,
          1114,
          1457,
          691,
          343,
          4893,
          232,
          7792,
          263,
          2333,
          4253,
          1396,
          18551,
          146,
          415,
          3311,
          477,
          2529,
          3931,
          719,
          6918,
          1285,
          1491,
          775,
          367,
          752,
          679,
          960,
          1153,
          1151,
          1487,
          197,
          91,
          5342,
          493,
          4243,
          7297,
          1939,
          9458,
          9013,
          3759,
          1045,
          49,
          867,
          843,
          852,
          5837,
          691,
          9870,
          9870,
          12157,
          814,
          1602,
          496,
          719,
          215,
          686,
          3480,
          419,
          947,
          2122,
          854,
          1436,
          3251,
          3985,
          51,
          2368,
          4294,
          516,
          5569,
          1435,
          687,
          1197,
          1212,
          7076,
          3482,
          2495,
          2542,
          824,
          106,
          66,
          1289,
          3105,
          91,
          3279,
          6663,
          3563,
          6933,
          2942,
          874,
          441,
          380,
          1099,
          2342,
          4511,
          3021,
          2621,
          3402,
          5542,
          1516,
          216,
          1279,
          2415,
          320,
          1142,
          981,
          1325,
          2625,
          4507,
          646,
          949,
          11685,
          14764,
          1406,
          5188,
          8497,
          3086,
          320,
          650,
          845,
          1200,
          2476,
          3715,
          1745,
          1353,
          10591,
          2594,
          1774,
          9887,
          2285,
          9801,
          2394,
          2883,
          11978,
          8578,
          7967,
          7364,
          8595,
          9904,
          549,
          7144,
          9307,
          6476,
          2528,
          2395,
          1312,
          470,
          5209,
          4173,
          5184,
          5419,
          11430,
          3551,
          5315,
          3607,
          4253,
          5970,
          5404,
          17578,
          12385,
          3248,
          10095,
          3607,
          506,
          3554,
          4602,
          5970
         ],
         "xaxis": "x",
         "y": [
          6.8,
          7.7,
          5.4,
          6.9,
          6.5,
          8,
          7.4,
          7.1,
          6,
          7.2,
          7.2,
          7.3,
          8.6,
          6.8,
          7.4,
          7.3,
          6.9,
          7.6,
          6.6,
          5.5,
          8.1,
          6.5,
          6.6,
          7.2,
          6,
          7.7,
          7.4,
          7.5,
          7.1,
          5.5,
          6.4,
          6.6,
          6.2,
          5.7,
          7.2,
          8.3,
          6.1,
          7.2,
          6.7,
          7.4,
          7,
          7.1,
          8,
          7.6,
          8.2,
          6.4,
          6.2,
          7.1,
          7.6,
          7.2,
          7.6,
          7,
          6.7,
          8.3,
          7.2,
          7.1,
          7.6,
          7,
          6.5,
          7.3,
          7,
          6.8,
          6.7,
          6.1,
          6,
          8.5,
          8.4,
          7.2,
          7.3,
          7.6,
          7.6,
          7.8,
          7.7,
          7.2,
          6.2,
          7.7,
          6.5,
          7.4,
          6,
          6.1,
          8.1,
          8.4,
          7.3,
          6.7,
          6.5,
          7.5,
          6.3,
          4.7,
          5.9,
          7.2,
          7.3,
          7.2,
          6.3,
          7.6,
          6.9,
          7.4,
          8.1,
          6.9,
          7.2,
          7.1,
          7.7,
          8.4,
          7.3,
          7.6,
          6.4,
          6.5,
          7.7,
          5.4,
          5.5,
          5.7,
          7.2,
          7.2,
          7.1,
          7.8,
          8,
          7.7,
          6.5,
          7.2,
          7,
          7.3,
          6,
          7.5,
          7.4,
          6.5,
          7.3,
          6.1,
          6.4,
          7.3,
          6.6,
          6.8,
          6.6,
          7.3,
          7.2,
          6.3,
          8.3,
          6.6,
          7.2,
          7.6,
          7.2,
          8.1,
          7.6,
          6.1,
          7.7,
          7.3,
          8.1,
          6.6,
          7.4,
          7.4,
          6.9,
          6.1,
          6.5,
          7,
          7.3,
          5.9,
          7.9,
          5.1,
          7.1,
          8.5,
          6.5,
          7.9,
          5.3,
          8.5,
          8,
          7.5,
          8.4,
          8.2,
          6.8,
          6.6,
          5.8,
          6.5,
          7.7,
          5.1,
          7.8,
          6.3,
          6.2,
          7.7,
          7.8,
          8,
          6.8,
          5.6,
          8,
          8.4,
          7.2,
          8.6,
          6.3,
          5.9,
          6.6,
          7.5,
          6.8,
          7.1,
          7.5,
          6.7,
          6.8,
          7.9,
          7.4,
          7.8,
          7.8,
          8.1,
          7.1,
          7.3,
          6.5,
          6.2,
          7.6,
          5.7,
          7.7,
          7.2,
          6.4,
          6.8,
          6.6,
          7.8,
          6.6,
          7.2,
          7.2,
          7.2,
          7.6,
          6.7,
          6.5,
          6.6,
          7.5,
          6.9,
          7.3,
          8,
          7.9,
          8,
          7.4,
          6.7,
          6.1,
          6.3,
          6.8,
          7.7,
          7,
          7.9,
          8.2,
          7.4,
          7.5,
          7.3,
          7.9,
          7.4,
          7.8,
          6.4,
          7.2,
          8.3,
          6,
          8.3,
          5.8,
          7.5,
          6.6,
          7.2,
          6.6,
          7.2,
          7,
          8.2,
          7.7,
          7,
          7.2,
          7.4,
          7.2,
          6.2,
          8.3,
          8.4,
          7.9,
          7.7,
          7.9,
          8.5,
          6.8,
          8,
          8.4,
          7.7,
          7.5,
          6.9,
          8,
          8.1,
          8.5,
          7.7,
          7.9,
          8.3,
          7.9,
          3.1,
          7.1,
          8.1,
          8.4,
          8.6,
          8.3,
          8.2,
          8.5,
          8.8,
          7.6,
          7.2,
          8.3,
          7.8,
          8.5,
          7.5,
          8.2,
          6.9,
          8,
          7.6,
          7.2,
          8,
          7.9,
          7.5,
          8.3,
          8.7,
          8.5,
          8.5,
          7.7,
          8.1,
          8.1,
          8.6,
          7.6,
          8.7,
          6,
          8.4,
          8.2,
          8.5
         ],
         "yaxis": "y"
        }
       ],
       "layout": {
        "legend": {
         "tracegroupgap": 0
        },
        "margin": {
         "t": 60
        },
        "template": {
         "data": {
          "bar": [
           {
            "error_x": {
             "color": "#2a3f5f"
            },
            "error_y": {
             "color": "#2a3f5f"
            },
            "marker": {
             "line": {
              "color": "#E5ECF6",
              "width": 0.5
             },
             "pattern": {
              "fillmode": "overlay",
              "size": 10,
              "solidity": 0.2
             }
            },
            "type": "bar"
           }
          ],
          "barpolar": [
           {
            "marker": {
             "line": {
              "color": "#E5ECF6",
              "width": 0.5
             },
             "pattern": {
              "fillmode": "overlay",
              "size": 10,
              "solidity": 0.2
             }
            },
            "type": "barpolar"
           }
          ],
          "carpet": [
           {
            "aaxis": {
             "endlinecolor": "#2a3f5f",
             "gridcolor": "white",
             "linecolor": "white",
             "minorgridcolor": "white",
             "startlinecolor": "#2a3f5f"
            },
            "baxis": {
             "endlinecolor": "#2a3f5f",
             "gridcolor": "white",
             "linecolor": "white",
             "minorgridcolor": "white",
             "startlinecolor": "#2a3f5f"
            },
            "type": "carpet"
           }
          ],
          "choropleth": [
           {
            "colorbar": {
             "outlinewidth": 0,
             "ticks": ""
            },
            "type": "choropleth"
           }
          ],
          "contour": [
           {
            "colorbar": {
             "outlinewidth": 0,
             "ticks": ""
            },
            "colorscale": [
             [
              0,
              "#0d0887"
             ],
             [
              0.1111111111111111,
              "#46039f"
             ],
             [
              0.2222222222222222,
              "#7201a8"
             ],
             [
              0.3333333333333333,
              "#9c179e"
             ],
             [
              0.4444444444444444,
              "#bd3786"
             ],
             [
              0.5555555555555556,
              "#d8576b"
             ],
             [
              0.6666666666666666,
              "#ed7953"
             ],
             [
              0.7777777777777778,
              "#fb9f3a"
             ],
             [
              0.8888888888888888,
              "#fdca26"
             ],
             [
              1,
              "#f0f921"
             ]
            ],
            "type": "contour"
           }
          ],
          "contourcarpet": [
           {
            "colorbar": {
             "outlinewidth": 0,
             "ticks": ""
            },
            "type": "contourcarpet"
           }
          ],
          "heatmap": [
           {
            "colorbar": {
             "outlinewidth": 0,
             "ticks": ""
            },
            "colorscale": [
             [
              0,
              "#0d0887"
             ],
             [
              0.1111111111111111,
              "#46039f"
             ],
             [
              0.2222222222222222,
              "#7201a8"
             ],
             [
              0.3333333333333333,
              "#9c179e"
             ],
             [
              0.4444444444444444,
              "#bd3786"
             ],
             [
              0.5555555555555556,
              "#d8576b"
             ],
             [
              0.6666666666666666,
              "#ed7953"
             ],
             [
              0.7777777777777778,
              "#fb9f3a"
             ],
             [
              0.8888888888888888,
              "#fdca26"
             ],
             [
              1,
              "#f0f921"
             ]
            ],
            "type": "heatmap"
           }
          ],
          "heatmapgl": [
           {
            "colorbar": {
             "outlinewidth": 0,
             "ticks": ""
            },
            "colorscale": [
             [
              0,
              "#0d0887"
             ],
             [
              0.1111111111111111,
              "#46039f"
             ],
             [
              0.2222222222222222,
              "#7201a8"
             ],
             [
              0.3333333333333333,
              "#9c179e"
             ],
             [
              0.4444444444444444,
              "#bd3786"
             ],
             [
              0.5555555555555556,
              "#d8576b"
             ],
             [
              0.6666666666666666,
              "#ed7953"
             ],
             [
              0.7777777777777778,
              "#fb9f3a"
             ],
             [
              0.8888888888888888,
              "#fdca26"
             ],
             [
              1,
              "#f0f921"
             ]
            ],
            "type": "heatmapgl"
           }
          ],
          "histogram": [
           {
            "marker": {
             "pattern": {
              "fillmode": "overlay",
              "size": 10,
              "solidity": 0.2
             }
            },
            "type": "histogram"
           }
          ],
          "histogram2d": [
           {
            "colorbar": {
             "outlinewidth": 0,
             "ticks": ""
            },
            "colorscale": [
             [
              0,
              "#0d0887"
             ],
             [
              0.1111111111111111,
              "#46039f"
             ],
             [
              0.2222222222222222,
              "#7201a8"
             ],
             [
              0.3333333333333333,
              "#9c179e"
             ],
             [
              0.4444444444444444,
              "#bd3786"
             ],
             [
              0.5555555555555556,
              "#d8576b"
             ],
             [
              0.6666666666666666,
              "#ed7953"
             ],
             [
              0.7777777777777778,
              "#fb9f3a"
             ],
             [
              0.8888888888888888,
              "#fdca26"
             ],
             [
              1,
              "#f0f921"
             ]
            ],
            "type": "histogram2d"
           }
          ],
          "histogram2dcontour": [
           {
            "colorbar": {
             "outlinewidth": 0,
             "ticks": ""
            },
            "colorscale": [
             [
              0,
              "#0d0887"
             ],
             [
              0.1111111111111111,
              "#46039f"
             ],
             [
              0.2222222222222222,
              "#7201a8"
             ],
             [
              0.3333333333333333,
              "#9c179e"
             ],
             [
              0.4444444444444444,
              "#bd3786"
             ],
             [
              0.5555555555555556,
              "#d8576b"
             ],
             [
              0.6666666666666666,
              "#ed7953"
             ],
             [
              0.7777777777777778,
              "#fb9f3a"
             ],
             [
              0.8888888888888888,
              "#fdca26"
             ],
             [
              1,
              "#f0f921"
             ]
            ],
            "type": "histogram2dcontour"
           }
          ],
          "mesh3d": [
           {
            "colorbar": {
             "outlinewidth": 0,
             "ticks": ""
            },
            "type": "mesh3d"
           }
          ],
          "parcoords": [
           {
            "line": {
             "colorbar": {
              "outlinewidth": 0,
              "ticks": ""
             }
            },
            "type": "parcoords"
           }
          ],
          "pie": [
           {
            "automargin": true,
            "type": "pie"
           }
          ],
          "scatter": [
           {
            "marker": {
             "colorbar": {
              "outlinewidth": 0,
              "ticks": ""
             }
            },
            "type": "scatter"
           }
          ],
          "scatter3d": [
           {
            "line": {
             "colorbar": {
              "outlinewidth": 0,
              "ticks": ""
             }
            },
            "marker": {
             "colorbar": {
              "outlinewidth": 0,
              "ticks": ""
             }
            },
            "type": "scatter3d"
           }
          ],
          "scattercarpet": [
           {
            "marker": {
             "colorbar": {
              "outlinewidth": 0,
              "ticks": ""
             }
            },
            "type": "scattercarpet"
           }
          ],
          "scattergeo": [
           {
            "marker": {
             "colorbar": {
              "outlinewidth": 0,
              "ticks": ""
             }
            },
            "type": "scattergeo"
           }
          ],
          "scattergl": [
           {
            "marker": {
             "colorbar": {
              "outlinewidth": 0,
              "ticks": ""
             }
            },
            "type": "scattergl"
           }
          ],
          "scattermapbox": [
           {
            "marker": {
             "colorbar": {
              "outlinewidth": 0,
              "ticks": ""
             }
            },
            "type": "scattermapbox"
           }
          ],
          "scatterpolar": [
           {
            "marker": {
             "colorbar": {
              "outlinewidth": 0,
              "ticks": ""
             }
            },
            "type": "scatterpolar"
           }
          ],
          "scatterpolargl": [
           {
            "marker": {
             "colorbar": {
              "outlinewidth": 0,
              "ticks": ""
             }
            },
            "type": "scatterpolargl"
           }
          ],
          "scatterternary": [
           {
            "marker": {
             "colorbar": {
              "outlinewidth": 0,
              "ticks": ""
             }
            },
            "type": "scatterternary"
           }
          ],
          "surface": [
           {
            "colorbar": {
             "outlinewidth": 0,
             "ticks": ""
            },
            "colorscale": [
             [
              0,
              "#0d0887"
             ],
             [
              0.1111111111111111,
              "#46039f"
             ],
             [
              0.2222222222222222,
              "#7201a8"
             ],
             [
              0.3333333333333333,
              "#9c179e"
             ],
             [
              0.4444444444444444,
              "#bd3786"
             ],
             [
              0.5555555555555556,
              "#d8576b"
             ],
             [
              0.6666666666666666,
              "#ed7953"
             ],
             [
              0.7777777777777778,
              "#fb9f3a"
             ],
             [
              0.8888888888888888,
              "#fdca26"
             ],
             [
              1,
              "#f0f921"
             ]
            ],
            "type": "surface"
           }
          ],
          "table": [
           {
            "cells": {
             "fill": {
              "color": "#EBF0F8"
             },
             "line": {
              "color": "white"
             }
            },
            "header": {
             "fill": {
              "color": "#C8D4E3"
             },
             "line": {
              "color": "white"
             }
            },
            "type": "table"
           }
          ]
         },
         "layout": {
          "annotationdefaults": {
           "arrowcolor": "#2a3f5f",
           "arrowhead": 0,
           "arrowwidth": 1
          },
          "autotypenumbers": "strict",
          "coloraxis": {
           "colorbar": {
            "outlinewidth": 0,
            "ticks": ""
           }
          },
          "colorscale": {
           "diverging": [
            [
             0,
             "#8e0152"
            ],
            [
             0.1,
             "#c51b7d"
            ],
            [
             0.2,
             "#de77ae"
            ],
            [
             0.3,
             "#f1b6da"
            ],
            [
             0.4,
             "#fde0ef"
            ],
            [
             0.5,
             "#f7f7f7"
            ],
            [
             0.6,
             "#e6f5d0"
            ],
            [
             0.7,
             "#b8e186"
            ],
            [
             0.8,
             "#7fbc41"
            ],
            [
             0.9,
             "#4d9221"
            ],
            [
             1,
             "#276419"
            ]
           ],
           "sequential": [
            [
             0,
             "#0d0887"
            ],
            [
             0.1111111111111111,
             "#46039f"
            ],
            [
             0.2222222222222222,
             "#7201a8"
            ],
            [
             0.3333333333333333,
             "#9c179e"
            ],
            [
             0.4444444444444444,
             "#bd3786"
            ],
            [
             0.5555555555555556,
             "#d8576b"
            ],
            [
             0.6666666666666666,
             "#ed7953"
            ],
            [
             0.7777777777777778,
             "#fb9f3a"
            ],
            [
             0.8888888888888888,
             "#fdca26"
            ],
            [
             1,
             "#f0f921"
            ]
           ],
           "sequentialminus": [
            [
             0,
             "#0d0887"
            ],
            [
             0.1111111111111111,
             "#46039f"
            ],
            [
             0.2222222222222222,
             "#7201a8"
            ],
            [
             0.3333333333333333,
             "#9c179e"
            ],
            [
             0.4444444444444444,
             "#bd3786"
            ],
            [
             0.5555555555555556,
             "#d8576b"
            ],
            [
             0.6666666666666666,
             "#ed7953"
            ],
            [
             0.7777777777777778,
             "#fb9f3a"
            ],
            [
             0.8888888888888888,
             "#fdca26"
            ],
            [
             1,
             "#f0f921"
            ]
           ]
          },
          "colorway": [
           "#636efa",
           "#EF553B",
           "#00cc96",
           "#ab63fa",
           "#FFA15A",
           "#19d3f3",
           "#FF6692",
           "#B6E880",
           "#FF97FF",
           "#FECB52"
          ],
          "font": {
           "color": "#2a3f5f"
          },
          "geo": {
           "bgcolor": "white",
           "lakecolor": "white",
           "landcolor": "#E5ECF6",
           "showlakes": true,
           "showland": true,
           "subunitcolor": "white"
          },
          "hoverlabel": {
           "align": "left"
          },
          "hovermode": "closest",
          "mapbox": {
           "style": "light"
          },
          "paper_bgcolor": "white",
          "plot_bgcolor": "#E5ECF6",
          "polar": {
           "angularaxis": {
            "gridcolor": "white",
            "linecolor": "white",
            "ticks": ""
           },
           "bgcolor": "#E5ECF6",
           "radialaxis": {
            "gridcolor": "white",
            "linecolor": "white",
            "ticks": ""
           }
          },
          "scene": {
           "xaxis": {
            "backgroundcolor": "#E5ECF6",
            "gridcolor": "white",
            "gridwidth": 2,
            "linecolor": "white",
            "showbackground": true,
            "ticks": "",
            "zerolinecolor": "white"
           },
           "yaxis": {
            "backgroundcolor": "#E5ECF6",
            "gridcolor": "white",
            "gridwidth": 2,
            "linecolor": "white",
            "showbackground": true,
            "ticks": "",
            "zerolinecolor": "white"
           },
           "zaxis": {
            "backgroundcolor": "#E5ECF6",
            "gridcolor": "white",
            "gridwidth": 2,
            "linecolor": "white",
            "showbackground": true,
            "ticks": "",
            "zerolinecolor": "white"
           }
          },
          "shapedefaults": {
           "line": {
            "color": "#2a3f5f"
           }
          },
          "ternary": {
           "aaxis": {
            "gridcolor": "white",
            "linecolor": "white",
            "ticks": ""
           },
           "baxis": {
            "gridcolor": "white",
            "linecolor": "white",
            "ticks": ""
           },
           "bgcolor": "#E5ECF6",
           "caxis": {
            "gridcolor": "white",
            "linecolor": "white",
            "ticks": ""
           }
          },
          "title": {
           "x": 0.05
          },
          "xaxis": {
           "automargin": true,
           "gridcolor": "white",
           "linecolor": "white",
           "ticks": "",
           "title": {
            "standoff": 15
           },
           "zerolinecolor": "white",
           "zerolinewidth": 2
          },
          "yaxis": {
           "automargin": true,
           "gridcolor": "white",
           "linecolor": "white",
           "ticks": "",
           "title": {
            "standoff": 15
           },
           "zerolinecolor": "white",
           "zerolinewidth": 2
          }
         }
        },
        "xaxis": {
         "anchor": "y",
         "domain": [
          0,
          1
         ],
         "title": {
          "text": "imDbRatingVotes"
         }
        },
        "yaxis": {
         "anchor": "x",
         "domain": [
          0,
          1
         ],
         "title": {
          "text": "imDbRating"
         }
        }
       }
      }
     },
     "metadata": {},
     "output_type": "display_data"
    }
   ],
   "source": [
    "px.scatter(meta,\n",
    "           x = 'imDbRatingVotes',\n",
    "           y = 'imDbRating',\n",
    "           hover_data = ['title'])"
   ]
  },
  {
   "cell_type": "code",
   "execution_count": 328,
   "metadata": {},
   "outputs": [
    {
     "data": {
      "text/html": [
       "<div>\n",
       "<style scoped>\n",
       "    .dataframe tbody tr th:only-of-type {\n",
       "        vertical-align: middle;\n",
       "    }\n",
       "\n",
       "    .dataframe tbody tr th {\n",
       "        vertical-align: top;\n",
       "    }\n",
       "\n",
       "    .dataframe thead th {\n",
       "        text-align: right;\n",
       "    }\n",
       "</style>\n",
       "<table border=\"1\" class=\"dataframe\">\n",
       "  <thead>\n",
       "    <tr style=\"text-align: right;\">\n",
       "      <th></th>\n",
       "      <th>id</th>\n",
       "      <th>title</th>\n",
       "      <th>year</th>\n",
       "      <th>image</th>\n",
       "      <th>releaseDate</th>\n",
       "      <th>runtimeMins</th>\n",
       "      <th>runtimeStr</th>\n",
       "      <th>awards</th>\n",
       "      <th>genres</th>\n",
       "      <th>genreList</th>\n",
       "      <th>companies</th>\n",
       "      <th>companyList</th>\n",
       "      <th>contentRating</th>\n",
       "      <th>imDbRating</th>\n",
       "      <th>imDbRatingVotes</th>\n",
       "      <th>similars</th>\n",
       "      <th>artist</th>\n",
       "    </tr>\n",
       "  </thead>\n",
       "  <tbody>\n",
       "    <tr>\n",
       "      <th>43</th>\n",
       "      <td>tt10332256</td>\n",
       "      <td>Hannah Gadsby: Douglas</td>\n",
       "      <td>2020</td>\n",
       "      <td>https://imdb-api.com/images/original/MV5BZTJiO...</td>\n",
       "      <td>2020-05-26</td>\n",
       "      <td>72</td>\n",
       "      <td>1h 12min</td>\n",
       "      <td>Nominated for 2 Primetime Emmys, 1 win &amp; 5 nom...</td>\n",
       "      <td>Comedy</td>\n",
       "      <td>[{'key': 'Comedy', 'value': 'Comedy'}]</td>\n",
       "      <td>Irwin Entertainment</td>\n",
       "      <td>[{'id': 'co0193199', 'name': 'Irwin Entertainm...</td>\n",
       "      <td>TV-MA</td>\n",
       "      <td>7.6</td>\n",
       "      <td>3938</td>\n",
       "      <td>[]</td>\n",
       "      <td>Hannah Gadsby</td>\n",
       "    </tr>\n",
       "    <tr>\n",
       "      <th>139</th>\n",
       "      <td>tt8465676</td>\n",
       "      <td>Hannah Gadsby: Nanette</td>\n",
       "      <td>2018</td>\n",
       "      <td>https://imdb-api.com/images/original/MV5BY2I3M...</td>\n",
       "      <td>2018-06-19</td>\n",
       "      <td>69</td>\n",
       "      <td>1h 9min</td>\n",
       "      <td>Won 1 Primetime Emmy, 3 wins &amp; 5 nominations t...</td>\n",
       "      <td>Documentary, Comedy</td>\n",
       "      <td>[{'key': 'Documentary', 'value': 'Documentary'...</td>\n",
       "      <td>Guesswork Television</td>\n",
       "      <td>[{'id': 'co0396457', 'name': 'Guesswork Televi...</td>\n",
       "      <td>TV-MA</td>\n",
       "      <td>8.1</td>\n",
       "      <td>12185</td>\n",
       "      <td>[{'id': 'tt10332256', 'title': 'Hannah Gadsby:...</td>\n",
       "      <td>Hannah Gadsby</td>\n",
       "    </tr>\n",
       "  </tbody>\n",
       "</table>\n",
       "</div>"
      ],
      "text/plain": [
       "             id                   title  year  \\\n",
       "43   tt10332256  Hannah Gadsby: Douglas  2020   \n",
       "139   tt8465676  Hannah Gadsby: Nanette  2018   \n",
       "\n",
       "                                                 image releaseDate  \\\n",
       "43   https://imdb-api.com/images/original/MV5BZTJiO...  2020-05-26   \n",
       "139  https://imdb-api.com/images/original/MV5BY2I3M...  2018-06-19   \n",
       "\n",
       "     runtimeMins runtimeStr  \\\n",
       "43            72   1h 12min   \n",
       "139           69    1h 9min   \n",
       "\n",
       "                                                awards               genres  \\\n",
       "43   Nominated for 2 Primetime Emmys, 1 win & 5 nom...               Comedy   \n",
       "139  Won 1 Primetime Emmy, 3 wins & 5 nominations t...  Documentary, Comedy   \n",
       "\n",
       "                                             genreList             companies  \\\n",
       "43              [{'key': 'Comedy', 'value': 'Comedy'}]   Irwin Entertainment   \n",
       "139  [{'key': 'Documentary', 'value': 'Documentary'...  Guesswork Television   \n",
       "\n",
       "                                           companyList contentRating  \\\n",
       "43   [{'id': 'co0193199', 'name': 'Irwin Entertainm...         TV-MA   \n",
       "139  [{'id': 'co0396457', 'name': 'Guesswork Televi...         TV-MA   \n",
       "\n",
       "     imDbRating  imDbRatingVotes  \\\n",
       "43          7.6             3938   \n",
       "139         8.1            12185   \n",
       "\n",
       "                                              similars         artist  \n",
       "43                                                  []  Hannah Gadsby  \n",
       "139  [{'id': 'tt10332256', 'title': 'Hannah Gadsby:...  Hannah Gadsby  "
      ]
     },
     "execution_count": 328,
     "metadata": {},
     "output_type": "execute_result"
    }
   ],
   "source": [
    "meta[meta['artist'].str.contains('Hannah')]"
   ]
  },
  {
   "cell_type": "markdown",
   "metadata": {},
   "source": [
    "## word lengths, sentence lengths, distinct words\n",
    "- word lengths (letters per word)\n",
    "    * tokenize words (allow apostrophes and dashes but not numbers)\n",
    "    * do not lemmatize\n",
    "    * do not remove stopwords\n",
    "- sentence lengths (words per sentence)\n",
    "    * tokenize sentences and then count whitespaces\n",
    "    * do not remove stopwords\n",
    "    * get arrays so we can do mean, median, boxplot values, standard deviation\n",
    "- distinct words per total words\n",
    "    * tokenize and lemmatize words (allow apostrophes and dashes by not numbers)"
   ]
  },
  {
   "cell_type": "code",
   "execution_count": 13,
   "metadata": {},
   "outputs": [],
   "source": [
    "splits = transcripts_df['description'].str.split(':')\n",
    "weird_labels = [(index, split) for index, split in enumerate(splits) if len(split) == 1]"
   ]
  },
  {
   "cell_type": "code",
   "execution_count": 18,
   "metadata": {},
   "outputs": [],
   "source": [
    "transcripts_dict = dict(zip(transcripts_df['description'].values, transcripts_df['transcript'].values))"
   ]
  },
  {
   "cell_type": "code",
   "execution_count": 31,
   "metadata": {},
   "outputs": [],
   "source": [
    "descriptions = list(transcripts_dict.keys())"
   ]
  },
  {
   "cell_type": "markdown",
   "metadata": {},
   "source": [
    "### word lengths"
   ]
  },
  {
   "cell_type": "code",
   "execution_count": 45,
   "metadata": {},
   "outputs": [],
   "source": [
    "bow_cased = [regexp_tokenize(transcript, r\"[a-zA-Z]+\") for description, transcript in transcripts_dict.items()]\n",
    "bow_counter = [Counter(word.lower() for word in script_words) for script_words in bow_cased]\n",
    "\n",
    "tokenized_list = [[word.lower() for word in script_words] for script_words in bow_cased]\n",
    "dictionary = Dictionary(tokenized_list)\n",
    "corpus = [dictionary.doc2bow(script) for script in tokenized_list]"
   ]
  },
  {
   "cell_type": "code",
   "execution_count": 52,
   "metadata": {},
   "outputs": [],
   "source": [
    "word_lengths = [[len(word) for word in script_words] for script_words in tokenized_list]"
   ]
  },
  {
   "cell_type": "code",
   "execution_count": 59,
   "metadata": {},
   "outputs": [],
   "source": [
    "transcripts_df['mean word length'] = [np.mean(script_word_lengths) for script_word_lengths in word_lengths]\n",
    "transcripts_df['std word length'] = [np.std(script_word_lengths) for script_word_lengths in word_lengths]\n",
    "\n",
    "for quantile in (0.25, 0.50, 0.75):\n",
    "    transcripts_df[f'Q{quantile/0.25} word length'] = [np.quantile(script_word_lengths, quantile) for script_word_lengths in word_lengths]\n",
    "\n",
    "transcripts_df['max word length'] = [np.max(script_word_lengths) for script_word_lengths in word_lengths]"
   ]
  },
  {
   "cell_type": "markdown",
   "metadata": {},
   "source": [
    "### sentence lengths"
   ]
  },
  {
   "cell_type": "code",
   "execution_count": 99,
   "metadata": {},
   "outputs": [],
   "source": [
    "sent_tokenized_list = [sent_tokenize(transcript) for description, transcript in transcripts_dict.items()]\n",
    "sent_words_tokenized_list = [[regexp_tokenize(sent, r\"[’'\\-\\w]+\") for sent in sent_script] for sent_script in sent_tokenized_list]\n",
    "sent_lengths = [[len(sent) for sent in script] for script in sent_words_tokenized_list]\n",
    "sent_counts = [len(script) for script in sent_tokenized_list]"
   ]
  },
  {
   "cell_type": "code",
   "execution_count": 78,
   "metadata": {},
   "outputs": [],
   "source": [
    "transcripts_df['mean sentence length'] = [np.mean(script_sent_lengths) for script_sent_lengths in sent_lengths]\n",
    "transcripts_df['std sentence length'] = [np.std(script_sent_lengths) for script_sent_lengths in sent_lengths]\n",
    "\n",
    "for quantile in (0.25, 0.50, 0.75):\n",
    "    transcripts_df[f'Q{quantile/0.25} sentence length'] = [np.quantile(script_sent_lengths, quantile) for script_sent_lengths in sent_lengths]\n",
    "\n",
    "transcripts_df['max sentence length'] = [np.max(script_sent_lengths) for script_sent_lengths in sent_lengths]"
   ]
  },
  {
   "cell_type": "markdown",
   "metadata": {},
   "source": [
    "## distinct words and distinct words per total words"
   ]
  },
  {
   "cell_type": "code",
   "execution_count": 82,
   "metadata": {},
   "outputs": [],
   "source": [
    "from nltk.stem.wordnet import WordNetLemmatizer"
   ]
  },
  {
   "cell_type": "code",
   "execution_count": 83,
   "metadata": {},
   "outputs": [],
   "source": [
    "from nltk.stem.wordnet import WordNetLemmatizer\n",
    "\n",
    "lemmatizer = WordNetLemmatizer()\n",
    "lem_counter = [Counter(lemmatizer.lemmatize(word.lower()) for word in script_words) for script_words in bow_cased]"
   ]
  },
  {
   "cell_type": "code",
   "execution_count": 102,
   "metadata": {},
   "outputs": [],
   "source": [
    "unique_word_counts = [len(script_lem_counts) for script_lem_counts in lem_counter]\n",
    "total_word_counts = [np.sum([count for lem, count in script_lem_counts.items()]) for script_lem_counts in lem_counter]\n",
    "unique_total_ratio = [unique/total for unique, total in zip(unique_word_counts, total_word_counts)]\n",
    "unique_per_sent = [unique/sent_count for unique, sent_count in zip(unique_word_counts, sent_counts)]"
   ]
  },
  {
   "cell_type": "code",
   "execution_count": 107,
   "metadata": {},
   "outputs": [],
   "source": [
    "transcripts_df['unique words'] = unique_word_counts\n",
    "transcripts_df['total words'] = total_word_counts\n",
    "transcripts_df['proportion unique words'] = unique_total_ratio\n",
    "transcripts_df['unique words per sentence'] = unique_per_sent"
   ]
  }
 ],
 "metadata": {
  "interpreter": {
   "hash": "542466b5a324f1333f512993cba41ecf153bff5c08c85763ac424cb7f020baf3"
  },
  "kernelspec": {
   "display_name": "Python 3.8.8 ('base')",
   "language": "python",
   "name": "python3"
  },
  "language_info": {
   "codemirror_mode": {
    "name": "ipython",
    "version": 3
   },
   "file_extension": ".py",
   "mimetype": "text/x-python",
   "name": "python",
   "nbconvert_exporter": "python",
   "pygments_lexer": "ipython3",
   "version": "3.8.8"
  },
  "orig_nbformat": 4
 },
 "nbformat": 4,
 "nbformat_minor": 2
}
