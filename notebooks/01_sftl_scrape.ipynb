{
 "cells": [
  {
   "cell_type": "markdown",
   "metadata": {},
   "source": [
    "# Scraps from the Loft\n",
    "# Stand Up Comedy Script Scrape"
   ]
  },
  {
   "cell_type": "markdown",
   "metadata": {},
   "source": [
    "## Imports"
   ]
  },
  {
   "cell_type": "code",
   "execution_count": 42,
   "metadata": {},
   "outputs": [],
   "source": [
    "import requests\n",
    "from bs4 import BeautifulSoup as BS\n",
    "import numpy as np\n",
    "import pandas as pd\n",
    "import re"
   ]
  },
  {
   "cell_type": "markdown",
   "metadata": {},
   "source": [
    "## Scrape"
   ]
  },
  {
   "cell_type": "code",
   "execution_count": 4,
   "metadata": {},
   "outputs": [],
   "source": [
    "endpoint = 'https://scrapsfromtheloft.com/stand-up-comedy-scripts/'\n",
    "response = requests.get(endpoint, 'lxml')\n",
    "soup = BS(response.content)"
   ]
  },
  {
   "cell_type": "code",
   "execution_count": 21,
   "metadata": {},
   "outputs": [],
   "source": [
    "toc = soup.find_all('h3')[4:]\n",
    "\n",
    "transcript_hrefs = [item.a['href'] for item in toc]\n",
    "transcript_descriptions = [item.a.contents[0].strip() for item in toc]"
   ]
  },
  {
   "cell_type": "code",
   "execution_count": 39,
   "metadata": {},
   "outputs": [],
   "source": [
    "# Construct loop to only pull out transcript content.\n",
    "transcripts = []\n",
    "for url in transcript_hrefs:\n",
    "    response = requests.get(url)\n",
    "    soup = BS(response.content)\n",
    "    p_tags = soup.find_all('p', attrs={'style':'text-align: justify;'})\n",
    "    transcript = \" \".join([p.text for p in p_tags])\n",
    "    transcripts.append(transcript)"
   ]
  },
  {
   "cell_type": "code",
   "execution_count": 44,
   "metadata": {},
   "outputs": [],
   "source": [
    "transcripts_df = pd.DataFrame({\n",
    "    'description': transcript_descriptions,\n",
    "    'link': transcript_hrefs,\n",
    "    'transcript':transcripts\n",
    "})"
   ]
  },
  {
   "cell_type": "code",
   "execution_count": 46,
   "metadata": {},
   "outputs": [],
   "source": [
    "transcripts_df.to_pickle('../data/transcripts_df.pickle')"
   ]
  }
 ],
 "metadata": {
  "interpreter": {
   "hash": "91809cd6930bcd5c93f1baaa8e75dc4fbfa15bbd921b33b01843a7cf2fa05e32"
  },
  "kernelspec": {
   "display_name": "Python 3.8.8 ('base')",
   "language": "python",
   "name": "python3"
  },
  "language_info": {
   "codemirror_mode": {
    "name": "ipython",
    "version": 3
   },
   "file_extension": ".py",
   "mimetype": "text/x-python",
   "name": "python",
   "nbconvert_exporter": "python",
   "pygments_lexer": "ipython3",
   "version": "3.8.8"
  },
  "orig_nbformat": 4
 },
 "nbformat": 4,
 "nbformat_minor": 2
}
