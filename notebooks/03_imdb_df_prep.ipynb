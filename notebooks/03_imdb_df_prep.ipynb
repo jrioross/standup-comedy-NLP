{
 "cells": [
  {
   "cell_type": "markdown",
   "metadata": {},
   "source": [
    "# Feature Engineering for Standup Scripts"
   ]
  },
  {
   "cell_type": "markdown",
   "metadata": {},
   "source": [
    "## Imports"
   ]
  },
  {
   "cell_type": "code",
   "execution_count": 222,
   "metadata": {},
   "outputs": [],
   "source": [
    "import pickle\n",
    "import numpy as np\n",
    "import pandas as pd\n",
    "from datetime import date\n",
    "\n",
    "import matplotlib.pyplot as plt\n",
    "import seaborn as sns\n",
    "import plotly.express as px\n",
    "\n",
    "import re"
   ]
  },
  {
   "cell_type": "code",
   "execution_count": 223,
   "metadata": {},
   "outputs": [],
   "source": [
    "#transcripts_df = pd.read_pickle('../data/transcripts_raw_df.pickle')\n",
    "transcripts_df = pd.read_pickle('../data/transcripts_df_2022-05-26.pickle')"
   ]
  },
  {
   "cell_type": "code",
   "execution_count": 224,
   "metadata": {},
   "outputs": [],
   "source": [
    "# with open(f'../data/imdb_title_results_2022-05-23.pickle', 'rb') as file:\n",
    "#     show_meta = pickle.load(file)\n",
    "\n",
    "with open(f\"../data/imdb_full_title_results_2022-05-26\", 'rb') as file:\n",
    "    show_meta = pickle.load(file)"
   ]
  },
  {
   "cell_type": "markdown",
   "metadata": {},
   "source": [
    "## add metadata to transcripts_df"
   ]
  },
  {
   "cell_type": "code",
   "execution_count": 225,
   "metadata": {},
   "outputs": [],
   "source": [
    "meta = pd.concat([pd.DataFrame.from_dict({index: show}, orient = 'index') for index, show in enumerate(show_meta)])"
   ]
  },
  {
   "cell_type": "code",
   "execution_count": 226,
   "metadata": {},
   "outputs": [],
   "source": [
    "metascripts_all = pd.concat([transcripts_df, meta], axis = 1)\n",
    "metascripts = metascripts_all.drop(metascripts_all.index[325:380])"
   ]
  },
  {
   "cell_type": "code",
   "execution_count": 227,
   "metadata": {},
   "outputs": [],
   "source": [
    "def extract_artist(Series):\n",
    "    colonoscopy = re.search(r\"^.+:\", Series['title'])\n",
    "    commoscopy = re.search(r\"^.+,\", Series['writers'])\n",
    "    if colonoscopy:\n",
    "        return Series['title'][:colonoscopy.end()-1]\n",
    "    elif commoscopy:\n",
    "        return Series['writers'][:commoscopy.end()-1]\n",
    "    else:\n",
    "        return Series['writers']\n"
   ]
  },
  {
   "cell_type": "code",
   "execution_count": 228,
   "metadata": {},
   "outputs": [
    {
     "data": {
      "text/plain": [
       "[73, 114, 126, 135, 192, 200, 201, 202, 259, 282]"
      ]
     },
     "execution_count": 228,
     "metadata": {},
     "output_type": "execute_result"
    }
   ],
   "source": [
    "problem_rows = []\n",
    "for ind, row in metascripts.iterrows():\n",
    "    try:\n",
    "        extract_artist(row)\n",
    "    except:\n",
    "        problem_rows.append(ind)\n",
    "problem_rows"
   ]
  },
  {
   "cell_type": "code",
   "execution_count": 229,
   "metadata": {},
   "outputs": [],
   "source": [
    "metascripts = metascripts.drop(metascripts.index[problem_rows])"
   ]
  },
  {
   "cell_type": "code",
   "execution_count": 230,
   "metadata": {},
   "outputs": [],
   "source": [
    "metascripts['artist'] = [extract_artist(row) for ind, row in  metascripts.iterrows()]"
   ]
  },
  {
   "cell_type": "code",
   "execution_count": 231,
   "metadata": {},
   "outputs": [],
   "source": [
    "# Manually fill the one missing runtime\n",
    "metascripts.loc[metascripts['runtimeMins'].isnull(), 'runtimeMins'] = '60'"
   ]
  },
  {
   "cell_type": "code",
   "execution_count": 232,
   "metadata": {},
   "outputs": [],
   "source": [
    "metascripts = metascripts[metascripts.columns[metascripts.isnull().sum() < 200]]\n",
    "def extract_mins(string):\n",
    "    if 'H' in string:\n",
    "        return int(re.search('\\d+', string).group(0))*60\n",
    "    else:\n",
    "        return int(re.search('\\d+', string).group(0))\n",
    "metascripts['runtimeMins'] = metascripts['runtimeMins'].apply(extract_mins)"
   ]
  },
  {
   "cell_type": "code",
   "execution_count": 233,
   "metadata": {},
   "outputs": [],
   "source": [
    "keepcols = ['description', 'link', 'transcript', 'script characters',\n",
    "       'id', 'artist', 'title', 'fullTitle', 'year', 'image', 'releaseDate', 'runtimeMins',\n",
    "       'runtimeStr', 'awards', 'genres', 'genreList', 'companies',\n",
    "       'companyList', 'contentRating', 'imDbRating', 'imDbRatingVotes',\n",
    "       'similars', 'languages', 'languageList']\n",
    "       \n",
    "metascripts = metascripts[keepcols]"
   ]
  },
  {
   "cell_type": "code",
   "execution_count": 234,
   "metadata": {},
   "outputs": [],
   "source": [
    "metascripts['year'] = metascripts['year'].astype(int)\n",
    "metascripts['releaseDate'] = pd.to_datetime(metascripts['releaseDate'])\n",
    "metascripts['imDbRating'] = metascripts['imDbRating'].astype(float)\n",
    "metascripts['imDbRatingVotes'] = metascripts['imDbRatingVotes'].fillna('0').astype(int)"
   ]
  },
  {
   "cell_type": "code",
   "execution_count": 235,
   "metadata": {},
   "outputs": [
    {
     "data": {
      "text/html": [
       "<div>\n",
       "<style scoped>\n",
       "    .dataframe tbody tr th:only-of-type {\n",
       "        vertical-align: middle;\n",
       "    }\n",
       "\n",
       "    .dataframe tbody tr th {\n",
       "        vertical-align: top;\n",
       "    }\n",
       "\n",
       "    .dataframe thead th {\n",
       "        text-align: right;\n",
       "    }\n",
       "</style>\n",
       "<table border=\"1\" class=\"dataframe\">\n",
       "  <thead>\n",
       "    <tr style=\"text-align: right;\">\n",
       "      <th></th>\n",
       "      <th>description</th>\n",
       "      <th>link</th>\n",
       "      <th>transcript</th>\n",
       "      <th>script characters</th>\n",
       "      <th>id</th>\n",
       "      <th>artist</th>\n",
       "      <th>title</th>\n",
       "      <th>fullTitle</th>\n",
       "      <th>year</th>\n",
       "      <th>image</th>\n",
       "      <th>...</th>\n",
       "      <th>genres</th>\n",
       "      <th>genreList</th>\n",
       "      <th>companies</th>\n",
       "      <th>companyList</th>\n",
       "      <th>contentRating</th>\n",
       "      <th>imDbRating</th>\n",
       "      <th>imDbRatingVotes</th>\n",
       "      <th>similars</th>\n",
       "      <th>languages</th>\n",
       "      <th>languageList</th>\n",
       "    </tr>\n",
       "  </thead>\n",
       "  <tbody>\n",
       "    <tr>\n",
       "      <th>0</th>\n",
       "      <td>Jim Gaffigan: Comedy Monster (2021) | Transcript</td>\n",
       "      <td>https://scrapsfromtheloft.com/comedy/jim-gaffi...</td>\n",
       "      <td>Thank you! Thank you! Oh, my gosh. Thank you s...</td>\n",
       "      <td>49799</td>\n",
       "      <td>tt15907298</td>\n",
       "      <td>Jim Gaffigan</td>\n",
       "      <td>Jim Gaffigan: Comedy Monster</td>\n",
       "      <td>Jim Gaffigan: Comedy Monster (2021)</td>\n",
       "      <td>2021</td>\n",
       "      <td>https://imdb-api.com/images/original/MV5BMDcyN...</td>\n",
       "      <td>...</td>\n",
       "      <td>Comedy</td>\n",
       "      <td>[{'key': 'Comedy', 'value': 'Comedy'}]</td>\n",
       "      <td>The Nacelle Company</td>\n",
       "      <td>[{'id': 'co0649705', 'name': 'The Nacelle Comp...</td>\n",
       "      <td>TV-14</td>\n",
       "      <td>6.8</td>\n",
       "      <td>1618</td>\n",
       "      <td>[{'id': 'tt6090102', 'title': 'Jim Gaffigan: C...</td>\n",
       "      <td>English</td>\n",
       "      <td>[{'key': 'English', 'value': 'English'}]</td>\n",
       "    </tr>\n",
       "    <tr>\n",
       "      <th>1</th>\n",
       "      <td>Louis C. K.: Sorry (2021) | Transcript</td>\n",
       "      <td>https://scrapsfromtheloft.com/comedy/louis-c-k...</td>\n",
       "      <td>♪♪ [“Like a Rolling Stone” by Bob Dylan playin...</td>\n",
       "      <td>44669</td>\n",
       "      <td>tt16491756</td>\n",
       "      <td>Louis C.K.</td>\n",
       "      <td>Sorry</td>\n",
       "      <td>Sorry (2021)</td>\n",
       "      <td>2021</td>\n",
       "      <td>https://imdb-api.com/images/original/MV5BOWNkN...</td>\n",
       "      <td>...</td>\n",
       "      <td>Comedy</td>\n",
       "      <td>[{'key': 'Comedy', 'value': 'Comedy'}]</td>\n",
       "      <td></td>\n",
       "      <td>[]</td>\n",
       "      <td>None</td>\n",
       "      <td>7.7</td>\n",
       "      <td>2363</td>\n",
       "      <td>[{'id': 'tt12087624', 'title': 'Sincerely Loui...</td>\n",
       "      <td>English</td>\n",
       "      <td>[{'key': 'English', 'value': 'English'}]</td>\n",
       "    </tr>\n",
       "    <tr>\n",
       "      <th>2</th>\n",
       "      <td>Drew Michael: Drew Michael (2018) | Transcript</td>\n",
       "      <td>https://scrapsfromtheloft.com/comedy/drew-mich...</td>\n",
       "      <td>“This is the latest I’ve stayed up in a long t...</td>\n",
       "      <td>40006</td>\n",
       "      <td>tt8563704</td>\n",
       "      <td>Drew Michael</td>\n",
       "      <td>Drew Michael: Drew Michael</td>\n",
       "      <td>Drew Michael: Drew Michael (2018)</td>\n",
       "      <td>2018</td>\n",
       "      <td>https://imdb-api.com/images/original/MV5BMDkyZ...</td>\n",
       "      <td>...</td>\n",
       "      <td>Comedy</td>\n",
       "      <td>[{'key': 'Comedy', 'value': 'Comedy'}]</td>\n",
       "      <td>A24 Television</td>\n",
       "      <td>[{'id': 'co0702684', 'name': 'A24 Television'}]</td>\n",
       "      <td>TV-MA</td>\n",
       "      <td>5.4</td>\n",
       "      <td>368</td>\n",
       "      <td>[{'id': 'tt16153658', 'title': 'Drew Michael: ...</td>\n",
       "      <td>English</td>\n",
       "      <td>[{'key': 'English', 'value': 'English'}]</td>\n",
       "    </tr>\n",
       "    <tr>\n",
       "      <th>3</th>\n",
       "      <td>Drew Michael: Red Blue Green (2021) | Transcript</td>\n",
       "      <td>https://scrapsfromtheloft.com/comedy/drew-mich...</td>\n",
       "      <td>(EMOTIONAL MUSIC PLAYING) (MUSIC ENDS) DREW MI...</td>\n",
       "      <td>50422</td>\n",
       "      <td>tt16153658</td>\n",
       "      <td>Drew Michael</td>\n",
       "      <td>Drew Michael: Red Blue Green</td>\n",
       "      <td>Drew Michael: Red Blue Green (2021)</td>\n",
       "      <td>2021</td>\n",
       "      <td>https://imdb-api.com/images/original/MV5BNTcxM...</td>\n",
       "      <td>...</td>\n",
       "      <td>Comedy</td>\n",
       "      <td>[{'key': 'Comedy', 'value': 'Comedy'}]</td>\n",
       "      <td>Rotten Science, HBO Films</td>\n",
       "      <td>[{'id': 'co0602462', 'name': 'Rotten Science'}...</td>\n",
       "      <td>TV-MA</td>\n",
       "      <td>6.9</td>\n",
       "      <td>261</td>\n",
       "      <td>[{'id': 'tt8563704', 'title': 'Drew Michael: D...</td>\n",
       "      <td>English</td>\n",
       "      <td>[{'key': 'English', 'value': 'English'}]</td>\n",
       "    </tr>\n",
       "    <tr>\n",
       "      <th>4</th>\n",
       "      <td>Mo Amer: Mohammed in Texas (2021) | Transcript</td>\n",
       "      <td>https://scrapsfromtheloft.com/comedy/mo-amer-m...</td>\n",
       "      <td>[quirky flute music playing] [single note pian...</td>\n",
       "      <td>58020</td>\n",
       "      <td>tt15845288</td>\n",
       "      <td>Mo Amer</td>\n",
       "      <td>Mo Amer: Mohammed in Texas</td>\n",
       "      <td>Mo Amer: Mohammed in Texas (2021)</td>\n",
       "      <td>2021</td>\n",
       "      <td>https://imdb-api.com/images/original/MV5BMDI1M...</td>\n",
       "      <td>...</td>\n",
       "      <td>Comedy</td>\n",
       "      <td>[{'key': 'Comedy', 'value': 'Comedy'}]</td>\n",
       "      <td>A24</td>\n",
       "      <td>[{'id': 'co0390816', 'name': 'A24'}]</td>\n",
       "      <td>TV-MA</td>\n",
       "      <td>6.5</td>\n",
       "      <td>615</td>\n",
       "      <td>[{'id': 'tt9060526', 'title': 'Mo Amer: The Va...</td>\n",
       "      <td>English</td>\n",
       "      <td>[{'key': 'English', 'value': 'English'}]</td>\n",
       "    </tr>\n",
       "  </tbody>\n",
       "</table>\n",
       "<p>5 rows × 24 columns</p>\n",
       "</div>"
      ],
      "text/plain": [
       "                                        description  \\\n",
       "0  Jim Gaffigan: Comedy Monster (2021) | Transcript   \n",
       "1            Louis C. K.: Sorry (2021) | Transcript   \n",
       "2    Drew Michael: Drew Michael (2018) | Transcript   \n",
       "3  Drew Michael: Red Blue Green (2021) | Transcript   \n",
       "4    Mo Amer: Mohammed in Texas (2021) | Transcript   \n",
       "\n",
       "                                                link  \\\n",
       "0  https://scrapsfromtheloft.com/comedy/jim-gaffi...   \n",
       "1  https://scrapsfromtheloft.com/comedy/louis-c-k...   \n",
       "2  https://scrapsfromtheloft.com/comedy/drew-mich...   \n",
       "3  https://scrapsfromtheloft.com/comedy/drew-mich...   \n",
       "4  https://scrapsfromtheloft.com/comedy/mo-amer-m...   \n",
       "\n",
       "                                          transcript  script characters  \\\n",
       "0  Thank you! Thank you! Oh, my gosh. Thank you s...              49799   \n",
       "1  ♪♪ [“Like a Rolling Stone” by Bob Dylan playin...              44669   \n",
       "2  “This is the latest I’ve stayed up in a long t...              40006   \n",
       "3  (EMOTIONAL MUSIC PLAYING) (MUSIC ENDS) DREW MI...              50422   \n",
       "4  [quirky flute music playing] [single note pian...              58020   \n",
       "\n",
       "           id        artist                         title  \\\n",
       "0  tt15907298  Jim Gaffigan  Jim Gaffigan: Comedy Monster   \n",
       "1  tt16491756    Louis C.K.                         Sorry   \n",
       "2   tt8563704  Drew Michael    Drew Michael: Drew Michael   \n",
       "3  tt16153658  Drew Michael  Drew Michael: Red Blue Green   \n",
       "4  tt15845288       Mo Amer    Mo Amer: Mohammed in Texas   \n",
       "\n",
       "                             fullTitle  year  \\\n",
       "0  Jim Gaffigan: Comedy Monster (2021)  2021   \n",
       "1                         Sorry (2021)  2021   \n",
       "2    Drew Michael: Drew Michael (2018)  2018   \n",
       "3  Drew Michael: Red Blue Green (2021)  2021   \n",
       "4    Mo Amer: Mohammed in Texas (2021)  2021   \n",
       "\n",
       "                                               image  ...  genres  \\\n",
       "0  https://imdb-api.com/images/original/MV5BMDcyN...  ...  Comedy   \n",
       "1  https://imdb-api.com/images/original/MV5BOWNkN...  ...  Comedy   \n",
       "2  https://imdb-api.com/images/original/MV5BMDkyZ...  ...  Comedy   \n",
       "3  https://imdb-api.com/images/original/MV5BNTcxM...  ...  Comedy   \n",
       "4  https://imdb-api.com/images/original/MV5BMDI1M...  ...  Comedy   \n",
       "\n",
       "                                genreList                  companies  \\\n",
       "0  [{'key': 'Comedy', 'value': 'Comedy'}]        The Nacelle Company   \n",
       "1  [{'key': 'Comedy', 'value': 'Comedy'}]                              \n",
       "2  [{'key': 'Comedy', 'value': 'Comedy'}]             A24 Television   \n",
       "3  [{'key': 'Comedy', 'value': 'Comedy'}]  Rotten Science, HBO Films   \n",
       "4  [{'key': 'Comedy', 'value': 'Comedy'}]                        A24   \n",
       "\n",
       "                                         companyList contentRating imDbRating  \\\n",
       "0  [{'id': 'co0649705', 'name': 'The Nacelle Comp...         TV-14        6.8   \n",
       "1                                                 []          None        7.7   \n",
       "2    [{'id': 'co0702684', 'name': 'A24 Television'}]         TV-MA        5.4   \n",
       "3  [{'id': 'co0602462', 'name': 'Rotten Science'}...         TV-MA        6.9   \n",
       "4               [{'id': 'co0390816', 'name': 'A24'}]         TV-MA        6.5   \n",
       "\n",
       "  imDbRatingVotes                                           similars  \\\n",
       "0            1618  [{'id': 'tt6090102', 'title': 'Jim Gaffigan: C...   \n",
       "1            2363  [{'id': 'tt12087624', 'title': 'Sincerely Loui...   \n",
       "2             368  [{'id': 'tt16153658', 'title': 'Drew Michael: ...   \n",
       "3             261  [{'id': 'tt8563704', 'title': 'Drew Michael: D...   \n",
       "4             615  [{'id': 'tt9060526', 'title': 'Mo Amer: The Va...   \n",
       "\n",
       "  languages                              languageList  \n",
       "0   English  [{'key': 'English', 'value': 'English'}]  \n",
       "1   English  [{'key': 'English', 'value': 'English'}]  \n",
       "2   English  [{'key': 'English', 'value': 'English'}]  \n",
       "3   English  [{'key': 'English', 'value': 'English'}]  \n",
       "4   English  [{'key': 'English', 'value': 'English'}]  \n",
       "\n",
       "[5 rows x 24 columns]"
      ]
     },
     "execution_count": 235,
     "metadata": {},
     "output_type": "execute_result"
    }
   ],
   "source": [
    "metascripts.head()"
   ]
  },
  {
   "cell_type": "code",
   "execution_count": 236,
   "metadata": {},
   "outputs": [
    {
     "name": "stdout",
     "output_type": "stream",
     "text": [
      "<class 'pandas.core.frame.DataFrame'>\n",
      "Int64Index: 316 entries, 0 to 380\n",
      "Data columns (total 24 columns):\n",
      " #   Column             Non-Null Count  Dtype         \n",
      "---  ------             --------------  -----         \n",
      " 0   description        316 non-null    object        \n",
      " 1   link               316 non-null    object        \n",
      " 2   transcript         316 non-null    object        \n",
      " 3   script characters  316 non-null    int64         \n",
      " 4   id                 316 non-null    object        \n",
      " 5   artist             316 non-null    object        \n",
      " 6   title              316 non-null    object        \n",
      " 7   fullTitle          316 non-null    object        \n",
      " 8   year               316 non-null    int32         \n",
      " 9   image              316 non-null    object        \n",
      " 10  releaseDate        304 non-null    datetime64[ns]\n",
      " 11  runtimeMins        316 non-null    int64         \n",
      " 12  runtimeStr         314 non-null    object        \n",
      " 13  awards             316 non-null    object        \n",
      " 14  genres             316 non-null    object        \n",
      " 15  genreList          316 non-null    object        \n",
      " 16  companies          316 non-null    object        \n",
      " 17  companyList        316 non-null    object        \n",
      " 18  contentRating      232 non-null    object        \n",
      " 19  imDbRating         315 non-null    float64       \n",
      " 20  imDbRatingVotes    316 non-null    int32         \n",
      " 21  similars           316 non-null    object        \n",
      " 22  languages          316 non-null    object        \n",
      " 23  languageList       316 non-null    object        \n",
      "dtypes: datetime64[ns](1), float64(1), int32(2), int64(2), object(18)\n",
      "memory usage: 59.2+ KB\n"
     ]
    }
   ],
   "source": [
    "metascripts.info()"
   ]
  },
  {
   "cell_type": "markdown",
   "metadata": {},
   "source": [
    "## Ratings and Rating Counts"
   ]
  },
  {
   "cell_type": "code",
   "execution_count": 237,
   "metadata": {},
   "outputs": [
    {
     "data": {
      "application/vnd.plotly.v1+json": {
       "config": {
        "plotlyServerURL": "https://plotly.com"
       },
       "data": [
        {
         "alignmentgroup": "True",
         "boxpoints": "all",
         "customdata": [
          [
           "Jim Gaffigan: Comedy Monster"
          ],
          [
           "Sorry"
          ],
          [
           "Drew Michael: Drew Michael"
          ],
          [
           "Drew Michael: Red Blue Green"
          ],
          [
           "Mo Amer: Mohammed in Texas"
          ],
          [
           "Dave Chappelle: The Closer"
          ],
          [
           "Kathleen Madigan: Bothering Jesus"
          ],
          [
           "Kathleen Madigan: Madigan Again"
          ],
          [
           "Phil Wang: Philly Philly Wang Wang"
          ],
          [
           "Tom Papa: You're Doing Great!"
          ],
          [
           "Tom Papa: Human Mule"
          ],
          [
           "Tom Papa: Freaked Out"
          ],
          [
           "Inside"
          ],
          [
           "Tig Notaro: Boyish Girl Interrupted"
          ],
          [
           "Joe List: I Hate Myself"
          ],
          [
           "Nate Bargatze: The Greatest Average American"
          ],
          [
           "Brian Regan: On the Rocks"
          ],
          [
           "Doug Stanhope: Beer Hall Putsch"
          ],
          [
           "Tamborine"
          ],
          [
           "Sarah Cooper: Everything's Fine"
          ],
          [
           "Bo Burnham: Words, Words, Words"
          ],
          [
           "Vir Das: Outside in - The Lockdown Special"
          ],
          [
           "Larry the Cable Guy: Remain Seated"
          ],
          [
           "Craig Ferguson: Just Being Honest"
          ],
          [
           "Kevin Hart: Zero F**ks Given"
          ],
          [
           "Sam Morril: I Got This"
          ],
          [
           "Ronny Chieng: Asian Comedian Destroys America"
          ],
          [
           "Craig Ferguson: A Wee Bit o' Revolution"
          ],
          [
           "Michael McIntyre: Showman"
          ],
          [
           "Rob Schneider: Asian Momma, Mexican Kids"
          ],
          [
           "Sam Jay: 3 in the Morning"
          ],
          [
           "Jack Whitehall: I'm Only Joking"
          ],
          [
           "Urzila Carlson: Overqualified Loser"
          ],
          [
           "George Lopez: We'll Do It for Half"
          ],
          [
           "Jim Jefferies: Intolerant"
          ],
          [
           "George Carlin: Doin' It Again"
          ],
          [
           "Eric Andre: Legalize Everything"
          ],
          [
           "Roy Wood Jr.: Father Figure"
          ],
          [
           "Amy Schumer Presents Mark Normand: Don't Be Yourself"
          ],
          [
           "Chris Gethard: Career Suicide"
          ],
          [
           "Ramy Youssef: Feelings"
          ],
          [
           "Kenny Sebastian: Don't Be That Guy"
          ],
          [
           "Billy Connolly: High Horse Tour Live"
          ],
          [
           "Hannah Gadsby: Douglas"
          ],
          [
           "Hasan Minhaj: Homecoming King"
          ],
          [
           "Patton Oswalt: I Love Everything"
          ],
          [
           "Russell Peters: Deported"
          ],
          [
           "Jimmy O. Yang: Good Deal"
          ],
          [
           "Jo Koy: Lights Out"
          ],
          [
           "Lee Mack: Going Out Live"
          ],
          [
           "Lee Mack: Live"
          ],
          [
           "T.J. Miller: No Real Reason"
          ],
          [
           "Jerry Seinfeld: 23 Hours to Kill"
          ],
          [
           "Sincerely Louis CK"
          ],
          [
           "Jim Norton: American Degenerate"
          ],
          [
           "Jim Norton: Monster Rain"
          ],
          [
           "Maria Bamford: Weakness Is the Brand"
          ],
          [
           "Chris D'Elia: White Male. Black Comic."
          ],
          [
           "Chris D'Elia: Man on Fire"
          ],
          [
           "Tom Segura: Ball Hog"
          ],
          [
           "Bert Kreischer: Hey Big Boy"
          ],
          [
           "Marc Maron: End Times Fun"
          ],
          [
           "Pete Davidson: SMD"
          ],
          [
           "Pete Davidson: Alive from New York"
          ],
          [
           "Amanda Seales: I Be Knowin'"
          ],
          [
           "Stewart Lee: Carpet Remnant World"
          ],
          [
           "Stewart Lee: Content Provider"
          ],
          [
           "Sara Pascoe Live: LadsLadsLads"
          ],
          [
           "Dan Soder: Son of a Gary"
          ],
          [
           "Jim Gaffigan: Quality Time"
          ],
          [
           "Kevin Bridges: A Whole Different Story"
          ],
          [
           "Kevin Bridges: The Story So Far - Live in Glasgow"
          ],
          [
           "Kevin Bridges: The Story Continues..."
          ],
          [
           "Michelle Wolf: Joke Show"
          ],
          [
           "Tiffany Haddish: Black Mitzvah"
          ],
          [
           "Mike Birbiglia: The New One"
          ],
          [
           "Iliza Shlesinger: Unveiled"
          ],
          [
           "Seth Meyers: Lobby Baby"
          ],
          [
           "Arsenio Hall: Smart and Classy"
          ],
          [
           "Nikki Glaser: Bangin'"
          ],
          [
           "Bill Burr: Paper Tiger"
          ],
          [
           "Dave Chappelle: Sticks & Stones"
          ],
          [
           "Emily Heller: Ice Thickeners"
          ],
          [
           "David Cross: Oh Come On"
          ],
          [
           "Whitney Cummings: Can I Touch It?"
          ],
          [
           "Aziz Ansari: Right Now"
          ],
          [
           "Ralphie May Filthy Animal Tour"
          ],
          [
           "Mike Epps: Only One Mike"
          ],
          [
           "Adam Devine: Best Time of Our Lives"
          ],
          [
           "Jo Koy: Live from Seattle"
          ],
          [
           "Jo Koy: Comin' in Hot"
          ],
          [
           "Wanda Sykes: Not Normal"
          ],
          [
           "Cedric the Entertainer: Live from the Ville"
          ],
          [
           "Eddie Murphy: Raw"
          ],
          [
           "Colin Quinn: The New York Story"
          ],
          [
           "Demetri Martin: Live (At the Time)"
          ],
          [
           "George Carlin: What Am I Doing in New Jersey?"
          ],
          [
           "Chelsea Peretti: One of the Greats"
          ],
          [
           "Anthony Jeselnik: Fire in the Maternity Ward"
          ],
          [
           "Roy Wood Jr.: No One Loves You"
          ],
          [
           "Robin Williams: Weapons of Self Destruction"
          ],
          [
           "Robin Williams Live on Broadway"
          ],
          [
           "Jimmy Carr: The Best of Ultimate Gold Greatest Hits"
          ],
          [
           "Nate Bargatze: The Tennessee Kid"
          ],
          [
           "W. Kamau Bell: Private School Negro"
          ],
          [
           "Kevin Hart: Irresponsible"
          ],
          [
           "Nate Bargatze: Full Time Magic"
          ],
          [
           "Amy Schumer: Growing"
          ],
          [
           "Enissa Amani: Ehrenwort"
          ],
          [
           "Ken Jeong: You Complete Me, Ho"
          ],
          [
           "Ray Romano: Right Here, Around the Corner"
          ],
          [
           "Gabriel \"Fluffy\" Iglesias: One Show Fits All"
          ],
          [
           "Sebastian Maniscalco: Stay Hungry"
          ],
          [
           "Sebastian Maniscalco: Aren't You Embarrassed?"
          ],
          [
           "Sebastian Maniscalco: What's Wrong with People?"
          ],
          [
           "Oh, Hello on Broadway"
          ],
          [
           "Ellen DeGeneres: Relatable"
          ],
          [
           "Pete Holmes: Dirty Clean"
          ],
          [
           "Vir Das: Losing It"
          ],
          [
           "Trevor Noah: Son of Patricia"
          ],
          [
           "Jeff Foxworthy & Larry the Cable Guy: We've Been Thinking"
          ],
          [
           "Adam Sandler: 100% Fresh"
          ],
          [
           "Jeff Foxworthy: Totally Committed"
          ],
          [
           "Ron White: If You Quit Listening, I'll Shut Up"
          ],
          [
           "Mo Amer: The Vagabond"
          ],
          [
           "Joe Mande's Award-Winning Comedy Special"
          ],
          [
           "Henry Rollins: Keep Talking, Pal"
          ],
          [
           "Joe Rogan: Strange Times"
          ],
          [
           "D.L. Hughley: Contrarian"
          ],
          [
           "Iliza Shlesinger: Freezing Hot"
          ],
          [
           "Iliza Shlesinger: War Paint"
          ],
          [
           "Bert Kreischer: Secret Time"
          ],
          [
           "Demetri Martin: The Overthinker"
          ],
          [
           "Bill Maher: Live from Oklahoma"
          ],
          [
           "Rowan Atkinson: Not Just a Pretty Face"
          ],
          [
           "Iliza Shlesinger: Confirmed Kills"
          ],
          [
           "Iliza: Elder Millennial"
          ],
          [
           "Jim Gaffigan: Noble Ape"
          ],
          [
           "Jim Norton: Contextually Inadequate"
          ],
          [
           "Hannah Gadsby: Nanette"
          ],
          [
           "Brad Williams: Daddy Issues"
          ],
          [
           "DeRay Davis: How to Act Black"
          ],
          [
           "Ricky Gervais: Live IV - Science"
          ],
          [
           "Jim Jefferies: This Is Me Now"
          ],
          [
           "Russell Peters: Outsourced"
          ],
          [
           "Russell Peters: Almost Famous"
          ],
          [
           "Ron White: A Little Unprofessional"
          ],
          [
           "Michael McIntyre: Hello Wembley!"
          ],
          [
           "Kevin Smith: Silent But Deadly"
          ],
          [
           "Kevin James: Never Don't Give Up"
          ],
          [
           "Brent Morin: I'm Brent Morin"
          ],
          [
           "Nikki Glaser: Perfect"
          ],
          [
           "Ali Wong: Hard Knock Wife"
          ],
          [
           "Kavin Jay: Everybody Calm Down!"
          ],
          [
           "John Mulaney: Kid Gorgeous at Radio City"
          ],
          [
           "Eddie Griffin: Undeniable"
          ],
          [
           "Greg Davies: You Magnificent Beast"
          ],
          [
           "George Carlin: You Are All Diseased"
          ],
          [
           "Marlon Wayans: Woke-ish"
          ],
          [
           "Ricky Gervais: Humanity"
          ],
          [
           "Adel Karam: Live from Beirut"
          ],
          [
           "Stewart Lee: 90s Comedian"
          ],
          [
           "Mike Birbiglia: My Girlfriend's Boyfriend"
          ],
          [
           "Dave Attell: Road Work"
          ],
          [
           "Eddie Izzard: Glorious"
          ],
          [
           "Chris Rock: Bring the Pain"
          ],
          [
           "Ari Shaffir: Double Negative"
          ],
          [
           "Tamborine"
          ],
          [
           "Fred Armisen: Standup For Drummers"
          ],
          [
           "Dana Carvey: Straight White Male, 60"
          ],
          [
           "Eddie Izzard: Stripped"
          ],
          [
           "Todd Glass: Act Happy"
          ],
          [
           "Brian Regan: Standing Up"
          ],
          [
           "Brian Regan: Nunchucks and Flamethrowers"
          ],
          [
           "Katt Williams: Great America"
          ],
          [
           "Jimmy Carr: Being Funny"
          ],
          [
           "Jimmy Carr: Laughing and Joking"
          ],
          [
           "Eddie Izzard: Unrepeatable"
          ],
          [
           "D.L. Hughley: Unapologetic"
          ],
          [
           "Bridget Everett: Gynecological Wonder"
          ],
          [
           "Chris Rock: Never Scared"
          ],
          [
           "Stewart Lee: Stand-Up Comedian"
          ],
          [
           "Jimmy Carr: Funny Business"
          ],
          [
           "Eddie Izzard: Dress to Kill"
          ],
          [
           "Chris Tucker Live"
          ],
          [
           "Kevin Hart: What Now?"
          ],
          [
           "Kevin Hart: Let Me Explain"
          ],
          [
           "Tom Segura: Disgraceful"
          ],
          [
           "Michelle Wolf: Nice Lady"
          ],
          [
           "Fahim Anwar: There's No Business Like Show Business"
          ],
          [
           "Ellen DeGeneres: The Beginning"
          ],
          [
           "Maz Jobrani: Immigrant"
          ],
          [
           "Todd Barry: Spicy Honey"
          ],
          [
           "Jerry Seinfeld: 'I'm Telling You for the Last Time'"
          ],
          [
           "Craig Ferguson: Does This Need to Be Said?"
          ],
          [
           "Dave Chappelle: The Bird Revelation"
          ],
          [
           "Dave Chappelle: The Bird Revelation"
          ],
          [
           "Dave Chappelle: Equanimity"
          ],
          [
           "Craig Ferguson: I'm Here to Help"
          ],
          [
           "Russell Howard: Recalibrate"
          ],
          [
           "Whitney Cummings: I Love You"
          ],
          [
           "Whitney Cummings: I'm Your Girlfriend"
          ],
          [
           "Sarah Millican: Chatterbox Live"
          ],
          [
           "Anjelah Johnson: Not Fancy"
          ],
          [
           "Ricky Gervais Live 2: Politics"
          ],
          [
           "Russell Howard Live: Dingledodies"
          ],
          [
           "Christina P: Mother Inferior"
          ],
          [
           "Jack Whitehall: At Large"
          ],
          [
           "Cristela Alonzo: Lower Classy"
          ],
          [
           "Judah Friedlander: America is the Greatest Country in the United States"
          ],
          [
           "Aziz Ansari Live in Madison Square Garden"
          ],
          [
           "Aziz Ansari: Buried Alive"
          ],
          [
           "Paul Mooney: A Piece of My Mind - God Bless America"
          ],
          [
           "Patton Oswalt: Annihilation"
          ],
          [
           "Chris Rock: Kill the Messenger - London, New York, Johannesburg"
          ],
          [
           "Bill Maher: Live from D.C."
          ],
          [
           "Sarah Silverman: Jesus Is Magic"
          ],
          [
           "Sarah Silverman: We Are Miracles"
          ],
          [
           "Pablo Francisco: Ouch! Live from San Jose"
          ],
          [
           "Bill Maher... But I'm Not Wrong"
          ],
          [
           "Russell Brand: Messiah Complex"
          ],
          [
           "Chris Rock: Bigger & Blacker"
          ],
          [
           "Gabriel Iglesias: Hot and Fluffy"
          ],
          [
           "Gabriel Iglesias: I'm Not Fat... I'm Fluffy"
          ],
          [
           "Gabriel Iglesias: I'm Sorry for What I Said When I Was Hungry"
          ],
          [
           "Rory Scovel Tries Stand-Up for the First Time"
          ],
          [
           "Lisa Lampanelli: Back to the Drawing Board"
          ],
          [
           "Erik Griffin: The Ugly Truth"
          ],
          [
           "Jen Kirkman: Just Keep Livin?"
          ],
          [
           "Daniel Tosh: Completely Serious"
          ],
          [
           "Al Madrigal: Why Is the Rabbit Crying?"
          ],
          [
           "Neal Brennan: 3 Mics"
          ],
          [
           "John Mulaney: New in Town"
          ],
          [
           "Donald Glover: Weirdo"
          ],
          [
           "Ali Wong: Baby Cobra"
          ],
          [
           "Norm Macdonald: Hitler's Dog, Gossip & Trickery"
          ],
          [
           "Daniel Tosh: People Pleaser"
          ],
          [
           "Marc Maron: More Later"
          ],
          [
           "Dylan Moran: Off the Hook"
          ],
          [
           "Richard Pryor: Live and Smokin'"
          ],
          [
           "Richard Pryor... Here and Now"
          ],
          [
           "Bill Burr: Why Do I Do This?"
          ],
          [
           "Amy Schumer: Mostly Sex Stuff"
          ],
          [
           "Jim Jefferies Alcoholocaust"
          ],
          [
           "Amy Schumer: Live at the Apollo"
          ],
          [
           "Kevin Hart: Seriously Funny"
          ],
          [
           "Hannibal Buress: Comedy Camisado"
          ],
          [
           "Neal Brennan: Women and Black Dudes"
          ],
          [
           "Nick Offerman: American Ham"
          ],
          [
           "Aziz Ansari: Intimate Moments for a Sensual Evening"
          ],
          [
           "Big Jay Oakerson: Live at Webster Hall"
          ],
          [
           "Doug Stanhope: No Refunds"
          ],
          [
           "George Carlin at USC"
          ],
          [
           "Jim Norton: Mouthful of Shame"
          ],
          [
           "Michael Che Matters"
          ],
          [
           "Joe Rogan: Triggered"
          ],
          [
           "Trevor Noah: Lost in Translation"
          ],
          [
           "Maria Bamford: Old Baby"
          ],
          [
           "Bo Burnham: what."
          ],
          [
           "Bo Burnham: Make Happy"
          ],
          [
           "Anthony Jeselnik: Caligula"
          ],
          [
           "Anthony Jeselnik: Thoughts and Prayers"
          ],
          [
           "John Mulaney: The Comeback Kid"
          ],
          [
           "Bill Hicks: Revelations"
          ],
          [
           "Lewis Black: Black to the Future"
          ],
          [
           "Doug Stanhope: Before Turning the Gun on Himself"
          ],
          [
           "Doug Stanhope: Deadbeat Hero"
          ],
          [
           "Jim Jefferies: Contraband"
          ],
          [
           "Mike Birbiglia: Thank God for Jokes"
          ],
          [
           "Sarah Silverman: A Speck of Dust"
          ],
          [
           "George Carlin: Playin' with Your Head"
          ],
          [
           "On Location: George Carlin at Phoenix"
          ],
          [
           "Louis C.K.: Chewed Up"
          ],
          [
           "Tom Segura: Completely Normal"
          ],
          [
           "George Carlin: Carlin on Campus"
          ],
          [
           "Louis C.K.: Live at the Beacon Theater"
          ],
          [
           "Ricky Gervais: Out of England 2 - The Stand-Up Special"
          ],
          [
           "Amy Schumer: The Leather Special"
          ],
          [
           "Jim Gaffigan: Cinco"
          ],
          [
           "Jim Jefferies: I Swear to God"
          ],
          [
           "Louis C.K.: Hilarious"
          ],
          [
           "Louis C.K.: Shameless"
          ],
          [
           "Bill Burr: I'm Sorry You Feel That Way"
          ],
          [
           "Bill Burr: You People Are All the Same."
          ],
          [
           "Dave Chappelle: For What It's Worth"
          ],
          [
           "Dave Chappelle: Killin' Them Softly"
          ],
          [
           "Eddie Griffin: You Can Tell 'Em I Said It!"
          ],
          [
           "Bill Burr: Walk Your Way Out"
          ],
          [
           "Louis C.K. Oh My God"
          ],
          [
           "Louis C.K.: Live at the Comedy Store"
          ],
          [
           "Bill Hicks: Relentless"
          ],
          [
           "Daniel Tosh: Happy Thoughts"
          ],
          [
           "Patrice O'Neal: Elephant in the Room"
          ],
          [
           "Katt Williams Live"
          ],
          [
           "Richard Pryor: Live in Concert"
          ],
          [
           "Richard Pryor: Live on the Sunset Strip"
          ],
          [
           "Trevor Noah: Afraid of the Dark"
          ],
          [
           "Jim Jefferies: BARE"
          ],
          [
           "Deep in the Heart of Texas: Dave Chappelle Live at Austin City Limits"
          ],
          [
           "Tom Segura: Mostly Stories"
          ],
          [
           "Bill Burr: Let It Go"
          ],
          [
           "George Carlin: Jammin' in New York"
          ],
          [
           "George Carlin: You Are All Diseased"
          ],
          [
           "George Carlin... It's Bad for Ya!"
          ],
          [
           "Jim Jefferies: Freedumb"
          ],
          [
           "Eddie Murphy: Delirious"
          ],
          [
           "The Age of Spin: Dave Chappelle Live at the Hollywood Palladium"
          ],
          [
           "George Carlin: Back in Town"
          ],
          [
           "Louis C.K. 2017"
          ],
          [
           "George Carlin: Jammin' in New York"
          ],
          [
           "Reggie Watts: Spatial"
          ],
          [
           "George Carlin: Complaints & Grievances"
          ],
          [
           "George Carlin: Life Is Worth Losing"
          ],
          [
           "George Carlin... It's Bad for Ya!"
          ],
          [
           "Dave Chappelle: 8:46"
          ],
          [
           "Jim Jefferies: A Joke about Gun Control"
          ]
         ],
         "hovertemplate": "imDbRating=%{x}<br>title=%{customdata[0]}<extra></extra>",
         "legendgroup": "",
         "marker": {
          "color": "saddlebrown"
         },
         "name": "",
         "notched": false,
         "offsetgroup": "",
         "orientation": "h",
         "showlegend": false,
         "type": "box",
         "x": [
          6.8,
          7.7,
          5.4,
          6.9,
          6.5,
          8,
          7.4,
          7.1,
          6,
          7.2,
          7.2,
          7.3,
          8.6,
          6.8,
          7.4,
          7.3,
          6.9,
          7.6,
          6.6,
          5.5,
          8.1,
          6.5,
          6.6,
          7.2,
          6,
          7.7,
          7.4,
          7.5,
          7.1,
          5.5,
          6.4,
          6.6,
          6.2,
          5.7,
          7.2,
          8.3,
          6.1,
          7.2,
          6.7,
          7.4,
          7,
          7.1,
          8,
          7.6,
          8.2,
          6.4,
          6.2,
          7.1,
          7.6,
          7.2,
          7.6,
          7,
          6.7,
          8.3,
          7.2,
          7.1,
          7.6,
          7,
          6.5,
          7.3,
          7,
          6.8,
          6.7,
          6.1,
          6,
          8.5,
          8.4,
          7.2,
          7.3,
          7.6,
          7.6,
          7.8,
          7.7,
          7.2,
          6.2,
          7.7,
          6.5,
          7.4,
          6,
          6.1,
          8.1,
          8.4,
          7.3,
          6.7,
          6.5,
          7.5,
          6.3,
          4.7,
          5.9,
          7.2,
          7.3,
          7.2,
          6.3,
          7.6,
          6.9,
          7.4,
          8.1,
          6.9,
          7.2,
          7.1,
          7.7,
          8.4,
          7.3,
          7.6,
          6.4,
          6.5,
          7.7,
          5.4,
          5.5,
          5.7,
          7.2,
          7.2,
          7.1,
          7.8,
          8,
          7.7,
          6.5,
          7.2,
          7,
          7.3,
          6,
          7.5,
          7.4,
          6.5,
          7.3,
          6.1,
          6.4,
          7.3,
          6.6,
          6.8,
          6.6,
          7.3,
          7.2,
          6.3,
          8.3,
          6.6,
          7.2,
          7.6,
          7.2,
          8.1,
          7.6,
          6.1,
          7.7,
          7.3,
          8.1,
          6.6,
          7.4,
          7.4,
          6.9,
          6.1,
          6.5,
          7,
          7.3,
          5.9,
          7.9,
          5.1,
          7.1,
          8.5,
          6.5,
          7.9,
          5.3,
          8.5,
          8,
          7.5,
          8.4,
          8.2,
          6.8,
          6.6,
          5.8,
          6.5,
          7.7,
          5.1,
          7.8,
          6.3,
          6.2,
          7.7,
          7.8,
          8,
          6.8,
          5.6,
          8,
          8.4,
          7.2,
          8.6,
          6.3,
          5.9,
          6.6,
          7.5,
          6.8,
          7.1,
          7.5,
          6.7,
          6.8,
          7.9,
          7.4,
          7.8,
          7.8,
          8.1,
          7.1,
          7.3,
          6.5,
          6.2,
          7.6,
          5.7,
          7.7,
          7.2,
          6.4,
          6.8,
          6.6,
          7.8,
          6.6,
          7.2,
          7.2,
          7.2,
          7.6,
          6.7,
          6.5,
          6.6,
          7.5,
          6.9,
          7.3,
          8,
          7.9,
          8,
          7.4,
          6.7,
          6.1,
          6.3,
          6.8,
          7.7,
          7,
          7.9,
          8.2,
          7.4,
          7.5,
          7.3,
          7.9,
          7.4,
          7.8,
          6.4,
          7.2,
          8.3,
          6,
          8.3,
          5.8,
          7.5,
          6.6,
          7.2,
          6.6,
          7.2,
          7,
          8.2,
          7.7,
          7,
          7.2,
          7.4,
          7.2,
          6.2,
          8.3,
          8.4,
          7.9,
          7.7,
          7.9,
          8.5,
          6.8,
          8,
          8.4,
          7.7,
          7.5,
          6.9,
          8,
          8.1,
          8.5,
          7.7,
          7.9,
          8.3,
          7.9,
          3.1,
          7.1,
          8.1,
          8.4,
          8.6,
          8.3,
          8.2,
          8.5,
          8.8,
          7.6,
          7.2,
          8.3,
          7.8,
          8.5,
          7.5,
          8.2,
          6.9,
          8,
          7.6,
          7.2,
          8,
          7.9,
          7.5,
          8.3,
          8.7,
          8.5,
          8.5,
          7.7,
          8.1,
          8.1,
          8.6,
          7.6,
          8.7,
          6,
          8.4,
          8.2,
          8.5,
          8.1,
          null
         ],
         "x0": " ",
         "xaxis": "x",
         "y0": " ",
         "yaxis": "y"
        }
       ],
       "layout": {
        "boxmode": "group",
        "legend": {
         "tracegroupgap": 0
        },
        "template": {
         "data": {
          "bar": [
           {
            "error_x": {
             "color": "#2a3f5f"
            },
            "error_y": {
             "color": "#2a3f5f"
            },
            "marker": {
             "line": {
              "color": "#E5ECF6",
              "width": 0.5
             },
             "pattern": {
              "fillmode": "overlay",
              "size": 10,
              "solidity": 0.2
             }
            },
            "type": "bar"
           }
          ],
          "barpolar": [
           {
            "marker": {
             "line": {
              "color": "#E5ECF6",
              "width": 0.5
             },
             "pattern": {
              "fillmode": "overlay",
              "size": 10,
              "solidity": 0.2
             }
            },
            "type": "barpolar"
           }
          ],
          "carpet": [
           {
            "aaxis": {
             "endlinecolor": "#2a3f5f",
             "gridcolor": "white",
             "linecolor": "white",
             "minorgridcolor": "white",
             "startlinecolor": "#2a3f5f"
            },
            "baxis": {
             "endlinecolor": "#2a3f5f",
             "gridcolor": "white",
             "linecolor": "white",
             "minorgridcolor": "white",
             "startlinecolor": "#2a3f5f"
            },
            "type": "carpet"
           }
          ],
          "choropleth": [
           {
            "colorbar": {
             "outlinewidth": 0,
             "ticks": ""
            },
            "type": "choropleth"
           }
          ],
          "contour": [
           {
            "colorbar": {
             "outlinewidth": 0,
             "ticks": ""
            },
            "colorscale": [
             [
              0,
              "#0d0887"
             ],
             [
              0.1111111111111111,
              "#46039f"
             ],
             [
              0.2222222222222222,
              "#7201a8"
             ],
             [
              0.3333333333333333,
              "#9c179e"
             ],
             [
              0.4444444444444444,
              "#bd3786"
             ],
             [
              0.5555555555555556,
              "#d8576b"
             ],
             [
              0.6666666666666666,
              "#ed7953"
             ],
             [
              0.7777777777777778,
              "#fb9f3a"
             ],
             [
              0.8888888888888888,
              "#fdca26"
             ],
             [
              1,
              "#f0f921"
             ]
            ],
            "type": "contour"
           }
          ],
          "contourcarpet": [
           {
            "colorbar": {
             "outlinewidth": 0,
             "ticks": ""
            },
            "type": "contourcarpet"
           }
          ],
          "heatmap": [
           {
            "colorbar": {
             "outlinewidth": 0,
             "ticks": ""
            },
            "colorscale": [
             [
              0,
              "#0d0887"
             ],
             [
              0.1111111111111111,
              "#46039f"
             ],
             [
              0.2222222222222222,
              "#7201a8"
             ],
             [
              0.3333333333333333,
              "#9c179e"
             ],
             [
              0.4444444444444444,
              "#bd3786"
             ],
             [
              0.5555555555555556,
              "#d8576b"
             ],
             [
              0.6666666666666666,
              "#ed7953"
             ],
             [
              0.7777777777777778,
              "#fb9f3a"
             ],
             [
              0.8888888888888888,
              "#fdca26"
             ],
             [
              1,
              "#f0f921"
             ]
            ],
            "type": "heatmap"
           }
          ],
          "heatmapgl": [
           {
            "colorbar": {
             "outlinewidth": 0,
             "ticks": ""
            },
            "colorscale": [
             [
              0,
              "#0d0887"
             ],
             [
              0.1111111111111111,
              "#46039f"
             ],
             [
              0.2222222222222222,
              "#7201a8"
             ],
             [
              0.3333333333333333,
              "#9c179e"
             ],
             [
              0.4444444444444444,
              "#bd3786"
             ],
             [
              0.5555555555555556,
              "#d8576b"
             ],
             [
              0.6666666666666666,
              "#ed7953"
             ],
             [
              0.7777777777777778,
              "#fb9f3a"
             ],
             [
              0.8888888888888888,
              "#fdca26"
             ],
             [
              1,
              "#f0f921"
             ]
            ],
            "type": "heatmapgl"
           }
          ],
          "histogram": [
           {
            "marker": {
             "pattern": {
              "fillmode": "overlay",
              "size": 10,
              "solidity": 0.2
             }
            },
            "type": "histogram"
           }
          ],
          "histogram2d": [
           {
            "colorbar": {
             "outlinewidth": 0,
             "ticks": ""
            },
            "colorscale": [
             [
              0,
              "#0d0887"
             ],
             [
              0.1111111111111111,
              "#46039f"
             ],
             [
              0.2222222222222222,
              "#7201a8"
             ],
             [
              0.3333333333333333,
              "#9c179e"
             ],
             [
              0.4444444444444444,
              "#bd3786"
             ],
             [
              0.5555555555555556,
              "#d8576b"
             ],
             [
              0.6666666666666666,
              "#ed7953"
             ],
             [
              0.7777777777777778,
              "#fb9f3a"
             ],
             [
              0.8888888888888888,
              "#fdca26"
             ],
             [
              1,
              "#f0f921"
             ]
            ],
            "type": "histogram2d"
           }
          ],
          "histogram2dcontour": [
           {
            "colorbar": {
             "outlinewidth": 0,
             "ticks": ""
            },
            "colorscale": [
             [
              0,
              "#0d0887"
             ],
             [
              0.1111111111111111,
              "#46039f"
             ],
             [
              0.2222222222222222,
              "#7201a8"
             ],
             [
              0.3333333333333333,
              "#9c179e"
             ],
             [
              0.4444444444444444,
              "#bd3786"
             ],
             [
              0.5555555555555556,
              "#d8576b"
             ],
             [
              0.6666666666666666,
              "#ed7953"
             ],
             [
              0.7777777777777778,
              "#fb9f3a"
             ],
             [
              0.8888888888888888,
              "#fdca26"
             ],
             [
              1,
              "#f0f921"
             ]
            ],
            "type": "histogram2dcontour"
           }
          ],
          "mesh3d": [
           {
            "colorbar": {
             "outlinewidth": 0,
             "ticks": ""
            },
            "type": "mesh3d"
           }
          ],
          "parcoords": [
           {
            "line": {
             "colorbar": {
              "outlinewidth": 0,
              "ticks": ""
             }
            },
            "type": "parcoords"
           }
          ],
          "pie": [
           {
            "automargin": true,
            "type": "pie"
           }
          ],
          "scatter": [
           {
            "marker": {
             "colorbar": {
              "outlinewidth": 0,
              "ticks": ""
             }
            },
            "type": "scatter"
           }
          ],
          "scatter3d": [
           {
            "line": {
             "colorbar": {
              "outlinewidth": 0,
              "ticks": ""
             }
            },
            "marker": {
             "colorbar": {
              "outlinewidth": 0,
              "ticks": ""
             }
            },
            "type": "scatter3d"
           }
          ],
          "scattercarpet": [
           {
            "marker": {
             "colorbar": {
              "outlinewidth": 0,
              "ticks": ""
             }
            },
            "type": "scattercarpet"
           }
          ],
          "scattergeo": [
           {
            "marker": {
             "colorbar": {
              "outlinewidth": 0,
              "ticks": ""
             }
            },
            "type": "scattergeo"
           }
          ],
          "scattergl": [
           {
            "marker": {
             "colorbar": {
              "outlinewidth": 0,
              "ticks": ""
             }
            },
            "type": "scattergl"
           }
          ],
          "scattermapbox": [
           {
            "marker": {
             "colorbar": {
              "outlinewidth": 0,
              "ticks": ""
             }
            },
            "type": "scattermapbox"
           }
          ],
          "scatterpolar": [
           {
            "marker": {
             "colorbar": {
              "outlinewidth": 0,
              "ticks": ""
             }
            },
            "type": "scatterpolar"
           }
          ],
          "scatterpolargl": [
           {
            "marker": {
             "colorbar": {
              "outlinewidth": 0,
              "ticks": ""
             }
            },
            "type": "scatterpolargl"
           }
          ],
          "scatterternary": [
           {
            "marker": {
             "colorbar": {
              "outlinewidth": 0,
              "ticks": ""
             }
            },
            "type": "scatterternary"
           }
          ],
          "surface": [
           {
            "colorbar": {
             "outlinewidth": 0,
             "ticks": ""
            },
            "colorscale": [
             [
              0,
              "#0d0887"
             ],
             [
              0.1111111111111111,
              "#46039f"
             ],
             [
              0.2222222222222222,
              "#7201a8"
             ],
             [
              0.3333333333333333,
              "#9c179e"
             ],
             [
              0.4444444444444444,
              "#bd3786"
             ],
             [
              0.5555555555555556,
              "#d8576b"
             ],
             [
              0.6666666666666666,
              "#ed7953"
             ],
             [
              0.7777777777777778,
              "#fb9f3a"
             ],
             [
              0.8888888888888888,
              "#fdca26"
             ],
             [
              1,
              "#f0f921"
             ]
            ],
            "type": "surface"
           }
          ],
          "table": [
           {
            "cells": {
             "fill": {
              "color": "#EBF0F8"
             },
             "line": {
              "color": "white"
             }
            },
            "header": {
             "fill": {
              "color": "#C8D4E3"
             },
             "line": {
              "color": "white"
             }
            },
            "type": "table"
           }
          ]
         },
         "layout": {
          "annotationdefaults": {
           "arrowcolor": "#2a3f5f",
           "arrowhead": 0,
           "arrowwidth": 1
          },
          "autotypenumbers": "strict",
          "coloraxis": {
           "colorbar": {
            "outlinewidth": 0,
            "ticks": ""
           }
          },
          "colorscale": {
           "diverging": [
            [
             0,
             "#8e0152"
            ],
            [
             0.1,
             "#c51b7d"
            ],
            [
             0.2,
             "#de77ae"
            ],
            [
             0.3,
             "#f1b6da"
            ],
            [
             0.4,
             "#fde0ef"
            ],
            [
             0.5,
             "#f7f7f7"
            ],
            [
             0.6,
             "#e6f5d0"
            ],
            [
             0.7,
             "#b8e186"
            ],
            [
             0.8,
             "#7fbc41"
            ],
            [
             0.9,
             "#4d9221"
            ],
            [
             1,
             "#276419"
            ]
           ],
           "sequential": [
            [
             0,
             "#0d0887"
            ],
            [
             0.1111111111111111,
             "#46039f"
            ],
            [
             0.2222222222222222,
             "#7201a8"
            ],
            [
             0.3333333333333333,
             "#9c179e"
            ],
            [
             0.4444444444444444,
             "#bd3786"
            ],
            [
             0.5555555555555556,
             "#d8576b"
            ],
            [
             0.6666666666666666,
             "#ed7953"
            ],
            [
             0.7777777777777778,
             "#fb9f3a"
            ],
            [
             0.8888888888888888,
             "#fdca26"
            ],
            [
             1,
             "#f0f921"
            ]
           ],
           "sequentialminus": [
            [
             0,
             "#0d0887"
            ],
            [
             0.1111111111111111,
             "#46039f"
            ],
            [
             0.2222222222222222,
             "#7201a8"
            ],
            [
             0.3333333333333333,
             "#9c179e"
            ],
            [
             0.4444444444444444,
             "#bd3786"
            ],
            [
             0.5555555555555556,
             "#d8576b"
            ],
            [
             0.6666666666666666,
             "#ed7953"
            ],
            [
             0.7777777777777778,
             "#fb9f3a"
            ],
            [
             0.8888888888888888,
             "#fdca26"
            ],
            [
             1,
             "#f0f921"
            ]
           ]
          },
          "colorway": [
           "#636efa",
           "#EF553B",
           "#00cc96",
           "#ab63fa",
           "#FFA15A",
           "#19d3f3",
           "#FF6692",
           "#B6E880",
           "#FF97FF",
           "#FECB52"
          ],
          "font": {
           "color": "#2a3f5f"
          },
          "geo": {
           "bgcolor": "white",
           "lakecolor": "white",
           "landcolor": "#E5ECF6",
           "showlakes": true,
           "showland": true,
           "subunitcolor": "white"
          },
          "hoverlabel": {
           "align": "left"
          },
          "hovermode": "closest",
          "mapbox": {
           "style": "light"
          },
          "paper_bgcolor": "white",
          "plot_bgcolor": "#E5ECF6",
          "polar": {
           "angularaxis": {
            "gridcolor": "white",
            "linecolor": "white",
            "ticks": ""
           },
           "bgcolor": "#E5ECF6",
           "radialaxis": {
            "gridcolor": "white",
            "linecolor": "white",
            "ticks": ""
           }
          },
          "scene": {
           "xaxis": {
            "backgroundcolor": "#E5ECF6",
            "gridcolor": "white",
            "gridwidth": 2,
            "linecolor": "white",
            "showbackground": true,
            "ticks": "",
            "zerolinecolor": "white"
           },
           "yaxis": {
            "backgroundcolor": "#E5ECF6",
            "gridcolor": "white",
            "gridwidth": 2,
            "linecolor": "white",
            "showbackground": true,
            "ticks": "",
            "zerolinecolor": "white"
           },
           "zaxis": {
            "backgroundcolor": "#E5ECF6",
            "gridcolor": "white",
            "gridwidth": 2,
            "linecolor": "white",
            "showbackground": true,
            "ticks": "",
            "zerolinecolor": "white"
           }
          },
          "shapedefaults": {
           "line": {
            "color": "#2a3f5f"
           }
          },
          "ternary": {
           "aaxis": {
            "gridcolor": "white",
            "linecolor": "white",
            "ticks": ""
           },
           "baxis": {
            "gridcolor": "white",
            "linecolor": "white",
            "ticks": ""
           },
           "bgcolor": "#E5ECF6",
           "caxis": {
            "gridcolor": "white",
            "linecolor": "white",
            "ticks": ""
           }
          },
          "title": {
           "x": 0.05
          },
          "xaxis": {
           "automargin": true,
           "gridcolor": "white",
           "linecolor": "white",
           "ticks": "",
           "title": {
            "standoff": 15
           },
           "zerolinecolor": "white",
           "zerolinewidth": 2
          },
          "yaxis": {
           "automargin": true,
           "gridcolor": "white",
           "linecolor": "white",
           "ticks": "",
           "title": {
            "standoff": 15
           },
           "zerolinecolor": "white",
           "zerolinewidth": 2
          }
         }
        },
        "title": {
         "text": "<b>Boxplot & Swarm of IMDb Ratings: ratings are normal, skewed somewhat left<b>"
        },
        "xaxis": {
         "anchor": "y",
         "domain": [
          0,
          1
         ],
         "title": {
          "text": "imDbRating"
         }
        },
        "yaxis": {
         "anchor": "x",
         "domain": [
          0,
          1
         ]
        }
       }
      }
     },
     "metadata": {},
     "output_type": "display_data"
    }
   ],
   "source": [
    "px.box(metascripts, \n",
    "       x = 'imDbRating', \n",
    "       hover_data = ['title'], \n",
    "       color_discrete_sequence=['saddlebrown'], \n",
    "       points = 'all',\n",
    "       title = \"<b>Boxplot & Swarm of IMDb Ratings: ratings are normal, skewed somewhat left<b>\")"
   ]
  },
  {
   "cell_type": "code",
   "execution_count": 238,
   "metadata": {},
   "outputs": [
    {
     "data": {
      "application/vnd.plotly.v1+json": {
       "config": {
        "plotlyServerURL": "https://plotly.com"
       },
       "data": [
        {
         "alignmentgroup": "True",
         "boxpoints": "all",
         "customdata": [
          [
           "Jim Gaffigan: Comedy Monster"
          ],
          [
           "Sorry"
          ],
          [
           "Drew Michael: Drew Michael"
          ],
          [
           "Drew Michael: Red Blue Green"
          ],
          [
           "Mo Amer: Mohammed in Texas"
          ],
          [
           "Dave Chappelle: The Closer"
          ],
          [
           "Kathleen Madigan: Bothering Jesus"
          ],
          [
           "Kathleen Madigan: Madigan Again"
          ],
          [
           "Phil Wang: Philly Philly Wang Wang"
          ],
          [
           "Tom Papa: You're Doing Great!"
          ],
          [
           "Tom Papa: Human Mule"
          ],
          [
           "Tom Papa: Freaked Out"
          ],
          [
           "Inside"
          ],
          [
           "Tig Notaro: Boyish Girl Interrupted"
          ],
          [
           "Joe List: I Hate Myself"
          ],
          [
           "Nate Bargatze: The Greatest Average American"
          ],
          [
           "Brian Regan: On the Rocks"
          ],
          [
           "Doug Stanhope: Beer Hall Putsch"
          ],
          [
           "Tamborine"
          ],
          [
           "Sarah Cooper: Everything's Fine"
          ],
          [
           "Bo Burnham: Words, Words, Words"
          ],
          [
           "Vir Das: Outside in - The Lockdown Special"
          ],
          [
           "Larry the Cable Guy: Remain Seated"
          ],
          [
           "Craig Ferguson: Just Being Honest"
          ],
          [
           "Kevin Hart: Zero F**ks Given"
          ],
          [
           "Sam Morril: I Got This"
          ],
          [
           "Ronny Chieng: Asian Comedian Destroys America"
          ],
          [
           "Craig Ferguson: A Wee Bit o' Revolution"
          ],
          [
           "Michael McIntyre: Showman"
          ],
          [
           "Rob Schneider: Asian Momma, Mexican Kids"
          ],
          [
           "Sam Jay: 3 in the Morning"
          ],
          [
           "Jack Whitehall: I'm Only Joking"
          ],
          [
           "Urzila Carlson: Overqualified Loser"
          ],
          [
           "George Lopez: We'll Do It for Half"
          ],
          [
           "Jim Jefferies: Intolerant"
          ],
          [
           "George Carlin: Doin' It Again"
          ],
          [
           "Eric Andre: Legalize Everything"
          ],
          [
           "Roy Wood Jr.: Father Figure"
          ],
          [
           "Amy Schumer Presents Mark Normand: Don't Be Yourself"
          ],
          [
           "Chris Gethard: Career Suicide"
          ],
          [
           "Ramy Youssef: Feelings"
          ],
          [
           "Kenny Sebastian: Don't Be That Guy"
          ],
          [
           "Billy Connolly: High Horse Tour Live"
          ],
          [
           "Hannah Gadsby: Douglas"
          ],
          [
           "Hasan Minhaj: Homecoming King"
          ],
          [
           "Patton Oswalt: I Love Everything"
          ],
          [
           "Russell Peters: Deported"
          ],
          [
           "Jimmy O. Yang: Good Deal"
          ],
          [
           "Jo Koy: Lights Out"
          ],
          [
           "Lee Mack: Going Out Live"
          ],
          [
           "Lee Mack: Live"
          ],
          [
           "T.J. Miller: No Real Reason"
          ],
          [
           "Jerry Seinfeld: 23 Hours to Kill"
          ],
          [
           "Sincerely Louis CK"
          ],
          [
           "Jim Norton: American Degenerate"
          ],
          [
           "Jim Norton: Monster Rain"
          ],
          [
           "Maria Bamford: Weakness Is the Brand"
          ],
          [
           "Chris D'Elia: White Male. Black Comic."
          ],
          [
           "Chris D'Elia: Man on Fire"
          ],
          [
           "Tom Segura: Ball Hog"
          ],
          [
           "Bert Kreischer: Hey Big Boy"
          ],
          [
           "Marc Maron: End Times Fun"
          ],
          [
           "Pete Davidson: SMD"
          ],
          [
           "Pete Davidson: Alive from New York"
          ],
          [
           "Amanda Seales: I Be Knowin'"
          ],
          [
           "Stewart Lee: Carpet Remnant World"
          ],
          [
           "Stewart Lee: Content Provider"
          ],
          [
           "Sara Pascoe Live: LadsLadsLads"
          ],
          [
           "Dan Soder: Son of a Gary"
          ],
          [
           "Jim Gaffigan: Quality Time"
          ],
          [
           "Kevin Bridges: A Whole Different Story"
          ],
          [
           "Kevin Bridges: The Story So Far - Live in Glasgow"
          ],
          [
           "Kevin Bridges: The Story Continues..."
          ],
          [
           "Michelle Wolf: Joke Show"
          ],
          [
           "Tiffany Haddish: Black Mitzvah"
          ],
          [
           "Mike Birbiglia: The New One"
          ],
          [
           "Iliza Shlesinger: Unveiled"
          ],
          [
           "Seth Meyers: Lobby Baby"
          ],
          [
           "Arsenio Hall: Smart and Classy"
          ],
          [
           "Nikki Glaser: Bangin'"
          ],
          [
           "Bill Burr: Paper Tiger"
          ],
          [
           "Dave Chappelle: Sticks & Stones"
          ],
          [
           "Emily Heller: Ice Thickeners"
          ],
          [
           "David Cross: Oh Come On"
          ],
          [
           "Whitney Cummings: Can I Touch It?"
          ],
          [
           "Aziz Ansari: Right Now"
          ],
          [
           "Ralphie May Filthy Animal Tour"
          ],
          [
           "Mike Epps: Only One Mike"
          ],
          [
           "Adam Devine: Best Time of Our Lives"
          ],
          [
           "Jo Koy: Live from Seattle"
          ],
          [
           "Jo Koy: Comin' in Hot"
          ],
          [
           "Wanda Sykes: Not Normal"
          ],
          [
           "Cedric the Entertainer: Live from the Ville"
          ],
          [
           "Eddie Murphy: Raw"
          ],
          [
           "Colin Quinn: The New York Story"
          ],
          [
           "Demetri Martin: Live (At the Time)"
          ],
          [
           "George Carlin: What Am I Doing in New Jersey?"
          ],
          [
           "Chelsea Peretti: One of the Greats"
          ],
          [
           "Anthony Jeselnik: Fire in the Maternity Ward"
          ],
          [
           "Roy Wood Jr.: No One Loves You"
          ],
          [
           "Robin Williams: Weapons of Self Destruction"
          ],
          [
           "Robin Williams Live on Broadway"
          ],
          [
           "Jimmy Carr: The Best of Ultimate Gold Greatest Hits"
          ],
          [
           "Nate Bargatze: The Tennessee Kid"
          ],
          [
           "W. Kamau Bell: Private School Negro"
          ],
          [
           "Kevin Hart: Irresponsible"
          ],
          [
           "Nate Bargatze: Full Time Magic"
          ],
          [
           "Amy Schumer: Growing"
          ],
          [
           "Enissa Amani: Ehrenwort"
          ],
          [
           "Ken Jeong: You Complete Me, Ho"
          ],
          [
           "Ray Romano: Right Here, Around the Corner"
          ],
          [
           "Gabriel \"Fluffy\" Iglesias: One Show Fits All"
          ],
          [
           "Sebastian Maniscalco: Stay Hungry"
          ],
          [
           "Sebastian Maniscalco: Aren't You Embarrassed?"
          ],
          [
           "Sebastian Maniscalco: What's Wrong with People?"
          ],
          [
           "Oh, Hello on Broadway"
          ],
          [
           "Ellen DeGeneres: Relatable"
          ],
          [
           "Pete Holmes: Dirty Clean"
          ],
          [
           "Vir Das: Losing It"
          ],
          [
           "Trevor Noah: Son of Patricia"
          ],
          [
           "Jeff Foxworthy & Larry the Cable Guy: We've Been Thinking"
          ],
          [
           "Adam Sandler: 100% Fresh"
          ],
          [
           "Jeff Foxworthy: Totally Committed"
          ],
          [
           "Ron White: If You Quit Listening, I'll Shut Up"
          ],
          [
           "Mo Amer: The Vagabond"
          ],
          [
           "Joe Mande's Award-Winning Comedy Special"
          ],
          [
           "Henry Rollins: Keep Talking, Pal"
          ],
          [
           "Joe Rogan: Strange Times"
          ],
          [
           "D.L. Hughley: Contrarian"
          ],
          [
           "Iliza Shlesinger: Freezing Hot"
          ],
          [
           "Iliza Shlesinger: War Paint"
          ],
          [
           "Bert Kreischer: Secret Time"
          ],
          [
           "Demetri Martin: The Overthinker"
          ],
          [
           "Bill Maher: Live from Oklahoma"
          ],
          [
           "Rowan Atkinson: Not Just a Pretty Face"
          ],
          [
           "Iliza Shlesinger: Confirmed Kills"
          ],
          [
           "Iliza: Elder Millennial"
          ],
          [
           "Jim Gaffigan: Noble Ape"
          ],
          [
           "Jim Norton: Contextually Inadequate"
          ],
          [
           "Hannah Gadsby: Nanette"
          ],
          [
           "Brad Williams: Daddy Issues"
          ],
          [
           "DeRay Davis: How to Act Black"
          ],
          [
           "Ricky Gervais: Live IV - Science"
          ],
          [
           "Jim Jefferies: This Is Me Now"
          ],
          [
           "Russell Peters: Outsourced"
          ],
          [
           "Russell Peters: Almost Famous"
          ],
          [
           "Ron White: A Little Unprofessional"
          ],
          [
           "Michael McIntyre: Hello Wembley!"
          ],
          [
           "Kevin Smith: Silent But Deadly"
          ],
          [
           "Kevin James: Never Don't Give Up"
          ],
          [
           "Brent Morin: I'm Brent Morin"
          ],
          [
           "Nikki Glaser: Perfect"
          ],
          [
           "Ali Wong: Hard Knock Wife"
          ],
          [
           "Kavin Jay: Everybody Calm Down!"
          ],
          [
           "John Mulaney: Kid Gorgeous at Radio City"
          ],
          [
           "Eddie Griffin: Undeniable"
          ],
          [
           "Greg Davies: You Magnificent Beast"
          ],
          [
           "George Carlin: You Are All Diseased"
          ],
          [
           "Marlon Wayans: Woke-ish"
          ],
          [
           "Ricky Gervais: Humanity"
          ],
          [
           "Adel Karam: Live from Beirut"
          ],
          [
           "Stewart Lee: 90s Comedian"
          ],
          [
           "Mike Birbiglia: My Girlfriend's Boyfriend"
          ],
          [
           "Dave Attell: Road Work"
          ],
          [
           "Eddie Izzard: Glorious"
          ],
          [
           "Chris Rock: Bring the Pain"
          ],
          [
           "Ari Shaffir: Double Negative"
          ],
          [
           "Tamborine"
          ],
          [
           "Fred Armisen: Standup For Drummers"
          ],
          [
           "Dana Carvey: Straight White Male, 60"
          ],
          [
           "Eddie Izzard: Stripped"
          ],
          [
           "Todd Glass: Act Happy"
          ],
          [
           "Brian Regan: Standing Up"
          ],
          [
           "Brian Regan: Nunchucks and Flamethrowers"
          ],
          [
           "Katt Williams: Great America"
          ],
          [
           "Jimmy Carr: Being Funny"
          ],
          [
           "Jimmy Carr: Laughing and Joking"
          ],
          [
           "Eddie Izzard: Unrepeatable"
          ],
          [
           "D.L. Hughley: Unapologetic"
          ],
          [
           "Bridget Everett: Gynecological Wonder"
          ],
          [
           "Chris Rock: Never Scared"
          ],
          [
           "Stewart Lee: Stand-Up Comedian"
          ],
          [
           "Jimmy Carr: Funny Business"
          ],
          [
           "Eddie Izzard: Dress to Kill"
          ],
          [
           "Chris Tucker Live"
          ],
          [
           "Kevin Hart: What Now?"
          ],
          [
           "Kevin Hart: Let Me Explain"
          ],
          [
           "Tom Segura: Disgraceful"
          ],
          [
           "Michelle Wolf: Nice Lady"
          ],
          [
           "Fahim Anwar: There's No Business Like Show Business"
          ],
          [
           "Ellen DeGeneres: The Beginning"
          ],
          [
           "Maz Jobrani: Immigrant"
          ],
          [
           "Todd Barry: Spicy Honey"
          ],
          [
           "Jerry Seinfeld: 'I'm Telling You for the Last Time'"
          ],
          [
           "Craig Ferguson: Does This Need to Be Said?"
          ],
          [
           "Dave Chappelle: The Bird Revelation"
          ],
          [
           "Dave Chappelle: The Bird Revelation"
          ],
          [
           "Dave Chappelle: Equanimity"
          ],
          [
           "Craig Ferguson: I'm Here to Help"
          ],
          [
           "Russell Howard: Recalibrate"
          ],
          [
           "Whitney Cummings: I Love You"
          ],
          [
           "Whitney Cummings: I'm Your Girlfriend"
          ],
          [
           "Sarah Millican: Chatterbox Live"
          ],
          [
           "Anjelah Johnson: Not Fancy"
          ],
          [
           "Ricky Gervais Live 2: Politics"
          ],
          [
           "Russell Howard Live: Dingledodies"
          ],
          [
           "Christina P: Mother Inferior"
          ],
          [
           "Jack Whitehall: At Large"
          ],
          [
           "Cristela Alonzo: Lower Classy"
          ],
          [
           "Judah Friedlander: America is the Greatest Country in the United States"
          ],
          [
           "Aziz Ansari Live in Madison Square Garden"
          ],
          [
           "Aziz Ansari: Buried Alive"
          ],
          [
           "Paul Mooney: A Piece of My Mind - God Bless America"
          ],
          [
           "Patton Oswalt: Annihilation"
          ],
          [
           "Chris Rock: Kill the Messenger - London, New York, Johannesburg"
          ],
          [
           "Bill Maher: Live from D.C."
          ],
          [
           "Sarah Silverman: Jesus Is Magic"
          ],
          [
           "Sarah Silverman: We Are Miracles"
          ],
          [
           "Pablo Francisco: Ouch! Live from San Jose"
          ],
          [
           "Bill Maher... But I'm Not Wrong"
          ],
          [
           "Russell Brand: Messiah Complex"
          ],
          [
           "Chris Rock: Bigger & Blacker"
          ],
          [
           "Gabriel Iglesias: Hot and Fluffy"
          ],
          [
           "Gabriel Iglesias: I'm Not Fat... I'm Fluffy"
          ],
          [
           "Gabriel Iglesias: I'm Sorry for What I Said When I Was Hungry"
          ],
          [
           "Rory Scovel Tries Stand-Up for the First Time"
          ],
          [
           "Lisa Lampanelli: Back to the Drawing Board"
          ],
          [
           "Erik Griffin: The Ugly Truth"
          ],
          [
           "Jen Kirkman: Just Keep Livin?"
          ],
          [
           "Daniel Tosh: Completely Serious"
          ],
          [
           "Al Madrigal: Why Is the Rabbit Crying?"
          ],
          [
           "Neal Brennan: 3 Mics"
          ],
          [
           "John Mulaney: New in Town"
          ],
          [
           "Donald Glover: Weirdo"
          ],
          [
           "Ali Wong: Baby Cobra"
          ],
          [
           "Norm Macdonald: Hitler's Dog, Gossip & Trickery"
          ],
          [
           "Daniel Tosh: People Pleaser"
          ],
          [
           "Marc Maron: More Later"
          ],
          [
           "Dylan Moran: Off the Hook"
          ],
          [
           "Richard Pryor: Live and Smokin'"
          ],
          [
           "Richard Pryor... Here and Now"
          ],
          [
           "Bill Burr: Why Do I Do This?"
          ],
          [
           "Amy Schumer: Mostly Sex Stuff"
          ],
          [
           "Jim Jefferies Alcoholocaust"
          ],
          [
           "Amy Schumer: Live at the Apollo"
          ],
          [
           "Kevin Hart: Seriously Funny"
          ],
          [
           "Hannibal Buress: Comedy Camisado"
          ],
          [
           "Neal Brennan: Women and Black Dudes"
          ],
          [
           "Nick Offerman: American Ham"
          ],
          [
           "Aziz Ansari: Intimate Moments for a Sensual Evening"
          ],
          [
           "Big Jay Oakerson: Live at Webster Hall"
          ],
          [
           "Doug Stanhope: No Refunds"
          ],
          [
           "George Carlin at USC"
          ],
          [
           "Jim Norton: Mouthful of Shame"
          ],
          [
           "Michael Che Matters"
          ],
          [
           "Joe Rogan: Triggered"
          ],
          [
           "Trevor Noah: Lost in Translation"
          ],
          [
           "Maria Bamford: Old Baby"
          ],
          [
           "Bo Burnham: what."
          ],
          [
           "Bo Burnham: Make Happy"
          ],
          [
           "Anthony Jeselnik: Caligula"
          ],
          [
           "Anthony Jeselnik: Thoughts and Prayers"
          ],
          [
           "John Mulaney: The Comeback Kid"
          ],
          [
           "Bill Hicks: Revelations"
          ],
          [
           "Lewis Black: Black to the Future"
          ],
          [
           "Doug Stanhope: Before Turning the Gun on Himself"
          ],
          [
           "Doug Stanhope: Deadbeat Hero"
          ],
          [
           "Jim Jefferies: Contraband"
          ],
          [
           "Mike Birbiglia: Thank God for Jokes"
          ],
          [
           "Sarah Silverman: A Speck of Dust"
          ],
          [
           "George Carlin: Playin' with Your Head"
          ],
          [
           "On Location: George Carlin at Phoenix"
          ],
          [
           "Louis C.K.: Chewed Up"
          ],
          [
           "Tom Segura: Completely Normal"
          ],
          [
           "George Carlin: Carlin on Campus"
          ],
          [
           "Louis C.K.: Live at the Beacon Theater"
          ],
          [
           "Ricky Gervais: Out of England 2 - The Stand-Up Special"
          ],
          [
           "Amy Schumer: The Leather Special"
          ],
          [
           "Jim Gaffigan: Cinco"
          ],
          [
           "Jim Jefferies: I Swear to God"
          ],
          [
           "Louis C.K.: Hilarious"
          ],
          [
           "Louis C.K.: Shameless"
          ],
          [
           "Bill Burr: I'm Sorry You Feel That Way"
          ],
          [
           "Bill Burr: You People Are All the Same."
          ],
          [
           "Dave Chappelle: For What It's Worth"
          ],
          [
           "Dave Chappelle: Killin' Them Softly"
          ],
          [
           "Eddie Griffin: You Can Tell 'Em I Said It!"
          ],
          [
           "Bill Burr: Walk Your Way Out"
          ],
          [
           "Louis C.K. Oh My God"
          ],
          [
           "Louis C.K.: Live at the Comedy Store"
          ],
          [
           "Bill Hicks: Relentless"
          ],
          [
           "Daniel Tosh: Happy Thoughts"
          ],
          [
           "Patrice O'Neal: Elephant in the Room"
          ],
          [
           "Katt Williams Live"
          ],
          [
           "Richard Pryor: Live in Concert"
          ],
          [
           "Richard Pryor: Live on the Sunset Strip"
          ],
          [
           "Trevor Noah: Afraid of the Dark"
          ],
          [
           "Jim Jefferies: BARE"
          ],
          [
           "Deep in the Heart of Texas: Dave Chappelle Live at Austin City Limits"
          ],
          [
           "Tom Segura: Mostly Stories"
          ],
          [
           "Bill Burr: Let It Go"
          ],
          [
           "George Carlin: Jammin' in New York"
          ],
          [
           "George Carlin: You Are All Diseased"
          ],
          [
           "George Carlin... It's Bad for Ya!"
          ],
          [
           "Jim Jefferies: Freedumb"
          ],
          [
           "Eddie Murphy: Delirious"
          ],
          [
           "The Age of Spin: Dave Chappelle Live at the Hollywood Palladium"
          ],
          [
           "George Carlin: Back in Town"
          ],
          [
           "Louis C.K. 2017"
          ],
          [
           "George Carlin: Jammin' in New York"
          ],
          [
           "Reggie Watts: Spatial"
          ],
          [
           "George Carlin: Complaints & Grievances"
          ],
          [
           "George Carlin: Life Is Worth Losing"
          ],
          [
           "George Carlin... It's Bad for Ya!"
          ],
          [
           "Dave Chappelle: 8:46"
          ],
          [
           "Jim Jefferies: A Joke about Gun Control"
          ]
         ],
         "hovertemplate": "imDbRatingVotes=%{x}<br>title=%{customdata[0]}<extra></extra>",
         "legendgroup": "",
         "marker": {
          "color": "saddlebrown"
         },
         "name": "",
         "notched": false,
         "offsetgroup": "",
         "orientation": "h",
         "showlegend": false,
         "type": "box",
         "x": [
          1618,
          2363,
          368,
          261,
          615,
          25270,
          539,
          367,
          576,
          843,
          187,
          235,
          45963,
          674,
          207,
          1328,
          604,
          1116,
          6918,
          1709,
          3818,
          256,
          261,
          423,
          3356,
          340,
          3126,
          498,
          1221,
          759,
          506,
          1472,
          376,
          447,
          2777,
          2354,
          2502,
          344,
          455,
          535,
          724,
          1935,
          158,
          3938,
          7196,
          1274,
          816,
          1463,
          122,
          156,
          298,
          149,
          5070,
          5473,
          496,
          477,
          142,
          361,
          1726,
          2869,
          1932,
          1911,
          641,
          4082,
          376,
          608,
          504,
          97,
          333,
          1163,
          245,
          333,
          302,
          1585,
          961,
          1827,
          1668,
          2542,
          457,
          1634,
          10689,
          25703,
          22,
          290,
          1733,
          5119,
          142,
          297,
          949,
          1342,
          1016,
          1816,
          683,
          19671,
          998,
          2181,
          1978,
          2380,
          3564,
          94,
          3328,
          6020,
          2250,
          1812,
          770,
          4456,
          271,
          3820,
          194,
          2378,
          1672,
          1797,
          1295,
          1056,
          1206,
          3106,
          4673,
          452,
          1247,
          4033,
          633,
          5148,
          379,
          835,
          828,
          500,
          284,
          4320,
          609,
          2592,
          2019,
          2318,
          1699,
          575,
          2867,
          2866,
          4036,
          1283,
          506,
          12185,
          212,
          427,
          2215,
          3984,
          1709,
          1895,
          582,
          994,
          1114,
          1457,
          691,
          343,
          4893,
          232,
          7792,
          263,
          2333,
          4253,
          1396,
          18551,
          146,
          415,
          3311,
          477,
          2529,
          3931,
          719,
          6918,
          1285,
          1491,
          775,
          367,
          752,
          679,
          960,
          1153,
          1151,
          1487,
          197,
          91,
          5342,
          493,
          4243,
          7297,
          1939,
          9458,
          9013,
          3759,
          1045,
          49,
          867,
          843,
          852,
          5837,
          691,
          9870,
          9870,
          12157,
          814,
          1602,
          496,
          719,
          215,
          686,
          3480,
          419,
          947,
          2122,
          854,
          1436,
          3251,
          3985,
          51,
          2368,
          4294,
          516,
          5569,
          1435,
          687,
          1197,
          1212,
          7076,
          3482,
          2495,
          2542,
          824,
          106,
          66,
          1289,
          3105,
          91,
          3279,
          6663,
          3563,
          6933,
          2942,
          874,
          441,
          380,
          1099,
          2342,
          4511,
          3021,
          2621,
          3402,
          5542,
          1516,
          216,
          1279,
          2415,
          320,
          1142,
          981,
          1325,
          2625,
          4507,
          646,
          949,
          11685,
          14764,
          1406,
          5188,
          8497,
          3086,
          320,
          650,
          845,
          1200,
          2476,
          3715,
          1745,
          1353,
          10591,
          2594,
          1774,
          9887,
          2285,
          9801,
          2394,
          2883,
          11978,
          8578,
          7967,
          7364,
          8595,
          9904,
          549,
          7144,
          9307,
          6476,
          2528,
          2395,
          1312,
          470,
          5209,
          4173,
          5184,
          5419,
          11430,
          3551,
          5315,
          3607,
          4253,
          5970,
          5404,
          17578,
          12385,
          3248,
          10095,
          3607,
          506,
          3554,
          4602,
          5970,
          3215,
          0
         ],
         "x0": " ",
         "xaxis": "x",
         "y0": " ",
         "yaxis": "y"
        }
       ],
       "layout": {
        "boxmode": "group",
        "legend": {
         "tracegroupgap": 0
        },
        "template": {
         "data": {
          "bar": [
           {
            "error_x": {
             "color": "#2a3f5f"
            },
            "error_y": {
             "color": "#2a3f5f"
            },
            "marker": {
             "line": {
              "color": "#E5ECF6",
              "width": 0.5
             },
             "pattern": {
              "fillmode": "overlay",
              "size": 10,
              "solidity": 0.2
             }
            },
            "type": "bar"
           }
          ],
          "barpolar": [
           {
            "marker": {
             "line": {
              "color": "#E5ECF6",
              "width": 0.5
             },
             "pattern": {
              "fillmode": "overlay",
              "size": 10,
              "solidity": 0.2
             }
            },
            "type": "barpolar"
           }
          ],
          "carpet": [
           {
            "aaxis": {
             "endlinecolor": "#2a3f5f",
             "gridcolor": "white",
             "linecolor": "white",
             "minorgridcolor": "white",
             "startlinecolor": "#2a3f5f"
            },
            "baxis": {
             "endlinecolor": "#2a3f5f",
             "gridcolor": "white",
             "linecolor": "white",
             "minorgridcolor": "white",
             "startlinecolor": "#2a3f5f"
            },
            "type": "carpet"
           }
          ],
          "choropleth": [
           {
            "colorbar": {
             "outlinewidth": 0,
             "ticks": ""
            },
            "type": "choropleth"
           }
          ],
          "contour": [
           {
            "colorbar": {
             "outlinewidth": 0,
             "ticks": ""
            },
            "colorscale": [
             [
              0,
              "#0d0887"
             ],
             [
              0.1111111111111111,
              "#46039f"
             ],
             [
              0.2222222222222222,
              "#7201a8"
             ],
             [
              0.3333333333333333,
              "#9c179e"
             ],
             [
              0.4444444444444444,
              "#bd3786"
             ],
             [
              0.5555555555555556,
              "#d8576b"
             ],
             [
              0.6666666666666666,
              "#ed7953"
             ],
             [
              0.7777777777777778,
              "#fb9f3a"
             ],
             [
              0.8888888888888888,
              "#fdca26"
             ],
             [
              1,
              "#f0f921"
             ]
            ],
            "type": "contour"
           }
          ],
          "contourcarpet": [
           {
            "colorbar": {
             "outlinewidth": 0,
             "ticks": ""
            },
            "type": "contourcarpet"
           }
          ],
          "heatmap": [
           {
            "colorbar": {
             "outlinewidth": 0,
             "ticks": ""
            },
            "colorscale": [
             [
              0,
              "#0d0887"
             ],
             [
              0.1111111111111111,
              "#46039f"
             ],
             [
              0.2222222222222222,
              "#7201a8"
             ],
             [
              0.3333333333333333,
              "#9c179e"
             ],
             [
              0.4444444444444444,
              "#bd3786"
             ],
             [
              0.5555555555555556,
              "#d8576b"
             ],
             [
              0.6666666666666666,
              "#ed7953"
             ],
             [
              0.7777777777777778,
              "#fb9f3a"
             ],
             [
              0.8888888888888888,
              "#fdca26"
             ],
             [
              1,
              "#f0f921"
             ]
            ],
            "type": "heatmap"
           }
          ],
          "heatmapgl": [
           {
            "colorbar": {
             "outlinewidth": 0,
             "ticks": ""
            },
            "colorscale": [
             [
              0,
              "#0d0887"
             ],
             [
              0.1111111111111111,
              "#46039f"
             ],
             [
              0.2222222222222222,
              "#7201a8"
             ],
             [
              0.3333333333333333,
              "#9c179e"
             ],
             [
              0.4444444444444444,
              "#bd3786"
             ],
             [
              0.5555555555555556,
              "#d8576b"
             ],
             [
              0.6666666666666666,
              "#ed7953"
             ],
             [
              0.7777777777777778,
              "#fb9f3a"
             ],
             [
              0.8888888888888888,
              "#fdca26"
             ],
             [
              1,
              "#f0f921"
             ]
            ],
            "type": "heatmapgl"
           }
          ],
          "histogram": [
           {
            "marker": {
             "pattern": {
              "fillmode": "overlay",
              "size": 10,
              "solidity": 0.2
             }
            },
            "type": "histogram"
           }
          ],
          "histogram2d": [
           {
            "colorbar": {
             "outlinewidth": 0,
             "ticks": ""
            },
            "colorscale": [
             [
              0,
              "#0d0887"
             ],
             [
              0.1111111111111111,
              "#46039f"
             ],
             [
              0.2222222222222222,
              "#7201a8"
             ],
             [
              0.3333333333333333,
              "#9c179e"
             ],
             [
              0.4444444444444444,
              "#bd3786"
             ],
             [
              0.5555555555555556,
              "#d8576b"
             ],
             [
              0.6666666666666666,
              "#ed7953"
             ],
             [
              0.7777777777777778,
              "#fb9f3a"
             ],
             [
              0.8888888888888888,
              "#fdca26"
             ],
             [
              1,
              "#f0f921"
             ]
            ],
            "type": "histogram2d"
           }
          ],
          "histogram2dcontour": [
           {
            "colorbar": {
             "outlinewidth": 0,
             "ticks": ""
            },
            "colorscale": [
             [
              0,
              "#0d0887"
             ],
             [
              0.1111111111111111,
              "#46039f"
             ],
             [
              0.2222222222222222,
              "#7201a8"
             ],
             [
              0.3333333333333333,
              "#9c179e"
             ],
             [
              0.4444444444444444,
              "#bd3786"
             ],
             [
              0.5555555555555556,
              "#d8576b"
             ],
             [
              0.6666666666666666,
              "#ed7953"
             ],
             [
              0.7777777777777778,
              "#fb9f3a"
             ],
             [
              0.8888888888888888,
              "#fdca26"
             ],
             [
              1,
              "#f0f921"
             ]
            ],
            "type": "histogram2dcontour"
           }
          ],
          "mesh3d": [
           {
            "colorbar": {
             "outlinewidth": 0,
             "ticks": ""
            },
            "type": "mesh3d"
           }
          ],
          "parcoords": [
           {
            "line": {
             "colorbar": {
              "outlinewidth": 0,
              "ticks": ""
             }
            },
            "type": "parcoords"
           }
          ],
          "pie": [
           {
            "automargin": true,
            "type": "pie"
           }
          ],
          "scatter": [
           {
            "marker": {
             "colorbar": {
              "outlinewidth": 0,
              "ticks": ""
             }
            },
            "type": "scatter"
           }
          ],
          "scatter3d": [
           {
            "line": {
             "colorbar": {
              "outlinewidth": 0,
              "ticks": ""
             }
            },
            "marker": {
             "colorbar": {
              "outlinewidth": 0,
              "ticks": ""
             }
            },
            "type": "scatter3d"
           }
          ],
          "scattercarpet": [
           {
            "marker": {
             "colorbar": {
              "outlinewidth": 0,
              "ticks": ""
             }
            },
            "type": "scattercarpet"
           }
          ],
          "scattergeo": [
           {
            "marker": {
             "colorbar": {
              "outlinewidth": 0,
              "ticks": ""
             }
            },
            "type": "scattergeo"
           }
          ],
          "scattergl": [
           {
            "marker": {
             "colorbar": {
              "outlinewidth": 0,
              "ticks": ""
             }
            },
            "type": "scattergl"
           }
          ],
          "scattermapbox": [
           {
            "marker": {
             "colorbar": {
              "outlinewidth": 0,
              "ticks": ""
             }
            },
            "type": "scattermapbox"
           }
          ],
          "scatterpolar": [
           {
            "marker": {
             "colorbar": {
              "outlinewidth": 0,
              "ticks": ""
             }
            },
            "type": "scatterpolar"
           }
          ],
          "scatterpolargl": [
           {
            "marker": {
             "colorbar": {
              "outlinewidth": 0,
              "ticks": ""
             }
            },
            "type": "scatterpolargl"
           }
          ],
          "scatterternary": [
           {
            "marker": {
             "colorbar": {
              "outlinewidth": 0,
              "ticks": ""
             }
            },
            "type": "scatterternary"
           }
          ],
          "surface": [
           {
            "colorbar": {
             "outlinewidth": 0,
             "ticks": ""
            },
            "colorscale": [
             [
              0,
              "#0d0887"
             ],
             [
              0.1111111111111111,
              "#46039f"
             ],
             [
              0.2222222222222222,
              "#7201a8"
             ],
             [
              0.3333333333333333,
              "#9c179e"
             ],
             [
              0.4444444444444444,
              "#bd3786"
             ],
             [
              0.5555555555555556,
              "#d8576b"
             ],
             [
              0.6666666666666666,
              "#ed7953"
             ],
             [
              0.7777777777777778,
              "#fb9f3a"
             ],
             [
              0.8888888888888888,
              "#fdca26"
             ],
             [
              1,
              "#f0f921"
             ]
            ],
            "type": "surface"
           }
          ],
          "table": [
           {
            "cells": {
             "fill": {
              "color": "#EBF0F8"
             },
             "line": {
              "color": "white"
             }
            },
            "header": {
             "fill": {
              "color": "#C8D4E3"
             },
             "line": {
              "color": "white"
             }
            },
            "type": "table"
           }
          ]
         },
         "layout": {
          "annotationdefaults": {
           "arrowcolor": "#2a3f5f",
           "arrowhead": 0,
           "arrowwidth": 1
          },
          "autotypenumbers": "strict",
          "coloraxis": {
           "colorbar": {
            "outlinewidth": 0,
            "ticks": ""
           }
          },
          "colorscale": {
           "diverging": [
            [
             0,
             "#8e0152"
            ],
            [
             0.1,
             "#c51b7d"
            ],
            [
             0.2,
             "#de77ae"
            ],
            [
             0.3,
             "#f1b6da"
            ],
            [
             0.4,
             "#fde0ef"
            ],
            [
             0.5,
             "#f7f7f7"
            ],
            [
             0.6,
             "#e6f5d0"
            ],
            [
             0.7,
             "#b8e186"
            ],
            [
             0.8,
             "#7fbc41"
            ],
            [
             0.9,
             "#4d9221"
            ],
            [
             1,
             "#276419"
            ]
           ],
           "sequential": [
            [
             0,
             "#0d0887"
            ],
            [
             0.1111111111111111,
             "#46039f"
            ],
            [
             0.2222222222222222,
             "#7201a8"
            ],
            [
             0.3333333333333333,
             "#9c179e"
            ],
            [
             0.4444444444444444,
             "#bd3786"
            ],
            [
             0.5555555555555556,
             "#d8576b"
            ],
            [
             0.6666666666666666,
             "#ed7953"
            ],
            [
             0.7777777777777778,
             "#fb9f3a"
            ],
            [
             0.8888888888888888,
             "#fdca26"
            ],
            [
             1,
             "#f0f921"
            ]
           ],
           "sequentialminus": [
            [
             0,
             "#0d0887"
            ],
            [
             0.1111111111111111,
             "#46039f"
            ],
            [
             0.2222222222222222,
             "#7201a8"
            ],
            [
             0.3333333333333333,
             "#9c179e"
            ],
            [
             0.4444444444444444,
             "#bd3786"
            ],
            [
             0.5555555555555556,
             "#d8576b"
            ],
            [
             0.6666666666666666,
             "#ed7953"
            ],
            [
             0.7777777777777778,
             "#fb9f3a"
            ],
            [
             0.8888888888888888,
             "#fdca26"
            ],
            [
             1,
             "#f0f921"
            ]
           ]
          },
          "colorway": [
           "#636efa",
           "#EF553B",
           "#00cc96",
           "#ab63fa",
           "#FFA15A",
           "#19d3f3",
           "#FF6692",
           "#B6E880",
           "#FF97FF",
           "#FECB52"
          ],
          "font": {
           "color": "#2a3f5f"
          },
          "geo": {
           "bgcolor": "white",
           "lakecolor": "white",
           "landcolor": "#E5ECF6",
           "showlakes": true,
           "showland": true,
           "subunitcolor": "white"
          },
          "hoverlabel": {
           "align": "left"
          },
          "hovermode": "closest",
          "mapbox": {
           "style": "light"
          },
          "paper_bgcolor": "white",
          "plot_bgcolor": "#E5ECF6",
          "polar": {
           "angularaxis": {
            "gridcolor": "white",
            "linecolor": "white",
            "ticks": ""
           },
           "bgcolor": "#E5ECF6",
           "radialaxis": {
            "gridcolor": "white",
            "linecolor": "white",
            "ticks": ""
           }
          },
          "scene": {
           "xaxis": {
            "backgroundcolor": "#E5ECF6",
            "gridcolor": "white",
            "gridwidth": 2,
            "linecolor": "white",
            "showbackground": true,
            "ticks": "",
            "zerolinecolor": "white"
           },
           "yaxis": {
            "backgroundcolor": "#E5ECF6",
            "gridcolor": "white",
            "gridwidth": 2,
            "linecolor": "white",
            "showbackground": true,
            "ticks": "",
            "zerolinecolor": "white"
           },
           "zaxis": {
            "backgroundcolor": "#E5ECF6",
            "gridcolor": "white",
            "gridwidth": 2,
            "linecolor": "white",
            "showbackground": true,
            "ticks": "",
            "zerolinecolor": "white"
           }
          },
          "shapedefaults": {
           "line": {
            "color": "#2a3f5f"
           }
          },
          "ternary": {
           "aaxis": {
            "gridcolor": "white",
            "linecolor": "white",
            "ticks": ""
           },
           "baxis": {
            "gridcolor": "white",
            "linecolor": "white",
            "ticks": ""
           },
           "bgcolor": "#E5ECF6",
           "caxis": {
            "gridcolor": "white",
            "linecolor": "white",
            "ticks": ""
           }
          },
          "title": {
           "x": 0.05
          },
          "xaxis": {
           "automargin": true,
           "gridcolor": "white",
           "linecolor": "white",
           "ticks": "",
           "title": {
            "standoff": 15
           },
           "zerolinecolor": "white",
           "zerolinewidth": 2
          },
          "yaxis": {
           "automargin": true,
           "gridcolor": "white",
           "linecolor": "white",
           "ticks": "",
           "title": {
            "standoff": 15
           },
           "zerolinecolor": "white",
           "zerolinewidth": 2
          }
         }
        },
        "title": {
         "text": "<b>Boxplot & Swarm of IMDb Rating Counts: the distribution is heavily right-skewed"
        },
        "xaxis": {
         "anchor": "y",
         "domain": [
          0,
          1
         ],
         "title": {
          "text": "imDbRatingVotes"
         }
        },
        "yaxis": {
         "anchor": "x",
         "domain": [
          0,
          1
         ]
        }
       }
      }
     },
     "metadata": {},
     "output_type": "display_data"
    }
   ],
   "source": [
    "px.box(metascripts, \n",
    "       x = 'imDbRatingVotes', \n",
    "       hover_data = ['title'], \n",
    "       color_discrete_sequence=['saddlebrown'], \n",
    "       points = 'all',\n",
    "       title= \"<b>Boxplot & Swarm of IMDb Rating Counts: the distribution is heavily right-skewed\")"
   ]
  },
  {
   "cell_type": "code",
   "execution_count": 239,
   "metadata": {},
   "outputs": [
    {
     "data": {
      "application/vnd.plotly.v1+json": {
       "config": {
        "plotlyServerURL": "https://plotly.com"
       },
       "data": [
        {
         "customdata": [
          [
           "Jim Gaffigan: Comedy Monster"
          ],
          [
           "Sorry"
          ],
          [
           "Drew Michael: Drew Michael"
          ],
          [
           "Drew Michael: Red Blue Green"
          ],
          [
           "Mo Amer: Mohammed in Texas"
          ],
          [
           "Dave Chappelle: The Closer"
          ],
          [
           "Kathleen Madigan: Bothering Jesus"
          ],
          [
           "Kathleen Madigan: Madigan Again"
          ],
          [
           "Phil Wang: Philly Philly Wang Wang"
          ],
          [
           "Tom Papa: You're Doing Great!"
          ],
          [
           "Tom Papa: Human Mule"
          ],
          [
           "Tom Papa: Freaked Out"
          ],
          [
           "Inside"
          ],
          [
           "Tig Notaro: Boyish Girl Interrupted"
          ],
          [
           "Joe List: I Hate Myself"
          ],
          [
           "Nate Bargatze: The Greatest Average American"
          ],
          [
           "Brian Regan: On the Rocks"
          ],
          [
           "Doug Stanhope: Beer Hall Putsch"
          ],
          [
           "Tamborine"
          ],
          [
           "Sarah Cooper: Everything's Fine"
          ],
          [
           "Bo Burnham: Words, Words, Words"
          ],
          [
           "Vir Das: Outside in - The Lockdown Special"
          ],
          [
           "Larry the Cable Guy: Remain Seated"
          ],
          [
           "Craig Ferguson: Just Being Honest"
          ],
          [
           "Kevin Hart: Zero F**ks Given"
          ],
          [
           "Sam Morril: I Got This"
          ],
          [
           "Ronny Chieng: Asian Comedian Destroys America"
          ],
          [
           "Craig Ferguson: A Wee Bit o' Revolution"
          ],
          [
           "Michael McIntyre: Showman"
          ],
          [
           "Rob Schneider: Asian Momma, Mexican Kids"
          ],
          [
           "Sam Jay: 3 in the Morning"
          ],
          [
           "Jack Whitehall: I'm Only Joking"
          ],
          [
           "Urzila Carlson: Overqualified Loser"
          ],
          [
           "George Lopez: We'll Do It for Half"
          ],
          [
           "Jim Jefferies: Intolerant"
          ],
          [
           "George Carlin: Doin' It Again"
          ],
          [
           "Eric Andre: Legalize Everything"
          ],
          [
           "Roy Wood Jr.: Father Figure"
          ],
          [
           "Amy Schumer Presents Mark Normand: Don't Be Yourself"
          ],
          [
           "Chris Gethard: Career Suicide"
          ],
          [
           "Ramy Youssef: Feelings"
          ],
          [
           "Kenny Sebastian: Don't Be That Guy"
          ],
          [
           "Billy Connolly: High Horse Tour Live"
          ],
          [
           "Hannah Gadsby: Douglas"
          ],
          [
           "Hasan Minhaj: Homecoming King"
          ],
          [
           "Patton Oswalt: I Love Everything"
          ],
          [
           "Russell Peters: Deported"
          ],
          [
           "Jimmy O. Yang: Good Deal"
          ],
          [
           "Jo Koy: Lights Out"
          ],
          [
           "Lee Mack: Going Out Live"
          ],
          [
           "Lee Mack: Live"
          ],
          [
           "T.J. Miller: No Real Reason"
          ],
          [
           "Jerry Seinfeld: 23 Hours to Kill"
          ],
          [
           "Sincerely Louis CK"
          ],
          [
           "Jim Norton: American Degenerate"
          ],
          [
           "Jim Norton: Monster Rain"
          ],
          [
           "Maria Bamford: Weakness Is the Brand"
          ],
          [
           "Chris D'Elia: White Male. Black Comic."
          ],
          [
           "Chris D'Elia: Man on Fire"
          ],
          [
           "Tom Segura: Ball Hog"
          ],
          [
           "Bert Kreischer: Hey Big Boy"
          ],
          [
           "Marc Maron: End Times Fun"
          ],
          [
           "Pete Davidson: SMD"
          ],
          [
           "Pete Davidson: Alive from New York"
          ],
          [
           "Amanda Seales: I Be Knowin'"
          ],
          [
           "Stewart Lee: Carpet Remnant World"
          ],
          [
           "Stewart Lee: Content Provider"
          ],
          [
           "Sara Pascoe Live: LadsLadsLads"
          ],
          [
           "Dan Soder: Son of a Gary"
          ],
          [
           "Jim Gaffigan: Quality Time"
          ],
          [
           "Kevin Bridges: A Whole Different Story"
          ],
          [
           "Kevin Bridges: The Story So Far - Live in Glasgow"
          ],
          [
           "Kevin Bridges: The Story Continues..."
          ],
          [
           "Michelle Wolf: Joke Show"
          ],
          [
           "Tiffany Haddish: Black Mitzvah"
          ],
          [
           "Mike Birbiglia: The New One"
          ],
          [
           "Iliza Shlesinger: Unveiled"
          ],
          [
           "Seth Meyers: Lobby Baby"
          ],
          [
           "Arsenio Hall: Smart and Classy"
          ],
          [
           "Nikki Glaser: Bangin'"
          ],
          [
           "Bill Burr: Paper Tiger"
          ],
          [
           "Dave Chappelle: Sticks & Stones"
          ],
          [
           "Emily Heller: Ice Thickeners"
          ],
          [
           "David Cross: Oh Come On"
          ],
          [
           "Whitney Cummings: Can I Touch It?"
          ],
          [
           "Aziz Ansari: Right Now"
          ],
          [
           "Ralphie May Filthy Animal Tour"
          ],
          [
           "Mike Epps: Only One Mike"
          ],
          [
           "Adam Devine: Best Time of Our Lives"
          ],
          [
           "Jo Koy: Live from Seattle"
          ],
          [
           "Jo Koy: Comin' in Hot"
          ],
          [
           "Wanda Sykes: Not Normal"
          ],
          [
           "Cedric the Entertainer: Live from the Ville"
          ],
          [
           "Eddie Murphy: Raw"
          ],
          [
           "Colin Quinn: The New York Story"
          ],
          [
           "Demetri Martin: Live (At the Time)"
          ],
          [
           "George Carlin: What Am I Doing in New Jersey?"
          ],
          [
           "Chelsea Peretti: One of the Greats"
          ],
          [
           "Anthony Jeselnik: Fire in the Maternity Ward"
          ],
          [
           "Roy Wood Jr.: No One Loves You"
          ],
          [
           "Robin Williams: Weapons of Self Destruction"
          ],
          [
           "Robin Williams Live on Broadway"
          ],
          [
           "Jimmy Carr: The Best of Ultimate Gold Greatest Hits"
          ],
          [
           "Nate Bargatze: The Tennessee Kid"
          ],
          [
           "W. Kamau Bell: Private School Negro"
          ],
          [
           "Kevin Hart: Irresponsible"
          ],
          [
           "Nate Bargatze: Full Time Magic"
          ],
          [
           "Amy Schumer: Growing"
          ],
          [
           "Enissa Amani: Ehrenwort"
          ],
          [
           "Ken Jeong: You Complete Me, Ho"
          ],
          [
           "Ray Romano: Right Here, Around the Corner"
          ],
          [
           "Gabriel \"Fluffy\" Iglesias: One Show Fits All"
          ],
          [
           "Sebastian Maniscalco: Stay Hungry"
          ],
          [
           "Sebastian Maniscalco: Aren't You Embarrassed?"
          ],
          [
           "Sebastian Maniscalco: What's Wrong with People?"
          ],
          [
           "Oh, Hello on Broadway"
          ],
          [
           "Ellen DeGeneres: Relatable"
          ],
          [
           "Pete Holmes: Dirty Clean"
          ],
          [
           "Vir Das: Losing It"
          ],
          [
           "Trevor Noah: Son of Patricia"
          ],
          [
           "Jeff Foxworthy & Larry the Cable Guy: We've Been Thinking"
          ],
          [
           "Adam Sandler: 100% Fresh"
          ],
          [
           "Jeff Foxworthy: Totally Committed"
          ],
          [
           "Ron White: If You Quit Listening, I'll Shut Up"
          ],
          [
           "Mo Amer: The Vagabond"
          ],
          [
           "Joe Mande's Award-Winning Comedy Special"
          ],
          [
           "Henry Rollins: Keep Talking, Pal"
          ],
          [
           "Joe Rogan: Strange Times"
          ],
          [
           "D.L. Hughley: Contrarian"
          ],
          [
           "Iliza Shlesinger: Freezing Hot"
          ],
          [
           "Iliza Shlesinger: War Paint"
          ],
          [
           "Bert Kreischer: Secret Time"
          ],
          [
           "Demetri Martin: The Overthinker"
          ],
          [
           "Bill Maher: Live from Oklahoma"
          ],
          [
           "Rowan Atkinson: Not Just a Pretty Face"
          ],
          [
           "Iliza Shlesinger: Confirmed Kills"
          ],
          [
           "Iliza: Elder Millennial"
          ],
          [
           "Jim Gaffigan: Noble Ape"
          ],
          [
           "Jim Norton: Contextually Inadequate"
          ],
          [
           "Hannah Gadsby: Nanette"
          ],
          [
           "Brad Williams: Daddy Issues"
          ],
          [
           "DeRay Davis: How to Act Black"
          ],
          [
           "Ricky Gervais: Live IV - Science"
          ],
          [
           "Jim Jefferies: This Is Me Now"
          ],
          [
           "Russell Peters: Outsourced"
          ],
          [
           "Russell Peters: Almost Famous"
          ],
          [
           "Ron White: A Little Unprofessional"
          ],
          [
           "Michael McIntyre: Hello Wembley!"
          ],
          [
           "Kevin Smith: Silent But Deadly"
          ],
          [
           "Kevin James: Never Don't Give Up"
          ],
          [
           "Brent Morin: I'm Brent Morin"
          ],
          [
           "Nikki Glaser: Perfect"
          ],
          [
           "Ali Wong: Hard Knock Wife"
          ],
          [
           "Kavin Jay: Everybody Calm Down!"
          ],
          [
           "John Mulaney: Kid Gorgeous at Radio City"
          ],
          [
           "Eddie Griffin: Undeniable"
          ],
          [
           "Greg Davies: You Magnificent Beast"
          ],
          [
           "George Carlin: You Are All Diseased"
          ],
          [
           "Marlon Wayans: Woke-ish"
          ],
          [
           "Ricky Gervais: Humanity"
          ],
          [
           "Adel Karam: Live from Beirut"
          ],
          [
           "Stewart Lee: 90s Comedian"
          ],
          [
           "Mike Birbiglia: My Girlfriend's Boyfriend"
          ],
          [
           "Dave Attell: Road Work"
          ],
          [
           "Eddie Izzard: Glorious"
          ],
          [
           "Chris Rock: Bring the Pain"
          ],
          [
           "Ari Shaffir: Double Negative"
          ],
          [
           "Tamborine"
          ],
          [
           "Fred Armisen: Standup For Drummers"
          ],
          [
           "Dana Carvey: Straight White Male, 60"
          ],
          [
           "Eddie Izzard: Stripped"
          ],
          [
           "Todd Glass: Act Happy"
          ],
          [
           "Brian Regan: Standing Up"
          ],
          [
           "Brian Regan: Nunchucks and Flamethrowers"
          ],
          [
           "Katt Williams: Great America"
          ],
          [
           "Jimmy Carr: Being Funny"
          ],
          [
           "Jimmy Carr: Laughing and Joking"
          ],
          [
           "Eddie Izzard: Unrepeatable"
          ],
          [
           "D.L. Hughley: Unapologetic"
          ],
          [
           "Bridget Everett: Gynecological Wonder"
          ],
          [
           "Chris Rock: Never Scared"
          ],
          [
           "Stewart Lee: Stand-Up Comedian"
          ],
          [
           "Jimmy Carr: Funny Business"
          ],
          [
           "Eddie Izzard: Dress to Kill"
          ],
          [
           "Chris Tucker Live"
          ],
          [
           "Kevin Hart: What Now?"
          ],
          [
           "Kevin Hart: Let Me Explain"
          ],
          [
           "Tom Segura: Disgraceful"
          ],
          [
           "Michelle Wolf: Nice Lady"
          ],
          [
           "Fahim Anwar: There's No Business Like Show Business"
          ],
          [
           "Ellen DeGeneres: The Beginning"
          ],
          [
           "Maz Jobrani: Immigrant"
          ],
          [
           "Todd Barry: Spicy Honey"
          ],
          [
           "Jerry Seinfeld: 'I'm Telling You for the Last Time'"
          ],
          [
           "Craig Ferguson: Does This Need to Be Said?"
          ],
          [
           "Dave Chappelle: The Bird Revelation"
          ],
          [
           "Dave Chappelle: The Bird Revelation"
          ],
          [
           "Dave Chappelle: Equanimity"
          ],
          [
           "Craig Ferguson: I'm Here to Help"
          ],
          [
           "Russell Howard: Recalibrate"
          ],
          [
           "Whitney Cummings: I Love You"
          ],
          [
           "Whitney Cummings: I'm Your Girlfriend"
          ],
          [
           "Sarah Millican: Chatterbox Live"
          ],
          [
           "Anjelah Johnson: Not Fancy"
          ],
          [
           "Ricky Gervais Live 2: Politics"
          ],
          [
           "Russell Howard Live: Dingledodies"
          ],
          [
           "Christina P: Mother Inferior"
          ],
          [
           "Jack Whitehall: At Large"
          ],
          [
           "Cristela Alonzo: Lower Classy"
          ],
          [
           "Judah Friedlander: America is the Greatest Country in the United States"
          ],
          [
           "Aziz Ansari Live in Madison Square Garden"
          ],
          [
           "Aziz Ansari: Buried Alive"
          ],
          [
           "Paul Mooney: A Piece of My Mind - God Bless America"
          ],
          [
           "Patton Oswalt: Annihilation"
          ],
          [
           "Chris Rock: Kill the Messenger - London, New York, Johannesburg"
          ],
          [
           "Bill Maher: Live from D.C."
          ],
          [
           "Sarah Silverman: Jesus Is Magic"
          ],
          [
           "Sarah Silverman: We Are Miracles"
          ],
          [
           "Pablo Francisco: Ouch! Live from San Jose"
          ],
          [
           "Bill Maher... But I'm Not Wrong"
          ],
          [
           "Russell Brand: Messiah Complex"
          ],
          [
           "Chris Rock: Bigger & Blacker"
          ],
          [
           "Gabriel Iglesias: Hot and Fluffy"
          ],
          [
           "Gabriel Iglesias: I'm Not Fat... I'm Fluffy"
          ],
          [
           "Gabriel Iglesias: I'm Sorry for What I Said When I Was Hungry"
          ],
          [
           "Rory Scovel Tries Stand-Up for the First Time"
          ],
          [
           "Lisa Lampanelli: Back to the Drawing Board"
          ],
          [
           "Erik Griffin: The Ugly Truth"
          ],
          [
           "Jen Kirkman: Just Keep Livin?"
          ],
          [
           "Daniel Tosh: Completely Serious"
          ],
          [
           "Al Madrigal: Why Is the Rabbit Crying?"
          ],
          [
           "Neal Brennan: 3 Mics"
          ],
          [
           "John Mulaney: New in Town"
          ],
          [
           "Donald Glover: Weirdo"
          ],
          [
           "Ali Wong: Baby Cobra"
          ],
          [
           "Norm Macdonald: Hitler's Dog, Gossip & Trickery"
          ],
          [
           "Daniel Tosh: People Pleaser"
          ],
          [
           "Marc Maron: More Later"
          ],
          [
           "Dylan Moran: Off the Hook"
          ],
          [
           "Richard Pryor: Live and Smokin'"
          ],
          [
           "Richard Pryor... Here and Now"
          ],
          [
           "Bill Burr: Why Do I Do This?"
          ],
          [
           "Amy Schumer: Mostly Sex Stuff"
          ],
          [
           "Jim Jefferies Alcoholocaust"
          ],
          [
           "Amy Schumer: Live at the Apollo"
          ],
          [
           "Kevin Hart: Seriously Funny"
          ],
          [
           "Hannibal Buress: Comedy Camisado"
          ],
          [
           "Neal Brennan: Women and Black Dudes"
          ],
          [
           "Nick Offerman: American Ham"
          ],
          [
           "Aziz Ansari: Intimate Moments for a Sensual Evening"
          ],
          [
           "Big Jay Oakerson: Live at Webster Hall"
          ],
          [
           "Doug Stanhope: No Refunds"
          ],
          [
           "George Carlin at USC"
          ],
          [
           "Jim Norton: Mouthful of Shame"
          ],
          [
           "Michael Che Matters"
          ],
          [
           "Joe Rogan: Triggered"
          ],
          [
           "Trevor Noah: Lost in Translation"
          ],
          [
           "Maria Bamford: Old Baby"
          ],
          [
           "Bo Burnham: what."
          ],
          [
           "Bo Burnham: Make Happy"
          ],
          [
           "Anthony Jeselnik: Caligula"
          ],
          [
           "Anthony Jeselnik: Thoughts and Prayers"
          ],
          [
           "John Mulaney: The Comeback Kid"
          ],
          [
           "Bill Hicks: Revelations"
          ],
          [
           "Lewis Black: Black to the Future"
          ],
          [
           "Doug Stanhope: Before Turning the Gun on Himself"
          ],
          [
           "Doug Stanhope: Deadbeat Hero"
          ],
          [
           "Jim Jefferies: Contraband"
          ],
          [
           "Mike Birbiglia: Thank God for Jokes"
          ],
          [
           "Sarah Silverman: A Speck of Dust"
          ],
          [
           "George Carlin: Playin' with Your Head"
          ],
          [
           "On Location: George Carlin at Phoenix"
          ],
          [
           "Louis C.K.: Chewed Up"
          ],
          [
           "Tom Segura: Completely Normal"
          ],
          [
           "George Carlin: Carlin on Campus"
          ],
          [
           "Louis C.K.: Live at the Beacon Theater"
          ],
          [
           "Ricky Gervais: Out of England 2 - The Stand-Up Special"
          ],
          [
           "Amy Schumer: The Leather Special"
          ],
          [
           "Jim Gaffigan: Cinco"
          ],
          [
           "Jim Jefferies: I Swear to God"
          ],
          [
           "Louis C.K.: Hilarious"
          ],
          [
           "Louis C.K.: Shameless"
          ],
          [
           "Bill Burr: I'm Sorry You Feel That Way"
          ],
          [
           "Bill Burr: You People Are All the Same."
          ],
          [
           "Dave Chappelle: For What It's Worth"
          ],
          [
           "Dave Chappelle: Killin' Them Softly"
          ],
          [
           "Eddie Griffin: You Can Tell 'Em I Said It!"
          ],
          [
           "Bill Burr: Walk Your Way Out"
          ],
          [
           "Louis C.K. Oh My God"
          ],
          [
           "Louis C.K.: Live at the Comedy Store"
          ],
          [
           "Bill Hicks: Relentless"
          ],
          [
           "Daniel Tosh: Happy Thoughts"
          ],
          [
           "Patrice O'Neal: Elephant in the Room"
          ],
          [
           "Katt Williams Live"
          ],
          [
           "Richard Pryor: Live in Concert"
          ],
          [
           "Richard Pryor: Live on the Sunset Strip"
          ],
          [
           "Trevor Noah: Afraid of the Dark"
          ],
          [
           "Jim Jefferies: BARE"
          ],
          [
           "Deep in the Heart of Texas: Dave Chappelle Live at Austin City Limits"
          ],
          [
           "Tom Segura: Mostly Stories"
          ],
          [
           "Bill Burr: Let It Go"
          ],
          [
           "George Carlin: Jammin' in New York"
          ],
          [
           "George Carlin: You Are All Diseased"
          ],
          [
           "George Carlin... It's Bad for Ya!"
          ],
          [
           "Jim Jefferies: Freedumb"
          ],
          [
           "Eddie Murphy: Delirious"
          ],
          [
           "The Age of Spin: Dave Chappelle Live at the Hollywood Palladium"
          ],
          [
           "George Carlin: Back in Town"
          ],
          [
           "Louis C.K. 2017"
          ],
          [
           "George Carlin: Jammin' in New York"
          ],
          [
           "Reggie Watts: Spatial"
          ],
          [
           "George Carlin: Complaints & Grievances"
          ],
          [
           "George Carlin: Life Is Worth Losing"
          ],
          [
           "George Carlin... It's Bad for Ya!"
          ],
          [
           "Dave Chappelle: 8:46"
          ],
          [
           "Jim Jefferies: A Joke about Gun Control"
          ]
         ],
         "hovertemplate": "imDbRatingVotes=%{x}<br>imDbRating=%{y}<br>title=%{customdata[0]}<extra></extra>",
         "legendgroup": "",
         "marker": {
          "color": "saddlebrown",
          "symbol": "circle"
         },
         "mode": "markers",
         "name": "",
         "orientation": "v",
         "showlegend": false,
         "type": "scatter",
         "x": [
          1618,
          2363,
          368,
          261,
          615,
          25270,
          539,
          367,
          576,
          843,
          187,
          235,
          45963,
          674,
          207,
          1328,
          604,
          1116,
          6918,
          1709,
          3818,
          256,
          261,
          423,
          3356,
          340,
          3126,
          498,
          1221,
          759,
          506,
          1472,
          376,
          447,
          2777,
          2354,
          2502,
          344,
          455,
          535,
          724,
          1935,
          158,
          3938,
          7196,
          1274,
          816,
          1463,
          122,
          156,
          298,
          149,
          5070,
          5473,
          496,
          477,
          142,
          361,
          1726,
          2869,
          1932,
          1911,
          641,
          4082,
          376,
          608,
          504,
          97,
          333,
          1163,
          245,
          333,
          302,
          1585,
          961,
          1827,
          1668,
          2542,
          457,
          1634,
          10689,
          25703,
          22,
          290,
          1733,
          5119,
          142,
          297,
          949,
          1342,
          1016,
          1816,
          683,
          19671,
          998,
          2181,
          1978,
          2380,
          3564,
          94,
          3328,
          6020,
          2250,
          1812,
          770,
          4456,
          271,
          3820,
          194,
          2378,
          1672,
          1797,
          1295,
          1056,
          1206,
          3106,
          4673,
          452,
          1247,
          4033,
          633,
          5148,
          379,
          835,
          828,
          500,
          284,
          4320,
          609,
          2592,
          2019,
          2318,
          1699,
          575,
          2867,
          2866,
          4036,
          1283,
          506,
          12185,
          212,
          427,
          2215,
          3984,
          1709,
          1895,
          582,
          994,
          1114,
          1457,
          691,
          343,
          4893,
          232,
          7792,
          263,
          2333,
          4253,
          1396,
          18551,
          146,
          415,
          3311,
          477,
          2529,
          3931,
          719,
          6918,
          1285,
          1491,
          775,
          367,
          752,
          679,
          960,
          1153,
          1151,
          1487,
          197,
          91,
          5342,
          493,
          4243,
          7297,
          1939,
          9458,
          9013,
          3759,
          1045,
          49,
          867,
          843,
          852,
          5837,
          691,
          9870,
          9870,
          12157,
          814,
          1602,
          496,
          719,
          215,
          686,
          3480,
          419,
          947,
          2122,
          854,
          1436,
          3251,
          3985,
          51,
          2368,
          4294,
          516,
          5569,
          1435,
          687,
          1197,
          1212,
          7076,
          3482,
          2495,
          2542,
          824,
          106,
          66,
          1289,
          3105,
          91,
          3279,
          6663,
          3563,
          6933,
          2942,
          874,
          441,
          380,
          1099,
          2342,
          4511,
          3021,
          2621,
          3402,
          5542,
          1516,
          216,
          1279,
          2415,
          320,
          1142,
          981,
          1325,
          2625,
          4507,
          646,
          949,
          11685,
          14764,
          1406,
          5188,
          8497,
          3086,
          320,
          650,
          845,
          1200,
          2476,
          3715,
          1745,
          1353,
          10591,
          2594,
          1774,
          9887,
          2285,
          9801,
          2394,
          2883,
          11978,
          8578,
          7967,
          7364,
          8595,
          9904,
          549,
          7144,
          9307,
          6476,
          2528,
          2395,
          1312,
          470,
          5209,
          4173,
          5184,
          5419,
          11430,
          3551,
          5315,
          3607,
          4253,
          5970,
          5404,
          17578,
          12385,
          3248,
          10095,
          3607,
          506,
          3554,
          4602,
          5970,
          3215,
          0
         ],
         "xaxis": "x",
         "y": [
          6.8,
          7.7,
          5.4,
          6.9,
          6.5,
          8,
          7.4,
          7.1,
          6,
          7.2,
          7.2,
          7.3,
          8.6,
          6.8,
          7.4,
          7.3,
          6.9,
          7.6,
          6.6,
          5.5,
          8.1,
          6.5,
          6.6,
          7.2,
          6,
          7.7,
          7.4,
          7.5,
          7.1,
          5.5,
          6.4,
          6.6,
          6.2,
          5.7,
          7.2,
          8.3,
          6.1,
          7.2,
          6.7,
          7.4,
          7,
          7.1,
          8,
          7.6,
          8.2,
          6.4,
          6.2,
          7.1,
          7.6,
          7.2,
          7.6,
          7,
          6.7,
          8.3,
          7.2,
          7.1,
          7.6,
          7,
          6.5,
          7.3,
          7,
          6.8,
          6.7,
          6.1,
          6,
          8.5,
          8.4,
          7.2,
          7.3,
          7.6,
          7.6,
          7.8,
          7.7,
          7.2,
          6.2,
          7.7,
          6.5,
          7.4,
          6,
          6.1,
          8.1,
          8.4,
          7.3,
          6.7,
          6.5,
          7.5,
          6.3,
          4.7,
          5.9,
          7.2,
          7.3,
          7.2,
          6.3,
          7.6,
          6.9,
          7.4,
          8.1,
          6.9,
          7.2,
          7.1,
          7.7,
          8.4,
          7.3,
          7.6,
          6.4,
          6.5,
          7.7,
          5.4,
          5.5,
          5.7,
          7.2,
          7.2,
          7.1,
          7.8,
          8,
          7.7,
          6.5,
          7.2,
          7,
          7.3,
          6,
          7.5,
          7.4,
          6.5,
          7.3,
          6.1,
          6.4,
          7.3,
          6.6,
          6.8,
          6.6,
          7.3,
          7.2,
          6.3,
          8.3,
          6.6,
          7.2,
          7.6,
          7.2,
          8.1,
          7.6,
          6.1,
          7.7,
          7.3,
          8.1,
          6.6,
          7.4,
          7.4,
          6.9,
          6.1,
          6.5,
          7,
          7.3,
          5.9,
          7.9,
          5.1,
          7.1,
          8.5,
          6.5,
          7.9,
          5.3,
          8.5,
          8,
          7.5,
          8.4,
          8.2,
          6.8,
          6.6,
          5.8,
          6.5,
          7.7,
          5.1,
          7.8,
          6.3,
          6.2,
          7.7,
          7.8,
          8,
          6.8,
          5.6,
          8,
          8.4,
          7.2,
          8.6,
          6.3,
          5.9,
          6.6,
          7.5,
          6.8,
          7.1,
          7.5,
          6.7,
          6.8,
          7.9,
          7.4,
          7.8,
          7.8,
          8.1,
          7.1,
          7.3,
          6.5,
          6.2,
          7.6,
          5.7,
          7.7,
          7.2,
          6.4,
          6.8,
          6.6,
          7.8,
          6.6,
          7.2,
          7.2,
          7.2,
          7.6,
          6.7,
          6.5,
          6.6,
          7.5,
          6.9,
          7.3,
          8,
          7.9,
          8,
          7.4,
          6.7,
          6.1,
          6.3,
          6.8,
          7.7,
          7,
          7.9,
          8.2,
          7.4,
          7.5,
          7.3,
          7.9,
          7.4,
          7.8,
          6.4,
          7.2,
          8.3,
          6,
          8.3,
          5.8,
          7.5,
          6.6,
          7.2,
          6.6,
          7.2,
          7,
          8.2,
          7.7,
          7,
          7.2,
          7.4,
          7.2,
          6.2,
          8.3,
          8.4,
          7.9,
          7.7,
          7.9,
          8.5,
          6.8,
          8,
          8.4,
          7.7,
          7.5,
          6.9,
          8,
          8.1,
          8.5,
          7.7,
          7.9,
          8.3,
          7.9,
          3.1,
          7.1,
          8.1,
          8.4,
          8.6,
          8.3,
          8.2,
          8.5,
          8.8,
          7.6,
          7.2,
          8.3,
          7.8,
          8.5,
          7.5,
          8.2,
          6.9,
          8,
          7.6,
          7.2,
          8,
          7.9,
          7.5,
          8.3,
          8.7,
          8.5,
          8.5,
          7.7,
          8.1,
          8.1,
          8.6,
          7.6,
          8.7,
          6,
          8.4,
          8.2,
          8.5,
          8.1,
          null
         ],
         "yaxis": "y"
        }
       ],
       "layout": {
        "legend": {
         "tracegroupgap": 0
        },
        "template": {
         "data": {
          "bar": [
           {
            "error_x": {
             "color": "#2a3f5f"
            },
            "error_y": {
             "color": "#2a3f5f"
            },
            "marker": {
             "line": {
              "color": "#E5ECF6",
              "width": 0.5
             },
             "pattern": {
              "fillmode": "overlay",
              "size": 10,
              "solidity": 0.2
             }
            },
            "type": "bar"
           }
          ],
          "barpolar": [
           {
            "marker": {
             "line": {
              "color": "#E5ECF6",
              "width": 0.5
             },
             "pattern": {
              "fillmode": "overlay",
              "size": 10,
              "solidity": 0.2
             }
            },
            "type": "barpolar"
           }
          ],
          "carpet": [
           {
            "aaxis": {
             "endlinecolor": "#2a3f5f",
             "gridcolor": "white",
             "linecolor": "white",
             "minorgridcolor": "white",
             "startlinecolor": "#2a3f5f"
            },
            "baxis": {
             "endlinecolor": "#2a3f5f",
             "gridcolor": "white",
             "linecolor": "white",
             "minorgridcolor": "white",
             "startlinecolor": "#2a3f5f"
            },
            "type": "carpet"
           }
          ],
          "choropleth": [
           {
            "colorbar": {
             "outlinewidth": 0,
             "ticks": ""
            },
            "type": "choropleth"
           }
          ],
          "contour": [
           {
            "colorbar": {
             "outlinewidth": 0,
             "ticks": ""
            },
            "colorscale": [
             [
              0,
              "#0d0887"
             ],
             [
              0.1111111111111111,
              "#46039f"
             ],
             [
              0.2222222222222222,
              "#7201a8"
             ],
             [
              0.3333333333333333,
              "#9c179e"
             ],
             [
              0.4444444444444444,
              "#bd3786"
             ],
             [
              0.5555555555555556,
              "#d8576b"
             ],
             [
              0.6666666666666666,
              "#ed7953"
             ],
             [
              0.7777777777777778,
              "#fb9f3a"
             ],
             [
              0.8888888888888888,
              "#fdca26"
             ],
             [
              1,
              "#f0f921"
             ]
            ],
            "type": "contour"
           }
          ],
          "contourcarpet": [
           {
            "colorbar": {
             "outlinewidth": 0,
             "ticks": ""
            },
            "type": "contourcarpet"
           }
          ],
          "heatmap": [
           {
            "colorbar": {
             "outlinewidth": 0,
             "ticks": ""
            },
            "colorscale": [
             [
              0,
              "#0d0887"
             ],
             [
              0.1111111111111111,
              "#46039f"
             ],
             [
              0.2222222222222222,
              "#7201a8"
             ],
             [
              0.3333333333333333,
              "#9c179e"
             ],
             [
              0.4444444444444444,
              "#bd3786"
             ],
             [
              0.5555555555555556,
              "#d8576b"
             ],
             [
              0.6666666666666666,
              "#ed7953"
             ],
             [
              0.7777777777777778,
              "#fb9f3a"
             ],
             [
              0.8888888888888888,
              "#fdca26"
             ],
             [
              1,
              "#f0f921"
             ]
            ],
            "type": "heatmap"
           }
          ],
          "heatmapgl": [
           {
            "colorbar": {
             "outlinewidth": 0,
             "ticks": ""
            },
            "colorscale": [
             [
              0,
              "#0d0887"
             ],
             [
              0.1111111111111111,
              "#46039f"
             ],
             [
              0.2222222222222222,
              "#7201a8"
             ],
             [
              0.3333333333333333,
              "#9c179e"
             ],
             [
              0.4444444444444444,
              "#bd3786"
             ],
             [
              0.5555555555555556,
              "#d8576b"
             ],
             [
              0.6666666666666666,
              "#ed7953"
             ],
             [
              0.7777777777777778,
              "#fb9f3a"
             ],
             [
              0.8888888888888888,
              "#fdca26"
             ],
             [
              1,
              "#f0f921"
             ]
            ],
            "type": "heatmapgl"
           }
          ],
          "histogram": [
           {
            "marker": {
             "pattern": {
              "fillmode": "overlay",
              "size": 10,
              "solidity": 0.2
             }
            },
            "type": "histogram"
           }
          ],
          "histogram2d": [
           {
            "colorbar": {
             "outlinewidth": 0,
             "ticks": ""
            },
            "colorscale": [
             [
              0,
              "#0d0887"
             ],
             [
              0.1111111111111111,
              "#46039f"
             ],
             [
              0.2222222222222222,
              "#7201a8"
             ],
             [
              0.3333333333333333,
              "#9c179e"
             ],
             [
              0.4444444444444444,
              "#bd3786"
             ],
             [
              0.5555555555555556,
              "#d8576b"
             ],
             [
              0.6666666666666666,
              "#ed7953"
             ],
             [
              0.7777777777777778,
              "#fb9f3a"
             ],
             [
              0.8888888888888888,
              "#fdca26"
             ],
             [
              1,
              "#f0f921"
             ]
            ],
            "type": "histogram2d"
           }
          ],
          "histogram2dcontour": [
           {
            "colorbar": {
             "outlinewidth": 0,
             "ticks": ""
            },
            "colorscale": [
             [
              0,
              "#0d0887"
             ],
             [
              0.1111111111111111,
              "#46039f"
             ],
             [
              0.2222222222222222,
              "#7201a8"
             ],
             [
              0.3333333333333333,
              "#9c179e"
             ],
             [
              0.4444444444444444,
              "#bd3786"
             ],
             [
              0.5555555555555556,
              "#d8576b"
             ],
             [
              0.6666666666666666,
              "#ed7953"
             ],
             [
              0.7777777777777778,
              "#fb9f3a"
             ],
             [
              0.8888888888888888,
              "#fdca26"
             ],
             [
              1,
              "#f0f921"
             ]
            ],
            "type": "histogram2dcontour"
           }
          ],
          "mesh3d": [
           {
            "colorbar": {
             "outlinewidth": 0,
             "ticks": ""
            },
            "type": "mesh3d"
           }
          ],
          "parcoords": [
           {
            "line": {
             "colorbar": {
              "outlinewidth": 0,
              "ticks": ""
             }
            },
            "type": "parcoords"
           }
          ],
          "pie": [
           {
            "automargin": true,
            "type": "pie"
           }
          ],
          "scatter": [
           {
            "marker": {
             "colorbar": {
              "outlinewidth": 0,
              "ticks": ""
             }
            },
            "type": "scatter"
           }
          ],
          "scatter3d": [
           {
            "line": {
             "colorbar": {
              "outlinewidth": 0,
              "ticks": ""
             }
            },
            "marker": {
             "colorbar": {
              "outlinewidth": 0,
              "ticks": ""
             }
            },
            "type": "scatter3d"
           }
          ],
          "scattercarpet": [
           {
            "marker": {
             "colorbar": {
              "outlinewidth": 0,
              "ticks": ""
             }
            },
            "type": "scattercarpet"
           }
          ],
          "scattergeo": [
           {
            "marker": {
             "colorbar": {
              "outlinewidth": 0,
              "ticks": ""
             }
            },
            "type": "scattergeo"
           }
          ],
          "scattergl": [
           {
            "marker": {
             "colorbar": {
              "outlinewidth": 0,
              "ticks": ""
             }
            },
            "type": "scattergl"
           }
          ],
          "scattermapbox": [
           {
            "marker": {
             "colorbar": {
              "outlinewidth": 0,
              "ticks": ""
             }
            },
            "type": "scattermapbox"
           }
          ],
          "scatterpolar": [
           {
            "marker": {
             "colorbar": {
              "outlinewidth": 0,
              "ticks": ""
             }
            },
            "type": "scatterpolar"
           }
          ],
          "scatterpolargl": [
           {
            "marker": {
             "colorbar": {
              "outlinewidth": 0,
              "ticks": ""
             }
            },
            "type": "scatterpolargl"
           }
          ],
          "scatterternary": [
           {
            "marker": {
             "colorbar": {
              "outlinewidth": 0,
              "ticks": ""
             }
            },
            "type": "scatterternary"
           }
          ],
          "surface": [
           {
            "colorbar": {
             "outlinewidth": 0,
             "ticks": ""
            },
            "colorscale": [
             [
              0,
              "#0d0887"
             ],
             [
              0.1111111111111111,
              "#46039f"
             ],
             [
              0.2222222222222222,
              "#7201a8"
             ],
             [
              0.3333333333333333,
              "#9c179e"
             ],
             [
              0.4444444444444444,
              "#bd3786"
             ],
             [
              0.5555555555555556,
              "#d8576b"
             ],
             [
              0.6666666666666666,
              "#ed7953"
             ],
             [
              0.7777777777777778,
              "#fb9f3a"
             ],
             [
              0.8888888888888888,
              "#fdca26"
             ],
             [
              1,
              "#f0f921"
             ]
            ],
            "type": "surface"
           }
          ],
          "table": [
           {
            "cells": {
             "fill": {
              "color": "#EBF0F8"
             },
             "line": {
              "color": "white"
             }
            },
            "header": {
             "fill": {
              "color": "#C8D4E3"
             },
             "line": {
              "color": "white"
             }
            },
            "type": "table"
           }
          ]
         },
         "layout": {
          "annotationdefaults": {
           "arrowcolor": "#2a3f5f",
           "arrowhead": 0,
           "arrowwidth": 1
          },
          "autotypenumbers": "strict",
          "coloraxis": {
           "colorbar": {
            "outlinewidth": 0,
            "ticks": ""
           }
          },
          "colorscale": {
           "diverging": [
            [
             0,
             "#8e0152"
            ],
            [
             0.1,
             "#c51b7d"
            ],
            [
             0.2,
             "#de77ae"
            ],
            [
             0.3,
             "#f1b6da"
            ],
            [
             0.4,
             "#fde0ef"
            ],
            [
             0.5,
             "#f7f7f7"
            ],
            [
             0.6,
             "#e6f5d0"
            ],
            [
             0.7,
             "#b8e186"
            ],
            [
             0.8,
             "#7fbc41"
            ],
            [
             0.9,
             "#4d9221"
            ],
            [
             1,
             "#276419"
            ]
           ],
           "sequential": [
            [
             0,
             "#0d0887"
            ],
            [
             0.1111111111111111,
             "#46039f"
            ],
            [
             0.2222222222222222,
             "#7201a8"
            ],
            [
             0.3333333333333333,
             "#9c179e"
            ],
            [
             0.4444444444444444,
             "#bd3786"
            ],
            [
             0.5555555555555556,
             "#d8576b"
            ],
            [
             0.6666666666666666,
             "#ed7953"
            ],
            [
             0.7777777777777778,
             "#fb9f3a"
            ],
            [
             0.8888888888888888,
             "#fdca26"
            ],
            [
             1,
             "#f0f921"
            ]
           ],
           "sequentialminus": [
            [
             0,
             "#0d0887"
            ],
            [
             0.1111111111111111,
             "#46039f"
            ],
            [
             0.2222222222222222,
             "#7201a8"
            ],
            [
             0.3333333333333333,
             "#9c179e"
            ],
            [
             0.4444444444444444,
             "#bd3786"
            ],
            [
             0.5555555555555556,
             "#d8576b"
            ],
            [
             0.6666666666666666,
             "#ed7953"
            ],
            [
             0.7777777777777778,
             "#fb9f3a"
            ],
            [
             0.8888888888888888,
             "#fdca26"
            ],
            [
             1,
             "#f0f921"
            ]
           ]
          },
          "colorway": [
           "#636efa",
           "#EF553B",
           "#00cc96",
           "#ab63fa",
           "#FFA15A",
           "#19d3f3",
           "#FF6692",
           "#B6E880",
           "#FF97FF",
           "#FECB52"
          ],
          "font": {
           "color": "#2a3f5f"
          },
          "geo": {
           "bgcolor": "white",
           "lakecolor": "white",
           "landcolor": "#E5ECF6",
           "showlakes": true,
           "showland": true,
           "subunitcolor": "white"
          },
          "hoverlabel": {
           "align": "left"
          },
          "hovermode": "closest",
          "mapbox": {
           "style": "light"
          },
          "paper_bgcolor": "white",
          "plot_bgcolor": "#E5ECF6",
          "polar": {
           "angularaxis": {
            "gridcolor": "white",
            "linecolor": "white",
            "ticks": ""
           },
           "bgcolor": "#E5ECF6",
           "radialaxis": {
            "gridcolor": "white",
            "linecolor": "white",
            "ticks": ""
           }
          },
          "scene": {
           "xaxis": {
            "backgroundcolor": "#E5ECF6",
            "gridcolor": "white",
            "gridwidth": 2,
            "linecolor": "white",
            "showbackground": true,
            "ticks": "",
            "zerolinecolor": "white"
           },
           "yaxis": {
            "backgroundcolor": "#E5ECF6",
            "gridcolor": "white",
            "gridwidth": 2,
            "linecolor": "white",
            "showbackground": true,
            "ticks": "",
            "zerolinecolor": "white"
           },
           "zaxis": {
            "backgroundcolor": "#E5ECF6",
            "gridcolor": "white",
            "gridwidth": 2,
            "linecolor": "white",
            "showbackground": true,
            "ticks": "",
            "zerolinecolor": "white"
           }
          },
          "shapedefaults": {
           "line": {
            "color": "#2a3f5f"
           }
          },
          "ternary": {
           "aaxis": {
            "gridcolor": "white",
            "linecolor": "white",
            "ticks": ""
           },
           "baxis": {
            "gridcolor": "white",
            "linecolor": "white",
            "ticks": ""
           },
           "bgcolor": "#E5ECF6",
           "caxis": {
            "gridcolor": "white",
            "linecolor": "white",
            "ticks": ""
           }
          },
          "title": {
           "x": 0.05
          },
          "xaxis": {
           "automargin": true,
           "gridcolor": "white",
           "linecolor": "white",
           "ticks": "",
           "title": {
            "standoff": 15
           },
           "zerolinecolor": "white",
           "zerolinewidth": 2
          },
          "yaxis": {
           "automargin": true,
           "gridcolor": "white",
           "linecolor": "white",
           "ticks": "",
           "title": {
            "standoff": 15
           },
           "zerolinecolor": "white",
           "zerolinewidth": 2
          }
         }
        },
        "title": {
         "text": "<b>IMDb Rating vs Rating Count: ratings appear logarithmically correlated with rating count"
        },
        "xaxis": {
         "anchor": "y",
         "domain": [
          0,
          1
         ],
         "title": {
          "text": "imDbRatingVotes"
         }
        },
        "yaxis": {
         "anchor": "x",
         "domain": [
          0,
          1
         ],
         "title": {
          "text": "imDbRating"
         }
        }
       }
      }
     },
     "metadata": {},
     "output_type": "display_data"
    }
   ],
   "source": [
    "px.scatter(metascripts,\n",
    "           x = 'imDbRatingVotes',\n",
    "           y = 'imDbRating',\n",
    "           #log_x=True,\n",
    "           hover_data = ['title'],\n",
    "           color_discrete_sequence=['saddlebrown'],\n",
    "           title = \"<b>IMDb Rating vs Rating Count: ratings appear logarithmically correlated with rating count\")"
   ]
  },
  {
   "cell_type": "code",
   "execution_count": 240,
   "metadata": {},
   "outputs": [
    {
     "data": {
      "application/vnd.plotly.v1+json": {
       "config": {
        "plotlyServerURL": "https://plotly.com"
       },
       "data": [
        {
         "customdata": [
          [
           "Jim Gaffigan: Comedy Monster"
          ],
          [
           "Sorry"
          ],
          [
           "Drew Michael: Drew Michael"
          ],
          [
           "Drew Michael: Red Blue Green"
          ],
          [
           "Mo Amer: Mohammed in Texas"
          ],
          [
           "Dave Chappelle: The Closer"
          ],
          [
           "Kathleen Madigan: Bothering Jesus"
          ],
          [
           "Kathleen Madigan: Madigan Again"
          ],
          [
           "Phil Wang: Philly Philly Wang Wang"
          ],
          [
           "Tom Papa: You're Doing Great!"
          ],
          [
           "Tom Papa: Human Mule"
          ],
          [
           "Tom Papa: Freaked Out"
          ],
          [
           "Inside"
          ],
          [
           "Tig Notaro: Boyish Girl Interrupted"
          ],
          [
           "Joe List: I Hate Myself"
          ],
          [
           "Nate Bargatze: The Greatest Average American"
          ],
          [
           "Brian Regan: On the Rocks"
          ],
          [
           "Doug Stanhope: Beer Hall Putsch"
          ],
          [
           "Tamborine"
          ],
          [
           "Sarah Cooper: Everything's Fine"
          ],
          [
           "Bo Burnham: Words, Words, Words"
          ],
          [
           "Vir Das: Outside in - The Lockdown Special"
          ],
          [
           "Larry the Cable Guy: Remain Seated"
          ],
          [
           "Craig Ferguson: Just Being Honest"
          ],
          [
           "Kevin Hart: Zero F**ks Given"
          ],
          [
           "Sam Morril: I Got This"
          ],
          [
           "Ronny Chieng: Asian Comedian Destroys America"
          ],
          [
           "Craig Ferguson: A Wee Bit o' Revolution"
          ],
          [
           "Michael McIntyre: Showman"
          ],
          [
           "Rob Schneider: Asian Momma, Mexican Kids"
          ],
          [
           "Sam Jay: 3 in the Morning"
          ],
          [
           "Jack Whitehall: I'm Only Joking"
          ],
          [
           "Urzila Carlson: Overqualified Loser"
          ],
          [
           "George Lopez: We'll Do It for Half"
          ],
          [
           "Jim Jefferies: Intolerant"
          ],
          [
           "George Carlin: Doin' It Again"
          ],
          [
           "Eric Andre: Legalize Everything"
          ],
          [
           "Roy Wood Jr.: Father Figure"
          ],
          [
           "Amy Schumer Presents Mark Normand: Don't Be Yourself"
          ],
          [
           "Chris Gethard: Career Suicide"
          ],
          [
           "Ramy Youssef: Feelings"
          ],
          [
           "Kenny Sebastian: Don't Be That Guy"
          ],
          [
           "Billy Connolly: High Horse Tour Live"
          ],
          [
           "Hannah Gadsby: Douglas"
          ],
          [
           "Hasan Minhaj: Homecoming King"
          ],
          [
           "Patton Oswalt: I Love Everything"
          ],
          [
           "Russell Peters: Deported"
          ],
          [
           "Jimmy O. Yang: Good Deal"
          ],
          [
           "Jo Koy: Lights Out"
          ],
          [
           "Lee Mack: Going Out Live"
          ],
          [
           "Lee Mack: Live"
          ],
          [
           "T.J. Miller: No Real Reason"
          ],
          [
           "Jerry Seinfeld: 23 Hours to Kill"
          ],
          [
           "Sincerely Louis CK"
          ],
          [
           "Jim Norton: American Degenerate"
          ],
          [
           "Jim Norton: Monster Rain"
          ],
          [
           "Maria Bamford: Weakness Is the Brand"
          ],
          [
           "Chris D'Elia: White Male. Black Comic."
          ],
          [
           "Chris D'Elia: Man on Fire"
          ],
          [
           "Tom Segura: Ball Hog"
          ],
          [
           "Bert Kreischer: Hey Big Boy"
          ],
          [
           "Marc Maron: End Times Fun"
          ],
          [
           "Pete Davidson: SMD"
          ],
          [
           "Pete Davidson: Alive from New York"
          ],
          [
           "Amanda Seales: I Be Knowin'"
          ],
          [
           "Stewart Lee: Carpet Remnant World"
          ],
          [
           "Stewart Lee: Content Provider"
          ],
          [
           "Sara Pascoe Live: LadsLadsLads"
          ],
          [
           "Dan Soder: Son of a Gary"
          ],
          [
           "Jim Gaffigan: Quality Time"
          ],
          [
           "Kevin Bridges: A Whole Different Story"
          ],
          [
           "Kevin Bridges: The Story So Far - Live in Glasgow"
          ],
          [
           "Kevin Bridges: The Story Continues..."
          ],
          [
           "Michelle Wolf: Joke Show"
          ],
          [
           "Tiffany Haddish: Black Mitzvah"
          ],
          [
           "Mike Birbiglia: The New One"
          ],
          [
           "Iliza Shlesinger: Unveiled"
          ],
          [
           "Seth Meyers: Lobby Baby"
          ],
          [
           "Arsenio Hall: Smart and Classy"
          ],
          [
           "Nikki Glaser: Bangin'"
          ],
          [
           "Bill Burr: Paper Tiger"
          ],
          [
           "Dave Chappelle: Sticks & Stones"
          ],
          [
           "Emily Heller: Ice Thickeners"
          ],
          [
           "David Cross: Oh Come On"
          ],
          [
           "Whitney Cummings: Can I Touch It?"
          ],
          [
           "Aziz Ansari: Right Now"
          ],
          [
           "Ralphie May Filthy Animal Tour"
          ],
          [
           "Mike Epps: Only One Mike"
          ],
          [
           "Adam Devine: Best Time of Our Lives"
          ],
          [
           "Jo Koy: Live from Seattle"
          ],
          [
           "Jo Koy: Comin' in Hot"
          ],
          [
           "Wanda Sykes: Not Normal"
          ],
          [
           "Cedric the Entertainer: Live from the Ville"
          ],
          [
           "Eddie Murphy: Raw"
          ],
          [
           "Colin Quinn: The New York Story"
          ],
          [
           "Demetri Martin: Live (At the Time)"
          ],
          [
           "George Carlin: What Am I Doing in New Jersey?"
          ],
          [
           "Chelsea Peretti: One of the Greats"
          ],
          [
           "Anthony Jeselnik: Fire in the Maternity Ward"
          ],
          [
           "Roy Wood Jr.: No One Loves You"
          ],
          [
           "Robin Williams: Weapons of Self Destruction"
          ],
          [
           "Robin Williams Live on Broadway"
          ],
          [
           "Jimmy Carr: The Best of Ultimate Gold Greatest Hits"
          ],
          [
           "Nate Bargatze: The Tennessee Kid"
          ],
          [
           "W. Kamau Bell: Private School Negro"
          ],
          [
           "Kevin Hart: Irresponsible"
          ],
          [
           "Nate Bargatze: Full Time Magic"
          ],
          [
           "Amy Schumer: Growing"
          ],
          [
           "Enissa Amani: Ehrenwort"
          ],
          [
           "Ken Jeong: You Complete Me, Ho"
          ],
          [
           "Ray Romano: Right Here, Around the Corner"
          ],
          [
           "Gabriel \"Fluffy\" Iglesias: One Show Fits All"
          ],
          [
           "Sebastian Maniscalco: Stay Hungry"
          ],
          [
           "Sebastian Maniscalco: Aren't You Embarrassed?"
          ],
          [
           "Sebastian Maniscalco: What's Wrong with People?"
          ],
          [
           "Oh, Hello on Broadway"
          ],
          [
           "Ellen DeGeneres: Relatable"
          ],
          [
           "Pete Holmes: Dirty Clean"
          ],
          [
           "Vir Das: Losing It"
          ],
          [
           "Trevor Noah: Son of Patricia"
          ],
          [
           "Jeff Foxworthy & Larry the Cable Guy: We've Been Thinking"
          ],
          [
           "Adam Sandler: 100% Fresh"
          ],
          [
           "Jeff Foxworthy: Totally Committed"
          ],
          [
           "Ron White: If You Quit Listening, I'll Shut Up"
          ],
          [
           "Mo Amer: The Vagabond"
          ],
          [
           "Joe Mande's Award-Winning Comedy Special"
          ],
          [
           "Henry Rollins: Keep Talking, Pal"
          ],
          [
           "Joe Rogan: Strange Times"
          ],
          [
           "D.L. Hughley: Contrarian"
          ],
          [
           "Iliza Shlesinger: Freezing Hot"
          ],
          [
           "Iliza Shlesinger: War Paint"
          ],
          [
           "Bert Kreischer: Secret Time"
          ],
          [
           "Demetri Martin: The Overthinker"
          ],
          [
           "Bill Maher: Live from Oklahoma"
          ],
          [
           "Rowan Atkinson: Not Just a Pretty Face"
          ],
          [
           "Iliza Shlesinger: Confirmed Kills"
          ],
          [
           "Iliza: Elder Millennial"
          ],
          [
           "Jim Gaffigan: Noble Ape"
          ],
          [
           "Jim Norton: Contextually Inadequate"
          ],
          [
           "Hannah Gadsby: Nanette"
          ],
          [
           "Brad Williams: Daddy Issues"
          ],
          [
           "DeRay Davis: How to Act Black"
          ],
          [
           "Ricky Gervais: Live IV - Science"
          ],
          [
           "Jim Jefferies: This Is Me Now"
          ],
          [
           "Russell Peters: Outsourced"
          ],
          [
           "Russell Peters: Almost Famous"
          ],
          [
           "Ron White: A Little Unprofessional"
          ],
          [
           "Michael McIntyre: Hello Wembley!"
          ],
          [
           "Kevin Smith: Silent But Deadly"
          ],
          [
           "Kevin James: Never Don't Give Up"
          ],
          [
           "Brent Morin: I'm Brent Morin"
          ],
          [
           "Nikki Glaser: Perfect"
          ],
          [
           "Ali Wong: Hard Knock Wife"
          ],
          [
           "Kavin Jay: Everybody Calm Down!"
          ],
          [
           "John Mulaney: Kid Gorgeous at Radio City"
          ],
          [
           "Eddie Griffin: Undeniable"
          ],
          [
           "Greg Davies: You Magnificent Beast"
          ],
          [
           "George Carlin: You Are All Diseased"
          ],
          [
           "Marlon Wayans: Woke-ish"
          ],
          [
           "Ricky Gervais: Humanity"
          ],
          [
           "Adel Karam: Live from Beirut"
          ],
          [
           "Stewart Lee: 90s Comedian"
          ],
          [
           "Mike Birbiglia: My Girlfriend's Boyfriend"
          ],
          [
           "Dave Attell: Road Work"
          ],
          [
           "Eddie Izzard: Glorious"
          ],
          [
           "Chris Rock: Bring the Pain"
          ],
          [
           "Ari Shaffir: Double Negative"
          ],
          [
           "Tamborine"
          ],
          [
           "Fred Armisen: Standup For Drummers"
          ],
          [
           "Dana Carvey: Straight White Male, 60"
          ],
          [
           "Eddie Izzard: Stripped"
          ],
          [
           "Todd Glass: Act Happy"
          ],
          [
           "Brian Regan: Standing Up"
          ],
          [
           "Brian Regan: Nunchucks and Flamethrowers"
          ],
          [
           "Katt Williams: Great America"
          ],
          [
           "Jimmy Carr: Being Funny"
          ],
          [
           "Jimmy Carr: Laughing and Joking"
          ],
          [
           "Eddie Izzard: Unrepeatable"
          ],
          [
           "D.L. Hughley: Unapologetic"
          ],
          [
           "Bridget Everett: Gynecological Wonder"
          ],
          [
           "Chris Rock: Never Scared"
          ],
          [
           "Stewart Lee: Stand-Up Comedian"
          ],
          [
           "Jimmy Carr: Funny Business"
          ],
          [
           "Eddie Izzard: Dress to Kill"
          ],
          [
           "Chris Tucker Live"
          ],
          [
           "Kevin Hart: What Now?"
          ],
          [
           "Kevin Hart: Let Me Explain"
          ],
          [
           "Tom Segura: Disgraceful"
          ],
          [
           "Michelle Wolf: Nice Lady"
          ],
          [
           "Fahim Anwar: There's No Business Like Show Business"
          ],
          [
           "Ellen DeGeneres: The Beginning"
          ],
          [
           "Maz Jobrani: Immigrant"
          ],
          [
           "Todd Barry: Spicy Honey"
          ],
          [
           "Jerry Seinfeld: 'I'm Telling You for the Last Time'"
          ],
          [
           "Craig Ferguson: Does This Need to Be Said?"
          ],
          [
           "Dave Chappelle: The Bird Revelation"
          ],
          [
           "Dave Chappelle: The Bird Revelation"
          ],
          [
           "Dave Chappelle: Equanimity"
          ],
          [
           "Craig Ferguson: I'm Here to Help"
          ],
          [
           "Russell Howard: Recalibrate"
          ],
          [
           "Whitney Cummings: I Love You"
          ],
          [
           "Whitney Cummings: I'm Your Girlfriend"
          ],
          [
           "Sarah Millican: Chatterbox Live"
          ],
          [
           "Anjelah Johnson: Not Fancy"
          ],
          [
           "Ricky Gervais Live 2: Politics"
          ],
          [
           "Russell Howard Live: Dingledodies"
          ],
          [
           "Christina P: Mother Inferior"
          ],
          [
           "Jack Whitehall: At Large"
          ],
          [
           "Cristela Alonzo: Lower Classy"
          ],
          [
           "Judah Friedlander: America is the Greatest Country in the United States"
          ],
          [
           "Aziz Ansari Live in Madison Square Garden"
          ],
          [
           "Aziz Ansari: Buried Alive"
          ],
          [
           "Paul Mooney: A Piece of My Mind - God Bless America"
          ],
          [
           "Patton Oswalt: Annihilation"
          ],
          [
           "Chris Rock: Kill the Messenger - London, New York, Johannesburg"
          ],
          [
           "Bill Maher: Live from D.C."
          ],
          [
           "Sarah Silverman: Jesus Is Magic"
          ],
          [
           "Sarah Silverman: We Are Miracles"
          ],
          [
           "Pablo Francisco: Ouch! Live from San Jose"
          ],
          [
           "Bill Maher... But I'm Not Wrong"
          ],
          [
           "Russell Brand: Messiah Complex"
          ],
          [
           "Chris Rock: Bigger & Blacker"
          ],
          [
           "Gabriel Iglesias: Hot and Fluffy"
          ],
          [
           "Gabriel Iglesias: I'm Not Fat... I'm Fluffy"
          ],
          [
           "Gabriel Iglesias: I'm Sorry for What I Said When I Was Hungry"
          ],
          [
           "Rory Scovel Tries Stand-Up for the First Time"
          ],
          [
           "Lisa Lampanelli: Back to the Drawing Board"
          ],
          [
           "Erik Griffin: The Ugly Truth"
          ],
          [
           "Jen Kirkman: Just Keep Livin?"
          ],
          [
           "Daniel Tosh: Completely Serious"
          ],
          [
           "Al Madrigal: Why Is the Rabbit Crying?"
          ],
          [
           "Neal Brennan: 3 Mics"
          ],
          [
           "John Mulaney: New in Town"
          ],
          [
           "Donald Glover: Weirdo"
          ],
          [
           "Ali Wong: Baby Cobra"
          ],
          [
           "Norm Macdonald: Hitler's Dog, Gossip & Trickery"
          ],
          [
           "Daniel Tosh: People Pleaser"
          ],
          [
           "Marc Maron: More Later"
          ],
          [
           "Dylan Moran: Off the Hook"
          ],
          [
           "Richard Pryor: Live and Smokin'"
          ],
          [
           "Richard Pryor... Here and Now"
          ],
          [
           "Bill Burr: Why Do I Do This?"
          ],
          [
           "Amy Schumer: Mostly Sex Stuff"
          ],
          [
           "Jim Jefferies Alcoholocaust"
          ],
          [
           "Amy Schumer: Live at the Apollo"
          ],
          [
           "Kevin Hart: Seriously Funny"
          ],
          [
           "Hannibal Buress: Comedy Camisado"
          ],
          [
           "Neal Brennan: Women and Black Dudes"
          ],
          [
           "Nick Offerman: American Ham"
          ],
          [
           "Aziz Ansari: Intimate Moments for a Sensual Evening"
          ],
          [
           "Big Jay Oakerson: Live at Webster Hall"
          ],
          [
           "Doug Stanhope: No Refunds"
          ],
          [
           "George Carlin at USC"
          ],
          [
           "Jim Norton: Mouthful of Shame"
          ],
          [
           "Michael Che Matters"
          ],
          [
           "Joe Rogan: Triggered"
          ],
          [
           "Trevor Noah: Lost in Translation"
          ],
          [
           "Maria Bamford: Old Baby"
          ],
          [
           "Bo Burnham: what."
          ],
          [
           "Bo Burnham: Make Happy"
          ],
          [
           "Anthony Jeselnik: Caligula"
          ],
          [
           "Anthony Jeselnik: Thoughts and Prayers"
          ],
          [
           "John Mulaney: The Comeback Kid"
          ],
          [
           "Bill Hicks: Revelations"
          ],
          [
           "Lewis Black: Black to the Future"
          ],
          [
           "Doug Stanhope: Before Turning the Gun on Himself"
          ],
          [
           "Doug Stanhope: Deadbeat Hero"
          ],
          [
           "Jim Jefferies: Contraband"
          ],
          [
           "Mike Birbiglia: Thank God for Jokes"
          ],
          [
           "Sarah Silverman: A Speck of Dust"
          ],
          [
           "George Carlin: Playin' with Your Head"
          ],
          [
           "On Location: George Carlin at Phoenix"
          ],
          [
           "Louis C.K.: Chewed Up"
          ],
          [
           "Tom Segura: Completely Normal"
          ],
          [
           "George Carlin: Carlin on Campus"
          ],
          [
           "Louis C.K.: Live at the Beacon Theater"
          ],
          [
           "Ricky Gervais: Out of England 2 - The Stand-Up Special"
          ],
          [
           "Amy Schumer: The Leather Special"
          ],
          [
           "Jim Gaffigan: Cinco"
          ],
          [
           "Jim Jefferies: I Swear to God"
          ],
          [
           "Louis C.K.: Hilarious"
          ],
          [
           "Louis C.K.: Shameless"
          ],
          [
           "Bill Burr: I'm Sorry You Feel That Way"
          ],
          [
           "Bill Burr: You People Are All the Same."
          ],
          [
           "Dave Chappelle: For What It's Worth"
          ],
          [
           "Dave Chappelle: Killin' Them Softly"
          ],
          [
           "Eddie Griffin: You Can Tell 'Em I Said It!"
          ],
          [
           "Bill Burr: Walk Your Way Out"
          ],
          [
           "Louis C.K. Oh My God"
          ],
          [
           "Louis C.K.: Live at the Comedy Store"
          ],
          [
           "Bill Hicks: Relentless"
          ],
          [
           "Daniel Tosh: Happy Thoughts"
          ],
          [
           "Patrice O'Neal: Elephant in the Room"
          ],
          [
           "Katt Williams Live"
          ],
          [
           "Richard Pryor: Live in Concert"
          ],
          [
           "Richard Pryor: Live on the Sunset Strip"
          ],
          [
           "Trevor Noah: Afraid of the Dark"
          ],
          [
           "Jim Jefferies: BARE"
          ],
          [
           "Deep in the Heart of Texas: Dave Chappelle Live at Austin City Limits"
          ],
          [
           "Tom Segura: Mostly Stories"
          ],
          [
           "Bill Burr: Let It Go"
          ],
          [
           "George Carlin: Jammin' in New York"
          ],
          [
           "George Carlin: You Are All Diseased"
          ],
          [
           "George Carlin... It's Bad for Ya!"
          ],
          [
           "Jim Jefferies: Freedumb"
          ],
          [
           "Eddie Murphy: Delirious"
          ],
          [
           "The Age of Spin: Dave Chappelle Live at the Hollywood Palladium"
          ],
          [
           "George Carlin: Back in Town"
          ],
          [
           "Louis C.K. 2017"
          ],
          [
           "George Carlin: Jammin' in New York"
          ],
          [
           "Reggie Watts: Spatial"
          ],
          [
           "George Carlin: Complaints & Grievances"
          ],
          [
           "George Carlin: Life Is Worth Losing"
          ],
          [
           "George Carlin... It's Bad for Ya!"
          ],
          [
           "Dave Chappelle: 8:46"
          ],
          [
           "Jim Jefferies: A Joke about Gun Control"
          ]
         ],
         "hovertemplate": "imDbRatingVotes=%{x}<br>imDbRating=%{y}<br>title=%{customdata[0]}<extra></extra>",
         "legendgroup": "",
         "marker": {
          "color": "saddlebrown",
          "symbol": "circle"
         },
         "mode": "markers",
         "name": "",
         "orientation": "v",
         "showlegend": false,
         "type": "scatter",
         "x": [
          1618,
          2363,
          368,
          261,
          615,
          25270,
          539,
          367,
          576,
          843,
          187,
          235,
          45963,
          674,
          207,
          1328,
          604,
          1116,
          6918,
          1709,
          3818,
          256,
          261,
          423,
          3356,
          340,
          3126,
          498,
          1221,
          759,
          506,
          1472,
          376,
          447,
          2777,
          2354,
          2502,
          344,
          455,
          535,
          724,
          1935,
          158,
          3938,
          7196,
          1274,
          816,
          1463,
          122,
          156,
          298,
          149,
          5070,
          5473,
          496,
          477,
          142,
          361,
          1726,
          2869,
          1932,
          1911,
          641,
          4082,
          376,
          608,
          504,
          97,
          333,
          1163,
          245,
          333,
          302,
          1585,
          961,
          1827,
          1668,
          2542,
          457,
          1634,
          10689,
          25703,
          22,
          290,
          1733,
          5119,
          142,
          297,
          949,
          1342,
          1016,
          1816,
          683,
          19671,
          998,
          2181,
          1978,
          2380,
          3564,
          94,
          3328,
          6020,
          2250,
          1812,
          770,
          4456,
          271,
          3820,
          194,
          2378,
          1672,
          1797,
          1295,
          1056,
          1206,
          3106,
          4673,
          452,
          1247,
          4033,
          633,
          5148,
          379,
          835,
          828,
          500,
          284,
          4320,
          609,
          2592,
          2019,
          2318,
          1699,
          575,
          2867,
          2866,
          4036,
          1283,
          506,
          12185,
          212,
          427,
          2215,
          3984,
          1709,
          1895,
          582,
          994,
          1114,
          1457,
          691,
          343,
          4893,
          232,
          7792,
          263,
          2333,
          4253,
          1396,
          18551,
          146,
          415,
          3311,
          477,
          2529,
          3931,
          719,
          6918,
          1285,
          1491,
          775,
          367,
          752,
          679,
          960,
          1153,
          1151,
          1487,
          197,
          91,
          5342,
          493,
          4243,
          7297,
          1939,
          9458,
          9013,
          3759,
          1045,
          49,
          867,
          843,
          852,
          5837,
          691,
          9870,
          9870,
          12157,
          814,
          1602,
          496,
          719,
          215,
          686,
          3480,
          419,
          947,
          2122,
          854,
          1436,
          3251,
          3985,
          51,
          2368,
          4294,
          516,
          5569,
          1435,
          687,
          1197,
          1212,
          7076,
          3482,
          2495,
          2542,
          824,
          106,
          66,
          1289,
          3105,
          91,
          3279,
          6663,
          3563,
          6933,
          2942,
          874,
          441,
          380,
          1099,
          2342,
          4511,
          3021,
          2621,
          3402,
          5542,
          1516,
          216,
          1279,
          2415,
          320,
          1142,
          981,
          1325,
          2625,
          4507,
          646,
          949,
          11685,
          14764,
          1406,
          5188,
          8497,
          3086,
          320,
          650,
          845,
          1200,
          2476,
          3715,
          1745,
          1353,
          10591,
          2594,
          1774,
          9887,
          2285,
          9801,
          2394,
          2883,
          11978,
          8578,
          7967,
          7364,
          8595,
          9904,
          549,
          7144,
          9307,
          6476,
          2528,
          2395,
          1312,
          470,
          5209,
          4173,
          5184,
          5419,
          11430,
          3551,
          5315,
          3607,
          4253,
          5970,
          5404,
          17578,
          12385,
          3248,
          10095,
          3607,
          506,
          3554,
          4602,
          5970,
          3215,
          0
         ],
         "xaxis": "x",
         "y": [
          6.8,
          7.7,
          5.4,
          6.9,
          6.5,
          8,
          7.4,
          7.1,
          6,
          7.2,
          7.2,
          7.3,
          8.6,
          6.8,
          7.4,
          7.3,
          6.9,
          7.6,
          6.6,
          5.5,
          8.1,
          6.5,
          6.6,
          7.2,
          6,
          7.7,
          7.4,
          7.5,
          7.1,
          5.5,
          6.4,
          6.6,
          6.2,
          5.7,
          7.2,
          8.3,
          6.1,
          7.2,
          6.7,
          7.4,
          7,
          7.1,
          8,
          7.6,
          8.2,
          6.4,
          6.2,
          7.1,
          7.6,
          7.2,
          7.6,
          7,
          6.7,
          8.3,
          7.2,
          7.1,
          7.6,
          7,
          6.5,
          7.3,
          7,
          6.8,
          6.7,
          6.1,
          6,
          8.5,
          8.4,
          7.2,
          7.3,
          7.6,
          7.6,
          7.8,
          7.7,
          7.2,
          6.2,
          7.7,
          6.5,
          7.4,
          6,
          6.1,
          8.1,
          8.4,
          7.3,
          6.7,
          6.5,
          7.5,
          6.3,
          4.7,
          5.9,
          7.2,
          7.3,
          7.2,
          6.3,
          7.6,
          6.9,
          7.4,
          8.1,
          6.9,
          7.2,
          7.1,
          7.7,
          8.4,
          7.3,
          7.6,
          6.4,
          6.5,
          7.7,
          5.4,
          5.5,
          5.7,
          7.2,
          7.2,
          7.1,
          7.8,
          8,
          7.7,
          6.5,
          7.2,
          7,
          7.3,
          6,
          7.5,
          7.4,
          6.5,
          7.3,
          6.1,
          6.4,
          7.3,
          6.6,
          6.8,
          6.6,
          7.3,
          7.2,
          6.3,
          8.3,
          6.6,
          7.2,
          7.6,
          7.2,
          8.1,
          7.6,
          6.1,
          7.7,
          7.3,
          8.1,
          6.6,
          7.4,
          7.4,
          6.9,
          6.1,
          6.5,
          7,
          7.3,
          5.9,
          7.9,
          5.1,
          7.1,
          8.5,
          6.5,
          7.9,
          5.3,
          8.5,
          8,
          7.5,
          8.4,
          8.2,
          6.8,
          6.6,
          5.8,
          6.5,
          7.7,
          5.1,
          7.8,
          6.3,
          6.2,
          7.7,
          7.8,
          8,
          6.8,
          5.6,
          8,
          8.4,
          7.2,
          8.6,
          6.3,
          5.9,
          6.6,
          7.5,
          6.8,
          7.1,
          7.5,
          6.7,
          6.8,
          7.9,
          7.4,
          7.8,
          7.8,
          8.1,
          7.1,
          7.3,
          6.5,
          6.2,
          7.6,
          5.7,
          7.7,
          7.2,
          6.4,
          6.8,
          6.6,
          7.8,
          6.6,
          7.2,
          7.2,
          7.2,
          7.6,
          6.7,
          6.5,
          6.6,
          7.5,
          6.9,
          7.3,
          8,
          7.9,
          8,
          7.4,
          6.7,
          6.1,
          6.3,
          6.8,
          7.7,
          7,
          7.9,
          8.2,
          7.4,
          7.5,
          7.3,
          7.9,
          7.4,
          7.8,
          6.4,
          7.2,
          8.3,
          6,
          8.3,
          5.8,
          7.5,
          6.6,
          7.2,
          6.6,
          7.2,
          7,
          8.2,
          7.7,
          7,
          7.2,
          7.4,
          7.2,
          6.2,
          8.3,
          8.4,
          7.9,
          7.7,
          7.9,
          8.5,
          6.8,
          8,
          8.4,
          7.7,
          7.5,
          6.9,
          8,
          8.1,
          8.5,
          7.7,
          7.9,
          8.3,
          7.9,
          3.1,
          7.1,
          8.1,
          8.4,
          8.6,
          8.3,
          8.2,
          8.5,
          8.8,
          7.6,
          7.2,
          8.3,
          7.8,
          8.5,
          7.5,
          8.2,
          6.9,
          8,
          7.6,
          7.2,
          8,
          7.9,
          7.5,
          8.3,
          8.7,
          8.5,
          8.5,
          7.7,
          8.1,
          8.1,
          8.6,
          7.6,
          8.7,
          6,
          8.4,
          8.2,
          8.5,
          8.1,
          null
         ],
         "yaxis": "y"
        }
       ],
       "layout": {
        "legend": {
         "tracegroupgap": 0
        },
        "template": {
         "data": {
          "bar": [
           {
            "error_x": {
             "color": "#2a3f5f"
            },
            "error_y": {
             "color": "#2a3f5f"
            },
            "marker": {
             "line": {
              "color": "#E5ECF6",
              "width": 0.5
             },
             "pattern": {
              "fillmode": "overlay",
              "size": 10,
              "solidity": 0.2
             }
            },
            "type": "bar"
           }
          ],
          "barpolar": [
           {
            "marker": {
             "line": {
              "color": "#E5ECF6",
              "width": 0.5
             },
             "pattern": {
              "fillmode": "overlay",
              "size": 10,
              "solidity": 0.2
             }
            },
            "type": "barpolar"
           }
          ],
          "carpet": [
           {
            "aaxis": {
             "endlinecolor": "#2a3f5f",
             "gridcolor": "white",
             "linecolor": "white",
             "minorgridcolor": "white",
             "startlinecolor": "#2a3f5f"
            },
            "baxis": {
             "endlinecolor": "#2a3f5f",
             "gridcolor": "white",
             "linecolor": "white",
             "minorgridcolor": "white",
             "startlinecolor": "#2a3f5f"
            },
            "type": "carpet"
           }
          ],
          "choropleth": [
           {
            "colorbar": {
             "outlinewidth": 0,
             "ticks": ""
            },
            "type": "choropleth"
           }
          ],
          "contour": [
           {
            "colorbar": {
             "outlinewidth": 0,
             "ticks": ""
            },
            "colorscale": [
             [
              0,
              "#0d0887"
             ],
             [
              0.1111111111111111,
              "#46039f"
             ],
             [
              0.2222222222222222,
              "#7201a8"
             ],
             [
              0.3333333333333333,
              "#9c179e"
             ],
             [
              0.4444444444444444,
              "#bd3786"
             ],
             [
              0.5555555555555556,
              "#d8576b"
             ],
             [
              0.6666666666666666,
              "#ed7953"
             ],
             [
              0.7777777777777778,
              "#fb9f3a"
             ],
             [
              0.8888888888888888,
              "#fdca26"
             ],
             [
              1,
              "#f0f921"
             ]
            ],
            "type": "contour"
           }
          ],
          "contourcarpet": [
           {
            "colorbar": {
             "outlinewidth": 0,
             "ticks": ""
            },
            "type": "contourcarpet"
           }
          ],
          "heatmap": [
           {
            "colorbar": {
             "outlinewidth": 0,
             "ticks": ""
            },
            "colorscale": [
             [
              0,
              "#0d0887"
             ],
             [
              0.1111111111111111,
              "#46039f"
             ],
             [
              0.2222222222222222,
              "#7201a8"
             ],
             [
              0.3333333333333333,
              "#9c179e"
             ],
             [
              0.4444444444444444,
              "#bd3786"
             ],
             [
              0.5555555555555556,
              "#d8576b"
             ],
             [
              0.6666666666666666,
              "#ed7953"
             ],
             [
              0.7777777777777778,
              "#fb9f3a"
             ],
             [
              0.8888888888888888,
              "#fdca26"
             ],
             [
              1,
              "#f0f921"
             ]
            ],
            "type": "heatmap"
           }
          ],
          "heatmapgl": [
           {
            "colorbar": {
             "outlinewidth": 0,
             "ticks": ""
            },
            "colorscale": [
             [
              0,
              "#0d0887"
             ],
             [
              0.1111111111111111,
              "#46039f"
             ],
             [
              0.2222222222222222,
              "#7201a8"
             ],
             [
              0.3333333333333333,
              "#9c179e"
             ],
             [
              0.4444444444444444,
              "#bd3786"
             ],
             [
              0.5555555555555556,
              "#d8576b"
             ],
             [
              0.6666666666666666,
              "#ed7953"
             ],
             [
              0.7777777777777778,
              "#fb9f3a"
             ],
             [
              0.8888888888888888,
              "#fdca26"
             ],
             [
              1,
              "#f0f921"
             ]
            ],
            "type": "heatmapgl"
           }
          ],
          "histogram": [
           {
            "marker": {
             "pattern": {
              "fillmode": "overlay",
              "size": 10,
              "solidity": 0.2
             }
            },
            "type": "histogram"
           }
          ],
          "histogram2d": [
           {
            "colorbar": {
             "outlinewidth": 0,
             "ticks": ""
            },
            "colorscale": [
             [
              0,
              "#0d0887"
             ],
             [
              0.1111111111111111,
              "#46039f"
             ],
             [
              0.2222222222222222,
              "#7201a8"
             ],
             [
              0.3333333333333333,
              "#9c179e"
             ],
             [
              0.4444444444444444,
              "#bd3786"
             ],
             [
              0.5555555555555556,
              "#d8576b"
             ],
             [
              0.6666666666666666,
              "#ed7953"
             ],
             [
              0.7777777777777778,
              "#fb9f3a"
             ],
             [
              0.8888888888888888,
              "#fdca26"
             ],
             [
              1,
              "#f0f921"
             ]
            ],
            "type": "histogram2d"
           }
          ],
          "histogram2dcontour": [
           {
            "colorbar": {
             "outlinewidth": 0,
             "ticks": ""
            },
            "colorscale": [
             [
              0,
              "#0d0887"
             ],
             [
              0.1111111111111111,
              "#46039f"
             ],
             [
              0.2222222222222222,
              "#7201a8"
             ],
             [
              0.3333333333333333,
              "#9c179e"
             ],
             [
              0.4444444444444444,
              "#bd3786"
             ],
             [
              0.5555555555555556,
              "#d8576b"
             ],
             [
              0.6666666666666666,
              "#ed7953"
             ],
             [
              0.7777777777777778,
              "#fb9f3a"
             ],
             [
              0.8888888888888888,
              "#fdca26"
             ],
             [
              1,
              "#f0f921"
             ]
            ],
            "type": "histogram2dcontour"
           }
          ],
          "mesh3d": [
           {
            "colorbar": {
             "outlinewidth": 0,
             "ticks": ""
            },
            "type": "mesh3d"
           }
          ],
          "parcoords": [
           {
            "line": {
             "colorbar": {
              "outlinewidth": 0,
              "ticks": ""
             }
            },
            "type": "parcoords"
           }
          ],
          "pie": [
           {
            "automargin": true,
            "type": "pie"
           }
          ],
          "scatter": [
           {
            "marker": {
             "colorbar": {
              "outlinewidth": 0,
              "ticks": ""
             }
            },
            "type": "scatter"
           }
          ],
          "scatter3d": [
           {
            "line": {
             "colorbar": {
              "outlinewidth": 0,
              "ticks": ""
             }
            },
            "marker": {
             "colorbar": {
              "outlinewidth": 0,
              "ticks": ""
             }
            },
            "type": "scatter3d"
           }
          ],
          "scattercarpet": [
           {
            "marker": {
             "colorbar": {
              "outlinewidth": 0,
              "ticks": ""
             }
            },
            "type": "scattercarpet"
           }
          ],
          "scattergeo": [
           {
            "marker": {
             "colorbar": {
              "outlinewidth": 0,
              "ticks": ""
             }
            },
            "type": "scattergeo"
           }
          ],
          "scattergl": [
           {
            "marker": {
             "colorbar": {
              "outlinewidth": 0,
              "ticks": ""
             }
            },
            "type": "scattergl"
           }
          ],
          "scattermapbox": [
           {
            "marker": {
             "colorbar": {
              "outlinewidth": 0,
              "ticks": ""
             }
            },
            "type": "scattermapbox"
           }
          ],
          "scatterpolar": [
           {
            "marker": {
             "colorbar": {
              "outlinewidth": 0,
              "ticks": ""
             }
            },
            "type": "scatterpolar"
           }
          ],
          "scatterpolargl": [
           {
            "marker": {
             "colorbar": {
              "outlinewidth": 0,
              "ticks": ""
             }
            },
            "type": "scatterpolargl"
           }
          ],
          "scatterternary": [
           {
            "marker": {
             "colorbar": {
              "outlinewidth": 0,
              "ticks": ""
             }
            },
            "type": "scatterternary"
           }
          ],
          "surface": [
           {
            "colorbar": {
             "outlinewidth": 0,
             "ticks": ""
            },
            "colorscale": [
             [
              0,
              "#0d0887"
             ],
             [
              0.1111111111111111,
              "#46039f"
             ],
             [
              0.2222222222222222,
              "#7201a8"
             ],
             [
              0.3333333333333333,
              "#9c179e"
             ],
             [
              0.4444444444444444,
              "#bd3786"
             ],
             [
              0.5555555555555556,
              "#d8576b"
             ],
             [
              0.6666666666666666,
              "#ed7953"
             ],
             [
              0.7777777777777778,
              "#fb9f3a"
             ],
             [
              0.8888888888888888,
              "#fdca26"
             ],
             [
              1,
              "#f0f921"
             ]
            ],
            "type": "surface"
           }
          ],
          "table": [
           {
            "cells": {
             "fill": {
              "color": "#EBF0F8"
             },
             "line": {
              "color": "white"
             }
            },
            "header": {
             "fill": {
              "color": "#C8D4E3"
             },
             "line": {
              "color": "white"
             }
            },
            "type": "table"
           }
          ]
         },
         "layout": {
          "annotationdefaults": {
           "arrowcolor": "#2a3f5f",
           "arrowhead": 0,
           "arrowwidth": 1
          },
          "autotypenumbers": "strict",
          "coloraxis": {
           "colorbar": {
            "outlinewidth": 0,
            "ticks": ""
           }
          },
          "colorscale": {
           "diverging": [
            [
             0,
             "#8e0152"
            ],
            [
             0.1,
             "#c51b7d"
            ],
            [
             0.2,
             "#de77ae"
            ],
            [
             0.3,
             "#f1b6da"
            ],
            [
             0.4,
             "#fde0ef"
            ],
            [
             0.5,
             "#f7f7f7"
            ],
            [
             0.6,
             "#e6f5d0"
            ],
            [
             0.7,
             "#b8e186"
            ],
            [
             0.8,
             "#7fbc41"
            ],
            [
             0.9,
             "#4d9221"
            ],
            [
             1,
             "#276419"
            ]
           ],
           "sequential": [
            [
             0,
             "#0d0887"
            ],
            [
             0.1111111111111111,
             "#46039f"
            ],
            [
             0.2222222222222222,
             "#7201a8"
            ],
            [
             0.3333333333333333,
             "#9c179e"
            ],
            [
             0.4444444444444444,
             "#bd3786"
            ],
            [
             0.5555555555555556,
             "#d8576b"
            ],
            [
             0.6666666666666666,
             "#ed7953"
            ],
            [
             0.7777777777777778,
             "#fb9f3a"
            ],
            [
             0.8888888888888888,
             "#fdca26"
            ],
            [
             1,
             "#f0f921"
            ]
           ],
           "sequentialminus": [
            [
             0,
             "#0d0887"
            ],
            [
             0.1111111111111111,
             "#46039f"
            ],
            [
             0.2222222222222222,
             "#7201a8"
            ],
            [
             0.3333333333333333,
             "#9c179e"
            ],
            [
             0.4444444444444444,
             "#bd3786"
            ],
            [
             0.5555555555555556,
             "#d8576b"
            ],
            [
             0.6666666666666666,
             "#ed7953"
            ],
            [
             0.7777777777777778,
             "#fb9f3a"
            ],
            [
             0.8888888888888888,
             "#fdca26"
            ],
            [
             1,
             "#f0f921"
            ]
           ]
          },
          "colorway": [
           "#636efa",
           "#EF553B",
           "#00cc96",
           "#ab63fa",
           "#FFA15A",
           "#19d3f3",
           "#FF6692",
           "#B6E880",
           "#FF97FF",
           "#FECB52"
          ],
          "font": {
           "color": "#2a3f5f"
          },
          "geo": {
           "bgcolor": "white",
           "lakecolor": "white",
           "landcolor": "#E5ECF6",
           "showlakes": true,
           "showland": true,
           "subunitcolor": "white"
          },
          "hoverlabel": {
           "align": "left"
          },
          "hovermode": "closest",
          "mapbox": {
           "style": "light"
          },
          "paper_bgcolor": "white",
          "plot_bgcolor": "#E5ECF6",
          "polar": {
           "angularaxis": {
            "gridcolor": "white",
            "linecolor": "white",
            "ticks": ""
           },
           "bgcolor": "#E5ECF6",
           "radialaxis": {
            "gridcolor": "white",
            "linecolor": "white",
            "ticks": ""
           }
          },
          "scene": {
           "xaxis": {
            "backgroundcolor": "#E5ECF6",
            "gridcolor": "white",
            "gridwidth": 2,
            "linecolor": "white",
            "showbackground": true,
            "ticks": "",
            "zerolinecolor": "white"
           },
           "yaxis": {
            "backgroundcolor": "#E5ECF6",
            "gridcolor": "white",
            "gridwidth": 2,
            "linecolor": "white",
            "showbackground": true,
            "ticks": "",
            "zerolinecolor": "white"
           },
           "zaxis": {
            "backgroundcolor": "#E5ECF6",
            "gridcolor": "white",
            "gridwidth": 2,
            "linecolor": "white",
            "showbackground": true,
            "ticks": "",
            "zerolinecolor": "white"
           }
          },
          "shapedefaults": {
           "line": {
            "color": "#2a3f5f"
           }
          },
          "ternary": {
           "aaxis": {
            "gridcolor": "white",
            "linecolor": "white",
            "ticks": ""
           },
           "baxis": {
            "gridcolor": "white",
            "linecolor": "white",
            "ticks": ""
           },
           "bgcolor": "#E5ECF6",
           "caxis": {
            "gridcolor": "white",
            "linecolor": "white",
            "ticks": ""
           }
          },
          "title": {
           "x": 0.05
          },
          "xaxis": {
           "automargin": true,
           "gridcolor": "white",
           "linecolor": "white",
           "ticks": "",
           "title": {
            "standoff": 15
           },
           "zerolinecolor": "white",
           "zerolinewidth": 2
          },
          "yaxis": {
           "automargin": true,
           "gridcolor": "white",
           "linecolor": "white",
           "ticks": "",
           "title": {
            "standoff": 15
           },
           "zerolinecolor": "white",
           "zerolinewidth": 2
          }
         }
        },
        "title": {
         "text": "<b>IMDb Rating vs Rating Count: ratings appear logarithmically correlated with rating count"
        },
        "xaxis": {
         "anchor": "y",
         "domain": [
          0,
          1
         ],
         "title": {
          "text": "imDbRatingVotes"
         },
         "type": "log"
        },
        "yaxis": {
         "anchor": "x",
         "domain": [
          0,
          1
         ],
         "title": {
          "text": "imDbRating"
         }
        }
       }
      }
     },
     "metadata": {},
     "output_type": "display_data"
    }
   ],
   "source": [
    "px.scatter(metascripts,\n",
    "           x = 'imDbRatingVotes',\n",
    "           y = 'imDbRating',\n",
    "           log_x=True,\n",
    "           hover_data = ['title'],\n",
    "           color_discrete_sequence=['saddlebrown'],\n",
    "           title = \"<b>IMDb Rating vs Rating Count: ratings appear logarithmically correlated with rating count\")"
   ]
  },
  {
   "cell_type": "markdown",
   "metadata": {},
   "source": [
    "Let's check the correlations and p-values between rating, rating votes, and the log of rating votes"
   ]
  },
  {
   "cell_type": "code",
   "execution_count": 241,
   "metadata": {},
   "outputs": [
    {
     "name": "stderr",
     "output_type": "stream",
     "text": [
      "c:\\Users\\jrior\\anaconda3\\lib\\site-packages\\pandas\\core\\arraylike.py:358: RuntimeWarning:\n",
      "\n",
      "divide by zero encountered in log\n",
      "\n"
     ]
    },
    {
     "data": {
      "text/html": [
       "<div>\n",
       "<style scoped>\n",
       "    .dataframe tbody tr th:only-of-type {\n",
       "        vertical-align: middle;\n",
       "    }\n",
       "\n",
       "    .dataframe tbody tr th {\n",
       "        vertical-align: top;\n",
       "    }\n",
       "\n",
       "    .dataframe thead th {\n",
       "        text-align: right;\n",
       "    }\n",
       "</style>\n",
       "<table border=\"1\" class=\"dataframe\">\n",
       "  <thead>\n",
       "    <tr style=\"text-align: right;\">\n",
       "      <th></th>\n",
       "      <th>imDbRating</th>\n",
       "      <th>imDbRatingVotes</th>\n",
       "      <th>log_imDbRatingVotes</th>\n",
       "    </tr>\n",
       "  </thead>\n",
       "  <tbody>\n",
       "    <tr>\n",
       "      <th>imDbRating</th>\n",
       "      <td>1.000000</td>\n",
       "      <td>0.344974</td>\n",
       "      <td>0.385701</td>\n",
       "    </tr>\n",
       "    <tr>\n",
       "      <th>imDbRatingVotes</th>\n",
       "      <td>0.344974</td>\n",
       "      <td>1.000000</td>\n",
       "      <td>0.732700</td>\n",
       "    </tr>\n",
       "    <tr>\n",
       "      <th>log_imDbRatingVotes</th>\n",
       "      <td>0.385701</td>\n",
       "      <td>0.732700</td>\n",
       "      <td>1.000000</td>\n",
       "    </tr>\n",
       "  </tbody>\n",
       "</table>\n",
       "</div>"
      ],
      "text/plain": [
       "                     imDbRating  imDbRatingVotes  log_imDbRatingVotes\n",
       "imDbRating             1.000000         0.344974             0.385701\n",
       "imDbRatingVotes        0.344974         1.000000             0.732700\n",
       "log_imDbRatingVotes    0.385701         0.732700             1.000000"
      ]
     },
     "execution_count": 241,
     "metadata": {},
     "output_type": "execute_result"
    }
   ],
   "source": [
    "metascripts[['imDbRating', 'imDbRatingVotes']].assign(log_imDbRatingVotes = lambda x: np.log(x['imDbRatingVotes'])).corr()"
   ]
  },
  {
   "cell_type": "code",
   "execution_count": 247,
   "metadata": {},
   "outputs": [
    {
     "data": {
      "text/html": [
       "<div>\n",
       "<style scoped>\n",
       "    .dataframe tbody tr th:only-of-type {\n",
       "        vertical-align: middle;\n",
       "    }\n",
       "\n",
       "    .dataframe tbody tr th {\n",
       "        vertical-align: top;\n",
       "    }\n",
       "\n",
       "    .dataframe thead th {\n",
       "        text-align: right;\n",
       "    }\n",
       "</style>\n",
       "<table border=\"1\" class=\"dataframe\">\n",
       "  <thead>\n",
       "    <tr style=\"text-align: right;\">\n",
       "      <th></th>\n",
       "      <th>imDbRating</th>\n",
       "      <th>imDbRatingVotes</th>\n",
       "      <th>log_imDbRatingVotes</th>\n",
       "    </tr>\n",
       "  </thead>\n",
       "  <tbody>\n",
       "    <tr>\n",
       "      <th>imDbRating</th>\n",
       "      <td>0.0</td>\n",
       "      <td>0.0</td>\n",
       "      <td>0.0</td>\n",
       "    </tr>\n",
       "    <tr>\n",
       "      <th>imDbRatingVotes</th>\n",
       "      <td>0.0</td>\n",
       "      <td>0.0</td>\n",
       "      <td>0.0</td>\n",
       "    </tr>\n",
       "    <tr>\n",
       "      <th>log_imDbRatingVotes</th>\n",
       "      <td>0.0</td>\n",
       "      <td>0.0</td>\n",
       "      <td>0.0</td>\n",
       "    </tr>\n",
       "  </tbody>\n",
       "</table>\n",
       "</div>"
      ],
      "text/plain": [
       "                    imDbRating imDbRatingVotes log_imDbRatingVotes\n",
       "imDbRating                 0.0             0.0                 0.0\n",
       "imDbRatingVotes            0.0             0.0                 0.0\n",
       "log_imDbRatingVotes        0.0             0.0                 0.0"
      ]
     },
     "execution_count": 247,
     "metadata": {},
     "output_type": "execute_result"
    }
   ],
   "source": [
    "from scipy.stats import pearsonr\n",
    "\n",
    "def calculate_pvalues(df):\n",
    "    df = df.dropna()._get_numeric_data()\n",
    "    dfcols = pd.DataFrame(columns=df.columns)\n",
    "    pvalues = dfcols.transpose().join(dfcols, how='outer')\n",
    "    for r in df.columns:\n",
    "        for c in df.columns:\n",
    "            pvalues[r][c] = round(pearsonr(df[r], df[c])[1], 4)\n",
    "    return pvalues\n",
    "\n",
    "calculate_pvalues(metascripts[['imDbRating', 'imDbRatingVotes']].assign(log_imDbRatingVotes = lambda x: np.log(x['imDbRatingVotes']+1)))"
   ]
  },
  {
   "cell_type": "markdown",
   "metadata": {},
   "source": [
    "## Number of Shows\n",
    "- By decade\n",
    "- by artist"
   ]
  },
  {
   "cell_type": "code",
   "execution_count": 243,
   "metadata": {},
   "outputs": [
    {
     "data": {
      "application/vnd.plotly.v1+json": {
       "config": {
        "plotlyServerURL": "https://plotly.com"
       },
       "data": [
        {
         "alignmentgroup": "True",
         "bingroup": "x",
         "hovertemplate": "year=%{x}<br>count=%{y}<extra></extra>",
         "legendgroup": "",
         "marker": {
          "color": "saddlebrown",
          "pattern": {
           "shape": ""
          }
         },
         "name": "",
         "offsetgroup": "",
         "orientation": "v",
         "showlegend": false,
         "type": "histogram",
         "x": [
          2021,
          2021,
          2018,
          2021,
          2021,
          2021,
          2016,
          2013,
          2021,
          2020,
          2016,
          2013,
          2021,
          2015,
          2020,
          2021,
          2021,
          2013,
          2018,
          2020,
          2010,
          2020,
          2020,
          2015,
          2020,
          2020,
          2019,
          2009,
          2020,
          2020,
          2020,
          2020,
          2020,
          2020,
          2020,
          1990,
          2020,
          2017,
          2017,
          2017,
          2019,
          2017,
          2016,
          2020,
          2017,
          2020,
          2020,
          2020,
          2012,
          2010,
          2007,
          2011,
          2020,
          2020,
          2013,
          2007,
          2020,
          2013,
          2017,
          2020,
          2020,
          2020,
          2016,
          2020,
          2019,
          2012,
          2018,
          2019,
          2019,
          2019,
          2015,
          2010,
          2012,
          2019,
          2019,
          2019,
          2019,
          2019,
          2019,
          2019,
          2019,
          2019,
          2019,
          2019,
          2019,
          2019,
          2014,
          2019,
          2019,
          2017,
          2019,
          2019,
          2016,
          1987,
          2016,
          2015,
          1988,
          2014,
          2019,
          2019,
          2009,
          2002,
          2019,
          2019,
          2018,
          2019,
          2015,
          2019,
          2018,
          2019,
          2019,
          2019,
          2019,
          2014,
          2012,
          2017,
          2018,
          2018,
          2018,
          2018,
          2016,
          2018,
          1998,
          2018,
          2018,
          2017,
          2018,
          2018,
          2018,
          2015,
          2013,
          2018,
          2018,
          2018,
          1992,
          2016,
          2018,
          2018,
          2015,
          2018,
          2016,
          2017,
          2010,
          2018,
          2006,
          2016,
          2012,
          2009,
          2018,
          2018,
          2015,
          2016,
          2018,
          2018,
          2018,
          2018,
          2018,
          1999,
          2018,
          2018,
          2018,
          2006,
          2013,
          2014,
          1997,
          1996,
          2017,
          2018,
          2018,
          2016,
          2009,
          2018,
          2007,
          2017,
          2018,
          2011,
          2013,
          1994,
          2007,
          2015,
          2004,
          2005,
          2016,
          1999,
          2015,
          2016,
          2013,
          2018,
          2017,
          2017,
          2000,
          2017,
          2017,
          1998,
          2011,
          2017,
          2017,
          2017,
          2013,
          2017,
          2014,
          2016,
          2011,
          2015,
          2004,
          2009,
          2017,
          2017,
          2017,
          2017,
          2015,
          2013,
          2014,
          2017,
          2008,
          2014,
          2005,
          2013,
          2006,
          2010,
          2013,
          1999,
          2007,
          2009,
          2016,
          2017,
          2015,
          2017,
          2017,
          2007,
          2013,
          2017,
          2012,
          2012,
          2016,
          2017,
          2016,
          2015,
          2015,
          1971,
          1983,
          2008,
          2012,
          2010,
          2015,
          2010,
          2016,
          2014,
          2014,
          2010,
          2016,
          2007,
          1977,
          2017,
          2016,
          2016,
          2015,
          2017,
          2013,
          2016,
          2013,
          2015,
          2015,
          1993,
          2016,
          2012,
          2004,
          2008,
          2017,
          2017,
          1986,
          1978,
          2008,
          2014,
          1984,
          2011,
          2010,
          2017,
          2017,
          2009,
          2010,
          2007,
          2014,
          2012,
          2004,
          2000,
          2011,
          2017,
          2013,
          2015,
          1992,
          2011,
          2011,
          2006,
          1979,
          1982,
          2017,
          2014,
          2017,
          2016,
          2010,
          1992,
          1999,
          2008,
          2016,
          1983,
          2017,
          1996,
          2017,
          1992,
          2016,
          2001,
          2005,
          2008,
          2020,
          2021
         ],
         "xaxis": "x",
         "xbins": {
          "size": 10
         },
         "yaxis": "y"
        }
       ],
       "layout": {
        "barmode": "relative",
        "legend": {
         "tracegroupgap": 0
        },
        "template": {
         "data": {
          "bar": [
           {
            "error_x": {
             "color": "#2a3f5f"
            },
            "error_y": {
             "color": "#2a3f5f"
            },
            "marker": {
             "line": {
              "color": "#E5ECF6",
              "width": 0.5
             },
             "pattern": {
              "fillmode": "overlay",
              "size": 10,
              "solidity": 0.2
             }
            },
            "type": "bar"
           }
          ],
          "barpolar": [
           {
            "marker": {
             "line": {
              "color": "#E5ECF6",
              "width": 0.5
             },
             "pattern": {
              "fillmode": "overlay",
              "size": 10,
              "solidity": 0.2
             }
            },
            "type": "barpolar"
           }
          ],
          "carpet": [
           {
            "aaxis": {
             "endlinecolor": "#2a3f5f",
             "gridcolor": "white",
             "linecolor": "white",
             "minorgridcolor": "white",
             "startlinecolor": "#2a3f5f"
            },
            "baxis": {
             "endlinecolor": "#2a3f5f",
             "gridcolor": "white",
             "linecolor": "white",
             "minorgridcolor": "white",
             "startlinecolor": "#2a3f5f"
            },
            "type": "carpet"
           }
          ],
          "choropleth": [
           {
            "colorbar": {
             "outlinewidth": 0,
             "ticks": ""
            },
            "type": "choropleth"
           }
          ],
          "contour": [
           {
            "colorbar": {
             "outlinewidth": 0,
             "ticks": ""
            },
            "colorscale": [
             [
              0,
              "#0d0887"
             ],
             [
              0.1111111111111111,
              "#46039f"
             ],
             [
              0.2222222222222222,
              "#7201a8"
             ],
             [
              0.3333333333333333,
              "#9c179e"
             ],
             [
              0.4444444444444444,
              "#bd3786"
             ],
             [
              0.5555555555555556,
              "#d8576b"
             ],
             [
              0.6666666666666666,
              "#ed7953"
             ],
             [
              0.7777777777777778,
              "#fb9f3a"
             ],
             [
              0.8888888888888888,
              "#fdca26"
             ],
             [
              1,
              "#f0f921"
             ]
            ],
            "type": "contour"
           }
          ],
          "contourcarpet": [
           {
            "colorbar": {
             "outlinewidth": 0,
             "ticks": ""
            },
            "type": "contourcarpet"
           }
          ],
          "heatmap": [
           {
            "colorbar": {
             "outlinewidth": 0,
             "ticks": ""
            },
            "colorscale": [
             [
              0,
              "#0d0887"
             ],
             [
              0.1111111111111111,
              "#46039f"
             ],
             [
              0.2222222222222222,
              "#7201a8"
             ],
             [
              0.3333333333333333,
              "#9c179e"
             ],
             [
              0.4444444444444444,
              "#bd3786"
             ],
             [
              0.5555555555555556,
              "#d8576b"
             ],
             [
              0.6666666666666666,
              "#ed7953"
             ],
             [
              0.7777777777777778,
              "#fb9f3a"
             ],
             [
              0.8888888888888888,
              "#fdca26"
             ],
             [
              1,
              "#f0f921"
             ]
            ],
            "type": "heatmap"
           }
          ],
          "heatmapgl": [
           {
            "colorbar": {
             "outlinewidth": 0,
             "ticks": ""
            },
            "colorscale": [
             [
              0,
              "#0d0887"
             ],
             [
              0.1111111111111111,
              "#46039f"
             ],
             [
              0.2222222222222222,
              "#7201a8"
             ],
             [
              0.3333333333333333,
              "#9c179e"
             ],
             [
              0.4444444444444444,
              "#bd3786"
             ],
             [
              0.5555555555555556,
              "#d8576b"
             ],
             [
              0.6666666666666666,
              "#ed7953"
             ],
             [
              0.7777777777777778,
              "#fb9f3a"
             ],
             [
              0.8888888888888888,
              "#fdca26"
             ],
             [
              1,
              "#f0f921"
             ]
            ],
            "type": "heatmapgl"
           }
          ],
          "histogram": [
           {
            "marker": {
             "pattern": {
              "fillmode": "overlay",
              "size": 10,
              "solidity": 0.2
             }
            },
            "type": "histogram"
           }
          ],
          "histogram2d": [
           {
            "colorbar": {
             "outlinewidth": 0,
             "ticks": ""
            },
            "colorscale": [
             [
              0,
              "#0d0887"
             ],
             [
              0.1111111111111111,
              "#46039f"
             ],
             [
              0.2222222222222222,
              "#7201a8"
             ],
             [
              0.3333333333333333,
              "#9c179e"
             ],
             [
              0.4444444444444444,
              "#bd3786"
             ],
             [
              0.5555555555555556,
              "#d8576b"
             ],
             [
              0.6666666666666666,
              "#ed7953"
             ],
             [
              0.7777777777777778,
              "#fb9f3a"
             ],
             [
              0.8888888888888888,
              "#fdca26"
             ],
             [
              1,
              "#f0f921"
             ]
            ],
            "type": "histogram2d"
           }
          ],
          "histogram2dcontour": [
           {
            "colorbar": {
             "outlinewidth": 0,
             "ticks": ""
            },
            "colorscale": [
             [
              0,
              "#0d0887"
             ],
             [
              0.1111111111111111,
              "#46039f"
             ],
             [
              0.2222222222222222,
              "#7201a8"
             ],
             [
              0.3333333333333333,
              "#9c179e"
             ],
             [
              0.4444444444444444,
              "#bd3786"
             ],
             [
              0.5555555555555556,
              "#d8576b"
             ],
             [
              0.6666666666666666,
              "#ed7953"
             ],
             [
              0.7777777777777778,
              "#fb9f3a"
             ],
             [
              0.8888888888888888,
              "#fdca26"
             ],
             [
              1,
              "#f0f921"
             ]
            ],
            "type": "histogram2dcontour"
           }
          ],
          "mesh3d": [
           {
            "colorbar": {
             "outlinewidth": 0,
             "ticks": ""
            },
            "type": "mesh3d"
           }
          ],
          "parcoords": [
           {
            "line": {
             "colorbar": {
              "outlinewidth": 0,
              "ticks": ""
             }
            },
            "type": "parcoords"
           }
          ],
          "pie": [
           {
            "automargin": true,
            "type": "pie"
           }
          ],
          "scatter": [
           {
            "marker": {
             "colorbar": {
              "outlinewidth": 0,
              "ticks": ""
             }
            },
            "type": "scatter"
           }
          ],
          "scatter3d": [
           {
            "line": {
             "colorbar": {
              "outlinewidth": 0,
              "ticks": ""
             }
            },
            "marker": {
             "colorbar": {
              "outlinewidth": 0,
              "ticks": ""
             }
            },
            "type": "scatter3d"
           }
          ],
          "scattercarpet": [
           {
            "marker": {
             "colorbar": {
              "outlinewidth": 0,
              "ticks": ""
             }
            },
            "type": "scattercarpet"
           }
          ],
          "scattergeo": [
           {
            "marker": {
             "colorbar": {
              "outlinewidth": 0,
              "ticks": ""
             }
            },
            "type": "scattergeo"
           }
          ],
          "scattergl": [
           {
            "marker": {
             "colorbar": {
              "outlinewidth": 0,
              "ticks": ""
             }
            },
            "type": "scattergl"
           }
          ],
          "scattermapbox": [
           {
            "marker": {
             "colorbar": {
              "outlinewidth": 0,
              "ticks": ""
             }
            },
            "type": "scattermapbox"
           }
          ],
          "scatterpolar": [
           {
            "marker": {
             "colorbar": {
              "outlinewidth": 0,
              "ticks": ""
             }
            },
            "type": "scatterpolar"
           }
          ],
          "scatterpolargl": [
           {
            "marker": {
             "colorbar": {
              "outlinewidth": 0,
              "ticks": ""
             }
            },
            "type": "scatterpolargl"
           }
          ],
          "scatterternary": [
           {
            "marker": {
             "colorbar": {
              "outlinewidth": 0,
              "ticks": ""
             }
            },
            "type": "scatterternary"
           }
          ],
          "surface": [
           {
            "colorbar": {
             "outlinewidth": 0,
             "ticks": ""
            },
            "colorscale": [
             [
              0,
              "#0d0887"
             ],
             [
              0.1111111111111111,
              "#46039f"
             ],
             [
              0.2222222222222222,
              "#7201a8"
             ],
             [
              0.3333333333333333,
              "#9c179e"
             ],
             [
              0.4444444444444444,
              "#bd3786"
             ],
             [
              0.5555555555555556,
              "#d8576b"
             ],
             [
              0.6666666666666666,
              "#ed7953"
             ],
             [
              0.7777777777777778,
              "#fb9f3a"
             ],
             [
              0.8888888888888888,
              "#fdca26"
             ],
             [
              1,
              "#f0f921"
             ]
            ],
            "type": "surface"
           }
          ],
          "table": [
           {
            "cells": {
             "fill": {
              "color": "#EBF0F8"
             },
             "line": {
              "color": "white"
             }
            },
            "header": {
             "fill": {
              "color": "#C8D4E3"
             },
             "line": {
              "color": "white"
             }
            },
            "type": "table"
           }
          ]
         },
         "layout": {
          "annotationdefaults": {
           "arrowcolor": "#2a3f5f",
           "arrowhead": 0,
           "arrowwidth": 1
          },
          "autotypenumbers": "strict",
          "coloraxis": {
           "colorbar": {
            "outlinewidth": 0,
            "ticks": ""
           }
          },
          "colorscale": {
           "diverging": [
            [
             0,
             "#8e0152"
            ],
            [
             0.1,
             "#c51b7d"
            ],
            [
             0.2,
             "#de77ae"
            ],
            [
             0.3,
             "#f1b6da"
            ],
            [
             0.4,
             "#fde0ef"
            ],
            [
             0.5,
             "#f7f7f7"
            ],
            [
             0.6,
             "#e6f5d0"
            ],
            [
             0.7,
             "#b8e186"
            ],
            [
             0.8,
             "#7fbc41"
            ],
            [
             0.9,
             "#4d9221"
            ],
            [
             1,
             "#276419"
            ]
           ],
           "sequential": [
            [
             0,
             "#0d0887"
            ],
            [
             0.1111111111111111,
             "#46039f"
            ],
            [
             0.2222222222222222,
             "#7201a8"
            ],
            [
             0.3333333333333333,
             "#9c179e"
            ],
            [
             0.4444444444444444,
             "#bd3786"
            ],
            [
             0.5555555555555556,
             "#d8576b"
            ],
            [
             0.6666666666666666,
             "#ed7953"
            ],
            [
             0.7777777777777778,
             "#fb9f3a"
            ],
            [
             0.8888888888888888,
             "#fdca26"
            ],
            [
             1,
             "#f0f921"
            ]
           ],
           "sequentialminus": [
            [
             0,
             "#0d0887"
            ],
            [
             0.1111111111111111,
             "#46039f"
            ],
            [
             0.2222222222222222,
             "#7201a8"
            ],
            [
             0.3333333333333333,
             "#9c179e"
            ],
            [
             0.4444444444444444,
             "#bd3786"
            ],
            [
             0.5555555555555556,
             "#d8576b"
            ],
            [
             0.6666666666666666,
             "#ed7953"
            ],
            [
             0.7777777777777778,
             "#fb9f3a"
            ],
            [
             0.8888888888888888,
             "#fdca26"
            ],
            [
             1,
             "#f0f921"
            ]
           ]
          },
          "colorway": [
           "#636efa",
           "#EF553B",
           "#00cc96",
           "#ab63fa",
           "#FFA15A",
           "#19d3f3",
           "#FF6692",
           "#B6E880",
           "#FF97FF",
           "#FECB52"
          ],
          "font": {
           "color": "#2a3f5f"
          },
          "geo": {
           "bgcolor": "white",
           "lakecolor": "white",
           "landcolor": "#E5ECF6",
           "showlakes": true,
           "showland": true,
           "subunitcolor": "white"
          },
          "hoverlabel": {
           "align": "left"
          },
          "hovermode": "closest",
          "mapbox": {
           "style": "light"
          },
          "paper_bgcolor": "white",
          "plot_bgcolor": "#E5ECF6",
          "polar": {
           "angularaxis": {
            "gridcolor": "white",
            "linecolor": "white",
            "ticks": ""
           },
           "bgcolor": "#E5ECF6",
           "radialaxis": {
            "gridcolor": "white",
            "linecolor": "white",
            "ticks": ""
           }
          },
          "scene": {
           "xaxis": {
            "backgroundcolor": "#E5ECF6",
            "gridcolor": "white",
            "gridwidth": 2,
            "linecolor": "white",
            "showbackground": true,
            "ticks": "",
            "zerolinecolor": "white"
           },
           "yaxis": {
            "backgroundcolor": "#E5ECF6",
            "gridcolor": "white",
            "gridwidth": 2,
            "linecolor": "white",
            "showbackground": true,
            "ticks": "",
            "zerolinecolor": "white"
           },
           "zaxis": {
            "backgroundcolor": "#E5ECF6",
            "gridcolor": "white",
            "gridwidth": 2,
            "linecolor": "white",
            "showbackground": true,
            "ticks": "",
            "zerolinecolor": "white"
           }
          },
          "shapedefaults": {
           "line": {
            "color": "#2a3f5f"
           }
          },
          "ternary": {
           "aaxis": {
            "gridcolor": "white",
            "linecolor": "white",
            "ticks": ""
           },
           "baxis": {
            "gridcolor": "white",
            "linecolor": "white",
            "ticks": ""
           },
           "bgcolor": "#E5ECF6",
           "caxis": {
            "gridcolor": "white",
            "linecolor": "white",
            "ticks": ""
           }
          },
          "title": {
           "x": 0.05
          },
          "xaxis": {
           "automargin": true,
           "gridcolor": "white",
           "linecolor": "white",
           "ticks": "",
           "title": {
            "standoff": 15
           },
           "zerolinecolor": "white",
           "zerolinewidth": 2
          },
          "yaxis": {
           "automargin": true,
           "gridcolor": "white",
           "linecolor": "white",
           "ticks": "",
           "title": {
            "standoff": 15
           },
           "zerolinecolor": "white",
           "zerolinewidth": 2
          }
         }
        },
        "title": {
         "text": "<b>Number of Shows by Decade: the vast majority of shows are in the 2010s<b>"
        },
        "xaxis": {
         "anchor": "y",
         "domain": [
          0,
          1
         ],
         "title": {
          "text": "year"
         }
        },
        "yaxis": {
         "anchor": "x",
         "domain": [
          0,
          1
         ],
         "title": {
          "text": "count"
         }
        }
       }
      }
     },
     "metadata": {},
     "output_type": "display_data"
    }
   ],
   "source": [
    "fig = px.histogram(metascripts, x = 'year', color_discrete_sequence=['saddlebrown'], title = '<b>Number of Shows by Decade: the vast majority of shows are in the 2010s<b>')\n",
    "fig.update_traces(xbins_size=10)"
   ]
  },
  {
   "cell_type": "code",
   "execution_count": 244,
   "metadata": {},
   "outputs": [
    {
     "data": {
      "application/vnd.plotly.v1+json": {
       "config": {
        "plotlyServerURL": "https://plotly.com"
       },
       "data": [
        {
         "alignmentgroup": "True",
         "boxpoints": "all",
         "customdata": [
          [
           "George Carlin"
          ],
          [
           "Louis C.K."
          ],
          [
           "Jim Jefferies"
          ],
          [
           "Dave Chappelle"
          ],
          [
           "Bill Burr"
          ],
          [
           "Chris Rock"
          ],
          [
           "Kevin Hart"
          ],
          [
           "Tom Segura"
          ],
          [
           "Jim Norton"
          ],
          [
           "Craig Ferguson"
          ],
          [
           "Eddie Izzard"
          ],
          [
           "Stewart Lee"
          ],
          [
           "Aziz Ansari"
          ],
          [
           "Jim Gaffigan"
          ],
          [
           "Jimmy Carr"
          ],
          [
           "Bo Burnham"
          ],
          [
           "Iliza Shlesinger"
          ],
          [
           "Amy Schumer"
          ],
          [
           "Doug Stanhope"
          ],
          [
           "Anthony Jeselnik"
          ],
          [
           "Brian Regan"
          ],
          [
           "Sebastian Maniscalco"
          ],
          [
           "Daniel Tosh"
          ],
          [
           "Kevin Bridges"
          ],
          [
           "Tom Papa"
          ],
          [
           "Whitney Cummings"
          ],
          [
           "Bill Maher"
          ],
          [
           "Jo Koy"
          ],
          [
           "Gabriel Iglesias"
          ],
          [
           "Russell Peters"
          ],
          [
           "Ricky Gervais"
          ],
          [
           "John Mulaney"
          ],
          [
           "Sarah Silverman"
          ],
          [
           "Trevor Noah"
          ],
          [
           "Nate Bargatze"
          ],
          [
           "Richard Pryor"
          ],
          [
           "Mike Birbiglia"
          ],
          [
           "Vir Das"
          ],
          [
           "Neal Brennan"
          ],
          [
           "Lee Mack"
          ],
          [
           "Eddie Griffin"
          ],
          [
           "Maria Bamford"
          ],
          [
           "Hannah Gadsby"
          ],
          [
           "Bill Hicks"
          ],
          [
           "Pete Davidson"
          ],
          [
           "Joe Rogan"
          ],
          [
           "Nikki Glaser"
          ],
          [
           "Katt Williams"
          ],
          [
           "Chris D'Elia"
          ],
          [
           "Ron White"
          ],
          [
           "Marc Maron"
          ],
          [
           "Demetri Martin"
          ],
          [
           "Roy Wood Jr."
          ],
          [
           "Ellen DeGeneres"
          ],
          [
           "Jerry Seinfeld"
          ],
          [
           "Jack Whitehall"
          ],
          [
           "Bert Kreischer"
          ],
          [
           "Ali Wong"
          ],
          [
           "Michael McIntyre"
          ],
          [
           "Michelle Wolf"
          ],
          [
           "Paul Mooney"
          ],
          [
           "Patton Oswalt"
          ],
          [
           "Robin Williams"
          ],
          [
           "Mo Amer"
          ],
          [
           "Eddie Murphy"
          ],
          [
           "Drew Michael"
          ],
          [
           "D.L. Hughley"
          ],
          [
           "Kathleen Madigan"
          ],
          [
           "George Lopez"
          ],
          [
           "Adam Devine"
          ],
          [
           "Ronny Chieng"
          ],
          [
           "Billy Connolly"
          ],
          [
           "Marlon Wayans"
          ],
          [
           "Henry Rollins"
          ],
          [
           "Reggie Watts"
          ],
          [
           "Fahim Anwar"
          ],
          [
           "Sam Morril"
          ],
          [
           "Maz Jobrani"
          ],
          [
           "Russell Brand"
          ],
          [
           "Dave Chappelle: 8"
          ],
          [
           "Hasan Minhaj"
          ],
          [
           "Gabriel \"Fluffy\" Iglesias"
          ],
          [
           "Rob Schneider"
          ],
          [
           "Joe Mande"
          ],
          [
           "Amy Schumer Presents Mark Normand"
          ],
          [
           "Pete Holmes"
          ],
          [
           "Todd Glass"
          ],
          [
           "Sarah Cooper"
          ],
          [
           "David Cross"
          ],
          [
           "Dana Carvey"
          ],
          [
           "Rowan Atkinson"
          ],
          [
           "Urzila Carlson"
          ],
          [
           "Christina P"
          ],
          [
           "Lewis Black"
          ],
          [
           "Seth Meyers"
          ],
          [
           "Dan Soder"
          ],
          [
           "Michael Che"
          ],
          [
           "Bridget Everett"
          ],
          [
           "Ricky Gervais Live 2"
          ],
          [
           "W. Kamau Bell"
          ],
          [
           "Sam Jay"
          ],
          [
           "Jeff Foxworthy & Larry the Cable Guy"
          ],
          [
           "Larry the Cable Guy"
          ],
          [
           "Emily Heller"
          ],
          [
           "Pablo Francisco"
          ],
          [
           "Chelsea Peretti"
          ],
          [
           "Deep in the Heart of Texas"
          ],
          [
           "Phil Wang"
          ],
          [
           "Joe List"
          ],
          [
           "Ari Shaffir"
          ],
          [
           "Nick Kroll"
          ],
          [
           "Erik Griffin"
          ],
          [
           "Adel Karam"
          ],
          [
           "Big Jay Oakerson"
          ],
          [
           "Chris Gethard"
          ],
          [
           "Donald Glover"
          ],
          [
           "Nick Offerman"
          ],
          [
           "Kavin Jay"
          ],
          [
           "T.J. Miller"
          ],
          [
           "Dylan Moran"
          ],
          [
           "Todd Barry"
          ],
          [
           "DeRay Davis"
          ],
          [
           "Brent Morin"
          ],
          [
           "Tiffany Haddish"
          ],
          [
           "Kenny Sebastian"
          ],
          [
           "Jeff Foxworthy"
          ],
          [
           "Enissa Amani"
          ],
          [
           "Ray Romano"
          ],
          [
           "Brad Williams"
          ],
          [
           "Russell Howard"
          ],
          [
           "Sara Pascoe Live"
          ],
          [
           "Jen Kirkman"
          ],
          [
           "Tig Notaro"
          ],
          [
           "Rory Scovel"
          ],
          [
           "Billy Wayne Davis, Ralphie May"
          ],
          [
           "Cristela Alonzo"
          ],
          [
           "Colin Quinn"
          ],
          [
           "Greg Davies"
          ],
          [
           "Hannibal Buress"
          ],
          [
           "Judah Friedlander"
          ],
          [
           "Dave Attell"
          ],
          [
           "Cedric the Entertainer"
          ],
          [
           "Lisa Lampanelli"
          ],
          [
           "Sarah Millican"
          ],
          [
           "Fred Armisen"
          ],
          [
           "Ramy Youssef"
          ],
          [
           "Norm Macdonald"
          ],
          [
           "Kevin Smith"
          ],
          [
           "Eric Andre"
          ],
          [
           "The Age of Spin"
          ],
          [
           "Amanda Seales"
          ],
          [
           "Patrice O'Neal"
          ],
          [
           "Kevin James"
          ],
          [
           "Wanda Sykes"
          ],
          [
           "Al Madrigal"
          ],
          [
           "Mike Epps"
          ],
          [
           "Jimmy O. Yang"
          ],
          [
           "Iliza"
          ],
          [
           "Russell Howard Live"
          ],
          [
           "Anjelah Johnson"
          ],
          [
           "Ken Jeong"
          ],
          [
           "Arsenio Hall"
          ],
          [
           "Chris Tucker"
          ],
          [
           "Adam Sandler"
          ],
          [
           "On Location"
          ]
         ],
         "hovertemplate": "count=%{x}<br>artist=%{customdata[0]}<extra></extra>",
         "legendgroup": "",
         "marker": {
          "color": "saddlebrown"
         },
         "name": "",
         "notched": false,
         "offsetgroup": "",
         "orientation": "h",
         "showlegend": false,
         "type": "box",
         "x": [
          14,
          9,
          8,
          7,
          6,
          6,
          5,
          4,
          4,
          4,
          4,
          4,
          4,
          4,
          4,
          4,
          4,
          4,
          4,
          3,
          3,
          3,
          3,
          3,
          3,
          3,
          3,
          3,
          3,
          3,
          3,
          3,
          3,
          3,
          3,
          3,
          3,
          2,
          2,
          2,
          2,
          2,
          2,
          2,
          2,
          2,
          2,
          2,
          2,
          2,
          2,
          2,
          2,
          2,
          2,
          2,
          2,
          2,
          2,
          2,
          2,
          2,
          2,
          2,
          2,
          2,
          2,
          2,
          1,
          1,
          1,
          1,
          1,
          1,
          1,
          1,
          1,
          1,
          1,
          1,
          1,
          1,
          1,
          1,
          1,
          1,
          1,
          1,
          1,
          1,
          1,
          1,
          1,
          1,
          1,
          1,
          1,
          1,
          1,
          1,
          1,
          1,
          1,
          1,
          1,
          1,
          1,
          1,
          1,
          1,
          1,
          1,
          1,
          1,
          1,
          1,
          1,
          1,
          1,
          1,
          1,
          1,
          1,
          1,
          1,
          1,
          1,
          1,
          1,
          1,
          1,
          1,
          1,
          1,
          1,
          1,
          1,
          1,
          1,
          1,
          1,
          1,
          1,
          1,
          1,
          1,
          1,
          1,
          1,
          1,
          1,
          1,
          1,
          1,
          1,
          1,
          1,
          1,
          1,
          1,
          1,
          1,
          1,
          1,
          1
         ],
         "x0": " ",
         "xaxis": "x",
         "y0": " ",
         "yaxis": "y"
        }
       ],
       "layout": {
        "boxmode": "group",
        "legend": {
         "tracegroupgap": 0
        },
        "template": {
         "data": {
          "bar": [
           {
            "error_x": {
             "color": "#2a3f5f"
            },
            "error_y": {
             "color": "#2a3f5f"
            },
            "marker": {
             "line": {
              "color": "#E5ECF6",
              "width": 0.5
             },
             "pattern": {
              "fillmode": "overlay",
              "size": 10,
              "solidity": 0.2
             }
            },
            "type": "bar"
           }
          ],
          "barpolar": [
           {
            "marker": {
             "line": {
              "color": "#E5ECF6",
              "width": 0.5
             },
             "pattern": {
              "fillmode": "overlay",
              "size": 10,
              "solidity": 0.2
             }
            },
            "type": "barpolar"
           }
          ],
          "carpet": [
           {
            "aaxis": {
             "endlinecolor": "#2a3f5f",
             "gridcolor": "white",
             "linecolor": "white",
             "minorgridcolor": "white",
             "startlinecolor": "#2a3f5f"
            },
            "baxis": {
             "endlinecolor": "#2a3f5f",
             "gridcolor": "white",
             "linecolor": "white",
             "minorgridcolor": "white",
             "startlinecolor": "#2a3f5f"
            },
            "type": "carpet"
           }
          ],
          "choropleth": [
           {
            "colorbar": {
             "outlinewidth": 0,
             "ticks": ""
            },
            "type": "choropleth"
           }
          ],
          "contour": [
           {
            "colorbar": {
             "outlinewidth": 0,
             "ticks": ""
            },
            "colorscale": [
             [
              0,
              "#0d0887"
             ],
             [
              0.1111111111111111,
              "#46039f"
             ],
             [
              0.2222222222222222,
              "#7201a8"
             ],
             [
              0.3333333333333333,
              "#9c179e"
             ],
             [
              0.4444444444444444,
              "#bd3786"
             ],
             [
              0.5555555555555556,
              "#d8576b"
             ],
             [
              0.6666666666666666,
              "#ed7953"
             ],
             [
              0.7777777777777778,
              "#fb9f3a"
             ],
             [
              0.8888888888888888,
              "#fdca26"
             ],
             [
              1,
              "#f0f921"
             ]
            ],
            "type": "contour"
           }
          ],
          "contourcarpet": [
           {
            "colorbar": {
             "outlinewidth": 0,
             "ticks": ""
            },
            "type": "contourcarpet"
           }
          ],
          "heatmap": [
           {
            "colorbar": {
             "outlinewidth": 0,
             "ticks": ""
            },
            "colorscale": [
             [
              0,
              "#0d0887"
             ],
             [
              0.1111111111111111,
              "#46039f"
             ],
             [
              0.2222222222222222,
              "#7201a8"
             ],
             [
              0.3333333333333333,
              "#9c179e"
             ],
             [
              0.4444444444444444,
              "#bd3786"
             ],
             [
              0.5555555555555556,
              "#d8576b"
             ],
             [
              0.6666666666666666,
              "#ed7953"
             ],
             [
              0.7777777777777778,
              "#fb9f3a"
             ],
             [
              0.8888888888888888,
              "#fdca26"
             ],
             [
              1,
              "#f0f921"
             ]
            ],
            "type": "heatmap"
           }
          ],
          "heatmapgl": [
           {
            "colorbar": {
             "outlinewidth": 0,
             "ticks": ""
            },
            "colorscale": [
             [
              0,
              "#0d0887"
             ],
             [
              0.1111111111111111,
              "#46039f"
             ],
             [
              0.2222222222222222,
              "#7201a8"
             ],
             [
              0.3333333333333333,
              "#9c179e"
             ],
             [
              0.4444444444444444,
              "#bd3786"
             ],
             [
              0.5555555555555556,
              "#d8576b"
             ],
             [
              0.6666666666666666,
              "#ed7953"
             ],
             [
              0.7777777777777778,
              "#fb9f3a"
             ],
             [
              0.8888888888888888,
              "#fdca26"
             ],
             [
              1,
              "#f0f921"
             ]
            ],
            "type": "heatmapgl"
           }
          ],
          "histogram": [
           {
            "marker": {
             "pattern": {
              "fillmode": "overlay",
              "size": 10,
              "solidity": 0.2
             }
            },
            "type": "histogram"
           }
          ],
          "histogram2d": [
           {
            "colorbar": {
             "outlinewidth": 0,
             "ticks": ""
            },
            "colorscale": [
             [
              0,
              "#0d0887"
             ],
             [
              0.1111111111111111,
              "#46039f"
             ],
             [
              0.2222222222222222,
              "#7201a8"
             ],
             [
              0.3333333333333333,
              "#9c179e"
             ],
             [
              0.4444444444444444,
              "#bd3786"
             ],
             [
              0.5555555555555556,
              "#d8576b"
             ],
             [
              0.6666666666666666,
              "#ed7953"
             ],
             [
              0.7777777777777778,
              "#fb9f3a"
             ],
             [
              0.8888888888888888,
              "#fdca26"
             ],
             [
              1,
              "#f0f921"
             ]
            ],
            "type": "histogram2d"
           }
          ],
          "histogram2dcontour": [
           {
            "colorbar": {
             "outlinewidth": 0,
             "ticks": ""
            },
            "colorscale": [
             [
              0,
              "#0d0887"
             ],
             [
              0.1111111111111111,
              "#46039f"
             ],
             [
              0.2222222222222222,
              "#7201a8"
             ],
             [
              0.3333333333333333,
              "#9c179e"
             ],
             [
              0.4444444444444444,
              "#bd3786"
             ],
             [
              0.5555555555555556,
              "#d8576b"
             ],
             [
              0.6666666666666666,
              "#ed7953"
             ],
             [
              0.7777777777777778,
              "#fb9f3a"
             ],
             [
              0.8888888888888888,
              "#fdca26"
             ],
             [
              1,
              "#f0f921"
             ]
            ],
            "type": "histogram2dcontour"
           }
          ],
          "mesh3d": [
           {
            "colorbar": {
             "outlinewidth": 0,
             "ticks": ""
            },
            "type": "mesh3d"
           }
          ],
          "parcoords": [
           {
            "line": {
             "colorbar": {
              "outlinewidth": 0,
              "ticks": ""
             }
            },
            "type": "parcoords"
           }
          ],
          "pie": [
           {
            "automargin": true,
            "type": "pie"
           }
          ],
          "scatter": [
           {
            "marker": {
             "colorbar": {
              "outlinewidth": 0,
              "ticks": ""
             }
            },
            "type": "scatter"
           }
          ],
          "scatter3d": [
           {
            "line": {
             "colorbar": {
              "outlinewidth": 0,
              "ticks": ""
             }
            },
            "marker": {
             "colorbar": {
              "outlinewidth": 0,
              "ticks": ""
             }
            },
            "type": "scatter3d"
           }
          ],
          "scattercarpet": [
           {
            "marker": {
             "colorbar": {
              "outlinewidth": 0,
              "ticks": ""
             }
            },
            "type": "scattercarpet"
           }
          ],
          "scattergeo": [
           {
            "marker": {
             "colorbar": {
              "outlinewidth": 0,
              "ticks": ""
             }
            },
            "type": "scattergeo"
           }
          ],
          "scattergl": [
           {
            "marker": {
             "colorbar": {
              "outlinewidth": 0,
              "ticks": ""
             }
            },
            "type": "scattergl"
           }
          ],
          "scattermapbox": [
           {
            "marker": {
             "colorbar": {
              "outlinewidth": 0,
              "ticks": ""
             }
            },
            "type": "scattermapbox"
           }
          ],
          "scatterpolar": [
           {
            "marker": {
             "colorbar": {
              "outlinewidth": 0,
              "ticks": ""
             }
            },
            "type": "scatterpolar"
           }
          ],
          "scatterpolargl": [
           {
            "marker": {
             "colorbar": {
              "outlinewidth": 0,
              "ticks": ""
             }
            },
            "type": "scatterpolargl"
           }
          ],
          "scatterternary": [
           {
            "marker": {
             "colorbar": {
              "outlinewidth": 0,
              "ticks": ""
             }
            },
            "type": "scatterternary"
           }
          ],
          "surface": [
           {
            "colorbar": {
             "outlinewidth": 0,
             "ticks": ""
            },
            "colorscale": [
             [
              0,
              "#0d0887"
             ],
             [
              0.1111111111111111,
              "#46039f"
             ],
             [
              0.2222222222222222,
              "#7201a8"
             ],
             [
              0.3333333333333333,
              "#9c179e"
             ],
             [
              0.4444444444444444,
              "#bd3786"
             ],
             [
              0.5555555555555556,
              "#d8576b"
             ],
             [
              0.6666666666666666,
              "#ed7953"
             ],
             [
              0.7777777777777778,
              "#fb9f3a"
             ],
             [
              0.8888888888888888,
              "#fdca26"
             ],
             [
              1,
              "#f0f921"
             ]
            ],
            "type": "surface"
           }
          ],
          "table": [
           {
            "cells": {
             "fill": {
              "color": "#EBF0F8"
             },
             "line": {
              "color": "white"
             }
            },
            "header": {
             "fill": {
              "color": "#C8D4E3"
             },
             "line": {
              "color": "white"
             }
            },
            "type": "table"
           }
          ]
         },
         "layout": {
          "annotationdefaults": {
           "arrowcolor": "#2a3f5f",
           "arrowhead": 0,
           "arrowwidth": 1
          },
          "autotypenumbers": "strict",
          "coloraxis": {
           "colorbar": {
            "outlinewidth": 0,
            "ticks": ""
           }
          },
          "colorscale": {
           "diverging": [
            [
             0,
             "#8e0152"
            ],
            [
             0.1,
             "#c51b7d"
            ],
            [
             0.2,
             "#de77ae"
            ],
            [
             0.3,
             "#f1b6da"
            ],
            [
             0.4,
             "#fde0ef"
            ],
            [
             0.5,
             "#f7f7f7"
            ],
            [
             0.6,
             "#e6f5d0"
            ],
            [
             0.7,
             "#b8e186"
            ],
            [
             0.8,
             "#7fbc41"
            ],
            [
             0.9,
             "#4d9221"
            ],
            [
             1,
             "#276419"
            ]
           ],
           "sequential": [
            [
             0,
             "#0d0887"
            ],
            [
             0.1111111111111111,
             "#46039f"
            ],
            [
             0.2222222222222222,
             "#7201a8"
            ],
            [
             0.3333333333333333,
             "#9c179e"
            ],
            [
             0.4444444444444444,
             "#bd3786"
            ],
            [
             0.5555555555555556,
             "#d8576b"
            ],
            [
             0.6666666666666666,
             "#ed7953"
            ],
            [
             0.7777777777777778,
             "#fb9f3a"
            ],
            [
             0.8888888888888888,
             "#fdca26"
            ],
            [
             1,
             "#f0f921"
            ]
           ],
           "sequentialminus": [
            [
             0,
             "#0d0887"
            ],
            [
             0.1111111111111111,
             "#46039f"
            ],
            [
             0.2222222222222222,
             "#7201a8"
            ],
            [
             0.3333333333333333,
             "#9c179e"
            ],
            [
             0.4444444444444444,
             "#bd3786"
            ],
            [
             0.5555555555555556,
             "#d8576b"
            ],
            [
             0.6666666666666666,
             "#ed7953"
            ],
            [
             0.7777777777777778,
             "#fb9f3a"
            ],
            [
             0.8888888888888888,
             "#fdca26"
            ],
            [
             1,
             "#f0f921"
            ]
           ]
          },
          "colorway": [
           "#636efa",
           "#EF553B",
           "#00cc96",
           "#ab63fa",
           "#FFA15A",
           "#19d3f3",
           "#FF6692",
           "#B6E880",
           "#FF97FF",
           "#FECB52"
          ],
          "font": {
           "color": "#2a3f5f"
          },
          "geo": {
           "bgcolor": "white",
           "lakecolor": "white",
           "landcolor": "#E5ECF6",
           "showlakes": true,
           "showland": true,
           "subunitcolor": "white"
          },
          "hoverlabel": {
           "align": "left"
          },
          "hovermode": "closest",
          "mapbox": {
           "style": "light"
          },
          "paper_bgcolor": "white",
          "plot_bgcolor": "#E5ECF6",
          "polar": {
           "angularaxis": {
            "gridcolor": "white",
            "linecolor": "white",
            "ticks": ""
           },
           "bgcolor": "#E5ECF6",
           "radialaxis": {
            "gridcolor": "white",
            "linecolor": "white",
            "ticks": ""
           }
          },
          "scene": {
           "xaxis": {
            "backgroundcolor": "#E5ECF6",
            "gridcolor": "white",
            "gridwidth": 2,
            "linecolor": "white",
            "showbackground": true,
            "ticks": "",
            "zerolinecolor": "white"
           },
           "yaxis": {
            "backgroundcolor": "#E5ECF6",
            "gridcolor": "white",
            "gridwidth": 2,
            "linecolor": "white",
            "showbackground": true,
            "ticks": "",
            "zerolinecolor": "white"
           },
           "zaxis": {
            "backgroundcolor": "#E5ECF6",
            "gridcolor": "white",
            "gridwidth": 2,
            "linecolor": "white",
            "showbackground": true,
            "ticks": "",
            "zerolinecolor": "white"
           }
          },
          "shapedefaults": {
           "line": {
            "color": "#2a3f5f"
           }
          },
          "ternary": {
           "aaxis": {
            "gridcolor": "white",
            "linecolor": "white",
            "ticks": ""
           },
           "baxis": {
            "gridcolor": "white",
            "linecolor": "white",
            "ticks": ""
           },
           "bgcolor": "#E5ECF6",
           "caxis": {
            "gridcolor": "white",
            "linecolor": "white",
            "ticks": ""
           }
          },
          "title": {
           "x": 0.05
          },
          "xaxis": {
           "automargin": true,
           "gridcolor": "white",
           "linecolor": "white",
           "ticks": "",
           "title": {
            "standoff": 15
           },
           "zerolinecolor": "white",
           "zerolinewidth": 2
          },
          "yaxis": {
           "automargin": true,
           "gridcolor": "white",
           "linecolor": "white",
           "ticks": "",
           "title": {
            "standoff": 15
           },
           "zerolinecolor": "white",
           "zerolinewidth": 2
          }
         }
        },
        "title": {
         "text": "<b>Boxplot & Swarm of Number of Shows by Artist: some major outliers, but almost everyone is 3 or under<b>"
        },
        "xaxis": {
         "anchor": "y",
         "domain": [
          0,
          1
         ],
         "title": {
          "text": "count"
         }
        },
        "yaxis": {
         "anchor": "x",
         "domain": [
          0,
          1
         ]
        }
       }
      }
     },
     "metadata": {},
     "output_type": "display_data"
    }
   ],
   "source": [
    "artist_counts = metascripts['artist'].value_counts().reset_index().rename(columns = {'index':'artist', 'artist':'count'})\n",
    "px.box(artist_counts, \n",
    "       x = 'count', \n",
    "       hover_data=['artist'], \n",
    "       color_discrete_sequence=['saddlebrown'], \n",
    "       points = 'all',\n",
    "       title = '<b>Boxplot & Swarm of Number of Shows by Artist: some major outliers, but almost everyone is 3 or under<b>')"
   ]
  },
  {
   "cell_type": "markdown",
   "metadata": {},
   "source": [
    "## Runtime in Minutes"
   ]
  },
  {
   "cell_type": "code",
   "execution_count": 245,
   "metadata": {},
   "outputs": [
    {
     "data": {
      "application/vnd.plotly.v1+json": {
       "config": {
        "plotlyServerURL": "https://plotly.com"
       },
       "data": [
        {
         "alignmentgroup": "True",
         "bingroup": "x",
         "hovertemplate": "runtimeMins=%{x}<br>count=%{y}<extra></extra>",
         "legendgroup": "",
         "marker": {
          "color": "saddlebrown",
          "pattern": {
           "shape": ""
          }
         },
         "name": "",
         "offsetgroup": "",
         "orientation": "v",
         "showlegend": false,
         "type": "histogram",
         "x": [
          70,
          63,
          60,
          58,
          64,
          72,
          72,
          65,
          63,
          60,
          59,
          60,
          87,
          55,
          56,
          60,
          58,
          61,
          98,
          49,
          63,
          50,
          67,
          75,
          69,
          47,
          63,
          80,
          62,
          44,
          64,
          58,
          62,
          51,
          66,
          60,
          51,
          50,
          55,
          89,
          60,
          60,
          96,
          72,
          73,
          66,
          67,
          57,
          59,
          71,
          68,
          67,
          60,
          60,
          61,
          60,
          74,
          60,
          65,
          70,
          62,
          71,
          58,
          49,
          60,
          123,
          119,
          77,
          64,
          75,
          85,
          120,
          73,
          59,
          55,
          85,
          78,
          61,
          63,
          63,
          67,
          65,
          68,
          70,
          59,
          65,
          82,
          63,
          58,
          62,
          60,
          60,
          60,
          93,
          62,
          61,
          61,
          74,
          64,
          61,
          90,
          99,
          58,
          60,
          65,
          60,
          64,
          60,
          60,
          62,
          58,
          90,
          65,
          63,
          75,
          104,
          68,
          57,
          67,
          63,
          75,
          73,
          56,
          63,
          56,
          66,
          58,
          63,
          58,
          71,
          75,
          57,
          56,
          65,
          55,
          77,
          72,
          90,
          58,
          69,
          61,
          66,
          86,
          70,
          72,
          73,
          120,
          83,
          57,
          62,
          67,
          62,
          64,
          53,
          65,
          74,
          66,
          65,
          68,
          79,
          59,
          70,
          76,
          60,
          99,
          58,
          60,
          98,
          65,
          64,
          104,
          62,
          60,
          61,
          60,
          102,
          91,
          75,
          52,
          47,
          80,
          78,
          62,
          115,
          92,
          96,
          75,
          71,
          58,
          64,
          66,
          112,
          60,
          75,
          66,
          49,
          49,
          60,
          81,
          69,
          55,
          70,
          100,
          90,
          68,
          77,
          59,
          67,
          66,
          84,
          58,
          80,
          86,
          66,
          79,
          61,
          72,
          53,
          60,
          79,
          99,
          65,
          60,
          60,
          87,
          66,
          59,
          61,
          69,
          60,
          68,
          65,
          60,
          65,
          60,
          61,
          62,
          75,
          78,
          48,
          83,
          55,
          61,
          120,
          61,
          72,
          83,
          60,
          78,
          56,
          68,
          61,
          85,
          61,
          61,
          63,
          62,
          64,
          60,
          60,
          59,
          59,
          62,
          57,
          49,
          67,
          95,
          71,
          70,
          71,
          60,
          81,
          61,
          74,
          60,
          63,
          74,
          57,
          73,
          58,
          82,
          56,
          80,
          69,
          60,
          57,
          82,
          77,
          58,
          66,
          61,
          60,
          78,
          86,
          78,
          82,
          67,
          77,
          66,
          73,
          65,
          59,
          65,
          70,
          86,
          69,
          67,
          60,
          74,
          59,
          61,
          55,
          75,
          70,
          27,
          60
         ],
         "xaxis": "x",
         "yaxis": "y"
        }
       ],
       "layout": {
        "barmode": "relative",
        "legend": {
         "tracegroupgap": 0
        },
        "template": {
         "data": {
          "bar": [
           {
            "error_x": {
             "color": "#2a3f5f"
            },
            "error_y": {
             "color": "#2a3f5f"
            },
            "marker": {
             "line": {
              "color": "#E5ECF6",
              "width": 0.5
             },
             "pattern": {
              "fillmode": "overlay",
              "size": 10,
              "solidity": 0.2
             }
            },
            "type": "bar"
           }
          ],
          "barpolar": [
           {
            "marker": {
             "line": {
              "color": "#E5ECF6",
              "width": 0.5
             },
             "pattern": {
              "fillmode": "overlay",
              "size": 10,
              "solidity": 0.2
             }
            },
            "type": "barpolar"
           }
          ],
          "carpet": [
           {
            "aaxis": {
             "endlinecolor": "#2a3f5f",
             "gridcolor": "white",
             "linecolor": "white",
             "minorgridcolor": "white",
             "startlinecolor": "#2a3f5f"
            },
            "baxis": {
             "endlinecolor": "#2a3f5f",
             "gridcolor": "white",
             "linecolor": "white",
             "minorgridcolor": "white",
             "startlinecolor": "#2a3f5f"
            },
            "type": "carpet"
           }
          ],
          "choropleth": [
           {
            "colorbar": {
             "outlinewidth": 0,
             "ticks": ""
            },
            "type": "choropleth"
           }
          ],
          "contour": [
           {
            "colorbar": {
             "outlinewidth": 0,
             "ticks": ""
            },
            "colorscale": [
             [
              0,
              "#0d0887"
             ],
             [
              0.1111111111111111,
              "#46039f"
             ],
             [
              0.2222222222222222,
              "#7201a8"
             ],
             [
              0.3333333333333333,
              "#9c179e"
             ],
             [
              0.4444444444444444,
              "#bd3786"
             ],
             [
              0.5555555555555556,
              "#d8576b"
             ],
             [
              0.6666666666666666,
              "#ed7953"
             ],
             [
              0.7777777777777778,
              "#fb9f3a"
             ],
             [
              0.8888888888888888,
              "#fdca26"
             ],
             [
              1,
              "#f0f921"
             ]
            ],
            "type": "contour"
           }
          ],
          "contourcarpet": [
           {
            "colorbar": {
             "outlinewidth": 0,
             "ticks": ""
            },
            "type": "contourcarpet"
           }
          ],
          "heatmap": [
           {
            "colorbar": {
             "outlinewidth": 0,
             "ticks": ""
            },
            "colorscale": [
             [
              0,
              "#0d0887"
             ],
             [
              0.1111111111111111,
              "#46039f"
             ],
             [
              0.2222222222222222,
              "#7201a8"
             ],
             [
              0.3333333333333333,
              "#9c179e"
             ],
             [
              0.4444444444444444,
              "#bd3786"
             ],
             [
              0.5555555555555556,
              "#d8576b"
             ],
             [
              0.6666666666666666,
              "#ed7953"
             ],
             [
              0.7777777777777778,
              "#fb9f3a"
             ],
             [
              0.8888888888888888,
              "#fdca26"
             ],
             [
              1,
              "#f0f921"
             ]
            ],
            "type": "heatmap"
           }
          ],
          "heatmapgl": [
           {
            "colorbar": {
             "outlinewidth": 0,
             "ticks": ""
            },
            "colorscale": [
             [
              0,
              "#0d0887"
             ],
             [
              0.1111111111111111,
              "#46039f"
             ],
             [
              0.2222222222222222,
              "#7201a8"
             ],
             [
              0.3333333333333333,
              "#9c179e"
             ],
             [
              0.4444444444444444,
              "#bd3786"
             ],
             [
              0.5555555555555556,
              "#d8576b"
             ],
             [
              0.6666666666666666,
              "#ed7953"
             ],
             [
              0.7777777777777778,
              "#fb9f3a"
             ],
             [
              0.8888888888888888,
              "#fdca26"
             ],
             [
              1,
              "#f0f921"
             ]
            ],
            "type": "heatmapgl"
           }
          ],
          "histogram": [
           {
            "marker": {
             "pattern": {
              "fillmode": "overlay",
              "size": 10,
              "solidity": 0.2
             }
            },
            "type": "histogram"
           }
          ],
          "histogram2d": [
           {
            "colorbar": {
             "outlinewidth": 0,
             "ticks": ""
            },
            "colorscale": [
             [
              0,
              "#0d0887"
             ],
             [
              0.1111111111111111,
              "#46039f"
             ],
             [
              0.2222222222222222,
              "#7201a8"
             ],
             [
              0.3333333333333333,
              "#9c179e"
             ],
             [
              0.4444444444444444,
              "#bd3786"
             ],
             [
              0.5555555555555556,
              "#d8576b"
             ],
             [
              0.6666666666666666,
              "#ed7953"
             ],
             [
              0.7777777777777778,
              "#fb9f3a"
             ],
             [
              0.8888888888888888,
              "#fdca26"
             ],
             [
              1,
              "#f0f921"
             ]
            ],
            "type": "histogram2d"
           }
          ],
          "histogram2dcontour": [
           {
            "colorbar": {
             "outlinewidth": 0,
             "ticks": ""
            },
            "colorscale": [
             [
              0,
              "#0d0887"
             ],
             [
              0.1111111111111111,
              "#46039f"
             ],
             [
              0.2222222222222222,
              "#7201a8"
             ],
             [
              0.3333333333333333,
              "#9c179e"
             ],
             [
              0.4444444444444444,
              "#bd3786"
             ],
             [
              0.5555555555555556,
              "#d8576b"
             ],
             [
              0.6666666666666666,
              "#ed7953"
             ],
             [
              0.7777777777777778,
              "#fb9f3a"
             ],
             [
              0.8888888888888888,
              "#fdca26"
             ],
             [
              1,
              "#f0f921"
             ]
            ],
            "type": "histogram2dcontour"
           }
          ],
          "mesh3d": [
           {
            "colorbar": {
             "outlinewidth": 0,
             "ticks": ""
            },
            "type": "mesh3d"
           }
          ],
          "parcoords": [
           {
            "line": {
             "colorbar": {
              "outlinewidth": 0,
              "ticks": ""
             }
            },
            "type": "parcoords"
           }
          ],
          "pie": [
           {
            "automargin": true,
            "type": "pie"
           }
          ],
          "scatter": [
           {
            "marker": {
             "colorbar": {
              "outlinewidth": 0,
              "ticks": ""
             }
            },
            "type": "scatter"
           }
          ],
          "scatter3d": [
           {
            "line": {
             "colorbar": {
              "outlinewidth": 0,
              "ticks": ""
             }
            },
            "marker": {
             "colorbar": {
              "outlinewidth": 0,
              "ticks": ""
             }
            },
            "type": "scatter3d"
           }
          ],
          "scattercarpet": [
           {
            "marker": {
             "colorbar": {
              "outlinewidth": 0,
              "ticks": ""
             }
            },
            "type": "scattercarpet"
           }
          ],
          "scattergeo": [
           {
            "marker": {
             "colorbar": {
              "outlinewidth": 0,
              "ticks": ""
             }
            },
            "type": "scattergeo"
           }
          ],
          "scattergl": [
           {
            "marker": {
             "colorbar": {
              "outlinewidth": 0,
              "ticks": ""
             }
            },
            "type": "scattergl"
           }
          ],
          "scattermapbox": [
           {
            "marker": {
             "colorbar": {
              "outlinewidth": 0,
              "ticks": ""
             }
            },
            "type": "scattermapbox"
           }
          ],
          "scatterpolar": [
           {
            "marker": {
             "colorbar": {
              "outlinewidth": 0,
              "ticks": ""
             }
            },
            "type": "scatterpolar"
           }
          ],
          "scatterpolargl": [
           {
            "marker": {
             "colorbar": {
              "outlinewidth": 0,
              "ticks": ""
             }
            },
            "type": "scatterpolargl"
           }
          ],
          "scatterternary": [
           {
            "marker": {
             "colorbar": {
              "outlinewidth": 0,
              "ticks": ""
             }
            },
            "type": "scatterternary"
           }
          ],
          "surface": [
           {
            "colorbar": {
             "outlinewidth": 0,
             "ticks": ""
            },
            "colorscale": [
             [
              0,
              "#0d0887"
             ],
             [
              0.1111111111111111,
              "#46039f"
             ],
             [
              0.2222222222222222,
              "#7201a8"
             ],
             [
              0.3333333333333333,
              "#9c179e"
             ],
             [
              0.4444444444444444,
              "#bd3786"
             ],
             [
              0.5555555555555556,
              "#d8576b"
             ],
             [
              0.6666666666666666,
              "#ed7953"
             ],
             [
              0.7777777777777778,
              "#fb9f3a"
             ],
             [
              0.8888888888888888,
              "#fdca26"
             ],
             [
              1,
              "#f0f921"
             ]
            ],
            "type": "surface"
           }
          ],
          "table": [
           {
            "cells": {
             "fill": {
              "color": "#EBF0F8"
             },
             "line": {
              "color": "white"
             }
            },
            "header": {
             "fill": {
              "color": "#C8D4E3"
             },
             "line": {
              "color": "white"
             }
            },
            "type": "table"
           }
          ]
         },
         "layout": {
          "annotationdefaults": {
           "arrowcolor": "#2a3f5f",
           "arrowhead": 0,
           "arrowwidth": 1
          },
          "autotypenumbers": "strict",
          "coloraxis": {
           "colorbar": {
            "outlinewidth": 0,
            "ticks": ""
           }
          },
          "colorscale": {
           "diverging": [
            [
             0,
             "#8e0152"
            ],
            [
             0.1,
             "#c51b7d"
            ],
            [
             0.2,
             "#de77ae"
            ],
            [
             0.3,
             "#f1b6da"
            ],
            [
             0.4,
             "#fde0ef"
            ],
            [
             0.5,
             "#f7f7f7"
            ],
            [
             0.6,
             "#e6f5d0"
            ],
            [
             0.7,
             "#b8e186"
            ],
            [
             0.8,
             "#7fbc41"
            ],
            [
             0.9,
             "#4d9221"
            ],
            [
             1,
             "#276419"
            ]
           ],
           "sequential": [
            [
             0,
             "#0d0887"
            ],
            [
             0.1111111111111111,
             "#46039f"
            ],
            [
             0.2222222222222222,
             "#7201a8"
            ],
            [
             0.3333333333333333,
             "#9c179e"
            ],
            [
             0.4444444444444444,
             "#bd3786"
            ],
            [
             0.5555555555555556,
             "#d8576b"
            ],
            [
             0.6666666666666666,
             "#ed7953"
            ],
            [
             0.7777777777777778,
             "#fb9f3a"
            ],
            [
             0.8888888888888888,
             "#fdca26"
            ],
            [
             1,
             "#f0f921"
            ]
           ],
           "sequentialminus": [
            [
             0,
             "#0d0887"
            ],
            [
             0.1111111111111111,
             "#46039f"
            ],
            [
             0.2222222222222222,
             "#7201a8"
            ],
            [
             0.3333333333333333,
             "#9c179e"
            ],
            [
             0.4444444444444444,
             "#bd3786"
            ],
            [
             0.5555555555555556,
             "#d8576b"
            ],
            [
             0.6666666666666666,
             "#ed7953"
            ],
            [
             0.7777777777777778,
             "#fb9f3a"
            ],
            [
             0.8888888888888888,
             "#fdca26"
            ],
            [
             1,
             "#f0f921"
            ]
           ]
          },
          "colorway": [
           "#636efa",
           "#EF553B",
           "#00cc96",
           "#ab63fa",
           "#FFA15A",
           "#19d3f3",
           "#FF6692",
           "#B6E880",
           "#FF97FF",
           "#FECB52"
          ],
          "font": {
           "color": "#2a3f5f"
          },
          "geo": {
           "bgcolor": "white",
           "lakecolor": "white",
           "landcolor": "#E5ECF6",
           "showlakes": true,
           "showland": true,
           "subunitcolor": "white"
          },
          "hoverlabel": {
           "align": "left"
          },
          "hovermode": "closest",
          "mapbox": {
           "style": "light"
          },
          "paper_bgcolor": "white",
          "plot_bgcolor": "#E5ECF6",
          "polar": {
           "angularaxis": {
            "gridcolor": "white",
            "linecolor": "white",
            "ticks": ""
           },
           "bgcolor": "#E5ECF6",
           "radialaxis": {
            "gridcolor": "white",
            "linecolor": "white",
            "ticks": ""
           }
          },
          "scene": {
           "xaxis": {
            "backgroundcolor": "#E5ECF6",
            "gridcolor": "white",
            "gridwidth": 2,
            "linecolor": "white",
            "showbackground": true,
            "ticks": "",
            "zerolinecolor": "white"
           },
           "yaxis": {
            "backgroundcolor": "#E5ECF6",
            "gridcolor": "white",
            "gridwidth": 2,
            "linecolor": "white",
            "showbackground": true,
            "ticks": "",
            "zerolinecolor": "white"
           },
           "zaxis": {
            "backgroundcolor": "#E5ECF6",
            "gridcolor": "white",
            "gridwidth": 2,
            "linecolor": "white",
            "showbackground": true,
            "ticks": "",
            "zerolinecolor": "white"
           }
          },
          "shapedefaults": {
           "line": {
            "color": "#2a3f5f"
           }
          },
          "ternary": {
           "aaxis": {
            "gridcolor": "white",
            "linecolor": "white",
            "ticks": ""
           },
           "baxis": {
            "gridcolor": "white",
            "linecolor": "white",
            "ticks": ""
           },
           "bgcolor": "#E5ECF6",
           "caxis": {
            "gridcolor": "white",
            "linecolor": "white",
            "ticks": ""
           }
          },
          "title": {
           "x": 0.05
          },
          "xaxis": {
           "automargin": true,
           "gridcolor": "white",
           "linecolor": "white",
           "ticks": "",
           "title": {
            "standoff": 15
           },
           "zerolinecolor": "white",
           "zerolinewidth": 2
          },
          "yaxis": {
           "automargin": true,
           "gridcolor": "white",
           "linecolor": "white",
           "ticks": "",
           "title": {
            "standoff": 15
           },
           "zerolinecolor": "white",
           "zerolinewidth": 2
          }
         }
        },
        "title": {
         "text": "<b>Histogram of Runtimes in Minutes<b>"
        },
        "xaxis": {
         "anchor": "y",
         "domain": [
          0,
          1
         ],
         "title": {
          "text": "runtimeMins"
         }
        },
        "yaxis": {
         "anchor": "x",
         "domain": [
          0,
          1
         ],
         "title": {
          "text": "count"
         }
        }
       }
      }
     },
     "metadata": {},
     "output_type": "display_data"
    }
   ],
   "source": [
    "px.histogram(metascripts, x = 'runtimeMins', color_discrete_sequence=['saddlebrown'], title = \"<b>Histogram of Runtimes in Minutes<b>\")"
   ]
  },
  {
   "cell_type": "code",
   "execution_count": 246,
   "metadata": {},
   "outputs": [
    {
     "data": {
      "application/vnd.plotly.v1+json": {
       "config": {
        "plotlyServerURL": "https://plotly.com"
       },
       "data": [
        {
         "alignmentgroup": "True",
         "boxpoints": "all",
         "customdata": [
          [
           "Jim Gaffigan",
           "Jim Gaffigan: Comedy Monster"
          ],
          [
           "Louis C.K.",
           "Sorry"
          ],
          [
           "Drew Michael",
           "Drew Michael: Drew Michael"
          ],
          [
           "Drew Michael",
           "Drew Michael: Red Blue Green"
          ],
          [
           "Mo Amer",
           "Mo Amer: Mohammed in Texas"
          ],
          [
           "Dave Chappelle",
           "Dave Chappelle: The Closer"
          ],
          [
           "Kathleen Madigan",
           "Kathleen Madigan: Bothering Jesus"
          ],
          [
           "Kathleen Madigan",
           "Kathleen Madigan: Madigan Again"
          ],
          [
           "Phil Wang",
           "Phil Wang: Philly Philly Wang Wang"
          ],
          [
           "Tom Papa",
           "Tom Papa: You're Doing Great!"
          ],
          [
           "Tom Papa",
           "Tom Papa: Human Mule"
          ],
          [
           "Tom Papa",
           "Tom Papa: Freaked Out"
          ],
          [
           "Bo Burnham",
           "Inside"
          ],
          [
           "Tig Notaro",
           "Tig Notaro: Boyish Girl Interrupted"
          ],
          [
           "Joe List",
           "Joe List: I Hate Myself"
          ],
          [
           "Nate Bargatze",
           "Nate Bargatze: The Greatest Average American"
          ],
          [
           "Brian Regan",
           "Brian Regan: On the Rocks"
          ],
          [
           "Doug Stanhope",
           "Doug Stanhope: Beer Hall Putsch"
          ],
          [
           "Chris Rock",
           "Tamborine"
          ],
          [
           "Sarah Cooper",
           "Sarah Cooper: Everything's Fine"
          ],
          [
           "Bo Burnham",
           "Bo Burnham: Words, Words, Words"
          ],
          [
           "Vir Das",
           "Vir Das: Outside in - The Lockdown Special"
          ],
          [
           "Larry the Cable Guy",
           "Larry the Cable Guy: Remain Seated"
          ],
          [
           "Craig Ferguson",
           "Craig Ferguson: Just Being Honest"
          ],
          [
           "Kevin Hart",
           "Kevin Hart: Zero F**ks Given"
          ],
          [
           "Sam Morril",
           "Sam Morril: I Got This"
          ],
          [
           "Ronny Chieng",
           "Ronny Chieng: Asian Comedian Destroys America"
          ],
          [
           "Craig Ferguson",
           "Craig Ferguson: A Wee Bit o' Revolution"
          ],
          [
           "Michael McIntyre",
           "Michael McIntyre: Showman"
          ],
          [
           "Rob Schneider",
           "Rob Schneider: Asian Momma, Mexican Kids"
          ],
          [
           "Sam Jay",
           "Sam Jay: 3 in the Morning"
          ],
          [
           "Jack Whitehall",
           "Jack Whitehall: I'm Only Joking"
          ],
          [
           "Urzila Carlson",
           "Urzila Carlson: Overqualified Loser"
          ],
          [
           "George Lopez",
           "George Lopez: We'll Do It for Half"
          ],
          [
           "Jim Jefferies",
           "Jim Jefferies: Intolerant"
          ],
          [
           "George Carlin",
           "George Carlin: Doin' It Again"
          ],
          [
           "Eric Andre",
           "Eric Andre: Legalize Everything"
          ],
          [
           "Roy Wood Jr.",
           "Roy Wood Jr.: Father Figure"
          ],
          [
           "Amy Schumer Presents Mark Normand",
           "Amy Schumer Presents Mark Normand: Don't Be Yourself"
          ],
          [
           "Chris Gethard",
           "Chris Gethard: Career Suicide"
          ],
          [
           "Ramy Youssef",
           "Ramy Youssef: Feelings"
          ],
          [
           "Kenny Sebastian",
           "Kenny Sebastian: Don't Be That Guy"
          ],
          [
           "Billy Connolly",
           "Billy Connolly: High Horse Tour Live"
          ],
          [
           "Hannah Gadsby",
           "Hannah Gadsby: Douglas"
          ],
          [
           "Hasan Minhaj",
           "Hasan Minhaj: Homecoming King"
          ],
          [
           "Patton Oswalt",
           "Patton Oswalt: I Love Everything"
          ],
          [
           "Russell Peters",
           "Russell Peters: Deported"
          ],
          [
           "Jimmy O. Yang",
           "Jimmy O. Yang: Good Deal"
          ],
          [
           "Jo Koy",
           "Jo Koy: Lights Out"
          ],
          [
           "Lee Mack",
           "Lee Mack: Going Out Live"
          ],
          [
           "Lee Mack",
           "Lee Mack: Live"
          ],
          [
           "T.J. Miller",
           "T.J. Miller: No Real Reason"
          ],
          [
           "Jerry Seinfeld",
           "Jerry Seinfeld: 23 Hours to Kill"
          ],
          [
           "Louis C.K.",
           "Sincerely Louis CK"
          ],
          [
           "Jim Norton",
           "Jim Norton: American Degenerate"
          ],
          [
           "Jim Norton",
           "Jim Norton: Monster Rain"
          ],
          [
           "Maria Bamford",
           "Maria Bamford: Weakness Is the Brand"
          ],
          [
           "Chris D'Elia",
           "Chris D'Elia: White Male. Black Comic."
          ],
          [
           "Chris D'Elia",
           "Chris D'Elia: Man on Fire"
          ],
          [
           "Tom Segura",
           "Tom Segura: Ball Hog"
          ],
          [
           "Bert Kreischer",
           "Bert Kreischer: Hey Big Boy"
          ],
          [
           "Marc Maron",
           "Marc Maron: End Times Fun"
          ],
          [
           "Pete Davidson",
           "Pete Davidson: SMD"
          ],
          [
           "Pete Davidson",
           "Pete Davidson: Alive from New York"
          ],
          [
           "Amanda Seales",
           "Amanda Seales: I Be Knowin'"
          ],
          [
           "Stewart Lee",
           "Stewart Lee: Carpet Remnant World"
          ],
          [
           "Stewart Lee",
           "Stewart Lee: Content Provider"
          ],
          [
           "Sara Pascoe Live",
           "Sara Pascoe Live: LadsLadsLads"
          ],
          [
           "Dan Soder",
           "Dan Soder: Son of a Gary"
          ],
          [
           "Jim Gaffigan",
           "Jim Gaffigan: Quality Time"
          ],
          [
           "Kevin Bridges",
           "Kevin Bridges: A Whole Different Story"
          ],
          [
           "Kevin Bridges",
           "Kevin Bridges: The Story So Far - Live in Glasgow"
          ],
          [
           "Kevin Bridges",
           "Kevin Bridges: The Story Continues..."
          ],
          [
           "Michelle Wolf",
           "Michelle Wolf: Joke Show"
          ],
          [
           "Tiffany Haddish",
           "Tiffany Haddish: Black Mitzvah"
          ],
          [
           "Mike Birbiglia",
           "Mike Birbiglia: The New One"
          ],
          [
           "Iliza Shlesinger",
           "Iliza Shlesinger: Unveiled"
          ],
          [
           "Seth Meyers",
           "Seth Meyers: Lobby Baby"
          ],
          [
           "Arsenio Hall",
           "Arsenio Hall: Smart and Classy"
          ],
          [
           "Nikki Glaser",
           "Nikki Glaser: Bangin'"
          ],
          [
           "Bill Burr",
           "Bill Burr: Paper Tiger"
          ],
          [
           "Dave Chappelle",
           "Dave Chappelle: Sticks & Stones"
          ],
          [
           "Emily Heller",
           "Emily Heller: Ice Thickeners"
          ],
          [
           "David Cross",
           "David Cross: Oh Come On"
          ],
          [
           "Whitney Cummings",
           "Whitney Cummings: Can I Touch It?"
          ],
          [
           "Aziz Ansari",
           "Aziz Ansari: Right Now"
          ],
          [
           "Billy Wayne Davis, Ralphie May",
           "Ralphie May Filthy Animal Tour"
          ],
          [
           "Mike Epps",
           "Mike Epps: Only One Mike"
          ],
          [
           "Adam Devine",
           "Adam Devine: Best Time of Our Lives"
          ],
          [
           "Jo Koy",
           "Jo Koy: Live from Seattle"
          ],
          [
           "Jo Koy",
           "Jo Koy: Comin' in Hot"
          ],
          [
           "Wanda Sykes",
           "Wanda Sykes: Not Normal"
          ],
          [
           "Cedric the Entertainer",
           "Cedric the Entertainer: Live from the Ville"
          ],
          [
           "Eddie Murphy",
           "Eddie Murphy: Raw"
          ],
          [
           "Colin Quinn",
           "Colin Quinn: The New York Story"
          ],
          [
           "Demetri Martin",
           "Demetri Martin: Live (At the Time)"
          ],
          [
           "George Carlin",
           "George Carlin: What Am I Doing in New Jersey?"
          ],
          [
           "Chelsea Peretti",
           "Chelsea Peretti: One of the Greats"
          ],
          [
           "Anthony Jeselnik",
           "Anthony Jeselnik: Fire in the Maternity Ward"
          ],
          [
           "Roy Wood Jr.",
           "Roy Wood Jr.: No One Loves You"
          ],
          [
           "Robin Williams",
           "Robin Williams: Weapons of Self Destruction"
          ],
          [
           "Robin Williams",
           "Robin Williams Live on Broadway"
          ],
          [
           "Jimmy Carr",
           "Jimmy Carr: The Best of Ultimate Gold Greatest Hits"
          ],
          [
           "Nate Bargatze",
           "Nate Bargatze: The Tennessee Kid"
          ],
          [
           "W. Kamau Bell",
           "W. Kamau Bell: Private School Negro"
          ],
          [
           "Kevin Hart",
           "Kevin Hart: Irresponsible"
          ],
          [
           "Nate Bargatze",
           "Nate Bargatze: Full Time Magic"
          ],
          [
           "Amy Schumer",
           "Amy Schumer: Growing"
          ],
          [
           "Enissa Amani",
           "Enissa Amani: Ehrenwort"
          ],
          [
           "Ken Jeong",
           "Ken Jeong: You Complete Me, Ho"
          ],
          [
           "Ray Romano",
           "Ray Romano: Right Here, Around the Corner"
          ],
          [
           "Gabriel \"Fluffy\" Iglesias",
           "Gabriel \"Fluffy\" Iglesias: One Show Fits All"
          ],
          [
           "Sebastian Maniscalco",
           "Sebastian Maniscalco: Stay Hungry"
          ],
          [
           "Sebastian Maniscalco",
           "Sebastian Maniscalco: Aren't You Embarrassed?"
          ],
          [
           "Sebastian Maniscalco",
           "Sebastian Maniscalco: What's Wrong with People?"
          ],
          [
           "Nick Kroll",
           "Oh, Hello on Broadway"
          ],
          [
           "Ellen DeGeneres",
           "Ellen DeGeneres: Relatable"
          ],
          [
           "Pete Holmes",
           "Pete Holmes: Dirty Clean"
          ],
          [
           "Vir Das",
           "Vir Das: Losing It"
          ],
          [
           "Trevor Noah",
           "Trevor Noah: Son of Patricia"
          ],
          [
           "Jeff Foxworthy & Larry the Cable Guy",
           "Jeff Foxworthy & Larry the Cable Guy: We've Been Thinking"
          ],
          [
           "Adam Sandler",
           "Adam Sandler: 100% Fresh"
          ],
          [
           "Jeff Foxworthy",
           "Jeff Foxworthy: Totally Committed"
          ],
          [
           "Ron White",
           "Ron White: If You Quit Listening, I'll Shut Up"
          ],
          [
           "Mo Amer",
           "Mo Amer: The Vagabond"
          ],
          [
           "Joe Mande",
           "Joe Mande's Award-Winning Comedy Special"
          ],
          [
           "Henry Rollins",
           "Henry Rollins: Keep Talking, Pal"
          ],
          [
           "Joe Rogan",
           "Joe Rogan: Strange Times"
          ],
          [
           "D.L. Hughley",
           "D.L. Hughley: Contrarian"
          ],
          [
           "Iliza Shlesinger",
           "Iliza Shlesinger: Freezing Hot"
          ],
          [
           "Iliza Shlesinger",
           "Iliza Shlesinger: War Paint"
          ],
          [
           "Bert Kreischer",
           "Bert Kreischer: Secret Time"
          ],
          [
           "Demetri Martin",
           "Demetri Martin: The Overthinker"
          ],
          [
           "Bill Maher",
           "Bill Maher: Live from Oklahoma"
          ],
          [
           "Rowan Atkinson",
           "Rowan Atkinson: Not Just a Pretty Face"
          ],
          [
           "Iliza Shlesinger",
           "Iliza Shlesinger: Confirmed Kills"
          ],
          [
           "Iliza",
           "Iliza: Elder Millennial"
          ],
          [
           "Jim Gaffigan",
           "Jim Gaffigan: Noble Ape"
          ],
          [
           "Jim Norton",
           "Jim Norton: Contextually Inadequate"
          ],
          [
           "Hannah Gadsby",
           "Hannah Gadsby: Nanette"
          ],
          [
           "Brad Williams",
           "Brad Williams: Daddy Issues"
          ],
          [
           "DeRay Davis",
           "DeRay Davis: How to Act Black"
          ],
          [
           "Ricky Gervais",
           "Ricky Gervais: Live IV - Science"
          ],
          [
           "Jim Jefferies",
           "Jim Jefferies: This Is Me Now"
          ],
          [
           "Russell Peters",
           "Russell Peters: Outsourced"
          ],
          [
           "Russell Peters",
           "Russell Peters: Almost Famous"
          ],
          [
           "Ron White",
           "Ron White: A Little Unprofessional"
          ],
          [
           "Michael McIntyre",
           "Michael McIntyre: Hello Wembley!"
          ],
          [
           "Kevin Smith",
           "Kevin Smith: Silent But Deadly"
          ],
          [
           "Kevin James",
           "Kevin James: Never Don't Give Up"
          ],
          [
           "Brent Morin",
           "Brent Morin: I'm Brent Morin"
          ],
          [
           "Nikki Glaser",
           "Nikki Glaser: Perfect"
          ],
          [
           "Ali Wong",
           "Ali Wong: Hard Knock Wife"
          ],
          [
           "Kavin Jay",
           "Kavin Jay: Everybody Calm Down!"
          ],
          [
           "John Mulaney",
           "John Mulaney: Kid Gorgeous at Radio City"
          ],
          [
           "Eddie Griffin",
           "Eddie Griffin: Undeniable"
          ],
          [
           "Greg Davies",
           "Greg Davies: You Magnificent Beast"
          ],
          [
           "George Carlin",
           "George Carlin: You Are All Diseased"
          ],
          [
           "Marlon Wayans",
           "Marlon Wayans: Woke-ish"
          ],
          [
           "Ricky Gervais",
           "Ricky Gervais: Humanity"
          ],
          [
           "Adel Karam",
           "Adel Karam: Live from Beirut"
          ],
          [
           "Stewart Lee",
           "Stewart Lee: 90s Comedian"
          ],
          [
           "Mike Birbiglia",
           "Mike Birbiglia: My Girlfriend's Boyfriend"
          ],
          [
           "Dave Attell",
           "Dave Attell: Road Work"
          ],
          [
           "Eddie Izzard",
           "Eddie Izzard: Glorious"
          ],
          [
           "Chris Rock",
           "Chris Rock: Bring the Pain"
          ],
          [
           "Ari Shaffir",
           "Ari Shaffir: Double Negative"
          ],
          [
           "Chris Rock",
           "Tamborine"
          ],
          [
           "Fred Armisen",
           "Fred Armisen: Standup For Drummers"
          ],
          [
           "Dana Carvey",
           "Dana Carvey: Straight White Male, 60"
          ],
          [
           "Eddie Izzard",
           "Eddie Izzard: Stripped"
          ],
          [
           "Todd Glass",
           "Todd Glass: Act Happy"
          ],
          [
           "Brian Regan",
           "Brian Regan: Standing Up"
          ],
          [
           "Brian Regan",
           "Brian Regan: Nunchucks and Flamethrowers"
          ],
          [
           "Katt Williams",
           "Katt Williams: Great America"
          ],
          [
           "Jimmy Carr",
           "Jimmy Carr: Being Funny"
          ],
          [
           "Jimmy Carr",
           "Jimmy Carr: Laughing and Joking"
          ],
          [
           "Eddie Izzard",
           "Eddie Izzard: Unrepeatable"
          ],
          [
           "D.L. Hughley",
           "D.L. Hughley: Unapologetic"
          ],
          [
           "Bridget Everett",
           "Bridget Everett: Gynecological Wonder"
          ],
          [
           "Chris Rock",
           "Chris Rock: Never Scared"
          ],
          [
           "Stewart Lee",
           "Stewart Lee: Stand-Up Comedian"
          ],
          [
           "Jimmy Carr",
           "Jimmy Carr: Funny Business"
          ],
          [
           "Eddie Izzard",
           "Eddie Izzard: Dress to Kill"
          ],
          [
           "Chris Tucker",
           "Chris Tucker Live"
          ],
          [
           "Kevin Hart",
           "Kevin Hart: What Now?"
          ],
          [
           "Kevin Hart",
           "Kevin Hart: Let Me Explain"
          ],
          [
           "Tom Segura",
           "Tom Segura: Disgraceful"
          ],
          [
           "Michelle Wolf",
           "Michelle Wolf: Nice Lady"
          ],
          [
           "Fahim Anwar",
           "Fahim Anwar: There's No Business Like Show Business"
          ],
          [
           "Ellen DeGeneres",
           "Ellen DeGeneres: The Beginning"
          ],
          [
           "Maz Jobrani",
           "Maz Jobrani: Immigrant"
          ],
          [
           "Todd Barry",
           "Todd Barry: Spicy Honey"
          ],
          [
           "Jerry Seinfeld",
           "Jerry Seinfeld: 'I'm Telling You for the Last Time'"
          ],
          [
           "Craig Ferguson",
           "Craig Ferguson: Does This Need to Be Said?"
          ],
          [
           "Dave Chappelle",
           "Dave Chappelle: The Bird Revelation"
          ],
          [
           "Dave Chappelle",
           "Dave Chappelle: The Bird Revelation"
          ],
          [
           "Dave Chappelle",
           "Dave Chappelle: Equanimity"
          ],
          [
           "Craig Ferguson",
           "Craig Ferguson: I'm Here to Help"
          ],
          [
           "Russell Howard",
           "Russell Howard: Recalibrate"
          ],
          [
           "Whitney Cummings",
           "Whitney Cummings: I Love You"
          ],
          [
           "Whitney Cummings",
           "Whitney Cummings: I'm Your Girlfriend"
          ],
          [
           "Sarah Millican",
           "Sarah Millican: Chatterbox Live"
          ],
          [
           "Anjelah Johnson",
           "Anjelah Johnson: Not Fancy"
          ],
          [
           "Ricky Gervais Live 2",
           "Ricky Gervais Live 2: Politics"
          ],
          [
           "Russell Howard Live",
           "Russell Howard Live: Dingledodies"
          ],
          [
           "Christina P",
           "Christina P: Mother Inferior"
          ],
          [
           "Jack Whitehall",
           "Jack Whitehall: At Large"
          ],
          [
           "Cristela Alonzo",
           "Cristela Alonzo: Lower Classy"
          ],
          [
           "Judah Friedlander",
           "Judah Friedlander: America is the Greatest Country in the United States"
          ],
          [
           "Aziz Ansari",
           "Aziz Ansari Live in Madison Square Garden"
          ],
          [
           "Aziz Ansari",
           "Aziz Ansari: Buried Alive"
          ],
          [
           "Paul Mooney",
           "Paul Mooney: A Piece of My Mind - God Bless America"
          ],
          [
           "Patton Oswalt",
           "Patton Oswalt: Annihilation"
          ],
          [
           "Chris Rock",
           "Chris Rock: Kill the Messenger - London, New York, Johannesburg"
          ],
          [
           "Bill Maher",
           "Bill Maher: Live from D.C."
          ],
          [
           "Sarah Silverman",
           "Sarah Silverman: Jesus Is Magic"
          ],
          [
           "Sarah Silverman",
           "Sarah Silverman: We Are Miracles"
          ],
          [
           "Pablo Francisco",
           "Pablo Francisco: Ouch! Live from San Jose"
          ],
          [
           "Bill Maher",
           "Bill Maher... But I'm Not Wrong"
          ],
          [
           "Russell Brand",
           "Russell Brand: Messiah Complex"
          ],
          [
           "Chris Rock",
           "Chris Rock: Bigger & Blacker"
          ],
          [
           "Gabriel Iglesias",
           "Gabriel Iglesias: Hot and Fluffy"
          ],
          [
           "Gabriel Iglesias",
           "Gabriel Iglesias: I'm Not Fat... I'm Fluffy"
          ],
          [
           "Gabriel Iglesias",
           "Gabriel Iglesias: I'm Sorry for What I Said When I Was Hungry"
          ],
          [
           "Rory Scovel",
           "Rory Scovel Tries Stand-Up for the First Time"
          ],
          [
           "Lisa Lampanelli",
           "Lisa Lampanelli: Back to the Drawing Board"
          ],
          [
           "Erik Griffin",
           "Erik Griffin: The Ugly Truth"
          ],
          [
           "Jen Kirkman",
           "Jen Kirkman: Just Keep Livin?"
          ],
          [
           "Daniel Tosh",
           "Daniel Tosh: Completely Serious"
          ],
          [
           "Al Madrigal",
           "Al Madrigal: Why Is the Rabbit Crying?"
          ],
          [
           "Neal Brennan",
           "Neal Brennan: 3 Mics"
          ],
          [
           "John Mulaney",
           "John Mulaney: New in Town"
          ],
          [
           "Donald Glover",
           "Donald Glover: Weirdo"
          ],
          [
           "Ali Wong",
           "Ali Wong: Baby Cobra"
          ],
          [
           "Norm Macdonald",
           "Norm Macdonald: Hitler's Dog, Gossip & Trickery"
          ],
          [
           "Daniel Tosh",
           "Daniel Tosh: People Pleaser"
          ],
          [
           "Marc Maron",
           "Marc Maron: More Later"
          ],
          [
           "Dylan Moran",
           "Dylan Moran: Off the Hook"
          ],
          [
           "Richard Pryor",
           "Richard Pryor: Live and Smokin'"
          ],
          [
           "Paul Mooney",
           "Richard Pryor... Here and Now"
          ],
          [
           "Bill Burr",
           "Bill Burr: Why Do I Do This?"
          ],
          [
           "Amy Schumer",
           "Amy Schumer: Mostly Sex Stuff"
          ],
          [
           "Jim Jefferies",
           "Jim Jefferies Alcoholocaust"
          ],
          [
           "Amy Schumer",
           "Amy Schumer: Live at the Apollo"
          ],
          [
           "Kevin Hart",
           "Kevin Hart: Seriously Funny"
          ],
          [
           "Hannibal Buress",
           "Hannibal Buress: Comedy Camisado"
          ],
          [
           "Neal Brennan",
           "Neal Brennan: Women and Black Dudes"
          ],
          [
           "Nick Offerman",
           "Nick Offerman: American Ham"
          ],
          [
           "Aziz Ansari",
           "Aziz Ansari: Intimate Moments for a Sensual Evening"
          ],
          [
           "Big Jay Oakerson",
           "Big Jay Oakerson: Live at Webster Hall"
          ],
          [
           "Doug Stanhope",
           "Doug Stanhope: No Refunds"
          ],
          [
           "George Carlin",
           "George Carlin at USC"
          ],
          [
           "Jim Norton",
           "Jim Norton: Mouthful of Shame"
          ],
          [
           "Michael Che",
           "Michael Che Matters"
          ],
          [
           "Joe Rogan",
           "Joe Rogan: Triggered"
          ],
          [
           "Trevor Noah",
           "Trevor Noah: Lost in Translation"
          ],
          [
           "Maria Bamford",
           "Maria Bamford: Old Baby"
          ],
          [
           "Bo Burnham",
           "Bo Burnham: what."
          ],
          [
           "Bo Burnham",
           "Bo Burnham: Make Happy"
          ],
          [
           "Anthony Jeselnik",
           "Anthony Jeselnik: Caligula"
          ],
          [
           "Anthony Jeselnik",
           "Anthony Jeselnik: Thoughts and Prayers"
          ],
          [
           "John Mulaney",
           "John Mulaney: The Comeback Kid"
          ],
          [
           "Bill Hicks",
           "Bill Hicks: Revelations"
          ],
          [
           "Lewis Black",
           "Lewis Black: Black to the Future"
          ],
          [
           "Doug Stanhope",
           "Doug Stanhope: Before Turning the Gun on Himself"
          ],
          [
           "Doug Stanhope",
           "Doug Stanhope: Deadbeat Hero"
          ],
          [
           "Jim Jefferies",
           "Jim Jefferies: Contraband"
          ],
          [
           "Mike Birbiglia",
           "Mike Birbiglia: Thank God for Jokes"
          ],
          [
           "Sarah Silverman",
           "Sarah Silverman: A Speck of Dust"
          ],
          [
           "George Carlin",
           "George Carlin: Playin' with Your Head"
          ],
          [
           "On Location",
           "On Location: George Carlin at Phoenix"
          ],
          [
           "Louis C.K.",
           "Louis C.K.: Chewed Up"
          ],
          [
           "Tom Segura",
           "Tom Segura: Completely Normal"
          ],
          [
           "George Carlin",
           "George Carlin: Carlin on Campus"
          ],
          [
           "Louis C.K.",
           "Louis C.K.: Live at the Beacon Theater"
          ],
          [
           "Ricky Gervais",
           "Ricky Gervais: Out of England 2 - The Stand-Up Special"
          ],
          [
           "Amy Schumer",
           "Amy Schumer: The Leather Special"
          ],
          [
           "Jim Gaffigan",
           "Jim Gaffigan: Cinco"
          ],
          [
           "Jim Jefferies",
           "Jim Jefferies: I Swear to God"
          ],
          [
           "Louis C.K.",
           "Louis C.K.: Hilarious"
          ],
          [
           "Louis C.K.",
           "Louis C.K.: Shameless"
          ],
          [
           "Bill Burr",
           "Bill Burr: I'm Sorry You Feel That Way"
          ],
          [
           "Bill Burr",
           "Bill Burr: You People Are All the Same."
          ],
          [
           "Dave Chappelle",
           "Dave Chappelle: For What It's Worth"
          ],
          [
           "Dave Chappelle",
           "Dave Chappelle: Killin' Them Softly"
          ],
          [
           "Eddie Griffin",
           "Eddie Griffin: You Can Tell 'Em I Said It!"
          ],
          [
           "Bill Burr",
           "Bill Burr: Walk Your Way Out"
          ],
          [
           "Louis C.K.",
           "Louis C.K. Oh My God"
          ],
          [
           "Louis C.K.",
           "Louis C.K.: Live at the Comedy Store"
          ],
          [
           "Bill Hicks",
           "Bill Hicks: Relentless"
          ],
          [
           "Daniel Tosh",
           "Daniel Tosh: Happy Thoughts"
          ],
          [
           "Patrice O'Neal",
           "Patrice O'Neal: Elephant in the Room"
          ],
          [
           "Katt Williams",
           "Katt Williams Live"
          ],
          [
           "Richard Pryor",
           "Richard Pryor: Live in Concert"
          ],
          [
           "Richard Pryor",
           "Richard Pryor: Live on the Sunset Strip"
          ],
          [
           "Trevor Noah",
           "Trevor Noah: Afraid of the Dark"
          ],
          [
           "Jim Jefferies",
           "Jim Jefferies: BARE"
          ],
          [
           "Deep in the Heart of Texas",
           "Deep in the Heart of Texas: Dave Chappelle Live at Austin City Limits"
          ],
          [
           "Tom Segura",
           "Tom Segura: Mostly Stories"
          ],
          [
           "Bill Burr",
           "Bill Burr: Let It Go"
          ],
          [
           "George Carlin",
           "George Carlin: Jammin' in New York"
          ],
          [
           "George Carlin",
           "George Carlin: You Are All Diseased"
          ],
          [
           "George Carlin",
           "George Carlin... It's Bad for Ya!"
          ],
          [
           "Jim Jefferies",
           "Jim Jefferies: Freedumb"
          ],
          [
           "Eddie Murphy",
           "Eddie Murphy: Delirious"
          ],
          [
           "The Age of Spin",
           "The Age of Spin: Dave Chappelle Live at the Hollywood Palladium"
          ],
          [
           "George Carlin",
           "George Carlin: Back in Town"
          ],
          [
           "Louis C.K.",
           "Louis C.K. 2017"
          ],
          [
           "George Carlin",
           "George Carlin: Jammin' in New York"
          ],
          [
           "Reggie Watts",
           "Reggie Watts: Spatial"
          ],
          [
           "George Carlin",
           "George Carlin: Complaints & Grievances"
          ],
          [
           "George Carlin",
           "George Carlin: Life Is Worth Losing"
          ],
          [
           "George Carlin",
           "George Carlin... It's Bad for Ya!"
          ],
          [
           "Dave Chappelle: 8",
           "Dave Chappelle: 8:46"
          ],
          [
           "Jim Jefferies",
           "Jim Jefferies: A Joke about Gun Control"
          ]
         ],
         "hovertemplate": "runtimeMins=%{x}<br>artist=%{customdata[0]}<br>title=%{customdata[1]}<extra></extra>",
         "legendgroup": "",
         "marker": {
          "color": "saddlebrown"
         },
         "name": "",
         "notched": false,
         "offsetgroup": "",
         "orientation": "h",
         "showlegend": false,
         "type": "box",
         "x": [
          70,
          63,
          60,
          58,
          64,
          72,
          72,
          65,
          63,
          60,
          59,
          60,
          87,
          55,
          56,
          60,
          58,
          61,
          98,
          49,
          63,
          50,
          67,
          75,
          69,
          47,
          63,
          80,
          62,
          44,
          64,
          58,
          62,
          51,
          66,
          60,
          51,
          50,
          55,
          89,
          60,
          60,
          96,
          72,
          73,
          66,
          67,
          57,
          59,
          71,
          68,
          67,
          60,
          60,
          61,
          60,
          74,
          60,
          65,
          70,
          62,
          71,
          58,
          49,
          60,
          123,
          119,
          77,
          64,
          75,
          85,
          120,
          73,
          59,
          55,
          85,
          78,
          61,
          63,
          63,
          67,
          65,
          68,
          70,
          59,
          65,
          82,
          63,
          58,
          62,
          60,
          60,
          60,
          93,
          62,
          61,
          61,
          74,
          64,
          61,
          90,
          99,
          58,
          60,
          65,
          60,
          64,
          60,
          60,
          62,
          58,
          90,
          65,
          63,
          75,
          104,
          68,
          57,
          67,
          63,
          75,
          73,
          56,
          63,
          56,
          66,
          58,
          63,
          58,
          71,
          75,
          57,
          56,
          65,
          55,
          77,
          72,
          90,
          58,
          69,
          61,
          66,
          86,
          70,
          72,
          73,
          120,
          83,
          57,
          62,
          67,
          62,
          64,
          53,
          65,
          74,
          66,
          65,
          68,
          79,
          59,
          70,
          76,
          60,
          99,
          58,
          60,
          98,
          65,
          64,
          104,
          62,
          60,
          61,
          60,
          102,
          91,
          75,
          52,
          47,
          80,
          78,
          62,
          115,
          92,
          96,
          75,
          71,
          58,
          64,
          66,
          112,
          60,
          75,
          66,
          49,
          49,
          60,
          81,
          69,
          55,
          70,
          100,
          90,
          68,
          77,
          59,
          67,
          66,
          84,
          58,
          80,
          86,
          66,
          79,
          61,
          72,
          53,
          60,
          79,
          99,
          65,
          60,
          60,
          87,
          66,
          59,
          61,
          69,
          60,
          68,
          65,
          60,
          65,
          60,
          61,
          62,
          75,
          78,
          48,
          83,
          55,
          61,
          120,
          61,
          72,
          83,
          60,
          78,
          56,
          68,
          61,
          85,
          61,
          61,
          63,
          62,
          64,
          60,
          60,
          59,
          59,
          62,
          57,
          49,
          67,
          95,
          71,
          70,
          71,
          60,
          81,
          61,
          74,
          60,
          63,
          74,
          57,
          73,
          58,
          82,
          56,
          80,
          69,
          60,
          57,
          82,
          77,
          58,
          66,
          61,
          60,
          78,
          86,
          78,
          82,
          67,
          77,
          66,
          73,
          65,
          59,
          65,
          70,
          86,
          69,
          67,
          60,
          74,
          59,
          61,
          55,
          75,
          70,
          27,
          60
         ],
         "x0": " ",
         "xaxis": "x",
         "y0": " ",
         "yaxis": "y"
        }
       ],
       "layout": {
        "boxmode": "group",
        "legend": {
         "tracegroupgap": 0
        },
        "template": {
         "data": {
          "bar": [
           {
            "error_x": {
             "color": "#2a3f5f"
            },
            "error_y": {
             "color": "#2a3f5f"
            },
            "marker": {
             "line": {
              "color": "#E5ECF6",
              "width": 0.5
             },
             "pattern": {
              "fillmode": "overlay",
              "size": 10,
              "solidity": 0.2
             }
            },
            "type": "bar"
           }
          ],
          "barpolar": [
           {
            "marker": {
             "line": {
              "color": "#E5ECF6",
              "width": 0.5
             },
             "pattern": {
              "fillmode": "overlay",
              "size": 10,
              "solidity": 0.2
             }
            },
            "type": "barpolar"
           }
          ],
          "carpet": [
           {
            "aaxis": {
             "endlinecolor": "#2a3f5f",
             "gridcolor": "white",
             "linecolor": "white",
             "minorgridcolor": "white",
             "startlinecolor": "#2a3f5f"
            },
            "baxis": {
             "endlinecolor": "#2a3f5f",
             "gridcolor": "white",
             "linecolor": "white",
             "minorgridcolor": "white",
             "startlinecolor": "#2a3f5f"
            },
            "type": "carpet"
           }
          ],
          "choropleth": [
           {
            "colorbar": {
             "outlinewidth": 0,
             "ticks": ""
            },
            "type": "choropleth"
           }
          ],
          "contour": [
           {
            "colorbar": {
             "outlinewidth": 0,
             "ticks": ""
            },
            "colorscale": [
             [
              0,
              "#0d0887"
             ],
             [
              0.1111111111111111,
              "#46039f"
             ],
             [
              0.2222222222222222,
              "#7201a8"
             ],
             [
              0.3333333333333333,
              "#9c179e"
             ],
             [
              0.4444444444444444,
              "#bd3786"
             ],
             [
              0.5555555555555556,
              "#d8576b"
             ],
             [
              0.6666666666666666,
              "#ed7953"
             ],
             [
              0.7777777777777778,
              "#fb9f3a"
             ],
             [
              0.8888888888888888,
              "#fdca26"
             ],
             [
              1,
              "#f0f921"
             ]
            ],
            "type": "contour"
           }
          ],
          "contourcarpet": [
           {
            "colorbar": {
             "outlinewidth": 0,
             "ticks": ""
            },
            "type": "contourcarpet"
           }
          ],
          "heatmap": [
           {
            "colorbar": {
             "outlinewidth": 0,
             "ticks": ""
            },
            "colorscale": [
             [
              0,
              "#0d0887"
             ],
             [
              0.1111111111111111,
              "#46039f"
             ],
             [
              0.2222222222222222,
              "#7201a8"
             ],
             [
              0.3333333333333333,
              "#9c179e"
             ],
             [
              0.4444444444444444,
              "#bd3786"
             ],
             [
              0.5555555555555556,
              "#d8576b"
             ],
             [
              0.6666666666666666,
              "#ed7953"
             ],
             [
              0.7777777777777778,
              "#fb9f3a"
             ],
             [
              0.8888888888888888,
              "#fdca26"
             ],
             [
              1,
              "#f0f921"
             ]
            ],
            "type": "heatmap"
           }
          ],
          "heatmapgl": [
           {
            "colorbar": {
             "outlinewidth": 0,
             "ticks": ""
            },
            "colorscale": [
             [
              0,
              "#0d0887"
             ],
             [
              0.1111111111111111,
              "#46039f"
             ],
             [
              0.2222222222222222,
              "#7201a8"
             ],
             [
              0.3333333333333333,
              "#9c179e"
             ],
             [
              0.4444444444444444,
              "#bd3786"
             ],
             [
              0.5555555555555556,
              "#d8576b"
             ],
             [
              0.6666666666666666,
              "#ed7953"
             ],
             [
              0.7777777777777778,
              "#fb9f3a"
             ],
             [
              0.8888888888888888,
              "#fdca26"
             ],
             [
              1,
              "#f0f921"
             ]
            ],
            "type": "heatmapgl"
           }
          ],
          "histogram": [
           {
            "marker": {
             "pattern": {
              "fillmode": "overlay",
              "size": 10,
              "solidity": 0.2
             }
            },
            "type": "histogram"
           }
          ],
          "histogram2d": [
           {
            "colorbar": {
             "outlinewidth": 0,
             "ticks": ""
            },
            "colorscale": [
             [
              0,
              "#0d0887"
             ],
             [
              0.1111111111111111,
              "#46039f"
             ],
             [
              0.2222222222222222,
              "#7201a8"
             ],
             [
              0.3333333333333333,
              "#9c179e"
             ],
             [
              0.4444444444444444,
              "#bd3786"
             ],
             [
              0.5555555555555556,
              "#d8576b"
             ],
             [
              0.6666666666666666,
              "#ed7953"
             ],
             [
              0.7777777777777778,
              "#fb9f3a"
             ],
             [
              0.8888888888888888,
              "#fdca26"
             ],
             [
              1,
              "#f0f921"
             ]
            ],
            "type": "histogram2d"
           }
          ],
          "histogram2dcontour": [
           {
            "colorbar": {
             "outlinewidth": 0,
             "ticks": ""
            },
            "colorscale": [
             [
              0,
              "#0d0887"
             ],
             [
              0.1111111111111111,
              "#46039f"
             ],
             [
              0.2222222222222222,
              "#7201a8"
             ],
             [
              0.3333333333333333,
              "#9c179e"
             ],
             [
              0.4444444444444444,
              "#bd3786"
             ],
             [
              0.5555555555555556,
              "#d8576b"
             ],
             [
              0.6666666666666666,
              "#ed7953"
             ],
             [
              0.7777777777777778,
              "#fb9f3a"
             ],
             [
              0.8888888888888888,
              "#fdca26"
             ],
             [
              1,
              "#f0f921"
             ]
            ],
            "type": "histogram2dcontour"
           }
          ],
          "mesh3d": [
           {
            "colorbar": {
             "outlinewidth": 0,
             "ticks": ""
            },
            "type": "mesh3d"
           }
          ],
          "parcoords": [
           {
            "line": {
             "colorbar": {
              "outlinewidth": 0,
              "ticks": ""
             }
            },
            "type": "parcoords"
           }
          ],
          "pie": [
           {
            "automargin": true,
            "type": "pie"
           }
          ],
          "scatter": [
           {
            "marker": {
             "colorbar": {
              "outlinewidth": 0,
              "ticks": ""
             }
            },
            "type": "scatter"
           }
          ],
          "scatter3d": [
           {
            "line": {
             "colorbar": {
              "outlinewidth": 0,
              "ticks": ""
             }
            },
            "marker": {
             "colorbar": {
              "outlinewidth": 0,
              "ticks": ""
             }
            },
            "type": "scatter3d"
           }
          ],
          "scattercarpet": [
           {
            "marker": {
             "colorbar": {
              "outlinewidth": 0,
              "ticks": ""
             }
            },
            "type": "scattercarpet"
           }
          ],
          "scattergeo": [
           {
            "marker": {
             "colorbar": {
              "outlinewidth": 0,
              "ticks": ""
             }
            },
            "type": "scattergeo"
           }
          ],
          "scattergl": [
           {
            "marker": {
             "colorbar": {
              "outlinewidth": 0,
              "ticks": ""
             }
            },
            "type": "scattergl"
           }
          ],
          "scattermapbox": [
           {
            "marker": {
             "colorbar": {
              "outlinewidth": 0,
              "ticks": ""
             }
            },
            "type": "scattermapbox"
           }
          ],
          "scatterpolar": [
           {
            "marker": {
             "colorbar": {
              "outlinewidth": 0,
              "ticks": ""
             }
            },
            "type": "scatterpolar"
           }
          ],
          "scatterpolargl": [
           {
            "marker": {
             "colorbar": {
              "outlinewidth": 0,
              "ticks": ""
             }
            },
            "type": "scatterpolargl"
           }
          ],
          "scatterternary": [
           {
            "marker": {
             "colorbar": {
              "outlinewidth": 0,
              "ticks": ""
             }
            },
            "type": "scatterternary"
           }
          ],
          "surface": [
           {
            "colorbar": {
             "outlinewidth": 0,
             "ticks": ""
            },
            "colorscale": [
             [
              0,
              "#0d0887"
             ],
             [
              0.1111111111111111,
              "#46039f"
             ],
             [
              0.2222222222222222,
              "#7201a8"
             ],
             [
              0.3333333333333333,
              "#9c179e"
             ],
             [
              0.4444444444444444,
              "#bd3786"
             ],
             [
              0.5555555555555556,
              "#d8576b"
             ],
             [
              0.6666666666666666,
              "#ed7953"
             ],
             [
              0.7777777777777778,
              "#fb9f3a"
             ],
             [
              0.8888888888888888,
              "#fdca26"
             ],
             [
              1,
              "#f0f921"
             ]
            ],
            "type": "surface"
           }
          ],
          "table": [
           {
            "cells": {
             "fill": {
              "color": "#EBF0F8"
             },
             "line": {
              "color": "white"
             }
            },
            "header": {
             "fill": {
              "color": "#C8D4E3"
             },
             "line": {
              "color": "white"
             }
            },
            "type": "table"
           }
          ]
         },
         "layout": {
          "annotationdefaults": {
           "arrowcolor": "#2a3f5f",
           "arrowhead": 0,
           "arrowwidth": 1
          },
          "autotypenumbers": "strict",
          "coloraxis": {
           "colorbar": {
            "outlinewidth": 0,
            "ticks": ""
           }
          },
          "colorscale": {
           "diverging": [
            [
             0,
             "#8e0152"
            ],
            [
             0.1,
             "#c51b7d"
            ],
            [
             0.2,
             "#de77ae"
            ],
            [
             0.3,
             "#f1b6da"
            ],
            [
             0.4,
             "#fde0ef"
            ],
            [
             0.5,
             "#f7f7f7"
            ],
            [
             0.6,
             "#e6f5d0"
            ],
            [
             0.7,
             "#b8e186"
            ],
            [
             0.8,
             "#7fbc41"
            ],
            [
             0.9,
             "#4d9221"
            ],
            [
             1,
             "#276419"
            ]
           ],
           "sequential": [
            [
             0,
             "#0d0887"
            ],
            [
             0.1111111111111111,
             "#46039f"
            ],
            [
             0.2222222222222222,
             "#7201a8"
            ],
            [
             0.3333333333333333,
             "#9c179e"
            ],
            [
             0.4444444444444444,
             "#bd3786"
            ],
            [
             0.5555555555555556,
             "#d8576b"
            ],
            [
             0.6666666666666666,
             "#ed7953"
            ],
            [
             0.7777777777777778,
             "#fb9f3a"
            ],
            [
             0.8888888888888888,
             "#fdca26"
            ],
            [
             1,
             "#f0f921"
            ]
           ],
           "sequentialminus": [
            [
             0,
             "#0d0887"
            ],
            [
             0.1111111111111111,
             "#46039f"
            ],
            [
             0.2222222222222222,
             "#7201a8"
            ],
            [
             0.3333333333333333,
             "#9c179e"
            ],
            [
             0.4444444444444444,
             "#bd3786"
            ],
            [
             0.5555555555555556,
             "#d8576b"
            ],
            [
             0.6666666666666666,
             "#ed7953"
            ],
            [
             0.7777777777777778,
             "#fb9f3a"
            ],
            [
             0.8888888888888888,
             "#fdca26"
            ],
            [
             1,
             "#f0f921"
            ]
           ]
          },
          "colorway": [
           "#636efa",
           "#EF553B",
           "#00cc96",
           "#ab63fa",
           "#FFA15A",
           "#19d3f3",
           "#FF6692",
           "#B6E880",
           "#FF97FF",
           "#FECB52"
          ],
          "font": {
           "color": "#2a3f5f"
          },
          "geo": {
           "bgcolor": "white",
           "lakecolor": "white",
           "landcolor": "#E5ECF6",
           "showlakes": true,
           "showland": true,
           "subunitcolor": "white"
          },
          "hoverlabel": {
           "align": "left"
          },
          "hovermode": "closest",
          "mapbox": {
           "style": "light"
          },
          "paper_bgcolor": "white",
          "plot_bgcolor": "#E5ECF6",
          "polar": {
           "angularaxis": {
            "gridcolor": "white",
            "linecolor": "white",
            "ticks": ""
           },
           "bgcolor": "#E5ECF6",
           "radialaxis": {
            "gridcolor": "white",
            "linecolor": "white",
            "ticks": ""
           }
          },
          "scene": {
           "xaxis": {
            "backgroundcolor": "#E5ECF6",
            "gridcolor": "white",
            "gridwidth": 2,
            "linecolor": "white",
            "showbackground": true,
            "ticks": "",
            "zerolinecolor": "white"
           },
           "yaxis": {
            "backgroundcolor": "#E5ECF6",
            "gridcolor": "white",
            "gridwidth": 2,
            "linecolor": "white",
            "showbackground": true,
            "ticks": "",
            "zerolinecolor": "white"
           },
           "zaxis": {
            "backgroundcolor": "#E5ECF6",
            "gridcolor": "white",
            "gridwidth": 2,
            "linecolor": "white",
            "showbackground": true,
            "ticks": "",
            "zerolinecolor": "white"
           }
          },
          "shapedefaults": {
           "line": {
            "color": "#2a3f5f"
           }
          },
          "ternary": {
           "aaxis": {
            "gridcolor": "white",
            "linecolor": "white",
            "ticks": ""
           },
           "baxis": {
            "gridcolor": "white",
            "linecolor": "white",
            "ticks": ""
           },
           "bgcolor": "#E5ECF6",
           "caxis": {
            "gridcolor": "white",
            "linecolor": "white",
            "ticks": ""
           }
          },
          "title": {
           "x": 0.05
          },
          "xaxis": {
           "automargin": true,
           "gridcolor": "white",
           "linecolor": "white",
           "ticks": "",
           "title": {
            "standoff": 15
           },
           "zerolinecolor": "white",
           "zerolinewidth": 2
          },
          "yaxis": {
           "automargin": true,
           "gridcolor": "white",
           "linecolor": "white",
           "ticks": "",
           "title": {
            "standoff": 15
           },
           "zerolinecolor": "white",
           "zerolinewidth": 2
          }
         }
        },
        "title": {
         "text": "<b>Boxplot & Swarm of Runtime in Minutes: right-skewed with some wildly long shows<b>"
        },
        "xaxis": {
         "anchor": "y",
         "domain": [
          0,
          1
         ],
         "title": {
          "text": "runtimeMins"
         }
        },
        "yaxis": {
         "anchor": "x",
         "domain": [
          0,
          1
         ]
        }
       }
      }
     },
     "metadata": {},
     "output_type": "display_data"
    }
   ],
   "source": [
    "px.box(metascripts, \n",
    "       x = 'runtimeMins', \n",
    "       hover_data=['artist', 'title'], \n",
    "       color_discrete_sequence=['saddlebrown'], \n",
    "       points = 'all',\n",
    "       title = '<b>Boxplot & Swarm of Runtime in Minutes: right-skewed with some wildly long shows<b>')"
   ]
  }
 ],
 "metadata": {
  "interpreter": {
   "hash": "542466b5a324f1333f512993cba41ecf153bff5c08c85763ac424cb7f020baf3"
  },
  "kernelspec": {
   "display_name": "Python 3.8.8 ('base')",
   "language": "python",
   "name": "python3"
  },
  "language_info": {
   "codemirror_mode": {
    "name": "ipython",
    "version": 3
   },
   "file_extension": ".py",
   "mimetype": "text/x-python",
   "name": "python",
   "nbconvert_exporter": "python",
   "pygments_lexer": "ipython3",
   "version": "3.8.8"
  },
  "orig_nbformat": 4
 },
 "nbformat": 4,
 "nbformat_minor": 2
}
