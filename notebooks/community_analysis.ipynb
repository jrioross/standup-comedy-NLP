{
 "cells": [
  {
   "cell_type": "markdown",
   "metadata": {},
   "source": [
    "# Community Analysis"
   ]
  },
  {
   "cell_type": "markdown",
   "metadata": {},
   "source": [
    "## Table of Contents\n",
    "\n",
    "   1. [imports](#imports)\n",
    "   2. [make dataframes](#make-dataframes)\n",
    "   2. [analyze mean similarity communities](#analyze-mean-similarity-communities)\n",
    "   3. [analyze feature group communities](#analyze-feature-group-communities)"
   ]
  },
  {
   "cell_type": "code",
   "execution_count": null,
   "metadata": {},
   "outputs": [],
   "source": []
  },
  {
   "cell_type": "markdown",
   "metadata": {},
   "source": [
    "## imports"
   ]
  },
  {
   "cell_type": "code",
   "execution_count": null,
   "metadata": {},
   "outputs": [],
   "source": [
    "import pandas as pd\n",
    "import numpy as np\n",
    "\n",
    "import re\n",
    "\n",
    "from sklearn.decomposition import PCA\n",
    "from sklearn.preprocessing import StandardScaler, OneHotEncoder\n",
    "from sklearn.compose import ColumnTransformer\n",
    "from sklearn.pipeline import Pipeline\n",
    "from umap import UMAP"
   ]
  },
  {
   "cell_type": "markdown",
   "metadata": {},
   "source": [
    "## make dataframes\n",
    "build from\n",
    "\n",
    "   - metascripts\n",
    "   - feature cosims dict\n",
    "   - features dict"
   ]
  },
  {
   "cell_type": "markdown",
   "metadata": {},
   "source": [
    "### descriptions and communities"
   ]
  },
  {
   "cell_type": "code",
   "execution_count": null,
   "metadata": {},
   "outputs": [],
   "source": [
    "descriptions = [re.search('(?<=\\\":).+(?=,\\\")', string).group(0) for string in pd.read_csv('../data/graph_coms_df.csv')['s'].values]\n",
    "communities = [int(re.search('(?<=\\\"meanCommunity\\\":)\\d+', string).group(0)) for string in pd.read_csv('../data/graph_coms_df.csv')['s'].values]\n",
    "descom_df = pd.DataFrame({\n",
    "        'description': descriptions,\n",
    "        'community':communities\n",
    "    })\n",
    "\n",
    "graph_coms_df = graph_df.merge(descom_df, left_on = 'description selection', right_on = 'description').drop(columns = 'description')\n",
    "graph_coms_df.to_csv('../data/graph_coms_meta.csv', index = False)"
   ]
  },
  {
   "cell_type": "code",
   "execution_count": null,
   "metadata": {},
   "outputs": [],
   "source": [
    "descom_df['community'].value_counts(normalize = True)"
   ]
  },
  {
   "cell_type": "code",
   "execution_count": null,
   "metadata": {},
   "outputs": [],
   "source": [
    "community_list = descom_df['community'].unique()\n",
    "com = community_list[0]\n",
    "descom_df[descom_df['community'] == com].sort_values('description')[40:60]"
   ]
  },
  {
   "cell_type": "code",
   "execution_count": null,
   "metadata": {},
   "outputs": [],
   "source": [
    "comedians_between = (metascripts.merge(descom_df)\n",
    "                     .groupby('artist')\n",
    "                     ['community']\n",
    "                     .nunique() > 1).sum()\n",
    "\n",
    "comedians_multiple = (metascripts.groupby('artist')['fullTitle'].count() > 1).sum()\n",
    "print(f'{comedians_between} out of {comedians_multiple}, i.e, {round(100*comedians_between/comedians_multiple,2)}%, of comedians with multiple shows in the dataset had shows in different communities.')"
   ]
  },
  {
   "cell_type": "markdown",
   "metadata": {},
   "source": [
    "### all similarities with communities\n",
    "depends upon metascripts and feature_cosims_dict"
   ]
  },
  {
   "cell_type": "code",
   "execution_count": null,
   "metadata": {},
   "outputs": [],
   "source": [
    "feature_cosims_dict.keys()"
   ]
  },
  {
   "cell_type": "code",
   "execution_count": null,
   "metadata": {},
   "outputs": [],
   "source": [
    "all_features = pd.DataFrame()\n",
    "for feature_group in feature_cosims_dict.keys():\n",
    "    try:\n",
    "        features = (feature_cosims_dict[feature_group]\n",
    "                            .set_index(metascripts['description'])\n",
    "                            .melt(var_name = 'description comparison', \n",
    "                                    value_name = f'{feature_group} similarity', \n",
    "                                    ignore_index = False)\n",
    "                                .reset_index()\n",
    "                                .rename(columns = {'description': 'description selection'})\n",
    "                    )\n",
    "        all_features = all_features.merge(features)\n",
    "    except:\n",
    "        all_features = (feature_cosims_dict[feature_group]\n",
    "                            .set_index(metascripts['description'])\n",
    "                            .melt(var_name = 'description comparison', \n",
    "                                    value_name = f'{feature_group} similarity', \n",
    "                                    ignore_index = False)\n",
    "                                .reset_index()\n",
    "                                .rename(columns = {'description': 'description selection'})\n",
    "                    )"
   ]
  },
  {
   "cell_type": "code",
   "execution_count": null,
   "metadata": {},
   "outputs": [],
   "source": [
    "all_features['mean similarity'] = all_features.mean(axis = 1)"
   ]
  },
  {
   "cell_type": "code",
   "execution_count": null,
   "metadata": {},
   "outputs": [],
   "source": [
    "# example\n",
    "# all_features[all_features['description selection'] == 'Dave Chappelle: 8:46 – Transcript'].nlargest(6, 'mean similarity')"
   ]
  },
  {
   "cell_type": "code",
   "execution_count": null,
   "metadata": {},
   "outputs": [],
   "source": [
    "metacols = ['description', 'link', 'script characters', 'id',\n",
    "           'artist', 'title', 'fullTitle', 'year', 'image', 'releaseDate',\n",
    "           'runtimeMins', 'runtimeStr', 'awards', 'genres',\n",
    "           'companies', 'contentRating', 'imDbRating',\n",
    "           'imDbRatingVotes', 'similars', 'languages']\n",
    "\n",
    "metacosims = (all_features\n",
    "                .merge(metascripts[metacols].drop(columns = 'similars'),\n",
    "                       left_on = 'description selection',\n",
    "                       right_on = 'description')\n",
    "                .drop(columns = 'description')\n",
    "                .merge(metascripts[metacols].drop(columns = 'similars'), \n",
    "                       left_on = 'description comparison', \n",
    "                       right_on = 'description',\n",
    "                       suffixes = (\" selection\", \" comparison\"))\n",
    "    )\n",
    "\n",
    "keepind = [ind for ind, col in enumerate(metacosims.columns) if ind != 1]\n",
    "metacosims = metacosims.iloc[:, keepind]"
   ]
  },
  {
   "cell_type": "code",
   "execution_count": null,
   "metadata": {},
   "outputs": [],
   "source": [
    "# with sqlite3.connect('../StandupRecommenderShiny/data/metacosims_recommender.sqlite') as db:\n",
    "#      metacosims.to_sql('metacosims', db, if_exists = 'append', index = False)"
   ]
  },
  {
   "cell_type": "code",
   "execution_count": null,
   "metadata": {},
   "outputs": [],
   "source": [
    "graph_df_all_features = (all_features.loc[all_features['mean similarity'] < 0.99999]\n",
    "                            .sort_values(['mean similarity', 'description selection', 'description comparison'], ascending = [False, True, True])\n",
    "                            .drop_duplicates(subset = 'mean similarity', keep = 'first')\n",
    "        )\n",
    "graph_df_all_features.to_csv('../data/graph_df_all_features.csv', index = False)"
   ]
  },
  {
   "cell_type": "markdown",
   "metadata": {},
   "source": [
    "### feature-groups with communities\n",
    "depends upon metascripts and features_dict"
   ]
  },
  {
   "cell_type": "code",
   "execution_count": null,
   "metadata": {},
   "outputs": [],
   "source": [
    "feature_mean_coms = {group: pd.concat([df, metascripts['description']], axis = 1).merge(descom_df) for group, df in features_dict.items()}\n",
    "feature_mean_coms.keys()"
   ]
  },
  {
   "cell_type": "code",
   "execution_count": null,
   "metadata": {},
   "outputs": [],
   "source": [
    "def feature_reduction_map(feature_mean_com_group, mapping = 'umap', show_component_weights = False, component_x = 0, component_y = 1):\n",
    "    \n",
    "    if mapping == 'umap':\n",
    "        mapper = UMAP()\n",
    "    else:\n",
    "        mapper = PCA()\n",
    "    \n",
    "    X = feature_mean_com_group.drop(columns = ['description', 'community'])\n",
    "    feature_group_map = mapper.fit_transform(X)\n",
    "\n",
    "    fig = px.scatter(x = feature_group_map[:,component_x],\n",
    "               y = feature_group_map[:,component_y],\n",
    "               color=feature_mean_com_group['community'].astype(str),\n",
    "               hover_data = [feature_mean_com_group['description']],\n",
    "               template = 'simple_white'\n",
    "               )\n",
    "    if show_component_weights:\n",
    "        comp_x_weights = pca_component_weights(feature_mean_com_group, component_x)\n",
    "        comp_y_weights = pca_component_weights(feature_mean_com_group, component_y)\n",
    "        print(comp_x_weights,'\\n\\n', comp_y_weights)\n",
    "        return fig\n",
    "    else:\n",
    "        return fig\n",
    "\n",
    "def pca_component_weights(feature_mean_com_group, component = 0):\n",
    "\n",
    "    mapper = PCA()\n",
    "    X = feature_mean_com_group.drop(columns = ['description', 'community'])\n",
    "    feature_group_map = mapper.fit_transform(X)\n",
    "\n",
    "    component_num = component\n",
    "    \n",
    "    components = pd.DataFrame({\n",
    "        'description': pca.feature_names_in_,\n",
    "        'coefficient': pca.components_[component_num]\n",
    "    })\n",
    "\n",
    "    return components.sort_values('coefficient', ascending=False)\n",
    "    \n",
    "feature_reduction_map(feature_mean_coms['sur'].fillna(0), \n",
    "                      mapping = 'pca', \n",
    "                      show_component_weights = True,\n",
    "                      component_x = 0, \n",
    "                      component_y = 1)"
   ]
  },
  {
   "cell_type": "markdown",
   "metadata": {},
   "source": [
    "## unsupervised analysis of mean cosine similarities and communities"
   ]
  },
  {
   "cell_type": "code",
   "execution_count": null,
   "metadata": {},
   "outputs": [],
   "source": [
    "from sklearn.decomposition import PCA\n",
    "from sklearn.preprocessing import StandardScaler, OneHotEncoder\n",
    "from sklearn.compose import ColumnTransformer\n",
    "from sklearn.pipeline import Pipeline\n",
    "from umap import UMAP"
   ]
  },
  {
   "cell_type": "code",
   "execution_count": null,
   "metadata": {},
   "outputs": [],
   "source": [
    "cosims_means_com = (cosims_means_df.merge(descom_df.set_index('description'), \n",
    "                                          left_index = True, \n",
    "                                          right_index = True\n",
    "                                         )\n",
    "                   )\n",
    "\n",
    "cosims_means_com['community'] = cosims_means_com['community'].astype(str)\n",
    "\n",
    "X = cosims_means_com.drop(columns = 'community')"
   ]
  },
  {
   "cell_type": "markdown",
   "metadata": {},
   "source": [
    "### pca & feature importances"
   ]
  },
  {
   "cell_type": "code",
   "execution_count": null,
   "metadata": {},
   "outputs": [],
   "source": []
  }
 ],
 "metadata": {
  "kernelspec": {
   "display_name": "Python 3",
   "language": "python",
   "name": "python3"
  },
  "language_info": {
   "codemirror_mode": {
    "name": "ipython",
    "version": 3
   },
   "file_extension": ".py",
   "mimetype": "text/x-python",
   "name": "python",
   "nbconvert_exporter": "python",
   "pygments_lexer": "ipython3",
   "version": "3.8.8"
  }
 },
 "nbformat": 4,
 "nbformat_minor": 2
}
