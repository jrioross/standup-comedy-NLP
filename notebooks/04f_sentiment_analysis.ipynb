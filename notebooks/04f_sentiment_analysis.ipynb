{
 "cells": [
  {
   "cell_type": "markdown",
   "metadata": {},
   "source": [
    "# Feature Engineering: LDA, Polarity, and Sentiment\n",
    "## Goal: Generate useful features related to standup comedy style."
   ]
  },
  {
   "cell_type": "markdown",
   "metadata": {},
   "source": [
    "## Table of Contents\n",
    "\n",
    "   - [x] [imports](#imports)\n",
    "   - [x] [prepare the data](#prepare-the-data)\n",
    "   - [x] [sentiment analysis with TextBlob](#sentiment-analysis-with-TextBlob)\n",
    "   - [ ] [sentiment analysis with BERT](#sentiment-analysis-with-BERT)\n",
    "   - [playground](#playground)"
   ]
  },
  {
   "cell_type": "markdown",
   "metadata": {},
   "source": [
    "## imports \n"
   ]
  },
  {
   "cell_type": "code",
   "execution_count": 2,
   "metadata": {},
   "outputs": [
    {
     "name": "stderr",
     "output_type": "stream",
     "text": [
      "<frozen importlib._bootstrap>:219: RuntimeWarning: numpy.ndarray size changed, may indicate binary incompatibility. Expected 80 from C header, got 88 from PyObject\n"
     ]
    }
   ],
   "source": [
    "import pickle\n",
    "import numpy as np\n",
    "import pandas as pd\n",
    "from datetime import date\n",
    "import json\n",
    "from tqdm.notebook import tqdm\n",
    "\n",
    "import matplotlib.pyplot as plt\n",
    "import seaborn as sns\n",
    "import plotly.express as px\n",
    "\n",
    "import re\n",
    "from collections import Counter, defaultdict\n",
    "import itertools\n",
    "import nltk\n",
    "from nltk.corpus import stopwords\n",
    "from nltk.tokenize import word_tokenize, sent_tokenize, regexp_tokenize\n",
    "import gensim\n",
    "from gensim.corpora.dictionary import Dictionary\n",
    "import spacy\n",
    "\n",
    "import pyLDAvis\n",
    "import pyLDAvis.sklearn\n",
    "pyLDAvis.enable_notebook()\n",
    "\n",
    "from textblob import TextBlob\n",
    "from sklearn.feature_extraction.text import CountVectorizer, TfidfVectorizer\n",
    "from sklearn.decomposition import LatentDirichletAllocation\n",
    "\n",
    "import warnings\n",
    "warnings.filterwarnings('ignore')"
   ]
  },
  {
   "cell_type": "code",
   "execution_count": 3,
   "metadata": {},
   "outputs": [],
   "source": [
    "sw = stopwords.words(\"english\")"
   ]
  },
  {
   "cell_type": "code",
   "execution_count": 4,
   "metadata": {},
   "outputs": [],
   "source": [
    "with open(f'../data/metascripts_df_profanity.pickle', 'rb') as file:\n",
    "    metascripts = pickle.load(file)"
   ]
  },
  {
   "cell_type": "markdown",
   "metadata": {},
   "source": [
    "## prepare the data\n"
   ]
  },
  {
   "cell_type": "code",
   "execution_count": 5,
   "metadata": {},
   "outputs": [],
   "source": [
    "descriptions = list(metascripts['description'].values)\n",
    "scripts = list(metascripts['transcript'].values)\n",
    "scripts_dict = dict(zip(descriptions, scripts))"
   ]
  },
  {
   "cell_type": "markdown",
   "metadata": {},
   "source": [
    "## sentiment analysis with TextBlob"
   ]
  },
  {
   "cell_type": "code",
   "execution_count": 9,
   "metadata": {},
   "outputs": [
    {
     "data": {
      "application/vnd.jupyter.widget-view+json": {
       "model_id": "4ba0cc0ccf1f49ce9656cec50efa8ff0",
       "version_major": 2,
       "version_minor": 0
      },
      "text/plain": [
       "  0%|          | 0/310 [00:00<?, ?it/s]"
      ]
     },
     "metadata": {},
     "output_type": "display_data"
    }
   ],
   "source": [
    "polarities = [TextBlob(script).sentiment.polarity for script in tqdm(scripts)]"
   ]
  },
  {
   "cell_type": "code",
   "execution_count": 10,
   "metadata": {},
   "outputs": [
    {
     "data": {
      "application/vnd.jupyter.widget-view+json": {
       "model_id": "9b9bd13fa8c742299be9cae82b71f638",
       "version_major": 2,
       "version_minor": 0
      },
      "text/plain": [
       "  0%|          | 0/310 [00:00<?, ?it/s]"
      ]
     },
     "metadata": {},
     "output_type": "display_data"
    }
   ],
   "source": [
    "subjectivity = [TextBlob(script).sentiment.subjectivity for script in tqdm(scripts)]"
   ]
  },
  {
   "cell_type": "code",
   "execution_count": 11,
   "metadata": {},
   "outputs": [],
   "source": [
    "metascripts['polarity'] = polarities\n",
    "metascripts['subjectivity'] = subjectivity"
   ]
  },
  {
   "cell_type": "code",
   "execution_count": 20,
   "metadata": {},
   "outputs": [
    {
     "data": {
      "application/vnd.plotly.v1+json": {
       "config": {
        "plotlyServerURL": "https://plotly.com"
       },
       "data": [
        {
         "alignmentgroup": "True",
         "boxpoints": "all",
         "customdata": [
          [
           "Jim Gaffigan: Comedy Monster (2021) | Transcript"
          ],
          [
           "Louis C. K.: Sorry (2021) | Transcript"
          ],
          [
           "Drew Michael: Drew Michael (2018) | Transcript"
          ],
          [
           "Drew Michael: Red Blue Green (2021) | Transcript"
          ],
          [
           "Mo Amer: Mohammed in Texas (2021) | Transcript"
          ],
          [
           "Dave Chappelle: The Closer (2021) | Transcript"
          ],
          [
           "Kathleen Madigan: Bothering Jesus (2016) – Transcript"
          ],
          [
           "Kathleen Madigan: Madigan Again (2013) – Transcript"
          ],
          [
           "Phil Wang: Philly Philly Wang Wang (2021) – Transcript"
          ],
          [
           "Tom Papa: You’re Doing Great! (2020) – Transcript"
          ],
          [
           "Tom Papa: Human Mule (2016) – Transcript"
          ],
          [
           "Tom Papa: Freaked Out (2013) – Transcript"
          ],
          [
           "Bo Burnham: Inside (2021) – Transcript"
          ],
          [
           "Tig Notaro: Boyish Girl Interrupted (2015) – Transcript"
          ],
          [
           "Joe List: I Hate Myself (2020) – Transcript"
          ],
          [
           "Nate Bargatze: The Greatest Average American (2021) – Transcript"
          ],
          [
           "Brian Regan: On The Rocks (2021) – Transcript"
          ],
          [
           "Doug Stanhope: Beer Hall Putsch (2013) – Transcript"
          ],
          [
           "Chris Rock Total Blackout: The Tamborine Extended Cut – Transcript"
          ],
          [
           "Sarah Cooper: Everything’s Fine (2020) – Transcript"
          ],
          [
           "Bo Burnham: Words, Words, Words (2010) – Transcript"
          ],
          [
           "Vir Das: Outside in – The Lockdown Special (2020) – Transcript"
          ],
          [
           "Larry the Cable Guy – Remain Seated (2020) – Transcript"
          ],
          [
           "Craig Ferguson: Just Being Honest (2015) – Transcript"
          ],
          [
           "Kevin Hart: Zero F**ks Given (2020) – Transcript"
          ],
          [
           "Sam Morril: I Got This (2020) – Transcript"
          ],
          [
           "RONNY CHIENG: ASIAN COMEDIAN DESTROYS AMERICA (2019) – TRANSCRIPT"
          ],
          [
           "Craig Ferguson: A Wee Bit o’ Revolution (2009) – Transcript"
          ],
          [
           "MICHAEL MCINTYRE: SHOWMAN (2020) – TRANSCRIPT"
          ],
          [
           "ROB SCHNEIDER: ASIAN MOMMA, MEXICAN KIDS (2020) – TRANSCRIPT"
          ],
          [
           "Sam Jay: 3 in the Morning (2020) – Transcript"
          ],
          [
           "Jack Whitehall: I’m Only Joking (2020) | Transcript"
          ],
          [
           "URZILA CARLSON: OVERQUALIFIED LOSER (2020) – FULL TRANSCRIPT"
          ],
          [
           "GEORGE LOPEZ: WE’LL DO IT FOR HALF (2020) – FULL TRANSCRIPT"
          ],
          [
           "JIM JEFFERIES: INTOLERANT (2020) – FULL TRANSCRIPT"
          ],
          [
           "George Carlin: Doin’ It Again (1990) – Transcript"
          ],
          [
           "ERIC ANDRE: LEGALIZE EVERYTHING (2020)"
          ],
          [
           "ROY WOOD JR.: FATHER FIGURE (2017) – FULL TRANSCRIPT"
          ],
          [
           "Mark Normand: Don’t Be Yourself (2017) – Transcript"
          ],
          [
           "Chris Gethard: Career Suicide (2017) – Transcript"
          ],
          [
           "RAMY YOUSSEF: FEELINGS (2019) – FULL TRANSCRIPT"
          ],
          [
           "KENNY SEBASTIAN DON’T BE THAT GUY (2017) – FULL TRANSCRIPT"
          ],
          [
           "BILLY CONNOLLY: HIGH HORSE TOUR LIVE (2016) – FULL TRANSCRIPT"
          ],
          [
           "Hannah Gadsby: Douglas (2020) – Transcript"
          ],
          [
           "Hasan Minhaj: Homecoming King (2017) – Transcript"
          ],
          [
           "PATTON OSWALT: I LOVE EVERYTHING (2020) – FULL TRANSCRIPT"
          ],
          [
           "RUSSELL PETERS: DEPORTED (2020) – FULL TRANSCRIPT"
          ],
          [
           "JIMMY O. YANG: GOOD DEAL (2020) – FULL TRANSCRIPT"
          ],
          [
           "JO KOY: LIGHTS OUT (2012) – FULL TRANSCRIPT"
          ],
          [
           "LEE MACK: GOING OUT LIVE (2010) – FULL TRANSCRIPT"
          ],
          [
           "LEE MACK: LIVE (2007) – FULL TRANSCRIPT"
          ],
          [
           "T.J. MILLER: NO REAL REASON (2011) – FULL TRANSCRIPT"
          ],
          [
           "Jerry Seinfeld: 23 Hours To Kill (2020) – Transcript"
          ],
          [
           "SINCERELY LOUIS CK (2020)"
          ],
          [
           "JIM NORTON: AMERICAN DEGENERATE (2013) – FULL TRANSCRIPT"
          ],
          [
           "Jim Norton: Monster Rain (2007) – Transcript"
          ],
          [
           "MARIA BAMFORD: WEAKNESS IS THE BRAND (2020) – FULL TRANSCRIPT"
          ],
          [
           "CHRIS D’ELIA: WHITE MALE. BLACK COMIC. (2013) – FULL TRANSCRIPT"
          ],
          [
           "Chris D’Elia: Man on Fire (2017) – Full Transcript"
          ],
          [
           "Tom Segura: Ball Hog (2020) – Transcript"
          ],
          [
           "Bert Kreischer: Hey Big Boy (2020) – Transcript"
          ],
          [
           "Marc Maron: End Times Fun (2020) – Full Transcript"
          ],
          [
           "PETE DAVIDSON: SMD (2016) – FULL TRANSCRIPT"
          ],
          [
           "PETE DAVIDSON: ALIVE FROM NEW YORK (2020) – FULL TRANSCRIPT"
          ],
          [
           "Amanda Seales: I Be Knowin’ (2019) – Transcript"
          ],
          [
           "Stewart Lee: Carpet Remnant World (2012) – Full Transcript"
          ],
          [
           "Stewart Lee: Content Provider (2018) – Transcript"
          ],
          [
           "Sara Pascoe: LadsLadsLads (2019) – Full Transcript"
          ],
          [
           "Dan Soder: Son of a Gary (2019) – Full Transcript"
          ],
          [
           "Jim Gaffigan: Quality Time (2019) – Full Transcript"
          ],
          [
           "Kevin Bridges: A Whole Different Story (2015) – Full Transcript"
          ],
          [
           "Kevin Bridges: The Story So Far… Live in Glasgow (2010) – Full Transcript"
          ],
          [
           "Kevin Bridges: The Story Continues (2012) – Full Transcript"
          ],
          [
           "Michelle Wolf: Joke Show (2019) – Full Transcript"
          ],
          [
           "Tiffany Haddish: Black Mitzvah (2019) – Transcript"
          ],
          [
           "Mike Birbiglia: The New One (2019) – Full Transcript"
          ],
          [
           "Iliza Shlesinger: Unveiled (2019) – Full Transcript"
          ],
          [
           "Seth Meyers: Lobby Baby (2019) – Full Transcript"
          ],
          [
           "Arsenio Hall: Smart and Classy (2019) – Transcript"
          ],
          [
           "Nikki Glaser: Bangin’ (2019) – Full Transcript"
          ],
          [
           "Bill Burr: Paper Tiger (2019) – Transcript"
          ],
          [
           "Dave Chappelle: Sticks & Stones (2019) – Transcript"
          ],
          [
           "Emily Heller: Ice Thickeners (2019) – Full Transcript"
          ],
          [
           "David Cross: Oh Come On (2019) – Full Transcript"
          ],
          [
           "Whitney Cummings: Can I Touch It? (2019) – Full Transcript"
          ],
          [
           "Aziz Ansari: Right Now (2019) – Transcript"
          ],
          [
           "Ralphie May: Filthy Animal Tour (2014) – Transcript"
          ],
          [
           "Mike Epps: Only One Mike (2019) – Full Transcript"
          ],
          [
           "Adam DeVine: Best Time of Our Lives (2019) – Full Transcript"
          ],
          [
           "Jo Koy: Live from Seattle (2017) – Full Transcript"
          ],
          [
           "Jo Koy: Comin’ in Hot (2019) – Full Transcript"
          ],
          [
           "Wanda Sykes: Not Normal (2019) – Full Transcript"
          ],
          [
           "Cedric the Entertainer: Live from the Ville (2016) – Transcript"
          ],
          [
           "Eddie Murphy: Raw (1987) – Transcript"
          ],
          [
           "Colin Quinn: The New York Story (2016) – Full Transcript"
          ],
          [
           "Demetri Martin: Live (At The Time) (2015) | Transcript"
          ],
          [
           "George Carlin: What Am I Doing in New Jersey? (1988) – Full Transcript"
          ],
          [
           "Chelsea Peretti: One of the Greats (2014) – Full Transcript"
          ],
          [
           "Anthony Jeselnik: Fire in the Maternity Ward (2019) – Transcript"
          ],
          [
           "Roy Wood Jr.: No One Loves You (2019) – Transcript"
          ],
          [
           "Robin Williams: Weapons of Self Destruction (2009) – Full Transcript"
          ],
          [
           "ROBIN WILLIAMS LIVE ON BROADWAY (2002) – FULL TRANSCRIPT"
          ],
          [
           "Jimmy Carr: The Best of Ultimate Gold Greatest Hits (2019) – Full Transcript"
          ],
          [
           "Nate Bargatze: The Tennessee Kid (2019) – Full Transcript"
          ],
          [
           "W. Kamau Bell: Private School Negro (2018) – Transcript"
          ],
          [
           "Kevin Hart: Irresponsible (2019) – Transcript"
          ],
          [
           "Nate Bargatze: Full Time Magic (2015) – Full Transcript"
          ],
          [
           "Amy Schumer: Growing (2019) – Full Transcript"
          ],
          [
           "Enissa Amani: Ehrenwort (2018) Full Transcript"
          ],
          [
           "Ken Jeong: You Complete Me, Ho (2019) – Full Transcript"
          ],
          [
           "Ray Romano: Right Here, Around the Corner (2019) – Full Transcript"
          ],
          [
           "Gabriel “Fluffy” Iglesias: One Show Fits All (2019) – Full Transcript"
          ],
          [
           "Sebastian Maniscalco: Stay Hungry (2019) – Full Transcript"
          ],
          [
           "Sebastian Maniscalco: Aren’t You Embarrassed? (2014) – Full Transcript"
          ],
          [
           "Sebastian Maniscalco: What’s Wrong with People? (2012) – Full Transcript"
          ],
          [
           "Oh, Hello On Broadway (2017) – Transcript"
          ],
          [
           "Ellen Degeneres: Relatable (2018) – Transcript"
          ],
          [
           "Pete Holmes: Dirty Clean (2018) – Full Transcript"
          ],
          [
           "Vir Das: Losing It (2018) – Full Transcript"
          ],
          [
           "Trevor Noah: Son of Patricia (2018) – Transcript"
          ],
          [
           "Jeff Foxworthy & Larry the Cable Guy: We’ve Been Thinking (2016) – Full Transcript"
          ],
          [
           "Adam Sandler: 100% Fresh (2018) – Full Transcript"
          ],
          [
           "Jeff Foxworthy: Totally Committed (1998) – Full Transcript"
          ],
          [
           "RON WHITE: IF YOU QUIT LISTENING, I’LL SHUT UP (2018) – FULL TRANSCRIPT"
          ],
          [
           "Mo Amer: The Vagabond (2018) – Full Transcript"
          ],
          [
           "Joe Mande’s Award-Winning Comedy Special (2017) – Full Transcript"
          ],
          [
           "Henry Rollins: Keep Talking, Pal (2018) – Full Transcript"
          ],
          [
           "Joe Rogan: Strange Times (2018) – Full Transcript"
          ],
          [
           "D.L. Hughley: Contrarian (2018) – Transcript"
          ],
          [
           "Iliza Shlesinger: Freezing Hot (2015) – Full Transcript"
          ],
          [
           "Iliza Shlesinger: War Paint (2013) – Transcript"
          ],
          [
           "Bert Kreischer: Secret Time (2018) – Transcript"
          ],
          [
           "Demetri Martin: The Overthinker (2018) | Transcript"
          ],
          [
           "BILL MAHER: LIVE FROM OKLAHOMA (2018) – Full Transcript"
          ],
          [
           "Rowan Atkinson Live (1992) – Transcript"
          ],
          [
           "Iliza Shlesinger: Confirmed Kills (2016) – Full Transcript"
          ],
          [
           "Iliza Shlesinger: Elder Millennial (2018) – Full Transcript"
          ],
          [
           "JIM GAFFIGAN: NOBLE APE (2018) – Full Transcript"
          ],
          [
           "Jim Norton: Contextually Inadequate (2015) – Transcript"
          ],
          [
           "Hannah Gadsby: Nanette (2018) – Transcript"
          ],
          [
           "BRAD WILLIAMS: DADDY ISSUES (2016) – Full Transcript"
          ],
          [
           "Deray Davis: How To Act Black (2017) – Transcript"
          ],
          [
           "RICKY GERVAIS: LIVE IV – SCIENCE (2010) – Full Transcript"
          ],
          [
           "JIM JEFFERIES: THIS IS ME NOW (2018) – Full transcript"
          ],
          [
           "RUSSELL PETERS: OUTSOURCED (2006) – Full Transcript"
          ],
          [
           "RUSSELL PETERS: ALMOST FAMOUS (2016) – Full Transcript"
          ],
          [
           "RON WHITE: A LITTLE UNPROFESSIONAL (2012) – Full Transcript"
          ],
          [
           "MICHAEL MCINTYRE: HELLO WEMBLEY! (2009) – Full Transcript"
          ],
          [
           "KEVIN SMITH: SILENT BUT DEADLY (2018) – Full Transcript"
          ],
          [
           "KEVIN JAMES: NEVER DON’T GIVE UP (2018) – Full Transcript"
          ],
          [
           "BRENT MORIN: I’M BRENT MORIN (2015) – Full Transcript"
          ],
          [
           "NIKKI GLASER: PERFECT (2016) – Full Transcript"
          ],
          [
           "Ali Wong: Hard Knock Wife (2018) – Transcript"
          ],
          [
           "KAVIN JAY: EVERYBODY CALM DOWN! (2018) – Full Transcript"
          ],
          [
           "John Mulaney: Kid Gorgeous At Radio City (2018) – Transcript"
          ],
          [
           "Eddie Griffin: Undeniable (2018) – Transcript"
          ],
          [
           "GREG DAVIES: YOU MAGNIFICENT BEAST (2018) – Full Transcript"
          ],
          [
           "George Carlin: You Are All Diseased (1999) – Transcript"
          ],
          [
           "Marlon Wayans: Woke-Ish (2018) – Transcript"
          ],
          [
           "RICKY GERVAIS: HUMANITY (2018) – Full Transcript"
          ],
          [
           "ADEL KARAM: LIVE FROM BEIRUT (2018) – Full Transcript"
          ],
          [
           "STEWART LEE: 90s COMEDIAN (2006) – Full Transcript"
          ],
          [
           "Mike Birbiglia: My Girlfriend’s Boyfriend (2013) – Transcript"
          ],
          [
           "DAVE ATTELL: ROAD WORK (2014) – Full Transcript"
          ],
          [
           "Eddie Izzard – Glorious (1997) – Transcript"
          ],
          [
           "Chris Rock: Bring the Pain (1996) – Transcript"
          ],
          [
           "ARI SHAFFIR: DOUBLE NEGATIVE (2017) – Full Transcript"
          ],
          [
           "Chris Rock: Tamborine (2018) – Transcript"
          ],
          [
           "FRED ARMISEN: STANDUP FOR DRUMMERS (2018) – Full Transcript"
          ],
          [
           "DANA CARVEY: STRAIGHT WHITE MALE, 60 (2016) – Full Transcript"
          ],
          [
           "EDDIE IZZARD: STRIPPED (2009) – Full Transcript"
          ],
          [
           "TODD GLASS: ACT HAPPY (2018) – Full Transcript"
          ],
          [
           "BRIAN REGAN: STANDING UP (2007) – Full Transcript"
          ],
          [
           "BRIAN REGAN: NUNCHUCKS AND FLAMETHROWERS (2017) – Full Transcript"
          ],
          [
           "Katt Williams: Great America (2018) – Transcript"
          ],
          [
           "JIMMY CARR: BEING FUNNY (2011) – Full Transcript"
          ],
          [
           "JIMMY CARR: LAUGHING AND JOKING (2013) – Full Transcript"
          ],
          [
           "Eddie Izzard: Unrepeatable (1994) | Transcript"
          ],
          [
           "D.L. Hughley: Unapologetic (2007) – Transcript"
          ],
          [
           "BRIDGET EVERETT: GYNECOLOGICAL WONDER (2015) – Full Transcript"
          ],
          [
           "Chris Rock: Never Scared (2004) – Transcript"
          ],
          [
           "Stewart Lee: Stand-Up Comedian (2005) – Transcript"
          ],
          [
           "JIMMY CARR: FUNNY BUSINESS (2016) – Full Transcript"
          ],
          [
           "Eddie Izzard: Dress To Kill (1999) – Transcript"
          ],
          [
           "Chris Tucker: Live (2015) – Transcript"
          ],
          [
           "Kevin Hart: What Now (2016) – Transcript"
          ],
          [
           "Kevin Hart: Let Me Explain (2013) – Transcript"
          ],
          [
           "Tom Segura: Disgraceful (2018) – Transcript"
          ],
          [
           "MICHELLE WOLF: NICE LADY (2017) – Full Transcript"
          ],
          [
           "FAHIM ANWAR: THERE’S NO BUSINESS LIKE SHOW BUSINESS (2017) – Transcript"
          ],
          [
           "ELLEN DEGENERES: THE BEGINNING (2000) – Full Transcript"
          ],
          [
           "MAZ JOBRANI: IMMIGRANT (2017) – Full Transcript"
          ],
          [
           "TODD BARRY: SPICY HONEY (2017) – Full Transcript"
          ],
          [
           "Jerry Seinfeld: I’m Telling You for the Last Time (1998) – Transcript"
          ],
          [
           "Craig Ferguson: Does This Need To Be Said? (2011) – Transcript"
          ],
          [
           "Dave Chappelle: The Bird Revelation (2017) – Transcript"
          ],
          [
           "Dave Chappelle: Equanimity (2017) – Transcript"
          ],
          [
           "CRAIG FERGUSON: I’M HERE TO HELP (2013) – Full Transcript"
          ],
          [
           "RUSSELL HOWARD: RECALIBRATE (2017) – Full Transcript"
          ],
          [
           "WHITNEY CUMMINGS: I LOVE YOU (2014) – Full Transcript"
          ],
          [
           "WHITNEY CUMMINGS: I’M YOUR GIRLFRIEND (2016) – Full Transcript"
          ],
          [
           "SARAH MILLICAN: CHATTERBOX LIVE (2011) – Full Transcript"
          ],
          [
           "Anjelah Johnson: Not Fancy (2015) – Transcript"
          ],
          [
           "RICKY GERVAIS LIVE 2: POLITICS (2004) – Full Transcript"
          ],
          [
           "Russell Howard Live: Dingledodies (2009) – Full Transcript"
          ],
          [
           "CHRISTINA PAZSITZKY: MOTHER INFERIOR (2017) – FULL TRANSCRIPT"
          ],
          [
           "Jack Whitehall: At Large (2017) – Transcript"
          ],
          [
           "CRISTELA ALONZO: LOWER CLASSY (2017) – Full Transcript"
          ],
          [
           "JUDAH FRIEDLANDER: AMERICA IS THE GREATEST COUNTRY IN THE UNITED STATES (2017) – Full Transcript"
          ],
          [
           "AZIZ ANSARI: LIVE IN MADISON SQUARE GARDEN (2015) – Full Transcript"
          ],
          [
           "AZIZ ANSARI: BURIED ALIVE (2013) – Full Transcript"
          ],
          [
           "Paul Mooney: A Piece of My Mind – Godbless America (2014) – Transcript"
          ],
          [
           "PATTON OSWALT: ANNIHILATION (2017) – Full Transcript"
          ],
          [
           "Chris Rock: Kill The Messenger – London, New York, Johannesburg (2008) – Transcript"
          ],
          [
           "BILL MAHER: LIVE FROM D.C. (2014) – Full Transcript"
          ],
          [
           "Sarah Silverman: Jesus Is Magic (2005) – Transcript"
          ],
          [
           "SARAH SILVERMAN: WE ARE MIRACLES (2013) – Full Transcript"
          ],
          [
           "Pablo Francisco: Ouch! Live From San Jose (2006) – Full Transcript"
          ],
          [
           "BILL MAHER… BUT I’M NOT WRONG (2010) – Full Transcript"
          ],
          [
           "RUSSELL BRAND: MESSIAH COMPLEX (2013) – Full Transcript"
          ],
          [
           "Chris Rock: Bigger & Blacker (1999) – Transcript"
          ],
          [
           "Gabriel Iglesias: Hot And Fluffy (2007) – Transcript"
          ],
          [
           "GABRIEL IGLESIAS: I’M NOT FAT … I’M FLUFFY (2009) – Full Transcript"
          ],
          [
           "GABRIEL IGLESIAS: I’M SORRY FOR WHAT I SAID WHEN I WAS HUNGRY (2016) – Full Transcript"
          ],
          [
           "RORY SCOVEL TRIES STAND-UP FOR THE FIRST TIME (2017) – Full Transcript"
          ],
          [
           "LISA LAMPANELLI: BACK TO THE DRAWING BOARD (2015) – Full Transcript"
          ],
          [
           "ERIK GRIFFIN: THE UGLY TRUTH (2017) – Full Transcript"
          ],
          [
           "JEN KIRKMAN: JUST KEEP LIVIN’? (2017) – Full Transcript"
          ],
          [
           "DANIEL TOSH: COMPLETELY SERIOUS (2007) – Full Transcript"
          ],
          [
           "AL MADRIGAL: WHY IS THE RABBIT CRYING? (2013) – Full Transcript"
          ],
          [
           "NEAL BRENNAN: 3 MICS (2017)- FULL TRANSCRIPT"
          ],
          [
           "John Mulaney: New In Town (2012) – Transcript"
          ],
          [
           "Donald Glover: Weirdo (2012) – Transcript"
          ],
          [
           "ALI WONG: BABY COBRA (2016) – Full Transcript"
          ],
          [
           "Norm Macdonald: Hitler’s Dog, Gossip & Trickery (2017) – Transcript"
          ],
          [
           "DANIEL TOSH: PEOPLE PLEASER (2016) – FULL TRANSCRIPT"
          ],
          [
           "Marc Maron: More Later (2015) – Full Transcript"
          ],
          [
           "Dylan Moran: Off The Hook (2015) – Transcript"
          ],
          [
           "Richard Pryor: Live And Smokin’ (1971) – Transcript"
          ],
          [
           "RICHARD PRYOR: …HERE AND NOW (1983) – Full Transcript"
          ],
          [
           "AMY SCHUMER: MOSTLY SEX STUFF (2012) – Full Transcript"
          ],
          [
           "Jim Jefferies: Alcoholocaust (2010) – Transcript"
          ],
          [
           "AMY SCHUMER: LIVE AT THE APOLLO (2015) – Full Transcript"
          ],
          [
           "Kevin Hart: Seriously Funny (2010) – Transcript"
          ],
          [
           "Hannibal Buress: Comedy Camisado (2016) – Transcript"
          ],
          [
           "Neal Brennan: Women And Black Dudes (2014) – Transcript"
          ],
          [
           "NICK OFFERMAN: AMERICAN HAM (2014) – Full Transcript"
          ],
          [
           "AZIZ ANSARI: INTIMATE MOMENTS FOR A SENSUAL EVENING (2010) – Full Transcript"
          ],
          [
           "BIG JAY OAKERSON: LIVE AT WEBSTER HALL (2016) – Full Transcript"
          ],
          [
           "George Carlin at USC (1977) – Full Transcript"
          ],
          [
           "Jim Norton: Mouthful Of Shame (2017) Transcript"
          ],
          [
           "Michael Che Matters (2016) – Transcript"
          ],
          [
           "Joe Rogan: Triggered (2016) – Transcript"
          ],
          [
           "Trevor Noah: Lost In Translation (2015) – Transcript"
          ],
          [
           "MARIA BAMFORD: OLD BABY (2017) – FULL TRANSCRIPT"
          ],
          [
           "Bo Burnham: What (2013) – Transcript"
          ],
          [
           "Bo Burnham: Make Happy (2016) – Transcript"
          ],
          [
           "ANTHONY JESELNIK: CALIGULA (2013) – Full Transcript"
          ],
          [
           "Anthony Jeselnik: Thoughts And Prayers (2015) – Full Transcript"
          ],
          [
           "John Mulaney: The Comeback Kid (2015) – Transcript"
          ],
          [
           "BILL HICKS: REVELATIONS (1993) – FULL TRANSCRIPT"
          ],
          [
           "LEWIS BLACK: BLACK TO THE FUTURE (2016) – Full Transcript"
          ],
          [
           "DOUG STANHOPE: BEFORE TURNING THE GUN ON HIMSELF (2012) – Transcript"
          ],
          [
           "DOUG STANHOPE: DEADBEAT HERO (2004) – Transcript"
          ],
          [
           "JIM JEFFERIES: CONTRABAND (2008) – Full Transcript"
          ],
          [
           "Mike Birbiglia: Thank God for Jokes (2017) – Transcript"
          ],
          [
           "SARAH SILVERMAN: A SPECK OF DUST (2017) – Full Transcript"
          ],
          [
           "GEORGE CARLIN: PLAYING WITH YOUR HEAD (1986) – Full Transcript"
          ],
          [
           "GEORGE CARLIN: AGAIN!* (1978) – Full Transcript"
          ],
          [
           "Louis C.K.: Chewed Up (2008) – Transcript"
          ],
          [
           "Tom Segura: Completely Normal (2014) – Transcript"
          ],
          [
           "GEORGE CARLIN: CARLIN ON CAMPUS (1984) – Full Transcript"
          ],
          [
           "Louis C.K.: Live at the Beacon Theatre (2011) – Transcript"
          ],
          [
           "RICKY GERVAIS: OUT OF ENGLAND 2 (2010) – Full Transcript"
          ],
          [
           "AMY SCHUMER: THE LEATHER SPECIAL (2017) – Full Transcript"
          ],
          [
           "JIM GAFFIGAN: CINCO (2017) – Full Transcript"
          ],
          [
           "JIM JEFFERIES: I SWEAR TO GOD (2009) – FULL TRANSCRIPT"
          ],
          [
           "LOUIS C.K.: HILARIOUS (2010) – Full Transcript"
          ],
          [
           "LOUIS C.K.: SHAMELESS (2007) – Full Transcript"
          ],
          [
           "BILL BURR: I’M SORRY YOU FEEL THAT WAY (2014) – Full Transcript"
          ],
          [
           "BILL BURR: YOU PEOPLE ARE ALL THE SAME (2012) – Full Transcript"
          ],
          [
           "Dave Chappelle: For What It’s Worth (2004) – Transcript"
          ],
          [
           "Dave Chappelle: Killin’ Them Softly (2000) – Transcript"
          ],
          [
           "Eddie Griffin: You Can Tell ‘Em I Said It! (2011) – Transcript"
          ],
          [
           "BILL BURR: WALK YOUR WAY OUT (2017) – Full Transcript"
          ],
          [
           "LOUIS C.K.: OH MY GOD (2013) – Full Transcript"
          ],
          [
           "LOUIS C.K.: LIVE AT  THE COMEDY STORE (2015) – Transcript"
          ],
          [
           "BILL HICKS: RELENTLESS (1991) – Transcript"
          ],
          [
           "Daniel Tosh: Happy Thoughts (2011) – Transcript"
          ],
          [
           "Patrice O’Neal: Elephant in the Room (2011) – Transcript"
          ],
          [
           "Katt Williams: Live (2006) – Transcript"
          ],
          [
           "Richard Pryor: Live in Concert (1979) – Transcript"
          ],
          [
           "RICHARD PRYOR: LIVE ON THE SUNSET STRIP (1982) – Full Transcript"
          ],
          [
           "Trevor Noah: Afraid Of The Dark (2017) – Transcript"
          ],
          [
           "JIM JEFFERIES: BARE (2014) – Full Transcript"
          ],
          [
           "Dave Chappelle: Deep in the Heart of Texas (2017) – Transcript"
          ],
          [
           "Tom Segura: Mostly Stories (2016) – Transcript"
          ],
          [
           "BILL BURR: LET IT GO (2010) – TRANSCRIPT"
          ],
          [
           "JIM JEFFERIES: FREEDUMB (2016) – Full Transcript"
          ],
          [
           "Eddie Murphy: Delirious (1983) – Transcript"
          ],
          [
           "Dave Chappelle: The Age of Spin (2017) – Transcript"
          ],
          [
           "GEORGE CARLIN: BACK IN TOWN (1996) – Full transcript"
          ],
          [
           "LOUIS C.K.: 2017 – Full transcript"
          ],
          [
           "George Carlin: Jamming in New York (1992) – Transcript"
          ],
          [
           "Reggie Watts: Spatial (2016) – Full Transcript"
          ],
          [
           "GEORGE CARLIN: COMPLAINTS AND GRIEVANCES (2001) – FULL TRANSCRIPT"
          ],
          [
           "GEORGE CARLIN: LIFE IS WORTH LOSING (2006) – Transcript"
          ],
          [
           "George Carlin: It’s Bad For Ya (2008) Full transcript"
          ],
          [
           "Dave Chappelle: 8:46 – Transcript"
          ],
          [
           "JIM JEFFERIES ON GUN CONTROL [FULL TRANSCRIPT]"
          ]
         ],
         "hovertemplate": "polarity=%{x}<br>description=%{customdata[0]}<extra></extra>",
         "legendgroup": "",
         "marker": {
          "color": "#636efa"
         },
         "name": "",
         "notched": false,
         "offsetgroup": "",
         "orientation": "h",
         "showlegend": false,
         "type": "box",
         "x": [
          0.09758912680017506,
          0.05369645128939521,
          0.02510598325003813,
          0.044872149751957434,
          0.08310631545231734,
          0.03318945193417877,
          0.030827537378159894,
          0.0506201804830543,
          0.06253519932465516,
          0.08627736798242717,
          0.09556126392139125,
          0.08625422640359323,
          0.033775802774090445,
          0.12493983007042703,
          0.06048032490606291,
          0.09189871982713155,
          0.11549456303918187,
          -0.002644152346723704,
          0.01651954854493253,
          0.22197553211728518,
          0.05751147528134031,
          0.1341348474799472,
          0.08224746913290736,
          0.07927766661689035,
          0.02284164961613414,
          0.07628487985551592,
          0.11727040907058522,
          0.12258999393656,
          0.11707229185201462,
          0.060451065200729175,
          -0.07702840720907128,
          0.029278758176628845,
          0.05040333417658996,
          -0.09429242286581373,
          -0.017024978460051212,
          0.038343939168822214,
          0.03173423050167411,
          0.07852454642226422,
          0.07221037980091347,
          0.10853772664533547,
          0.021858583939700943,
          0.13462150972515302,
          0.049398806104258224,
          0.06674273051987493,
          0.09129012808667336,
          0.07655976954952991,
          0.03804686517808157,
          0.11046920319844196,
          -0.03181852925998189,
          0.07046862750110779,
          0.04130562982729885,
          0.079244245102985,
          0.09714306387587071,
          -0.024429878177307535,
          0.01957524962636575,
          0.009839550098339157,
          0.13319517308317902,
          0.07378916077230374,
          0.012034649067227001,
          0.07405917293629158,
          -0.0008067485120181351,
          0.02109604741561078,
          0.07704159882784653,
          0.0571237060398542,
          0.10090162126285165,
          0.05507080259238408,
          0.07349136875577277,
          0.10142169141007094,
          -0.006639223853945542,
          0.13525266136787786,
          -0.004791425729236675,
          0.09829521321102383,
          0.041776215916389296,
          0.07091984659056748,
          0.037255092554244536,
          0.11015050373149192,
          0.13051534070132095,
          0.09167423611741801,
          -0.018084841840851434,
          0.10997944063326791,
          -0.03686246915323021,
          -0.008794284718922673,
          0.0951432565109696,
          0.06813657240721094,
          0.029709906506612885,
          0.09111147026230762,
          0.030027311748577357,
          -0.05257280548685558,
          0.028244791094946903,
          -0.07243654418011902,
          0.00448886032052485,
          0.0007646506361270628,
          0.005682236702721898,
          -0.0151945380239182,
          0.034744091065896474,
          0.10207717148740232,
          0.0649084818252952,
          0.10567030664668405,
          0.06949260114885118,
          0.06531049103490182,
          0.024212098125188382,
          0.0034182009099095706,
          0.0727180318644871,
          0.11963393793650622,
          0.07620922388586997,
          -0.00428879798690061,
          0.11577851154302046,
          0.14401491746855222,
          0.17775829604276658,
          0.0771696598307812,
          0.11561728165312511,
          0.13734165731487935,
          0.054260536320308146,
          0.11929785055819817,
          0.06147062459732293,
          0.1371202834315232,
          0.14822890277371809,
          0.05767300592297194,
          0.10022845730127845,
          0.10060082099497496,
          0.04723467795523733,
          -0.00042333866657205503,
          0.09925362731116247,
          -0.009910523816773821,
          0.06407610849940244,
          0.11150176822335946,
          0.15591514309826682,
          -0.015890320348467678,
          -0.0016056737916343969,
          0.038954062569247744,
          0.12894693097292606,
          -0.02152793254763345,
          0.12660855967130388,
          0.06315633758743522,
          0.09720293309092816,
          0.055913499637123054,
          0.09620347960120686,
          0.1012255531971244,
          0.024312803058123996,
          0.06165945168129511,
          0.09413295823366721,
          -0.05060082917327778,
          0.06401293577600049,
          0.017722948733365374,
          0.04842570528401843,
          0.07987789461170151,
          0.09345798584809568,
          0.07962228458146488,
          -0.05915508604556926,
          0.11972891297344081,
          0.020222692231281265,
          0.1555001089661218,
          0.07317615104112306,
          0.15904218222722183,
          0.08352197225937143,
          0.000474335068955808,
          0.022764244913851952,
          0.037908928461504794,
          0.00876733492027051,
          0.0664892107266094,
          0.09573484517290685,
          0.09850616715053374,
          0.09292672133352244,
          0.11254419424361435,
          0.026207100836381222,
          -0.0043950515487643565,
          0.04657180228920818,
          0.017379284849987988,
          0.15856045428860982,
          0.10307701505057676,
          0.06378393636220599,
          0.12364029517626608,
          0.11114782542581585,
          0.08520892657945257,
          0.015814958927799393,
          0.052843742825987174,
          0.06390432273105143,
          0.03850470203340601,
          -0.08496708152958163,
          0.016055167426819235,
          0.001467631168090305,
          0.098416178217063,
          0.020161847253750514,
          0.030794635903156762,
          0.006510347808266033,
          -0.010662912225598972,
          -0.009878691668317358,
          0.0837532603960817,
          0.13094824903842456,
          0.05022890713703962,
          0.08607168728550386,
          0.14710197433265515,
          0.10806577263124871,
          0.09335647725575781,
          0.018349547548101617,
          0.022357508079193185,
          -0.0084279464395699,
          0.04167386560760468,
          0.062307045999779646,
          0.02041517632717721,
          0.038939359653335365,
          0.126485955894135,
          0.15476061744321384,
          0.04996930518116773,
          0.09946128623022503,
          0.11821352554965367,
          0.05354416347935527,
          0.04381147308410191,
          0.07406085927227567,
          0.08938541004911602,
          0.07438733314012415,
          -0.02472329279287195,
          0.03765227146180947,
          0.025829799386980247,
          0.068412173827189,
          0.09395755281076389,
          0.07714728990669527,
          0.12421080271927898,
          0.07919747425510577,
          0.07461605636170753,
          -0.05819662143880888,
          0.09960776315016134,
          0.11025493797965305,
          0.11268285821720178,
          0.10964271966169013,
          0.04550168863920535,
          0.020434449974255402,
          0.09461869327253945,
          0.06705627932828814,
          0.03458672776273996,
          0.04386792840189039,
          0.05767573167567005,
          0.017653073223947855,
          0.06935949864368937,
          0.10642127950973558,
          0.075340913437299,
          0.021600548993794353,
          0.08100749422142114,
          0.04113846288411717,
          -0.01533638500690118,
          0.10022719357713322,
          0.044848758313331315,
          0.10837782410234391,
          0.014581189740582225,
          0.07246296416474665,
          0.08849326468619943,
          0.1089822769042177,
          0.04150860587622269,
          0.033801374827494235,
          0.07793530512280511,
          0.0458219030699286,
          -0.003383060104433271,
          0.009617326450971058,
          0.03879823037723976,
          0.11807091678791745,
          0.08235740925776765,
          0.07309887479373622,
          0.0918019607800354,
          0.05428457572539908,
          0.08235494921228893,
          0.010113643352566875,
          0.09626415366528755,
          -0.002578550800165025,
          -0.018028617045862765,
          0.052779241436713496,
          0.062505605770995,
          0.12652309161477113,
          0.07489606937676792,
          0.007053946109280199,
          -0.027215870097669223,
          0.01399286976701751,
          0.030506340017917424,
          -0.027943946480107184,
          0.07400792674737483,
          0.12990636523473773,
          0.08860952543153254,
          -0.011641561216561215,
          -0.03632200828988424,
          -0.0691840343307398,
          0.017001377458649755,
          0.00045888065329599597,
          -0.00908168499996832,
          -0.03299162588713378,
          -0.030929525475689036,
          0.004030603694344066,
          0.05666511784542221,
          0.033636107125690484,
          0.04975945557814567,
          0.03717463678356194,
          0.07120326117131463,
          0.09661399727090818,
          0.021799296561995248,
          -0.0007686426911559654,
          0.04927758853750007,
          0.04514895296959817,
          0.004699428369512797,
          0.046819226165100994,
          0.055898547688870266,
          -0.014225742973022665,
          -0.125081604791861,
          -0.0026897275505192745,
          0.023467944926516427,
          0.048554051679932,
          0.029247206875731645,
          0.11373661073626902,
          0.03979454429073546,
          0.046095147149768985,
          0.04284193147948604,
          -0.03251931442817849,
          -0.005866883552571966
         ],
         "x0": " ",
         "xaxis": "x",
         "y0": " ",
         "yaxis": "y"
        }
       ],
       "layout": {
        "boxmode": "group",
        "legend": {
         "tracegroupgap": 0
        },
        "margin": {
         "t": 60
        },
        "template": {
         "data": {
          "bar": [
           {
            "error_x": {
             "color": "#2a3f5f"
            },
            "error_y": {
             "color": "#2a3f5f"
            },
            "marker": {
             "line": {
              "color": "#E5ECF6",
              "width": 0.5
             },
             "pattern": {
              "fillmode": "overlay",
              "size": 10,
              "solidity": 0.2
             }
            },
            "type": "bar"
           }
          ],
          "barpolar": [
           {
            "marker": {
             "line": {
              "color": "#E5ECF6",
              "width": 0.5
             },
             "pattern": {
              "fillmode": "overlay",
              "size": 10,
              "solidity": 0.2
             }
            },
            "type": "barpolar"
           }
          ],
          "carpet": [
           {
            "aaxis": {
             "endlinecolor": "#2a3f5f",
             "gridcolor": "white",
             "linecolor": "white",
             "minorgridcolor": "white",
             "startlinecolor": "#2a3f5f"
            },
            "baxis": {
             "endlinecolor": "#2a3f5f",
             "gridcolor": "white",
             "linecolor": "white",
             "minorgridcolor": "white",
             "startlinecolor": "#2a3f5f"
            },
            "type": "carpet"
           }
          ],
          "choropleth": [
           {
            "colorbar": {
             "outlinewidth": 0,
             "ticks": ""
            },
            "type": "choropleth"
           }
          ],
          "contour": [
           {
            "colorbar": {
             "outlinewidth": 0,
             "ticks": ""
            },
            "colorscale": [
             [
              0,
              "#0d0887"
             ],
             [
              0.1111111111111111,
              "#46039f"
             ],
             [
              0.2222222222222222,
              "#7201a8"
             ],
             [
              0.3333333333333333,
              "#9c179e"
             ],
             [
              0.4444444444444444,
              "#bd3786"
             ],
             [
              0.5555555555555556,
              "#d8576b"
             ],
             [
              0.6666666666666666,
              "#ed7953"
             ],
             [
              0.7777777777777778,
              "#fb9f3a"
             ],
             [
              0.8888888888888888,
              "#fdca26"
             ],
             [
              1,
              "#f0f921"
             ]
            ],
            "type": "contour"
           }
          ],
          "contourcarpet": [
           {
            "colorbar": {
             "outlinewidth": 0,
             "ticks": ""
            },
            "type": "contourcarpet"
           }
          ],
          "heatmap": [
           {
            "colorbar": {
             "outlinewidth": 0,
             "ticks": ""
            },
            "colorscale": [
             [
              0,
              "#0d0887"
             ],
             [
              0.1111111111111111,
              "#46039f"
             ],
             [
              0.2222222222222222,
              "#7201a8"
             ],
             [
              0.3333333333333333,
              "#9c179e"
             ],
             [
              0.4444444444444444,
              "#bd3786"
             ],
             [
              0.5555555555555556,
              "#d8576b"
             ],
             [
              0.6666666666666666,
              "#ed7953"
             ],
             [
              0.7777777777777778,
              "#fb9f3a"
             ],
             [
              0.8888888888888888,
              "#fdca26"
             ],
             [
              1,
              "#f0f921"
             ]
            ],
            "type": "heatmap"
           }
          ],
          "heatmapgl": [
           {
            "colorbar": {
             "outlinewidth": 0,
             "ticks": ""
            },
            "colorscale": [
             [
              0,
              "#0d0887"
             ],
             [
              0.1111111111111111,
              "#46039f"
             ],
             [
              0.2222222222222222,
              "#7201a8"
             ],
             [
              0.3333333333333333,
              "#9c179e"
             ],
             [
              0.4444444444444444,
              "#bd3786"
             ],
             [
              0.5555555555555556,
              "#d8576b"
             ],
             [
              0.6666666666666666,
              "#ed7953"
             ],
             [
              0.7777777777777778,
              "#fb9f3a"
             ],
             [
              0.8888888888888888,
              "#fdca26"
             ],
             [
              1,
              "#f0f921"
             ]
            ],
            "type": "heatmapgl"
           }
          ],
          "histogram": [
           {
            "marker": {
             "pattern": {
              "fillmode": "overlay",
              "size": 10,
              "solidity": 0.2
             }
            },
            "type": "histogram"
           }
          ],
          "histogram2d": [
           {
            "colorbar": {
             "outlinewidth": 0,
             "ticks": ""
            },
            "colorscale": [
             [
              0,
              "#0d0887"
             ],
             [
              0.1111111111111111,
              "#46039f"
             ],
             [
              0.2222222222222222,
              "#7201a8"
             ],
             [
              0.3333333333333333,
              "#9c179e"
             ],
             [
              0.4444444444444444,
              "#bd3786"
             ],
             [
              0.5555555555555556,
              "#d8576b"
             ],
             [
              0.6666666666666666,
              "#ed7953"
             ],
             [
              0.7777777777777778,
              "#fb9f3a"
             ],
             [
              0.8888888888888888,
              "#fdca26"
             ],
             [
              1,
              "#f0f921"
             ]
            ],
            "type": "histogram2d"
           }
          ],
          "histogram2dcontour": [
           {
            "colorbar": {
             "outlinewidth": 0,
             "ticks": ""
            },
            "colorscale": [
             [
              0,
              "#0d0887"
             ],
             [
              0.1111111111111111,
              "#46039f"
             ],
             [
              0.2222222222222222,
              "#7201a8"
             ],
             [
              0.3333333333333333,
              "#9c179e"
             ],
             [
              0.4444444444444444,
              "#bd3786"
             ],
             [
              0.5555555555555556,
              "#d8576b"
             ],
             [
              0.6666666666666666,
              "#ed7953"
             ],
             [
              0.7777777777777778,
              "#fb9f3a"
             ],
             [
              0.8888888888888888,
              "#fdca26"
             ],
             [
              1,
              "#f0f921"
             ]
            ],
            "type": "histogram2dcontour"
           }
          ],
          "mesh3d": [
           {
            "colorbar": {
             "outlinewidth": 0,
             "ticks": ""
            },
            "type": "mesh3d"
           }
          ],
          "parcoords": [
           {
            "line": {
             "colorbar": {
              "outlinewidth": 0,
              "ticks": ""
             }
            },
            "type": "parcoords"
           }
          ],
          "pie": [
           {
            "automargin": true,
            "type": "pie"
           }
          ],
          "scatter": [
           {
            "marker": {
             "colorbar": {
              "outlinewidth": 0,
              "ticks": ""
             }
            },
            "type": "scatter"
           }
          ],
          "scatter3d": [
           {
            "line": {
             "colorbar": {
              "outlinewidth": 0,
              "ticks": ""
             }
            },
            "marker": {
             "colorbar": {
              "outlinewidth": 0,
              "ticks": ""
             }
            },
            "type": "scatter3d"
           }
          ],
          "scattercarpet": [
           {
            "marker": {
             "colorbar": {
              "outlinewidth": 0,
              "ticks": ""
             }
            },
            "type": "scattercarpet"
           }
          ],
          "scattergeo": [
           {
            "marker": {
             "colorbar": {
              "outlinewidth": 0,
              "ticks": ""
             }
            },
            "type": "scattergeo"
           }
          ],
          "scattergl": [
           {
            "marker": {
             "colorbar": {
              "outlinewidth": 0,
              "ticks": ""
             }
            },
            "type": "scattergl"
           }
          ],
          "scattermapbox": [
           {
            "marker": {
             "colorbar": {
              "outlinewidth": 0,
              "ticks": ""
             }
            },
            "type": "scattermapbox"
           }
          ],
          "scatterpolar": [
           {
            "marker": {
             "colorbar": {
              "outlinewidth": 0,
              "ticks": ""
             }
            },
            "type": "scatterpolar"
           }
          ],
          "scatterpolargl": [
           {
            "marker": {
             "colorbar": {
              "outlinewidth": 0,
              "ticks": ""
             }
            },
            "type": "scatterpolargl"
           }
          ],
          "scatterternary": [
           {
            "marker": {
             "colorbar": {
              "outlinewidth": 0,
              "ticks": ""
             }
            },
            "type": "scatterternary"
           }
          ],
          "surface": [
           {
            "colorbar": {
             "outlinewidth": 0,
             "ticks": ""
            },
            "colorscale": [
             [
              0,
              "#0d0887"
             ],
             [
              0.1111111111111111,
              "#46039f"
             ],
             [
              0.2222222222222222,
              "#7201a8"
             ],
             [
              0.3333333333333333,
              "#9c179e"
             ],
             [
              0.4444444444444444,
              "#bd3786"
             ],
             [
              0.5555555555555556,
              "#d8576b"
             ],
             [
              0.6666666666666666,
              "#ed7953"
             ],
             [
              0.7777777777777778,
              "#fb9f3a"
             ],
             [
              0.8888888888888888,
              "#fdca26"
             ],
             [
              1,
              "#f0f921"
             ]
            ],
            "type": "surface"
           }
          ],
          "table": [
           {
            "cells": {
             "fill": {
              "color": "#EBF0F8"
             },
             "line": {
              "color": "white"
             }
            },
            "header": {
             "fill": {
              "color": "#C8D4E3"
             },
             "line": {
              "color": "white"
             }
            },
            "type": "table"
           }
          ]
         },
         "layout": {
          "annotationdefaults": {
           "arrowcolor": "#2a3f5f",
           "arrowhead": 0,
           "arrowwidth": 1
          },
          "autotypenumbers": "strict",
          "coloraxis": {
           "colorbar": {
            "outlinewidth": 0,
            "ticks": ""
           }
          },
          "colorscale": {
           "diverging": [
            [
             0,
             "#8e0152"
            ],
            [
             0.1,
             "#c51b7d"
            ],
            [
             0.2,
             "#de77ae"
            ],
            [
             0.3,
             "#f1b6da"
            ],
            [
             0.4,
             "#fde0ef"
            ],
            [
             0.5,
             "#f7f7f7"
            ],
            [
             0.6,
             "#e6f5d0"
            ],
            [
             0.7,
             "#b8e186"
            ],
            [
             0.8,
             "#7fbc41"
            ],
            [
             0.9,
             "#4d9221"
            ],
            [
             1,
             "#276419"
            ]
           ],
           "sequential": [
            [
             0,
             "#0d0887"
            ],
            [
             0.1111111111111111,
             "#46039f"
            ],
            [
             0.2222222222222222,
             "#7201a8"
            ],
            [
             0.3333333333333333,
             "#9c179e"
            ],
            [
             0.4444444444444444,
             "#bd3786"
            ],
            [
             0.5555555555555556,
             "#d8576b"
            ],
            [
             0.6666666666666666,
             "#ed7953"
            ],
            [
             0.7777777777777778,
             "#fb9f3a"
            ],
            [
             0.8888888888888888,
             "#fdca26"
            ],
            [
             1,
             "#f0f921"
            ]
           ],
           "sequentialminus": [
            [
             0,
             "#0d0887"
            ],
            [
             0.1111111111111111,
             "#46039f"
            ],
            [
             0.2222222222222222,
             "#7201a8"
            ],
            [
             0.3333333333333333,
             "#9c179e"
            ],
            [
             0.4444444444444444,
             "#bd3786"
            ],
            [
             0.5555555555555556,
             "#d8576b"
            ],
            [
             0.6666666666666666,
             "#ed7953"
            ],
            [
             0.7777777777777778,
             "#fb9f3a"
            ],
            [
             0.8888888888888888,
             "#fdca26"
            ],
            [
             1,
             "#f0f921"
            ]
           ]
          },
          "colorway": [
           "#636efa",
           "#EF553B",
           "#00cc96",
           "#ab63fa",
           "#FFA15A",
           "#19d3f3",
           "#FF6692",
           "#B6E880",
           "#FF97FF",
           "#FECB52"
          ],
          "font": {
           "color": "#2a3f5f"
          },
          "geo": {
           "bgcolor": "white",
           "lakecolor": "white",
           "landcolor": "#E5ECF6",
           "showlakes": true,
           "showland": true,
           "subunitcolor": "white"
          },
          "hoverlabel": {
           "align": "left"
          },
          "hovermode": "closest",
          "mapbox": {
           "style": "light"
          },
          "paper_bgcolor": "white",
          "plot_bgcolor": "#E5ECF6",
          "polar": {
           "angularaxis": {
            "gridcolor": "white",
            "linecolor": "white",
            "ticks": ""
           },
           "bgcolor": "#E5ECF6",
           "radialaxis": {
            "gridcolor": "white",
            "linecolor": "white",
            "ticks": ""
           }
          },
          "scene": {
           "xaxis": {
            "backgroundcolor": "#E5ECF6",
            "gridcolor": "white",
            "gridwidth": 2,
            "linecolor": "white",
            "showbackground": true,
            "ticks": "",
            "zerolinecolor": "white"
           },
           "yaxis": {
            "backgroundcolor": "#E5ECF6",
            "gridcolor": "white",
            "gridwidth": 2,
            "linecolor": "white",
            "showbackground": true,
            "ticks": "",
            "zerolinecolor": "white"
           },
           "zaxis": {
            "backgroundcolor": "#E5ECF6",
            "gridcolor": "white",
            "gridwidth": 2,
            "linecolor": "white",
            "showbackground": true,
            "ticks": "",
            "zerolinecolor": "white"
           }
          },
          "shapedefaults": {
           "line": {
            "color": "#2a3f5f"
           }
          },
          "ternary": {
           "aaxis": {
            "gridcolor": "white",
            "linecolor": "white",
            "ticks": ""
           },
           "baxis": {
            "gridcolor": "white",
            "linecolor": "white",
            "ticks": ""
           },
           "bgcolor": "#E5ECF6",
           "caxis": {
            "gridcolor": "white",
            "linecolor": "white",
            "ticks": ""
           }
          },
          "title": {
           "x": 0.05
          },
          "xaxis": {
           "automargin": true,
           "gridcolor": "white",
           "linecolor": "white",
           "ticks": "",
           "title": {
            "standoff": 15
           },
           "zerolinecolor": "white",
           "zerolinewidth": 2
          },
          "yaxis": {
           "automargin": true,
           "gridcolor": "white",
           "linecolor": "white",
           "ticks": "",
           "title": {
            "standoff": 15
           },
           "zerolinecolor": "white",
           "zerolinewidth": 2
          }
         }
        },
        "xaxis": {
         "anchor": "y",
         "domain": [
          0,
          1
         ],
         "title": {
          "text": "polarity"
         }
        },
        "yaxis": {
         "anchor": "x",
         "domain": [
          0,
          1
         ]
        }
       }
      },
      "text/html": [
       "<div>                            <div id=\"1ca565f1-4f99-4956-9b32-19e0e7f20e5c\" class=\"plotly-graph-div\" style=\"height:525px; width:100%;\"></div>            <script type=\"text/javascript\">                require([\"plotly\"], function(Plotly) {                    window.PLOTLYENV=window.PLOTLYENV || {};                                    if (document.getElementById(\"1ca565f1-4f99-4956-9b32-19e0e7f20e5c\")) {                    Plotly.newPlot(                        \"1ca565f1-4f99-4956-9b32-19e0e7f20e5c\",                        [{\"alignmentgroup\":\"True\",\"boxpoints\":\"all\",\"customdata\":[[\"Jim Gaffigan: Comedy Monster (2021) | Transcript\"],[\"Louis C. K.: Sorry (2021) | Transcript\"],[\"Drew Michael: Drew Michael (2018) | Transcript\"],[\"Drew Michael: Red Blue Green (2021) | Transcript\"],[\"Mo Amer: Mohammed in Texas (2021) | Transcript\"],[\"Dave Chappelle: The Closer (2021) | Transcript\"],[\"Kathleen Madigan: Bothering Jesus (2016) \\u2013 Transcript\"],[\"Kathleen Madigan: Madigan Again (2013) \\u2013 Transcript\"],[\"Phil Wang: Philly Philly Wang Wang (2021) \\u2013 Transcript\"],[\"Tom Papa: You\\u2019re Doing Great! (2020) \\u2013 Transcript\"],[\"Tom Papa: Human Mule (2016) \\u2013 Transcript\"],[\"Tom Papa: Freaked Out (2013) \\u2013 Transcript\"],[\"Bo Burnham: Inside (2021) \\u2013 Transcript\"],[\"Tig Notaro: Boyish Girl Interrupted (2015) \\u2013 Transcript\"],[\"Joe List: I Hate Myself (2020) \\u2013 Transcript\"],[\"Nate Bargatze: The Greatest Average American (2021) \\u2013 Transcript\"],[\"Brian Regan: On The Rocks (2021) \\u2013 Transcript\"],[\"Doug Stanhope: Beer Hall Putsch (2013) \\u2013 Transcript\"],[\"Chris Rock Total Blackout: The Tamborine Extended Cut \\u2013 Transcript\"],[\"Sarah Cooper: Everything\\u2019s Fine (2020) \\u2013 Transcript\"],[\"Bo Burnham: Words, Words, Words (2010) \\u2013 Transcript\"],[\"Vir Das: Outside in \\u2013 The Lockdown Special (2020) \\u2013 Transcript\"],[\"Larry the Cable Guy \\u2013 Remain Seated (2020) \\u2013 Transcript\"],[\"Craig Ferguson: Just Being Honest (2015) \\u2013 Transcript\"],[\"Kevin Hart: Zero F**ks Given (2020) \\u2013 Transcript\"],[\"Sam Morril: I Got This (2020) \\u2013 Transcript\"],[\"RONNY CHIENG: ASIAN COMEDIAN DESTROYS AMERICA (2019) \\u2013 TRANSCRIPT\"],[\"Craig Ferguson: A Wee Bit o\\u2019 Revolution (2009) \\u2013 Transcript\"],[\"MICHAEL MCINTYRE: SHOWMAN (2020) \\u2013 TRANSCRIPT\"],[\"ROB SCHNEIDER: ASIAN MOMMA, MEXICAN KIDS (2020) \\u2013 TRANSCRIPT\"],[\"Sam Jay: 3 in the Morning (2020) \\u2013 Transcript\"],[\"Jack Whitehall: I\\u2019m Only Joking (2020) | Transcript\"],[\"URZILA CARLSON: OVERQUALIFIED LOSER (2020) \\u2013 FULL TRANSCRIPT\"],[\"GEORGE LOPEZ: WE\\u2019LL DO IT FOR HALF (2020) \\u2013 FULL TRANSCRIPT\"],[\"JIM JEFFERIES: INTOLERANT (2020) \\u2013 FULL TRANSCRIPT\"],[\"George Carlin: Doin\\u2019 It Again (1990) \\u2013 Transcript\"],[\"ERIC ANDRE: LEGALIZE EVERYTHING (2020)\"],[\"ROY WOOD JR.: FATHER FIGURE (2017) \\u2013 FULL TRANSCRIPT\"],[\"Mark Normand: Don\\u2019t Be Yourself (2017) \\u2013 Transcript\"],[\"Chris Gethard: Career Suicide (2017) \\u2013 Transcript\"],[\"RAMY YOUSSEF: FEELINGS (2019) \\u2013 FULL TRANSCRIPT\"],[\"KENNY SEBASTIAN DON\\u2019T BE THAT GUY (2017) \\u2013 FULL TRANSCRIPT\"],[\"BILLY CONNOLLY: HIGH HORSE TOUR LIVE (2016) \\u2013 FULL TRANSCRIPT\"],[\"Hannah Gadsby: Douglas (2020) \\u2013 Transcript\"],[\"Hasan Minhaj: Homecoming King (2017) \\u2013 Transcript\"],[\"PATTON OSWALT: I LOVE EVERYTHING (2020) \\u2013 FULL TRANSCRIPT\"],[\"RUSSELL PETERS: DEPORTED (2020) \\u2013 FULL TRANSCRIPT\"],[\"JIMMY O. YANG: GOOD DEAL (2020) \\u2013 FULL TRANSCRIPT\"],[\"JO KOY: LIGHTS OUT (2012) \\u2013 FULL TRANSCRIPT\"],[\"LEE MACK: GOING OUT LIVE (2010) \\u2013 FULL TRANSCRIPT\"],[\"LEE MACK: LIVE (2007) \\u2013 FULL TRANSCRIPT\"],[\"T.J. MILLER: NO REAL REASON (2011) \\u2013 FULL TRANSCRIPT\"],[\"Jerry Seinfeld: 23 Hours To Kill (2020) \\u2013 Transcript\"],[\"SINCERELY LOUIS CK (2020)\"],[\"JIM NORTON: AMERICAN DEGENERATE (2013) \\u2013 FULL TRANSCRIPT\"],[\"Jim Norton: Monster Rain (2007) \\u2013 Transcript\"],[\"MARIA BAMFORD: WEAKNESS IS THE BRAND (2020) \\u2013 FULL TRANSCRIPT\"],[\"CHRIS D\\u2019ELIA: WHITE MALE. BLACK COMIC. (2013) \\u2013 FULL TRANSCRIPT\"],[\"Chris D\\u2019Elia: Man on Fire (2017) \\u2013 Full Transcript\"],[\"Tom Segura: Ball Hog (2020) \\u2013 Transcript\"],[\"Bert Kreischer: Hey Big Boy (2020) \\u2013 Transcript\"],[\"Marc Maron: End Times Fun (2020) \\u2013 Full Transcript\"],[\"PETE DAVIDSON: SMD (2016) \\u2013 FULL TRANSCRIPT\"],[\"PETE DAVIDSON: ALIVE FROM NEW YORK (2020) \\u2013 FULL TRANSCRIPT\"],[\"Amanda Seales: I Be Knowin\\u2019 (2019) \\u2013 Transcript\"],[\"Stewart Lee: Carpet Remnant World (2012) \\u2013 Full Transcript\"],[\"Stewart Lee: Content Provider (2018) \\u2013 Transcript\"],[\"Sara Pascoe: LadsLadsLads (2019) \\u2013 Full Transcript\"],[\"Dan Soder: Son of a Gary (2019) \\u2013 Full Transcript\"],[\"Jim Gaffigan: Quality Time (2019) \\u2013 Full Transcript\"],[\"Kevin Bridges: A Whole Different Story (2015) \\u2013 Full Transcript\"],[\"Kevin Bridges: The Story So Far\\u2026 Live in Glasgow (2010) \\u2013 Full Transcript\"],[\"Kevin Bridges: The Story Continues (2012) \\u2013 Full Transcript\"],[\"Michelle Wolf: Joke Show (2019) \\u2013 Full Transcript\"],[\"Tiffany Haddish: Black Mitzvah (2019) \\u2013 Transcript\"],[\"Mike Birbiglia: The New One (2019) \\u2013 Full Transcript\"],[\"Iliza Shlesinger: Unveiled (2019) \\u2013 Full Transcript\"],[\"Seth Meyers: Lobby Baby (2019) \\u2013 Full Transcript\"],[\"Arsenio Hall: Smart and Classy (2019) \\u2013 Transcript\"],[\"Nikki Glaser: Bangin\\u2019 (2019) \\u2013 Full Transcript\"],[\"Bill Burr: Paper Tiger (2019) \\u2013 Transcript\"],[\"Dave Chappelle: Sticks & Stones (2019) \\u2013 Transcript\"],[\"Emily Heller: Ice Thickeners (2019) \\u2013 Full Transcript\"],[\"David Cross: Oh Come On (2019) \\u2013 Full Transcript\"],[\"Whitney Cummings: Can I Touch It? (2019) \\u2013 Full Transcript\"],[\"Aziz Ansari: Right Now (2019) \\u2013 Transcript\"],[\"Ralphie May: Filthy Animal Tour (2014) \\u2013 Transcript\"],[\"Mike Epps: Only One Mike (2019) \\u2013 Full Transcript\"],[\"Adam DeVine: Best Time of Our Lives (2019) \\u2013 Full Transcript\"],[\"Jo Koy: Live from Seattle (2017) \\u2013 Full Transcript\"],[\"Jo Koy: Comin\\u2019 in Hot (2019) \\u2013 Full Transcript\"],[\"Wanda Sykes: Not Normal (2019) \\u2013 Full Transcript\"],[\"Cedric the Entertainer: Live from the Ville (2016) \\u2013 Transcript\"],[\"Eddie Murphy: Raw (1987) \\u2013 Transcript\"],[\"Colin Quinn: The New York Story (2016) \\u2013 Full Transcript\"],[\"Demetri Martin: Live (At The Time) (2015) | Transcript\"],[\"George Carlin: What Am I Doing in New Jersey? (1988) \\u2013 Full Transcript\"],[\"Chelsea Peretti: One of the Greats (2014) \\u2013 Full Transcript\"],[\"Anthony Jeselnik: Fire in the Maternity Ward (2019) \\u2013 Transcript\"],[\"Roy Wood Jr.: No One Loves You (2019) \\u2013 Transcript\"],[\"Robin Williams: Weapons of Self Destruction (2009) \\u2013 Full Transcript\"],[\"ROBIN WILLIAMS LIVE ON BROADWAY (2002) \\u2013 FULL TRANSCRIPT\"],[\"Jimmy Carr: The Best of Ultimate Gold Greatest Hits (2019) \\u2013 Full Transcript\"],[\"Nate Bargatze: The Tennessee Kid (2019) \\u2013 Full Transcript\"],[\"W. Kamau Bell: Private School Negro (2018) \\u2013 Transcript\"],[\"Kevin Hart: Irresponsible (2019) \\u2013 Transcript\"],[\"Nate Bargatze: Full Time Magic (2015) \\u2013 Full Transcript\"],[\"Amy Schumer: Growing (2019) \\u2013 Full Transcript\"],[\"Enissa Amani: Ehrenwort (2018) Full Transcript\"],[\"Ken Jeong: You Complete Me, Ho (2019) \\u2013 Full Transcript\"],[\"Ray Romano: Right Here, Around the Corner (2019) \\u2013 Full Transcript\"],[\"Gabriel \\u201cFluffy\\u201d Iglesias: One Show Fits All (2019) \\u2013 Full Transcript\"],[\"Sebastian Maniscalco: Stay Hungry (2019) \\u2013 Full Transcript\"],[\"Sebastian Maniscalco: Aren\\u2019t You Embarrassed? (2014) \\u2013 Full Transcript\"],[\"Sebastian Maniscalco: What\\u2019s Wrong with People? (2012) \\u2013 Full Transcript\"],[\"Oh, Hello On Broadway (2017) \\u2013 Transcript\"],[\"Ellen Degeneres: Relatable (2018) \\u2013 Transcript\"],[\"Pete Holmes: Dirty Clean (2018) \\u2013 Full Transcript\"],[\"Vir Das: Losing It (2018) \\u2013 Full Transcript\"],[\"Trevor Noah: Son of Patricia (2018) \\u2013 Transcript\"],[\"Jeff Foxworthy & Larry the Cable Guy: We\\u2019ve Been Thinking (2016) \\u2013 Full Transcript\"],[\"Adam Sandler: 100% Fresh (2018) \\u2013 Full Transcript\"],[\"Jeff Foxworthy: Totally Committed (1998) \\u2013 Full Transcript\"],[\"RON WHITE: IF YOU QUIT LISTENING, I\\u2019LL SHUT UP (2018) \\u2013 FULL TRANSCRIPT\"],[\"Mo Amer: The Vagabond (2018) \\u2013 Full Transcript\"],[\"Joe Mande\\u2019s Award-Winning Comedy Special (2017) \\u2013 Full Transcript\"],[\"Henry Rollins: Keep Talking, Pal (2018) \\u2013 Full Transcript\"],[\"Joe Rogan: Strange Times (2018) \\u2013 Full Transcript\"],[\"D.L. Hughley: Contrarian (2018) \\u2013 Transcript\"],[\"Iliza Shlesinger: Freezing Hot (2015) \\u2013 Full Transcript\"],[\"Iliza Shlesinger: War Paint (2013) \\u2013 Transcript\"],[\"Bert Kreischer: Secret Time (2018) \\u2013 Transcript\"],[\"Demetri Martin: The Overthinker (2018) | Transcript\"],[\"BILL MAHER: LIVE FROM OKLAHOMA (2018) \\u2013 Full Transcript\"],[\"Rowan Atkinson Live (1992) \\u2013 Transcript\"],[\"Iliza Shlesinger: Confirmed Kills (2016) \\u2013 Full Transcript\"],[\"Iliza Shlesinger: Elder Millennial (2018) \\u2013 Full Transcript\"],[\"JIM GAFFIGAN: NOBLE APE (2018) \\u2013 Full Transcript\"],[\"Jim Norton: Contextually Inadequate (2015) \\u2013 Transcript\"],[\"Hannah Gadsby: Nanette (2018) \\u2013 Transcript\"],[\"BRAD WILLIAMS: DADDY ISSUES (2016) \\u2013 Full Transcript\"],[\"Deray Davis: How To Act Black (2017) \\u2013 Transcript\"],[\"RICKY GERVAIS: LIVE IV \\u2013 SCIENCE (2010) \\u2013 Full Transcript\"],[\"JIM JEFFERIES: THIS IS ME NOW (2018) \\u2013 Full transcript\"],[\"RUSSELL PETERS: OUTSOURCED (2006) \\u2013 Full Transcript\"],[\"RUSSELL PETERS: ALMOST FAMOUS (2016) \\u2013 Full Transcript\"],[\"RON WHITE: A LITTLE UNPROFESSIONAL (2012) \\u2013 Full Transcript\"],[\"MICHAEL MCINTYRE: HELLO WEMBLEY! (2009) \\u2013 Full Transcript\"],[\"KEVIN SMITH: SILENT BUT DEADLY (2018) \\u2013 Full Transcript\"],[\"KEVIN JAMES: NEVER DON\\u2019T GIVE UP (2018) \\u2013 Full Transcript\"],[\"BRENT MORIN: I\\u2019M BRENT MORIN (2015) \\u2013 Full Transcript\"],[\"NIKKI GLASER: PERFECT (2016) \\u2013 Full Transcript\"],[\"Ali Wong: Hard Knock Wife (2018) \\u2013 Transcript\"],[\"KAVIN JAY: EVERYBODY CALM DOWN! (2018) \\u2013 Full Transcript\"],[\"John Mulaney: Kid Gorgeous At Radio City (2018) \\u2013 Transcript\"],[\"Eddie Griffin: Undeniable (2018) \\u2013 Transcript\"],[\"GREG DAVIES: YOU MAGNIFICENT BEAST (2018) \\u2013 Full Transcript\"],[\"George Carlin: You Are All Diseased (1999) \\u2013 Transcript\"],[\"Marlon Wayans: Woke-Ish (2018) \\u2013 Transcript\"],[\"RICKY GERVAIS: HUMANITY (2018) \\u2013 Full Transcript\"],[\"ADEL KARAM: LIVE FROM BEIRUT (2018) \\u2013 Full Transcript\"],[\"STEWART LEE: 90s COMEDIAN (2006) \\u2013 Full Transcript\"],[\"Mike Birbiglia: My Girlfriend\\u2019s Boyfriend (2013) \\u2013 Transcript\"],[\"DAVE ATTELL: ROAD WORK (2014) \\u2013 Full Transcript\"],[\"Eddie Izzard \\u2013 Glorious (1997) \\u2013 Transcript\"],[\"Chris Rock: Bring the Pain (1996) \\u2013 Transcript\"],[\"ARI SHAFFIR: DOUBLE NEGATIVE (2017) \\u2013 Full Transcript\"],[\"Chris Rock: Tamborine (2018) \\u2013 Transcript\"],[\"FRED ARMISEN: STANDUP FOR DRUMMERS (2018) \\u2013 Full Transcript\"],[\"DANA CARVEY: STRAIGHT WHITE MALE, 60 (2016) \\u2013 Full Transcript\"],[\"EDDIE IZZARD: STRIPPED (2009) \\u2013 Full Transcript\"],[\"TODD GLASS: ACT HAPPY (2018) \\u2013 Full Transcript\"],[\"BRIAN REGAN: STANDING UP (2007) \\u2013 Full Transcript\"],[\"BRIAN REGAN: NUNCHUCKS AND FLAMETHROWERS (2017) \\u2013 Full Transcript\"],[\"Katt Williams: Great America (2018) \\u2013 Transcript\"],[\"JIMMY CARR: BEING FUNNY (2011) \\u2013 Full Transcript\"],[\"JIMMY CARR: LAUGHING AND JOKING (2013) \\u2013 Full Transcript\"],[\"Eddie Izzard: Unrepeatable (1994) | Transcript\"],[\"D.L. Hughley: Unapologetic (2007) \\u2013 Transcript\"],[\"BRIDGET EVERETT: GYNECOLOGICAL WONDER (2015) \\u2013 Full Transcript\"],[\"Chris Rock: Never Scared (2004) \\u2013 Transcript\"],[\"Stewart Lee: Stand-Up Comedian (2005) \\u2013 Transcript\"],[\"JIMMY CARR: FUNNY BUSINESS (2016) \\u2013 Full Transcript\"],[\"Eddie Izzard: Dress To Kill (1999) \\u2013 Transcript\"],[\"Chris Tucker: Live (2015) \\u2013 Transcript\"],[\"Kevin Hart: What Now (2016) \\u2013 Transcript\"],[\"Kevin Hart: Let Me Explain (2013) \\u2013 Transcript\"],[\"Tom Segura: Disgraceful (2018) \\u2013 Transcript\"],[\"MICHELLE WOLF: NICE LADY (2017) \\u2013 Full Transcript\"],[\"FAHIM ANWAR: THERE\\u2019S NO BUSINESS LIKE SHOW BUSINESS (2017) \\u2013 Transcript\"],[\"ELLEN DEGENERES: THE BEGINNING (2000) \\u2013 Full Transcript\"],[\"MAZ JOBRANI: IMMIGRANT (2017) \\u2013 Full Transcript\"],[\"TODD BARRY: SPICY HONEY (2017) \\u2013 Full Transcript\"],[\"Jerry Seinfeld: I\\u2019m Telling You for the Last Time (1998) \\u2013 Transcript\"],[\"Craig Ferguson: Does This Need To Be Said? (2011) \\u2013 Transcript\"],[\"Dave Chappelle: The Bird Revelation (2017) \\u2013 Transcript\"],[\"Dave Chappelle: Equanimity (2017) \\u2013 Transcript\"],[\"CRAIG FERGUSON: I\\u2019M HERE TO HELP (2013) \\u2013 Full Transcript\"],[\"RUSSELL HOWARD: RECALIBRATE (2017) \\u2013 Full Transcript\"],[\"WHITNEY CUMMINGS: I LOVE YOU (2014) \\u2013 Full Transcript\"],[\"WHITNEY CUMMINGS: I\\u2019M YOUR GIRLFRIEND (2016) \\u2013 Full Transcript\"],[\"SARAH MILLICAN: CHATTERBOX LIVE (2011) \\u2013 Full Transcript\"],[\"Anjelah Johnson: Not Fancy (2015) \\u2013 Transcript\"],[\"RICKY GERVAIS LIVE 2: POLITICS (2004) \\u2013 Full Transcript\"],[\"Russell Howard Live: Dingledodies (2009) \\u2013 Full Transcript\"],[\"CHRISTINA PAZSITZKY: MOTHER INFERIOR (2017) \\u2013 FULL TRANSCRIPT\"],[\"Jack Whitehall: At Large (2017) \\u2013 Transcript\"],[\"CRISTELA ALONZO: LOWER CLASSY (2017) \\u2013 Full Transcript\"],[\"JUDAH FRIEDLANDER: AMERICA IS THE GREATEST COUNTRY IN THE UNITED STATES (2017) \\u2013 Full Transcript\"],[\"AZIZ ANSARI: LIVE IN MADISON SQUARE GARDEN (2015) \\u2013 Full Transcript\"],[\"AZIZ ANSARI: BURIED ALIVE (2013) \\u2013 Full Transcript\"],[\"Paul Mooney: A Piece of My Mind \\u2013 Godbless America (2014) \\u2013 Transcript\"],[\"PATTON OSWALT: ANNIHILATION (2017) \\u2013 Full Transcript\"],[\"Chris Rock: Kill The Messenger \\u2013 London, New York, Johannesburg (2008) \\u2013 Transcript\"],[\"BILL MAHER: LIVE FROM D.C. (2014) \\u2013 Full Transcript\"],[\"Sarah Silverman: Jesus Is Magic (2005) \\u2013 Transcript\"],[\"SARAH SILVERMAN: WE ARE MIRACLES (2013) \\u2013 Full Transcript\"],[\"Pablo Francisco: Ouch! Live From San Jose (2006) \\u2013 Full Transcript\"],[\"BILL MAHER\\u2026 BUT I\\u2019M NOT WRONG (2010) \\u2013 Full Transcript\"],[\"RUSSELL BRAND: MESSIAH COMPLEX (2013) \\u2013 Full Transcript\"],[\"Chris Rock: Bigger & Blacker (1999) \\u2013 Transcript\"],[\"Gabriel Iglesias: Hot And Fluffy (2007) \\u2013 Transcript\"],[\"GABRIEL IGLESIAS: I\\u2019M NOT FAT \\u2026 I\\u2019M FLUFFY (2009) \\u2013 Full Transcript\"],[\"GABRIEL IGLESIAS: I\\u2019M SORRY FOR WHAT I SAID WHEN I WAS HUNGRY (2016) \\u2013 Full Transcript\"],[\"RORY SCOVEL TRIES STAND-UP FOR THE FIRST TIME (2017) \\u2013 Full Transcript\"],[\"LISA LAMPANELLI: BACK TO THE DRAWING BOARD (2015) \\u2013 Full Transcript\"],[\"ERIK GRIFFIN: THE UGLY TRUTH (2017) \\u2013 Full Transcript\"],[\"JEN KIRKMAN: JUST KEEP LIVIN\\u2019? (2017) \\u2013 Full Transcript\"],[\"DANIEL TOSH: COMPLETELY SERIOUS (2007) \\u2013 Full Transcript\"],[\"AL MADRIGAL: WHY IS THE RABBIT CRYING? (2013) \\u2013 Full Transcript\"],[\"NEAL BRENNAN: 3 MICS (2017)- FULL TRANSCRIPT\"],[\"John Mulaney: New In Town (2012) \\u2013 Transcript\"],[\"Donald Glover: Weirdo (2012) \\u2013 Transcript\"],[\"ALI WONG: BABY COBRA (2016) \\u2013 Full Transcript\"],[\"Norm Macdonald: Hitler\\u2019s Dog, Gossip & Trickery (2017) \\u2013 Transcript\"],[\"DANIEL TOSH: PEOPLE PLEASER (2016) \\u2013 FULL TRANSCRIPT\"],[\"Marc Maron: More Later (2015) \\u2013 Full Transcript\"],[\"Dylan Moran: Off The Hook (2015) \\u2013 Transcript\"],[\"Richard Pryor: Live And Smokin\\u2019 (1971) \\u2013 Transcript\"],[\"RICHARD PRYOR: \\u2026HERE AND NOW (1983) \\u2013 Full Transcript\"],[\"AMY SCHUMER: MOSTLY SEX STUFF (2012) \\u2013 Full Transcript\"],[\"Jim Jefferies: Alcoholocaust (2010) \\u2013 Transcript\"],[\"AMY SCHUMER: LIVE AT THE APOLLO (2015) \\u2013 Full Transcript\"],[\"Kevin Hart: Seriously Funny (2010) \\u2013 Transcript\"],[\"Hannibal Buress: Comedy Camisado (2016) \\u2013 Transcript\"],[\"Neal Brennan: Women And Black Dudes (2014) \\u2013 Transcript\"],[\"NICK OFFERMAN: AMERICAN HAM (2014) \\u2013 Full Transcript\"],[\"AZIZ ANSARI: INTIMATE MOMENTS FOR A SENSUAL EVENING (2010) \\u2013 Full Transcript\"],[\"BIG JAY OAKERSON: LIVE AT WEBSTER HALL (2016) \\u2013 Full Transcript\"],[\"George Carlin at USC (1977) \\u2013 Full Transcript\"],[\"Jim Norton: Mouthful Of Shame (2017) Transcript\"],[\"Michael Che Matters (2016) \\u2013 Transcript\"],[\"Joe Rogan: Triggered (2016) \\u2013 Transcript\"],[\"Trevor Noah: Lost In Translation (2015) \\u2013 Transcript\"],[\"MARIA BAMFORD: OLD BABY (2017) \\u2013 FULL TRANSCRIPT\"],[\"Bo Burnham: What (2013) \\u2013 Transcript\"],[\"Bo Burnham: Make Happy (2016) \\u2013 Transcript\"],[\"ANTHONY JESELNIK: CALIGULA (2013) \\u2013 Full Transcript\"],[\"Anthony Jeselnik: Thoughts And Prayers (2015) \\u2013 Full Transcript\"],[\"John Mulaney: The Comeback Kid (2015) \\u2013 Transcript\"],[\"BILL HICKS: REVELATIONS (1993) \\u2013 FULL TRANSCRIPT\"],[\"LEWIS BLACK: BLACK TO THE FUTURE (2016) \\u2013 Full Transcript\"],[\"DOUG STANHOPE: BEFORE TURNING THE GUN ON HIMSELF (2012) \\u2013 Transcript\"],[\"DOUG STANHOPE: DEADBEAT HERO (2004) \\u2013 Transcript\"],[\"JIM JEFFERIES: CONTRABAND (2008) \\u2013 Full Transcript\"],[\"Mike Birbiglia: Thank God for Jokes (2017) \\u2013 Transcript\"],[\"SARAH SILVERMAN: A SPECK OF DUST (2017) \\u2013 Full Transcript\"],[\"GEORGE CARLIN: PLAYING WITH YOUR HEAD (1986) \\u2013 Full Transcript\"],[\"GEORGE CARLIN: AGAIN!* (1978) \\u2013 Full Transcript\"],[\"Louis C.K.: Chewed Up (2008) \\u2013 Transcript\"],[\"Tom Segura: Completely Normal (2014) \\u2013 Transcript\"],[\"GEORGE CARLIN: CARLIN ON CAMPUS (1984) \\u2013 Full Transcript\"],[\"Louis C.K.: Live at the Beacon Theatre (2011) \\u2013 Transcript\"],[\"RICKY GERVAIS: OUT OF ENGLAND 2 (2010) \\u2013 Full Transcript\"],[\"AMY SCHUMER: THE LEATHER SPECIAL (2017) \\u2013 Full Transcript\"],[\"JIM GAFFIGAN: CINCO (2017) \\u2013 Full Transcript\"],[\"JIM JEFFERIES: I SWEAR TO GOD (2009) \\u2013 FULL TRANSCRIPT\"],[\"LOUIS C.K.: HILARIOUS (2010) \\u2013 Full Transcript\"],[\"LOUIS C.K.: SHAMELESS (2007) \\u2013 Full Transcript\"],[\"BILL BURR: I\\u2019M SORRY YOU FEEL THAT WAY (2014) \\u2013 Full Transcript\"],[\"BILL BURR: YOU PEOPLE ARE ALL THE SAME (2012) \\u2013 Full Transcript\"],[\"Dave Chappelle: For What It\\u2019s Worth (2004) \\u2013 Transcript\"],[\"Dave Chappelle: Killin\\u2019 Them Softly (2000) \\u2013 Transcript\"],[\"Eddie Griffin: You Can Tell \\u2018Em I Said It! (2011) \\u2013 Transcript\"],[\"BILL BURR: WALK YOUR WAY OUT (2017) \\u2013 Full Transcript\"],[\"LOUIS C.K.: OH MY GOD (2013) \\u2013 Full Transcript\"],[\"LOUIS C.K.: LIVE AT  THE COMEDY STORE (2015) \\u2013 Transcript\"],[\"BILL HICKS: RELENTLESS (1991) \\u2013 Transcript\"],[\"Daniel Tosh: Happy Thoughts (2011) \\u2013 Transcript\"],[\"Patrice O\\u2019Neal: Elephant in the Room (2011) \\u2013 Transcript\"],[\"Katt Williams: Live (2006) \\u2013 Transcript\"],[\"Richard Pryor: Live in Concert (1979) \\u2013 Transcript\"],[\"RICHARD PRYOR: LIVE ON THE SUNSET STRIP (1982) \\u2013 Full Transcript\"],[\"Trevor Noah: Afraid Of The Dark (2017) \\u2013 Transcript\"],[\"JIM JEFFERIES: BARE (2014) \\u2013 Full Transcript\"],[\"Dave Chappelle: Deep in the Heart of Texas (2017) \\u2013 Transcript\"],[\"Tom Segura: Mostly Stories (2016) \\u2013 Transcript\"],[\"BILL BURR: LET IT GO (2010) \\u2013 TRANSCRIPT\"],[\"JIM JEFFERIES: FREEDUMB (2016) \\u2013 Full Transcript\"],[\"Eddie Murphy: Delirious (1983) \\u2013 Transcript\"],[\"Dave Chappelle: The Age of Spin (2017) \\u2013 Transcript\"],[\"GEORGE CARLIN: BACK IN TOWN (1996) \\u2013 Full transcript\"],[\"LOUIS C.K.: 2017 \\u2013 Full transcript\"],[\"George Carlin: Jamming in New York (1992) \\u2013 Transcript\"],[\"Reggie Watts: Spatial (2016) \\u2013 Full Transcript\"],[\"GEORGE CARLIN: COMPLAINTS AND GRIEVANCES (2001) \\u2013 FULL TRANSCRIPT\"],[\"GEORGE CARLIN: LIFE IS WORTH LOSING (2006) \\u2013 Transcript\"],[\"George Carlin: It\\u2019s Bad For Ya (2008) Full transcript\"],[\"Dave Chappelle: 8:46 \\u2013 Transcript\"],[\"JIM JEFFERIES ON GUN CONTROL [FULL TRANSCRIPT]\"]],\"hovertemplate\":\"polarity=%{x}<br>description=%{customdata[0]}<extra></extra>\",\"legendgroup\":\"\",\"marker\":{\"color\":\"#636efa\"},\"name\":\"\",\"notched\":false,\"offsetgroup\":\"\",\"orientation\":\"h\",\"showlegend\":false,\"type\":\"box\",\"x\":[0.09758912680017506,0.05369645128939521,0.02510598325003813,0.044872149751957434,0.08310631545231734,0.03318945193417877,0.030827537378159894,0.0506201804830543,0.06253519932465516,0.08627736798242717,0.09556126392139125,0.08625422640359323,0.033775802774090445,0.12493983007042703,0.06048032490606291,0.09189871982713155,0.11549456303918187,-0.002644152346723704,0.01651954854493253,0.22197553211728518,0.05751147528134031,0.1341348474799472,0.08224746913290736,0.07927766661689035,0.02284164961613414,0.07628487985551592,0.11727040907058522,0.12258999393656,0.11707229185201462,0.060451065200729175,-0.07702840720907128,0.029278758176628845,0.05040333417658996,-0.09429242286581373,-0.017024978460051212,0.038343939168822214,0.03173423050167411,0.07852454642226422,0.07221037980091347,0.10853772664533547,0.021858583939700943,0.13462150972515302,0.049398806104258224,0.06674273051987493,0.09129012808667336,0.07655976954952991,0.03804686517808157,0.11046920319844196,-0.03181852925998189,0.07046862750110779,0.04130562982729885,0.079244245102985,0.09714306387587071,-0.024429878177307535,0.01957524962636575,0.009839550098339157,0.13319517308317902,0.07378916077230374,0.012034649067227001,0.07405917293629158,-0.0008067485120181351,0.02109604741561078,0.07704159882784653,0.0571237060398542,0.10090162126285165,0.05507080259238408,0.07349136875577277,0.10142169141007094,-0.006639223853945542,0.13525266136787786,-0.004791425729236675,0.09829521321102383,0.041776215916389296,0.07091984659056748,0.037255092554244536,0.11015050373149192,0.13051534070132095,0.09167423611741801,-0.018084841840851434,0.10997944063326791,-0.03686246915323021,-0.008794284718922673,0.0951432565109696,0.06813657240721094,0.029709906506612885,0.09111147026230762,0.030027311748577357,-0.05257280548685558,0.028244791094946903,-0.07243654418011902,0.00448886032052485,0.0007646506361270628,0.005682236702721898,-0.0151945380239182,0.034744091065896474,0.10207717148740232,0.0649084818252952,0.10567030664668405,0.06949260114885118,0.06531049103490182,0.024212098125188382,0.0034182009099095706,0.0727180318644871,0.11963393793650622,0.07620922388586997,-0.00428879798690061,0.11577851154302046,0.14401491746855222,0.17775829604276658,0.0771696598307812,0.11561728165312511,0.13734165731487935,0.054260536320308146,0.11929785055819817,0.06147062459732293,0.1371202834315232,0.14822890277371809,0.05767300592297194,0.10022845730127845,0.10060082099497496,0.04723467795523733,-0.00042333866657205503,0.09925362731116247,-0.009910523816773821,0.06407610849940244,0.11150176822335946,0.15591514309826682,-0.015890320348467678,-0.0016056737916343969,0.038954062569247744,0.12894693097292606,-0.02152793254763345,0.12660855967130388,0.06315633758743522,0.09720293309092816,0.055913499637123054,0.09620347960120686,0.1012255531971244,0.024312803058123996,0.06165945168129511,0.09413295823366721,-0.05060082917327778,0.06401293577600049,0.017722948733365374,0.04842570528401843,0.07987789461170151,0.09345798584809568,0.07962228458146488,-0.05915508604556926,0.11972891297344081,0.020222692231281265,0.1555001089661218,0.07317615104112306,0.15904218222722183,0.08352197225937143,0.000474335068955808,0.022764244913851952,0.037908928461504794,0.00876733492027051,0.0664892107266094,0.09573484517290685,0.09850616715053374,0.09292672133352244,0.11254419424361435,0.026207100836381222,-0.0043950515487643565,0.04657180228920818,0.017379284849987988,0.15856045428860982,0.10307701505057676,0.06378393636220599,0.12364029517626608,0.11114782542581585,0.08520892657945257,0.015814958927799393,0.052843742825987174,0.06390432273105143,0.03850470203340601,-0.08496708152958163,0.016055167426819235,0.001467631168090305,0.098416178217063,0.020161847253750514,0.030794635903156762,0.006510347808266033,-0.010662912225598972,-0.009878691668317358,0.0837532603960817,0.13094824903842456,0.05022890713703962,0.08607168728550386,0.14710197433265515,0.10806577263124871,0.09335647725575781,0.018349547548101617,0.022357508079193185,-0.0084279464395699,0.04167386560760468,0.062307045999779646,0.02041517632717721,0.038939359653335365,0.126485955894135,0.15476061744321384,0.04996930518116773,0.09946128623022503,0.11821352554965367,0.05354416347935527,0.04381147308410191,0.07406085927227567,0.08938541004911602,0.07438733314012415,-0.02472329279287195,0.03765227146180947,0.025829799386980247,0.068412173827189,0.09395755281076389,0.07714728990669527,0.12421080271927898,0.07919747425510577,0.07461605636170753,-0.05819662143880888,0.09960776315016134,0.11025493797965305,0.11268285821720178,0.10964271966169013,0.04550168863920535,0.020434449974255402,0.09461869327253945,0.06705627932828814,0.03458672776273996,0.04386792840189039,0.05767573167567005,0.017653073223947855,0.06935949864368937,0.10642127950973558,0.075340913437299,0.021600548993794353,0.08100749422142114,0.04113846288411717,-0.01533638500690118,0.10022719357713322,0.044848758313331315,0.10837782410234391,0.014581189740582225,0.07246296416474665,0.08849326468619943,0.1089822769042177,0.04150860587622269,0.033801374827494235,0.07793530512280511,0.0458219030699286,-0.003383060104433271,0.009617326450971058,0.03879823037723976,0.11807091678791745,0.08235740925776765,0.07309887479373622,0.0918019607800354,0.05428457572539908,0.08235494921228893,0.010113643352566875,0.09626415366528755,-0.002578550800165025,-0.018028617045862765,0.052779241436713496,0.062505605770995,0.12652309161477113,0.07489606937676792,0.007053946109280199,-0.027215870097669223,0.01399286976701751,0.030506340017917424,-0.027943946480107184,0.07400792674737483,0.12990636523473773,0.08860952543153254,-0.011641561216561215,-0.03632200828988424,-0.0691840343307398,0.017001377458649755,0.00045888065329599597,-0.00908168499996832,-0.03299162588713378,-0.030929525475689036,0.004030603694344066,0.05666511784542221,0.033636107125690484,0.04975945557814567,0.03717463678356194,0.07120326117131463,0.09661399727090818,0.021799296561995248,-0.0007686426911559654,0.04927758853750007,0.04514895296959817,0.004699428369512797,0.046819226165100994,0.055898547688870266,-0.014225742973022665,-0.125081604791861,-0.0026897275505192745,0.023467944926516427,0.048554051679932,0.029247206875731645,0.11373661073626902,0.03979454429073546,0.046095147149768985,0.04284193147948604,-0.03251931442817849,-0.005866883552571966],\"x0\":\" \",\"xaxis\":\"x\",\"y0\":\" \",\"yaxis\":\"y\"}],                        {\"boxmode\":\"group\",\"legend\":{\"tracegroupgap\":0},\"margin\":{\"t\":60},\"template\":{\"data\":{\"bar\":[{\"error_x\":{\"color\":\"#2a3f5f\"},\"error_y\":{\"color\":\"#2a3f5f\"},\"marker\":{\"line\":{\"color\":\"#E5ECF6\",\"width\":0.5},\"pattern\":{\"fillmode\":\"overlay\",\"size\":10,\"solidity\":0.2}},\"type\":\"bar\"}],\"barpolar\":[{\"marker\":{\"line\":{\"color\":\"#E5ECF6\",\"width\":0.5},\"pattern\":{\"fillmode\":\"overlay\",\"size\":10,\"solidity\":0.2}},\"type\":\"barpolar\"}],\"carpet\":[{\"aaxis\":{\"endlinecolor\":\"#2a3f5f\",\"gridcolor\":\"white\",\"linecolor\":\"white\",\"minorgridcolor\":\"white\",\"startlinecolor\":\"#2a3f5f\"},\"baxis\":{\"endlinecolor\":\"#2a3f5f\",\"gridcolor\":\"white\",\"linecolor\":\"white\",\"minorgridcolor\":\"white\",\"startlinecolor\":\"#2a3f5f\"},\"type\":\"carpet\"}],\"choropleth\":[{\"colorbar\":{\"outlinewidth\":0,\"ticks\":\"\"},\"type\":\"choropleth\"}],\"contour\":[{\"colorbar\":{\"outlinewidth\":0,\"ticks\":\"\"},\"colorscale\":[[0.0,\"#0d0887\"],[0.1111111111111111,\"#46039f\"],[0.2222222222222222,\"#7201a8\"],[0.3333333333333333,\"#9c179e\"],[0.4444444444444444,\"#bd3786\"],[0.5555555555555556,\"#d8576b\"],[0.6666666666666666,\"#ed7953\"],[0.7777777777777778,\"#fb9f3a\"],[0.8888888888888888,\"#fdca26\"],[1.0,\"#f0f921\"]],\"type\":\"contour\"}],\"contourcarpet\":[{\"colorbar\":{\"outlinewidth\":0,\"ticks\":\"\"},\"type\":\"contourcarpet\"}],\"heatmap\":[{\"colorbar\":{\"outlinewidth\":0,\"ticks\":\"\"},\"colorscale\":[[0.0,\"#0d0887\"],[0.1111111111111111,\"#46039f\"],[0.2222222222222222,\"#7201a8\"],[0.3333333333333333,\"#9c179e\"],[0.4444444444444444,\"#bd3786\"],[0.5555555555555556,\"#d8576b\"],[0.6666666666666666,\"#ed7953\"],[0.7777777777777778,\"#fb9f3a\"],[0.8888888888888888,\"#fdca26\"],[1.0,\"#f0f921\"]],\"type\":\"heatmap\"}],\"heatmapgl\":[{\"colorbar\":{\"outlinewidth\":0,\"ticks\":\"\"},\"colorscale\":[[0.0,\"#0d0887\"],[0.1111111111111111,\"#46039f\"],[0.2222222222222222,\"#7201a8\"],[0.3333333333333333,\"#9c179e\"],[0.4444444444444444,\"#bd3786\"],[0.5555555555555556,\"#d8576b\"],[0.6666666666666666,\"#ed7953\"],[0.7777777777777778,\"#fb9f3a\"],[0.8888888888888888,\"#fdca26\"],[1.0,\"#f0f921\"]],\"type\":\"heatmapgl\"}],\"histogram\":[{\"marker\":{\"pattern\":{\"fillmode\":\"overlay\",\"size\":10,\"solidity\":0.2}},\"type\":\"histogram\"}],\"histogram2d\":[{\"colorbar\":{\"outlinewidth\":0,\"ticks\":\"\"},\"colorscale\":[[0.0,\"#0d0887\"],[0.1111111111111111,\"#46039f\"],[0.2222222222222222,\"#7201a8\"],[0.3333333333333333,\"#9c179e\"],[0.4444444444444444,\"#bd3786\"],[0.5555555555555556,\"#d8576b\"],[0.6666666666666666,\"#ed7953\"],[0.7777777777777778,\"#fb9f3a\"],[0.8888888888888888,\"#fdca26\"],[1.0,\"#f0f921\"]],\"type\":\"histogram2d\"}],\"histogram2dcontour\":[{\"colorbar\":{\"outlinewidth\":0,\"ticks\":\"\"},\"colorscale\":[[0.0,\"#0d0887\"],[0.1111111111111111,\"#46039f\"],[0.2222222222222222,\"#7201a8\"],[0.3333333333333333,\"#9c179e\"],[0.4444444444444444,\"#bd3786\"],[0.5555555555555556,\"#d8576b\"],[0.6666666666666666,\"#ed7953\"],[0.7777777777777778,\"#fb9f3a\"],[0.8888888888888888,\"#fdca26\"],[1.0,\"#f0f921\"]],\"type\":\"histogram2dcontour\"}],\"mesh3d\":[{\"colorbar\":{\"outlinewidth\":0,\"ticks\":\"\"},\"type\":\"mesh3d\"}],\"parcoords\":[{\"line\":{\"colorbar\":{\"outlinewidth\":0,\"ticks\":\"\"}},\"type\":\"parcoords\"}],\"pie\":[{\"automargin\":true,\"type\":\"pie\"}],\"scatter\":[{\"marker\":{\"colorbar\":{\"outlinewidth\":0,\"ticks\":\"\"}},\"type\":\"scatter\"}],\"scatter3d\":[{\"line\":{\"colorbar\":{\"outlinewidth\":0,\"ticks\":\"\"}},\"marker\":{\"colorbar\":{\"outlinewidth\":0,\"ticks\":\"\"}},\"type\":\"scatter3d\"}],\"scattercarpet\":[{\"marker\":{\"colorbar\":{\"outlinewidth\":0,\"ticks\":\"\"}},\"type\":\"scattercarpet\"}],\"scattergeo\":[{\"marker\":{\"colorbar\":{\"outlinewidth\":0,\"ticks\":\"\"}},\"type\":\"scattergeo\"}],\"scattergl\":[{\"marker\":{\"colorbar\":{\"outlinewidth\":0,\"ticks\":\"\"}},\"type\":\"scattergl\"}],\"scattermapbox\":[{\"marker\":{\"colorbar\":{\"outlinewidth\":0,\"ticks\":\"\"}},\"type\":\"scattermapbox\"}],\"scatterpolar\":[{\"marker\":{\"colorbar\":{\"outlinewidth\":0,\"ticks\":\"\"}},\"type\":\"scatterpolar\"}],\"scatterpolargl\":[{\"marker\":{\"colorbar\":{\"outlinewidth\":0,\"ticks\":\"\"}},\"type\":\"scatterpolargl\"}],\"scatterternary\":[{\"marker\":{\"colorbar\":{\"outlinewidth\":0,\"ticks\":\"\"}},\"type\":\"scatterternary\"}],\"surface\":[{\"colorbar\":{\"outlinewidth\":0,\"ticks\":\"\"},\"colorscale\":[[0.0,\"#0d0887\"],[0.1111111111111111,\"#46039f\"],[0.2222222222222222,\"#7201a8\"],[0.3333333333333333,\"#9c179e\"],[0.4444444444444444,\"#bd3786\"],[0.5555555555555556,\"#d8576b\"],[0.6666666666666666,\"#ed7953\"],[0.7777777777777778,\"#fb9f3a\"],[0.8888888888888888,\"#fdca26\"],[1.0,\"#f0f921\"]],\"type\":\"surface\"}],\"table\":[{\"cells\":{\"fill\":{\"color\":\"#EBF0F8\"},\"line\":{\"color\":\"white\"}},\"header\":{\"fill\":{\"color\":\"#C8D4E3\"},\"line\":{\"color\":\"white\"}},\"type\":\"table\"}]},\"layout\":{\"annotationdefaults\":{\"arrowcolor\":\"#2a3f5f\",\"arrowhead\":0,\"arrowwidth\":1},\"autotypenumbers\":\"strict\",\"coloraxis\":{\"colorbar\":{\"outlinewidth\":0,\"ticks\":\"\"}},\"colorscale\":{\"diverging\":[[0,\"#8e0152\"],[0.1,\"#c51b7d\"],[0.2,\"#de77ae\"],[0.3,\"#f1b6da\"],[0.4,\"#fde0ef\"],[0.5,\"#f7f7f7\"],[0.6,\"#e6f5d0\"],[0.7,\"#b8e186\"],[0.8,\"#7fbc41\"],[0.9,\"#4d9221\"],[1,\"#276419\"]],\"sequential\":[[0.0,\"#0d0887\"],[0.1111111111111111,\"#46039f\"],[0.2222222222222222,\"#7201a8\"],[0.3333333333333333,\"#9c179e\"],[0.4444444444444444,\"#bd3786\"],[0.5555555555555556,\"#d8576b\"],[0.6666666666666666,\"#ed7953\"],[0.7777777777777778,\"#fb9f3a\"],[0.8888888888888888,\"#fdca26\"],[1.0,\"#f0f921\"]],\"sequentialminus\":[[0.0,\"#0d0887\"],[0.1111111111111111,\"#46039f\"],[0.2222222222222222,\"#7201a8\"],[0.3333333333333333,\"#9c179e\"],[0.4444444444444444,\"#bd3786\"],[0.5555555555555556,\"#d8576b\"],[0.6666666666666666,\"#ed7953\"],[0.7777777777777778,\"#fb9f3a\"],[0.8888888888888888,\"#fdca26\"],[1.0,\"#f0f921\"]]},\"colorway\":[\"#636efa\",\"#EF553B\",\"#00cc96\",\"#ab63fa\",\"#FFA15A\",\"#19d3f3\",\"#FF6692\",\"#B6E880\",\"#FF97FF\",\"#FECB52\"],\"font\":{\"color\":\"#2a3f5f\"},\"geo\":{\"bgcolor\":\"white\",\"lakecolor\":\"white\",\"landcolor\":\"#E5ECF6\",\"showlakes\":true,\"showland\":true,\"subunitcolor\":\"white\"},\"hoverlabel\":{\"align\":\"left\"},\"hovermode\":\"closest\",\"mapbox\":{\"style\":\"light\"},\"paper_bgcolor\":\"white\",\"plot_bgcolor\":\"#E5ECF6\",\"polar\":{\"angularaxis\":{\"gridcolor\":\"white\",\"linecolor\":\"white\",\"ticks\":\"\"},\"bgcolor\":\"#E5ECF6\",\"radialaxis\":{\"gridcolor\":\"white\",\"linecolor\":\"white\",\"ticks\":\"\"}},\"scene\":{\"xaxis\":{\"backgroundcolor\":\"#E5ECF6\",\"gridcolor\":\"white\",\"gridwidth\":2,\"linecolor\":\"white\",\"showbackground\":true,\"ticks\":\"\",\"zerolinecolor\":\"white\"},\"yaxis\":{\"backgroundcolor\":\"#E5ECF6\",\"gridcolor\":\"white\",\"gridwidth\":2,\"linecolor\":\"white\",\"showbackground\":true,\"ticks\":\"\",\"zerolinecolor\":\"white\"},\"zaxis\":{\"backgroundcolor\":\"#E5ECF6\",\"gridcolor\":\"white\",\"gridwidth\":2,\"linecolor\":\"white\",\"showbackground\":true,\"ticks\":\"\",\"zerolinecolor\":\"white\"}},\"shapedefaults\":{\"line\":{\"color\":\"#2a3f5f\"}},\"ternary\":{\"aaxis\":{\"gridcolor\":\"white\",\"linecolor\":\"white\",\"ticks\":\"\"},\"baxis\":{\"gridcolor\":\"white\",\"linecolor\":\"white\",\"ticks\":\"\"},\"bgcolor\":\"#E5ECF6\",\"caxis\":{\"gridcolor\":\"white\",\"linecolor\":\"white\",\"ticks\":\"\"}},\"title\":{\"x\":0.05},\"xaxis\":{\"automargin\":true,\"gridcolor\":\"white\",\"linecolor\":\"white\",\"ticks\":\"\",\"title\":{\"standoff\":15},\"zerolinecolor\":\"white\",\"zerolinewidth\":2},\"yaxis\":{\"automargin\":true,\"gridcolor\":\"white\",\"linecolor\":\"white\",\"ticks\":\"\",\"title\":{\"standoff\":15},\"zerolinecolor\":\"white\",\"zerolinewidth\":2}}},\"xaxis\":{\"anchor\":\"y\",\"domain\":[0.0,1.0],\"title\":{\"text\":\"polarity\"}},\"yaxis\":{\"anchor\":\"x\",\"domain\":[0.0,1.0]}},                        {\"responsive\": true}                    ).then(function(){\n",
       "                            \n",
       "var gd = document.getElementById('1ca565f1-4f99-4956-9b32-19e0e7f20e5c');\n",
       "var x = new MutationObserver(function (mutations, observer) {{\n",
       "        var display = window.getComputedStyle(gd).display;\n",
       "        if (!display || display === 'none') {{\n",
       "            console.log([gd, 'removed!']);\n",
       "            Plotly.purge(gd);\n",
       "            observer.disconnect();\n",
       "        }}\n",
       "}});\n",
       "\n",
       "// Listen for the removal of the full notebook cells\n",
       "var notebookContainer = gd.closest('#notebook-container');\n",
       "if (notebookContainer) {{\n",
       "    x.observe(notebookContainer, {childList: true});\n",
       "}}\n",
       "\n",
       "// Listen for the clearing of the current output cell\n",
       "var outputEl = gd.closest('.output');\n",
       "if (outputEl) {{\n",
       "    x.observe(outputEl, {childList: true});\n",
       "}}\n",
       "\n",
       "                        })                };                });            </script>        </div>"
      ]
     },
     "metadata": {},
     "output_type": "display_data"
    }
   ],
   "source": [
    "px.box(metascripts, x = 'polarity', hover_data = ['description'], points = 'all')"
   ]
  },
  {
   "cell_type": "markdown",
   "metadata": {},
   "source": [
    "### polarity and subjectivity by sentence"
   ]
  },
  {
   "cell_type": "code",
   "execution_count": 22,
   "metadata": {},
   "outputs": [
    {
     "data": {
      "application/vnd.jupyter.widget-view+json": {
       "model_id": "dce8a2d5b83c49f282a275d9efcf0c63",
       "version_major": 2,
       "version_minor": 0
      },
      "text/plain": [
       "  0%|          | 0/310 [00:00<?, ?it/s]"
      ]
     },
     "metadata": {},
     "output_type": "display_data"
    },
    {
     "data": {
      "application/vnd.jupyter.widget-view+json": {
       "model_id": "f47a47798c224033813fe455f4c8cfb7",
       "version_major": 2,
       "version_minor": 0
      },
      "text/plain": [
       "  0%|          | 0/310 [00:00<?, ?it/s]"
      ]
     },
     "metadata": {},
     "output_type": "display_data"
    }
   ],
   "source": [
    "sent_polarity = [[sentence.sentiment.polarity for sentence in TextBlob(script).sentences] for script in tqdm(scripts)]\n",
    "sent_subjectivity = [[sentence.sentiment.subjectivity for sentence in TextBlob(script).sentences] for script in tqdm(scripts)]"
   ]
  },
  {
   "cell_type": "code",
   "execution_count": 24,
   "metadata": {},
   "outputs": [],
   "source": [
    "metascripts['mean sentence polarity'] = [np.mean(script_sent_pols) for script_sent_pols in sent_polarity]\n",
    "\n",
    "for quantile in (0.25, 0.50, 0.75):\n",
    "    metascripts[f'Q{quantile/0.25} sentence polarity'] = [np.quantile(script_sent_pols, quantile) for script_sent_pols in sent_polarity]\n",
    "\n",
    "metascripts['std sentence polarity'] = [np.std(script_sent_pols) for script_sent_pols in sent_polarity]"
   ]
  },
  {
   "cell_type": "code",
   "execution_count": 25,
   "metadata": {},
   "outputs": [],
   "source": [
    "metascripts['mean sentence subjectivity'] = [np.mean(script_sent_subj) for script_sent_subj in sent_subjectivity]\n",
    "\n",
    "for quantile in (0.25, 0.50, 0.75):\n",
    "    metascripts[f'Q{quantile/0.25} sentence subjectivity'] = [np.quantile(script_sent_subj, quantile) for script_sent_subj in sent_subjectivity]\n",
    "\n",
    "metascripts['std sentence subjectivity'] = [np.std(script_sent_subj) for script_sent_subj in sent_subjectivity]"
   ]
  },
  {
   "cell_type": "code",
   "execution_count": 42,
   "metadata": {
    "scrolled": false
   },
   "outputs": [
    {
     "data": {
      "application/vnd.plotly.v1+json": {
       "config": {
        "plotlyServerURL": "https://plotly.com"
       },
       "data": [
        {
         "alignmentgroup": "True",
         "boxpoints": "all",
         "customdata": [
          [
           "Jim Gaffigan: Comedy Monster (2021) | Transcript"
          ],
          [
           "Louis C. K.: Sorry (2021) | Transcript"
          ],
          [
           "Drew Michael: Drew Michael (2018) | Transcript"
          ],
          [
           "Drew Michael: Red Blue Green (2021) | Transcript"
          ],
          [
           "Mo Amer: Mohammed in Texas (2021) | Transcript"
          ],
          [
           "Dave Chappelle: The Closer (2021) | Transcript"
          ],
          [
           "Kathleen Madigan: Bothering Jesus (2016) – Transcript"
          ],
          [
           "Kathleen Madigan: Madigan Again (2013) – Transcript"
          ],
          [
           "Phil Wang: Philly Philly Wang Wang (2021) – Transcript"
          ],
          [
           "Tom Papa: You’re Doing Great! (2020) – Transcript"
          ],
          [
           "Tom Papa: Human Mule (2016) – Transcript"
          ],
          [
           "Tom Papa: Freaked Out (2013) – Transcript"
          ],
          [
           "Bo Burnham: Inside (2021) – Transcript"
          ],
          [
           "Tig Notaro: Boyish Girl Interrupted (2015) – Transcript"
          ],
          [
           "Joe List: I Hate Myself (2020) – Transcript"
          ],
          [
           "Nate Bargatze: The Greatest Average American (2021) – Transcript"
          ],
          [
           "Brian Regan: On The Rocks (2021) – Transcript"
          ],
          [
           "Doug Stanhope: Beer Hall Putsch (2013) – Transcript"
          ],
          [
           "Chris Rock Total Blackout: The Tamborine Extended Cut – Transcript"
          ],
          [
           "Sarah Cooper: Everything’s Fine (2020) – Transcript"
          ],
          [
           "Bo Burnham: Words, Words, Words (2010) – Transcript"
          ],
          [
           "Vir Das: Outside in – The Lockdown Special (2020) – Transcript"
          ],
          [
           "Larry the Cable Guy – Remain Seated (2020) – Transcript"
          ],
          [
           "Craig Ferguson: Just Being Honest (2015) – Transcript"
          ],
          [
           "Kevin Hart: Zero F**ks Given (2020) – Transcript"
          ],
          [
           "Sam Morril: I Got This (2020) – Transcript"
          ],
          [
           "RONNY CHIENG: ASIAN COMEDIAN DESTROYS AMERICA (2019) – TRANSCRIPT"
          ],
          [
           "Craig Ferguson: A Wee Bit o’ Revolution (2009) – Transcript"
          ],
          [
           "MICHAEL MCINTYRE: SHOWMAN (2020) – TRANSCRIPT"
          ],
          [
           "ROB SCHNEIDER: ASIAN MOMMA, MEXICAN KIDS (2020) – TRANSCRIPT"
          ],
          [
           "Sam Jay: 3 in the Morning (2020) – Transcript"
          ],
          [
           "Jack Whitehall: I’m Only Joking (2020) | Transcript"
          ],
          [
           "URZILA CARLSON: OVERQUALIFIED LOSER (2020) – FULL TRANSCRIPT"
          ],
          [
           "GEORGE LOPEZ: WE’LL DO IT FOR HALF (2020) – FULL TRANSCRIPT"
          ],
          [
           "JIM JEFFERIES: INTOLERANT (2020) – FULL TRANSCRIPT"
          ],
          [
           "George Carlin: Doin’ It Again (1990) – Transcript"
          ],
          [
           "ERIC ANDRE: LEGALIZE EVERYTHING (2020)"
          ],
          [
           "ROY WOOD JR.: FATHER FIGURE (2017) – FULL TRANSCRIPT"
          ],
          [
           "Mark Normand: Don’t Be Yourself (2017) – Transcript"
          ],
          [
           "Chris Gethard: Career Suicide (2017) – Transcript"
          ],
          [
           "RAMY YOUSSEF: FEELINGS (2019) – FULL TRANSCRIPT"
          ],
          [
           "KENNY SEBASTIAN DON’T BE THAT GUY (2017) – FULL TRANSCRIPT"
          ],
          [
           "BILLY CONNOLLY: HIGH HORSE TOUR LIVE (2016) – FULL TRANSCRIPT"
          ],
          [
           "Hannah Gadsby: Douglas (2020) – Transcript"
          ],
          [
           "Hasan Minhaj: Homecoming King (2017) – Transcript"
          ],
          [
           "PATTON OSWALT: I LOVE EVERYTHING (2020) – FULL TRANSCRIPT"
          ],
          [
           "RUSSELL PETERS: DEPORTED (2020) – FULL TRANSCRIPT"
          ],
          [
           "JIMMY O. YANG: GOOD DEAL (2020) – FULL TRANSCRIPT"
          ],
          [
           "JO KOY: LIGHTS OUT (2012) – FULL TRANSCRIPT"
          ],
          [
           "LEE MACK: GOING OUT LIVE (2010) – FULL TRANSCRIPT"
          ],
          [
           "LEE MACK: LIVE (2007) – FULL TRANSCRIPT"
          ],
          [
           "T.J. MILLER: NO REAL REASON (2011) – FULL TRANSCRIPT"
          ],
          [
           "Jerry Seinfeld: 23 Hours To Kill (2020) – Transcript"
          ],
          [
           "SINCERELY LOUIS CK (2020)"
          ],
          [
           "JIM NORTON: AMERICAN DEGENERATE (2013) – FULL TRANSCRIPT"
          ],
          [
           "Jim Norton: Monster Rain (2007) – Transcript"
          ],
          [
           "MARIA BAMFORD: WEAKNESS IS THE BRAND (2020) – FULL TRANSCRIPT"
          ],
          [
           "CHRIS D’ELIA: WHITE MALE. BLACK COMIC. (2013) – FULL TRANSCRIPT"
          ],
          [
           "Chris D’Elia: Man on Fire (2017) – Full Transcript"
          ],
          [
           "Tom Segura: Ball Hog (2020) – Transcript"
          ],
          [
           "Bert Kreischer: Hey Big Boy (2020) – Transcript"
          ],
          [
           "Marc Maron: End Times Fun (2020) – Full Transcript"
          ],
          [
           "PETE DAVIDSON: SMD (2016) – FULL TRANSCRIPT"
          ],
          [
           "PETE DAVIDSON: ALIVE FROM NEW YORK (2020) – FULL TRANSCRIPT"
          ],
          [
           "Amanda Seales: I Be Knowin’ (2019) – Transcript"
          ],
          [
           "Stewart Lee: Carpet Remnant World (2012) – Full Transcript"
          ],
          [
           "Stewart Lee: Content Provider (2018) – Transcript"
          ],
          [
           "Sara Pascoe: LadsLadsLads (2019) – Full Transcript"
          ],
          [
           "Dan Soder: Son of a Gary (2019) – Full Transcript"
          ],
          [
           "Jim Gaffigan: Quality Time (2019) – Full Transcript"
          ],
          [
           "Kevin Bridges: A Whole Different Story (2015) – Full Transcript"
          ],
          [
           "Kevin Bridges: The Story So Far… Live in Glasgow (2010) – Full Transcript"
          ],
          [
           "Kevin Bridges: The Story Continues (2012) – Full Transcript"
          ],
          [
           "Michelle Wolf: Joke Show (2019) – Full Transcript"
          ],
          [
           "Tiffany Haddish: Black Mitzvah (2019) – Transcript"
          ],
          [
           "Mike Birbiglia: The New One (2019) – Full Transcript"
          ],
          [
           "Iliza Shlesinger: Unveiled (2019) – Full Transcript"
          ],
          [
           "Seth Meyers: Lobby Baby (2019) – Full Transcript"
          ],
          [
           "Arsenio Hall: Smart and Classy (2019) – Transcript"
          ],
          [
           "Nikki Glaser: Bangin’ (2019) – Full Transcript"
          ],
          [
           "Bill Burr: Paper Tiger (2019) – Transcript"
          ],
          [
           "Dave Chappelle: Sticks & Stones (2019) – Transcript"
          ],
          [
           "Emily Heller: Ice Thickeners (2019) – Full Transcript"
          ],
          [
           "David Cross: Oh Come On (2019) – Full Transcript"
          ],
          [
           "Whitney Cummings: Can I Touch It? (2019) – Full Transcript"
          ],
          [
           "Aziz Ansari: Right Now (2019) – Transcript"
          ],
          [
           "Ralphie May: Filthy Animal Tour (2014) – Transcript"
          ],
          [
           "Mike Epps: Only One Mike (2019) – Full Transcript"
          ],
          [
           "Adam DeVine: Best Time of Our Lives (2019) – Full Transcript"
          ],
          [
           "Jo Koy: Live from Seattle (2017) – Full Transcript"
          ],
          [
           "Jo Koy: Comin’ in Hot (2019) – Full Transcript"
          ],
          [
           "Wanda Sykes: Not Normal (2019) – Full Transcript"
          ],
          [
           "Cedric the Entertainer: Live from the Ville (2016) – Transcript"
          ],
          [
           "Eddie Murphy: Raw (1987) – Transcript"
          ],
          [
           "Colin Quinn: The New York Story (2016) – Full Transcript"
          ],
          [
           "Demetri Martin: Live (At The Time) (2015) | Transcript"
          ],
          [
           "George Carlin: What Am I Doing in New Jersey? (1988) – Full Transcript"
          ],
          [
           "Chelsea Peretti: One of the Greats (2014) – Full Transcript"
          ],
          [
           "Anthony Jeselnik: Fire in the Maternity Ward (2019) – Transcript"
          ],
          [
           "Roy Wood Jr.: No One Loves You (2019) – Transcript"
          ],
          [
           "Robin Williams: Weapons of Self Destruction (2009) – Full Transcript"
          ],
          [
           "ROBIN WILLIAMS LIVE ON BROADWAY (2002) – FULL TRANSCRIPT"
          ],
          [
           "Jimmy Carr: The Best of Ultimate Gold Greatest Hits (2019) – Full Transcript"
          ],
          [
           "Nate Bargatze: The Tennessee Kid (2019) – Full Transcript"
          ],
          [
           "W. Kamau Bell: Private School Negro (2018) – Transcript"
          ],
          [
           "Kevin Hart: Irresponsible (2019) – Transcript"
          ],
          [
           "Nate Bargatze: Full Time Magic (2015) – Full Transcript"
          ],
          [
           "Amy Schumer: Growing (2019) – Full Transcript"
          ],
          [
           "Enissa Amani: Ehrenwort (2018) Full Transcript"
          ],
          [
           "Ken Jeong: You Complete Me, Ho (2019) – Full Transcript"
          ],
          [
           "Ray Romano: Right Here, Around the Corner (2019) – Full Transcript"
          ],
          [
           "Gabriel “Fluffy” Iglesias: One Show Fits All (2019) – Full Transcript"
          ],
          [
           "Sebastian Maniscalco: Stay Hungry (2019) – Full Transcript"
          ],
          [
           "Sebastian Maniscalco: Aren’t You Embarrassed? (2014) – Full Transcript"
          ],
          [
           "Sebastian Maniscalco: What’s Wrong with People? (2012) – Full Transcript"
          ],
          [
           "Oh, Hello On Broadway (2017) – Transcript"
          ],
          [
           "Ellen Degeneres: Relatable (2018) – Transcript"
          ],
          [
           "Pete Holmes: Dirty Clean (2018) – Full Transcript"
          ],
          [
           "Vir Das: Losing It (2018) – Full Transcript"
          ],
          [
           "Trevor Noah: Son of Patricia (2018) – Transcript"
          ],
          [
           "Jeff Foxworthy & Larry the Cable Guy: We’ve Been Thinking (2016) – Full Transcript"
          ],
          [
           "Adam Sandler: 100% Fresh (2018) – Full Transcript"
          ],
          [
           "Jeff Foxworthy: Totally Committed (1998) – Full Transcript"
          ],
          [
           "RON WHITE: IF YOU QUIT LISTENING, I’LL SHUT UP (2018) – FULL TRANSCRIPT"
          ],
          [
           "Mo Amer: The Vagabond (2018) – Full Transcript"
          ],
          [
           "Joe Mande’s Award-Winning Comedy Special (2017) – Full Transcript"
          ],
          [
           "Henry Rollins: Keep Talking, Pal (2018) – Full Transcript"
          ],
          [
           "Joe Rogan: Strange Times (2018) – Full Transcript"
          ],
          [
           "D.L. Hughley: Contrarian (2018) – Transcript"
          ],
          [
           "Iliza Shlesinger: Freezing Hot (2015) – Full Transcript"
          ],
          [
           "Iliza Shlesinger: War Paint (2013) – Transcript"
          ],
          [
           "Bert Kreischer: Secret Time (2018) – Transcript"
          ],
          [
           "Demetri Martin: The Overthinker (2018) | Transcript"
          ],
          [
           "BILL MAHER: LIVE FROM OKLAHOMA (2018) – Full Transcript"
          ],
          [
           "Rowan Atkinson Live (1992) – Transcript"
          ],
          [
           "Iliza Shlesinger: Confirmed Kills (2016) – Full Transcript"
          ],
          [
           "Iliza Shlesinger: Elder Millennial (2018) – Full Transcript"
          ],
          [
           "JIM GAFFIGAN: NOBLE APE (2018) – Full Transcript"
          ],
          [
           "Jim Norton: Contextually Inadequate (2015) – Transcript"
          ],
          [
           "Hannah Gadsby: Nanette (2018) – Transcript"
          ],
          [
           "BRAD WILLIAMS: DADDY ISSUES (2016) – Full Transcript"
          ],
          [
           "Deray Davis: How To Act Black (2017) – Transcript"
          ],
          [
           "RICKY GERVAIS: LIVE IV – SCIENCE (2010) – Full Transcript"
          ],
          [
           "JIM JEFFERIES: THIS IS ME NOW (2018) – Full transcript"
          ],
          [
           "RUSSELL PETERS: OUTSOURCED (2006) – Full Transcript"
          ],
          [
           "RUSSELL PETERS: ALMOST FAMOUS (2016) – Full Transcript"
          ],
          [
           "RON WHITE: A LITTLE UNPROFESSIONAL (2012) – Full Transcript"
          ],
          [
           "MICHAEL MCINTYRE: HELLO WEMBLEY! (2009) – Full Transcript"
          ],
          [
           "KEVIN SMITH: SILENT BUT DEADLY (2018) – Full Transcript"
          ],
          [
           "KEVIN JAMES: NEVER DON’T GIVE UP (2018) – Full Transcript"
          ],
          [
           "BRENT MORIN: I’M BRENT MORIN (2015) – Full Transcript"
          ],
          [
           "NIKKI GLASER: PERFECT (2016) – Full Transcript"
          ],
          [
           "Ali Wong: Hard Knock Wife (2018) – Transcript"
          ],
          [
           "KAVIN JAY: EVERYBODY CALM DOWN! (2018) – Full Transcript"
          ],
          [
           "John Mulaney: Kid Gorgeous At Radio City (2018) – Transcript"
          ],
          [
           "Eddie Griffin: Undeniable (2018) – Transcript"
          ],
          [
           "GREG DAVIES: YOU MAGNIFICENT BEAST (2018) – Full Transcript"
          ],
          [
           "George Carlin: You Are All Diseased (1999) – Transcript"
          ],
          [
           "Marlon Wayans: Woke-Ish (2018) – Transcript"
          ],
          [
           "RICKY GERVAIS: HUMANITY (2018) – Full Transcript"
          ],
          [
           "ADEL KARAM: LIVE FROM BEIRUT (2018) – Full Transcript"
          ],
          [
           "STEWART LEE: 90s COMEDIAN (2006) – Full Transcript"
          ],
          [
           "Mike Birbiglia: My Girlfriend’s Boyfriend (2013) – Transcript"
          ],
          [
           "DAVE ATTELL: ROAD WORK (2014) – Full Transcript"
          ],
          [
           "Eddie Izzard – Glorious (1997) – Transcript"
          ],
          [
           "Chris Rock: Bring the Pain (1996) – Transcript"
          ],
          [
           "ARI SHAFFIR: DOUBLE NEGATIVE (2017) – Full Transcript"
          ],
          [
           "Chris Rock: Tamborine (2018) – Transcript"
          ],
          [
           "FRED ARMISEN: STANDUP FOR DRUMMERS (2018) – Full Transcript"
          ],
          [
           "DANA CARVEY: STRAIGHT WHITE MALE, 60 (2016) – Full Transcript"
          ],
          [
           "EDDIE IZZARD: STRIPPED (2009) – Full Transcript"
          ],
          [
           "TODD GLASS: ACT HAPPY (2018) – Full Transcript"
          ],
          [
           "BRIAN REGAN: STANDING UP (2007) – Full Transcript"
          ],
          [
           "BRIAN REGAN: NUNCHUCKS AND FLAMETHROWERS (2017) – Full Transcript"
          ],
          [
           "Katt Williams: Great America (2018) – Transcript"
          ],
          [
           "JIMMY CARR: BEING FUNNY (2011) – Full Transcript"
          ],
          [
           "JIMMY CARR: LAUGHING AND JOKING (2013) – Full Transcript"
          ],
          [
           "Eddie Izzard: Unrepeatable (1994) | Transcript"
          ],
          [
           "D.L. Hughley: Unapologetic (2007) – Transcript"
          ],
          [
           "BRIDGET EVERETT: GYNECOLOGICAL WONDER (2015) – Full Transcript"
          ],
          [
           "Chris Rock: Never Scared (2004) – Transcript"
          ],
          [
           "Stewart Lee: Stand-Up Comedian (2005) – Transcript"
          ],
          [
           "JIMMY CARR: FUNNY BUSINESS (2016) – Full Transcript"
          ],
          [
           "Eddie Izzard: Dress To Kill (1999) – Transcript"
          ],
          [
           "Chris Tucker: Live (2015) – Transcript"
          ],
          [
           "Kevin Hart: What Now (2016) – Transcript"
          ],
          [
           "Kevin Hart: Let Me Explain (2013) – Transcript"
          ],
          [
           "Tom Segura: Disgraceful (2018) – Transcript"
          ],
          [
           "MICHELLE WOLF: NICE LADY (2017) – Full Transcript"
          ],
          [
           "FAHIM ANWAR: THERE’S NO BUSINESS LIKE SHOW BUSINESS (2017) – Transcript"
          ],
          [
           "ELLEN DEGENERES: THE BEGINNING (2000) – Full Transcript"
          ],
          [
           "MAZ JOBRANI: IMMIGRANT (2017) – Full Transcript"
          ],
          [
           "TODD BARRY: SPICY HONEY (2017) – Full Transcript"
          ],
          [
           "Jerry Seinfeld: I’m Telling You for the Last Time (1998) – Transcript"
          ],
          [
           "Craig Ferguson: Does This Need To Be Said? (2011) – Transcript"
          ],
          [
           "Dave Chappelle: The Bird Revelation (2017) – Transcript"
          ],
          [
           "Dave Chappelle: Equanimity (2017) – Transcript"
          ],
          [
           "CRAIG FERGUSON: I’M HERE TO HELP (2013) – Full Transcript"
          ],
          [
           "RUSSELL HOWARD: RECALIBRATE (2017) – Full Transcript"
          ],
          [
           "WHITNEY CUMMINGS: I LOVE YOU (2014) – Full Transcript"
          ],
          [
           "WHITNEY CUMMINGS: I’M YOUR GIRLFRIEND (2016) – Full Transcript"
          ],
          [
           "SARAH MILLICAN: CHATTERBOX LIVE (2011) – Full Transcript"
          ],
          [
           "Anjelah Johnson: Not Fancy (2015) – Transcript"
          ],
          [
           "RICKY GERVAIS LIVE 2: POLITICS (2004) – Full Transcript"
          ],
          [
           "Russell Howard Live: Dingledodies (2009) – Full Transcript"
          ],
          [
           "CHRISTINA PAZSITZKY: MOTHER INFERIOR (2017) – FULL TRANSCRIPT"
          ],
          [
           "Jack Whitehall: At Large (2017) – Transcript"
          ],
          [
           "CRISTELA ALONZO: LOWER CLASSY (2017) – Full Transcript"
          ],
          [
           "JUDAH FRIEDLANDER: AMERICA IS THE GREATEST COUNTRY IN THE UNITED STATES (2017) – Full Transcript"
          ],
          [
           "AZIZ ANSARI: LIVE IN MADISON SQUARE GARDEN (2015) – Full Transcript"
          ],
          [
           "AZIZ ANSARI: BURIED ALIVE (2013) – Full Transcript"
          ],
          [
           "Paul Mooney: A Piece of My Mind – Godbless America (2014) – Transcript"
          ],
          [
           "PATTON OSWALT: ANNIHILATION (2017) – Full Transcript"
          ],
          [
           "Chris Rock: Kill The Messenger – London, New York, Johannesburg (2008) – Transcript"
          ],
          [
           "BILL MAHER: LIVE FROM D.C. (2014) – Full Transcript"
          ],
          [
           "Sarah Silverman: Jesus Is Magic (2005) – Transcript"
          ],
          [
           "SARAH SILVERMAN: WE ARE MIRACLES (2013) – Full Transcript"
          ],
          [
           "Pablo Francisco: Ouch! Live From San Jose (2006) – Full Transcript"
          ],
          [
           "BILL MAHER… BUT I’M NOT WRONG (2010) – Full Transcript"
          ],
          [
           "RUSSELL BRAND: MESSIAH COMPLEX (2013) – Full Transcript"
          ],
          [
           "Chris Rock: Bigger & Blacker (1999) – Transcript"
          ],
          [
           "Gabriel Iglesias: Hot And Fluffy (2007) – Transcript"
          ],
          [
           "GABRIEL IGLESIAS: I’M NOT FAT … I’M FLUFFY (2009) – Full Transcript"
          ],
          [
           "GABRIEL IGLESIAS: I’M SORRY FOR WHAT I SAID WHEN I WAS HUNGRY (2016) – Full Transcript"
          ],
          [
           "RORY SCOVEL TRIES STAND-UP FOR THE FIRST TIME (2017) – Full Transcript"
          ],
          [
           "LISA LAMPANELLI: BACK TO THE DRAWING BOARD (2015) – Full Transcript"
          ],
          [
           "ERIK GRIFFIN: THE UGLY TRUTH (2017) – Full Transcript"
          ],
          [
           "JEN KIRKMAN: JUST KEEP LIVIN’? (2017) – Full Transcript"
          ],
          [
           "DANIEL TOSH: COMPLETELY SERIOUS (2007) – Full Transcript"
          ],
          [
           "AL MADRIGAL: WHY IS THE RABBIT CRYING? (2013) – Full Transcript"
          ],
          [
           "NEAL BRENNAN: 3 MICS (2017)- FULL TRANSCRIPT"
          ],
          [
           "John Mulaney: New In Town (2012) – Transcript"
          ],
          [
           "Donald Glover: Weirdo (2012) – Transcript"
          ],
          [
           "ALI WONG: BABY COBRA (2016) – Full Transcript"
          ],
          [
           "Norm Macdonald: Hitler’s Dog, Gossip & Trickery (2017) – Transcript"
          ],
          [
           "DANIEL TOSH: PEOPLE PLEASER (2016) – FULL TRANSCRIPT"
          ],
          [
           "Marc Maron: More Later (2015) – Full Transcript"
          ],
          [
           "Dylan Moran: Off The Hook (2015) – Transcript"
          ],
          [
           "Richard Pryor: Live And Smokin’ (1971) – Transcript"
          ],
          [
           "RICHARD PRYOR: …HERE AND NOW (1983) – Full Transcript"
          ],
          [
           "AMY SCHUMER: MOSTLY SEX STUFF (2012) – Full Transcript"
          ],
          [
           "Jim Jefferies: Alcoholocaust (2010) – Transcript"
          ],
          [
           "AMY SCHUMER: LIVE AT THE APOLLO (2015) – Full Transcript"
          ],
          [
           "Kevin Hart: Seriously Funny (2010) – Transcript"
          ],
          [
           "Hannibal Buress: Comedy Camisado (2016) – Transcript"
          ],
          [
           "Neal Brennan: Women And Black Dudes (2014) – Transcript"
          ],
          [
           "NICK OFFERMAN: AMERICAN HAM (2014) – Full Transcript"
          ],
          [
           "AZIZ ANSARI: INTIMATE MOMENTS FOR A SENSUAL EVENING (2010) – Full Transcript"
          ],
          [
           "BIG JAY OAKERSON: LIVE AT WEBSTER HALL (2016) – Full Transcript"
          ],
          [
           "George Carlin at USC (1977) – Full Transcript"
          ],
          [
           "Jim Norton: Mouthful Of Shame (2017) Transcript"
          ],
          [
           "Michael Che Matters (2016) – Transcript"
          ],
          [
           "Joe Rogan: Triggered (2016) – Transcript"
          ],
          [
           "Trevor Noah: Lost In Translation (2015) – Transcript"
          ],
          [
           "MARIA BAMFORD: OLD BABY (2017) – FULL TRANSCRIPT"
          ],
          [
           "Bo Burnham: What (2013) – Transcript"
          ],
          [
           "Bo Burnham: Make Happy (2016) – Transcript"
          ],
          [
           "ANTHONY JESELNIK: CALIGULA (2013) – Full Transcript"
          ],
          [
           "Anthony Jeselnik: Thoughts And Prayers (2015) – Full Transcript"
          ],
          [
           "John Mulaney: The Comeback Kid (2015) – Transcript"
          ],
          [
           "BILL HICKS: REVELATIONS (1993) – FULL TRANSCRIPT"
          ],
          [
           "LEWIS BLACK: BLACK TO THE FUTURE (2016) – Full Transcript"
          ],
          [
           "DOUG STANHOPE: BEFORE TURNING THE GUN ON HIMSELF (2012) – Transcript"
          ],
          [
           "DOUG STANHOPE: DEADBEAT HERO (2004) – Transcript"
          ],
          [
           "JIM JEFFERIES: CONTRABAND (2008) – Full Transcript"
          ],
          [
           "Mike Birbiglia: Thank God for Jokes (2017) – Transcript"
          ],
          [
           "SARAH SILVERMAN: A SPECK OF DUST (2017) – Full Transcript"
          ],
          [
           "GEORGE CARLIN: PLAYING WITH YOUR HEAD (1986) – Full Transcript"
          ],
          [
           "GEORGE CARLIN: AGAIN!* (1978) – Full Transcript"
          ],
          [
           "Louis C.K.: Chewed Up (2008) – Transcript"
          ],
          [
           "Tom Segura: Completely Normal (2014) – Transcript"
          ],
          [
           "GEORGE CARLIN: CARLIN ON CAMPUS (1984) – Full Transcript"
          ],
          [
           "Louis C.K.: Live at the Beacon Theatre (2011) – Transcript"
          ],
          [
           "RICKY GERVAIS: OUT OF ENGLAND 2 (2010) – Full Transcript"
          ],
          [
           "AMY SCHUMER: THE LEATHER SPECIAL (2017) – Full Transcript"
          ],
          [
           "JIM GAFFIGAN: CINCO (2017) – Full Transcript"
          ],
          [
           "JIM JEFFERIES: I SWEAR TO GOD (2009) – FULL TRANSCRIPT"
          ],
          [
           "LOUIS C.K.: HILARIOUS (2010) – Full Transcript"
          ],
          [
           "LOUIS C.K.: SHAMELESS (2007) – Full Transcript"
          ],
          [
           "BILL BURR: I’M SORRY YOU FEEL THAT WAY (2014) – Full Transcript"
          ],
          [
           "BILL BURR: YOU PEOPLE ARE ALL THE SAME (2012) – Full Transcript"
          ],
          [
           "Dave Chappelle: For What It’s Worth (2004) – Transcript"
          ],
          [
           "Dave Chappelle: Killin’ Them Softly (2000) – Transcript"
          ],
          [
           "Eddie Griffin: You Can Tell ‘Em I Said It! (2011) – Transcript"
          ],
          [
           "BILL BURR: WALK YOUR WAY OUT (2017) – Full Transcript"
          ],
          [
           "LOUIS C.K.: OH MY GOD (2013) – Full Transcript"
          ],
          [
           "LOUIS C.K.: LIVE AT  THE COMEDY STORE (2015) – Transcript"
          ],
          [
           "BILL HICKS: RELENTLESS (1991) – Transcript"
          ],
          [
           "Daniel Tosh: Happy Thoughts (2011) – Transcript"
          ],
          [
           "Patrice O’Neal: Elephant in the Room (2011) – Transcript"
          ],
          [
           "Katt Williams: Live (2006) – Transcript"
          ],
          [
           "Richard Pryor: Live in Concert (1979) – Transcript"
          ],
          [
           "RICHARD PRYOR: LIVE ON THE SUNSET STRIP (1982) – Full Transcript"
          ],
          [
           "Trevor Noah: Afraid Of The Dark (2017) – Transcript"
          ],
          [
           "JIM JEFFERIES: BARE (2014) – Full Transcript"
          ],
          [
           "Dave Chappelle: Deep in the Heart of Texas (2017) – Transcript"
          ],
          [
           "Tom Segura: Mostly Stories (2016) – Transcript"
          ],
          [
           "BILL BURR: LET IT GO (2010) – TRANSCRIPT"
          ],
          [
           "JIM JEFFERIES: FREEDUMB (2016) – Full Transcript"
          ],
          [
           "Eddie Murphy: Delirious (1983) – Transcript"
          ],
          [
           "Dave Chappelle: The Age of Spin (2017) – Transcript"
          ],
          [
           "GEORGE CARLIN: BACK IN TOWN (1996) – Full transcript"
          ],
          [
           "LOUIS C.K.: 2017 – Full transcript"
          ],
          [
           "George Carlin: Jamming in New York (1992) – Transcript"
          ],
          [
           "Reggie Watts: Spatial (2016) – Full Transcript"
          ],
          [
           "GEORGE CARLIN: COMPLAINTS AND GRIEVANCES (2001) – FULL TRANSCRIPT"
          ],
          [
           "GEORGE CARLIN: LIFE IS WORTH LOSING (2006) – Transcript"
          ],
          [
           "George Carlin: It’s Bad For Ya (2008) Full transcript"
          ],
          [
           "Dave Chappelle: 8:46 – Transcript"
          ],
          [
           "JIM JEFFERIES ON GUN CONTROL [FULL TRANSCRIPT]"
          ]
         ],
         "hovertemplate": "std sentence polarity=%{x}<br>description=%{customdata[0]}<extra></extra>",
         "legendgroup": "",
         "marker": {
          "color": "#636efa"
         },
         "name": "",
         "notched": false,
         "offsetgroup": "",
         "orientation": "h",
         "showlegend": false,
         "type": "box",
         "x": [
          0.2631201315438492,
          0.32103669018273884,
          0.282668402887215,
          0.2830756400068587,
          0.24974956223577188,
          0.27560082291710364,
          0.22504052754439205,
          0.26213199615319777,
          0.26893502275510267,
          0.2934376697296761,
          0.24313001007434487,
          0.2398929925124868,
          0.2772740591341317,
          0.24071752159260093,
          0.27214159559936363,
          0.21621172231807032,
          0.22905442288540048,
          0.284070096059415,
          0.2803569061733891,
          0.2734297549089656,
          0.24079328415352716,
          0.24180546297151911,
          0.2715885620576111,
          0.28345831625341317,
          0.258808502362044,
          0.2791570861376914,
          0.26816171589289145,
          0.26634067682425433,
          0.2719370120040044,
          0.2696678679450599,
          0.24227584969667137,
          0.2750081242781948,
          0.2545201690245674,
          0.28951004739721614,
          0.31037274214493116,
          0.24868578891253554,
          0.24218882197618166,
          0.23167222216016195,
          0.29023725543499007,
          0.2578121254504005,
          0.2728110623007235,
          0.2884924080208635,
          0.28043391413612623,
          0.26105421020327174,
          0.22204557947961442,
          0.27713999694387687,
          0.27674423242258983,
          0.29271561098623794,
          0.2606591629655983,
          0.27886037237411976,
          0.30488055924064217,
          0.2804866126360923,
          0.2383552091604909,
          0.3123164160862185,
          0.3017494645108795,
          0.2806952429332853,
          0.273294536997674,
          0.2656000142246471,
          0.26359246935150343,
          0.27568628764139147,
          0.24109196188519097,
          0.26660347497182063,
          0.27304826770828355,
          0.2755863821481159,
          0.20289217056185874,
          0.24538822167350163,
          0.25178174562085254,
          0.307252095871393,
          0.2903124518835086,
          0.2603594926074673,
          0.2521753931241779,
          0.2613934845108788,
          0.2679012032987798,
          0.3000088375308743,
          0.25409063329554094,
          0.26245448921920866,
          0.27262422346054593,
          0.2778568434132642,
          0.25378534685323023,
          0.3006797843982508,
          0.2837386032071333,
          0.26888940952202844,
          0.3064566551396839,
          0.2729962440383667,
          0.2682373414019618,
          0.23473275278880953,
          0.29214244161368125,
          0.23601168116942206,
          0.28826166041127643,
          0.2617280197748178,
          0.24592530906210425,
          0.23259164582864453,
          0.21586913175706085,
          0.2519231171150292,
          0.19804685296584754,
          0.28946891585990775,
          0.23044688408885688,
          0.2949247197059362,
          0.31902773775813964,
          0.2676921802537223,
          0.2671987696221915,
          0.2799579428853187,
          0.26937778169216786,
          0.23758266165095782,
          0.22464705872958696,
          0.26979036153653363,
          0.2448853523231058,
          0.26456526812949005,
          0.27285537239369984,
          0.28722185900131086,
          0.22605687630813132,
          0.2270640736296667,
          0.1963558615012643,
          0.20567433905316723,
          0.22089284320031402,
          0.2583539035470495,
          0.2643952255240117,
          0.2798457640732179,
          0.2576037366993197,
          0.2510028498840662,
          0.24761063373464698,
          0.3029740058681393,
          0.2462474812319565,
          0.2734904824498204,
          0.2598710607322248,
          0.2627455444293674,
          0.27065460162650173,
          0.2969956687800873,
          0.23448658890334692,
          0.24364834368725108,
          0.2568519060057165,
          0.24045033484763956,
          0.285418040817957,
          0.28904583685792706,
          0.2611751172902589,
          0.2781539355855779,
          0.25575374338154294,
          0.2537709219917826,
          0.3208625743760093,
          0.28954390441347594,
          0.2800360236554598,
          0.23648910316913282,
          0.24196568885283948,
          0.2933040909273002,
          0.2480731205774676,
          0.2425089679878388,
          0.24462744024741426,
          0.25993126734086036,
          0.2903055006320212,
          0.25265559544518745,
          0.2829913375650861,
          0.2902289736181822,
          0.26990092857185627,
          0.2502431598607132,
          0.2516556734269524,
          0.2057135258200635,
          0.29616259316589694,
          0.26295779479421566,
          0.2887262834649525,
          0.26967427949678136,
          0.26710829147191223,
          0.27310736411703973,
          0.2856468238953117,
          0.2635173966976672,
          0.24906198673283483,
          0.26758984051680146,
          0.26145319919700266,
          0.26338404384402475,
          0.2524889930556257,
          0.25408098643551436,
          0.21239579886468574,
          0.28610057801530053,
          0.2162547272179321,
          0.24689676669207358,
          0.2615728714260414,
          0.2791188142393604,
          0.2763706420285368,
          0.26572297104447073,
          0.23925141708224887,
          0.2577843199718268,
          0.31028042215845736,
          0.2719065098871477,
          0.285352375615512,
          0.22584117807797716,
          0.23715012460590262,
          0.23781326693144647,
          0.2698600484367742,
          0.2536770704758805,
          0.29109670480862143,
          0.2554950994100397,
          0.27485715001700506,
          0.2295133257739996,
          0.2588528870524478,
          0.22858408735085398,
          0.2822366638011092,
          0.27396489632088766,
          0.2770078773140463,
          0.29843828471998324,
          0.27694324677889964,
          0.300663665093573,
          0.3046076029071343,
          0.27549406599638676,
          0.2526496200335574,
          0.27443472540442837,
          0.2868841594571117,
          0.2588296289100821,
          0.24726738936711254,
          0.26770406445485795,
          0.2640628261948117,
          0.29803625975473885,
          0.2830547336607004,
          0.23222425643675512,
          0.27027631372368244,
          0.31720136365480617,
          0.25416995421800553,
          0.308218609923701,
          0.27632214681337225,
          0.22279255189572078,
          0.2555870229273498,
          0.2788950371785649,
          0.2605315273896265,
          0.25252385350192047,
          0.2107557257757196,
          0.2513083277761244,
          0.22618238793595632,
          0.30202276081988355,
          0.25270962634330785,
          0.2606573644340692,
          0.2841385369001049,
          0.26008021423748817,
          0.2839483107594644,
          0.25496973220290675,
          0.3024918706689866,
          0.2422756514586538,
          0.2712181065675066,
          0.27461979288597604,
          0.2939258158734867,
          0.28683051464041404,
          0.2080176267528301,
          0.24549386464320663,
          0.2691315232919846,
          0.29421956302140445,
          0.291262692128243,
          0.21919416928559818,
          0.274016507955874,
          0.24967991410843823,
          0.30634420112647887,
          0.2696364610077112,
          0.26603667865664105,
          0.24274844988866023,
          0.2976213199370591,
          0.2714858960634745,
          0.28265673861899776,
          0.2644887444725711,
          0.27480470753579544,
          0.27279964216638214,
          0.2582989759884946,
          0.3258682535958862,
          0.3320187223545331,
          0.2688527276031561,
          0.2912156317256864,
          0.23240118815742958,
          0.2861188197885279,
          0.2821618736683121,
          0.2694588660362403,
          0.28569845477057687,
          0.25473924664303327,
          0.2576289302569834,
          0.2549274080447747,
          0.3015168533539184,
          0.25710868665722986,
          0.2497094360450929,
          0.2914569760160665,
          0.24024773154683782,
          0.2750280360293121,
          0.2550667212542162,
          0.30408754023462703,
          0.2877072232801079,
          0.32562594455516697,
          0.26932728885206214,
          0.27679987759898056,
          0.24717997466312921,
          0.2562691995592514,
          0.19774366132603027,
          0.2845220252369374,
          0.28072699920166977,
          0.268679674999631,
          0.3101170241406125,
          0.26934518811815067,
          0.2506678389215822,
          0.25728928659340444,
          0.24846131600795854,
          0.21207091579804546,
          0.2519732668841528,
          0.3132753677467003,
          0.2726451635290815,
          0.26422508628112146,
          0.2553635719208408,
          0.2947036334180845,
          0.2719788930307214,
          0.2631591319043347,
          0.2676804766028988,
          0.28484111872828316,
          0.3122876485497483,
          0.25167994098574675,
          0.22864389970359164,
          0.24060796658305397,
          0.26080117754662907,
          0.2739735858122562,
          0.299260552121654
         ],
         "x0": " ",
         "xaxis": "x",
         "y0": " ",
         "yaxis": "y"
        }
       ],
       "layout": {
        "boxmode": "group",
        "legend": {
         "tracegroupgap": 0
        },
        "margin": {
         "t": 60
        },
        "template": {
         "data": {
          "bar": [
           {
            "error_x": {
             "color": "#2a3f5f"
            },
            "error_y": {
             "color": "#2a3f5f"
            },
            "marker": {
             "line": {
              "color": "#E5ECF6",
              "width": 0.5
             },
             "pattern": {
              "fillmode": "overlay",
              "size": 10,
              "solidity": 0.2
             }
            },
            "type": "bar"
           }
          ],
          "barpolar": [
           {
            "marker": {
             "line": {
              "color": "#E5ECF6",
              "width": 0.5
             },
             "pattern": {
              "fillmode": "overlay",
              "size": 10,
              "solidity": 0.2
             }
            },
            "type": "barpolar"
           }
          ],
          "carpet": [
           {
            "aaxis": {
             "endlinecolor": "#2a3f5f",
             "gridcolor": "white",
             "linecolor": "white",
             "minorgridcolor": "white",
             "startlinecolor": "#2a3f5f"
            },
            "baxis": {
             "endlinecolor": "#2a3f5f",
             "gridcolor": "white",
             "linecolor": "white",
             "minorgridcolor": "white",
             "startlinecolor": "#2a3f5f"
            },
            "type": "carpet"
           }
          ],
          "choropleth": [
           {
            "colorbar": {
             "outlinewidth": 0,
             "ticks": ""
            },
            "type": "choropleth"
           }
          ],
          "contour": [
           {
            "colorbar": {
             "outlinewidth": 0,
             "ticks": ""
            },
            "colorscale": [
             [
              0,
              "#0d0887"
             ],
             [
              0.1111111111111111,
              "#46039f"
             ],
             [
              0.2222222222222222,
              "#7201a8"
             ],
             [
              0.3333333333333333,
              "#9c179e"
             ],
             [
              0.4444444444444444,
              "#bd3786"
             ],
             [
              0.5555555555555556,
              "#d8576b"
             ],
             [
              0.6666666666666666,
              "#ed7953"
             ],
             [
              0.7777777777777778,
              "#fb9f3a"
             ],
             [
              0.8888888888888888,
              "#fdca26"
             ],
             [
              1,
              "#f0f921"
             ]
            ],
            "type": "contour"
           }
          ],
          "contourcarpet": [
           {
            "colorbar": {
             "outlinewidth": 0,
             "ticks": ""
            },
            "type": "contourcarpet"
           }
          ],
          "heatmap": [
           {
            "colorbar": {
             "outlinewidth": 0,
             "ticks": ""
            },
            "colorscale": [
             [
              0,
              "#0d0887"
             ],
             [
              0.1111111111111111,
              "#46039f"
             ],
             [
              0.2222222222222222,
              "#7201a8"
             ],
             [
              0.3333333333333333,
              "#9c179e"
             ],
             [
              0.4444444444444444,
              "#bd3786"
             ],
             [
              0.5555555555555556,
              "#d8576b"
             ],
             [
              0.6666666666666666,
              "#ed7953"
             ],
             [
              0.7777777777777778,
              "#fb9f3a"
             ],
             [
              0.8888888888888888,
              "#fdca26"
             ],
             [
              1,
              "#f0f921"
             ]
            ],
            "type": "heatmap"
           }
          ],
          "heatmapgl": [
           {
            "colorbar": {
             "outlinewidth": 0,
             "ticks": ""
            },
            "colorscale": [
             [
              0,
              "#0d0887"
             ],
             [
              0.1111111111111111,
              "#46039f"
             ],
             [
              0.2222222222222222,
              "#7201a8"
             ],
             [
              0.3333333333333333,
              "#9c179e"
             ],
             [
              0.4444444444444444,
              "#bd3786"
             ],
             [
              0.5555555555555556,
              "#d8576b"
             ],
             [
              0.6666666666666666,
              "#ed7953"
             ],
             [
              0.7777777777777778,
              "#fb9f3a"
             ],
             [
              0.8888888888888888,
              "#fdca26"
             ],
             [
              1,
              "#f0f921"
             ]
            ],
            "type": "heatmapgl"
           }
          ],
          "histogram": [
           {
            "marker": {
             "pattern": {
              "fillmode": "overlay",
              "size": 10,
              "solidity": 0.2
             }
            },
            "type": "histogram"
           }
          ],
          "histogram2d": [
           {
            "colorbar": {
             "outlinewidth": 0,
             "ticks": ""
            },
            "colorscale": [
             [
              0,
              "#0d0887"
             ],
             [
              0.1111111111111111,
              "#46039f"
             ],
             [
              0.2222222222222222,
              "#7201a8"
             ],
             [
              0.3333333333333333,
              "#9c179e"
             ],
             [
              0.4444444444444444,
              "#bd3786"
             ],
             [
              0.5555555555555556,
              "#d8576b"
             ],
             [
              0.6666666666666666,
              "#ed7953"
             ],
             [
              0.7777777777777778,
              "#fb9f3a"
             ],
             [
              0.8888888888888888,
              "#fdca26"
             ],
             [
              1,
              "#f0f921"
             ]
            ],
            "type": "histogram2d"
           }
          ],
          "histogram2dcontour": [
           {
            "colorbar": {
             "outlinewidth": 0,
             "ticks": ""
            },
            "colorscale": [
             [
              0,
              "#0d0887"
             ],
             [
              0.1111111111111111,
              "#46039f"
             ],
             [
              0.2222222222222222,
              "#7201a8"
             ],
             [
              0.3333333333333333,
              "#9c179e"
             ],
             [
              0.4444444444444444,
              "#bd3786"
             ],
             [
              0.5555555555555556,
              "#d8576b"
             ],
             [
              0.6666666666666666,
              "#ed7953"
             ],
             [
              0.7777777777777778,
              "#fb9f3a"
             ],
             [
              0.8888888888888888,
              "#fdca26"
             ],
             [
              1,
              "#f0f921"
             ]
            ],
            "type": "histogram2dcontour"
           }
          ],
          "mesh3d": [
           {
            "colorbar": {
             "outlinewidth": 0,
             "ticks": ""
            },
            "type": "mesh3d"
           }
          ],
          "parcoords": [
           {
            "line": {
             "colorbar": {
              "outlinewidth": 0,
              "ticks": ""
             }
            },
            "type": "parcoords"
           }
          ],
          "pie": [
           {
            "automargin": true,
            "type": "pie"
           }
          ],
          "scatter": [
           {
            "marker": {
             "colorbar": {
              "outlinewidth": 0,
              "ticks": ""
             }
            },
            "type": "scatter"
           }
          ],
          "scatter3d": [
           {
            "line": {
             "colorbar": {
              "outlinewidth": 0,
              "ticks": ""
             }
            },
            "marker": {
             "colorbar": {
              "outlinewidth": 0,
              "ticks": ""
             }
            },
            "type": "scatter3d"
           }
          ],
          "scattercarpet": [
           {
            "marker": {
             "colorbar": {
              "outlinewidth": 0,
              "ticks": ""
             }
            },
            "type": "scattercarpet"
           }
          ],
          "scattergeo": [
           {
            "marker": {
             "colorbar": {
              "outlinewidth": 0,
              "ticks": ""
             }
            },
            "type": "scattergeo"
           }
          ],
          "scattergl": [
           {
            "marker": {
             "colorbar": {
              "outlinewidth": 0,
              "ticks": ""
             }
            },
            "type": "scattergl"
           }
          ],
          "scattermapbox": [
           {
            "marker": {
             "colorbar": {
              "outlinewidth": 0,
              "ticks": ""
             }
            },
            "type": "scattermapbox"
           }
          ],
          "scatterpolar": [
           {
            "marker": {
             "colorbar": {
              "outlinewidth": 0,
              "ticks": ""
             }
            },
            "type": "scatterpolar"
           }
          ],
          "scatterpolargl": [
           {
            "marker": {
             "colorbar": {
              "outlinewidth": 0,
              "ticks": ""
             }
            },
            "type": "scatterpolargl"
           }
          ],
          "scatterternary": [
           {
            "marker": {
             "colorbar": {
              "outlinewidth": 0,
              "ticks": ""
             }
            },
            "type": "scatterternary"
           }
          ],
          "surface": [
           {
            "colorbar": {
             "outlinewidth": 0,
             "ticks": ""
            },
            "colorscale": [
             [
              0,
              "#0d0887"
             ],
             [
              0.1111111111111111,
              "#46039f"
             ],
             [
              0.2222222222222222,
              "#7201a8"
             ],
             [
              0.3333333333333333,
              "#9c179e"
             ],
             [
              0.4444444444444444,
              "#bd3786"
             ],
             [
              0.5555555555555556,
              "#d8576b"
             ],
             [
              0.6666666666666666,
              "#ed7953"
             ],
             [
              0.7777777777777778,
              "#fb9f3a"
             ],
             [
              0.8888888888888888,
              "#fdca26"
             ],
             [
              1,
              "#f0f921"
             ]
            ],
            "type": "surface"
           }
          ],
          "table": [
           {
            "cells": {
             "fill": {
              "color": "#EBF0F8"
             },
             "line": {
              "color": "white"
             }
            },
            "header": {
             "fill": {
              "color": "#C8D4E3"
             },
             "line": {
              "color": "white"
             }
            },
            "type": "table"
           }
          ]
         },
         "layout": {
          "annotationdefaults": {
           "arrowcolor": "#2a3f5f",
           "arrowhead": 0,
           "arrowwidth": 1
          },
          "autotypenumbers": "strict",
          "coloraxis": {
           "colorbar": {
            "outlinewidth": 0,
            "ticks": ""
           }
          },
          "colorscale": {
           "diverging": [
            [
             0,
             "#8e0152"
            ],
            [
             0.1,
             "#c51b7d"
            ],
            [
             0.2,
             "#de77ae"
            ],
            [
             0.3,
             "#f1b6da"
            ],
            [
             0.4,
             "#fde0ef"
            ],
            [
             0.5,
             "#f7f7f7"
            ],
            [
             0.6,
             "#e6f5d0"
            ],
            [
             0.7,
             "#b8e186"
            ],
            [
             0.8,
             "#7fbc41"
            ],
            [
             0.9,
             "#4d9221"
            ],
            [
             1,
             "#276419"
            ]
           ],
           "sequential": [
            [
             0,
             "#0d0887"
            ],
            [
             0.1111111111111111,
             "#46039f"
            ],
            [
             0.2222222222222222,
             "#7201a8"
            ],
            [
             0.3333333333333333,
             "#9c179e"
            ],
            [
             0.4444444444444444,
             "#bd3786"
            ],
            [
             0.5555555555555556,
             "#d8576b"
            ],
            [
             0.6666666666666666,
             "#ed7953"
            ],
            [
             0.7777777777777778,
             "#fb9f3a"
            ],
            [
             0.8888888888888888,
             "#fdca26"
            ],
            [
             1,
             "#f0f921"
            ]
           ],
           "sequentialminus": [
            [
             0,
             "#0d0887"
            ],
            [
             0.1111111111111111,
             "#46039f"
            ],
            [
             0.2222222222222222,
             "#7201a8"
            ],
            [
             0.3333333333333333,
             "#9c179e"
            ],
            [
             0.4444444444444444,
             "#bd3786"
            ],
            [
             0.5555555555555556,
             "#d8576b"
            ],
            [
             0.6666666666666666,
             "#ed7953"
            ],
            [
             0.7777777777777778,
             "#fb9f3a"
            ],
            [
             0.8888888888888888,
             "#fdca26"
            ],
            [
             1,
             "#f0f921"
            ]
           ]
          },
          "colorway": [
           "#636efa",
           "#EF553B",
           "#00cc96",
           "#ab63fa",
           "#FFA15A",
           "#19d3f3",
           "#FF6692",
           "#B6E880",
           "#FF97FF",
           "#FECB52"
          ],
          "font": {
           "color": "#2a3f5f"
          },
          "geo": {
           "bgcolor": "white",
           "lakecolor": "white",
           "landcolor": "#E5ECF6",
           "showlakes": true,
           "showland": true,
           "subunitcolor": "white"
          },
          "hoverlabel": {
           "align": "left"
          },
          "hovermode": "closest",
          "mapbox": {
           "style": "light"
          },
          "paper_bgcolor": "white",
          "plot_bgcolor": "#E5ECF6",
          "polar": {
           "angularaxis": {
            "gridcolor": "white",
            "linecolor": "white",
            "ticks": ""
           },
           "bgcolor": "#E5ECF6",
           "radialaxis": {
            "gridcolor": "white",
            "linecolor": "white",
            "ticks": ""
           }
          },
          "scene": {
           "xaxis": {
            "backgroundcolor": "#E5ECF6",
            "gridcolor": "white",
            "gridwidth": 2,
            "linecolor": "white",
            "showbackground": true,
            "ticks": "",
            "zerolinecolor": "white"
           },
           "yaxis": {
            "backgroundcolor": "#E5ECF6",
            "gridcolor": "white",
            "gridwidth": 2,
            "linecolor": "white",
            "showbackground": true,
            "ticks": "",
            "zerolinecolor": "white"
           },
           "zaxis": {
            "backgroundcolor": "#E5ECF6",
            "gridcolor": "white",
            "gridwidth": 2,
            "linecolor": "white",
            "showbackground": true,
            "ticks": "",
            "zerolinecolor": "white"
           }
          },
          "shapedefaults": {
           "line": {
            "color": "#2a3f5f"
           }
          },
          "ternary": {
           "aaxis": {
            "gridcolor": "white",
            "linecolor": "white",
            "ticks": ""
           },
           "baxis": {
            "gridcolor": "white",
            "linecolor": "white",
            "ticks": ""
           },
           "bgcolor": "#E5ECF6",
           "caxis": {
            "gridcolor": "white",
            "linecolor": "white",
            "ticks": ""
           }
          },
          "title": {
           "x": 0.05
          },
          "xaxis": {
           "automargin": true,
           "gridcolor": "white",
           "linecolor": "white",
           "ticks": "",
           "title": {
            "standoff": 15
           },
           "zerolinecolor": "white",
           "zerolinewidth": 2
          },
          "yaxis": {
           "automargin": true,
           "gridcolor": "white",
           "linecolor": "white",
           "ticks": "",
           "title": {
            "standoff": 15
           },
           "zerolinecolor": "white",
           "zerolinewidth": 2
          }
         }
        },
        "xaxis": {
         "anchor": "y",
         "domain": [
          0,
          1
         ],
         "title": {
          "text": "std sentence polarity"
         }
        },
        "yaxis": {
         "anchor": "x",
         "domain": [
          0,
          1
         ]
        }
       }
      },
      "text/html": [
       "<div>                            <div id=\"029eedc7-2928-41d2-973c-7592d4395286\" class=\"plotly-graph-div\" style=\"height:525px; width:100%;\"></div>            <script type=\"text/javascript\">                require([\"plotly\"], function(Plotly) {                    window.PLOTLYENV=window.PLOTLYENV || {};                                    if (document.getElementById(\"029eedc7-2928-41d2-973c-7592d4395286\")) {                    Plotly.newPlot(                        \"029eedc7-2928-41d2-973c-7592d4395286\",                        [{\"alignmentgroup\":\"True\",\"boxpoints\":\"all\",\"customdata\":[[\"Jim Gaffigan: Comedy Monster (2021) | Transcript\"],[\"Louis C. K.: Sorry (2021) | Transcript\"],[\"Drew Michael: Drew Michael (2018) | Transcript\"],[\"Drew Michael: Red Blue Green (2021) | Transcript\"],[\"Mo Amer: Mohammed in Texas (2021) | Transcript\"],[\"Dave Chappelle: The Closer (2021) | Transcript\"],[\"Kathleen Madigan: Bothering Jesus (2016) \\u2013 Transcript\"],[\"Kathleen Madigan: Madigan Again (2013) \\u2013 Transcript\"],[\"Phil Wang: Philly Philly Wang Wang (2021) \\u2013 Transcript\"],[\"Tom Papa: You\\u2019re Doing Great! (2020) \\u2013 Transcript\"],[\"Tom Papa: Human Mule (2016) \\u2013 Transcript\"],[\"Tom Papa: Freaked Out (2013) \\u2013 Transcript\"],[\"Bo Burnham: Inside (2021) \\u2013 Transcript\"],[\"Tig Notaro: Boyish Girl Interrupted (2015) \\u2013 Transcript\"],[\"Joe List: I Hate Myself (2020) \\u2013 Transcript\"],[\"Nate Bargatze: The Greatest Average American (2021) \\u2013 Transcript\"],[\"Brian Regan: On The Rocks (2021) \\u2013 Transcript\"],[\"Doug Stanhope: Beer Hall Putsch (2013) \\u2013 Transcript\"],[\"Chris Rock Total Blackout: The Tamborine Extended Cut \\u2013 Transcript\"],[\"Sarah Cooper: Everything\\u2019s Fine (2020) \\u2013 Transcript\"],[\"Bo Burnham: Words, Words, Words (2010) \\u2013 Transcript\"],[\"Vir Das: Outside in \\u2013 The Lockdown Special (2020) \\u2013 Transcript\"],[\"Larry the Cable Guy \\u2013 Remain Seated (2020) \\u2013 Transcript\"],[\"Craig Ferguson: Just Being Honest (2015) \\u2013 Transcript\"],[\"Kevin Hart: Zero F**ks Given (2020) \\u2013 Transcript\"],[\"Sam Morril: I Got This (2020) \\u2013 Transcript\"],[\"RONNY CHIENG: ASIAN COMEDIAN DESTROYS AMERICA (2019) \\u2013 TRANSCRIPT\"],[\"Craig Ferguson: A Wee Bit o\\u2019 Revolution (2009) \\u2013 Transcript\"],[\"MICHAEL MCINTYRE: SHOWMAN (2020) \\u2013 TRANSCRIPT\"],[\"ROB SCHNEIDER: ASIAN MOMMA, MEXICAN KIDS (2020) \\u2013 TRANSCRIPT\"],[\"Sam Jay: 3 in the Morning (2020) \\u2013 Transcript\"],[\"Jack Whitehall: I\\u2019m Only Joking (2020) | Transcript\"],[\"URZILA CARLSON: OVERQUALIFIED LOSER (2020) \\u2013 FULL TRANSCRIPT\"],[\"GEORGE LOPEZ: WE\\u2019LL DO IT FOR HALF (2020) \\u2013 FULL TRANSCRIPT\"],[\"JIM JEFFERIES: INTOLERANT (2020) \\u2013 FULL TRANSCRIPT\"],[\"George Carlin: Doin\\u2019 It Again (1990) \\u2013 Transcript\"],[\"ERIC ANDRE: LEGALIZE EVERYTHING (2020)\"],[\"ROY WOOD JR.: FATHER FIGURE (2017) \\u2013 FULL TRANSCRIPT\"],[\"Mark Normand: Don\\u2019t Be Yourself (2017) \\u2013 Transcript\"],[\"Chris Gethard: Career Suicide (2017) \\u2013 Transcript\"],[\"RAMY YOUSSEF: FEELINGS (2019) \\u2013 FULL TRANSCRIPT\"],[\"KENNY SEBASTIAN DON\\u2019T BE THAT GUY (2017) \\u2013 FULL TRANSCRIPT\"],[\"BILLY CONNOLLY: HIGH HORSE TOUR LIVE (2016) \\u2013 FULL TRANSCRIPT\"],[\"Hannah Gadsby: Douglas (2020) \\u2013 Transcript\"],[\"Hasan Minhaj: Homecoming King (2017) \\u2013 Transcript\"],[\"PATTON OSWALT: I LOVE EVERYTHING (2020) \\u2013 FULL TRANSCRIPT\"],[\"RUSSELL PETERS: DEPORTED (2020) \\u2013 FULL TRANSCRIPT\"],[\"JIMMY O. YANG: GOOD DEAL (2020) \\u2013 FULL TRANSCRIPT\"],[\"JO KOY: LIGHTS OUT (2012) \\u2013 FULL TRANSCRIPT\"],[\"LEE MACK: GOING OUT LIVE (2010) \\u2013 FULL TRANSCRIPT\"],[\"LEE MACK: LIVE (2007) \\u2013 FULL TRANSCRIPT\"],[\"T.J. MILLER: NO REAL REASON (2011) \\u2013 FULL TRANSCRIPT\"],[\"Jerry Seinfeld: 23 Hours To Kill (2020) \\u2013 Transcript\"],[\"SINCERELY LOUIS CK (2020)\"],[\"JIM NORTON: AMERICAN DEGENERATE (2013) \\u2013 FULL TRANSCRIPT\"],[\"Jim Norton: Monster Rain (2007) \\u2013 Transcript\"],[\"MARIA BAMFORD: WEAKNESS IS THE BRAND (2020) \\u2013 FULL TRANSCRIPT\"],[\"CHRIS D\\u2019ELIA: WHITE MALE. BLACK COMIC. (2013) \\u2013 FULL TRANSCRIPT\"],[\"Chris D\\u2019Elia: Man on Fire (2017) \\u2013 Full Transcript\"],[\"Tom Segura: Ball Hog (2020) \\u2013 Transcript\"],[\"Bert Kreischer: Hey Big Boy (2020) \\u2013 Transcript\"],[\"Marc Maron: End Times Fun (2020) \\u2013 Full Transcript\"],[\"PETE DAVIDSON: SMD (2016) \\u2013 FULL TRANSCRIPT\"],[\"PETE DAVIDSON: ALIVE FROM NEW YORK (2020) \\u2013 FULL TRANSCRIPT\"],[\"Amanda Seales: I Be Knowin\\u2019 (2019) \\u2013 Transcript\"],[\"Stewart Lee: Carpet Remnant World (2012) \\u2013 Full Transcript\"],[\"Stewart Lee: Content Provider (2018) \\u2013 Transcript\"],[\"Sara Pascoe: LadsLadsLads (2019) \\u2013 Full Transcript\"],[\"Dan Soder: Son of a Gary (2019) \\u2013 Full Transcript\"],[\"Jim Gaffigan: Quality Time (2019) \\u2013 Full Transcript\"],[\"Kevin Bridges: A Whole Different Story (2015) \\u2013 Full Transcript\"],[\"Kevin Bridges: The Story So Far\\u2026 Live in Glasgow (2010) \\u2013 Full Transcript\"],[\"Kevin Bridges: The Story Continues (2012) \\u2013 Full Transcript\"],[\"Michelle Wolf: Joke Show (2019) \\u2013 Full Transcript\"],[\"Tiffany Haddish: Black Mitzvah (2019) \\u2013 Transcript\"],[\"Mike Birbiglia: The New One (2019) \\u2013 Full Transcript\"],[\"Iliza Shlesinger: Unveiled (2019) \\u2013 Full Transcript\"],[\"Seth Meyers: Lobby Baby (2019) \\u2013 Full Transcript\"],[\"Arsenio Hall: Smart and Classy (2019) \\u2013 Transcript\"],[\"Nikki Glaser: Bangin\\u2019 (2019) \\u2013 Full Transcript\"],[\"Bill Burr: Paper Tiger (2019) \\u2013 Transcript\"],[\"Dave Chappelle: Sticks & Stones (2019) \\u2013 Transcript\"],[\"Emily Heller: Ice Thickeners (2019) \\u2013 Full Transcript\"],[\"David Cross: Oh Come On (2019) \\u2013 Full Transcript\"],[\"Whitney Cummings: Can I Touch It? (2019) \\u2013 Full Transcript\"],[\"Aziz Ansari: Right Now (2019) \\u2013 Transcript\"],[\"Ralphie May: Filthy Animal Tour (2014) \\u2013 Transcript\"],[\"Mike Epps: Only One Mike (2019) \\u2013 Full Transcript\"],[\"Adam DeVine: Best Time of Our Lives (2019) \\u2013 Full Transcript\"],[\"Jo Koy: Live from Seattle (2017) \\u2013 Full Transcript\"],[\"Jo Koy: Comin\\u2019 in Hot (2019) \\u2013 Full Transcript\"],[\"Wanda Sykes: Not Normal (2019) \\u2013 Full Transcript\"],[\"Cedric the Entertainer: Live from the Ville (2016) \\u2013 Transcript\"],[\"Eddie Murphy: Raw (1987) \\u2013 Transcript\"],[\"Colin Quinn: The New York Story (2016) \\u2013 Full Transcript\"],[\"Demetri Martin: Live (At The Time) (2015) | Transcript\"],[\"George Carlin: What Am I Doing in New Jersey? (1988) \\u2013 Full Transcript\"],[\"Chelsea Peretti: One of the Greats (2014) \\u2013 Full Transcript\"],[\"Anthony Jeselnik: Fire in the Maternity Ward (2019) \\u2013 Transcript\"],[\"Roy Wood Jr.: No One Loves You (2019) \\u2013 Transcript\"],[\"Robin Williams: Weapons of Self Destruction (2009) \\u2013 Full Transcript\"],[\"ROBIN WILLIAMS LIVE ON BROADWAY (2002) \\u2013 FULL TRANSCRIPT\"],[\"Jimmy Carr: The Best of Ultimate Gold Greatest Hits (2019) \\u2013 Full Transcript\"],[\"Nate Bargatze: The Tennessee Kid (2019) \\u2013 Full Transcript\"],[\"W. Kamau Bell: Private School Negro (2018) \\u2013 Transcript\"],[\"Kevin Hart: Irresponsible (2019) \\u2013 Transcript\"],[\"Nate Bargatze: Full Time Magic (2015) \\u2013 Full Transcript\"],[\"Amy Schumer: Growing (2019) \\u2013 Full Transcript\"],[\"Enissa Amani: Ehrenwort (2018) Full Transcript\"],[\"Ken Jeong: You Complete Me, Ho (2019) \\u2013 Full Transcript\"],[\"Ray Romano: Right Here, Around the Corner (2019) \\u2013 Full Transcript\"],[\"Gabriel \\u201cFluffy\\u201d Iglesias: One Show Fits All (2019) \\u2013 Full Transcript\"],[\"Sebastian Maniscalco: Stay Hungry (2019) \\u2013 Full Transcript\"],[\"Sebastian Maniscalco: Aren\\u2019t You Embarrassed? (2014) \\u2013 Full Transcript\"],[\"Sebastian Maniscalco: What\\u2019s Wrong with People? (2012) \\u2013 Full Transcript\"],[\"Oh, Hello On Broadway (2017) \\u2013 Transcript\"],[\"Ellen Degeneres: Relatable (2018) \\u2013 Transcript\"],[\"Pete Holmes: Dirty Clean (2018) \\u2013 Full Transcript\"],[\"Vir Das: Losing It (2018) \\u2013 Full Transcript\"],[\"Trevor Noah: Son of Patricia (2018) \\u2013 Transcript\"],[\"Jeff Foxworthy & Larry the Cable Guy: We\\u2019ve Been Thinking (2016) \\u2013 Full Transcript\"],[\"Adam Sandler: 100% Fresh (2018) \\u2013 Full Transcript\"],[\"Jeff Foxworthy: Totally Committed (1998) \\u2013 Full Transcript\"],[\"RON WHITE: IF YOU QUIT LISTENING, I\\u2019LL SHUT UP (2018) \\u2013 FULL TRANSCRIPT\"],[\"Mo Amer: The Vagabond (2018) \\u2013 Full Transcript\"],[\"Joe Mande\\u2019s Award-Winning Comedy Special (2017) \\u2013 Full Transcript\"],[\"Henry Rollins: Keep Talking, Pal (2018) \\u2013 Full Transcript\"],[\"Joe Rogan: Strange Times (2018) \\u2013 Full Transcript\"],[\"D.L. Hughley: Contrarian (2018) \\u2013 Transcript\"],[\"Iliza Shlesinger: Freezing Hot (2015) \\u2013 Full Transcript\"],[\"Iliza Shlesinger: War Paint (2013) \\u2013 Transcript\"],[\"Bert Kreischer: Secret Time (2018) \\u2013 Transcript\"],[\"Demetri Martin: The Overthinker (2018) | Transcript\"],[\"BILL MAHER: LIVE FROM OKLAHOMA (2018) \\u2013 Full Transcript\"],[\"Rowan Atkinson Live (1992) \\u2013 Transcript\"],[\"Iliza Shlesinger: Confirmed Kills (2016) \\u2013 Full Transcript\"],[\"Iliza Shlesinger: Elder Millennial (2018) \\u2013 Full Transcript\"],[\"JIM GAFFIGAN: NOBLE APE (2018) \\u2013 Full Transcript\"],[\"Jim Norton: Contextually Inadequate (2015) \\u2013 Transcript\"],[\"Hannah Gadsby: Nanette (2018) \\u2013 Transcript\"],[\"BRAD WILLIAMS: DADDY ISSUES (2016) \\u2013 Full Transcript\"],[\"Deray Davis: How To Act Black (2017) \\u2013 Transcript\"],[\"RICKY GERVAIS: LIVE IV \\u2013 SCIENCE (2010) \\u2013 Full Transcript\"],[\"JIM JEFFERIES: THIS IS ME NOW (2018) \\u2013 Full transcript\"],[\"RUSSELL PETERS: OUTSOURCED (2006) \\u2013 Full Transcript\"],[\"RUSSELL PETERS: ALMOST FAMOUS (2016) \\u2013 Full Transcript\"],[\"RON WHITE: A LITTLE UNPROFESSIONAL (2012) \\u2013 Full Transcript\"],[\"MICHAEL MCINTYRE: HELLO WEMBLEY! (2009) \\u2013 Full Transcript\"],[\"KEVIN SMITH: SILENT BUT DEADLY (2018) \\u2013 Full Transcript\"],[\"KEVIN JAMES: NEVER DON\\u2019T GIVE UP (2018) \\u2013 Full Transcript\"],[\"BRENT MORIN: I\\u2019M BRENT MORIN (2015) \\u2013 Full Transcript\"],[\"NIKKI GLASER: PERFECT (2016) \\u2013 Full Transcript\"],[\"Ali Wong: Hard Knock Wife (2018) \\u2013 Transcript\"],[\"KAVIN JAY: EVERYBODY CALM DOWN! (2018) \\u2013 Full Transcript\"],[\"John Mulaney: Kid Gorgeous At Radio City (2018) \\u2013 Transcript\"],[\"Eddie Griffin: Undeniable (2018) \\u2013 Transcript\"],[\"GREG DAVIES: YOU MAGNIFICENT BEAST (2018) \\u2013 Full Transcript\"],[\"George Carlin: You Are All Diseased (1999) \\u2013 Transcript\"],[\"Marlon Wayans: Woke-Ish (2018) \\u2013 Transcript\"],[\"RICKY GERVAIS: HUMANITY (2018) \\u2013 Full Transcript\"],[\"ADEL KARAM: LIVE FROM BEIRUT (2018) \\u2013 Full Transcript\"],[\"STEWART LEE: 90s COMEDIAN (2006) \\u2013 Full Transcript\"],[\"Mike Birbiglia: My Girlfriend\\u2019s Boyfriend (2013) \\u2013 Transcript\"],[\"DAVE ATTELL: ROAD WORK (2014) \\u2013 Full Transcript\"],[\"Eddie Izzard \\u2013 Glorious (1997) \\u2013 Transcript\"],[\"Chris Rock: Bring the Pain (1996) \\u2013 Transcript\"],[\"ARI SHAFFIR: DOUBLE NEGATIVE (2017) \\u2013 Full Transcript\"],[\"Chris Rock: Tamborine (2018) \\u2013 Transcript\"],[\"FRED ARMISEN: STANDUP FOR DRUMMERS (2018) \\u2013 Full Transcript\"],[\"DANA CARVEY: STRAIGHT WHITE MALE, 60 (2016) \\u2013 Full Transcript\"],[\"EDDIE IZZARD: STRIPPED (2009) \\u2013 Full Transcript\"],[\"TODD GLASS: ACT HAPPY (2018) \\u2013 Full Transcript\"],[\"BRIAN REGAN: STANDING UP (2007) \\u2013 Full Transcript\"],[\"BRIAN REGAN: NUNCHUCKS AND FLAMETHROWERS (2017) \\u2013 Full Transcript\"],[\"Katt Williams: Great America (2018) \\u2013 Transcript\"],[\"JIMMY CARR: BEING FUNNY (2011) \\u2013 Full Transcript\"],[\"JIMMY CARR: LAUGHING AND JOKING (2013) \\u2013 Full Transcript\"],[\"Eddie Izzard: Unrepeatable (1994) | Transcript\"],[\"D.L. Hughley: Unapologetic (2007) \\u2013 Transcript\"],[\"BRIDGET EVERETT: GYNECOLOGICAL WONDER (2015) \\u2013 Full Transcript\"],[\"Chris Rock: Never Scared (2004) \\u2013 Transcript\"],[\"Stewart Lee: Stand-Up Comedian (2005) \\u2013 Transcript\"],[\"JIMMY CARR: FUNNY BUSINESS (2016) \\u2013 Full Transcript\"],[\"Eddie Izzard: Dress To Kill (1999) \\u2013 Transcript\"],[\"Chris Tucker: Live (2015) \\u2013 Transcript\"],[\"Kevin Hart: What Now (2016) \\u2013 Transcript\"],[\"Kevin Hart: Let Me Explain (2013) \\u2013 Transcript\"],[\"Tom Segura: Disgraceful (2018) \\u2013 Transcript\"],[\"MICHELLE WOLF: NICE LADY (2017) \\u2013 Full Transcript\"],[\"FAHIM ANWAR: THERE\\u2019S NO BUSINESS LIKE SHOW BUSINESS (2017) \\u2013 Transcript\"],[\"ELLEN DEGENERES: THE BEGINNING (2000) \\u2013 Full Transcript\"],[\"MAZ JOBRANI: IMMIGRANT (2017) \\u2013 Full Transcript\"],[\"TODD BARRY: SPICY HONEY (2017) \\u2013 Full Transcript\"],[\"Jerry Seinfeld: I\\u2019m Telling You for the Last Time (1998) \\u2013 Transcript\"],[\"Craig Ferguson: Does This Need To Be Said? (2011) \\u2013 Transcript\"],[\"Dave Chappelle: The Bird Revelation (2017) \\u2013 Transcript\"],[\"Dave Chappelle: Equanimity (2017) \\u2013 Transcript\"],[\"CRAIG FERGUSON: I\\u2019M HERE TO HELP (2013) \\u2013 Full Transcript\"],[\"RUSSELL HOWARD: RECALIBRATE (2017) \\u2013 Full Transcript\"],[\"WHITNEY CUMMINGS: I LOVE YOU (2014) \\u2013 Full Transcript\"],[\"WHITNEY CUMMINGS: I\\u2019M YOUR GIRLFRIEND (2016) \\u2013 Full Transcript\"],[\"SARAH MILLICAN: CHATTERBOX LIVE (2011) \\u2013 Full Transcript\"],[\"Anjelah Johnson: Not Fancy (2015) \\u2013 Transcript\"],[\"RICKY GERVAIS LIVE 2: POLITICS (2004) \\u2013 Full Transcript\"],[\"Russell Howard Live: Dingledodies (2009) \\u2013 Full Transcript\"],[\"CHRISTINA PAZSITZKY: MOTHER INFERIOR (2017) \\u2013 FULL TRANSCRIPT\"],[\"Jack Whitehall: At Large (2017) \\u2013 Transcript\"],[\"CRISTELA ALONZO: LOWER CLASSY (2017) \\u2013 Full Transcript\"],[\"JUDAH FRIEDLANDER: AMERICA IS THE GREATEST COUNTRY IN THE UNITED STATES (2017) \\u2013 Full Transcript\"],[\"AZIZ ANSARI: LIVE IN MADISON SQUARE GARDEN (2015) \\u2013 Full Transcript\"],[\"AZIZ ANSARI: BURIED ALIVE (2013) \\u2013 Full Transcript\"],[\"Paul Mooney: A Piece of My Mind \\u2013 Godbless America (2014) \\u2013 Transcript\"],[\"PATTON OSWALT: ANNIHILATION (2017) \\u2013 Full Transcript\"],[\"Chris Rock: Kill The Messenger \\u2013 London, New York, Johannesburg (2008) \\u2013 Transcript\"],[\"BILL MAHER: LIVE FROM D.C. (2014) \\u2013 Full Transcript\"],[\"Sarah Silverman: Jesus Is Magic (2005) \\u2013 Transcript\"],[\"SARAH SILVERMAN: WE ARE MIRACLES (2013) \\u2013 Full Transcript\"],[\"Pablo Francisco: Ouch! Live From San Jose (2006) \\u2013 Full Transcript\"],[\"BILL MAHER\\u2026 BUT I\\u2019M NOT WRONG (2010) \\u2013 Full Transcript\"],[\"RUSSELL BRAND: MESSIAH COMPLEX (2013) \\u2013 Full Transcript\"],[\"Chris Rock: Bigger & Blacker (1999) \\u2013 Transcript\"],[\"Gabriel Iglesias: Hot And Fluffy (2007) \\u2013 Transcript\"],[\"GABRIEL IGLESIAS: I\\u2019M NOT FAT \\u2026 I\\u2019M FLUFFY (2009) \\u2013 Full Transcript\"],[\"GABRIEL IGLESIAS: I\\u2019M SORRY FOR WHAT I SAID WHEN I WAS HUNGRY (2016) \\u2013 Full Transcript\"],[\"RORY SCOVEL TRIES STAND-UP FOR THE FIRST TIME (2017) \\u2013 Full Transcript\"],[\"LISA LAMPANELLI: BACK TO THE DRAWING BOARD (2015) \\u2013 Full Transcript\"],[\"ERIK GRIFFIN: THE UGLY TRUTH (2017) \\u2013 Full Transcript\"],[\"JEN KIRKMAN: JUST KEEP LIVIN\\u2019? (2017) \\u2013 Full Transcript\"],[\"DANIEL TOSH: COMPLETELY SERIOUS (2007) \\u2013 Full Transcript\"],[\"AL MADRIGAL: WHY IS THE RABBIT CRYING? (2013) \\u2013 Full Transcript\"],[\"NEAL BRENNAN: 3 MICS (2017)- FULL TRANSCRIPT\"],[\"John Mulaney: New In Town (2012) \\u2013 Transcript\"],[\"Donald Glover: Weirdo (2012) \\u2013 Transcript\"],[\"ALI WONG: BABY COBRA (2016) \\u2013 Full Transcript\"],[\"Norm Macdonald: Hitler\\u2019s Dog, Gossip & Trickery (2017) \\u2013 Transcript\"],[\"DANIEL TOSH: PEOPLE PLEASER (2016) \\u2013 FULL TRANSCRIPT\"],[\"Marc Maron: More Later (2015) \\u2013 Full Transcript\"],[\"Dylan Moran: Off The Hook (2015) \\u2013 Transcript\"],[\"Richard Pryor: Live And Smokin\\u2019 (1971) \\u2013 Transcript\"],[\"RICHARD PRYOR: \\u2026HERE AND NOW (1983) \\u2013 Full Transcript\"],[\"AMY SCHUMER: MOSTLY SEX STUFF (2012) \\u2013 Full Transcript\"],[\"Jim Jefferies: Alcoholocaust (2010) \\u2013 Transcript\"],[\"AMY SCHUMER: LIVE AT THE APOLLO (2015) \\u2013 Full Transcript\"],[\"Kevin Hart: Seriously Funny (2010) \\u2013 Transcript\"],[\"Hannibal Buress: Comedy Camisado (2016) \\u2013 Transcript\"],[\"Neal Brennan: Women And Black Dudes (2014) \\u2013 Transcript\"],[\"NICK OFFERMAN: AMERICAN HAM (2014) \\u2013 Full Transcript\"],[\"AZIZ ANSARI: INTIMATE MOMENTS FOR A SENSUAL EVENING (2010) \\u2013 Full Transcript\"],[\"BIG JAY OAKERSON: LIVE AT WEBSTER HALL (2016) \\u2013 Full Transcript\"],[\"George Carlin at USC (1977) \\u2013 Full Transcript\"],[\"Jim Norton: Mouthful Of Shame (2017) Transcript\"],[\"Michael Che Matters (2016) \\u2013 Transcript\"],[\"Joe Rogan: Triggered (2016) \\u2013 Transcript\"],[\"Trevor Noah: Lost In Translation (2015) \\u2013 Transcript\"],[\"MARIA BAMFORD: OLD BABY (2017) \\u2013 FULL TRANSCRIPT\"],[\"Bo Burnham: What (2013) \\u2013 Transcript\"],[\"Bo Burnham: Make Happy (2016) \\u2013 Transcript\"],[\"ANTHONY JESELNIK: CALIGULA (2013) \\u2013 Full Transcript\"],[\"Anthony Jeselnik: Thoughts And Prayers (2015) \\u2013 Full Transcript\"],[\"John Mulaney: The Comeback Kid (2015) \\u2013 Transcript\"],[\"BILL HICKS: REVELATIONS (1993) \\u2013 FULL TRANSCRIPT\"],[\"LEWIS BLACK: BLACK TO THE FUTURE (2016) \\u2013 Full Transcript\"],[\"DOUG STANHOPE: BEFORE TURNING THE GUN ON HIMSELF (2012) \\u2013 Transcript\"],[\"DOUG STANHOPE: DEADBEAT HERO (2004) \\u2013 Transcript\"],[\"JIM JEFFERIES: CONTRABAND (2008) \\u2013 Full Transcript\"],[\"Mike Birbiglia: Thank God for Jokes (2017) \\u2013 Transcript\"],[\"SARAH SILVERMAN: A SPECK OF DUST (2017) \\u2013 Full Transcript\"],[\"GEORGE CARLIN: PLAYING WITH YOUR HEAD (1986) \\u2013 Full Transcript\"],[\"GEORGE CARLIN: AGAIN!* (1978) \\u2013 Full Transcript\"],[\"Louis C.K.: Chewed Up (2008) \\u2013 Transcript\"],[\"Tom Segura: Completely Normal (2014) \\u2013 Transcript\"],[\"GEORGE CARLIN: CARLIN ON CAMPUS (1984) \\u2013 Full Transcript\"],[\"Louis C.K.: Live at the Beacon Theatre (2011) \\u2013 Transcript\"],[\"RICKY GERVAIS: OUT OF ENGLAND 2 (2010) \\u2013 Full Transcript\"],[\"AMY SCHUMER: THE LEATHER SPECIAL (2017) \\u2013 Full Transcript\"],[\"JIM GAFFIGAN: CINCO (2017) \\u2013 Full Transcript\"],[\"JIM JEFFERIES: I SWEAR TO GOD (2009) \\u2013 FULL TRANSCRIPT\"],[\"LOUIS C.K.: HILARIOUS (2010) \\u2013 Full Transcript\"],[\"LOUIS C.K.: SHAMELESS (2007) \\u2013 Full Transcript\"],[\"BILL BURR: I\\u2019M SORRY YOU FEEL THAT WAY (2014) \\u2013 Full Transcript\"],[\"BILL BURR: YOU PEOPLE ARE ALL THE SAME (2012) \\u2013 Full Transcript\"],[\"Dave Chappelle: For What It\\u2019s Worth (2004) \\u2013 Transcript\"],[\"Dave Chappelle: Killin\\u2019 Them Softly (2000) \\u2013 Transcript\"],[\"Eddie Griffin: You Can Tell \\u2018Em I Said It! (2011) \\u2013 Transcript\"],[\"BILL BURR: WALK YOUR WAY OUT (2017) \\u2013 Full Transcript\"],[\"LOUIS C.K.: OH MY GOD (2013) \\u2013 Full Transcript\"],[\"LOUIS C.K.: LIVE AT  THE COMEDY STORE (2015) \\u2013 Transcript\"],[\"BILL HICKS: RELENTLESS (1991) \\u2013 Transcript\"],[\"Daniel Tosh: Happy Thoughts (2011) \\u2013 Transcript\"],[\"Patrice O\\u2019Neal: Elephant in the Room (2011) \\u2013 Transcript\"],[\"Katt Williams: Live (2006) \\u2013 Transcript\"],[\"Richard Pryor: Live in Concert (1979) \\u2013 Transcript\"],[\"RICHARD PRYOR: LIVE ON THE SUNSET STRIP (1982) \\u2013 Full Transcript\"],[\"Trevor Noah: Afraid Of The Dark (2017) \\u2013 Transcript\"],[\"JIM JEFFERIES: BARE (2014) \\u2013 Full Transcript\"],[\"Dave Chappelle: Deep in the Heart of Texas (2017) \\u2013 Transcript\"],[\"Tom Segura: Mostly Stories (2016) \\u2013 Transcript\"],[\"BILL BURR: LET IT GO (2010) \\u2013 TRANSCRIPT\"],[\"JIM JEFFERIES: FREEDUMB (2016) \\u2013 Full Transcript\"],[\"Eddie Murphy: Delirious (1983) \\u2013 Transcript\"],[\"Dave Chappelle: The Age of Spin (2017) \\u2013 Transcript\"],[\"GEORGE CARLIN: BACK IN TOWN (1996) \\u2013 Full transcript\"],[\"LOUIS C.K.: 2017 \\u2013 Full transcript\"],[\"George Carlin: Jamming in New York (1992) \\u2013 Transcript\"],[\"Reggie Watts: Spatial (2016) \\u2013 Full Transcript\"],[\"GEORGE CARLIN: COMPLAINTS AND GRIEVANCES (2001) \\u2013 FULL TRANSCRIPT\"],[\"GEORGE CARLIN: LIFE IS WORTH LOSING (2006) \\u2013 Transcript\"],[\"George Carlin: It\\u2019s Bad For Ya (2008) Full transcript\"],[\"Dave Chappelle: 8:46 \\u2013 Transcript\"],[\"JIM JEFFERIES ON GUN CONTROL [FULL TRANSCRIPT]\"]],\"hovertemplate\":\"std sentence polarity=%{x}<br>description=%{customdata[0]}<extra></extra>\",\"legendgroup\":\"\",\"marker\":{\"color\":\"#636efa\"},\"name\":\"\",\"notched\":false,\"offsetgroup\":\"\",\"orientation\":\"h\",\"showlegend\":false,\"type\":\"box\",\"x\":[0.2631201315438492,0.32103669018273884,0.282668402887215,0.2830756400068587,0.24974956223577188,0.27560082291710364,0.22504052754439205,0.26213199615319777,0.26893502275510267,0.2934376697296761,0.24313001007434487,0.2398929925124868,0.2772740591341317,0.24071752159260093,0.27214159559936363,0.21621172231807032,0.22905442288540048,0.284070096059415,0.2803569061733891,0.2734297549089656,0.24079328415352716,0.24180546297151911,0.2715885620576111,0.28345831625341317,0.258808502362044,0.2791570861376914,0.26816171589289145,0.26634067682425433,0.2719370120040044,0.2696678679450599,0.24227584969667137,0.2750081242781948,0.2545201690245674,0.28951004739721614,0.31037274214493116,0.24868578891253554,0.24218882197618166,0.23167222216016195,0.29023725543499007,0.2578121254504005,0.2728110623007235,0.2884924080208635,0.28043391413612623,0.26105421020327174,0.22204557947961442,0.27713999694387687,0.27674423242258983,0.29271561098623794,0.2606591629655983,0.27886037237411976,0.30488055924064217,0.2804866126360923,0.2383552091604909,0.3123164160862185,0.3017494645108795,0.2806952429332853,0.273294536997674,0.2656000142246471,0.26359246935150343,0.27568628764139147,0.24109196188519097,0.26660347497182063,0.27304826770828355,0.2755863821481159,0.20289217056185874,0.24538822167350163,0.25178174562085254,0.307252095871393,0.2903124518835086,0.2603594926074673,0.2521753931241779,0.2613934845108788,0.2679012032987798,0.3000088375308743,0.25409063329554094,0.26245448921920866,0.27262422346054593,0.2778568434132642,0.25378534685323023,0.3006797843982508,0.2837386032071333,0.26888940952202844,0.3064566551396839,0.2729962440383667,0.2682373414019618,0.23473275278880953,0.29214244161368125,0.23601168116942206,0.28826166041127643,0.2617280197748178,0.24592530906210425,0.23259164582864453,0.21586913175706085,0.2519231171150292,0.19804685296584754,0.28946891585990775,0.23044688408885688,0.2949247197059362,0.31902773775813964,0.2676921802537223,0.2671987696221915,0.2799579428853187,0.26937778169216786,0.23758266165095782,0.22464705872958696,0.26979036153653363,0.2448853523231058,0.26456526812949005,0.27285537239369984,0.28722185900131086,0.22605687630813132,0.2270640736296667,0.1963558615012643,0.20567433905316723,0.22089284320031402,0.2583539035470495,0.2643952255240117,0.2798457640732179,0.2576037366993197,0.2510028498840662,0.24761063373464698,0.3029740058681393,0.2462474812319565,0.2734904824498204,0.2598710607322248,0.2627455444293674,0.27065460162650173,0.2969956687800873,0.23448658890334692,0.24364834368725108,0.2568519060057165,0.24045033484763956,0.285418040817957,0.28904583685792706,0.2611751172902589,0.2781539355855779,0.25575374338154294,0.2537709219917826,0.3208625743760093,0.28954390441347594,0.2800360236554598,0.23648910316913282,0.24196568885283948,0.2933040909273002,0.2480731205774676,0.2425089679878388,0.24462744024741426,0.25993126734086036,0.2903055006320212,0.25265559544518745,0.2829913375650861,0.2902289736181822,0.26990092857185627,0.2502431598607132,0.2516556734269524,0.2057135258200635,0.29616259316589694,0.26295779479421566,0.2887262834649525,0.26967427949678136,0.26710829147191223,0.27310736411703973,0.2856468238953117,0.2635173966976672,0.24906198673283483,0.26758984051680146,0.26145319919700266,0.26338404384402475,0.2524889930556257,0.25408098643551436,0.21239579886468574,0.28610057801530053,0.2162547272179321,0.24689676669207358,0.2615728714260414,0.2791188142393604,0.2763706420285368,0.26572297104447073,0.23925141708224887,0.2577843199718268,0.31028042215845736,0.2719065098871477,0.285352375615512,0.22584117807797716,0.23715012460590262,0.23781326693144647,0.2698600484367742,0.2536770704758805,0.29109670480862143,0.2554950994100397,0.27485715001700506,0.2295133257739996,0.2588528870524478,0.22858408735085398,0.2822366638011092,0.27396489632088766,0.2770078773140463,0.29843828471998324,0.27694324677889964,0.300663665093573,0.3046076029071343,0.27549406599638676,0.2526496200335574,0.27443472540442837,0.2868841594571117,0.2588296289100821,0.24726738936711254,0.26770406445485795,0.2640628261948117,0.29803625975473885,0.2830547336607004,0.23222425643675512,0.27027631372368244,0.31720136365480617,0.25416995421800553,0.308218609923701,0.27632214681337225,0.22279255189572078,0.2555870229273498,0.2788950371785649,0.2605315273896265,0.25252385350192047,0.2107557257757196,0.2513083277761244,0.22618238793595632,0.30202276081988355,0.25270962634330785,0.2606573644340692,0.2841385369001049,0.26008021423748817,0.2839483107594644,0.25496973220290675,0.3024918706689866,0.2422756514586538,0.2712181065675066,0.27461979288597604,0.2939258158734867,0.28683051464041404,0.2080176267528301,0.24549386464320663,0.2691315232919846,0.29421956302140445,0.291262692128243,0.21919416928559818,0.274016507955874,0.24967991410843823,0.30634420112647887,0.2696364610077112,0.26603667865664105,0.24274844988866023,0.2976213199370591,0.2714858960634745,0.28265673861899776,0.2644887444725711,0.27480470753579544,0.27279964216638214,0.2582989759884946,0.3258682535958862,0.3320187223545331,0.2688527276031561,0.2912156317256864,0.23240118815742958,0.2861188197885279,0.2821618736683121,0.2694588660362403,0.28569845477057687,0.25473924664303327,0.2576289302569834,0.2549274080447747,0.3015168533539184,0.25710868665722986,0.2497094360450929,0.2914569760160665,0.24024773154683782,0.2750280360293121,0.2550667212542162,0.30408754023462703,0.2877072232801079,0.32562594455516697,0.26932728885206214,0.27679987759898056,0.24717997466312921,0.2562691995592514,0.19774366132603027,0.2845220252369374,0.28072699920166977,0.268679674999631,0.3101170241406125,0.26934518811815067,0.2506678389215822,0.25728928659340444,0.24846131600795854,0.21207091579804546,0.2519732668841528,0.3132753677467003,0.2726451635290815,0.26422508628112146,0.2553635719208408,0.2947036334180845,0.2719788930307214,0.2631591319043347,0.2676804766028988,0.28484111872828316,0.3122876485497483,0.25167994098574675,0.22864389970359164,0.24060796658305397,0.26080117754662907,0.2739735858122562,0.299260552121654],\"x0\":\" \",\"xaxis\":\"x\",\"y0\":\" \",\"yaxis\":\"y\"}],                        {\"boxmode\":\"group\",\"legend\":{\"tracegroupgap\":0},\"margin\":{\"t\":60},\"template\":{\"data\":{\"bar\":[{\"error_x\":{\"color\":\"#2a3f5f\"},\"error_y\":{\"color\":\"#2a3f5f\"},\"marker\":{\"line\":{\"color\":\"#E5ECF6\",\"width\":0.5},\"pattern\":{\"fillmode\":\"overlay\",\"size\":10,\"solidity\":0.2}},\"type\":\"bar\"}],\"barpolar\":[{\"marker\":{\"line\":{\"color\":\"#E5ECF6\",\"width\":0.5},\"pattern\":{\"fillmode\":\"overlay\",\"size\":10,\"solidity\":0.2}},\"type\":\"barpolar\"}],\"carpet\":[{\"aaxis\":{\"endlinecolor\":\"#2a3f5f\",\"gridcolor\":\"white\",\"linecolor\":\"white\",\"minorgridcolor\":\"white\",\"startlinecolor\":\"#2a3f5f\"},\"baxis\":{\"endlinecolor\":\"#2a3f5f\",\"gridcolor\":\"white\",\"linecolor\":\"white\",\"minorgridcolor\":\"white\",\"startlinecolor\":\"#2a3f5f\"},\"type\":\"carpet\"}],\"choropleth\":[{\"colorbar\":{\"outlinewidth\":0,\"ticks\":\"\"},\"type\":\"choropleth\"}],\"contour\":[{\"colorbar\":{\"outlinewidth\":0,\"ticks\":\"\"},\"colorscale\":[[0.0,\"#0d0887\"],[0.1111111111111111,\"#46039f\"],[0.2222222222222222,\"#7201a8\"],[0.3333333333333333,\"#9c179e\"],[0.4444444444444444,\"#bd3786\"],[0.5555555555555556,\"#d8576b\"],[0.6666666666666666,\"#ed7953\"],[0.7777777777777778,\"#fb9f3a\"],[0.8888888888888888,\"#fdca26\"],[1.0,\"#f0f921\"]],\"type\":\"contour\"}],\"contourcarpet\":[{\"colorbar\":{\"outlinewidth\":0,\"ticks\":\"\"},\"type\":\"contourcarpet\"}],\"heatmap\":[{\"colorbar\":{\"outlinewidth\":0,\"ticks\":\"\"},\"colorscale\":[[0.0,\"#0d0887\"],[0.1111111111111111,\"#46039f\"],[0.2222222222222222,\"#7201a8\"],[0.3333333333333333,\"#9c179e\"],[0.4444444444444444,\"#bd3786\"],[0.5555555555555556,\"#d8576b\"],[0.6666666666666666,\"#ed7953\"],[0.7777777777777778,\"#fb9f3a\"],[0.8888888888888888,\"#fdca26\"],[1.0,\"#f0f921\"]],\"type\":\"heatmap\"}],\"heatmapgl\":[{\"colorbar\":{\"outlinewidth\":0,\"ticks\":\"\"},\"colorscale\":[[0.0,\"#0d0887\"],[0.1111111111111111,\"#46039f\"],[0.2222222222222222,\"#7201a8\"],[0.3333333333333333,\"#9c179e\"],[0.4444444444444444,\"#bd3786\"],[0.5555555555555556,\"#d8576b\"],[0.6666666666666666,\"#ed7953\"],[0.7777777777777778,\"#fb9f3a\"],[0.8888888888888888,\"#fdca26\"],[1.0,\"#f0f921\"]],\"type\":\"heatmapgl\"}],\"histogram\":[{\"marker\":{\"pattern\":{\"fillmode\":\"overlay\",\"size\":10,\"solidity\":0.2}},\"type\":\"histogram\"}],\"histogram2d\":[{\"colorbar\":{\"outlinewidth\":0,\"ticks\":\"\"},\"colorscale\":[[0.0,\"#0d0887\"],[0.1111111111111111,\"#46039f\"],[0.2222222222222222,\"#7201a8\"],[0.3333333333333333,\"#9c179e\"],[0.4444444444444444,\"#bd3786\"],[0.5555555555555556,\"#d8576b\"],[0.6666666666666666,\"#ed7953\"],[0.7777777777777778,\"#fb9f3a\"],[0.8888888888888888,\"#fdca26\"],[1.0,\"#f0f921\"]],\"type\":\"histogram2d\"}],\"histogram2dcontour\":[{\"colorbar\":{\"outlinewidth\":0,\"ticks\":\"\"},\"colorscale\":[[0.0,\"#0d0887\"],[0.1111111111111111,\"#46039f\"],[0.2222222222222222,\"#7201a8\"],[0.3333333333333333,\"#9c179e\"],[0.4444444444444444,\"#bd3786\"],[0.5555555555555556,\"#d8576b\"],[0.6666666666666666,\"#ed7953\"],[0.7777777777777778,\"#fb9f3a\"],[0.8888888888888888,\"#fdca26\"],[1.0,\"#f0f921\"]],\"type\":\"histogram2dcontour\"}],\"mesh3d\":[{\"colorbar\":{\"outlinewidth\":0,\"ticks\":\"\"},\"type\":\"mesh3d\"}],\"parcoords\":[{\"line\":{\"colorbar\":{\"outlinewidth\":0,\"ticks\":\"\"}},\"type\":\"parcoords\"}],\"pie\":[{\"automargin\":true,\"type\":\"pie\"}],\"scatter\":[{\"marker\":{\"colorbar\":{\"outlinewidth\":0,\"ticks\":\"\"}},\"type\":\"scatter\"}],\"scatter3d\":[{\"line\":{\"colorbar\":{\"outlinewidth\":0,\"ticks\":\"\"}},\"marker\":{\"colorbar\":{\"outlinewidth\":0,\"ticks\":\"\"}},\"type\":\"scatter3d\"}],\"scattercarpet\":[{\"marker\":{\"colorbar\":{\"outlinewidth\":0,\"ticks\":\"\"}},\"type\":\"scattercarpet\"}],\"scattergeo\":[{\"marker\":{\"colorbar\":{\"outlinewidth\":0,\"ticks\":\"\"}},\"type\":\"scattergeo\"}],\"scattergl\":[{\"marker\":{\"colorbar\":{\"outlinewidth\":0,\"ticks\":\"\"}},\"type\":\"scattergl\"}],\"scattermapbox\":[{\"marker\":{\"colorbar\":{\"outlinewidth\":0,\"ticks\":\"\"}},\"type\":\"scattermapbox\"}],\"scatterpolar\":[{\"marker\":{\"colorbar\":{\"outlinewidth\":0,\"ticks\":\"\"}},\"type\":\"scatterpolar\"}],\"scatterpolargl\":[{\"marker\":{\"colorbar\":{\"outlinewidth\":0,\"ticks\":\"\"}},\"type\":\"scatterpolargl\"}],\"scatterternary\":[{\"marker\":{\"colorbar\":{\"outlinewidth\":0,\"ticks\":\"\"}},\"type\":\"scatterternary\"}],\"surface\":[{\"colorbar\":{\"outlinewidth\":0,\"ticks\":\"\"},\"colorscale\":[[0.0,\"#0d0887\"],[0.1111111111111111,\"#46039f\"],[0.2222222222222222,\"#7201a8\"],[0.3333333333333333,\"#9c179e\"],[0.4444444444444444,\"#bd3786\"],[0.5555555555555556,\"#d8576b\"],[0.6666666666666666,\"#ed7953\"],[0.7777777777777778,\"#fb9f3a\"],[0.8888888888888888,\"#fdca26\"],[1.0,\"#f0f921\"]],\"type\":\"surface\"}],\"table\":[{\"cells\":{\"fill\":{\"color\":\"#EBF0F8\"},\"line\":{\"color\":\"white\"}},\"header\":{\"fill\":{\"color\":\"#C8D4E3\"},\"line\":{\"color\":\"white\"}},\"type\":\"table\"}]},\"layout\":{\"annotationdefaults\":{\"arrowcolor\":\"#2a3f5f\",\"arrowhead\":0,\"arrowwidth\":1},\"autotypenumbers\":\"strict\",\"coloraxis\":{\"colorbar\":{\"outlinewidth\":0,\"ticks\":\"\"}},\"colorscale\":{\"diverging\":[[0,\"#8e0152\"],[0.1,\"#c51b7d\"],[0.2,\"#de77ae\"],[0.3,\"#f1b6da\"],[0.4,\"#fde0ef\"],[0.5,\"#f7f7f7\"],[0.6,\"#e6f5d0\"],[0.7,\"#b8e186\"],[0.8,\"#7fbc41\"],[0.9,\"#4d9221\"],[1,\"#276419\"]],\"sequential\":[[0.0,\"#0d0887\"],[0.1111111111111111,\"#46039f\"],[0.2222222222222222,\"#7201a8\"],[0.3333333333333333,\"#9c179e\"],[0.4444444444444444,\"#bd3786\"],[0.5555555555555556,\"#d8576b\"],[0.6666666666666666,\"#ed7953\"],[0.7777777777777778,\"#fb9f3a\"],[0.8888888888888888,\"#fdca26\"],[1.0,\"#f0f921\"]],\"sequentialminus\":[[0.0,\"#0d0887\"],[0.1111111111111111,\"#46039f\"],[0.2222222222222222,\"#7201a8\"],[0.3333333333333333,\"#9c179e\"],[0.4444444444444444,\"#bd3786\"],[0.5555555555555556,\"#d8576b\"],[0.6666666666666666,\"#ed7953\"],[0.7777777777777778,\"#fb9f3a\"],[0.8888888888888888,\"#fdca26\"],[1.0,\"#f0f921\"]]},\"colorway\":[\"#636efa\",\"#EF553B\",\"#00cc96\",\"#ab63fa\",\"#FFA15A\",\"#19d3f3\",\"#FF6692\",\"#B6E880\",\"#FF97FF\",\"#FECB52\"],\"font\":{\"color\":\"#2a3f5f\"},\"geo\":{\"bgcolor\":\"white\",\"lakecolor\":\"white\",\"landcolor\":\"#E5ECF6\",\"showlakes\":true,\"showland\":true,\"subunitcolor\":\"white\"},\"hoverlabel\":{\"align\":\"left\"},\"hovermode\":\"closest\",\"mapbox\":{\"style\":\"light\"},\"paper_bgcolor\":\"white\",\"plot_bgcolor\":\"#E5ECF6\",\"polar\":{\"angularaxis\":{\"gridcolor\":\"white\",\"linecolor\":\"white\",\"ticks\":\"\"},\"bgcolor\":\"#E5ECF6\",\"radialaxis\":{\"gridcolor\":\"white\",\"linecolor\":\"white\",\"ticks\":\"\"}},\"scene\":{\"xaxis\":{\"backgroundcolor\":\"#E5ECF6\",\"gridcolor\":\"white\",\"gridwidth\":2,\"linecolor\":\"white\",\"showbackground\":true,\"ticks\":\"\",\"zerolinecolor\":\"white\"},\"yaxis\":{\"backgroundcolor\":\"#E5ECF6\",\"gridcolor\":\"white\",\"gridwidth\":2,\"linecolor\":\"white\",\"showbackground\":true,\"ticks\":\"\",\"zerolinecolor\":\"white\"},\"zaxis\":{\"backgroundcolor\":\"#E5ECF6\",\"gridcolor\":\"white\",\"gridwidth\":2,\"linecolor\":\"white\",\"showbackground\":true,\"ticks\":\"\",\"zerolinecolor\":\"white\"}},\"shapedefaults\":{\"line\":{\"color\":\"#2a3f5f\"}},\"ternary\":{\"aaxis\":{\"gridcolor\":\"white\",\"linecolor\":\"white\",\"ticks\":\"\"},\"baxis\":{\"gridcolor\":\"white\",\"linecolor\":\"white\",\"ticks\":\"\"},\"bgcolor\":\"#E5ECF6\",\"caxis\":{\"gridcolor\":\"white\",\"linecolor\":\"white\",\"ticks\":\"\"}},\"title\":{\"x\":0.05},\"xaxis\":{\"automargin\":true,\"gridcolor\":\"white\",\"linecolor\":\"white\",\"ticks\":\"\",\"title\":{\"standoff\":15},\"zerolinecolor\":\"white\",\"zerolinewidth\":2},\"yaxis\":{\"automargin\":true,\"gridcolor\":\"white\",\"linecolor\":\"white\",\"ticks\":\"\",\"title\":{\"standoff\":15},\"zerolinecolor\":\"white\",\"zerolinewidth\":2}}},\"xaxis\":{\"anchor\":\"y\",\"domain\":[0.0,1.0],\"title\":{\"text\":\"std sentence polarity\"}},\"yaxis\":{\"anchor\":\"x\",\"domain\":[0.0,1.0]}},                        {\"responsive\": true}                    ).then(function(){\n",
       "                            \n",
       "var gd = document.getElementById('029eedc7-2928-41d2-973c-7592d4395286');\n",
       "var x = new MutationObserver(function (mutations, observer) {{\n",
       "        var display = window.getComputedStyle(gd).display;\n",
       "        if (!display || display === 'none') {{\n",
       "            console.log([gd, 'removed!']);\n",
       "            Plotly.purge(gd);\n",
       "            observer.disconnect();\n",
       "        }}\n",
       "}});\n",
       "\n",
       "// Listen for the removal of the full notebook cells\n",
       "var notebookContainer = gd.closest('#notebook-container');\n",
       "if (notebookContainer) {{\n",
       "    x.observe(notebookContainer, {childList: true});\n",
       "}}\n",
       "\n",
       "// Listen for the clearing of the current output cell\n",
       "var outputEl = gd.closest('.output');\n",
       "if (outputEl) {{\n",
       "    x.observe(outputEl, {childList: true});\n",
       "}}\n",
       "\n",
       "                        })                };                });            </script>        </div>"
      ]
     },
     "metadata": {},
     "output_type": "display_data"
    }
   ],
   "source": [
    "px.box(metascripts, x = 'std sentence polarity', hover_data = ['description'], points = 'all')"
   ]
  },
  {
   "cell_type": "markdown",
   "metadata": {},
   "source": [
    "### show polarity-by-sentence plot"
   ]
  },
  {
   "cell_type": "code",
   "execution_count": 40,
   "metadata": {},
   "outputs": [
    {
     "data": {
      "image/png": "[encoded data removed]",
      "text/plain": [
       "<Figure size 1440x720 with 1 Axes>"
      ]
     },
     "metadata": {},
     "output_type": "display_data"
    }
   ],
   "source": [
    "from jupyterthemes import jtplot\n",
    "jtplot.style()\n",
    "\n",
    "sent_polarity_dict = dict(zip(descriptions, sent_polarity))\n",
    "\n",
    "show = 'Anthony Jeselnik: Thoughts And Prayers (2015) – Full Transcript'\n",
    "show_pols = sent_polarity_dict[show]\n",
    "\n",
    "fig, ax = plt.subplots(figsize = (20,10))\n",
    "sns.lineplot(x = range(1, len(show_pols)+1), y = show_pols, ax = ax)\n",
    "plt.title(f\"{show}: Polarity by Sentence\")\n",
    "plt.xlabel(\"sentence number\")\n",
    "plt.ylabel(\"polarity\");"
   ]
  },
  {
   "cell_type": "markdown",
   "metadata": {},
   "source": [
    "### pickle metascripts update"
   ]
  },
  {
   "cell_type": "code",
   "execution_count": 43,
   "metadata": {},
   "outputs": [],
   "source": [
    "with open(\"../data/metascripts_df_sentiment.pickle\", 'wb') as file:\n",
    "    pickle.dump(metascripts, file)"
   ]
  },
  {
   "cell_type": "markdown",
   "metadata": {},
   "source": [
    "## sentiment analysis with BERT"
   ]
  },
  {
   "cell_type": "code",
   "execution_count": null,
   "metadata": {},
   "outputs": [],
   "source": []
  },
  {
   "cell_type": "markdown",
   "metadata": {},
   "source": [
    "# playground\n",
    "[to the top](#Feature-Engineering-for-Standup-Scripts)"
   ]
  }
 ],
 "metadata": {
  "interpreter": {
   "hash": "542466b5a324f1333f512993cba41ecf153bff5c08c85763ac424cb7f020baf3"
  },
  "kernelspec": {
   "display_name": "Python 3",
   "language": "python",
   "name": "python3"
  },
  "language_info": {
   "codemirror_mode": {
    "name": "ipython",
    "version": 3
   },
   "file_extension": ".py",
   "mimetype": "text/x-python",
   "name": "python",
   "nbconvert_exporter": "python",
   "pygments_lexer": "ipython3",
   "version": "3.8.8"
  }
 },
 "nbformat": 4,
 "nbformat_minor": 2
}
