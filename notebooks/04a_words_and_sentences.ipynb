{
 "cells": [
  {
   "cell_type": "markdown",
   "id": "69e8d4ec",
   "metadata": {},
   "source": [
    "# Feature Engineering: Words & Sentences"
   ]
  },
  {
   "cell_type": "markdown",
   "id": "1b8ed747",
   "metadata": {},
   "source": [
    "## imports"
   ]
  },
  {
   "cell_type": "code",
   "execution_count": 1,
   "id": "43076759",
   "metadata": {},
   "outputs": [],
   "source": [
    "import pickle\n",
    "import numpy as np\n",
    "import pandas as pd\n",
    "from datetime import date\n",
    "import json\n",
    "from tqdm.notebook import tqdm\n",
    "\n",
    "import re\n",
    "from collections import Counter, defaultdict\n",
    "\n",
    "import nltk\n",
    "from nltk.corpus import stopwords\n",
    "from nltk.tokenize import word_tokenize, sent_tokenize, regexp_tokenize\n",
    "from nltk.stem.wordnet import WordNetLemmatizer\n",
    "import gensim\n",
    "from gensim.corpora.dictionary import Dictionary\n",
    "from gensim.models import Phrases"
   ]
  },
  {
   "cell_type": "code",
   "execution_count": 2,
   "id": "e147d2d6",
   "metadata": {},
   "outputs": [],
   "source": [
    "sw = stopwords.words(\"english\")"
   ]
  },
  {
   "cell_type": "code",
   "execution_count": 3,
   "id": "d07eb9d6",
   "metadata": {},
   "outputs": [],
   "source": [
    "transcripts_df = pd.read_pickle('../data/transcripts_raw_df.pickle')\n",
    "\n",
    "with open(f'../data/imdb_title_results_2022-05-23.pickle', 'rb') as file:\n",
    "    show_meta = pickle.load(file)\n",
    "    \n",
    "with open(f'../data/metascripts_df_2022-05-28.pickle', 'rb') as file:\n",
    "    metascripts = pickle.load(file)\n",
    "    \n",
    "with open(\"../data/profane_to_replace.pickle\", 'rb') as file:\n",
    "    to_replace = pickle.load(file)\n",
    "    \n",
    "with open(\"../data/profane_replace_with.pickle\", 'rb') as file:\n",
    "    replace_with = pickle.load(file)"
   ]
  },
  {
   "cell_type": "markdown",
   "id": "cd49cca8",
   "metadata": {},
   "source": [
    "## prepare the data"
   ]
  },
  {
   "cell_type": "code",
   "execution_count": 4,
   "id": "ff72cb9b",
   "metadata": {},
   "outputs": [],
   "source": [
    "nonenglish_shows = ['BILL BURR: WHY DO I DO THIS (2008) – Testo italiano completo',\n",
    "                   'DOUG STANHOPE: NO REFUNDS (2007) – Trascrizione italiana',\n",
    "                   'GEORGE CARLIN: JAMMING IN NEW YORK (1992) – Testo italiano completo',\n",
    "                   'GEORGE CARLIN: YOU ARE ALL DISEASED (1999) – Testo italiano completo',\n",
    "                   'GEORGE CARLIN: IT’S BAD FOR YA! (2008) – Testo italiano completo',\n",
    "                   'DAVE CHAPPELLE: THE BIRD REVELATION (2017) – Transcripción completa']"
   ]
  },
  {
   "cell_type": "code",
   "execution_count": 5,
   "id": "fe34181b",
   "metadata": {},
   "outputs": [],
   "source": [
    "metascripts = metascripts[~metascripts['description'].isin(nonenglish_shows)]"
   ]
  },
  {
   "cell_type": "code",
   "execution_count": 6,
   "id": "9861c825",
   "metadata": {},
   "outputs": [],
   "source": [
    "# Replace bracket and parenthetical content from scripts\n",
    "# Replace censored profanity with actual profanity\n",
    "metascripts['transcript'] = (metascripts['transcript']\n",
    "                                 .replace(\"\\[.+?\\]|\\(.+?\\)\",\"\", regex = True)\n",
    "                                 .replace(\"\\’|\\‘\", \"'\", regex = True)\n",
    "                                 .replace(\"\\“|\\”\", '\"', regex = True)\n",
    "                                 .replace(to_replace[0], replace_with[0], regex = True)\n",
    "                                 .replace(to_replace[1], replace_with[1], regex = True)\n",
    "                            )\n",
    "\n",
    "# Fill censored words to clean up our profanity detection\n",
    "profanity_fill = json.load(open('../data/profanity_fill.json'))\n",
    "\n",
    "for key, value in profanity_fill.items(): \n",
    "    metascripts['transcript'] = metascripts['transcript'].str.replace(key, value, regex = False)"
   ]
  },
  {
   "cell_type": "markdown",
   "id": "e7ef55b0",
   "metadata": {},
   "source": [
    "## prepare lists and dictionaries for streamlined work"
   ]
  },
  {
   "cell_type": "code",
   "execution_count": 7,
   "id": "2fbbbcc2",
   "metadata": {},
   "outputs": [],
   "source": [
    "transcripts_dict = dict(zip(metascripts['description'].values, metascripts['transcript'].values))\n",
    "descriptions = list(transcripts_dict.keys())\n",
    "scripts = list(transcripts_dict.values())"
   ]
  },
  {
   "cell_type": "markdown",
   "id": "bf43b9d5",
   "metadata": {},
   "source": [
    "## word lengths\n",
    "word lengths are calculated as letters per word\n",
    "\n",
    "   * tokenize words (allow apostrophes and dashes but not numbers)\n",
    "   * do not lemmatize\n",
    "   * do not remove stopwords"
   ]
  },
  {
   "cell_type": "code",
   "execution_count": 8,
   "id": "d6794f1f",
   "metadata": {},
   "outputs": [],
   "source": [
    "bow_cased = [regexp_tokenize(transcript, r\"[a-zA-Z]+\") for description, transcript in transcripts_dict.items()]\n",
    "bow_counter = [Counter(word.lower() for word in script_words) for script_words in bow_cased]\n",
    "\n",
    "tokenized_list = [[word.lower() for word in script_words] for script_words in bow_cased]\n",
    "dictionary = Dictionary(tokenized_list)\n",
    "corpus = [dictionary.doc2bow(script) for script in tokenized_list]"
   ]
  },
  {
   "cell_type": "code",
   "execution_count": 9,
   "id": "d712307f",
   "metadata": {},
   "outputs": [],
   "source": [
    "word_lengths = [[len(word) for word in script_words] for script_words in tokenized_list]"
   ]
  },
  {
   "cell_type": "code",
   "execution_count": 10,
   "id": "2911acbf",
   "metadata": {},
   "outputs": [],
   "source": [
    "metascripts['mean word length'] = [np.mean(script_word_lengths) for script_word_lengths in word_lengths]\n",
    "metascripts['std word length'] = [np.std(script_word_lengths) for script_word_lengths in word_lengths]\n",
    "\n",
    "for quantile in (0.25, 0.50, 0.75):\n",
    "    metascripts[f'Q{quantile/0.25} word length'] = [np.quantile(script_word_lengths, quantile) for script_word_lengths in word_lengths]\n",
    "\n",
    "metascripts['max word length'] = [np.max(script_word_lengths) for script_word_lengths in word_lengths]"
   ]
  },
  {
   "cell_type": "markdown",
   "id": "893570fc",
   "metadata": {
    "hideCode": true
   },
   "source": [
    "## sentence lengths\n",
    "sentence lengths are calculated as words per sentence\n",
    "\n",
    "   * tokenize sentences and then count whitespaces\n",
    "   * do not remove stopwords\n",
    "   * get arrays so we can do mean, median, boxplot values, standard deviation"
   ]
  },
  {
   "cell_type": "code",
   "execution_count": 11,
   "id": "0daef686",
   "metadata": {},
   "outputs": [],
   "source": [
    "sent_tokenized_list = [sent_tokenize(transcript) for description, transcript in transcripts_dict.items()]\n",
    "sent_words_tokenized_list = [[regexp_tokenize(sent, r\"['\\-\\w]+\") for sent in sent_script] for sent_script in sent_tokenized_list]\n",
    "sent_lengths = [[len(sent) for sent in script] for script in sent_words_tokenized_list]\n",
    "sent_counts = [len(script) for script in sent_tokenized_list]"
   ]
  },
  {
   "cell_type": "code",
   "execution_count": 12,
   "id": "dc7913c1",
   "metadata": {},
   "outputs": [],
   "source": [
    "metascripts['mean sentence length'] = [np.mean(script_sent_lengths) for script_sent_lengths in sent_lengths]\n",
    "metascripts['std sentence length'] = [np.std(script_sent_lengths) for script_sent_lengths in sent_lengths]\n",
    "\n",
    "for quantile in (0.25, 0.50, 0.75):\n",
    "    metascripts[f'Q{quantile/0.25} sentence length'] = [np.quantile(script_sent_lengths, quantile) for script_sent_lengths in sent_lengths]\n",
    "\n",
    "metascripts['max sentence length'] = [np.max(script_sent_lengths) for script_sent_lengths in sent_lengths]"
   ]
  },
  {
   "cell_type": "markdown",
   "id": "0a0ec18c",
   "metadata": {},
   "source": [
    "## distinct words\n",
    "count distinct words in each show and normalize by determining the proportion of distinct words and distinct words per sentence\n",
    "\n",
    "   * tokenize: allow apostrophes and dashes but not numbers \n",
    "   * lemmatize"
   ]
  },
  {
   "cell_type": "code",
   "execution_count": 13,
   "id": "851134cf",
   "metadata": {},
   "outputs": [],
   "source": [
    "from nltk.stem.wordnet import WordNetLemmatizer"
   ]
  },
  {
   "cell_type": "code",
   "execution_count": 14,
   "id": "e0ab2843",
   "metadata": {},
   "outputs": [],
   "source": [
    "lemmatizer = WordNetLemmatizer()\n",
    "lem_counter = [Counter(lemmatizer.lemmatize(word.lower()) for word in script_words) for script_words in bow_cased]"
   ]
  },
  {
   "cell_type": "code",
   "execution_count": 15,
   "id": "1b6978ed",
   "metadata": {},
   "outputs": [],
   "source": [
    "unique_word_counts = [len(script_lem_counts) for script_lem_counts in lem_counter]\n",
    "total_word_counts = [np.sum([count for lem, count in script_lem_counts.items()]) for script_lem_counts in lem_counter]\n",
    "unique_total_ratio = [unique/total for unique, total in zip(unique_word_counts, total_word_counts)]\n",
    "unique_per_sent = [unique/sent_count for unique, sent_count in zip(unique_word_counts, sent_counts)]"
   ]
  },
  {
   "cell_type": "code",
   "execution_count": 16,
   "id": "9a90de55",
   "metadata": {},
   "outputs": [],
   "source": [
    "metascripts['unique words'] = unique_word_counts\n",
    "metascripts['total words'] = total_word_counts\n",
    "metascripts['proportion unique words'] = unique_total_ratio\n",
    "metascripts['unique words per sentence'] = unique_per_sent"
   ]
  },
  {
   "cell_type": "markdown",
   "id": "7dcd4f64",
   "metadata": {},
   "source": [
    "## words per minute and sentences per minute"
   ]
  },
  {
   "cell_type": "code",
   "execution_count": 17,
   "id": "40872eaa",
   "metadata": {},
   "outputs": [],
   "source": [
    "word_tok_scripts = [regexp_tokenize(script, r\"[\\w'-]+\") for script in scripts]\n",
    "words_per_minute = [len(script_words)/minutes for script_words, minutes in zip(word_tok_scripts, metascripts['runtimeMins'].values)]\n",
    "\n",
    "sent_tok_scripts = [sent_tokenize(script) for script in scripts]\n",
    "sent_per_minute = [len(script_sentences)/minutes for script_sentences, minutes in zip(sent_tok_scripts, metascripts['runtimeMins'].values)]"
   ]
  },
  {
   "cell_type": "code",
   "execution_count": 18,
   "id": "b3986487",
   "metadata": {},
   "outputs": [],
   "source": [
    "metascripts['words per minute'] = words_per_minute\n",
    "metascripts['sentences per minute'] = sent_per_minute"
   ]
  },
  {
   "cell_type": "markdown",
   "id": "643c4acb",
   "metadata": {},
   "source": [
    "## pickle updated metascripts_df"
   ]
  },
  {
   "cell_type": "code",
   "execution_count": 20,
   "id": "72cd2f68",
   "metadata": {},
   "outputs": [],
   "source": [
    "with open(f'../data/metascript_df_ws.pickle', 'wb') as file:\n",
    "    pickle.dump(metascripts, file)"
   ]
  },
  {
   "cell_type": "markdown",
   "id": "100af7a1",
   "metadata": {},
   "source": [
    "## quick facts"
   ]
  },
  {
   "cell_type": "markdown",
   "id": "6b1f7308",
   "metadata": {},
   "source": [
    "Total Words: 3,011,640"
   ]
  },
  {
   "cell_type": "code",
   "execution_count": 22,
   "id": "cde7d58c",
   "metadata": {},
   "outputs": [
    {
     "data": {
      "text/plain": [
       "3011640"
      ]
     },
     "execution_count": 22,
     "metadata": {},
     "output_type": "execute_result"
    }
   ],
   "source": [
    "metascripts['total words'].sum()"
   ]
  },
  {
   "cell_type": "markdown",
   "id": "99cb2617",
   "metadata": {},
   "source": [
    "Unique Words: 38,783"
   ]
  },
  {
   "cell_type": "code",
   "execution_count": 24,
   "id": "93f0adf2",
   "metadata": {},
   "outputs": [
    {
     "data": {
      "text/plain": [
       "38783"
      ]
     },
     "execution_count": 24,
     "metadata": {},
     "output_type": "execute_result"
    }
   ],
   "source": [
    "len(dictionary.keys())"
   ]
  },
  {
   "cell_type": "code",
   "execution_count": 31,
   "id": "c1982e86",
   "metadata": {},
   "outputs": [
    {
     "data": {
      "application/vnd.plotly.v1+json": {
       "config": {
        "plotlyServerURL": "https://plotly.com"
       },
       "data": [
        {
         "alignmentgroup": "True",
         "boxpoints": "all",
         "customdata": [
          [
           "Jim Gaffigan: Comedy Monster (2021) | Transcript"
          ],
          [
           "Louis C. K.: Sorry (2021) | Transcript"
          ],
          [
           "Drew Michael: Drew Michael (2018) | Transcript"
          ],
          [
           "Drew Michael: Red Blue Green (2021) | Transcript"
          ],
          [
           "Mo Amer: Mohammed in Texas (2021) | Transcript"
          ],
          [
           "Dave Chappelle: The Closer (2021) | Transcript"
          ],
          [
           "Kathleen Madigan: Bothering Jesus (2016) – Transcript"
          ],
          [
           "Kathleen Madigan: Madigan Again (2013) – Transcript"
          ],
          [
           "Phil Wang: Philly Philly Wang Wang (2021) – Transcript"
          ],
          [
           "Tom Papa: You’re Doing Great! (2020) – Transcript"
          ],
          [
           "Tom Papa: Human Mule (2016) – Transcript"
          ],
          [
           "Tom Papa: Freaked Out (2013) – Transcript"
          ],
          [
           "Bo Burnham: Inside (2021) – Transcript"
          ],
          [
           "Tig Notaro: Boyish Girl Interrupted (2015) – Transcript"
          ],
          [
           "Joe List: I Hate Myself (2020) – Transcript"
          ],
          [
           "Nate Bargatze: The Greatest Average American (2021) – Transcript"
          ],
          [
           "Brian Regan: On The Rocks (2021) – Transcript"
          ],
          [
           "Doug Stanhope: Beer Hall Putsch (2013) – Transcript"
          ],
          [
           "Chris Rock Total Blackout: The Tamborine Extended Cut – Transcript"
          ],
          [
           "Sarah Cooper: Everything’s Fine (2020) – Transcript"
          ],
          [
           "Bo Burnham: Words, Words, Words (2010) – Transcript"
          ],
          [
           "Vir Das: Outside in – The Lockdown Special (2020) – Transcript"
          ],
          [
           "Larry the Cable Guy – Remain Seated (2020) – Transcript"
          ],
          [
           "Craig Ferguson: Just Being Honest (2015) – Transcript"
          ],
          [
           "Kevin Hart: Zero F**ks Given (2020) – Transcript"
          ],
          [
           "Sam Morril: I Got This (2020) – Transcript"
          ],
          [
           "RONNY CHIENG: ASIAN COMEDIAN DESTROYS AMERICA (2019) – TRANSCRIPT"
          ],
          [
           "Craig Ferguson: A Wee Bit o’ Revolution (2009) – Transcript"
          ],
          [
           "MICHAEL MCINTYRE: SHOWMAN (2020) – TRANSCRIPT"
          ],
          [
           "ROB SCHNEIDER: ASIAN MOMMA, MEXICAN KIDS (2020) – TRANSCRIPT"
          ],
          [
           "Sam Jay: 3 in the Morning (2020) – Transcript"
          ],
          [
           "Jack Whitehall: I’m Only Joking (2020) | Transcript"
          ],
          [
           "URZILA CARLSON: OVERQUALIFIED LOSER (2020) – FULL TRANSCRIPT"
          ],
          [
           "GEORGE LOPEZ: WE’LL DO IT FOR HALF (2020) – FULL TRANSCRIPT"
          ],
          [
           "JIM JEFFERIES: INTOLERANT (2020) – FULL TRANSCRIPT"
          ],
          [
           "George Carlin: Doin’ It Again (1990) – Transcript"
          ],
          [
           "ERIC ANDRE: LEGALIZE EVERYTHING (2020)"
          ],
          [
           "ROY WOOD JR.: FATHER FIGURE (2017) – FULL TRANSCRIPT"
          ],
          [
           "Mark Normand: Don’t Be Yourself (2017) – Transcript"
          ],
          [
           "Chris Gethard: Career Suicide (2017) – Transcript"
          ],
          [
           "RAMY YOUSSEF: FEELINGS (2019) – FULL TRANSCRIPT"
          ],
          [
           "KENNY SEBASTIAN DON’T BE THAT GUY (2017) – FULL TRANSCRIPT"
          ],
          [
           "BILLY CONNOLLY: HIGH HORSE TOUR LIVE (2016) – FULL TRANSCRIPT"
          ],
          [
           "Hannah Gadsby: Douglas (2020) – Transcript"
          ],
          [
           "Hasan Minhaj: Homecoming King (2017) – Transcript"
          ],
          [
           "PATTON OSWALT: I LOVE EVERYTHING (2020) – FULL TRANSCRIPT"
          ],
          [
           "RUSSELL PETERS: DEPORTED (2020) – FULL TRANSCRIPT"
          ],
          [
           "JIMMY O. YANG: GOOD DEAL (2020) – FULL TRANSCRIPT"
          ],
          [
           "JO KOY: LIGHTS OUT (2012) – FULL TRANSCRIPT"
          ],
          [
           "LEE MACK: GOING OUT LIVE (2010) – FULL TRANSCRIPT"
          ],
          [
           "LEE MACK: LIVE (2007) – FULL TRANSCRIPT"
          ],
          [
           "T.J. MILLER: NO REAL REASON (2011) – FULL TRANSCRIPT"
          ],
          [
           "Jerry Seinfeld: 23 Hours To Kill (2020) – Transcript"
          ],
          [
           "SINCERELY LOUIS CK (2020)"
          ],
          [
           "JIM NORTON: AMERICAN DEGENERATE (2013) – FULL TRANSCRIPT"
          ],
          [
           "Jim Norton: Monster Rain (2007) – Transcript"
          ],
          [
           "MARIA BAMFORD: WEAKNESS IS THE BRAND (2020) – FULL TRANSCRIPT"
          ],
          [
           "CHRIS D’ELIA: WHITE MALE. BLACK COMIC. (2013) – FULL TRANSCRIPT"
          ],
          [
           "Chris D’Elia: Man on Fire (2017) – Full Transcript"
          ],
          [
           "Tom Segura: Ball Hog (2020) – Transcript"
          ],
          [
           "Bert Kreischer: Hey Big Boy (2020) – Transcript"
          ],
          [
           "Marc Maron: End Times Fun (2020) – Full Transcript"
          ],
          [
           "PETE DAVIDSON: SMD (2016) – FULL TRANSCRIPT"
          ],
          [
           "PETE DAVIDSON: ALIVE FROM NEW YORK (2020) – FULL TRANSCRIPT"
          ],
          [
           "Amanda Seales: I Be Knowin’ (2019) – Transcript"
          ],
          [
           "Stewart Lee: Carpet Remnant World (2012) – Full Transcript"
          ],
          [
           "Stewart Lee: Content Provider (2018) – Transcript"
          ],
          [
           "Sara Pascoe: LadsLadsLads (2019) – Full Transcript"
          ],
          [
           "Dan Soder: Son of a Gary (2019) – Full Transcript"
          ],
          [
           "Jim Gaffigan: Quality Time (2019) – Full Transcript"
          ],
          [
           "Kevin Bridges: A Whole Different Story (2015) – Full Transcript"
          ],
          [
           "Kevin Bridges: The Story So Far… Live in Glasgow (2010) – Full Transcript"
          ],
          [
           "Kevin Bridges: The Story Continues (2012) – Full Transcript"
          ],
          [
           "Michelle Wolf: Joke Show (2019) – Full Transcript"
          ],
          [
           "Tiffany Haddish: Black Mitzvah (2019) – Transcript"
          ],
          [
           "Mike Birbiglia: The New One (2019) – Full Transcript"
          ],
          [
           "Iliza Shlesinger: Unveiled (2019) – Full Transcript"
          ],
          [
           "Seth Meyers: Lobby Baby (2019) – Full Transcript"
          ],
          [
           "Arsenio Hall: Smart and Classy (2019) – Transcript"
          ],
          [
           "Nikki Glaser: Bangin’ (2019) – Full Transcript"
          ],
          [
           "Bill Burr: Paper Tiger (2019) – Transcript"
          ],
          [
           "Dave Chappelle: Sticks & Stones (2019) – Transcript"
          ],
          [
           "Emily Heller: Ice Thickeners (2019) – Full Transcript"
          ],
          [
           "David Cross: Oh Come On (2019) – Full Transcript"
          ],
          [
           "Whitney Cummings: Can I Touch It? (2019) – Full Transcript"
          ],
          [
           "Aziz Ansari: Right Now (2019) – Transcript"
          ],
          [
           "Ralphie May: Filthy Animal Tour (2014) – Transcript"
          ],
          [
           "Mike Epps: Only One Mike (2019) – Full Transcript"
          ],
          [
           "Adam DeVine: Best Time of Our Lives (2019) – Full Transcript"
          ],
          [
           "Jo Koy: Live from Seattle (2017) – Full Transcript"
          ],
          [
           "Jo Koy: Comin’ in Hot (2019) – Full Transcript"
          ],
          [
           "Wanda Sykes: Not Normal (2019) – Full Transcript"
          ],
          [
           "Cedric the Entertainer: Live from the Ville (2016) – Transcript"
          ],
          [
           "Eddie Murphy: Raw (1987) – Transcript"
          ],
          [
           "Colin Quinn: The New York Story (2016) – Full Transcript"
          ],
          [
           "Demetri Martin: Live (At The Time) (2015) | Transcript"
          ],
          [
           "George Carlin: What Am I Doing in New Jersey? (1988) – Full Transcript"
          ],
          [
           "Chelsea Peretti: One of the Greats (2014) – Full Transcript"
          ],
          [
           "Anthony Jeselnik: Fire in the Maternity Ward (2019) – Transcript"
          ],
          [
           "Roy Wood Jr.: No One Loves You (2019) – Transcript"
          ],
          [
           "Robin Williams: Weapons of Self Destruction (2009) – Full Transcript"
          ],
          [
           "ROBIN WILLIAMS LIVE ON BROADWAY (2002) – FULL TRANSCRIPT"
          ],
          [
           "Jimmy Carr: The Best of Ultimate Gold Greatest Hits (2019) – Full Transcript"
          ],
          [
           "Nate Bargatze: The Tennessee Kid (2019) – Full Transcript"
          ],
          [
           "W. Kamau Bell: Private School Negro (2018) – Transcript"
          ],
          [
           "Kevin Hart: Irresponsible (2019) – Transcript"
          ],
          [
           "Nate Bargatze: Full Time Magic (2015) – Full Transcript"
          ],
          [
           "Amy Schumer: Growing (2019) – Full Transcript"
          ],
          [
           "Enissa Amani: Ehrenwort (2018) Full Transcript"
          ],
          [
           "Ken Jeong: You Complete Me, Ho (2019) – Full Transcript"
          ],
          [
           "Ray Romano: Right Here, Around the Corner (2019) – Full Transcript"
          ],
          [
           "Gabriel “Fluffy” Iglesias: One Show Fits All (2019) – Full Transcript"
          ],
          [
           "Sebastian Maniscalco: Stay Hungry (2019) – Full Transcript"
          ],
          [
           "Sebastian Maniscalco: Aren’t You Embarrassed? (2014) – Full Transcript"
          ],
          [
           "Sebastian Maniscalco: What’s Wrong with People? (2012) – Full Transcript"
          ],
          [
           "Oh, Hello On Broadway (2017) – Transcript"
          ],
          [
           "Ellen Degeneres: Relatable (2018) – Transcript"
          ],
          [
           "Pete Holmes: Dirty Clean (2018) – Full Transcript"
          ],
          [
           "Vir Das: Losing It (2018) – Full Transcript"
          ],
          [
           "Trevor Noah: Son of Patricia (2018) – Transcript"
          ],
          [
           "Jeff Foxworthy & Larry the Cable Guy: We’ve Been Thinking (2016) – Full Transcript"
          ],
          [
           "Adam Sandler: 100% Fresh (2018) – Full Transcript"
          ],
          [
           "Jeff Foxworthy: Totally Committed (1998) – Full Transcript"
          ],
          [
           "RON WHITE: IF YOU QUIT LISTENING, I’LL SHUT UP (2018) – FULL TRANSCRIPT"
          ],
          [
           "Mo Amer: The Vagabond (2018) – Full Transcript"
          ],
          [
           "Joe Mande’s Award-Winning Comedy Special (2017) – Full Transcript"
          ],
          [
           "Henry Rollins: Keep Talking, Pal (2018) – Full Transcript"
          ],
          [
           "Joe Rogan: Strange Times (2018) – Full Transcript"
          ],
          [
           "D.L. Hughley: Contrarian (2018) – Transcript"
          ],
          [
           "Iliza Shlesinger: Freezing Hot (2015) – Full Transcript"
          ],
          [
           "Iliza Shlesinger: War Paint (2013) – Transcript"
          ],
          [
           "Bert Kreischer: Secret Time (2018) – Transcript"
          ],
          [
           "Demetri Martin: The Overthinker (2018) | Transcript"
          ],
          [
           "BILL MAHER: LIVE FROM OKLAHOMA (2018) – Full Transcript"
          ],
          [
           "Rowan Atkinson Live (1992) – Transcript"
          ],
          [
           "Iliza Shlesinger: Confirmed Kills (2016) – Full Transcript"
          ],
          [
           "Iliza Shlesinger: Elder Millennial (2018) – Full Transcript"
          ],
          [
           "JIM GAFFIGAN: NOBLE APE (2018) – Full Transcript"
          ],
          [
           "Jim Norton: Contextually Inadequate (2015) – Transcript"
          ],
          [
           "Hannah Gadsby: Nanette (2018) – Transcript"
          ],
          [
           "BRAD WILLIAMS: DADDY ISSUES (2016) – Full Transcript"
          ],
          [
           "Deray Davis: How To Act Black (2017) – Transcript"
          ],
          [
           "RICKY GERVAIS: LIVE IV – SCIENCE (2010) – Full Transcript"
          ],
          [
           "JIM JEFFERIES: THIS IS ME NOW (2018) – Full transcript"
          ],
          [
           "RUSSELL PETERS: OUTSOURCED (2006) – Full Transcript"
          ],
          [
           "RUSSELL PETERS: ALMOST FAMOUS (2016) – Full Transcript"
          ],
          [
           "RON WHITE: A LITTLE UNPROFESSIONAL (2012) – Full Transcript"
          ],
          [
           "MICHAEL MCINTYRE: HELLO WEMBLEY! (2009) – Full Transcript"
          ],
          [
           "KEVIN SMITH: SILENT BUT DEADLY (2018) – Full Transcript"
          ],
          [
           "KEVIN JAMES: NEVER DON’T GIVE UP (2018) – Full Transcript"
          ],
          [
           "BRENT MORIN: I’M BRENT MORIN (2015) – Full Transcript"
          ],
          [
           "NIKKI GLASER: PERFECT (2016) – Full Transcript"
          ],
          [
           "Ali Wong: Hard Knock Wife (2018) – Transcript"
          ],
          [
           "KAVIN JAY: EVERYBODY CALM DOWN! (2018) – Full Transcript"
          ],
          [
           "John Mulaney: Kid Gorgeous At Radio City (2018) – Transcript"
          ],
          [
           "Eddie Griffin: Undeniable (2018) – Transcript"
          ],
          [
           "GREG DAVIES: YOU MAGNIFICENT BEAST (2018) – Full Transcript"
          ],
          [
           "George Carlin: You Are All Diseased (1999) – Transcript"
          ],
          [
           "Marlon Wayans: Woke-Ish (2018) – Transcript"
          ],
          [
           "RICKY GERVAIS: HUMANITY (2018) – Full Transcript"
          ],
          [
           "ADEL KARAM: LIVE FROM BEIRUT (2018) – Full Transcript"
          ],
          [
           "STEWART LEE: 90s COMEDIAN (2006) – Full Transcript"
          ],
          [
           "Mike Birbiglia: My Girlfriend’s Boyfriend (2013) – Transcript"
          ],
          [
           "DAVE ATTELL: ROAD WORK (2014) – Full Transcript"
          ],
          [
           "Eddie Izzard – Glorious (1997) – Transcript"
          ],
          [
           "Chris Rock: Bring the Pain (1996) – Transcript"
          ],
          [
           "ARI SHAFFIR: DOUBLE NEGATIVE (2017) – Full Transcript"
          ],
          [
           "Chris Rock: Tamborine (2018) – Transcript"
          ],
          [
           "FRED ARMISEN: STANDUP FOR DRUMMERS (2018) – Full Transcript"
          ],
          [
           "DANA CARVEY: STRAIGHT WHITE MALE, 60 (2016) – Full Transcript"
          ],
          [
           "EDDIE IZZARD: STRIPPED (2009) – Full Transcript"
          ],
          [
           "TODD GLASS: ACT HAPPY (2018) – Full Transcript"
          ],
          [
           "BRIAN REGAN: STANDING UP (2007) – Full Transcript"
          ],
          [
           "BRIAN REGAN: NUNCHUCKS AND FLAMETHROWERS (2017) – Full Transcript"
          ],
          [
           "Katt Williams: Great America (2018) – Transcript"
          ],
          [
           "JIMMY CARR: BEING FUNNY (2011) – Full Transcript"
          ],
          [
           "JIMMY CARR: LAUGHING AND JOKING (2013) – Full Transcript"
          ],
          [
           "Eddie Izzard: Unrepeatable (1994) | Transcript"
          ],
          [
           "D.L. Hughley: Unapologetic (2007) – Transcript"
          ],
          [
           "BRIDGET EVERETT: GYNECOLOGICAL WONDER (2015) – Full Transcript"
          ],
          [
           "Chris Rock: Never Scared (2004) – Transcript"
          ],
          [
           "Stewart Lee: Stand-Up Comedian (2005) – Transcript"
          ],
          [
           "JIMMY CARR: FUNNY BUSINESS (2016) – Full Transcript"
          ],
          [
           "Eddie Izzard: Dress To Kill (1999) – Transcript"
          ],
          [
           "Chris Tucker: Live (2015) – Transcript"
          ],
          [
           "Kevin Hart: What Now (2016) – Transcript"
          ],
          [
           "Kevin Hart: Let Me Explain (2013) – Transcript"
          ],
          [
           "Tom Segura: Disgraceful (2018) – Transcript"
          ],
          [
           "MICHELLE WOLF: NICE LADY (2017) – Full Transcript"
          ],
          [
           "FAHIM ANWAR: THERE’S NO BUSINESS LIKE SHOW BUSINESS (2017) – Transcript"
          ],
          [
           "ELLEN DEGENERES: THE BEGINNING (2000) – Full Transcript"
          ],
          [
           "MAZ JOBRANI: IMMIGRANT (2017) – Full Transcript"
          ],
          [
           "TODD BARRY: SPICY HONEY (2017) – Full Transcript"
          ],
          [
           "Jerry Seinfeld: I’m Telling You for the Last Time (1998) – Transcript"
          ],
          [
           "Craig Ferguson: Does This Need To Be Said? (2011) – Transcript"
          ],
          [
           "Dave Chappelle: The Bird Revelation (2017) – Transcript"
          ],
          [
           "Dave Chappelle: Equanimity (2017) – Transcript"
          ],
          [
           "CRAIG FERGUSON: I’M HERE TO HELP (2013) – Full Transcript"
          ],
          [
           "RUSSELL HOWARD: RECALIBRATE (2017) – Full Transcript"
          ],
          [
           "WHITNEY CUMMINGS: I LOVE YOU (2014) – Full Transcript"
          ],
          [
           "WHITNEY CUMMINGS: I’M YOUR GIRLFRIEND (2016) – Full Transcript"
          ],
          [
           "SARAH MILLICAN: CHATTERBOX LIVE (2011) – Full Transcript"
          ],
          [
           "Anjelah Johnson: Not Fancy (2015) – Transcript"
          ],
          [
           "RICKY GERVAIS LIVE 2: POLITICS (2004) – Full Transcript"
          ],
          [
           "Russell Howard Live: Dingledodies (2009) – Full Transcript"
          ],
          [
           "CHRISTINA PAZSITZKY: MOTHER INFERIOR (2017) – FULL TRANSCRIPT"
          ],
          [
           "Jack Whitehall: At Large (2017) – Transcript"
          ],
          [
           "CRISTELA ALONZO: LOWER CLASSY (2017) – Full Transcript"
          ],
          [
           "JUDAH FRIEDLANDER: AMERICA IS THE GREATEST COUNTRY IN THE UNITED STATES (2017) – Full Transcript"
          ],
          [
           "AZIZ ANSARI: LIVE IN MADISON SQUARE GARDEN (2015) – Full Transcript"
          ],
          [
           "AZIZ ANSARI: BURIED ALIVE (2013) – Full Transcript"
          ],
          [
           "Paul Mooney: A Piece of My Mind – Godbless America (2014) – Transcript"
          ],
          [
           "PATTON OSWALT: ANNIHILATION (2017) – Full Transcript"
          ],
          [
           "Chris Rock: Kill The Messenger – London, New York, Johannesburg (2008) – Transcript"
          ],
          [
           "BILL MAHER: LIVE FROM D.C. (2014) – Full Transcript"
          ],
          [
           "Sarah Silverman: Jesus Is Magic (2005) – Transcript"
          ],
          [
           "SARAH SILVERMAN: WE ARE MIRACLES (2013) – Full Transcript"
          ],
          [
           "Pablo Francisco: Ouch! Live From San Jose (2006) – Full Transcript"
          ],
          [
           "BILL MAHER… BUT I’M NOT WRONG (2010) – Full Transcript"
          ],
          [
           "RUSSELL BRAND: MESSIAH COMPLEX (2013) – Full Transcript"
          ],
          [
           "Chris Rock: Bigger & Blacker (1999) – Transcript"
          ],
          [
           "Gabriel Iglesias: Hot And Fluffy (2007) – Transcript"
          ],
          [
           "GABRIEL IGLESIAS: I’M NOT FAT … I’M FLUFFY (2009) – Full Transcript"
          ],
          [
           "GABRIEL IGLESIAS: I’M SORRY FOR WHAT I SAID WHEN I WAS HUNGRY (2016) – Full Transcript"
          ],
          [
           "RORY SCOVEL TRIES STAND-UP FOR THE FIRST TIME (2017) – Full Transcript"
          ],
          [
           "LISA LAMPANELLI: BACK TO THE DRAWING BOARD (2015) – Full Transcript"
          ],
          [
           "ERIK GRIFFIN: THE UGLY TRUTH (2017) – Full Transcript"
          ],
          [
           "JEN KIRKMAN: JUST KEEP LIVIN’? (2017) – Full Transcript"
          ],
          [
           "DANIEL TOSH: COMPLETELY SERIOUS (2007) – Full Transcript"
          ],
          [
           "AL MADRIGAL: WHY IS THE RABBIT CRYING? (2013) – Full Transcript"
          ],
          [
           "NEAL BRENNAN: 3 MICS (2017)- FULL TRANSCRIPT"
          ],
          [
           "John Mulaney: New In Town (2012) – Transcript"
          ],
          [
           "Donald Glover: Weirdo (2012) – Transcript"
          ],
          [
           "ALI WONG: BABY COBRA (2016) – Full Transcript"
          ],
          [
           "Norm Macdonald: Hitler’s Dog, Gossip & Trickery (2017) – Transcript"
          ],
          [
           "DANIEL TOSH: PEOPLE PLEASER (2016) – FULL TRANSCRIPT"
          ],
          [
           "Marc Maron: More Later (2015) – Full Transcript"
          ],
          [
           "Dylan Moran: Off The Hook (2015) – Transcript"
          ],
          [
           "Richard Pryor: Live And Smokin’ (1971) – Transcript"
          ],
          [
           "RICHARD PRYOR: …HERE AND NOW (1983) – Full Transcript"
          ],
          [
           "AMY SCHUMER: MOSTLY SEX STUFF (2012) – Full Transcript"
          ],
          [
           "Jim Jefferies: Alcoholocaust (2010) – Transcript"
          ],
          [
           "AMY SCHUMER: LIVE AT THE APOLLO (2015) – Full Transcript"
          ],
          [
           "Kevin Hart: Seriously Funny (2010) – Transcript"
          ],
          [
           "Hannibal Buress: Comedy Camisado (2016) – Transcript"
          ],
          [
           "Neal Brennan: Women And Black Dudes (2014) – Transcript"
          ],
          [
           "NICK OFFERMAN: AMERICAN HAM (2014) – Full Transcript"
          ],
          [
           "AZIZ ANSARI: INTIMATE MOMENTS FOR A SENSUAL EVENING (2010) – Full Transcript"
          ],
          [
           "BIG JAY OAKERSON: LIVE AT WEBSTER HALL (2016) – Full Transcript"
          ],
          [
           "George Carlin at USC (1977) – Full Transcript"
          ],
          [
           "Jim Norton: Mouthful Of Shame (2017) Transcript"
          ],
          [
           "Michael Che Matters (2016) – Transcript"
          ],
          [
           "Joe Rogan: Triggered (2016) – Transcript"
          ],
          [
           "Trevor Noah: Lost In Translation (2015) – Transcript"
          ],
          [
           "MARIA BAMFORD: OLD BABY (2017) – FULL TRANSCRIPT"
          ],
          [
           "Bo Burnham: What (2013) – Transcript"
          ],
          [
           "Bo Burnham: Make Happy (2016) – Transcript"
          ],
          [
           "ANTHONY JESELNIK: CALIGULA (2013) – Full Transcript"
          ],
          [
           "Anthony Jeselnik: Thoughts And Prayers (2015) – Full Transcript"
          ],
          [
           "John Mulaney: The Comeback Kid (2015) – Transcript"
          ],
          [
           "BILL HICKS: REVELATIONS (1993) – FULL TRANSCRIPT"
          ],
          [
           "LEWIS BLACK: BLACK TO THE FUTURE (2016) – Full Transcript"
          ],
          [
           "DOUG STANHOPE: BEFORE TURNING THE GUN ON HIMSELF (2012) – Transcript"
          ],
          [
           "DOUG STANHOPE: DEADBEAT HERO (2004) – Transcript"
          ],
          [
           "JIM JEFFERIES: CONTRABAND (2008) – Full Transcript"
          ],
          [
           "Mike Birbiglia: Thank God for Jokes (2017) – Transcript"
          ],
          [
           "SARAH SILVERMAN: A SPECK OF DUST (2017) – Full Transcript"
          ],
          [
           "GEORGE CARLIN: PLAYING WITH YOUR HEAD (1986) – Full Transcript"
          ],
          [
           "GEORGE CARLIN: AGAIN!* (1978) – Full Transcript"
          ],
          [
           "Louis C.K.: Chewed Up (2008) – Transcript"
          ],
          [
           "Tom Segura: Completely Normal (2014) – Transcript"
          ],
          [
           "GEORGE CARLIN: CARLIN ON CAMPUS (1984) – Full Transcript"
          ],
          [
           "Louis C.K.: Live at the Beacon Theatre (2011) – Transcript"
          ],
          [
           "RICKY GERVAIS: OUT OF ENGLAND 2 (2010) – Full Transcript"
          ],
          [
           "AMY SCHUMER: THE LEATHER SPECIAL (2017) – Full Transcript"
          ],
          [
           "JIM GAFFIGAN: CINCO (2017) – Full Transcript"
          ],
          [
           "JIM JEFFERIES: I SWEAR TO GOD (2009) – FULL TRANSCRIPT"
          ],
          [
           "LOUIS C.K.: HILARIOUS (2010) – Full Transcript"
          ],
          [
           "LOUIS C.K.: SHAMELESS (2007) – Full Transcript"
          ],
          [
           "BILL BURR: I’M SORRY YOU FEEL THAT WAY (2014) – Full Transcript"
          ],
          [
           "BILL BURR: YOU PEOPLE ARE ALL THE SAME (2012) – Full Transcript"
          ],
          [
           "Dave Chappelle: For What It’s Worth (2004) – Transcript"
          ],
          [
           "Dave Chappelle: Killin’ Them Softly (2000) – Transcript"
          ],
          [
           "Eddie Griffin: You Can Tell ‘Em I Said It! (2011) – Transcript"
          ],
          [
           "BILL BURR: WALK YOUR WAY OUT (2017) – Full Transcript"
          ],
          [
           "LOUIS C.K.: OH MY GOD (2013) – Full Transcript"
          ],
          [
           "LOUIS C.K.: LIVE AT  THE COMEDY STORE (2015) – Transcript"
          ],
          [
           "BILL HICKS: RELENTLESS (1991) – Transcript"
          ],
          [
           "Daniel Tosh: Happy Thoughts (2011) – Transcript"
          ],
          [
           "Patrice O’Neal: Elephant in the Room (2011) – Transcript"
          ],
          [
           "Katt Williams: Live (2006) – Transcript"
          ],
          [
           "Richard Pryor: Live in Concert (1979) – Transcript"
          ],
          [
           "RICHARD PRYOR: LIVE ON THE SUNSET STRIP (1982) – Full Transcript"
          ],
          [
           "Trevor Noah: Afraid Of The Dark (2017) – Transcript"
          ],
          [
           "JIM JEFFERIES: BARE (2014) – Full Transcript"
          ],
          [
           "Dave Chappelle: Deep in the Heart of Texas (2017) – Transcript"
          ],
          [
           "Tom Segura: Mostly Stories (2016) – Transcript"
          ],
          [
           "BILL BURR: LET IT GO (2010) – TRANSCRIPT"
          ],
          [
           "JIM JEFFERIES: FREEDUMB (2016) – Full Transcript"
          ],
          [
           "Eddie Murphy: Delirious (1983) – Transcript"
          ],
          [
           "Dave Chappelle: The Age of Spin (2017) – Transcript"
          ],
          [
           "GEORGE CARLIN: BACK IN TOWN (1996) – Full transcript"
          ],
          [
           "LOUIS C.K.: 2017 – Full transcript"
          ],
          [
           "George Carlin: Jamming in New York (1992) – Transcript"
          ],
          [
           "Reggie Watts: Spatial (2016) – Full Transcript"
          ],
          [
           "GEORGE CARLIN: COMPLAINTS AND GRIEVANCES (2001) – FULL TRANSCRIPT"
          ],
          [
           "GEORGE CARLIN: LIFE IS WORTH LOSING (2006) – Transcript"
          ],
          [
           "George Carlin: It’s Bad For Ya (2008) Full transcript"
          ],
          [
           "Dave Chappelle: 8:46 – Transcript"
          ],
          [
           "JIM JEFFERIES ON GUN CONTROL [FULL TRANSCRIPT]"
          ]
         ],
         "hovertemplate": "total words=%{x}<br>description=%{customdata[0]}<extra></extra>",
         "legendgroup": "",
         "marker": {
          "color": "#636efa"
         },
         "name": "",
         "notched": false,
         "offsetgroup": "",
         "orientation": "h",
         "showlegend": false,
         "type": "box",
         "x": [
          9771,
          8787,
          8259,
          9183,
          10091,
          9984,
          11379,
          10203,
          8372,
          9337,
          9804,
          9127,
          8211,
          4870,
          11156,
          11833,
          6245,
          9566,
          12109,
          7183,
          8155,
          7917,
          10613,
          12105,
          12133,
          9013,
          9242,
          11389,
          10304,
          6180,
          11650,
          8437,
          9532,
          6782,
          9554,
          8550,
          7038,
          6593,
          9050,
          15383,
          8062,
          7417,
          13108,
          11615,
          10981,
          9073,
          11891,
          9029,
          6269,
          9258,
          12466,
          9586,
          8500,
          8781,
          8586,
          8258,
          8967,
          9722,
          11482,
          10159,
          9347,
          11869,
          8077,
          9015,
          5277,
          15438,
          17047,
          5428,
          9908,
          11235,
          8681,
          8996,
          9895,
          8402,
          7785,
          11431,
          11134,
          9523,
          9206,
          11593,
          11761,
          8515,
          8319,
          11083,
          9778,
          10111,
          11867,
          8549,
          8861,
          8643,
          8142,
          7057,
          8501,
          15193,
          11217,
          8740,
          7468,
          11186,
          5699,
          9221,
          14745,
          11947,
          8882,
          10845,
          10558,
          11315,
          7830,
          6946,
          10812,
          9266,
          8616,
          11722,
          7716,
          7136,
          8818,
          12678,
          9311,
          7619,
          8179,
          11113,
          11888,
          10182,
          7909,
          8465,
          9313,
          11027,
          9727,
          9704,
          7734,
          12008,
          13096,
          8372,
          8632,
          7927,
          3705,
          11837,
          10755,
          10587,
          9226,
          9150,
          11288,
          10144,
          13624,
          9601,
          10737,
          9778,
          10375,
          14678,
          11900,
          9589,
          11934,
          12359,
          6778,
          7320,
          9358,
          8913,
          9243,
          9434,
          9577,
          11308,
          7018,
          10905,
          12095,
          6606,
          12590,
          8570,
          15171,
          7565,
          7609,
          8093,
          15024,
          10047,
          5043,
          7107,
          8098,
          14151,
          15114,
          11801,
          8480,
          4729,
          12383,
          11522,
          10169,
          14260,
          13215,
          12730,
          13050,
          10534,
          8395,
          5996,
          8180,
          10208,
          8092,
          9206,
          9955,
          6966,
          8672,
          12675,
          10373,
          8318,
          9450,
          17291,
          7601,
          9494,
          13057,
          6850,
          9583,
          7559,
          11086,
          10778,
          13407,
          11429,
          9773,
          11000,
          8188,
          7346,
          6121,
          6922,
          10334,
          13045,
          8487,
          12394,
          10542,
          13458,
          8892,
          8448,
          7628,
          13369,
          9395,
          10572,
          9563,
          10112,
          11184,
          7795,
          8059,
          10338,
          12283,
          12850,
          5990,
          11436,
          8912,
          8590,
          8489,
          13496,
          10706,
          8671,
          9559,
          10163,
          10585,
          11115,
          10268,
          8276,
          10575,
          10280,
          8479,
          6942,
          7437,
          5920,
          7017,
          9718,
          8518,
          5266,
          9537,
          11645,
          10969,
          9114,
          9514,
          8290,
          11871,
          8407,
          12620,
          8357,
          9096,
          11888,
          6842,
          10537,
          8146,
          12617,
          9939,
          12832,
          13001,
          8405,
          8024,
          8156,
          13496,
          7984,
          9290,
          7291,
          6303,
          10712,
          12108,
          10318,
          9884,
          10331,
          11572,
          10109,
          10554,
          8361,
          11657,
          8415,
          9507,
          8730,
          8859,
          8677,
          4354,
          8531,
          12716,
          10501,
          3575,
          2458
         ],
         "x0": " ",
         "xaxis": "x",
         "y0": " ",
         "yaxis": "y"
        }
       ],
       "layout": {
        "boxmode": "group",
        "legend": {
         "tracegroupgap": 0
        },
        "margin": {
         "t": 60
        },
        "template": {
         "data": {
          "bar": [
           {
            "error_x": {
             "color": "#2a3f5f"
            },
            "error_y": {
             "color": "#2a3f5f"
            },
            "marker": {
             "line": {
              "color": "#E5ECF6",
              "width": 0.5
             },
             "pattern": {
              "fillmode": "overlay",
              "size": 10,
              "solidity": 0.2
             }
            },
            "type": "bar"
           }
          ],
          "barpolar": [
           {
            "marker": {
             "line": {
              "color": "#E5ECF6",
              "width": 0.5
             },
             "pattern": {
              "fillmode": "overlay",
              "size": 10,
              "solidity": 0.2
             }
            },
            "type": "barpolar"
           }
          ],
          "carpet": [
           {
            "aaxis": {
             "endlinecolor": "#2a3f5f",
             "gridcolor": "white",
             "linecolor": "white",
             "minorgridcolor": "white",
             "startlinecolor": "#2a3f5f"
            },
            "baxis": {
             "endlinecolor": "#2a3f5f",
             "gridcolor": "white",
             "linecolor": "white",
             "minorgridcolor": "white",
             "startlinecolor": "#2a3f5f"
            },
            "type": "carpet"
           }
          ],
          "choropleth": [
           {
            "colorbar": {
             "outlinewidth": 0,
             "ticks": ""
            },
            "type": "choropleth"
           }
          ],
          "contour": [
           {
            "colorbar": {
             "outlinewidth": 0,
             "ticks": ""
            },
            "colorscale": [
             [
              0,
              "#0d0887"
             ],
             [
              0.1111111111111111,
              "#46039f"
             ],
             [
              0.2222222222222222,
              "#7201a8"
             ],
             [
              0.3333333333333333,
              "#9c179e"
             ],
             [
              0.4444444444444444,
              "#bd3786"
             ],
             [
              0.5555555555555556,
              "#d8576b"
             ],
             [
              0.6666666666666666,
              "#ed7953"
             ],
             [
              0.7777777777777778,
              "#fb9f3a"
             ],
             [
              0.8888888888888888,
              "#fdca26"
             ],
             [
              1,
              "#f0f921"
             ]
            ],
            "type": "contour"
           }
          ],
          "contourcarpet": [
           {
            "colorbar": {
             "outlinewidth": 0,
             "ticks": ""
            },
            "type": "contourcarpet"
           }
          ],
          "heatmap": [
           {
            "colorbar": {
             "outlinewidth": 0,
             "ticks": ""
            },
            "colorscale": [
             [
              0,
              "#0d0887"
             ],
             [
              0.1111111111111111,
              "#46039f"
             ],
             [
              0.2222222222222222,
              "#7201a8"
             ],
             [
              0.3333333333333333,
              "#9c179e"
             ],
             [
              0.4444444444444444,
              "#bd3786"
             ],
             [
              0.5555555555555556,
              "#d8576b"
             ],
             [
              0.6666666666666666,
              "#ed7953"
             ],
             [
              0.7777777777777778,
              "#fb9f3a"
             ],
             [
              0.8888888888888888,
              "#fdca26"
             ],
             [
              1,
              "#f0f921"
             ]
            ],
            "type": "heatmap"
           }
          ],
          "heatmapgl": [
           {
            "colorbar": {
             "outlinewidth": 0,
             "ticks": ""
            },
            "colorscale": [
             [
              0,
              "#0d0887"
             ],
             [
              0.1111111111111111,
              "#46039f"
             ],
             [
              0.2222222222222222,
              "#7201a8"
             ],
             [
              0.3333333333333333,
              "#9c179e"
             ],
             [
              0.4444444444444444,
              "#bd3786"
             ],
             [
              0.5555555555555556,
              "#d8576b"
             ],
             [
              0.6666666666666666,
              "#ed7953"
             ],
             [
              0.7777777777777778,
              "#fb9f3a"
             ],
             [
              0.8888888888888888,
              "#fdca26"
             ],
             [
              1,
              "#f0f921"
             ]
            ],
            "type": "heatmapgl"
           }
          ],
          "histogram": [
           {
            "marker": {
             "pattern": {
              "fillmode": "overlay",
              "size": 10,
              "solidity": 0.2
             }
            },
            "type": "histogram"
           }
          ],
          "histogram2d": [
           {
            "colorbar": {
             "outlinewidth": 0,
             "ticks": ""
            },
            "colorscale": [
             [
              0,
              "#0d0887"
             ],
             [
              0.1111111111111111,
              "#46039f"
             ],
             [
              0.2222222222222222,
              "#7201a8"
             ],
             [
              0.3333333333333333,
              "#9c179e"
             ],
             [
              0.4444444444444444,
              "#bd3786"
             ],
             [
              0.5555555555555556,
              "#d8576b"
             ],
             [
              0.6666666666666666,
              "#ed7953"
             ],
             [
              0.7777777777777778,
              "#fb9f3a"
             ],
             [
              0.8888888888888888,
              "#fdca26"
             ],
             [
              1,
              "#f0f921"
             ]
            ],
            "type": "histogram2d"
           }
          ],
          "histogram2dcontour": [
           {
            "colorbar": {
             "outlinewidth": 0,
             "ticks": ""
            },
            "colorscale": [
             [
              0,
              "#0d0887"
             ],
             [
              0.1111111111111111,
              "#46039f"
             ],
             [
              0.2222222222222222,
              "#7201a8"
             ],
             [
              0.3333333333333333,
              "#9c179e"
             ],
             [
              0.4444444444444444,
              "#bd3786"
             ],
             [
              0.5555555555555556,
              "#d8576b"
             ],
             [
              0.6666666666666666,
              "#ed7953"
             ],
             [
              0.7777777777777778,
              "#fb9f3a"
             ],
             [
              0.8888888888888888,
              "#fdca26"
             ],
             [
              1,
              "#f0f921"
             ]
            ],
            "type": "histogram2dcontour"
           }
          ],
          "mesh3d": [
           {
            "colorbar": {
             "outlinewidth": 0,
             "ticks": ""
            },
            "type": "mesh3d"
           }
          ],
          "parcoords": [
           {
            "line": {
             "colorbar": {
              "outlinewidth": 0,
              "ticks": ""
             }
            },
            "type": "parcoords"
           }
          ],
          "pie": [
           {
            "automargin": true,
            "type": "pie"
           }
          ],
          "scatter": [
           {
            "marker": {
             "colorbar": {
              "outlinewidth": 0,
              "ticks": ""
             }
            },
            "type": "scatter"
           }
          ],
          "scatter3d": [
           {
            "line": {
             "colorbar": {
              "outlinewidth": 0,
              "ticks": ""
             }
            },
            "marker": {
             "colorbar": {
              "outlinewidth": 0,
              "ticks": ""
             }
            },
            "type": "scatter3d"
           }
          ],
          "scattercarpet": [
           {
            "marker": {
             "colorbar": {
              "outlinewidth": 0,
              "ticks": ""
             }
            },
            "type": "scattercarpet"
           }
          ],
          "scattergeo": [
           {
            "marker": {
             "colorbar": {
              "outlinewidth": 0,
              "ticks": ""
             }
            },
            "type": "scattergeo"
           }
          ],
          "scattergl": [
           {
            "marker": {
             "colorbar": {
              "outlinewidth": 0,
              "ticks": ""
             }
            },
            "type": "scattergl"
           }
          ],
          "scattermapbox": [
           {
            "marker": {
             "colorbar": {
              "outlinewidth": 0,
              "ticks": ""
             }
            },
            "type": "scattermapbox"
           }
          ],
          "scatterpolar": [
           {
            "marker": {
             "colorbar": {
              "outlinewidth": 0,
              "ticks": ""
             }
            },
            "type": "scatterpolar"
           }
          ],
          "scatterpolargl": [
           {
            "marker": {
             "colorbar": {
              "outlinewidth": 0,
              "ticks": ""
             }
            },
            "type": "scatterpolargl"
           }
          ],
          "scatterternary": [
           {
            "marker": {
             "colorbar": {
              "outlinewidth": 0,
              "ticks": ""
             }
            },
            "type": "scatterternary"
           }
          ],
          "surface": [
           {
            "colorbar": {
             "outlinewidth": 0,
             "ticks": ""
            },
            "colorscale": [
             [
              0,
              "#0d0887"
             ],
             [
              0.1111111111111111,
              "#46039f"
             ],
             [
              0.2222222222222222,
              "#7201a8"
             ],
             [
              0.3333333333333333,
              "#9c179e"
             ],
             [
              0.4444444444444444,
              "#bd3786"
             ],
             [
              0.5555555555555556,
              "#d8576b"
             ],
             [
              0.6666666666666666,
              "#ed7953"
             ],
             [
              0.7777777777777778,
              "#fb9f3a"
             ],
             [
              0.8888888888888888,
              "#fdca26"
             ],
             [
              1,
              "#f0f921"
             ]
            ],
            "type": "surface"
           }
          ],
          "table": [
           {
            "cells": {
             "fill": {
              "color": "#EBF0F8"
             },
             "line": {
              "color": "white"
             }
            },
            "header": {
             "fill": {
              "color": "#C8D4E3"
             },
             "line": {
              "color": "white"
             }
            },
            "type": "table"
           }
          ]
         },
         "layout": {
          "annotationdefaults": {
           "arrowcolor": "#2a3f5f",
           "arrowhead": 0,
           "arrowwidth": 1
          },
          "autotypenumbers": "strict",
          "coloraxis": {
           "colorbar": {
            "outlinewidth": 0,
            "ticks": ""
           }
          },
          "colorscale": {
           "diverging": [
            [
             0,
             "#8e0152"
            ],
            [
             0.1,
             "#c51b7d"
            ],
            [
             0.2,
             "#de77ae"
            ],
            [
             0.3,
             "#f1b6da"
            ],
            [
             0.4,
             "#fde0ef"
            ],
            [
             0.5,
             "#f7f7f7"
            ],
            [
             0.6,
             "#e6f5d0"
            ],
            [
             0.7,
             "#b8e186"
            ],
            [
             0.8,
             "#7fbc41"
            ],
            [
             0.9,
             "#4d9221"
            ],
            [
             1,
             "#276419"
            ]
           ],
           "sequential": [
            [
             0,
             "#0d0887"
            ],
            [
             0.1111111111111111,
             "#46039f"
            ],
            [
             0.2222222222222222,
             "#7201a8"
            ],
            [
             0.3333333333333333,
             "#9c179e"
            ],
            [
             0.4444444444444444,
             "#bd3786"
            ],
            [
             0.5555555555555556,
             "#d8576b"
            ],
            [
             0.6666666666666666,
             "#ed7953"
            ],
            [
             0.7777777777777778,
             "#fb9f3a"
            ],
            [
             0.8888888888888888,
             "#fdca26"
            ],
            [
             1,
             "#f0f921"
            ]
           ],
           "sequentialminus": [
            [
             0,
             "#0d0887"
            ],
            [
             0.1111111111111111,
             "#46039f"
            ],
            [
             0.2222222222222222,
             "#7201a8"
            ],
            [
             0.3333333333333333,
             "#9c179e"
            ],
            [
             0.4444444444444444,
             "#bd3786"
            ],
            [
             0.5555555555555556,
             "#d8576b"
            ],
            [
             0.6666666666666666,
             "#ed7953"
            ],
            [
             0.7777777777777778,
             "#fb9f3a"
            ],
            [
             0.8888888888888888,
             "#fdca26"
            ],
            [
             1,
             "#f0f921"
            ]
           ]
          },
          "colorway": [
           "#636efa",
           "#EF553B",
           "#00cc96",
           "#ab63fa",
           "#FFA15A",
           "#19d3f3",
           "#FF6692",
           "#B6E880",
           "#FF97FF",
           "#FECB52"
          ],
          "font": {
           "color": "#2a3f5f"
          },
          "geo": {
           "bgcolor": "white",
           "lakecolor": "white",
           "landcolor": "#E5ECF6",
           "showlakes": true,
           "showland": true,
           "subunitcolor": "white"
          },
          "hoverlabel": {
           "align": "left"
          },
          "hovermode": "closest",
          "mapbox": {
           "style": "light"
          },
          "paper_bgcolor": "white",
          "plot_bgcolor": "#E5ECF6",
          "polar": {
           "angularaxis": {
            "gridcolor": "white",
            "linecolor": "white",
            "ticks": ""
           },
           "bgcolor": "#E5ECF6",
           "radialaxis": {
            "gridcolor": "white",
            "linecolor": "white",
            "ticks": ""
           }
          },
          "scene": {
           "xaxis": {
            "backgroundcolor": "#E5ECF6",
            "gridcolor": "white",
            "gridwidth": 2,
            "linecolor": "white",
            "showbackground": true,
            "ticks": "",
            "zerolinecolor": "white"
           },
           "yaxis": {
            "backgroundcolor": "#E5ECF6",
            "gridcolor": "white",
            "gridwidth": 2,
            "linecolor": "white",
            "showbackground": true,
            "ticks": "",
            "zerolinecolor": "white"
           },
           "zaxis": {
            "backgroundcolor": "#E5ECF6",
            "gridcolor": "white",
            "gridwidth": 2,
            "linecolor": "white",
            "showbackground": true,
            "ticks": "",
            "zerolinecolor": "white"
           }
          },
          "shapedefaults": {
           "line": {
            "color": "#2a3f5f"
           }
          },
          "ternary": {
           "aaxis": {
            "gridcolor": "white",
            "linecolor": "white",
            "ticks": ""
           },
           "baxis": {
            "gridcolor": "white",
            "linecolor": "white",
            "ticks": ""
           },
           "bgcolor": "#E5ECF6",
           "caxis": {
            "gridcolor": "white",
            "linecolor": "white",
            "ticks": ""
           }
          },
          "title": {
           "x": 0.05
          },
          "xaxis": {
           "automargin": true,
           "gridcolor": "white",
           "linecolor": "white",
           "ticks": "",
           "title": {
            "standoff": 15
           },
           "zerolinecolor": "white",
           "zerolinewidth": 2
          },
          "yaxis": {
           "automargin": true,
           "gridcolor": "white",
           "linecolor": "white",
           "ticks": "",
           "title": {
            "standoff": 15
           },
           "zerolinecolor": "white",
           "zerolinewidth": 2
          }
         }
        },
        "xaxis": {
         "anchor": "y",
         "domain": [
          0,
          1
         ],
         "title": {
          "text": "total words"
         }
        },
        "yaxis": {
         "anchor": "x",
         "domain": [
          0,
          1
         ]
        }
       }
      },
      "text/html": [
       "<div>                            <div id=\"c17c50f2-27ab-4fc2-a083-efbac60575ba\" class=\"plotly-graph-div\" style=\"height:525px; width:100%;\"></div>            <script type=\"text/javascript\">                require([\"plotly\"], function(Plotly) {                    window.PLOTLYENV=window.PLOTLYENV || {};                                    if (document.getElementById(\"c17c50f2-27ab-4fc2-a083-efbac60575ba\")) {                    Plotly.newPlot(                        \"c17c50f2-27ab-4fc2-a083-efbac60575ba\",                        [{\"alignmentgroup\":\"True\",\"boxpoints\":\"all\",\"customdata\":[[\"Jim Gaffigan: Comedy Monster (2021) | Transcript\"],[\"Louis C. K.: Sorry (2021) | Transcript\"],[\"Drew Michael: Drew Michael (2018) | Transcript\"],[\"Drew Michael: Red Blue Green (2021) | Transcript\"],[\"Mo Amer: Mohammed in Texas (2021) | Transcript\"],[\"Dave Chappelle: The Closer (2021) | Transcript\"],[\"Kathleen Madigan: Bothering Jesus (2016) \\u2013 Transcript\"],[\"Kathleen Madigan: Madigan Again (2013) \\u2013 Transcript\"],[\"Phil Wang: Philly Philly Wang Wang (2021) \\u2013 Transcript\"],[\"Tom Papa: You\\u2019re Doing Great! (2020) \\u2013 Transcript\"],[\"Tom Papa: Human Mule (2016) \\u2013 Transcript\"],[\"Tom Papa: Freaked Out (2013) \\u2013 Transcript\"],[\"Bo Burnham: Inside (2021) \\u2013 Transcript\"],[\"Tig Notaro: Boyish Girl Interrupted (2015) \\u2013 Transcript\"],[\"Joe List: I Hate Myself (2020) \\u2013 Transcript\"],[\"Nate Bargatze: The Greatest Average American (2021) \\u2013 Transcript\"],[\"Brian Regan: On The Rocks (2021) \\u2013 Transcript\"],[\"Doug Stanhope: Beer Hall Putsch (2013) \\u2013 Transcript\"],[\"Chris Rock Total Blackout: The Tamborine Extended Cut \\u2013 Transcript\"],[\"Sarah Cooper: Everything\\u2019s Fine (2020) \\u2013 Transcript\"],[\"Bo Burnham: Words, Words, Words (2010) \\u2013 Transcript\"],[\"Vir Das: Outside in \\u2013 The Lockdown Special (2020) \\u2013 Transcript\"],[\"Larry the Cable Guy \\u2013 Remain Seated (2020) \\u2013 Transcript\"],[\"Craig Ferguson: Just Being Honest (2015) \\u2013 Transcript\"],[\"Kevin Hart: Zero F**ks Given (2020) \\u2013 Transcript\"],[\"Sam Morril: I Got This (2020) \\u2013 Transcript\"],[\"RONNY CHIENG: ASIAN COMEDIAN DESTROYS AMERICA (2019) \\u2013 TRANSCRIPT\"],[\"Craig Ferguson: A Wee Bit o\\u2019 Revolution (2009) \\u2013 Transcript\"],[\"MICHAEL MCINTYRE: SHOWMAN (2020) \\u2013 TRANSCRIPT\"],[\"ROB SCHNEIDER: ASIAN MOMMA, MEXICAN KIDS (2020) \\u2013 TRANSCRIPT\"],[\"Sam Jay: 3 in the Morning (2020) \\u2013 Transcript\"],[\"Jack Whitehall: I\\u2019m Only Joking (2020) | Transcript\"],[\"URZILA CARLSON: OVERQUALIFIED LOSER (2020) \\u2013 FULL TRANSCRIPT\"],[\"GEORGE LOPEZ: WE\\u2019LL DO IT FOR HALF (2020) \\u2013 FULL TRANSCRIPT\"],[\"JIM JEFFERIES: INTOLERANT (2020) \\u2013 FULL TRANSCRIPT\"],[\"George Carlin: Doin\\u2019 It Again (1990) \\u2013 Transcript\"],[\"ERIC ANDRE: LEGALIZE EVERYTHING (2020)\"],[\"ROY WOOD JR.: FATHER FIGURE (2017) \\u2013 FULL TRANSCRIPT\"],[\"Mark Normand: Don\\u2019t Be Yourself (2017) \\u2013 Transcript\"],[\"Chris Gethard: Career Suicide (2017) \\u2013 Transcript\"],[\"RAMY YOUSSEF: FEELINGS (2019) \\u2013 FULL TRANSCRIPT\"],[\"KENNY SEBASTIAN DON\\u2019T BE THAT GUY (2017) \\u2013 FULL TRANSCRIPT\"],[\"BILLY CONNOLLY: HIGH HORSE TOUR LIVE (2016) \\u2013 FULL TRANSCRIPT\"],[\"Hannah Gadsby: Douglas (2020) \\u2013 Transcript\"],[\"Hasan Minhaj: Homecoming King (2017) \\u2013 Transcript\"],[\"PATTON OSWALT: I LOVE EVERYTHING (2020) \\u2013 FULL TRANSCRIPT\"],[\"RUSSELL PETERS: DEPORTED (2020) \\u2013 FULL TRANSCRIPT\"],[\"JIMMY O. YANG: GOOD DEAL (2020) \\u2013 FULL TRANSCRIPT\"],[\"JO KOY: LIGHTS OUT (2012) \\u2013 FULL TRANSCRIPT\"],[\"LEE MACK: GOING OUT LIVE (2010) \\u2013 FULL TRANSCRIPT\"],[\"LEE MACK: LIVE (2007) \\u2013 FULL TRANSCRIPT\"],[\"T.J. MILLER: NO REAL REASON (2011) \\u2013 FULL TRANSCRIPT\"],[\"Jerry Seinfeld: 23 Hours To Kill (2020) \\u2013 Transcript\"],[\"SINCERELY LOUIS CK (2020)\"],[\"JIM NORTON: AMERICAN DEGENERATE (2013) \\u2013 FULL TRANSCRIPT\"],[\"Jim Norton: Monster Rain (2007) \\u2013 Transcript\"],[\"MARIA BAMFORD: WEAKNESS IS THE BRAND (2020) \\u2013 FULL TRANSCRIPT\"],[\"CHRIS D\\u2019ELIA: WHITE MALE. BLACK COMIC. (2013) \\u2013 FULL TRANSCRIPT\"],[\"Chris D\\u2019Elia: Man on Fire (2017) \\u2013 Full Transcript\"],[\"Tom Segura: Ball Hog (2020) \\u2013 Transcript\"],[\"Bert Kreischer: Hey Big Boy (2020) \\u2013 Transcript\"],[\"Marc Maron: End Times Fun (2020) \\u2013 Full Transcript\"],[\"PETE DAVIDSON: SMD (2016) \\u2013 FULL TRANSCRIPT\"],[\"PETE DAVIDSON: ALIVE FROM NEW YORK (2020) \\u2013 FULL TRANSCRIPT\"],[\"Amanda Seales: I Be Knowin\\u2019 (2019) \\u2013 Transcript\"],[\"Stewart Lee: Carpet Remnant World (2012) \\u2013 Full Transcript\"],[\"Stewart Lee: Content Provider (2018) \\u2013 Transcript\"],[\"Sara Pascoe: LadsLadsLads (2019) \\u2013 Full Transcript\"],[\"Dan Soder: Son of a Gary (2019) \\u2013 Full Transcript\"],[\"Jim Gaffigan: Quality Time (2019) \\u2013 Full Transcript\"],[\"Kevin Bridges: A Whole Different Story (2015) \\u2013 Full Transcript\"],[\"Kevin Bridges: The Story So Far\\u2026 Live in Glasgow (2010) \\u2013 Full Transcript\"],[\"Kevin Bridges: The Story Continues (2012) \\u2013 Full Transcript\"],[\"Michelle Wolf: Joke Show (2019) \\u2013 Full Transcript\"],[\"Tiffany Haddish: Black Mitzvah (2019) \\u2013 Transcript\"],[\"Mike Birbiglia: The New One (2019) \\u2013 Full Transcript\"],[\"Iliza Shlesinger: Unveiled (2019) \\u2013 Full Transcript\"],[\"Seth Meyers: Lobby Baby (2019) \\u2013 Full Transcript\"],[\"Arsenio Hall: Smart and Classy (2019) \\u2013 Transcript\"],[\"Nikki Glaser: Bangin\\u2019 (2019) \\u2013 Full Transcript\"],[\"Bill Burr: Paper Tiger (2019) \\u2013 Transcript\"],[\"Dave Chappelle: Sticks & Stones (2019) \\u2013 Transcript\"],[\"Emily Heller: Ice Thickeners (2019) \\u2013 Full Transcript\"],[\"David Cross: Oh Come On (2019) \\u2013 Full Transcript\"],[\"Whitney Cummings: Can I Touch It? (2019) \\u2013 Full Transcript\"],[\"Aziz Ansari: Right Now (2019) \\u2013 Transcript\"],[\"Ralphie May: Filthy Animal Tour (2014) \\u2013 Transcript\"],[\"Mike Epps: Only One Mike (2019) \\u2013 Full Transcript\"],[\"Adam DeVine: Best Time of Our Lives (2019) \\u2013 Full Transcript\"],[\"Jo Koy: Live from Seattle (2017) \\u2013 Full Transcript\"],[\"Jo Koy: Comin\\u2019 in Hot (2019) \\u2013 Full Transcript\"],[\"Wanda Sykes: Not Normal (2019) \\u2013 Full Transcript\"],[\"Cedric the Entertainer: Live from the Ville (2016) \\u2013 Transcript\"],[\"Eddie Murphy: Raw (1987) \\u2013 Transcript\"],[\"Colin Quinn: The New York Story (2016) \\u2013 Full Transcript\"],[\"Demetri Martin: Live (At The Time) (2015) | Transcript\"],[\"George Carlin: What Am I Doing in New Jersey? (1988) \\u2013 Full Transcript\"],[\"Chelsea Peretti: One of the Greats (2014) \\u2013 Full Transcript\"],[\"Anthony Jeselnik: Fire in the Maternity Ward (2019) \\u2013 Transcript\"],[\"Roy Wood Jr.: No One Loves You (2019) \\u2013 Transcript\"],[\"Robin Williams: Weapons of Self Destruction (2009) \\u2013 Full Transcript\"],[\"ROBIN WILLIAMS LIVE ON BROADWAY (2002) \\u2013 FULL TRANSCRIPT\"],[\"Jimmy Carr: The Best of Ultimate Gold Greatest Hits (2019) \\u2013 Full Transcript\"],[\"Nate Bargatze: The Tennessee Kid (2019) \\u2013 Full Transcript\"],[\"W. Kamau Bell: Private School Negro (2018) \\u2013 Transcript\"],[\"Kevin Hart: Irresponsible (2019) \\u2013 Transcript\"],[\"Nate Bargatze: Full Time Magic (2015) \\u2013 Full Transcript\"],[\"Amy Schumer: Growing (2019) \\u2013 Full Transcript\"],[\"Enissa Amani: Ehrenwort (2018) Full Transcript\"],[\"Ken Jeong: You Complete Me, Ho (2019) \\u2013 Full Transcript\"],[\"Ray Romano: Right Here, Around the Corner (2019) \\u2013 Full Transcript\"],[\"Gabriel \\u201cFluffy\\u201d Iglesias: One Show Fits All (2019) \\u2013 Full Transcript\"],[\"Sebastian Maniscalco: Stay Hungry (2019) \\u2013 Full Transcript\"],[\"Sebastian Maniscalco: Aren\\u2019t You Embarrassed? (2014) \\u2013 Full Transcript\"],[\"Sebastian Maniscalco: What\\u2019s Wrong with People? (2012) \\u2013 Full Transcript\"],[\"Oh, Hello On Broadway (2017) \\u2013 Transcript\"],[\"Ellen Degeneres: Relatable (2018) \\u2013 Transcript\"],[\"Pete Holmes: Dirty Clean (2018) \\u2013 Full Transcript\"],[\"Vir Das: Losing It (2018) \\u2013 Full Transcript\"],[\"Trevor Noah: Son of Patricia (2018) \\u2013 Transcript\"],[\"Jeff Foxworthy & Larry the Cable Guy: We\\u2019ve Been Thinking (2016) \\u2013 Full Transcript\"],[\"Adam Sandler: 100% Fresh (2018) \\u2013 Full Transcript\"],[\"Jeff Foxworthy: Totally Committed (1998) \\u2013 Full Transcript\"],[\"RON WHITE: IF YOU QUIT LISTENING, I\\u2019LL SHUT UP (2018) \\u2013 FULL TRANSCRIPT\"],[\"Mo Amer: The Vagabond (2018) \\u2013 Full Transcript\"],[\"Joe Mande\\u2019s Award-Winning Comedy Special (2017) \\u2013 Full Transcript\"],[\"Henry Rollins: Keep Talking, Pal (2018) \\u2013 Full Transcript\"],[\"Joe Rogan: Strange Times (2018) \\u2013 Full Transcript\"],[\"D.L. Hughley: Contrarian (2018) \\u2013 Transcript\"],[\"Iliza Shlesinger: Freezing Hot (2015) \\u2013 Full Transcript\"],[\"Iliza Shlesinger: War Paint (2013) \\u2013 Transcript\"],[\"Bert Kreischer: Secret Time (2018) \\u2013 Transcript\"],[\"Demetri Martin: The Overthinker (2018) | Transcript\"],[\"BILL MAHER: LIVE FROM OKLAHOMA (2018) \\u2013 Full Transcript\"],[\"Rowan Atkinson Live (1992) \\u2013 Transcript\"],[\"Iliza Shlesinger: Confirmed Kills (2016) \\u2013 Full Transcript\"],[\"Iliza Shlesinger: Elder Millennial (2018) \\u2013 Full Transcript\"],[\"JIM GAFFIGAN: NOBLE APE (2018) \\u2013 Full Transcript\"],[\"Jim Norton: Contextually Inadequate (2015) \\u2013 Transcript\"],[\"Hannah Gadsby: Nanette (2018) \\u2013 Transcript\"],[\"BRAD WILLIAMS: DADDY ISSUES (2016) \\u2013 Full Transcript\"],[\"Deray Davis: How To Act Black (2017) \\u2013 Transcript\"],[\"RICKY GERVAIS: LIVE IV \\u2013 SCIENCE (2010) \\u2013 Full Transcript\"],[\"JIM JEFFERIES: THIS IS ME NOW (2018) \\u2013 Full transcript\"],[\"RUSSELL PETERS: OUTSOURCED (2006) \\u2013 Full Transcript\"],[\"RUSSELL PETERS: ALMOST FAMOUS (2016) \\u2013 Full Transcript\"],[\"RON WHITE: A LITTLE UNPROFESSIONAL (2012) \\u2013 Full Transcript\"],[\"MICHAEL MCINTYRE: HELLO WEMBLEY! (2009) \\u2013 Full Transcript\"],[\"KEVIN SMITH: SILENT BUT DEADLY (2018) \\u2013 Full Transcript\"],[\"KEVIN JAMES: NEVER DON\\u2019T GIVE UP (2018) \\u2013 Full Transcript\"],[\"BRENT MORIN: I\\u2019M BRENT MORIN (2015) \\u2013 Full Transcript\"],[\"NIKKI GLASER: PERFECT (2016) \\u2013 Full Transcript\"],[\"Ali Wong: Hard Knock Wife (2018) \\u2013 Transcript\"],[\"KAVIN JAY: EVERYBODY CALM DOWN! (2018) \\u2013 Full Transcript\"],[\"John Mulaney: Kid Gorgeous At Radio City (2018) \\u2013 Transcript\"],[\"Eddie Griffin: Undeniable (2018) \\u2013 Transcript\"],[\"GREG DAVIES: YOU MAGNIFICENT BEAST (2018) \\u2013 Full Transcript\"],[\"George Carlin: You Are All Diseased (1999) \\u2013 Transcript\"],[\"Marlon Wayans: Woke-Ish (2018) \\u2013 Transcript\"],[\"RICKY GERVAIS: HUMANITY (2018) \\u2013 Full Transcript\"],[\"ADEL KARAM: LIVE FROM BEIRUT (2018) \\u2013 Full Transcript\"],[\"STEWART LEE: 90s COMEDIAN (2006) \\u2013 Full Transcript\"],[\"Mike Birbiglia: My Girlfriend\\u2019s Boyfriend (2013) \\u2013 Transcript\"],[\"DAVE ATTELL: ROAD WORK (2014) \\u2013 Full Transcript\"],[\"Eddie Izzard \\u2013 Glorious (1997) \\u2013 Transcript\"],[\"Chris Rock: Bring the Pain (1996) \\u2013 Transcript\"],[\"ARI SHAFFIR: DOUBLE NEGATIVE (2017) \\u2013 Full Transcript\"],[\"Chris Rock: Tamborine (2018) \\u2013 Transcript\"],[\"FRED ARMISEN: STANDUP FOR DRUMMERS (2018) \\u2013 Full Transcript\"],[\"DANA CARVEY: STRAIGHT WHITE MALE, 60 (2016) \\u2013 Full Transcript\"],[\"EDDIE IZZARD: STRIPPED (2009) \\u2013 Full Transcript\"],[\"TODD GLASS: ACT HAPPY (2018) \\u2013 Full Transcript\"],[\"BRIAN REGAN: STANDING UP (2007) \\u2013 Full Transcript\"],[\"BRIAN REGAN: NUNCHUCKS AND FLAMETHROWERS (2017) \\u2013 Full Transcript\"],[\"Katt Williams: Great America (2018) \\u2013 Transcript\"],[\"JIMMY CARR: BEING FUNNY (2011) \\u2013 Full Transcript\"],[\"JIMMY CARR: LAUGHING AND JOKING (2013) \\u2013 Full Transcript\"],[\"Eddie Izzard: Unrepeatable (1994) | Transcript\"],[\"D.L. Hughley: Unapologetic (2007) \\u2013 Transcript\"],[\"BRIDGET EVERETT: GYNECOLOGICAL WONDER (2015) \\u2013 Full Transcript\"],[\"Chris Rock: Never Scared (2004) \\u2013 Transcript\"],[\"Stewart Lee: Stand-Up Comedian (2005) \\u2013 Transcript\"],[\"JIMMY CARR: FUNNY BUSINESS (2016) \\u2013 Full Transcript\"],[\"Eddie Izzard: Dress To Kill (1999) \\u2013 Transcript\"],[\"Chris Tucker: Live (2015) \\u2013 Transcript\"],[\"Kevin Hart: What Now (2016) \\u2013 Transcript\"],[\"Kevin Hart: Let Me Explain (2013) \\u2013 Transcript\"],[\"Tom Segura: Disgraceful (2018) \\u2013 Transcript\"],[\"MICHELLE WOLF: NICE LADY (2017) \\u2013 Full Transcript\"],[\"FAHIM ANWAR: THERE\\u2019S NO BUSINESS LIKE SHOW BUSINESS (2017) \\u2013 Transcript\"],[\"ELLEN DEGENERES: THE BEGINNING (2000) \\u2013 Full Transcript\"],[\"MAZ JOBRANI: IMMIGRANT (2017) \\u2013 Full Transcript\"],[\"TODD BARRY: SPICY HONEY (2017) \\u2013 Full Transcript\"],[\"Jerry Seinfeld: I\\u2019m Telling You for the Last Time (1998) \\u2013 Transcript\"],[\"Craig Ferguson: Does This Need To Be Said? (2011) \\u2013 Transcript\"],[\"Dave Chappelle: The Bird Revelation (2017) \\u2013 Transcript\"],[\"Dave Chappelle: Equanimity (2017) \\u2013 Transcript\"],[\"CRAIG FERGUSON: I\\u2019M HERE TO HELP (2013) \\u2013 Full Transcript\"],[\"RUSSELL HOWARD: RECALIBRATE (2017) \\u2013 Full Transcript\"],[\"WHITNEY CUMMINGS: I LOVE YOU (2014) \\u2013 Full Transcript\"],[\"WHITNEY CUMMINGS: I\\u2019M YOUR GIRLFRIEND (2016) \\u2013 Full Transcript\"],[\"SARAH MILLICAN: CHATTERBOX LIVE (2011) \\u2013 Full Transcript\"],[\"Anjelah Johnson: Not Fancy (2015) \\u2013 Transcript\"],[\"RICKY GERVAIS LIVE 2: POLITICS (2004) \\u2013 Full Transcript\"],[\"Russell Howard Live: Dingledodies (2009) \\u2013 Full Transcript\"],[\"CHRISTINA PAZSITZKY: MOTHER INFERIOR (2017) \\u2013 FULL TRANSCRIPT\"],[\"Jack Whitehall: At Large (2017) \\u2013 Transcript\"],[\"CRISTELA ALONZO: LOWER CLASSY (2017) \\u2013 Full Transcript\"],[\"JUDAH FRIEDLANDER: AMERICA IS THE GREATEST COUNTRY IN THE UNITED STATES (2017) \\u2013 Full Transcript\"],[\"AZIZ ANSARI: LIVE IN MADISON SQUARE GARDEN (2015) \\u2013 Full Transcript\"],[\"AZIZ ANSARI: BURIED ALIVE (2013) \\u2013 Full Transcript\"],[\"Paul Mooney: A Piece of My Mind \\u2013 Godbless America (2014) \\u2013 Transcript\"],[\"PATTON OSWALT: ANNIHILATION (2017) \\u2013 Full Transcript\"],[\"Chris Rock: Kill The Messenger \\u2013 London, New York, Johannesburg (2008) \\u2013 Transcript\"],[\"BILL MAHER: LIVE FROM D.C. (2014) \\u2013 Full Transcript\"],[\"Sarah Silverman: Jesus Is Magic (2005) \\u2013 Transcript\"],[\"SARAH SILVERMAN: WE ARE MIRACLES (2013) \\u2013 Full Transcript\"],[\"Pablo Francisco: Ouch! Live From San Jose (2006) \\u2013 Full Transcript\"],[\"BILL MAHER\\u2026 BUT I\\u2019M NOT WRONG (2010) \\u2013 Full Transcript\"],[\"RUSSELL BRAND: MESSIAH COMPLEX (2013) \\u2013 Full Transcript\"],[\"Chris Rock: Bigger & Blacker (1999) \\u2013 Transcript\"],[\"Gabriel Iglesias: Hot And Fluffy (2007) \\u2013 Transcript\"],[\"GABRIEL IGLESIAS: I\\u2019M NOT FAT \\u2026 I\\u2019M FLUFFY (2009) \\u2013 Full Transcript\"],[\"GABRIEL IGLESIAS: I\\u2019M SORRY FOR WHAT I SAID WHEN I WAS HUNGRY (2016) \\u2013 Full Transcript\"],[\"RORY SCOVEL TRIES STAND-UP FOR THE FIRST TIME (2017) \\u2013 Full Transcript\"],[\"LISA LAMPANELLI: BACK TO THE DRAWING BOARD (2015) \\u2013 Full Transcript\"],[\"ERIK GRIFFIN: THE UGLY TRUTH (2017) \\u2013 Full Transcript\"],[\"JEN KIRKMAN: JUST KEEP LIVIN\\u2019? (2017) \\u2013 Full Transcript\"],[\"DANIEL TOSH: COMPLETELY SERIOUS (2007) \\u2013 Full Transcript\"],[\"AL MADRIGAL: WHY IS THE RABBIT CRYING? (2013) \\u2013 Full Transcript\"],[\"NEAL BRENNAN: 3 MICS (2017)- FULL TRANSCRIPT\"],[\"John Mulaney: New In Town (2012) \\u2013 Transcript\"],[\"Donald Glover: Weirdo (2012) \\u2013 Transcript\"],[\"ALI WONG: BABY COBRA (2016) \\u2013 Full Transcript\"],[\"Norm Macdonald: Hitler\\u2019s Dog, Gossip & Trickery (2017) \\u2013 Transcript\"],[\"DANIEL TOSH: PEOPLE PLEASER (2016) \\u2013 FULL TRANSCRIPT\"],[\"Marc Maron: More Later (2015) \\u2013 Full Transcript\"],[\"Dylan Moran: Off The Hook (2015) \\u2013 Transcript\"],[\"Richard Pryor: Live And Smokin\\u2019 (1971) \\u2013 Transcript\"],[\"RICHARD PRYOR: \\u2026HERE AND NOW (1983) \\u2013 Full Transcript\"],[\"AMY SCHUMER: MOSTLY SEX STUFF (2012) \\u2013 Full Transcript\"],[\"Jim Jefferies: Alcoholocaust (2010) \\u2013 Transcript\"],[\"AMY SCHUMER: LIVE AT THE APOLLO (2015) \\u2013 Full Transcript\"],[\"Kevin Hart: Seriously Funny (2010) \\u2013 Transcript\"],[\"Hannibal Buress: Comedy Camisado (2016) \\u2013 Transcript\"],[\"Neal Brennan: Women And Black Dudes (2014) \\u2013 Transcript\"],[\"NICK OFFERMAN: AMERICAN HAM (2014) \\u2013 Full Transcript\"],[\"AZIZ ANSARI: INTIMATE MOMENTS FOR A SENSUAL EVENING (2010) \\u2013 Full Transcript\"],[\"BIG JAY OAKERSON: LIVE AT WEBSTER HALL (2016) \\u2013 Full Transcript\"],[\"George Carlin at USC (1977) \\u2013 Full Transcript\"],[\"Jim Norton: Mouthful Of Shame (2017) Transcript\"],[\"Michael Che Matters (2016) \\u2013 Transcript\"],[\"Joe Rogan: Triggered (2016) \\u2013 Transcript\"],[\"Trevor Noah: Lost In Translation (2015) \\u2013 Transcript\"],[\"MARIA BAMFORD: OLD BABY (2017) \\u2013 FULL TRANSCRIPT\"],[\"Bo Burnham: What (2013) \\u2013 Transcript\"],[\"Bo Burnham: Make Happy (2016) \\u2013 Transcript\"],[\"ANTHONY JESELNIK: CALIGULA (2013) \\u2013 Full Transcript\"],[\"Anthony Jeselnik: Thoughts And Prayers (2015) \\u2013 Full Transcript\"],[\"John Mulaney: The Comeback Kid (2015) \\u2013 Transcript\"],[\"BILL HICKS: REVELATIONS (1993) \\u2013 FULL TRANSCRIPT\"],[\"LEWIS BLACK: BLACK TO THE FUTURE (2016) \\u2013 Full Transcript\"],[\"DOUG STANHOPE: BEFORE TURNING THE GUN ON HIMSELF (2012) \\u2013 Transcript\"],[\"DOUG STANHOPE: DEADBEAT HERO (2004) \\u2013 Transcript\"],[\"JIM JEFFERIES: CONTRABAND (2008) \\u2013 Full Transcript\"],[\"Mike Birbiglia: Thank God for Jokes (2017) \\u2013 Transcript\"],[\"SARAH SILVERMAN: A SPECK OF DUST (2017) \\u2013 Full Transcript\"],[\"GEORGE CARLIN: PLAYING WITH YOUR HEAD (1986) \\u2013 Full Transcript\"],[\"GEORGE CARLIN: AGAIN!* (1978) \\u2013 Full Transcript\"],[\"Louis C.K.: Chewed Up (2008) \\u2013 Transcript\"],[\"Tom Segura: Completely Normal (2014) \\u2013 Transcript\"],[\"GEORGE CARLIN: CARLIN ON CAMPUS (1984) \\u2013 Full Transcript\"],[\"Louis C.K.: Live at the Beacon Theatre (2011) \\u2013 Transcript\"],[\"RICKY GERVAIS: OUT OF ENGLAND 2 (2010) \\u2013 Full Transcript\"],[\"AMY SCHUMER: THE LEATHER SPECIAL (2017) \\u2013 Full Transcript\"],[\"JIM GAFFIGAN: CINCO (2017) \\u2013 Full Transcript\"],[\"JIM JEFFERIES: I SWEAR TO GOD (2009) \\u2013 FULL TRANSCRIPT\"],[\"LOUIS C.K.: HILARIOUS (2010) \\u2013 Full Transcript\"],[\"LOUIS C.K.: SHAMELESS (2007) \\u2013 Full Transcript\"],[\"BILL BURR: I\\u2019M SORRY YOU FEEL THAT WAY (2014) \\u2013 Full Transcript\"],[\"BILL BURR: YOU PEOPLE ARE ALL THE SAME (2012) \\u2013 Full Transcript\"],[\"Dave Chappelle: For What It\\u2019s Worth (2004) \\u2013 Transcript\"],[\"Dave Chappelle: Killin\\u2019 Them Softly (2000) \\u2013 Transcript\"],[\"Eddie Griffin: You Can Tell \\u2018Em I Said It! (2011) \\u2013 Transcript\"],[\"BILL BURR: WALK YOUR WAY OUT (2017) \\u2013 Full Transcript\"],[\"LOUIS C.K.: OH MY GOD (2013) \\u2013 Full Transcript\"],[\"LOUIS C.K.: LIVE AT  THE COMEDY STORE (2015) \\u2013 Transcript\"],[\"BILL HICKS: RELENTLESS (1991) \\u2013 Transcript\"],[\"Daniel Tosh: Happy Thoughts (2011) \\u2013 Transcript\"],[\"Patrice O\\u2019Neal: Elephant in the Room (2011) \\u2013 Transcript\"],[\"Katt Williams: Live (2006) \\u2013 Transcript\"],[\"Richard Pryor: Live in Concert (1979) \\u2013 Transcript\"],[\"RICHARD PRYOR: LIVE ON THE SUNSET STRIP (1982) \\u2013 Full Transcript\"],[\"Trevor Noah: Afraid Of The Dark (2017) \\u2013 Transcript\"],[\"JIM JEFFERIES: BARE (2014) \\u2013 Full Transcript\"],[\"Dave Chappelle: Deep in the Heart of Texas (2017) \\u2013 Transcript\"],[\"Tom Segura: Mostly Stories (2016) \\u2013 Transcript\"],[\"BILL BURR: LET IT GO (2010) \\u2013 TRANSCRIPT\"],[\"JIM JEFFERIES: FREEDUMB (2016) \\u2013 Full Transcript\"],[\"Eddie Murphy: Delirious (1983) \\u2013 Transcript\"],[\"Dave Chappelle: The Age of Spin (2017) \\u2013 Transcript\"],[\"GEORGE CARLIN: BACK IN TOWN (1996) \\u2013 Full transcript\"],[\"LOUIS C.K.: 2017 \\u2013 Full transcript\"],[\"George Carlin: Jamming in New York (1992) \\u2013 Transcript\"],[\"Reggie Watts: Spatial (2016) \\u2013 Full Transcript\"],[\"GEORGE CARLIN: COMPLAINTS AND GRIEVANCES (2001) \\u2013 FULL TRANSCRIPT\"],[\"GEORGE CARLIN: LIFE IS WORTH LOSING (2006) \\u2013 Transcript\"],[\"George Carlin: It\\u2019s Bad For Ya (2008) Full transcript\"],[\"Dave Chappelle: 8:46 \\u2013 Transcript\"],[\"JIM JEFFERIES ON GUN CONTROL [FULL TRANSCRIPT]\"]],\"hovertemplate\":\"total words=%{x}<br>description=%{customdata[0]}<extra></extra>\",\"legendgroup\":\"\",\"marker\":{\"color\":\"#636efa\"},\"name\":\"\",\"notched\":false,\"offsetgroup\":\"\",\"orientation\":\"h\",\"showlegend\":false,\"type\":\"box\",\"x\":[9771,8787,8259,9183,10091,9984,11379,10203,8372,9337,9804,9127,8211,4870,11156,11833,6245,9566,12109,7183,8155,7917,10613,12105,12133,9013,9242,11389,10304,6180,11650,8437,9532,6782,9554,8550,7038,6593,9050,15383,8062,7417,13108,11615,10981,9073,11891,9029,6269,9258,12466,9586,8500,8781,8586,8258,8967,9722,11482,10159,9347,11869,8077,9015,5277,15438,17047,5428,9908,11235,8681,8996,9895,8402,7785,11431,11134,9523,9206,11593,11761,8515,8319,11083,9778,10111,11867,8549,8861,8643,8142,7057,8501,15193,11217,8740,7468,11186,5699,9221,14745,11947,8882,10845,10558,11315,7830,6946,10812,9266,8616,11722,7716,7136,8818,12678,9311,7619,8179,11113,11888,10182,7909,8465,9313,11027,9727,9704,7734,12008,13096,8372,8632,7927,3705,11837,10755,10587,9226,9150,11288,10144,13624,9601,10737,9778,10375,14678,11900,9589,11934,12359,6778,7320,9358,8913,9243,9434,9577,11308,7018,10905,12095,6606,12590,8570,15171,7565,7609,8093,15024,10047,5043,7107,8098,14151,15114,11801,8480,4729,12383,11522,10169,14260,13215,12730,13050,10534,8395,5996,8180,10208,8092,9206,9955,6966,8672,12675,10373,8318,9450,17291,7601,9494,13057,6850,9583,7559,11086,10778,13407,11429,9773,11000,8188,7346,6121,6922,10334,13045,8487,12394,10542,13458,8892,8448,7628,13369,9395,10572,9563,10112,11184,7795,8059,10338,12283,12850,5990,11436,8912,8590,8489,13496,10706,8671,9559,10163,10585,11115,10268,8276,10575,10280,8479,6942,7437,5920,7017,9718,8518,5266,9537,11645,10969,9114,9514,8290,11871,8407,12620,8357,9096,11888,6842,10537,8146,12617,9939,12832,13001,8405,8024,8156,13496,7984,9290,7291,6303,10712,12108,10318,9884,10331,11572,10109,10554,8361,11657,8415,9507,8730,8859,8677,4354,8531,12716,10501,3575,2458],\"x0\":\" \",\"xaxis\":\"x\",\"y0\":\" \",\"yaxis\":\"y\"}],                        {\"boxmode\":\"group\",\"legend\":{\"tracegroupgap\":0},\"margin\":{\"t\":60},\"template\":{\"data\":{\"bar\":[{\"error_x\":{\"color\":\"#2a3f5f\"},\"error_y\":{\"color\":\"#2a3f5f\"},\"marker\":{\"line\":{\"color\":\"#E5ECF6\",\"width\":0.5},\"pattern\":{\"fillmode\":\"overlay\",\"size\":10,\"solidity\":0.2}},\"type\":\"bar\"}],\"barpolar\":[{\"marker\":{\"line\":{\"color\":\"#E5ECF6\",\"width\":0.5},\"pattern\":{\"fillmode\":\"overlay\",\"size\":10,\"solidity\":0.2}},\"type\":\"barpolar\"}],\"carpet\":[{\"aaxis\":{\"endlinecolor\":\"#2a3f5f\",\"gridcolor\":\"white\",\"linecolor\":\"white\",\"minorgridcolor\":\"white\",\"startlinecolor\":\"#2a3f5f\"},\"baxis\":{\"endlinecolor\":\"#2a3f5f\",\"gridcolor\":\"white\",\"linecolor\":\"white\",\"minorgridcolor\":\"white\",\"startlinecolor\":\"#2a3f5f\"},\"type\":\"carpet\"}],\"choropleth\":[{\"colorbar\":{\"outlinewidth\":0,\"ticks\":\"\"},\"type\":\"choropleth\"}],\"contour\":[{\"colorbar\":{\"outlinewidth\":0,\"ticks\":\"\"},\"colorscale\":[[0.0,\"#0d0887\"],[0.1111111111111111,\"#46039f\"],[0.2222222222222222,\"#7201a8\"],[0.3333333333333333,\"#9c179e\"],[0.4444444444444444,\"#bd3786\"],[0.5555555555555556,\"#d8576b\"],[0.6666666666666666,\"#ed7953\"],[0.7777777777777778,\"#fb9f3a\"],[0.8888888888888888,\"#fdca26\"],[1.0,\"#f0f921\"]],\"type\":\"contour\"}],\"contourcarpet\":[{\"colorbar\":{\"outlinewidth\":0,\"ticks\":\"\"},\"type\":\"contourcarpet\"}],\"heatmap\":[{\"colorbar\":{\"outlinewidth\":0,\"ticks\":\"\"},\"colorscale\":[[0.0,\"#0d0887\"],[0.1111111111111111,\"#46039f\"],[0.2222222222222222,\"#7201a8\"],[0.3333333333333333,\"#9c179e\"],[0.4444444444444444,\"#bd3786\"],[0.5555555555555556,\"#d8576b\"],[0.6666666666666666,\"#ed7953\"],[0.7777777777777778,\"#fb9f3a\"],[0.8888888888888888,\"#fdca26\"],[1.0,\"#f0f921\"]],\"type\":\"heatmap\"}],\"heatmapgl\":[{\"colorbar\":{\"outlinewidth\":0,\"ticks\":\"\"},\"colorscale\":[[0.0,\"#0d0887\"],[0.1111111111111111,\"#46039f\"],[0.2222222222222222,\"#7201a8\"],[0.3333333333333333,\"#9c179e\"],[0.4444444444444444,\"#bd3786\"],[0.5555555555555556,\"#d8576b\"],[0.6666666666666666,\"#ed7953\"],[0.7777777777777778,\"#fb9f3a\"],[0.8888888888888888,\"#fdca26\"],[1.0,\"#f0f921\"]],\"type\":\"heatmapgl\"}],\"histogram\":[{\"marker\":{\"pattern\":{\"fillmode\":\"overlay\",\"size\":10,\"solidity\":0.2}},\"type\":\"histogram\"}],\"histogram2d\":[{\"colorbar\":{\"outlinewidth\":0,\"ticks\":\"\"},\"colorscale\":[[0.0,\"#0d0887\"],[0.1111111111111111,\"#46039f\"],[0.2222222222222222,\"#7201a8\"],[0.3333333333333333,\"#9c179e\"],[0.4444444444444444,\"#bd3786\"],[0.5555555555555556,\"#d8576b\"],[0.6666666666666666,\"#ed7953\"],[0.7777777777777778,\"#fb9f3a\"],[0.8888888888888888,\"#fdca26\"],[1.0,\"#f0f921\"]],\"type\":\"histogram2d\"}],\"histogram2dcontour\":[{\"colorbar\":{\"outlinewidth\":0,\"ticks\":\"\"},\"colorscale\":[[0.0,\"#0d0887\"],[0.1111111111111111,\"#46039f\"],[0.2222222222222222,\"#7201a8\"],[0.3333333333333333,\"#9c179e\"],[0.4444444444444444,\"#bd3786\"],[0.5555555555555556,\"#d8576b\"],[0.6666666666666666,\"#ed7953\"],[0.7777777777777778,\"#fb9f3a\"],[0.8888888888888888,\"#fdca26\"],[1.0,\"#f0f921\"]],\"type\":\"histogram2dcontour\"}],\"mesh3d\":[{\"colorbar\":{\"outlinewidth\":0,\"ticks\":\"\"},\"type\":\"mesh3d\"}],\"parcoords\":[{\"line\":{\"colorbar\":{\"outlinewidth\":0,\"ticks\":\"\"}},\"type\":\"parcoords\"}],\"pie\":[{\"automargin\":true,\"type\":\"pie\"}],\"scatter\":[{\"marker\":{\"colorbar\":{\"outlinewidth\":0,\"ticks\":\"\"}},\"type\":\"scatter\"}],\"scatter3d\":[{\"line\":{\"colorbar\":{\"outlinewidth\":0,\"ticks\":\"\"}},\"marker\":{\"colorbar\":{\"outlinewidth\":0,\"ticks\":\"\"}},\"type\":\"scatter3d\"}],\"scattercarpet\":[{\"marker\":{\"colorbar\":{\"outlinewidth\":0,\"ticks\":\"\"}},\"type\":\"scattercarpet\"}],\"scattergeo\":[{\"marker\":{\"colorbar\":{\"outlinewidth\":0,\"ticks\":\"\"}},\"type\":\"scattergeo\"}],\"scattergl\":[{\"marker\":{\"colorbar\":{\"outlinewidth\":0,\"ticks\":\"\"}},\"type\":\"scattergl\"}],\"scattermapbox\":[{\"marker\":{\"colorbar\":{\"outlinewidth\":0,\"ticks\":\"\"}},\"type\":\"scattermapbox\"}],\"scatterpolar\":[{\"marker\":{\"colorbar\":{\"outlinewidth\":0,\"ticks\":\"\"}},\"type\":\"scatterpolar\"}],\"scatterpolargl\":[{\"marker\":{\"colorbar\":{\"outlinewidth\":0,\"ticks\":\"\"}},\"type\":\"scatterpolargl\"}],\"scatterternary\":[{\"marker\":{\"colorbar\":{\"outlinewidth\":0,\"ticks\":\"\"}},\"type\":\"scatterternary\"}],\"surface\":[{\"colorbar\":{\"outlinewidth\":0,\"ticks\":\"\"},\"colorscale\":[[0.0,\"#0d0887\"],[0.1111111111111111,\"#46039f\"],[0.2222222222222222,\"#7201a8\"],[0.3333333333333333,\"#9c179e\"],[0.4444444444444444,\"#bd3786\"],[0.5555555555555556,\"#d8576b\"],[0.6666666666666666,\"#ed7953\"],[0.7777777777777778,\"#fb9f3a\"],[0.8888888888888888,\"#fdca26\"],[1.0,\"#f0f921\"]],\"type\":\"surface\"}],\"table\":[{\"cells\":{\"fill\":{\"color\":\"#EBF0F8\"},\"line\":{\"color\":\"white\"}},\"header\":{\"fill\":{\"color\":\"#C8D4E3\"},\"line\":{\"color\":\"white\"}},\"type\":\"table\"}]},\"layout\":{\"annotationdefaults\":{\"arrowcolor\":\"#2a3f5f\",\"arrowhead\":0,\"arrowwidth\":1},\"autotypenumbers\":\"strict\",\"coloraxis\":{\"colorbar\":{\"outlinewidth\":0,\"ticks\":\"\"}},\"colorscale\":{\"diverging\":[[0,\"#8e0152\"],[0.1,\"#c51b7d\"],[0.2,\"#de77ae\"],[0.3,\"#f1b6da\"],[0.4,\"#fde0ef\"],[0.5,\"#f7f7f7\"],[0.6,\"#e6f5d0\"],[0.7,\"#b8e186\"],[0.8,\"#7fbc41\"],[0.9,\"#4d9221\"],[1,\"#276419\"]],\"sequential\":[[0.0,\"#0d0887\"],[0.1111111111111111,\"#46039f\"],[0.2222222222222222,\"#7201a8\"],[0.3333333333333333,\"#9c179e\"],[0.4444444444444444,\"#bd3786\"],[0.5555555555555556,\"#d8576b\"],[0.6666666666666666,\"#ed7953\"],[0.7777777777777778,\"#fb9f3a\"],[0.8888888888888888,\"#fdca26\"],[1.0,\"#f0f921\"]],\"sequentialminus\":[[0.0,\"#0d0887\"],[0.1111111111111111,\"#46039f\"],[0.2222222222222222,\"#7201a8\"],[0.3333333333333333,\"#9c179e\"],[0.4444444444444444,\"#bd3786\"],[0.5555555555555556,\"#d8576b\"],[0.6666666666666666,\"#ed7953\"],[0.7777777777777778,\"#fb9f3a\"],[0.8888888888888888,\"#fdca26\"],[1.0,\"#f0f921\"]]},\"colorway\":[\"#636efa\",\"#EF553B\",\"#00cc96\",\"#ab63fa\",\"#FFA15A\",\"#19d3f3\",\"#FF6692\",\"#B6E880\",\"#FF97FF\",\"#FECB52\"],\"font\":{\"color\":\"#2a3f5f\"},\"geo\":{\"bgcolor\":\"white\",\"lakecolor\":\"white\",\"landcolor\":\"#E5ECF6\",\"showlakes\":true,\"showland\":true,\"subunitcolor\":\"white\"},\"hoverlabel\":{\"align\":\"left\"},\"hovermode\":\"closest\",\"mapbox\":{\"style\":\"light\"},\"paper_bgcolor\":\"white\",\"plot_bgcolor\":\"#E5ECF6\",\"polar\":{\"angularaxis\":{\"gridcolor\":\"white\",\"linecolor\":\"white\",\"ticks\":\"\"},\"bgcolor\":\"#E5ECF6\",\"radialaxis\":{\"gridcolor\":\"white\",\"linecolor\":\"white\",\"ticks\":\"\"}},\"scene\":{\"xaxis\":{\"backgroundcolor\":\"#E5ECF6\",\"gridcolor\":\"white\",\"gridwidth\":2,\"linecolor\":\"white\",\"showbackground\":true,\"ticks\":\"\",\"zerolinecolor\":\"white\"},\"yaxis\":{\"backgroundcolor\":\"#E5ECF6\",\"gridcolor\":\"white\",\"gridwidth\":2,\"linecolor\":\"white\",\"showbackground\":true,\"ticks\":\"\",\"zerolinecolor\":\"white\"},\"zaxis\":{\"backgroundcolor\":\"#E5ECF6\",\"gridcolor\":\"white\",\"gridwidth\":2,\"linecolor\":\"white\",\"showbackground\":true,\"ticks\":\"\",\"zerolinecolor\":\"white\"}},\"shapedefaults\":{\"line\":{\"color\":\"#2a3f5f\"}},\"ternary\":{\"aaxis\":{\"gridcolor\":\"white\",\"linecolor\":\"white\",\"ticks\":\"\"},\"baxis\":{\"gridcolor\":\"white\",\"linecolor\":\"white\",\"ticks\":\"\"},\"bgcolor\":\"#E5ECF6\",\"caxis\":{\"gridcolor\":\"white\",\"linecolor\":\"white\",\"ticks\":\"\"}},\"title\":{\"x\":0.05},\"xaxis\":{\"automargin\":true,\"gridcolor\":\"white\",\"linecolor\":\"white\",\"ticks\":\"\",\"title\":{\"standoff\":15},\"zerolinecolor\":\"white\",\"zerolinewidth\":2},\"yaxis\":{\"automargin\":true,\"gridcolor\":\"white\",\"linecolor\":\"white\",\"ticks\":\"\",\"title\":{\"standoff\":15},\"zerolinecolor\":\"white\",\"zerolinewidth\":2}}},\"xaxis\":{\"anchor\":\"y\",\"domain\":[0.0,1.0],\"title\":{\"text\":\"total words\"}},\"yaxis\":{\"anchor\":\"x\",\"domain\":[0.0,1.0]}},                        {\"responsive\": true}                    ).then(function(){\n",
       "                            \n",
       "var gd = document.getElementById('c17c50f2-27ab-4fc2-a083-efbac60575ba');\n",
       "var x = new MutationObserver(function (mutations, observer) {{\n",
       "        var display = window.getComputedStyle(gd).display;\n",
       "        if (!display || display === 'none') {{\n",
       "            console.log([gd, 'removed!']);\n",
       "            Plotly.purge(gd);\n",
       "            observer.disconnect();\n",
       "        }}\n",
       "}});\n",
       "\n",
       "// Listen for the removal of the full notebook cells\n",
       "var notebookContainer = gd.closest('#notebook-container');\n",
       "if (notebookContainer) {{\n",
       "    x.observe(notebookContainer, {childList: true});\n",
       "}}\n",
       "\n",
       "// Listen for the clearing of the current output cell\n",
       "var outputEl = gd.closest('.output');\n",
       "if (outputEl) {{\n",
       "    x.observe(outputEl, {childList: true});\n",
       "}}\n",
       "\n",
       "                        })                };                });            </script>        </div>"
      ]
     },
     "metadata": {},
     "output_type": "display_data"
    }
   ],
   "source": [
    "import plotly.express as px\n",
    "px.box(metascripts, x = 'total words', hover_data = ['description'], points = 'all')"
   ]
  }
 ],
 "metadata": {
  "kernelspec": {
   "display_name": "Python 3",
   "language": "python",
   "name": "python3"
  },
  "language_info": {
   "codemirror_mode": {
    "name": "ipython",
    "version": 3
   },
   "file_extension": ".py",
   "mimetype": "text/x-python",
   "name": "python",
   "nbconvert_exporter": "python",
   "pygments_lexer": "ipython3",
   "version": "3.8.8"
  }
 },
 "nbformat": 4,
 "nbformat_minor": 5
}
