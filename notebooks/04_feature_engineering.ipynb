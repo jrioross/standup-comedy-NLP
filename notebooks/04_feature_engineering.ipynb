{
 "cells": [
  {
   "cell_type": "markdown",
   "metadata": {},
   "source": [
    "# Feature Engineering for Standup Scripts\n",
    "## Goal: Generate useful features related to standup comedy style."
   ]
  },
  {
   "cell_type": "markdown",
   "metadata": {},
   "source": [
    "## Table of Contents\n",
    "\n",
    "   - [x] [imports](#imports)\n",
    "   - [x] [prepare the data](#prepare-the-data)\n",
    "   - [x] [word lengths](#word-lengths)\n",
    "   - [x] [distinct words](#distinct-words)\n",
    "   - [x] [words per minute and sentences per minute](#words-per-minute-and-sentences-per-minute)\n",
    "   - [ ] [repetition and phrases](#repetition-and-phrases)\n",
    "       - [with gensim](#with-gensim)\n",
    "       - [with sklearn](#with-sklearn)\n",
    "   - [x] [profanity](#profanity)\n",
    "   - [ ] [part-of-speech frequencies](#part-of-speech-frequencies)\n",
    "   - [ ] [sentence structure](#sentence-structure)\n",
    "   - [ ] [point of view](#point-of-view)\n",
    "   - [ ] [cosine similarities](#cosine-similarities)\n",
    "   - [playground](#playground)"
   ]
  },
  {
   "cell_type": "markdown",
   "metadata": {},
   "source": [
    "## imports \n"
   ]
  },
  {
   "cell_type": "code",
   "execution_count": 1,
   "metadata": {},
   "outputs": [],
   "source": [
    "import pickle\n",
    "import numpy as np\n",
    "import pandas as pd\n",
    "from datetime import date\n",
    "import json\n",
    "from tqdm.notebook import tqdm\n",
    "\n",
    "import matplotlib.pyplot as plt\n",
    "import seaborn as sns\n",
    "import plotly.express as px\n",
    "\n",
    "import re\n",
    "from collections import Counter, defaultdict\n",
    "import itertools\n",
    "import nltk\n",
    "from nltk.corpus import stopwords\n",
    "from nltk.tokenize import word_tokenize, sent_tokenize, regexp_tokenize\n",
    "import gensim\n",
    "from gensim.corpora.dictionary import Dictionary\n",
    "import spacy\n",
    "\n",
    "import warnings\n",
    "warnings.filterwarnings('ignore')"
   ]
  },
  {
   "cell_type": "code",
   "execution_count": 2,
   "metadata": {},
   "outputs": [],
   "source": [
    "sw = stopwords.words(\"english\")"
   ]
  },
  {
   "cell_type": "code",
   "execution_count": 3,
   "metadata": {},
   "outputs": [],
   "source": [
    "transcripts_df = pd.read_pickle('../data/transcripts_raw_df.pickle')"
   ]
  },
  {
   "cell_type": "code",
   "execution_count": 4,
   "metadata": {},
   "outputs": [],
   "source": [
    "with open(f'../data/imdb_title_results_2022-05-23.pickle', 'rb') as file:\n",
    "    show_meta = pickle.load(file)"
   ]
  },
  {
   "cell_type": "code",
   "execution_count": 5,
   "metadata": {},
   "outputs": [],
   "source": [
    "with open(f'../data/metascripts_df_2022-05-28.pickle', 'rb') as file:\n",
    "    metascripts = pickle.load(file)"
   ]
  },
  {
   "cell_type": "code",
   "execution_count": 6,
   "metadata": {},
   "outputs": [],
   "source": [
    "with open(\"../data/profane_to_replace.pickle\", 'rb') as file:\n",
    "    to_replace = pickle.load(file)\n",
    "    \n",
    "with open(\"../data/profane_replace_with.pickle\", 'rb') as file:\n",
    "    replace_with = pickle.load(file)"
   ]
  },
  {
   "cell_type": "code",
   "execution_count": 7,
   "metadata": {},
   "outputs": [],
   "source": [
    "nonenglish_shows = ['BILL BURR: WHY DO I DO THIS (2008) – Testo italiano completo',\n",
    "                   'DOUG STANHOPE: NO REFUNDS (2007) – Trascrizione italiana',\n",
    "                   'GEORGE CARLIN: JAMMING IN NEW YORK (1992) – Testo italiano completo',\n",
    "                   'GEORGE CARLIN: YOU ARE ALL DISEASED (1999) – Testo italiano completo',\n",
    "                   'GEORGE CARLIN: IT’S BAD FOR YA! (2008) – Testo italiano completo',\n",
    "                   'DAVE CHAPPELLE: THE BIRD REVELATION (2017) – Transcripción completa']"
   ]
  },
  {
   "cell_type": "code",
   "execution_count": 8,
   "metadata": {},
   "outputs": [],
   "source": [
    "metascripts = metascripts[~metascripts['description'].isin(nonenglish_shows)]"
   ]
  },
  {
   "cell_type": "code",
   "execution_count": 9,
   "metadata": {},
   "outputs": [
    {
     "data": {
      "text/plain": [
       "(310, 24)"
      ]
     },
     "execution_count": 9,
     "metadata": {},
     "output_type": "execute_result"
    }
   ],
   "source": [
    "metascripts.shape"
   ]
  },
  {
   "cell_type": "markdown",
   "metadata": {},
   "source": [
    "## prepare the data\n"
   ]
  },
  {
   "cell_type": "code",
   "execution_count": 10,
   "metadata": {},
   "outputs": [],
   "source": [
    "# Replace bracket and parenthetical content from scripts\n",
    "metascripts['transcript'] = (metascripts['transcript']\n",
    "                                 .replace(\"\\[.+?\\]|\\(.+?\\)\",\"\", regex = True)\n",
    "                                 .replace(\"\\’|\\‘\", \"'\", regex = True)\n",
    "                                 .replace(\"\\“|\\”\", '\"', regex = True)\n",
    "                                 .replace(to_replace[0], replace_with[0], regex = True)\n",
    "                                 .replace(to_replace[1], replace_with[1], regex = True)\n",
    "                            )"
   ]
  },
  {
   "cell_type": "code",
   "execution_count": 11,
   "metadata": {},
   "outputs": [],
   "source": [
    "# Fill censored words to clean up our profanity detection\n",
    "profanity_fill = json.load(open('../data/profanity_fill.json'))\n",
    "\n",
    "for key, value in profanity_fill.items(): \n",
    "    metascripts['transcript'] = metascripts['transcript'].str.replace(key, value, regex = False)"
   ]
  },
  {
   "cell_type": "code",
   "execution_count": 12,
   "metadata": {},
   "outputs": [],
   "source": [
    "transcripts_dict = dict(zip(metascripts['description'].values, metascripts['transcript'].values))"
   ]
  },
  {
   "cell_type": "code",
   "execution_count": 13,
   "metadata": {},
   "outputs": [],
   "source": [
    "descriptions = list(transcripts_dict.keys())\n",
    "scripts = list(transcripts_dict.values())"
   ]
  },
  {
   "cell_type": "code",
   "execution_count": 14,
   "metadata": {},
   "outputs": [],
   "source": [
    "parens = (re.findall(r\"\\(.+?\\)\", script) for script in scripts)\n",
    "[(ind, len(matches)) for ind, matches in enumerate(parens) if len(matches) > 0]\n",
    "parenscripts = (scripts[ind] for ind, matches in enumerate(parens) if len(matches) > 0)"
   ]
  },
  {
   "cell_type": "markdown",
   "metadata": {},
   "source": [
    "## word lengths\n",
    "word lengths are calculated as letters per word\n",
    "\n",
    "   * tokenize words (allow apostrophes and dashes but not numbers)\n",
    "   * do not lemmatize\n",
    "   * do not remove stopwords\n",
    "   \n",
    "[to the top](#Feature-Engineering-for-Standup-Scripts)"
   ]
  },
  {
   "cell_type": "code",
   "execution_count": 15,
   "metadata": {},
   "outputs": [],
   "source": [
    "bow_cased = [regexp_tokenize(transcript, r\"[a-zA-Z]+\") for description, transcript in transcripts_dict.items()]\n",
    "bow_counter = [Counter(word.lower() for word in script_words) for script_words in bow_cased]\n",
    "\n",
    "tokenized_list = [[word.lower() for word in script_words] for script_words in bow_cased]\n",
    "dictionary = Dictionary(tokenized_list)\n",
    "corpus = [dictionary.doc2bow(script) for script in tokenized_list]"
   ]
  },
  {
   "cell_type": "code",
   "execution_count": 16,
   "metadata": {},
   "outputs": [],
   "source": [
    "word_lengths = [[len(word) for word in script_words] for script_words in tokenized_list]"
   ]
  },
  {
   "cell_type": "code",
   "execution_count": 17,
   "metadata": {},
   "outputs": [],
   "source": [
    "metascripts['mean word length'] = [np.mean(script_word_lengths) for script_word_lengths in word_lengths]\n",
    "metascripts['std word length'] = [np.std(script_word_lengths) for script_word_lengths in word_lengths]\n",
    "\n",
    "for quantile in (0.25, 0.50, 0.75):\n",
    "    metascripts[f'Q{quantile/0.25} word length'] = [np.quantile(script_word_lengths, quantile) for script_word_lengths in word_lengths]\n",
    "\n",
    "metascripts['max word length'] = [np.max(script_word_lengths) for script_word_lengths in word_lengths]"
   ]
  },
  {
   "cell_type": "markdown",
   "metadata": {},
   "source": [
    "## sentence lengths\n",
    "sentence lengths are calculated as words per sentence\n",
    "\n",
    "   * tokenize sentences and then count whitespaces\n",
    "   * do not remove stopwords\n",
    "   * get arrays so we can do mean, median, boxplot values, standard deviation\n",
    "   \n",
    "[to the top](#Feature-Engineering-for-Standup-Scripts)"
   ]
  },
  {
   "cell_type": "code",
   "execution_count": 18,
   "metadata": {},
   "outputs": [],
   "source": [
    "sent_tokenized_list = [sent_tokenize(transcript) for description, transcript in transcripts_dict.items()]\n",
    "sent_words_tokenized_list = [[regexp_tokenize(sent, r\"['\\-\\w]+\") for sent in sent_script] for sent_script in sent_tokenized_list]\n",
    "sent_lengths = [[len(sent) for sent in script] for script in sent_words_tokenized_list]\n",
    "sent_counts = [len(script) for script in sent_tokenized_list]"
   ]
  },
  {
   "cell_type": "code",
   "execution_count": 19,
   "metadata": {},
   "outputs": [],
   "source": [
    "metascripts['mean sentence length'] = [np.mean(script_sent_lengths) for script_sent_lengths in sent_lengths]\n",
    "metascripts['std sentence length'] = [np.std(script_sent_lengths) for script_sent_lengths in sent_lengths]\n",
    "\n",
    "for quantile in (0.25, 0.50, 0.75):\n",
    "    metascripts[f'Q{quantile/0.25} sentence length'] = [np.quantile(script_sent_lengths, quantile) for script_sent_lengths in sent_lengths]\n",
    "\n",
    "metascripts['max sentence length'] = [np.max(script_sent_lengths) for script_sent_lengths in sent_lengths]"
   ]
  },
  {
   "cell_type": "markdown",
   "metadata": {},
   "source": [
    "## distinct words\n",
    "count distinct words in each show and normalize by determining the proportion of distinct words and distinct words per sentence\n",
    "\n",
    "   * tokenize: allow apostrophes and dashes but not numbers \n",
    "   * lemmatize\n",
    "   \n",
    "[to the top](#Feature-Engineering-for-Standup-Scripts)"
   ]
  },
  {
   "cell_type": "code",
   "execution_count": 20,
   "metadata": {},
   "outputs": [],
   "source": [
    "from nltk.stem.wordnet import WordNetLemmatizer"
   ]
  },
  {
   "cell_type": "code",
   "execution_count": 21,
   "metadata": {},
   "outputs": [],
   "source": [
    "lemmatizer = WordNetLemmatizer()\n",
    "lem_counter = [Counter(lemmatizer.lemmatize(word.lower()) for word in script_words) for script_words in bow_cased]"
   ]
  },
  {
   "cell_type": "code",
   "execution_count": 22,
   "metadata": {},
   "outputs": [],
   "source": [
    "unique_word_counts = [len(script_lem_counts) for script_lem_counts in lem_counter]\n",
    "total_word_counts = [np.sum([count for lem, count in script_lem_counts.items()]) for script_lem_counts in lem_counter]\n",
    "unique_total_ratio = [unique/total for unique, total in zip(unique_word_counts, total_word_counts)]\n",
    "unique_per_sent = [unique/sent_count for unique, sent_count in zip(unique_word_counts, sent_counts)]"
   ]
  },
  {
   "cell_type": "code",
   "execution_count": 23,
   "metadata": {},
   "outputs": [],
   "source": [
    "metascripts['unique words'] = unique_word_counts\n",
    "metascripts['total words'] = total_word_counts\n",
    "metascripts['proportion unique words'] = unique_total_ratio\n",
    "metascripts['unique words per sentence'] = unique_per_sent"
   ]
  },
  {
   "cell_type": "markdown",
   "metadata": {},
   "source": [
    "## words per minute and sentences per minute"
   ]
  },
  {
   "cell_type": "code",
   "execution_count": 24,
   "metadata": {},
   "outputs": [],
   "source": [
    "word_tok_scripts = [regexp_tokenize(script, r\"[\\w'-]+\") for script in scripts]\n",
    "words_per_minute = [len(script_words)/minutes for script_words, minutes in zip(word_tok_scripts, metascripts['runtimeMins'].values)]\n",
    "\n",
    "sent_tok_scripts = [sent_tokenize(script) for script in scripts]\n",
    "sent_per_minute = [len(script_sentences)/minutes for script_sentences, minutes in zip(sent_tok_scripts, metascripts['runtimeMins'].values)]"
   ]
  },
  {
   "cell_type": "code",
   "execution_count": 25,
   "metadata": {},
   "outputs": [],
   "source": [
    "metascripts['words per minute'] = words_per_minute\n",
    "metascripts['sentences per minute'] = sent_per_minute"
   ]
  },
  {
   "cell_type": "markdown",
   "metadata": {},
   "source": [
    "## repetition and phrases\n",
    "I've found three ways to get ngrams:\n",
    "\n",
    "   1. Using Gensim's [Phrases model](https://radimrehurek.com/gensim_3.8.3/models/phrases.html) iteratively across the corpus, where the kth iteration creates a kgram\n",
    "   2. Using one of SKLearn's text feature extraction modules [CountVectorizer](https://scikit-learn.org/stable/modules/generated/sklearn.feature_extraction.text.CountVectorizer.html) or [TfidfVectorizer](https://scikit-learn.org/stable/modules/generated/sklearn.feature_extraction.text.TfidfVectorizer.html#sklearn.feature_extraction.text.TfidfVectorizer), which is equivalent to the CountVectorizer followed by the [TfidfTransformer](https://scikit-learn.org/stable/modules/generated/sklearn.feature_extraction.text.TfidfTransformer.html#sklearn.feature_extraction.text.TfidfTransformer)\n",
    "   \n",
    "[to the top](#Feature-Engineering-for-Standup-Scripts)"
   ]
  },
  {
   "cell_type": "markdown",
   "metadata": {},
   "source": [
    "### with gensim"
   ]
  },
  {
   "cell_type": "code",
   "execution_count": 26,
   "metadata": {},
   "outputs": [],
   "source": [
    "from gensim.models import Phrases"
   ]
  },
  {
   "cell_type": "code",
   "execution_count": 27,
   "metadata": {},
   "outputs": [],
   "source": [
    "tok_scripts = [regexp_tokenize(transcript, r\"['\\-\\w]+\") for description, transcript in transcripts_dict.items()]\n",
    "docs_lem = [[lemmatizer.lemmatize(tok.lower()) for tok in transcript] for transcript in tok_scripts]\n",
    "docs_no_lem = [[tok.lower() for tok in transcript] for transcript in tok_scripts]"
   ]
  },
  {
   "cell_type": "code",
   "execution_count": 28,
   "metadata": {},
   "outputs": [],
   "source": [
    "# still not picking up anything greater than a bigram. May need to reduce the Phrases threshold.\n",
    "\n",
    "def append_ngrams(docs, ngram):\n",
    "    for idx in range(len(docs)):\n",
    "        for token in ngram[docs[idx]]:\n",
    "            if '_' in token:\n",
    "                # if token is an ngram, add to document.\n",
    "                docs[idx].append(token)\n",
    "    return docs\n",
    "\n",
    "def make_ngrams(tok_corpus, with_dict = False, lemmatize = True, max_n = 2, min_count = 5, **kwargs):\n",
    "    ngram_dict = {}\n",
    "    if lemmatize:\n",
    "        docs = [[lemmatizer.lemmatize(tok.lower()) for tok in transcript] for transcript in tok_corpus]\n",
    "    else:\n",
    "        docs = [[tok.lower() for tok in transcript] for transcript in tok_corpus]\n",
    "    for n in range(2, max_n+1):\n",
    "        if n == 2:\n",
    "            ngram_dict[f'{str(n)}grams'] = Phrases(docs, min_count = min_count, **kwargs)\n",
    "        else:\n",
    "            ngram_dict[f'{str(n)}grams'] = Phrases(ngram_dict[f'{str(n-1)}grams'][docs], min_count = min_count, **kwargs)\n",
    "    docs = append_ngrams(docs, ngram_dict[f'{str(max_n)}grams'])\n",
    "    if with_dict:\n",
    "        return docs, ngram_dict\n",
    "    else:\n",
    "        return docs"
   ]
  },
  {
   "cell_type": "code",
   "execution_count": 29,
   "metadata": {},
   "outputs": [],
   "source": [
    "docs, ngram_dict = make_ngrams(tok_scripts, with_dict = True, lemmatize = True, max_n = 4, min_count = 1, threshold = 1)"
   ]
  },
  {
   "cell_type": "code",
   "execution_count": 30,
   "metadata": {},
   "outputs": [
    {
     "data": {
      "text/plain": [
       "{'2grams': <gensim.models.phrases.Phrases at 0x26f72c47a60>,\n",
       " '3grams': <gensim.models.phrases.Phrases at 0x26f72c47af0>,\n",
       " '4grams': <gensim.models.phrases.Phrases at 0x26f72c47040>}"
      ]
     },
     "execution_count": 30,
     "metadata": {},
     "output_type": "execute_result"
    }
   ],
   "source": [
    "ngram_dict"
   ]
  },
  {
   "cell_type": "code",
   "execution_count": 31,
   "metadata": {},
   "outputs": [
    {
     "name": "stdout",
     "output_type": "stream",
     "text": [
      "Counter({'__quarteroid__': 2})\n",
      "Counter({'lick_my_ass': 2})\n"
     ]
    }
   ],
   "source": [
    "for ind in range(len(docs)):\n",
    "    c = Counter(tok for tok in docs[ind] if re.search(\"(.+_){2}\", tok))\n",
    "    if len(c) > 0:\n",
    "        print(c)"
   ]
  },
  {
   "cell_type": "code",
   "execution_count": 32,
   "metadata": {},
   "outputs": [
    {
     "data": {
      "text/plain": [
       "[('JIM NORTON: AMERICAN DEGENERATE (2013) – FULL TRANSCRIPT', 1),\n",
       " ('CHRIS D’ELIA: WHITE MALE. BLACK COMIC. (2013) – FULL TRANSCRIPT', 1),\n",
       " ('Bert Kreischer: Hey Big Boy (2020) – Transcript', 1),\n",
       " ('Marc Maron: End Times Fun (2020) – Full Transcript', 4)]"
      ]
     },
     "execution_count": 32,
     "metadata": {},
     "output_type": "execute_result"
    }
   ],
   "source": [
    "[(descriptions[ind], len(re.findall(\"what is that\", script.lower()))) for ind, script in enumerate(scripts) if len(re.findall(\"what is that\", script.lower())) > 0 ][15:19]"
   ]
  },
  {
   "cell_type": "markdown",
   "metadata": {},
   "source": [
    "### with sklearn"
   ]
  },
  {
   "cell_type": "code",
   "execution_count": 33,
   "metadata": {},
   "outputs": [],
   "source": [
    "# import pyLDAvis\n",
    "# import pyLDAvis.sklearn\n",
    "# pyLDAvis.enable_notebook()\n",
    "\n",
    "# from sklearn.feature_extraction.text import CountVectorizer, TfidfVectorizer\n",
    "# from sklearn.decomposition import LatentDirichletAllocation"
   ]
  },
  {
   "cell_type": "code",
   "execution_count": 34,
   "metadata": {},
   "outputs": [],
   "source": [
    "# %%timeit\n",
    "# ct_vectorizer = CountVectorizer(lowercase = True, \n",
    "#                              token_pattern = r\"\\b[a-zA-z][a-zA-Z\\-']*\\b\", \n",
    "#                              ngram_range = (1, 4),\n",
    "#                              stop_words = \"english\",\n",
    "                             \n",
    "#                             )\n",
    "# scripts_tf = ct_vectorizer.fit_transform(scripts)\n",
    "\n",
    "# tfidf_vectorizer = TfidfVectorizer(**ct_vectorizer.get_params())\n",
    "# scripts_tfidf = tfidf_vectorizer.fit_transform(scripts)"
   ]
  },
  {
   "cell_type": "code",
   "execution_count": 35,
   "metadata": {},
   "outputs": [],
   "source": [
    "# tfidf_vectorizer.get_feature_names_out()[8000:8015]"
   ]
  },
  {
   "cell_type": "code",
   "execution_count": 36,
   "metadata": {},
   "outputs": [],
   "source": [
    "# scripts_tf"
   ]
  },
  {
   "cell_type": "markdown",
   "metadata": {},
   "source": [
    "## profanity\n",
    "There are several options for detecting profanity. Three prominent ones are\n",
    "\n",
    "   - [x] [profanity-filter](#https://pypi.org/project/profanity-filter/): a sophisticated, word-list-based package with boolean methods like is_profane\n",
    "   - [ ] [profanity-check](#https://pypi.org/project/alt-profanity-check/): a model-based approach to profanity detection compatible with spaCy\n",
    "   - [ ] [better-profanity](#https://pypi.org/project/better-profanity/): another list-based approach, though less accurate than profanity-filter\n",
    "   \n",
    "profanity-filter is the most appropriate for this project. While a model-based approach is appealing, it's more likely to identify words or sentences as profane because the sentence has the structure of an insult. For instance, if a comedian says, \"That guy is a dingleberry,\" profanity-check would flag it as profane, while profanity-filter would not.\n",
    "   \n",
    "[to the top](#Feature-Engineering-for-Standup-Scripts)"
   ]
  },
  {
   "cell_type": "code",
   "execution_count": 37,
   "metadata": {},
   "outputs": [],
   "source": [
    "from profanityfilter import ProfanityFilter"
   ]
  },
  {
   "cell_type": "code",
   "execution_count": 38,
   "metadata": {},
   "outputs": [],
   "source": [
    "pf = ProfanityFilter()\n",
    "tok_scripts = [regexp_tokenize(transcript, r\"\\b[a-zA-Z'\\w\\-\\*]+\\b\") for transcript in scripts]\n",
    "tok_scripts_lc = [[token.lower() for token in script] for script in tok_scripts]\n",
    "word_counts = [Counter(token for token in script) for script in tok_scripts_lc]"
   ]
  },
  {
   "cell_type": "code",
   "execution_count": 39,
   "metadata": {},
   "outputs": [],
   "source": [
    "dictionary = Dictionary(tok_scripts_lc)\n",
    "corpus = [dictionary.doc2bow(script) for script in tok_scripts_lc]"
   ]
  },
  {
   "cell_type": "code",
   "execution_count": 40,
   "metadata": {},
   "outputs": [
    {
     "data": {
      "application/vnd.jupyter.widget-view+json": {
       "model_id": "ae4480dee90441ac959ba3c11572cfd3",
       "version_major": 2,
       "version_minor": 0
      },
      "text/plain": [
       "  0%|          | 0/310 [00:00<?, ?it/s]"
      ]
     },
     "metadata": {},
     "output_type": "display_data"
    }
   ],
   "source": [
    "#[dictionary.id2token(token) for token in dictionary.iterkeys()]\n",
    "corpus_overall_counts = {}\n",
    "for bow in tqdm(corpus):\n",
    "    for id, count in bow:\n",
    "        if dictionary[id] in corpus_overall_counts.keys():\n",
    "            corpus_overall_counts[dictionary[id]] += count\n",
    "        else:\n",
    "            corpus_overall_counts[dictionary[id]] = count"
   ]
  },
  {
   "cell_type": "code",
   "execution_count": 41,
   "metadata": {},
   "outputs": [],
   "source": [
    "# profane_dict = {word: pf.is_profane(word) for word in tqdm(corpus_overall_counts)}"
   ]
  },
  {
   "cell_type": "code",
   "execution_count": 42,
   "metadata": {},
   "outputs": [],
   "source": [
    "# with open('../data/profanity_booleans_no_lemma.pickle', 'wb') as file:\n",
    "#     pickle.dump(profane_dict, file)"
   ]
  },
  {
   "cell_type": "code",
   "execution_count": 43,
   "metadata": {},
   "outputs": [],
   "source": [
    "with open('../data/profanity_booleans_no_lemma.pickle', 'rb') as file:\n",
    "    profane_dict = pickle.load(file)"
   ]
  },
  {
   "cell_type": "code",
   "execution_count": 44,
   "metadata": {
    "scrolled": true
   },
   "outputs": [
    {
     "ename": "KeyError",
     "evalue": "'nigga-ttendant'",
     "output_type": "error",
     "traceback": [
      "\u001b[1;31m---------------------------------------------------------------------------\u001b[0m",
      "\u001b[1;31mKeyError\u001b[0m                                  Traceback (most recent call last)",
      "\u001b[1;32m<ipython-input-44-5aec37ce167b>\u001b[0m in \u001b[0;36m<module>\u001b[1;34m\u001b[0m\n\u001b[1;32m----> 1\u001b[1;33m \u001b[0mprofanity_counts\u001b[0m \u001b[1;33m=\u001b[0m \u001b[1;33m{\u001b[0m\u001b[0mdescription\u001b[0m\u001b[1;33m:\u001b[0m \u001b[1;33m{\u001b[0m\u001b[0mword\u001b[0m\u001b[1;33m:\u001b[0m\u001b[0mcount\u001b[0m \u001b[1;32mfor\u001b[0m \u001b[0mword\u001b[0m\u001b[1;33m,\u001b[0m \u001b[0mcount\u001b[0m \u001b[1;32min\u001b[0m \u001b[0mscript_counts\u001b[0m\u001b[1;33m.\u001b[0m\u001b[0mitems\u001b[0m\u001b[1;33m(\u001b[0m\u001b[1;33m)\u001b[0m \u001b[1;32mif\u001b[0m \u001b[0mprofane_dict\u001b[0m\u001b[1;33m[\u001b[0m\u001b[0mword\u001b[0m\u001b[1;33m]\u001b[0m\u001b[1;33m}\u001b[0m \u001b[1;32mfor\u001b[0m \u001b[0mscript_counts\u001b[0m\u001b[1;33m,\u001b[0m \u001b[0mdescription\u001b[0m \u001b[1;32min\u001b[0m \u001b[0mzip\u001b[0m\u001b[1;33m(\u001b[0m\u001b[0mword_counts\u001b[0m\u001b[1;33m,\u001b[0m\u001b[0mdescriptions\u001b[0m\u001b[1;33m)\u001b[0m\u001b[1;33m}\u001b[0m\u001b[1;33m\u001b[0m\u001b[1;33m\u001b[0m\u001b[0m\n\u001b[0m",
      "\u001b[1;32m<ipython-input-44-5aec37ce167b>\u001b[0m in \u001b[0;36m<dictcomp>\u001b[1;34m(.0)\u001b[0m\n\u001b[1;32m----> 1\u001b[1;33m \u001b[0mprofanity_counts\u001b[0m \u001b[1;33m=\u001b[0m \u001b[1;33m{\u001b[0m\u001b[0mdescription\u001b[0m\u001b[1;33m:\u001b[0m \u001b[1;33m{\u001b[0m\u001b[0mword\u001b[0m\u001b[1;33m:\u001b[0m\u001b[0mcount\u001b[0m \u001b[1;32mfor\u001b[0m \u001b[0mword\u001b[0m\u001b[1;33m,\u001b[0m \u001b[0mcount\u001b[0m \u001b[1;32min\u001b[0m \u001b[0mscript_counts\u001b[0m\u001b[1;33m.\u001b[0m\u001b[0mitems\u001b[0m\u001b[1;33m(\u001b[0m\u001b[1;33m)\u001b[0m \u001b[1;32mif\u001b[0m \u001b[0mprofane_dict\u001b[0m\u001b[1;33m[\u001b[0m\u001b[0mword\u001b[0m\u001b[1;33m]\u001b[0m\u001b[1;33m}\u001b[0m \u001b[1;32mfor\u001b[0m \u001b[0mscript_counts\u001b[0m\u001b[1;33m,\u001b[0m \u001b[0mdescription\u001b[0m \u001b[1;32min\u001b[0m \u001b[0mzip\u001b[0m\u001b[1;33m(\u001b[0m\u001b[0mword_counts\u001b[0m\u001b[1;33m,\u001b[0m\u001b[0mdescriptions\u001b[0m\u001b[1;33m)\u001b[0m\u001b[1;33m}\u001b[0m\u001b[1;33m\u001b[0m\u001b[1;33m\u001b[0m\u001b[0m\n\u001b[0m",
      "\u001b[1;32m<ipython-input-44-5aec37ce167b>\u001b[0m in \u001b[0;36m<dictcomp>\u001b[1;34m(.0)\u001b[0m\n\u001b[1;32m----> 1\u001b[1;33m \u001b[0mprofanity_counts\u001b[0m \u001b[1;33m=\u001b[0m \u001b[1;33m{\u001b[0m\u001b[0mdescription\u001b[0m\u001b[1;33m:\u001b[0m \u001b[1;33m{\u001b[0m\u001b[0mword\u001b[0m\u001b[1;33m:\u001b[0m\u001b[0mcount\u001b[0m \u001b[1;32mfor\u001b[0m \u001b[0mword\u001b[0m\u001b[1;33m,\u001b[0m \u001b[0mcount\u001b[0m \u001b[1;32min\u001b[0m \u001b[0mscript_counts\u001b[0m\u001b[1;33m.\u001b[0m\u001b[0mitems\u001b[0m\u001b[1;33m(\u001b[0m\u001b[1;33m)\u001b[0m \u001b[1;32mif\u001b[0m \u001b[0mprofane_dict\u001b[0m\u001b[1;33m[\u001b[0m\u001b[0mword\u001b[0m\u001b[1;33m]\u001b[0m\u001b[1;33m}\u001b[0m \u001b[1;32mfor\u001b[0m \u001b[0mscript_counts\u001b[0m\u001b[1;33m,\u001b[0m \u001b[0mdescription\u001b[0m \u001b[1;32min\u001b[0m \u001b[0mzip\u001b[0m\u001b[1;33m(\u001b[0m\u001b[0mword_counts\u001b[0m\u001b[1;33m,\u001b[0m\u001b[0mdescriptions\u001b[0m\u001b[1;33m)\u001b[0m\u001b[1;33m}\u001b[0m\u001b[1;33m\u001b[0m\u001b[1;33m\u001b[0m\u001b[0m\n\u001b[0m",
      "\u001b[1;31mKeyError\u001b[0m: 'nigga-ttendant'"
     ]
    }
   ],
   "source": [
    "profanity_counts = {description: {word:count for word, count in script_counts.items() if profane_dict[word]} for script_counts, description in zip(word_counts,descriptions)}"
   ]
  },
  {
   "cell_type": "code",
   "execution_count": null,
   "metadata": {},
   "outputs": [],
   "source": [
    "profane_words = [sum(words.values()) for description, words in profanity_counts.items()]\n",
    "total_words = [sum(script_word_counts.values()) for script_word_counts in word_counts]\n",
    "profane_proportion = [profane/total for profane, total in zip(profane_words, total_words)]\n",
    "profane_per_sent = [profane/sent_count for profane, sent_count in zip(profane_words, sent_counts)]\n",
    "profane_per_min = [profane/minutes for profane, minutes in zip(profane_words, metascripts['runtimeMins'].values)]"
   ]
  },
  {
   "cell_type": "code",
   "execution_count": null,
   "metadata": {},
   "outputs": [],
   "source": [
    "metascripts['profane count'] = profane_words\n",
    "metascripts['profane proportion'] = profane_proportion\n",
    "metascripts['profanity per sentence'] = profane_per_sent\n",
    "metascripts['profanity per minute'] = profane_per_min"
   ]
  },
  {
   "cell_type": "code",
   "execution_count": null,
   "metadata": {},
   "outputs": [],
   "source": [
    "px.box(metascripts, x = 'profanity per minute', hover_data = ['description', 'profane count'], points = 'all')"
   ]
  },
  {
   "cell_type": "markdown",
   "metadata": {},
   "source": [
    "## part-of-speech frequencies"
   ]
  },
  {
   "cell_type": "code",
   "execution_count": 121,
   "metadata": {},
   "outputs": [
    {
     "data": {
      "application/vnd.jupyter.widget-view+json": {
       "model_id": "ebc37a941de5478095df0786537c1773",
       "version_major": 2,
       "version_minor": 0
      },
      "text/plain": [
       "  0%|          | 0/31.0 [00:00<?, ?it/s]"
      ]
     },
     "metadata": {},
     "output_type": "display_data"
    }
   ],
   "source": [
    "# instantiate the English model: nlp\n",
    "nlp = spacy.load('en_core_web_md')\n",
    "\n",
    "# create chunker to manage memory usage\n",
    "def chunker(iterable, chunksize):\n",
    "    for i in range(0, len(list(iterable)), chunksize):\n",
    "        yield iterable[i:i+chunksize]\n",
    "\n",
    "# create function that builds a dictionary from pos counts\n",
    "def get_doc_pos_count(doc):\n",
    "    pos_dict = {}\n",
    "    for token in doc:\n",
    "        if token.pos_ in pos_dict.keys():\n",
    "            pos_dict[token.pos_] += 1\n",
    "        else:\n",
    "            pos_dict[token.pos_] = 1\n",
    "    return pos_dict\n",
    "\n",
    "# stream scripts in chunks through the nlp pipe, make pos counts dictionaries, and append to complete list\n",
    "docs_pos_counts = []\n",
    "for scripts_subset in tqdm(chunker(scripts, 10), total = np.ceil(len(scripts)/10)):\n",
    "    subset_list = [get_doc_pos_count(doc) for doc in nlp.pipe(scripts_subset)]\n",
    "    docs_pos_counts.extend(subset_list)"
   ]
  },
  {
   "cell_type": "code",
   "execution_count": 126,
   "metadata": {},
   "outputs": [],
   "source": [
    "# turn list of dictionary counts to dictionary of dictionary counts of only actual words\n",
    "docs_pos_counts_words = [{pos: count for pos, count in count_dict.items() if pos not in ['PUNCT', 'SPACE', 'X']} for count_dict in docs_pos_counts]\n",
    "show_pos_counts = dict(zip(descriptions, docs_pos_counts_words))\n",
    "\n",
    "# create dictionary of dictionaries of pos proportions by show\n",
    "show_pos_props = {description: {pos: count/sum(counts_dict.values()) for pos, count in counts_dict.items()} for description, counts_dict in show_pos_counts.items()}"
   ]
  },
  {
   "cell_type": "code",
   "execution_count": 133,
   "metadata": {},
   "outputs": [
    {
     "data": {
      "text/html": [
       "<div>\n",
       "<style scoped>\n",
       "    .dataframe tbody tr th:only-of-type {\n",
       "        vertical-align: middle;\n",
       "    }\n",
       "\n",
       "    .dataframe tbody tr th {\n",
       "        vertical-align: top;\n",
       "    }\n",
       "\n",
       "    .dataframe thead th {\n",
       "        text-align: right;\n",
       "    }\n",
       "</style>\n",
       "<table border=\"1\" class=\"dataframe\">\n",
       "  <thead>\n",
       "    <tr style=\"text-align: right;\">\n",
       "      <th></th>\n",
       "      <th>description</th>\n",
       "      <th>VERB</th>\n",
       "      <th>PRON</th>\n",
       "      <th>INTJ</th>\n",
       "      <th>NOUN</th>\n",
       "      <th>ADV</th>\n",
       "      <th>AUX</th>\n",
       "      <th>ADJ</th>\n",
       "      <th>PART</th>\n",
       "      <th>ADP</th>\n",
       "      <th>DET</th>\n",
       "      <th>SCONJ</th>\n",
       "      <th>CCONJ</th>\n",
       "      <th>PROPN</th>\n",
       "      <th>NUM</th>\n",
       "      <th>SYM</th>\n",
       "    </tr>\n",
       "  </thead>\n",
       "  <tbody>\n",
       "    <tr>\n",
       "      <th>0</th>\n",
       "      <td>Jim Gaffigan: Comedy Monster (2021) | Transcript</td>\n",
       "      <td>0.146510</td>\n",
       "      <td>0.184963</td>\n",
       "      <td>0.017147</td>\n",
       "      <td>0.145698</td>\n",
       "      <td>0.062906</td>\n",
       "      <td>0.106230</td>\n",
       "      <td>0.053673</td>\n",
       "      <td>0.037845</td>\n",
       "      <td>0.081981</td>\n",
       "      <td>0.077922</td>\n",
       "      <td>0.024046</td>\n",
       "      <td>0.027902</td>\n",
       "      <td>0.025974</td>\n",
       "      <td>0.007204</td>\n",
       "      <td>0.000000</td>\n",
       "    </tr>\n",
       "    <tr>\n",
       "      <th>1</th>\n",
       "      <td>Louis C. K.: Sorry (2021) | Transcript</td>\n",
       "      <td>0.140020</td>\n",
       "      <td>0.206552</td>\n",
       "      <td>0.016381</td>\n",
       "      <td>0.133737</td>\n",
       "      <td>0.057669</td>\n",
       "      <td>0.106361</td>\n",
       "      <td>0.057556</td>\n",
       "      <td>0.039942</td>\n",
       "      <td>0.076517</td>\n",
       "      <td>0.074274</td>\n",
       "      <td>0.030405</td>\n",
       "      <td>0.029507</td>\n",
       "      <td>0.021317</td>\n",
       "      <td>0.008639</td>\n",
       "      <td>0.001122</td>\n",
       "    </tr>\n",
       "    <tr>\n",
       "      <th>2</th>\n",
       "      <td>Drew Michael: Drew Michael (2018) | Transcript</td>\n",
       "      <td>0.136785</td>\n",
       "      <td>0.216978</td>\n",
       "      <td>0.043468</td>\n",
       "      <td>0.119326</td>\n",
       "      <td>0.058519</td>\n",
       "      <td>0.116918</td>\n",
       "      <td>0.053341</td>\n",
       "      <td>0.040698</td>\n",
       "      <td>0.083925</td>\n",
       "      <td>0.060566</td>\n",
       "      <td>0.027694</td>\n",
       "      <td>0.026851</td>\n",
       "      <td>0.007586</td>\n",
       "      <td>0.007345</td>\n",
       "      <td>0.000000</td>\n",
       "    </tr>\n",
       "    <tr>\n",
       "      <th>3</th>\n",
       "      <td>Drew Michael: Red Blue Green (2021) | Transcript</td>\n",
       "      <td>0.140336</td>\n",
       "      <td>0.199783</td>\n",
       "      <td>0.022306</td>\n",
       "      <td>0.133947</td>\n",
       "      <td>0.055658</td>\n",
       "      <td>0.107959</td>\n",
       "      <td>0.052518</td>\n",
       "      <td>0.045479</td>\n",
       "      <td>0.087168</td>\n",
       "      <td>0.069193</td>\n",
       "      <td>0.026096</td>\n",
       "      <td>0.029020</td>\n",
       "      <td>0.021332</td>\n",
       "      <td>0.009204</td>\n",
       "      <td>0.000000</td>\n",
       "    </tr>\n",
       "    <tr>\n",
       "      <th>4</th>\n",
       "      <td>Mo Amer: Mohammed in Texas (2021) | Transcript</td>\n",
       "      <td>0.134704</td>\n",
       "      <td>0.207911</td>\n",
       "      <td>0.027945</td>\n",
       "      <td>0.133917</td>\n",
       "      <td>0.061694</td>\n",
       "      <td>0.104300</td>\n",
       "      <td>0.051855</td>\n",
       "      <td>0.031388</td>\n",
       "      <td>0.085309</td>\n",
       "      <td>0.065729</td>\n",
       "      <td>0.017810</td>\n",
       "      <td>0.026567</td>\n",
       "      <td>0.041622</td>\n",
       "      <td>0.009151</td>\n",
       "      <td>0.000098</td>\n",
       "    </tr>\n",
       "    <tr>\n",
       "      <th>...</th>\n",
       "      <td>...</td>\n",
       "      <td>...</td>\n",
       "      <td>...</td>\n",
       "      <td>...</td>\n",
       "      <td>...</td>\n",
       "      <td>...</td>\n",
       "      <td>...</td>\n",
       "      <td>...</td>\n",
       "      <td>...</td>\n",
       "      <td>...</td>\n",
       "      <td>...</td>\n",
       "      <td>...</td>\n",
       "      <td>...</td>\n",
       "      <td>...</td>\n",
       "      <td>...</td>\n",
       "      <td>...</td>\n",
       "    </tr>\n",
       "    <tr>\n",
       "      <th>305</th>\n",
       "      <td>GEORGE CARLIN: COMPLAINTS AND GRIEVANCES (2001...</td>\n",
       "      <td>0.139356</td>\n",
       "      <td>0.163515</td>\n",
       "      <td>0.011204</td>\n",
       "      <td>0.166433</td>\n",
       "      <td>0.056723</td>\n",
       "      <td>0.079132</td>\n",
       "      <td>0.063025</td>\n",
       "      <td>0.038982</td>\n",
       "      <td>0.092787</td>\n",
       "      <td>0.083217</td>\n",
       "      <td>0.018441</td>\n",
       "      <td>0.032096</td>\n",
       "      <td>0.044118</td>\n",
       "      <td>0.010854</td>\n",
       "      <td>0.000117</td>\n",
       "    </tr>\n",
       "    <tr>\n",
       "      <th>306</th>\n",
       "      <td>GEORGE CARLIN: LIFE IS WORTH LOSING (2006) – T...</td>\n",
       "      <td>0.143898</td>\n",
       "      <td>0.150713</td>\n",
       "      <td>0.008538</td>\n",
       "      <td>0.181654</td>\n",
       "      <td>0.055616</td>\n",
       "      <td>0.074886</td>\n",
       "      <td>0.075748</td>\n",
       "      <td>0.035172</td>\n",
       "      <td>0.089456</td>\n",
       "      <td>0.092355</td>\n",
       "      <td>0.017233</td>\n",
       "      <td>0.037130</td>\n",
       "      <td>0.026007</td>\n",
       "      <td>0.011593</td>\n",
       "      <td>0.000000</td>\n",
       "    </tr>\n",
       "    <tr>\n",
       "      <th>307</th>\n",
       "      <td>George Carlin: It’s Bad For Ya (2008) Full tra...</td>\n",
       "      <td>0.147432</td>\n",
       "      <td>0.165814</td>\n",
       "      <td>0.012886</td>\n",
       "      <td>0.154539</td>\n",
       "      <td>0.057703</td>\n",
       "      <td>0.090203</td>\n",
       "      <td>0.063578</td>\n",
       "      <td>0.039227</td>\n",
       "      <td>0.084707</td>\n",
       "      <td>0.083002</td>\n",
       "      <td>0.021508</td>\n",
       "      <td>0.032405</td>\n",
       "      <td>0.034395</td>\n",
       "      <td>0.012507</td>\n",
       "      <td>0.000095</td>\n",
       "    </tr>\n",
       "    <tr>\n",
       "      <th>308</th>\n",
       "      <td>Dave Chappelle: 8:46 – Transcript</td>\n",
       "      <td>0.140195</td>\n",
       "      <td>0.181085</td>\n",
       "      <td>0.008345</td>\n",
       "      <td>0.139638</td>\n",
       "      <td>0.040890</td>\n",
       "      <td>0.091516</td>\n",
       "      <td>0.053686</td>\n",
       "      <td>0.035883</td>\n",
       "      <td>0.079555</td>\n",
       "      <td>0.088178</td>\n",
       "      <td>0.025591</td>\n",
       "      <td>0.037274</td>\n",
       "      <td>0.063421</td>\n",
       "      <td>0.014465</td>\n",
       "      <td>0.000278</td>\n",
       "    </tr>\n",
       "    <tr>\n",
       "      <th>309</th>\n",
       "      <td>JIM JEFFERIES ON GUN CONTROL [FULL TRANSCRIPT]</td>\n",
       "      <td>0.154672</td>\n",
       "      <td>0.190457</td>\n",
       "      <td>0.015905</td>\n",
       "      <td>0.140358</td>\n",
       "      <td>0.051690</td>\n",
       "      <td>0.095427</td>\n",
       "      <td>0.057256</td>\n",
       "      <td>0.037376</td>\n",
       "      <td>0.081909</td>\n",
       "      <td>0.065606</td>\n",
       "      <td>0.032604</td>\n",
       "      <td>0.031014</td>\n",
       "      <td>0.029026</td>\n",
       "      <td>0.014712</td>\n",
       "      <td>0.001988</td>\n",
       "    </tr>\n",
       "  </tbody>\n",
       "</table>\n",
       "<p>310 rows × 16 columns</p>\n",
       "</div>"
      ],
      "text/plain": [
       "                                           description      VERB      PRON  \\\n",
       "0     Jim Gaffigan: Comedy Monster (2021) | Transcript  0.146510  0.184963   \n",
       "1               Louis C. K.: Sorry (2021) | Transcript  0.140020  0.206552   \n",
       "2       Drew Michael: Drew Michael (2018) | Transcript  0.136785  0.216978   \n",
       "3     Drew Michael: Red Blue Green (2021) | Transcript  0.140336  0.199783   \n",
       "4       Mo Amer: Mohammed in Texas (2021) | Transcript  0.134704  0.207911   \n",
       "..                                                 ...       ...       ...   \n",
       "305  GEORGE CARLIN: COMPLAINTS AND GRIEVANCES (2001...  0.139356  0.163515   \n",
       "306  GEORGE CARLIN: LIFE IS WORTH LOSING (2006) – T...  0.143898  0.150713   \n",
       "307  George Carlin: It’s Bad For Ya (2008) Full tra...  0.147432  0.165814   \n",
       "308                  Dave Chappelle: 8:46 – Transcript  0.140195  0.181085   \n",
       "309     JIM JEFFERIES ON GUN CONTROL [FULL TRANSCRIPT]  0.154672  0.190457   \n",
       "\n",
       "         INTJ      NOUN       ADV       AUX       ADJ      PART       ADP  \\\n",
       "0    0.017147  0.145698  0.062906  0.106230  0.053673  0.037845  0.081981   \n",
       "1    0.016381  0.133737  0.057669  0.106361  0.057556  0.039942  0.076517   \n",
       "2    0.043468  0.119326  0.058519  0.116918  0.053341  0.040698  0.083925   \n",
       "3    0.022306  0.133947  0.055658  0.107959  0.052518  0.045479  0.087168   \n",
       "4    0.027945  0.133917  0.061694  0.104300  0.051855  0.031388  0.085309   \n",
       "..        ...       ...       ...       ...       ...       ...       ...   \n",
       "305  0.011204  0.166433  0.056723  0.079132  0.063025  0.038982  0.092787   \n",
       "306  0.008538  0.181654  0.055616  0.074886  0.075748  0.035172  0.089456   \n",
       "307  0.012886  0.154539  0.057703  0.090203  0.063578  0.039227  0.084707   \n",
       "308  0.008345  0.139638  0.040890  0.091516  0.053686  0.035883  0.079555   \n",
       "309  0.015905  0.140358  0.051690  0.095427  0.057256  0.037376  0.081909   \n",
       "\n",
       "          DET     SCONJ     CCONJ     PROPN       NUM       SYM  \n",
       "0    0.077922  0.024046  0.027902  0.025974  0.007204  0.000000  \n",
       "1    0.074274  0.030405  0.029507  0.021317  0.008639  0.001122  \n",
       "2    0.060566  0.027694  0.026851  0.007586  0.007345  0.000000  \n",
       "3    0.069193  0.026096  0.029020  0.021332  0.009204  0.000000  \n",
       "4    0.065729  0.017810  0.026567  0.041622  0.009151  0.000098  \n",
       "..        ...       ...       ...       ...       ...       ...  \n",
       "305  0.083217  0.018441  0.032096  0.044118  0.010854  0.000117  \n",
       "306  0.092355  0.017233  0.037130  0.026007  0.011593  0.000000  \n",
       "307  0.083002  0.021508  0.032405  0.034395  0.012507  0.000095  \n",
       "308  0.088178  0.025591  0.037274  0.063421  0.014465  0.000278  \n",
       "309  0.065606  0.032604  0.031014  0.029026  0.014712  0.001988  \n",
       "\n",
       "[310 rows x 16 columns]"
      ]
     },
     "execution_count": 133,
     "metadata": {},
     "output_type": "execute_result"
    }
   ],
   "source": [
    "# create pos proportion dataframe, pos_df\n",
    "pos_df = (pd.DataFrame.from_dict(show_pos_props, orient = 'index')\n",
    "                      .fillna(0)\n",
    "                      .reset_index()\n",
    "                      .rename(columns = {'index':'description'})\n",
    "        )\n",
    "pos_df"
   ]
  },
  {
   "cell_type": "code",
   "execution_count": 173,
   "metadata": {},
   "outputs": [],
   "source": [
    "# pickle pos_df for future use\n",
    "with open('../data/pos_props_df.pickle', 'wb') as file:\n",
    "    pickle.dump(pos_df, file)\n",
    "\n",
    "# read in pos_df\n",
    "with open('../data/pos_props_df.pickle', 'rb') as file:\n",
    "    pos_df = pickle.load(file)"
   ]
  },
  {
   "cell_type": "code",
   "execution_count": 176,
   "metadata": {},
   "outputs": [
    {
     "data": {
      "application/vnd.plotly.v1+json": {
       "config": {
        "plotlyServerURL": "https://plotly.com"
       },
       "data": [
        {
         "alignmentgroup": "True",
         "boxpoints": "all",
         "customdata": [
          [
           "Jim Gaffigan: Comedy Monster (2021) | Transcript"
          ],
          [
           "Louis C. K.: Sorry (2021) | Transcript"
          ],
          [
           "Drew Michael: Drew Michael (2018) | Transcript"
          ],
          [
           "Drew Michael: Red Blue Green (2021) | Transcript"
          ],
          [
           "Mo Amer: Mohammed in Texas (2021) | Transcript"
          ],
          [
           "Dave Chappelle: The Closer (2021) | Transcript"
          ],
          [
           "Kathleen Madigan: Bothering Jesus (2016) – Transcript"
          ],
          [
           "Kathleen Madigan: Madigan Again (2013) – Transcript"
          ],
          [
           "Phil Wang: Philly Philly Wang Wang (2021) – Transcript"
          ],
          [
           "Tom Papa: You’re Doing Great! (2020) – Transcript"
          ],
          [
           "Tom Papa: Human Mule (2016) – Transcript"
          ],
          [
           "Tom Papa: Freaked Out (2013) – Transcript"
          ],
          [
           "Bo Burnham: Inside (2021) – Transcript"
          ],
          [
           "Tig Notaro: Boyish Girl Interrupted (2015) – Transcript"
          ],
          [
           "Joe List: I Hate Myself (2020) – Transcript"
          ],
          [
           "Nate Bargatze: The Greatest Average American (2021) – Transcript"
          ],
          [
           "Brian Regan: On The Rocks (2021) – Transcript"
          ],
          [
           "Doug Stanhope: Beer Hall Putsch (2013) – Transcript"
          ],
          [
           "Chris Rock Total Blackout: The Tamborine Extended Cut – Transcript"
          ],
          [
           "Sarah Cooper: Everything’s Fine (2020) – Transcript"
          ],
          [
           "Bo Burnham: Words, Words, Words (2010) – Transcript"
          ],
          [
           "Vir Das: Outside in – The Lockdown Special (2020) – Transcript"
          ],
          [
           "Larry the Cable Guy – Remain Seated (2020) – Transcript"
          ],
          [
           "Craig Ferguson: Just Being Honest (2015) – Transcript"
          ],
          [
           "Kevin Hart: Zero F**ks Given (2020) – Transcript"
          ],
          [
           "Sam Morril: I Got This (2020) – Transcript"
          ],
          [
           "RONNY CHIENG: ASIAN COMEDIAN DESTROYS AMERICA (2019) – TRANSCRIPT"
          ],
          [
           "Craig Ferguson: A Wee Bit o’ Revolution (2009) – Transcript"
          ],
          [
           "MICHAEL MCINTYRE: SHOWMAN (2020) – TRANSCRIPT"
          ],
          [
           "ROB SCHNEIDER: ASIAN MOMMA, MEXICAN KIDS (2020) – TRANSCRIPT"
          ],
          [
           "Sam Jay: 3 in the Morning (2020) – Transcript"
          ],
          [
           "Jack Whitehall: I’m Only Joking (2020) | Transcript"
          ],
          [
           "URZILA CARLSON: OVERQUALIFIED LOSER (2020) – FULL TRANSCRIPT"
          ],
          [
           "GEORGE LOPEZ: WE’LL DO IT FOR HALF (2020) – FULL TRANSCRIPT"
          ],
          [
           "JIM JEFFERIES: INTOLERANT (2020) – FULL TRANSCRIPT"
          ],
          [
           "George Carlin: Doin’ It Again (1990) – Transcript"
          ],
          [
           "ERIC ANDRE: LEGALIZE EVERYTHING (2020)"
          ],
          [
           "ROY WOOD JR.: FATHER FIGURE (2017) – FULL TRANSCRIPT"
          ],
          [
           "Mark Normand: Don’t Be Yourself (2017) – Transcript"
          ],
          [
           "Chris Gethard: Career Suicide (2017) – Transcript"
          ],
          [
           "RAMY YOUSSEF: FEELINGS (2019) – FULL TRANSCRIPT"
          ],
          [
           "KENNY SEBASTIAN DON’T BE THAT GUY (2017) – FULL TRANSCRIPT"
          ],
          [
           "BILLY CONNOLLY: HIGH HORSE TOUR LIVE (2016) – FULL TRANSCRIPT"
          ],
          [
           "Hannah Gadsby: Douglas (2020) – Transcript"
          ],
          [
           "Hasan Minhaj: Homecoming King (2017) – Transcript"
          ],
          [
           "PATTON OSWALT: I LOVE EVERYTHING (2020) – FULL TRANSCRIPT"
          ],
          [
           "RUSSELL PETERS: DEPORTED (2020) – FULL TRANSCRIPT"
          ],
          [
           "JIMMY O. YANG: GOOD DEAL (2020) – FULL TRANSCRIPT"
          ],
          [
           "JO KOY: LIGHTS OUT (2012) – FULL TRANSCRIPT"
          ],
          [
           "LEE MACK: GOING OUT LIVE (2010) – FULL TRANSCRIPT"
          ],
          [
           "LEE MACK: LIVE (2007) – FULL TRANSCRIPT"
          ],
          [
           "T.J. MILLER: NO REAL REASON (2011) – FULL TRANSCRIPT"
          ],
          [
           "Jerry Seinfeld: 23 Hours To Kill (2020) – Transcript"
          ],
          [
           "SINCERELY LOUIS CK (2020)"
          ],
          [
           "JIM NORTON: AMERICAN DEGENERATE (2013) – FULL TRANSCRIPT"
          ],
          [
           "Jim Norton: Monster Rain (2007) – Transcript"
          ],
          [
           "MARIA BAMFORD: WEAKNESS IS THE BRAND (2020) – FULL TRANSCRIPT"
          ],
          [
           "CHRIS D’ELIA: WHITE MALE. BLACK COMIC. (2013) – FULL TRANSCRIPT"
          ],
          [
           "Chris D’Elia: Man on Fire (2017) – Full Transcript"
          ],
          [
           "Tom Segura: Ball Hog (2020) – Transcript"
          ],
          [
           "Bert Kreischer: Hey Big Boy (2020) – Transcript"
          ],
          [
           "Marc Maron: End Times Fun (2020) – Full Transcript"
          ],
          [
           "PETE DAVIDSON: SMD (2016) – FULL TRANSCRIPT"
          ],
          [
           "PETE DAVIDSON: ALIVE FROM NEW YORK (2020) – FULL TRANSCRIPT"
          ],
          [
           "Amanda Seales: I Be Knowin’ (2019) – Transcript"
          ],
          [
           "Stewart Lee: Carpet Remnant World (2012) – Full Transcript"
          ],
          [
           "Stewart Lee: Content Provider (2018) – Transcript"
          ],
          [
           "Sara Pascoe: LadsLadsLads (2019) – Full Transcript"
          ],
          [
           "Dan Soder: Son of a Gary (2019) – Full Transcript"
          ],
          [
           "Jim Gaffigan: Quality Time (2019) – Full Transcript"
          ],
          [
           "Kevin Bridges: A Whole Different Story (2015) – Full Transcript"
          ],
          [
           "Kevin Bridges: The Story So Far… Live in Glasgow (2010) – Full Transcript"
          ],
          [
           "Kevin Bridges: The Story Continues (2012) – Full Transcript"
          ],
          [
           "Michelle Wolf: Joke Show (2019) – Full Transcript"
          ],
          [
           "Tiffany Haddish: Black Mitzvah (2019) – Transcript"
          ],
          [
           "Mike Birbiglia: The New One (2019) – Full Transcript"
          ],
          [
           "Iliza Shlesinger: Unveiled (2019) – Full Transcript"
          ],
          [
           "Seth Meyers: Lobby Baby (2019) – Full Transcript"
          ],
          [
           "Arsenio Hall: Smart and Classy (2019) – Transcript"
          ],
          [
           "Nikki Glaser: Bangin’ (2019) – Full Transcript"
          ],
          [
           "Bill Burr: Paper Tiger (2019) – Transcript"
          ],
          [
           "Dave Chappelle: Sticks & Stones (2019) – Transcript"
          ],
          [
           "Emily Heller: Ice Thickeners (2019) – Full Transcript"
          ],
          [
           "David Cross: Oh Come On (2019) – Full Transcript"
          ],
          [
           "Whitney Cummings: Can I Touch It? (2019) – Full Transcript"
          ],
          [
           "Aziz Ansari: Right Now (2019) – Transcript"
          ],
          [
           "Ralphie May: Filthy Animal Tour (2014) – Transcript"
          ],
          [
           "Mike Epps: Only One Mike (2019) – Full Transcript"
          ],
          [
           "Adam DeVine: Best Time of Our Lives (2019) – Full Transcript"
          ],
          [
           "Jo Koy: Live from Seattle (2017) – Full Transcript"
          ],
          [
           "Jo Koy: Comin’ in Hot (2019) – Full Transcript"
          ],
          [
           "Wanda Sykes: Not Normal (2019) – Full Transcript"
          ],
          [
           "Cedric the Entertainer: Live from the Ville (2016) – Transcript"
          ],
          [
           "Eddie Murphy: Raw (1987) – Transcript"
          ],
          [
           "Colin Quinn: The New York Story (2016) – Full Transcript"
          ],
          [
           "Demetri Martin: Live (At The Time) (2015) | Transcript"
          ],
          [
           "George Carlin: What Am I Doing in New Jersey? (1988) – Full Transcript"
          ],
          [
           "Chelsea Peretti: One of the Greats (2014) – Full Transcript"
          ],
          [
           "Anthony Jeselnik: Fire in the Maternity Ward (2019) – Transcript"
          ],
          [
           "Roy Wood Jr.: No One Loves You (2019) – Transcript"
          ],
          [
           "Robin Williams: Weapons of Self Destruction (2009) – Full Transcript"
          ],
          [
           "ROBIN WILLIAMS LIVE ON BROADWAY (2002) – FULL TRANSCRIPT"
          ],
          [
           "Jimmy Carr: The Best of Ultimate Gold Greatest Hits (2019) – Full Transcript"
          ],
          [
           "Nate Bargatze: The Tennessee Kid (2019) – Full Transcript"
          ],
          [
           "W. Kamau Bell: Private School Negro (2018) – Transcript"
          ],
          [
           "Kevin Hart: Irresponsible (2019) – Transcript"
          ],
          [
           "Nate Bargatze: Full Time Magic (2015) – Full Transcript"
          ],
          [
           "Amy Schumer: Growing (2019) – Full Transcript"
          ],
          [
           "Enissa Amani: Ehrenwort (2018) Full Transcript"
          ],
          [
           "Ken Jeong: You Complete Me, Ho (2019) – Full Transcript"
          ],
          [
           "Ray Romano: Right Here, Around the Corner (2019) – Full Transcript"
          ],
          [
           "Gabriel “Fluffy” Iglesias: One Show Fits All (2019) – Full Transcript"
          ],
          [
           "Sebastian Maniscalco: Stay Hungry (2019) – Full Transcript"
          ],
          [
           "Sebastian Maniscalco: Aren’t You Embarrassed? (2014) – Full Transcript"
          ],
          [
           "Sebastian Maniscalco: What’s Wrong with People? (2012) – Full Transcript"
          ],
          [
           "Oh, Hello On Broadway (2017) – Transcript"
          ],
          [
           "Ellen Degeneres: Relatable (2018) – Transcript"
          ],
          [
           "Pete Holmes: Dirty Clean (2018) – Full Transcript"
          ],
          [
           "Vir Das: Losing It (2018) – Full Transcript"
          ],
          [
           "Trevor Noah: Son of Patricia (2018) – Transcript"
          ],
          [
           "Jeff Foxworthy & Larry the Cable Guy: We’ve Been Thinking (2016) – Full Transcript"
          ],
          [
           "Adam Sandler: 100% Fresh (2018) – Full Transcript"
          ],
          [
           "Jeff Foxworthy: Totally Committed (1998) – Full Transcript"
          ],
          [
           "RON WHITE: IF YOU QUIT LISTENING, I’LL SHUT UP (2018) – FULL TRANSCRIPT"
          ],
          [
           "Mo Amer: The Vagabond (2018) – Full Transcript"
          ],
          [
           "Joe Mande’s Award-Winning Comedy Special (2017) – Full Transcript"
          ],
          [
           "Henry Rollins: Keep Talking, Pal (2018) – Full Transcript"
          ],
          [
           "Joe Rogan: Strange Times (2018) – Full Transcript"
          ],
          [
           "D.L. Hughley: Contrarian (2018) – Transcript"
          ],
          [
           "Iliza Shlesinger: Freezing Hot (2015) – Full Transcript"
          ],
          [
           "Iliza Shlesinger: War Paint (2013) – Transcript"
          ],
          [
           "Bert Kreischer: Secret Time (2018) – Transcript"
          ],
          [
           "Demetri Martin: The Overthinker (2018) | Transcript"
          ],
          [
           "BILL MAHER: LIVE FROM OKLAHOMA (2018) – Full Transcript"
          ],
          [
           "Rowan Atkinson Live (1992) – Transcript"
          ],
          [
           "Iliza Shlesinger: Confirmed Kills (2016) – Full Transcript"
          ],
          [
           "Iliza Shlesinger: Elder Millennial (2018) – Full Transcript"
          ],
          [
           "JIM GAFFIGAN: NOBLE APE (2018) – Full Transcript"
          ],
          [
           "Jim Norton: Contextually Inadequate (2015) – Transcript"
          ],
          [
           "Hannah Gadsby: Nanette (2018) – Transcript"
          ],
          [
           "BRAD WILLIAMS: DADDY ISSUES (2016) – Full Transcript"
          ],
          [
           "Deray Davis: How To Act Black (2017) – Transcript"
          ],
          [
           "RICKY GERVAIS: LIVE IV – SCIENCE (2010) – Full Transcript"
          ],
          [
           "JIM JEFFERIES: THIS IS ME NOW (2018) – Full transcript"
          ],
          [
           "RUSSELL PETERS: OUTSOURCED (2006) – Full Transcript"
          ],
          [
           "RUSSELL PETERS: ALMOST FAMOUS (2016) – Full Transcript"
          ],
          [
           "RON WHITE: A LITTLE UNPROFESSIONAL (2012) – Full Transcript"
          ],
          [
           "MICHAEL MCINTYRE: HELLO WEMBLEY! (2009) – Full Transcript"
          ],
          [
           "KEVIN SMITH: SILENT BUT DEADLY (2018) – Full Transcript"
          ],
          [
           "KEVIN JAMES: NEVER DON’T GIVE UP (2018) – Full Transcript"
          ],
          [
           "BRENT MORIN: I’M BRENT MORIN (2015) – Full Transcript"
          ],
          [
           "NIKKI GLASER: PERFECT (2016) – Full Transcript"
          ],
          [
           "Ali Wong: Hard Knock Wife (2018) – Transcript"
          ],
          [
           "KAVIN JAY: EVERYBODY CALM DOWN! (2018) – Full Transcript"
          ],
          [
           "John Mulaney: Kid Gorgeous At Radio City (2018) – Transcript"
          ],
          [
           "Eddie Griffin: Undeniable (2018) – Transcript"
          ],
          [
           "GREG DAVIES: YOU MAGNIFICENT BEAST (2018) – Full Transcript"
          ],
          [
           "George Carlin: You Are All Diseased (1999) – Transcript"
          ],
          [
           "Marlon Wayans: Woke-Ish (2018) – Transcript"
          ],
          [
           "RICKY GERVAIS: HUMANITY (2018) – Full Transcript"
          ],
          [
           "ADEL KARAM: LIVE FROM BEIRUT (2018) – Full Transcript"
          ],
          [
           "STEWART LEE: 90s COMEDIAN (2006) – Full Transcript"
          ],
          [
           "Mike Birbiglia: My Girlfriend’s Boyfriend (2013) – Transcript"
          ],
          [
           "DAVE ATTELL: ROAD WORK (2014) – Full Transcript"
          ],
          [
           "Eddie Izzard – Glorious (1997) – Transcript"
          ],
          [
           "Chris Rock: Bring the Pain (1996) – Transcript"
          ],
          [
           "ARI SHAFFIR: DOUBLE NEGATIVE (2017) – Full Transcript"
          ],
          [
           "Chris Rock: Tamborine (2018) – Transcript"
          ],
          [
           "FRED ARMISEN: STANDUP FOR DRUMMERS (2018) – Full Transcript"
          ],
          [
           "DANA CARVEY: STRAIGHT WHITE MALE, 60 (2016) – Full Transcript"
          ],
          [
           "EDDIE IZZARD: STRIPPED (2009) – Full Transcript"
          ],
          [
           "TODD GLASS: ACT HAPPY (2018) – Full Transcript"
          ],
          [
           "BRIAN REGAN: STANDING UP (2007) – Full Transcript"
          ],
          [
           "BRIAN REGAN: NUNCHUCKS AND FLAMETHROWERS (2017) – Full Transcript"
          ],
          [
           "Katt Williams: Great America (2018) – Transcript"
          ],
          [
           "JIMMY CARR: BEING FUNNY (2011) – Full Transcript"
          ],
          [
           "JIMMY CARR: LAUGHING AND JOKING (2013) – Full Transcript"
          ],
          [
           "Eddie Izzard: Unrepeatable (1994) | Transcript"
          ],
          [
           "D.L. Hughley: Unapologetic (2007) – Transcript"
          ],
          [
           "BRIDGET EVERETT: GYNECOLOGICAL WONDER (2015) – Full Transcript"
          ],
          [
           "Chris Rock: Never Scared (2004) – Transcript"
          ],
          [
           "Stewart Lee: Stand-Up Comedian (2005) – Transcript"
          ],
          [
           "JIMMY CARR: FUNNY BUSINESS (2016) – Full Transcript"
          ],
          [
           "Eddie Izzard: Dress To Kill (1999) – Transcript"
          ],
          [
           "Chris Tucker: Live (2015) – Transcript"
          ],
          [
           "Kevin Hart: What Now (2016) – Transcript"
          ],
          [
           "Kevin Hart: Let Me Explain (2013) – Transcript"
          ],
          [
           "Tom Segura: Disgraceful (2018) – Transcript"
          ],
          [
           "MICHELLE WOLF: NICE LADY (2017) – Full Transcript"
          ],
          [
           "FAHIM ANWAR: THERE’S NO BUSINESS LIKE SHOW BUSINESS (2017) – Transcript"
          ],
          [
           "ELLEN DEGENERES: THE BEGINNING (2000) – Full Transcript"
          ],
          [
           "MAZ JOBRANI: IMMIGRANT (2017) – Full Transcript"
          ],
          [
           "TODD BARRY: SPICY HONEY (2017) – Full Transcript"
          ],
          [
           "Jerry Seinfeld: I’m Telling You for the Last Time (1998) – Transcript"
          ],
          [
           "Craig Ferguson: Does This Need To Be Said? (2011) – Transcript"
          ],
          [
           "Dave Chappelle: The Bird Revelation (2017) – Transcript"
          ],
          [
           "Dave Chappelle: Equanimity (2017) – Transcript"
          ],
          [
           "CRAIG FERGUSON: I’M HERE TO HELP (2013) – Full Transcript"
          ],
          [
           "RUSSELL HOWARD: RECALIBRATE (2017) – Full Transcript"
          ],
          [
           "WHITNEY CUMMINGS: I LOVE YOU (2014) – Full Transcript"
          ],
          [
           "WHITNEY CUMMINGS: I’M YOUR GIRLFRIEND (2016) – Full Transcript"
          ],
          [
           "SARAH MILLICAN: CHATTERBOX LIVE (2011) – Full Transcript"
          ],
          [
           "Anjelah Johnson: Not Fancy (2015) – Transcript"
          ],
          [
           "RICKY GERVAIS LIVE 2: POLITICS (2004) – Full Transcript"
          ],
          [
           "Russell Howard Live: Dingledodies (2009) – Full Transcript"
          ],
          [
           "CHRISTINA PAZSITZKY: MOTHER INFERIOR (2017) – FULL TRANSCRIPT"
          ],
          [
           "Jack Whitehall: At Large (2017) – Transcript"
          ],
          [
           "CRISTELA ALONZO: LOWER CLASSY (2017) – Full Transcript"
          ],
          [
           "JUDAH FRIEDLANDER: AMERICA IS THE GREATEST COUNTRY IN THE UNITED STATES (2017) – Full Transcript"
          ],
          [
           "AZIZ ANSARI: LIVE IN MADISON SQUARE GARDEN (2015) – Full Transcript"
          ],
          [
           "AZIZ ANSARI: BURIED ALIVE (2013) – Full Transcript"
          ],
          [
           "Paul Mooney: A Piece of My Mind – Godbless America (2014) – Transcript"
          ],
          [
           "PATTON OSWALT: ANNIHILATION (2017) – Full Transcript"
          ],
          [
           "Chris Rock: Kill The Messenger – London, New York, Johannesburg (2008) – Transcript"
          ],
          [
           "BILL MAHER: LIVE FROM D.C. (2014) – Full Transcript"
          ],
          [
           "Sarah Silverman: Jesus Is Magic (2005) – Transcript"
          ],
          [
           "SARAH SILVERMAN: WE ARE MIRACLES (2013) – Full Transcript"
          ],
          [
           "Pablo Francisco: Ouch! Live From San Jose (2006) – Full Transcript"
          ],
          [
           "BILL MAHER… BUT I’M NOT WRONG (2010) – Full Transcript"
          ],
          [
           "RUSSELL BRAND: MESSIAH COMPLEX (2013) – Full Transcript"
          ],
          [
           "Chris Rock: Bigger & Blacker (1999) – Transcript"
          ],
          [
           "Gabriel Iglesias: Hot And Fluffy (2007) – Transcript"
          ],
          [
           "GABRIEL IGLESIAS: I’M NOT FAT … I’M FLUFFY (2009) – Full Transcript"
          ],
          [
           "GABRIEL IGLESIAS: I’M SORRY FOR WHAT I SAID WHEN I WAS HUNGRY (2016) – Full Transcript"
          ],
          [
           "RORY SCOVEL TRIES STAND-UP FOR THE FIRST TIME (2017) – Full Transcript"
          ],
          [
           "LISA LAMPANELLI: BACK TO THE DRAWING BOARD (2015) – Full Transcript"
          ],
          [
           "ERIK GRIFFIN: THE UGLY TRUTH (2017) – Full Transcript"
          ],
          [
           "JEN KIRKMAN: JUST KEEP LIVIN’? (2017) – Full Transcript"
          ],
          [
           "DANIEL TOSH: COMPLETELY SERIOUS (2007) – Full Transcript"
          ],
          [
           "AL MADRIGAL: WHY IS THE RABBIT CRYING? (2013) – Full Transcript"
          ],
          [
           "NEAL BRENNAN: 3 MICS (2017)- FULL TRANSCRIPT"
          ],
          [
           "John Mulaney: New In Town (2012) – Transcript"
          ],
          [
           "Donald Glover: Weirdo (2012) – Transcript"
          ],
          [
           "ALI WONG: BABY COBRA (2016) – Full Transcript"
          ],
          [
           "Norm Macdonald: Hitler’s Dog, Gossip & Trickery (2017) – Transcript"
          ],
          [
           "DANIEL TOSH: PEOPLE PLEASER (2016) – FULL TRANSCRIPT"
          ],
          [
           "Marc Maron: More Later (2015) – Full Transcript"
          ],
          [
           "Dylan Moran: Off The Hook (2015) – Transcript"
          ],
          [
           "Richard Pryor: Live And Smokin’ (1971) – Transcript"
          ],
          [
           "RICHARD PRYOR: …HERE AND NOW (1983) – Full Transcript"
          ],
          [
           "AMY SCHUMER: MOSTLY SEX STUFF (2012) – Full Transcript"
          ],
          [
           "Jim Jefferies: Alcoholocaust (2010) – Transcript"
          ],
          [
           "AMY SCHUMER: LIVE AT THE APOLLO (2015) – Full Transcript"
          ],
          [
           "Kevin Hart: Seriously Funny (2010) – Transcript"
          ],
          [
           "Hannibal Buress: Comedy Camisado (2016) – Transcript"
          ],
          [
           "Neal Brennan: Women And Black Dudes (2014) – Transcript"
          ],
          [
           "NICK OFFERMAN: AMERICAN HAM (2014) – Full Transcript"
          ],
          [
           "AZIZ ANSARI: INTIMATE MOMENTS FOR A SENSUAL EVENING (2010) – Full Transcript"
          ],
          [
           "BIG JAY OAKERSON: LIVE AT WEBSTER HALL (2016) – Full Transcript"
          ],
          [
           "George Carlin at USC (1977) – Full Transcript"
          ],
          [
           "Jim Norton: Mouthful Of Shame (2017) Transcript"
          ],
          [
           "Michael Che Matters (2016) – Transcript"
          ],
          [
           "Joe Rogan: Triggered (2016) – Transcript"
          ],
          [
           "Trevor Noah: Lost In Translation (2015) – Transcript"
          ],
          [
           "MARIA BAMFORD: OLD BABY (2017) – FULL TRANSCRIPT"
          ],
          [
           "Bo Burnham: What (2013) – Transcript"
          ],
          [
           "Bo Burnham: Make Happy (2016) – Transcript"
          ],
          [
           "ANTHONY JESELNIK: CALIGULA (2013) – Full Transcript"
          ],
          [
           "Anthony Jeselnik: Thoughts And Prayers (2015) – Full Transcript"
          ],
          [
           "John Mulaney: The Comeback Kid (2015) – Transcript"
          ],
          [
           "BILL HICKS: REVELATIONS (1993) – FULL TRANSCRIPT"
          ],
          [
           "LEWIS BLACK: BLACK TO THE FUTURE (2016) – Full Transcript"
          ],
          [
           "DOUG STANHOPE: BEFORE TURNING THE GUN ON HIMSELF (2012) – Transcript"
          ],
          [
           "DOUG STANHOPE: DEADBEAT HERO (2004) – Transcript"
          ],
          [
           "JIM JEFFERIES: CONTRABAND (2008) – Full Transcript"
          ],
          [
           "Mike Birbiglia: Thank God for Jokes (2017) – Transcript"
          ],
          [
           "SARAH SILVERMAN: A SPECK OF DUST (2017) – Full Transcript"
          ],
          [
           "GEORGE CARLIN: PLAYING WITH YOUR HEAD (1986) – Full Transcript"
          ],
          [
           "GEORGE CARLIN: AGAIN!* (1978) – Full Transcript"
          ],
          [
           "Louis C.K.: Chewed Up (2008) – Transcript"
          ],
          [
           "Tom Segura: Completely Normal (2014) – Transcript"
          ],
          [
           "GEORGE CARLIN: CARLIN ON CAMPUS (1984) – Full Transcript"
          ],
          [
           "Louis C.K.: Live at the Beacon Theatre (2011) – Transcript"
          ],
          [
           "RICKY GERVAIS: OUT OF ENGLAND 2 (2010) – Full Transcript"
          ],
          [
           "AMY SCHUMER: THE LEATHER SPECIAL (2017) – Full Transcript"
          ],
          [
           "JIM GAFFIGAN: CINCO (2017) – Full Transcript"
          ],
          [
           "JIM JEFFERIES: I SWEAR TO GOD (2009) – FULL TRANSCRIPT"
          ],
          [
           "LOUIS C.K.: HILARIOUS (2010) – Full Transcript"
          ],
          [
           "LOUIS C.K.: SHAMELESS (2007) – Full Transcript"
          ],
          [
           "BILL BURR: I’M SORRY YOU FEEL THAT WAY (2014) – Full Transcript"
          ],
          [
           "BILL BURR: YOU PEOPLE ARE ALL THE SAME (2012) – Full Transcript"
          ],
          [
           "Dave Chappelle: For What It’s Worth (2004) – Transcript"
          ],
          [
           "Dave Chappelle: Killin’ Them Softly (2000) – Transcript"
          ],
          [
           "Eddie Griffin: You Can Tell ‘Em I Said It! (2011) – Transcript"
          ],
          [
           "BILL BURR: WALK YOUR WAY OUT (2017) – Full Transcript"
          ],
          [
           "LOUIS C.K.: OH MY GOD (2013) – Full Transcript"
          ],
          [
           "LOUIS C.K.: LIVE AT  THE COMEDY STORE (2015) – Transcript"
          ],
          [
           "BILL HICKS: RELENTLESS (1991) – Transcript"
          ],
          [
           "Daniel Tosh: Happy Thoughts (2011) – Transcript"
          ],
          [
           "Patrice O’Neal: Elephant in the Room (2011) – Transcript"
          ],
          [
           "Katt Williams: Live (2006) – Transcript"
          ],
          [
           "Richard Pryor: Live in Concert (1979) – Transcript"
          ],
          [
           "RICHARD PRYOR: LIVE ON THE SUNSET STRIP (1982) – Full Transcript"
          ],
          [
           "Trevor Noah: Afraid Of The Dark (2017) – Transcript"
          ],
          [
           "JIM JEFFERIES: BARE (2014) – Full Transcript"
          ],
          [
           "Dave Chappelle: Deep in the Heart of Texas (2017) – Transcript"
          ],
          [
           "Tom Segura: Mostly Stories (2016) – Transcript"
          ],
          [
           "BILL BURR: LET IT GO (2010) – TRANSCRIPT"
          ],
          [
           "JIM JEFFERIES: FREEDUMB (2016) – Full Transcript"
          ],
          [
           "Eddie Murphy: Delirious (1983) – Transcript"
          ],
          [
           "Dave Chappelle: The Age of Spin (2017) – Transcript"
          ],
          [
           "GEORGE CARLIN: BACK IN TOWN (1996) – Full transcript"
          ],
          [
           "LOUIS C.K.: 2017 – Full transcript"
          ],
          [
           "George Carlin: Jamming in New York (1992) – Transcript"
          ],
          [
           "Reggie Watts: Spatial (2016) – Full Transcript"
          ],
          [
           "GEORGE CARLIN: COMPLAINTS AND GRIEVANCES (2001) – FULL TRANSCRIPT"
          ],
          [
           "GEORGE CARLIN: LIFE IS WORTH LOSING (2006) – Transcript"
          ],
          [
           "George Carlin: It’s Bad For Ya (2008) Full transcript"
          ],
          [
           "Dave Chappelle: 8:46 – Transcript"
          ],
          [
           "JIM JEFFERIES ON GUN CONTROL [FULL TRANSCRIPT]"
          ]
         ],
         "hovertemplate": "VERB=%{x}<br>description=%{customdata[0]}<extra></extra>",
         "legendgroup": "",
         "marker": {
          "color": "#636efa"
         },
         "name": "",
         "notched": false,
         "offsetgroup": "",
         "orientation": "h",
         "showlegend": false,
         "type": "box",
         "x": [
          0.14650974025974026,
          0.1400201952204645,
          0.13678506923540037,
          0.14033567948023823,
          0.13470431959067206,
          0.15198891747476748,
          0.14587116299178557,
          0.1448503052029842,
          0.13050706566916043,
          0.15098772023491724,
          0.15325593134780413,
          0.15070864437953047,
          0.13524500109865964,
          0.15580448065173116,
          0.1401562222616723,
          0.16368200836820085,
          0.16037288671196082,
          0.1465508325576585,
          0.15403462920614178,
          0.13149972632731252,
          0.12579050247211682,
          0.13169754631947922,
          0.15014005602240896,
          0.13300693594451243,
          0.17098148451581188,
          0.1493556559092411,
          0.13837359792924936,
          0.12983281086729362,
          0.14137697298344146,
          0.15754296626352643,
          0.14382574794474107,
          0.13303402646502835,
          0.15253706410524118,
          0.16823253082795067,
          0.14510580631710623,
          0.15342433788356086,
          0.12959299039005087,
          0.15197613721103653,
          0.13956550362080317,
          0.141866735139299,
          0.14138058324104835,
          0.13705380927011188,
          0.15167173252279637,
          0.13464991023339318,
          0.1444414144168712,
          0.14629105938655645,
          0.15638582413908392,
          0.126448087431694,
          0.16529709228824274,
          0.1473175965665236,
          0.14597262018465457,
          0.1480334468875813,
          0.1461995111162845,
          0.13916186603411274,
          0.15245388096066828,
          0.14552463558607398,
          0.13834685376014033,
          0.1419551934826884,
          0.15089779005524862,
          0.15948527978163385,
          0.15705469248776335,
          0.14858766505097776,
          0.13347249508840864,
          0.13657839797824414,
          0.14871987951807228,
          0.13428608214239732,
          0.12912215513237343,
          0.13777288570904422,
          0.1430280075750025,
          0.14779846466072533,
          0.1456733524355301,
          0.1443696922907246,
          0.1438369781312127,
          0.13793511721524981,
          0.1545097044272485,
          0.14460530851430542,
          0.1407593123209169,
          0.1433347262849979,
          0.155309205521139,
          0.14498365169506108,
          0.16188143894612397,
          0.1388343912290825,
          0.14357142857142857,
          0.14779648871372267,
          0.15563251171317988,
          0.13605309389029865,
          0.13221274460612142,
          0.17227378190255221,
          0.13094571908226077,
          0.1605630579079881,
          0.15402410812127115,
          0.15251839275608375,
          0.15632291180587962,
          0.1774288134488825,
          0.13333920084492168,
          0.14992025518341306,
          0.15552306260800214,
          0.1298102500443341,
          0.14373142157719881,
          0.15763971142457198,
          0.14107323658454268,
          0.1512150466045273,
          0.14452292857943716,
          0.1535786198059674,
          0.14364848371044972,
          0.17251027367316604,
          0.15604451188669702,
          0.13711414213926776,
          0.14301541870556736,
          0.12634293081220455,
          0.15389042357274402,
          0.1560905069751616,
          0.1628293681248401,
          0.16045448247194125,
          0.16782355575459024,
          0.1294997662459093,
          0.15099534095722153,
          0.14603960396039603,
          0.13626506024096385,
          0.15202520252025203,
          0.1522664663160531,
          0.13599858794457684,
          0.15858255843176677,
          0.14101663152963223,
          0.131631896643016,
          0.13072072072072072,
          0.13631718781933375,
          0.14382229501484287,
          0.1521155566918062,
          0.15204968944099378,
          0.16339819792534263,
          0.15472948975967799,
          0.1402579456471672,
          0.1450018766420618,
          0.12199730094466936,
          0.14586994727592267,
          0.14533863069389263,
          0.14349014801546148,
          0.14661775811845937,
          0.1329498589103538,
          0.1485950849995596,
          0.17178034004299395,
          0.14175182481751825,
          0.14483757500517278,
          0.15257063455303382,
          0.14532344876612166,
          0.1383839345198439,
          0.1459646269566985,
          0.14131248440489064,
          0.15682448392728768,
          0.15658068783068782,
          0.1339782345828295,
          0.13566171164670227,
          0.14441120478651073,
          0.13522679101314117,
          0.14600154850127198,
          0.15387903398162,
          0.13550420168067226,
          0.16097308488612835,
          0.15035673390293314,
          0.16605166051660517,
          0.13421221276206172,
          0.1388227567523192,
          0.14019253910950663,
          0.13752969121140143,
          0.16131687242798354,
          0.14855687606112053,
          0.15513188822146776,
          0.12790697674418605,
          0.14329454990814453,
          0.1378376593355789,
          0.17540902330193356,
          0.16098522167487686,
          0.16193936006706722,
          0.1617772367620207,
          0.14244594215108117,
          0.1416051660516605,
          0.1428691769859321,
          0.1551844932274638,
          0.17366336633663365,
          0.14660062315251257,
          0.12631943242775567,
          0.13309845370914072,
          0.12492104709102393,
          0.17276194749831725,
          0.1710302091402014,
          0.16435237878442976,
          0.1532067630112402,
          0.1447104611392853,
          0.13105745212323064,
          0.1567554420527788,
          0.15237085582112567,
          0.14483859089235301,
          0.15390406539040655,
          0.1348879284350186,
          0.14470356841809498,
          0.14148790506617984,
          0.13284248453043002,
          0.15458843964103058,
          0.15417815609639132,
          0.1454962947500261,
          0.15257648953301128,
          0.1370841995841996,
          0.14309484193011648,
          0.14868251195990584,
          0.13752171395483498,
          0.13332645906372448,
          0.15193838924422398,
          0.13097898971837282,
          0.14134438305709024,
          0.14277246795584203,
          0.1595258999122037,
          0.1412767684969045,
          0.14594252665823243,
          0.14116079001575185,
          0.14925575101488497,
          0.14562792952965897,
          0.15541804576198015,
          0.14991334488734837,
          0.1310764549258273,
          0.1610179430045737,
          0.15414165666266508,
          0.15198423867154517,
          0.15719432394676863,
          0.1480617571920471,
          0.13628899835796388,
          0.15206118745138708,
          0.15299450141179968,
          0.15155986509274874,
          0.14900225903614459,
          0.14512283611485435,
          0.1387390920678498,
          0.1362262137648942,
          0.14292974209122095,
          0.14941249226963513,
          0.14618542919889238,
          0.14706120139057322,
          0.15017064846416384,
          0.15459980073065427,
          0.17262059973924382,
          0.13737306104229438,
          0.15296698222119604,
          0.12440358431281276,
          0.17971569566178094,
          0.1444290337494221,
          0.1361459521094641,
          0.1455592105263158,
          0.1407914020517831,
          0.13539325842696628,
          0.1450402144772118,
          0.14954084098598358,
          0.15200478755236385,
          0.142576112412178,
          0.14864077669902911,
          0.14402523069734843,
          0.14656160458452722,
          0.14021862042970223,
          0.14187374076561451,
          0.1509433962264151,
          0.13479239108202087,
          0.14589169000933708,
          0.14908817446888512,
          0.1333751437232152,
          0.14927153446366193,
          0.14501044220466722,
          0.13170784804615218,
          0.13822578963827792,
          0.1549312756209308,
          0.1507147036696481,
          0.14620089390731592,
          0.15567967275015734,
          0.1572140484100617,
          0.14842300556586271,
          0.14602433738956494,
          0.13753456556541988,
          0.1407148920116948,
          0.14170436483677712,
          0.14120626879848028,
          0.1514360313315927,
          0.16068270931037135,
          0.16784707943035565,
          0.15312242737857226,
          0.15924826904055392,
          0.1665043816942551,
          0.1555441478439425,
          0.14319423745653254,
          0.1433768457093944,
          0.14384866630375612,
          0.14214151534126487,
          0.15179231337767923,
          0.15283557731538147,
          0.18960538979788258,
          0.1730903994393833,
          0.15609332819128421,
          0.15001713502398903,
          0.1423712342079689,
          0.1488499245852187,
          0.1631491581693147,
          0.14367083227067926,
          0.16735561592063306,
          0.14449375580555268,
          0.13808437856328393,
          0.145995984831586,
          0.14243187542935654,
          0.15070015559013114,
          0.13935574229691877,
          0.14389785367382107,
          0.14743225317415198,
          0.14019471488178026,
          0.15467196819085488
         ],
         "x0": " ",
         "xaxis": "x",
         "y0": " ",
         "yaxis": "y"
        }
       ],
       "layout": {
        "boxmode": "group",
        "legend": {
         "tracegroupgap": 0
        },
        "margin": {
         "t": 60
        },
        "template": {
         "data": {
          "bar": [
           {
            "error_x": {
             "color": "#2a3f5f"
            },
            "error_y": {
             "color": "#2a3f5f"
            },
            "marker": {
             "line": {
              "color": "#E5ECF6",
              "width": 0.5
             },
             "pattern": {
              "fillmode": "overlay",
              "size": 10,
              "solidity": 0.2
             }
            },
            "type": "bar"
           }
          ],
          "barpolar": [
           {
            "marker": {
             "line": {
              "color": "#E5ECF6",
              "width": 0.5
             },
             "pattern": {
              "fillmode": "overlay",
              "size": 10,
              "solidity": 0.2
             }
            },
            "type": "barpolar"
           }
          ],
          "carpet": [
           {
            "aaxis": {
             "endlinecolor": "#2a3f5f",
             "gridcolor": "white",
             "linecolor": "white",
             "minorgridcolor": "white",
             "startlinecolor": "#2a3f5f"
            },
            "baxis": {
             "endlinecolor": "#2a3f5f",
             "gridcolor": "white",
             "linecolor": "white",
             "minorgridcolor": "white",
             "startlinecolor": "#2a3f5f"
            },
            "type": "carpet"
           }
          ],
          "choropleth": [
           {
            "colorbar": {
             "outlinewidth": 0,
             "ticks": ""
            },
            "type": "choropleth"
           }
          ],
          "contour": [
           {
            "colorbar": {
             "outlinewidth": 0,
             "ticks": ""
            },
            "colorscale": [
             [
              0,
              "#0d0887"
             ],
             [
              0.1111111111111111,
              "#46039f"
             ],
             [
              0.2222222222222222,
              "#7201a8"
             ],
             [
              0.3333333333333333,
              "#9c179e"
             ],
             [
              0.4444444444444444,
              "#bd3786"
             ],
             [
              0.5555555555555556,
              "#d8576b"
             ],
             [
              0.6666666666666666,
              "#ed7953"
             ],
             [
              0.7777777777777778,
              "#fb9f3a"
             ],
             [
              0.8888888888888888,
              "#fdca26"
             ],
             [
              1,
              "#f0f921"
             ]
            ],
            "type": "contour"
           }
          ],
          "contourcarpet": [
           {
            "colorbar": {
             "outlinewidth": 0,
             "ticks": ""
            },
            "type": "contourcarpet"
           }
          ],
          "heatmap": [
           {
            "colorbar": {
             "outlinewidth": 0,
             "ticks": ""
            },
            "colorscale": [
             [
              0,
              "#0d0887"
             ],
             [
              0.1111111111111111,
              "#46039f"
             ],
             [
              0.2222222222222222,
              "#7201a8"
             ],
             [
              0.3333333333333333,
              "#9c179e"
             ],
             [
              0.4444444444444444,
              "#bd3786"
             ],
             [
              0.5555555555555556,
              "#d8576b"
             ],
             [
              0.6666666666666666,
              "#ed7953"
             ],
             [
              0.7777777777777778,
              "#fb9f3a"
             ],
             [
              0.8888888888888888,
              "#fdca26"
             ],
             [
              1,
              "#f0f921"
             ]
            ],
            "type": "heatmap"
           }
          ],
          "heatmapgl": [
           {
            "colorbar": {
             "outlinewidth": 0,
             "ticks": ""
            },
            "colorscale": [
             [
              0,
              "#0d0887"
             ],
             [
              0.1111111111111111,
              "#46039f"
             ],
             [
              0.2222222222222222,
              "#7201a8"
             ],
             [
              0.3333333333333333,
              "#9c179e"
             ],
             [
              0.4444444444444444,
              "#bd3786"
             ],
             [
              0.5555555555555556,
              "#d8576b"
             ],
             [
              0.6666666666666666,
              "#ed7953"
             ],
             [
              0.7777777777777778,
              "#fb9f3a"
             ],
             [
              0.8888888888888888,
              "#fdca26"
             ],
             [
              1,
              "#f0f921"
             ]
            ],
            "type": "heatmapgl"
           }
          ],
          "histogram": [
           {
            "marker": {
             "pattern": {
              "fillmode": "overlay",
              "size": 10,
              "solidity": 0.2
             }
            },
            "type": "histogram"
           }
          ],
          "histogram2d": [
           {
            "colorbar": {
             "outlinewidth": 0,
             "ticks": ""
            },
            "colorscale": [
             [
              0,
              "#0d0887"
             ],
             [
              0.1111111111111111,
              "#46039f"
             ],
             [
              0.2222222222222222,
              "#7201a8"
             ],
             [
              0.3333333333333333,
              "#9c179e"
             ],
             [
              0.4444444444444444,
              "#bd3786"
             ],
             [
              0.5555555555555556,
              "#d8576b"
             ],
             [
              0.6666666666666666,
              "#ed7953"
             ],
             [
              0.7777777777777778,
              "#fb9f3a"
             ],
             [
              0.8888888888888888,
              "#fdca26"
             ],
             [
              1,
              "#f0f921"
             ]
            ],
            "type": "histogram2d"
           }
          ],
          "histogram2dcontour": [
           {
            "colorbar": {
             "outlinewidth": 0,
             "ticks": ""
            },
            "colorscale": [
             [
              0,
              "#0d0887"
             ],
             [
              0.1111111111111111,
              "#46039f"
             ],
             [
              0.2222222222222222,
              "#7201a8"
             ],
             [
              0.3333333333333333,
              "#9c179e"
             ],
             [
              0.4444444444444444,
              "#bd3786"
             ],
             [
              0.5555555555555556,
              "#d8576b"
             ],
             [
              0.6666666666666666,
              "#ed7953"
             ],
             [
              0.7777777777777778,
              "#fb9f3a"
             ],
             [
              0.8888888888888888,
              "#fdca26"
             ],
             [
              1,
              "#f0f921"
             ]
            ],
            "type": "histogram2dcontour"
           }
          ],
          "mesh3d": [
           {
            "colorbar": {
             "outlinewidth": 0,
             "ticks": ""
            },
            "type": "mesh3d"
           }
          ],
          "parcoords": [
           {
            "line": {
             "colorbar": {
              "outlinewidth": 0,
              "ticks": ""
             }
            },
            "type": "parcoords"
           }
          ],
          "pie": [
           {
            "automargin": true,
            "type": "pie"
           }
          ],
          "scatter": [
           {
            "marker": {
             "colorbar": {
              "outlinewidth": 0,
              "ticks": ""
             }
            },
            "type": "scatter"
           }
          ],
          "scatter3d": [
           {
            "line": {
             "colorbar": {
              "outlinewidth": 0,
              "ticks": ""
             }
            },
            "marker": {
             "colorbar": {
              "outlinewidth": 0,
              "ticks": ""
             }
            },
            "type": "scatter3d"
           }
          ],
          "scattercarpet": [
           {
            "marker": {
             "colorbar": {
              "outlinewidth": 0,
              "ticks": ""
             }
            },
            "type": "scattercarpet"
           }
          ],
          "scattergeo": [
           {
            "marker": {
             "colorbar": {
              "outlinewidth": 0,
              "ticks": ""
             }
            },
            "type": "scattergeo"
           }
          ],
          "scattergl": [
           {
            "marker": {
             "colorbar": {
              "outlinewidth": 0,
              "ticks": ""
             }
            },
            "type": "scattergl"
           }
          ],
          "scattermapbox": [
           {
            "marker": {
             "colorbar": {
              "outlinewidth": 0,
              "ticks": ""
             }
            },
            "type": "scattermapbox"
           }
          ],
          "scatterpolar": [
           {
            "marker": {
             "colorbar": {
              "outlinewidth": 0,
              "ticks": ""
             }
            },
            "type": "scatterpolar"
           }
          ],
          "scatterpolargl": [
           {
            "marker": {
             "colorbar": {
              "outlinewidth": 0,
              "ticks": ""
             }
            },
            "type": "scatterpolargl"
           }
          ],
          "scatterternary": [
           {
            "marker": {
             "colorbar": {
              "outlinewidth": 0,
              "ticks": ""
             }
            },
            "type": "scatterternary"
           }
          ],
          "surface": [
           {
            "colorbar": {
             "outlinewidth": 0,
             "ticks": ""
            },
            "colorscale": [
             [
              0,
              "#0d0887"
             ],
             [
              0.1111111111111111,
              "#46039f"
             ],
             [
              0.2222222222222222,
              "#7201a8"
             ],
             [
              0.3333333333333333,
              "#9c179e"
             ],
             [
              0.4444444444444444,
              "#bd3786"
             ],
             [
              0.5555555555555556,
              "#d8576b"
             ],
             [
              0.6666666666666666,
              "#ed7953"
             ],
             [
              0.7777777777777778,
              "#fb9f3a"
             ],
             [
              0.8888888888888888,
              "#fdca26"
             ],
             [
              1,
              "#f0f921"
             ]
            ],
            "type": "surface"
           }
          ],
          "table": [
           {
            "cells": {
             "fill": {
              "color": "#EBF0F8"
             },
             "line": {
              "color": "white"
             }
            },
            "header": {
             "fill": {
              "color": "#C8D4E3"
             },
             "line": {
              "color": "white"
             }
            },
            "type": "table"
           }
          ]
         },
         "layout": {
          "annotationdefaults": {
           "arrowcolor": "#2a3f5f",
           "arrowhead": 0,
           "arrowwidth": 1
          },
          "autotypenumbers": "strict",
          "coloraxis": {
           "colorbar": {
            "outlinewidth": 0,
            "ticks": ""
           }
          },
          "colorscale": {
           "diverging": [
            [
             0,
             "#8e0152"
            ],
            [
             0.1,
             "#c51b7d"
            ],
            [
             0.2,
             "#de77ae"
            ],
            [
             0.3,
             "#f1b6da"
            ],
            [
             0.4,
             "#fde0ef"
            ],
            [
             0.5,
             "#f7f7f7"
            ],
            [
             0.6,
             "#e6f5d0"
            ],
            [
             0.7,
             "#b8e186"
            ],
            [
             0.8,
             "#7fbc41"
            ],
            [
             0.9,
             "#4d9221"
            ],
            [
             1,
             "#276419"
            ]
           ],
           "sequential": [
            [
             0,
             "#0d0887"
            ],
            [
             0.1111111111111111,
             "#46039f"
            ],
            [
             0.2222222222222222,
             "#7201a8"
            ],
            [
             0.3333333333333333,
             "#9c179e"
            ],
            [
             0.4444444444444444,
             "#bd3786"
            ],
            [
             0.5555555555555556,
             "#d8576b"
            ],
            [
             0.6666666666666666,
             "#ed7953"
            ],
            [
             0.7777777777777778,
             "#fb9f3a"
            ],
            [
             0.8888888888888888,
             "#fdca26"
            ],
            [
             1,
             "#f0f921"
            ]
           ],
           "sequentialminus": [
            [
             0,
             "#0d0887"
            ],
            [
             0.1111111111111111,
             "#46039f"
            ],
            [
             0.2222222222222222,
             "#7201a8"
            ],
            [
             0.3333333333333333,
             "#9c179e"
            ],
            [
             0.4444444444444444,
             "#bd3786"
            ],
            [
             0.5555555555555556,
             "#d8576b"
            ],
            [
             0.6666666666666666,
             "#ed7953"
            ],
            [
             0.7777777777777778,
             "#fb9f3a"
            ],
            [
             0.8888888888888888,
             "#fdca26"
            ],
            [
             1,
             "#f0f921"
            ]
           ]
          },
          "colorway": [
           "#636efa",
           "#EF553B",
           "#00cc96",
           "#ab63fa",
           "#FFA15A",
           "#19d3f3",
           "#FF6692",
           "#B6E880",
           "#FF97FF",
           "#FECB52"
          ],
          "font": {
           "color": "#2a3f5f"
          },
          "geo": {
           "bgcolor": "white",
           "lakecolor": "white",
           "landcolor": "#E5ECF6",
           "showlakes": true,
           "showland": true,
           "subunitcolor": "white"
          },
          "hoverlabel": {
           "align": "left"
          },
          "hovermode": "closest",
          "mapbox": {
           "style": "light"
          },
          "paper_bgcolor": "white",
          "plot_bgcolor": "#E5ECF6",
          "polar": {
           "angularaxis": {
            "gridcolor": "white",
            "linecolor": "white",
            "ticks": ""
           },
           "bgcolor": "#E5ECF6",
           "radialaxis": {
            "gridcolor": "white",
            "linecolor": "white",
            "ticks": ""
           }
          },
          "scene": {
           "xaxis": {
            "backgroundcolor": "#E5ECF6",
            "gridcolor": "white",
            "gridwidth": 2,
            "linecolor": "white",
            "showbackground": true,
            "ticks": "",
            "zerolinecolor": "white"
           },
           "yaxis": {
            "backgroundcolor": "#E5ECF6",
            "gridcolor": "white",
            "gridwidth": 2,
            "linecolor": "white",
            "showbackground": true,
            "ticks": "",
            "zerolinecolor": "white"
           },
           "zaxis": {
            "backgroundcolor": "#E5ECF6",
            "gridcolor": "white",
            "gridwidth": 2,
            "linecolor": "white",
            "showbackground": true,
            "ticks": "",
            "zerolinecolor": "white"
           }
          },
          "shapedefaults": {
           "line": {
            "color": "#2a3f5f"
           }
          },
          "ternary": {
           "aaxis": {
            "gridcolor": "white",
            "linecolor": "white",
            "ticks": ""
           },
           "baxis": {
            "gridcolor": "white",
            "linecolor": "white",
            "ticks": ""
           },
           "bgcolor": "#E5ECF6",
           "caxis": {
            "gridcolor": "white",
            "linecolor": "white",
            "ticks": ""
           }
          },
          "title": {
           "x": 0.05
          },
          "xaxis": {
           "automargin": true,
           "gridcolor": "white",
           "linecolor": "white",
           "ticks": "",
           "title": {
            "standoff": 15
           },
           "zerolinecolor": "white",
           "zerolinewidth": 2
          },
          "yaxis": {
           "automargin": true,
           "gridcolor": "white",
           "linecolor": "white",
           "ticks": "",
           "title": {
            "standoff": 15
           },
           "zerolinecolor": "white",
           "zerolinewidth": 2
          }
         }
        },
        "xaxis": {
         "anchor": "y",
         "domain": [
          0,
          1
         ],
         "title": {
          "text": "VERB"
         }
        },
        "yaxis": {
         "anchor": "x",
         "domain": [
          0,
          1
         ]
        }
       }
      },
      "text/html": [
       "<div>                            <div id=\"fea74857-5f6a-4450-baef-ea3c1230aa91\" class=\"plotly-graph-div\" style=\"height:525px; width:100%;\"></div>            <script type=\"text/javascript\">                require([\"plotly\"], function(Plotly) {                    window.PLOTLYENV=window.PLOTLYENV || {};                                    if (document.getElementById(\"fea74857-5f6a-4450-baef-ea3c1230aa91\")) {                    Plotly.newPlot(                        \"fea74857-5f6a-4450-baef-ea3c1230aa91\",                        [{\"alignmentgroup\":\"True\",\"boxpoints\":\"all\",\"customdata\":[[\"Jim Gaffigan: Comedy Monster (2021) | Transcript\"],[\"Louis C. K.: Sorry (2021) | Transcript\"],[\"Drew Michael: Drew Michael (2018) | Transcript\"],[\"Drew Michael: Red Blue Green (2021) | Transcript\"],[\"Mo Amer: Mohammed in Texas (2021) | Transcript\"],[\"Dave Chappelle: The Closer (2021) | Transcript\"],[\"Kathleen Madigan: Bothering Jesus (2016) \\u2013 Transcript\"],[\"Kathleen Madigan: Madigan Again (2013) \\u2013 Transcript\"],[\"Phil Wang: Philly Philly Wang Wang (2021) \\u2013 Transcript\"],[\"Tom Papa: You\\u2019re Doing Great! (2020) \\u2013 Transcript\"],[\"Tom Papa: Human Mule (2016) \\u2013 Transcript\"],[\"Tom Papa: Freaked Out (2013) \\u2013 Transcript\"],[\"Bo Burnham: Inside (2021) \\u2013 Transcript\"],[\"Tig Notaro: Boyish Girl Interrupted (2015) \\u2013 Transcript\"],[\"Joe List: I Hate Myself (2020) \\u2013 Transcript\"],[\"Nate Bargatze: The Greatest Average American (2021) \\u2013 Transcript\"],[\"Brian Regan: On The Rocks (2021) \\u2013 Transcript\"],[\"Doug Stanhope: Beer Hall Putsch (2013) \\u2013 Transcript\"],[\"Chris Rock Total Blackout: The Tamborine Extended Cut \\u2013 Transcript\"],[\"Sarah Cooper: Everything\\u2019s Fine (2020) \\u2013 Transcript\"],[\"Bo Burnham: Words, Words, Words (2010) \\u2013 Transcript\"],[\"Vir Das: Outside in \\u2013 The Lockdown Special (2020) \\u2013 Transcript\"],[\"Larry the Cable Guy \\u2013 Remain Seated (2020) \\u2013 Transcript\"],[\"Craig Ferguson: Just Being Honest (2015) \\u2013 Transcript\"],[\"Kevin Hart: Zero F**ks Given (2020) \\u2013 Transcript\"],[\"Sam Morril: I Got This (2020) \\u2013 Transcript\"],[\"RONNY CHIENG: ASIAN COMEDIAN DESTROYS AMERICA (2019) \\u2013 TRANSCRIPT\"],[\"Craig Ferguson: A Wee Bit o\\u2019 Revolution (2009) \\u2013 Transcript\"],[\"MICHAEL MCINTYRE: SHOWMAN (2020) \\u2013 TRANSCRIPT\"],[\"ROB SCHNEIDER: ASIAN MOMMA, MEXICAN KIDS (2020) \\u2013 TRANSCRIPT\"],[\"Sam Jay: 3 in the Morning (2020) \\u2013 Transcript\"],[\"Jack Whitehall: I\\u2019m Only Joking (2020) | Transcript\"],[\"URZILA CARLSON: OVERQUALIFIED LOSER (2020) \\u2013 FULL TRANSCRIPT\"],[\"GEORGE LOPEZ: WE\\u2019LL DO IT FOR HALF (2020) \\u2013 FULL TRANSCRIPT\"],[\"JIM JEFFERIES: INTOLERANT (2020) \\u2013 FULL TRANSCRIPT\"],[\"George Carlin: Doin\\u2019 It Again (1990) \\u2013 Transcript\"],[\"ERIC ANDRE: LEGALIZE EVERYTHING (2020)\"],[\"ROY WOOD JR.: FATHER FIGURE (2017) \\u2013 FULL TRANSCRIPT\"],[\"Mark Normand: Don\\u2019t Be Yourself (2017) \\u2013 Transcript\"],[\"Chris Gethard: Career Suicide (2017) \\u2013 Transcript\"],[\"RAMY YOUSSEF: FEELINGS (2019) \\u2013 FULL TRANSCRIPT\"],[\"KENNY SEBASTIAN DON\\u2019T BE THAT GUY (2017) \\u2013 FULL TRANSCRIPT\"],[\"BILLY CONNOLLY: HIGH HORSE TOUR LIVE (2016) \\u2013 FULL TRANSCRIPT\"],[\"Hannah Gadsby: Douglas (2020) \\u2013 Transcript\"],[\"Hasan Minhaj: Homecoming King (2017) \\u2013 Transcript\"],[\"PATTON OSWALT: I LOVE EVERYTHING (2020) \\u2013 FULL TRANSCRIPT\"],[\"RUSSELL PETERS: DEPORTED (2020) \\u2013 FULL TRANSCRIPT\"],[\"JIMMY O. YANG: GOOD DEAL (2020) \\u2013 FULL TRANSCRIPT\"],[\"JO KOY: LIGHTS OUT (2012) \\u2013 FULL TRANSCRIPT\"],[\"LEE MACK: GOING OUT LIVE (2010) \\u2013 FULL TRANSCRIPT\"],[\"LEE MACK: LIVE (2007) \\u2013 FULL TRANSCRIPT\"],[\"T.J. MILLER: NO REAL REASON (2011) \\u2013 FULL TRANSCRIPT\"],[\"Jerry Seinfeld: 23 Hours To Kill (2020) \\u2013 Transcript\"],[\"SINCERELY LOUIS CK (2020)\"],[\"JIM NORTON: AMERICAN DEGENERATE (2013) \\u2013 FULL TRANSCRIPT\"],[\"Jim Norton: Monster Rain (2007) \\u2013 Transcript\"],[\"MARIA BAMFORD: WEAKNESS IS THE BRAND (2020) \\u2013 FULL TRANSCRIPT\"],[\"CHRIS D\\u2019ELIA: WHITE MALE. BLACK COMIC. (2013) \\u2013 FULL TRANSCRIPT\"],[\"Chris D\\u2019Elia: Man on Fire (2017) \\u2013 Full Transcript\"],[\"Tom Segura: Ball Hog (2020) \\u2013 Transcript\"],[\"Bert Kreischer: Hey Big Boy (2020) \\u2013 Transcript\"],[\"Marc Maron: End Times Fun (2020) \\u2013 Full Transcript\"],[\"PETE DAVIDSON: SMD (2016) \\u2013 FULL TRANSCRIPT\"],[\"PETE DAVIDSON: ALIVE FROM NEW YORK (2020) \\u2013 FULL TRANSCRIPT\"],[\"Amanda Seales: I Be Knowin\\u2019 (2019) \\u2013 Transcript\"],[\"Stewart Lee: Carpet Remnant World (2012) \\u2013 Full Transcript\"],[\"Stewart Lee: Content Provider (2018) \\u2013 Transcript\"],[\"Sara Pascoe: LadsLadsLads (2019) \\u2013 Full Transcript\"],[\"Dan Soder: Son of a Gary (2019) \\u2013 Full Transcript\"],[\"Jim Gaffigan: Quality Time (2019) \\u2013 Full Transcript\"],[\"Kevin Bridges: A Whole Different Story (2015) \\u2013 Full Transcript\"],[\"Kevin Bridges: The Story So Far\\u2026 Live in Glasgow (2010) \\u2013 Full Transcript\"],[\"Kevin Bridges: The Story Continues (2012) \\u2013 Full Transcript\"],[\"Michelle Wolf: Joke Show (2019) \\u2013 Full Transcript\"],[\"Tiffany Haddish: Black Mitzvah (2019) \\u2013 Transcript\"],[\"Mike Birbiglia: The New One (2019) \\u2013 Full Transcript\"],[\"Iliza Shlesinger: Unveiled (2019) \\u2013 Full Transcript\"],[\"Seth Meyers: Lobby Baby (2019) \\u2013 Full Transcript\"],[\"Arsenio Hall: Smart and Classy (2019) \\u2013 Transcript\"],[\"Nikki Glaser: Bangin\\u2019 (2019) \\u2013 Full Transcript\"],[\"Bill Burr: Paper Tiger (2019) \\u2013 Transcript\"],[\"Dave Chappelle: Sticks & Stones (2019) \\u2013 Transcript\"],[\"Emily Heller: Ice Thickeners (2019) \\u2013 Full Transcript\"],[\"David Cross: Oh Come On (2019) \\u2013 Full Transcript\"],[\"Whitney Cummings: Can I Touch It? (2019) \\u2013 Full Transcript\"],[\"Aziz Ansari: Right Now (2019) \\u2013 Transcript\"],[\"Ralphie May: Filthy Animal Tour (2014) \\u2013 Transcript\"],[\"Mike Epps: Only One Mike (2019) \\u2013 Full Transcript\"],[\"Adam DeVine: Best Time of Our Lives (2019) \\u2013 Full Transcript\"],[\"Jo Koy: Live from Seattle (2017) \\u2013 Full Transcript\"],[\"Jo Koy: Comin\\u2019 in Hot (2019) \\u2013 Full Transcript\"],[\"Wanda Sykes: Not Normal (2019) \\u2013 Full Transcript\"],[\"Cedric the Entertainer: Live from the Ville (2016) \\u2013 Transcript\"],[\"Eddie Murphy: Raw (1987) \\u2013 Transcript\"],[\"Colin Quinn: The New York Story (2016) \\u2013 Full Transcript\"],[\"Demetri Martin: Live (At The Time) (2015) | Transcript\"],[\"George Carlin: What Am I Doing in New Jersey? (1988) \\u2013 Full Transcript\"],[\"Chelsea Peretti: One of the Greats (2014) \\u2013 Full Transcript\"],[\"Anthony Jeselnik: Fire in the Maternity Ward (2019) \\u2013 Transcript\"],[\"Roy Wood Jr.: No One Loves You (2019) \\u2013 Transcript\"],[\"Robin Williams: Weapons of Self Destruction (2009) \\u2013 Full Transcript\"],[\"ROBIN WILLIAMS LIVE ON BROADWAY (2002) \\u2013 FULL TRANSCRIPT\"],[\"Jimmy Carr: The Best of Ultimate Gold Greatest Hits (2019) \\u2013 Full Transcript\"],[\"Nate Bargatze: The Tennessee Kid (2019) \\u2013 Full Transcript\"],[\"W. Kamau Bell: Private School Negro (2018) \\u2013 Transcript\"],[\"Kevin Hart: Irresponsible (2019) \\u2013 Transcript\"],[\"Nate Bargatze: Full Time Magic (2015) \\u2013 Full Transcript\"],[\"Amy Schumer: Growing (2019) \\u2013 Full Transcript\"],[\"Enissa Amani: Ehrenwort (2018) Full Transcript\"],[\"Ken Jeong: You Complete Me, Ho (2019) \\u2013 Full Transcript\"],[\"Ray Romano: Right Here, Around the Corner (2019) \\u2013 Full Transcript\"],[\"Gabriel \\u201cFluffy\\u201d Iglesias: One Show Fits All (2019) \\u2013 Full Transcript\"],[\"Sebastian Maniscalco: Stay Hungry (2019) \\u2013 Full Transcript\"],[\"Sebastian Maniscalco: Aren\\u2019t You Embarrassed? (2014) \\u2013 Full Transcript\"],[\"Sebastian Maniscalco: What\\u2019s Wrong with People? (2012) \\u2013 Full Transcript\"],[\"Oh, Hello On Broadway (2017) \\u2013 Transcript\"],[\"Ellen Degeneres: Relatable (2018) \\u2013 Transcript\"],[\"Pete Holmes: Dirty Clean (2018) \\u2013 Full Transcript\"],[\"Vir Das: Losing It (2018) \\u2013 Full Transcript\"],[\"Trevor Noah: Son of Patricia (2018) \\u2013 Transcript\"],[\"Jeff Foxworthy & Larry the Cable Guy: We\\u2019ve Been Thinking (2016) \\u2013 Full Transcript\"],[\"Adam Sandler: 100% Fresh (2018) \\u2013 Full Transcript\"],[\"Jeff Foxworthy: Totally Committed (1998) \\u2013 Full Transcript\"],[\"RON WHITE: IF YOU QUIT LISTENING, I\\u2019LL SHUT UP (2018) \\u2013 FULL TRANSCRIPT\"],[\"Mo Amer: The Vagabond (2018) \\u2013 Full Transcript\"],[\"Joe Mande\\u2019s Award-Winning Comedy Special (2017) \\u2013 Full Transcript\"],[\"Henry Rollins: Keep Talking, Pal (2018) \\u2013 Full Transcript\"],[\"Joe Rogan: Strange Times (2018) \\u2013 Full Transcript\"],[\"D.L. Hughley: Contrarian (2018) \\u2013 Transcript\"],[\"Iliza Shlesinger: Freezing Hot (2015) \\u2013 Full Transcript\"],[\"Iliza Shlesinger: War Paint (2013) \\u2013 Transcript\"],[\"Bert Kreischer: Secret Time (2018) \\u2013 Transcript\"],[\"Demetri Martin: The Overthinker (2018) | Transcript\"],[\"BILL MAHER: LIVE FROM OKLAHOMA (2018) \\u2013 Full Transcript\"],[\"Rowan Atkinson Live (1992) \\u2013 Transcript\"],[\"Iliza Shlesinger: Confirmed Kills (2016) \\u2013 Full Transcript\"],[\"Iliza Shlesinger: Elder Millennial (2018) \\u2013 Full Transcript\"],[\"JIM GAFFIGAN: NOBLE APE (2018) \\u2013 Full Transcript\"],[\"Jim Norton: Contextually Inadequate (2015) \\u2013 Transcript\"],[\"Hannah Gadsby: Nanette (2018) \\u2013 Transcript\"],[\"BRAD WILLIAMS: DADDY ISSUES (2016) \\u2013 Full Transcript\"],[\"Deray Davis: How To Act Black (2017) \\u2013 Transcript\"],[\"RICKY GERVAIS: LIVE IV \\u2013 SCIENCE (2010) \\u2013 Full Transcript\"],[\"JIM JEFFERIES: THIS IS ME NOW (2018) \\u2013 Full transcript\"],[\"RUSSELL PETERS: OUTSOURCED (2006) \\u2013 Full Transcript\"],[\"RUSSELL PETERS: ALMOST FAMOUS (2016) \\u2013 Full Transcript\"],[\"RON WHITE: A LITTLE UNPROFESSIONAL (2012) \\u2013 Full Transcript\"],[\"MICHAEL MCINTYRE: HELLO WEMBLEY! (2009) \\u2013 Full Transcript\"],[\"KEVIN SMITH: SILENT BUT DEADLY (2018) \\u2013 Full Transcript\"],[\"KEVIN JAMES: NEVER DON\\u2019T GIVE UP (2018) \\u2013 Full Transcript\"],[\"BRENT MORIN: I\\u2019M BRENT MORIN (2015) \\u2013 Full Transcript\"],[\"NIKKI GLASER: PERFECT (2016) \\u2013 Full Transcript\"],[\"Ali Wong: Hard Knock Wife (2018) \\u2013 Transcript\"],[\"KAVIN JAY: EVERYBODY CALM DOWN! (2018) \\u2013 Full Transcript\"],[\"John Mulaney: Kid Gorgeous At Radio City (2018) \\u2013 Transcript\"],[\"Eddie Griffin: Undeniable (2018) \\u2013 Transcript\"],[\"GREG DAVIES: YOU MAGNIFICENT BEAST (2018) \\u2013 Full Transcript\"],[\"George Carlin: You Are All Diseased (1999) \\u2013 Transcript\"],[\"Marlon Wayans: Woke-Ish (2018) \\u2013 Transcript\"],[\"RICKY GERVAIS: HUMANITY (2018) \\u2013 Full Transcript\"],[\"ADEL KARAM: LIVE FROM BEIRUT (2018) \\u2013 Full Transcript\"],[\"STEWART LEE: 90s COMEDIAN (2006) \\u2013 Full Transcript\"],[\"Mike Birbiglia: My Girlfriend\\u2019s Boyfriend (2013) \\u2013 Transcript\"],[\"DAVE ATTELL: ROAD WORK (2014) \\u2013 Full Transcript\"],[\"Eddie Izzard \\u2013 Glorious (1997) \\u2013 Transcript\"],[\"Chris Rock: Bring the Pain (1996) \\u2013 Transcript\"],[\"ARI SHAFFIR: DOUBLE NEGATIVE (2017) \\u2013 Full Transcript\"],[\"Chris Rock: Tamborine (2018) \\u2013 Transcript\"],[\"FRED ARMISEN: STANDUP FOR DRUMMERS (2018) \\u2013 Full Transcript\"],[\"DANA CARVEY: STRAIGHT WHITE MALE, 60 (2016) \\u2013 Full Transcript\"],[\"EDDIE IZZARD: STRIPPED (2009) \\u2013 Full Transcript\"],[\"TODD GLASS: ACT HAPPY (2018) \\u2013 Full Transcript\"],[\"BRIAN REGAN: STANDING UP (2007) \\u2013 Full Transcript\"],[\"BRIAN REGAN: NUNCHUCKS AND FLAMETHROWERS (2017) \\u2013 Full Transcript\"],[\"Katt Williams: Great America (2018) \\u2013 Transcript\"],[\"JIMMY CARR: BEING FUNNY (2011) \\u2013 Full Transcript\"],[\"JIMMY CARR: LAUGHING AND JOKING (2013) \\u2013 Full Transcript\"],[\"Eddie Izzard: Unrepeatable (1994) | Transcript\"],[\"D.L. Hughley: Unapologetic (2007) \\u2013 Transcript\"],[\"BRIDGET EVERETT: GYNECOLOGICAL WONDER (2015) \\u2013 Full Transcript\"],[\"Chris Rock: Never Scared (2004) \\u2013 Transcript\"],[\"Stewart Lee: Stand-Up Comedian (2005) \\u2013 Transcript\"],[\"JIMMY CARR: FUNNY BUSINESS (2016) \\u2013 Full Transcript\"],[\"Eddie Izzard: Dress To Kill (1999) \\u2013 Transcript\"],[\"Chris Tucker: Live (2015) \\u2013 Transcript\"],[\"Kevin Hart: What Now (2016) \\u2013 Transcript\"],[\"Kevin Hart: Let Me Explain (2013) \\u2013 Transcript\"],[\"Tom Segura: Disgraceful (2018) \\u2013 Transcript\"],[\"MICHELLE WOLF: NICE LADY (2017) \\u2013 Full Transcript\"],[\"FAHIM ANWAR: THERE\\u2019S NO BUSINESS LIKE SHOW BUSINESS (2017) \\u2013 Transcript\"],[\"ELLEN DEGENERES: THE BEGINNING (2000) \\u2013 Full Transcript\"],[\"MAZ JOBRANI: IMMIGRANT (2017) \\u2013 Full Transcript\"],[\"TODD BARRY: SPICY HONEY (2017) \\u2013 Full Transcript\"],[\"Jerry Seinfeld: I\\u2019m Telling You for the Last Time (1998) \\u2013 Transcript\"],[\"Craig Ferguson: Does This Need To Be Said? (2011) \\u2013 Transcript\"],[\"Dave Chappelle: The Bird Revelation (2017) \\u2013 Transcript\"],[\"Dave Chappelle: Equanimity (2017) \\u2013 Transcript\"],[\"CRAIG FERGUSON: I\\u2019M HERE TO HELP (2013) \\u2013 Full Transcript\"],[\"RUSSELL HOWARD: RECALIBRATE (2017) \\u2013 Full Transcript\"],[\"WHITNEY CUMMINGS: I LOVE YOU (2014) \\u2013 Full Transcript\"],[\"WHITNEY CUMMINGS: I\\u2019M YOUR GIRLFRIEND (2016) \\u2013 Full Transcript\"],[\"SARAH MILLICAN: CHATTERBOX LIVE (2011) \\u2013 Full Transcript\"],[\"Anjelah Johnson: Not Fancy (2015) \\u2013 Transcript\"],[\"RICKY GERVAIS LIVE 2: POLITICS (2004) \\u2013 Full Transcript\"],[\"Russell Howard Live: Dingledodies (2009) \\u2013 Full Transcript\"],[\"CHRISTINA PAZSITZKY: MOTHER INFERIOR (2017) \\u2013 FULL TRANSCRIPT\"],[\"Jack Whitehall: At Large (2017) \\u2013 Transcript\"],[\"CRISTELA ALONZO: LOWER CLASSY (2017) \\u2013 Full Transcript\"],[\"JUDAH FRIEDLANDER: AMERICA IS THE GREATEST COUNTRY IN THE UNITED STATES (2017) \\u2013 Full Transcript\"],[\"AZIZ ANSARI: LIVE IN MADISON SQUARE GARDEN (2015) \\u2013 Full Transcript\"],[\"AZIZ ANSARI: BURIED ALIVE (2013) \\u2013 Full Transcript\"],[\"Paul Mooney: A Piece of My Mind \\u2013 Godbless America (2014) \\u2013 Transcript\"],[\"PATTON OSWALT: ANNIHILATION (2017) \\u2013 Full Transcript\"],[\"Chris Rock: Kill The Messenger \\u2013 London, New York, Johannesburg (2008) \\u2013 Transcript\"],[\"BILL MAHER: LIVE FROM D.C. (2014) \\u2013 Full Transcript\"],[\"Sarah Silverman: Jesus Is Magic (2005) \\u2013 Transcript\"],[\"SARAH SILVERMAN: WE ARE MIRACLES (2013) \\u2013 Full Transcript\"],[\"Pablo Francisco: Ouch! Live From San Jose (2006) \\u2013 Full Transcript\"],[\"BILL MAHER\\u2026 BUT I\\u2019M NOT WRONG (2010) \\u2013 Full Transcript\"],[\"RUSSELL BRAND: MESSIAH COMPLEX (2013) \\u2013 Full Transcript\"],[\"Chris Rock: Bigger & Blacker (1999) \\u2013 Transcript\"],[\"Gabriel Iglesias: Hot And Fluffy (2007) \\u2013 Transcript\"],[\"GABRIEL IGLESIAS: I\\u2019M NOT FAT \\u2026 I\\u2019M FLUFFY (2009) \\u2013 Full Transcript\"],[\"GABRIEL IGLESIAS: I\\u2019M SORRY FOR WHAT I SAID WHEN I WAS HUNGRY (2016) \\u2013 Full Transcript\"],[\"RORY SCOVEL TRIES STAND-UP FOR THE FIRST TIME (2017) \\u2013 Full Transcript\"],[\"LISA LAMPANELLI: BACK TO THE DRAWING BOARD (2015) \\u2013 Full Transcript\"],[\"ERIK GRIFFIN: THE UGLY TRUTH (2017) \\u2013 Full Transcript\"],[\"JEN KIRKMAN: JUST KEEP LIVIN\\u2019? (2017) \\u2013 Full Transcript\"],[\"DANIEL TOSH: COMPLETELY SERIOUS (2007) \\u2013 Full Transcript\"],[\"AL MADRIGAL: WHY IS THE RABBIT CRYING? (2013) \\u2013 Full Transcript\"],[\"NEAL BRENNAN: 3 MICS (2017)- FULL TRANSCRIPT\"],[\"John Mulaney: New In Town (2012) \\u2013 Transcript\"],[\"Donald Glover: Weirdo (2012) \\u2013 Transcript\"],[\"ALI WONG: BABY COBRA (2016) \\u2013 Full Transcript\"],[\"Norm Macdonald: Hitler\\u2019s Dog, Gossip & Trickery (2017) \\u2013 Transcript\"],[\"DANIEL TOSH: PEOPLE PLEASER (2016) \\u2013 FULL TRANSCRIPT\"],[\"Marc Maron: More Later (2015) \\u2013 Full Transcript\"],[\"Dylan Moran: Off The Hook (2015) \\u2013 Transcript\"],[\"Richard Pryor: Live And Smokin\\u2019 (1971) \\u2013 Transcript\"],[\"RICHARD PRYOR: \\u2026HERE AND NOW (1983) \\u2013 Full Transcript\"],[\"AMY SCHUMER: MOSTLY SEX STUFF (2012) \\u2013 Full Transcript\"],[\"Jim Jefferies: Alcoholocaust (2010) \\u2013 Transcript\"],[\"AMY SCHUMER: LIVE AT THE APOLLO (2015) \\u2013 Full Transcript\"],[\"Kevin Hart: Seriously Funny (2010) \\u2013 Transcript\"],[\"Hannibal Buress: Comedy Camisado (2016) \\u2013 Transcript\"],[\"Neal Brennan: Women And Black Dudes (2014) \\u2013 Transcript\"],[\"NICK OFFERMAN: AMERICAN HAM (2014) \\u2013 Full Transcript\"],[\"AZIZ ANSARI: INTIMATE MOMENTS FOR A SENSUAL EVENING (2010) \\u2013 Full Transcript\"],[\"BIG JAY OAKERSON: LIVE AT WEBSTER HALL (2016) \\u2013 Full Transcript\"],[\"George Carlin at USC (1977) \\u2013 Full Transcript\"],[\"Jim Norton: Mouthful Of Shame (2017) Transcript\"],[\"Michael Che Matters (2016) \\u2013 Transcript\"],[\"Joe Rogan: Triggered (2016) \\u2013 Transcript\"],[\"Trevor Noah: Lost In Translation (2015) \\u2013 Transcript\"],[\"MARIA BAMFORD: OLD BABY (2017) \\u2013 FULL TRANSCRIPT\"],[\"Bo Burnham: What (2013) \\u2013 Transcript\"],[\"Bo Burnham: Make Happy (2016) \\u2013 Transcript\"],[\"ANTHONY JESELNIK: CALIGULA (2013) \\u2013 Full Transcript\"],[\"Anthony Jeselnik: Thoughts And Prayers (2015) \\u2013 Full Transcript\"],[\"John Mulaney: The Comeback Kid (2015) \\u2013 Transcript\"],[\"BILL HICKS: REVELATIONS (1993) \\u2013 FULL TRANSCRIPT\"],[\"LEWIS BLACK: BLACK TO THE FUTURE (2016) \\u2013 Full Transcript\"],[\"DOUG STANHOPE: BEFORE TURNING THE GUN ON HIMSELF (2012) \\u2013 Transcript\"],[\"DOUG STANHOPE: DEADBEAT HERO (2004) \\u2013 Transcript\"],[\"JIM JEFFERIES: CONTRABAND (2008) \\u2013 Full Transcript\"],[\"Mike Birbiglia: Thank God for Jokes (2017) \\u2013 Transcript\"],[\"SARAH SILVERMAN: A SPECK OF DUST (2017) \\u2013 Full Transcript\"],[\"GEORGE CARLIN: PLAYING WITH YOUR HEAD (1986) \\u2013 Full Transcript\"],[\"GEORGE CARLIN: AGAIN!* (1978) \\u2013 Full Transcript\"],[\"Louis C.K.: Chewed Up (2008) \\u2013 Transcript\"],[\"Tom Segura: Completely Normal (2014) \\u2013 Transcript\"],[\"GEORGE CARLIN: CARLIN ON CAMPUS (1984) \\u2013 Full Transcript\"],[\"Louis C.K.: Live at the Beacon Theatre (2011) \\u2013 Transcript\"],[\"RICKY GERVAIS: OUT OF ENGLAND 2 (2010) \\u2013 Full Transcript\"],[\"AMY SCHUMER: THE LEATHER SPECIAL (2017) \\u2013 Full Transcript\"],[\"JIM GAFFIGAN: CINCO (2017) \\u2013 Full Transcript\"],[\"JIM JEFFERIES: I SWEAR TO GOD (2009) \\u2013 FULL TRANSCRIPT\"],[\"LOUIS C.K.: HILARIOUS (2010) \\u2013 Full Transcript\"],[\"LOUIS C.K.: SHAMELESS (2007) \\u2013 Full Transcript\"],[\"BILL BURR: I\\u2019M SORRY YOU FEEL THAT WAY (2014) \\u2013 Full Transcript\"],[\"BILL BURR: YOU PEOPLE ARE ALL THE SAME (2012) \\u2013 Full Transcript\"],[\"Dave Chappelle: For What It\\u2019s Worth (2004) \\u2013 Transcript\"],[\"Dave Chappelle: Killin\\u2019 Them Softly (2000) \\u2013 Transcript\"],[\"Eddie Griffin: You Can Tell \\u2018Em I Said It! (2011) \\u2013 Transcript\"],[\"BILL BURR: WALK YOUR WAY OUT (2017) \\u2013 Full Transcript\"],[\"LOUIS C.K.: OH MY GOD (2013) \\u2013 Full Transcript\"],[\"LOUIS C.K.: LIVE AT  THE COMEDY STORE (2015) \\u2013 Transcript\"],[\"BILL HICKS: RELENTLESS (1991) \\u2013 Transcript\"],[\"Daniel Tosh: Happy Thoughts (2011) \\u2013 Transcript\"],[\"Patrice O\\u2019Neal: Elephant in the Room (2011) \\u2013 Transcript\"],[\"Katt Williams: Live (2006) \\u2013 Transcript\"],[\"Richard Pryor: Live in Concert (1979) \\u2013 Transcript\"],[\"RICHARD PRYOR: LIVE ON THE SUNSET STRIP (1982) \\u2013 Full Transcript\"],[\"Trevor Noah: Afraid Of The Dark (2017) \\u2013 Transcript\"],[\"JIM JEFFERIES: BARE (2014) \\u2013 Full Transcript\"],[\"Dave Chappelle: Deep in the Heart of Texas (2017) \\u2013 Transcript\"],[\"Tom Segura: Mostly Stories (2016) \\u2013 Transcript\"],[\"BILL BURR: LET IT GO (2010) \\u2013 TRANSCRIPT\"],[\"JIM JEFFERIES: FREEDUMB (2016) \\u2013 Full Transcript\"],[\"Eddie Murphy: Delirious (1983) \\u2013 Transcript\"],[\"Dave Chappelle: The Age of Spin (2017) \\u2013 Transcript\"],[\"GEORGE CARLIN: BACK IN TOWN (1996) \\u2013 Full transcript\"],[\"LOUIS C.K.: 2017 \\u2013 Full transcript\"],[\"George Carlin: Jamming in New York (1992) \\u2013 Transcript\"],[\"Reggie Watts: Spatial (2016) \\u2013 Full Transcript\"],[\"GEORGE CARLIN: COMPLAINTS AND GRIEVANCES (2001) \\u2013 FULL TRANSCRIPT\"],[\"GEORGE CARLIN: LIFE IS WORTH LOSING (2006) \\u2013 Transcript\"],[\"George Carlin: It\\u2019s Bad For Ya (2008) Full transcript\"],[\"Dave Chappelle: 8:46 \\u2013 Transcript\"],[\"JIM JEFFERIES ON GUN CONTROL [FULL TRANSCRIPT]\"]],\"hovertemplate\":\"VERB=%{x}<br>description=%{customdata[0]}<extra></extra>\",\"legendgroup\":\"\",\"marker\":{\"color\":\"#636efa\"},\"name\":\"\",\"notched\":false,\"offsetgroup\":\"\",\"orientation\":\"h\",\"showlegend\":false,\"type\":\"box\",\"x\":[0.14650974025974026,0.1400201952204645,0.13678506923540037,0.14033567948023823,0.13470431959067206,0.15198891747476748,0.14587116299178557,0.1448503052029842,0.13050706566916043,0.15098772023491724,0.15325593134780413,0.15070864437953047,0.13524500109865964,0.15580448065173116,0.1401562222616723,0.16368200836820085,0.16037288671196082,0.1465508325576585,0.15403462920614178,0.13149972632731252,0.12579050247211682,0.13169754631947922,0.15014005602240896,0.13300693594451243,0.17098148451581188,0.1493556559092411,0.13837359792924936,0.12983281086729362,0.14137697298344146,0.15754296626352643,0.14382574794474107,0.13303402646502835,0.15253706410524118,0.16823253082795067,0.14510580631710623,0.15342433788356086,0.12959299039005087,0.15197613721103653,0.13956550362080317,0.141866735139299,0.14138058324104835,0.13705380927011188,0.15167173252279637,0.13464991023339318,0.1444414144168712,0.14629105938655645,0.15638582413908392,0.126448087431694,0.16529709228824274,0.1473175965665236,0.14597262018465457,0.1480334468875813,0.1461995111162845,0.13916186603411274,0.15245388096066828,0.14552463558607398,0.13834685376014033,0.1419551934826884,0.15089779005524862,0.15948527978163385,0.15705469248776335,0.14858766505097776,0.13347249508840864,0.13657839797824414,0.14871987951807228,0.13428608214239732,0.12912215513237343,0.13777288570904422,0.1430280075750025,0.14779846466072533,0.1456733524355301,0.1443696922907246,0.1438369781312127,0.13793511721524981,0.1545097044272485,0.14460530851430542,0.1407593123209169,0.1433347262849979,0.155309205521139,0.14498365169506108,0.16188143894612397,0.1388343912290825,0.14357142857142857,0.14779648871372267,0.15563251171317988,0.13605309389029865,0.13221274460612142,0.17227378190255221,0.13094571908226077,0.1605630579079881,0.15402410812127115,0.15251839275608375,0.15632291180587962,0.1774288134488825,0.13333920084492168,0.14992025518341306,0.15552306260800214,0.1298102500443341,0.14373142157719881,0.15763971142457198,0.14107323658454268,0.1512150466045273,0.14452292857943716,0.1535786198059674,0.14364848371044972,0.17251027367316604,0.15604451188669702,0.13711414213926776,0.14301541870556736,0.12634293081220455,0.15389042357274402,0.1560905069751616,0.1628293681248401,0.16045448247194125,0.16782355575459024,0.1294997662459093,0.15099534095722153,0.14603960396039603,0.13626506024096385,0.15202520252025203,0.1522664663160531,0.13599858794457684,0.15858255843176677,0.14101663152963223,0.131631896643016,0.13072072072072072,0.13631718781933375,0.14382229501484287,0.1521155566918062,0.15204968944099378,0.16339819792534263,0.15472948975967799,0.1402579456471672,0.1450018766420618,0.12199730094466936,0.14586994727592267,0.14533863069389263,0.14349014801546148,0.14661775811845937,0.1329498589103538,0.1485950849995596,0.17178034004299395,0.14175182481751825,0.14483757500517278,0.15257063455303382,0.14532344876612166,0.1383839345198439,0.1459646269566985,0.14131248440489064,0.15682448392728768,0.15658068783068782,0.1339782345828295,0.13566171164670227,0.14441120478651073,0.13522679101314117,0.14600154850127198,0.15387903398162,0.13550420168067226,0.16097308488612835,0.15035673390293314,0.16605166051660517,0.13421221276206172,0.1388227567523192,0.14019253910950663,0.13752969121140143,0.16131687242798354,0.14855687606112053,0.15513188822146776,0.12790697674418605,0.14329454990814453,0.1378376593355789,0.17540902330193356,0.16098522167487686,0.16193936006706722,0.1617772367620207,0.14244594215108117,0.1416051660516605,0.1428691769859321,0.1551844932274638,0.17366336633663365,0.14660062315251257,0.12631943242775567,0.13309845370914072,0.12492104709102393,0.17276194749831725,0.1710302091402014,0.16435237878442976,0.1532067630112402,0.1447104611392853,0.13105745212323064,0.1567554420527788,0.15237085582112567,0.14483859089235301,0.15390406539040655,0.1348879284350186,0.14470356841809498,0.14148790506617984,0.13284248453043002,0.15458843964103058,0.15417815609639132,0.1454962947500261,0.15257648953301128,0.1370841995841996,0.14309484193011648,0.14868251195990584,0.13752171395483498,0.13332645906372448,0.15193838924422398,0.13097898971837282,0.14134438305709024,0.14277246795584203,0.1595258999122037,0.1412767684969045,0.14594252665823243,0.14116079001575185,0.14925575101488497,0.14562792952965897,0.15541804576198015,0.14991334488734837,0.1310764549258273,0.1610179430045737,0.15414165666266508,0.15198423867154517,0.15719432394676863,0.1480617571920471,0.13628899835796388,0.15206118745138708,0.15299450141179968,0.15155986509274874,0.14900225903614459,0.14512283611485435,0.1387390920678498,0.1362262137648942,0.14292974209122095,0.14941249226963513,0.14618542919889238,0.14706120139057322,0.15017064846416384,0.15459980073065427,0.17262059973924382,0.13737306104229438,0.15296698222119604,0.12440358431281276,0.17971569566178094,0.1444290337494221,0.1361459521094641,0.1455592105263158,0.1407914020517831,0.13539325842696628,0.1450402144772118,0.14954084098598358,0.15200478755236385,0.142576112412178,0.14864077669902911,0.14402523069734843,0.14656160458452722,0.14021862042970223,0.14187374076561451,0.1509433962264151,0.13479239108202087,0.14589169000933708,0.14908817446888512,0.1333751437232152,0.14927153446366193,0.14501044220466722,0.13170784804615218,0.13822578963827792,0.1549312756209308,0.1507147036696481,0.14620089390731592,0.15567967275015734,0.1572140484100617,0.14842300556586271,0.14602433738956494,0.13753456556541988,0.1407148920116948,0.14170436483677712,0.14120626879848028,0.1514360313315927,0.16068270931037135,0.16784707943035565,0.15312242737857226,0.15924826904055392,0.1665043816942551,0.1555441478439425,0.14319423745653254,0.1433768457093944,0.14384866630375612,0.14214151534126487,0.15179231337767923,0.15283557731538147,0.18960538979788258,0.1730903994393833,0.15609332819128421,0.15001713502398903,0.1423712342079689,0.1488499245852187,0.1631491581693147,0.14367083227067926,0.16735561592063306,0.14449375580555268,0.13808437856328393,0.145995984831586,0.14243187542935654,0.15070015559013114,0.13935574229691877,0.14389785367382107,0.14743225317415198,0.14019471488178026,0.15467196819085488],\"x0\":\" \",\"xaxis\":\"x\",\"y0\":\" \",\"yaxis\":\"y\"}],                        {\"boxmode\":\"group\",\"legend\":{\"tracegroupgap\":0},\"margin\":{\"t\":60},\"template\":{\"data\":{\"bar\":[{\"error_x\":{\"color\":\"#2a3f5f\"},\"error_y\":{\"color\":\"#2a3f5f\"},\"marker\":{\"line\":{\"color\":\"#E5ECF6\",\"width\":0.5},\"pattern\":{\"fillmode\":\"overlay\",\"size\":10,\"solidity\":0.2}},\"type\":\"bar\"}],\"barpolar\":[{\"marker\":{\"line\":{\"color\":\"#E5ECF6\",\"width\":0.5},\"pattern\":{\"fillmode\":\"overlay\",\"size\":10,\"solidity\":0.2}},\"type\":\"barpolar\"}],\"carpet\":[{\"aaxis\":{\"endlinecolor\":\"#2a3f5f\",\"gridcolor\":\"white\",\"linecolor\":\"white\",\"minorgridcolor\":\"white\",\"startlinecolor\":\"#2a3f5f\"},\"baxis\":{\"endlinecolor\":\"#2a3f5f\",\"gridcolor\":\"white\",\"linecolor\":\"white\",\"minorgridcolor\":\"white\",\"startlinecolor\":\"#2a3f5f\"},\"type\":\"carpet\"}],\"choropleth\":[{\"colorbar\":{\"outlinewidth\":0,\"ticks\":\"\"},\"type\":\"choropleth\"}],\"contour\":[{\"colorbar\":{\"outlinewidth\":0,\"ticks\":\"\"},\"colorscale\":[[0.0,\"#0d0887\"],[0.1111111111111111,\"#46039f\"],[0.2222222222222222,\"#7201a8\"],[0.3333333333333333,\"#9c179e\"],[0.4444444444444444,\"#bd3786\"],[0.5555555555555556,\"#d8576b\"],[0.6666666666666666,\"#ed7953\"],[0.7777777777777778,\"#fb9f3a\"],[0.8888888888888888,\"#fdca26\"],[1.0,\"#f0f921\"]],\"type\":\"contour\"}],\"contourcarpet\":[{\"colorbar\":{\"outlinewidth\":0,\"ticks\":\"\"},\"type\":\"contourcarpet\"}],\"heatmap\":[{\"colorbar\":{\"outlinewidth\":0,\"ticks\":\"\"},\"colorscale\":[[0.0,\"#0d0887\"],[0.1111111111111111,\"#46039f\"],[0.2222222222222222,\"#7201a8\"],[0.3333333333333333,\"#9c179e\"],[0.4444444444444444,\"#bd3786\"],[0.5555555555555556,\"#d8576b\"],[0.6666666666666666,\"#ed7953\"],[0.7777777777777778,\"#fb9f3a\"],[0.8888888888888888,\"#fdca26\"],[1.0,\"#f0f921\"]],\"type\":\"heatmap\"}],\"heatmapgl\":[{\"colorbar\":{\"outlinewidth\":0,\"ticks\":\"\"},\"colorscale\":[[0.0,\"#0d0887\"],[0.1111111111111111,\"#46039f\"],[0.2222222222222222,\"#7201a8\"],[0.3333333333333333,\"#9c179e\"],[0.4444444444444444,\"#bd3786\"],[0.5555555555555556,\"#d8576b\"],[0.6666666666666666,\"#ed7953\"],[0.7777777777777778,\"#fb9f3a\"],[0.8888888888888888,\"#fdca26\"],[1.0,\"#f0f921\"]],\"type\":\"heatmapgl\"}],\"histogram\":[{\"marker\":{\"pattern\":{\"fillmode\":\"overlay\",\"size\":10,\"solidity\":0.2}},\"type\":\"histogram\"}],\"histogram2d\":[{\"colorbar\":{\"outlinewidth\":0,\"ticks\":\"\"},\"colorscale\":[[0.0,\"#0d0887\"],[0.1111111111111111,\"#46039f\"],[0.2222222222222222,\"#7201a8\"],[0.3333333333333333,\"#9c179e\"],[0.4444444444444444,\"#bd3786\"],[0.5555555555555556,\"#d8576b\"],[0.6666666666666666,\"#ed7953\"],[0.7777777777777778,\"#fb9f3a\"],[0.8888888888888888,\"#fdca26\"],[1.0,\"#f0f921\"]],\"type\":\"histogram2d\"}],\"histogram2dcontour\":[{\"colorbar\":{\"outlinewidth\":0,\"ticks\":\"\"},\"colorscale\":[[0.0,\"#0d0887\"],[0.1111111111111111,\"#46039f\"],[0.2222222222222222,\"#7201a8\"],[0.3333333333333333,\"#9c179e\"],[0.4444444444444444,\"#bd3786\"],[0.5555555555555556,\"#d8576b\"],[0.6666666666666666,\"#ed7953\"],[0.7777777777777778,\"#fb9f3a\"],[0.8888888888888888,\"#fdca26\"],[1.0,\"#f0f921\"]],\"type\":\"histogram2dcontour\"}],\"mesh3d\":[{\"colorbar\":{\"outlinewidth\":0,\"ticks\":\"\"},\"type\":\"mesh3d\"}],\"parcoords\":[{\"line\":{\"colorbar\":{\"outlinewidth\":0,\"ticks\":\"\"}},\"type\":\"parcoords\"}],\"pie\":[{\"automargin\":true,\"type\":\"pie\"}],\"scatter\":[{\"marker\":{\"colorbar\":{\"outlinewidth\":0,\"ticks\":\"\"}},\"type\":\"scatter\"}],\"scatter3d\":[{\"line\":{\"colorbar\":{\"outlinewidth\":0,\"ticks\":\"\"}},\"marker\":{\"colorbar\":{\"outlinewidth\":0,\"ticks\":\"\"}},\"type\":\"scatter3d\"}],\"scattercarpet\":[{\"marker\":{\"colorbar\":{\"outlinewidth\":0,\"ticks\":\"\"}},\"type\":\"scattercarpet\"}],\"scattergeo\":[{\"marker\":{\"colorbar\":{\"outlinewidth\":0,\"ticks\":\"\"}},\"type\":\"scattergeo\"}],\"scattergl\":[{\"marker\":{\"colorbar\":{\"outlinewidth\":0,\"ticks\":\"\"}},\"type\":\"scattergl\"}],\"scattermapbox\":[{\"marker\":{\"colorbar\":{\"outlinewidth\":0,\"ticks\":\"\"}},\"type\":\"scattermapbox\"}],\"scatterpolar\":[{\"marker\":{\"colorbar\":{\"outlinewidth\":0,\"ticks\":\"\"}},\"type\":\"scatterpolar\"}],\"scatterpolargl\":[{\"marker\":{\"colorbar\":{\"outlinewidth\":0,\"ticks\":\"\"}},\"type\":\"scatterpolargl\"}],\"scatterternary\":[{\"marker\":{\"colorbar\":{\"outlinewidth\":0,\"ticks\":\"\"}},\"type\":\"scatterternary\"}],\"surface\":[{\"colorbar\":{\"outlinewidth\":0,\"ticks\":\"\"},\"colorscale\":[[0.0,\"#0d0887\"],[0.1111111111111111,\"#46039f\"],[0.2222222222222222,\"#7201a8\"],[0.3333333333333333,\"#9c179e\"],[0.4444444444444444,\"#bd3786\"],[0.5555555555555556,\"#d8576b\"],[0.6666666666666666,\"#ed7953\"],[0.7777777777777778,\"#fb9f3a\"],[0.8888888888888888,\"#fdca26\"],[1.0,\"#f0f921\"]],\"type\":\"surface\"}],\"table\":[{\"cells\":{\"fill\":{\"color\":\"#EBF0F8\"},\"line\":{\"color\":\"white\"}},\"header\":{\"fill\":{\"color\":\"#C8D4E3\"},\"line\":{\"color\":\"white\"}},\"type\":\"table\"}]},\"layout\":{\"annotationdefaults\":{\"arrowcolor\":\"#2a3f5f\",\"arrowhead\":0,\"arrowwidth\":1},\"autotypenumbers\":\"strict\",\"coloraxis\":{\"colorbar\":{\"outlinewidth\":0,\"ticks\":\"\"}},\"colorscale\":{\"diverging\":[[0,\"#8e0152\"],[0.1,\"#c51b7d\"],[0.2,\"#de77ae\"],[0.3,\"#f1b6da\"],[0.4,\"#fde0ef\"],[0.5,\"#f7f7f7\"],[0.6,\"#e6f5d0\"],[0.7,\"#b8e186\"],[0.8,\"#7fbc41\"],[0.9,\"#4d9221\"],[1,\"#276419\"]],\"sequential\":[[0.0,\"#0d0887\"],[0.1111111111111111,\"#46039f\"],[0.2222222222222222,\"#7201a8\"],[0.3333333333333333,\"#9c179e\"],[0.4444444444444444,\"#bd3786\"],[0.5555555555555556,\"#d8576b\"],[0.6666666666666666,\"#ed7953\"],[0.7777777777777778,\"#fb9f3a\"],[0.8888888888888888,\"#fdca26\"],[1.0,\"#f0f921\"]],\"sequentialminus\":[[0.0,\"#0d0887\"],[0.1111111111111111,\"#46039f\"],[0.2222222222222222,\"#7201a8\"],[0.3333333333333333,\"#9c179e\"],[0.4444444444444444,\"#bd3786\"],[0.5555555555555556,\"#d8576b\"],[0.6666666666666666,\"#ed7953\"],[0.7777777777777778,\"#fb9f3a\"],[0.8888888888888888,\"#fdca26\"],[1.0,\"#f0f921\"]]},\"colorway\":[\"#636efa\",\"#EF553B\",\"#00cc96\",\"#ab63fa\",\"#FFA15A\",\"#19d3f3\",\"#FF6692\",\"#B6E880\",\"#FF97FF\",\"#FECB52\"],\"font\":{\"color\":\"#2a3f5f\"},\"geo\":{\"bgcolor\":\"white\",\"lakecolor\":\"white\",\"landcolor\":\"#E5ECF6\",\"showlakes\":true,\"showland\":true,\"subunitcolor\":\"white\"},\"hoverlabel\":{\"align\":\"left\"},\"hovermode\":\"closest\",\"mapbox\":{\"style\":\"light\"},\"paper_bgcolor\":\"white\",\"plot_bgcolor\":\"#E5ECF6\",\"polar\":{\"angularaxis\":{\"gridcolor\":\"white\",\"linecolor\":\"white\",\"ticks\":\"\"},\"bgcolor\":\"#E5ECF6\",\"radialaxis\":{\"gridcolor\":\"white\",\"linecolor\":\"white\",\"ticks\":\"\"}},\"scene\":{\"xaxis\":{\"backgroundcolor\":\"#E5ECF6\",\"gridcolor\":\"white\",\"gridwidth\":2,\"linecolor\":\"white\",\"showbackground\":true,\"ticks\":\"\",\"zerolinecolor\":\"white\"},\"yaxis\":{\"backgroundcolor\":\"#E5ECF6\",\"gridcolor\":\"white\",\"gridwidth\":2,\"linecolor\":\"white\",\"showbackground\":true,\"ticks\":\"\",\"zerolinecolor\":\"white\"},\"zaxis\":{\"backgroundcolor\":\"#E5ECF6\",\"gridcolor\":\"white\",\"gridwidth\":2,\"linecolor\":\"white\",\"showbackground\":true,\"ticks\":\"\",\"zerolinecolor\":\"white\"}},\"shapedefaults\":{\"line\":{\"color\":\"#2a3f5f\"}},\"ternary\":{\"aaxis\":{\"gridcolor\":\"white\",\"linecolor\":\"white\",\"ticks\":\"\"},\"baxis\":{\"gridcolor\":\"white\",\"linecolor\":\"white\",\"ticks\":\"\"},\"bgcolor\":\"#E5ECF6\",\"caxis\":{\"gridcolor\":\"white\",\"linecolor\":\"white\",\"ticks\":\"\"}},\"title\":{\"x\":0.05},\"xaxis\":{\"automargin\":true,\"gridcolor\":\"white\",\"linecolor\":\"white\",\"ticks\":\"\",\"title\":{\"standoff\":15},\"zerolinecolor\":\"white\",\"zerolinewidth\":2},\"yaxis\":{\"automargin\":true,\"gridcolor\":\"white\",\"linecolor\":\"white\",\"ticks\":\"\",\"title\":{\"standoff\":15},\"zerolinecolor\":\"white\",\"zerolinewidth\":2}}},\"xaxis\":{\"anchor\":\"y\",\"domain\":[0.0,1.0],\"title\":{\"text\":\"VERB\"}},\"yaxis\":{\"anchor\":\"x\",\"domain\":[0.0,1.0]}},                        {\"responsive\": true}                    ).then(function(){\n",
       "                            \n",
       "var gd = document.getElementById('fea74857-5f6a-4450-baef-ea3c1230aa91');\n",
       "var x = new MutationObserver(function (mutations, observer) {{\n",
       "        var display = window.getComputedStyle(gd).display;\n",
       "        if (!display || display === 'none') {{\n",
       "            console.log([gd, 'removed!']);\n",
       "            Plotly.purge(gd);\n",
       "            observer.disconnect();\n",
       "        }}\n",
       "}});\n",
       "\n",
       "// Listen for the removal of the full notebook cells\n",
       "var notebookContainer = gd.closest('#notebook-container');\n",
       "if (notebookContainer) {{\n",
       "    x.observe(notebookContainer, {childList: true});\n",
       "}}\n",
       "\n",
       "// Listen for the clearing of the current output cell\n",
       "var outputEl = gd.closest('.output');\n",
       "if (outputEl) {{\n",
       "    x.observe(outputEl, {childList: true});\n",
       "}}\n",
       "\n",
       "                        })                };                });            </script>        </div>"
      ]
     },
     "metadata": {},
     "output_type": "display_data"
    }
   ],
   "source": [
    "pos_col = 'VERB'\n",
    "px.box(pos_df, x = pos_col, hover_data = ['description'], points = 'all')"
   ]
  },
  {
   "cell_type": "markdown",
   "metadata": {},
   "source": [
    "## sentence structure"
   ]
  },
  {
   "cell_type": "markdown",
   "metadata": {},
   "source": [
    "## point-of-view"
   ]
  },
  {
   "cell_type": "code",
   "execution_count": 186,
   "metadata": {},
   "outputs": [],
   "source": [
    "word_counts_dicts = [{dictionary[entry[0]]: entry[1] for entry in index_counts} for index_counts in corpus]"
   ]
  },
  {
   "cell_type": "code",
   "execution_count": 191,
   "metadata": {},
   "outputs": [],
   "source": [
    "first_pron = [\"i\",\n",
    "            \"me\",\n",
    "            \"my\",\n",
    "            \"mine\",\n",
    "            \"myself\",\n",
    "            \"we\",\n",
    "            \"us\",\n",
    "            \"our\",\n",
    "            \"ours,\"\n",
    "            \"ourselves\"]\n",
    "\n",
    "second_pron = [\"you\",\n",
    "               \"your\",\n",
    "               \"yours\"]\n",
    "\n",
    "third_pron = [\"he\",\n",
    "            \"she\",\n",
    "            \"it\",\n",
    "            \"him\",\n",
    "            \"her\",\n",
    "            \"it\",\n",
    "            \"his\",\n",
    "            \"her\",\n",
    "            \"its\",\n",
    "            \"his\",\n",
    "            \"hers\",\n",
    "            \"its\",\n",
    "            \"they\",\n",
    "            \"them\",\n",
    "            \"their\",\n",
    "            \"theirs\"]"
   ]
  },
  {
   "cell_type": "code",
   "execution_count": 193,
   "metadata": {},
   "outputs": [],
   "source": [
    "from collections import defaultdict\n",
    "\n",
    "def count_pov(word_dict, pos_dict):\n",
    "    pov_dict = defaultdict(int)\n",
    "    for word, count in word_dict.items():\n",
    "        if word in first_pron:\n",
    "            pov_dict['first_person'] += count\n",
    "        elif word in second_pron:\n",
    "            pov_dict['second_person'] += count\n",
    "        elif word in third_pron:\n",
    "            pov_dict['third_person'] += count\n",
    "    pov_dict['third_person'] += pos_dict['NOUN'] + pos_dict['PROPN']\n",
    "    return dict(pov_dict)"
   ]
  },
  {
   "cell_type": "code",
   "execution_count": 201,
   "metadata": {},
   "outputs": [],
   "source": [
    "pov_counts = [count_pov(word_count_dict, pos_count_dict) for word_count_dict, pos_count_dict in zip(word_counts_dicts, docs_pos_counts_words)]\n",
    "pov_props_overall = [{pov: count/sum(word_count_dict.values()) for pov, count in pov_count_dict.items()} for pov_count_dict, word_count_dict in zip(pov_counts, word_counts_dicts)]\n",
    "pov_props_relative = [{pov: count/sum(pov_count_dict.values()) for pov, count in pov_count_dict.items()} for pov_count_dict in pov_counts]"
   ]
  },
  {
   "cell_type": "code",
   "execution_count": 202,
   "metadata": {},
   "outputs": [
    {
     "data": {
      "text/plain": [
       "[{'third_person': 0.6950404502286317,\n",
       "  'first_person': 0.20295462539570877,\n",
       "  'second_person': 0.10200492437565951},\n",
       " {'third_person': 0.7183505154639175,\n",
       "  'first_person': 0.1797938144329897,\n",
       "  'second_person': 0.10185567010309278},\n",
       " {'third_person': 0.614691943127962,\n",
       "  'first_person': 0.23554502369668245,\n",
       "  'second_person': 0.14976303317535544},\n",
       " {'third_person': 0.7038950715421304,\n",
       "  'first_person': 0.18640699523052465,\n",
       "  'second_person': 0.10969793322734499},\n",
       " {'third_person': 0.6971993410214168,\n",
       "  'first_person': 0.1799011532125206,\n",
       "  'second_person': 0.12289950576606261},\n",
       " {'third_person': 0.7053401144310235,\n",
       "  'first_person': 0.22441195168467895,\n",
       "  'second_person': 0.07024793388429752},\n",
       " {'third_person': 0.6999419616947186,\n",
       "  'first_person': 0.20835751596053395,\n",
       "  'second_person': 0.09170052234474753},\n",
       " {'third_person': 0.6794871794871795,\n",
       "  'first_person': 0.21153846153846154,\n",
       "  'second_person': 0.10897435897435898},\n",
       " {'third_person': 0.7530811729706758,\n",
       "  'first_person': 0.17169570760730982,\n",
       "  'second_person': 0.07522311942201446},\n",
       " {'third_person': 0.7043010752688172,\n",
       "  'first_person': 0.13189964157706094,\n",
       "  'second_person': 0.16379928315412187},\n",
       " {'third_person': 0.7041499330655957,\n",
       "  'first_person': 0.1676706827309237,\n",
       "  'second_person': 0.1281793842034806},\n",
       " {'third_person': 0.7383657017222426,\n",
       "  'first_person': 0.1509710516672774,\n",
       "  'second_person': 0.11066324661048003},\n",
       " {'third_person': 0.7482993197278912,\n",
       "  'first_person': 0.16054421768707483,\n",
       "  'second_person': 0.09115646258503401},\n",
       " {'third_person': 0.6446111869031378,\n",
       "  'first_person': 0.2653478854024557,\n",
       "  'second_person': 0.09004092769440655},\n",
       " {'third_person': 0.6423188405797101,\n",
       "  'first_person': 0.2417391304347826,\n",
       "  'second_person': 0.11594202898550725},\n",
       " {'third_person': 0.6651493598862019,\n",
       "  'first_person': 0.23584637268847794,\n",
       "  'second_person': 0.09900426742532005},\n",
       " {'third_person': 0.6952277657266811,\n",
       "  'first_person': 0.21529284164859003,\n",
       "  'second_person': 0.08947939262472886},\n",
       " {'third_person': 0.736734693877551,\n",
       "  'first_person': 0.14727891156462586,\n",
       "  'second_person': 0.11598639455782313},\n",
       " {'third_person': 0.7078477078477079,\n",
       "  'first_person': 0.14555814555814556,\n",
       "  'second_person': 0.1465941465941466},\n",
       " {'third_person': 0.7365135978600089,\n",
       "  'first_person': 0.17209094962104324,\n",
       "  'second_person': 0.09139545251894783},\n",
       " {'third_person': 0.792914653784219,\n",
       "  'first_person': 0.13107890499194846,\n",
       "  'second_person': 0.07600644122383253},\n",
       " {'third_person': 0.6994535519125683,\n",
       "  'first_person': 0.16435477091214795,\n",
       "  'second_person': 0.13619167717528374},\n",
       " {'third_person': 0.7064705882352941,\n",
       "  'first_person': 0.19823529411764707,\n",
       "  'second_person': 0.09529411764705882},\n",
       " {'third_person': 0.7347161572052402,\n",
       "  'first_person': 0.1812227074235808,\n",
       "  'second_person': 0.08406113537117904},\n",
       " {'third_person': 0.642015542742542,\n",
       "  'first_person': 0.25119077463023315,\n",
       "  'second_person': 0.10679368262722487},\n",
       " {'third_person': 0.6664095642113382,\n",
       "  'first_person': 0.22869263401465484,\n",
       "  'second_person': 0.10489780177400694},\n",
       " {'third_person': 0.7492323439099283,\n",
       "  'first_person': 0.16240191061071307,\n",
       "  'second_person': 0.08836574547935858},\n",
       " {'third_person': 0.7166761202495746,\n",
       "  'first_person': 0.19171866137266025,\n",
       "  'second_person': 0.09160521837776517},\n",
       " {'third_person': 0.6807370184254606,\n",
       "  'first_person': 0.20971524288107202,\n",
       "  'second_person': 0.10954773869346733},\n",
       " {'third_person': 0.6372972972972973,\n",
       "  'first_person': 0.21027027027027026,\n",
       "  'second_person': 0.15243243243243243},\n",
       " {'third_person': 0.6830156950672646,\n",
       "  'first_person': 0.22141255605381166,\n",
       "  'second_person': 0.09557174887892377},\n",
       " {'third_person': 0.7277926038886771,\n",
       "  'first_person': 0.1951963400686237,\n",
       "  'second_person': 0.0770110560426992},\n",
       " {'third_person': 0.6556723450525552,\n",
       "  'first_person': 0.15295396882928597,\n",
       "  'second_person': 0.19137368611815875},\n",
       " {'third_person': 0.681214421252372,\n",
       "  'first_person': 0.16461100569259962,\n",
       "  'second_person': 0.15417457305502846},\n",
       " {'third_person': 0.7134481495053133,\n",
       "  'first_person': 0.19237816049835105,\n",
       "  'second_person': 0.09417368999633566},\n",
       " {'third_person': 0.7547832877782117,\n",
       "  'first_person': 0.11909410386567747,\n",
       "  'second_person': 0.1261226083561109},\n",
       " {'third_person': 0.731995277449823,\n",
       "  'first_person': 0.18339236521054703,\n",
       "  'second_person': 0.08461235733963007},\n",
       " {'third_person': 0.7161778618732261,\n",
       "  'first_person': 0.15468306527909176,\n",
       "  'second_person': 0.1291390728476821},\n",
       " {'third_person': 0.652827204428628,\n",
       "  'first_person': 0.19177540529853698,\n",
       "  'second_person': 0.1553973902728351},\n",
       " {'third_person': 0.6816244110388153,\n",
       "  'first_person': 0.24029616333856854,\n",
       "  'second_person': 0.0780794256226161},\n",
       " {'third_person': 0.6577896138482024,\n",
       "  'first_person': 0.25787838437638705,\n",
       "  'second_person': 0.08433200177541056},\n",
       " {'third_person': 0.7089324618736383,\n",
       "  'first_person': 0.17167755991285402,\n",
       "  'second_person': 0.11938997821350762},\n",
       " {'third_person': 0.7553216374269006,\n",
       "  'first_person': 0.15929824561403508,\n",
       "  'second_person': 0.08538011695906433},\n",
       " {'third_person': 0.7285628019323671,\n",
       "  'first_person': 0.178743961352657,\n",
       "  'second_person': 0.09269323671497584},\n",
       " {'third_person': 0.6823338735818476,\n",
       "  'first_person': 0.22393300918422473,\n",
       "  'second_person': 0.0937331172339276},\n",
       " {'third_person': 0.7267462902642056,\n",
       "  'first_person': 0.17553384002895403,\n",
       "  'second_person': 0.09771986970684039},\n",
       " {'third_person': 0.6283535724371646,\n",
       "  'first_person': 0.2343970629765603,\n",
       "  'second_person': 0.13724936458627507},\n",
       " {'third_person': 0.689922480620155,\n",
       "  'first_person': 0.20613107822410148,\n",
       "  'second_person': 0.10394644115574349},\n",
       " {'third_person': 0.6375739644970414,\n",
       "  'first_person': 0.23816568047337278,\n",
       "  'second_person': 0.1242603550295858},\n",
       " {'third_person': 0.7243697478991596,\n",
       "  'first_person': 0.1519327731092437,\n",
       "  'second_person': 0.12369747899159664},\n",
       " {'third_person': 0.7009321595028483,\n",
       "  'first_person': 0.17063697566027966,\n",
       "  'second_person': 0.12843086483687208},\n",
       " {'third_person': 0.6695842450765864,\n",
       "  'first_person': 0.2100656455142232,\n",
       "  'second_person': 0.12035010940919037},\n",
       " {'third_person': 0.7043681747269891,\n",
       "  'first_person': 0.18213728549141966,\n",
       "  'second_person': 0.11349453978159127},\n",
       " {'third_person': 0.6911119968114787,\n",
       "  'first_person': 0.19968114786767638,\n",
       "  'second_person': 0.10920685532084495},\n",
       " {'third_person': 0.6833740831295844,\n",
       "  'first_person': 0.19396903015484923,\n",
       "  'second_person': 0.12265688671556642},\n",
       " {'third_person': 0.734472049689441,\n",
       "  'first_person': 0.17857142857142858,\n",
       "  'second_person': 0.08695652173913043},\n",
       " {'third_person': 0.6970672389127325,\n",
       "  'first_person': 0.19742489270386265,\n",
       "  'second_person': 0.10550786838340487},\n",
       " {'third_person': 0.689429012345679,\n",
       "  'first_person': 0.16396604938271606,\n",
       "  'second_person': 0.14660493827160495},\n",
       " {'third_person': 0.6097785977859779,\n",
       "  'first_person': 0.22724477244772448,\n",
       "  'second_person': 0.16297662976629768},\n",
       " {'third_person': 0.6239403187521194,\n",
       "  'first_person': 0.2271956595456087,\n",
       "  'second_person': 0.14886402170227195},\n",
       " {'third_person': 0.6943021766965429,\n",
       "  'first_person': 0.22215108834827144,\n",
       "  'second_person': 0.08354673495518566},\n",
       " {'third_person': 0.6732209737827716,\n",
       "  'first_person': 0.19850187265917604,\n",
       "  'second_person': 0.12827715355805244},\n",
       " {'third_person': 0.623066725585506,\n",
       "  'first_person': 0.278391515687141,\n",
       "  'second_person': 0.09854175872735307},\n",
       " {'third_person': 0.6416632694659601,\n",
       "  'first_person': 0.21810028536485934,\n",
       "  'second_person': 0.1402364451691806},\n",
       " {'third_person': 0.7111247695144438,\n",
       "  'first_person': 0.18315918869084205,\n",
       "  'second_person': 0.1057160417947142},\n",
       " {'third_person': 0.7914085088806279,\n",
       "  'first_person': 0.1315572077653862,\n",
       "  'second_person': 0.07703428335398596},\n",
       " {'third_person': 0.7997248427672956,\n",
       "  'first_person': 0.11674528301886793,\n",
       "  'second_person': 0.08352987421383648},\n",
       " {'third_person': 0.6734982332155477,\n",
       "  'first_person': 0.23745583038869258,\n",
       "  'second_person': 0.08904593639575972},\n",
       " {'third_person': 0.6776406035665294,\n",
       "  'first_person': 0.22016460905349794,\n",
       "  'second_person': 0.10219478737997256},\n",
       " {'third_person': 0.7019653857436199,\n",
       "  'first_person': 0.21003226752713405,\n",
       "  'second_person': 0.08800234672924612},\n",
       " {'third_person': 0.7927247769389156,\n",
       "  'first_person': 0.12079615648592999,\n",
       "  'second_person': 0.08647906657515443},\n",
       " {'third_person': 0.7845188284518828,\n",
       "  'first_person': 0.11157601115760112,\n",
       "  'second_person': 0.10390516039051603},\n",
       " {'third_person': 0.7782874617737003,\n",
       "  'first_person': 0.1308868501529052,\n",
       "  'second_person': 0.0908256880733945},\n",
       " {'third_person': 0.6765463917525774,\n",
       "  'first_person': 0.2027491408934708,\n",
       "  'second_person': 0.12070446735395189},\n",
       " {'third_person': 0.652191894127378,\n",
       "  'first_person': 0.23738626964433415,\n",
       "  'second_person': 0.11042183622828784},\n",
       " {'third_person': 0.6810933940774487,\n",
       "  'first_person': 0.25683371298405466,\n",
       "  'second_person': 0.062072892938496584},\n",
       " {'third_person': 0.7047268262737876,\n",
       "  'first_person': 0.1642111724984653,\n",
       "  'second_person': 0.13106200122774708},\n",
       " {'third_person': 0.6898322492297159,\n",
       "  'first_person': 0.2310852447791852,\n",
       "  'second_person': 0.07908250599109894},\n",
       " {'third_person': 0.7102774274905422,\n",
       "  'first_person': 0.17780580075662042,\n",
       "  'second_person': 0.11191677175283733},\n",
       " {'third_person': 0.6112934996717005,\n",
       "  'first_person': 0.2541037426132633,\n",
       "  'second_person': 0.1346027577150361},\n",
       " {'third_person': 0.6762749445676275,\n",
       "  'first_person': 0.18118466898954705,\n",
       "  'second_person': 0.14254038644282546},\n",
       " {'third_person': 0.7334091770951839,\n",
       "  'first_person': 0.18809252938945772,\n",
       "  'second_person': 0.07849829351535836},\n",
       " {'third_person': 0.6506701253782966,\n",
       "  'first_person': 0.26286208387375704,\n",
       "  'second_person': 0.08646779074794639},\n",
       " {'third_person': 0.7110894941634242,\n",
       "  'first_person': 0.17833981841763943,\n",
       "  'second_person': 0.11057068741893644},\n",
       " {'third_person': 0.6945326278659611,\n",
       "  'first_person': 0.21622574955908289,\n",
       "  'second_person': 0.08924162257495591},\n",
       " {'third_person': 0.7109533468559838,\n",
       "  'first_person': 0.16700473292765383,\n",
       "  'second_person': 0.12204192021636241},\n",
       " {'third_person': 0.7256519425226184,\n",
       "  'first_person': 0.1617881852048962,\n",
       "  'second_person': 0.11255987227248536},\n",
       " {'third_person': 0.7189901207464325,\n",
       "  'first_person': 0.15806805708013172,\n",
       "  'second_person': 0.12294182217343579},\n",
       " {'third_person': 0.7038022813688213,\n",
       "  'first_person': 0.17490494296577946,\n",
       "  'second_person': 0.12129277566539924},\n",
       " {'third_person': 0.6729420450350683,\n",
       "  'first_person': 0.20930232558139536,\n",
       "  'second_person': 0.11775562938353636},\n",
       " {'third_person': 0.70078125,\n",
       "  'first_person': 0.180078125,\n",
       "  'second_person': 0.119140625},\n",
       " {'third_person': 0.7036541889483066,\n",
       "  'first_person': 0.19563279857397503,\n",
       "  'second_person': 0.10071301247771836},\n",
       " {'third_person': 0.7347153900210822,\n",
       "  'first_person': 0.1602248770203795,\n",
       "  'second_person': 0.1050597329585383},\n",
       " {'third_person': 0.6595576619273301,\n",
       "  'first_person': 0.17871248025276462,\n",
       "  'second_person': 0.1617298578199052},\n",
       " {'third_person': 0.8149729575861088,\n",
       "  'first_person': 0.08226586962709935,\n",
       "  'second_person': 0.10276117278679192},\n",
       " {'third_person': 0.6882591093117408,\n",
       "  'first_person': 0.20647773279352227,\n",
       "  'second_person': 0.10526315789473684},\n",
       " {'third_person': 0.7852760736196319,\n",
       "  'first_person': 0.10955302366345311,\n",
       "  'second_person': 0.10517090271691498},\n",
       " {'third_person': 0.6862681744749596,\n",
       "  'first_person': 0.20581583198707593,\n",
       "  'second_person': 0.10791599353796445},\n",
       " {'third_person': 0.6589994249568718,\n",
       "  'first_person': 0.24611845888441633,\n",
       "  'second_person': 0.09488211615871191},\n",
       " {'third_person': 0.7489177489177489,\n",
       "  'first_person': 0.12337662337662338,\n",
       "  'second_person': 0.1277056277056277},\n",
       " {'third_person': 0.7732445780545415,\n",
       "  'first_person': 0.11466609405196479,\n",
       "  'second_person': 0.11208932789349367},\n",
       " {'third_person': 0.7824993713854664,\n",
       "  'first_person': 0.10485290419914509,\n",
       "  'second_person': 0.11264772441538848},\n",
       " {'third_person': 0.7240223463687151,\n",
       "  'first_person': 0.17467411545623837,\n",
       "  'second_person': 0.10130353817504656},\n",
       " {'third_person': 0.6521168362323597,\n",
       "  'first_person': 0.2405644896619626,\n",
       "  'second_person': 0.10731867410567772},\n",
       " {'third_person': 0.747758887171561,\n",
       "  'first_person': 0.1731066460587326,\n",
       "  'second_person': 0.07913446676970634},\n",
       " {'third_person': 0.6272315480948575,\n",
       "  'first_person': 0.26192379429789503,\n",
       "  'second_person': 0.11084465760724753},\n",
       " {'third_person': 0.5952848722986247,\n",
       "  'first_person': 0.275049115913556,\n",
       "  'second_person': 0.12966601178781925},\n",
       " {'third_person': 0.6146788990825688,\n",
       "  'first_person': 0.2400611620795107,\n",
       "  'second_person': 0.1452599388379205},\n",
       " {'third_person': 0.6992295839753467,\n",
       "  'first_person': 0.2135593220338983,\n",
       "  'second_person': 0.08721109399075501},\n",
       " {'third_person': 0.7028681920721882,\n",
       "  'first_person': 0.21592007734450533,\n",
       "  'second_person': 0.08121173058330648},\n",
       " {'third_person': 0.6424785976355483,\n",
       "  'first_person': 0.2282918874847126,\n",
       "  'second_person': 0.1292295148797391},\n",
       " {'third_person': 0.678810608090008,\n",
       "  'first_person': 0.2330565229038307,\n",
       "  'second_person': 0.08813286900616127},\n",
       " {'third_person': 0.6712328767123288,\n",
       "  'first_person': 0.23116438356164384,\n",
       "  'second_person': 0.0976027397260274},\n",
       " {'third_person': 0.7117235345581803,\n",
       "  'first_person': 0.18503937007874016,\n",
       "  'second_person': 0.10323709536307961},\n",
       " {'third_person': 0.7051913603637742,\n",
       "  'first_person': 0.17014020462296325,\n",
       "  'second_person': 0.1246684350132626},\n",
       " {'third_person': 0.7536032944406315,\n",
       "  'first_person': 0.14458933882406771,\n",
       "  'second_person': 0.10180736673530084},\n",
       " {'third_person': 0.6449572013397842,\n",
       "  'first_person': 0.26088574618533683,\n",
       "  'second_person': 0.09415705247487904},\n",
       " {'third_person': 0.6871794871794872,\n",
       "  'first_person': 0.18554778554778556,\n",
       "  'second_person': 0.12727272727272726},\n",
       " {'third_person': 0.7308384310903202,\n",
       "  'first_person': 0.163727959697733,\n",
       "  'second_person': 0.10543360921194675},\n",
       " {'third_person': 0.7001800720288115,\n",
       "  'first_person': 0.2118847539015606,\n",
       "  'second_person': 0.08793517406962785},\n",
       " {'third_person': 0.7298064516129033,\n",
       "  'first_person': 0.17625806451612902,\n",
       "  'second_person': 0.09393548387096774},\n",
       " {'third_person': 0.7337830825116762,\n",
       "  'first_person': 0.192008303061754,\n",
       "  'second_person': 0.0742086144265698},\n",
       " {'third_person': 0.7186985172981878,\n",
       "  'first_person': 0.1915156507413509,\n",
       "  'second_person': 0.08978583196046129},\n",
       " {'third_person': 0.7253333333333334,\n",
       "  'first_person': 0.2102857142857143,\n",
       "  'second_person': 0.06438095238095239},\n",
       " {'third_person': 0.6966666666666667,\n",
       "  'first_person': 0.21566666666666667,\n",
       "  'second_person': 0.08766666666666667},\n",
       " {'third_person': 0.6973800412128348,\n",
       "  'first_person': 0.2219605534294966,\n",
       "  'second_person': 0.08065940535766854},\n",
       " {'third_person': 0.7083179297597042,\n",
       "  'first_person': 0.20295748613678374,\n",
       "  'second_person': 0.08872458410351201},\n",
       " {'third_person': 0.7358356940509915,\n",
       "  'first_person': 0.14341359773371104,\n",
       "  'second_person': 0.12075070821529744},\n",
       " {'third_person': 0.7214129643117262,\n",
       "  'first_person': 0.1595047341587764,\n",
       "  'second_person': 0.11908230152949745},\n",
       " {'third_person': 0.6964134425303586,\n",
       "  'first_person': 0.17283253318271674,\n",
       "  'second_person': 0.1307540242869246},\n",
       " {'third_person': 0.6641400940930475,\n",
       "  'first_person': 0.14532148457919497,\n",
       "  'second_person': 0.19053842132775745},\n",
       " {'third_person': 0.7166788055353241,\n",
       "  'first_person': 0.20174799708667152,\n",
       "  'second_person': 0.08157319737800436},\n",
       " {'third_person': 0.6914423463238248,\n",
       "  'first_person': 0.20048212133386903,\n",
       "  'second_person': 0.10807553234230614},\n",
       " {'third_person': 0.7220015885623511,\n",
       "  'first_person': 0.18665607625099284,\n",
       "  'second_person': 0.09134233518665608},\n",
       " {'third_person': 0.8226600985221675,\n",
       "  'first_person': 0.11658456486042693,\n",
       "  'second_person': 0.060755336617405585},\n",
       " {'third_person': 0.7073378839590444,\n",
       "  'first_person': 0.16467576791808874,\n",
       "  'second_person': 0.12798634812286688},\n",
       " {'third_person': 0.6818329541761456,\n",
       "  'first_person': 0.16282092947676308,\n",
       "  'second_person': 0.15534611634709133},\n",
       " {'third_person': 0.6981773246833488,\n",
       "  'first_person': 0.2153228297806611,\n",
       "  'second_person': 0.08649984553599012},\n",
       " {'third_person': 0.7450980392156863,\n",
       "  'first_person': 0.15205327413984462,\n",
       "  'second_person': 0.10284868664446911},\n",
       " {'third_person': 0.7021716649431231,\n",
       "  'first_person': 0.20854877628403998,\n",
       "  'second_person': 0.08927955877283696},\n",
       " {'third_person': 0.6632281553398058,\n",
       "  'first_person': 0.20266990291262135,\n",
       "  'second_person': 0.1341019417475728},\n",
       " {'third_person': 0.6925728611720464,\n",
       "  'first_person': 0.19429645879034785,\n",
       "  'second_person': 0.11313068003760576},\n",
       " {'third_person': 0.7726049515608181,\n",
       "  'first_person': 0.14935414424111948,\n",
       "  'second_person': 0.07804090419806244},\n",
       " {'third_person': 0.719310839913855,\n",
       "  'first_person': 0.2031586503948313,\n",
       "  'second_person': 0.07753050969131371},\n",
       " {'third_person': 0.6921029281277729,\n",
       "  'first_person': 0.15912451937296657,\n",
       "  'second_person': 0.14877255249926058},\n",
       " {'third_person': 0.6654485049833887,\n",
       "  'first_person': 0.1840531561461794,\n",
       "  'second_person': 0.1504983388704319},\n",
       " {'third_person': 0.7417613636363637,\n",
       "  'first_person': 0.1875,\n",
       "  'second_person': 0.07073863636363636},\n",
       " {'third_person': 0.6751507032819826,\n",
       "  'first_person': 0.1855324849296718,\n",
       "  'second_person': 0.13931681178834562},\n",
       " {'third_person': 0.658883826879271,\n",
       "  'first_person': 0.25199316628701596,\n",
       "  'second_person': 0.08912300683371298},\n",
       " {'third_person': 0.6533149171270718,\n",
       "  'first_person': 0.22064917127071823,\n",
       "  'second_person': 0.12603591160220995},\n",
       " {'third_person': 0.6520998864926221,\n",
       "  'first_person': 0.21452894438138478,\n",
       "  'second_person': 0.1333711691259932},\n",
       " {'third_person': 0.5756113256113257,\n",
       "  'first_person': 0.27574002574002576,\n",
       "  'second_person': 0.14864864864864866},\n",
       " {'third_person': 0.7265181301878549,\n",
       "  'first_person': 0.1764962865880297,\n",
       "  'second_person': 0.09698558322411534},\n",
       " {'third_person': 0.6533613445378151,\n",
       "  'first_person': 0.2508403361344538,\n",
       "  'second_person': 0.0957983193277311},\n",
       " {'third_person': 0.715360930550804,\n",
       "  'first_person': 0.1857680465275402,\n",
       "  'second_person': 0.09887102292165584},\n",
       " {'third_person': 0.7546875,\n",
       "  'first_person': 0.12625,\n",
       "  'second_person': 0.1190625},\n",
       " {'third_person': 0.6864828960478246,\n",
       "  'first_person': 0.23679840584523415,\n",
       "  'second_person': 0.07671869810694122},\n",
       " {'third_person': 0.8157984337759618,\n",
       "  'first_person': 0.08580183861082738,\n",
       "  'second_person': 0.09839972761321075},\n",
       " {'third_person': 0.6937046004842615,\n",
       "  'first_person': 0.17645278450363197,\n",
       "  'second_person': 0.12984261501210653},\n",
       " {'third_person': 0.7482581036049681,\n",
       "  'first_person': 0.17631020902756742,\n",
       "  'second_person': 0.0754316873674644},\n",
       " {'third_person': 0.7435567010309279,\n",
       "  'first_person': 0.163659793814433,\n",
       "  'second_person': 0.09278350515463918},\n",
       " {'third_person': 0.7365172189733593,\n",
       "  'first_person': 0.17641325536062377,\n",
       "  'second_person': 0.08706952566601689},\n",
       " {'third_person': 0.6689248895434462,\n",
       "  'first_person': 0.2665684830633284,\n",
       "  'second_person': 0.06450662739322534},\n",
       " {'third_person': 0.7358689910195457,\n",
       "  'first_person': 0.14896988906497624,\n",
       "  'second_person': 0.11516111991547807},\n",
       " {'third_person': 0.8118398427904692,\n",
       "  'first_person': 0.11717022844509949,\n",
       "  'second_person': 0.07098992876443135},\n",
       " {'third_person': 0.7318217357310399,\n",
       "  'first_person': 0.11376075058639562,\n",
       "  'second_person': 0.1544175136825645},\n",
       " {'third_person': 0.6684672518568535,\n",
       "  'first_person': 0.1976142246230025,\n",
       "  'second_person': 0.13391852352014405},\n",
       " {'third_person': 0.6939194741166803,\n",
       "  'first_person': 0.14585045193097781,\n",
       "  'second_person': 0.16023007395234182},\n",
       " {'third_person': 0.7492394611038679,\n",
       "  'first_person': 0.1477618426770969,\n",
       "  'second_person': 0.10299869621903521},\n",
       " {'third_person': 0.7371888726207906,\n",
       "  'first_person': 0.1650805270863836,\n",
       "  'second_person': 0.09773060029282576},\n",
       " {'third_person': 0.8276979145576028,\n",
       "  'first_person': 0.0957683741648107,\n",
       "  'second_person': 0.07653371127758656},\n",
       " {'third_person': 0.6698931909212283,\n",
       "  'first_person': 0.222630173564753,\n",
       "  'second_person': 0.10747663551401869},\n",
       " {'third_person': 0.7130197682344922,\n",
       "  'first_person': 0.17586912065439672,\n",
       "  'second_person': 0.1111111111111111},\n",
       " {'third_person': 0.7094474153297683,\n",
       "  'first_person': 0.19786096256684493,\n",
       "  'second_person': 0.09269162210338681},\n",
       " {'third_person': 0.7541171964764458,\n",
       "  'first_person': 0.11336652623515894,\n",
       "  'second_person': 0.13251627728839524},\n",
       " {'third_person': 0.7223408799658265,\n",
       "  'first_person': 0.15805211448099102,\n",
       "  'second_person': 0.1196070055531824},\n",
       " {'third_person': 0.7347614840989399,\n",
       "  'first_person': 0.1605565371024735,\n",
       "  'second_person': 0.10468197879858657},\n",
       " {'third_person': 0.7912181303116147,\n",
       "  'first_person': 0.1008498583569405,\n",
       "  'second_person': 0.10793201133144475},\n",
       " {'third_person': 0.7058404558404558,\n",
       "  'first_person': 0.16737891737891739,\n",
       "  'second_person': 0.1267806267806268},\n",
       " {'third_person': 0.654425045153522,\n",
       "  'first_person': 0.19265502709211318,\n",
       "  'second_person': 0.15291992775436483},\n",
       " {'third_person': 0.7871880998080614,\n",
       "  'first_person': 0.10292706333973128,\n",
       "  'second_person': 0.10988483685220729},\n",
       " {'third_person': 0.8040827899064361,\n",
       "  'first_person': 0.1372271051885455,\n",
       "  'second_person': 0.05869010490501843},\n",
       " {'third_person': 0.7249495628782784,\n",
       "  'first_person': 0.1590450571620713,\n",
       "  'second_person': 0.11600537995965031},\n",
       " {'third_person': 0.8235412474849094,\n",
       "  'first_person': 0.10824949698189135,\n",
       "  'second_person': 0.06820925553319919},\n",
       " {'third_person': 0.6549295774647887,\n",
       "  'first_person': 0.21544894366197184,\n",
       "  'second_person': 0.12962147887323944},\n",
       " {'third_person': 0.6300591715976331,\n",
       "  'first_person': 0.25775147928994085,\n",
       "  'second_person': 0.11218934911242603},\n",
       " {'third_person': 0.655536872447754,\n",
       "  'first_person': 0.23156377612298823,\n",
       "  'second_person': 0.11289935142925775},\n",
       " {'third_person': 0.6344564526382708,\n",
       "  'first_person': 0.22409408773045136,\n",
       "  'second_person': 0.1414494596312778},\n",
       " {'third_person': 0.6983167889512301,\n",
       "  'first_person': 0.18213206732844195,\n",
       "  'second_person': 0.119551143720328},\n",
       " {'third_person': 0.7333333333333333,\n",
       "  'first_person': 0.15768115942028985,\n",
       "  'second_person': 0.10898550724637682},\n",
       " {'third_person': 0.6636559139784947,\n",
       "  'first_person': 0.22236559139784945,\n",
       "  'second_person': 0.11397849462365592},\n",
       " {'third_person': 0.7380281690140845,\n",
       "  'first_person': 0.16286811779769525,\n",
       "  'second_person': 0.09910371318822023},\n",
       " {'third_person': 0.7278334618350039,\n",
       "  'first_person': 0.19043947571318426,\n",
       "  'second_person': 0.08172706245181187},\n",
       " {'third_person': 0.733941467122767,\n",
       "  'first_person': 0.15773470163435957,\n",
       "  'second_person': 0.10832383124287344},\n",
       " {'third_person': 0.7205153617443013,\n",
       "  'first_person': 0.1863230921704658,\n",
       "  'second_person': 0.0931615460852329},\n",
       " {'third_person': 0.7494336202990485,\n",
       "  'first_person': 0.1703670140462166,\n",
       "  'second_person': 0.08019936565473493},\n",
       " {'third_person': 0.7134996331621424,\n",
       "  'first_person': 0.22010271460014674,\n",
       "  'second_person': 0.06639765223771094},\n",
       " {'third_person': 0.7251322751322752,\n",
       "  'first_person': 0.16957671957671958,\n",
       "  'second_person': 0.1052910052910053},\n",
       " {'third_person': 0.6956253850893407,\n",
       "  'first_person': 0.20548367221195318,\n",
       "  'second_person': 0.0988909426987061},\n",
       " {'third_person': 0.6265930331350892,\n",
       "  'first_person': 0.20050977060322855,\n",
       "  'second_person': 0.17289719626168223},\n",
       " {'third_person': 0.6488031439799928,\n",
       "  'first_person': 0.21686316541622008,\n",
       "  'second_person': 0.13433369060378705},\n",
       " {'third_person': 0.690385003023584,\n",
       "  'first_person': 0.20822414835718606,\n",
       "  'second_person': 0.10139084861922999},\n",
       " {'third_person': 0.70280296784831,\n",
       "  'first_person': 0.20239076669414674,\n",
       "  'second_person': 0.09480626545754328},\n",
       " {'third_person': 0.7998575498575499,\n",
       "  'first_person': 0.13141025641025642,\n",
       "  'second_person': 0.06873219373219373},\n",
       " {'third_person': 0.7348504218869855,\n",
       "  'first_person': 0.14625415494758373,\n",
       "  'second_person': 0.11889542316543084},\n",
       " {'third_person': 0.7144156434743065,\n",
       "  'first_person': 0.15143246930422918,\n",
       "  'second_person': 0.1341518872214643},\n",
       " {'third_person': 0.7413350449293966,\n",
       "  'first_person': 0.19383825417201542,\n",
       "  'second_person': 0.06482670089858793},\n",
       " {'third_person': 0.663003663003663,\n",
       "  'first_person': 0.22262922262922263,\n",
       "  'second_person': 0.11436711436711437},\n",
       " {'third_person': 0.7884451996601529,\n",
       "  'first_person': 0.11413197394505806,\n",
       "  'second_person': 0.09742282639478901},\n",
       " {'third_person': 0.683455753760056,\n",
       "  'first_person': 0.1769849597761455,\n",
       "  'second_person': 0.13955928646379853},\n",
       " {'third_person': 0.6929383760909812,\n",
       "  'first_person': 0.17799523935466807,\n",
       "  'second_person': 0.1290663845543507},\n",
       " {'third_person': 0.7784631200205603,\n",
       "  'first_person': 0.13723978411719354,\n",
       "  'second_person': 0.08429709586224621},\n",
       " {'third_person': 0.7565582371458552,\n",
       "  'first_person': 0.1626442812172088,\n",
       "  'second_person': 0.080797481636936},\n",
       " {'third_person': 0.7394209354120267,\n",
       "  'first_person': 0.1364142538975501,\n",
       "  'second_person': 0.12416481069042316},\n",
       " {'third_person': 0.819416699960048,\n",
       "  'first_person': 0.11426288453855374,\n",
       "  'second_person': 0.06632041550139832},\n",
       " {'third_person': 0.6522697223446452,\n",
       "  'first_person': 0.22124283825473778,\n",
       "  'second_person': 0.12648743940061702},\n",
       " {'third_person': 0.6679368535655961,\n",
       "  'first_person': 0.23081110506260208,\n",
       "  'second_person': 0.10125204137180185},\n",
       " {'third_person': 0.7576777450567943,\n",
       "  'first_person': 0.13251998317206562,\n",
       "  'second_person': 0.10980227177114009},\n",
       " {'third_person': 0.7583309185743263,\n",
       "  'first_person': 0.13995943204868155,\n",
       "  'second_person': 0.10170964937699217},\n",
       " {'third_person': 0.7804691483936766,\n",
       "  'first_person': 0.14686384497705252,\n",
       "  'second_person': 0.07266700662927078},\n",
       " {'third_person': 0.7413604947253547,\n",
       "  'first_person': 0.10694798108403056,\n",
       "  'second_person': 0.15169152419061477},\n",
       " {'third_person': 0.6830179282868526,\n",
       "  'first_person': 0.19820717131474103,\n",
       "  'second_person': 0.11877490039840638},\n",
       " {'third_person': 0.6824644549763034,\n",
       "  'first_person': 0.20211876219682184,\n",
       "  'second_person': 0.11541678282687483},\n",
       " {'third_person': 0.6962025316455697,\n",
       "  'first_person': 0.17882623705408515,\n",
       "  'second_person': 0.12497123130034522},\n",
       " {'third_person': 0.6731072555205048,\n",
       "  'first_person': 0.19676656151419558,\n",
       "  'second_person': 0.13012618296529968},\n",
       " {'third_person': 0.697251258226868,\n",
       "  'first_person': 0.18041037553232675,\n",
       "  'second_person': 0.12233836624080527},\n",
       " {'third_person': 0.6768634209392503,\n",
       "  'first_person': 0.15941404566996983,\n",
       "  'second_person': 0.16372253339077983},\n",
       " {'third_person': 0.6244473342002601,\n",
       "  'first_person': 0.2764629388816645,\n",
       "  'second_person': 0.09908972691807542},\n",
       " {'third_person': 0.6906628652886672,\n",
       "  'first_person': 0.1895937277263008,\n",
       "  'second_person': 0.11974340698503208},\n",
       " {'third_person': 0.7473778843272401,\n",
       "  'first_person': 0.17590650284686846,\n",
       "  'second_person': 0.07671561282589152},\n",
       " {'third_person': 0.7216153591525984,\n",
       "  'first_person': 0.19761668321747766,\n",
       "  'second_person': 0.08076795762992386},\n",
       " {'third_person': 0.7027116402116402,\n",
       "  'first_person': 0.22354497354497355,\n",
       "  'second_person': 0.07374338624338625},\n",
       " {'third_person': 0.6901998710509348,\n",
       "  'first_person': 0.2137330754352031,\n",
       "  'second_person': 0.09606705351386202},\n",
       " {'third_person': 0.6869676320272572,\n",
       "  'first_person': 0.21465076660988075,\n",
       "  'second_person': 0.098381601362862},\n",
       " {'third_person': 0.6360169491525424,\n",
       "  'first_person': 0.19364406779661017,\n",
       "  'second_person': 0.17033898305084746},\n",
       " {'third_person': 0.6999314128943759,\n",
       "  'first_person': 0.1646090534979424,\n",
       "  'second_person': 0.13545953360768176},\n",
       " {'third_person': 0.671656050955414,\n",
       "  'first_person': 0.2318471337579618,\n",
       "  'second_person': 0.09649681528662421},\n",
       " {'third_person': 0.7197136563876652,\n",
       "  'first_person': 0.1428964757709251,\n",
       "  'second_person': 0.1373898678414097},\n",
       " {'third_person': 0.7045248868778281,\n",
       "  'first_person': 0.19230769230769232,\n",
       "  'second_person': 0.10316742081447963},\n",
       " {'third_person': 0.6478753541076487,\n",
       "  'first_person': 0.1951841359773371,\n",
       "  'second_person': 0.15694050991501415},\n",
       " {'third_person': 0.6457754859182864,\n",
       "  'first_person': 0.23324077746925823,\n",
       "  'second_person': 0.12098373661245537},\n",
       " {'third_person': 0.7199514366653177,\n",
       "  'first_person': 0.19749089437474707,\n",
       "  'second_person': 0.08255766895993524},\n",
       " {'third_person': 0.6607818411097099,\n",
       "  'first_person': 0.2362337116435477,\n",
       "  'second_person': 0.10298444724674233},\n",
       " {'third_person': 0.6209453197405005,\n",
       "  'first_person': 0.247451343836886,\n",
       "  'second_person': 0.13160333642261354},\n",
       " {'third_person': 0.7160751565762005,\n",
       "  'first_person': 0.18848792126453923,\n",
       "  'second_person': 0.09543692215926036},\n",
       " {'third_person': 0.7240477968633309,\n",
       "  'first_person': 0.1755041075429425,\n",
       "  'second_person': 0.10044809559372667},\n",
       " {'third_person': 0.7189947780678851,\n",
       "  'first_person': 0.16318537859007834,\n",
       "  'second_person': 0.11781984334203656},\n",
       " {'third_person': 0.7255221932114883,\n",
       "  'first_person': 0.18244125326370758,\n",
       "  'second_person': 0.09203655352480418},\n",
       " {'third_person': 0.7118897873614854,\n",
       "  'first_person': 0.1569332135369871,\n",
       "  'second_person': 0.13117699910152741},\n",
       " {'third_person': 0.7422834881630207,\n",
       "  'first_person': 0.11417440815103386,\n",
       "  'second_person': 0.14354210368594547},\n",
       " {'third_person': 0.6676509186351706,\n",
       "  'first_person': 0.20439632545931757,\n",
       "  'second_person': 0.1279527559055118},\n",
       " {'third_person': 0.6828106391425168,\n",
       "  'first_person': 0.2111949186184994,\n",
       "  'second_person': 0.10599444223898373},\n",
       " {'third_person': 0.7736598279285242,\n",
       "  'first_person': 0.12375909993381866,\n",
       "  'second_person': 0.10258107213765719},\n",
       " {'third_person': 0.6994058021670745,\n",
       "  'first_person': 0.19154141908423628,\n",
       "  'second_person': 0.10905277874868927},\n",
       " {'third_person': 0.6751519756838906,\n",
       "  'first_person': 0.21238601823708206,\n",
       "  'second_person': 0.11246200607902736},\n",
       " {'third_person': 0.7011135857461025,\n",
       "  'first_person': 0.16614699331848554,\n",
       "  'second_person': 0.13273942093541202},\n",
       " {'third_person': 0.7070583435332517,\n",
       "  'first_person': 0.1766625866993064,\n",
       "  'second_person': 0.11627906976744186},\n",
       " {'third_person': 0.6697347049269085,\n",
       "  'first_person': 0.22956145100162426,\n",
       "  'second_person': 0.10070384407146725},\n",
       " {'third_person': 0.6573058358929355,\n",
       "  'first_person': 0.24747696358051777,\n",
       "  'second_person': 0.09521720052654672},\n",
       " {'third_person': 0.7280846840886537,\n",
       "  'first_person': 0.19153159113463447,\n",
       "  'second_person': 0.08038372477671188},\n",
       " {'third_person': 0.7753571428571429,\n",
       "  'first_person': 0.12714285714285714,\n",
       "  'second_person': 0.0975},\n",
       " {'third_person': 0.7624378109452736,\n",
       "  'first_person': 0.16728855721393035,\n",
       "  'second_person': 0.07027363184079602},\n",
       " {'third_person': 0.7509996364958197,\n",
       "  'first_person': 0.1272264631043257,\n",
       "  'second_person': 0.1217739003998546},\n",
       " {'third_person': 0.766837899543379,\n",
       "  'first_person': 0.1004566210045662,\n",
       "  'second_person': 0.1327054794520548},\n",
       " {'third_person': 0.7064676616915423,\n",
       "  'first_person': 0.20335820895522388,\n",
       "  'second_person': 0.09017412935323384},\n",
       " {'third_person': 0.722202486678508,\n",
       "  'first_person': 0.20071047957371227,\n",
       "  'second_person': 0.07708703374777975},\n",
       " {'third_person': 0.6836587129428778,\n",
       "  'first_person': 0.22812725958062183,\n",
       "  'second_person': 0.08821402747650037},\n",
       " {'third_person': 0.7247667514843087,\n",
       "  'first_person': 0.14122137404580154,\n",
       "  'second_person': 0.13401187446988974},\n",
       " {'third_person': 0.7465753424657534,\n",
       "  'first_person': 0.13527397260273974,\n",
       "  'second_person': 0.11815068493150685},\n",
       " {'third_person': 0.6703612479474549,\n",
       "  'first_person': 0.2233169129720854,\n",
       "  'second_person': 0.10632183908045977},\n",
       " {'third_person': 0.6320861678004536,\n",
       "  'first_person': 0.23015873015873015,\n",
       "  'second_person': 0.1377551020408163},\n",
       " {'third_person': 0.7262479871175523,\n",
       "  'first_person': 0.0998389694041868,\n",
       "  'second_person': 0.17391304347826086},\n",
       " {'third_person': 0.6946269810591419,\n",
       "  'first_person': 0.19945883262466177,\n",
       "  'second_person': 0.10591418631619637},\n",
       " {'third_person': 0.758411639890876,\n",
       "  'first_person': 0.15641103364655956,\n",
       "  'second_person': 0.08517732646256441},\n",
       " {'third_person': 0.6297828335056876,\n",
       "  'first_person': 0.2481902792140641,\n",
       "  'second_person': 0.12202688728024819},\n",
       " {'third_person': 0.7104677060133631,\n",
       "  'first_person': 0.2080814508431435,\n",
       "  'second_person': 0.08145084314349348},\n",
       " {'third_person': 0.7248293515358362,\n",
       "  'first_person': 0.19155290102389078,\n",
       "  'second_person': 0.08361774744027303},\n",
       " {'third_person': 0.7007990529742527,\n",
       "  'first_person': 0.19058893163657886,\n",
       "  'second_person': 0.1086120153891684},\n",
       " {'third_person': 0.6591316828130607,\n",
       "  'first_person': 0.23071402942231792,\n",
       "  'second_person': 0.11015428776462145},\n",
       " {'third_person': 0.6982662192393736,\n",
       "  'first_person': 0.1638702460850112,\n",
       "  'second_person': 0.1378635346756152},\n",
       " {'third_person': 0.6743169398907104,\n",
       "  'first_person': 0.16967213114754098,\n",
       "  'second_person': 0.15601092896174865},\n",
       " {'third_person': 0.7333078977489508,\n",
       "  'first_person': 0.17741320106829456,\n",
       "  'second_person': 0.08927890118275468},\n",
       " {'third_person': 0.7072649572649573,\n",
       "  'first_person': 0.19743589743589743,\n",
       "  'second_person': 0.0952991452991453},\n",
       " {'third_person': 0.7128851540616247,\n",
       "  'first_person': 0.14635854341736695,\n",
       "  'second_person': 0.1407563025210084},\n",
       " {'third_person': 0.7304066792351198,\n",
       "  'first_person': 0.13493132238082414,\n",
       "  'second_person': 0.13466199838405601},\n",
       " {'third_person': 0.7036697247706422,\n",
       "  'first_person': 0.1701834862385321,\n",
       "  'second_person': 0.12614678899082568},\n",
       " {'third_person': 0.689467547609794,\n",
       "  'first_person': 0.21570151574038088,\n",
       "  'second_person': 0.0948309366498251},\n",
       " {'third_person': 0.7431788653096578,\n",
       "  'first_person': 0.1537462104807276,\n",
       "  'second_person': 0.10307492420961455},\n",
       " {'third_person': 0.7340540540540541,\n",
       "  'first_person': 0.16378378378378378,\n",
       "  'second_person': 0.10216216216216216},\n",
       " {'third_person': 0.6413316582914573,\n",
       "  'first_person': 0.16771356783919597,\n",
       "  'second_person': 0.19095477386934673},\n",
       " {'third_person': 0.6932367149758454,\n",
       "  'first_person': 0.15056360708534622,\n",
       "  'second_person': 0.15619967793880837},\n",
       " {'third_person': 0.6626614598978672,\n",
       "  'first_person': 0.16551516972063682,\n",
       "  'second_person': 0.17182337038149595},\n",
       " {'third_person': 0.6503009185936015,\n",
       "  'first_person': 0.21412733607855558,\n",
       "  'second_person': 0.13557174532784289},\n",
       " {'third_person': 0.6633663366336634,\n",
       "  'first_person': 0.20033003300330032,\n",
       "  'second_person': 0.1363036303630363},\n",
       " {'third_person': 0.7026476578411406,\n",
       "  'first_person': 0.18649985452429443,\n",
       "  'second_person': 0.11085248763456503},\n",
       " {'third_person': 0.7081673306772909,\n",
       "  'first_person': 0.2154714475431607,\n",
       "  'second_person': 0.07636122177954847},\n",
       " {'third_person': 0.6675479180436219,\n",
       "  'first_person': 0.20356906807666886,\n",
       "  'second_person': 0.12888301387970919},\n",
       " {'third_person': 0.6511430990685859,\n",
       "  'first_person': 0.18543607112616428,\n",
       "  'second_person': 0.1634208298052498},\n",
       " {'third_person': 0.7155041120925982,\n",
       "  'first_person': 0.1973804447151995,\n",
       "  'second_person': 0.08711544319220225},\n",
       " {'third_person': 0.7390548992355802,\n",
       "  'first_person': 0.1441973592772759,\n",
       "  'second_person': 0.11674774148714386},\n",
       " {'third_person': 0.7366854118425405,\n",
       "  'first_person': 0.1885544161429044,\n",
       "  'second_person': 0.07476017201455508},\n",
       " {'third_person': 0.8324626865671642,\n",
       "  'first_person': 0.07164179104477612,\n",
       "  'second_person': 0.0958955223880597},\n",
       " {'third_person': 0.7161290322580646,\n",
       "  'first_person': 0.17722960151802655,\n",
       "  'second_person': 0.10664136622390892},\n",
       " {'third_person': 0.7906357061286639,\n",
       "  'first_person': 0.12637990102778834,\n",
       "  'second_person': 0.08298439284354778},\n",
       " {'third_person': 0.7056424201223658,\n",
       "  'first_person': 0.1617946974847043,\n",
       "  'second_person': 0.13256288239293},\n",
       " {'third_person': 0.7760632292058712,\n",
       "  'first_person': 0.0937147158449379,\n",
       "  'second_person': 0.1302220549491908},\n",
       " {'third_person': 0.8306409588327254,\n",
       "  'first_person': 0.07946847316310579,\n",
       "  'second_person': 0.08989056800416884},\n",
       " {'third_person': 0.7863386209129168,\n",
       "  'first_person': 0.08708319844609906,\n",
       "  'second_person': 0.12657818064098414},\n",
       " {'third_person': 0.7899231426131511,\n",
       "  'first_person': 0.15713065755764305,\n",
       "  'second_person': 0.05294619982920581},\n",
       " {'third_person': 0.6919889502762431,\n",
       "  'first_person': 0.16160220994475138,\n",
       "  'second_person': 0.1464088397790055}]"
      ]
     },
     "execution_count": 202,
     "metadata": {},
     "output_type": "execute_result"
    }
   ],
   "source": [
    "pov_props_relative"
   ]
  },
  {
   "cell_type": "markdown",
   "metadata": {},
   "source": [
    "## cosine similarity"
   ]
  },
  {
   "cell_type": "code",
   "execution_count": 45,
   "metadata": {},
   "outputs": [],
   "source": [
    "from sklearn.metrics.pairwise import cosine_similarity"
   ]
  },
  {
   "cell_type": "code",
   "execution_count": 153,
   "metadata": {},
   "outputs": [
    {
     "data": {
      "application/vnd.jupyter.widget-view+json": {
       "model_id": "9d3fd73afeaf4144b16f4fd252c87253",
       "version_major": 2,
       "version_minor": 0
      },
      "text/plain": [
       "  0%|          | 0/155.0 [00:00<?, ?it/s]"
      ]
     },
     "metadata": {},
     "output_type": "display_data"
    }
   ],
   "source": [
    "def token_filter(token):\n",
    "    return not (token.is_punct | token.is_space | token.is_stop)\n",
    "\n",
    "filtered_tokens = []\n",
    "for scripts_subset in tqdm(chunker(scripts, 2), total = np.ceil(len(scripts)/2)):\n",
    "    for doc in nlp.pipe(scripts_subset):\n",
    "        tokens = [token.lemma_.lower() for token in doc if token_filter(token)]\n",
    "        filtered_tokens.append(tokens)"
   ]
  },
  {
   "cell_type": "code",
   "execution_count": 157,
   "metadata": {},
   "outputs": [],
   "source": [
    "tokens_no_sw = [[token for token in tokenized_script if token not in sw] for tokenized_script in filtered_tokens]"
   ]
  },
  {
   "cell_type": "code",
   "execution_count": 158,
   "metadata": {},
   "outputs": [],
   "source": [
    "scripts_counters = {description: Counter(tokenized_script) for description, tokenized_script in zip(descriptions, tokens_no_sw)}\n",
    "scripts_df = pd.DataFrame.from_dict(scripts_counters, orient = 'index').fillna(0)"
   ]
  },
  {
   "cell_type": "code",
   "execution_count": 159,
   "metadata": {},
   "outputs": [],
   "source": [
    "for word in sw:\n",
    "    if word in scripts_df.columns:\n",
    "        print(word)"
   ]
  },
  {
   "cell_type": "code",
   "execution_count": 160,
   "metadata": {},
   "outputs": [
    {
     "data": {
      "text/html": [
       "<div>\n",
       "<style scoped>\n",
       "    .dataframe tbody tr th:only-of-type {\n",
       "        vertical-align: middle;\n",
       "    }\n",
       "\n",
       "    .dataframe tbody tr th {\n",
       "        vertical-align: top;\n",
       "    }\n",
       "\n",
       "    .dataframe thead th {\n",
       "        text-align: right;\n",
       "    }\n",
       "</style>\n",
       "<table border=\"1\" class=\"dataframe\">\n",
       "  <thead>\n",
       "    <tr style=\"text-align: right;\">\n",
       "      <th></th>\n",
       "      <th>thank</th>\n",
       "      <th>oh</th>\n",
       "      <th>gosh</th>\n",
       "      <th>aw</th>\n",
       "      <th>nice</th>\n",
       "      <th>make</th>\n",
       "      <th>forget</th>\n",
       "      <th>going</th>\n",
       "      <th>dead</th>\n",
       "      <th>week</th>\n",
       "      <th>...</th>\n",
       "      <th>treacherous</th>\n",
       "      <th>labron</th>\n",
       "      <th>dylann</th>\n",
       "      <th>registered</th>\n",
       "      <th>lives</th>\n",
       "      <th>delegation</th>\n",
       "      <th>welathy</th>\n",
       "      <th>great-</th>\n",
       "      <th>stronghold</th>\n",
       "      <th>jewels</th>\n",
       "    </tr>\n",
       "  </thead>\n",
       "  <tbody>\n",
       "    <tr>\n",
       "      <th>Jim Gaffigan: Comedy Monster (2021) | Transcript</th>\n",
       "      <td>15.0</td>\n",
       "      <td>31.0</td>\n",
       "      <td>4.0</td>\n",
       "      <td>2.0</td>\n",
       "      <td>6.0</td>\n",
       "      <td>4.0</td>\n",
       "      <td>3.0</td>\n",
       "      <td>44.0</td>\n",
       "      <td>5.0</td>\n",
       "      <td>5.0</td>\n",
       "      <td>...</td>\n",
       "      <td>0.0</td>\n",
       "      <td>0.0</td>\n",
       "      <td>0.0</td>\n",
       "      <td>0.0</td>\n",
       "      <td>0.0</td>\n",
       "      <td>0.0</td>\n",
       "      <td>0.0</td>\n",
       "      <td>0.0</td>\n",
       "      <td>0.0</td>\n",
       "      <td>0.0</td>\n",
       "    </tr>\n",
       "    <tr>\n",
       "      <th>Louis C. K.: Sorry (2021) | Transcript</th>\n",
       "      <td>3.0</td>\n",
       "      <td>16.0</td>\n",
       "      <td>0.0</td>\n",
       "      <td>0.0</td>\n",
       "      <td>3.0</td>\n",
       "      <td>10.0</td>\n",
       "      <td>2.0</td>\n",
       "      <td>2.0</td>\n",
       "      <td>8.0</td>\n",
       "      <td>3.0</td>\n",
       "      <td>...</td>\n",
       "      <td>0.0</td>\n",
       "      <td>0.0</td>\n",
       "      <td>0.0</td>\n",
       "      <td>0.0</td>\n",
       "      <td>0.0</td>\n",
       "      <td>0.0</td>\n",
       "      <td>0.0</td>\n",
       "      <td>0.0</td>\n",
       "      <td>0.0</td>\n",
       "      <td>0.0</td>\n",
       "    </tr>\n",
       "    <tr>\n",
       "      <th>Drew Michael: Red Blue Green (2021) | Transcript</th>\n",
       "      <td>2.0</td>\n",
       "      <td>33.0</td>\n",
       "      <td>0.0</td>\n",
       "      <td>0.0</td>\n",
       "      <td>5.0</td>\n",
       "      <td>9.0</td>\n",
       "      <td>0.0</td>\n",
       "      <td>21.0</td>\n",
       "      <td>1.0</td>\n",
       "      <td>5.0</td>\n",
       "      <td>...</td>\n",
       "      <td>0.0</td>\n",
       "      <td>0.0</td>\n",
       "      <td>0.0</td>\n",
       "      <td>0.0</td>\n",
       "      <td>0.0</td>\n",
       "      <td>0.0</td>\n",
       "      <td>0.0</td>\n",
       "      <td>0.0</td>\n",
       "      <td>0.0</td>\n",
       "      <td>0.0</td>\n",
       "    </tr>\n",
       "    <tr>\n",
       "      <th>Mo Amer: Mohammed in Texas (2021) | Transcript</th>\n",
       "      <td>7.0</td>\n",
       "      <td>34.0</td>\n",
       "      <td>0.0</td>\n",
       "      <td>0.0</td>\n",
       "      <td>0.0</td>\n",
       "      <td>5.0</td>\n",
       "      <td>1.0</td>\n",
       "      <td>41.0</td>\n",
       "      <td>5.0</td>\n",
       "      <td>3.0</td>\n",
       "      <td>...</td>\n",
       "      <td>0.0</td>\n",
       "      <td>0.0</td>\n",
       "      <td>0.0</td>\n",
       "      <td>0.0</td>\n",
       "      <td>0.0</td>\n",
       "      <td>0.0</td>\n",
       "      <td>0.0</td>\n",
       "      <td>0.0</td>\n",
       "      <td>0.0</td>\n",
       "      <td>0.0</td>\n",
       "    </tr>\n",
       "    <tr>\n",
       "      <th>Dave Chappelle: The Closer (2021) | Transcript</th>\n",
       "      <td>8.0</td>\n",
       "      <td>29.0</td>\n",
       "      <td>0.0</td>\n",
       "      <td>0.0</td>\n",
       "      <td>12.0</td>\n",
       "      <td>4.0</td>\n",
       "      <td>2.0</td>\n",
       "      <td>17.0</td>\n",
       "      <td>1.0</td>\n",
       "      <td>3.0</td>\n",
       "      <td>...</td>\n",
       "      <td>0.0</td>\n",
       "      <td>0.0</td>\n",
       "      <td>0.0</td>\n",
       "      <td>0.0</td>\n",
       "      <td>0.0</td>\n",
       "      <td>0.0</td>\n",
       "      <td>0.0</td>\n",
       "      <td>0.0</td>\n",
       "      <td>0.0</td>\n",
       "      <td>0.0</td>\n",
       "    </tr>\n",
       "  </tbody>\n",
       "</table>\n",
       "<p>5 rows × 33605 columns</p>\n",
       "</div>"
      ],
      "text/plain": [
       "                                                  thank    oh  gosh   aw  \\\n",
       "Jim Gaffigan: Comedy Monster (2021) | Transcript   15.0  31.0   4.0  2.0   \n",
       "Louis C. K.: Sorry (2021) | Transcript              3.0  16.0   0.0  0.0   \n",
       "Drew Michael: Red Blue Green (2021) | Transcript    2.0  33.0   0.0  0.0   \n",
       "Mo Amer: Mohammed in Texas (2021) | Transcript      7.0  34.0   0.0  0.0   \n",
       "Dave Chappelle: The Closer (2021) | Transcript      8.0  29.0   0.0  0.0   \n",
       "\n",
       "                                                  nice  make  forget  going  \\\n",
       "Jim Gaffigan: Comedy Monster (2021) | Transcript   6.0   4.0     3.0   44.0   \n",
       "Louis C. K.: Sorry (2021) | Transcript             3.0  10.0     2.0    2.0   \n",
       "Drew Michael: Red Blue Green (2021) | Transcript   5.0   9.0     0.0   21.0   \n",
       "Mo Amer: Mohammed in Texas (2021) | Transcript     0.0   5.0     1.0   41.0   \n",
       "Dave Chappelle: The Closer (2021) | Transcript    12.0   4.0     2.0   17.0   \n",
       "\n",
       "                                                  dead  week  ...  \\\n",
       "Jim Gaffigan: Comedy Monster (2021) | Transcript   5.0   5.0  ...   \n",
       "Louis C. K.: Sorry (2021) | Transcript             8.0   3.0  ...   \n",
       "Drew Michael: Red Blue Green (2021) | Transcript   1.0   5.0  ...   \n",
       "Mo Amer: Mohammed in Texas (2021) | Transcript     5.0   3.0  ...   \n",
       "Dave Chappelle: The Closer (2021) | Transcript     1.0   3.0  ...   \n",
       "\n",
       "                                                  treacherous  labron  dylann  \\\n",
       "Jim Gaffigan: Comedy Monster (2021) | Transcript          0.0     0.0     0.0   \n",
       "Louis C. K.: Sorry (2021) | Transcript                    0.0     0.0     0.0   \n",
       "Drew Michael: Red Blue Green (2021) | Transcript          0.0     0.0     0.0   \n",
       "Mo Amer: Mohammed in Texas (2021) | Transcript            0.0     0.0     0.0   \n",
       "Dave Chappelle: The Closer (2021) | Transcript            0.0     0.0     0.0   \n",
       "\n",
       "                                                  registered  lives  \\\n",
       "Jim Gaffigan: Comedy Monster (2021) | Transcript         0.0    0.0   \n",
       "Louis C. K.: Sorry (2021) | Transcript                   0.0    0.0   \n",
       "Drew Michael: Red Blue Green (2021) | Transcript         0.0    0.0   \n",
       "Mo Amer: Mohammed in Texas (2021) | Transcript           0.0    0.0   \n",
       "Dave Chappelle: The Closer (2021) | Transcript           0.0    0.0   \n",
       "\n",
       "                                                  delegation  welathy  great-  \\\n",
       "Jim Gaffigan: Comedy Monster (2021) | Transcript         0.0      0.0     0.0   \n",
       "Louis C. K.: Sorry (2021) | Transcript                   0.0      0.0     0.0   \n",
       "Drew Michael: Red Blue Green (2021) | Transcript         0.0      0.0     0.0   \n",
       "Mo Amer: Mohammed in Texas (2021) | Transcript           0.0      0.0     0.0   \n",
       "Dave Chappelle: The Closer (2021) | Transcript           0.0      0.0     0.0   \n",
       "\n",
       "                                                  stronghold  jewels  \n",
       "Jim Gaffigan: Comedy Monster (2021) | Transcript         0.0     0.0  \n",
       "Louis C. K.: Sorry (2021) | Transcript                   0.0     0.0  \n",
       "Drew Michael: Red Blue Green (2021) | Transcript         0.0     0.0  \n",
       "Mo Amer: Mohammed in Texas (2021) | Transcript           0.0     0.0  \n",
       "Dave Chappelle: The Closer (2021) | Transcript           0.0     0.0  \n",
       "\n",
       "[5 rows x 33605 columns]"
      ]
     },
     "execution_count": 160,
     "metadata": {},
     "output_type": "execute_result"
    }
   ],
   "source": [
    "scripts_df.head()"
   ]
  },
  {
   "cell_type": "code",
   "execution_count": 161,
   "metadata": {},
   "outputs": [],
   "source": [
    "cosims = cosine_similarity(scripts_df)\n",
    "cosims_df = (pd.DataFrame(index=scripts_df.index, \n",
    "                          columns=scripts_df.index, \n",
    "                          data = cosims)\n",
    "                .melt(var_name='other_show', \n",
    "                      value_name='cosine_similarity', \n",
    "                      ignore_index=False)\n",
    "                .reset_index()\n",
    "                .rename(columns = {'index':'show'})\n",
    "        )"
   ]
  },
  {
   "cell_type": "code",
   "execution_count": 171,
   "metadata": {},
   "outputs": [
    {
     "data": {
      "image/png": "[encoded data removed]",
      "text/plain": [
       "<Figure size 460.8x403.2 with 1 Axes>"
      ]
     },
     "metadata": {},
     "output_type": "display_data"
    }
   ],
   "source": [
    "from jupyterthemes import jtplot\n",
    "jtplot.style()\n",
    "\n",
    "sns.histplot(cosims_df.sort_values('cosine_similarity', ascending = True));"
   ]
  },
  {
   "cell_type": "code",
   "execution_count": 178,
   "metadata": {},
   "outputs": [
    {
     "data": {
      "text/html": [
       "<div>\n",
       "<style scoped>\n",
       "    .dataframe tbody tr th:only-of-type {\n",
       "        vertical-align: middle;\n",
       "    }\n",
       "\n",
       "    .dataframe tbody tr th {\n",
       "        vertical-align: top;\n",
       "    }\n",
       "\n",
       "    .dataframe thead th {\n",
       "        text-align: right;\n",
       "    }\n",
       "</style>\n",
       "<table border=\"1\" class=\"dataframe\">\n",
       "  <thead>\n",
       "    <tr style=\"text-align: right;\">\n",
       "      <th></th>\n",
       "      <th>show</th>\n",
       "      <th>other_show</th>\n",
       "      <th>cosine_similarity</th>\n",
       "    </tr>\n",
       "  </thead>\n",
       "  <tbody>\n",
       "    <tr>\n",
       "      <th>3662</th>\n",
       "      <td>Bo Burnham: Make Happy (2016) – Transcript</td>\n",
       "      <td>Bo Burnham: Inside (2021) – Transcript</td>\n",
       "      <td>0.990612</td>\n",
       "    </tr>\n",
       "    <tr>\n",
       "      <th>36522</th>\n",
       "      <td>Bo Burnham: Make Happy (2016) – Transcript</td>\n",
       "      <td>Adam Sandler: 100% Fresh (2018) – Full Transcript</td>\n",
       "      <td>0.986266</td>\n",
       "    </tr>\n",
       "    <tr>\n",
       "      <th>3527</th>\n",
       "      <td>Adam Sandler: 100% Fresh (2018) – Full Transcript</td>\n",
       "      <td>Bo Burnham: Inside (2021) – Transcript</td>\n",
       "      <td>0.983647</td>\n",
       "    </tr>\n",
       "    <tr>\n",
       "      <th>45806</th>\n",
       "      <td>AMY SCHUMER: MOSTLY SEX STUFF (2012) – Full Tr...</td>\n",
       "      <td>NIKKI GLASER: PERFECT (2016) – Full Transcript</td>\n",
       "      <td>0.963349</td>\n",
       "    </tr>\n",
       "    <tr>\n",
       "      <th>82752</th>\n",
       "      <td>Tom Segura: Mostly Stories (2016) – Transcript</td>\n",
       "      <td>Tom Segura: Completely Normal (2014) – Transcript</td>\n",
       "      <td>0.961781</td>\n",
       "    </tr>\n",
       "    <tr>\n",
       "      <th>29066</th>\n",
       "      <td>AMY SCHUMER: MOSTLY SEX STUFF (2012) – Full Tr...</td>\n",
       "      <td>Chelsea Peretti: One of the Greats (2014) – Fu...</td>\n",
       "      <td>0.960495</td>\n",
       "    </tr>\n",
       "    <tr>\n",
       "      <th>28977</th>\n",
       "      <td>NIKKI GLASER: PERFECT (2016) – Full Transcript</td>\n",
       "      <td>Chelsea Peretti: One of the Greats (2014) – Fu...</td>\n",
       "      <td>0.956929</td>\n",
       "    </tr>\n",
       "    <tr>\n",
       "      <th>45798</th>\n",
       "      <td>Donald Glover: Weirdo (2012) – Transcript</td>\n",
       "      <td>NIKKI GLASER: PERFECT (2016) – Full Transcript</td>\n",
       "      <td>0.956021</td>\n",
       "    </tr>\n",
       "    <tr>\n",
       "      <th>23653</th>\n",
       "      <td>Chelsea Peretti: One of the Greats (2014) – Fu...</td>\n",
       "      <td>Nikki Glaser: Bangin’ (2019) – Full Transcript</td>\n",
       "      <td>0.954109</td>\n",
       "    </tr>\n",
       "    <tr>\n",
       "      <th>23796</th>\n",
       "      <td>AMY SCHUMER: MOSTLY SEX STUFF (2012) – Full Tr...</td>\n",
       "      <td>Nikki Glaser: Bangin’ (2019) – Full Transcript</td>\n",
       "      <td>0.953383</td>\n",
       "    </tr>\n",
       "    <tr>\n",
       "      <th>23707</th>\n",
       "      <td>NIKKI GLASER: PERFECT (2016) – Full Transcript</td>\n",
       "      <td>Nikki Glaser: Bangin’ (2019) – Full Transcript</td>\n",
       "      <td>0.953225</td>\n",
       "    </tr>\n",
       "    <tr>\n",
       "      <th>73430</th>\n",
       "      <td>AMY SCHUMER: THE LEATHER SPECIAL (2017) – Full...</td>\n",
       "      <td>AMY SCHUMER: MOSTLY SEX STUFF (2012) – Full Tr...</td>\n",
       "      <td>0.951460</td>\n",
       "    </tr>\n",
       "    <tr>\n",
       "      <th>29100</th>\n",
       "      <td>AMY SCHUMER: THE LEATHER SPECIAL (2017) – Full...</td>\n",
       "      <td>Chelsea Peretti: One of the Greats (2014) – Fu...</td>\n",
       "      <td>0.948868</td>\n",
       "    </tr>\n",
       "    <tr>\n",
       "      <th>43049</th>\n",
       "      <td>RICKY GERVAIS: OUT OF ENGLAND 2 (2010) – Full ...</td>\n",
       "      <td>RICKY GERVAIS: LIVE IV – SCIENCE (2010) – Full...</td>\n",
       "      <td>0.948706</td>\n",
       "    </tr>\n",
       "    <tr>\n",
       "      <th>5433</th>\n",
       "      <td>Chris Rock: Tamborine (2018) – Transcript</td>\n",
       "      <td>Chris Rock Total Blackout: The Tamborine Exten...</td>\n",
       "      <td>0.948682</td>\n",
       "    </tr>\n",
       "    <tr>\n",
       "      <th>18747</th>\n",
       "      <td>NIKKI GLASER: PERFECT (2016) – Full Transcript</td>\n",
       "      <td>PETE DAVIDSON: SMD (2016) – FULL TRANSCRIPT</td>\n",
       "      <td>0.948119</td>\n",
       "    </tr>\n",
       "    <tr>\n",
       "      <th>36445</th>\n",
       "      <td>BRIDGET EVERETT: GYNECOLOGICAL WONDER (2015) –...</td>\n",
       "      <td>Adam Sandler: 100% Fresh (2018) – Full Transcript</td>\n",
       "      <td>0.947867</td>\n",
       "    </tr>\n",
       "    <tr>\n",
       "      <th>70916</th>\n",
       "      <td>AMY SCHUMER: MOSTLY SEX STUFF (2012) – Full Tr...</td>\n",
       "      <td>Donald Glover: Weirdo (2012) – Transcript</td>\n",
       "      <td>0.947542</td>\n",
       "    </tr>\n",
       "    <tr>\n",
       "      <th>45808</th>\n",
       "      <td>AMY SCHUMER: LIVE AT THE APOLLO (2015) – Full ...</td>\n",
       "      <td>NIKKI GLASER: PERFECT (2016) – Full Transcript</td>\n",
       "      <td>0.947234</td>\n",
       "    </tr>\n",
       "    <tr>\n",
       "      <th>28932</th>\n",
       "      <td>Nate Bargatze: Full Time Magic (2015) – Full T...</td>\n",
       "      <td>Chelsea Peretti: One of the Greats (2014) – Fu...</td>\n",
       "      <td>0.945702</td>\n",
       "    </tr>\n",
       "  </tbody>\n",
       "</table>\n",
       "</div>"
      ],
      "text/plain": [
       "                                                    show  \\\n",
       "3662          Bo Burnham: Make Happy (2016) – Transcript   \n",
       "36522         Bo Burnham: Make Happy (2016) – Transcript   \n",
       "3527   Adam Sandler: 100% Fresh (2018) – Full Transcript   \n",
       "45806  AMY SCHUMER: MOSTLY SEX STUFF (2012) – Full Tr...   \n",
       "82752     Tom Segura: Mostly Stories (2016) – Transcript   \n",
       "29066  AMY SCHUMER: MOSTLY SEX STUFF (2012) – Full Tr...   \n",
       "28977     NIKKI GLASER: PERFECT (2016) – Full Transcript   \n",
       "45798          Donald Glover: Weirdo (2012) – Transcript   \n",
       "23653  Chelsea Peretti: One of the Greats (2014) – Fu...   \n",
       "23796  AMY SCHUMER: MOSTLY SEX STUFF (2012) – Full Tr...   \n",
       "23707     NIKKI GLASER: PERFECT (2016) – Full Transcript   \n",
       "73430  AMY SCHUMER: THE LEATHER SPECIAL (2017) – Full...   \n",
       "29100  AMY SCHUMER: THE LEATHER SPECIAL (2017) – Full...   \n",
       "43049  RICKY GERVAIS: OUT OF ENGLAND 2 (2010) – Full ...   \n",
       "5433           Chris Rock: Tamborine (2018) – Transcript   \n",
       "18747     NIKKI GLASER: PERFECT (2016) – Full Transcript   \n",
       "36445  BRIDGET EVERETT: GYNECOLOGICAL WONDER (2015) –...   \n",
       "70916  AMY SCHUMER: MOSTLY SEX STUFF (2012) – Full Tr...   \n",
       "45808  AMY SCHUMER: LIVE AT THE APOLLO (2015) – Full ...   \n",
       "28932  Nate Bargatze: Full Time Magic (2015) – Full T...   \n",
       "\n",
       "                                              other_show  cosine_similarity  \n",
       "3662              Bo Burnham: Inside (2021) – Transcript           0.990612  \n",
       "36522  Adam Sandler: 100% Fresh (2018) – Full Transcript           0.986266  \n",
       "3527              Bo Burnham: Inside (2021) – Transcript           0.983647  \n",
       "45806     NIKKI GLASER: PERFECT (2016) – Full Transcript           0.963349  \n",
       "82752  Tom Segura: Completely Normal (2014) – Transcript           0.961781  \n",
       "29066  Chelsea Peretti: One of the Greats (2014) – Fu...           0.960495  \n",
       "28977  Chelsea Peretti: One of the Greats (2014) – Fu...           0.956929  \n",
       "45798     NIKKI GLASER: PERFECT (2016) – Full Transcript           0.956021  \n",
       "23653     Nikki Glaser: Bangin’ (2019) – Full Transcript           0.954109  \n",
       "23796     Nikki Glaser: Bangin’ (2019) – Full Transcript           0.953383  \n",
       "23707     Nikki Glaser: Bangin’ (2019) – Full Transcript           0.953225  \n",
       "73430  AMY SCHUMER: MOSTLY SEX STUFF (2012) – Full Tr...           0.951460  \n",
       "29100  Chelsea Peretti: One of the Greats (2014) – Fu...           0.948868  \n",
       "43049  RICKY GERVAIS: LIVE IV – SCIENCE (2010) – Full...           0.948706  \n",
       "5433   Chris Rock Total Blackout: The Tamborine Exten...           0.948682  \n",
       "18747        PETE DAVIDSON: SMD (2016) – FULL TRANSCRIPT           0.948119  \n",
       "36445  Adam Sandler: 100% Fresh (2018) – Full Transcript           0.947867  \n",
       "70916          Donald Glover: Weirdo (2012) – Transcript           0.947542  \n",
       "45808     NIKKI GLASER: PERFECT (2016) – Full Transcript           0.947234  \n",
       "28932  Chelsea Peretti: One of the Greats (2014) – Fu...           0.945702  "
      ]
     },
     "execution_count": 178,
     "metadata": {},
     "output_type": "execute_result"
    }
   ],
   "source": [
    "(cosims_df\n",
    "         [cosims_df['show'] != cosims_df['other_show']]\n",
    "        .drop_duplicates(subset=['cosine_similarity'])\n",
    "        .sort_values('cosine_similarity', ascending = False)[:20]\n",
    ")"
   ]
  },
  {
   "cell_type": "code",
   "execution_count": 170,
   "metadata": {},
   "outputs": [
    {
     "data": {
      "text/html": [
       "<div>\n",
       "<style scoped>\n",
       "    .dataframe tbody tr th:only-of-type {\n",
       "        vertical-align: middle;\n",
       "    }\n",
       "\n",
       "    .dataframe tbody tr th {\n",
       "        vertical-align: top;\n",
       "    }\n",
       "\n",
       "    .dataframe thead th {\n",
       "        text-align: right;\n",
       "    }\n",
       "</style>\n",
       "<table border=\"1\" class=\"dataframe\">\n",
       "  <thead>\n",
       "    <tr style=\"text-align: right;\">\n",
       "      <th></th>\n",
       "      <th>show</th>\n",
       "      <th>other_show</th>\n",
       "      <th>cosine_similarity</th>\n",
       "    </tr>\n",
       "  </thead>\n",
       "  <tbody>\n",
       "    <tr>\n",
       "      <th>3410</th>\n",
       "      <td>Jim Gaffigan: Comedy Monster (2021) | Transcript</td>\n",
       "      <td>Bo Burnham: Inside (2021) – Transcript</td>\n",
       "      <td>0.104616</td>\n",
       "    </tr>\n",
       "    <tr>\n",
       "      <th>5890</th>\n",
       "      <td>Jim Gaffigan: Comedy Monster (2021) | Transcript</td>\n",
       "      <td>Bo Burnham: Words, Words, Words (2010) – Trans...</td>\n",
       "      <td>0.115871</td>\n",
       "    </tr>\n",
       "    <tr>\n",
       "      <th>78120</th>\n",
       "      <td>Jim Gaffigan: Comedy Monster (2021) | Transcript</td>\n",
       "      <td>Bo Burnham: Make Happy (2016) – Transcript</td>\n",
       "      <td>0.160376</td>\n",
       "    </tr>\n",
       "    <tr>\n",
       "      <th>36270</th>\n",
       "      <td>Jim Gaffigan: Comedy Monster (2021) | Transcript</td>\n",
       "      <td>Adam Sandler: 100% Fresh (2018) – Full Transcript</td>\n",
       "      <td>0.196862</td>\n",
       "    </tr>\n",
       "    <tr>\n",
       "      <th>54250</th>\n",
       "      <td>Jim Gaffigan: Comedy Monster (2021) | Transcript</td>\n",
       "      <td>BRIDGET EVERETT: GYNECOLOGICAL WONDER (2015) –...</td>\n",
       "      <td>0.232105</td>\n",
       "    </tr>\n",
       "    <tr>\n",
       "      <th>...</th>\n",
       "      <td>...</td>\n",
       "      <td>...</td>\n",
       "      <td>...</td>\n",
       "    </tr>\n",
       "    <tr>\n",
       "      <th>28210</th>\n",
       "      <td>Jim Gaffigan: Comedy Monster (2021) | Transcript</td>\n",
       "      <td>Demetri Martin: Live (At The Time) (2015) | Tr...</td>\n",
       "      <td>0.880536</td>\n",
       "    </tr>\n",
       "    <tr>\n",
       "      <th>69130</th>\n",
       "      <td>Jim Gaffigan: Comedy Monster (2021) | Transcript</td>\n",
       "      <td>JEN KIRKMAN: JUST KEEP LIVIN’? (2017) – Full T...</td>\n",
       "      <td>0.880724</td>\n",
       "    </tr>\n",
       "    <tr>\n",
       "      <th>41230</th>\n",
       "      <td>Jim Gaffigan: Comedy Monster (2021) | Transcript</td>\n",
       "      <td>JIM GAFFIGAN: NOBLE APE (2018) – Full Transcript</td>\n",
       "      <td>0.885646</td>\n",
       "    </tr>\n",
       "    <tr>\n",
       "      <th>31620</th>\n",
       "      <td>Jim Gaffigan: Comedy Monster (2021) | Transcript</td>\n",
       "      <td>Nate Bargatze: Full Time Magic (2015) – Full T...</td>\n",
       "      <td>0.890465</td>\n",
       "    </tr>\n",
       "    <tr>\n",
       "      <th>84010</th>\n",
       "      <td>Jim Gaffigan: Comedy Monster (2021) | Transcript</td>\n",
       "      <td>JIM GAFFIGAN: CINCO (2017) – Full Transcript</td>\n",
       "      <td>0.891854</td>\n",
       "    </tr>\n",
       "  </tbody>\n",
       "</table>\n",
       "<p>309 rows × 3 columns</p>\n",
       "</div>"
      ],
      "text/plain": [
       "                                                   show  \\\n",
       "3410   Jim Gaffigan: Comedy Monster (2021) | Transcript   \n",
       "5890   Jim Gaffigan: Comedy Monster (2021) | Transcript   \n",
       "78120  Jim Gaffigan: Comedy Monster (2021) | Transcript   \n",
       "36270  Jim Gaffigan: Comedy Monster (2021) | Transcript   \n",
       "54250  Jim Gaffigan: Comedy Monster (2021) | Transcript   \n",
       "...                                                 ...   \n",
       "28210  Jim Gaffigan: Comedy Monster (2021) | Transcript   \n",
       "69130  Jim Gaffigan: Comedy Monster (2021) | Transcript   \n",
       "41230  Jim Gaffigan: Comedy Monster (2021) | Transcript   \n",
       "31620  Jim Gaffigan: Comedy Monster (2021) | Transcript   \n",
       "84010  Jim Gaffigan: Comedy Monster (2021) | Transcript   \n",
       "\n",
       "                                              other_show  cosine_similarity  \n",
       "3410              Bo Burnham: Inside (2021) – Transcript           0.104616  \n",
       "5890   Bo Burnham: Words, Words, Words (2010) – Trans...           0.115871  \n",
       "78120         Bo Burnham: Make Happy (2016) – Transcript           0.160376  \n",
       "36270  Adam Sandler: 100% Fresh (2018) – Full Transcript           0.196862  \n",
       "54250  BRIDGET EVERETT: GYNECOLOGICAL WONDER (2015) –...           0.232105  \n",
       "...                                                  ...                ...  \n",
       "28210  Demetri Martin: Live (At The Time) (2015) | Tr...           0.880536  \n",
       "69130  JEN KIRKMAN: JUST KEEP LIVIN’? (2017) – Full T...           0.880724  \n",
       "41230   JIM GAFFIGAN: NOBLE APE (2018) – Full Transcript           0.885646  \n",
       "31620  Nate Bargatze: Full Time Magic (2015) – Full T...           0.890465  \n",
       "84010       JIM GAFFIGAN: CINCO (2017) – Full Transcript           0.891854  \n",
       "\n",
       "[309 rows x 3 columns]"
      ]
     },
     "execution_count": 170,
     "metadata": {},
     "output_type": "execute_result"
    }
   ],
   "source": [
    "show = 'Jim Gaffigan: Comedy Monster (2021) | Transcript'\n",
    "(cosims_df\n",
    "     [cosims_df['show'] != cosims_df['other_show']]\n",
    "     [cosims_df['show'] == show]\n",
    "     .sort_values('cosine_similarity')\n",
    ")"
   ]
  },
  {
   "cell_type": "markdown",
   "metadata": {},
   "source": [
    "# playground\n",
    "[to the top](#Feature-Engineering-for-Standup-Scripts)"
   ]
  },
  {
   "cell_type": "markdown",
   "metadata": {},
   "source": [
    "### Remove brackets and parentheticals, as well as a check to ensure we don't accidentally remove too much\n",
    "I'd also like to remove intro and exit music programmatically, but that's more fraught. Some shows deliberately contain music as content, and some scripts use an odd number of music signs, which makes it tough to single out lyrics."
   ]
  },
  {
   "cell_type": "code",
   "execution_count": null,
   "metadata": {},
   "outputs": [],
   "source": [
    "fake_tok = \"Thank you, thank you. [applause, laughter] Have you heard what Florida man's up to?\"\n",
    "re.search(r\"\\[.+\\]\", fake_tok)"
   ]
  },
  {
   "cell_type": "code",
   "execution_count": null,
   "metadata": {},
   "outputs": [],
   "source": [
    "re.sub(r\"\\[.+\\]\", \"\", fake_tok).strip()"
   ]
  },
  {
   "cell_type": "code",
   "execution_count": null,
   "metadata": {},
   "outputs": [],
   "source": [
    "if fake_tok not in sw and re.search(r\"\\[.+\\]\", fake_tok):\n",
    "    print(\"Yup, that's true\")"
   ]
  },
  {
   "cell_type": "code",
   "execution_count": null,
   "metadata": {},
   "outputs": [],
   "source": [
    "re.sub(r\"\\[.+?\\]\", \"\", transcripts_dict['Tom Papa: Human Mule (2016) – Transcript'])\n",
    "re.search(r\"♪.+?♪\", transcripts_dict['Tom Papa: Human Mule (2016) – Transcript'])"
   ]
  },
  {
   "cell_type": "code",
   "execution_count": null,
   "metadata": {},
   "outputs": [],
   "source": [
    "gen = (script for script in transcripts_dict.values())"
   ]
  },
  {
   "cell_type": "code",
   "execution_count": null,
   "metadata": {},
   "outputs": [],
   "source": [
    "re.sub(r\"\\[.+?\\]\", \"\", re.sub(r\"♪.+?♪\", \"\", re.sub(r\"♪♪.+?♪♪\", \"\", transcripts_dict['Dave Chappelle: The Closer (2021) | Transcript'])))"
   ]
  },
  {
   "cell_type": "code",
   "execution_count": null,
   "metadata": {},
   "outputs": [],
   "source": [
    "mm = metascripts.assign(\n",
    "    modprop = lambda metascripts: (metascripts['script characters'] - metascripts['transcript'].replace(\"\\[.+?\\]|\\(.+?\\)\",\"\", regex = True).apply(len))/metascripts['script characters']\n",
    ")\n",
    "\n",
    "px.box(mm, x = 'modprop', hover_data = [mm.index, 'description'])"
   ]
  },
  {
   "cell_type": "code",
   "execution_count": null,
   "metadata": {},
   "outputs": [],
   "source": [
    "metascripts['transcript'][32]"
   ]
  },
  {
   "cell_type": "code",
   "execution_count": null,
   "metadata": {},
   "outputs": [],
   "source": [
    "metascripts['transcript'].replace(\"\\[.+?\\]|\\(.+?\\)\",\"\", regex = True)[32]"
   ]
  }
 ],
 "metadata": {
  "interpreter": {
   "hash": "542466b5a324f1333f512993cba41ecf153bff5c08c85763ac424cb7f020baf3"
  },
  "kernelspec": {
   "display_name": "Python 3",
   "language": "python",
   "name": "python3"
  },
  "language_info": {
   "codemirror_mode": {
    "name": "ipython",
    "version": 3
   },
   "file_extension": ".py",
   "mimetype": "text/x-python",
   "name": "python",
   "nbconvert_exporter": "python",
   "pygments_lexer": "ipython3",
   "version": "3.8.8"
  }
 },
 "nbformat": 4,
 "nbformat_minor": 2
}
