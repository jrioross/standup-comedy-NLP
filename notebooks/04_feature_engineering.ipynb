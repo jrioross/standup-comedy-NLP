{
 "cells": [
  {
   "cell_type": "markdown",
   "metadata": {},
   "source": [
    "# Feature Engineering for Standup Scripts"
   ]
  },
  {
   "cell_type": "markdown",
   "metadata": {},
   "source": [
    "## Imports"
   ]
  },
  {
   "cell_type": "code",
   "execution_count": 171,
   "metadata": {},
   "outputs": [],
   "source": [
    "import pickle\n",
    "import numpy as np\n",
    "import pandas as pd\n",
    "from datetime import date\n",
    "\n",
    "import matplotlib.pyplot as plt\n",
    "import seaborn as sns\n",
    "import plotly.express as px\n",
    "\n",
    "import re\n",
    "from collections import Counter, defaultdict\n",
    "import itertools\n",
    "import nltk\n",
    "from nltk.corpus import stopwords\n",
    "from nltk.tokenize import word_tokenize, sent_tokenize, regexp_tokenize\n",
    "import gensim\n",
    "from gensim.corpora.dictionary import Dictionary\n",
    "import spacy"
   ]
  },
  {
   "cell_type": "code",
   "execution_count": 172,
   "metadata": {},
   "outputs": [],
   "source": [
    "sw = stopwords.words(\"english\")"
   ]
  },
  {
   "cell_type": "code",
   "execution_count": 173,
   "metadata": {},
   "outputs": [],
   "source": [
    "transcripts_df = pd.read_pickle('../data/transcripts_raw_df.pickle')"
   ]
  },
  {
   "cell_type": "code",
   "execution_count": 174,
   "metadata": {},
   "outputs": [],
   "source": [
    "with open(f'../data/imdb_title_results_2022-05-23.pickle', 'rb') as file:\n",
    "    show_meta = pickle.load(file)"
   ]
  },
  {
   "cell_type": "code",
   "execution_count": 175,
   "metadata": {},
   "outputs": [],
   "source": [
    "with open(f'../data/metascripts_df_2022-05-28.pickle', 'rb') as file:\n",
    "    metascripts = pickle.load(file)"
   ]
  },
  {
   "cell_type": "code",
   "execution_count": 176,
   "metadata": {},
   "outputs": [
    {
     "data": {
      "text/html": [
       "<div>\n",
       "<style scoped>\n",
       "    .dataframe tbody tr th:only-of-type {\n",
       "        vertical-align: middle;\n",
       "    }\n",
       "\n",
       "    .dataframe tbody tr th {\n",
       "        vertical-align: top;\n",
       "    }\n",
       "\n",
       "    .dataframe thead th {\n",
       "        text-align: right;\n",
       "    }\n",
       "</style>\n",
       "<table border=\"1\" class=\"dataframe\">\n",
       "  <thead>\n",
       "    <tr style=\"text-align: right;\">\n",
       "      <th></th>\n",
       "      <th>description</th>\n",
       "      <th>link</th>\n",
       "      <th>transcript</th>\n",
       "      <th>script characters</th>\n",
       "      <th>id</th>\n",
       "      <th>artist</th>\n",
       "      <th>title</th>\n",
       "      <th>fullTitle</th>\n",
       "      <th>year</th>\n",
       "      <th>image</th>\n",
       "      <th>...</th>\n",
       "      <th>genres</th>\n",
       "      <th>genreList</th>\n",
       "      <th>companies</th>\n",
       "      <th>companyList</th>\n",
       "      <th>contentRating</th>\n",
       "      <th>imDbRating</th>\n",
       "      <th>imDbRatingVotes</th>\n",
       "      <th>similars</th>\n",
       "      <th>languages</th>\n",
       "      <th>languageList</th>\n",
       "    </tr>\n",
       "  </thead>\n",
       "  <tbody>\n",
       "    <tr>\n",
       "      <th>0</th>\n",
       "      <td>Jim Gaffigan: Comedy Monster (2021) | Transcript</td>\n",
       "      <td>https://scrapsfromtheloft.com/comedy/jim-gaffi...</td>\n",
       "      <td>Thank you! Thank you! Oh, my gosh. Thank you s...</td>\n",
       "      <td>49799</td>\n",
       "      <td>tt15907298</td>\n",
       "      <td>Jim Gaffigan</td>\n",
       "      <td>Jim Gaffigan: Comedy Monster</td>\n",
       "      <td>Jim Gaffigan: Comedy Monster (2021)</td>\n",
       "      <td>2021</td>\n",
       "      <td>https://imdb-api.com/images/original/MV5BMDcyN...</td>\n",
       "      <td>...</td>\n",
       "      <td>Comedy</td>\n",
       "      <td>[{'key': 'Comedy', 'value': 'Comedy'}]</td>\n",
       "      <td>The Nacelle Company</td>\n",
       "      <td>[{'id': 'co0649705', 'name': 'The Nacelle Comp...</td>\n",
       "      <td>TV-14</td>\n",
       "      <td>6.8</td>\n",
       "      <td>1618</td>\n",
       "      <td>[{'id': 'tt6090102', 'title': 'Jim Gaffigan: C...</td>\n",
       "      <td>English</td>\n",
       "      <td>[{'key': 'English', 'value': 'English'}]</td>\n",
       "    </tr>\n",
       "    <tr>\n",
       "      <th>1</th>\n",
       "      <td>Louis C. K.: Sorry (2021) | Transcript</td>\n",
       "      <td>https://scrapsfromtheloft.com/comedy/louis-c-k...</td>\n",
       "      <td>♪♪ [“Like a Rolling Stone” by Bob Dylan playin...</td>\n",
       "      <td>44669</td>\n",
       "      <td>tt16491756</td>\n",
       "      <td>Louis C.K.</td>\n",
       "      <td>Sorry</td>\n",
       "      <td>Sorry (2021)</td>\n",
       "      <td>2021</td>\n",
       "      <td>https://imdb-api.com/images/original/MV5BOWNkN...</td>\n",
       "      <td>...</td>\n",
       "      <td>Comedy</td>\n",
       "      <td>[{'key': 'Comedy', 'value': 'Comedy'}]</td>\n",
       "      <td></td>\n",
       "      <td>[]</td>\n",
       "      <td>None</td>\n",
       "      <td>7.7</td>\n",
       "      <td>2363</td>\n",
       "      <td>[{'id': 'tt12087624', 'title': 'Sincerely Loui...</td>\n",
       "      <td>English</td>\n",
       "      <td>[{'key': 'English', 'value': 'English'}]</td>\n",
       "    </tr>\n",
       "    <tr>\n",
       "      <th>2</th>\n",
       "      <td>Drew Michael: Drew Michael (2018) | Transcript</td>\n",
       "      <td>https://scrapsfromtheloft.com/comedy/drew-mich...</td>\n",
       "      <td>“This is the latest I’ve stayed up in a long t...</td>\n",
       "      <td>40006</td>\n",
       "      <td>tt8563704</td>\n",
       "      <td>Drew Michael</td>\n",
       "      <td>Drew Michael: Drew Michael</td>\n",
       "      <td>Drew Michael: Drew Michael (2018)</td>\n",
       "      <td>2018</td>\n",
       "      <td>https://imdb-api.com/images/original/MV5BMDkyZ...</td>\n",
       "      <td>...</td>\n",
       "      <td>Comedy</td>\n",
       "      <td>[{'key': 'Comedy', 'value': 'Comedy'}]</td>\n",
       "      <td>A24 Television</td>\n",
       "      <td>[{'id': 'co0702684', 'name': 'A24 Television'}]</td>\n",
       "      <td>TV-MA</td>\n",
       "      <td>5.4</td>\n",
       "      <td>368</td>\n",
       "      <td>[{'id': 'tt16153658', 'title': 'Drew Michael: ...</td>\n",
       "      <td>English</td>\n",
       "      <td>[{'key': 'English', 'value': 'English'}]</td>\n",
       "    </tr>\n",
       "    <tr>\n",
       "      <th>3</th>\n",
       "      <td>Drew Michael: Red Blue Green (2021) | Transcript</td>\n",
       "      <td>https://scrapsfromtheloft.com/comedy/drew-mich...</td>\n",
       "      <td>(EMOTIONAL MUSIC PLAYING) (MUSIC ENDS) DREW MI...</td>\n",
       "      <td>50422</td>\n",
       "      <td>tt16153658</td>\n",
       "      <td>Drew Michael</td>\n",
       "      <td>Drew Michael: Red Blue Green</td>\n",
       "      <td>Drew Michael: Red Blue Green (2021)</td>\n",
       "      <td>2021</td>\n",
       "      <td>https://imdb-api.com/images/original/MV5BNTcxM...</td>\n",
       "      <td>...</td>\n",
       "      <td>Comedy</td>\n",
       "      <td>[{'key': 'Comedy', 'value': 'Comedy'}]</td>\n",
       "      <td>Rotten Science, HBO Films</td>\n",
       "      <td>[{'id': 'co0602462', 'name': 'Rotten Science'}...</td>\n",
       "      <td>TV-MA</td>\n",
       "      <td>6.9</td>\n",
       "      <td>261</td>\n",
       "      <td>[{'id': 'tt8563704', 'title': 'Drew Michael: D...</td>\n",
       "      <td>English</td>\n",
       "      <td>[{'key': 'English', 'value': 'English'}]</td>\n",
       "    </tr>\n",
       "    <tr>\n",
       "      <th>4</th>\n",
       "      <td>Mo Amer: Mohammed in Texas (2021) | Transcript</td>\n",
       "      <td>https://scrapsfromtheloft.com/comedy/mo-amer-m...</td>\n",
       "      <td>[quirky flute music playing] [single note pian...</td>\n",
       "      <td>58020</td>\n",
       "      <td>tt15845288</td>\n",
       "      <td>Mo Amer</td>\n",
       "      <td>Mo Amer: Mohammed in Texas</td>\n",
       "      <td>Mo Amer: Mohammed in Texas (2021)</td>\n",
       "      <td>2021</td>\n",
       "      <td>https://imdb-api.com/images/original/MV5BMDI1M...</td>\n",
       "      <td>...</td>\n",
       "      <td>Comedy</td>\n",
       "      <td>[{'key': 'Comedy', 'value': 'Comedy'}]</td>\n",
       "      <td>A24</td>\n",
       "      <td>[{'id': 'co0390816', 'name': 'A24'}]</td>\n",
       "      <td>TV-MA</td>\n",
       "      <td>6.5</td>\n",
       "      <td>615</td>\n",
       "      <td>[{'id': 'tt9060526', 'title': 'Mo Amer: The Va...</td>\n",
       "      <td>English</td>\n",
       "      <td>[{'key': 'English', 'value': 'English'}]</td>\n",
       "    </tr>\n",
       "  </tbody>\n",
       "</table>\n",
       "<p>5 rows × 24 columns</p>\n",
       "</div>"
      ],
      "text/plain": [
       "                                        description  \\\n",
       "0  Jim Gaffigan: Comedy Monster (2021) | Transcript   \n",
       "1            Louis C. K.: Sorry (2021) | Transcript   \n",
       "2    Drew Michael: Drew Michael (2018) | Transcript   \n",
       "3  Drew Michael: Red Blue Green (2021) | Transcript   \n",
       "4    Mo Amer: Mohammed in Texas (2021) | Transcript   \n",
       "\n",
       "                                                link  \\\n",
       "0  https://scrapsfromtheloft.com/comedy/jim-gaffi...   \n",
       "1  https://scrapsfromtheloft.com/comedy/louis-c-k...   \n",
       "2  https://scrapsfromtheloft.com/comedy/drew-mich...   \n",
       "3  https://scrapsfromtheloft.com/comedy/drew-mich...   \n",
       "4  https://scrapsfromtheloft.com/comedy/mo-amer-m...   \n",
       "\n",
       "                                          transcript  script characters  \\\n",
       "0  Thank you! Thank you! Oh, my gosh. Thank you s...              49799   \n",
       "1  ♪♪ [“Like a Rolling Stone” by Bob Dylan playin...              44669   \n",
       "2  “This is the latest I’ve stayed up in a long t...              40006   \n",
       "3  (EMOTIONAL MUSIC PLAYING) (MUSIC ENDS) DREW MI...              50422   \n",
       "4  [quirky flute music playing] [single note pian...              58020   \n",
       "\n",
       "           id        artist                         title  \\\n",
       "0  tt15907298  Jim Gaffigan  Jim Gaffigan: Comedy Monster   \n",
       "1  tt16491756    Louis C.K.                         Sorry   \n",
       "2   tt8563704  Drew Michael    Drew Michael: Drew Michael   \n",
       "3  tt16153658  Drew Michael  Drew Michael: Red Blue Green   \n",
       "4  tt15845288       Mo Amer    Mo Amer: Mohammed in Texas   \n",
       "\n",
       "                             fullTitle  year  \\\n",
       "0  Jim Gaffigan: Comedy Monster (2021)  2021   \n",
       "1                         Sorry (2021)  2021   \n",
       "2    Drew Michael: Drew Michael (2018)  2018   \n",
       "3  Drew Michael: Red Blue Green (2021)  2021   \n",
       "4    Mo Amer: Mohammed in Texas (2021)  2021   \n",
       "\n",
       "                                               image  ...  genres  \\\n",
       "0  https://imdb-api.com/images/original/MV5BMDcyN...  ...  Comedy   \n",
       "1  https://imdb-api.com/images/original/MV5BOWNkN...  ...  Comedy   \n",
       "2  https://imdb-api.com/images/original/MV5BMDkyZ...  ...  Comedy   \n",
       "3  https://imdb-api.com/images/original/MV5BNTcxM...  ...  Comedy   \n",
       "4  https://imdb-api.com/images/original/MV5BMDI1M...  ...  Comedy   \n",
       "\n",
       "                                genreList                  companies  \\\n",
       "0  [{'key': 'Comedy', 'value': 'Comedy'}]        The Nacelle Company   \n",
       "1  [{'key': 'Comedy', 'value': 'Comedy'}]                              \n",
       "2  [{'key': 'Comedy', 'value': 'Comedy'}]             A24 Television   \n",
       "3  [{'key': 'Comedy', 'value': 'Comedy'}]  Rotten Science, HBO Films   \n",
       "4  [{'key': 'Comedy', 'value': 'Comedy'}]                        A24   \n",
       "\n",
       "                                         companyList contentRating imDbRating  \\\n",
       "0  [{'id': 'co0649705', 'name': 'The Nacelle Comp...         TV-14        6.8   \n",
       "1                                                 []          None        7.7   \n",
       "2    [{'id': 'co0702684', 'name': 'A24 Television'}]         TV-MA        5.4   \n",
       "3  [{'id': 'co0602462', 'name': 'Rotten Science'}...         TV-MA        6.9   \n",
       "4               [{'id': 'co0390816', 'name': 'A24'}]         TV-MA        6.5   \n",
       "\n",
       "  imDbRatingVotes                                           similars  \\\n",
       "0            1618  [{'id': 'tt6090102', 'title': 'Jim Gaffigan: C...   \n",
       "1            2363  [{'id': 'tt12087624', 'title': 'Sincerely Loui...   \n",
       "2             368  [{'id': 'tt16153658', 'title': 'Drew Michael: ...   \n",
       "3             261  [{'id': 'tt8563704', 'title': 'Drew Michael: D...   \n",
       "4             615  [{'id': 'tt9060526', 'title': 'Mo Amer: The Va...   \n",
       "\n",
       "  languages                              languageList  \n",
       "0   English  [{'key': 'English', 'value': 'English'}]  \n",
       "1   English  [{'key': 'English', 'value': 'English'}]  \n",
       "2   English  [{'key': 'English', 'value': 'English'}]  \n",
       "3   English  [{'key': 'English', 'value': 'English'}]  \n",
       "4   English  [{'key': 'English', 'value': 'English'}]  \n",
       "\n",
       "[5 rows x 24 columns]"
      ]
     },
     "execution_count": 176,
     "metadata": {},
     "output_type": "execute_result"
    }
   ],
   "source": [
    "metascripts.head()"
   ]
  },
  {
   "cell_type": "code",
   "execution_count": 177,
   "metadata": {},
   "outputs": [
    {
     "data": {
      "text/plain": [
       "(316, 24)"
      ]
     },
     "execution_count": 177,
     "metadata": {},
     "output_type": "execute_result"
    }
   ],
   "source": [
    "metascripts.shape"
   ]
  },
  {
   "cell_type": "markdown",
   "metadata": {},
   "source": [
    "## word lengths, sentence lengths, distinct words\n",
    "- word lengths (letters per word)\n",
    "    * tokenize words (allow apostrophes and dashes but not numbers)\n",
    "    * do not lemmatize\n",
    "    * do not remove stopwords\n",
    "- sentence lengths (words per sentence)\n",
    "    * tokenize sentences and then count whitespaces\n",
    "    * do not remove stopwords\n",
    "    * get arrays so we can do mean, median, boxplot values, standard deviation\n",
    "- distinct words per total words\n",
    "    * tokenize and lemmatize words (allow apostrophes and dashes by not numbers)"
   ]
  },
  {
   "cell_type": "code",
   "execution_count": 178,
   "metadata": {},
   "outputs": [],
   "source": [
    "# Replace bracket and parenthetical content from scripts\n",
    "metascripts['transcript'] = metascripts['transcript'].replace(\"\\[.+?\\]|\\(.+?\\)\",\"\", regex = True)"
   ]
  },
  {
   "cell_type": "code",
   "execution_count": 179,
   "metadata": {},
   "outputs": [],
   "source": [
    "transcripts_dict = dict(zip(metascripts['description'].values, metascripts['transcript'].values))"
   ]
  },
  {
   "cell_type": "code",
   "execution_count": 182,
   "metadata": {},
   "outputs": [],
   "source": [
    "descriptions = list(transcripts_dict.keys())\n",
    "scripts = list(transcripts_dict.values())"
   ]
  },
  {
   "cell_type": "code",
   "execution_count": 183,
   "metadata": {},
   "outputs": [],
   "source": [
    "parens = (re.findall(r\"\\(.+?\\)\", script) for script in scripts)\n",
    "[(ind, len(matches)) for ind, matches in enumerate(parens) if len(matches) > 0]\n",
    "parenscripts = (scripts[ind] for ind, matches in enumerate(parens) if len(matches) > 0)"
   ]
  },
  {
   "cell_type": "markdown",
   "metadata": {},
   "source": [
    "### word lengths"
   ]
  },
  {
   "cell_type": "code",
   "execution_count": 184,
   "metadata": {},
   "outputs": [],
   "source": [
    "bow_cased = [regexp_tokenize(transcript, r\"[a-zA-Z]+\") for description, transcript in transcripts_dict.items()]\n",
    "bow_counter = [Counter(word.lower() for word in script_words) for script_words in bow_cased]\n",
    "\n",
    "tokenized_list = [[word.lower() for word in script_words] for script_words in bow_cased]\n",
    "dictionary = Dictionary(tokenized_list)\n",
    "corpus = [dictionary.doc2bow(script) for script in tokenized_list]"
   ]
  },
  {
   "cell_type": "code",
   "execution_count": 185,
   "metadata": {},
   "outputs": [],
   "source": [
    "word_lengths = [[len(word) for word in script_words] for script_words in tokenized_list]"
   ]
  },
  {
   "cell_type": "code",
   "execution_count": 186,
   "metadata": {},
   "outputs": [],
   "source": [
    "metascripts['mean word length'] = [np.mean(script_word_lengths) for script_word_lengths in word_lengths]\n",
    "metascripts['std word length'] = [np.std(script_word_lengths) for script_word_lengths in word_lengths]\n",
    "\n",
    "for quantile in (0.25, 0.50, 0.75):\n",
    "    metascripts[f'Q{quantile/0.25} word length'] = [np.quantile(script_word_lengths, quantile) for script_word_lengths in word_lengths]\n",
    "\n",
    "metascripts['max word length'] = [np.max(script_word_lengths) for script_word_lengths in word_lengths]"
   ]
  },
  {
   "cell_type": "markdown",
   "metadata": {},
   "source": [
    "### sentence lengths"
   ]
  },
  {
   "cell_type": "code",
   "execution_count": 187,
   "metadata": {},
   "outputs": [],
   "source": [
    "sent_tokenized_list = [sent_tokenize(transcript) for description, transcript in transcripts_dict.items()]\n",
    "sent_words_tokenized_list = [[regexp_tokenize(sent, r\"[’'\\-\\w]+\") for sent in sent_script] for sent_script in sent_tokenized_list]\n",
    "sent_lengths = [[len(sent) for sent in script] for script in sent_words_tokenized_list]\n",
    "sent_counts = [len(script) for script in sent_tokenized_list]"
   ]
  },
  {
   "cell_type": "code",
   "execution_count": 188,
   "metadata": {},
   "outputs": [],
   "source": [
    "metascripts['mean sentence length'] = [np.mean(script_sent_lengths) for script_sent_lengths in sent_lengths]\n",
    "metascripts['std sentence length'] = [np.std(script_sent_lengths) for script_sent_lengths in sent_lengths]\n",
    "\n",
    "for quantile in (0.25, 0.50, 0.75):\n",
    "    metascripts[f'Q{quantile/0.25} sentence length'] = [np.quantile(script_sent_lengths, quantile) for script_sent_lengths in sent_lengths]\n",
    "\n",
    "metascripts['max sentence length'] = [np.max(script_sent_lengths) for script_sent_lengths in sent_lengths]"
   ]
  },
  {
   "cell_type": "markdown",
   "metadata": {},
   "source": [
    "## distinct words and distinct words per total words"
   ]
  },
  {
   "cell_type": "code",
   "execution_count": 189,
   "metadata": {},
   "outputs": [],
   "source": [
    "from nltk.stem.wordnet import WordNetLemmatizer"
   ]
  },
  {
   "cell_type": "code",
   "execution_count": 190,
   "metadata": {},
   "outputs": [],
   "source": [
    "lemmatizer = WordNetLemmatizer()\n",
    "lem_counter = [Counter(lemmatizer.lemmatize(word.lower()) for word in script_words) for script_words in bow_cased]"
   ]
  },
  {
   "cell_type": "code",
   "execution_count": 191,
   "metadata": {},
   "outputs": [],
   "source": [
    "unique_word_counts = [len(script_lem_counts) for script_lem_counts in lem_counter]\n",
    "total_word_counts = [np.sum([count for lem, count in script_lem_counts.items()]) for script_lem_counts in lem_counter]\n",
    "unique_total_ratio = [unique/total for unique, total in zip(unique_word_counts, total_word_counts)]\n",
    "unique_per_sent = [unique/sent_count for unique, sent_count in zip(unique_word_counts, sent_counts)]"
   ]
  },
  {
   "cell_type": "code",
   "execution_count": 192,
   "metadata": {},
   "outputs": [],
   "source": [
    "metascripts['unique words'] = unique_word_counts\n",
    "metascripts['total words'] = total_word_counts\n",
    "metascripts['proportion unique words'] = unique_total_ratio\n",
    "metascripts['unique words per sentence'] = unique_per_sent"
   ]
  },
  {
   "cell_type": "markdown",
   "metadata": {},
   "source": [
    "## words per minute and sentences per minute"
   ]
  },
  {
   "cell_type": "code",
   "execution_count": null,
   "metadata": {},
   "outputs": [],
   "source": []
  },
  {
   "cell_type": "markdown",
   "metadata": {},
   "source": [
    "## repetition and phrases"
   ]
  },
  {
   "cell_type": "code",
   "execution_count": 193,
   "metadata": {},
   "outputs": [],
   "source": [
    "from gensim.models import Phrases"
   ]
  },
  {
   "cell_type": "code",
   "execution_count": 194,
   "metadata": {},
   "outputs": [],
   "source": [
    "tok_scripts = [regexp_tokenize(transcript, r\"[’'\\-\\w]+\") for description, transcript in transcripts_dict.items()]\n",
    "docs = [[lemmatizer.lemmatize(tok.lower()) for tok in transcript if tok not in sw] for transcript in tok_scripts]\n",
    "\n",
    "# Add bigrams and trigrams to docs (only ones that appear 5 times or more).\n",
    "ngram = Phrases(docs, min_count=5)\n",
    "for idx in range(len(docs)):\n",
    "    for token in ngram[docs[idx]]:\n",
    "        if '_' in token:\n",
    "            # Token is a bigram, add to document.\n",
    "            docs[idx].append(token)"
   ]
  },
  {
   "cell_type": "code",
   "execution_count": null,
   "metadata": {},
   "outputs": [],
   "source": []
  },
  {
   "cell_type": "markdown",
   "metadata": {},
   "source": [
    "## profanity"
   ]
  },
  {
   "cell_type": "code",
   "execution_count": 195,
   "metadata": {},
   "outputs": [],
   "source": [
    "from profanityfilter import ProfanityFilter"
   ]
  },
  {
   "cell_type": "code",
   "execution_count": 196,
   "metadata": {},
   "outputs": [],
   "source": [
    "pf = ProfanityFilter()"
   ]
  },
  {
   "cell_type": "markdown",
   "metadata": {},
   "source": [
    "# Playground"
   ]
  },
  {
   "cell_type": "markdown",
   "metadata": {},
   "source": [
    "### Remove brackets and parentheticals, as well as a check to ensure we don't accidentally remove too much\n",
    "I'd also like to remove intro and exit music programmatically, but that's more fraught. Some shows deliberately contain music as content, and some scripts use an odd number of music signs, which makes it tough to single out lyrics."
   ]
  },
  {
   "cell_type": "code",
   "execution_count": 197,
   "metadata": {},
   "outputs": [
    {
     "data": {
      "text/plain": [
       "<re.Match object; span=(22, 42), match='[applause, laughter]'>"
      ]
     },
     "execution_count": 197,
     "metadata": {},
     "output_type": "execute_result"
    }
   ],
   "source": [
    "fake_tok = \"Thank you, thank you. [applause, laughter] Have you heard what Florida man's up to?\"\n",
    "re.search(r\"\\[.+\\]\", fake_tok)"
   ]
  },
  {
   "cell_type": "code",
   "execution_count": 198,
   "metadata": {},
   "outputs": [
    {
     "data": {
      "text/plain": [
       "\"Thank you, thank you.  Have you heard what Florida man's up to?\""
      ]
     },
     "execution_count": 198,
     "metadata": {},
     "output_type": "execute_result"
    }
   ],
   "source": [
    "re.sub(r\"\\[.+\\]\", \"\", fake_tok).strip()"
   ]
  },
  {
   "cell_type": "code",
   "execution_count": 199,
   "metadata": {},
   "outputs": [
    {
     "name": "stdout",
     "output_type": "stream",
     "text": [
      "Yup, that's true\n"
     ]
    }
   ],
   "source": [
    "if fake_tok not in sw and re.search(r\"\\[.+\\]\", fake_tok):\n",
    "    print(\"Yup, that's true\")"
   ]
  },
  {
   "cell_type": "code",
   "execution_count": 200,
   "metadata": {},
   "outputs": [],
   "source": [
    "re.sub(r\"\\[.+?\\]\", \"\", transcripts_dict['Tom Papa: Human Mule (2016) – Transcript'])\n",
    "re.search(r\"♪.+?♪\", transcripts_dict['Tom Papa: Human Mule (2016) – Transcript'])"
   ]
  },
  {
   "cell_type": "code",
   "execution_count": 201,
   "metadata": {},
   "outputs": [],
   "source": [
    "gen = (script for script in transcripts_dict.values())"
   ]
  },
  {
   "cell_type": "code",
   "execution_count": 202,
   "metadata": {},
   "outputs": [
    {
     "data": {
      "text/plain": [
       "'     \\n\\n\\n\\n\\n\\n\\n\\n\\n\\n\\n\\n\\n\\n\\n\\n Thank you.  Everybody have a seat, be comfortable, relax. I got to tell you… let’s go.  Thank you. I need you guys to know something. And I’m gonna tell you the truth, and don’t get freaked out. This is going to be my last special for a minute.  It is all good. Listen to me. I did it in Detroit for that reason.  That’s right. You wanna know why? ‘Cause I talked so much shit about Detroit in the first special I figured, I might as well, do the last special here. Sorry about that, by the way.  First of all, before I even start, I’m gonna say that “I’m rich and famous.”  And the only reason I say that is ’cause the last 17 months were hell, and I cannot imagine what everybody went through. Well, I’m happy to see you and I’m happy you’re well and I hope everyone you love is okay.  I don’t want you to worry about me, I’m… vaccinated, I…  got the Johnson & Johnson vaccine.  I got to admit, that’s probably the most n*ggaish decision I’ve made in a long time.  I walk in to the doc like, “Give me the third best option.”  I’ll have what the homeless people are having. So far, so good. And I know you probably heard on the news, I did get coronavirus. And it was something else. Like, okay first of all, when the doctor told me I had coronavirus I got to tell you, I was surprised how it made me feel. I felt dirty.  I felt gross. ‘Cause I’ve been walking around Texas just touching door knobs and shit, hands all moist. Tipping n*ggas with cash. “Here, take this to your family.”  I must have killed thousands of people. Just trying to get tonight’s show together so I hope you appreciate it ’cause a lot of n*ggas died for me to get this one off.   I hadn’t felt that dirty in a long time. Last time I can remember, feeling dirty like that, man, I must have been a little boy. I was being molested by a preacher.  But don’t feel bad for me, I liked it.  I used to get a kick out of cumming in that fellows face.  Well, he asked me to do it. They make you quarantine. I had to quarantine for ten days at least. They said “You’re gonna have to stay in the room,” I didn’t go nowhere. And it started making me nuts, ’cause I would just sit in the room and watch videos all day. Now, do you know what I was watching? And I hate to say this, but there was a lot of videos sadly, of Black people… beating up Asians for no reason. These attacks were unprovoked, I couldn’t believe it. And I was sitting in the room watching this shit, it would stress me out. I was stressed already because the whole time when you get coronavirus, at least the first five days you wait, and see how sick you’re gonna get. And it turns out, and this is true… I didn’t get sick at all.  Not a cough, not a booger, not a fever, nothing. Look at me I am the Magic Johnson of coronavirus.  I just sat in the crib and got stronger all week. But I was stressed, ’cause I kept watching these videos of my beloved Black people beating up my beloved Asian people, and being so cruel. And the whole time I watched those videos, this is fucked up but I couldn’t help but feel like… When I saw these brothers beating these Asians up. It’s probably what’s happening inside of my body.    I didn’t get sick. I also saw a lot of videos of UFOs. I mean, what the fuck has been going on with that shit? This n*ggas are here. These UFOs keep coming to Earth and it made me think of an idea for a movie. Sounds dumb, but hear me out. In my movie idea we find out that these aliens are originally from Earth. That they are from an ancient civilization that achieved interstellar travel and left the Earth thousands of years ago. Some other planet that they go to and things go terrible for them in the other planet so they come back to Earth and decide that they want to claim the Earth for their very own. It is a pretty good plotline, huh?  Yeah! I call it Space Jews.  Space Jews.  We loved it! Alright. It’s going to get worse than that, hang in there.  It is going to get way worse than that. Then I thought of an idea for a children’s book. I actually wrote it. It is coming out soon. The book is designed to help parents, teach their children about racism which, if you’re a parent you know is an impossible concept to teach to a child. But I’m doing it. The book is about a big, strong beautiful Black man with a benign, regular-ass White name… and he has a White speaking voice. So whenever this motherfucker calls to get a reservation at a restaurant, oh, he gets the reservation.  That name and that voice, who could resist him? Now I should tell you, this Black man is literally an actual giant. And he is a strong dude. And when he shows up to them restaurants they see that big giant Black dude they say “You can’t come in here.” And they call the police. And then every installment of the book the police come, and they always shoot him.  But remember, no, remember this guy is a giant, these bullets don’t kill him, they don’t even hurt him. They just break his heart. It is called Clifford, the Big Black N*gga, anyone?  This is my last special, because I have an objective tonight. I came here tonight… because this body of work, that I’ve done on Netflix I’m going to complete. All the questions you might have had about all these jokes I’d said in the last few years I hope to answer tonight. And I would like to start by addressing the LBGTQ community, correct.  And I want every member of the community to know that I’ve come here tonight in peace.  And I hope to negotiate the release of DaBaby.   Sad story! DaBaby was the number one streaming artist until about a couple of weeks ago. Took a nasty spill onstage, and said some… said some wild stuff about the LBGTQ community during a concert in Florida. Now you know, I go hard in the paint but even I saw that shit was like, “God damn, DaBaby.” He pushed the button, didn’t he? He pushed the button. Punched the LBGTQ community, right in the AIDS.  Can’t do that. Can’t do that. But I do believe and I’ll make this point later that the kid made a very egregious mistake. I will acknowledge that. But, you know a lot of the LBGTQ community doesn’t know DaBaby’s history, he’s a wild guy. He once shot a n*gga… and killed him, in Walmart. Oh, this is true, Google it. DaBaby shot and killed a n*gga in Walmart in North Carolina. Nothing bad happened to his career.   Do you see where I am going with this? In our country, you can shoot and kill a n*gga but you better not hurt a gay person’s feelings.  And this is precisely the disparity I wish to discuss. I have a question for the audience and this is a real question, I am not joking around. Is it possible, that a gay person can be racist?  Yes! Yeah! Do you really think so?  Yeah! Of course it is possible. Look at Mike Pence.   I am guessing, but I bet you, he is gay. Yeah.  Oh my God. And he is not pride parade gay either, he is sad gay. I feel bad for him. He looks like one of them gays that prays about it. Jesus, please take these dirty feelings out of my heart.  Please Jesus, make these buttholes ugly to me. I don’t want to keep on tasting these dicks.  Funny. You guys are confusing your emotions. You think I hate gay people and what you’re really seeing is that I’m jealous of gay people. I’m jealous, I’m not the only Black person, that feels this way. We Blacks, we look at the gay community and we go “God damn it! Look how well that movement is going.”  “Look how well you are doing.”  And we’ve been trapped in this predicament for hundreds of years. How the fuck are you making that kind of progress? I can’t help but feel like if slaves had baby oil and booty shorts…  …we might have been free a hundred years sooner. You know what I mean? If Martin Luther King was like, “I want everybody to get up on them floats. Get your bodies good and shiny.” I don’t hate gay people at all, I respect the shit out of you. Well, not all of you. I am not that fond of these newer gays. Too sensitive, too brittle. Those aren’t the gays that I grew up with, I missed them old school gays, n*gga. Them Stonewall n*ggas, them the ones that I respect.  They didn’t take shit from anybody, they fought for their freedom. I respect that shit, I’m not even gay and I want to be like a Stonewall n*gga. Them old school, gangster gays. Them glory hole n*ggas, them the ones I like.  These new gays don’t even know what the glory hole is. It’s a hole in the wall, that gay contractors build.  You want to know why they put that hole in the wall? I’ll tell you, there is no nice way to say it. ‘Cause when they want to have some fun they will put their penises in that hole and hope for the best. I respect that shit. It’s a lot of courage on both sides of that hole n*gga.  I’m not even gay and I want to try that glory hole out.   What if Martin Luther King had to integrate the glory hole? “I don’t care if it is Black lips back there or White lips back there a mouth is a mouth. A warm wet mouth.” I’m going all the way. I got into a fight. I almost got into a fight, it is complicated. I was in a bar in Austin, with my wife and it was during Covid, and a woman came to our table and she was maskless, and this bitch came over, no mask, all “H” words. “Hi, how are you?”  Droplets was coming out of this bitch’s face. We all covered our drinks. Ew! Baby, what are you doing? Now I looked over the table that she came from, and I peeped game. The men at the table were filming me. This happens when you’re famous. People will come over and try to rattle your cage and get you to say something stupid or dumb so that their buddies can film it and get a video of you embarrassing yourself. And clearly I said, “This is what is happening.” And these dumb motherfuckers thought, it was my first rodeo.   Sadly it worked.  I ran right over there, I said… I pointed right in the camera I said, “You is a bitch-ass n*gga for doing this to me.”  And the dude was shocked that I said it. He said “Huh?” And when he did like this, I’ve seen all his fingernails is painted and I realized like, “Oh-oh.”  “This fellow is gay.” Yeah, you know how I talk. I call everybody a bitch-ass n*gga. You know what I mean? But that is not a right thing to do if they’re gay. You know what I mean? And now I was in trouble and not only that, the motherfucker was huge. He stood up, he was towering over me. He must have been 6′ 5″, a big White corn-fed Texas homosexual, this n*gga was ready to fight. And he started barking on me, but I stood my ground, I wasn’t scared. How could I be scared? This motherfucker’s shirt was tied up in a knot like this. Oh, fuck this guy. Let’s go, n*gga, let’s go. I thought we were going to come to blows. I was ready and then right when you think we would fight, guess what he did? He picked up his phone and he called the police. And this, this thing I am describing is a major issue that I have with that community. Gay people are minorities, until they need to be White again.   I’m being very brutally honest, so we can solve this problem. I’m telling you right now a Black gay person would have never done that to me. ‘Cause a Black gay person knows, when the police shows up they’re not going to care who called ’em. They don’t show up like, “Which one of you n*ggers is Clifford?”  We’re all Clifford. This happens far too often. Another time, about six years ago, there was a lesbian woman that tried to sell a story about me to TMZ. Thank goodness, TMZ could see right through the sham of that story. This woman claimed that I beat her up in a night club because she was a lesbian. That is fuckin’ crazy. Bitch, I didn’t even know you was a woman.  Thank God! TMZ didn’t believe that because I did beat the shit out of her, I am not gonna lie.  It was her fault, I had no choice. I came into the club minding my own business and a woman came up to me, and she goes “Oh my God, Dave Chappelle.” And I was just being reciprocally nice. “Hey, miss, how are you?” Blah, blah, blah. Benign talk, nothing to it. And all of a sudden this lesbian fellow stepped between us. “Hey n*gga, that’s my girl!” I said, “Yo, my man, back up.” Like that. She said, “I ain’t backing up off shit, n*gga, that’s my girl!” I said, “Bro, you gonna have to give me three feet, like this.” She said, “Stop calling me a man, motherfucker.” I am a woman.” I said, “What?”  And then I looked deep in this n*gga’s cheek bones. And I said, “Oh my God, you are a woman.” This is too much for me to even wrap my mind around but I tell you what, I un-balled my fist immediately and I softened my posture so that she would know, she is in no danger. I even changed the tone of my voice. I said softly, sweetly, like a pimp might say.  “Bitch, I’m ’bout to slap the shit out of you.”  I should have done it. Oh, I wish I didn’t say that. She dropped that foot back, she was in a perfect southpaw stance. Her shoulders were angled correctly, her head movement was good, I said “Oh, no! this bitch boxes for real.” She threw a wild hook at me and I saw it coming from yesterday, so I slipped it like this… I had no choice, I had to go to work. I let that jab go, you should have seen me go n*gga. I tenderized them titties like chicken cutlets.  I whooped the toxic masculinity out of that bitch.  That is why I don’t go out no more. Just trying to chill, I’m just trying to live a peaceful life. That’s why I live in Ohio, you know, I live in a little town in Ohio. Must be like 3700 people, small hippie town. Culturally you might feel like, like Ann Arbor to you.  You know what I mean? Bunch of hippies and shit like that. And n*ggas always ask me like, “Dave, why do you live in that hippie town?” And I’d be embarrassed to tell ’em the truth. Well, you know why I live there? Because Yellow Springs, Ohio has the most beautiful women in the world. And a lot of people might disagree with me but, you got to see them for yourself, they’re gorgeous. But it all depends on what you’re into. You know what I mean? I like White bitches with dirty feet.  If I had a strip club in Yellow Springs, I would have called that shit “Strippies.” All naked hippies, all the time. And I would only hire girls with long titties and long vagina head that looks like they slept on it. And I would keep a pile of dirt, right next to the stage. I’d come up like, “Bitch get your feet in that dirt and get up there and give those people what they came to see.” “Chalk up, bitch.” Couple of years ago I was in Ohio, at a shopping mall. An old White lady… This is true, she was following me around the mall. Which sounds paranoid, but I’m sure she was following me. Mean lady too. You ever see a woman with lines on her face? That just tell you like… even if she’s smiling, it would look like it would hurt the muscles in her face. I knew she was following me, ’cause she was at places that had nothing to do with her I’d be looking around like, “What is this old bitch doing in Gamestop and Footlocker and all the places I like to go?” Every time I see her, she’d just be looking mean on me. And eventually I forgot about it. So, then after, I am shopping I go all the way to the back of the parking lot, I’m parked all the way in the back and as soon as I open my car door I hear a voice go, “David Chappelle.” Just like that. I didn’t even have to look, I knew it was her. And I looked back and sure enough there she was, that face. To be honest with you, she probably wasn’t even that old. She’s probably around my age. But she was a White woman, this bitch looked terrible.  I’m going all the way. I kept my cool, I was nice. I said, “Hello, miss.” And she didn’t say anything back, all she said was “I watch your comedy.” I said “Oh-oh.” And then she says, this is true, she goes, “Sounds to me… like you, hate women.” I said, “Well, you know what, miss? It’s art.” You are free to interpret this art however you like but I can tell you as the maker of this art that I don’t believe that I feel that way. And she said, “Well, I think…” And I said, “Shut up, bitch! Shut the fuck up!”  “Before I kill you and put you in the trunk. Ain’t nobody around here.”  I’m just kidding, I didn’t say that. I felt that way, but that’s not what I said. I was more clever than that. You know what I said? And this is exactly what I said, I said, “Miss, before you finish that statement, let me ask you a question. Where did you see me? Did you buy a ticket to a concert I did, I doubt that. Or, maybe you watched one of my specials on Netflix. Or… Or… Did I follow you to your car and do my act?” She said, “What?” I said, “Keep it in the comments section, bitch, this is real life, ta-ta.”   And then I drove off. And now I got to tell you and this is gonna surprise some people here, but not everybody. People say things to me all the time but what you don’t know, is it does affect me. I think about it. And that one bothered me a lot, I was driving home, couldn’t stop thinking about what this woman said because she is not the first woman that said that to me. It’s puzzling. You know what I mean? Like, what could I possibly be saying… that would make these bitches think, I hate women.  Couldn’t figure it out. So, you know what I did? I Googled the dictionary definition of a feminist just to make sure, I was talking about the right thing. And do you know, sir, what the dictionary definition of a feminist is? I didn’t either, listen to this. Webster’s defines a feminist as a human being, not a woman, a human being, that believes in equal rights for women. I was shocked, ’cause that is what that meant ’cause by that definition I would consider myself a feminist, and I didn’t even know that at the time.  All these years, I thought it meant frumpy dyke.  Well, that seems always talking to be some… chick in overalls, “Men are trying to rape us.” “Ah, not you bitch, will you please…”  I know, look, listen, I support the feminist movement, I do in my own ways. Well, you guys did the women’s march, I tried to go and support you and none of my friends would go with me. I asked all the fellows, none of them wanted to go. I tried everything. “Come on y’all, there’s gonna be bitches there.” They was like, “Nope.”  So what I did is, I called my friend Anj. Anj is a Black woman who is a comedy writer and she’s dope. A matter of fact, a matter of fact, she’s the only woman, that I know personally that pays her ex-husband alimony. And she sounds just like a man when she does it. “Fuck that broke motherfucker” and all that, she says all that shit.  So I hit Anj up, I hit her on the text and all I did, I texted. I said, “Anj, are you going to the women’s march?” And she texted me back, and this is a real text, she said… she said, “I hope those White bitches get tear gassed.”  There is a problem in that feminist movement, isn’t there? From its inception in America there has always been a racial component. When Susan B. Anthony was having that meeting and Sojourner Truth’s Black ass showed up. Read your history books. All the White women asked Sojourner Truth not to speak. They didn’t conflate the issues of women’s rights and slavery. But you know how Black bitches are, so Sojourner Truth went up there anyway.   She did a famous speech, she said “Ain’t I a woman?” “Ain’t I a woman?” That’s right. And listen, listen, listen. I supported the “Me Too” movement, but the whole time, the whole time I thought that the way they handled it was stupid.  It was, it was White, it was like… they were doing shit, like going to the Golden Globes and all of them would be like “Let’s all go to the Golden Globes and wear black dresses. And give these men a piece of our minds.” Bitch, that is not gonna work. You think Martin Luther King is gonna be like, “I want everybody to keep riding the bus, but wear matching outfits.”  You got to get off the bus and walk. It’s real talk. A real talk, that was a silly movement. “I want everybody to wear crochet pussy hats so they know we are serious.” What the fuck was y’all doing? And then I said something about it in one of my specials and all these women actresses came after me. I said, “Man, fuck y’all too, you canceled. I ain’t jerking off to none of your pictures again.”   They were like, “Who is he to tell us anything?” I’ll tell you exactly who I am. I’m the one that got off the bus and left $50 million on the bus and walked.  I agreed with these women. I just didn’t agree with what they were doing about it. Right. Right. No, it was annoying as fuck… because if these women were serious, you know what they would have done? They all would have fired their agents. And they would have went to the mailroom of one of these big agencies and found a woman that was bustin’ her hump in there and said, “If you want to talk to us then you have to talk to her.” And if they did that, then she would be big, and they would be big and nobody would get fed to Harvey Weinstein. But did they do that?  No! No. Was that their idea? No. Surprisingly it was mine. What I think, the feminist movement needs to be very successful… is a male leader.  I’ll do it. I will. I will lead you women to the promised land. I will make sure you will get equal pay for equal work. I will make sure that nobody harasses you or fucks with you on the job. I will protect all of your interests. And all that I ask for in return… is that you suck my dick.  And now, we’re right back to square one, aren’t we? And now we get to the core of the crisis. What… what is a woman? What is that, in this day and time? Is there even such a thing as a woman or a man or anything? Hmm. Hmm? Seems to be a question nowadays. Now listen, women get mad at me gay people get mad at me, lesbians get mad at me, but I’m gonna tell you right now, and this is true… these transgenders… the n*ggas want me dead.  I’ve gone too far, I’ve said too much. But I got to tell you, I’m very worried about it. I’m not even joking with you. Every time I come out onstage, I be scared. I be lookin’ around the crowd, searching. For knuckles and Adam’s apples to see where the threats might be coming from. A n*gga came up to me on the street the other day. He said, “Careful, Dave, they after you.” I said, “What?” “One they, or many theys?”  Before I even say anything about that community you must know and I hope you all feel the same way I am not indifferent to the suffering of someone else. There’s laws, the mean laws in our country. North Carolina passed a law once. They said a person in North Carolina must use the restroom that corresponds with the gender they were assigned on their birth certificate. No, no, no, no. No, that is not a good law. That is a mean law. No American should have to present a birth certificate to take a shit at Walmart, in Greensboro, North Carolina where DaBaby shot and killed a motherfucker.  You have to ask yourself, if you’re thinking about it, who are these laws designed to protect? Like let’s say they designed this law to protect me, my interests, transphobic comedian, Dave Chappelle. Let’s say I’m in Walmart, doing a little shopping with my family. Now I should tell you if that ever happens in real life, you should know my dreams didn’t work out.  Well let’s say something goes horribly wrong and there I’m in Walmart with the poor Whites rummaging around for mediocre goods and services.  And then I got to go to the restroom. So, I excuse myself from my family. I go to the men’s room. Now I’m standing at the urinal, taking a leak. And this is what this law is gonna do. And suddenly a woman walks into the men’s room. I’m like, that’s strange. And then she stands shoulder to shoulder with me at the urinal, I’m gonna be like, “Bitch, what’s going on with you?”  And then she hikes her skirt up and she pulls a real live, meaty dick out!  What do you think I am going to say? Thank God, she’s in here with me. At least now I know my family is safe. Mm-mm. No, I’m not gonna feel that way at all, I’m gonna feel very uncomfortable. I would feel better if it was a man with a vagina that backed up to the urinal next to me.  I wouldn’t even think about that, I’d just be like, “That’s funny.”  “This guy is peeing out of his butt for some reason.” “Oh my God, he must be a Veteran, thank you for your service.” I’m not indifferent to people’s suffering ’cause I know it’s hard to be everybody. We Blacks, we just got our first big holiday in a long time. Happy belated Juneteenth to the Blacks.  Juneteenth is a strange holiday, isn’t it?  Yes. It commemorates when Black people in Texarkana area of the country first found out that they were free. But remember, they were free when they found out. They just didn’t know it yet. Very interesting holiday. You know, I learned something This is a wild story. I learned this past Juneteenth of a story, this is true. And it’s that there was a Black man who was in South Carolina during slavery who somehow got granted his freedom by his so-called master. And when his master granted him the freedom he also gave him a plot of land. Now it turns out, this brother was brilliant. He had a good eye, good knack for farming. And he farmed this plot of land very successfully and made a lot of money, and this is where the story gets crazy. When he got all that money… this n*gga brought some slaves.  Have you ever heard this before? This is a true story. Not only was he a slave owner, he became a slave breeder. And employed tactics that were so cruel even White slave owners were like, “Yo, my man.”  He was a wild dude, but he did it just because that’s what successful people did at the time. He just wanted to be down, what a fuckin’ tragedy. How can a person that went through slavery perpetuate the same evil on a person that looks just like him. It’s mind blowing. And shockingly, they’re making a movie about him. Ironically… it is called Space Jews.   Space Jews.  The point of that story is this person was invested in a construct. That was the construct of successful people and he just followed the roadmap of successful people. He followed what they called “an incentive.” Now, everyone struggles but I’m very invested in the gender construct, personally. ‘Cause I’m a man with kids, and a wife, and I like that warm, wet soft pussy that my wife has.  This does not mean that I feel like another point of view can’t exist. I was doing a night club in Oakland, 16 years ago and this was the first time that the trans community ever got mad at me that I knew about. And then I was nobody, I had just quit Chappelle Show. It was like a nothing hole in the wall club and I was doing some transgender jokes in Oakland, it was 16 years ago. My pronoun game was not as nice as it is today. I went too far, I said things like tranny and shit I didn’t know these words were bad, and a woman stood up and just gave me the business. Started screaming at me, and I’m sure it was a woman. But she kept calling me transphobic and all this shit I had never even heard these words before, it was really weird. I didn’t trip, I just gazed at Security to look like, “Go on, get that bitch out of here.”  I kept it moving. And then she went to the press. The next day one of the gay papers wrote all of the same things she had said to me, about me in the paper. Misquoted the jokes, and was calling me transphobic you know, these words, I had never heard them before but every time that I talked with anybody from the community since they always repeat the talking points from that article. My least favorite of which being, I hate this phrase they say, “I was punching down on them.” “Punching down”, what the fuck does that mean? Now fast forward. It is 2019. And I am in a restaurant in Ohio, very nice restaurant. It’s Thanksgiving week. And to be honest, it is not a very nice restaurant, but it is a nice restaurant, if you’re a White person from Ohio that has never been anywhere before.  Picture Chili’s.  I’m sitting in the bar, I’m having a drink by myself and the only other person in the bar is a woman, a couple of stools down. And she was alone, and she was older, and that made me feel sad, ’cause it was the holidays. So, I told the bartender, “Send that woman a drink on me.” Just trying to spread the cheer, and I wish I didn’t. This woman wanted to talk. She wasn’t mean, she was nice, but she just wanted to talk about shit that you know, I mean a n*gga just trying to get drunk don’t want to hear about this bitch remodeling in her bathroom. And I’m sitting there, trying to be polite. Oh, subway tiles? Word. But then she hits a lick. Piqued my interest. She says, “My daughter is coming home for the holidays.” Like, “Oh, that is great news, I’m glad you’re not going to be alone.” And then she goes on and on about how great her daughter is. I guess her daughter got a new agent and she is out in Hollywood, she’s in movies and on television and all this stuff and as she’s telling me this, I’m thinking, this woman is so sweet. She probably doesn’t even know who I am. Or what I do for a living because I know what your daughter’s is out in Hollywood doing.  And then she goes, “Would you like to see her picture?” “Oh now I don’t want to see this woman’s picture, but what am I gonna do?” I’m like, “Okay sure, I’d love to see the picture.” And I grab the picture and this is all I say, this is all I say, “Oh… she is very beautiful.” And as she puts the picture away she… looks mean all of a sudden, like she caught me in some kind of trap. “What did that face mean?” And then she goes, “She’s transgender.” And I think to myself, “Oh, this bitch does know who I am.”  I really resented that trap because that trap doesn’t let me be honest. If I was honest, I wouldn’t have fallen for it. I’d have just looked at the picture like, “Look at that big chiseled jawline, that big thick Joe Rogan neck. Is that a dude? Is your daughter a man?” Can’t say that shit. It’s really annoying. Fast forward, now it’s a couple of days later. It’s the Wednesday… before the Thursday that’s Thanksgiving, and I’m in a totally different bar and this bar, trust me, is not a nice place. It’s foul, it’s one of those bars where the top shelf should be under the sink.  This is where the poor Whites drink. The Tiki torch Whites. You know what I mean? Them White people, they believe in “Q” and they love Trump. You know what I mean? Like Michigan White people.   I remember I was at this bar one time, it was that kind of bar it is. I was in there one time, I was fucked up and I turned around to everybody in the bar and go “Hey everybody, I am going to buy everyone in the bar a round of drinks.” And all the motherfuckers was like, “Hurrah!” And the bartender knew I was drunk, so she pulled me aside. “Mr. Chappelle, are you sure about that?” That’s going to be 16 dollars.   Tough time for the Whites. And this was a holiday weekend. You know what I mean? These motherfuckers were having a rootin’ tootin’ time. They was in there partying, making all them noises. “Ooh! Ow! Yeow!” You know all them noises White people make before lynching? They was doing all that shit.  I was drunk. I looked over my shoulder, I thought I was trippin’. Guess who was in the bar? I thought I was seeing things, I looked across the room and I saw… the trans-bitch from the picture.  I couldn’t believe it. I said “What is a trans person, doing in a place like this? This is very dangerous behavior.” And she was with, two big, buff, gay Black dudes. I didn’t know these dudes, but I know they was gay. If they had a dick in their mouth, they wouldn’t look any gayer than they did just sitting there.  They had 1980s gay face. You know what that is? Remember in the ’80s when gay people looked surprised all the time.   “Close your mouth, n*gga, what is surprising”, you know what I mean? But they was huge, they looked like Jussie Smollett’s trainers.  And I am thinking, “Man these motherfuckers are in a lot of trouble.” So what I do is I stand up and everybody in the bar likes me, so I make a big show of it to make sure that everyone can hear me. Now, I walk right up to her, and I go “Hey! I just met your mother the other night and she told me all the great things you’re doing in Hollywood. And I cannot believe that someone from a podunk place like this can achieve all that, I’m so proud of you. Welcome home.” And the whole bar said “Hurrah!” And I said “Phew.” “That ought to buy her some time.” You know what I mean? A couple of more drinks and these fellows are gonna start asking her for some pussy, she might not have.  And she was very gracious. She said “Thank you so much”, and we shook hands and as she was shaking my hand, her face turned mean, like her mom’s. And she said, “Do you mind, not punching down on my people?” Oh, I don’t like that. Normally, I would’ve let it go, but I was drunk.  I said, “What might you mean, bitch?”  I was careful to call her a bitch, ’cause I didn’t want to blow her cover.  Turns out she wasn’t hiding. She was loud, she was proud. She let me have it in front of everybody. Screaming at me, all the talking points from that article. You transphobic, this and that. Kept clapping her hands in my face. “Let me tell you somethin’.” I said, “Where did you learn this from, Black bitches?” She kept going, “Let me tell you something, honey.” So annoying. She kept calling transgenders, her people. Ain’t that weird? “My people this, my people that.” I said, “What do you mean, your people?” Were you all kidnapped in Transylvanian, brought here as slaves?  She said, “My people have struggled for decades, honey, decades.” And I looked at them gay Black dudes, like. “Is there anything you n*ggas need to tell this bitch?  Clifford, Clifford?”  I am exaggerating, she is actually a very nice person and I’m cool with her now, but boy, that shit got on my nerves. And it got on my nerves because, whenever someone says that to me I know they have never seen me for themselves, they just repeat what they’ve heard. Any of you, who have ever watched me know that I’ve never had a problem with transgender people. If you listen to what I’m saying, clearly my problem has always been with White people.   I’ve been arguing with the Whites my entire career. Just when I thought I had you guys on the ropes you changed all the rules. “Oh yeah?” – Yeah, motherfucker! – “Well.” I am a girl now, n*gger. You must treat me as such.  “Call me a girl, n*gger.” It’s annoying as fuck. No, no, go back, go back tonight after the show, watch every special I did on Netflix. Listen to everything I’ve ever said about that community. I’ll go through ’em. I said, “How much do I have to participate in your self image?” I said, “You shouldn’t discuss this in front of Black people.” I said, “I know n*ggas in Brooklyn that wear high heels just to feel safe.” I asked you “Why is it easier for Bruce Jenner to change his gender than it is for Cassius Clay to change his name?”   If you listen to what I’m saying, I’m not even talking about them, I’m talking about us and “they don’t listen.” It’s very annoying. And they have canceled people, more powerful than me. They canceled J.K. Rowling, my God. J.K. Rowling wrote all the Harry Potter books by herself. She sold so many books, the Bible worries about her.  And they canceled it because, she said in an interview and this is not exactly what she said, but effectually she said that gender was a fact. And then the trans community got mad as shit, they started calling her a TERF. I didn’t even know, what the fuck that was. But I know that trans people make up words to win arguments.  So I looked it up. TERF is an acronym. It stands for Trans-exclusionary radical feminist. This is a real thing, this is a group of women… that hate transgender. They don’t hate transgender women but they look at trans women the way we Blacks might look at Black face. It offends them like, “Oh, this bitch is doing an impression of me.”  Now I shouldn’t speak on this because I’m not a woman nor am I a trans. But as we’ve established… I am a feminist.  That’s right.  I’m team TERF. I agree. I agree, man. Gender is a fact. You have to look at it from a woman’s perspective. Look at it like this, Caitlyn Jenner whom I have met, wonderful person. Caitlyn Jenner… was voted, woman of the year. Her first year as a woman. Ain’t that something? Beat every bitch in Detroit. She’s better than all of you.  Never even had a period, ain’t that something?  I’d be mad as shit if I was a woman. I’d be mad if I was me. If I was in the BET awards, sitting there and they’re like “And the winner for n*gger of the year… Eminem.” My man.  Gender is a fact, this is a fact. Every human being in this room, every human being on Earth had to pass through the legs of a woman to be on Earth. That is a fact.  Now… I am not saying that to say, that trans women aren’t women. I’m just sayin, that those pussies that they got… You know what I mean?   I’m not saying it is not pussy, but that’s like Beyond Pussy or Impossible Pussy. You know what I mean? It tastes like pussy but that’s not quite what it is, is it? It’s not blood, that is beet juice.  Oh buddy, I’m in trouble now.  Before I go, I want to share this story with you because it is important to this point. I want your community to know that one of the coolest people I ever met was a transgender woman. And this is not a man that I knew that became a woman, this woman was trans when I met her. Lived in San Francisco, Daphne Dwarman is the name. I would do 18 shows in the Bay Area sometimes in Oakland and Dirty Hood night club and she would be there, white trans woman, laughing loud and hard, at everything I said. Especially the trans jokes, very puzzling… because she was obviously trans. And one night after one of the shows I met her. And what it was, turns out it was her dream to be a comedian. And I was her hero. It was very moving. I could not dislike somebody that felt that way about me. We became fast friends. And when I made that special Sticks and Stones right as it was coming out, I happened to be in San Francisco and I wanted to do a show. But I needed an opening act, and I remembered… that trans woman I had met, so I called her on the phone. And I called her myself, I said, “Hey Daphne, this is Dave Chappelle.” She couldn’t believe it. And I go, “I’m in San Francisco.” And then she started saying a bunch of wild stuff, I was like “Relax now, I don’t want any pussy, I was…  I’m just calling, because I’m doing a show and I need an opening act. And I was wondering if you’d open the show?” And she was like, “Fuck, yeah.” Now… I didn’t know this at the time but this woman had only done stand up comedy eight times in her life. This was little to no experience and now she’s about to open a show for what many call the GOAT.   She’s an amateur in stature, but in practice, she was very professional. She showed up early, which is something I appreciate ’cause I like people to be on time. She was dressed to the motherfuckin’ nines, I mean, I’m transphobic and even I was like, “You look nice.”  Went up on the stage with all the swag of a professional comedian, grabbed that mic and walked right down the middle and looked at the crowd like a gangster. Man, you should have seen her work. This bitch bombed for 45 minutes, straight.  And I’m not exaggerating, young man. That show was terrible. Stunk. Stunk. And then she brings me on, and you know, I was like a glass of water after a handful of salt. The crowd was happy to see me. I was killing it. But here is what impressed me. Any other comedian I’ve ever seen, if they had bombed as bad as she did, would have snuck out of the back of the theatre and went home and cried or something, but she didn’t do that. Not only did she not leave, she found a seat, right up in front. You know, when a new comedian watches an experienced comedian in comedy we call this “taking class.” And this bitch took my whole class, she sat up there and was laughing as hard as she always laughs as if nothing bad had even happened to her. And I saw her show. Something bad happened to her.  She was drunk. So she starts talking to me, while I’m onstage but the way a person would talk to a television when they were alone. She was talking to me like that. That didn’t bother me ’cause I knew her. But the crowd didn’t like that shit at all ’cause she sucked. And a guy in the back of the room stood up and Daphne’s hair was dyed blonde at the time and the guy screamed out, and his energy felt wild as fuck. He said, “Hey Daphne!” and everybody got clamped, they got tense. We didn’t know who was a heckler or active shooter, and…  …he said, “Does the carpet match the drapes?” It was fucked up. The whole crowd kind of groaned, ’cause it was so like, mean. Everybody groaned, except for Daphne. She kind of laughed, which was weird. And she didn’t even look all the way back. She said, “Sir, I don’t have carpets I have hardwood floors.” Just like that.  Just like that.  Boy, when she said that shit, it blew the roof of the place. Cut through all the tension, with that one joke. She had made up for 45 minutes of a stinker of a show. And after that, she could do no wrong. And I kept on rocking, and she kept on talking to me. And then the show became something cooler than a show. It became like a conversation between a Black man and a White trans woman and we started getting to the bottom of shit. All of them questions that you think about that you’d be afraid to ask, I was just asking them and she was answering them and her answers were funny as shit. The crowd was falling out of their chairs and at the end of the show, I go, “Well, Daphne”… I said “Well, that was fun.” I go, “I love you to death, but I have no fuckin’ idea what you’re talking about.” The whole crow laughed except for Daphne. Man, she looks at me like I’m not her friend anymore. Like I’m something bigger than me, like I’m the whole world in a guy. Then she said, “I don’t need you to understand me.” I said, “What?” She said, “I just need you to believe…” Just like that she goes, “…that I’m having a human experience.” And when she said it the whole crowd kind of gasped. And I gave the Fight Club look. I said, “I believe you, bitch.”  Because she didn’t say anything about pronouns. She didn’t say anything about me being in trouble. She said, “Just believe I’m a person and I’m going through it.” I know I believe you, because it takes one to know one.  Then I told the crowd “Good night.” And they started going crazy and before the applause gets to it’s crescendo I was saying, “Don’t forget my opening act, Daphne.” And the crowd stood up. And I looked at her, tears came out of her eyes she couldn’t believe it was happening. I couldn’t believe it was happening ’cause her show stunk.  And it was a great night. And I remember, the late great Paul Mooney was there bunch of flyers, comedy n*ggas was there.   And we all went backstage and was just drinking and talking shit and laughing and Daphne stole the room, she had everyone cracking up. Spinning the yarn, telling us all these crazy stories about shit, she’d be into. We all laughing real hard, and there she is telling us and everyone is laughing. I’m looking around, I’m like, “Oh my God, she is funny.” I pulled her aside, I said, “You’re hilarious. I didn’t know that when you were onstage.”  I said, “You’re doing some things wrong but I can help you.” I said, “Anytime I’m in San Francisco why don’t you open the show for me and I’ll just try to give you some pointers and see if you can work this thing out.” She said, “Are you serious?” I was like, “Yeah.” And she grabbed me real tight, hugged me, squeezed me. And I pushed her off violently, ’cause I’m transphobic. I said “Boundaries, bitch!”  When Sticks and Stones came out… a lot of people in the trans community were furious with me and apparently they dragged me on Twitter. I don’t give a fuck, ’cause Twitter is not a real place.   And the hardest thing for a person to do is go against their tribe if they disagree with their tribe, but Daphne did that for me. She wrote a tweet that was very beautiful and what she said was and it is almost exactly what she said. She said, “Punching down on someone, requires you to think less of them and I know him, and he doesn’t. He doesn’t punch up, he doesn’t punch down he punches lines, and he is a master at his craft.” That’s what she said.  Beautiful tweet, beautiful friend, it took a lot of heart to defend me like that, and when she did that the trans community dragged that bitch all over Twitter. For days, they was going in on her, and she was holding her own ’cause she’s funny. But six days after that wonderful night I described to you my friend Daphne killed herself. Oh yeah, this is a true story, my heart was broken. Yeah, it wasn’t the jokes. I don’t know if was them dragging or I don’t know what was going on in her life but I bet dragging her didn’t help. I was very angry at them, I was very angry at her. I felt like Daphne lied to me. She always said, she identified as a woman. And then one day she goes up to the roof of her building and jumps off and kills herself. Clearly… only a man would do some gangster shit like that. Hear me out. As hard as it is to hear a joke like that I’m telling you right now, Daphne would have loved that joke. That is why she was my friend.  I was reading her obituary and I found out, she was survived by a daughter. And the moment I found that out, and this is true Anderson Cooper from CNN texted me. And all he says, it’s very nice, he said, “I’m sorry to hear about your friend.” And I texted him right back. “New phone, who this?”  He said, “It’s Anderson Cooper.” Oh, I said, “Anderson, look I need to find her family.” And he texted me right back with all the phone numbers and all this information. I say this to say, if you ever want to know about anything gay call Anderson Cooper from CNN. This n*gga is faster than Google.  What I did is, I got in touch with her family and I started a trust fund for her daughter ’cause I know that is all she ever really cared about.  And I don’t know what the trans community did for her but I don’t care, because I feel like she wasn’t their tribe, she was mine. She was a comedian in her soul.  The daughter is very young, but I hope to be alive when she turns 21 ’cause I’m going to give her this money myself. And by then, by then, I’ll be ready to have the conversation that I’m not ready to have today. But I’ll tell that little girl, “Young lady, I knew your father…  …and he was a wonderful woman.”   Empathy is not gay. Empathy is not Black. Empathy is bi-sexual. It must go both ways. It must go both ways.  Remember, taking a man’s livelihood is akin to killing him. I’m begging you, please do not abort DaBaby.   Kevin Hart dreamt his entire life of hosting the Oscars and when he finally got the job they just took it! It’s not fair. They didn’t kill him, Kevin is a strong guy. But I’m sure it broke old Clifford’s heart. It’s over. LBGTQ, L-M-N-O-P-Q-Y-Z, it is over. I’m not telling another joke about you until we are both sure, that we are laughing together. I’m telling you this is done. I’m done talking about it. All I ask from your community, with all humility will you please stop punching down on my people? Thank you very much and good night.  \\n\\n\\n\\n \\n\\n\\n\\n\\n\\n\\n \\n\\n\\n\\n\\n\\n\\n\\n\\n  It took all the strength I had ♪\\n\\n\\n\\n\\n\\n\\n\\n\\n\\n\\n\\n\\n\\n'"
      ]
     },
     "execution_count": 202,
     "metadata": {},
     "output_type": "execute_result"
    }
   ],
   "source": [
    "re.sub(r\"\\[.+?\\]\", \"\", re.sub(r\"♪.+?♪\", \"\", re.sub(r\"♪♪.+?♪♪\", \"\", transcripts_dict['Dave Chappelle: The Closer (2021) | Transcript'])))"
   ]
  },
  {
   "cell_type": "code",
   "execution_count": 203,
   "metadata": {},
   "outputs": [
    {
     "data": {
      "application/vnd.plotly.v1+json": {
       "config": {
        "plotlyServerURL": "https://plotly.com"
       },
       "data": [
        {
         "alignmentgroup": "True",
         "customdata": [
          [
           0,
           "Jim Gaffigan: Comedy Monster (2021) | Transcript"
          ],
          [
           1,
           "Louis C. K.: Sorry (2021) | Transcript"
          ],
          [
           2,
           "Drew Michael: Drew Michael (2018) | Transcript"
          ],
          [
           3,
           "Drew Michael: Red Blue Green (2021) | Transcript"
          ],
          [
           4,
           "Mo Amer: Mohammed in Texas (2021) | Transcript"
          ],
          [
           5,
           "Dave Chappelle: The Closer (2021) | Transcript"
          ],
          [
           6,
           "Kathleen Madigan: Bothering Jesus (2016) – Transcript"
          ],
          [
           7,
           "Kathleen Madigan: Madigan Again (2013) – Transcript"
          ],
          [
           8,
           "Phil Wang: Philly Philly Wang Wang (2021) – Transcript"
          ],
          [
           9,
           "Tom Papa: You’re Doing Great! (2020) – Transcript"
          ],
          [
           10,
           "Tom Papa: Human Mule (2016) – Transcript"
          ],
          [
           11,
           "Tom Papa: Freaked Out (2013) – Transcript"
          ],
          [
           12,
           "Bo Burnham: Inside (2021) – Transcript"
          ],
          [
           13,
           "Tig Notaro: Boyish Girl Interrupted (2015) – Transcript"
          ],
          [
           14,
           "Joe List: I Hate Myself (2020) – Transcript"
          ],
          [
           15,
           "Nate Bargatze: The Greatest Average American (2021) – Transcript"
          ],
          [
           16,
           "Brian Regan: On The Rocks (2021) – Transcript"
          ],
          [
           17,
           "Doug Stanhope: Beer Hall Putsch (2013) – Transcript"
          ],
          [
           18,
           "Chris Rock Total Blackout: The Tamborine Extended Cut – Transcript"
          ],
          [
           19,
           "Sarah Cooper: Everything’s Fine (2020) – Transcript"
          ],
          [
           20,
           "Bo Burnham: Words, Words, Words (2010) – Transcript"
          ],
          [
           21,
           "Vir Das: Outside in – The Lockdown Special (2020) – Transcript"
          ],
          [
           22,
           "Larry the Cable Guy – Remain Seated (2020) – Transcript"
          ],
          [
           23,
           "Craig Ferguson: Just Being Honest (2015) – Transcript"
          ],
          [
           24,
           "Kevin Hart: Zero F**ks Given (2020) – Transcript"
          ],
          [
           25,
           "Sam Morril: I Got This (2020) – Transcript"
          ],
          [
           26,
           "RONNY CHIENG: ASIAN COMEDIAN DESTROYS AMERICA (2019) – TRANSCRIPT"
          ],
          [
           27,
           "Craig Ferguson: A Wee Bit o’ Revolution (2009) – Transcript"
          ],
          [
           28,
           "MICHAEL MCINTYRE: SHOWMAN (2020) – TRANSCRIPT"
          ],
          [
           29,
           "ROB SCHNEIDER: ASIAN MOMMA, MEXICAN KIDS (2020) – TRANSCRIPT"
          ],
          [
           30,
           "Sam Jay: 3 in the Morning (2020) – Transcript"
          ],
          [
           31,
           "Jack Whitehall: I’m Only Joking (2020) | Transcript"
          ],
          [
           32,
           "URZILA CARLSON: OVERQUALIFIED LOSER (2020) – FULL TRANSCRIPT"
          ],
          [
           33,
           "GEORGE LOPEZ: WE’LL DO IT FOR HALF (2020) – FULL TRANSCRIPT"
          ],
          [
           34,
           "JIM JEFFERIES: INTOLERANT (2020) – FULL TRANSCRIPT"
          ],
          [
           35,
           "George Carlin: Doin’ It Again (1990) – Transcript"
          ],
          [
           36,
           "ERIC ANDRE: LEGALIZE EVERYTHING (2020)"
          ],
          [
           37,
           "ROY WOOD JR.: FATHER FIGURE (2017) – FULL TRANSCRIPT"
          ],
          [
           38,
           "Mark Normand: Don’t Be Yourself (2017) – Transcript"
          ],
          [
           39,
           "Chris Gethard: Career Suicide (2017) – Transcript"
          ],
          [
           40,
           "RAMY YOUSSEF: FEELINGS (2019) – FULL TRANSCRIPT"
          ],
          [
           41,
           "KENNY SEBASTIAN DON’T BE THAT GUY (2017) – FULL TRANSCRIPT"
          ],
          [
           42,
           "BILLY CONNOLLY: HIGH HORSE TOUR LIVE (2016) – FULL TRANSCRIPT"
          ],
          [
           43,
           "Hannah Gadsby: Douglas (2020) – Transcript"
          ],
          [
           44,
           "Hasan Minhaj: Homecoming King (2017) – Transcript"
          ],
          [
           45,
           "PATTON OSWALT: I LOVE EVERYTHING (2020) – FULL TRANSCRIPT"
          ],
          [
           46,
           "RUSSELL PETERS: DEPORTED (2020) – FULL TRANSCRIPT"
          ],
          [
           47,
           "JIMMY O. YANG: GOOD DEAL (2020) – FULL TRANSCRIPT"
          ],
          [
           48,
           "JO KOY: LIGHTS OUT (2012) – FULL TRANSCRIPT"
          ],
          [
           49,
           "LEE MACK: GOING OUT LIVE (2010) – FULL TRANSCRIPT"
          ],
          [
           50,
           "LEE MACK: LIVE (2007) – FULL TRANSCRIPT"
          ],
          [
           51,
           "T.J. MILLER: NO REAL REASON (2011) – FULL TRANSCRIPT"
          ],
          [
           52,
           "Jerry Seinfeld: 23 Hours To Kill (2020) – Transcript"
          ],
          [
           53,
           "SINCERELY LOUIS CK (2020)"
          ],
          [
           54,
           "JIM NORTON: AMERICAN DEGENERATE (2013) – FULL TRANSCRIPT"
          ],
          [
           55,
           "Jim Norton: Monster Rain (2007) – Transcript"
          ],
          [
           56,
           "MARIA BAMFORD: WEAKNESS IS THE BRAND (2020) – FULL TRANSCRIPT"
          ],
          [
           57,
           "CHRIS D’ELIA: WHITE MALE. BLACK COMIC. (2013) – FULL TRANSCRIPT"
          ],
          [
           58,
           "Chris D’Elia: Man on Fire (2017) – Full Transcript"
          ],
          [
           59,
           "Tom Segura: Ball Hog (2020) – Transcript"
          ],
          [
           60,
           "Bert Kreischer: Hey Big Boy (2020) – Transcript"
          ],
          [
           61,
           "Marc Maron: End Times Fun (2020) – Full Transcript"
          ],
          [
           62,
           "PETE DAVIDSON: SMD (2016) – FULL TRANSCRIPT"
          ],
          [
           63,
           "PETE DAVIDSON: ALIVE FROM NEW YORK (2020) – FULL TRANSCRIPT"
          ],
          [
           64,
           "Amanda Seales: I Be Knowin’ (2019) – Transcript"
          ],
          [
           65,
           "Stewart Lee: Carpet Remnant World (2012) – Full Transcript"
          ],
          [
           66,
           "Stewart Lee: Content Provider (2018) – Transcript"
          ],
          [
           67,
           "Sara Pascoe: LadsLadsLads (2019) – Full Transcript"
          ],
          [
           68,
           "Dan Soder: Son of a Gary (2019) – Full Transcript"
          ],
          [
           69,
           "Jim Gaffigan: Quality Time (2019) – Full Transcript"
          ],
          [
           70,
           "Kevin Bridges: A Whole Different Story (2015) – Full Transcript"
          ],
          [
           71,
           "Kevin Bridges: The Story So Far… Live in Glasgow (2010) – Full Transcript"
          ],
          [
           72,
           "Kevin Bridges: The Story Continues (2012) – Full Transcript"
          ],
          [
           74,
           "Michelle Wolf: Joke Show (2019) – Full Transcript"
          ],
          [
           75,
           "Tiffany Haddish: Black Mitzvah (2019) – Transcript"
          ],
          [
           76,
           "Mike Birbiglia: The New One (2019) – Full Transcript"
          ],
          [
           77,
           "Iliza Shlesinger: Unveiled (2019) – Full Transcript"
          ],
          [
           78,
           "Seth Meyers: Lobby Baby (2019) – Full Transcript"
          ],
          [
           79,
           "Arsenio Hall: Smart and Classy (2019) – Transcript"
          ],
          [
           80,
           "Nikki Glaser: Bangin’ (2019) – Full Transcript"
          ],
          [
           81,
           "Bill Burr: Paper Tiger (2019) – Transcript"
          ],
          [
           82,
           "Dave Chappelle: Sticks & Stones (2019) – Transcript"
          ],
          [
           83,
           "Emily Heller: Ice Thickeners (2019) – Full Transcript"
          ],
          [
           84,
           "David Cross: Oh Come On (2019) – Full Transcript"
          ],
          [
           85,
           "Whitney Cummings: Can I Touch It? (2019) – Full Transcript"
          ],
          [
           86,
           "Aziz Ansari: Right Now (2019) – Transcript"
          ],
          [
           87,
           "Ralphie May: Filthy Animal Tour (2014) – Transcript"
          ],
          [
           88,
           "Mike Epps: Only One Mike (2019) – Full Transcript"
          ],
          [
           89,
           "Adam DeVine: Best Time of Our Lives (2019) – Full Transcript"
          ],
          [
           90,
           "Jo Koy: Live from Seattle (2017) – Full Transcript"
          ],
          [
           91,
           "Jo Koy: Comin’ in Hot (2019) – Full Transcript"
          ],
          [
           92,
           "Wanda Sykes: Not Normal (2019) – Full Transcript"
          ],
          [
           93,
           "Cedric the Entertainer: Live from the Ville (2016) – Transcript"
          ],
          [
           94,
           "Eddie Murphy: Raw (1987) – Transcript"
          ],
          [
           95,
           "Colin Quinn: The New York Story (2016) – Full Transcript"
          ],
          [
           96,
           "Demetri Martin: Live (At The Time) (2015) | Transcript"
          ],
          [
           97,
           "George Carlin: What Am I Doing in New Jersey? (1988) – Full Transcript"
          ],
          [
           98,
           "Chelsea Peretti: One of the Greats (2014) – Full Transcript"
          ],
          [
           99,
           "Anthony Jeselnik: Fire in the Maternity Ward (2019) – Transcript"
          ],
          [
           100,
           "Roy Wood Jr.: No One Loves You (2019) – Transcript"
          ],
          [
           101,
           "Robin Williams: Weapons of Self Destruction (2009) – Full Transcript"
          ],
          [
           102,
           "ROBIN WILLIAMS LIVE ON BROADWAY (2002) – FULL TRANSCRIPT"
          ],
          [
           103,
           "Jimmy Carr: The Best of Ultimate Gold Greatest Hits (2019) – Full Transcript"
          ],
          [
           104,
           "Nate Bargatze: The Tennessee Kid (2019) – Full Transcript"
          ],
          [
           105,
           "W. Kamau Bell: Private School Negro (2018) – Transcript"
          ],
          [
           106,
           "Kevin Hart: Irresponsible (2019) – Transcript"
          ],
          [
           107,
           "Nate Bargatze: Full Time Magic (2015) – Full Transcript"
          ],
          [
           108,
           "Amy Schumer: Growing (2019) – Full Transcript"
          ],
          [
           109,
           "Enissa Amani: Ehrenwort (2018) Full Transcript"
          ],
          [
           110,
           "Ken Jeong: You Complete Me, Ho (2019) – Full Transcript"
          ],
          [
           111,
           "Ray Romano: Right Here, Around the Corner (2019) – Full Transcript"
          ],
          [
           112,
           "Gabriel “Fluffy” Iglesias: One Show Fits All (2019) – Full Transcript"
          ],
          [
           113,
           "Sebastian Maniscalco: Stay Hungry (2019) – Full Transcript"
          ],
          [
           115,
           "Sebastian Maniscalco: Aren’t You Embarrassed? (2014) – Full Transcript"
          ],
          [
           116,
           "Sebastian Maniscalco: What’s Wrong with People? (2012) – Full Transcript"
          ],
          [
           117,
           "Oh, Hello On Broadway (2017) – Transcript"
          ],
          [
           118,
           "Ellen Degeneres: Relatable (2018) – Transcript"
          ],
          [
           119,
           "Pete Holmes: Dirty Clean (2018) – Full Transcript"
          ],
          [
           120,
           "Vir Das: Losing It (2018) – Full Transcript"
          ],
          [
           121,
           "Trevor Noah: Son of Patricia (2018) – Transcript"
          ],
          [
           122,
           "Jeff Foxworthy & Larry the Cable Guy: We’ve Been Thinking (2016) – Full Transcript"
          ],
          [
           123,
           "Adam Sandler: 100% Fresh (2018) – Full Transcript"
          ],
          [
           124,
           "Jeff Foxworthy: Totally Committed (1998) – Full Transcript"
          ],
          [
           125,
           "RON WHITE: IF YOU QUIT LISTENING, I’LL SHUT UP (2018) – FULL TRANSCRIPT"
          ],
          [
           127,
           "Mo Amer: The Vagabond (2018) – Full Transcript"
          ],
          [
           128,
           "Joe Mande’s Award-Winning Comedy Special (2017) – Full Transcript"
          ],
          [
           129,
           "Henry Rollins: Keep Talking, Pal (2018) – Full Transcript"
          ],
          [
           130,
           "Joe Rogan: Strange Times (2018) – Full Transcript"
          ],
          [
           131,
           "D.L. Hughley: Contrarian (2018) – Transcript"
          ],
          [
           132,
           "Iliza Shlesinger: Freezing Hot (2015) – Full Transcript"
          ],
          [
           133,
           "Iliza Shlesinger: War Paint (2013) – Transcript"
          ],
          [
           134,
           "Bert Kreischer: Secret Time (2018) – Transcript"
          ],
          [
           136,
           "Demetri Martin: The Overthinker (2018) | Transcript"
          ],
          [
           137,
           "BILL MAHER: LIVE FROM OKLAHOMA (2018) – Full Transcript"
          ],
          [
           138,
           "Rowan Atkinson Live (1992) – Transcript"
          ],
          [
           139,
           "Iliza Shlesinger: Confirmed Kills (2016) – Full Transcript"
          ],
          [
           140,
           "Iliza Shlesinger: Elder Millennial (2018) – Full Transcript"
          ],
          [
           141,
           "JIM GAFFIGAN: NOBLE APE (2018) – Full Transcript"
          ],
          [
           142,
           "Jim Norton: Contextually Inadequate (2015) – Transcript"
          ],
          [
           143,
           "Hannah Gadsby: Nanette (2018) – Transcript"
          ],
          [
           144,
           "BRAD WILLIAMS: DADDY ISSUES (2016) – Full Transcript"
          ],
          [
           145,
           "Deray Davis: How To Act Black (2017) – Transcript"
          ],
          [
           146,
           "RICKY GERVAIS: LIVE IV – SCIENCE (2010) – Full Transcript"
          ],
          [
           147,
           "JIM JEFFERIES: THIS IS ME NOW (2018) – Full transcript"
          ],
          [
           148,
           "RUSSELL PETERS: OUTSOURCED (2006) – Full Transcript"
          ],
          [
           149,
           "RUSSELL PETERS: ALMOST FAMOUS (2016) – Full Transcript"
          ],
          [
           150,
           "RON WHITE: A LITTLE UNPROFESSIONAL (2012) – Full Transcript"
          ],
          [
           151,
           "MICHAEL MCINTYRE: HELLO WEMBLEY! (2009) – Full Transcript"
          ],
          [
           152,
           "KEVIN SMITH: SILENT BUT DEADLY (2018) – Full Transcript"
          ],
          [
           153,
           "KEVIN JAMES: NEVER DON’T GIVE UP (2018) – Full Transcript"
          ],
          [
           154,
           "BRENT MORIN: I’M BRENT MORIN (2015) – Full Transcript"
          ],
          [
           155,
           "NIKKI GLASER: PERFECT (2016) – Full Transcript"
          ],
          [
           156,
           "Ali Wong: Hard Knock Wife (2018) – Transcript"
          ],
          [
           157,
           "KAVIN JAY: EVERYBODY CALM DOWN! (2018) – Full Transcript"
          ],
          [
           158,
           "John Mulaney: Kid Gorgeous At Radio City (2018) – Transcript"
          ],
          [
           159,
           "Eddie Griffin: Undeniable (2018) – Transcript"
          ],
          [
           160,
           "GREG DAVIES: YOU MAGNIFICENT BEAST (2018) – Full Transcript"
          ],
          [
           161,
           "George Carlin: You Are All Diseased (1999) – Transcript"
          ],
          [
           162,
           "Marlon Wayans: Woke-Ish (2018) – Transcript"
          ],
          [
           163,
           "RICKY GERVAIS: HUMANITY (2018) – Full Transcript"
          ],
          [
           164,
           "ADEL KARAM: LIVE FROM BEIRUT (2018) – Full Transcript"
          ],
          [
           165,
           "STEWART LEE: 90s COMEDIAN (2006) – Full Transcript"
          ],
          [
           166,
           "Mike Birbiglia: My Girlfriend’s Boyfriend (2013) – Transcript"
          ],
          [
           167,
           "DAVE ATTELL: ROAD WORK (2014) – Full Transcript"
          ],
          [
           168,
           "Eddie Izzard – Glorious (1997) – Transcript"
          ],
          [
           169,
           "Chris Rock: Bring the Pain (1996) – Transcript"
          ],
          [
           170,
           "ARI SHAFFIR: DOUBLE NEGATIVE (2017) – Full Transcript"
          ],
          [
           171,
           "Chris Rock: Tamborine (2018) – Transcript"
          ],
          [
           172,
           "FRED ARMISEN: STANDUP FOR DRUMMERS (2018) – Full Transcript"
          ],
          [
           173,
           "DANA CARVEY: STRAIGHT WHITE MALE, 60 (2016) – Full Transcript"
          ],
          [
           174,
           "EDDIE IZZARD: STRIPPED (2009) – Full Transcript"
          ],
          [
           175,
           "TODD GLASS: ACT HAPPY (2018) – Full Transcript"
          ],
          [
           176,
           "BRIAN REGAN: STANDING UP (2007) – Full Transcript"
          ],
          [
           177,
           "BRIAN REGAN: NUNCHUCKS AND FLAMETHROWERS (2017) – Full Transcript"
          ],
          [
           178,
           "Katt Williams: Great America (2018) – Transcript"
          ],
          [
           179,
           "JIMMY CARR: BEING FUNNY (2011) – Full Transcript"
          ],
          [
           180,
           "JIMMY CARR: LAUGHING AND JOKING (2013) – Full Transcript"
          ],
          [
           181,
           "Eddie Izzard: Unrepeatable (1994) | Transcript"
          ],
          [
           182,
           "D.L. Hughley: Unapologetic (2007) – Transcript"
          ],
          [
           183,
           "BRIDGET EVERETT: GYNECOLOGICAL WONDER (2015) – Full Transcript"
          ],
          [
           184,
           "Chris Rock: Never Scared (2004) – Transcript"
          ],
          [
           185,
           "Stewart Lee: Stand-Up Comedian (2005) – Transcript"
          ],
          [
           186,
           "JIMMY CARR: FUNNY BUSINESS (2016) – Full Transcript"
          ],
          [
           187,
           "Eddie Izzard: Dress To Kill (1999) – Transcript"
          ],
          [
           188,
           "Chris Tucker: Live (2015) – Transcript"
          ],
          [
           189,
           "Kevin Hart: What Now (2016) – Transcript"
          ],
          [
           190,
           "Kevin Hart: Let Me Explain (2013) – Transcript"
          ],
          [
           191,
           "Tom Segura: Disgraceful (2018) – Transcript"
          ],
          [
           193,
           "MICHELLE WOLF: NICE LADY (2017) – Full Transcript"
          ],
          [
           194,
           "FAHIM ANWAR: THERE’S NO BUSINESS LIKE SHOW BUSINESS (2017) – Transcript"
          ],
          [
           195,
           "ELLEN DEGENERES: THE BEGINNING (2000) – Full Transcript"
          ],
          [
           196,
           "MAZ JOBRANI: IMMIGRANT (2017) – Full Transcript"
          ],
          [
           197,
           "TODD BARRY: SPICY HONEY (2017) – Full Transcript"
          ],
          [
           198,
           "Jerry Seinfeld: I’m Telling You for the Last Time (1998) – Transcript"
          ],
          [
           199,
           "Craig Ferguson: Does This Need To Be Said? (2011) – Transcript"
          ],
          [
           203,
           "DAVE CHAPPELLE: THE BIRD REVELATION (2017) – Transcripción completa"
          ],
          [
           204,
           "Dave Chappelle: The Bird Revelation (2017) – Transcript"
          ],
          [
           205,
           "Dave Chappelle: Equanimity (2017) – Transcript"
          ],
          [
           206,
           "CRAIG FERGUSON: I’M HERE TO HELP (2013) – Full Transcript"
          ],
          [
           207,
           "RUSSELL HOWARD: RECALIBRATE (2017) – Full Transcript"
          ],
          [
           208,
           "WHITNEY CUMMINGS: I LOVE YOU (2014) – Full Transcript"
          ],
          [
           209,
           "WHITNEY CUMMINGS: I’M YOUR GIRLFRIEND (2016) – Full Transcript"
          ],
          [
           210,
           "SARAH MILLICAN: CHATTERBOX LIVE (2011) – Full Transcript"
          ],
          [
           211,
           "Anjelah Johnson: Not Fancy (2015) – Transcript"
          ],
          [
           212,
           "RICKY GERVAIS LIVE 2: POLITICS (2004) – Full Transcript"
          ],
          [
           213,
           "Russell Howard Live: Dingledodies (2009) – Full Transcript"
          ],
          [
           214,
           "CHRISTINA PAZSITZKY: MOTHER INFERIOR (2017) – FULL TRANSCRIPT"
          ],
          [
           215,
           "Jack Whitehall: At Large (2017) – Transcript"
          ],
          [
           216,
           "CRISTELA ALONZO: LOWER CLASSY (2017) – Full Transcript"
          ],
          [
           217,
           "JUDAH FRIEDLANDER: AMERICA IS THE GREATEST COUNTRY IN THE UNITED STATES (2017) – Full Transcript"
          ],
          [
           218,
           "AZIZ ANSARI: LIVE IN MADISON SQUARE GARDEN (2015) – Full Transcript"
          ],
          [
           219,
           "AZIZ ANSARI: BURIED ALIVE (2013) – Full Transcript"
          ],
          [
           220,
           "Paul Mooney: A Piece of My Mind – Godbless America (2014) – Transcript"
          ],
          [
           221,
           "PATTON OSWALT: ANNIHILATION (2017) – Full Transcript"
          ],
          [
           222,
           "Chris Rock: Kill The Messenger – London, New York, Johannesburg (2008) – Transcript"
          ],
          [
           223,
           "BILL MAHER: LIVE FROM D.C. (2014) – Full Transcript"
          ],
          [
           224,
           "Sarah Silverman: Jesus Is Magic (2005) – Transcript"
          ],
          [
           225,
           "SARAH SILVERMAN: WE ARE MIRACLES (2013) – Full Transcript"
          ],
          [
           226,
           "Pablo Francisco: Ouch! Live From San Jose (2006) – Full Transcript"
          ],
          [
           227,
           "BILL MAHER… BUT I’M NOT WRONG (2010) – Full Transcript"
          ],
          [
           228,
           "RUSSELL BRAND: MESSIAH COMPLEX (2013) – Full Transcript"
          ],
          [
           229,
           "Chris Rock: Bigger & Blacker (1999) – Transcript"
          ],
          [
           230,
           "Gabriel Iglesias: Hot And Fluffy (2007) – Transcript"
          ],
          [
           231,
           "GABRIEL IGLESIAS: I’M NOT FAT … I’M FLUFFY (2009) – Full Transcript"
          ],
          [
           232,
           "GABRIEL IGLESIAS: I’M SORRY FOR WHAT I SAID WHEN I WAS HUNGRY (2016) – Full Transcript"
          ],
          [
           233,
           "RORY SCOVEL TRIES STAND-UP FOR THE FIRST TIME (2017) – Full Transcript"
          ],
          [
           234,
           "LISA LAMPANELLI: BACK TO THE DRAWING BOARD (2015) – Full Transcript"
          ],
          [
           235,
           "ERIK GRIFFIN: THE UGLY TRUTH (2017) – Full Transcript"
          ],
          [
           236,
           "JEN KIRKMAN: JUST KEEP LIVIN’? (2017) – Full Transcript"
          ],
          [
           237,
           "DANIEL TOSH: COMPLETELY SERIOUS (2007) – Full Transcript"
          ],
          [
           238,
           "AL MADRIGAL: WHY IS THE RABBIT CRYING? (2013) – Full Transcript"
          ],
          [
           239,
           "NEAL BRENNAN: 3 MICS (2017)- FULL TRANSCRIPT"
          ],
          [
           240,
           "John Mulaney: New In Town (2012) – Transcript"
          ],
          [
           241,
           "Donald Glover: Weirdo (2012) – Transcript"
          ],
          [
           242,
           "ALI WONG: BABY COBRA (2016) – Full Transcript"
          ],
          [
           243,
           "Norm Macdonald: Hitler’s Dog, Gossip & Trickery (2017) – Transcript"
          ],
          [
           244,
           "DANIEL TOSH: PEOPLE PLEASER (2016) – FULL TRANSCRIPT"
          ],
          [
           245,
           "Marc Maron: More Later (2015) – Full Transcript"
          ],
          [
           246,
           "Dylan Moran: Off The Hook (2015) – Transcript"
          ],
          [
           247,
           "Richard Pryor: Live And Smokin’ (1971) – Transcript"
          ],
          [
           248,
           "RICHARD PRYOR: …HERE AND NOW (1983) – Full Transcript"
          ],
          [
           249,
           "BILL BURR: WHY DO I DO THIS (2008) – Testo italiano completo"
          ],
          [
           250,
           "AMY SCHUMER: MOSTLY SEX STUFF (2012) – Full Transcript"
          ],
          [
           251,
           "Jim Jefferies: Alcoholocaust (2010) – Transcript"
          ],
          [
           252,
           "AMY SCHUMER: LIVE AT THE APOLLO (2015) – Full Transcript"
          ],
          [
           253,
           "Kevin Hart: Seriously Funny (2010) – Transcript"
          ],
          [
           254,
           "Hannibal Buress: Comedy Camisado (2016) – Transcript"
          ],
          [
           255,
           "Neal Brennan: Women And Black Dudes (2014) – Transcript"
          ],
          [
           256,
           "NICK OFFERMAN: AMERICAN HAM (2014) – Full Transcript"
          ],
          [
           257,
           "AZIZ ANSARI: INTIMATE MOMENTS FOR A SENSUAL EVENING (2010) – Full Transcript"
          ],
          [
           258,
           "BIG JAY OAKERSON: LIVE AT WEBSTER HALL (2016) – Full Transcript"
          ],
          [
           260,
           "DOUG STANHOPE: NO REFUNDS (2007) – Trascrizione italiana"
          ],
          [
           261,
           "George Carlin at USC (1977) – Full Transcript"
          ],
          [
           262,
           "Jim Norton: Mouthful Of Shame (2017) Transcript"
          ],
          [
           263,
           "Michael Che Matters (2016) – Transcript"
          ],
          [
           264,
           "Joe Rogan: Triggered (2016) – Transcript"
          ],
          [
           265,
           "Trevor Noah: Lost In Translation (2015) – Transcript"
          ],
          [
           266,
           "MARIA BAMFORD: OLD BABY (2017) – FULL TRANSCRIPT"
          ],
          [
           267,
           "Bo Burnham: What (2013) – Transcript"
          ],
          [
           268,
           "Bo Burnham: Make Happy (2016) – Transcript"
          ],
          [
           269,
           "ANTHONY JESELNIK: CALIGULA (2013) – Full Transcript"
          ],
          [
           270,
           "Anthony Jeselnik: Thoughts And Prayers (2015) – Full Transcript"
          ],
          [
           271,
           "John Mulaney: The Comeback Kid (2015) – Transcript"
          ],
          [
           272,
           "BILL HICKS: REVELATIONS (1993) – FULL TRANSCRIPT"
          ],
          [
           273,
           "LEWIS BLACK: BLACK TO THE FUTURE (2016) – Full Transcript"
          ],
          [
           274,
           "DOUG STANHOPE: BEFORE TURNING THE GUN ON HIMSELF (2012) – Transcript"
          ],
          [
           275,
           "DOUG STANHOPE: DEADBEAT HERO (2004) – Transcript"
          ],
          [
           276,
           "JIM JEFFERIES: CONTRABAND (2008) – Full Transcript"
          ],
          [
           277,
           "Mike Birbiglia: Thank God for Jokes (2017) – Transcript"
          ],
          [
           278,
           "SARAH SILVERMAN: A SPECK OF DUST (2017) – Full Transcript"
          ],
          [
           279,
           "GEORGE CARLIN: PLAYING WITH YOUR HEAD (1986) – Full Transcript"
          ],
          [
           280,
           "GEORGE CARLIN: AGAIN!* (1978) – Full Transcript"
          ],
          [
           281,
           "Louis C.K.: Chewed Up (2008) – Transcript"
          ],
          [
           283,
           "Tom Segura: Completely Normal (2014) – Transcript"
          ],
          [
           284,
           "GEORGE CARLIN: CARLIN ON CAMPUS (1984) – Full Transcript"
          ],
          [
           285,
           "Louis C.K.: Live at the Beacon Theatre (2011) – Transcript"
          ],
          [
           286,
           "RICKY GERVAIS: OUT OF ENGLAND 2 (2010) – Full Transcript"
          ],
          [
           287,
           "AMY SCHUMER: THE LEATHER SPECIAL (2017) – Full Transcript"
          ],
          [
           288,
           "JIM GAFFIGAN: CINCO (2017) – Full Transcript"
          ],
          [
           289,
           "JIM JEFFERIES: I SWEAR TO GOD (2009) – FULL TRANSCRIPT"
          ],
          [
           290,
           "LOUIS C.K.: HILARIOUS (2010) – Full Transcript"
          ],
          [
           291,
           "LOUIS C.K.: SHAMELESS (2007) – Full Transcript"
          ],
          [
           292,
           "BILL BURR: I’M SORRY YOU FEEL THAT WAY (2014) – Full Transcript"
          ],
          [
           293,
           "BILL BURR: YOU PEOPLE ARE ALL THE SAME (2012) – Full Transcript"
          ],
          [
           294,
           "Dave Chappelle: For What It’s Worth (2004) – Transcript"
          ],
          [
           295,
           "Dave Chappelle: Killin’ Them Softly (2000) – Transcript"
          ],
          [
           296,
           "Eddie Griffin: You Can Tell ‘Em I Said It! (2011) – Transcript"
          ],
          [
           297,
           "BILL BURR: WALK YOUR WAY OUT (2017) – Full Transcript"
          ],
          [
           298,
           "LOUIS C.K.: OH MY GOD (2013) – Full Transcript"
          ],
          [
           299,
           "LOUIS C.K.: LIVE AT  THE COMEDY STORE (2015) – Transcript"
          ],
          [
           300,
           "BILL HICKS: RELENTLESS (1991) – Transcript"
          ],
          [
           301,
           "Daniel Tosh: Happy Thoughts (2011) – Transcript"
          ],
          [
           302,
           "Patrice O’Neal: Elephant in the Room (2011) – Transcript"
          ],
          [
           303,
           "Katt Williams: Live (2006) – Transcript"
          ],
          [
           304,
           "Richard Pryor: Live in Concert (1979) – Transcript"
          ],
          [
           305,
           "RICHARD PRYOR: LIVE ON THE SUNSET STRIP (1982) – Full Transcript"
          ],
          [
           306,
           "Trevor Noah: Afraid Of The Dark (2017) – Transcript"
          ],
          [
           307,
           "JIM JEFFERIES: BARE (2014) – Full Transcript"
          ],
          [
           308,
           "Dave Chappelle: Deep in the Heart of Texas (2017) – Transcript"
          ],
          [
           309,
           "Tom Segura: Mostly Stories (2016) – Transcript"
          ],
          [
           310,
           "BILL BURR: LET IT GO (2010) – TRANSCRIPT"
          ],
          [
           311,
           "GEORGE CARLIN: JAMMING IN NEW YORK (1992) – Testo italiano completo"
          ],
          [
           312,
           "GEORGE CARLIN: YOU ARE ALL DISEASED (1999) – Testo italiano completo"
          ],
          [
           313,
           "GEORGE CARLIN: IT’S BAD FOR YA! (2008) – Testo italiano completo"
          ],
          [
           314,
           "JIM JEFFERIES: FREEDUMB (2016) – Full Transcript"
          ],
          [
           315,
           "Eddie Murphy: Delirious (1983) – Transcript"
          ],
          [
           316,
           "Dave Chappelle: The Age of Spin (2017) – Transcript"
          ],
          [
           317,
           "GEORGE CARLIN: BACK IN TOWN (1996) – Full transcript"
          ],
          [
           318,
           "LOUIS C.K.: 2017 – Full transcript"
          ],
          [
           319,
           "George Carlin: Jamming in New York (1992) – Transcript"
          ],
          [
           320,
           "Reggie Watts: Spatial (2016) – Full Transcript"
          ],
          [
           321,
           "GEORGE CARLIN: COMPLAINTS AND GRIEVANCES (2001) – FULL TRANSCRIPT"
          ],
          [
           322,
           "GEORGE CARLIN: LIFE IS WORTH LOSING (2006) – Transcript"
          ],
          [
           323,
           "George Carlin: It’s Bad For Ya (2008) Full transcript"
          ],
          [
           324,
           "Dave Chappelle: 8:46 – Transcript"
          ],
          [
           380,
           "JIM JEFFERIES ON GUN CONTROL [FULL TRANSCRIPT]"
          ]
         ],
         "hovertemplate": "modprop=%{x}<br>index=%{customdata[0]}<br>description=%{customdata[1]}<extra></extra>",
         "legendgroup": "",
         "marker": {
          "color": "#636efa"
         },
         "name": "",
         "notched": false,
         "offsetgroup": "",
         "orientation": "h",
         "showlegend": false,
         "type": "box",
         "x": [
          0,
          0.032595312185184355,
          0,
          0.08095672523898298,
          0.11244398483281627,
          0.04660048770184904,
          0.01046546049767531,
          0,
          0.04780136127530002,
          0.024002037308206534,
          0.01838399415608133,
          0,
          0.0003421845058855735,
          0.043747779050025665,
          0.01240421191906941,
          0.00907188944953322,
          0.1611687574208869,
          0,
          0.010575412570651206,
          0.07175798285628353,
          0.060242815429537425,
          0.07613254067007696,
          0.06957891569463866,
          0.03284368747254893,
          0.024561575070082796,
          0.08654822861170422,
          0.0989349200723732,
          0.01090257904808722,
          0.00017535314174378958,
          0.0948767719545909,
          0,
          0.0013268156424581005,
          0.16511086218239363,
          0.05223344928496494,
          0.07939199064600994,
          0.0004590630523102348,
          0.20600640388649663,
          0.02251294793880789,
          0.02608638657665334,
          0,
          0,
          0.0031192019145446235,
          0.00016708183972294794,
          0,
          0.029914072806360752,
          0.00013163379478291394,
          0.018675430938564507,
          0.015046424535200656,
          0.020064620355411955,
          0.010563305743135968,
          0.010315843097300052,
          0.02252040336271963,
          0.00016385767790262173,
          0.023548815686993175,
          0.009338138925294889,
          0,
          0.059004340692433904,
          0.09455437203991089,
          0.05108879150111693,
          0.03411858693322422,
          0.02685854359494527,
          0.019539078156312624,
          0.029872722735213377,
          0,
          0,
          0.0645840191882613,
          0,
          0,
          0.05146459747817653,
          0.056458468770315545,
          0.00026776151374509105,
          0,
          0.02298718464456066,
          0,
          0.17507576727707347,
          0,
          0,
          0,
          0,
          0,
          0.03194623762704009,
          0.00037821482602118004,
          0.08275877608039295,
          0.01593625498007968,
          0,
          0,
          0.0016923623686303712,
          0,
          0.07172652567471739,
          0.008339471120720377,
          0.12409480628317253,
          0,
          0.03116379801664197,
          0.0009320781347784983,
          0.006918185671894871,
          0.028534601537846125,
          0.0005607476635514019,
          0.04983028068301256,
          0,
          0.016423280423280423,
          0.01472175620667681,
          0.0010645676403696954,
          0,
          0,
          0.06790663493840986,
          0.014866366667273952,
          0,
          0,
          0,
          0,
          0,
          0.07296516294750362,
          0.08024040230589967,
          0,
          0,
          0.026973207820419984,
          0.038164519156924655,
          0.09439157528621805,
          0,
          0.042554674566524356,
          0.006491420843546615,
          0.062227291655350965,
          0.04278680452978828,
          0.014306763629450069,
          0.009587082667563704,
          0,
          0.021515852717898753,
          0.06358336420535418,
          0.025709154427140994,
          0,
          0,
          0.0836800739713361,
          0.056386122359636644,
          0.015297395044230487,
          0.33189611271430997,
          0,
          0,
          0.01562471345522566,
          0.002309568520796909,
          0.00473034880995504,
          0.024391103591695745,
          0.03000395532367732,
          0.008491798519378719,
          0.08222960188438816,
          0.018321822083566263,
          0,
          0,
          0.019632425511483368,
          0,
          0,
          0.00036145200433742404,
          0,
          0.0006081315880922043,
          0,
          0.04623969146186354,
          0.030168553049425943,
          0.01295956873315364,
          0,
          0,
          0,
          0,
          0.0022236398432516177,
          0,
          0.03586441284321617,
          0.016263184796245528,
          0.007337300733730073,
          0.021897524287057348,
          0.012862974659169683,
          0.05001124690710055,
          0,
          0.03139097043582,
          0,
          0.0328803322008305,
          0.09127906976744186,
          0.045242353159764964,
          0.0005020920502092051,
          0.03812757639924321,
          0.07493912057954145,
          0.21448043768448363,
          0.0036690985110286274,
          0.000463155204906251,
          0.0033204298204631915,
          0.0523215972440872,
          0.018240794242790355,
          0.03883004046655558,
          0.017715002939260576,
          0.08590327540688734,
          0.13257125642270162,
          0.029019868177722983,
          0.0006408094435075885,
          0.0011283851554663993,
          0.000819672131147541,
          0.07631904601192485,
          0,
          0,
          0.0015335889314885814,
          0.048979481932252676,
          0.01034537641254178,
          0,
          0,
          0,
          0.006507963692413085,
          0.02241000115754138,
          0.0006249186303866685,
          0.0006675428166134719,
          0.029604682628389906,
          0.021023559914327583,
          0,
          0,
          0,
          0,
          0,
          0,
          0,
          0,
          0.047848369709286916,
          0,
          0,
          0,
          0,
          0.00794130462282317,
          0.00031017369727047146,
          0.09481106653093,
          0.09478137256581089,
          0.05289598522270889,
          0.024198211823317467,
          0,
          0,
          0,
          0,
          0.013594599662478906,
          0.008318515339178777,
          0.26179349915707906,
          0.004093826067714096,
          0,
          0.0005772657681399493,
          0.009974148242466336,
          0.009883604254465182,
          0.019902869230998422,
          0,
          0,
          0.001165475536008796,
          0,
          0.013064133016627079,
          0,
          0,
          0.029109898449640417,
          0.10437464491518546,
          0,
          0,
          0.018693520205910533,
          0,
          0.0013074704923611484,
          0,
          0,
          0.01383046051896802,
          0.029481817670336266,
          0,
          0.08571280240888797,
          0.09289256198347108,
          0.06587677725118483,
          0,
          0,
          0.021541268887553686,
          0.04086189176737428,
          0.012901756129887343,
          0.0035916468555986934,
          0.0022556951642369785,
          0.008513325204668177,
          0,
          0.0013545219263236823,
          0.00011798614505553776,
          0.0038701622971285894,
          0.009165002255009342,
          0.0009761207532795276,
          0.005030845227526236,
          0.008332083520805212,
          0.0295150061428655,
          0,
          0,
          0,
          0,
          0.009503614159456405,
          0.015281304494141402,
          0,
          0.0020908907698508664,
          0.026902020011327167,
          0,
          0,
          0,
          0.001622685677803788,
          0.03654304595793476,
          0.016508939962297922,
          0.008483786721170535,
          0.03604121184265962,
          0,
          0.02481073382804887,
          0.02443762781186094,
          0.00907256050038968,
          0.06673152451987173,
          0.0005405139796570193,
          0,
          0.021096744152727533,
          0.008448175722055019,
          0.06301582677929896,
          0,
          0,
          0.001002724795640327,
          0.08576065246338216,
          0.0032426550598476604,
          0.0005876503028659254,
          0.0008009153318077803,
          0.0033935641353853483,
          0.00035237388724035606,
          0.025481074222880103,
          0.0205296975395706
         ],
         "x0": " ",
         "xaxis": "x",
         "y0": " ",
         "yaxis": "y"
        }
       ],
       "layout": {
        "boxmode": "group",
        "legend": {
         "tracegroupgap": 0
        },
        "margin": {
         "t": 60
        },
        "template": {
         "data": {
          "bar": [
           {
            "error_x": {
             "color": "#2a3f5f"
            },
            "error_y": {
             "color": "#2a3f5f"
            },
            "marker": {
             "line": {
              "color": "#E5ECF6",
              "width": 0.5
             },
             "pattern": {
              "fillmode": "overlay",
              "size": 10,
              "solidity": 0.2
             }
            },
            "type": "bar"
           }
          ],
          "barpolar": [
           {
            "marker": {
             "line": {
              "color": "#E5ECF6",
              "width": 0.5
             },
             "pattern": {
              "fillmode": "overlay",
              "size": 10,
              "solidity": 0.2
             }
            },
            "type": "barpolar"
           }
          ],
          "carpet": [
           {
            "aaxis": {
             "endlinecolor": "#2a3f5f",
             "gridcolor": "white",
             "linecolor": "white",
             "minorgridcolor": "white",
             "startlinecolor": "#2a3f5f"
            },
            "baxis": {
             "endlinecolor": "#2a3f5f",
             "gridcolor": "white",
             "linecolor": "white",
             "minorgridcolor": "white",
             "startlinecolor": "#2a3f5f"
            },
            "type": "carpet"
           }
          ],
          "choropleth": [
           {
            "colorbar": {
             "outlinewidth": 0,
             "ticks": ""
            },
            "type": "choropleth"
           }
          ],
          "contour": [
           {
            "colorbar": {
             "outlinewidth": 0,
             "ticks": ""
            },
            "colorscale": [
             [
              0,
              "#0d0887"
             ],
             [
              0.1111111111111111,
              "#46039f"
             ],
             [
              0.2222222222222222,
              "#7201a8"
             ],
             [
              0.3333333333333333,
              "#9c179e"
             ],
             [
              0.4444444444444444,
              "#bd3786"
             ],
             [
              0.5555555555555556,
              "#d8576b"
             ],
             [
              0.6666666666666666,
              "#ed7953"
             ],
             [
              0.7777777777777778,
              "#fb9f3a"
             ],
             [
              0.8888888888888888,
              "#fdca26"
             ],
             [
              1,
              "#f0f921"
             ]
            ],
            "type": "contour"
           }
          ],
          "contourcarpet": [
           {
            "colorbar": {
             "outlinewidth": 0,
             "ticks": ""
            },
            "type": "contourcarpet"
           }
          ],
          "heatmap": [
           {
            "colorbar": {
             "outlinewidth": 0,
             "ticks": ""
            },
            "colorscale": [
             [
              0,
              "#0d0887"
             ],
             [
              0.1111111111111111,
              "#46039f"
             ],
             [
              0.2222222222222222,
              "#7201a8"
             ],
             [
              0.3333333333333333,
              "#9c179e"
             ],
             [
              0.4444444444444444,
              "#bd3786"
             ],
             [
              0.5555555555555556,
              "#d8576b"
             ],
             [
              0.6666666666666666,
              "#ed7953"
             ],
             [
              0.7777777777777778,
              "#fb9f3a"
             ],
             [
              0.8888888888888888,
              "#fdca26"
             ],
             [
              1,
              "#f0f921"
             ]
            ],
            "type": "heatmap"
           }
          ],
          "heatmapgl": [
           {
            "colorbar": {
             "outlinewidth": 0,
             "ticks": ""
            },
            "colorscale": [
             [
              0,
              "#0d0887"
             ],
             [
              0.1111111111111111,
              "#46039f"
             ],
             [
              0.2222222222222222,
              "#7201a8"
             ],
             [
              0.3333333333333333,
              "#9c179e"
             ],
             [
              0.4444444444444444,
              "#bd3786"
             ],
             [
              0.5555555555555556,
              "#d8576b"
             ],
             [
              0.6666666666666666,
              "#ed7953"
             ],
             [
              0.7777777777777778,
              "#fb9f3a"
             ],
             [
              0.8888888888888888,
              "#fdca26"
             ],
             [
              1,
              "#f0f921"
             ]
            ],
            "type": "heatmapgl"
           }
          ],
          "histogram": [
           {
            "marker": {
             "pattern": {
              "fillmode": "overlay",
              "size": 10,
              "solidity": 0.2
             }
            },
            "type": "histogram"
           }
          ],
          "histogram2d": [
           {
            "colorbar": {
             "outlinewidth": 0,
             "ticks": ""
            },
            "colorscale": [
             [
              0,
              "#0d0887"
             ],
             [
              0.1111111111111111,
              "#46039f"
             ],
             [
              0.2222222222222222,
              "#7201a8"
             ],
             [
              0.3333333333333333,
              "#9c179e"
             ],
             [
              0.4444444444444444,
              "#bd3786"
             ],
             [
              0.5555555555555556,
              "#d8576b"
             ],
             [
              0.6666666666666666,
              "#ed7953"
             ],
             [
              0.7777777777777778,
              "#fb9f3a"
             ],
             [
              0.8888888888888888,
              "#fdca26"
             ],
             [
              1,
              "#f0f921"
             ]
            ],
            "type": "histogram2d"
           }
          ],
          "histogram2dcontour": [
           {
            "colorbar": {
             "outlinewidth": 0,
             "ticks": ""
            },
            "colorscale": [
             [
              0,
              "#0d0887"
             ],
             [
              0.1111111111111111,
              "#46039f"
             ],
             [
              0.2222222222222222,
              "#7201a8"
             ],
             [
              0.3333333333333333,
              "#9c179e"
             ],
             [
              0.4444444444444444,
              "#bd3786"
             ],
             [
              0.5555555555555556,
              "#d8576b"
             ],
             [
              0.6666666666666666,
              "#ed7953"
             ],
             [
              0.7777777777777778,
              "#fb9f3a"
             ],
             [
              0.8888888888888888,
              "#fdca26"
             ],
             [
              1,
              "#f0f921"
             ]
            ],
            "type": "histogram2dcontour"
           }
          ],
          "mesh3d": [
           {
            "colorbar": {
             "outlinewidth": 0,
             "ticks": ""
            },
            "type": "mesh3d"
           }
          ],
          "parcoords": [
           {
            "line": {
             "colorbar": {
              "outlinewidth": 0,
              "ticks": ""
             }
            },
            "type": "parcoords"
           }
          ],
          "pie": [
           {
            "automargin": true,
            "type": "pie"
           }
          ],
          "scatter": [
           {
            "marker": {
             "colorbar": {
              "outlinewidth": 0,
              "ticks": ""
             }
            },
            "type": "scatter"
           }
          ],
          "scatter3d": [
           {
            "line": {
             "colorbar": {
              "outlinewidth": 0,
              "ticks": ""
             }
            },
            "marker": {
             "colorbar": {
              "outlinewidth": 0,
              "ticks": ""
             }
            },
            "type": "scatter3d"
           }
          ],
          "scattercarpet": [
           {
            "marker": {
             "colorbar": {
              "outlinewidth": 0,
              "ticks": ""
             }
            },
            "type": "scattercarpet"
           }
          ],
          "scattergeo": [
           {
            "marker": {
             "colorbar": {
              "outlinewidth": 0,
              "ticks": ""
             }
            },
            "type": "scattergeo"
           }
          ],
          "scattergl": [
           {
            "marker": {
             "colorbar": {
              "outlinewidth": 0,
              "ticks": ""
             }
            },
            "type": "scattergl"
           }
          ],
          "scattermapbox": [
           {
            "marker": {
             "colorbar": {
              "outlinewidth": 0,
              "ticks": ""
             }
            },
            "type": "scattermapbox"
           }
          ],
          "scatterpolar": [
           {
            "marker": {
             "colorbar": {
              "outlinewidth": 0,
              "ticks": ""
             }
            },
            "type": "scatterpolar"
           }
          ],
          "scatterpolargl": [
           {
            "marker": {
             "colorbar": {
              "outlinewidth": 0,
              "ticks": ""
             }
            },
            "type": "scatterpolargl"
           }
          ],
          "scatterternary": [
           {
            "marker": {
             "colorbar": {
              "outlinewidth": 0,
              "ticks": ""
             }
            },
            "type": "scatterternary"
           }
          ],
          "surface": [
           {
            "colorbar": {
             "outlinewidth": 0,
             "ticks": ""
            },
            "colorscale": [
             [
              0,
              "#0d0887"
             ],
             [
              0.1111111111111111,
              "#46039f"
             ],
             [
              0.2222222222222222,
              "#7201a8"
             ],
             [
              0.3333333333333333,
              "#9c179e"
             ],
             [
              0.4444444444444444,
              "#bd3786"
             ],
             [
              0.5555555555555556,
              "#d8576b"
             ],
             [
              0.6666666666666666,
              "#ed7953"
             ],
             [
              0.7777777777777778,
              "#fb9f3a"
             ],
             [
              0.8888888888888888,
              "#fdca26"
             ],
             [
              1,
              "#f0f921"
             ]
            ],
            "type": "surface"
           }
          ],
          "table": [
           {
            "cells": {
             "fill": {
              "color": "#EBF0F8"
             },
             "line": {
              "color": "white"
             }
            },
            "header": {
             "fill": {
              "color": "#C8D4E3"
             },
             "line": {
              "color": "white"
             }
            },
            "type": "table"
           }
          ]
         },
         "layout": {
          "annotationdefaults": {
           "arrowcolor": "#2a3f5f",
           "arrowhead": 0,
           "arrowwidth": 1
          },
          "autotypenumbers": "strict",
          "coloraxis": {
           "colorbar": {
            "outlinewidth": 0,
            "ticks": ""
           }
          },
          "colorscale": {
           "diverging": [
            [
             0,
             "#8e0152"
            ],
            [
             0.1,
             "#c51b7d"
            ],
            [
             0.2,
             "#de77ae"
            ],
            [
             0.3,
             "#f1b6da"
            ],
            [
             0.4,
             "#fde0ef"
            ],
            [
             0.5,
             "#f7f7f7"
            ],
            [
             0.6,
             "#e6f5d0"
            ],
            [
             0.7,
             "#b8e186"
            ],
            [
             0.8,
             "#7fbc41"
            ],
            [
             0.9,
             "#4d9221"
            ],
            [
             1,
             "#276419"
            ]
           ],
           "sequential": [
            [
             0,
             "#0d0887"
            ],
            [
             0.1111111111111111,
             "#46039f"
            ],
            [
             0.2222222222222222,
             "#7201a8"
            ],
            [
             0.3333333333333333,
             "#9c179e"
            ],
            [
             0.4444444444444444,
             "#bd3786"
            ],
            [
             0.5555555555555556,
             "#d8576b"
            ],
            [
             0.6666666666666666,
             "#ed7953"
            ],
            [
             0.7777777777777778,
             "#fb9f3a"
            ],
            [
             0.8888888888888888,
             "#fdca26"
            ],
            [
             1,
             "#f0f921"
            ]
           ],
           "sequentialminus": [
            [
             0,
             "#0d0887"
            ],
            [
             0.1111111111111111,
             "#46039f"
            ],
            [
             0.2222222222222222,
             "#7201a8"
            ],
            [
             0.3333333333333333,
             "#9c179e"
            ],
            [
             0.4444444444444444,
             "#bd3786"
            ],
            [
             0.5555555555555556,
             "#d8576b"
            ],
            [
             0.6666666666666666,
             "#ed7953"
            ],
            [
             0.7777777777777778,
             "#fb9f3a"
            ],
            [
             0.8888888888888888,
             "#fdca26"
            ],
            [
             1,
             "#f0f921"
            ]
           ]
          },
          "colorway": [
           "#636efa",
           "#EF553B",
           "#00cc96",
           "#ab63fa",
           "#FFA15A",
           "#19d3f3",
           "#FF6692",
           "#B6E880",
           "#FF97FF",
           "#FECB52"
          ],
          "font": {
           "color": "#2a3f5f"
          },
          "geo": {
           "bgcolor": "white",
           "lakecolor": "white",
           "landcolor": "#E5ECF6",
           "showlakes": true,
           "showland": true,
           "subunitcolor": "white"
          },
          "hoverlabel": {
           "align": "left"
          },
          "hovermode": "closest",
          "mapbox": {
           "style": "light"
          },
          "paper_bgcolor": "white",
          "plot_bgcolor": "#E5ECF6",
          "polar": {
           "angularaxis": {
            "gridcolor": "white",
            "linecolor": "white",
            "ticks": ""
           },
           "bgcolor": "#E5ECF6",
           "radialaxis": {
            "gridcolor": "white",
            "linecolor": "white",
            "ticks": ""
           }
          },
          "scene": {
           "xaxis": {
            "backgroundcolor": "#E5ECF6",
            "gridcolor": "white",
            "gridwidth": 2,
            "linecolor": "white",
            "showbackground": true,
            "ticks": "",
            "zerolinecolor": "white"
           },
           "yaxis": {
            "backgroundcolor": "#E5ECF6",
            "gridcolor": "white",
            "gridwidth": 2,
            "linecolor": "white",
            "showbackground": true,
            "ticks": "",
            "zerolinecolor": "white"
           },
           "zaxis": {
            "backgroundcolor": "#E5ECF6",
            "gridcolor": "white",
            "gridwidth": 2,
            "linecolor": "white",
            "showbackground": true,
            "ticks": "",
            "zerolinecolor": "white"
           }
          },
          "shapedefaults": {
           "line": {
            "color": "#2a3f5f"
           }
          },
          "ternary": {
           "aaxis": {
            "gridcolor": "white",
            "linecolor": "white",
            "ticks": ""
           },
           "baxis": {
            "gridcolor": "white",
            "linecolor": "white",
            "ticks": ""
           },
           "bgcolor": "#E5ECF6",
           "caxis": {
            "gridcolor": "white",
            "linecolor": "white",
            "ticks": ""
           }
          },
          "title": {
           "x": 0.05
          },
          "xaxis": {
           "automargin": true,
           "gridcolor": "white",
           "linecolor": "white",
           "ticks": "",
           "title": {
            "standoff": 15
           },
           "zerolinecolor": "white",
           "zerolinewidth": 2
          },
          "yaxis": {
           "automargin": true,
           "gridcolor": "white",
           "linecolor": "white",
           "ticks": "",
           "title": {
            "standoff": 15
           },
           "zerolinecolor": "white",
           "zerolinewidth": 2
          }
         }
        },
        "xaxis": {
         "anchor": "y",
         "domain": [
          0,
          1
         ],
         "title": {
          "text": "modprop"
         }
        },
        "yaxis": {
         "anchor": "x",
         "domain": [
          0,
          1
         ]
        }
       }
      },
      "text/html": [
       "<div>                            <div id=\"2141fdeb-dc7f-4d32-bd3c-758a7772fd50\" class=\"plotly-graph-div\" style=\"height:525px; width:100%;\"></div>            <script type=\"text/javascript\">                require([\"plotly\"], function(Plotly) {                    window.PLOTLYENV=window.PLOTLYENV || {};                                    if (document.getElementById(\"2141fdeb-dc7f-4d32-bd3c-758a7772fd50\")) {                    Plotly.newPlot(                        \"2141fdeb-dc7f-4d32-bd3c-758a7772fd50\",                        [{\"alignmentgroup\":\"True\",\"customdata\":[[0,\"Jim Gaffigan: Comedy Monster (2021) | Transcript\"],[1,\"Louis C. K.: Sorry (2021) | Transcript\"],[2,\"Drew Michael: Drew Michael (2018) | Transcript\"],[3,\"Drew Michael: Red Blue Green (2021) | Transcript\"],[4,\"Mo Amer: Mohammed in Texas (2021) | Transcript\"],[5,\"Dave Chappelle: The Closer (2021) | Transcript\"],[6,\"Kathleen Madigan: Bothering Jesus (2016) \\u2013 Transcript\"],[7,\"Kathleen Madigan: Madigan Again (2013) \\u2013 Transcript\"],[8,\"Phil Wang: Philly Philly Wang Wang (2021) \\u2013 Transcript\"],[9,\"Tom Papa: You\\u2019re Doing Great! (2020) \\u2013 Transcript\"],[10,\"Tom Papa: Human Mule (2016) \\u2013 Transcript\"],[11,\"Tom Papa: Freaked Out (2013) \\u2013 Transcript\"],[12,\"Bo Burnham: Inside (2021) \\u2013 Transcript\"],[13,\"Tig Notaro: Boyish Girl Interrupted (2015) \\u2013 Transcript\"],[14,\"Joe List: I Hate Myself (2020) \\u2013 Transcript\"],[15,\"Nate Bargatze: The Greatest Average American (2021) \\u2013 Transcript\"],[16,\"Brian Regan: On The Rocks (2021) \\u2013 Transcript\"],[17,\"Doug Stanhope: Beer Hall Putsch (2013) \\u2013 Transcript\"],[18,\"Chris Rock Total Blackout: The Tamborine Extended Cut \\u2013 Transcript\"],[19,\"Sarah Cooper: Everything\\u2019s Fine (2020) \\u2013 Transcript\"],[20,\"Bo Burnham: Words, Words, Words (2010) \\u2013 Transcript\"],[21,\"Vir Das: Outside in \\u2013 The Lockdown Special (2020) \\u2013 Transcript\"],[22,\"Larry the Cable Guy \\u2013 Remain Seated (2020) \\u2013 Transcript\"],[23,\"Craig Ferguson: Just Being Honest (2015) \\u2013 Transcript\"],[24,\"Kevin Hart: Zero F**ks Given (2020) \\u2013 Transcript\"],[25,\"Sam Morril: I Got This (2020) \\u2013 Transcript\"],[26,\"RONNY CHIENG: ASIAN COMEDIAN DESTROYS AMERICA (2019) \\u2013 TRANSCRIPT\"],[27,\"Craig Ferguson: A Wee Bit o\\u2019 Revolution (2009) \\u2013 Transcript\"],[28,\"MICHAEL MCINTYRE: SHOWMAN (2020) \\u2013 TRANSCRIPT\"],[29,\"ROB SCHNEIDER: ASIAN MOMMA, MEXICAN KIDS (2020) \\u2013 TRANSCRIPT\"],[30,\"Sam Jay: 3 in the Morning (2020) \\u2013 Transcript\"],[31,\"Jack Whitehall: I\\u2019m Only Joking (2020) | Transcript\"],[32,\"URZILA CARLSON: OVERQUALIFIED LOSER (2020) \\u2013 FULL TRANSCRIPT\"],[33,\"GEORGE LOPEZ: WE\\u2019LL DO IT FOR HALF (2020) \\u2013 FULL TRANSCRIPT\"],[34,\"JIM JEFFERIES: INTOLERANT (2020) \\u2013 FULL TRANSCRIPT\"],[35,\"George Carlin: Doin\\u2019 It Again (1990) \\u2013 Transcript\"],[36,\"ERIC ANDRE: LEGALIZE EVERYTHING (2020)\"],[37,\"ROY WOOD JR.: FATHER FIGURE (2017) \\u2013 FULL TRANSCRIPT\"],[38,\"Mark Normand: Don\\u2019t Be Yourself (2017) \\u2013 Transcript\"],[39,\"Chris Gethard: Career Suicide (2017) \\u2013 Transcript\"],[40,\"RAMY YOUSSEF: FEELINGS (2019) \\u2013 FULL TRANSCRIPT\"],[41,\"KENNY SEBASTIAN DON\\u2019T BE THAT GUY (2017) \\u2013 FULL TRANSCRIPT\"],[42,\"BILLY CONNOLLY: HIGH HORSE TOUR LIVE (2016) \\u2013 FULL TRANSCRIPT\"],[43,\"Hannah Gadsby: Douglas (2020) \\u2013 Transcript\"],[44,\"Hasan Minhaj: Homecoming King (2017) \\u2013 Transcript\"],[45,\"PATTON OSWALT: I LOVE EVERYTHING (2020) \\u2013 FULL TRANSCRIPT\"],[46,\"RUSSELL PETERS: DEPORTED (2020) \\u2013 FULL TRANSCRIPT\"],[47,\"JIMMY O. YANG: GOOD DEAL (2020) \\u2013 FULL TRANSCRIPT\"],[48,\"JO KOY: LIGHTS OUT (2012) \\u2013 FULL TRANSCRIPT\"],[49,\"LEE MACK: GOING OUT LIVE (2010) \\u2013 FULL TRANSCRIPT\"],[50,\"LEE MACK: LIVE (2007) \\u2013 FULL TRANSCRIPT\"],[51,\"T.J. MILLER: NO REAL REASON (2011) \\u2013 FULL TRANSCRIPT\"],[52,\"Jerry Seinfeld: 23 Hours To Kill (2020) \\u2013 Transcript\"],[53,\"SINCERELY LOUIS CK (2020)\"],[54,\"JIM NORTON: AMERICAN DEGENERATE (2013) \\u2013 FULL TRANSCRIPT\"],[55,\"Jim Norton: Monster Rain (2007) \\u2013 Transcript\"],[56,\"MARIA BAMFORD: WEAKNESS IS THE BRAND (2020) \\u2013 FULL TRANSCRIPT\"],[57,\"CHRIS D\\u2019ELIA: WHITE MALE. BLACK COMIC. (2013) \\u2013 FULL TRANSCRIPT\"],[58,\"Chris D\\u2019Elia: Man on Fire (2017) \\u2013 Full Transcript\"],[59,\"Tom Segura: Ball Hog (2020) \\u2013 Transcript\"],[60,\"Bert Kreischer: Hey Big Boy (2020) \\u2013 Transcript\"],[61,\"Marc Maron: End Times Fun (2020) \\u2013 Full Transcript\"],[62,\"PETE DAVIDSON: SMD (2016) \\u2013 FULL TRANSCRIPT\"],[63,\"PETE DAVIDSON: ALIVE FROM NEW YORK (2020) \\u2013 FULL TRANSCRIPT\"],[64,\"Amanda Seales: I Be Knowin\\u2019 (2019) \\u2013 Transcript\"],[65,\"Stewart Lee: Carpet Remnant World (2012) \\u2013 Full Transcript\"],[66,\"Stewart Lee: Content Provider (2018) \\u2013 Transcript\"],[67,\"Sara Pascoe: LadsLadsLads (2019) \\u2013 Full Transcript\"],[68,\"Dan Soder: Son of a Gary (2019) \\u2013 Full Transcript\"],[69,\"Jim Gaffigan: Quality Time (2019) \\u2013 Full Transcript\"],[70,\"Kevin Bridges: A Whole Different Story (2015) \\u2013 Full Transcript\"],[71,\"Kevin Bridges: The Story So Far\\u2026 Live in Glasgow (2010) \\u2013 Full Transcript\"],[72,\"Kevin Bridges: The Story Continues (2012) \\u2013 Full Transcript\"],[74,\"Michelle Wolf: Joke Show (2019) \\u2013 Full Transcript\"],[75,\"Tiffany Haddish: Black Mitzvah (2019) \\u2013 Transcript\"],[76,\"Mike Birbiglia: The New One (2019) \\u2013 Full Transcript\"],[77,\"Iliza Shlesinger: Unveiled (2019) \\u2013 Full Transcript\"],[78,\"Seth Meyers: Lobby Baby (2019) \\u2013 Full Transcript\"],[79,\"Arsenio Hall: Smart and Classy (2019) \\u2013 Transcript\"],[80,\"Nikki Glaser: Bangin\\u2019 (2019) \\u2013 Full Transcript\"],[81,\"Bill Burr: Paper Tiger (2019) \\u2013 Transcript\"],[82,\"Dave Chappelle: Sticks & Stones (2019) \\u2013 Transcript\"],[83,\"Emily Heller: Ice Thickeners (2019) \\u2013 Full Transcript\"],[84,\"David Cross: Oh Come On (2019) \\u2013 Full Transcript\"],[85,\"Whitney Cummings: Can I Touch It? (2019) \\u2013 Full Transcript\"],[86,\"Aziz Ansari: Right Now (2019) \\u2013 Transcript\"],[87,\"Ralphie May: Filthy Animal Tour (2014) \\u2013 Transcript\"],[88,\"Mike Epps: Only One Mike (2019) \\u2013 Full Transcript\"],[89,\"Adam DeVine: Best Time of Our Lives (2019) \\u2013 Full Transcript\"],[90,\"Jo Koy: Live from Seattle (2017) \\u2013 Full Transcript\"],[91,\"Jo Koy: Comin\\u2019 in Hot (2019) \\u2013 Full Transcript\"],[92,\"Wanda Sykes: Not Normal (2019) \\u2013 Full Transcript\"],[93,\"Cedric the Entertainer: Live from the Ville (2016) \\u2013 Transcript\"],[94,\"Eddie Murphy: Raw (1987) \\u2013 Transcript\"],[95,\"Colin Quinn: The New York Story (2016) \\u2013 Full Transcript\"],[96,\"Demetri Martin: Live (At The Time) (2015) | Transcript\"],[97,\"George Carlin: What Am I Doing in New Jersey? (1988) \\u2013 Full Transcript\"],[98,\"Chelsea Peretti: One of the Greats (2014) \\u2013 Full Transcript\"],[99,\"Anthony Jeselnik: Fire in the Maternity Ward (2019) \\u2013 Transcript\"],[100,\"Roy Wood Jr.: No One Loves You (2019) \\u2013 Transcript\"],[101,\"Robin Williams: Weapons of Self Destruction (2009) \\u2013 Full Transcript\"],[102,\"ROBIN WILLIAMS LIVE ON BROADWAY (2002) \\u2013 FULL TRANSCRIPT\"],[103,\"Jimmy Carr: The Best of Ultimate Gold Greatest Hits (2019) \\u2013 Full Transcript\"],[104,\"Nate Bargatze: The Tennessee Kid (2019) \\u2013 Full Transcript\"],[105,\"W. Kamau Bell: Private School Negro (2018) \\u2013 Transcript\"],[106,\"Kevin Hart: Irresponsible (2019) \\u2013 Transcript\"],[107,\"Nate Bargatze: Full Time Magic (2015) \\u2013 Full Transcript\"],[108,\"Amy Schumer: Growing (2019) \\u2013 Full Transcript\"],[109,\"Enissa Amani: Ehrenwort (2018) Full Transcript\"],[110,\"Ken Jeong: You Complete Me, Ho (2019) \\u2013 Full Transcript\"],[111,\"Ray Romano: Right Here, Around the Corner (2019) \\u2013 Full Transcript\"],[112,\"Gabriel \\u201cFluffy\\u201d Iglesias: One Show Fits All (2019) \\u2013 Full Transcript\"],[113,\"Sebastian Maniscalco: Stay Hungry (2019) \\u2013 Full Transcript\"],[115,\"Sebastian Maniscalco: Aren\\u2019t You Embarrassed? (2014) \\u2013 Full Transcript\"],[116,\"Sebastian Maniscalco: What\\u2019s Wrong with People? (2012) \\u2013 Full Transcript\"],[117,\"Oh, Hello On Broadway (2017) \\u2013 Transcript\"],[118,\"Ellen Degeneres: Relatable (2018) \\u2013 Transcript\"],[119,\"Pete Holmes: Dirty Clean (2018) \\u2013 Full Transcript\"],[120,\"Vir Das: Losing It (2018) \\u2013 Full Transcript\"],[121,\"Trevor Noah: Son of Patricia (2018) \\u2013 Transcript\"],[122,\"Jeff Foxworthy & Larry the Cable Guy: We\\u2019ve Been Thinking (2016) \\u2013 Full Transcript\"],[123,\"Adam Sandler: 100% Fresh (2018) \\u2013 Full Transcript\"],[124,\"Jeff Foxworthy: Totally Committed (1998) \\u2013 Full Transcript\"],[125,\"RON WHITE: IF YOU QUIT LISTENING, I\\u2019LL SHUT UP (2018) \\u2013 FULL TRANSCRIPT\"],[127,\"Mo Amer: The Vagabond (2018) \\u2013 Full Transcript\"],[128,\"Joe Mande\\u2019s Award-Winning Comedy Special (2017) \\u2013 Full Transcript\"],[129,\"Henry Rollins: Keep Talking, Pal (2018) \\u2013 Full Transcript\"],[130,\"Joe Rogan: Strange Times (2018) \\u2013 Full Transcript\"],[131,\"D.L. Hughley: Contrarian (2018) \\u2013 Transcript\"],[132,\"Iliza Shlesinger: Freezing Hot (2015) \\u2013 Full Transcript\"],[133,\"Iliza Shlesinger: War Paint (2013) \\u2013 Transcript\"],[134,\"Bert Kreischer: Secret Time (2018) \\u2013 Transcript\"],[136,\"Demetri Martin: The Overthinker (2018) | Transcript\"],[137,\"BILL MAHER: LIVE FROM OKLAHOMA (2018) \\u2013 Full Transcript\"],[138,\"Rowan Atkinson Live (1992) \\u2013 Transcript\"],[139,\"Iliza Shlesinger: Confirmed Kills (2016) \\u2013 Full Transcript\"],[140,\"Iliza Shlesinger: Elder Millennial (2018) \\u2013 Full Transcript\"],[141,\"JIM GAFFIGAN: NOBLE APE (2018) \\u2013 Full Transcript\"],[142,\"Jim Norton: Contextually Inadequate (2015) \\u2013 Transcript\"],[143,\"Hannah Gadsby: Nanette (2018) \\u2013 Transcript\"],[144,\"BRAD WILLIAMS: DADDY ISSUES (2016) \\u2013 Full Transcript\"],[145,\"Deray Davis: How To Act Black (2017) \\u2013 Transcript\"],[146,\"RICKY GERVAIS: LIVE IV \\u2013 SCIENCE (2010) \\u2013 Full Transcript\"],[147,\"JIM JEFFERIES: THIS IS ME NOW (2018) \\u2013 Full transcript\"],[148,\"RUSSELL PETERS: OUTSOURCED (2006) \\u2013 Full Transcript\"],[149,\"RUSSELL PETERS: ALMOST FAMOUS (2016) \\u2013 Full Transcript\"],[150,\"RON WHITE: A LITTLE UNPROFESSIONAL (2012) \\u2013 Full Transcript\"],[151,\"MICHAEL MCINTYRE: HELLO WEMBLEY! (2009) \\u2013 Full Transcript\"],[152,\"KEVIN SMITH: SILENT BUT DEADLY (2018) \\u2013 Full Transcript\"],[153,\"KEVIN JAMES: NEVER DON\\u2019T GIVE UP (2018) \\u2013 Full Transcript\"],[154,\"BRENT MORIN: I\\u2019M BRENT MORIN (2015) \\u2013 Full Transcript\"],[155,\"NIKKI GLASER: PERFECT (2016) \\u2013 Full Transcript\"],[156,\"Ali Wong: Hard Knock Wife (2018) \\u2013 Transcript\"],[157,\"KAVIN JAY: EVERYBODY CALM DOWN! (2018) \\u2013 Full Transcript\"],[158,\"John Mulaney: Kid Gorgeous At Radio City (2018) \\u2013 Transcript\"],[159,\"Eddie Griffin: Undeniable (2018) \\u2013 Transcript\"],[160,\"GREG DAVIES: YOU MAGNIFICENT BEAST (2018) \\u2013 Full Transcript\"],[161,\"George Carlin: You Are All Diseased (1999) \\u2013 Transcript\"],[162,\"Marlon Wayans: Woke-Ish (2018) \\u2013 Transcript\"],[163,\"RICKY GERVAIS: HUMANITY (2018) \\u2013 Full Transcript\"],[164,\"ADEL KARAM: LIVE FROM BEIRUT (2018) \\u2013 Full Transcript\"],[165,\"STEWART LEE: 90s COMEDIAN (2006) \\u2013 Full Transcript\"],[166,\"Mike Birbiglia: My Girlfriend\\u2019s Boyfriend (2013) \\u2013 Transcript\"],[167,\"DAVE ATTELL: ROAD WORK (2014) \\u2013 Full Transcript\"],[168,\"Eddie Izzard \\u2013 Glorious (1997) \\u2013 Transcript\"],[169,\"Chris Rock: Bring the Pain (1996) \\u2013 Transcript\"],[170,\"ARI SHAFFIR: DOUBLE NEGATIVE (2017) \\u2013 Full Transcript\"],[171,\"Chris Rock: Tamborine (2018) \\u2013 Transcript\"],[172,\"FRED ARMISEN: STANDUP FOR DRUMMERS (2018) \\u2013 Full Transcript\"],[173,\"DANA CARVEY: STRAIGHT WHITE MALE, 60 (2016) \\u2013 Full Transcript\"],[174,\"EDDIE IZZARD: STRIPPED (2009) \\u2013 Full Transcript\"],[175,\"TODD GLASS: ACT HAPPY (2018) \\u2013 Full Transcript\"],[176,\"BRIAN REGAN: STANDING UP (2007) \\u2013 Full Transcript\"],[177,\"BRIAN REGAN: NUNCHUCKS AND FLAMETHROWERS (2017) \\u2013 Full Transcript\"],[178,\"Katt Williams: Great America (2018) \\u2013 Transcript\"],[179,\"JIMMY CARR: BEING FUNNY (2011) \\u2013 Full Transcript\"],[180,\"JIMMY CARR: LAUGHING AND JOKING (2013) \\u2013 Full Transcript\"],[181,\"Eddie Izzard: Unrepeatable (1994) | Transcript\"],[182,\"D.L. Hughley: Unapologetic (2007) \\u2013 Transcript\"],[183,\"BRIDGET EVERETT: GYNECOLOGICAL WONDER (2015) \\u2013 Full Transcript\"],[184,\"Chris Rock: Never Scared (2004) \\u2013 Transcript\"],[185,\"Stewart Lee: Stand-Up Comedian (2005) \\u2013 Transcript\"],[186,\"JIMMY CARR: FUNNY BUSINESS (2016) \\u2013 Full Transcript\"],[187,\"Eddie Izzard: Dress To Kill (1999) \\u2013 Transcript\"],[188,\"Chris Tucker: Live (2015) \\u2013 Transcript\"],[189,\"Kevin Hart: What Now (2016) \\u2013 Transcript\"],[190,\"Kevin Hart: Let Me Explain (2013) \\u2013 Transcript\"],[191,\"Tom Segura: Disgraceful (2018) \\u2013 Transcript\"],[193,\"MICHELLE WOLF: NICE LADY (2017) \\u2013 Full Transcript\"],[194,\"FAHIM ANWAR: THERE\\u2019S NO BUSINESS LIKE SHOW BUSINESS (2017) \\u2013 Transcript\"],[195,\"ELLEN DEGENERES: THE BEGINNING (2000) \\u2013 Full Transcript\"],[196,\"MAZ JOBRANI: IMMIGRANT (2017) \\u2013 Full Transcript\"],[197,\"TODD BARRY: SPICY HONEY (2017) \\u2013 Full Transcript\"],[198,\"Jerry Seinfeld: I\\u2019m Telling You for the Last Time (1998) \\u2013 Transcript\"],[199,\"Craig Ferguson: Does This Need To Be Said? (2011) \\u2013 Transcript\"],[203,\"DAVE CHAPPELLE: THE BIRD REVELATION (2017) \\u2013 Transcripci\\u00f3n completa\"],[204,\"Dave Chappelle: The Bird Revelation (2017) \\u2013 Transcript\"],[205,\"Dave Chappelle: Equanimity (2017) \\u2013 Transcript\"],[206,\"CRAIG FERGUSON: I\\u2019M HERE TO HELP (2013) \\u2013 Full Transcript\"],[207,\"RUSSELL HOWARD: RECALIBRATE (2017) \\u2013 Full Transcript\"],[208,\"WHITNEY CUMMINGS: I LOVE YOU (2014) \\u2013 Full Transcript\"],[209,\"WHITNEY CUMMINGS: I\\u2019M YOUR GIRLFRIEND (2016) \\u2013 Full Transcript\"],[210,\"SARAH MILLICAN: CHATTERBOX LIVE (2011) \\u2013 Full Transcript\"],[211,\"Anjelah Johnson: Not Fancy (2015) \\u2013 Transcript\"],[212,\"RICKY GERVAIS LIVE 2: POLITICS (2004) \\u2013 Full Transcript\"],[213,\"Russell Howard Live: Dingledodies (2009) \\u2013 Full Transcript\"],[214,\"CHRISTINA PAZSITZKY: MOTHER INFERIOR (2017) \\u2013 FULL TRANSCRIPT\"],[215,\"Jack Whitehall: At Large (2017) \\u2013 Transcript\"],[216,\"CRISTELA ALONZO: LOWER CLASSY (2017) \\u2013 Full Transcript\"],[217,\"JUDAH FRIEDLANDER: AMERICA IS THE GREATEST COUNTRY IN THE UNITED STATES (2017) \\u2013 Full Transcript\"],[218,\"AZIZ ANSARI: LIVE IN MADISON SQUARE GARDEN (2015) \\u2013 Full Transcript\"],[219,\"AZIZ ANSARI: BURIED ALIVE (2013) \\u2013 Full Transcript\"],[220,\"Paul Mooney: A Piece of My Mind \\u2013 Godbless America (2014) \\u2013 Transcript\"],[221,\"PATTON OSWALT: ANNIHILATION (2017) \\u2013 Full Transcript\"],[222,\"Chris Rock: Kill The Messenger \\u2013 London, New York, Johannesburg (2008) \\u2013 Transcript\"],[223,\"BILL MAHER: LIVE FROM D.C. (2014) \\u2013 Full Transcript\"],[224,\"Sarah Silverman: Jesus Is Magic (2005) \\u2013 Transcript\"],[225,\"SARAH SILVERMAN: WE ARE MIRACLES (2013) \\u2013 Full Transcript\"],[226,\"Pablo Francisco: Ouch! Live From San Jose (2006) \\u2013 Full Transcript\"],[227,\"BILL MAHER\\u2026 BUT I\\u2019M NOT WRONG (2010) \\u2013 Full Transcript\"],[228,\"RUSSELL BRAND: MESSIAH COMPLEX (2013) \\u2013 Full Transcript\"],[229,\"Chris Rock: Bigger & Blacker (1999) \\u2013 Transcript\"],[230,\"Gabriel Iglesias: Hot And Fluffy (2007) \\u2013 Transcript\"],[231,\"GABRIEL IGLESIAS: I\\u2019M NOT FAT \\u2026 I\\u2019M FLUFFY (2009) \\u2013 Full Transcript\"],[232,\"GABRIEL IGLESIAS: I\\u2019M SORRY FOR WHAT I SAID WHEN I WAS HUNGRY (2016) \\u2013 Full Transcript\"],[233,\"RORY SCOVEL TRIES STAND-UP FOR THE FIRST TIME (2017) \\u2013 Full Transcript\"],[234,\"LISA LAMPANELLI: BACK TO THE DRAWING BOARD (2015) \\u2013 Full Transcript\"],[235,\"ERIK GRIFFIN: THE UGLY TRUTH (2017) \\u2013 Full Transcript\"],[236,\"JEN KIRKMAN: JUST KEEP LIVIN\\u2019? (2017) \\u2013 Full Transcript\"],[237,\"DANIEL TOSH: COMPLETELY SERIOUS (2007) \\u2013 Full Transcript\"],[238,\"AL MADRIGAL: WHY IS THE RABBIT CRYING? (2013) \\u2013 Full Transcript\"],[239,\"NEAL BRENNAN: 3 MICS (2017)- FULL TRANSCRIPT\"],[240,\"John Mulaney: New In Town (2012) \\u2013 Transcript\"],[241,\"Donald Glover: Weirdo (2012) \\u2013 Transcript\"],[242,\"ALI WONG: BABY COBRA (2016) \\u2013 Full Transcript\"],[243,\"Norm Macdonald: Hitler\\u2019s Dog, Gossip & Trickery (2017) \\u2013 Transcript\"],[244,\"DANIEL TOSH: PEOPLE PLEASER (2016) \\u2013 FULL TRANSCRIPT\"],[245,\"Marc Maron: More Later (2015) \\u2013 Full Transcript\"],[246,\"Dylan Moran: Off The Hook (2015) \\u2013 Transcript\"],[247,\"Richard Pryor: Live And Smokin\\u2019 (1971) \\u2013 Transcript\"],[248,\"RICHARD PRYOR: \\u2026HERE AND NOW (1983) \\u2013 Full Transcript\"],[249,\"BILL BURR: WHY DO I DO THIS (2008) \\u2013 Testo italiano completo\"],[250,\"AMY SCHUMER: MOSTLY SEX STUFF (2012) \\u2013 Full Transcript\"],[251,\"Jim Jefferies: Alcoholocaust (2010) \\u2013 Transcript\"],[252,\"AMY SCHUMER: LIVE AT THE APOLLO (2015) \\u2013 Full Transcript\"],[253,\"Kevin Hart: Seriously Funny (2010) \\u2013 Transcript\"],[254,\"Hannibal Buress: Comedy Camisado (2016) \\u2013 Transcript\"],[255,\"Neal Brennan: Women And Black Dudes (2014) \\u2013 Transcript\"],[256,\"NICK OFFERMAN: AMERICAN HAM (2014) \\u2013 Full Transcript\"],[257,\"AZIZ ANSARI: INTIMATE MOMENTS FOR A SENSUAL EVENING (2010) \\u2013 Full Transcript\"],[258,\"BIG JAY OAKERSON: LIVE AT WEBSTER HALL (2016) \\u2013 Full Transcript\"],[260,\"DOUG STANHOPE: NO REFUNDS (2007) \\u2013 Trascrizione italiana\"],[261,\"George Carlin at USC (1977) \\u2013 Full Transcript\"],[262,\"Jim Norton: Mouthful Of Shame (2017) Transcript\"],[263,\"Michael Che Matters (2016) \\u2013 Transcript\"],[264,\"Joe Rogan: Triggered (2016) \\u2013 Transcript\"],[265,\"Trevor Noah: Lost In Translation (2015) \\u2013 Transcript\"],[266,\"MARIA BAMFORD: OLD BABY (2017) \\u2013 FULL TRANSCRIPT\"],[267,\"Bo Burnham: What (2013) \\u2013 Transcript\"],[268,\"Bo Burnham: Make Happy (2016) \\u2013 Transcript\"],[269,\"ANTHONY JESELNIK: CALIGULA (2013) \\u2013 Full Transcript\"],[270,\"Anthony Jeselnik: Thoughts And Prayers (2015) \\u2013 Full Transcript\"],[271,\"John Mulaney: The Comeback Kid (2015) \\u2013 Transcript\"],[272,\"BILL HICKS: REVELATIONS (1993) \\u2013 FULL TRANSCRIPT\"],[273,\"LEWIS BLACK: BLACK TO THE FUTURE (2016) \\u2013 Full Transcript\"],[274,\"DOUG STANHOPE: BEFORE TURNING THE GUN ON HIMSELF (2012) \\u2013 Transcript\"],[275,\"DOUG STANHOPE: DEADBEAT HERO (2004) \\u2013 Transcript\"],[276,\"JIM JEFFERIES: CONTRABAND (2008) \\u2013 Full Transcript\"],[277,\"Mike Birbiglia: Thank God for Jokes (2017) \\u2013 Transcript\"],[278,\"SARAH SILVERMAN: A SPECK OF DUST (2017) \\u2013 Full Transcript\"],[279,\"GEORGE CARLIN: PLAYING WITH YOUR HEAD (1986) \\u2013 Full Transcript\"],[280,\"GEORGE CARLIN: AGAIN!* (1978) \\u2013 Full Transcript\"],[281,\"Louis C.K.: Chewed Up (2008) \\u2013 Transcript\"],[283,\"Tom Segura: Completely Normal (2014) \\u2013 Transcript\"],[284,\"GEORGE CARLIN: CARLIN ON CAMPUS (1984) \\u2013 Full Transcript\"],[285,\"Louis C.K.: Live at the Beacon Theatre (2011) \\u2013 Transcript\"],[286,\"RICKY GERVAIS: OUT OF ENGLAND 2 (2010) \\u2013 Full Transcript\"],[287,\"AMY SCHUMER: THE LEATHER SPECIAL (2017) \\u2013 Full Transcript\"],[288,\"JIM GAFFIGAN: CINCO (2017) \\u2013 Full Transcript\"],[289,\"JIM JEFFERIES: I SWEAR TO GOD (2009) \\u2013 FULL TRANSCRIPT\"],[290,\"LOUIS C.K.: HILARIOUS (2010) \\u2013 Full Transcript\"],[291,\"LOUIS C.K.: SHAMELESS (2007) \\u2013 Full Transcript\"],[292,\"BILL BURR: I\\u2019M SORRY YOU FEEL THAT WAY (2014) \\u2013 Full Transcript\"],[293,\"BILL BURR: YOU PEOPLE ARE ALL THE SAME (2012) \\u2013 Full Transcript\"],[294,\"Dave Chappelle: For What It\\u2019s Worth (2004) \\u2013 Transcript\"],[295,\"Dave Chappelle: Killin\\u2019 Them Softly (2000) \\u2013 Transcript\"],[296,\"Eddie Griffin: You Can Tell \\u2018Em I Said It! (2011) \\u2013 Transcript\"],[297,\"BILL BURR: WALK YOUR WAY OUT (2017) \\u2013 Full Transcript\"],[298,\"LOUIS C.K.: OH MY GOD (2013) \\u2013 Full Transcript\"],[299,\"LOUIS C.K.: LIVE AT  THE COMEDY STORE (2015) \\u2013 Transcript\"],[300,\"BILL HICKS: RELENTLESS (1991) \\u2013 Transcript\"],[301,\"Daniel Tosh: Happy Thoughts (2011) \\u2013 Transcript\"],[302,\"Patrice O\\u2019Neal: Elephant in the Room (2011) \\u2013 Transcript\"],[303,\"Katt Williams: Live (2006) \\u2013 Transcript\"],[304,\"Richard Pryor: Live in Concert (1979) \\u2013 Transcript\"],[305,\"RICHARD PRYOR: LIVE ON THE SUNSET STRIP (1982) \\u2013 Full Transcript\"],[306,\"Trevor Noah: Afraid Of The Dark (2017) \\u2013 Transcript\"],[307,\"JIM JEFFERIES: BARE (2014) \\u2013 Full Transcript\"],[308,\"Dave Chappelle: Deep in the Heart of Texas (2017) \\u2013 Transcript\"],[309,\"Tom Segura: Mostly Stories (2016) \\u2013 Transcript\"],[310,\"BILL BURR: LET IT GO (2010) \\u2013 TRANSCRIPT\"],[311,\"GEORGE CARLIN: JAMMING IN NEW YORK (1992) \\u2013 Testo italiano completo\"],[312,\"GEORGE CARLIN: YOU ARE ALL DISEASED (1999) \\u2013 Testo italiano completo\"],[313,\"GEORGE CARLIN: IT\\u2019S BAD FOR YA! (2008) \\u2013 Testo italiano completo\"],[314,\"JIM JEFFERIES: FREEDUMB (2016) \\u2013 Full Transcript\"],[315,\"Eddie Murphy: Delirious (1983) \\u2013 Transcript\"],[316,\"Dave Chappelle: The Age of Spin (2017) \\u2013 Transcript\"],[317,\"GEORGE CARLIN: BACK IN TOWN (1996) \\u2013 Full transcript\"],[318,\"LOUIS C.K.: 2017 \\u2013 Full transcript\"],[319,\"George Carlin: Jamming in New York (1992) \\u2013 Transcript\"],[320,\"Reggie Watts: Spatial (2016) \\u2013 Full Transcript\"],[321,\"GEORGE CARLIN: COMPLAINTS AND GRIEVANCES (2001) \\u2013 FULL TRANSCRIPT\"],[322,\"GEORGE CARLIN: LIFE IS WORTH LOSING (2006) \\u2013 Transcript\"],[323,\"George Carlin: It\\u2019s Bad For Ya (2008) Full transcript\"],[324,\"Dave Chappelle: 8:46 \\u2013 Transcript\"],[380,\"JIM JEFFERIES ON GUN CONTROL [FULL TRANSCRIPT]\"]],\"hovertemplate\":\"modprop=%{x}<br>index=%{customdata[0]}<br>description=%{customdata[1]}<extra></extra>\",\"legendgroup\":\"\",\"marker\":{\"color\":\"#636efa\"},\"name\":\"\",\"notched\":false,\"offsetgroup\":\"\",\"orientation\":\"h\",\"showlegend\":false,\"type\":\"box\",\"x\":[0.0,0.032595312185184355,0.0,0.08095672523898298,0.11244398483281627,0.04660048770184904,0.01046546049767531,0.0,0.04780136127530002,0.024002037308206534,0.01838399415608133,0.0,0.0003421845058855735,0.043747779050025665,0.01240421191906941,0.00907188944953322,0.1611687574208869,0.0,0.010575412570651206,0.07175798285628353,0.060242815429537425,0.07613254067007696,0.06957891569463866,0.03284368747254893,0.024561575070082796,0.08654822861170422,0.0989349200723732,0.01090257904808722,0.00017535314174378958,0.0948767719545909,0.0,0.0013268156424581005,0.16511086218239363,0.05223344928496494,0.07939199064600994,0.0004590630523102348,0.20600640388649663,0.02251294793880789,0.02608638657665334,0.0,0.0,0.0031192019145446235,0.00016708183972294794,0.0,0.029914072806360752,0.00013163379478291394,0.018675430938564507,0.015046424535200656,0.020064620355411955,0.010563305743135968,0.010315843097300052,0.02252040336271963,0.00016385767790262173,0.023548815686993175,0.009338138925294889,0.0,0.059004340692433904,0.09455437203991089,0.05108879150111693,0.03411858693322422,0.02685854359494527,0.019539078156312624,0.029872722735213377,0.0,0.0,0.0645840191882613,0.0,0.0,0.05146459747817653,0.056458468770315545,0.00026776151374509105,0.0,0.02298718464456066,0.0,0.17507576727707347,0.0,0.0,0.0,0.0,0.0,0.03194623762704009,0.00037821482602118004,0.08275877608039295,0.01593625498007968,0.0,0.0,0.0016923623686303712,0.0,0.07172652567471739,0.008339471120720377,0.12409480628317253,0.0,0.03116379801664197,0.0009320781347784983,0.006918185671894871,0.028534601537846125,0.0005607476635514019,0.04983028068301256,0.0,0.016423280423280423,0.01472175620667681,0.0010645676403696954,0.0,0.0,0.06790663493840986,0.014866366667273952,0.0,0.0,0.0,0.0,0.0,0.07296516294750362,0.08024040230589967,0.0,0.0,0.026973207820419984,0.038164519156924655,0.09439157528621805,0.0,0.042554674566524356,0.006491420843546615,0.062227291655350965,0.04278680452978828,0.014306763629450069,0.009587082667563704,0.0,0.021515852717898753,0.06358336420535418,0.025709154427140994,0.0,0.0,0.0836800739713361,0.056386122359636644,0.015297395044230487,0.33189611271430997,0.0,0.0,0.01562471345522566,0.002309568520796909,0.00473034880995504,0.024391103591695745,0.03000395532367732,0.008491798519378719,0.08222960188438816,0.018321822083566263,0.0,0.0,0.019632425511483368,0.0,0.0,0.00036145200433742404,0.0,0.0006081315880922043,0.0,0.04623969146186354,0.030168553049425943,0.01295956873315364,0.0,0.0,0.0,0.0,0.0022236398432516177,0.0,0.03586441284321617,0.016263184796245528,0.007337300733730073,0.021897524287057348,0.012862974659169683,0.05001124690710055,0.0,0.03139097043582,0.0,0.0328803322008305,0.09127906976744186,0.045242353159764964,0.0005020920502092051,0.03812757639924321,0.07493912057954145,0.21448043768448363,0.0036690985110286274,0.000463155204906251,0.0033204298204631915,0.0523215972440872,0.018240794242790355,0.03883004046655558,0.017715002939260576,0.08590327540688734,0.13257125642270162,0.029019868177722983,0.0006408094435075885,0.0011283851554663993,0.000819672131147541,0.07631904601192485,0.0,0.0,0.0015335889314885814,0.048979481932252676,0.01034537641254178,0.0,0.0,0.0,0.006507963692413085,0.02241000115754138,0.0006249186303866685,0.0006675428166134719,0.029604682628389906,0.021023559914327583,0.0,0.0,0.0,0.0,0.0,0.0,0.0,0.0,0.047848369709286916,0.0,0.0,0.0,0.0,0.00794130462282317,0.00031017369727047146,0.09481106653093,0.09478137256581089,0.05289598522270889,0.024198211823317467,0.0,0.0,0.0,0.0,0.013594599662478906,0.008318515339178777,0.26179349915707906,0.004093826067714096,0.0,0.0005772657681399493,0.009974148242466336,0.009883604254465182,0.019902869230998422,0.0,0.0,0.001165475536008796,0.0,0.013064133016627079,0.0,0.0,0.029109898449640417,0.10437464491518546,0.0,0.0,0.018693520205910533,0.0,0.0013074704923611484,0.0,0.0,0.01383046051896802,0.029481817670336266,0.0,0.08571280240888797,0.09289256198347108,0.06587677725118483,0.0,0.0,0.021541268887553686,0.04086189176737428,0.012901756129887343,0.0035916468555986934,0.0022556951642369785,0.008513325204668177,0.0,0.0013545219263236823,0.00011798614505553776,0.0038701622971285894,0.009165002255009342,0.0009761207532795276,0.005030845227526236,0.008332083520805212,0.0295150061428655,0.0,0.0,0.0,0.0,0.009503614159456405,0.015281304494141402,0.0,0.0020908907698508664,0.026902020011327167,0.0,0.0,0.0,0.001622685677803788,0.03654304595793476,0.016508939962297922,0.008483786721170535,0.03604121184265962,0.0,0.02481073382804887,0.02443762781186094,0.00907256050038968,0.06673152451987173,0.0005405139796570193,0.0,0.021096744152727533,0.008448175722055019,0.06301582677929896,0.0,0.0,0.001002724795640327,0.08576065246338216,0.0032426550598476604,0.0005876503028659254,0.0008009153318077803,0.0033935641353853483,0.00035237388724035606,0.025481074222880103,0.0205296975395706],\"x0\":\" \",\"xaxis\":\"x\",\"y0\":\" \",\"yaxis\":\"y\"}],                        {\"boxmode\":\"group\",\"legend\":{\"tracegroupgap\":0},\"margin\":{\"t\":60},\"template\":{\"data\":{\"bar\":[{\"error_x\":{\"color\":\"#2a3f5f\"},\"error_y\":{\"color\":\"#2a3f5f\"},\"marker\":{\"line\":{\"color\":\"#E5ECF6\",\"width\":0.5},\"pattern\":{\"fillmode\":\"overlay\",\"size\":10,\"solidity\":0.2}},\"type\":\"bar\"}],\"barpolar\":[{\"marker\":{\"line\":{\"color\":\"#E5ECF6\",\"width\":0.5},\"pattern\":{\"fillmode\":\"overlay\",\"size\":10,\"solidity\":0.2}},\"type\":\"barpolar\"}],\"carpet\":[{\"aaxis\":{\"endlinecolor\":\"#2a3f5f\",\"gridcolor\":\"white\",\"linecolor\":\"white\",\"minorgridcolor\":\"white\",\"startlinecolor\":\"#2a3f5f\"},\"baxis\":{\"endlinecolor\":\"#2a3f5f\",\"gridcolor\":\"white\",\"linecolor\":\"white\",\"minorgridcolor\":\"white\",\"startlinecolor\":\"#2a3f5f\"},\"type\":\"carpet\"}],\"choropleth\":[{\"colorbar\":{\"outlinewidth\":0,\"ticks\":\"\"},\"type\":\"choropleth\"}],\"contour\":[{\"colorbar\":{\"outlinewidth\":0,\"ticks\":\"\"},\"colorscale\":[[0.0,\"#0d0887\"],[0.1111111111111111,\"#46039f\"],[0.2222222222222222,\"#7201a8\"],[0.3333333333333333,\"#9c179e\"],[0.4444444444444444,\"#bd3786\"],[0.5555555555555556,\"#d8576b\"],[0.6666666666666666,\"#ed7953\"],[0.7777777777777778,\"#fb9f3a\"],[0.8888888888888888,\"#fdca26\"],[1.0,\"#f0f921\"]],\"type\":\"contour\"}],\"contourcarpet\":[{\"colorbar\":{\"outlinewidth\":0,\"ticks\":\"\"},\"type\":\"contourcarpet\"}],\"heatmap\":[{\"colorbar\":{\"outlinewidth\":0,\"ticks\":\"\"},\"colorscale\":[[0.0,\"#0d0887\"],[0.1111111111111111,\"#46039f\"],[0.2222222222222222,\"#7201a8\"],[0.3333333333333333,\"#9c179e\"],[0.4444444444444444,\"#bd3786\"],[0.5555555555555556,\"#d8576b\"],[0.6666666666666666,\"#ed7953\"],[0.7777777777777778,\"#fb9f3a\"],[0.8888888888888888,\"#fdca26\"],[1.0,\"#f0f921\"]],\"type\":\"heatmap\"}],\"heatmapgl\":[{\"colorbar\":{\"outlinewidth\":0,\"ticks\":\"\"},\"colorscale\":[[0.0,\"#0d0887\"],[0.1111111111111111,\"#46039f\"],[0.2222222222222222,\"#7201a8\"],[0.3333333333333333,\"#9c179e\"],[0.4444444444444444,\"#bd3786\"],[0.5555555555555556,\"#d8576b\"],[0.6666666666666666,\"#ed7953\"],[0.7777777777777778,\"#fb9f3a\"],[0.8888888888888888,\"#fdca26\"],[1.0,\"#f0f921\"]],\"type\":\"heatmapgl\"}],\"histogram\":[{\"marker\":{\"pattern\":{\"fillmode\":\"overlay\",\"size\":10,\"solidity\":0.2}},\"type\":\"histogram\"}],\"histogram2d\":[{\"colorbar\":{\"outlinewidth\":0,\"ticks\":\"\"},\"colorscale\":[[0.0,\"#0d0887\"],[0.1111111111111111,\"#46039f\"],[0.2222222222222222,\"#7201a8\"],[0.3333333333333333,\"#9c179e\"],[0.4444444444444444,\"#bd3786\"],[0.5555555555555556,\"#d8576b\"],[0.6666666666666666,\"#ed7953\"],[0.7777777777777778,\"#fb9f3a\"],[0.8888888888888888,\"#fdca26\"],[1.0,\"#f0f921\"]],\"type\":\"histogram2d\"}],\"histogram2dcontour\":[{\"colorbar\":{\"outlinewidth\":0,\"ticks\":\"\"},\"colorscale\":[[0.0,\"#0d0887\"],[0.1111111111111111,\"#46039f\"],[0.2222222222222222,\"#7201a8\"],[0.3333333333333333,\"#9c179e\"],[0.4444444444444444,\"#bd3786\"],[0.5555555555555556,\"#d8576b\"],[0.6666666666666666,\"#ed7953\"],[0.7777777777777778,\"#fb9f3a\"],[0.8888888888888888,\"#fdca26\"],[1.0,\"#f0f921\"]],\"type\":\"histogram2dcontour\"}],\"mesh3d\":[{\"colorbar\":{\"outlinewidth\":0,\"ticks\":\"\"},\"type\":\"mesh3d\"}],\"parcoords\":[{\"line\":{\"colorbar\":{\"outlinewidth\":0,\"ticks\":\"\"}},\"type\":\"parcoords\"}],\"pie\":[{\"automargin\":true,\"type\":\"pie\"}],\"scatter\":[{\"marker\":{\"colorbar\":{\"outlinewidth\":0,\"ticks\":\"\"}},\"type\":\"scatter\"}],\"scatter3d\":[{\"line\":{\"colorbar\":{\"outlinewidth\":0,\"ticks\":\"\"}},\"marker\":{\"colorbar\":{\"outlinewidth\":0,\"ticks\":\"\"}},\"type\":\"scatter3d\"}],\"scattercarpet\":[{\"marker\":{\"colorbar\":{\"outlinewidth\":0,\"ticks\":\"\"}},\"type\":\"scattercarpet\"}],\"scattergeo\":[{\"marker\":{\"colorbar\":{\"outlinewidth\":0,\"ticks\":\"\"}},\"type\":\"scattergeo\"}],\"scattergl\":[{\"marker\":{\"colorbar\":{\"outlinewidth\":0,\"ticks\":\"\"}},\"type\":\"scattergl\"}],\"scattermapbox\":[{\"marker\":{\"colorbar\":{\"outlinewidth\":0,\"ticks\":\"\"}},\"type\":\"scattermapbox\"}],\"scatterpolar\":[{\"marker\":{\"colorbar\":{\"outlinewidth\":0,\"ticks\":\"\"}},\"type\":\"scatterpolar\"}],\"scatterpolargl\":[{\"marker\":{\"colorbar\":{\"outlinewidth\":0,\"ticks\":\"\"}},\"type\":\"scatterpolargl\"}],\"scatterternary\":[{\"marker\":{\"colorbar\":{\"outlinewidth\":0,\"ticks\":\"\"}},\"type\":\"scatterternary\"}],\"surface\":[{\"colorbar\":{\"outlinewidth\":0,\"ticks\":\"\"},\"colorscale\":[[0.0,\"#0d0887\"],[0.1111111111111111,\"#46039f\"],[0.2222222222222222,\"#7201a8\"],[0.3333333333333333,\"#9c179e\"],[0.4444444444444444,\"#bd3786\"],[0.5555555555555556,\"#d8576b\"],[0.6666666666666666,\"#ed7953\"],[0.7777777777777778,\"#fb9f3a\"],[0.8888888888888888,\"#fdca26\"],[1.0,\"#f0f921\"]],\"type\":\"surface\"}],\"table\":[{\"cells\":{\"fill\":{\"color\":\"#EBF0F8\"},\"line\":{\"color\":\"white\"}},\"header\":{\"fill\":{\"color\":\"#C8D4E3\"},\"line\":{\"color\":\"white\"}},\"type\":\"table\"}]},\"layout\":{\"annotationdefaults\":{\"arrowcolor\":\"#2a3f5f\",\"arrowhead\":0,\"arrowwidth\":1},\"autotypenumbers\":\"strict\",\"coloraxis\":{\"colorbar\":{\"outlinewidth\":0,\"ticks\":\"\"}},\"colorscale\":{\"diverging\":[[0,\"#8e0152\"],[0.1,\"#c51b7d\"],[0.2,\"#de77ae\"],[0.3,\"#f1b6da\"],[0.4,\"#fde0ef\"],[0.5,\"#f7f7f7\"],[0.6,\"#e6f5d0\"],[0.7,\"#b8e186\"],[0.8,\"#7fbc41\"],[0.9,\"#4d9221\"],[1,\"#276419\"]],\"sequential\":[[0.0,\"#0d0887\"],[0.1111111111111111,\"#46039f\"],[0.2222222222222222,\"#7201a8\"],[0.3333333333333333,\"#9c179e\"],[0.4444444444444444,\"#bd3786\"],[0.5555555555555556,\"#d8576b\"],[0.6666666666666666,\"#ed7953\"],[0.7777777777777778,\"#fb9f3a\"],[0.8888888888888888,\"#fdca26\"],[1.0,\"#f0f921\"]],\"sequentialminus\":[[0.0,\"#0d0887\"],[0.1111111111111111,\"#46039f\"],[0.2222222222222222,\"#7201a8\"],[0.3333333333333333,\"#9c179e\"],[0.4444444444444444,\"#bd3786\"],[0.5555555555555556,\"#d8576b\"],[0.6666666666666666,\"#ed7953\"],[0.7777777777777778,\"#fb9f3a\"],[0.8888888888888888,\"#fdca26\"],[1.0,\"#f0f921\"]]},\"colorway\":[\"#636efa\",\"#EF553B\",\"#00cc96\",\"#ab63fa\",\"#FFA15A\",\"#19d3f3\",\"#FF6692\",\"#B6E880\",\"#FF97FF\",\"#FECB52\"],\"font\":{\"color\":\"#2a3f5f\"},\"geo\":{\"bgcolor\":\"white\",\"lakecolor\":\"white\",\"landcolor\":\"#E5ECF6\",\"showlakes\":true,\"showland\":true,\"subunitcolor\":\"white\"},\"hoverlabel\":{\"align\":\"left\"},\"hovermode\":\"closest\",\"mapbox\":{\"style\":\"light\"},\"paper_bgcolor\":\"white\",\"plot_bgcolor\":\"#E5ECF6\",\"polar\":{\"angularaxis\":{\"gridcolor\":\"white\",\"linecolor\":\"white\",\"ticks\":\"\"},\"bgcolor\":\"#E5ECF6\",\"radialaxis\":{\"gridcolor\":\"white\",\"linecolor\":\"white\",\"ticks\":\"\"}},\"scene\":{\"xaxis\":{\"backgroundcolor\":\"#E5ECF6\",\"gridcolor\":\"white\",\"gridwidth\":2,\"linecolor\":\"white\",\"showbackground\":true,\"ticks\":\"\",\"zerolinecolor\":\"white\"},\"yaxis\":{\"backgroundcolor\":\"#E5ECF6\",\"gridcolor\":\"white\",\"gridwidth\":2,\"linecolor\":\"white\",\"showbackground\":true,\"ticks\":\"\",\"zerolinecolor\":\"white\"},\"zaxis\":{\"backgroundcolor\":\"#E5ECF6\",\"gridcolor\":\"white\",\"gridwidth\":2,\"linecolor\":\"white\",\"showbackground\":true,\"ticks\":\"\",\"zerolinecolor\":\"white\"}},\"shapedefaults\":{\"line\":{\"color\":\"#2a3f5f\"}},\"ternary\":{\"aaxis\":{\"gridcolor\":\"white\",\"linecolor\":\"white\",\"ticks\":\"\"},\"baxis\":{\"gridcolor\":\"white\",\"linecolor\":\"white\",\"ticks\":\"\"},\"bgcolor\":\"#E5ECF6\",\"caxis\":{\"gridcolor\":\"white\",\"linecolor\":\"white\",\"ticks\":\"\"}},\"title\":{\"x\":0.05},\"xaxis\":{\"automargin\":true,\"gridcolor\":\"white\",\"linecolor\":\"white\",\"ticks\":\"\",\"title\":{\"standoff\":15},\"zerolinecolor\":\"white\",\"zerolinewidth\":2},\"yaxis\":{\"automargin\":true,\"gridcolor\":\"white\",\"linecolor\":\"white\",\"ticks\":\"\",\"title\":{\"standoff\":15},\"zerolinecolor\":\"white\",\"zerolinewidth\":2}}},\"xaxis\":{\"anchor\":\"y\",\"domain\":[0.0,1.0],\"title\":{\"text\":\"modprop\"}},\"yaxis\":{\"anchor\":\"x\",\"domain\":[0.0,1.0]}},                        {\"responsive\": true}                    ).then(function(){\n",
       "                            \n",
       "var gd = document.getElementById('2141fdeb-dc7f-4d32-bd3c-758a7772fd50');\n",
       "var x = new MutationObserver(function (mutations, observer) {{\n",
       "        var display = window.getComputedStyle(gd).display;\n",
       "        if (!display || display === 'none') {{\n",
       "            console.log([gd, 'removed!']);\n",
       "            Plotly.purge(gd);\n",
       "            observer.disconnect();\n",
       "        }}\n",
       "}});\n",
       "\n",
       "// Listen for the removal of the full notebook cells\n",
       "var notebookContainer = gd.closest('#notebook-container');\n",
       "if (notebookContainer) {{\n",
       "    x.observe(notebookContainer, {childList: true});\n",
       "}}\n",
       "\n",
       "// Listen for the clearing of the current output cell\n",
       "var outputEl = gd.closest('.output');\n",
       "if (outputEl) {{\n",
       "    x.observe(outputEl, {childList: true});\n",
       "}}\n",
       "\n",
       "                        })                };                });            </script>        </div>"
      ]
     },
     "metadata": {},
     "output_type": "display_data"
    }
   ],
   "source": [
    "mm = metascripts.assign(\n",
    "    modprop = lambda metascripts: (metascripts['script characters'] - metascripts['transcript'].replace(\"\\[.+?\\]|\\(.+?\\)\",\"\", regex = True).apply(len))/metascripts['script characters']\n",
    ")\n",
    "\n",
    "px.box(mm, x = 'modprop', hover_data = [mm.index, 'description'])"
   ]
  },
  {
   "cell_type": "code",
   "execution_count": 204,
   "metadata": {},
   "outputs": [
    {
     "data": {
      "text/plain": [
       "'Watch Urzila Carlson: Overqualified Loser on Netflix \\n  Make some noise, welcome to the stage… Urzila Carlson!    You guys! See? This is why…  This is why people love Australia. ‘Cause you guys are just off the fucking nut.  Just quickly, before we start… I just–  I feel like I want to share something with you. ‘Cause sometimes, right, audiences will send me gifts. Like, not this audience.  Honestly, sometimes audiences bring me gifts, and then they give it to the usher and the usher will bring it backstage and then I have to open it. Because I don’t have a crew of people that travel with me ’cause I’m not Adele.  You know, I don’t know how people imagine, like… I walked here tonight. The five blocks.  You know when you make that decision, you go, “It’s only five blocks, I’m gonna walk it”? And then after the third block, you go, “Fuck, I should’ve taken an Uber.”  Then you go, “It’s too late now, I can’t get an Uber now for two blocks, ’cause they’ll think I’m lazy.”    You don’t want them to give you a two-star ’cause you’re lazy ’cause then you have to fake a limp and stuff.  “Yeah, I just sprained my ankle.” So I get this gift, right? I do a show in Auckland, and a woman sends a gift with an usher, and the usher brings it to the room. And now I’m gonna open it, but it looked dodgy as hell. It was just wrapped in brown paper. And– And it had a string around it, and not that fancy string that you get now over Christmas. You know, you always get– Like your sister-in-law, she’ll be doing all this fancy fucking wrapping and shit.  And you go, “Okay, calm down. We know it’s bath salts.”  It’s like, “Christ, you just spent $45 on the wrapping of a $2 fucking gift.  And we don’t have a bath!”  Not one of those strings, it was just an old shoelace.  So you know it’s dodgy when the usher sort of kicks the door open, throws the gift and goes, “That came for you,” and runs away.  So I look at this gift and I shook it and no powder fell out of it and it wasn’t ticking.  I’m gonna open it. So I open the gift. And someone had sent me a moon cup.  Like, a new one, but a moon cup. Now, for those of you who don’t know what a moon cup is, ladies, if I can ask you to just turn to the men in your area…  …and just explain to them what a moon cup is so I don’t have to. Talk amongst yourselves.  If you don’t know, ask the people behind you. They know.  Oh, I don’t know what’s going on there. There’s a lady in the back doing that…  I don’t know what you’re explaining…  ….but I think you’re doing it wrong.  For those of you who don’t know what a moon cup is, it’s basically a Tupperware bowl for your coochacha.  Like, you whip it out when Aunt Flo comes to visit. You feel? But I knew. As soon as I received this gift, I knew I was in deep trouble ’cause I’ve got an inquiring mind…  …and I knew I was going to try it.   Now, I’m not going to go into detail, but let me just tell you, it’s not for me.  Let’s just say… Okay, you know when you’re unpacking the dishwasher, right? Ladies, if you want to turn to the men in your area and just explain what I mean.   No, you know when you’re unpacking the dishwasher and you get to the kids’ plastic bowls and cups and you don’t take the time to individually dry each and every cup? You just kind of grab them, whack them and stack them away and then tomorrow morning, you have to feed those same children out of those bowls and you take it out and you’re like…  Yeah, that.  So, no, it’s not for me.  I travel a lot. I’m on the road about 300 days of the year, and whenever I do go back home to Auckland, I always go see my GP and get them to do the once-over. Right, give it everything. Like, from head to toe, from head lice to ingrown toenails and everything in between.  They check the boobs, the smear. They even give you the flu jab, you know, ’cause science. Um…  I’m not going to tell you what to do with your life, you know, I’m just saying. We vaccinate ’cause we understand words and shit.    Now, I understand that there might be some anti-vaxxers here tonight. ‘Cause when I did the show in Auckland, 13 people got up and walked out…  …and the whole auditorium went…  Like I was supposed to fight them or something. I’m like, “Leave them alone, they’ve got sick kids at home.”  So, anyway, I go in, I see my doctor. She does what she can do and then she sends me off to the nurse. Now, our nurse, Nurse Barb, retired two years ago. Which is a good thing because she was, like, two years younger than Jesus, okay?  I’m not ageist. But the last two years, I also got a prostate check.  I didn’t hate it.  That’s why I went back the second year.   Anyway, I walk in, we’ve got a brand new nurse, Nurse Maniah, and, uh, I look at her and I go, “Hi,” and she’s lovely, she’s a lady in her fifties. Um… And I look around and I’m trying to find the gown. Because you have to put this gown on with an opening in the front because they’re going to be working on your entertainment area…  …right? Now, personally… I’m not a big fan of the gowns because they never close properly. You know, ’cause I’ve had a few big Christmases in my time.  Like, I don’t identify as fat. But I’ve definitely, you know… I’m– I’m quite a few meals ahead and a few shits behind, so…   And, you know, you don’t need to be a personal trainer… to know that if those two things don’t line up, you can never be your goal weight.  But I don’t see the gown, and Nurse Maniah goes, “No, no, I use a lavalava.” And I thought, “This is great, it’s basically like a sarong. Not only do I get a smear but I also get a cultural experience. I love it.”  So I take the lavalava off her, and now I wait for her to leave and close the curtain so I can, you know, take my kit off and put it on. So she closes the curtain. But she stays in there with me.  So at this point… I decide to decline the lavalava. She then takes it and biffs it on the desk, and I take my kit off and I hop on the table. Now, the protocol when going for a smear is you, the patient, must stare at the wall.  And her, the nurse, must stare at a speck on the curtain over here.  But never… do you make eye contact.  So, she starts, and I can feel her rummaging around.  Which is not what you want to feel at a doctor’s surgery, you want a… you want a confident hand.  You want– You want someone that knows what’s going on. And I could feel her rummaging around, and I don’t know at what point… do I act? At what point should I go, “Do you need help?”   Too awkward, right? Or do I just keep quiet and guide her hand in?  Yeah, you’re right, that would be too much.   I didn’t have to do either of those things because she asked me something that was so left field that it knocked me, I had to think about it for a second. She goes, “You still a virgin?”   And I went…  “Say what, now?” I was like, “Oh… Oh, no. I’ve had the sex heaps.”  And she goes, “Huh. Okay.” She then leaves the room. At this point… I’m regretting not taking that lavalava.  ‘Cause now I’m just lying on that bed like a frozen supermarket chicken… ;   …worried that someone might come in. They didn’t. She came back in a flash. She had a smaller speculum.  And she was at it again and she goes, “I’m just gonna ask you again.” She goes, “You sure you’ve had sex before?” I go, “Yeah!” I said, “I’m married, my wife’s waiting in the waiting room.” She goes, “Oh…  …I see.”  She goes…  “But have you had sex with a man?” I said, “Yes, I’m familiar with disappointment.”   She says, “I’m just asking ’cause you’ve got the smallest vagina I’ve ever worked with in my career.” I went, “No shit!” I guided her hand in, she took the swab. I got dressed, I went in the waiting room and I go, “Come, babe!” To my wife, not to a stranger. I go, “Come.”  We walk back in. I said, “Nurse Maniah’s got something to tell you about my…   …entertainment area.”   Nurse Maniah looks at her, she goes, “If I had to describe her vagina with one word, I’d say… petite.”  My wife immediately turns to me and she goes, “You cannot use this story on stage.”  I said, “Bitch…  …a medical professional just told me something on me is petite. I’m fucking telling everyone!”   But that explains the moon cup, doesn’t it?  I needed a thimble.   So this show is called Loser and I decided to write the show ’cause I was so… confused, like it’s always negative if you lose anything. You lose your keys, you lose your mind, you lose your dad: that’s negative. But you lose a bit of weight: positive.  And I don’t understand that. Like, if you lose half a kilo, strangers will applaud that. You can go out right now and go, “I lost half a kilo,” people will go, “Good on you,” and give you a high five. Which I don’t understand. If you truly love someone– If you love someone, don’t you go, “I fucking love you so much, I wish there were 50 kilos more of you”?  With everything else, if you love it, you want more. You love cake? Fucking give me more cake.  Or you love money? Give me more money.  I fucking love you? Less of that.  It makes no sense. Now, I know… I know I need to lose some weight. I know that. But I– I want to be very careful. I just want to lose enough weight so I can eat in public.  I just want to be able to eat a pie in public.  ‘Cause you know if you’re in here and you’re a bit of a chub, you know you cannot eat in public.  You will be judged, right? Like– Even if it’s a celebratory pie.  Even–  Even if your stomach stapling has been really successful…  …and to celebrate, you go to BP to get a pie ’cause they’ve got the best pies. That’s what their name is for.   You go over there, you grab a pie and you’re outside eating that pie, like, “Nom-nom, 80 kilos gone.” You know some fuckwit in a ute will drive past and go, “Who ate all the pies?”   And you have to go…  “I did.”  So I know I have to lose some weight. But I want to be careful ’cause I don’t want to lose too much and end up in porn.  ‘Cause you know that is a very real possibility.  If you’re hot. If you’re super… Like you are, you’re proper hot. Right? Like, you’re a beautiful couple. Do you work out together? Yeah. Of course you do.  I’m not fit-shaming you. But you’re a hot couple. Like, aesthetically, you’re quite pleasing to the eye.  Like, if you two came up to me in a bar and asked me for a threesome, I’d be in.  Yeah. And not just in a “hold the camera” kind of way. I’d give it my all.   I would get so freaky, you two would be super impressed. Like, halfway through, over my naked butt, you’d just be high fiving each other, going…  “Fucking score on this one, eh?”  But you have to be careful. ‘Cause you’re beautiful, you could end up in porn. The rest of you, you’re fine.  ‘Cause, you know, if you’re in a happy, healthy relationship and you’ve got a healthy sex life, at some point, one of you will turn to the other and go, “We should record ourselves.  You know, while we’re…  You know?” And you will. If you’re going, “We’ll never do that,” your partner’s probably already doing it.  You may as well get involved. There’s a whole genre of porn of you not being in porn. So you might as well.  And then you’re going to go, “Okay, fine.” Then you’ve got to take your smartphone, you’ll prop it up somewhere in the room. And then you go at it. You go at it hammer and tongs, right? You give it your A-game ’cause you know you’re recording yourself.  Then afterwards you go, “Okay, go get it.”  He rolls off you, he goes and he gets it. He comes back and you’re excited. You’re like…   “Oh, this is going to be good. This is going to be great, yeah.   I love you.” And you hit play.    “Why is my arsehole so dark?  Why is it so hairy?  It looks like a tarantula is crawling out of a cave.”   You look at your body at an angle you wouldn’t normally see, performing an activity you wouldn’t normally see reflect back in a shopfront window.  You see things on your body that you wouldn’t normally see. You look at that and you go…  “Is that a nipple on my back?”  And your partner’s, like, super blasé He goes, “Yeah.  I thought you knew.” You’re like, “No, every time it’s cold, I think it’s the fucking label on my cardigan!”  And he’s like, “No, no. And when it’s really hot, it does that weird Barbie mouth thing, that…”  You look at that footage, it’s not natural. It’s your fat, pasty-ass white body plowing at pace…  …into another fat, pasty-ass white body… meeting abruptly in the middle. It doesn’t even sound good.  Like, in the heat of the moment, you don’t hear anything. But when it’s silent and you’re just staring at your white body with an extra nipple on a little screen, all you can hear…   Like, “What is that noise? Oh, it’s your balls on my tummy.”  You look at that and you go, “Why am I fucking you?  Why are you fucking me? Let’s never do this shit again.”  Then you go, “Delete it.”  And he goes, “I will.” “No, you’re fucking doing it now!”   He deletes it. You double-check it’s deleted out of the recently deleted.  That couple then take that phone together, walk it out to the shed, take a hammer…  …smash it till there’s only powder left, take a brush, into a little plastic bag.  You drive from the top of the country to the bottom of the country and at every public toilet, you stop and you put some of that dust in the toilet…  and then you flush it just in case some IT genius is about to crawl out of his mother… to put that shit back together again and share it with the world. We are very careful.  But you two…  Not you two.  You’re like, “Yeah, let’s record ourselves.” “Yes, let’s. Let’s. Just let me finish moisturizing.”   And then you prop the phone up, and afterwards you go, “Go get it,” and he’s like, “Yeah, no worries.”   Don’t even need to get out of the bed ’cause that yoga is finally paying off.  Actually, that hurt my back.  I don’t think I…   Medic!  You take that phone. Like, “Let’s have a look at this. Oh, this is gonna be good.   I love me.”  You hit play on that. You’re like, “Oh…  Oh, yeah, look at that! Look at that!” Like, “Holy shit. I’m glad we went for that two-for-one anal bleaching.   We look amazing! We should get a blue light, let it light up.”  “This is phenomenal work. Yeah, wait, wait, my best part’s coming up. The dismount.  You go into a full triple back flip…” I’m not very good at sports talk, you know.  “Full splits onto my dick. This is lovely.”  You go…  You go, “Save that. Save that. We look phenomenal.” You go, “Let’s watch it tomorrow when we get back from pilates.”   Tomorrow night, you get back from pilates. You’re like…  “Oh, yeah.  You know how I get all limber and into it. Now, let’s watch it.” So you watch it again. You go, “Fuck, we are beautiful.  We’ll save it.  We’ll watch it tomorrow night after my spinning class.  You know how I get after spinning class.  When my perineum is still vibrating.”  I assume that’s what happens, I don’t know.   I don’t ride a bike. I’m an adult, I’ve got a car.     And then you watch it again and you go, “You know, we are so beautiful. It’ll be a waste if only we get to see it.  We should upload it.” Then you load it up to Pornhub and we’re now all whacking off to you two…  …’cause we’re no longer fucking each other.  So all I’m saying is get ugly or get fat, or you’re going to be in porn.  You know your dad’s going to find it.  Yeah. Your mum won’t know what’s going on.  You know…  You have not lived as an adult if you haven’t been at your parents’ house on a Sunday waiting for the roast, your mum’s in the kitchen you’re watching some trash with your dad, and then your mum just pops out of the kitchen going, “Hey! Can you have a look at the computer? It’s wiped the history again.”  And you look at your dad and you go, “Motherfucker!  Can’t remember your Facebook login but know how to wipe the history, do ya?”   And your dad’s like, “Oh, it’s all right, I’ll have a look later.” I bet you fucking will.   So anyway, what I’m saying is I need to lose some weight.  I’m already panicked. Because I’m of the size, whenever they talk on the news about the obesity epidemic in Australia, I know I could be one of those arses walking in the street.  You know the one. When as soon as they start talking, they go, “We’ve got a dietician here. Um… The obesity epidemic in Australia…” And you’re like, “Oh, no. No, no, no. Where did they film today?” And when you…  When you see they’re in an area where you were, you’re like…  “No!  Oh, fuck off!”  ‘Cause, you know, it’s always you in your track pants.   I see those fat people walk with these short steps like this. I’m like, “What the fuck are you doing? Stride it out, motherfucker! “  Have you guys ever watched that show The Biggest Loser?  Yes. You know when they came up with the concept for that show, there wasn’t a fat person in a ten-kilometer radius. Because it would’ve been a completely different show. When they came up with the concept, they were all sitting in a boardroom in their yoga pants, and they go, “All right, we’ve got $200 million. What are we doing?” And Karen in Marketing went, “Well… how about we take 12 fat people…  …and we put them in this fat farm scenario, and then we give them, like, six carrot sticks a day to eat…  …and we give them these really angry personal trainers.” Like you get them any other way. “We give them these really angry personal trainers to yell at them all day and make them exercise and then vomit up those carrot sticks.”  And everyone’s like, “All right. All right.” Even if there was a fatty in the room at this point, they’ll go, “Harsh. But watchable.”   You’ve watched it. And then they go, “Okay, Karen, then what?” “Well, then we just monitor their progress. So once a week, we just put them on some scales in their cute little outfits. And then behind them, in giant red LED lights that they can’t see, we put the weight they used to be, their weight now, their BMI, and their sperm count.  And then we judge them like that.” Now, if there was a fatty in the room, they’d go, “Hang the fuck on,” at this point. They’d go, “Just a minute, just a fucking minute.  What are these cute little outfits you’re talking about?”  She goes, “Oh. I thought, like, bike pants and sports bra?” “No.” ‘Cause you know what, if you’re over the age of two…  …you don’t look cute or good in ’em.  The only people allowed to wear bike pants and a sports bra are people under the age of two or if you’re in the Olympics.  That’s it. Tomorrow morning, if you wake up and you’re putting those bike pants on, go, “Am I over the age of two?”  If the answer is yes, then ask yourself, “Am I in the Olympics?”  If the answer is no, get the fuck out of those pants.   ‘Cause you know what the problem is with that outfit, especially for women of a certain age. Like, I’m in my mid-forties. You know what the hardest thing of my day is? Lining up my nipples.  I wake up every morning and when I put a bra on, it’s like doing two really complex Rubik’s cubes.  Oh, fuck it. Tuck it into your pants.  Well, Karen, you can’t tuck it into your pants when you’re not fucking having anything in the middle. It’ll look like a fleshy scarf.  Fat people don’t like to get weighed. That’s why we don’t skydive.  Well, that, and it scares the shit out of whoever has to do a tandem jump with you.  But…  When you skydive, they weigh you. And then they write your weight on your hand with a permanent marker.  I don’t want to be telling people three days after my jump, “Oh. Oh, no, it’s not a phone number.”  If I was in charge of making The Biggest Loser, it would look completely different. For starters, the people I would put in there. I’d put people in The Biggest Loser, those people who never say thank you for shit. Like when you’re driving and you give someone a gap and usually it takes a few goes to try and get them in the hole. You’re like…  And then they take it… and you wait for it.  But they just keep going. It’s like they take that gap and go, “Mine!”  What kind of animal raised you…  …that you would take a gap and not just put your hand up like that to thank the person behind you? That’s all you have to do. ‘Cause if you don’t thank the person behind you, you’re making it unsafe on our roads.  ‘Cause now I have to aggressively overtake you…  …to go get my good deed back ’cause you were raised by an animal.  It’s the same as when you’re driving and there’s a pedestrian crossing and you stop and a car there stops, and then the pedestrian walks past and they thank this guy and just walk past your car, and you’re like…  “What’s going on here?  I’m doing what they’re doing. Where’s my thank you?” I reckon if they’re two thirds past your car and they haven’t started lifting their arm, hit them with your car.   Not to kill ’em. Just to knock ’em down so you can talk to ’em.  Then you hop out of your car and go, “Don’t worry, I’ve got this. I’m a medical professional. I’ve got a petite vagina.”   You go, “Where’s my thank you, asshole?”   Those people are all going on my Biggest Loser campl Or when you’re at work, right, and you’re in the lunchroom, you just want to eat your sandwich in peace. And then you hear it…   And you look over and there he is. You go, “Jesus, Brian.  How about you just leave that cup of tea for a minute? That’s going to cool down to a temperature… where you can just go ahead and drink it.  Where it won’t sound like you lost your top lip in a violent accident.  And now you’re curving your bottom lip in a straw-like scenario, trying to suck a teabag out of the bottom of that cup.”  Brian’s going in The Biggest Loser camp.  Or that friend that we all have that have never let you finish a sentence. You’ve been friends for years and this is the only thing they’ve ever seen out of you.   Fucking Biggest Loser camp. Or any right-wing politician that has ever said anything so fucking stupid, it makes you want to headbutt a nail.  They’re going in there. You know the ones. Like– Like those people that can’t even take a mild egg to the head without trying to knock out a teenager.   Get in the camp. Then what we do is we give them challenges that they cannot achieve, like keeping a cookie out of a fat kid’s hand.  If they fail, we give ’em paper cuts.  Now, I wasn’t raised by an animal, I understand that, you know, everyone’s not the same. Like, the tea slurper is not on the same level as the right-wing politician. So we cut them with different grades of paper.  The tea slurpers and the interrupters, they get 150 gsm.  Then the people who don’t thank you in traffic who have no manners, they get a 300 gsm gloss.  And the right-wing politicians, we cut them with X-rays.   And then we take chili oil and rub it in their wounds.   -I know, I’ve got a lot of time to think.  That’s what I do when you guys are at the gym.  People go, “Why don’t fat people just get off their fucking arses?” -‘Cause we’re thinking of this shit.  Okay, maybe that’s a little extreme. Maybe it’s more like… I just think, like, other things are bigger losers– Other people are bigger losers than actual fat people just losing weight. Like, say if you get in a car with your friend, right? They’re driving. You’re saying to that friend, “I trust you with the most important thing that I have: my life.” ‘Cause without it, you can’t do shit, right?  So you start driving, and ’cause you live in Melbourne, it starts to rain.  They don’t turn the wipers on. You know? All right. All right. I’m not going to be that person, but you know how vitally important it is for you, the passenger, to see where they’re driving.  Otherwise how do you know how to make the right…   You don’t want to say anything. So you just start scooching down in your seat a little.  Just a little. ‘Cause just above the dash, just under the wipers, there’s always a weird half moon that you can see out of.  But then you start to panic, right, and you think about that pillow that your wife bought about you living your best life. And you think, “Fuck, I do want to live my best life and I want to continue with that. I should say something.”  “Put the wipers on!”  And they go, “Oh, shit, I didn’t even notice it started raining.”  “You know you’re driving, right?”  And then because it’s Melbourne, five minutes later it stops raining.     They don’t turn the wipers off. Not only do they visually have something in front of their eyes going, “Oh, you’re fucking up here, mate…”   …audibly, there’s a bit of a soundtrack, too. It gets so dry that it does that weird triple jump in front of you.  When it comes back, it’s like…   You’re not safe. You need to undo your belt, open the door and tuck and roll. Just…  Those people are bigger losers than you.  But, you know, because we have social media, we put ourselves into situations where you feel like a loser. ‘Cause you look at other people’s amazing lives, right, ’cause they have these amazing filters and amazing bullshit on their pages that you start to believe, ’cause even though, intellectually, you know it’s bullshit, you know this person, they have a horrible life. But your eyes go, “It’s better than yours.”  And then you feel like a loser. But it’s not. It’s like if you show up 20 minutes early to a party, you’re not a loser. You’re smart. ‘Cause they usually have the food out.  They have the food out and they’re still doing the setup. So you can get involved. You go, “No, you carry on, don’t worry about me.” You look at their table, you go, “Guacamole looks good.”   “I’m going to give it a go.  Just going to try it for her. Give her some valuable feedback if she needs it.” So you grab a chip. Now, you’re not a fool. You know to go in slow, right?   You’ve been around food before.   Don’t worry. When that chip breaks…  you’re so disappointed in yourself, you’re like, “How am I this age and I can’t nail a snack?”  ‘Cause now you know you’re in deep shit. You better get that chip out before she comes out. Don’t want to fuck up the table before anyone else gets there. You’re gonna take another chip. But you’re gonna take a strong one. You know, the…  No, ’cause you know the ones that are curved, the curved ones are structurally stronger than the others.  So, you take that curve. Also, pro-tip: they always have more flavor ’cause they’re sort of… Anyway, so…  So you take that chip. Now, you know, you’re not a fool. You’re gonna go low and slow. You’re gonna go low and slow, and you want to slowly curve it around the original chip. Just make it a little… You don’t want to go too close ’cause then it could structurally damage the… So, you just want to go… slight– When that second chip breaks…  …you question every decision you’ve ever made as an adult. “I should probably not be alone.”  ‘Cause now you know you’d better get that out before she comes out. You’ve got two chips in there. You’re not gonna take another chip, you’re not an idiot.  You’re going to learn from your mistakes here. You don’t want her to come out to two half dead chips in the guacamole with a fucking moat around it.     When you’re second knuckle in, she comes out and busts you.  Like you’re at your high school dance… and you just lock eyes with each other.     I love that slow realization.  Ooh…   My hand’s still in the guacamole.  She walks out, she locks eyes with you. She looks at you, you look at her. She knows your hand’s in the guacamole, you know your hand’s in the guacamole. You look at each other, ’cause you don’t know at what point… should you pull your hand out.  There’s no time like the present so you just pull it out. Now the bigger conundrum. Do you flick it or lick it?  She just stares at you, never breaking eye contact looking over to you, just taking the bowl, going, “I wasn’t that happy with it anyway.”  She walks in the kitchen, you can hear her throw it in the sink. You feel like such a loser ’cause you go, “It’s out of season for avos, that would’ve cost her $400.”  You’re not a loser, but what you didn’t realize that if you normally show up 20 minutes late, the guacamole’s been sitting on the table for 40 minutes slowly getting to room temperature, and then it’s smooth as anything. You can fucking lift it with anything out of that bowl.  You can lift it with hopes and dreams into your mouth.  You don’t know that because you’re not a chef. Neither am I, but I’m an enthusiast.  You’re not a loser if you say “no, thanks” to free stuff. I say “no, thanks” to free stuff all the time but now because we live in a time where there are people who are influencers and that is a job that just involves getting free shit all day, it’s unheard of when someone approaches you and goes, “You want something free?” and you go, “No, thanks.” Unless it’s a flyer or something. You’re like, “No.”  But I get offered stuff all the time and I go, “No, thanks.” And especially when I get on a plane, they always go, “Do you want the exit row?” Never business. Always the exit row. I go, “No, thanks.”  People– Ten people back will go,  “Did she just say no to the exit row?” They’re so angry when I go, “No.” I go, “Yeah, I don’t need it.” I’m five foot three. My knees have never touched another seat.  ‘Cause I’m mainly torso, too.  Some airlines, my feet don’t touch the ground.  Give it to someone that needs it. I don’t feel I’m trained enough to sit there anyway. I don’t know where these air whores go to air school, but I haven’t been.  I don’t think it’s enough when they come up to you before the flight and they go, “Um… Did you read the A4 laminate?”  And I go, “No, I didn’t because it’s pictures on there.  And you don’t read a picture, you look at it. So am I now more trained than you?  Am I in charge of this flight? I’m just here for the snacks, mate. You can… You can put me near the toilet, I don’t care.” You’re not a loser. You’re not a loser if you wake up seven o’clock one morning and you go, “Hmm. Today’s a shit day.”  Well, you know yourself, you don’t need to live the whole day to know it’s gonna be a shit one  Sometimes you know before you open your eyes, you’re like, “Yeah, today’s a shit one.”  If you open your eyes seven o’clock in the morning and you go, “Fuck it. I’m getting blackout drunk by three…”  …then do it. Do it, it’s called self-care. Look after yourself.  Obviously, if that’s a decision you’ve been making for the last 15 years every morning…  …you’ve got a problem.  But if you do it once every 18 months to two years and go, “Today’s that day,” do it. Why is it socially acceptable to start drinking at noon but not at 7:00 a.m.?  Like, if a friend rings you at 7:00 a.m., which would be weird, but if they ring and they go, “Hey, what are you up to?” “I just poured myself a wine.”  They’ll think you’ve lost your mind. But that same friend can ring you at noon and go, “Hey, what are you up to?” “Oh. Just poured myself a wine.” They go, “Well, I guess it’s noon somewhere.” You go, “It’s noon here, Cara.”  I don’t know why we put that amount of stress on ourselves because of a few fucking hours. Like, the amount of times I’ve woken up and I’ve taken that box wine and I’ve put it on the kitchen counter…  …and I just look at it, and I’m like, “Should I take the tap out and let it breathe or…?”  ‘Cause that’s always the hardest thing with a box wine. You have to get the cover off and then you have to get that tap, and it’s always real in the box. It’s like… You have to put your hand in so deep, I feel like I’m working on a dairy farm. Like…   “I can feel a hoof!” You get that tap out. A hundred percent of the time, the hole always faces there.  You have to pull the whole sack open, sort of slowly get the tap down. I feel I lost some of you as soon as I said “box wine.”   You go, “Fucking box wine?”   I don’t care where you are in your life right now financially, but at some point, every single one of us drank box wine.  Yeah.  Maybe some of you are like,  “I have never.”   Yes, you have! If you’ve got bogan friends, you’ve had box wine.   I love entertaining, right? I have people over to my house all the time. And then when they go, “What should we bring?” I always go, “Just your good self, doll.” And then what I do is I wash the labels off old wine bottles, and then I fill it with box wine.   And not to worry, I’ll even mix you a rosé.  I do the whole shebang, right?  So… Not once in all these years have anyone during dinner gone, “Excuse me. What fresh hell are we drinking here tonight?”  No, they usually go, “Mm! Where did you get this one?” And I always go, “On my travels.”  And they assume… around the world. But just to the liquor store.  I mean, they know the next morning. Because you know the next morning after…  …a box wine, that hangover is completely fucking different to a good wine hangover.  You wake up after a good wine, right, and you have that hangover, you wake up, you’re like, “Woo! Oh, that Central Otago 2009, that…  …that pinot noir nutty goodness is going to come back and bite me at around 3:30.    But you know with box wine, you open your eyes, you’re like, “Woo!  Satan fucked my skull last night.  And he’s got a giant penis.”   You’re not a loser. Drinking box wine is good for the whole family. When you’re finished, you whip the box off, you give that to the cat, he plays with that. You blow up the bag and the kids play with that. You’re fucking mother of the year.   Yeah. You’re not a loser… if after you’ve been to your mum’s house, maybe you’ve had a massive feed, you’ve had seconds, she’s given you dessert. She’s even given you some leftovers in a little plastic bag because she doesn’t trust you with her Tupperware.   Now you have to drive with a plastic bag of spaghetti next to you.   “Fuck, I hope I’m not in an accident. This is going to be hard to explain.”   You’re full, and then you drive to the hardware store quickly ’cause you need a new tool belt.    As soon as you get out of the car, you smell it. You smell that sausage sizzle. You’re like, “Yeah.” When you get on a plane, right, you’re not hungry, you just had a nine-course dégustation. You’re chockers. You go, “I’m so full.” But as soon as you hear the wheels on the food cart, you panic!  You panic, you’re like,  “Chicken! Oh.”  That’s what it’s like when you get out of your car at the hardware store, you’re like…   “Yes.” Like, you’re not there for the cuisine.  Let’s not fuck around. That’s not good food. You know those sausages are basically vegan.  They’re made from wood chip and goat spit…  …and the goat donated the spit. He just looked at that and went…  “I’m not eating that.”  But it’s because there’s so much joy around there. As soon as you get it, you look at those people and they’re always happy, ’cause it takes a certain personality to go there every week and fucking turn sausages.  You look at them, they’re like…   I want to be around that joy. You rummage around the car for a gold coin, you walk up to them, you give them a gold coin and then you…  …pop out your hand. There are very few instances where you as an adult can go up to another adult, put out your hand and go, “Put food on that.  I’ve already got a bag of spaghetti in the car.”  They then take a napkin, put that in your hand, and then they put the thinnest white bread you’ve ever seen in your life on top of that. We call it magic bread at my house ’cause it’s impossible to put any spread on it.  You can try. But as soon as you do…  …the middle’s gone.  You can’t even find it in the house. It’s just gone. You just have this weird frame of what bread used to be.  So you’ve got your napkin. They put the magic bread, then they put some onion, some fried-up onion, and then they put the sausage, and then…  …tomato sauce over the top of that. It’s never-been-near-a-tomato sauce, let’s be fair, that shit glows in the dark.  Now you’ve got your food in your hand. Now, pro-tip: What you want to do is you want to go ahead and curve it.  You want to curve that whole scenario like this, ’cause if you keep it flat, it’s very hard to eat.  If you keep it flat, it’s called a situation.  But the minute you roll it, you’ve got a meal.  Now you walk into the hardware store and you look for other people like you. You look for the other sausage people. When you see them, you’re like…    “We make the same decisions.  We’re here…  …and we both have these. Yeah.  On your… No, tool belt. Tool belt, I mean.”  Then you start eating and something magical happens as soon as you walk away from that barbecue. The onion is now freezing cold.  But the sausage will increase in heat. There’s…  I think it’s the glue that holds it together.  So you want to approach that sucker with caution when you eat. You approach with your teeth, like a hot potato, so you can breathe through the back of it. Like, get some air on that thing.   It’s a very toothy approach, like your first blowjob.  You walk through the shop, you’re about halfway through. You look and you go, “Fuck, I’m eating the napkin too.”  You’re not a loser, that’s where the nutrients lie.   But then… we do start… Do we have a snorter? That’s great!  I love how everyone’s, “It’s this lady here.”   It’s like… It’s not like she had a shit on the seat.  I’ll just get some water. I’ll just be walking over here, getting some of this every now and again. You know, whenever I take a sip like that, the wardrobe lady is downstairs going…   …just in case I spill some of this water down my tits.  ‘Cause if you know me, there’s a hundred percent chance that I can do that. This wasn’t the top that I was supposed to wear tonight, but…  …I had a top that matched the pants.  But it’s got about half a liter of butter chicken on it.   So, yeah, decisions were made.    I said to them, I go, “Just let me wear the stained top because realistically that’s how people will be seeing me in the future.”   It is very rare to see me in the street without food somewhere… on the tatas, but, um…   Apparently, that’s a big fucking no-no. All right, uh…  …here we go. Now, there are things that we do that we think we’re nailing and we’re not. Like thongs. Jandals.  Flip-flops. Plakkies. That’s what we call them in South Africa. You know, we will never have world peace… unless we can agree on a name for these shoes.  Nowhere where you go in the world are they called the same. You could get on a plane right now, fly somewhere you’ve never been before, get off, go to a shop and go, “Excuse me. I’m looking for those summer shoes…  …that you can get your toes through like that. And then, “Oh, you’re talking…”   We don’t even question why the fuck it’s called that. We just go, “Yeah. I was hoping to buy some blue…”   Now, the thing with those shoes, they don’t come with instructions, and the thing is, they really should.  ‘Cause I never owned a pair of those ’cause I grew up on a farm in South Africa where we have snakes and scorpions and shit. So, you can’t have any of that. So the first time I ever bought a pair of those was when I was in my mid-thirties, thirteen years ago in New Zealand. And no one stopped me. Like, I bought them, no one, as I got to the door, went, “Hey. Have you used those before?”  You go, “No, I haven’t.” “Come here. Hey, just so you know… if a drop of moisture gets on the inside of that shoe…  …you’re dead.  Oh, and if a drop of moisture gets on the outside of that shoe…  …you’re dead.  Oh, and don’t think for a second that you can run…  …from your car… during a thunderstorm…  …into the mall… where they’ve gone ahead and tiled it.  ‘Cause whether you’re physically prepared or not, you’re gonna do the full fucking splits.”  You’re like, “Oh, okay, cool. Cool, cool, cool, cool… Cool.” As you walk out, they go, “Oh, one more thing. Just so you know, those shoes?  They’re only for forward motion.  We call them one-directional.   Yeah. Oh, you want to take a step to the side?  You’re dead.  You want to take a step back? My uncle tried that. He’s dead.”  Those shoes are so complex, man. They should come with a warning and someone to live with you for, like, a week after you buy them. I bought a pair, my wife and I took our two kids down to Fielding, where she’s from. It’s a small farming community in the middle of the North Island of New Zealand.  It’s not as exciting as that person makes it out to be.  Like, nothing happens there every half an hour and it usually lasts about an hour.  So we took our kids and we showed them around a bit and then after two minutes, we were done and, uh…  I… I went and strapped my two-year-old back into the car, you know, his little vaccinated arse back into the car seat.  And I forgot that I was wearing these death booties, right? So you know the movement after you strap them in, you have to take a side step so you can close the door ’cause they’re too weak to pull the door shut, aren’t they?  But as soon as I took that side step, my body just went, “Okay, we’re gonna go ahead and, uh…  …go ahead and put you down at this point.  Uh… You’re gonna go on your ass.” And my brain just went, “I… I can’t stop this. You, uh…  You are on your own.” I was falling down so slowly that I had time to move shit out of this pocket to this pocket.  I could move my handbag over and I was just walking it out. Just walking it out. I fell over so slowly, my wife had time to walk around the car, look at me and go, “What are you doing?”  I said, “I’m falling over.”  She took out her phone, took a few photos of me and sent it to everyone in our WhatsApp group. And I learned something valuable that day. I learned that I’m officially at the age-weight ratio where I no longer fall over.  I had a fall.  You don’t know when it will happen to you. Even five years ago, my friends would have gone, “Were you drunk?”   Now I get all these concerned emojis and…  “Mate, are you all right? I believe you had a fall.” I’m like…  “No, bitch, I was wearing my death booties. I forgot.” The other thing that we think we’re nailing and we’re fucking not, are puffer jackets. And especially…   …especially Melbourne, you are so bad for puffer jackets. You know, today, I would classify today’s weather as mild. Like, if you were one of those people that can feel the chill, maybe a long-sleeved T-shirt is for you.  You know what I saw today? Two ladies walked past me and both of them had those puffer jackets that come down to mid-calf. Zipped up.  I mean, that is a bold fucking statement if you zip it up. Sometimes you go, “Look, I had it at work, my hands are full so now I’m carrying it home and it’s open so I still get a breeze on.” When you zip it up, you’re saying to people, “I’m fucking cold.”  But I looked at those women and I thought, “What have you heard?” I mean, honestly, wouldn’t it just be spectacular come three o’clock…  …massive storm, we’re up to our earlobes in snow.  And just these two bitches going, “Fucking knew it.”  They designed those jackets so people in Antarctica don’t freeze to death. Like, if you’ve got a colleague who’s a sherpa, you need to get one of those.  But if you’ve got a colleague named Brian who can’t cope with a cup of fucking tea, you’re fine.  Light layering is in your future. Get a cardigan and a scarf. You’re fine. So confusing when I come here ’cause I always fly into Australia then go straight to the hotel. It’s all air conditioned. And then at some point, I go, “I should go for a walk, I wonder what’s happening with the weather.” And then you look out the window at the people in the street and you go, “Yeah.  It’s impossible to tell.”  ‘Cause two thirds of you are wearing puffer jackets with shorts and death booties!  I don’t know what’s going on. We preparing for snow or backyard cricket?  You know, we all do stupid shit on a daily basis. That doesn’t make you a loser. Just ’cause you’re having a tough time in your life doesn’t make you a loser. I think the only true losers in our society are those people who go online and attack people for shit that they cannot help. Like, if you’ve ever gone online and attacked someone for the way they look, what the fuck is wrong with you? Like– During the Olympics, right, a woman won a gold medal. I read the article, good on her. And then I had a brain fart and I clicked on the comments section.  If you want to lose hope in humanity, click on the comments section of your newspaper and just read that. The very first comment said, “Yeah, good on her, but what a dog.”  I clicked on this man’s profile and I thought, “He’s no oil painting.  Unless someone smudged him at birth.”  Like– The confidence you’d need to rock… If you’re gonna attack someone for their looks, you’d better be fucking hot.  Not even average looking. Fucking smoking hot.  ‘Cause then if you click on their profile, “Yeah, all right, fair call.”  But I don’t understand attacking someone for their looks because it’s not like she made herself. Like, if we made ourselves, we’d be stunning. I would be so beautiful, you wouldn’t be able to look at me.  I wouldn’t need to be introduced by anyone. You’d know I’m coming ’cause you’re coming.  Yeah.  He’s going, “Oh, she’s coming ’cause I’m coming!”   If you truly have a problem with the way someone looks, look up their dad on Facebook and go, “Hey, bro, what happened?”  Or attacking someone for their sexuality. ‘Cause you know that’s not a choice. Oh, God. You know that’s not a choice?   I thought, “Fuck me, this is the audience…   This is the audience that’s gonna break me,” like, “It is a choice.  We’re here from the Baptist Church and, uh…  …we believe it is a choice and you’ve been making the wrong choice.”   “We’re here to put hands on you.”  You know it’s not a choice. Sexuality is not a choice. If it was a choice, there wouldn’t be a straight woman alive.  Like, no offense to men. No offense to men, I love you guys, but have you seen your balls?   Those aren’t your biggest asset.    They’re an acquired taste.  I reckon the first– If it was a choice, if sexuality was a choice, the first time a woman walks into her room where there’s a naked man, she’d go “Oh.  Oh… Oh…  Uh…   I’m gonna go look for some puss. Uh…  I’m gonna leave you with that.”  Do you know how hard it is to explain what balls look like to a gold-star lesbian?  Do you guys know what a gold star is?  Okay, a gold star is a gay person who has never slept with anyone from the opposite sex. They only sleep with their own kind, the way God would want it.    So– Oh, wait, actually, gay dudes can be platinum stars. They are ones that have never slept with anyone from the opposite sex and they were born via cesarean.  So, even on the day they came out, they had a look and went, “Fuck no!  Take me out through the sunroof!”    So… Do you know how hard it is for me to explain to a gold-star lesbian what balls look like? ‘Cause I’ve seen a fair few in my fucking time.  I go, “Well, basically, it’s like…  It’s like…   It’s like… two rotten kiwi fruit…   …had a baby with some old tea bags and they just keep getting longer and longer and longer. You guys have been amazing! Thank you so much for having me.  Thank you, Melbourne!     https://www.netflix.com/title/81177697'"
      ]
     },
     "execution_count": 204,
     "metadata": {},
     "output_type": "execute_result"
    }
   ],
   "source": [
    "metascripts['transcript'][32]"
   ]
  },
  {
   "cell_type": "code",
   "execution_count": 205,
   "metadata": {},
   "outputs": [
    {
     "data": {
      "text/plain": [
       "'Watch Urzila Carlson: Overqualified Loser on Netflix \\n  Make some noise, welcome to the stage… Urzila Carlson!    You guys! See? This is why…  This is why people love Australia. ‘Cause you guys are just off the fucking nut.  Just quickly, before we start… I just–  I feel like I want to share something with you. ‘Cause sometimes, right, audiences will send me gifts. Like, not this audience.  Honestly, sometimes audiences bring me gifts, and then they give it to the usher and the usher will bring it backstage and then I have to open it. Because I don’t have a crew of people that travel with me ’cause I’m not Adele.  You know, I don’t know how people imagine, like… I walked here tonight. The five blocks.  You know when you make that decision, you go, “It’s only five blocks, I’m gonna walk it”? And then after the third block, you go, “Fuck, I should’ve taken an Uber.”  Then you go, “It’s too late now, I can’t get an Uber now for two blocks, ’cause they’ll think I’m lazy.”    You don’t want them to give you a two-star ’cause you’re lazy ’cause then you have to fake a limp and stuff.  “Yeah, I just sprained my ankle.” So I get this gift, right? I do a show in Auckland, and a woman sends a gift with an usher, and the usher brings it to the room. And now I’m gonna open it, but it looked dodgy as hell. It was just wrapped in brown paper. And– And it had a string around it, and not that fancy string that you get now over Christmas. You know, you always get– Like your sister-in-law, she’ll be doing all this fancy fucking wrapping and shit.  And you go, “Okay, calm down. We know it’s bath salts.”  It’s like, “Christ, you just spent $45 on the wrapping of a $2 fucking gift.  And we don’t have a bath!”  Not one of those strings, it was just an old shoelace.  So you know it’s dodgy when the usher sort of kicks the door open, throws the gift and goes, “That came for you,” and runs away.  So I look at this gift and I shook it and no powder fell out of it and it wasn’t ticking.  I’m gonna open it. So I open the gift. And someone had sent me a moon cup.  Like, a new one, but a moon cup. Now, for those of you who don’t know what a moon cup is, ladies, if I can ask you to just turn to the men in your area…  …and just explain to them what a moon cup is so I don’t have to. Talk amongst yourselves.  If you don’t know, ask the people behind you. They know.  Oh, I don’t know what’s going on there. There’s a lady in the back doing that…  I don’t know what you’re explaining…  ….but I think you’re doing it wrong.  For those of you who don’t know what a moon cup is, it’s basically a Tupperware bowl for your coochacha.  Like, you whip it out when Aunt Flo comes to visit. You feel? But I knew. As soon as I received this gift, I knew I was in deep trouble ’cause I’ve got an inquiring mind…  …and I knew I was going to try it.   Now, I’m not going to go into detail, but let me just tell you, it’s not for me.  Let’s just say… Okay, you know when you’re unpacking the dishwasher, right? Ladies, if you want to turn to the men in your area and just explain what I mean.   No, you know when you’re unpacking the dishwasher and you get to the kids’ plastic bowls and cups and you don’t take the time to individually dry each and every cup? You just kind of grab them, whack them and stack them away and then tomorrow morning, you have to feed those same children out of those bowls and you take it out and you’re like…  Yeah, that.  So, no, it’s not for me.  I travel a lot. I’m on the road about 300 days of the year, and whenever I do go back home to Auckland, I always go see my GP and get them to do the once-over. Right, give it everything. Like, from head to toe, from head lice to ingrown toenails and everything in between.  They check the boobs, the smear. They even give you the flu jab, you know, ’cause science. Um…  I’m not going to tell you what to do with your life, you know, I’m just saying. We vaccinate ’cause we understand words and shit.    Now, I understand that there might be some anti-vaxxers here tonight. ‘Cause when I did the show in Auckland, 13 people got up and walked out…  …and the whole auditorium went…  Like I was supposed to fight them or something. I’m like, “Leave them alone, they’ve got sick kids at home.”  So, anyway, I go in, I see my doctor. She does what she can do and then she sends me off to the nurse. Now, our nurse, Nurse Barb, retired two years ago. Which is a good thing because she was, like, two years younger than Jesus, okay?  I’m not ageist. But the last two years, I also got a prostate check.  I didn’t hate it.  That’s why I went back the second year.   Anyway, I walk in, we’ve got a brand new nurse, Nurse Maniah, and, uh, I look at her and I go, “Hi,” and she’s lovely, she’s a lady in her fifties. Um… And I look around and I’m trying to find the gown. Because you have to put this gown on with an opening in the front because they’re going to be working on your entertainment area…  …right? Now, personally… I’m not a big fan of the gowns because they never close properly. You know, ’cause I’ve had a few big Christmases in my time.  Like, I don’t identify as fat. But I’ve definitely, you know… I’m– I’m quite a few meals ahead and a few shits behind, so…   And, you know, you don’t need to be a personal trainer… to know that if those two things don’t line up, you can never be your goal weight.  But I don’t see the gown, and Nurse Maniah goes, “No, no, I use a lavalava.” And I thought, “This is great, it’s basically like a sarong. Not only do I get a smear but I also get a cultural experience. I love it.”  So I take the lavalava off her, and now I wait for her to leave and close the curtain so I can, you know, take my kit off and put it on. So she closes the curtain. But she stays in there with me.  So at this point… I decide to decline the lavalava. She then takes it and biffs it on the desk, and I take my kit off and I hop on the table. Now, the protocol when going for a smear is you, the patient, must stare at the wall.  And her, the nurse, must stare at a speck on the curtain over here.  But never… do you make eye contact.  So, she starts, and I can feel her rummaging around.  Which is not what you want to feel at a doctor’s surgery, you want a… you want a confident hand.  You want– You want someone that knows what’s going on. And I could feel her rummaging around, and I don’t know at what point… do I act? At what point should I go, “Do you need help?”   Too awkward, right? Or do I just keep quiet and guide her hand in?  Yeah, you’re right, that would be too much.   I didn’t have to do either of those things because she asked me something that was so left field that it knocked me, I had to think about it for a second. She goes, “You still a virgin?”   And I went…  “Say what, now?” I was like, “Oh… Oh, no. I’ve had the sex heaps.”  And she goes, “Huh. Okay.” She then leaves the room. At this point… I’m regretting not taking that lavalava.  ‘Cause now I’m just lying on that bed like a frozen supermarket chicken… ;   …worried that someone might come in. They didn’t. She came back in a flash. She had a smaller speculum.  And she was at it again and she goes, “I’m just gonna ask you again.” She goes, “You sure you’ve had sex before?” I go, “Yeah!” I said, “I’m married, my wife’s waiting in the waiting room.” She goes, “Oh…  …I see.”  She goes…  “But have you had sex with a man?” I said, “Yes, I’m familiar with disappointment.”   She says, “I’m just asking ’cause you’ve got the smallest vagina I’ve ever worked with in my career.” I went, “No shit!” I guided her hand in, she took the swab. I got dressed, I went in the waiting room and I go, “Come, babe!” To my wife, not to a stranger. I go, “Come.”  We walk back in. I said, “Nurse Maniah’s got something to tell you about my…   …entertainment area.”   Nurse Maniah looks at her, she goes, “If I had to describe her vagina with one word, I’d say… petite.”  My wife immediately turns to me and she goes, “You cannot use this story on stage.”  I said, “Bitch…  …a medical professional just told me something on me is petite. I’m fucking telling everyone!”   But that explains the moon cup, doesn’t it?  I needed a thimble.   So this show is called Loser and I decided to write the show ’cause I was so… confused, like it’s always negative if you lose anything. You lose your keys, you lose your mind, you lose your dad: that’s negative. But you lose a bit of weight: positive.  And I don’t understand that. Like, if you lose half a kilo, strangers will applaud that. You can go out right now and go, “I lost half a kilo,” people will go, “Good on you,” and give you a high five. Which I don’t understand. If you truly love someone– If you love someone, don’t you go, “I fucking love you so much, I wish there were 50 kilos more of you”?  With everything else, if you love it, you want more. You love cake? Fucking give me more cake.  Or you love money? Give me more money.  I fucking love you? Less of that.  It makes no sense. Now, I know… I know I need to lose some weight. I know that. But I– I want to be very careful. I just want to lose enough weight so I can eat in public.  I just want to be able to eat a pie in public.  ‘Cause you know if you’re in here and you’re a bit of a chub, you know you cannot eat in public.  You will be judged, right? Like– Even if it’s a celebratory pie.  Even–  Even if your stomach stapling has been really successful…  …and to celebrate, you go to BP to get a pie ’cause they’ve got the best pies. That’s what their name is for.   You go over there, you grab a pie and you’re outside eating that pie, like, “Nom-nom, 80 kilos gone.” You know some fuckwit in a ute will drive past and go, “Who ate all the pies?”   And you have to go…  “I did.”  So I know I have to lose some weight. But I want to be careful ’cause I don’t want to lose too much and end up in porn.  ‘Cause you know that is a very real possibility.  If you’re hot. If you’re super… Like you are, you’re proper hot. Right? Like, you’re a beautiful couple. Do you work out together? Yeah. Of course you do.  I’m not fit-shaming you. But you’re a hot couple. Like, aesthetically, you’re quite pleasing to the eye.  Like, if you two came up to me in a bar and asked me for a threesome, I’d be in.  Yeah. And not just in a “hold the camera” kind of way. I’d give it my all.   I would get so freaky, you two would be super impressed. Like, halfway through, over my naked butt, you’d just be high fiving each other, going…  “Fucking score on this one, eh?”  But you have to be careful. ‘Cause you’re beautiful, you could end up in porn. The rest of you, you’re fine.  ‘Cause, you know, if you’re in a happy, healthy relationship and you’ve got a healthy sex life, at some point, one of you will turn to the other and go, “We should record ourselves.  You know, while we’re…  You know?” And you will. If you’re going, “We’ll never do that,” your partner’s probably already doing it.  You may as well get involved. There’s a whole genre of porn of you not being in porn. So you might as well.  And then you’re going to go, “Okay, fine.” Then you’ve got to take your smartphone, you’ll prop it up somewhere in the room. And then you go at it. You go at it hammer and tongs, right? You give it your A-game ’cause you know you’re recording yourself.  Then afterwards you go, “Okay, go get it.”  He rolls off you, he goes and he gets it. He comes back and you’re excited. You’re like…   “Oh, this is going to be good. This is going to be great, yeah.   I love you.” And you hit play.    “Why is my arsehole so dark?  Why is it so hairy?  It looks like a tarantula is crawling out of a cave.”   You look at your body at an angle you wouldn’t normally see, performing an activity you wouldn’t normally see reflect back in a shopfront window.  You see things on your body that you wouldn’t normally see. You look at that and you go…  “Is that a nipple on my back?”  And your partner’s, like, super blasé He goes, “Yeah.  I thought you knew.” You’re like, “No, every time it’s cold, I think it’s the fucking label on my cardigan!”  And he’s like, “No, no. And when it’s really hot, it does that weird Barbie mouth thing, that…”  You look at that footage, it’s not natural. It’s your fat, pasty-ass white body plowing at pace…  …into another fat, pasty-ass white body… meeting abruptly in the middle. It doesn’t even sound good.  Like, in the heat of the moment, you don’t hear anything. But when it’s silent and you’re just staring at your white body with an extra nipple on a little screen, all you can hear…   Like, “What is that noise? Oh, it’s your balls on my tummy.”  You look at that and you go, “Why am I fucking you?  Why are you fucking me? Let’s never do this shit again.”  Then you go, “Delete it.”  And he goes, “I will.” “No, you’re fucking doing it now!”   He deletes it. You double-check it’s deleted out of the recently deleted.  That couple then take that phone together, walk it out to the shed, take a hammer…  …smash it till there’s only powder left, take a brush, into a little plastic bag.  You drive from the top of the country to the bottom of the country and at every public toilet, you stop and you put some of that dust in the toilet…  and then you flush it just in case some IT genius is about to crawl out of his mother… to put that shit back together again and share it with the world. We are very careful.  But you two…  Not you two.  You’re like, “Yeah, let’s record ourselves.” “Yes, let’s. Let’s. Just let me finish moisturizing.”   And then you prop the phone up, and afterwards you go, “Go get it,” and he’s like, “Yeah, no worries.”   Don’t even need to get out of the bed ’cause that yoga is finally paying off.  Actually, that hurt my back.  I don’t think I…   Medic!  You take that phone. Like, “Let’s have a look at this. Oh, this is gonna be good.   I love me.”  You hit play on that. You’re like, “Oh…  Oh, yeah, look at that! Look at that!” Like, “Holy shit. I’m glad we went for that two-for-one anal bleaching.   We look amazing! We should get a blue light, let it light up.”  “This is phenomenal work. Yeah, wait, wait, my best part’s coming up. The dismount.  You go into a full triple back flip…” I’m not very good at sports talk, you know.  “Full splits onto my dick. This is lovely.”  You go…  You go, “Save that. Save that. We look phenomenal.” You go, “Let’s watch it tomorrow when we get back from pilates.”   Tomorrow night, you get back from pilates. You’re like…  “Oh, yeah.  You know how I get all limber and into it. Now, let’s watch it.” So you watch it again. You go, “Fuck, we are beautiful.  We’ll save it.  We’ll watch it tomorrow night after my spinning class.  You know how I get after spinning class.  When my perineum is still vibrating.”  I assume that’s what happens, I don’t know.   I don’t ride a bike. I’m an adult, I’ve got a car.     And then you watch it again and you go, “You know, we are so beautiful. It’ll be a waste if only we get to see it.  We should upload it.” Then you load it up to Pornhub and we’re now all whacking off to you two…  …’cause we’re no longer fucking each other.  So all I’m saying is get ugly or get fat, or you’re going to be in porn.  You know your dad’s going to find it.  Yeah. Your mum won’t know what’s going on.  You know…  You have not lived as an adult if you haven’t been at your parents’ house on a Sunday waiting for the roast, your mum’s in the kitchen you’re watching some trash with your dad, and then your mum just pops out of the kitchen going, “Hey! Can you have a look at the computer? It’s wiped the history again.”  And you look at your dad and you go, “Motherfucker!  Can’t remember your Facebook login but know how to wipe the history, do ya?”   And your dad’s like, “Oh, it’s all right, I’ll have a look later.” I bet you fucking will.   So anyway, what I’m saying is I need to lose some weight.  I’m already panicked. Because I’m of the size, whenever they talk on the news about the obesity epidemic in Australia, I know I could be one of those arses walking in the street.  You know the one. When as soon as they start talking, they go, “We’ve got a dietician here. Um… The obesity epidemic in Australia…” And you’re like, “Oh, no. No, no, no. Where did they film today?” And when you…  When you see they’re in an area where you were, you’re like…  “No!  Oh, fuck off!”  ‘Cause, you know, it’s always you in your track pants.   I see those fat people walk with these short steps like this. I’m like, “What the fuck are you doing? Stride it out, motherfucker! “  Have you guys ever watched that show The Biggest Loser?  Yes. You know when they came up with the concept for that show, there wasn’t a fat person in a ten-kilometer radius. Because it would’ve been a completely different show. When they came up with the concept, they were all sitting in a boardroom in their yoga pants, and they go, “All right, we’ve got $200 million. What are we doing?” And Karen in Marketing went, “Well… how about we take 12 fat people…  …and we put them in this fat farm scenario, and then we give them, like, six carrot sticks a day to eat…  …and we give them these really angry personal trainers.” Like you get them any other way. “We give them these really angry personal trainers to yell at them all day and make them exercise and then vomit up those carrot sticks.”  And everyone’s like, “All right. All right.” Even if there was a fatty in the room at this point, they’ll go, “Harsh. But watchable.”   You’ve watched it. And then they go, “Okay, Karen, then what?” “Well, then we just monitor their progress. So once a week, we just put them on some scales in their cute little outfits. And then behind them, in giant red LED lights that they can’t see, we put the weight they used to be, their weight now, their BMI, and their sperm count.  And then we judge them like that.” Now, if there was a fatty in the room, they’d go, “Hang the fuck on,” at this point. They’d go, “Just a minute, just a fucking minute.  What are these cute little outfits you’re talking about?”  She goes, “Oh. I thought, like, bike pants and sports bra?” “No.” ‘Cause you know what, if you’re over the age of two…  …you don’t look cute or good in ’em.  The only people allowed to wear bike pants and a sports bra are people under the age of two or if you’re in the Olympics.  That’s it. Tomorrow morning, if you wake up and you’re putting those bike pants on, go, “Am I over the age of two?”  If the answer is yes, then ask yourself, “Am I in the Olympics?”  If the answer is no, get the fuck out of those pants.   ‘Cause you know what the problem is with that outfit, especially for women of a certain age. Like, I’m in my mid-forties. You know what the hardest thing of my day is? Lining up my nipples.  I wake up every morning and when I put a bra on, it’s like doing two really complex Rubik’s cubes.  Oh, fuck it. Tuck it into your pants.  Well, Karen, you can’t tuck it into your pants when you’re not fucking having anything in the middle. It’ll look like a fleshy scarf.  Fat people don’t like to get weighed. That’s why we don’t skydive.  Well, that, and it scares the shit out of whoever has to do a tandem jump with you.  But…  When you skydive, they weigh you. And then they write your weight on your hand with a permanent marker.  I don’t want to be telling people three days after my jump, “Oh. Oh, no, it’s not a phone number.”  If I was in charge of making The Biggest Loser, it would look completely different. For starters, the people I would put in there. I’d put people in The Biggest Loser, those people who never say thank you for shit. Like when you’re driving and you give someone a gap and usually it takes a few goes to try and get them in the hole. You’re like…  And then they take it… and you wait for it.  But they just keep going. It’s like they take that gap and go, “Mine!”  What kind of animal raised you…  …that you would take a gap and not just put your hand up like that to thank the person behind you? That’s all you have to do. ‘Cause if you don’t thank the person behind you, you’re making it unsafe on our roads.  ‘Cause now I have to aggressively overtake you…  …to go get my good deed back ’cause you were raised by an animal.  It’s the same as when you’re driving and there’s a pedestrian crossing and you stop and a car there stops, and then the pedestrian walks past and they thank this guy and just walk past your car, and you’re like…  “What’s going on here?  I’m doing what they’re doing. Where’s my thank you?” I reckon if they’re two thirds past your car and they haven’t started lifting their arm, hit them with your car.   Not to kill ’em. Just to knock ’em down so you can talk to ’em.  Then you hop out of your car and go, “Don’t worry, I’ve got this. I’m a medical professional. I’ve got a petite vagina.”   You go, “Where’s my thank you, asshole?”   Those people are all going on my Biggest Loser campl Or when you’re at work, right, and you’re in the lunchroom, you just want to eat your sandwich in peace. And then you hear it…   And you look over and there he is. You go, “Jesus, Brian.  How about you just leave that cup of tea for a minute? That’s going to cool down to a temperature… where you can just go ahead and drink it.  Where it won’t sound like you lost your top lip in a violent accident.  And now you’re curving your bottom lip in a straw-like scenario, trying to suck a teabag out of the bottom of that cup.”  Brian’s going in The Biggest Loser camp.  Or that friend that we all have that have never let you finish a sentence. You’ve been friends for years and this is the only thing they’ve ever seen out of you.   Fucking Biggest Loser camp. Or any right-wing politician that has ever said anything so fucking stupid, it makes you want to headbutt a nail.  They’re going in there. You know the ones. Like– Like those people that can’t even take a mild egg to the head without trying to knock out a teenager.   Get in the camp. Then what we do is we give them challenges that they cannot achieve, like keeping a cookie out of a fat kid’s hand.  If they fail, we give ’em paper cuts.  Now, I wasn’t raised by an animal, I understand that, you know, everyone’s not the same. Like, the tea slurper is not on the same level as the right-wing politician. So we cut them with different grades of paper.  The tea slurpers and the interrupters, they get 150 gsm.  Then the people who don’t thank you in traffic who have no manners, they get a 300 gsm gloss.  And the right-wing politicians, we cut them with X-rays.   And then we take chili oil and rub it in their wounds.   -I know, I’ve got a lot of time to think.  That’s what I do when you guys are at the gym.  People go, “Why don’t fat people just get off their fucking arses?” -‘Cause we’re thinking of this shit.  Okay, maybe that’s a little extreme. Maybe it’s more like… I just think, like, other things are bigger losers– Other people are bigger losers than actual fat people just losing weight. Like, say if you get in a car with your friend, right? They’re driving. You’re saying to that friend, “I trust you with the most important thing that I have: my life.” ‘Cause without it, you can’t do shit, right?  So you start driving, and ’cause you live in Melbourne, it starts to rain.  They don’t turn the wipers on. You know? All right. All right. I’m not going to be that person, but you know how vitally important it is for you, the passenger, to see where they’re driving.  Otherwise how do you know how to make the right…   You don’t want to say anything. So you just start scooching down in your seat a little.  Just a little. ‘Cause just above the dash, just under the wipers, there’s always a weird half moon that you can see out of.  But then you start to panic, right, and you think about that pillow that your wife bought about you living your best life. And you think, “Fuck, I do want to live my best life and I want to continue with that. I should say something.”  “Put the wipers on!”  And they go, “Oh, shit, I didn’t even notice it started raining.”  “You know you’re driving, right?”  And then because it’s Melbourne, five minutes later it stops raining.     They don’t turn the wipers off. Not only do they visually have something in front of their eyes going, “Oh, you’re fucking up here, mate…”   …audibly, there’s a bit of a soundtrack, too. It gets so dry that it does that weird triple jump in front of you.  When it comes back, it’s like…   You’re not safe. You need to undo your belt, open the door and tuck and roll. Just…  Those people are bigger losers than you.  But, you know, because we have social media, we put ourselves into situations where you feel like a loser. ‘Cause you look at other people’s amazing lives, right, ’cause they have these amazing filters and amazing bullshit on their pages that you start to believe, ’cause even though, intellectually, you know it’s bullshit, you know this person, they have a horrible life. But your eyes go, “It’s better than yours.”  And then you feel like a loser. But it’s not. It’s like if you show up 20 minutes early to a party, you’re not a loser. You’re smart. ‘Cause they usually have the food out.  They have the food out and they’re still doing the setup. So you can get involved. You go, “No, you carry on, don’t worry about me.” You look at their table, you go, “Guacamole looks good.”   “I’m going to give it a go.  Just going to try it for her. Give her some valuable feedback if she needs it.” So you grab a chip. Now, you’re not a fool. You know to go in slow, right?   You’ve been around food before.   Don’t worry. When that chip breaks…  you’re so disappointed in yourself, you’re like, “How am I this age and I can’t nail a snack?”  ‘Cause now you know you’re in deep shit. You better get that chip out before she comes out. Don’t want to fuck up the table before anyone else gets there. You’re gonna take another chip. But you’re gonna take a strong one. You know, the…  No, ’cause you know the ones that are curved, the curved ones are structurally stronger than the others.  So, you take that curve. Also, pro-tip: they always have more flavor ’cause they’re sort of… Anyway, so…  So you take that chip. Now, you know, you’re not a fool. You’re gonna go low and slow. You’re gonna go low and slow, and you want to slowly curve it around the original chip. Just make it a little… You don’t want to go too close ’cause then it could structurally damage the… So, you just want to go… slight– When that second chip breaks…  …you question every decision you’ve ever made as an adult. “I should probably not be alone.”  ‘Cause now you know you’d better get that out before she comes out. You’ve got two chips in there. You’re not gonna take another chip, you’re not an idiot.  You’re going to learn from your mistakes here. You don’t want her to come out to two half dead chips in the guacamole with a fucking moat around it.     When you’re second knuckle in, she comes out and busts you.  Like you’re at your high school dance… and you just lock eyes with each other.     I love that slow realization.  Ooh…   My hand’s still in the guacamole.  She walks out, she locks eyes with you. She looks at you, you look at her. She knows your hand’s in the guacamole, you know your hand’s in the guacamole. You look at each other, ’cause you don’t know at what point… should you pull your hand out.  There’s no time like the present so you just pull it out. Now the bigger conundrum. Do you flick it or lick it?  She just stares at you, never breaking eye contact looking over to you, just taking the bowl, going, “I wasn’t that happy with it anyway.”  She walks in the kitchen, you can hear her throw it in the sink. You feel like such a loser ’cause you go, “It’s out of season for avos, that would’ve cost her $400.”  You’re not a loser, but what you didn’t realize that if you normally show up 20 minutes late, the guacamole’s been sitting on the table for 40 minutes slowly getting to room temperature, and then it’s smooth as anything. You can fucking lift it with anything out of that bowl.  You can lift it with hopes and dreams into your mouth.  You don’t know that because you’re not a chef. Neither am I, but I’m an enthusiast.  You’re not a loser if you say “no, thanks” to free stuff. I say “no, thanks” to free stuff all the time but now because we live in a time where there are people who are influencers and that is a job that just involves getting free shit all day, it’s unheard of when someone approaches you and goes, “You want something free?” and you go, “No, thanks.” Unless it’s a flyer or something. You’re like, “No.”  But I get offered stuff all the time and I go, “No, thanks.” And especially when I get on a plane, they always go, “Do you want the exit row?” Never business. Always the exit row. I go, “No, thanks.”  People– Ten people back will go,  “Did she just say no to the exit row?” They’re so angry when I go, “No.” I go, “Yeah, I don’t need it.” I’m five foot three. My knees have never touched another seat.  ‘Cause I’m mainly torso, too.  Some airlines, my feet don’t touch the ground.  Give it to someone that needs it. I don’t feel I’m trained enough to sit there anyway. I don’t know where these air whores go to air school, but I haven’t been.  I don’t think it’s enough when they come up to you before the flight and they go, “Um… Did you read the A4 laminate?”  And I go, “No, I didn’t because it’s pictures on there.  And you don’t read a picture, you look at it. So am I now more trained than you?  Am I in charge of this flight? I’m just here for the snacks, mate. You can… You can put me near the toilet, I don’t care.” You’re not a loser. You’re not a loser if you wake up seven o’clock one morning and you go, “Hmm. Today’s a shit day.”  Well, you know yourself, you don’t need to live the whole day to know it’s gonna be a shit one  Sometimes you know before you open your eyes, you’re like, “Yeah, today’s a shit one.”  If you open your eyes seven o’clock in the morning and you go, “Fuck it. I’m getting blackout drunk by three…”  …then do it. Do it, it’s called self-care. Look after yourself.  Obviously, if that’s a decision you’ve been making for the last 15 years every morning…  …you’ve got a problem.  But if you do it once every 18 months to two years and go, “Today’s that day,” do it. Why is it socially acceptable to start drinking at noon but not at 7:00 a.m.?  Like, if a friend rings you at 7:00 a.m., which would be weird, but if they ring and they go, “Hey, what are you up to?” “I just poured myself a wine.”  They’ll think you’ve lost your mind. But that same friend can ring you at noon and go, “Hey, what are you up to?” “Oh. Just poured myself a wine.” They go, “Well, I guess it’s noon somewhere.” You go, “It’s noon here, Cara.”  I don’t know why we put that amount of stress on ourselves because of a few fucking hours. Like, the amount of times I’ve woken up and I’ve taken that box wine and I’ve put it on the kitchen counter…  …and I just look at it, and I’m like, “Should I take the tap out and let it breathe or…?”  ‘Cause that’s always the hardest thing with a box wine. You have to get the cover off and then you have to get that tap, and it’s always real in the box. It’s like… You have to put your hand in so deep, I feel like I’m working on a dairy farm. Like…   “I can feel a hoof!” You get that tap out. A hundred percent of the time, the hole always faces there.  You have to pull the whole sack open, sort of slowly get the tap down. I feel I lost some of you as soon as I said “box wine.”   You go, “Fucking box wine?”   I don’t care where you are in your life right now financially, but at some point, every single one of us drank box wine.  Yeah.  Maybe some of you are like,  “I have never.”   Yes, you have! If you’ve got bogan friends, you’ve had box wine.   I love entertaining, right? I have people over to my house all the time. And then when they go, “What should we bring?” I always go, “Just your good self, doll.” And then what I do is I wash the labels off old wine bottles, and then I fill it with box wine.   And not to worry, I’ll even mix you a rosé.  I do the whole shebang, right?  So… Not once in all these years have anyone during dinner gone, “Excuse me. What fresh hell are we drinking here tonight?”  No, they usually go, “Mm! Where did you get this one?” And I always go, “On my travels.”  And they assume… around the world. But just to the liquor store.  I mean, they know the next morning. Because you know the next morning after…  …a box wine, that hangover is completely fucking different to a good wine hangover.  You wake up after a good wine, right, and you have that hangover, you wake up, you’re like, “Woo! Oh, that Central Otago 2009, that…  …that pinot noir nutty goodness is going to come back and bite me at around 3:30.    But you know with box wine, you open your eyes, you’re like, “Woo!  Satan fucked my skull last night.  And he’s got a giant penis.”   You’re not a loser. Drinking box wine is good for the whole family. When you’re finished, you whip the box off, you give that to the cat, he plays with that. You blow up the bag and the kids play with that. You’re fucking mother of the year.   Yeah. You’re not a loser… if after you’ve been to your mum’s house, maybe you’ve had a massive feed, you’ve had seconds, she’s given you dessert. She’s even given you some leftovers in a little plastic bag because she doesn’t trust you with her Tupperware.   Now you have to drive with a plastic bag of spaghetti next to you.   “Fuck, I hope I’m not in an accident. This is going to be hard to explain.”   You’re full, and then you drive to the hardware store quickly ’cause you need a new tool belt.    As soon as you get out of the car, you smell it. You smell that sausage sizzle. You’re like, “Yeah.” When you get on a plane, right, you’re not hungry, you just had a nine-course dégustation. You’re chockers. You go, “I’m so full.” But as soon as you hear the wheels on the food cart, you panic!  You panic, you’re like,  “Chicken! Oh.”  That’s what it’s like when you get out of your car at the hardware store, you’re like…   “Yes.” Like, you’re not there for the cuisine.  Let’s not fuck around. That’s not good food. You know those sausages are basically vegan.  They’re made from wood chip and goat spit…  …and the goat donated the spit. He just looked at that and went…  “I’m not eating that.”  But it’s because there’s so much joy around there. As soon as you get it, you look at those people and they’re always happy, ’cause it takes a certain personality to go there every week and fucking turn sausages.  You look at them, they’re like…   I want to be around that joy. You rummage around the car for a gold coin, you walk up to them, you give them a gold coin and then you…  …pop out your hand. There are very few instances where you as an adult can go up to another adult, put out your hand and go, “Put food on that.  I’ve already got a bag of spaghetti in the car.”  They then take a napkin, put that in your hand, and then they put the thinnest white bread you’ve ever seen in your life on top of that. We call it magic bread at my house ’cause it’s impossible to put any spread on it.  You can try. But as soon as you do…  …the middle’s gone.  You can’t even find it in the house. It’s just gone. You just have this weird frame of what bread used to be.  So you’ve got your napkin. They put the magic bread, then they put some onion, some fried-up onion, and then they put the sausage, and then…  …tomato sauce over the top of that. It’s never-been-near-a-tomato sauce, let’s be fair, that shit glows in the dark.  Now you’ve got your food in your hand. Now, pro-tip: What you want to do is you want to go ahead and curve it.  You want to curve that whole scenario like this, ’cause if you keep it flat, it’s very hard to eat.  If you keep it flat, it’s called a situation.  But the minute you roll it, you’ve got a meal.  Now you walk into the hardware store and you look for other people like you. You look for the other sausage people. When you see them, you’re like…    “We make the same decisions.  We’re here…  …and we both have these. Yeah.  On your… No, tool belt. Tool belt, I mean.”  Then you start eating and something magical happens as soon as you walk away from that barbecue. The onion is now freezing cold.  But the sausage will increase in heat. There’s…  I think it’s the glue that holds it together.  So you want to approach that sucker with caution when you eat. You approach with your teeth, like a hot potato, so you can breathe through the back of it. Like, get some air on that thing.   It’s a very toothy approach, like your first blowjob.  You walk through the shop, you’re about halfway through. You look and you go, “Fuck, I’m eating the napkin too.”  You’re not a loser, that’s where the nutrients lie.   But then… we do start… Do we have a snorter? That’s great!  I love how everyone’s, “It’s this lady here.”   It’s like… It’s not like she had a shit on the seat.  I’ll just get some water. I’ll just be walking over here, getting some of this every now and again. You know, whenever I take a sip like that, the wardrobe lady is downstairs going…   …just in case I spill some of this water down my tits.  ‘Cause if you know me, there’s a hundred percent chance that I can do that. This wasn’t the top that I was supposed to wear tonight, but…  …I had a top that matched the pants.  But it’s got about half a liter of butter chicken on it.   So, yeah, decisions were made.    I said to them, I go, “Just let me wear the stained top because realistically that’s how people will be seeing me in the future.”   It is very rare to see me in the street without food somewhere… on the tatas, but, um…   Apparently, that’s a big fucking no-no. All right, uh…  …here we go. Now, there are things that we do that we think we’re nailing and we’re not. Like thongs. Jandals.  Flip-flops. Plakkies. That’s what we call them in South Africa. You know, we will never have world peace… unless we can agree on a name for these shoes.  Nowhere where you go in the world are they called the same. You could get on a plane right now, fly somewhere you’ve never been before, get off, go to a shop and go, “Excuse me. I’m looking for those summer shoes…  …that you can get your toes through like that. And then, “Oh, you’re talking…”   We don’t even question why the fuck it’s called that. We just go, “Yeah. I was hoping to buy some blue…”   Now, the thing with those shoes, they don’t come with instructions, and the thing is, they really should.  ‘Cause I never owned a pair of those ’cause I grew up on a farm in South Africa where we have snakes and scorpions and shit. So, you can’t have any of that. So the first time I ever bought a pair of those was when I was in my mid-thirties, thirteen years ago in New Zealand. And no one stopped me. Like, I bought them, no one, as I got to the door, went, “Hey. Have you used those before?”  You go, “No, I haven’t.” “Come here. Hey, just so you know… if a drop of moisture gets on the inside of that shoe…  …you’re dead.  Oh, and if a drop of moisture gets on the outside of that shoe…  …you’re dead.  Oh, and don’t think for a second that you can run…  …from your car… during a thunderstorm…  …into the mall… where they’ve gone ahead and tiled it.  ‘Cause whether you’re physically prepared or not, you’re gonna do the full fucking splits.”  You’re like, “Oh, okay, cool. Cool, cool, cool, cool… Cool.” As you walk out, they go, “Oh, one more thing. Just so you know, those shoes?  They’re only for forward motion.  We call them one-directional.   Yeah. Oh, you want to take a step to the side?  You’re dead.  You want to take a step back? My uncle tried that. He’s dead.”  Those shoes are so complex, man. They should come with a warning and someone to live with you for, like, a week after you buy them. I bought a pair, my wife and I took our two kids down to Fielding, where she’s from. It’s a small farming community in the middle of the North Island of New Zealand.  It’s not as exciting as that person makes it out to be.  Like, nothing happens there every half an hour and it usually lasts about an hour.  So we took our kids and we showed them around a bit and then after two minutes, we were done and, uh…  I… I went and strapped my two-year-old back into the car, you know, his little vaccinated arse back into the car seat.  And I forgot that I was wearing these death booties, right? So you know the movement after you strap them in, you have to take a side step so you can close the door ’cause they’re too weak to pull the door shut, aren’t they?  But as soon as I took that side step, my body just went, “Okay, we’re gonna go ahead and, uh…  …go ahead and put you down at this point.  Uh… You’re gonna go on your ass.” And my brain just went, “I… I can’t stop this. You, uh…  You are on your own.” I was falling down so slowly that I had time to move shit out of this pocket to this pocket.  I could move my handbag over and I was just walking it out. Just walking it out. I fell over so slowly, my wife had time to walk around the car, look at me and go, “What are you doing?”  I said, “I’m falling over.”  She took out her phone, took a few photos of me and sent it to everyone in our WhatsApp group. And I learned something valuable that day. I learned that I’m officially at the age-weight ratio where I no longer fall over.  I had a fall.  You don’t know when it will happen to you. Even five years ago, my friends would have gone, “Were you drunk?”   Now I get all these concerned emojis and…  “Mate, are you all right? I believe you had a fall.” I’m like…  “No, bitch, I was wearing my death booties. I forgot.” The other thing that we think we’re nailing and we’re fucking not, are puffer jackets. And especially…   …especially Melbourne, you are so bad for puffer jackets. You know, today, I would classify today’s weather as mild. Like, if you were one of those people that can feel the chill, maybe a long-sleeved T-shirt is for you.  You know what I saw today? Two ladies walked past me and both of them had those puffer jackets that come down to mid-calf. Zipped up.  I mean, that is a bold fucking statement if you zip it up. Sometimes you go, “Look, I had it at work, my hands are full so now I’m carrying it home and it’s open so I still get a breeze on.” When you zip it up, you’re saying to people, “I’m fucking cold.”  But I looked at those women and I thought, “What have you heard?” I mean, honestly, wouldn’t it just be spectacular come three o’clock…  …massive storm, we’re up to our earlobes in snow.  And just these two bitches going, “Fucking knew it.”  They designed those jackets so people in Antarctica don’t freeze to death. Like, if you’ve got a colleague who’s a sherpa, you need to get one of those.  But if you’ve got a colleague named Brian who can’t cope with a cup of fucking tea, you’re fine.  Light layering is in your future. Get a cardigan and a scarf. You’re fine. So confusing when I come here ’cause I always fly into Australia then go straight to the hotel. It’s all air conditioned. And then at some point, I go, “I should go for a walk, I wonder what’s happening with the weather.” And then you look out the window at the people in the street and you go, “Yeah.  It’s impossible to tell.”  ‘Cause two thirds of you are wearing puffer jackets with shorts and death booties!  I don’t know what’s going on. We preparing for snow or backyard cricket?  You know, we all do stupid shit on a daily basis. That doesn’t make you a loser. Just ’cause you’re having a tough time in your life doesn’t make you a loser. I think the only true losers in our society are those people who go online and attack people for shit that they cannot help. Like, if you’ve ever gone online and attacked someone for the way they look, what the fuck is wrong with you? Like– During the Olympics, right, a woman won a gold medal. I read the article, good on her. And then I had a brain fart and I clicked on the comments section.  If you want to lose hope in humanity, click on the comments section of your newspaper and just read that. The very first comment said, “Yeah, good on her, but what a dog.”  I clicked on this man’s profile and I thought, “He’s no oil painting.  Unless someone smudged him at birth.”  Like– The confidence you’d need to rock… If you’re gonna attack someone for their looks, you’d better be fucking hot.  Not even average looking. Fucking smoking hot.  ‘Cause then if you click on their profile, “Yeah, all right, fair call.”  But I don’t understand attacking someone for their looks because it’s not like she made herself. Like, if we made ourselves, we’d be stunning. I would be so beautiful, you wouldn’t be able to look at me.  I wouldn’t need to be introduced by anyone. You’d know I’m coming ’cause you’re coming.  Yeah.  He’s going, “Oh, she’s coming ’cause I’m coming!”   If you truly have a problem with the way someone looks, look up their dad on Facebook and go, “Hey, bro, what happened?”  Or attacking someone for their sexuality. ‘Cause you know that’s not a choice. Oh, God. You know that’s not a choice?   I thought, “Fuck me, this is the audience…   This is the audience that’s gonna break me,” like, “It is a choice.  We’re here from the Baptist Church and, uh…  …we believe it is a choice and you’ve been making the wrong choice.”   “We’re here to put hands on you.”  You know it’s not a choice. Sexuality is not a choice. If it was a choice, there wouldn’t be a straight woman alive.  Like, no offense to men. No offense to men, I love you guys, but have you seen your balls?   Those aren’t your biggest asset.    They’re an acquired taste.  I reckon the first– If it was a choice, if sexuality was a choice, the first time a woman walks into her room where there’s a naked man, she’d go “Oh.  Oh… Oh…  Uh…   I’m gonna go look for some puss. Uh…  I’m gonna leave you with that.”  Do you know how hard it is to explain what balls look like to a gold-star lesbian?  Do you guys know what a gold star is?  Okay, a gold star is a gay person who has never slept with anyone from the opposite sex. They only sleep with their own kind, the way God would want it.    So– Oh, wait, actually, gay dudes can be platinum stars. They are ones that have never slept with anyone from the opposite sex and they were born via cesarean.  So, even on the day they came out, they had a look and went, “Fuck no!  Take me out through the sunroof!”    So… Do you know how hard it is for me to explain to a gold-star lesbian what balls look like? ‘Cause I’ve seen a fair few in my fucking time.  I go, “Well, basically, it’s like…  It’s like…   It’s like… two rotten kiwi fruit…   …had a baby with some old tea bags and they just keep getting longer and longer and longer. You guys have been amazing! Thank you so much for having me.  Thank you, Melbourne!     https://www.netflix.com/title/81177697'"
      ]
     },
     "execution_count": 205,
     "metadata": {},
     "output_type": "execute_result"
    }
   ],
   "source": [
    "metascripts['transcript'].replace(\"\\[.+?\\]|\\(.+?\\)\",\"\", regex = True)[32]"
   ]
  }
 ],
 "metadata": {
  "interpreter": {
   "hash": "542466b5a324f1333f512993cba41ecf153bff5c08c85763ac424cb7f020baf3"
  },
  "kernelspec": {
   "display_name": "Python 3",
   "language": "python",
   "name": "python3"
  },
  "language_info": {
   "codemirror_mode": {
    "name": "ipython",
    "version": 3
   },
   "file_extension": ".py",
   "mimetype": "text/x-python",
   "name": "python",
   "nbconvert_exporter": "python",
   "pygments_lexer": "ipython3",
   "version": "3.8.8"
  }
 },
 "nbformat": 4,
 "nbformat_minor": 2
}
