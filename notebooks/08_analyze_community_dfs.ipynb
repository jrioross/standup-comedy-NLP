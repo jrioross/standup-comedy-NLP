{
 "cells": [
  {
   "cell_type": "markdown",
   "metadata": {},
   "source": [
    "# Community Analysis"
   ]
  },
  {
   "cell_type": "markdown",
   "metadata": {},
   "source": [
    "## Table of Contents\n",
    "\n",
    "   1. [imports](#imports)\n",
    "   2. [analyze mean similarity communities](#analyze-mean-similarity-communities)\n",
    "   3. [analyze feature group communities](#analyze-feature-group-communities)"
   ]
  },
  {
   "cell_type": "markdown",
   "metadata": {},
   "source": [
    "## imports"
   ]
  },
  {
   "cell_type": "code",
   "execution_count": 1,
   "metadata": {},
   "outputs": [
    {
     "name": "stderr",
     "output_type": "stream",
     "text": [
      "C:\\Users\\jrior\\anaconda3\\lib\\site-packages\\scipy\\__init__.py:138: UserWarning: A NumPy version >=1.16.5 and <1.23.0 is required for this version of SciPy (detected version 1.23.0)\n",
      "  warnings.warn(f\"A NumPy version >={np_minversion} and <{np_maxversion} is required for this version of \"\n"
     ]
    }
   ],
   "source": [
    "import pandas as pd\n",
    "import numpy as np\n",
    "import pickle\n",
    "import plotly.express as px\n",
    "\n",
    "import re\n",
    "\n",
    "from sklearn.decomposition import PCA\n",
    "from sklearn.preprocessing import StandardScaler, OneHotEncoder\n",
    "from sklearn.compose import ColumnTransformer\n",
    "from sklearn.pipeline import Pipeline\n",
    "from umap import UMAP\n",
    "from sklearn.decomposition import PCA"
   ]
  },
  {
   "cell_type": "code",
   "execution_count": 2,
   "metadata": {},
   "outputs": [],
   "source": [
    "with open(f'../data/metascripts_df_sentiment.pickle', 'rb') as file:\n",
    "    metascripts = pickle.load(file)"
   ]
  },
  {
   "cell_type": "code",
   "execution_count": 3,
   "metadata": {},
   "outputs": [],
   "source": [
    "with open('../data/features_dict.pickle', 'rb') as file:\n",
    "    features_dict = pickle.load(file)"
   ]
  },
  {
   "cell_type": "code",
   "execution_count": 4,
   "metadata": {},
   "outputs": [],
   "source": [
    "with open('../data/feature_cosims_dict.pickle', 'rb') as file:\n",
    "    feature_cosims_dict = pickle.load(file)"
   ]
  },
  {
   "cell_type": "code",
   "execution_count": 116,
   "metadata": {},
   "outputs": [],
   "source": [
    "with open('../data/metacosims_df.pickle', 'rb') as file:\n",
    "    metacosims = pickle.load(file)"
   ]
  },
  {
   "cell_type": "code",
   "execution_count": 111,
   "metadata": {},
   "outputs": [],
   "source": [
    "with open('../data/feature_communities/feature_coms_dict.pickle', 'rb') as file:\n",
    "    feature_coms = pickle.load(file)"
   ]
  },
  {
   "cell_type": "code",
   "execution_count": 112,
   "metadata": {},
   "outputs": [],
   "source": [
    "with open('../data/feature_communities/all_coms_df.pickle', 'rb') as file:\n",
    "    all_coms = pickle.load(file)"
   ]
  },
  {
   "cell_type": "markdown",
   "metadata": {},
   "source": [
    "## exploration of principle components and feature (show) weights for feature similarities"
   ]
  },
  {
   "cell_type": "code",
   "execution_count": null,
   "metadata": {},
   "outputs": [],
   "source": [
    "def pca_component_weights(feature_mean_com_group, component = 0):\n",
    "    \"\"\"\n",
    "    Run PCA on feature mean community group. \n",
    "    Return a df of which shows (descriptions) were the most influential features for the selected component.\n",
    "    \"\"\"\n",
    "    mapper = PCA()\n",
    "    X = feature_mean_com_group.drop(columns = ['description', 'community'])\n",
    "    feature_group_map = mapper.fit_transform(X)\n",
    "    \n",
    "    components = pd.DataFrame({\n",
    "        'description': mapper.feature_names_in_,\n",
    "        'coefficient': mapper.components_[component]\n",
    "    })\n",
    "\n",
    "    return components.sort_values('coefficient', ascending=False)\n",
    "\n",
    "def feature_reduction_map(feature_mean_com_group, mapping = 'umap', show_component_weights = False, component_x = 0, component_y = 1):\n",
    "    \"\"\"\n",
    "    Choose feature reduction method: UMAP or PCA.\n",
    "    Show scatter chart of selected components colored by the mean similarity communities.\n",
    "    \"\"\"\n",
    "    if mapping == 'umap':\n",
    "        mapper = UMAP()\n",
    "    else:\n",
    "        mapper = PCA()\n",
    "    \n",
    "    X = feature_mean_com_group.drop(columns = ['description', 'community'])\n",
    "    feature_group_map = mapper.fit_transform(X)\n",
    "\n",
    "    fig = px.scatter(x = feature_group_map[:,component_x],\n",
    "               y = feature_group_map[:,component_y],\n",
    "               color=feature_mean_com_group['community'].astype(str),\n",
    "               hover_data = [feature_mean_com_group['description']],\n",
    "               template = 'simple_white'\n",
    "               )\n",
    "    if show_component_weights:\n",
    "        comp_x_weights = pca_component_weights(feature_mean_com_group, component_x)\n",
    "        comp_y_weights = pca_component_weights(feature_mean_com_group, component_y)\n",
    "        print(comp_x_weights,'\\n\\n', comp_y_weights)\n",
    "        return fig\n",
    "    else:\n",
    "        return fig"
   ]
  },
  {
   "cell_type": "code",
   "execution_count": null,
   "metadata": {},
   "outputs": [],
   "source": [
    "feature_reduction_map(feature_mean_coms['sur'].fillna(0), \n",
    "                      mapping = 'pca', \n",
    "                      show_component_weights = True,\n",
    "                      component_x = 0, \n",
    "                      component_y = 1)"
   ]
  },
  {
   "cell_type": "markdown",
   "metadata": {},
   "source": [
    "## unsupervised analysis of mean cosine similarities and communities"
   ]
  },
  {
   "cell_type": "code",
   "execution_count": null,
   "metadata": {},
   "outputs": [],
   "source": [
    "from sklearn.decomposition import PCA\n",
    "from sklearn.preprocessing import StandardScaler, OneHotEncoder\n",
    "from sklearn.compose import ColumnTransformer\n",
    "from sklearn.pipeline import Pipeline\n",
    "from umap import UMAP"
   ]
  },
  {
   "cell_type": "code",
   "execution_count": null,
   "metadata": {},
   "outputs": [],
   "source": [
    "cosims_means_com = (cosims_means_df.merge(descom_df.set_index('description'), \n",
    "                                          left_index = True, \n",
    "                                          right_index = True\n",
    "                                         )\n",
    "                   )\n",
    "\n",
    "cosims_means_com['community'] = cosims_means_com['community'].astype(str)\n",
    "\n",
    "X = cosims_means_com.drop(columns = 'community')"
   ]
  },
  {
   "cell_type": "markdown",
   "metadata": {},
   "source": [
    "### pca & feature importances"
   ]
  },
  {
   "cell_type": "code",
   "execution_count": null,
   "metadata": {},
   "outputs": [],
   "source": []
  }
 ],
 "metadata": {
  "kernelspec": {
   "display_name": "Python 3",
   "language": "python",
   "name": "python3"
  },
  "language_info": {
   "codemirror_mode": {
    "name": "ipython",
    "version": 3
   },
   "file_extension": ".py",
   "mimetype": "text/x-python",
   "name": "python",
   "nbconvert_exporter": "python",
   "pygments_lexer": "ipython3",
   "version": "3.8.8"
  }
 },
 "nbformat": 4,
 "nbformat_minor": 2
}
