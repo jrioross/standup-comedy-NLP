{
 "cells": [
  {
   "cell_type": "markdown",
   "metadata": {},
   "source": [
    "# Community Analysis"
   ]
  },
  {
   "cell_type": "markdown",
   "metadata": {},
   "source": [
    "## Table of Contents\n",
    "\n",
    "   1. [imports](#imports)\n",
    "   2. [make dataframes](#make-dataframes)"
   ]
  },
  {
   "cell_type": "markdown",
   "metadata": {},
   "source": [
    "## imports"
   ]
  },
  {
   "cell_type": "code",
   "execution_count": 1,
   "metadata": {},
   "outputs": [
    {
     "name": "stderr",
     "output_type": "stream",
     "text": [
      "C:\\Users\\jrior\\anaconda3\\lib\\site-packages\\scipy\\__init__.py:138: UserWarning: A NumPy version >=1.16.5 and <1.23.0 is required for this version of SciPy (detected version 1.23.0)\n",
      "  warnings.warn(f\"A NumPy version >={np_minversion} and <{np_maxversion} is required for this version of \"\n"
     ]
    }
   ],
   "source": [
    "import pandas as pd\n",
    "import numpy as np\n",
    "import pickle\n",
    "import plotly.express as px\n",
    "\n",
    "import re\n",
    "\n",
    "from sklearn.decomposition import PCA\n",
    "from sklearn.preprocessing import StandardScaler, OneHotEncoder\n",
    "from sklearn.compose import ColumnTransformer\n",
    "from sklearn.pipeline import Pipeline\n",
    "from umap import UMAP\n",
    "from sklearn.decomposition import PCA"
   ]
  },
  {
   "cell_type": "code",
   "execution_count": 2,
   "metadata": {},
   "outputs": [],
   "source": [
    "with open(f'../data/metascripts_df_sentiment.pickle', 'rb') as file:\n",
    "    metascripts = pickle.load(file)"
   ]
  },
  {
   "cell_type": "code",
   "execution_count": 3,
   "metadata": {},
   "outputs": [],
   "source": [
    "with open('../data/features_dict.pickle', 'rb') as file:\n",
    "    features_dict = pickle.load(file)"
   ]
  },
  {
   "cell_type": "code",
   "execution_count": 4,
   "metadata": {},
   "outputs": [],
   "source": [
    "with open('../data/feature_cosims_dict.pickle', 'rb') as file:\n",
    "    feature_cosims_dict = pickle.load(file)"
   ]
  },
  {
   "cell_type": "markdown",
   "metadata": {},
   "source": [
    "## make dataframes\n",
    "\n",
    "   - descom_df: show descriptions and mean communities from Louvain algorithm\n",
    "   - all_features: each show pair and all feature-group similarities\n",
    "   - metacosims: all_features + metadata\n",
    "   - graph_all_features: all_features deduplicated for graph database upload\n",
    "   - feature_mean_coms: each feature group with description (show) labels and corresponding mean communities from Louvain algorithm"
   ]
  },
  {
   "cell_type": "markdown",
   "metadata": {},
   "source": [
    "### descom_df: descriptions and communities"
   ]
  },
  {
   "cell_type": "code",
   "execution_count": 5,
   "metadata": {},
   "outputs": [],
   "source": [
    "descriptions = [re.search('(?<=\\\":).+(?=,\\\")', string).group(0) for string in pd.read_csv('../data/graph_coms_df.csv')['s'].values]\n",
    "communities = [int(re.search('(?<=\\\"meanCommunity\\\":)\\d+', string).group(0)) for string in pd.read_csv('../data/graph_coms_df.csv')['s'].values]\n",
    "descom_df = pd.DataFrame({\n",
    "        'description': descriptions,\n",
    "        'community':communities\n",
    "    })"
   ]
  },
  {
   "cell_type": "markdown",
   "metadata": {},
   "source": [
    "### all_features: each show pair and all feature-group similarities"
   ]
  },
  {
   "cell_type": "code",
   "execution_count": 7,
   "metadata": {},
   "outputs": [],
   "source": [
    "# create the all_features dataframe by\n",
    "# melting each cosims dictionary and joining them together on the descriptions\n",
    "all_features = pd.DataFrame()\n",
    "for feature_group in feature_cosims_dict.keys():\n",
    "    try:\n",
    "        # Handle all cases but the first\n",
    "        features = (feature_cosims_dict[feature_group]\n",
    "                            .set_index(metascripts['description'])\n",
    "                            .melt(var_name = 'description comparison', \n",
    "                                    value_name = f'{feature_group} similarity', \n",
    "                                    ignore_index = False)\n",
    "                                .reset_index()\n",
    "                                .rename(columns = {'description': 'description selection'})\n",
    "                    )\n",
    "        all_features = all_features.merge(features)\n",
    "    except:\n",
    "        # Handle the first case\n",
    "        all_features = (feature_cosims_dict[feature_group]\n",
    "                            .set_index(metascripts['description'])\n",
    "                            .melt(var_name = 'description comparison', \n",
    "                                    value_name = f'{feature_group} similarity', \n",
    "                                    ignore_index = False)\n",
    "                                .reset_index()\n",
    "                                .rename(columns = {'description': 'description selection'})\n",
    "                    )\n",
    "# create the mean similarity column\n",
    "all_features['mean similarity'] = all_features.mean(axis = 1)"
   ]
  },
  {
   "cell_type": "markdown",
   "metadata": {},
   "source": [
    "### metacosims: all_features + metadata"
   ]
  },
  {
   "cell_type": "code",
   "execution_count": 8,
   "metadata": {},
   "outputs": [],
   "source": [
    "# use all_features together with metascripts to create metacosims\n",
    "metacols = ['description', 'link', 'script characters', 'id',\n",
    "           'artist', 'title', 'fullTitle', 'year', 'image', 'releaseDate',\n",
    "           'runtimeMins', 'runtimeStr', 'awards', 'genres',\n",
    "           'companies', 'contentRating', 'imDbRating',\n",
    "           'imDbRatingVotes', 'similars', 'languages']\n",
    "\n",
    "metacosims = (all_features\n",
    "                .merge(metascripts[metacols].drop(columns = 'similars'),\n",
    "                       left_on = 'description selection',\n",
    "                       right_on = 'description')\n",
    "                .drop(columns = 'description')\n",
    "                .merge(metascripts[metacols].drop(columns = 'similars'), \n",
    "                       left_on = 'description comparison', \n",
    "                       right_on = 'description',\n",
    "                       suffixes = (\" selection\", \" comparison\"))\n",
    "    )\n",
    "\n",
    "# drop duplicate column\n",
    "keepind = [ind for ind, col in enumerate(metacosims.columns) if ind != 1]\n",
    "metacosims = metacosims.iloc[:, keepind]"
   ]
  },
  {
   "cell_type": "code",
   "execution_count": 9,
   "metadata": {},
   "outputs": [],
   "source": [
    "# metacosims is sent to a sqlite db and pulled down into R for the Shiny dashboard\n",
    "\n",
    "# with sqlite3.connect('../StandupRecommenderShiny/data/metacosims_recommender.sqlite') as db:\n",
    "#      metacosims.to_sql('metacosims', db, if_exists = 'append', index = False)"
   ]
  },
  {
   "cell_type": "code",
   "execution_count": 116,
   "metadata": {},
   "outputs": [],
   "source": [
    "with open('../data/metacosims_df.pickle', 'wb') as file:\n",
    "    pickle.dump(metacosims, file)"
   ]
  },
  {
   "cell_type": "markdown",
   "metadata": {},
   "source": [
    "### graph_all_features: all_features deduplicated for graph database upload"
   ]
  },
  {
   "cell_type": "code",
   "execution_count": 10,
   "metadata": {},
   "outputs": [],
   "source": [
    "# create graph_all_features, a deduplicated all_features that also removes self-relations\n",
    "# graph_all_features is used for Neo4J importation\n",
    "graph_all_features = (all_features.loc[all_features['mean similarity'] < 0.99999]\n",
    "                            .sort_values(['mean similarity', 'description selection', 'description comparison'], ascending = [False, True, True])\n",
    "                            .drop_duplicates(subset = 'mean similarity', keep = 'first')\n",
    "        )\n",
    "graph_all_features.to_csv('../data/graph_df_all_features.csv', index = False)"
   ]
  },
  {
   "cell_type": "markdown",
   "metadata": {},
   "source": [
    "### feature_mean_coms: feature groups with mean communities"
   ]
  },
  {
   "cell_type": "code",
   "execution_count": 72,
   "metadata": {},
   "outputs": [],
   "source": [
    "# fix the indices of two feature-group dfs that were reset\n",
    "# this is necessary for the upcoming concat\n",
    "dfs_with_bad_indices = ['pos_props', 'pov_props']\n",
    "for df in dfs_with_bad_indices:\n",
    "    features_dict[df] = features_dict[df].set_index(features_dict['sur'].index)"
   ]
  },
  {
   "cell_type": "code",
   "execution_count": 76,
   "metadata": {},
   "outputs": [
    {
     "data": {
      "text/plain": [
       "dict_keys(['metadata', 'pos_props', 'pov_props', 'word_sentence_lengths', 'profanity', 'sentiment', 'sur'])"
      ]
     },
     "execution_count": 76,
     "metadata": {},
     "output_type": "execute_result"
    }
   ],
   "source": [
    "feature_mean_coms = {group: pd.concat([df, metascripts['description']], axis = 1).merge(descom_df).rename(columns = {'community':'mean community'}) for group, df in features_dict.items()}\n",
    "feature_mean_coms.keys()"
   ]
  },
  {
   "cell_type": "code",
   "execution_count": 107,
   "metadata": {},
   "outputs": [
    {
     "data": {
      "text/html": [
       "<div>\n",
       "<style scoped>\n",
       "    .dataframe tbody tr th:only-of-type {\n",
       "        vertical-align: middle;\n",
       "    }\n",
       "\n",
       "    .dataframe tbody tr th {\n",
       "        vertical-align: top;\n",
       "    }\n",
       "\n",
       "    .dataframe thead th {\n",
       "        text-align: right;\n",
       "    }\n",
       "</style>\n",
       "<table border=\"1\" class=\"dataframe\">\n",
       "  <thead>\n",
       "    <tr style=\"text-align: right;\">\n",
       "      <th></th>\n",
       "      <th>VERB</th>\n",
       "      <th>PRON</th>\n",
       "      <th>INTJ</th>\n",
       "      <th>NOUN</th>\n",
       "      <th>ADV</th>\n",
       "      <th>AUX</th>\n",
       "      <th>ADJ</th>\n",
       "      <th>PART</th>\n",
       "      <th>ADP</th>\n",
       "      <th>DET</th>\n",
       "      <th>SCONJ</th>\n",
       "      <th>CCONJ</th>\n",
       "      <th>PROPN</th>\n",
       "      <th>NUM</th>\n",
       "      <th>description</th>\n",
       "      <th>mean community</th>\n",
       "    </tr>\n",
       "  </thead>\n",
       "  <tbody>\n",
       "    <tr>\n",
       "      <th>0</th>\n",
       "      <td>0.146510</td>\n",
       "      <td>0.184963</td>\n",
       "      <td>0.017147</td>\n",
       "      <td>0.145698</td>\n",
       "      <td>0.062906</td>\n",
       "      <td>0.106230</td>\n",
       "      <td>0.053673</td>\n",
       "      <td>0.037845</td>\n",
       "      <td>0.081981</td>\n",
       "      <td>0.077922</td>\n",
       "      <td>0.024046</td>\n",
       "      <td>0.027902</td>\n",
       "      <td>0.025974</td>\n",
       "      <td>0.007204</td>\n",
       "      <td>Jim Gaffigan: Comedy Monster (2021) | Transcript</td>\n",
       "      <td>2</td>\n",
       "    </tr>\n",
       "    <tr>\n",
       "      <th>1</th>\n",
       "      <td>0.140020</td>\n",
       "      <td>0.206552</td>\n",
       "      <td>0.016381</td>\n",
       "      <td>0.133737</td>\n",
       "      <td>0.057669</td>\n",
       "      <td>0.106361</td>\n",
       "      <td>0.057556</td>\n",
       "      <td>0.039942</td>\n",
       "      <td>0.076517</td>\n",
       "      <td>0.074274</td>\n",
       "      <td>0.030405</td>\n",
       "      <td>0.029507</td>\n",
       "      <td>0.021317</td>\n",
       "      <td>0.008639</td>\n",
       "      <td>Louis C. K.: Sorry (2021) | Transcript</td>\n",
       "      <td>1</td>\n",
       "    </tr>\n",
       "    <tr>\n",
       "      <th>2</th>\n",
       "      <td>0.136785</td>\n",
       "      <td>0.216978</td>\n",
       "      <td>0.043468</td>\n",
       "      <td>0.119326</td>\n",
       "      <td>0.058519</td>\n",
       "      <td>0.116918</td>\n",
       "      <td>0.053341</td>\n",
       "      <td>0.040698</td>\n",
       "      <td>0.083925</td>\n",
       "      <td>0.060566</td>\n",
       "      <td>0.027694</td>\n",
       "      <td>0.026851</td>\n",
       "      <td>0.007586</td>\n",
       "      <td>0.007345</td>\n",
       "      <td>Drew Michael: Drew Michael (2018) | Transcript</td>\n",
       "      <td>0</td>\n",
       "    </tr>\n",
       "    <tr>\n",
       "      <th>3</th>\n",
       "      <td>0.140336</td>\n",
       "      <td>0.199783</td>\n",
       "      <td>0.022306</td>\n",
       "      <td>0.133947</td>\n",
       "      <td>0.055658</td>\n",
       "      <td>0.107959</td>\n",
       "      <td>0.052518</td>\n",
       "      <td>0.045479</td>\n",
       "      <td>0.087168</td>\n",
       "      <td>0.069193</td>\n",
       "      <td>0.026096</td>\n",
       "      <td>0.029020</td>\n",
       "      <td>0.021332</td>\n",
       "      <td>0.009204</td>\n",
       "      <td>Drew Michael: Red Blue Green (2021) | Transcript</td>\n",
       "      <td>0</td>\n",
       "    </tr>\n",
       "    <tr>\n",
       "      <th>4</th>\n",
       "      <td>0.134704</td>\n",
       "      <td>0.207911</td>\n",
       "      <td>0.027945</td>\n",
       "      <td>0.133917</td>\n",
       "      <td>0.061694</td>\n",
       "      <td>0.104300</td>\n",
       "      <td>0.051855</td>\n",
       "      <td>0.031388</td>\n",
       "      <td>0.085309</td>\n",
       "      <td>0.065729</td>\n",
       "      <td>0.017810</td>\n",
       "      <td>0.026567</td>\n",
       "      <td>0.041622</td>\n",
       "      <td>0.009151</td>\n",
       "      <td>Mo Amer: Mohammed in Texas (2021) | Transcript</td>\n",
       "      <td>1</td>\n",
       "    </tr>\n",
       "  </tbody>\n",
       "</table>\n",
       "</div>"
      ],
      "text/plain": [
       "       VERB      PRON      INTJ      NOUN       ADV       AUX       ADJ  \\\n",
       "0  0.146510  0.184963  0.017147  0.145698  0.062906  0.106230  0.053673   \n",
       "1  0.140020  0.206552  0.016381  0.133737  0.057669  0.106361  0.057556   \n",
       "2  0.136785  0.216978  0.043468  0.119326  0.058519  0.116918  0.053341   \n",
       "3  0.140336  0.199783  0.022306  0.133947  0.055658  0.107959  0.052518   \n",
       "4  0.134704  0.207911  0.027945  0.133917  0.061694  0.104300  0.051855   \n",
       "\n",
       "       PART       ADP       DET     SCONJ     CCONJ     PROPN       NUM  \\\n",
       "0  0.037845  0.081981  0.077922  0.024046  0.027902  0.025974  0.007204   \n",
       "1  0.039942  0.076517  0.074274  0.030405  0.029507  0.021317  0.008639   \n",
       "2  0.040698  0.083925  0.060566  0.027694  0.026851  0.007586  0.007345   \n",
       "3  0.045479  0.087168  0.069193  0.026096  0.029020  0.021332  0.009204   \n",
       "4  0.031388  0.085309  0.065729  0.017810  0.026567  0.041622  0.009151   \n",
       "\n",
       "                                        description  mean community  \n",
       "0  Jim Gaffigan: Comedy Monster (2021) | Transcript               2  \n",
       "1            Louis C. K.: Sorry (2021) | Transcript               1  \n",
       "2    Drew Michael: Drew Michael (2018) | Transcript               0  \n",
       "3  Drew Michael: Red Blue Green (2021) | Transcript               0  \n",
       "4    Mo Amer: Mohammed in Texas (2021) | Transcript               1  "
      ]
     },
     "execution_count": 107,
     "metadata": {},
     "output_type": "execute_result"
    }
   ],
   "source": [
    "feature_mean_coms['pos_props'].head()"
   ]
  },
  {
   "cell_type": "markdown",
   "metadata": {},
   "source": [
    "### feature_group_coms: feature groups with group communities"
   ]
  },
  {
   "cell_type": "code",
   "execution_count": 80,
   "metadata": {},
   "outputs": [
    {
     "data": {
      "text/plain": [
       "['meta', 'pos_prop', 'pov_prop', 'profanity', 'sentiment', 'sur', 'wslength']"
      ]
     },
     "execution_count": 80,
     "metadata": {},
     "output_type": "execute_result"
    }
   ],
   "source": [
    "import glob\n",
    "communities_files = glob.glob(\"../data/feature_communities/*.csv\")\n",
    "com_file_names = [re.search(\"communities_(.+)\\.csv\", file).group(1) for file in communities_files]\n",
    "com_file_names[1:]"
   ]
  },
  {
   "cell_type": "code",
   "execution_count": 81,
   "metadata": {},
   "outputs": [],
   "source": [
    "# take all communities except bow\n",
    "keys_dict = dict(zip(com_file_names[1:], sorted(list(feature_mean_coms.keys()))))"
   ]
  },
  {
   "cell_type": "code",
   "execution_count": 82,
   "metadata": {},
   "outputs": [],
   "source": [
    "# create dictionary of feature-group community labels\n",
    "feature_group_coms = {keys_dict[re.search(\"communities_(.+)\\.csv\", file).group(1)]:pd.read_csv(file) for file in communities_files[1:]}"
   ]
  },
  {
   "cell_type": "code",
   "execution_count": 85,
   "metadata": {},
   "outputs": [],
   "source": [
    "# create feature-group dfs with group community labels\n",
    "feature_coms = {key: df.merge(feature_group_coms[key]) for key, df in feature_mean_coms.items()}"
   ]
  },
  {
   "cell_type": "code",
   "execution_count": 108,
   "metadata": {},
   "outputs": [
    {
     "data": {
      "text/html": [
       "<div>\n",
       "<style scoped>\n",
       "    .dataframe tbody tr th:only-of-type {\n",
       "        vertical-align: middle;\n",
       "    }\n",
       "\n",
       "    .dataframe tbody tr th {\n",
       "        vertical-align: top;\n",
       "    }\n",
       "\n",
       "    .dataframe thead th {\n",
       "        text-align: right;\n",
       "    }\n",
       "</style>\n",
       "<table border=\"1\" class=\"dataframe\">\n",
       "  <thead>\n",
       "    <tr style=\"text-align: right;\">\n",
       "      <th></th>\n",
       "      <th>VERB</th>\n",
       "      <th>PRON</th>\n",
       "      <th>INTJ</th>\n",
       "      <th>NOUN</th>\n",
       "      <th>ADV</th>\n",
       "      <th>AUX</th>\n",
       "      <th>ADJ</th>\n",
       "      <th>PART</th>\n",
       "      <th>ADP</th>\n",
       "      <th>DET</th>\n",
       "      <th>SCONJ</th>\n",
       "      <th>CCONJ</th>\n",
       "      <th>PROPN</th>\n",
       "      <th>NUM</th>\n",
       "      <th>description</th>\n",
       "      <th>mean community</th>\n",
       "      <th>pos_propCommunity</th>\n",
       "    </tr>\n",
       "  </thead>\n",
       "  <tbody>\n",
       "    <tr>\n",
       "      <th>0</th>\n",
       "      <td>0.146510</td>\n",
       "      <td>0.184963</td>\n",
       "      <td>0.017147</td>\n",
       "      <td>0.145698</td>\n",
       "      <td>0.062906</td>\n",
       "      <td>0.106230</td>\n",
       "      <td>0.053673</td>\n",
       "      <td>0.037845</td>\n",
       "      <td>0.081981</td>\n",
       "      <td>0.077922</td>\n",
       "      <td>0.024046</td>\n",
       "      <td>0.027902</td>\n",
       "      <td>0.025974</td>\n",
       "      <td>0.007204</td>\n",
       "      <td>Jim Gaffigan: Comedy Monster (2021) | Transcript</td>\n",
       "      <td>2</td>\n",
       "      <td>54</td>\n",
       "    </tr>\n",
       "    <tr>\n",
       "      <th>1</th>\n",
       "      <td>0.140020</td>\n",
       "      <td>0.206552</td>\n",
       "      <td>0.016381</td>\n",
       "      <td>0.133737</td>\n",
       "      <td>0.057669</td>\n",
       "      <td>0.106361</td>\n",
       "      <td>0.057556</td>\n",
       "      <td>0.039942</td>\n",
       "      <td>0.076517</td>\n",
       "      <td>0.074274</td>\n",
       "      <td>0.030405</td>\n",
       "      <td>0.029507</td>\n",
       "      <td>0.021317</td>\n",
       "      <td>0.008639</td>\n",
       "      <td>Louis C. K.: Sorry (2021) | Transcript</td>\n",
       "      <td>1</td>\n",
       "      <td>45</td>\n",
       "    </tr>\n",
       "    <tr>\n",
       "      <th>2</th>\n",
       "      <td>0.136785</td>\n",
       "      <td>0.216978</td>\n",
       "      <td>0.043468</td>\n",
       "      <td>0.119326</td>\n",
       "      <td>0.058519</td>\n",
       "      <td>0.116918</td>\n",
       "      <td>0.053341</td>\n",
       "      <td>0.040698</td>\n",
       "      <td>0.083925</td>\n",
       "      <td>0.060566</td>\n",
       "      <td>0.027694</td>\n",
       "      <td>0.026851</td>\n",
       "      <td>0.007586</td>\n",
       "      <td>0.007345</td>\n",
       "      <td>Drew Michael: Drew Michael (2018) | Transcript</td>\n",
       "      <td>0</td>\n",
       "      <td>68</td>\n",
       "    </tr>\n",
       "    <tr>\n",
       "      <th>3</th>\n",
       "      <td>0.140336</td>\n",
       "      <td>0.199783</td>\n",
       "      <td>0.022306</td>\n",
       "      <td>0.133947</td>\n",
       "      <td>0.055658</td>\n",
       "      <td>0.107959</td>\n",
       "      <td>0.052518</td>\n",
       "      <td>0.045479</td>\n",
       "      <td>0.087168</td>\n",
       "      <td>0.069193</td>\n",
       "      <td>0.026096</td>\n",
       "      <td>0.029020</td>\n",
       "      <td>0.021332</td>\n",
       "      <td>0.009204</td>\n",
       "      <td>Drew Michael: Red Blue Green (2021) | Transcript</td>\n",
       "      <td>0</td>\n",
       "      <td>113</td>\n",
       "    </tr>\n",
       "    <tr>\n",
       "      <th>4</th>\n",
       "      <td>0.134704</td>\n",
       "      <td>0.207911</td>\n",
       "      <td>0.027945</td>\n",
       "      <td>0.133917</td>\n",
       "      <td>0.061694</td>\n",
       "      <td>0.104300</td>\n",
       "      <td>0.051855</td>\n",
       "      <td>0.031388</td>\n",
       "      <td>0.085309</td>\n",
       "      <td>0.065729</td>\n",
       "      <td>0.017810</td>\n",
       "      <td>0.026567</td>\n",
       "      <td>0.041622</td>\n",
       "      <td>0.009151</td>\n",
       "      <td>Mo Amer: Mohammed in Texas (2021) | Transcript</td>\n",
       "      <td>1</td>\n",
       "      <td>241</td>\n",
       "    </tr>\n",
       "  </tbody>\n",
       "</table>\n",
       "</div>"
      ],
      "text/plain": [
       "       VERB      PRON      INTJ      NOUN       ADV       AUX       ADJ  \\\n",
       "0  0.146510  0.184963  0.017147  0.145698  0.062906  0.106230  0.053673   \n",
       "1  0.140020  0.206552  0.016381  0.133737  0.057669  0.106361  0.057556   \n",
       "2  0.136785  0.216978  0.043468  0.119326  0.058519  0.116918  0.053341   \n",
       "3  0.140336  0.199783  0.022306  0.133947  0.055658  0.107959  0.052518   \n",
       "4  0.134704  0.207911  0.027945  0.133917  0.061694  0.104300  0.051855   \n",
       "\n",
       "       PART       ADP       DET     SCONJ     CCONJ     PROPN       NUM  \\\n",
       "0  0.037845  0.081981  0.077922  0.024046  0.027902  0.025974  0.007204   \n",
       "1  0.039942  0.076517  0.074274  0.030405  0.029507  0.021317  0.008639   \n",
       "2  0.040698  0.083925  0.060566  0.027694  0.026851  0.007586  0.007345   \n",
       "3  0.045479  0.087168  0.069193  0.026096  0.029020  0.021332  0.009204   \n",
       "4  0.031388  0.085309  0.065729  0.017810  0.026567  0.041622  0.009151   \n",
       "\n",
       "                                        description  mean community  \\\n",
       "0  Jim Gaffigan: Comedy Monster (2021) | Transcript               2   \n",
       "1            Louis C. K.: Sorry (2021) | Transcript               1   \n",
       "2    Drew Michael: Drew Michael (2018) | Transcript               0   \n",
       "3  Drew Michael: Red Blue Green (2021) | Transcript               0   \n",
       "4    Mo Amer: Mohammed in Texas (2021) | Transcript               1   \n",
       "\n",
       "   pos_propCommunity  \n",
       "0                 54  \n",
       "1                 45  \n",
       "2                 68  \n",
       "3                113  \n",
       "4                241  "
      ]
     },
     "execution_count": 108,
     "metadata": {},
     "output_type": "execute_result"
    }
   ],
   "source": [
    "feature_coms['pos_props'].head()"
   ]
  },
  {
   "cell_type": "code",
   "execution_count": 111,
   "metadata": {},
   "outputs": [],
   "source": [
    "with open('../data/feature_communities/feature_coms_dict.pickle', 'wb') as file:\n",
    "    pickle.dump(feature_coms, file)"
   ]
  },
  {
   "cell_type": "markdown",
   "metadata": {},
   "source": [
    "### all_coms: all communities for each show"
   ]
  },
  {
   "cell_type": "code",
   "execution_count": 109,
   "metadata": {},
   "outputs": [
    {
     "data": {
      "text/html": [
       "<div>\n",
       "<style scoped>\n",
       "    .dataframe tbody tr th:only-of-type {\n",
       "        vertical-align: middle;\n",
       "    }\n",
       "\n",
       "    .dataframe tbody tr th {\n",
       "        vertical-align: top;\n",
       "    }\n",
       "\n",
       "    .dataframe thead th {\n",
       "        text-align: right;\n",
       "    }\n",
       "</style>\n",
       "<table border=\"1\" class=\"dataframe\">\n",
       "  <thead>\n",
       "    <tr style=\"text-align: right;\">\n",
       "      <th></th>\n",
       "      <th>description</th>\n",
       "      <th>community</th>\n",
       "      <th>metaCommunity</th>\n",
       "      <th>pos_propCommunity</th>\n",
       "      <th>pov_propCommunity</th>\n",
       "      <th>profanityCommunity</th>\n",
       "      <th>sentimentCommunity</th>\n",
       "      <th>surCommunity</th>\n",
       "      <th>wslengthCommunity</th>\n",
       "    </tr>\n",
       "  </thead>\n",
       "  <tbody>\n",
       "    <tr>\n",
       "      <th>0</th>\n",
       "      <td>AMY SCHUMER: THE LEATHER SPECIAL (2017) – Full...</td>\n",
       "      <td>0</td>\n",
       "      <td>33</td>\n",
       "      <td>269</td>\n",
       "      <td>21</td>\n",
       "      <td>288</td>\n",
       "      <td>159</td>\n",
       "      <td>80</td>\n",
       "      <td>51</td>\n",
       "    </tr>\n",
       "    <tr>\n",
       "      <th>1</th>\n",
       "      <td>MICHELLE WOLF: NICE LADY (2017) – Full Transcript</td>\n",
       "      <td>0</td>\n",
       "      <td>148</td>\n",
       "      <td>93</td>\n",
       "      <td>244</td>\n",
       "      <td>288</td>\n",
       "      <td>159</td>\n",
       "      <td>80</td>\n",
       "      <td>51</td>\n",
       "    </tr>\n",
       "    <tr>\n",
       "      <th>2</th>\n",
       "      <td>Joe Rogan: Strange Times (2018) – Full Transcript</td>\n",
       "      <td>1</td>\n",
       "      <td>51</td>\n",
       "      <td>51</td>\n",
       "      <td>281</td>\n",
       "      <td>192</td>\n",
       "      <td>109</td>\n",
       "      <td>274</td>\n",
       "      <td>51</td>\n",
       "    </tr>\n",
       "    <tr>\n",
       "      <th>3</th>\n",
       "      <td>Eddie Izzard – Glorious (1997) – Transcript</td>\n",
       "      <td>2</td>\n",
       "      <td>238</td>\n",
       "      <td>68</td>\n",
       "      <td>28</td>\n",
       "      <td>192</td>\n",
       "      <td>9</td>\n",
       "      <td>274</td>\n",
       "      <td>242</td>\n",
       "    </tr>\n",
       "    <tr>\n",
       "      <th>4</th>\n",
       "      <td>JIM JEFFERIES: FREEDUMB (2016) – Full Transcript</td>\n",
       "      <td>1</td>\n",
       "      <td>148</td>\n",
       "      <td>37</td>\n",
       "      <td>15</td>\n",
       "      <td>192</td>\n",
       "      <td>109</td>\n",
       "      <td>274</td>\n",
       "      <td>253</td>\n",
       "    </tr>\n",
       "  </tbody>\n",
       "</table>\n",
       "</div>"
      ],
      "text/plain": [
       "                                         description  community  \\\n",
       "0  AMY SCHUMER: THE LEATHER SPECIAL (2017) – Full...          0   \n",
       "1  MICHELLE WOLF: NICE LADY (2017) – Full Transcript          0   \n",
       "2  Joe Rogan: Strange Times (2018) – Full Transcript          1   \n",
       "3        Eddie Izzard – Glorious (1997) – Transcript          2   \n",
       "4   JIM JEFFERIES: FREEDUMB (2016) – Full Transcript          1   \n",
       "\n",
       "   metaCommunity  pos_propCommunity  pov_propCommunity  profanityCommunity  \\\n",
       "0             33                269                 21                 288   \n",
       "1            148                 93                244                 288   \n",
       "2             51                 51                281                 192   \n",
       "3            238                 68                 28                 192   \n",
       "4            148                 37                 15                 192   \n",
       "\n",
       "   sentimentCommunity  surCommunity  wslengthCommunity  \n",
       "0                 159            80                 51  \n",
       "1                 159            80                 51  \n",
       "2                 109           274                 51  \n",
       "3                   9           274                242  \n",
       "4                 109           274                253  "
      ]
     },
     "execution_count": 109,
     "metadata": {},
     "output_type": "execute_result"
    }
   ],
   "source": [
    "def merge_dfs(starting_df, dict_of_dfs):\n",
    "    \"\"\"Merge several dataframes together given a starting df and a dictionary of dataframes\"\"\"\n",
    "    for key, df in dict_of_dfs.items():\n",
    "        starting_df = starting_df.merge(df)\n",
    "    merged_df = starting_df\n",
    "    return merged_df\n",
    "\n",
    "all_coms = merge_dfs(descom_df, feature_group_coms)\n",
    "all_coms.head()"
   ]
  },
  {
   "cell_type": "code",
   "execution_count": 112,
   "metadata": {},
   "outputs": [],
   "source": [
    "with open('../data/feature_communities/all_coms_df.pickle', 'wb') as file:\n",
    "    pickle.dump(all_coms, file)"
   ]
  },
  {
   "cell_type": "markdown",
   "metadata": {},
   "source": [
    "# appendix"
   ]
  },
  {
   "cell_type": "code",
   "execution_count": null,
   "metadata": {},
   "outputs": [],
   "source": [
    "# manually explore the shows in each community\n",
    "\n",
    "def check_community_shows(com_index, show_range):\n",
    "    \"\"\"Return an ordered subset of shows in a selected community.\"\"\"\n",
    "    community_list = descom_df['community'].unique()\n",
    "    com = community_list[com_index]\n",
    "    sorted_subset = descom_df[descom_df['community'] == com].sort_values('description')[show_range]\n",
    "    return sorted_subset\n",
    "\n",
    "check_community_shows(com_index = 0, show_range = 40:60)"
   ]
  },
  {
   "cell_type": "code",
   "execution_count": null,
   "metadata": {},
   "outputs": [],
   "source": [
    "comedians_between = (metascripts.merge(descom_df)\n",
    "                     .groupby('artist')\n",
    "                     ['community']\n",
    "                     .nunique() > 1).sum()\n",
    "\n",
    "comedians_multiple = (metascripts.groupby('artist')['fullTitle'].count() > 1).sum()\n",
    "print(f'{comedians_between} out of {comedians_multiple}, i.e, {round(100*comedians_between/comedians_multiple,2)}%, of comedians with multiple shows in the dataset had shows in different communities.')"
   ]
  }
 ],
 "metadata": {
  "kernelspec": {
   "display_name": "Python 3",
   "language": "python",
   "name": "python3"
  },
  "language_info": {
   "codemirror_mode": {
    "name": "ipython",
    "version": 3
   },
   "file_extension": ".py",
   "mimetype": "text/x-python",
   "name": "python",
   "nbconvert_exporter": "python",
   "pygments_lexer": "ipython3",
   "version": "3.8.8"
  }
 },
 "nbformat": 4,
 "nbformat_minor": 2
}
