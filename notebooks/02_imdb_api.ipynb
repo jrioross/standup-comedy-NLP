{
 "cells": [
  {
   "cell_type": "markdown",
   "metadata": {},
   "source": [
    "# Get Standup Show Ratings\n",
    "\n",
    "# IMBD API"
   ]
  },
  {
   "cell_type": "markdown",
   "metadata": {},
   "source": [
    "## Imports"
   ]
  },
  {
   "cell_type": "code",
   "execution_count": 18,
   "metadata": {},
   "outputs": [],
   "source": [
    "import requests\n",
    "import numpy as np\n",
    "import pandas as pd\n",
    "import re\n",
    "import json\n",
    "from datetime import date\n",
    "\n",
    "import pickle\n",
    "\n",
    "import plotly.express as px"
   ]
  },
  {
   "cell_type": "code",
   "execution_count": 3,
   "metadata": {},
   "outputs": [
    {
     "data": {
      "application/vnd.plotly.v1+json": {
       "config": {
        "plotlyServerURL": "https://plotly.com"
       },
       "data": [
        {
         "alignmentgroup": "True",
         "boxpoints": "all",
         "customdata": [
          [
           "Jim Gaffigan: Comedy Monster (2021) | Transcript"
          ],
          [
           "Louis C. K.: Sorry (2021) | Transcript"
          ],
          [
           "Drew Michael: Drew Michael (2018) | Transcript"
          ],
          [
           "Drew Michael: Red Blue Green (2021) | Transcript"
          ],
          [
           "Mo Amer: Mohammed in Texas (2021) | Transcript"
          ],
          [
           "Dave Chappelle: The Closer (2021) | Transcript"
          ],
          [
           "Kathleen Madigan: Bothering Jesus (2016) – Transcript"
          ],
          [
           "Kathleen Madigan: Madigan Again (2013) – Transcript"
          ],
          [
           "Phil Wang: Philly Philly Wang Wang (2021) – Transcript"
          ],
          [
           "Dave Chappelle: 8:46 – Transcript"
          ],
          [
           "Tom Papa: You’re Doing Great! (2020) – Transcript"
          ],
          [
           "Tom Papa: Human Mule (2016) – Transcript"
          ],
          [
           "Tom Papa: Freaked Out (2013) – Transcript"
          ],
          [
           "Bo Burnham: Inside (2021) – Transcript"
          ],
          [
           "Tig Notaro: Boyish Girl Interrupted (2015) – Transcript"
          ],
          [
           "Joe List: I Hate Myself (2020) – Transcript"
          ],
          [
           "Nate Bargatze: The Greatest Average American (2021) – Transcript"
          ],
          [
           "Brian Regan: On The Rocks (2021) – Transcript"
          ],
          [
           "George Carlin: Politically Correct Language"
          ],
          [
           "Doug Stanhope: Beer Hall Putsch (2013) – Transcript"
          ],
          [
           "Chris Rock Total Blackout: The Tamborine Extended Cut – Transcript"
          ],
          [
           "Sarah Cooper: Everything’s Fine (2020) – Transcript"
          ],
          [
           "Bo Burnham: Words, Words, Words (2010) – Transcript"
          ],
          [
           "Vir Das: Outside in – The Lockdown Special (2020) – Transcript"
          ],
          [
           "Larry the Cable Guy – Remain Seated (2020) – Transcript"
          ],
          [
           "Craig Ferguson: Just Being Honest (2015) – Transcript"
          ],
          [
           "Kevin Hart: Zero F**ks Given (2020) – Transcript"
          ],
          [
           "Sam Morril: I Got This (2020) – Transcript"
          ],
          [
           "Dave Chappelle: SNL Monologue (2020) – Transcript"
          ],
          [
           "Chris Rock: SNL Monologue (2020) – Transcript"
          ],
          [
           "Bill Burr: Snl Monologue (2020) – Transcript"
          ],
          [
           "John Mulaney: SNL Monologue (2020) – Transcript"
          ],
          [
           "RONNY CHIENG: ASIAN COMEDIAN DESTROYS AMERICA (2019) – TRANSCRIPT"
          ],
          [
           "Craig Ferguson: A Wee Bit o’ Revolution (2009) – Transcript"
          ],
          [
           "MICHAEL MCINTYRE: SHOWMAN (2020) – TRANSCRIPT"
          ],
          [
           "ROB SCHNEIDER: ASIAN MOMMA, MEXICAN KIDS (2020) – TRANSCRIPT"
          ],
          [
           "Sam Jay: 3 in the Morning (2020) – Transcript"
          ],
          [
           "Jack Whitehall: I’m Only Joking (2020) | Transcript"
          ],
          [
           "URZILA CARLSON: OVERQUALIFIED LOSER (2020) – FULL TRANSCRIPT"
          ],
          [
           "GEORGE LOPEZ: WE’LL DO IT FOR HALF (2020) – FULL TRANSCRIPT"
          ],
          [
           "JIM JEFFERIES: INTOLERANT (2020) – FULL TRANSCRIPT"
          ],
          [
           "BILL HICKS: THE CENSORED SEVEN MINUTES ON LATE SHOW WITH DAVID LETTERMAN [FULL TRANSCRIPT]"
          ],
          [
           "George Carlin: Doin’ It Again (1990) – Transcript"
          ],
          [
           "ERIC ANDRE: LEGALIZE EVERYTHING (2020)"
          ],
          [
           "ROY WOOD JR.: FATHER FIGURE (2017) – FULL TRANSCRIPT"
          ],
          [
           "Dave Chappelle: Hbo Comedy Half-Hour (1998) – Transcript"
          ],
          [
           "Mark Normand: Don’t Be Yourself (2017) – Transcript"
          ],
          [
           "DOUG STANHOPE: FEAR OF AN EMPTY BED [TRANSCRIPT]"
          ],
          [
           "Chris Gethard: Career Suicide (2017) – Transcript"
          ],
          [
           "RAMY YOUSSEF: FEELINGS (2019) – FULL TRANSCRIPT"
          ],
          [
           "KENNY SEBASTIAN DON’T BE THAT GUY (2017) – FULL TRANSCRIPT"
          ],
          [
           "BILLY CONNOLLY: HIGH HORSE TOUR LIVE (2016) – FULL TRANSCRIPT"
          ],
          [
           "Hannah Gadsby: Douglas (2020) – Transcript"
          ],
          [
           "Hasan Minhaj: Homecoming King (2017) – Transcript"
          ],
          [
           "PATTON OSWALT: I LOVE EVERYTHING (2020) – FULL TRANSCRIPT"
          ],
          [
           "RUSSELL PETERS: DEPORTED (2020) – FULL TRANSCRIPT"
          ],
          [
           "JIMMY O. YANG: GOOD DEAL (2020) – FULL TRANSCRIPT"
          ],
          [
           "JO KOY: LIGHTS OUT (2012) – FULL TRANSCRIPT"
          ],
          [
           "LEE MACK: GOING OUT LIVE (2010) – FULL TRANSCRIPT"
          ],
          [
           "LEE MACK: LIVE (2007) – FULL TRANSCRIPT"
          ],
          [
           "T.J. MILLER: NO REAL REASON (2011) – FULL TRANSCRIPT"
          ],
          [
           "Jerry Seinfeld: 23 Hours To Kill (2020) – Transcript"
          ],
          [
           "BILL BURR ON THE LATE SHOW WITH DAVID LETTERMAN (2010) – TRANSCRIPT"
          ],
          [
           "SINCERELY LOUIS CK (2020)"
          ],
          [
           "JIM NORTON: AMERICAN DEGENERATE (2013) – FULL TRANSCRIPT"
          ],
          [
           "Jim Norton: Monster Rain (2007) – Transcript"
          ],
          [
           "MARIA BAMFORD: WEAKNESS IS THE BRAND (2020) – FULL TRANSCRIPT"
          ],
          [
           "DAVE ALLEN: FIRST DAY AT CATHOLIC SCHOOL [TRANSCRIPT]"
          ],
          [
           "CHRIS D’ELIA: WHITE MALE. BLACK COMIC. (2013) – FULL TRANSCRIPT"
          ],
          [
           "Chris D’Elia: Man on Fire (2017) – Full Transcript"
          ],
          [
           "George Carlin: The Indian Drill Sergeant – Transcript"
          ],
          [
           "Tom Segura: Ball Hog (2020) – Transcript"
          ],
          [
           "Bert Kreischer: Hey Big Boy (2020) – Transcript"
          ],
          [
           "Bert Kreischer: Fighting A Bear [Transcript]"
          ],
          [
           "Marc Maron: End Times Fun (2020) – Full Transcript"
          ],
          [
           "PETE DAVIDSON: SMD (2016) – FULL TRANSCRIPT"
          ],
          [
           "PETE DAVIDSON: ALIVE FROM NEW YORK (2020) – FULL TRANSCRIPT"
          ],
          [
           "Amanda Seales: I Be Knowin’ (2019) – Transcript"
          ],
          [
           "Stewart Lee: Carpet Remnant World (2012) – Full Transcript"
          ],
          [
           "Stewart Lee: Content Provider (2018) – Transcript"
          ],
          [
           "Sara Pascoe: LadsLadsLads (2019) – Full Transcript"
          ],
          [
           "Dan Soder: Son of a Gary (2019) – Full Transcript"
          ],
          [
           "Jim Gaffigan: Quality Time (2019) – Full Transcript"
          ],
          [
           "Dave Chappelle Acceptance Speech | 2019 Mark Twain Prize – Transcript"
          ],
          [
           "RICKY GERVAIS: 2020 GOLDEN GLOBES OPENING MONOLOGUE [TRANSCRIPT]"
          ],
          [
           "Kevin Bridges: A Whole Different Story (2015) – Full Transcript"
          ],
          [
           "Kevin Bridges: The Story So Far… Live in Glasgow (2010) – Full Transcript"
          ],
          [
           "Kevin Bridges: The Story Continues (2012) – Full Transcript"
          ],
          [
           "Andy Woodhull: You’ll Always Be Late (2019) – Transcript"
          ],
          [
           "Michelle Wolf: Joke Show (2019) – Full Transcript"
          ],
          [
           "Tiffany Haddish: Black Mitzvah (2019) – Transcript"
          ],
          [
           "Mike Birbiglia: The New One (2019) – Full Transcript"
          ],
          [
           "Iliza Shlesinger: Unveiled (2019) – Full Transcript"
          ],
          [
           "Seth Meyers: Lobby Baby (2019) – Full Transcript"
          ],
          [
           "Arsenio Hall: Smart and Classy (2019) – Transcript"
          ],
          [
           "Sebastian Maniscalco Stand-Up – The Tonight Show Starring Jimmy Fallon (2019) – Full Transcript"
          ],
          [
           "Nikki Glaser: Bangin’ (2019) – Full Transcript"
          ],
          [
           "Ryan Hamilton Stand-Up – The Tonight Show Starring Jimmy Fallon (2019) – Full Transcript"
          ],
          [
           "Mark Normand Stand-Up – The Tonight Show Starring Jimmy Fallon (2019) – Full Transcript"
          ],
          [
           "George Carlin: Dumb Americans (2006) – Full Transcript"
          ],
          [
           "Bill Burr: Paper Tiger (2019) – Transcript"
          ],
          [
           "Dave Chappelle: Sticks & Stones | Epilogue: The Punchline – Transcript"
          ],
          [
           "Brazil, Corruption and the Amazon Rainforest | Patriot Act with Hasan Minhaj – Full Transcript"
          ],
          [
           "Dave Chappelle: Sticks & Stones (2019) – Transcript"
          ],
          [
           "Emily Heller: Ice Thickeners (2019) – Full Transcript"
          ],
          [
           "David Cross: Oh Come On (2019) – Full Transcript"
          ],
          [
           "Kevin Hart: Gun Compartment [Transcript]"
          ],
          [
           "Whitney Cummings: Can I Touch It? (2019) – Full Transcript"
          ],
          [
           "Eddie Griffin: The Black Man’s Bible (1994) – Transcript"
          ],
          [
           "Tom Segura Overdoses – This Is Not Happening [Transcript]"
          ],
          [
           "Aziz Ansari: Right Now (2019) – Transcript"
          ],
          [
           "Ralphie May: Filthy Animal Tour (2014) – Transcript"
          ],
          [
           "Mike Epps: Only One Mike (2019) – Full Transcript"
          ],
          [
           "Adam DeVine: Best Time of Our Lives (2019) – Full Transcript"
          ],
          [
           "Jo Koy: Live from Seattle (2017) – Full Transcript"
          ],
          [
           "Jo Koy: Comin’ in Hot (2019) – Full Transcript"
          ],
          [
           "The Standups: Gina Yashere (2018) – Full Transcript"
          ],
          [
           "Wanda Sykes: Not Normal (2019) – Full Transcript"
          ],
          [
           "Doug Stanhope on babies and abortion"
          ],
          [
           "Cedric the Entertainer: Live from the Ville (2016) – Transcript"
          ],
          [
           "Eddie Murphy: Raw (1987) – Transcript"
          ],
          [
           "Colin Quinn: The New York Story (2016) – Full Transcript"
          ],
          [
           "Demetri Martin: Live (At The Time) (2015) | Transcript"
          ],
          [
           "George Carlin: What Am I Doing in New Jersey? (1988) – Full Transcript"
          ],
          [
           "Chelsea Peretti: One of the Greats (2014) – Full Transcript"
          ],
          [
           "Anthony Jeselnik: Fire in the Maternity Ward (2019) – Transcript"
          ],
          [
           "Roy Wood Jr.: No One Loves You (2019) – Transcript"
          ],
          [
           "Robin Williams: Weapons of Self Destruction (2009) – Full Transcript"
          ],
          [
           "ROBIN WILLIAMS LIVE ON BROADWAY (2002) – FULL TRANSCRIPT"
          ],
          [
           "Jimmy Carr: The Best of Ultimate Gold Greatest Hits (2019) – Full Transcript"
          ],
          [
           "Nate Bargatze: The Tennessee Kid (2019) – Full Transcript"
          ],
          [
           "W. Kamau Bell: Private School Negro (2018) – Transcript"
          ],
          [
           "Kevin Hart: Irresponsible (2019) – Transcript"
          ],
          [
           "Nate Bargatze: Full Time Magic (2015) – Full Transcript"
          ],
          [
           "Amy Schumer: Growing (2019) – Full Transcript"
          ],
          [
           "Ricky Gervais: 2011 Golden Globes Opening Monologue"
          ],
          [
           "Ricky Gervais: 2016 Golden Globes Opening Monologue"
          ],
          [
           "Enissa Amani: Ehrenwort (2018) Full Transcript"
          ],
          [
           "Ken Jeong: You Complete Me, Ho (2019) – Full Transcript"
          ],
          [
           "Ray Romano: Right Here, Around the Corner (2019) – Full Transcript"
          ],
          [
           "Gabriel “Fluffy” Iglesias: One Show Fits All (2019) – Full Transcript"
          ],
          [
           "Sebastian Maniscalco: Stay Hungry (2019) – Full Transcript"
          ],
          [
           "Latin History for Morons: John Leguizamo’s Road to Broadway (2018) – Transcript"
          ],
          [
           "Sebastian Maniscalco: Aren’t You Embarrassed? (2014) – Full Transcript"
          ],
          [
           "Sebastian Maniscalco: What’s Wrong with People? (2012) – Full Transcript"
          ],
          [
           "Oh, Hello On Broadway (2017) – Transcript"
          ],
          [
           "Ellen Degeneres: Relatable (2018) – Transcript"
          ],
          [
           "Pete Holmes: Dirty Clean (2018) – Full Transcript"
          ],
          [
           "Vir Das: Losing It (2018) – Full Transcript"
          ],
          [
           "Volker Pispers about USA (2004) – Transcript"
          ],
          [
           "Trevor Noah: Son of Patricia (2018) – Transcript"
          ],
          [
           "Jeff Foxworthy & Larry the Cable Guy: We’ve Been Thinking (2016) – Full Transcript"
          ],
          [
           "Adam Sandler: 100% Fresh (2018) – Full Transcript"
          ],
          [
           "Jeff Foxworthy: Totally Committed (1998) – Full Transcript"
          ],
          [
           "RON WHITE: IF YOU QUIT LISTENING, I’LL SHUT UP (2018) – FULL TRANSCRIPT"
          ],
          [
           "Carlin at Carnegie (1983) – Full Transcript"
          ],
          [
           "Comedy Central Presents: Tom Segura [S15e01] – Transcript"
          ],
          [
           "Mo Amer: The Vagabond (2018) – Full Transcript"
          ],
          [
           "Joe Mande’s Award-Winning Comedy Special (2017) – Full Transcript"
          ],
          [
           "Henry Rollins: Keep Talking, Pal (2018) – Full Transcript"
          ],
          [
           "GEORGE CARLIN: SATURDAY NIGHT LIVE MONOLOGUE (1975) – FULL TRANSCRIPT"
          ],
          [
           "Joe Rogan: Strange Times (2018) – Full Transcript"
          ],
          [
           "Louis C.K.: SNL Monologue S38E06 [11/03/12] – Full Transcript"
          ],
          [
           "Louis C.K.: SNL Monologue S39E16 [03/29/14] – Full Transcript"
          ],
          [
           "Sarah Silverman: Saturday Night Live Monologue – SEASON 40 | EPISODE 2 | 10/04/2014 – Transcript"
          ],
          [
           "Louis C.K.: SNL Monologue May 16, 2015 – Full Transcript"
          ],
          [
           "John Mulaney: Snl Monologue (2018) – Transcript"
          ],
          [
           "David Chappelle: SNL monologue [November 12, 2016] – Transcript"
          ],
          [
           "D.L. Hughley: Contrarian (2018) – Transcript"
          ],
          [
           "Iliza Shlesinger: Freezing Hot (2015) – Full Transcript"
          ],
          [
           "Iliza Shlesinger: War Paint (2013) – Transcript"
          ],
          [
           "Bert Kreischer: Secret Time (2018) – Transcript"
          ],
          [
           "Dick Gregory: Speech at St. John’s Baptist Church, May 20, 1963 – Transcript"
          ],
          [
           "Demetri Martin: The Overthinker (2018) | Transcript"
          ],
          [
           "BILL MAHER: LIVE FROM OKLAHOMA (2018) – Full Transcript"
          ],
          [
           "Rowan Atkinson Live (1992) – Transcript"
          ],
          [
           "Iliza Shlesinger: Confirmed Kills (2016) – Full Transcript"
          ],
          [
           "Iliza Shlesinger: Elder Millennial (2018) – Full Transcript"
          ],
          [
           "JIM GAFFIGAN: NOBLE APE (2018) – Full Transcript"
          ],
          [
           "Jim Norton: Contextually Inadequate (2015) – Transcript"
          ],
          [
           "Hannah Gadsby: Nanette (2018) – Transcript"
          ],
          [
           "BRAD WILLIAMS: DADDY ISSUES (2016) – Full Transcript"
          ],
          [
           "Deray Davis: How To Act Black (2017) – Transcript"
          ],
          [
           "RICKY GERVAIS: LIVE IV – SCIENCE (2010) – Full Transcript"
          ],
          [
           "JIM JEFFERIES: THIS IS ME NOW (2018) – Full transcript"
          ],
          [
           "Bill Burr: The Philadelphia Incident (2006) – Transcript"
          ],
          [
           "RUSSELL PETERS: OUTSOURCED (2006) – Full Transcript"
          ],
          [
           "RUSSELL PETERS: ALMOST FAMOUS (2016) – Full Transcript"
          ],
          [
           "RON WHITE: A LITTLE UNPROFESSIONAL (2012) – Full Transcript"
          ],
          [
           "MICHAEL MCINTYRE: HELLO WEMBLEY! (2009) – Full Transcript"
          ],
          [
           "KEVIN SMITH: SILENT BUT DEADLY (2018) – Full Transcript"
          ],
          [
           "KEVIN JAMES: NEVER DON’T GIVE UP (2018) – Full Transcript"
          ],
          [
           "TREVOR NOAH: LIVE AT THE O2 LONDON (2018) – PRINCE HARRY & MEGHAN MARKLE’S ROYAL WEDDING"
          ],
          [
           "BRENT MORIN: I’M BRENT MORIN (2015) – Full Transcript"
          ],
          [
           "NIKKI GLASER: PERFECT (2016) – Full Transcript"
          ],
          [
           "DOUG STANHOPE ON NATIONALISM"
          ],
          [
           "Ali Wong: Hard Knock Wife (2018) – Transcript"
          ],
          [
           "KAVIN JAY: EVERYBODY CALM DOWN! (2018) – Full Transcript"
          ],
          [
           "John Mulaney: Kid Gorgeous At Radio City (2018) – Transcript"
          ],
          [
           "Eddie Griffin: Undeniable (2018) – Transcript"
          ],
          [
           "GREG DAVIES: YOU MAGNIFICENT BEAST (2018) – Full Transcript"
          ],
          [
           "COMEDY CENTRAL PRESENTS: PATTON OSWALT (1999) – Full Transcript"
          ],
          [
           "George Carlin: You Are All Diseased (1999) – Transcript"
          ],
          [
           "RICKY GERVAIS: 2012 GOLDEN GLOBES OPENING MONOLOGUE"
          ],
          [
           "Marlon Wayans: Woke-Ish (2018) – Transcript"
          ],
          [
           "RICKY GERVAIS: HUMANITY (2018) – Full Transcript"
          ],
          [
           "ADEL KARAM: LIVE FROM BEIRUT (2018) – Full Transcript"
          ],
          [
           "STEWART LEE: 90s COMEDIAN (2006) – Full Transcript"
          ],
          [
           "Mike Birbiglia: My Girlfriend’s Boyfriend (2013) – Transcript"
          ],
          [
           "DAVE ATTELL: ROAD WORK (2014) – Full Transcript"
          ],
          [
           "Eddie Izzard – Glorious (1997) – Transcript"
          ],
          [
           "Chris Rock: Bring the Pain (1996) – Transcript"
          ],
          [
           "ARI SHAFFIR: DOUBLE NEGATIVE (2017) – Full Transcript"
          ],
          [
           "Chris Rock: Tamborine (2018) – Transcript"
          ],
          [
           "FRED ARMISEN: STANDUP FOR DRUMMERS (2018) – Full Transcript"
          ],
          [
           "DANA CARVEY: STRAIGHT WHITE MALE, 60 (2016) – Full Transcript"
          ],
          [
           "EDDIE IZZARD: STRIPPED (2009) – Full Transcript"
          ],
          [
           "TODD GLASS: ACT HAPPY (2018) – Full Transcript"
          ],
          [
           "BRIAN REGAN: STANDING UP (2007) – Full Transcript"
          ],
          [
           "BRIAN REGAN: NUNCHUCKS AND FLAMETHROWERS (2017) – Full Transcript"
          ],
          [
           "Katt Williams: Great America (2018) – Transcript"
          ],
          [
           "JIMMY CARR: BEING FUNNY (2011) – Full Transcript"
          ],
          [
           "JIMMY CARR: LAUGHING AND JOKING (2013) – Full Transcript"
          ],
          [
           "Eddie Izzard: Unrepeatable (1994) | Transcript"
          ],
          [
           "D.L. Hughley: Unapologetic (2007) – Transcript"
          ],
          [
           "BRIDGET EVERETT: GYNECOLOGICAL WONDER (2015) – Full Transcript"
          ],
          [
           "Chris Rock: Never Scared (2004) – Transcript"
          ],
          [
           "Stewart Lee: Stand-Up Comedian (2005) – Transcript"
          ],
          [
           "JIMMY CARR: FUNNY BUSINESS (2016) – Full Transcript"
          ],
          [
           "Eddie Izzard: Dress To Kill (1999) – Transcript"
          ],
          [
           "Chris Tucker: Live (2015) – Transcript"
          ],
          [
           "Kevin Hart: What Now (2016) – Transcript"
          ],
          [
           "Kevin Hart: Let Me Explain (2013) – Transcript"
          ],
          [
           "Tom Segura: Disgraceful (2018) – Transcript"
          ],
          [
           "BILL HICKS: LIVE AT LAFF STOP, AUSTIN, TX, AND COBBS, SAN FRANCISCO, CA (1993) – Full Transcript"
          ],
          [
           "MICHELLE WOLF: NICE LADY (2017) – Full Transcript"
          ],
          [
           "FAHIM ANWAR: THERE’S NO BUSINESS LIKE SHOW BUSINESS (2017) – Transcript"
          ],
          [
           "ELLEN DEGENERES: THE BEGINNING (2000) – Full Transcript"
          ],
          [
           "MAZ JOBRANI: IMMIGRANT (2017) – Full Transcript"
          ],
          [
           "TODD BARRY: SPICY HONEY (2017) – Full Transcript"
          ],
          [
           "Jerry Seinfeld: I’m Telling You for the Last Time (1998) – Transcript"
          ],
          [
           "Craig Ferguson: Does This Need To Be Said? (2011) – Transcript"
          ],
          [
           "CRAIG FERGUSON: TICKLE FIGHT (2017) – Full Transcript"
          ],
          [
           "DYLAN MORAN: LIKE, TOTALLY… (2006) – Full Transcript"
          ],
          [
           "DAVE CHAPPELLE: EQUANIMITY (2017) – Transcripción completa"
          ],
          [
           "DAVE CHAPPELLE: THE BIRD REVELATION (2017) – Transcripción completa"
          ],
          [
           "DAVE CHAPPELLE: HBO HALF HOUR (1998) – Traduzione italiana"
          ],
          [
           "TREVOR NOAH: LIVE AT THE APOLLO (2013) – Transcript"
          ],
          [
           "Dave Chappelle: The Bird Revelation (2017) – Transcript"
          ],
          [
           "Dave Chappelle: Equanimity (2017) – Transcript"
          ],
          [
           "CRAIG FERGUSON: I’M HERE TO HELP (2013) – Full Transcript"
          ],
          [
           "RUSSELL HOWARD: RECALIBRATE (2017) – Full Transcript"
          ],
          [
           "WHITNEY CUMMINGS: I LOVE YOU (2014) – Full Transcript"
          ],
          [
           "WHITNEY CUMMINGS: I’M YOUR GIRLFRIEND (2016) – Full Transcript"
          ],
          [
           "SARAH MILLICAN: CHATTERBOX LIVE (2011) – Full Transcript"
          ],
          [
           "Anjelah Johnson: Not Fancy (2015) – Transcript"
          ],
          [
           "RICKY GERVAIS LIVE 2: POLITICS (2004) – Full Transcript"
          ],
          [
           "Russell Howard Live: Dingledodies (2009) – Full Transcript"
          ],
          [
           "CHRISTINA PAZSITZKY: MOTHER INFERIOR (2017) – FULL TRANSCRIPT"
          ],
          [
           "Jack Whitehall: At Large (2017) – Transcript"
          ],
          [
           "CRISTELA ALONZO: LOWER CLASSY (2017) – Full Transcript"
          ],
          [
           "JUDAH FRIEDLANDER: AMERICA IS THE GREATEST COUNTRY IN THE UNITED STATES (2017) – Full Transcript"
          ],
          [
           "AZIZ ANSARI: LIVE IN MADISON SQUARE GARDEN (2015) – Full Transcript"
          ],
          [
           "AZIZ ANSARI: BURIED ALIVE (2013) – Full Transcript"
          ],
          [
           "Paul Mooney: A Piece of My Mind – Godbless America (2014) – Transcript"
          ],
          [
           "PATTON OSWALT: ANNIHILATION (2017) – Full Transcript"
          ],
          [
           "Chris Rock: Kill The Messenger – London, New York, Johannesburg (2008) – Transcript"
          ],
          [
           "BILL MAHER: LIVE FROM D.C. (2014) – Full Transcript"
          ],
          [
           "Sarah Silverman: Jesus Is Magic (2005) – Transcript"
          ],
          [
           "SARAH SILVERMAN: WE ARE MIRACLES (2013) – Full Transcript"
          ],
          [
           "Pablo Francisco: Ouch! Live From San Jose (2006) – Full Transcript"
          ],
          [
           "BILL MAHER… BUT I’M NOT WRONG (2010) – Full Transcript"
          ],
          [
           "RUSSELL BRAND: MESSIAH COMPLEX (2013) – Full Transcript"
          ],
          [
           "Chris Rock: Bigger & Blacker (1999) – Transcript"
          ],
          [
           "Gabriel Iglesias: Hot And Fluffy (2007) – Transcript"
          ],
          [
           "GABRIEL IGLESIAS: I’M NOT FAT … I’M FLUFFY (2009) – Full Transcript"
          ],
          [
           "GABRIEL IGLESIAS: I’M SORRY FOR WHAT I SAID WHEN I WAS HUNGRY (2016) – Full Transcript"
          ],
          [
           "GEORGE CARLIN ON ABORTION AND “PRO-LIFERS”"
          ],
          [
           "RICHARD PRYOR’S MONOLOGUE AT THE SATURDAY NIGHT LIVE [ 13/12/1975]"
          ],
          [
           "RORY SCOVEL TRIES STAND-UP FOR THE FIRST TIME (2017) – Full Transcript"
          ],
          [
           "LISA LAMPANELLI: BACK TO THE DRAWING BOARD (2015) – Full Transcript"
          ],
          [
           "COMEDY CENTRAL PRESENTS: DAVE ATTELL (1999) – Full Transcript"
          ],
          [
           "ERIK GRIFFIN: THE UGLY TRUTH (2017) – Full Transcript"
          ],
          [
           "CHRIS ROCK AT THE SATURDAY NIGHT LIVE (1996) – Transcript"
          ],
          [
           "JEN KIRKMAN: JUST KEEP LIVIN’? (2017) – Full Transcript"
          ],
          [
           "COMEDY CENTRAL PRESENTS: DANIEL TOSH (2003) – Full Transcript"
          ],
          [
           "GEORGE CARLIN: RELIGION IS BULLSHIT [TRANSCRIPT]"
          ],
          [
           "Saturday Night News with George Carlin [11/10/1984] – Full Transcript"
          ],
          [
           "JIM JEFFERIES E IL CONTROLLO DELLE ARMI IN AMERICA"
          ],
          [
           "DANIEL TOSH: COMPLETELY SERIOUS (2007) – Full Transcript"
          ],
          [
           "AL MADRIGAL: WHY IS THE RABBIT CRYING? (2013) – Full Transcript"
          ],
          [
           "NEAL BRENNAN: 3 MICS (2017)- FULL TRANSCRIPT"
          ],
          [
           "NORM MACDONALD: ONE NIGHT STAND (1991) – Full Transcript"
          ],
          [
           "John Mulaney: New In Town (2012) – Transcript"
          ],
          [
           "Donald Glover: Weirdo (2012) – Transcript"
          ],
          [
           "ALI WONG: BABY COBRA (2016) – Full Transcript"
          ],
          [
           "Norm Macdonald: Hitler’s Dog, Gossip & Trickery (2017) – Transcript"
          ],
          [
           "DANIEL TOSH: PEOPLE PLEASER (2016) – FULL TRANSCRIPT"
          ],
          [
           "Marc Maron: More Later (2015) – Full Transcript"
          ],
          [
           "Dylan Moran: Off The Hook (2015) – Transcript"
          ],
          [
           "Richard Pryor: Live And Smokin’ (1971) – Transcript"
          ],
          [
           "RICHARD PRYOR: …HERE AND NOW (1983) – Full Transcript"
          ],
          [
           "BILL BURR: WHY DO I DO THIS (2008) – Testo italiano completo"
          ],
          [
           "AMY SCHUMER: MOSTLY SEX STUFF (2012) – Full Transcript"
          ],
          [
           "Jim Jefferies: Alcoholocaust (2010) – Transcript"
          ],
          [
           "AMY SCHUMER: LIVE AT THE APOLLO (2015) – Full Transcript"
          ],
          [
           "Kevin Hart: Seriously Funny (2010) – Transcript"
          ],
          [
           "Hannibal Buress: Comedy Camisado (2016) – Transcript"
          ],
          [
           "Neal Brennan: Women And Black Dudes (2014) – Transcript"
          ],
          [
           "NICK OFFERMAN: AMERICAN HAM (2014) – Full Transcript"
          ],
          [
           "AZIZ ANSARI: INTIMATE MOMENTS FOR A SENSUAL EVENING (2010) – Full Transcript"
          ],
          [
           "BIG JAY OAKERSON: LIVE AT WEBSTER HALL (2016) – Full Transcript"
          ],
          [
           "Lenny Bruce: The Berkeley Concert (1965) – Transcript"
          ],
          [
           "DOUG STANHOPE: NO REFUNDS (2007) – Trascrizione italiana"
          ],
          [
           "George Carlin at USC (1977) – Full Transcript"
          ],
          [
           "Jim Norton: Mouthful Of Shame (2017) Transcript"
          ],
          [
           "Michael Che Matters (2016) – Transcript"
          ],
          [
           "Joe Rogan: Triggered (2016) – Transcript"
          ],
          [
           "Trevor Noah: Lost In Translation (2015) – Transcript"
          ],
          [
           "MARIA BAMFORD: OLD BABY (2017) – FULL TRANSCRIPT"
          ],
          [
           "Bo Burnham: What (2013) – Transcript"
          ],
          [
           "Bo Burnham: Make Happy (2016) – Transcript"
          ],
          [
           "ANTHONY JESELNIK: CALIGULA (2013) – Full Transcript"
          ],
          [
           "Anthony Jeselnik: Thoughts And Prayers (2015) – Full Transcript"
          ],
          [
           "John Mulaney: The Comeback Kid (2015) – Transcript"
          ],
          [
           "BILL HICKS: REVELATIONS (1993) – FULL TRANSCRIPT"
          ],
          [
           "LEWIS BLACK: BLACK TO THE FUTURE (2016) – Full Transcript"
          ],
          [
           "DOUG STANHOPE: BEFORE TURNING THE GUN ON HIMSELF (2012) – Transcript"
          ],
          [
           "DOUG STANHOPE: DEADBEAT HERO (2004) – Transcript"
          ],
          [
           "JIM JEFFERIES: CONTRABAND (2008) – Full Transcript"
          ],
          [
           "Mike Birbiglia: Thank God for Jokes (2017) – Transcript"
          ],
          [
           "SARAH SILVERMAN: A SPECK OF DUST (2017) – Full Transcript"
          ],
          [
           "GEORGE CARLIN: PLAYING WITH YOUR HEAD (1986) – Full Transcript"
          ],
          [
           "GEORGE CARLIN: AGAIN!* (1978) – Full Transcript"
          ],
          [
           "Louis C.K.: Chewed Up (2008) – Transcript"
          ],
          [
           "MITCH HEDBERG: COMEDY CENTRAL SPECIAL (1999) – Full Transcript"
          ],
          [
           "Tom Segura: Completely Normal (2014) – Transcript"
          ],
          [
           "GEORGE CARLIN: CARLIN ON CAMPUS (1984) – Full Transcript"
          ],
          [
           "Louis C.K.: Live at the Beacon Theatre (2011) – Transcript"
          ],
          [
           "RICKY GERVAIS: OUT OF ENGLAND 2 (2010) – Full Transcript"
          ],
          [
           "AMY SCHUMER: THE LEATHER SPECIAL (2017) – Full Transcript"
          ],
          [
           "JIM GAFFIGAN: CINCO (2017) – Full Transcript"
          ],
          [
           "JIM JEFFERIES: I SWEAR TO GOD (2009) – FULL TRANSCRIPT"
          ],
          [
           "LOUIS C.K.: HILARIOUS (2010) – Full Transcript"
          ],
          [
           "LOUIS C.K.: SHAMELESS (2007) – Full Transcript"
          ],
          [
           "BILL BURR: I’M SORRY YOU FEEL THAT WAY (2014) – Full Transcript"
          ],
          [
           "BILL BURR: YOU PEOPLE ARE ALL THE SAME (2012) – Full Transcript"
          ],
          [
           "Dave Chappelle: For What It’s Worth (2004) – Transcript"
          ],
          [
           "Dave Chappelle: Killin’ Them Softly (2000) – Transcript"
          ],
          [
           "Eddie Griffin: You Can Tell ‘Em I Said It! (2011) – Transcript"
          ],
          [
           "BILL BURR: WALK YOUR WAY OUT (2017) – Full Transcript"
          ],
          [
           "LOUIS C.K.: OH MY GOD (2013) – Full Transcript"
          ],
          [
           "LOUIS C.K.: LIVE AT  THE COMEDY STORE (2015) – Transcript"
          ],
          [
           "BILL HICKS: RELENTLESS (1991) – Transcript"
          ],
          [
           "Hasan Minhaj at 2017 White House Correspondents’ Dinner – Full Transcript"
          ],
          [
           "Daniel Tosh: Happy Thoughts (2011) – Transcript"
          ],
          [
           "Patrice O’Neal: Elephant in the Room (2011) – Transcript"
          ],
          [
           "Katt Williams: Live (2006) – Transcript"
          ],
          [
           "Richard Pryor: Live in Concert (1979) – Transcript"
          ],
          [
           "RICHARD PRYOR: LIVE ON THE SUNSET STRIP (1982) – Full Transcript"
          ],
          [
           "George Carlin: Seven Words You Can Never Say on Television"
          ],
          [
           "Trevor Noah: Afraid Of The Dark (2017) – Transcript"
          ],
          [
           "JIM JEFFERIES: BARE (2014) – Full Transcript"
          ],
          [
           "Dave Chappelle: Deep in the Heart of Texas (2017) – Transcript"
          ],
          [
           "Tom Segura: Mostly Stories (2016) – Transcript"
          ],
          [
           "BILL BURR: LET IT GO (2010) – TRANSCRIPT"
          ],
          [
           "GEORGE CARLIN: JAMMING IN NEW YORK (1992) – Testo italiano completo"
          ],
          [
           "GEORGE CARLIN: YOU ARE ALL DISEASED (1999) – Testo italiano completo"
          ],
          [
           "GEORGE CARLIN: IT’S BAD FOR YA! (2008) – Testo italiano completo"
          ],
          [
           "JIM JEFFERIES: FREEDUMB (2016) – Full Transcript"
          ],
          [
           "Eddie Murphy: Delirious (1983) – Transcript"
          ],
          [
           "Dave Chappelle: The Age of Spin (2017) – Transcript"
          ],
          [
           "GEORGE CARLIN: BACK IN TOWN (1996) – Full transcript"
          ],
          [
           "Seth Meyers at the 2011 White House Correspondents’ Dinner – Full Transcript"
          ],
          [
           "LOUIS C.K.: 2017 – Full transcript"
          ],
          [
           "George Carlin: Jamming in New York (1992) – Transcript"
          ],
          [
           "JIM JEFFERIES ON GUN CONTROL [FULL TRANSCRIPT]"
          ],
          [
           "Reggie Watts: Spatial (2016) – Full Transcript"
          ],
          [
           "GEORGE CARLIN: COMPLAINTS AND GRIEVANCES (2001) – FULL TRANSCRIPT"
          ],
          [
           "GEORGE CARLIN: LIFE IS WORTH LOSING (2006) – Transcript"
          ],
          [
           "George Carlin: It’s Bad For Ya (2008) Full transcript"
          ]
         ],
         "fillcolor": "rgba(255,255,255,0)",
         "hoveron": "points",
         "hovertemplate": "script characters=%{x}<br>description=%{customdata[0]}<extra></extra>",
         "legendgroup": "",
         "line": {
          "color": "rgba(255,255,255,0)"
         },
         "marker": {
          "color": "#636efa"
         },
         "name": "",
         "offsetgroup": "",
         "orientation": "h",
         "pointpos": 0,
         "showlegend": false,
         "type": "box",
         "x": [
          49799,
          44669,
          40006,
          50422,
          58020,
          52081,
          57427,
          50075,
          44664,
          18916,
          47121,
          49282,
          45195,
          43836,
          25327,
          54417,
          56879,
          38742,
          8768,
          48170,
          61747,
          39898,
          45549,
          43398,
          56497,
          61473,
          61356,
          48239,
          11993,
          6181,
          5463,
          8250,
          53611,
          56959,
          51325,
          34002,
          57234,
          42960,
          56241,
          36222,
          51315,
          5096,
          43567,
          45285,
          33403,
          16698,
          45771,
          9126,
          75764,
          39241,
          37189,
          65836,
          57984,
          56094,
          45581,
          58419,
          45127,
          30950,
          47239,
          62816,
          48889,
          42720,
          4751,
          43654,
          42728,
          41367,
          48149,
          3754,
          53419,
          58643,
          5663,
          51321,
          47322,
          5916,
          59880,
          40070,
          43892,
          26908,
          85052,
          87451,
          26472,
          51550,
          59991,
          6653,
          5252,
          44816,
          46617,
          52203,
          31554,
          41127,
          46854,
          56467,
          55606,
          47220,
          45588,
          3504,
          53936,
          5039,
          5515,
          12422,
          60414,
          17194,
          18807,
          42304,
          44382,
          55973,
          3342,
          48152,
          8798,
          9858,
          50700,
          59089,
          42524,
          47946,
          42089,
          46537,
          20192,
          35226,
          8220,
          43865,
          75101,
          58975,
          44998,
          37450,
          58037,
          28343,
          47250,
          76893,
          61997,
          44072,
          51406,
          57152,
          54889,
          37039,
          34064,
          2946,
          4592,
          55659,
          46045,
          41463,
          62290,
          40765,
          62404,
          35760,
          44112,
          66288,
          46876,
          41402,
          42631,
          18972,
          57385,
          59155,
          55233,
          40620,
          42078,
          41393,
          13403,
          47564,
          54979,
          49266,
          2584,
          51287,
          4980,
          7451,
          6198,
          6836,
          5515,
          7997,
          40647,
          59371,
          64404,
          45423,
          29523,
          45685,
          40922,
          29455,
          59932,
          53173,
          54529,
          46329,
          46931,
          56742,
          53093,
          68890,
          51794,
          10660,
          55453,
          48779,
          50903,
          74978,
          57902,
          46643,
          7607,
          58099,
          58705,
          4647,
          34532,
          37453,
          48746,
          49124,
          46375,
          18502,
          49962,
          4616,
          48042,
          56994,
          35383,
          54865,
          59078,
          33543,
          64563,
          41841,
          76584,
          38949,
          40011,
          41312,
          80469,
          48949,
          26490,
          39560,
          43057,
          71700,
          79811,
          65293,
          53189,
          23439,
          62614,
          59932,
          53993,
          76148,
          67216,
          62941,
          68938,
          59749,
          49540,
          42178,
          29650,
          39880,
          51240,
          44445,
          46216,
          48591,
          58825,
          57685,
          37294,
          29995,
          16920,
          6776,
          37138,
          43981,
          62880,
          51203,
          40475,
          46712,
          86390,
          38405,
          47937,
          67996,
          35484,
          48356,
          36870,
          58679,
          53568,
          66690,
          57169,
          48581,
          53877,
          45268,
          35595,
          30012,
          35289,
          52805,
          71147,
          41912,
          66796,
          58387,
          71461,
          6285,
          5156,
          44962,
          42236,
          17029,
          37320,
          4392,
          64369,
          19166,
          8126,
          7815,
          11800,
          46343,
          53330,
          48927,
          19179,
          67622,
          54228,
          38968,
          39843,
          51834,
          59796,
          67126,
          28882,
          56534,
          45475,
          43223,
          42942,
          41214,
          63264,
          55342,
          49284,
          49361,
          50523,
          53227,
          65020,
          48087,
          55833,
          50435,
          40536,
          53722,
          53321,
          42551,
          38524,
          42350,
          31650,
          34512,
          48506,
          44937,
          28217,
          48288,
          58469,
          53642,
          45928,
          46902,
          41343,
          59329,
          40050,
          22236,
          62084,
          42003,
          43929,
          60009,
          34186,
          52557,
          39442,
          61120,
          48453,
          64607,
          65374,
          42296,
          39696,
          42376,
          67101,
          39140,
          44248,
          37592,
          18433,
          33139,
          52517,
          61647,
          52218,
          49242,
          5630,
          53364,
          58680,
          50041,
          55506,
          40702,
          48593,
          55838,
          56817,
          61794,
          42083,
          48194,
          45875,
          16156,
          48064,
          45950,
          12762,
          22122,
          43700,
          67186,
          53920
         ],
         "x0": " ",
         "xaxis": "x",
         "y0": " ",
         "yaxis": "y"
        }
       ],
       "layout": {
        "boxmode": "group",
        "legend": {
         "tracegroupgap": 0
        },
        "margin": {
         "t": 60
        },
        "template": {
         "data": {
          "bar": [
           {
            "error_x": {
             "color": "#2a3f5f"
            },
            "error_y": {
             "color": "#2a3f5f"
            },
            "marker": {
             "line": {
              "color": "#E5ECF6",
              "width": 0.5
             },
             "pattern": {
              "fillmode": "overlay",
              "size": 10,
              "solidity": 0.2
             }
            },
            "type": "bar"
           }
          ],
          "barpolar": [
           {
            "marker": {
             "line": {
              "color": "#E5ECF6",
              "width": 0.5
             },
             "pattern": {
              "fillmode": "overlay",
              "size": 10,
              "solidity": 0.2
             }
            },
            "type": "barpolar"
           }
          ],
          "carpet": [
           {
            "aaxis": {
             "endlinecolor": "#2a3f5f",
             "gridcolor": "white",
             "linecolor": "white",
             "minorgridcolor": "white",
             "startlinecolor": "#2a3f5f"
            },
            "baxis": {
             "endlinecolor": "#2a3f5f",
             "gridcolor": "white",
             "linecolor": "white",
             "minorgridcolor": "white",
             "startlinecolor": "#2a3f5f"
            },
            "type": "carpet"
           }
          ],
          "choropleth": [
           {
            "colorbar": {
             "outlinewidth": 0,
             "ticks": ""
            },
            "type": "choropleth"
           }
          ],
          "contour": [
           {
            "colorbar": {
             "outlinewidth": 0,
             "ticks": ""
            },
            "colorscale": [
             [
              0,
              "#0d0887"
             ],
             [
              0.1111111111111111,
              "#46039f"
             ],
             [
              0.2222222222222222,
              "#7201a8"
             ],
             [
              0.3333333333333333,
              "#9c179e"
             ],
             [
              0.4444444444444444,
              "#bd3786"
             ],
             [
              0.5555555555555556,
              "#d8576b"
             ],
             [
              0.6666666666666666,
              "#ed7953"
             ],
             [
              0.7777777777777778,
              "#fb9f3a"
             ],
             [
              0.8888888888888888,
              "#fdca26"
             ],
             [
              1,
              "#f0f921"
             ]
            ],
            "type": "contour"
           }
          ],
          "contourcarpet": [
           {
            "colorbar": {
             "outlinewidth": 0,
             "ticks": ""
            },
            "type": "contourcarpet"
           }
          ],
          "heatmap": [
           {
            "colorbar": {
             "outlinewidth": 0,
             "ticks": ""
            },
            "colorscale": [
             [
              0,
              "#0d0887"
             ],
             [
              0.1111111111111111,
              "#46039f"
             ],
             [
              0.2222222222222222,
              "#7201a8"
             ],
             [
              0.3333333333333333,
              "#9c179e"
             ],
             [
              0.4444444444444444,
              "#bd3786"
             ],
             [
              0.5555555555555556,
              "#d8576b"
             ],
             [
              0.6666666666666666,
              "#ed7953"
             ],
             [
              0.7777777777777778,
              "#fb9f3a"
             ],
             [
              0.8888888888888888,
              "#fdca26"
             ],
             [
              1,
              "#f0f921"
             ]
            ],
            "type": "heatmap"
           }
          ],
          "heatmapgl": [
           {
            "colorbar": {
             "outlinewidth": 0,
             "ticks": ""
            },
            "colorscale": [
             [
              0,
              "#0d0887"
             ],
             [
              0.1111111111111111,
              "#46039f"
             ],
             [
              0.2222222222222222,
              "#7201a8"
             ],
             [
              0.3333333333333333,
              "#9c179e"
             ],
             [
              0.4444444444444444,
              "#bd3786"
             ],
             [
              0.5555555555555556,
              "#d8576b"
             ],
             [
              0.6666666666666666,
              "#ed7953"
             ],
             [
              0.7777777777777778,
              "#fb9f3a"
             ],
             [
              0.8888888888888888,
              "#fdca26"
             ],
             [
              1,
              "#f0f921"
             ]
            ],
            "type": "heatmapgl"
           }
          ],
          "histogram": [
           {
            "marker": {
             "pattern": {
              "fillmode": "overlay",
              "size": 10,
              "solidity": 0.2
             }
            },
            "type": "histogram"
           }
          ],
          "histogram2d": [
           {
            "colorbar": {
             "outlinewidth": 0,
             "ticks": ""
            },
            "colorscale": [
             [
              0,
              "#0d0887"
             ],
             [
              0.1111111111111111,
              "#46039f"
             ],
             [
              0.2222222222222222,
              "#7201a8"
             ],
             [
              0.3333333333333333,
              "#9c179e"
             ],
             [
              0.4444444444444444,
              "#bd3786"
             ],
             [
              0.5555555555555556,
              "#d8576b"
             ],
             [
              0.6666666666666666,
              "#ed7953"
             ],
             [
              0.7777777777777778,
              "#fb9f3a"
             ],
             [
              0.8888888888888888,
              "#fdca26"
             ],
             [
              1,
              "#f0f921"
             ]
            ],
            "type": "histogram2d"
           }
          ],
          "histogram2dcontour": [
           {
            "colorbar": {
             "outlinewidth": 0,
             "ticks": ""
            },
            "colorscale": [
             [
              0,
              "#0d0887"
             ],
             [
              0.1111111111111111,
              "#46039f"
             ],
             [
              0.2222222222222222,
              "#7201a8"
             ],
             [
              0.3333333333333333,
              "#9c179e"
             ],
             [
              0.4444444444444444,
              "#bd3786"
             ],
             [
              0.5555555555555556,
              "#d8576b"
             ],
             [
              0.6666666666666666,
              "#ed7953"
             ],
             [
              0.7777777777777778,
              "#fb9f3a"
             ],
             [
              0.8888888888888888,
              "#fdca26"
             ],
             [
              1,
              "#f0f921"
             ]
            ],
            "type": "histogram2dcontour"
           }
          ],
          "mesh3d": [
           {
            "colorbar": {
             "outlinewidth": 0,
             "ticks": ""
            },
            "type": "mesh3d"
           }
          ],
          "parcoords": [
           {
            "line": {
             "colorbar": {
              "outlinewidth": 0,
              "ticks": ""
             }
            },
            "type": "parcoords"
           }
          ],
          "pie": [
           {
            "automargin": true,
            "type": "pie"
           }
          ],
          "scatter": [
           {
            "marker": {
             "colorbar": {
              "outlinewidth": 0,
              "ticks": ""
             }
            },
            "type": "scatter"
           }
          ],
          "scatter3d": [
           {
            "line": {
             "colorbar": {
              "outlinewidth": 0,
              "ticks": ""
             }
            },
            "marker": {
             "colorbar": {
              "outlinewidth": 0,
              "ticks": ""
             }
            },
            "type": "scatter3d"
           }
          ],
          "scattercarpet": [
           {
            "marker": {
             "colorbar": {
              "outlinewidth": 0,
              "ticks": ""
             }
            },
            "type": "scattercarpet"
           }
          ],
          "scattergeo": [
           {
            "marker": {
             "colorbar": {
              "outlinewidth": 0,
              "ticks": ""
             }
            },
            "type": "scattergeo"
           }
          ],
          "scattergl": [
           {
            "marker": {
             "colorbar": {
              "outlinewidth": 0,
              "ticks": ""
             }
            },
            "type": "scattergl"
           }
          ],
          "scattermapbox": [
           {
            "marker": {
             "colorbar": {
              "outlinewidth": 0,
              "ticks": ""
             }
            },
            "type": "scattermapbox"
           }
          ],
          "scatterpolar": [
           {
            "marker": {
             "colorbar": {
              "outlinewidth": 0,
              "ticks": ""
             }
            },
            "type": "scatterpolar"
           }
          ],
          "scatterpolargl": [
           {
            "marker": {
             "colorbar": {
              "outlinewidth": 0,
              "ticks": ""
             }
            },
            "type": "scatterpolargl"
           }
          ],
          "scatterternary": [
           {
            "marker": {
             "colorbar": {
              "outlinewidth": 0,
              "ticks": ""
             }
            },
            "type": "scatterternary"
           }
          ],
          "surface": [
           {
            "colorbar": {
             "outlinewidth": 0,
             "ticks": ""
            },
            "colorscale": [
             [
              0,
              "#0d0887"
             ],
             [
              0.1111111111111111,
              "#46039f"
             ],
             [
              0.2222222222222222,
              "#7201a8"
             ],
             [
              0.3333333333333333,
              "#9c179e"
             ],
             [
              0.4444444444444444,
              "#bd3786"
             ],
             [
              0.5555555555555556,
              "#d8576b"
             ],
             [
              0.6666666666666666,
              "#ed7953"
             ],
             [
              0.7777777777777778,
              "#fb9f3a"
             ],
             [
              0.8888888888888888,
              "#fdca26"
             ],
             [
              1,
              "#f0f921"
             ]
            ],
            "type": "surface"
           }
          ],
          "table": [
           {
            "cells": {
             "fill": {
              "color": "#EBF0F8"
             },
             "line": {
              "color": "white"
             }
            },
            "header": {
             "fill": {
              "color": "#C8D4E3"
             },
             "line": {
              "color": "white"
             }
            },
            "type": "table"
           }
          ]
         },
         "layout": {
          "annotationdefaults": {
           "arrowcolor": "#2a3f5f",
           "arrowhead": 0,
           "arrowwidth": 1
          },
          "autotypenumbers": "strict",
          "coloraxis": {
           "colorbar": {
            "outlinewidth": 0,
            "ticks": ""
           }
          },
          "colorscale": {
           "diverging": [
            [
             0,
             "#8e0152"
            ],
            [
             0.1,
             "#c51b7d"
            ],
            [
             0.2,
             "#de77ae"
            ],
            [
             0.3,
             "#f1b6da"
            ],
            [
             0.4,
             "#fde0ef"
            ],
            [
             0.5,
             "#f7f7f7"
            ],
            [
             0.6,
             "#e6f5d0"
            ],
            [
             0.7,
             "#b8e186"
            ],
            [
             0.8,
             "#7fbc41"
            ],
            [
             0.9,
             "#4d9221"
            ],
            [
             1,
             "#276419"
            ]
           ],
           "sequential": [
            [
             0,
             "#0d0887"
            ],
            [
             0.1111111111111111,
             "#46039f"
            ],
            [
             0.2222222222222222,
             "#7201a8"
            ],
            [
             0.3333333333333333,
             "#9c179e"
            ],
            [
             0.4444444444444444,
             "#bd3786"
            ],
            [
             0.5555555555555556,
             "#d8576b"
            ],
            [
             0.6666666666666666,
             "#ed7953"
            ],
            [
             0.7777777777777778,
             "#fb9f3a"
            ],
            [
             0.8888888888888888,
             "#fdca26"
            ],
            [
             1,
             "#f0f921"
            ]
           ],
           "sequentialminus": [
            [
             0,
             "#0d0887"
            ],
            [
             0.1111111111111111,
             "#46039f"
            ],
            [
             0.2222222222222222,
             "#7201a8"
            ],
            [
             0.3333333333333333,
             "#9c179e"
            ],
            [
             0.4444444444444444,
             "#bd3786"
            ],
            [
             0.5555555555555556,
             "#d8576b"
            ],
            [
             0.6666666666666666,
             "#ed7953"
            ],
            [
             0.7777777777777778,
             "#fb9f3a"
            ],
            [
             0.8888888888888888,
             "#fdca26"
            ],
            [
             1,
             "#f0f921"
            ]
           ]
          },
          "colorway": [
           "#636efa",
           "#EF553B",
           "#00cc96",
           "#ab63fa",
           "#FFA15A",
           "#19d3f3",
           "#FF6692",
           "#B6E880",
           "#FF97FF",
           "#FECB52"
          ],
          "font": {
           "color": "#2a3f5f"
          },
          "geo": {
           "bgcolor": "white",
           "lakecolor": "white",
           "landcolor": "#E5ECF6",
           "showlakes": true,
           "showland": true,
           "subunitcolor": "white"
          },
          "hoverlabel": {
           "align": "left"
          },
          "hovermode": "closest",
          "mapbox": {
           "style": "light"
          },
          "paper_bgcolor": "white",
          "plot_bgcolor": "#E5ECF6",
          "polar": {
           "angularaxis": {
            "gridcolor": "white",
            "linecolor": "white",
            "ticks": ""
           },
           "bgcolor": "#E5ECF6",
           "radialaxis": {
            "gridcolor": "white",
            "linecolor": "white",
            "ticks": ""
           }
          },
          "scene": {
           "xaxis": {
            "backgroundcolor": "#E5ECF6",
            "gridcolor": "white",
            "gridwidth": 2,
            "linecolor": "white",
            "showbackground": true,
            "ticks": "",
            "zerolinecolor": "white"
           },
           "yaxis": {
            "backgroundcolor": "#E5ECF6",
            "gridcolor": "white",
            "gridwidth": 2,
            "linecolor": "white",
            "showbackground": true,
            "ticks": "",
            "zerolinecolor": "white"
           },
           "zaxis": {
            "backgroundcolor": "#E5ECF6",
            "gridcolor": "white",
            "gridwidth": 2,
            "linecolor": "white",
            "showbackground": true,
            "ticks": "",
            "zerolinecolor": "white"
           }
          },
          "shapedefaults": {
           "line": {
            "color": "#2a3f5f"
           }
          },
          "ternary": {
           "aaxis": {
            "gridcolor": "white",
            "linecolor": "white",
            "ticks": ""
           },
           "baxis": {
            "gridcolor": "white",
            "linecolor": "white",
            "ticks": ""
           },
           "bgcolor": "#E5ECF6",
           "caxis": {
            "gridcolor": "white",
            "linecolor": "white",
            "ticks": ""
           }
          },
          "title": {
           "x": 0.05
          },
          "xaxis": {
           "automargin": true,
           "gridcolor": "white",
           "linecolor": "white",
           "ticks": "",
           "title": {
            "standoff": 15
           },
           "zerolinecolor": "white",
           "zerolinewidth": 2
          },
          "yaxis": {
           "automargin": true,
           "gridcolor": "white",
           "linecolor": "white",
           "ticks": "",
           "title": {
            "standoff": 15
           },
           "zerolinecolor": "white",
           "zerolinewidth": 2
          }
         }
        },
        "xaxis": {
         "anchor": "y",
         "domain": [
          0,
          1
         ],
         "title": {
          "text": "script characters"
         }
        },
        "yaxis": {
         "anchor": "x",
         "domain": [
          0,
          1
         ]
        }
       }
      }
     },
     "metadata": {},
     "output_type": "display_data"
    }
   ],
   "source": [
    "tscripts = pd.read_pickle('../data/transcripts_raw_df.pickle')\n",
    "tscripts['script characters'] = tscripts['transcript'].apply(len)\n",
    "px.strip(tscripts, x = 'script characters', hover_data= ['description'])\n"
   ]
  },
  {
   "cell_type": "code",
   "execution_count": 4,
   "metadata": {},
   "outputs": [],
   "source": [
    "tscripts = tscripts[tscripts['script characters'] > 21000]\n",
    "shows_split = tscripts['description'].str.split('|', expand = True)[0]"
   ]
  },
  {
   "cell_type": "code",
   "execution_count": 5,
   "metadata": {},
   "outputs": [],
   "source": [
    "def transcript_strip(string):\n",
    "    hasyear = re.search(r\"\\(\\d{4}\\)\", string)\n",
    "    hasdashbracket = re.search(r\"\\s[–\\[]\", string)\n",
    "    if hasyear:\n",
    "        return string[:hasyear.end()]\n",
    "    elif hasdashbracket:\n",
    "        return string[:hasdashbracket.start()]\n",
    "    else:\n",
    "        return string"
   ]
  },
  {
   "cell_type": "code",
   "execution_count": 6,
   "metadata": {},
   "outputs": [],
   "source": [
    "show_searches =  [transcript_strip(search) for search in shows_split]"
   ]
  },
  {
   "cell_type": "markdown",
   "metadata": {},
   "source": [
    "## Get IDs from API\n",
    "I'll have to only do 100 results per day since I'm sticking with the free version of the API.\n",
    "After I get all the title IDs (4 days), I'll then have to get the ratings (another 4 days). If I want the reviews, that's another 4 days."
   ]
  },
  {
   "cell_type": "code",
   "execution_count": 203,
   "metadata": {},
   "outputs": [],
   "source": [
    "api_key = json.load(open('../../../api_keys/api_keys.json'))['imdb2']"
   ]
  },
  {
   "cell_type": "code",
   "execution_count": 87,
   "metadata": {},
   "outputs": [],
   "source": [
    "# with open(f'../data/imdb_title_search_results_chris_2022-05-23.pickle', 'rb') as file:\n",
    "#     search_results = pickle.load(file)\n",
    "\n",
    "# with open(f'../data/imdb_title_search_results_fails_chris_2022-05-23.pickle', 'rb') as file:\n",
    "#     search_results_fails = pickle.load(file)"
   ]
  },
  {
   "cell_type": "code",
   "execution_count": 31,
   "metadata": {},
   "outputs": [],
   "source": [
    "start = None\n",
    "end = None\n",
    "for search in show_searches[start:end]:\n",
    "\n",
    "    try:\n",
    "        endpoint = 'https://imdb-api.com/en/API/SearchTitle/'\n",
    "        params = {\n",
    "            'apiKey':api_key,\n",
    "            'expression':search\n",
    "        }\n",
    "        response = requests.get(endpoint, params)\n",
    "        result = response.json()\n",
    "\n",
    "        search_result = result['results'][0]\n",
    "        search_results.append(search_result)\n",
    "    except:\n",
    "        search_results_fails.append(search)"
   ]
  },
  {
   "cell_type": "code",
   "execution_count": 41,
   "metadata": {},
   "outputs": [],
   "source": [
    "# with open(f'../data/imdb_title_search_results_{date.today()}.pickle', 'wb') as file:\n",
    "#     pickle.dump(search_results, file)\n",
    "\n",
    "# with open(f'../data/imdb_title_search_results_fails_{date.today()}.pickle', 'wb') as file:\n",
    "#     pickle.dump(search_results_fails, file)"
   ]
  },
  {
   "cell_type": "markdown",
   "metadata": {},
   "source": [
    "## Get Title Info from API"
   ]
  },
  {
   "cell_type": "code",
   "execution_count": 45,
   "metadata": {},
   "outputs": [],
   "source": [
    "# title_results = []"
   ]
  },
  {
   "cell_type": "code",
   "execution_count": 123,
   "metadata": {},
   "outputs": [],
   "source": [
    "# title_results_fails = []\n",
    "# with open(f'../data/imdb_title_results_{date.today()}.pickle', 'rb') as file:\n",
    "#     title_results = pickle.load(file)\n",
    "\n",
    "start = 299\n",
    "end = None\n",
    "for search_dict in search_results[start:end]:\n",
    "\n",
    "    try:\n",
    "        endpoint = 'https://imdb-api.com/en/API/Title/'\n",
    "        params = {\n",
    "            'apiKey': api_key,\n",
    "            'id': search_dict['id']\n",
    "        }\n",
    "        response = requests.get(endpoint, params)\n",
    "        title_result = response.json()\n",
    "\n",
    "        title_results.append(title_result)\n",
    "    except:\n",
    "        title_results_fails.append(search_dict['title'])"
   ]
  },
  {
   "cell_type": "code",
   "execution_count": 156,
   "metadata": {},
   "outputs": [],
   "source": [
    "# with open(f'../data/imdb_title_results_{date.today()}.pickle', 'wb') as file:\n",
    "#     pickle.dump(title_results, file)"
   ]
  },
  {
   "cell_type": "markdown",
   "metadata": {},
   "source": [
    "## Get Reviews from API\n",
    "Unfortunately, these appear capped at 25."
   ]
  },
  {
   "cell_type": "code",
   "execution_count": 160,
   "metadata": {},
   "outputs": [
    {
     "data": {
      "text/plain": [
       "{'imDbId': 'tt15907298',\n",
       " 'title': 'Jim Gaffigan: Comedy Monster',\n",
       " 'fullTitle': 'Jim Gaffigan: Comedy Monster (2021)',\n",
       " 'type': 'Movie',\n",
       " 'year': '2021',\n",
       " 'items': [{'username': 'Johnny_West',\n",
       "   'userUrl': 'https://www.imdb.com/user/ur57178464',\n",
       "   'reviewLink': 'https://www.imdb.com/review/rw7694078',\n",
       "   'warningSpoilers': False,\n",
       "   'date': '27 December 2021',\n",
       "   'rate': '',\n",
       "   'helpful': '10 out of 13 found this helpful.',\n",
       "   'title': 'Not his best',\n",
       "   'content': 'I have watched every Jim Gaffigan special on Netflix. This special had its funny moments, but there were various spots where Gaffigan was not connecting, and the jokes were just observations. Not funny or unfunny, just nothing.The pandemic jokes were stale. Gaffigan also hit being overweight and his food obsessions. He does that in every comedy special. He usually has some new spin on those topics, to make it fresh and funny. This time, it sounded really tired.I can only say that there are some Gaffigan specials that I have seen many times, because they are really funny. I tried watching Comedy Monster a second time, and I had to give up. Not very funny.'},\n",
       "  {'username': 'classicsoncall',\n",
       "   'userUrl': 'https://www.imdb.com/user/ur2707735',\n",
       "   'reviewLink': 'https://www.imdb.com/review/rw7683682',\n",
       "   'warningSpoilers': True,\n",
       "   'date': '25 December 2021',\n",
       "   'rate': '7',\n",
       "   'helpful': '11 out of 15 found this helpful.',\n",
       "   'title': '\"Who\\'s your favorite billionaire-pretend astronaut?\"',\n",
       "   'content': \"Jim Gaffigan is back with another Netflix special coming from Minneapolis. His opening takes shots at the Covid pandemic and he does it in humorous fashion, something you think would be difficult but he makes it look easy. From there he riffs on parades with marching bands, organized religion, bikers, and billionaire astronauts who are 'doing it so we can too'. Parenting gets the treatment too, a topic he usually ventures into, but I was surprised he didn't skewer some of his favorite topics like eating and exercising. One he loves, the other he hates, you can figure it out. I have to say, the guy went well out of his way to get a laugh when he sat down at the piano. That was inspired. I'll admit, Gaffigan's been funnier in prior specials, but I'll still take him over the crude performances that most other stand-ups try to pass off as comedy. Every other sentence punctuated with a four letter word isn't what I tune in to watch and hear.\"},\n",
       "  {'username': 'rmmil',\n",
       "   'userUrl': 'https://www.imdb.com/user/ur78300033',\n",
       "   'reviewLink': 'https://www.imdb.com/review/rw7682918',\n",
       "   'warningSpoilers': False,\n",
       "   'date': '25 December 2021',\n",
       "   'rate': '8',\n",
       "   'helpful': '11 out of 16 found this helpful.',\n",
       "   'title': 'Has been better but still good',\n",
       "   'content': 'I can tell the pandemic was hard on Jim, like all of us.His delivery was the usual casual stroll that makes his comedy seem effortless, and he talked about relevant topics that I thought were occasionally very funny.Sometimes the bits fell a bit flat, the \"things that look like Jim\" bit went on too long and was overly repetitive. Other than that, I enjoyed this. There aren\\'t many comedians who can still make it look easy.P. S.: Just because it turns out Jim doesn\\'t necessarily mesh with your political views, doesn\\'t mean he\\'s not funny.'},\n",
       "  {'username': 'billsoccer',\n",
       "   'userUrl': 'https://www.imdb.com/user/ur48555838',\n",
       "   'reviewLink': 'https://www.imdb.com/review/rw7679826',\n",
       "   'warningSpoilers': False,\n",
       "   'date': '24 December 2021',\n",
       "   'rate': '8',\n",
       "   'helpful': '12 out of 18 found this helpful.',\n",
       "   'title': 'Funny',\n",
       "   'content': \"Couldn't believe the low ratings, so I watched it. You shouldn't believe them either. His brand of relatively clean, self-aware comedy appeals to me. He gently pokes fun at our pandemic behavior, marching bands, bikers, his wife and kids, but mostly himself.\"},\n",
       "  {'username': 'tkdlifemagazine',\n",
       "   'userUrl': 'https://www.imdb.com/user/ur88886235',\n",
       "   'reviewLink': 'https://www.imdb.com/review/rw7668533',\n",
       "   'warningSpoilers': False,\n",
       "   'date': '21 December 2021',\n",
       "   'rate': '8',\n",
       "   'helpful': '19 out of 32 found this helpful.',\n",
       "   'title': \"Gaffigan's Take on The Post Covid World\",\n",
       "   'content': \"3 hours ago Jim is a thoughtful, funny, and likable comedian. This Netflix special reflects on life during the Pandemic lockdown of 2020-2021. As always he reflects on his life as a father of 5, a husband, an entertainer, and a devote lover of food. This is an intelligent and mature comedy special. Jim does not go for the shock, or the cheap laughs. He is very self-effacing and he does it well. One of things I truly admire about him is his ability to continuously churn out good and relevant content. HIs humor is adult, and by that I don't mean sexual or blue- it is adult because his perspective lands best with people that are in relationships and can relate to the experience of kids. This one is great because it provide social commentary without political divisiveness. He is very well researched in his approach to the material; for example-he jokes about marching bands but understands them really well.\"},\n",
       "  {'username': 'genious-35413',\n",
       "   'userUrl': 'https://www.imdb.com/user/ur68335866',\n",
       "   'reviewLink': 'https://www.imdb.com/review/rw7669702',\n",
       "   'warningSpoilers': False,\n",
       "   'date': '22 December 2021',\n",
       "   'rate': '8',\n",
       "   'helpful': '16 out of 27 found this helpful.',\n",
       "   'title': \"Not 'Cringe'\",\n",
       "   'content': \"If you like well written and performed comedy, then you will like this. Gaffigan is a master and there is a reason that the guy has so many specials. While one might think you don't want to even HEAR about covid, he has a funny take on it, as well as some great material on his kids' aspirations, etc.Now... if you're another chronic compalainer who looks for things to gripe about without actually WATCHING the special... then don't. Some people look for ways to use their favorite words like 'cringe' and 'beta male' and 'cucky' - all in an effort to make themselves appear 'alpha'. And in so doing, they dismiss an entire hour+ or material as 'men bad/women great'. That's not even REMOTELY what this special is. Ignore the inane psuedo political rantings of people who continue to use the words 'cringe' as though it's an adjective. Because it isn't. No matter how often hipster posers try to use it that way.\"},\n",
       "  {'username': 'Jeremy_Urquhart',\n",
       "   'userUrl': 'https://www.imdb.com/user/ur26226712',\n",
       "   'reviewLink': 'https://www.imdb.com/review/rw7696742',\n",
       "   'warningSpoilers': False,\n",
       "   'date': '28 December 2021',\n",
       "   'rate': '5',\n",
       "   'helpful': '7 out of 11 found this helpful.',\n",
       "   'title': 'A fairly standard standup special',\n",
       "   'content': \"Provides a couple of chuckles and technically speaking he's a solidly skilled comedian, but all the joke topics are so derivative, and he doesn't really bring a new or interesting spin to the topics he tackles. Plus, his voice was sometimes a little annoying at time, but that's subjective, and also I'm a bit of a jerk.I've only seen one other Gaffigan special, and while I didn't love it, it still had more laughs than this. May check out other old specials of his when I'm next in a standup-watching mood.\"},\n",
       "  {'username': 'awuamett1984',\n",
       "   'userUrl': 'https://www.imdb.com/user/ur55410583',\n",
       "   'reviewLink': 'https://www.imdb.com/review/rw7712456',\n",
       "   'warningSpoilers': False,\n",
       "   'date': '1 January 2022',\n",
       "   'rate': '2',\n",
       "   'helpful': '12 out of 19 found this helpful.',\n",
       "   'title': 'Just not good',\n",
       "   'content': 'A very straight driven woke style special. If that\\'s your thing, poof you found a \"comedy\" special that fits your bill. I love Jim, but this special didn\\'t even get a small chuckle out of us.'},\n",
       "  {'username': 'powerfoot',\n",
       "   'userUrl': 'https://www.imdb.com/user/ur66693055',\n",
       "   'reviewLink': 'https://www.imdb.com/review/rw7672124',\n",
       "   'warningSpoilers': False,\n",
       "   'date': '22 December 2021',\n",
       "   'rate': '7',\n",
       "   'helpful': '10 out of 16 found this helpful.',\n",
       "   'title': 'Still Funny, Always Makes Me Smile',\n",
       "   'content': \"He's such a funny, intelligent and observant comedian. Always makes me laugh and smile. I love his smart clean humor. He easily transitions from different topics easily.\"},\n",
       "  {'username': 'danny-prichard',\n",
       "   'userUrl': 'https://www.imdb.com/user/ur24529767',\n",
       "   'reviewLink': 'https://www.imdb.com/review/rw7701324',\n",
       "   'warningSpoilers': False,\n",
       "   'date': '29 December 2021',\n",
       "   'rate': '1',\n",
       "   'helpful': '11 out of 22 found this helpful.',\n",
       "   'title': 'Really Bad',\n",
       "   'content': \"What happened to Gaffigan? I thought he was very funny a few years ago. Then he did that awful special on Amazon Prime. And now this hot garbage on Netflix. My wife and I used to be big Gaffigan fans and we sat through this whole special without so much as a chuckle let alone barking out a belly laugh like we did when he was in his heyday. Maybe the guy's just run out of good material but whatever the reason he's one of those comics who seems to have reached the end. I know I won't waste time on any more of his stuff.\"},\n",
       "  {'username': 'bgar-80932',\n",
       "   'userUrl': 'https://www.imdb.com/user/ur77092838',\n",
       "   'reviewLink': 'https://www.imdb.com/review/rw7770750',\n",
       "   'warningSpoilers': True,\n",
       "   'date': '18 January 2022',\n",
       "   'rate': '7',\n",
       "   'helpful': '2 out of 3 found this helpful.',\n",
       "   'title': 'Good. Not great',\n",
       "   'content': \"I'm not a huge fan of the guy but I gave it a shot randomly. I liked it. It was very relatable and focused a lot on current events such as COVID. I laughed plenty. It didn't blow me away but I didn't expect it to. I think having low expectations probably helped. Still, I can't fault the guy for that. I enjoyed myself and it was short so even if you didn't, you don't lose much. Good overall effort for the hot pocket guy.\"},\n",
       "  {'username': 'TerribleMovie',\n",
       "   'userUrl': 'https://www.imdb.com/user/ur134771402',\n",
       "   'reviewLink': 'https://www.imdb.com/review/rw7690820',\n",
       "   'warningSpoilers': False,\n",
       "   'date': '27 December 2021',\n",
       "   'rate': '2',\n",
       "   'helpful': '9 out of 18 found this helpful.',\n",
       "   'title': 'An outdoor cat who became an indoor cat.',\n",
       "   'content': 'Jim used to sneak cleverly around topics like an outdoor cat prowling along a fence looking for a snack. But this comedy feels aged like a cat who can no longer jump. Covid material is like canned tuna. Easy food for an indoor cat. Jim needs to go back to cleverly catching his prey like an outdoor cat looking for a feast.'},\n",
       "  {'username': 'apollohits',\n",
       "   'userUrl': 'https://www.imdb.com/user/ur147691724',\n",
       "   'reviewLink': 'https://www.imdb.com/review/rw7703735',\n",
       "   'warningSpoilers': False,\n",
       "   'date': '30 December 2021',\n",
       "   'rate': '2',\n",
       "   'helpful': '8 out of 13 found this helpful.',\n",
       "   'title': 'Not worth the watch',\n",
       "   'content': \"I've always held Jim Gaffigan in high regard but this special didn't even bring a chuckle out of me. Comedy is subjective so if this is your cup of tea go for it. What I extrapolated from this special was just pandering. Most of us agree with his perspective but constantly saying anti vaxxers are the worst and resorting to constant fat jokes seemed overly bland. I'm all for edgy comedy considering my favorite comedians are bill burr and Louis CK this special was just not funny in the slightest. Overall if you want a family friendly comedy special that won't make you laugh at all this is perfect for you. I just don't think he will ever live up to his old specials anymore....\"},\n",
       "  {'username': 'sewalker-12265',\n",
       "   'userUrl': 'https://www.imdb.com/user/ur98945856',\n",
       "   'reviewLink': 'https://www.imdb.com/review/rw7677732',\n",
       "   'warningSpoilers': False,\n",
       "   'date': '24 December 2021',\n",
       "   'rate': '9',\n",
       "   'helpful': '8 out of 17 found this helpful.',\n",
       "   'title': 'Really good delivery',\n",
       "   'content': 'I think it was his best special, several times he had me doubled over laughing, really good show. Target audience is early 40s with kids, it will really hit home.'},\n",
       "  {'username': 'elimelliott',\n",
       "   'userUrl': 'https://www.imdb.com/user/ur93996871',\n",
       "   'reviewLink': 'https://www.imdb.com/review/rw7721690',\n",
       "   'warningSpoilers': False,\n",
       "   'date': '4 January 2022',\n",
       "   'rate': '4',\n",
       "   'helpful': '5 out of 7 found this helpful.',\n",
       "   'title': 'Better options out there',\n",
       "   'content': \"I like Jim Gaffigan. He's not my favorite comedian by any means, but I was entertained by his previous albums. However, this special feels lazy. A lot of tired stuff here, including jokes about his weight and eating habits (which, admittedly, are Gaffigan staples) and the pandemic (maybe hard to have a fresh take when it's been, globally, a dominant discussion topic for the last two years). I got a few chuckles from the first half, but ultimately my wife and I didn't feel the need to finish it. Can't imagine the second half has more to offer.\"},\n",
       "  {'username': 'etober',\n",
       "   'userUrl': 'https://www.imdb.com/user/ur64740762',\n",
       "   'reviewLink': 'https://www.imdb.com/review/rw7671619',\n",
       "   'warningSpoilers': False,\n",
       "   'date': '22 December 2021',\n",
       "   'rate': '10',\n",
       "   'helpful': '10 out of 24 found this helpful.',\n",
       "   'title': 'Jim Gaffigan knocks em dead!',\n",
       "   'content': \"Another great show by this funny comic. He accurately and intelligently pokes fun at the pandemic and how amusing it is that the introverts are thriving and the crazy people are still in denial. He's able to acknowledge that 2021 was even worse than 2020, but he's also able to make everyone laugh about it.His set covers a wide variety of funny topics including a few classic food and sunburn Gaffigan jokes. (No spoilers!) As long as we still have Jim in this world maybe, just maybe, everything will be okay.\"},\n",
       "  {'username': 'Morpheus640',\n",
       "   'userUrl': 'https://www.imdb.com/user/ur5449018',\n",
       "   'reviewLink': 'https://www.imdb.com/review/rw7785966',\n",
       "   'warningSpoilers': False,\n",
       "   'date': '21 January 2022',\n",
       "   'rate': '4',\n",
       "   'helpful': '3 out of 5 found this helpful.',\n",
       "   'title': 'Hate to say it .',\n",
       "   'content': \"It's his worst special . I've watched his other ones multiple times and consistently laughed . Barely smirked for this one 🙁 yes hot pockets is hilarious and he can't keep doing that but the premises were weak and rambling . Sorry Jim . I hate to say it.\"},\n",
       "  {'username': 'mooveephantom',\n",
       "   'userUrl': 'https://www.imdb.com/user/ur64616618',\n",
       "   'reviewLink': 'https://www.imdb.com/review/rw8035737',\n",
       "   'warningSpoilers': False,\n",
       "   'date': '5 April 2022',\n",
       "   'rate': '7',\n",
       "   'helpful': '1 out of 1 found this helpful.',\n",
       "   'title': 'The only boo came from a butthurt golfer',\n",
       "   'content': 'Not his best special but still funny. Funny jab at the pandemic and some clever jokes about marching bands, bikers and getting old/fat. But some sections were completely unfunny and cringe. Even the audience was silent, reminding him that the jokes were overcooked and not working. His golfing bit was kinda funny. His finale joke fell flat also. Oh well, still a fan.'},\n",
       "  {'username': 'johnny6packk',\n",
       "   'userUrl': 'https://www.imdb.com/user/ur4316359',\n",
       "   'reviewLink': 'https://www.imdb.com/review/rw7670422',\n",
       "   'warningSpoilers': False,\n",
       "   'date': '22 December 2021',\n",
       "   'rate': '9',\n",
       "   'helpful': '10 out of 23 found this helpful.',\n",
       "   'title': \"Comedy gold, Jim Gaffigan's best flow lately\",\n",
       "   'content': 'Hard-hitting \"dad\" jokes with swipes at race, women and government- this is a thoroughly enjoyable special. Watch it all the way through, you won\\'t be disappointed! Very mature material but kid friendly.'},\n",
       "  {'username': 'backup-50362',\n",
       "   'userUrl': 'https://www.imdb.com/user/ur65205095',\n",
       "   'reviewLink': 'https://www.imdb.com/review/rw7674617',\n",
       "   'warningSpoilers': False,\n",
       "   'date': '23 December 2021',\n",
       "   'rate': '1',\n",
       "   'helpful': '14 out of 66 found this helpful.',\n",
       "   'title': 'Gaffigan taking down reviews and writing his own is hilarious',\n",
       "   'content': 'And that\\'s pretty much the only funny thing about this special. You\\'ll notice there aren\\'t many reviews, only a small, tiny handful, and oddly they\\'re all rating around 8. Sure, Jimmy.I\\'ll give it to Jim, at least one if his 5 fans does some superhuman stretching to claim that the words \"cucky\", \"beta\" and \"cringe\" aren\\'t relevant here.'},\n",
       "  {'username': 'cdc123',\n",
       "   'userUrl': 'https://www.imdb.com/user/ur14082856',\n",
       "   'reviewLink': 'https://www.imdb.com/review/rw7733951',\n",
       "   'warningSpoilers': False,\n",
       "   'date': '8 January 2022',\n",
       "   'rate': '3',\n",
       "   'helpful': '4 out of 9 found this helpful.',\n",
       "   'title': 'Boring',\n",
       "   'content': \"I usually enjoy Jim Gaffigan. This was probably his worst standup. I chuckled once. The jokes weren't funny and he was simply banking on his comic delivery style. This is akin to a professional chef serving you a bowl of cereal. Had to turn it off.\"},\n",
       "  {'username': 'jmeegan-97099',\n",
       "   'userUrl': 'https://www.imdb.com/user/ur114647290',\n",
       "   'reviewLink': 'https://www.imdb.com/review/rw7720659',\n",
       "   'warningSpoilers': False,\n",
       "   'date': '4 January 2022',\n",
       "   'rate': '9',\n",
       "   'helpful': '3 out of 5 found this helpful.',\n",
       "   'title': 'I enjoyed it very much',\n",
       "   'content': \"A few of the jokes didn't quite land in the beginning of the set but he really pulled it together afterwards and it was super funny. One of his best performances in my opinion. I'm a big fan of Jim Gaffigan so I may be a bit biased.\"},\n",
       "  {'username': 'lawesy-83036',\n",
       "   'userUrl': 'https://www.imdb.com/user/ur74951556',\n",
       "   'reviewLink': 'https://www.imdb.com/review/rw7782545',\n",
       "   'warningSpoilers': False,\n",
       "   'date': '20 January 2022',\n",
       "   'rate': '3',\n",
       "   'helpful': '2 out of 4 found this helpful.',\n",
       "   'title': 'Boring',\n",
       "   'content': \"Honestly about half an hour in, I realized I hadn't laughed once. Tried to call those who question Covid as tin foil hat individuals. Not a good look for a bloke who should be more concerned about heart issues. Not funny, boring and is now strealing a living has on stage.\"},\n",
       "  {'username': 'clivejamesrd',\n",
       "   'userUrl': 'https://www.imdb.com/user/ur92636609',\n",
       "   'reviewLink': 'https://www.imdb.com/review/rw7675920',\n",
       "   'warningSpoilers': False,\n",
       "   'date': '23 December 2021',\n",
       "   'rate': '1',\n",
       "   'helpful': '9 out of 40 found this helpful.',\n",
       "   'title': 'Big Pro and. . ...',\n",
       "   'content': \"A bigger con. The pro part was this show is very suspenseful. I hung on for 30 minutes in waiting for the funny bits to kick in. And wouldn't you know, there wasn't any. So while the suspense seemed enticing, the lack of stuff to laugh at made me feel conned. So one star.As far as 'spoilers' well that's impossible. You can't 'spoil' this show no matter how hard you try.\"},\n",
       "  {'username': 'Creative-Geek',\n",
       "   'userUrl': 'https://www.imdb.com/user/ur144545222',\n",
       "   'reviewLink': 'https://www.imdb.com/review/rw7747922',\n",
       "   'warningSpoilers': False,\n",
       "   'date': '12 January 2022',\n",
       "   'rate': '8',\n",
       "   'helpful': '2 out of 3 found this helpful.',\n",
       "   'title': 'The most underrated comedian in America',\n",
       "   'content': 'Jim Gaffigan doing what Jim Gaffigan does best ... creating clever, unpredictable, and hilarious content for all to enjoy. Pretty sure the low ratings are from Bikers and Cyclists whom may have felt personally attacked a bit. Lol.'}],\n",
       " 'errorMessage': ''}"
      ]
     },
     "execution_count": 160,
     "metadata": {},
     "output_type": "execute_result"
    }
   ],
   "source": [
    "endpoint = 'https://imdb-api.com/en/API/Reviews/'\n",
    "params = {\n",
    "    'apiKey': api_key,\n",
    "    'id': search_results[0]['id']\n",
    "}\n",
    "response = requests.get(endpoint, params)\n",
    "result = response.json()\n",
    "result"
   ]
  },
  {
   "cell_type": "code",
   "execution_count": 186,
   "metadata": {},
   "outputs": [],
   "source": [
    "# review_results_fails = []\n",
    "# review_results = []\n",
    "\n",
    "start = 279\n",
    "end = None\n",
    "for search_dict in search_results[start:end]:\n",
    "\n",
    "    try:\n",
    "        endpoint = 'https://imdb-api.com/en/API/Reviews/'\n",
    "        params = {\n",
    "            'apiKey': api_key,\n",
    "            'id': search_dict['id']\n",
    "        }\n",
    "        response = requests.get(endpoint, params)\n",
    "        review_result = response.json()\n",
    "\n",
    "        review_results.append(review_result)\n",
    "    except:\n",
    "        review_results_fails.append(search_dict['title'])"
   ]
  },
  {
   "cell_type": "code",
   "execution_count": 187,
   "metadata": {},
   "outputs": [
    {
     "data": {
      "text/plain": [
       "314"
      ]
     },
     "execution_count": 187,
     "metadata": {},
     "output_type": "execute_result"
    }
   ],
   "source": [
    "len(review_results)"
   ]
  },
  {
   "cell_type": "code",
   "execution_count": 188,
   "metadata": {},
   "outputs": [],
   "source": [
    "with open(f\"../data/imdb_review_results_{date.today()}\", 'wb') as file:\n",
    "    pickle.dump(review_results, file)"
   ]
  },
  {
   "cell_type": "code",
   "execution_count": 189,
   "metadata": {},
   "outputs": [
    {
     "ename": "TypeError",
     "evalue": "object of type 'NoneType' has no len()",
     "output_type": "error",
     "traceback": [
      "\u001b[1;31m---------------------------------------------------------------------------\u001b[0m",
      "\u001b[1;31mTypeError\u001b[0m                                 Traceback (most recent call last)",
      "\u001b[1;32m<ipython-input-189-45db74ad747c>\u001b[0m in \u001b[0;36m<module>\u001b[1;34m\u001b[0m\n\u001b[0;32m      1\u001b[0m \u001b[1;31m# max number of reviews is 25. this must be capped.\u001b[0m\u001b[1;33m\u001b[0m\u001b[1;33m\u001b[0m\u001b[1;33m\u001b[0m\u001b[0m\n\u001b[1;32m----> 2\u001b[1;33m \u001b[0mmax\u001b[0m\u001b[1;33m(\u001b[0m\u001b[1;33m[\u001b[0m\u001b[0mlen\u001b[0m\u001b[1;33m(\u001b[0m\u001b[0mrev_res\u001b[0m\u001b[1;33m[\u001b[0m\u001b[1;34m'items'\u001b[0m\u001b[1;33m]\u001b[0m\u001b[1;33m)\u001b[0m \u001b[1;32mfor\u001b[0m \u001b[0mrev_res\u001b[0m \u001b[1;32min\u001b[0m \u001b[0mreview_results\u001b[0m\u001b[1;33m]\u001b[0m\u001b[1;33m)\u001b[0m\u001b[1;33m\u001b[0m\u001b[1;33m\u001b[0m\u001b[0m\n\u001b[0m",
      "\u001b[1;32m<ipython-input-189-45db74ad747c>\u001b[0m in \u001b[0;36m<listcomp>\u001b[1;34m(.0)\u001b[0m\n\u001b[0;32m      1\u001b[0m \u001b[1;31m# max number of reviews is 25. this must be capped.\u001b[0m\u001b[1;33m\u001b[0m\u001b[1;33m\u001b[0m\u001b[1;33m\u001b[0m\u001b[0m\n\u001b[1;32m----> 2\u001b[1;33m \u001b[0mmax\u001b[0m\u001b[1;33m(\u001b[0m\u001b[1;33m[\u001b[0m\u001b[0mlen\u001b[0m\u001b[1;33m(\u001b[0m\u001b[0mrev_res\u001b[0m\u001b[1;33m[\u001b[0m\u001b[1;34m'items'\u001b[0m\u001b[1;33m]\u001b[0m\u001b[1;33m)\u001b[0m \u001b[1;32mfor\u001b[0m \u001b[0mrev_res\u001b[0m \u001b[1;32min\u001b[0m \u001b[0mreview_results\u001b[0m\u001b[1;33m]\u001b[0m\u001b[1;33m)\u001b[0m\u001b[1;33m\u001b[0m\u001b[1;33m\u001b[0m\u001b[0m\n\u001b[0m",
      "\u001b[1;31mTypeError\u001b[0m: object of type 'NoneType' has no len()"
     ]
    }
   ],
   "source": [
    "# max number of reviews is 25. this must be capped.\n",
    "max([len(rev_res['items']) for rev_res in review_results])"
   ]
  },
  {
   "cell_type": "markdown",
   "metadata": {},
   "source": [
    "## Try those short titles"
   ]
  },
  {
   "cell_type": "code",
   "execution_count": 195,
   "metadata": {},
   "outputs": [],
   "source": [
    "tscripts = pd.read_pickle('../data/transcripts_raw_df.pickle')\n",
    "tscripts['script characters'] = tscripts['transcript'].apply(len)\n",
    "short_tscripts = tscripts[tscripts['script characters'] < 21000]\n",
    "\n",
    "short_shows_split = short_tscripts['description'].str.split('|', expand = True)[0]\n",
    "short_show_searches =  [transcript_strip(search) for search in short_shows_split]"
   ]
  },
  {
   "cell_type": "code",
   "execution_count": 197,
   "metadata": {},
   "outputs": [],
   "source": [
    "# short_search_results = []\n",
    "# short_search_results_fails = []"
   ]
  },
  {
   "cell_type": "code",
   "execution_count": 204,
   "metadata": {},
   "outputs": [],
   "source": [
    "start = None\n",
    "end = 57\n",
    "for search in short_show_searches[start:end]:\n",
    "\n",
    "    try:\n",
    "        endpoint = 'https://imdb-api.com/en/API/SearchTitle/'\n",
    "        params = {\n",
    "            'apiKey':api_key,\n",
    "            'expression':search\n",
    "        }\n",
    "        response = requests.get(endpoint, params)\n",
    "        result = response.json()\n",
    "\n",
    "        short_search_result = result['results'][0]\n",
    "        short_search_results.append(short_search_result)\n",
    "    except:\n",
    "        short_search_results_fails.append(search)"
   ]
  },
  {
   "cell_type": "code",
   "execution_count": 212,
   "metadata": {},
   "outputs": [],
   "source": [
    "short_title_results = []\n",
    "short_title_results_fails = []\n",
    "\n",
    "for search_dict in short_search_results:\n",
    "\n",
    "    try:\n",
    "        endpoint = 'https://imdb-api.com/en/API/Title/'\n",
    "        params = {\n",
    "            'apiKey': api_key,\n",
    "            'id': search_dict['id']\n",
    "        }\n",
    "        response = requests.get(endpoint, params)\n",
    "        short_title_result = response.json()\n",
    "\n",
    "        short_title_results.append(short_title_result)\n",
    "    except:\n",
    "        short_title_results_fails.append(search_dict['title'])"
   ]
  },
  {
   "cell_type": "markdown",
   "metadata": {},
   "source": [
    "## Reconciliation"
   ]
  },
  {
   "cell_type": "code",
   "execution_count": 221,
   "metadata": {},
   "outputs": [],
   "source": [
    "empty_search_dict = dict(zip(title_results[0].keys(), [None for i in range(len(title_results[0].keys()))]))"
   ]
  },
  {
   "cell_type": "code",
   "execution_count": null,
   "metadata": {},
   "outputs": [],
   "source": [
    "for entry in short_search_results_fails:\n",
    "    ind = short_show_searches.index(entry)\n",
    "    short_title_results.insert(ind, empty_search_dict)"
   ]
  },
  {
   "cell_type": "code",
   "execution_count": 235,
   "metadata": {},
   "outputs": [],
   "source": [
    "full_title_results = title_results + short_title_results\n",
    "for entry in search_results_fails:\n",
    "    ind = show_searches.index(entry)\n",
    "    full_title_results.insert(ind, empty_search_dict)"
   ]
  },
  {
   "cell_type": "code",
   "execution_count": 234,
   "metadata": {},
   "outputs": [
    {
     "data": {
      "text/plain": [
       "57"
      ]
     },
     "execution_count": 234,
     "metadata": {},
     "output_type": "execute_result"
    }
   ],
   "source": [
    "len(short_title_results)"
   ]
  },
  {
   "cell_type": "code",
   "execution_count": 236,
   "metadata": {},
   "outputs": [
    {
     "data": {
      "text/plain": [
       "381"
      ]
     },
     "execution_count": 236,
     "metadata": {},
     "output_type": "execute_result"
    }
   ],
   "source": [
    "len(full_title_results)"
   ]
  },
  {
   "cell_type": "code",
   "execution_count": 237,
   "metadata": {},
   "outputs": [],
   "source": [
    "with open(f\"../data/imdb_full_title_results_{date.today()}.pickle\", 'wb') as file:\n",
    "    pickle.dump(full_title_results, file)"
   ]
  },
  {
   "cell_type": "code",
   "execution_count": 241,
   "metadata": {},
   "outputs": [
    {
     "data": {
      "text/html": [
       "<div>\n",
       "<style scoped>\n",
       "    .dataframe tbody tr th:only-of-type {\n",
       "        vertical-align: middle;\n",
       "    }\n",
       "\n",
       "    .dataframe tbody tr th {\n",
       "        vertical-align: top;\n",
       "    }\n",
       "\n",
       "    .dataframe thead th {\n",
       "        text-align: right;\n",
       "    }\n",
       "</style>\n",
       "<table border=\"1\" class=\"dataframe\">\n",
       "  <thead>\n",
       "    <tr style=\"text-align: right;\">\n",
       "      <th></th>\n",
       "      <th>description</th>\n",
       "      <th>link</th>\n",
       "      <th>transcript</th>\n",
       "      <th>script characters</th>\n",
       "    </tr>\n",
       "  </thead>\n",
       "  <tbody>\n",
       "    <tr>\n",
       "      <th>0</th>\n",
       "      <td>Jim Gaffigan: Comedy Monster (2021) | Transcript</td>\n",
       "      <td>https://scrapsfromtheloft.com/comedy/jim-gaffi...</td>\n",
       "      <td>Thank you! Thank you! Oh, my gosh. Thank you s...</td>\n",
       "      <td>49799</td>\n",
       "    </tr>\n",
       "    <tr>\n",
       "      <th>1</th>\n",
       "      <td>Louis C. K.: Sorry (2021) | Transcript</td>\n",
       "      <td>https://scrapsfromtheloft.com/comedy/louis-c-k...</td>\n",
       "      <td>♪♪ [“Like a Rolling Stone” by Bob Dylan playin...</td>\n",
       "      <td>44669</td>\n",
       "    </tr>\n",
       "    <tr>\n",
       "      <th>2</th>\n",
       "      <td>Drew Michael: Drew Michael (2018) | Transcript</td>\n",
       "      <td>https://scrapsfromtheloft.com/comedy/drew-mich...</td>\n",
       "      <td>“This is the latest I’ve stayed up in a long t...</td>\n",
       "      <td>40006</td>\n",
       "    </tr>\n",
       "    <tr>\n",
       "      <th>3</th>\n",
       "      <td>Drew Michael: Red Blue Green (2021) | Transcript</td>\n",
       "      <td>https://scrapsfromtheloft.com/comedy/drew-mich...</td>\n",
       "      <td>(EMOTIONAL MUSIC PLAYING) (MUSIC ENDS) DREW MI...</td>\n",
       "      <td>50422</td>\n",
       "    </tr>\n",
       "    <tr>\n",
       "      <th>4</th>\n",
       "      <td>Mo Amer: Mohammed in Texas (2021) | Transcript</td>\n",
       "      <td>https://scrapsfromtheloft.com/comedy/mo-amer-m...</td>\n",
       "      <td>[quirky flute music playing] [single note pian...</td>\n",
       "      <td>58020</td>\n",
       "    </tr>\n",
       "    <tr>\n",
       "      <th>...</th>\n",
       "      <td>...</td>\n",
       "      <td>...</td>\n",
       "      <td>...</td>\n",
       "      <td>...</td>\n",
       "    </tr>\n",
       "    <tr>\n",
       "      <th>376</th>\n",
       "      <td>NORM MACDONALD: ONE NIGHT STAND (1991) – Full ...</td>\n",
       "      <td>https://scrapsfromtheloft.com/comedy/norm-macd...</td>\n",
       "      <td>I BIT MY TONGUE Well, good to see ya- good cro...</td>\n",
       "      <td>19179</td>\n",
       "    </tr>\n",
       "    <tr>\n",
       "      <th>377</th>\n",
       "      <td>Hasan Minhaj at 2017 White House Correspondent...</td>\n",
       "      <td>https://scrapsfromtheloft.com/comedy/hasan-min...</td>\n",
       "      <td>Hasan Minhaj’s full comedy routine at the 2017...</td>\n",
       "      <td>18433</td>\n",
       "    </tr>\n",
       "    <tr>\n",
       "      <th>378</th>\n",
       "      <td>George Carlin: Seven Words You Can Never Say o...</td>\n",
       "      <td>https://scrapsfromtheloft.com/comedy/george-ca...</td>\n",
       "      <td>The original version of George Carlin’s classi...</td>\n",
       "      <td>5630</td>\n",
       "    </tr>\n",
       "    <tr>\n",
       "      <th>379</th>\n",
       "      <td>Seth Meyers at the 2011 White House Correspond...</td>\n",
       "      <td>https://scrapsfromtheloft.com/comedy/seth-meye...</td>\n",
       "      <td>In April 2011, Saturday Night Live’s Seth Meye...</td>\n",
       "      <td>16156</td>\n",
       "    </tr>\n",
       "    <tr>\n",
       "      <th>380</th>\n",
       "      <td>JIM JEFFERIES ON GUN CONTROL [FULL TRANSCRIPT]</td>\n",
       "      <td>https://scrapsfromtheloft.com/comedy/jim-jeffe...</td>\n",
       "      <td>by Jim Jefferies I’m gonna talk about somethin...</td>\n",
       "      <td>12762</td>\n",
       "    </tr>\n",
       "  </tbody>\n",
       "</table>\n",
       "<p>381 rows × 4 columns</p>\n",
       "</div>"
      ],
      "text/plain": [
       "                                           description  \\\n",
       "0     Jim Gaffigan: Comedy Monster (2021) | Transcript   \n",
       "1               Louis C. K.: Sorry (2021) | Transcript   \n",
       "2       Drew Michael: Drew Michael (2018) | Transcript   \n",
       "3     Drew Michael: Red Blue Green (2021) | Transcript   \n",
       "4       Mo Amer: Mohammed in Texas (2021) | Transcript   \n",
       "..                                                 ...   \n",
       "376  NORM MACDONALD: ONE NIGHT STAND (1991) – Full ...   \n",
       "377  Hasan Minhaj at 2017 White House Correspondent...   \n",
       "378  George Carlin: Seven Words You Can Never Say o...   \n",
       "379  Seth Meyers at the 2011 White House Correspond...   \n",
       "380     JIM JEFFERIES ON GUN CONTROL [FULL TRANSCRIPT]   \n",
       "\n",
       "                                                  link  \\\n",
       "0    https://scrapsfromtheloft.com/comedy/jim-gaffi...   \n",
       "1    https://scrapsfromtheloft.com/comedy/louis-c-k...   \n",
       "2    https://scrapsfromtheloft.com/comedy/drew-mich...   \n",
       "3    https://scrapsfromtheloft.com/comedy/drew-mich...   \n",
       "4    https://scrapsfromtheloft.com/comedy/mo-amer-m...   \n",
       "..                                                 ...   \n",
       "376  https://scrapsfromtheloft.com/comedy/norm-macd...   \n",
       "377  https://scrapsfromtheloft.com/comedy/hasan-min...   \n",
       "378  https://scrapsfromtheloft.com/comedy/george-ca...   \n",
       "379  https://scrapsfromtheloft.com/comedy/seth-meye...   \n",
       "380  https://scrapsfromtheloft.com/comedy/jim-jeffe...   \n",
       "\n",
       "                                            transcript  script characters  \n",
       "0    Thank you! Thank you! Oh, my gosh. Thank you s...              49799  \n",
       "1    ♪♪ [“Like a Rolling Stone” by Bob Dylan playin...              44669  \n",
       "2    “This is the latest I’ve stayed up in a long t...              40006  \n",
       "3    (EMOTIONAL MUSIC PLAYING) (MUSIC ENDS) DREW MI...              50422  \n",
       "4    [quirky flute music playing] [single note pian...              58020  \n",
       "..                                                 ...                ...  \n",
       "376  I BIT MY TONGUE Well, good to see ya- good cro...              19179  \n",
       "377  Hasan Minhaj’s full comedy routine at the 2017...              18433  \n",
       "378  The original version of George Carlin’s classi...               5630  \n",
       "379  In April 2011, Saturday Night Live’s Seth Meye...              16156  \n",
       "380  by Jim Jefferies I’m gonna talk about somethin...              12762  \n",
       "\n",
       "[381 rows x 4 columns]"
      ]
     },
     "execution_count": 241,
     "metadata": {},
     "output_type": "execute_result"
    }
   ],
   "source": [
    "tscripts_df_cut = pd.concat([tscripts[tscripts['script characters'] > 21000], tscripts[tscripts['script characters'] < 21000]]).reset_index(drop = True)\n",
    "tscripts_df_cut"
   ]
  },
  {
   "cell_type": "code",
   "execution_count": 242,
   "metadata": {},
   "outputs": [],
   "source": [
    "with open(f\"../data/transcripts_df_{date.today()}.pickle\", 'wb') as file:\n",
    "    pickle.dump(tscripts_df_cut, file)"
   ]
  }
 ],
 "metadata": {
  "interpreter": {
   "hash": "542466b5a324f1333f512993cba41ecf153bff5c08c85763ac424cb7f020baf3"
  },
  "kernelspec": {
   "display_name": "Python 3",
   "language": "python",
   "name": "python3"
  },
  "language_info": {
   "codemirror_mode": {
    "name": "ipython",
    "version": 3
   },
   "file_extension": ".py",
   "mimetype": "text/x-python",
   "name": "python",
   "nbconvert_exporter": "python",
   "pygments_lexer": "ipython3",
   "version": "3.8.8"
  }
 },
 "nbformat": 4,
 "nbformat_minor": 2
}
