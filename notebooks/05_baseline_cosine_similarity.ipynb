{
 "cells": [
  {
   "cell_type": "markdown",
   "id": "54a888c2",
   "metadata": {},
   "source": [
    "## Baseline Recommender: Cosine Similarity"
   ]
  },
  {
   "cell_type": "markdown",
   "id": "26ac55de",
   "metadata": {},
   "source": []
  },
  {
   "cell_type": "markdown",
   "id": "878be292",
   "metadata": {},
   "source": [
    "## import"
   ]
  },
  {
   "cell_type": "code",
   "execution_count": 1,
   "id": "80172314",
   "metadata": {},
   "outputs": [],
   "source": [
    "import pickle\n",
    "import numpy as np\n",
    "import pandas as pd\n",
    "from datetime import date\n",
    "import json\n",
    "from tqdm.notebook import tqdm\n",
    "\n",
    "import nltk\n",
    "from nltk.corpus import stopwords\n",
    "from nltk.tokenize import word_tokenize, sent_tokenize, regexp_tokenize\n",
    "import gensim\n",
    "from gensim.corpora.dictionary import Dictionary\n",
    "\n",
    "import spacy\n",
    "from sklearn.metrics.pairwise import cosine_similarity"
   ]
  },
  {
   "cell_type": "code",
   "execution_count": 2,
   "id": "5bc9db6d",
   "metadata": {},
   "outputs": [],
   "source": [
    "sw = stopwords.words(\"english\")"
   ]
  },
  {
   "cell_type": "code",
   "execution_count": 9,
   "id": "4c5fcf32",
   "metadata": {},
   "outputs": [],
   "source": [
    "with open(f'../data/metascript_df_ws.pickle', 'rb') as file:\n",
    "    metascripts = pickle.load(file)"
   ]
  },
  {
   "cell_type": "markdown",
   "id": "b7c94301",
   "metadata": {},
   "source": [
    "## prepare the data"
   ]
  },
  {
   "cell_type": "code",
   "execution_count": 11,
   "id": "a49b07ee",
   "metadata": {},
   "outputs": [],
   "source": [
    "descriptions = list(metascripts['description'].values)\n",
    "scripts = list(metascripts['transcript'].values)\n",
    "scripts_dict = dict(zip(descriptions, scripts))"
   ]
  },
  {
   "cell_type": "markdown",
   "id": "f5bf0f05",
   "metadata": {},
   "source": [
    "## calculate cosine similarities"
   ]
  },
  {
   "cell_type": "code",
   "execution_count": 15,
   "id": "d2a48891",
   "metadata": {},
   "outputs": [
    {
     "data": {
      "application/vnd.jupyter.widget-view+json": {
       "model_id": "aaf1c65bd0304a16bc5bdb281222edb4",
       "version_major": 2,
       "version_minor": 0
      },
      "text/plain": [
       "  0%|          | 0/155.0 [00:00<?, ?it/s]"
      ]
     },
     "metadata": {},
     "output_type": "display_data"
    }
   ],
   "source": [
    "def chunker(iterable, chunksize):\n",
    "    for i in range(0, len(list(iterable)), chunksize):\n",
    "        yield iterable[i:i+chunksize]\n",
    "\n",
    "def token_filter(token):\n",
    "    return not (token.is_punct | token.is_space | token.is_stop)\n",
    "\n",
    "nlp = spacy.load('en_core_web_md')\n",
    "\n",
    "filtered_tokens = []\n",
    "for scripts_subset in tqdm(chunker(scripts, 2), total = np.ceil(len(scripts)/2)):\n",
    "    for doc in nlp.pipe(scripts_subset):\n",
    "        tokens = [token.lemma_.lower() for token in doc if token_filter(token)]\n",
    "        filtered_tokens.append(tokens)"
   ]
  },
  {
   "cell_type": "code",
   "execution_count": null,
   "id": "a4ea3343",
   "metadata": {},
   "outputs": [],
   "source": [
    "tokens_no_sw = [[token for token in tokenized_script if token not in sw] for tokenized_script in filtered_tokens]"
   ]
  },
  {
   "cell_type": "code",
   "execution_count": null,
   "id": "e96e4ea9",
   "metadata": {},
   "outputs": [],
   "source": [
    "scripts_counters = {description: Counter(tokenized_script) for description, tokenized_script in zip(descriptions, tokens_no_sw)}\n",
    "scripts_df = pd.DataFrame.from_dict(scripts_counters, orient = 'index').fillna(0)"
   ]
  },
  {
   "cell_type": "code",
   "execution_count": null,
   "id": "6fe2a489",
   "metadata": {},
   "outputs": [],
   "source": [
    "scripts_df.head()"
   ]
  },
  {
   "cell_type": "code",
   "execution_count": null,
   "id": "9460cde8",
   "metadata": {},
   "outputs": [],
   "source": [
    "cosims = cosine_similarity(scripts_df)\n",
    "cosims_df = (pd.DataFrame(index=scripts_df.index, \n",
    "                          columns=scripts_df.index, \n",
    "                          data = cosims)\n",
    "                .melt(var_name='other_show', \n",
    "                      value_name='cosine_similarity', \n",
    "                      ignore_index=False)\n",
    "                .reset_index()\n",
    "                .rename(columns = {'index':'show'})\n",
    "        )"
   ]
  },
  {
   "cell_type": "code",
   "execution_count": null,
   "id": "afd98258",
   "metadata": {},
   "outputs": [],
   "source": [
    "from jupyterthemes import jtplot\n",
    "jtplot.style()\n",
    "\n",
    "sns.histplot(cosims_df.sort_values('cosine_similarity', ascending = True));"
   ]
  },
  {
   "cell_type": "code",
   "execution_count": null,
   "id": "dbea9a99",
   "metadata": {},
   "outputs": [],
   "source": [
    "(cosims_df\n",
    "         [cosims_df['show'] != cosims_df['other_show']]\n",
    "        .drop_duplicates(subset=['cosine_similarity'])\n",
    "        .sort_values('cosine_similarity', ascending = False)[:20]\n",
    ")"
   ]
  },
  {
   "cell_type": "code",
   "execution_count": null,
   "id": "f0c82c81",
   "metadata": {},
   "outputs": [],
   "source": [
    "show = 'Jim Gaffigan: Comedy Monster (2021) | Transcript'\n",
    "(cosims_df\n",
    "     [cosims_df['show'] != cosims_df['other_show']]\n",
    "     [cosims_df['show'] == show]\n",
    "     .sort_values('cosine_similarity')\n",
    ")"
   ]
  },
  {
   "cell_type": "markdown",
   "id": "5c46db33",
   "metadata": {},
   "source": [
    "## pickle cosims_df for later use"
   ]
  },
  {
   "cell_type": "code",
   "execution_count": null,
   "id": "c47d6fab",
   "metadata": {},
   "outputs": [],
   "source": [
    "with open('../data/cosims_df.pickle', 'wb') as file:\n",
    "    pickle.dump(cosims_df, file)"
   ]
  }
 ],
 "metadata": {
  "kernelspec": {
   "display_name": "Python 3",
   "language": "python",
   "name": "python3"
  },
  "language_info": {
   "codemirror_mode": {
    "name": "ipython",
    "version": 3
   },
   "file_extension": ".py",
   "mimetype": "text/x-python",
   "name": "python",
   "nbconvert_exporter": "python",
   "pygments_lexer": "ipython3",
   "version": "3.8.8"
  }
 },
 "nbformat": 4,
 "nbformat_minor": 5
}
