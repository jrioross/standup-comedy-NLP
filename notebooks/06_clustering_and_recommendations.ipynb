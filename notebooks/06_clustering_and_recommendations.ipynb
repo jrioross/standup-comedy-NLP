{
 "cells": [
  {
   "cell_type": "markdown",
   "id": "54a888c2",
   "metadata": {
    "slideshow": {
     "slide_type": "skip"
    }
   },
   "source": [
    "# Clustering and Recommendations"
   ]
  },
  {
   "cell_type": "markdown",
   "id": "26ac55de",
   "metadata": {
    "slideshow": {
     "slide_type": "skip"
    }
   },
   "source": [
    "We've made a lot of features, many of which we don't want to give equal weight. This notebook creates similarity measures for the following groupings of features:\n",
    "    - metadata\n",
    "    - words and sentences\n",
    "    - repetition\n",
    "    - profanity\n",
    "    - parts of speech\n",
    "    - point of view\n",
    "    - sentiment\n",
    "    - bag of words"
   ]
  },
  {
   "cell_type": "markdown",
   "id": "878be292",
   "metadata": {
    "slideshow": {
     "slide_type": "skip"
    }
   },
   "source": [
    "## import"
   ]
  },
  {
   "cell_type": "code",
   "execution_count": 1,
   "id": "80172314",
   "metadata": {
    "slideshow": {
     "slide_type": "skip"
    }
   },
   "outputs": [
    {
     "name": "stderr",
     "output_type": "stream",
     "text": [
      "C:\\Users\\jrior\\anaconda3\\lib\\site-packages\\scipy\\__init__.py:138: UserWarning: A NumPy version >=1.16.5 and <1.23.0 is required for this version of SciPy (detected version 1.23.0)\n",
      "  warnings.warn(f\"A NumPy version >={np_minversion} and <{np_maxversion} is required for this version of \"\n"
     ]
    }
   ],
   "source": [
    "import pickle\n",
    "import numpy as np\n",
    "import pandas as pd\n",
    "from datetime import date\n",
    "import json\n",
    "from tqdm.notebook import tqdm\n",
    "\n",
    "import matplotlib.pyplot as plt\n",
    "import seaborn as sns\n",
    "import plotly.express as px\n",
    "\n",
    "import nltk\n",
    "from nltk.corpus import stopwords\n",
    "from nltk.tokenize import word_tokenize, sent_tokenize, regexp_tokenize\n",
    "import gensim\n",
    "from gensim.corpora.dictionary import Dictionary\n",
    "\n",
    "import spacy\n",
    "from sklearn.metrics.pairwise import cosine_similarity\n",
    "from sklearn.pipeline import Pipeline\n",
    "from sklearn.preprocessing import StandardScaler"
   ]
  },
  {
   "cell_type": "code",
   "execution_count": 2,
   "id": "5bc9db6d",
   "metadata": {
    "slideshow": {
     "slide_type": "skip"
    }
   },
   "outputs": [],
   "source": [
    "sw = stopwords.words(\"english\")"
   ]
  },
  {
   "cell_type": "code",
   "execution_count": 3,
   "id": "4c5fcf32",
   "metadata": {
    "slideshow": {
     "slide_type": "skip"
    }
   },
   "outputs": [],
   "source": [
    "with open(f'../data/metascripts_df_sentiment.pickle', 'rb') as file:\n",
    "    metascripts = pickle.load(file)\n",
    "    \n",
    "with open(f'../data/metascripts_repetition_df.pickle', 'rb') as file:\n",
    "    metascripts_rep = pickle.load(file)\n",
    "    \n",
    "with open('../data/cosims_df.pickle', 'rb') as file:\n",
    "    bow_cosims = pickle.load(file)\n",
    "    \n",
    "with open('../data/pos_props_df.pickle', 'rb') as file:\n",
    "    pos_props_df = pickle.load(file)\n",
    "    \n",
    "with open('../data/pos_props_df.pickle', 'rb') as file:\n",
    "    pos_props_df = pickle.load(file)\n",
    "    \n",
    "with open('../data/pov_props_relative_df.pickle', 'rb') as file:\n",
    "    pov_props_df = pickle.load(file)"
   ]
  },
  {
   "cell_type": "markdown",
   "id": "b7c94301",
   "metadata": {
    "slideshow": {
     "slide_type": "skip"
    }
   },
   "source": [
    "## prepare the data for unsupervised learning"
   ]
  },
  {
   "cell_type": "markdown",
   "id": "c7a590cf",
   "metadata": {
    "slideshow": {
     "slide_type": "skip"
    }
   },
   "source": [
    "### bow cosims\n",
    "Use wide bag-of-words cosims dataframe in preparation for later steps"
   ]
  },
  {
   "cell_type": "code",
   "execution_count": 4,
   "id": "da923e4a",
   "metadata": {
    "slideshow": {
     "slide_type": "skip"
    }
   },
   "outputs": [
    {
     "data": {
      "text/plain": [
       "Jim Gaffigan: Comedy Monster (2021) | Transcript                     1\n",
       "Louis C. K.: Sorry (2021) | Transcript                               1\n",
       "Drew Michael: Drew Michael (2018) | Transcript                       1\n",
       "Drew Michael: Red Blue Green (2021) | Transcript                     1\n",
       "Mo Amer: Mohammed in Texas (2021) | Transcript                       1\n",
       "                                                                    ..\n",
       "GEORGE CARLIN: COMPLAINTS AND GRIEVANCES (2001) – FULL TRANSCRIPT    1\n",
       "GEORGE CARLIN: LIFE IS WORTH LOSING (2006) – Transcript              1\n",
       "George Carlin: It’s Bad For Ya (2008) Full transcript                1\n",
       "Dave Chappelle: 8:46 – Transcript                                    1\n",
       "JIM JEFFERIES ON GUN CONTROL [FULL TRANSCRIPT]                       1\n",
       "Length: 310, dtype: int64"
      ]
     },
     "execution_count": 4,
     "metadata": {},
     "output_type": "execute_result"
    }
   ],
   "source": [
    "(bow_cosims > 0.99999).sum()"
   ]
  },
  {
   "cell_type": "markdown",
   "id": "0d91faf9",
   "metadata": {
    "slideshow": {
     "slide_type": "skip"
    }
   },
   "source": [
    "### metadata\n",
    "Dummify categorical variables and combine metadata variables into one dataframe."
   ]
  },
  {
   "cell_type": "code",
   "execution_count": 5,
   "id": "dcb153e1",
   "metadata": {
    "slideshow": {
     "slide_type": "skip"
    }
   },
   "outputs": [
    {
     "data": {
      "text/html": [
       "<div>\n",
       "<style scoped>\n",
       "    .dataframe tbody tr th:only-of-type {\n",
       "        vertical-align: middle;\n",
       "    }\n",
       "\n",
       "    .dataframe tbody tr th {\n",
       "        vertical-align: top;\n",
       "    }\n",
       "\n",
       "    .dataframe thead th {\n",
       "        text-align: right;\n",
       "    }\n",
       "</style>\n",
       "<table border=\"1\" class=\"dataframe\">\n",
       "  <thead>\n",
       "    <tr style=\"text-align: right;\">\n",
       "      <th></th>\n",
       "      <th></th>\n",
       "      <th>3 Arts Entertainment</th>\n",
       "      <th>A24</th>\n",
       "      <th>Another Mulligan Entertainment</th>\n",
       "      <th>Art &amp; Industry</th>\n",
       "      <th>Attic Bedroom</th>\n",
       "      <th>BBC Comedy</th>\n",
       "      <th>Black Gold Films</th>\n",
       "      <th>Blue Wolf Productions</th>\n",
       "      <th>Brillstein Entertainment Partners</th>\n",
       "      <th>...</th>\n",
       "      <th>The Nacelle Company</th>\n",
       "      <th>Three T's Entertainment</th>\n",
       "      <th>Tiger Aspect Productions</th>\n",
       "      <th>Triage Entertainment</th>\n",
       "      <th>Universal Pictures</th>\n",
       "      <th>Universal Pictures UK</th>\n",
       "      <th>Universal Studios</th>\n",
       "      <th>Weirdass Comedy</th>\n",
       "      <th>What's Wrong with People?</th>\n",
       "      <th>e&amp;a Film Berlin</th>\n",
       "    </tr>\n",
       "  </thead>\n",
       "  <tbody>\n",
       "    <tr>\n",
       "      <th>0</th>\n",
       "      <td>0</td>\n",
       "      <td>0</td>\n",
       "      <td>0</td>\n",
       "      <td>0</td>\n",
       "      <td>0</td>\n",
       "      <td>0</td>\n",
       "      <td>0</td>\n",
       "      <td>0</td>\n",
       "      <td>0</td>\n",
       "      <td>0</td>\n",
       "      <td>...</td>\n",
       "      <td>1</td>\n",
       "      <td>0</td>\n",
       "      <td>0</td>\n",
       "      <td>0</td>\n",
       "      <td>0</td>\n",
       "      <td>0</td>\n",
       "      <td>0</td>\n",
       "      <td>0</td>\n",
       "      <td>0</td>\n",
       "      <td>0</td>\n",
       "    </tr>\n",
       "    <tr>\n",
       "      <th>1</th>\n",
       "      <td>1</td>\n",
       "      <td>0</td>\n",
       "      <td>0</td>\n",
       "      <td>0</td>\n",
       "      <td>0</td>\n",
       "      <td>0</td>\n",
       "      <td>0</td>\n",
       "      <td>0</td>\n",
       "      <td>0</td>\n",
       "      <td>0</td>\n",
       "      <td>...</td>\n",
       "      <td>0</td>\n",
       "      <td>0</td>\n",
       "      <td>0</td>\n",
       "      <td>0</td>\n",
       "      <td>0</td>\n",
       "      <td>0</td>\n",
       "      <td>0</td>\n",
       "      <td>0</td>\n",
       "      <td>0</td>\n",
       "      <td>0</td>\n",
       "    </tr>\n",
       "    <tr>\n",
       "      <th>2</th>\n",
       "      <td>0</td>\n",
       "      <td>0</td>\n",
       "      <td>0</td>\n",
       "      <td>0</td>\n",
       "      <td>0</td>\n",
       "      <td>0</td>\n",
       "      <td>0</td>\n",
       "      <td>0</td>\n",
       "      <td>0</td>\n",
       "      <td>0</td>\n",
       "      <td>...</td>\n",
       "      <td>0</td>\n",
       "      <td>0</td>\n",
       "      <td>0</td>\n",
       "      <td>0</td>\n",
       "      <td>0</td>\n",
       "      <td>0</td>\n",
       "      <td>0</td>\n",
       "      <td>0</td>\n",
       "      <td>0</td>\n",
       "      <td>0</td>\n",
       "    </tr>\n",
       "  </tbody>\n",
       "</table>\n",
       "<p>3 rows × 182 columns</p>\n",
       "</div>"
      ],
      "text/plain": [
       "       3 Arts Entertainment   A24   Another Mulligan Entertainment  \\\n",
       "0  0                      0     0                                0   \n",
       "1  1                      0     0                                0   \n",
       "2  0                      0     0                                0   \n",
       "\n",
       "    Art & Industry   Attic Bedroom   BBC Comedy   Black Gold Films  \\\n",
       "0                0               0            0                  0   \n",
       "1                0               0            0                  0   \n",
       "2                0               0            0                  0   \n",
       "\n",
       "    Blue Wolf Productions   Brillstein Entertainment Partners  ...  \\\n",
       "0                       0                                   0  ...   \n",
       "1                       0                                   0  ...   \n",
       "2                       0                                   0  ...   \n",
       "\n",
       "   The Nacelle Company  Three T's Entertainment  Tiger Aspect Productions  \\\n",
       "0                    1                        0                         0   \n",
       "1                    0                        0                         0   \n",
       "2                    0                        0                         0   \n",
       "\n",
       "   Triage Entertainment  Universal Pictures  Universal Pictures UK  \\\n",
       "0                     0                   0                      0   \n",
       "1                     0                   0                      0   \n",
       "2                     0                   0                      0   \n",
       "\n",
       "   Universal Studios  Weirdass Comedy  What's Wrong with People?  \\\n",
       "0                  0                0                          0   \n",
       "1                  0                0                          0   \n",
       "2                  0                0                          0   \n",
       "\n",
       "   e&a Film Berlin  \n",
       "0                0  \n",
       "1                0  \n",
       "2                0  \n",
       "\n",
       "[3 rows x 182 columns]"
      ]
     },
     "execution_count": 5,
     "metadata": {},
     "output_type": "execute_result"
    }
   ],
   "source": [
    "companies_dummy = pd.get_dummies(metascripts['companies'].str.split(\",\").explode()).sum(level=0)\n",
    "companies_dummy.head(3)"
   ]
  },
  {
   "cell_type": "code",
   "execution_count": 6,
   "id": "267449c4",
   "metadata": {
    "slideshow": {
     "slide_type": "skip"
    }
   },
   "outputs": [
    {
     "data": {
      "text/html": [
       "<div>\n",
       "<style scoped>\n",
       "    .dataframe tbody tr th:only-of-type {\n",
       "        vertical-align: middle;\n",
       "    }\n",
       "\n",
       "    .dataframe tbody tr th {\n",
       "        vertical-align: top;\n",
       "    }\n",
       "\n",
       "    .dataframe thead th {\n",
       "        text-align: right;\n",
       "    }\n",
       "</style>\n",
       "<table border=\"1\" class=\"dataframe\">\n",
       "  <thead>\n",
       "    <tr style=\"text-align: right;\">\n",
       "      <th></th>\n",
       "      <th>Not Rated</th>\n",
       "      <th>PG</th>\n",
       "      <th>R</th>\n",
       "      <th>TV-14</th>\n",
       "      <th>TV-G</th>\n",
       "      <th>TV-MA</th>\n",
       "      <th>TV-PG</th>\n",
       "      <th>Unrated</th>\n",
       "    </tr>\n",
       "  </thead>\n",
       "  <tbody>\n",
       "    <tr>\n",
       "      <th>0</th>\n",
       "      <td>0</td>\n",
       "      <td>0</td>\n",
       "      <td>0</td>\n",
       "      <td>1</td>\n",
       "      <td>0</td>\n",
       "      <td>0</td>\n",
       "      <td>0</td>\n",
       "      <td>0</td>\n",
       "    </tr>\n",
       "    <tr>\n",
       "      <th>1</th>\n",
       "      <td>0</td>\n",
       "      <td>0</td>\n",
       "      <td>0</td>\n",
       "      <td>0</td>\n",
       "      <td>0</td>\n",
       "      <td>0</td>\n",
       "      <td>0</td>\n",
       "      <td>0</td>\n",
       "    </tr>\n",
       "    <tr>\n",
       "      <th>2</th>\n",
       "      <td>0</td>\n",
       "      <td>0</td>\n",
       "      <td>0</td>\n",
       "      <td>0</td>\n",
       "      <td>0</td>\n",
       "      <td>1</td>\n",
       "      <td>0</td>\n",
       "      <td>0</td>\n",
       "    </tr>\n",
       "  </tbody>\n",
       "</table>\n",
       "</div>"
      ],
      "text/plain": [
       "   Not Rated  PG  R  TV-14  TV-G  TV-MA  TV-PG  Unrated\n",
       "0          0   0  0      1     0      0      0        0\n",
       "1          0   0  0      0     0      0      0        0\n",
       "2          0   0  0      0     0      1      0        0"
      ]
     },
     "execution_count": 6,
     "metadata": {},
     "output_type": "execute_result"
    }
   ],
   "source": [
    "ratings_dummy = pd.get_dummies(metascripts['contentRating'])\n",
    "ratings_dummy.head(3)"
   ]
  },
  {
   "cell_type": "code",
   "execution_count": 7,
   "id": "08be21b4",
   "metadata": {
    "slideshow": {
     "slide_type": "skip"
    }
   },
   "outputs": [],
   "source": [
    "meta_num_features = ['year', 'runtimeMins', 'imDbRating', 'imDbRatingVotes']"
   ]
  },
  {
   "cell_type": "code",
   "execution_count": 8,
   "id": "234e5b19",
   "metadata": {
    "slideshow": {
     "slide_type": "skip"
    }
   },
   "outputs": [],
   "source": [
    "metadata = pd.concat([metascripts[meta_num_features], companies_dummy, ratings_dummy], axis = 1).fillna(0)"
   ]
  },
  {
   "cell_type": "markdown",
   "id": "4d360117",
   "metadata": {
    "slideshow": {
     "slide_type": "skip"
    }
   },
   "source": [
    "### part-of-speech proportions\n",
    "These are ready for cosine similarity besides dropping SYM (symbols)."
   ]
  },
  {
   "cell_type": "code",
   "execution_count": 9,
   "id": "63b03140",
   "metadata": {
    "slideshow": {
     "slide_type": "skip"
    }
   },
   "outputs": [],
   "source": [
    "pos_props_df = pos_props_df.drop(columns = 'SYM')"
   ]
  },
  {
   "cell_type": "code",
   "execution_count": 10,
   "metadata": {},
   "outputs": [
    {
     "data": {
      "text/html": [
       "<div>\n",
       "<style scoped>\n",
       "    .dataframe tbody tr th:only-of-type {\n",
       "        vertical-align: middle;\n",
       "    }\n",
       "\n",
       "    .dataframe tbody tr th {\n",
       "        vertical-align: top;\n",
       "    }\n",
       "\n",
       "    .dataframe thead th {\n",
       "        text-align: right;\n",
       "    }\n",
       "</style>\n",
       "<table border=\"1\" class=\"dataframe\">\n",
       "  <thead>\n",
       "    <tr style=\"text-align: right;\">\n",
       "      <th></th>\n",
       "      <th>description</th>\n",
       "      <th>VERB</th>\n",
       "      <th>PRON</th>\n",
       "      <th>INTJ</th>\n",
       "      <th>NOUN</th>\n",
       "      <th>ADV</th>\n",
       "      <th>AUX</th>\n",
       "      <th>ADJ</th>\n",
       "      <th>PART</th>\n",
       "      <th>ADP</th>\n",
       "      <th>DET</th>\n",
       "      <th>SCONJ</th>\n",
       "      <th>CCONJ</th>\n",
       "      <th>PROPN</th>\n",
       "      <th>NUM</th>\n",
       "    </tr>\n",
       "  </thead>\n",
       "  <tbody>\n",
       "    <tr>\n",
       "      <th>0</th>\n",
       "      <td>Jim Gaffigan: Comedy Monster (2021) | Transcript</td>\n",
       "      <td>0.146510</td>\n",
       "      <td>0.184963</td>\n",
       "      <td>0.017147</td>\n",
       "      <td>0.145698</td>\n",
       "      <td>0.062906</td>\n",
       "      <td>0.106230</td>\n",
       "      <td>0.053673</td>\n",
       "      <td>0.037845</td>\n",
       "      <td>0.081981</td>\n",
       "      <td>0.077922</td>\n",
       "      <td>0.024046</td>\n",
       "      <td>0.027902</td>\n",
       "      <td>0.025974</td>\n",
       "      <td>0.007204</td>\n",
       "    </tr>\n",
       "    <tr>\n",
       "      <th>1</th>\n",
       "      <td>Louis C. K.: Sorry (2021) | Transcript</td>\n",
       "      <td>0.140020</td>\n",
       "      <td>0.206552</td>\n",
       "      <td>0.016381</td>\n",
       "      <td>0.133737</td>\n",
       "      <td>0.057669</td>\n",
       "      <td>0.106361</td>\n",
       "      <td>0.057556</td>\n",
       "      <td>0.039942</td>\n",
       "      <td>0.076517</td>\n",
       "      <td>0.074274</td>\n",
       "      <td>0.030405</td>\n",
       "      <td>0.029507</td>\n",
       "      <td>0.021317</td>\n",
       "      <td>0.008639</td>\n",
       "    </tr>\n",
       "    <tr>\n",
       "      <th>2</th>\n",
       "      <td>Drew Michael: Drew Michael (2018) | Transcript</td>\n",
       "      <td>0.136785</td>\n",
       "      <td>0.216978</td>\n",
       "      <td>0.043468</td>\n",
       "      <td>0.119326</td>\n",
       "      <td>0.058519</td>\n",
       "      <td>0.116918</td>\n",
       "      <td>0.053341</td>\n",
       "      <td>0.040698</td>\n",
       "      <td>0.083925</td>\n",
       "      <td>0.060566</td>\n",
       "      <td>0.027694</td>\n",
       "      <td>0.026851</td>\n",
       "      <td>0.007586</td>\n",
       "      <td>0.007345</td>\n",
       "    </tr>\n",
       "    <tr>\n",
       "      <th>3</th>\n",
       "      <td>Drew Michael: Red Blue Green (2021) | Transcript</td>\n",
       "      <td>0.140336</td>\n",
       "      <td>0.199783</td>\n",
       "      <td>0.022306</td>\n",
       "      <td>0.133947</td>\n",
       "      <td>0.055658</td>\n",
       "      <td>0.107959</td>\n",
       "      <td>0.052518</td>\n",
       "      <td>0.045479</td>\n",
       "      <td>0.087168</td>\n",
       "      <td>0.069193</td>\n",
       "      <td>0.026096</td>\n",
       "      <td>0.029020</td>\n",
       "      <td>0.021332</td>\n",
       "      <td>0.009204</td>\n",
       "    </tr>\n",
       "    <tr>\n",
       "      <th>4</th>\n",
       "      <td>Mo Amer: Mohammed in Texas (2021) | Transcript</td>\n",
       "      <td>0.134704</td>\n",
       "      <td>0.207911</td>\n",
       "      <td>0.027945</td>\n",
       "      <td>0.133917</td>\n",
       "      <td>0.061694</td>\n",
       "      <td>0.104300</td>\n",
       "      <td>0.051855</td>\n",
       "      <td>0.031388</td>\n",
       "      <td>0.085309</td>\n",
       "      <td>0.065729</td>\n",
       "      <td>0.017810</td>\n",
       "      <td>0.026567</td>\n",
       "      <td>0.041622</td>\n",
       "      <td>0.009151</td>\n",
       "    </tr>\n",
       "    <tr>\n",
       "      <th>...</th>\n",
       "      <td>...</td>\n",
       "      <td>...</td>\n",
       "      <td>...</td>\n",
       "      <td>...</td>\n",
       "      <td>...</td>\n",
       "      <td>...</td>\n",
       "      <td>...</td>\n",
       "      <td>...</td>\n",
       "      <td>...</td>\n",
       "      <td>...</td>\n",
       "      <td>...</td>\n",
       "      <td>...</td>\n",
       "      <td>...</td>\n",
       "      <td>...</td>\n",
       "      <td>...</td>\n",
       "    </tr>\n",
       "    <tr>\n",
       "      <th>305</th>\n",
       "      <td>GEORGE CARLIN: COMPLAINTS AND GRIEVANCES (2001...</td>\n",
       "      <td>0.139356</td>\n",
       "      <td>0.163515</td>\n",
       "      <td>0.011204</td>\n",
       "      <td>0.166433</td>\n",
       "      <td>0.056723</td>\n",
       "      <td>0.079132</td>\n",
       "      <td>0.063025</td>\n",
       "      <td>0.038982</td>\n",
       "      <td>0.092787</td>\n",
       "      <td>0.083217</td>\n",
       "      <td>0.018441</td>\n",
       "      <td>0.032096</td>\n",
       "      <td>0.044118</td>\n",
       "      <td>0.010854</td>\n",
       "    </tr>\n",
       "    <tr>\n",
       "      <th>306</th>\n",
       "      <td>GEORGE CARLIN: LIFE IS WORTH LOSING (2006) – T...</td>\n",
       "      <td>0.143898</td>\n",
       "      <td>0.150713</td>\n",
       "      <td>0.008538</td>\n",
       "      <td>0.181654</td>\n",
       "      <td>0.055616</td>\n",
       "      <td>0.074886</td>\n",
       "      <td>0.075748</td>\n",
       "      <td>0.035172</td>\n",
       "      <td>0.089456</td>\n",
       "      <td>0.092355</td>\n",
       "      <td>0.017233</td>\n",
       "      <td>0.037130</td>\n",
       "      <td>0.026007</td>\n",
       "      <td>0.011593</td>\n",
       "    </tr>\n",
       "    <tr>\n",
       "      <th>307</th>\n",
       "      <td>George Carlin: It’s Bad For Ya (2008) Full tra...</td>\n",
       "      <td>0.147432</td>\n",
       "      <td>0.165814</td>\n",
       "      <td>0.012886</td>\n",
       "      <td>0.154539</td>\n",
       "      <td>0.057703</td>\n",
       "      <td>0.090203</td>\n",
       "      <td>0.063578</td>\n",
       "      <td>0.039227</td>\n",
       "      <td>0.084707</td>\n",
       "      <td>0.083002</td>\n",
       "      <td>0.021508</td>\n",
       "      <td>0.032405</td>\n",
       "      <td>0.034395</td>\n",
       "      <td>0.012507</td>\n",
       "    </tr>\n",
       "    <tr>\n",
       "      <th>308</th>\n",
       "      <td>Dave Chappelle: 8:46 – Transcript</td>\n",
       "      <td>0.140195</td>\n",
       "      <td>0.181085</td>\n",
       "      <td>0.008345</td>\n",
       "      <td>0.139638</td>\n",
       "      <td>0.040890</td>\n",
       "      <td>0.091516</td>\n",
       "      <td>0.053686</td>\n",
       "      <td>0.035883</td>\n",
       "      <td>0.079555</td>\n",
       "      <td>0.088178</td>\n",
       "      <td>0.025591</td>\n",
       "      <td>0.037274</td>\n",
       "      <td>0.063421</td>\n",
       "      <td>0.014465</td>\n",
       "    </tr>\n",
       "    <tr>\n",
       "      <th>309</th>\n",
       "      <td>JIM JEFFERIES ON GUN CONTROL [FULL TRANSCRIPT]</td>\n",
       "      <td>0.154672</td>\n",
       "      <td>0.190457</td>\n",
       "      <td>0.015905</td>\n",
       "      <td>0.140358</td>\n",
       "      <td>0.051690</td>\n",
       "      <td>0.095427</td>\n",
       "      <td>0.057256</td>\n",
       "      <td>0.037376</td>\n",
       "      <td>0.081909</td>\n",
       "      <td>0.065606</td>\n",
       "      <td>0.032604</td>\n",
       "      <td>0.031014</td>\n",
       "      <td>0.029026</td>\n",
       "      <td>0.014712</td>\n",
       "    </tr>\n",
       "  </tbody>\n",
       "</table>\n",
       "<p>310 rows × 15 columns</p>\n",
       "</div>"
      ],
      "text/plain": [
       "                                           description      VERB      PRON  \\\n",
       "0     Jim Gaffigan: Comedy Monster (2021) | Transcript  0.146510  0.184963   \n",
       "1               Louis C. K.: Sorry (2021) | Transcript  0.140020  0.206552   \n",
       "2       Drew Michael: Drew Michael (2018) | Transcript  0.136785  0.216978   \n",
       "3     Drew Michael: Red Blue Green (2021) | Transcript  0.140336  0.199783   \n",
       "4       Mo Amer: Mohammed in Texas (2021) | Transcript  0.134704  0.207911   \n",
       "..                                                 ...       ...       ...   \n",
       "305  GEORGE CARLIN: COMPLAINTS AND GRIEVANCES (2001...  0.139356  0.163515   \n",
       "306  GEORGE CARLIN: LIFE IS WORTH LOSING (2006) – T...  0.143898  0.150713   \n",
       "307  George Carlin: It’s Bad For Ya (2008) Full tra...  0.147432  0.165814   \n",
       "308                  Dave Chappelle: 8:46 – Transcript  0.140195  0.181085   \n",
       "309     JIM JEFFERIES ON GUN CONTROL [FULL TRANSCRIPT]  0.154672  0.190457   \n",
       "\n",
       "         INTJ      NOUN       ADV       AUX       ADJ      PART       ADP  \\\n",
       "0    0.017147  0.145698  0.062906  0.106230  0.053673  0.037845  0.081981   \n",
       "1    0.016381  0.133737  0.057669  0.106361  0.057556  0.039942  0.076517   \n",
       "2    0.043468  0.119326  0.058519  0.116918  0.053341  0.040698  0.083925   \n",
       "3    0.022306  0.133947  0.055658  0.107959  0.052518  0.045479  0.087168   \n",
       "4    0.027945  0.133917  0.061694  0.104300  0.051855  0.031388  0.085309   \n",
       "..        ...       ...       ...       ...       ...       ...       ...   \n",
       "305  0.011204  0.166433  0.056723  0.079132  0.063025  0.038982  0.092787   \n",
       "306  0.008538  0.181654  0.055616  0.074886  0.075748  0.035172  0.089456   \n",
       "307  0.012886  0.154539  0.057703  0.090203  0.063578  0.039227  0.084707   \n",
       "308  0.008345  0.139638  0.040890  0.091516  0.053686  0.035883  0.079555   \n",
       "309  0.015905  0.140358  0.051690  0.095427  0.057256  0.037376  0.081909   \n",
       "\n",
       "          DET     SCONJ     CCONJ     PROPN       NUM  \n",
       "0    0.077922  0.024046  0.027902  0.025974  0.007204  \n",
       "1    0.074274  0.030405  0.029507  0.021317  0.008639  \n",
       "2    0.060566  0.027694  0.026851  0.007586  0.007345  \n",
       "3    0.069193  0.026096  0.029020  0.021332  0.009204  \n",
       "4    0.065729  0.017810  0.026567  0.041622  0.009151  \n",
       "..        ...       ...       ...       ...       ...  \n",
       "305  0.083217  0.018441  0.032096  0.044118  0.010854  \n",
       "306  0.092355  0.017233  0.037130  0.026007  0.011593  \n",
       "307  0.083002  0.021508  0.032405  0.034395  0.012507  \n",
       "308  0.088178  0.025591  0.037274  0.063421  0.014465  \n",
       "309  0.065606  0.032604  0.031014  0.029026  0.014712  \n",
       "\n",
       "[310 rows x 15 columns]"
      ]
     },
     "execution_count": 10,
     "metadata": {},
     "output_type": "execute_result"
    }
   ],
   "source": [
    "pos_props_df"
   ]
  },
  {
   "cell_type": "markdown",
   "id": "f64e3f23",
   "metadata": {
    "slideshow": {
     "slide_type": "skip"
    }
   },
   "source": [
    "### point-of-view proportions\n",
    "These are also ready for cosine similarity."
   ]
  },
  {
   "cell_type": "code",
   "execution_count": 11,
   "id": "0a5e5fdf",
   "metadata": {
    "slideshow": {
     "slide_type": "skip"
    }
   },
   "outputs": [
    {
     "data": {
      "text/html": [
       "<div>\n",
       "<style scoped>\n",
       "    .dataframe tbody tr th:only-of-type {\n",
       "        vertical-align: middle;\n",
       "    }\n",
       "\n",
       "    .dataframe tbody tr th {\n",
       "        vertical-align: top;\n",
       "    }\n",
       "\n",
       "    .dataframe thead th {\n",
       "        text-align: right;\n",
       "    }\n",
       "</style>\n",
       "<table border=\"1\" class=\"dataframe\">\n",
       "  <thead>\n",
       "    <tr style=\"text-align: right;\">\n",
       "      <th></th>\n",
       "      <th>description</th>\n",
       "      <th>third_person</th>\n",
       "      <th>first_person</th>\n",
       "      <th>second_person</th>\n",
       "    </tr>\n",
       "  </thead>\n",
       "  <tbody>\n",
       "    <tr>\n",
       "      <th>0</th>\n",
       "      <td>Jim Gaffigan: Comedy Monster (2021) | Transcript</td>\n",
       "      <td>0.695040</td>\n",
       "      <td>0.202955</td>\n",
       "      <td>0.102005</td>\n",
       "    </tr>\n",
       "    <tr>\n",
       "      <th>1</th>\n",
       "      <td>Louis C. K.: Sorry (2021) | Transcript</td>\n",
       "      <td>0.718351</td>\n",
       "      <td>0.179794</td>\n",
       "      <td>0.101856</td>\n",
       "    </tr>\n",
       "    <tr>\n",
       "      <th>2</th>\n",
       "      <td>Drew Michael: Drew Michael (2018) | Transcript</td>\n",
       "      <td>0.614692</td>\n",
       "      <td>0.235545</td>\n",
       "      <td>0.149763</td>\n",
       "    </tr>\n",
       "  </tbody>\n",
       "</table>\n",
       "</div>"
      ],
      "text/plain": [
       "                                        description  third_person  \\\n",
       "0  Jim Gaffigan: Comedy Monster (2021) | Transcript      0.695040   \n",
       "1            Louis C. K.: Sorry (2021) | Transcript      0.718351   \n",
       "2    Drew Michael: Drew Michael (2018) | Transcript      0.614692   \n",
       "\n",
       "   first_person  second_person  \n",
       "0      0.202955       0.102005  \n",
       "1      0.179794       0.101856  \n",
       "2      0.235545       0.149763  "
      ]
     },
     "execution_count": 11,
     "metadata": {},
     "output_type": "execute_result"
    }
   ],
   "source": [
    "pov_props_df.head(3)"
   ]
  },
  {
   "cell_type": "markdown",
   "id": "fa3c867f",
   "metadata": {
    "slideshow": {
     "slide_type": "skip"
    }
   },
   "source": [
    "### word and sentence lengths\n",
    "Select off just the relevant word and sentence features from the metascripts dataframe."
   ]
  },
  {
   "cell_type": "code",
   "execution_count": 12,
   "id": "d17526c3",
   "metadata": {
    "slideshow": {
     "slide_type": "skip"
    }
   },
   "outputs": [],
   "source": [
    "ws_features = [\n",
    "       'mean word length', 'std word length', 'max word length',\n",
    "       'mean sentence length', 'std sentence length', 'Q1.0 sentence length',\n",
    "       'Q2.0 sentence length', 'Q3.0 sentence length', 'max sentence length'\n",
    "    ]\n",
    "\n",
    "word_sentence_lengths = metascripts[ws_features]"
   ]
  },
  {
   "cell_type": "markdown",
   "metadata": {},
   "source": [
    "###  speed, uniqueness, and repetition"
   ]
  },
  {
   "cell_type": "code",
   "execution_count": 13,
   "metadata": {},
   "outputs": [],
   "source": [
    "sur_features = [\n",
    "       'unique words', 'total words', 'proportion unique words',\n",
    "       'unique words per sentence', 'words per minute', 'sentences per minute'\n",
    "]\n",
    "\n",
    "sur = pd.concat([metascripts[sur_features], metascripts_rep['threepeat proportions']], axis = 1)"
   ]
  },
  {
   "cell_type": "markdown",
   "id": "1da5006f",
   "metadata": {
    "slideshow": {
     "slide_type": "skip"
    }
   },
   "source": [
    "### profanity\n",
    "Select off just the relevant profanity features from the metascripts dataframe."
   ]
  },
  {
   "cell_type": "code",
   "execution_count": 14,
   "id": "07acd9c2",
   "metadata": {
    "slideshow": {
     "slide_type": "skip"
    }
   },
   "outputs": [],
   "source": [
    "profanity_features = ['profane count', 'profane proportion', 'profanity per sentence', 'profanity per minute']\n",
    "profanity = metascripts[profanity_features]"
   ]
  },
  {
   "cell_type": "markdown",
   "id": "91565134",
   "metadata": {
    "slideshow": {
     "slide_type": "skip"
    }
   },
   "source": [
    "### sentiment: polarity and subjectivity\n",
    "Select off just the polarity and subjectivity measures from the metascripts dataframe."
   ]
  },
  {
   "cell_type": "code",
   "execution_count": 15,
   "id": "450684e4",
   "metadata": {
    "slideshow": {
     "slide_type": "skip"
    }
   },
   "outputs": [],
   "source": [
    "sentiment_features = [\n",
    "        'polarity', 'subjectivity',\n",
    "       'mean sentence polarity', 'std sentence polarity',\n",
    "        'Q1.0 sentence polarity', 'Q3.0 sentence polarity', \n",
    "        'mean sentence subjectivity', 'std sentence subjectivity',\n",
    "        'Q2.0 sentence subjectivity', 'Q3.0 sentence subjectivity'\n",
    "    ]\n",
    "\n",
    "sentiment = metascripts[sentiment_features]"
   ]
  },
  {
   "cell_type": "markdown",
   "id": "16d3e075",
   "metadata": {
    "slideshow": {
     "slide_type": "skip"
    }
   },
   "source": [
    "### collect dataframes into a dictionary"
   ]
  },
  {
   "cell_type": "code",
   "execution_count": 16,
   "id": "8430a179",
   "metadata": {
    "slideshow": {
     "slide_type": "skip"
    }
   },
   "outputs": [],
   "source": [
    "features_dict = {\n",
    "    'metadata':metadata,\n",
    "    'pos_props':pos_props_df.drop(columns = 'description'),\n",
    "    'pov_props':pov_props_df.drop(columns = 'description'),\n",
    "    'word_sentence_lengths':word_sentence_lengths,\n",
    "    'profanity':profanity,\n",
    "    'sentiment':sentiment,\n",
    "    'sur':sur\n",
    "}"
   ]
  },
  {
   "cell_type": "code",
   "execution_count": 17,
   "metadata": {},
   "outputs": [],
   "source": [
    "with open('../data/features_dict.pickle', 'wb') as file:\n",
    "    pickle.dump(features_dict, file)"
   ]
  },
  {
   "cell_type": "markdown",
   "id": "fde32f78",
   "metadata": {
    "slideshow": {
     "slide_type": "skip"
    }
   },
   "source": [
    "## cosine similarity"
   ]
  },
  {
   "cell_type": "code",
   "execution_count": 18,
   "id": "92695d18",
   "metadata": {
    "slideshow": {
     "slide_type": "skip"
    }
   },
   "outputs": [],
   "source": [
    "from sklearn.metrics.pairwise import cosine_similarity"
   ]
  },
  {
   "cell_type": "code",
   "execution_count": 19,
   "id": "feb5c913",
   "metadata": {
    "slideshow": {
     "slide_type": "skip"
    }
   },
   "outputs": [],
   "source": [
    "def get_scaled_similarities(df):\n",
    "    scaled = StandardScaler().fit_transform(df)\n",
    "    cosims = cosine_similarity(scaled)\n",
    "    df = (pd.DataFrame(index = metascripts['description'],\n",
    "                                  columns = metascripts['description'],\n",
    "                                  data = cosims\n",
    "                    )\n",
    "         )\n",
    "    return df"
   ]
  },
  {
   "cell_type": "markdown",
   "id": "4123e577",
   "metadata": {
    "slideshow": {
     "slide_type": "skip"
    }
   },
   "source": [
    "### run get_scaled_similarities on each dataframe"
   ]
  },
  {
   "cell_type": "code",
   "execution_count": 20,
   "id": "3e05e0eb",
   "metadata": {
    "slideshow": {
     "slide_type": "skip"
    }
   },
   "outputs": [
    {
     "data": {
      "application/vnd.jupyter.widget-view+json": {
       "model_id": "15882381033546e68381d8fea4108684",
       "version_major": 2,
       "version_minor": 0
      },
      "text/plain": [
       "  0%|          | 0/7 [00:00<?, ?it/s]"
      ]
     },
     "metadata": {},
     "output_type": "display_data"
    }
   ],
   "source": [
    "feature_cosims_dict = {key: get_scaled_similarities(df) for key, df in tqdm(features_dict.items())}\n",
    "feature_cosims_dict['bow'] = bow_cosims"
   ]
  },
  {
   "cell_type": "code",
   "execution_count": 21,
   "id": "6ec0a064",
   "metadata": {
    "slideshow": {
     "slide_type": "skip"
    }
   },
   "outputs": [
    {
     "name": "stdout",
     "output_type": "stream",
     "text": [
      "metadata (310, 310) <class 'pandas.core.frame.DataFrame'>\n",
      "pos_props (310, 310) <class 'pandas.core.frame.DataFrame'>\n",
      "pov_props (310, 310) <class 'pandas.core.frame.DataFrame'>\n",
      "word_sentence_lengths (310, 310) <class 'pandas.core.frame.DataFrame'>\n",
      "profanity (310, 310) <class 'pandas.core.frame.DataFrame'>\n",
      "sentiment (310, 310) <class 'pandas.core.frame.DataFrame'>\n",
      "sur (310, 310) <class 'pandas.core.frame.DataFrame'>\n",
      "bow (310, 310) <class 'pandas.core.frame.DataFrame'>\n"
     ]
    }
   ],
   "source": [
    "for key, value in feature_cosims_dict.items():\n",
    "    print(key, value.shape, type(value))"
   ]
  },
  {
   "cell_type": "code",
   "execution_count": 22,
   "metadata": {},
   "outputs": [],
   "source": [
    "with open('../data/feature_cosims_dict.pickle', 'wb') as file:\n",
    "    pickle.dump(feature_cosims_dict, file)"
   ]
  },
  {
   "cell_type": "code",
   "execution_count": 23,
   "id": "4494bcf0",
   "metadata": {
    "slideshow": {
     "slide_type": "skip"
    }
   },
   "outputs": [
    {
     "data": {
      "text/plain": [
       "-0.1549427416275974"
      ]
     },
     "execution_count": 23,
     "metadata": {},
     "output_type": "execute_result"
    }
   ],
   "source": [
    "# checking the calculations below on (i,j) = (0,1)\n",
    "np.mean([df.to_numpy()[0,1] for df in feature_cosims_dict.values()])"
   ]
  },
  {
   "cell_type": "code",
   "execution_count": 24,
   "id": "8afe5731",
   "metadata": {
    "slideshow": {
     "slide_type": "skip"
    }
   },
   "outputs": [],
   "source": [
    "cosims_means = np.mean([df.to_numpy() for df in feature_cosims_dict.values()], axis = 0)\n",
    "cosims_means_df = pd.DataFrame(index = metascripts['description'],\n",
    "                         columns = metascripts['description'],\n",
    "                         data = cosims_means)"
   ]
  },
  {
   "cell_type": "markdown",
   "id": "2dc05890",
   "metadata": {
    "slideshow": {
     "slide_type": "skip"
    }
   },
   "source": [
    "### make cosims_means_df long"
   ]
  },
  {
   "cell_type": "code",
   "execution_count": 25,
   "id": "b5c072e9",
   "metadata": {
    "slideshow": {
     "slide_type": "skip"
    }
   },
   "outputs": [],
   "source": [
    "cosims_means_df_long = (cosims_means_df.melt(var_name = 'other description', \n",
    "                                            value_name = 'cosine similarity', \n",
    "                                            ignore_index = False)\n",
    "                                      .reset_index()\n",
    "                       )\n",
    "#cosims_means_df_long[cosims_means_df_long['cosine similarity'] != 1]"
   ]
  },
  {
   "cell_type": "code",
   "execution_count": 26,
   "id": "59fe3081",
   "metadata": {
    "slideshow": {
     "slide_type": "skip"
    }
   },
   "outputs": [],
   "source": [
    "widget_df = (cosims_means_df_long\n",
    "                .merge(metascripts[['description', 'fullTitle', 'artist']])\n",
    "                .merge(metascripts, \n",
    "                       left_on = 'other description', \n",
    "                       right_on = 'description')\n",
    "                    .rename(columns = {'description_x': 'description',\n",
    "                                       'fullTitle_x': 'fullTitle',\n",
    "                                       'fullTitle_y': 'other fullTitle',\n",
    "                                       'artist_x': 'artist',\n",
    "                                       'artist_y': 'other artist'})\n",
    "                    .drop(columns = 'description_y')\n",
    "        )"
   ]
  },
  {
   "cell_type": "code",
   "execution_count": 27,
   "id": "44e8e398",
   "metadata": {
    "slideshow": {
     "slide_type": "skip"
    }
   },
   "outputs": [],
   "source": [
    "widget_df['image html'] = widget_df['image'].apply(lambda x: f\"<img src='{x}' width='100px'>\")"
   ]
  },
  {
   "cell_type": "code",
   "execution_count": 28,
   "id": "8b3f1b52",
   "metadata": {
    "slideshow": {
     "slide_type": "skip"
    }
   },
   "outputs": [],
   "source": [
    "from ipywidgets import interact\n",
    "import ipywidgets\n",
    "from IPython.display import Image, HTML\n",
    "from random import randrange\n",
    "\n",
    "def show_df(NewArtistsOnly, Show):\n",
    "    if NewArtistsOnly:\n",
    "        filtered = widget_df[(widget_df['fullTitle'] == Show) \n",
    "                             & \n",
    "                             (\n",
    "                                 (widget_df['artist'] != widget_df['other artist']) \n",
    "                                 | \n",
    "                                 (widget_df['cosine similarity'] >= 0.9999999)\n",
    "                             )\n",
    "                            ]\n",
    "        tops = filtered.nlargest(6, 'cosine similarity')\n",
    "        bottom = filtered.nsmallest(1, 'cosine similarity')\n",
    "        topbottom = pd.concat([tops, bottom]).reset_index()\n",
    "        output_df = topbottom[['title', 'year', 'image html', 'cosine similarity']].T\n",
    "        output_df.columns = ['Selection', 'Recommendation 1', 'Recommendation 2', 'Recommendation 3', 'Recommendation 4', 'Recommendation 5', 'Something Different']\n",
    "        output_df.index = output_df.index.str.title()\n",
    "        output = HTML(output_df.to_html(escape=False))\n",
    "    else:\n",
    "        filtered = widget_df[widget_df['fullTitle'] == Show]\n",
    "        tops = filtered.nlargest(6, 'cosine similarity')\n",
    "        bottom = filtered.nsmallest(1, 'cosine similarity')\n",
    "        topbottom = pd.concat([tops, bottom]).reset_index()\n",
    "        output_df = topbottom[['title', 'year', 'image html', 'cosine similarity']].T\n",
    "        output_df.columns = ['Selection', 'Recommendation 1', 'Recommendation 2', 'Recommendation 3', 'Recommendation 4', 'Recommendation 5', 'Something Different']\n",
    "        output_df.index = output_df.index.str.title()\n",
    "        output = HTML(output_df.to_html(escape=False))\n",
    "    return output\n",
    "\n",
    "def what_should_i_watch():\n",
    "    unique_show_titles = widget_df['fullTitle'].sort_values().unique()\n",
    "    random_index = randrange(len(unique_show_titles))\n",
    "    starting_show = unique_show_titles[random_index]\n",
    "    show_selection_combobox = ipywidgets.Combobox(\n",
    "                                value=starting_show,\n",
    "                                placeholder='Start typing a show or artist',\n",
    "                                options=list(unique_show_titles),\n",
    "                                description='Select a Show',\n",
    "                                ensure_option=True,\n",
    "                                disabled=False\n",
    "                            )\n",
    "#     show_selection_widget = ipywidgets.Dropdown(\n",
    "#                                     options = unique_show_titles,\n",
    "#                                     value = starting_show,\n",
    "#                                     description = 'Select a Show',\n",
    "#                                     disabled = False,\n",
    "#                                 )\n",
    "    new_artists_filter_widget = ipywidgets.Checkbox(\n",
    "                                    value = False,\n",
    "                                    description ='Show Only Other Artists?',\n",
    "                                    disabled =False,\n",
    "                                )\n",
    "    return interact(show_df, NewArtistsOnly = new_artists_filter_widget, Show = show_selection_combobox)"
   ]
  },
  {
   "cell_type": "code",
   "execution_count": 29,
   "id": "b83bcb3c",
   "metadata": {
    "slideshow": {
     "slide_type": "slide"
    }
   },
   "outputs": [
    {
     "data": {
      "application/vnd.jupyter.widget-view+json": {
       "model_id": "a9b6b27ae541496488653acde8dc7052",
       "version_major": 2,
       "version_minor": 0
      },
      "text/plain": [
       "interactive(children=(Checkbox(value=False, description='Show Only Other Artists?'), Combobox(value='Kathleen …"
      ]
     },
     "metadata": {},
     "output_type": "display_data"
    },
    {
     "data": {
      "text/plain": [
       "<function __main__.show_df(NewArtistsOnly, Show)>"
      ]
     },
     "execution_count": 29,
     "metadata": {},
     "output_type": "execute_result"
    }
   ],
   "source": [
    "what_should_i_watch()"
   ]
  },
  {
   "cell_type": "code",
   "execution_count": 30,
   "metadata": {},
   "outputs": [
    {
     "data": {
      "text/html": [
       "<div>\n",
       "<style scoped>\n",
       "    .dataframe tbody tr th:only-of-type {\n",
       "        vertical-align: middle;\n",
       "    }\n",
       "\n",
       "    .dataframe tbody tr th {\n",
       "        vertical-align: top;\n",
       "    }\n",
       "\n",
       "    .dataframe thead th {\n",
       "        text-align: right;\n",
       "    }\n",
       "</style>\n",
       "<table border=\"1\" class=\"dataframe\">\n",
       "  <thead>\n",
       "    <tr style=\"text-align: right;\">\n",
       "      <th></th>\n",
       "      <th>description</th>\n",
       "      <th>other description</th>\n",
       "      <th>cosine similarity</th>\n",
       "    </tr>\n",
       "  </thead>\n",
       "  <tbody>\n",
       "    <tr>\n",
       "      <th>32033</th>\n",
       "      <td>Nate Bargatze: The Tennessee Kid (2019) – Full...</td>\n",
       "      <td>Nate Bargatze: The Tennessee Kid (2019) – Full...</td>\n",
       "      <td>1.000000</td>\n",
       "    </tr>\n",
       "    <tr>\n",
       "      <th>46913</th>\n",
       "      <td>Nate Bargatze: The Tennessee Kid (2019) – Full...</td>\n",
       "      <td>NIKKI GLASER: PERFECT (2016) – Full Transcript</td>\n",
       "      <td>0.804317</td>\n",
       "    </tr>\n",
       "    <tr>\n",
       "      <th>4753</th>\n",
       "      <td>Nate Bargatze: The Tennessee Kid (2019) – Full...</td>\n",
       "      <td>Nate Bargatze: The Greatest Average American (...</td>\n",
       "      <td>0.790999</td>\n",
       "    </tr>\n",
       "    <tr>\n",
       "      <th>80703</th>\n",
       "      <td>Nate Bargatze: The Tennessee Kid (2019) – Full...</td>\n",
       "      <td>BILL HICKS: REVELATIONS (1993) – FULL TRANSCRIPT</td>\n",
       "      <td>-0.561622</td>\n",
       "    </tr>\n",
       "  </tbody>\n",
       "</table>\n",
       "</div>"
      ],
      "text/plain": [
       "                                             description  \\\n",
       "32033  Nate Bargatze: The Tennessee Kid (2019) – Full...   \n",
       "46913  Nate Bargatze: The Tennessee Kid (2019) – Full...   \n",
       "4753   Nate Bargatze: The Tennessee Kid (2019) – Full...   \n",
       "80703  Nate Bargatze: The Tennessee Kid (2019) – Full...   \n",
       "\n",
       "                                       other description  cosine similarity  \n",
       "32033  Nate Bargatze: The Tennessee Kid (2019) – Full...           1.000000  \n",
       "46913     NIKKI GLASER: PERFECT (2016) – Full Transcript           0.804317  \n",
       "4753   Nate Bargatze: The Greatest Average American (...           0.790999  \n",
       "80703   BILL HICKS: REVELATIONS (1993) – FULL TRANSCRIPT          -0.561622  "
      ]
     },
     "execution_count": 30,
     "metadata": {},
     "output_type": "execute_result"
    }
   ],
   "source": [
    "# check widget output against dataframe\n",
    "widget_df[widget_df['fullTitle'] == 'Nate Bargatze: The Tennessee Kid (2019)'].sort_values('cosine similarity', ascending = False).iloc[[0,1,2,-1], 0:3]"
   ]
  },
  {
   "cell_type": "markdown",
   "id": "0b0f46f2",
   "metadata": {},
   "source": [
    "## make SQLite DB"
   ]
  },
  {
   "cell_type": "code",
   "execution_count": 31,
   "id": "62676f70",
   "metadata": {},
   "outputs": [
    {
     "data": {
      "text/plain": [
       "Index(['description', 'other description', 'cosine similarity'], dtype='object')"
      ]
     },
     "execution_count": 31,
     "metadata": {},
     "output_type": "execute_result"
    }
   ],
   "source": [
    "metacols = ['description', 'link', 'script characters', 'id',\n",
    "           'artist', 'title', 'fullTitle', 'year', 'image', 'releaseDate',\n",
    "           'runtimeMins', 'runtimeStr', 'awards', 'genres',\n",
    "           'companies', 'contentRating', 'imDbRating',\n",
    "           'imDbRatingVotes', 'similars', 'languages']\n",
    "cosims_means_df_long.columns"
   ]
  },
  {
   "cell_type": "code",
   "execution_count": 32,
   "id": "2410f32f",
   "metadata": {},
   "outputs": [
    {
     "data": {
      "text/plain": [
       "(96100, 40)"
      ]
     },
     "execution_count": 32,
     "metadata": {},
     "output_type": "execute_result"
    }
   ],
   "source": [
    "widget_df_export = (cosims_means_df_long.rename(columns = {'other description': 'description comparison'})\n",
    "                .merge(metascripts[metacols].drop(columns = 'similars'))\n",
    "                .merge(metascripts[metacols].drop(columns = 'similars'), \n",
    "                       left_on = 'description comparison', \n",
    "                       right_on = 'description',\n",
    "                       suffixes = (\" selection\", \" comparison\"))\n",
    "        )\n",
    "\n",
    "widget_df_export.shape"
   ]
  },
  {
   "cell_type": "code",
   "execution_count": 33,
   "id": "ab82829d",
   "metadata": {},
   "outputs": [
    {
     "data": {
      "text/plain": [
       "(96100, 39)"
      ]
     },
     "execution_count": 33,
     "metadata": {},
     "output_type": "execute_result"
    }
   ],
   "source": [
    "keepind = [ind for ind, col in enumerate(widget_df_export.columns) if ind != 1]\n",
    "widget_df_export = widget_df_export.iloc[:, keepind]\n",
    "widget_df_export.shape"
   ]
  },
  {
   "cell_type": "code",
   "execution_count": 34,
   "id": "d2b75b0a",
   "metadata": {},
   "outputs": [
    {
     "data": {
      "text/plain": [
       "Index(['description selection', 'cosine similarity', 'link selection',\n",
       "       'script characters selection', 'id selection', 'artist selection',\n",
       "       'title selection', 'fullTitle selection', 'year selection',\n",
       "       'image selection', 'releaseDate selection', 'runtimeMins selection',\n",
       "       'runtimeStr selection', 'awards selection', 'genres selection',\n",
       "       'companies selection', 'contentRating selection',\n",
       "       'imDbRating selection', 'imDbRatingVotes selection',\n",
       "       'languages selection', 'description comparison', 'link comparison',\n",
       "       'script characters comparison', 'id comparison', 'artist comparison',\n",
       "       'title comparison', 'fullTitle comparison', 'year comparison',\n",
       "       'image comparison', 'releaseDate comparison', 'runtimeMins comparison',\n",
       "       'runtimeStr comparison', 'awards comparison', 'genres comparison',\n",
       "       'companies comparison', 'contentRating comparison',\n",
       "       'imDbRating comparison', 'imDbRatingVotes comparison',\n",
       "       'languages comparison'],\n",
       "      dtype='object')"
      ]
     },
     "execution_count": 34,
     "metadata": {},
     "output_type": "execute_result"
    }
   ],
   "source": [
    "widget_df_export.columns"
   ]
  },
  {
   "cell_type": "code",
   "execution_count": 35,
   "id": "1c7938f2",
   "metadata": {},
   "outputs": [],
   "source": [
    "# import sqlite3\n",
    "\n",
    "# with sqlite3.connect('../StandupRecommenderShiny/data/overall_recommender_df_2.sqlite') as db:\n",
    "#     widget_df_export.to_sql('overallfull', db, if_exists = 'append', index = False)"
   ]
  },
  {
   "cell_type": "markdown",
   "id": "5c46db33",
   "metadata": {
    "slideshow": {
     "slide_type": "skip"
    }
   },
   "source": [
    "# appendix\n",
    "not for project use"
   ]
  },
  {
   "cell_type": "markdown",
   "id": "eafc2d1e",
   "metadata": {
    "slideshow": {
     "slide_type": "skip"
    }
   },
   "source": [
    "### original cosine similarity code"
   ]
  },
  {
   "cell_type": "code",
   "execution_count": 36,
   "id": "40004f5f",
   "metadata": {
    "slideshow": {
     "slide_type": "skip"
    }
   },
   "outputs": [
    {
     "ename": "NameError",
     "evalue": "name 'chunker' is not defined",
     "output_type": "error",
     "traceback": [
      "\u001b[1;31m---------------------------------------------------------------------------\u001b[0m",
      "\u001b[1;31mNameError\u001b[0m                                 Traceback (most recent call last)",
      "\u001b[1;32m<ipython-input-36-afa4a56d445f>\u001b[0m in \u001b[0;36m<module>\u001b[1;34m\u001b[0m\n\u001b[0;32m      3\u001b[0m \u001b[1;33m\u001b[0m\u001b[0m\n\u001b[0;32m      4\u001b[0m \u001b[0mfiltered_tokens\u001b[0m \u001b[1;33m=\u001b[0m \u001b[1;33m[\u001b[0m\u001b[1;33m]\u001b[0m\u001b[1;33m\u001b[0m\u001b[1;33m\u001b[0m\u001b[0m\n\u001b[1;32m----> 5\u001b[1;33m \u001b[1;32mfor\u001b[0m \u001b[0mscripts_subset\u001b[0m \u001b[1;32min\u001b[0m \u001b[0mtqdm\u001b[0m\u001b[1;33m(\u001b[0m\u001b[0mchunker\u001b[0m\u001b[1;33m(\u001b[0m\u001b[0mscripts\u001b[0m\u001b[1;33m,\u001b[0m \u001b[1;36m2\u001b[0m\u001b[1;33m)\u001b[0m\u001b[1;33m,\u001b[0m \u001b[0mtotal\u001b[0m \u001b[1;33m=\u001b[0m \u001b[0mnp\u001b[0m\u001b[1;33m.\u001b[0m\u001b[0mceil\u001b[0m\u001b[1;33m(\u001b[0m\u001b[0mlen\u001b[0m\u001b[1;33m(\u001b[0m\u001b[0mscripts\u001b[0m\u001b[1;33m)\u001b[0m\u001b[1;33m/\u001b[0m\u001b[1;36m2\u001b[0m\u001b[1;33m)\u001b[0m\u001b[1;33m)\u001b[0m\u001b[1;33m:\u001b[0m\u001b[1;33m\u001b[0m\u001b[1;33m\u001b[0m\u001b[0m\n\u001b[0m\u001b[0;32m      6\u001b[0m     \u001b[1;32mfor\u001b[0m \u001b[0mdoc\u001b[0m \u001b[1;32min\u001b[0m \u001b[0mnlp\u001b[0m\u001b[1;33m.\u001b[0m\u001b[0mpipe\u001b[0m\u001b[1;33m(\u001b[0m\u001b[0mscripts_subset\u001b[0m\u001b[1;33m)\u001b[0m\u001b[1;33m:\u001b[0m\u001b[1;33m\u001b[0m\u001b[1;33m\u001b[0m\u001b[0m\n\u001b[0;32m      7\u001b[0m         \u001b[0mtokens\u001b[0m \u001b[1;33m=\u001b[0m \u001b[1;33m[\u001b[0m\u001b[0mtoken\u001b[0m\u001b[1;33m.\u001b[0m\u001b[0mlemma_\u001b[0m\u001b[1;33m.\u001b[0m\u001b[0mlower\u001b[0m\u001b[1;33m(\u001b[0m\u001b[1;33m)\u001b[0m \u001b[1;32mfor\u001b[0m \u001b[0mtoken\u001b[0m \u001b[1;32min\u001b[0m \u001b[0mdoc\u001b[0m \u001b[1;32mif\u001b[0m \u001b[0mtoken_filter\u001b[0m\u001b[1;33m(\u001b[0m\u001b[0mtoken\u001b[0m\u001b[1;33m)\u001b[0m\u001b[1;33m]\u001b[0m\u001b[1;33m\u001b[0m\u001b[1;33m\u001b[0m\u001b[0m\n",
      "\u001b[1;31mNameError\u001b[0m: name 'chunker' is not defined"
     ]
    }
   ],
   "source": [
    "def token_filter(token):\n",
    "    return not (token.is_punct | token.is_space | token.is_stop)\n",
    "\n",
    "filtered_tokens = []\n",
    "for scripts_subset in tqdm(chunker(scripts, 2), total = np.ceil(len(scripts)/2)):\n",
    "    for doc in nlp.pipe(scripts_subset):\n",
    "        tokens = [token.lemma_.lower() for token in doc if token_filter(token)]\n",
    "        filtered_tokens.append(tokens)\n",
    "        \n",
    "tokens_no_sw = [[token for token in tokenized_script if token not in sw] for tokenized_script in filtered_tokens]\n",
    "\n",
    "scripts_counters = {description: Counter(tokenized_script) for description, tokenized_script in zip(descriptions, tokens_no_sw)}\n",
    "scripts_df = pd.DataFrame.from_dict(scripts_counters, orient = 'index').fillna(0)\n",
    "\n",
    "cosims = cosine_similarity(scripts_df)\n",
    "cosims_df = (pd.DataFrame(index=scripts_df.index, \n",
    "                          columns=scripts_df.index, \n",
    "                          data = cosims)\n",
    "                .melt(var_name='other_show', \n",
    "                      value_name='cosine_similarity', \n",
    "                      ignore_index=False)\n",
    "                .reset_index()\n",
    "                .rename(columns = {'index':'show'})\n",
    "        )"
   ]
  },
  {
   "cell_type": "markdown",
   "id": "cf763612",
   "metadata": {
    "slideshow": {
     "slide_type": "skip"
    }
   },
   "source": [
    "### render image or thumbnail"
   ]
  },
  {
   "cell_type": "code",
   "execution_count": null,
   "id": "af163bd8",
   "metadata": {
    "slideshow": {
     "slide_type": "skip"
    }
   },
   "outputs": [],
   "source": [
    "from IPython.display import Image, HTML\n",
    "\n",
    "#HTML(metascripts.loc[:5,['image']].to_html(escape = False))\n",
    "Image(url= f\"{metascripts.loc[0,'image']}\")"
   ]
  },
  {
   "cell_type": "markdown",
   "id": "cbb56c2b",
   "metadata": {
    "slideshow": {
     "slide_type": "skip"
    }
   },
   "source": [
    "### kmeans clustering"
   ]
  },
  {
   "cell_type": "code",
   "execution_count": null,
   "id": "49718d45",
   "metadata": {
    "slideshow": {
     "slide_type": "skip"
    }
   },
   "outputs": [],
   "source": [
    "from sklearn.cluster import KMeans\n",
    "from sklearn.metrics import silhouette_samples, silhouette_score\n",
    "from jupyterthemes import jtplot\n",
    "jtplot.style()"
   ]
  },
  {
   "cell_type": "code",
   "execution_count": null,
   "id": "32984fdf",
   "metadata": {
    "slideshow": {
     "slide_type": "skip"
    }
   },
   "outputs": [],
   "source": [
    "inertias = []\n",
    "sil_scores = []\n",
    "max_clusters = 60\n",
    "for n_clusters in tqdm(range(2, max_clusters+1)):\n",
    "    \n",
    "    pipeline = Pipeline(\n",
    "        steps = [\n",
    "            ('scaler', StandardScaler()),\n",
    "            ('cluster', KMeans(n_clusters = n_clusters))\n",
    "        ]\n",
    "    )\n",
    "\n",
    "    pipeline.fit(metascripts[features])\n",
    "    inertias.append(pipeline['cluster'].inertia_)\n",
    "\n",
    "    \n",
    "    features_scaled = pipeline['scaler'].transform(metascripts[features])\n",
    "    features_clusters = pipeline.predict(metascripts[features])\n",
    "    sil_score = silhouette_score(features_scaled, features_clusters)\n",
    "    sil_scores.append(sil_score)\n",
    "        \n",
    "fig, (ax1, ax2) = plt.subplots(1, 2, figsize = (20,6))\n",
    "\n",
    "ax1.plot(range(2, max_clusters + 1), inertias)\n",
    "ax1.scatter(range(2, max_clusters + 1), inertias, s = 100)\n",
    "ax1.set_xlabel(\"number of clusters\")\n",
    "ax1.set_ylabel(\"inertia\")\n",
    "ax1.set_title(\"inertia by kmeans cluster size\")\n",
    "\n",
    "ax2.plot(range(2, max_clusters + 1), sil_scores)\n",
    "ax2.scatter(range(2, max_clusters + 1), sil_scores, s = 100)\n",
    "ax2.set_xlabel(\"number of clusters\")\n",
    "ax2.set_ylabel(\"silhoutte score\")\n",
    "ax2.set_title(\"silhouette score by kmeans cluster size\");"
   ]
  },
  {
   "cell_type": "code",
   "execution_count": null,
   "id": "3b15d3a0",
   "metadata": {
    "slideshow": {
     "slide_type": "skip"
    }
   },
   "outputs": [],
   "source": [
    "n_clusters = 39\n",
    "    \n",
    "pipeline = Pipeline(\n",
    "    steps = [\n",
    "        ('scaler', StandardScaler()),\n",
    "        ('cluster', KMeans(n_clusters = n_clusters))\n",
    "    ]\n",
    ")\n",
    "\n",
    "pipeline.fit(metascripts[features])\n",
    "inertias.append(pipeline['cluster'].inertia_)\n",
    "\n",
    "\n",
    "features_scaled = pipeline['scaler'].transform(metascripts[features])\n",
    "features_clusters = pipeline.predict(metascripts[features])\n",
    "sil_score = silhouette_score(features_scaled, features_clusters)\n",
    "sil_scores.append(sil_score)\n",
    "\n",
    "i = 13\n",
    "j = 19\n",
    "\n",
    "plt.figure(figsize = (10,6))\n",
    "sns.scatterplot(data = metascripts[features],\n",
    "               x = features[i],\n",
    "               y = features[j],\n",
    "               hue = pipeline[1].labels_)\n",
    "\n",
    "sns.scatterplot(x = pipeline['scaler'].inverse_transform(pipeline['cluster'].cluster_centers_)[:,i],\n",
    "                y = pipeline['scaler'].inverse_transform(pipeline['cluster'].cluster_centers_)[:,j],\n",
    "                s = 500, \n",
    "                hue = list(range(n_clusters)), \n",
    "                marker = 'D',\n",
    "                legend = False);"
   ]
  },
  {
   "cell_type": "markdown",
   "metadata": {},
   "source": [
    "## run Louvain algorithm on cosine similarities"
   ]
  },
  {
   "cell_type": "code",
   "execution_count": null,
   "metadata": {},
   "outputs": [],
   "source": [
    "import community as community_louvain\n",
    "import matplotlib.cm as cm\n",
    "import matplotlib.pyplot as plt\n",
    "import networkx as nx"
   ]
  },
  {
   "cell_type": "code",
   "execution_count": null,
   "metadata": {},
   "outputs": [],
   "source": [
    "graph_df = (widget_df_export.loc[widget_df_export['cosine similarity'] < 0.99999, ['description selection', 'description comparison', 'cosine similarity']]\n",
    "                            .sort_values(['cosine similarity', 'description comparison'], ascending = False)\n",
    "                            .drop_duplicates(subset = 'cosine similarity', keep = 'first')\n",
    "        )\n",
    "\n",
    "#G = nx.Graph()\n",
    "G = nx.from_pandas_edgelist(graph_df, \n",
    "                        'description selection', \n",
    "                        'description comparison', \n",
    "                        edge_attr='cosine similarity')\n",
    "\n",
    "len(G.nodes())"
   ]
  },
  {
   "cell_type": "code",
   "execution_count": null,
   "metadata": {},
   "outputs": [],
   "source": [
    "graph_df.to_csv('../data/graph_df.csv', index = False) # for Neo4J"
   ]
  },
  {
   "cell_type": "markdown",
   "metadata": {},
   "source": [
    "note that these weights failed in Python but ran in Neo4J's Louvain algorithm. I'll filter out negative weights below and then check python's Louvain."
   ]
  },
  {
   "cell_type": "markdown",
   "metadata": {},
   "source": [
    "## run Louvain without negative weights"
   ]
  },
  {
   "cell_type": "code",
   "execution_count": null,
   "metadata": {},
   "outputs": [],
   "source": [
    "graph_df = (widget_df_export.loc[widget_df_export['cosine similarity'].between(0, 0.99999), ['description selection', 'description comparison', 'cosine similarity']]\n",
    "                            .sort_values(['cosine similarity', 'description comparison'], ascending = False)\n",
    "                            .drop_duplicates(subset = 'cosine similarity', keep = 'first')\n",
    "        )\n",
    "\n",
    "#G = nx.Graph()\n",
    "G = nx.from_pandas_edgelist(graph_df, \n",
    "                        'description selection', \n",
    "                        'description comparison', \n",
    "                        edge_attr='cosine similarity')\n",
    "\n",
    "len(G.nodes())"
   ]
  },
  {
   "cell_type": "code",
   "execution_count": null,
   "metadata": {},
   "outputs": [],
   "source": [
    "communities = community_louvain.best_partition(G, weight = 'cosine similarity')"
   ]
  },
  {
   "cell_type": "code",
   "execution_count": null,
   "metadata": {},
   "outputs": [],
   "source": [
    "communities_values = [communities.get(node) for node in tqdm(graph_df['description selection'])]\n",
    "graph_df['community selection'] = communities_values"
   ]
  },
  {
   "cell_type": "code",
   "execution_count": null,
   "metadata": {},
   "outputs": [],
   "source": [
    "graph_df['community selection'].value_counts(normalize = True)"
   ]
  },
  {
   "cell_type": "code",
   "execution_count": null,
   "metadata": {},
   "outputs": [],
   "source": [
    "# draw the graph\n",
    "pos = nx.spring_layout(G)\n",
    "# color the nodes according to their partition\n",
    "cmap = cm.get_cmap('viridis', max(communities.values()) + 1)\n",
    "nx.draw_networkx_nodes(G, pos, communities.keys(), node_size=40,\n",
    "                       cmap=cmap, node_color=list(communities.values()))\n",
    "nx.draw_networkx_edges(G, pos, alpha=0.5)\n",
    "plt.show()"
   ]
  }
 ],
 "metadata": {
  "kernelspec": {
   "display_name": "Python 3",
   "language": "python",
   "name": "python3"
  },
  "language_info": {
   "codemirror_mode": {
    "name": "ipython",
    "version": 3
   },
   "file_extension": ".py",
   "mimetype": "text/x-python",
   "name": "python",
   "nbconvert_exporter": "python",
   "pygments_lexer": "ipython3",
   "version": "3.8.8"
  }
 },
 "nbformat": 4,
 "nbformat_minor": 5
}
