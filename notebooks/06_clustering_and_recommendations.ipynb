{
 "cells": [
  {
   "cell_type": "markdown",
   "id": "54a888c2",
   "metadata": {
    "slideshow": {
     "slide_type": "skip"
    }
   },
   "source": [
    "# Clustering and Recommendations"
   ]
  },
  {
   "cell_type": "markdown",
   "id": "26ac55de",
   "metadata": {
    "slideshow": {
     "slide_type": "skip"
    }
   },
   "source": [
    "We've made a lot of features, many of which we don't want to give equal weight. This notebook creates similarity measures for the following groupings of features:\n",
    "    - metadata\n",
    "    - words and sentences\n",
    "    - repetition\n",
    "    - profanity\n",
    "    - parts of speech\n",
    "    - point of view\n",
    "    - sentiment\n",
    "    - bag of words"
   ]
  },
  {
   "cell_type": "markdown",
   "id": "878be292",
   "metadata": {
    "slideshow": {
     "slide_type": "skip"
    }
   },
   "source": [
    "## import"
   ]
  },
  {
   "cell_type": "code",
   "execution_count": 425,
   "id": "80172314",
   "metadata": {
    "slideshow": {
     "slide_type": "skip"
    }
   },
   "outputs": [],
   "source": [
    "import pickle\n",
    "import numpy as np\n",
    "import pandas as pd\n",
    "from datetime import date\n",
    "import json\n",
    "from tqdm.notebook import tqdm\n",
    "\n",
    "import matplotlib.pyplot as plt\n",
    "import seaborn as sns\n",
    "import plotly.express as px\n",
    "\n",
    "import nltk\n",
    "from nltk.corpus import stopwords\n",
    "from nltk.tokenize import word_tokenize, sent_tokenize, regexp_tokenize\n",
    "import gensim\n",
    "from gensim.corpora.dictionary import Dictionary\n",
    "\n",
    "import spacy\n",
    "from sklearn.metrics.pairwise import cosine_similarity\n",
    "from sklearn.pipeline import Pipeline\n",
    "from sklearn.preprocessing import StandardScaler"
   ]
  },
  {
   "cell_type": "code",
   "execution_count": 426,
   "id": "5bc9db6d",
   "metadata": {
    "slideshow": {
     "slide_type": "skip"
    }
   },
   "outputs": [],
   "source": [
    "sw = stopwords.words(\"english\")"
   ]
  },
  {
   "cell_type": "code",
   "execution_count": 427,
   "id": "4c5fcf32",
   "metadata": {
    "slideshow": {
     "slide_type": "skip"
    }
   },
   "outputs": [],
   "source": [
    "with open(f'../data/metascripts_df_sentiment.pickle', 'rb') as file:\n",
    "    metascripts = pickle.load(file)\n",
    "    \n",
    "with open(f'../data/metascripts_repetition_df.pickle', 'rb') as file:\n",
    "    metascripts_rep = pickle.load(file)\n",
    "    \n",
    "with open('../data/cosims_df.pickle', 'rb') as file:\n",
    "    bow_cosims_long = pickle.load(file)\n",
    "    \n",
    "with open('../data/pos_props_df.pickle', 'rb') as file:\n",
    "    pos_props_df = pickle.load(file)\n",
    "    \n",
    "with open('../data/pos_props_df.pickle', 'rb') as file:\n",
    "    pos_props_df = pickle.load(file)\n",
    "    \n",
    "with open('../data/pov_props_relative_df.pickle', 'rb') as file:\n",
    "    pov_props_df = pickle.load(file)"
   ]
  },
  {
   "cell_type": "markdown",
   "id": "b7c94301",
   "metadata": {
    "slideshow": {
     "slide_type": "skip"
    }
   },
   "source": [
    "## prepare the data for unsupervised learning"
   ]
  },
  {
   "cell_type": "markdown",
   "id": "13425ff6",
   "metadata": {
    "slideshow": {
     "slide_type": "skip"
    }
   },
   "source": [
    "### bow cosims\n",
    "Widen the bag-of-words cosims dataframe in preparation for later steps"
   ]
  },
  {
   "cell_type": "code",
   "execution_count": 428,
   "id": "c9e128f4",
   "metadata": {
    "slideshow": {
     "slide_type": "skip"
    }
   },
   "outputs": [
    {
     "data": {
      "text/html": [
       "<div>\n",
       "<style scoped>\n",
       "    .dataframe tbody tr th:only-of-type {\n",
       "        vertical-align: middle;\n",
       "    }\n",
       "\n",
       "    .dataframe tbody tr th {\n",
       "        vertical-align: top;\n",
       "    }\n",
       "\n",
       "    .dataframe thead th {\n",
       "        text-align: right;\n",
       "    }\n",
       "</style>\n",
       "<table border=\"1\" class=\"dataframe\">\n",
       "  <thead>\n",
       "    <tr style=\"text-align: right;\">\n",
       "      <th>other_show</th>\n",
       "      <th>ADEL KARAM: LIVE FROM BEIRUT (2018) – Full Transcript</th>\n",
       "      <th>AL MADRIGAL: WHY IS THE RABBIT CRYING? (2013) – Full Transcript</th>\n",
       "      <th>ALI WONG: BABY COBRA (2016) – Full Transcript</th>\n",
       "      <th>AMY SCHUMER: LIVE AT THE APOLLO (2015) – Full Transcript</th>\n",
       "      <th>AMY SCHUMER: MOSTLY SEX STUFF (2012) – Full Transcript</th>\n",
       "      <th>AMY SCHUMER: THE LEATHER SPECIAL (2017) – Full Transcript</th>\n",
       "      <th>ANTHONY JESELNIK: CALIGULA (2013) – Full Transcript</th>\n",
       "      <th>ARI SHAFFIR: DOUBLE NEGATIVE (2017) – Full Transcript</th>\n",
       "      <th>AZIZ ANSARI: BURIED ALIVE (2013) – Full Transcript</th>\n",
       "      <th>AZIZ ANSARI: INTIMATE MOMENTS FOR A SENSUAL EVENING (2010) – Full Transcript</th>\n",
       "      <th>...</th>\n",
       "      <th>Trevor Noah: Lost In Translation (2015) – Transcript</th>\n",
       "      <th>Trevor Noah: Son of Patricia (2018) – Transcript</th>\n",
       "      <th>URZILA CARLSON: OVERQUALIFIED LOSER (2020) – FULL TRANSCRIPT</th>\n",
       "      <th>Vir Das: Losing It (2018) – Full Transcript</th>\n",
       "      <th>Vir Das: Outside in – The Lockdown Special (2020) – Transcript</th>\n",
       "      <th>W. Kamau Bell: Private School Negro (2018) – Transcript</th>\n",
       "      <th>WHITNEY CUMMINGS: I LOVE YOU (2014) – Full Transcript</th>\n",
       "      <th>WHITNEY CUMMINGS: I’M YOUR GIRLFRIEND (2016) – Full Transcript</th>\n",
       "      <th>Wanda Sykes: Not Normal (2019) – Full Transcript</th>\n",
       "      <th>Whitney Cummings: Can I Touch It? (2019) – Full Transcript</th>\n",
       "    </tr>\n",
       "    <tr>\n",
       "      <th>show</th>\n",
       "      <th></th>\n",
       "      <th></th>\n",
       "      <th></th>\n",
       "      <th></th>\n",
       "      <th></th>\n",
       "      <th></th>\n",
       "      <th></th>\n",
       "      <th></th>\n",
       "      <th></th>\n",
       "      <th></th>\n",
       "      <th></th>\n",
       "      <th></th>\n",
       "      <th></th>\n",
       "      <th></th>\n",
       "      <th></th>\n",
       "      <th></th>\n",
       "      <th></th>\n",
       "      <th></th>\n",
       "      <th></th>\n",
       "      <th></th>\n",
       "      <th></th>\n",
       "    </tr>\n",
       "  </thead>\n",
       "  <tbody>\n",
       "    <tr>\n",
       "      <th>ADEL KARAM: LIVE FROM BEIRUT (2018) – Full Transcript</th>\n",
       "      <td>1.00000</td>\n",
       "      <td>0.637180</td>\n",
       "      <td>0.580570</td>\n",
       "      <td>0.472188</td>\n",
       "      <td>0.528584</td>\n",
       "      <td>0.560597</td>\n",
       "      <td>0.642047</td>\n",
       "      <td>0.610471</td>\n",
       "      <td>0.605022</td>\n",
       "      <td>0.594237</td>\n",
       "      <td>...</td>\n",
       "      <td>0.617380</td>\n",
       "      <td>0.661296</td>\n",
       "      <td>0.599753</td>\n",
       "      <td>0.580962</td>\n",
       "      <td>0.570944</td>\n",
       "      <td>0.581046</td>\n",
       "      <td>0.597501</td>\n",
       "      <td>0.567306</td>\n",
       "      <td>0.565989</td>\n",
       "      <td>0.620437</td>\n",
       "    </tr>\n",
       "    <tr>\n",
       "      <th>AL MADRIGAL: WHY IS THE RABBIT CRYING? (2013) – Full Transcript</th>\n",
       "      <td>0.63718</td>\n",
       "      <td>1.000000</td>\n",
       "      <td>0.712771</td>\n",
       "      <td>0.568824</td>\n",
       "      <td>0.631640</td>\n",
       "      <td>0.683177</td>\n",
       "      <td>0.727761</td>\n",
       "      <td>0.781330</td>\n",
       "      <td>0.788488</td>\n",
       "      <td>0.736362</td>\n",
       "      <td>...</td>\n",
       "      <td>0.700322</td>\n",
       "      <td>0.730040</td>\n",
       "      <td>0.747992</td>\n",
       "      <td>0.678442</td>\n",
       "      <td>0.703266</td>\n",
       "      <td>0.711836</td>\n",
       "      <td>0.698133</td>\n",
       "      <td>0.694959</td>\n",
       "      <td>0.728826</td>\n",
       "      <td>0.743366</td>\n",
       "    </tr>\n",
       "    <tr>\n",
       "      <th>ALI WONG: BABY COBRA (2016) – Full Transcript</th>\n",
       "      <td>0.58057</td>\n",
       "      <td>0.712771</td>\n",
       "      <td>1.000000</td>\n",
       "      <td>0.740281</td>\n",
       "      <td>0.771043</td>\n",
       "      <td>0.789783</td>\n",
       "      <td>0.710471</td>\n",
       "      <td>0.811513</td>\n",
       "      <td>0.796769</td>\n",
       "      <td>0.785096</td>\n",
       "      <td>...</td>\n",
       "      <td>0.745236</td>\n",
       "      <td>0.748159</td>\n",
       "      <td>0.753453</td>\n",
       "      <td>0.704281</td>\n",
       "      <td>0.774609</td>\n",
       "      <td>0.761718</td>\n",
       "      <td>0.780945</td>\n",
       "      <td>0.783674</td>\n",
       "      <td>0.794071</td>\n",
       "      <td>0.744459</td>\n",
       "    </tr>\n",
       "  </tbody>\n",
       "</table>\n",
       "<p>3 rows × 310 columns</p>\n",
       "</div>"
      ],
      "text/plain": [
       "other_show                                          ADEL KARAM: LIVE FROM BEIRUT (2018) – Full Transcript  \\\n",
       "show                                                                                                        \n",
       "ADEL KARAM: LIVE FROM BEIRUT (2018) – Full Tran...                                            1.00000       \n",
       "AL MADRIGAL: WHY IS THE RABBIT CRYING? (2013) –...                                            0.63718       \n",
       "ALI WONG: BABY COBRA (2016) – Full Transcript                                                 0.58057       \n",
       "\n",
       "other_show                                          AL MADRIGAL: WHY IS THE RABBIT CRYING? (2013) – Full Transcript  \\\n",
       "show                                                                                                                  \n",
       "ADEL KARAM: LIVE FROM BEIRUT (2018) – Full Tran...                                           0.637180                 \n",
       "AL MADRIGAL: WHY IS THE RABBIT CRYING? (2013) –...                                           1.000000                 \n",
       "ALI WONG: BABY COBRA (2016) – Full Transcript                                                0.712771                 \n",
       "\n",
       "other_show                                          ALI WONG: BABY COBRA (2016) – Full Transcript  \\\n",
       "show                                                                                                \n",
       "ADEL KARAM: LIVE FROM BEIRUT (2018) – Full Tran...                                       0.580570   \n",
       "AL MADRIGAL: WHY IS THE RABBIT CRYING? (2013) –...                                       0.712771   \n",
       "ALI WONG: BABY COBRA (2016) – Full Transcript                                            1.000000   \n",
       "\n",
       "other_show                                          AMY SCHUMER: LIVE AT THE APOLLO (2015) – Full Transcript  \\\n",
       "show                                                                                                           \n",
       "ADEL KARAM: LIVE FROM BEIRUT (2018) – Full Tran...                                           0.472188          \n",
       "AL MADRIGAL: WHY IS THE RABBIT CRYING? (2013) –...                                           0.568824          \n",
       "ALI WONG: BABY COBRA (2016) – Full Transcript                                                0.740281          \n",
       "\n",
       "other_show                                          AMY SCHUMER: MOSTLY SEX STUFF (2012) – Full Transcript  \\\n",
       "show                                                                                                         \n",
       "ADEL KARAM: LIVE FROM BEIRUT (2018) – Full Tran...                                           0.528584        \n",
       "AL MADRIGAL: WHY IS THE RABBIT CRYING? (2013) –...                                           0.631640        \n",
       "ALI WONG: BABY COBRA (2016) – Full Transcript                                                0.771043        \n",
       "\n",
       "other_show                                          AMY SCHUMER: THE LEATHER SPECIAL (2017) – Full Transcript  \\\n",
       "show                                                                                                            \n",
       "ADEL KARAM: LIVE FROM BEIRUT (2018) – Full Tran...                                           0.560597           \n",
       "AL MADRIGAL: WHY IS THE RABBIT CRYING? (2013) –...                                           0.683177           \n",
       "ALI WONG: BABY COBRA (2016) – Full Transcript                                                0.789783           \n",
       "\n",
       "other_show                                          ANTHONY JESELNIK: CALIGULA (2013) – Full Transcript  \\\n",
       "show                                                                                                      \n",
       "ADEL KARAM: LIVE FROM BEIRUT (2018) – Full Tran...                                           0.642047     \n",
       "AL MADRIGAL: WHY IS THE RABBIT CRYING? (2013) –...                                           0.727761     \n",
       "ALI WONG: BABY COBRA (2016) – Full Transcript                                                0.710471     \n",
       "\n",
       "other_show                                          ARI SHAFFIR: DOUBLE NEGATIVE (2017) – Full Transcript  \\\n",
       "show                                                                                                        \n",
       "ADEL KARAM: LIVE FROM BEIRUT (2018) – Full Tran...                                           0.610471       \n",
       "AL MADRIGAL: WHY IS THE RABBIT CRYING? (2013) –...                                           0.781330       \n",
       "ALI WONG: BABY COBRA (2016) – Full Transcript                                                0.811513       \n",
       "\n",
       "other_show                                          AZIZ ANSARI: BURIED ALIVE (2013) – Full Transcript  \\\n",
       "show                                                                                                     \n",
       "ADEL KARAM: LIVE FROM BEIRUT (2018) – Full Tran...                                           0.605022    \n",
       "AL MADRIGAL: WHY IS THE RABBIT CRYING? (2013) –...                                           0.788488    \n",
       "ALI WONG: BABY COBRA (2016) – Full Transcript                                                0.796769    \n",
       "\n",
       "other_show                                          AZIZ ANSARI: INTIMATE MOMENTS FOR A SENSUAL EVENING (2010) – Full Transcript  \\\n",
       "show                                                                                                                               \n",
       "ADEL KARAM: LIVE FROM BEIRUT (2018) – Full Tran...                                           0.594237                              \n",
       "AL MADRIGAL: WHY IS THE RABBIT CRYING? (2013) –...                                           0.736362                              \n",
       "ALI WONG: BABY COBRA (2016) – Full Transcript                                                0.785096                              \n",
       "\n",
       "other_show                                          ...  \\\n",
       "show                                                ...   \n",
       "ADEL KARAM: LIVE FROM BEIRUT (2018) – Full Tran...  ...   \n",
       "AL MADRIGAL: WHY IS THE RABBIT CRYING? (2013) –...  ...   \n",
       "ALI WONG: BABY COBRA (2016) – Full Transcript       ...   \n",
       "\n",
       "other_show                                          Trevor Noah: Lost In Translation (2015) – Transcript  \\\n",
       "show                                                                                                       \n",
       "ADEL KARAM: LIVE FROM BEIRUT (2018) – Full Tran...                                           0.617380      \n",
       "AL MADRIGAL: WHY IS THE RABBIT CRYING? (2013) –...                                           0.700322      \n",
       "ALI WONG: BABY COBRA (2016) – Full Transcript                                                0.745236      \n",
       "\n",
       "other_show                                          Trevor Noah: Son of Patricia (2018) – Transcript  \\\n",
       "show                                                                                                   \n",
       "ADEL KARAM: LIVE FROM BEIRUT (2018) – Full Tran...                                          0.661296   \n",
       "AL MADRIGAL: WHY IS THE RABBIT CRYING? (2013) –...                                          0.730040   \n",
       "ALI WONG: BABY COBRA (2016) – Full Transcript                                               0.748159   \n",
       "\n",
       "other_show                                          URZILA CARLSON: OVERQUALIFIED LOSER (2020) – FULL TRANSCRIPT  \\\n",
       "show                                                                                                               \n",
       "ADEL KARAM: LIVE FROM BEIRUT (2018) – Full Tran...                                           0.599753              \n",
       "AL MADRIGAL: WHY IS THE RABBIT CRYING? (2013) –...                                           0.747992              \n",
       "ALI WONG: BABY COBRA (2016) – Full Transcript                                                0.753453              \n",
       "\n",
       "other_show                                          Vir Das: Losing It (2018) – Full Transcript  \\\n",
       "show                                                                                              \n",
       "ADEL KARAM: LIVE FROM BEIRUT (2018) – Full Tran...                                     0.580962   \n",
       "AL MADRIGAL: WHY IS THE RABBIT CRYING? (2013) –...                                     0.678442   \n",
       "ALI WONG: BABY COBRA (2016) – Full Transcript                                          0.704281   \n",
       "\n",
       "other_show                                          Vir Das: Outside in – The Lockdown Special (2020) – Transcript  \\\n",
       "show                                                                                                                 \n",
       "ADEL KARAM: LIVE FROM BEIRUT (2018) – Full Tran...                                           0.570944                \n",
       "AL MADRIGAL: WHY IS THE RABBIT CRYING? (2013) –...                                           0.703266                \n",
       "ALI WONG: BABY COBRA (2016) – Full Transcript                                                0.774609                \n",
       "\n",
       "other_show                                          W. Kamau Bell: Private School Negro (2018) – Transcript  \\\n",
       "show                                                                                                          \n",
       "ADEL KARAM: LIVE FROM BEIRUT (2018) – Full Tran...                                           0.581046         \n",
       "AL MADRIGAL: WHY IS THE RABBIT CRYING? (2013) –...                                           0.711836         \n",
       "ALI WONG: BABY COBRA (2016) – Full Transcript                                                0.761718         \n",
       "\n",
       "other_show                                          WHITNEY CUMMINGS: I LOVE YOU (2014) – Full Transcript  \\\n",
       "show                                                                                                        \n",
       "ADEL KARAM: LIVE FROM BEIRUT (2018) – Full Tran...                                           0.597501       \n",
       "AL MADRIGAL: WHY IS THE RABBIT CRYING? (2013) –...                                           0.698133       \n",
       "ALI WONG: BABY COBRA (2016) – Full Transcript                                                0.780945       \n",
       "\n",
       "other_show                                          WHITNEY CUMMINGS: I’M YOUR GIRLFRIEND (2016) – Full Transcript  \\\n",
       "show                                                                                                                 \n",
       "ADEL KARAM: LIVE FROM BEIRUT (2018) – Full Tran...                                           0.567306                \n",
       "AL MADRIGAL: WHY IS THE RABBIT CRYING? (2013) –...                                           0.694959                \n",
       "ALI WONG: BABY COBRA (2016) – Full Transcript                                                0.783674                \n",
       "\n",
       "other_show                                          Wanda Sykes: Not Normal (2019) – Full Transcript  \\\n",
       "show                                                                                                   \n",
       "ADEL KARAM: LIVE FROM BEIRUT (2018) – Full Tran...                                          0.565989   \n",
       "AL MADRIGAL: WHY IS THE RABBIT CRYING? (2013) –...                                          0.728826   \n",
       "ALI WONG: BABY COBRA (2016) – Full Transcript                                               0.794071   \n",
       "\n",
       "other_show                                          Whitney Cummings: Can I Touch It? (2019) – Full Transcript  \n",
       "show                                                                                                            \n",
       "ADEL KARAM: LIVE FROM BEIRUT (2018) – Full Tran...                                           0.620437           \n",
       "AL MADRIGAL: WHY IS THE RABBIT CRYING? (2013) –...                                           0.743366           \n",
       "ALI WONG: BABY COBRA (2016) – Full Transcript                                                0.744459           \n",
       "\n",
       "[3 rows x 310 columns]"
      ]
     },
     "execution_count": 428,
     "metadata": {},
     "output_type": "execute_result"
    }
   ],
   "source": [
    "bow_cosims = bow_cosims_long.pivot(index = 'show', columns = 'other_show')\n",
    "bow_cosims.columns = bow_cosims.columns.droplevel(0)\n",
    "bow_cosims.head(3)"
   ]
  },
  {
   "cell_type": "markdown",
   "id": "37adc725",
   "metadata": {
    "slideshow": {
     "slide_type": "skip"
    }
   },
   "source": [
    "### metadata\n",
    "Dummify categorical variables and combine metadata variables into one dataframe."
   ]
  },
  {
   "cell_type": "code",
   "execution_count": 429,
   "id": "afdc2a55",
   "metadata": {
    "slideshow": {
     "slide_type": "skip"
    }
   },
   "outputs": [
    {
     "data": {
      "text/html": [
       "<div>\n",
       "<style scoped>\n",
       "    .dataframe tbody tr th:only-of-type {\n",
       "        vertical-align: middle;\n",
       "    }\n",
       "\n",
       "    .dataframe tbody tr th {\n",
       "        vertical-align: top;\n",
       "    }\n",
       "\n",
       "    .dataframe thead th {\n",
       "        text-align: right;\n",
       "    }\n",
       "</style>\n",
       "<table border=\"1\" class=\"dataframe\">\n",
       "  <thead>\n",
       "    <tr style=\"text-align: right;\">\n",
       "      <th></th>\n",
       "      <th></th>\n",
       "      <th>3 Arts Entertainment</th>\n",
       "      <th>A24</th>\n",
       "      <th>Another Mulligan Entertainment</th>\n",
       "      <th>Art &amp; Industry</th>\n",
       "      <th>Attic Bedroom</th>\n",
       "      <th>BBC Comedy</th>\n",
       "      <th>Black Gold Films</th>\n",
       "      <th>Blue Wolf Productions</th>\n",
       "      <th>Brillstein Entertainment Partners</th>\n",
       "      <th>...</th>\n",
       "      <th>The Nacelle Company</th>\n",
       "      <th>Three T's Entertainment</th>\n",
       "      <th>Tiger Aspect Productions</th>\n",
       "      <th>Triage Entertainment</th>\n",
       "      <th>Universal Pictures</th>\n",
       "      <th>Universal Pictures UK</th>\n",
       "      <th>Universal Studios</th>\n",
       "      <th>Weirdass Comedy</th>\n",
       "      <th>What's Wrong with People?</th>\n",
       "      <th>e&amp;a Film Berlin</th>\n",
       "    </tr>\n",
       "  </thead>\n",
       "  <tbody>\n",
       "    <tr>\n",
       "      <th>0</th>\n",
       "      <td>0</td>\n",
       "      <td>0</td>\n",
       "      <td>0</td>\n",
       "      <td>0</td>\n",
       "      <td>0</td>\n",
       "      <td>0</td>\n",
       "      <td>0</td>\n",
       "      <td>0</td>\n",
       "      <td>0</td>\n",
       "      <td>0</td>\n",
       "      <td>...</td>\n",
       "      <td>1</td>\n",
       "      <td>0</td>\n",
       "      <td>0</td>\n",
       "      <td>0</td>\n",
       "      <td>0</td>\n",
       "      <td>0</td>\n",
       "      <td>0</td>\n",
       "      <td>0</td>\n",
       "      <td>0</td>\n",
       "      <td>0</td>\n",
       "    </tr>\n",
       "    <tr>\n",
       "      <th>1</th>\n",
       "      <td>1</td>\n",
       "      <td>0</td>\n",
       "      <td>0</td>\n",
       "      <td>0</td>\n",
       "      <td>0</td>\n",
       "      <td>0</td>\n",
       "      <td>0</td>\n",
       "      <td>0</td>\n",
       "      <td>0</td>\n",
       "      <td>0</td>\n",
       "      <td>...</td>\n",
       "      <td>0</td>\n",
       "      <td>0</td>\n",
       "      <td>0</td>\n",
       "      <td>0</td>\n",
       "      <td>0</td>\n",
       "      <td>0</td>\n",
       "      <td>0</td>\n",
       "      <td>0</td>\n",
       "      <td>0</td>\n",
       "      <td>0</td>\n",
       "    </tr>\n",
       "    <tr>\n",
       "      <th>2</th>\n",
       "      <td>0</td>\n",
       "      <td>0</td>\n",
       "      <td>0</td>\n",
       "      <td>0</td>\n",
       "      <td>0</td>\n",
       "      <td>0</td>\n",
       "      <td>0</td>\n",
       "      <td>0</td>\n",
       "      <td>0</td>\n",
       "      <td>0</td>\n",
       "      <td>...</td>\n",
       "      <td>0</td>\n",
       "      <td>0</td>\n",
       "      <td>0</td>\n",
       "      <td>0</td>\n",
       "      <td>0</td>\n",
       "      <td>0</td>\n",
       "      <td>0</td>\n",
       "      <td>0</td>\n",
       "      <td>0</td>\n",
       "      <td>0</td>\n",
       "    </tr>\n",
       "  </tbody>\n",
       "</table>\n",
       "<p>3 rows × 182 columns</p>\n",
       "</div>"
      ],
      "text/plain": [
       "       3 Arts Entertainment   A24   Another Mulligan Entertainment  \\\n",
       "0  0                      0     0                                0   \n",
       "1  1                      0     0                                0   \n",
       "2  0                      0     0                                0   \n",
       "\n",
       "    Art & Industry   Attic Bedroom   BBC Comedy   Black Gold Films  \\\n",
       "0                0               0            0                  0   \n",
       "1                0               0            0                  0   \n",
       "2                0               0            0                  0   \n",
       "\n",
       "    Blue Wolf Productions   Brillstein Entertainment Partners  ...  \\\n",
       "0                       0                                   0  ...   \n",
       "1                       0                                   0  ...   \n",
       "2                       0                                   0  ...   \n",
       "\n",
       "   The Nacelle Company  Three T's Entertainment  Tiger Aspect Productions  \\\n",
       "0                    1                        0                         0   \n",
       "1                    0                        0                         0   \n",
       "2                    0                        0                         0   \n",
       "\n",
       "   Triage Entertainment  Universal Pictures  Universal Pictures UK  \\\n",
       "0                     0                   0                      0   \n",
       "1                     0                   0                      0   \n",
       "2                     0                   0                      0   \n",
       "\n",
       "   Universal Studios  Weirdass Comedy  What's Wrong with People?  \\\n",
       "0                  0                0                          0   \n",
       "1                  0                0                          0   \n",
       "2                  0                0                          0   \n",
       "\n",
       "   e&a Film Berlin  \n",
       "0                0  \n",
       "1                0  \n",
       "2                0  \n",
       "\n",
       "[3 rows x 182 columns]"
      ]
     },
     "execution_count": 429,
     "metadata": {},
     "output_type": "execute_result"
    }
   ],
   "source": [
    "companies_dummy = pd.get_dummies(metascripts['companies'].str.split(\",\").explode()).sum(level=0)\n",
    "companies_dummy.head(3)"
   ]
  },
  {
   "cell_type": "code",
   "execution_count": 430,
   "id": "85a70a0d",
   "metadata": {
    "slideshow": {
     "slide_type": "skip"
    }
   },
   "outputs": [
    {
     "data": {
      "text/html": [
       "<div>\n",
       "<style scoped>\n",
       "    .dataframe tbody tr th:only-of-type {\n",
       "        vertical-align: middle;\n",
       "    }\n",
       "\n",
       "    .dataframe tbody tr th {\n",
       "        vertical-align: top;\n",
       "    }\n",
       "\n",
       "    .dataframe thead th {\n",
       "        text-align: right;\n",
       "    }\n",
       "</style>\n",
       "<table border=\"1\" class=\"dataframe\">\n",
       "  <thead>\n",
       "    <tr style=\"text-align: right;\">\n",
       "      <th></th>\n",
       "      <th>Not Rated</th>\n",
       "      <th>PG</th>\n",
       "      <th>R</th>\n",
       "      <th>TV-14</th>\n",
       "      <th>TV-G</th>\n",
       "      <th>TV-MA</th>\n",
       "      <th>TV-PG</th>\n",
       "      <th>Unrated</th>\n",
       "    </tr>\n",
       "  </thead>\n",
       "  <tbody>\n",
       "    <tr>\n",
       "      <th>0</th>\n",
       "      <td>0</td>\n",
       "      <td>0</td>\n",
       "      <td>0</td>\n",
       "      <td>1</td>\n",
       "      <td>0</td>\n",
       "      <td>0</td>\n",
       "      <td>0</td>\n",
       "      <td>0</td>\n",
       "    </tr>\n",
       "    <tr>\n",
       "      <th>1</th>\n",
       "      <td>0</td>\n",
       "      <td>0</td>\n",
       "      <td>0</td>\n",
       "      <td>0</td>\n",
       "      <td>0</td>\n",
       "      <td>0</td>\n",
       "      <td>0</td>\n",
       "      <td>0</td>\n",
       "    </tr>\n",
       "    <tr>\n",
       "      <th>2</th>\n",
       "      <td>0</td>\n",
       "      <td>0</td>\n",
       "      <td>0</td>\n",
       "      <td>0</td>\n",
       "      <td>0</td>\n",
       "      <td>1</td>\n",
       "      <td>0</td>\n",
       "      <td>0</td>\n",
       "    </tr>\n",
       "  </tbody>\n",
       "</table>\n",
       "</div>"
      ],
      "text/plain": [
       "   Not Rated  PG  R  TV-14  TV-G  TV-MA  TV-PG  Unrated\n",
       "0          0   0  0      1     0      0      0        0\n",
       "1          0   0  0      0     0      0      0        0\n",
       "2          0   0  0      0     0      1      0        0"
      ]
     },
     "execution_count": 430,
     "metadata": {},
     "output_type": "execute_result"
    }
   ],
   "source": [
    "ratings_dummy = pd.get_dummies(metascripts['contentRating'])\n",
    "ratings_dummy.head(3)"
   ]
  },
  {
   "cell_type": "code",
   "execution_count": 431,
   "id": "23e7c5ac",
   "metadata": {
    "slideshow": {
     "slide_type": "skip"
    }
   },
   "outputs": [],
   "source": [
    "meta_num_features = ['year', 'runtimeMins', 'imDbRating', 'imDbRatingVotes']"
   ]
  },
  {
   "cell_type": "code",
   "execution_count": 432,
   "id": "78c86ccb",
   "metadata": {
    "slideshow": {
     "slide_type": "skip"
    }
   },
   "outputs": [],
   "source": [
    "metadata = pd.concat([metascripts[meta_num_features], companies_dummy, ratings_dummy], axis = 1).fillna(0)"
   ]
  },
  {
   "cell_type": "markdown",
   "id": "c14dbf52",
   "metadata": {
    "slideshow": {
     "slide_type": "skip"
    }
   },
   "source": [
    "### repetition proportions\n",
    "Just take the repetition proportions per show"
   ]
  },
  {
   "cell_type": "code",
   "execution_count": 433,
   "id": "d6fc2ee0",
   "metadata": {
    "slideshow": {
     "slide_type": "skip"
    }
   },
   "outputs": [
    {
     "data": {
      "text/plain": [
       "(310, 2)"
      ]
     },
     "execution_count": 433,
     "metadata": {},
     "output_type": "execute_result"
    }
   ],
   "source": [
    "repetition = metascripts_rep[['description', 'threepeat proportions']]\n",
    "repetition.shape"
   ]
  },
  {
   "cell_type": "markdown",
   "id": "0c862369",
   "metadata": {
    "slideshow": {
     "slide_type": "skip"
    }
   },
   "source": [
    "### part-of-speech proportions\n",
    "These are ready for cosine similarity besides dropping SYM (symbols)."
   ]
  },
  {
   "cell_type": "code",
   "execution_count": 434,
   "id": "82bc67b9",
   "metadata": {
    "slideshow": {
     "slide_type": "skip"
    }
   },
   "outputs": [
    {
     "data": {
      "text/html": [
       "<div>\n",
       "<style scoped>\n",
       "    .dataframe tbody tr th:only-of-type {\n",
       "        vertical-align: middle;\n",
       "    }\n",
       "\n",
       "    .dataframe tbody tr th {\n",
       "        vertical-align: top;\n",
       "    }\n",
       "\n",
       "    .dataframe thead th {\n",
       "        text-align: right;\n",
       "    }\n",
       "</style>\n",
       "<table border=\"1\" class=\"dataframe\">\n",
       "  <thead>\n",
       "    <tr style=\"text-align: right;\">\n",
       "      <th></th>\n",
       "      <th>description</th>\n",
       "      <th>VERB</th>\n",
       "      <th>PRON</th>\n",
       "      <th>INTJ</th>\n",
       "      <th>NOUN</th>\n",
       "      <th>ADV</th>\n",
       "      <th>AUX</th>\n",
       "      <th>ADJ</th>\n",
       "      <th>PART</th>\n",
       "      <th>ADP</th>\n",
       "      <th>DET</th>\n",
       "      <th>SCONJ</th>\n",
       "      <th>CCONJ</th>\n",
       "      <th>PROPN</th>\n",
       "      <th>NUM</th>\n",
       "    </tr>\n",
       "  </thead>\n",
       "  <tbody>\n",
       "    <tr>\n",
       "      <th>0</th>\n",
       "      <td>Jim Gaffigan: Comedy Monster (2021) | Transcript</td>\n",
       "      <td>0.146510</td>\n",
       "      <td>0.184963</td>\n",
       "      <td>0.017147</td>\n",
       "      <td>0.145698</td>\n",
       "      <td>0.062906</td>\n",
       "      <td>0.106230</td>\n",
       "      <td>0.053673</td>\n",
       "      <td>0.037845</td>\n",
       "      <td>0.081981</td>\n",
       "      <td>0.077922</td>\n",
       "      <td>0.024046</td>\n",
       "      <td>0.027902</td>\n",
       "      <td>0.025974</td>\n",
       "      <td>0.007204</td>\n",
       "    </tr>\n",
       "    <tr>\n",
       "      <th>1</th>\n",
       "      <td>Louis C. K.: Sorry (2021) | Transcript</td>\n",
       "      <td>0.140020</td>\n",
       "      <td>0.206552</td>\n",
       "      <td>0.016381</td>\n",
       "      <td>0.133737</td>\n",
       "      <td>0.057669</td>\n",
       "      <td>0.106361</td>\n",
       "      <td>0.057556</td>\n",
       "      <td>0.039942</td>\n",
       "      <td>0.076517</td>\n",
       "      <td>0.074274</td>\n",
       "      <td>0.030405</td>\n",
       "      <td>0.029507</td>\n",
       "      <td>0.021317</td>\n",
       "      <td>0.008639</td>\n",
       "    </tr>\n",
       "    <tr>\n",
       "      <th>2</th>\n",
       "      <td>Drew Michael: Drew Michael (2018) | Transcript</td>\n",
       "      <td>0.136785</td>\n",
       "      <td>0.216978</td>\n",
       "      <td>0.043468</td>\n",
       "      <td>0.119326</td>\n",
       "      <td>0.058519</td>\n",
       "      <td>0.116918</td>\n",
       "      <td>0.053341</td>\n",
       "      <td>0.040698</td>\n",
       "      <td>0.083925</td>\n",
       "      <td>0.060566</td>\n",
       "      <td>0.027694</td>\n",
       "      <td>0.026851</td>\n",
       "      <td>0.007586</td>\n",
       "      <td>0.007345</td>\n",
       "    </tr>\n",
       "  </tbody>\n",
       "</table>\n",
       "</div>"
      ],
      "text/plain": [
       "                                        description      VERB      PRON  \\\n",
       "0  Jim Gaffigan: Comedy Monster (2021) | Transcript  0.146510  0.184963   \n",
       "1            Louis C. K.: Sorry (2021) | Transcript  0.140020  0.206552   \n",
       "2    Drew Michael: Drew Michael (2018) | Transcript  0.136785  0.216978   \n",
       "\n",
       "       INTJ      NOUN       ADV       AUX       ADJ      PART       ADP  \\\n",
       "0  0.017147  0.145698  0.062906  0.106230  0.053673  0.037845  0.081981   \n",
       "1  0.016381  0.133737  0.057669  0.106361  0.057556  0.039942  0.076517   \n",
       "2  0.043468  0.119326  0.058519  0.116918  0.053341  0.040698  0.083925   \n",
       "\n",
       "        DET     SCONJ     CCONJ     PROPN       NUM  \n",
       "0  0.077922  0.024046  0.027902  0.025974  0.007204  \n",
       "1  0.074274  0.030405  0.029507  0.021317  0.008639  \n",
       "2  0.060566  0.027694  0.026851  0.007586  0.007345  "
      ]
     },
     "execution_count": 434,
     "metadata": {},
     "output_type": "execute_result"
    }
   ],
   "source": [
    "pos_props_df = pos_props_df.drop(columns = 'SYM')\n",
    "pos_props_df.head(3)"
   ]
  },
  {
   "cell_type": "markdown",
   "id": "f11dbd62",
   "metadata": {
    "slideshow": {
     "slide_type": "skip"
    }
   },
   "source": [
    "### point-of-view proportions\n",
    "These are also ready for cosine similarity."
   ]
  },
  {
   "cell_type": "code",
   "execution_count": 435,
   "id": "8caeed26",
   "metadata": {
    "slideshow": {
     "slide_type": "skip"
    }
   },
   "outputs": [
    {
     "data": {
      "text/html": [
       "<div>\n",
       "<style scoped>\n",
       "    .dataframe tbody tr th:only-of-type {\n",
       "        vertical-align: middle;\n",
       "    }\n",
       "\n",
       "    .dataframe tbody tr th {\n",
       "        vertical-align: top;\n",
       "    }\n",
       "\n",
       "    .dataframe thead th {\n",
       "        text-align: right;\n",
       "    }\n",
       "</style>\n",
       "<table border=\"1\" class=\"dataframe\">\n",
       "  <thead>\n",
       "    <tr style=\"text-align: right;\">\n",
       "      <th></th>\n",
       "      <th>description</th>\n",
       "      <th>third_person</th>\n",
       "      <th>first_person</th>\n",
       "      <th>second_person</th>\n",
       "    </tr>\n",
       "  </thead>\n",
       "  <tbody>\n",
       "    <tr>\n",
       "      <th>0</th>\n",
       "      <td>Jim Gaffigan: Comedy Monster (2021) | Transcript</td>\n",
       "      <td>0.695040</td>\n",
       "      <td>0.202955</td>\n",
       "      <td>0.102005</td>\n",
       "    </tr>\n",
       "    <tr>\n",
       "      <th>1</th>\n",
       "      <td>Louis C. K.: Sorry (2021) | Transcript</td>\n",
       "      <td>0.718351</td>\n",
       "      <td>0.179794</td>\n",
       "      <td>0.101856</td>\n",
       "    </tr>\n",
       "    <tr>\n",
       "      <th>2</th>\n",
       "      <td>Drew Michael: Drew Michael (2018) | Transcript</td>\n",
       "      <td>0.614692</td>\n",
       "      <td>0.235545</td>\n",
       "      <td>0.149763</td>\n",
       "    </tr>\n",
       "  </tbody>\n",
       "</table>\n",
       "</div>"
      ],
      "text/plain": [
       "                                        description  third_person  \\\n",
       "0  Jim Gaffigan: Comedy Monster (2021) | Transcript      0.695040   \n",
       "1            Louis C. K.: Sorry (2021) | Transcript      0.718351   \n",
       "2    Drew Michael: Drew Michael (2018) | Transcript      0.614692   \n",
       "\n",
       "   first_person  second_person  \n",
       "0      0.202955       0.102005  \n",
       "1      0.179794       0.101856  \n",
       "2      0.235545       0.149763  "
      ]
     },
     "execution_count": 435,
     "metadata": {},
     "output_type": "execute_result"
    }
   ],
   "source": [
    "pov_props_df.head(3)"
   ]
  },
  {
   "cell_type": "markdown",
   "id": "2e7f90de",
   "metadata": {
    "slideshow": {
     "slide_type": "skip"
    }
   },
   "source": [
    "### words and sentences\n",
    "Select off just the relevant word and sentence features from the metascripts dataframe."
   ]
  },
  {
   "cell_type": "code",
   "execution_count": 436,
   "id": "3621555f",
   "metadata": {
    "slideshow": {
     "slide_type": "skip"
    }
   },
   "outputs": [
    {
     "data": {
      "text/html": [
       "<div>\n",
       "<style scoped>\n",
       "    .dataframe tbody tr th:only-of-type {\n",
       "        vertical-align: middle;\n",
       "    }\n",
       "\n",
       "    .dataframe tbody tr th {\n",
       "        vertical-align: top;\n",
       "    }\n",
       "\n",
       "    .dataframe thead th {\n",
       "        text-align: right;\n",
       "    }\n",
       "</style>\n",
       "<table border=\"1\" class=\"dataframe\">\n",
       "  <thead>\n",
       "    <tr style=\"text-align: right;\">\n",
       "      <th></th>\n",
       "      <th>mean word length</th>\n",
       "      <th>std word length</th>\n",
       "      <th>Q1.0 word length</th>\n",
       "      <th>Q2.0 word length</th>\n",
       "      <th>Q3.0 word length</th>\n",
       "      <th>max word length</th>\n",
       "      <th>mean sentence length</th>\n",
       "      <th>std sentence length</th>\n",
       "      <th>Q1.0 sentence length</th>\n",
       "      <th>Q2.0 sentence length</th>\n",
       "      <th>Q3.0 sentence length</th>\n",
       "      <th>max sentence length</th>\n",
       "      <th>unique words</th>\n",
       "      <th>total words</th>\n",
       "      <th>proportion unique words</th>\n",
       "      <th>unique words per sentence</th>\n",
       "      <th>words per minute</th>\n",
       "      <th>sentences per minute</th>\n",
       "    </tr>\n",
       "  </thead>\n",
       "  <tbody>\n",
       "    <tr>\n",
       "      <th>0</th>\n",
       "      <td>3.805854</td>\n",
       "      <td>2.103520</td>\n",
       "      <td>2.0</td>\n",
       "      <td>4.0</td>\n",
       "      <td>5.0</td>\n",
       "      <td>14</td>\n",
       "      <td>8.482407</td>\n",
       "      <td>6.064443</td>\n",
       "      <td>4.0</td>\n",
       "      <td>7.0</td>\n",
       "      <td>11.0</td>\n",
       "      <td>52</td>\n",
       "      <td>1537</td>\n",
       "      <td>9771</td>\n",
       "      <td>0.157302</td>\n",
       "      <td>1.423148</td>\n",
       "      <td>130.871429</td>\n",
       "      <td>15.428571</td>\n",
       "    </tr>\n",
       "    <tr>\n",
       "      <th>1</th>\n",
       "      <td>3.624900</td>\n",
       "      <td>1.967809</td>\n",
       "      <td>2.0</td>\n",
       "      <td>3.0</td>\n",
       "      <td>5.0</td>\n",
       "      <td>14</td>\n",
       "      <td>11.284530</td>\n",
       "      <td>10.199352</td>\n",
       "      <td>4.0</td>\n",
       "      <td>8.0</td>\n",
       "      <td>15.0</td>\n",
       "      <td>85</td>\n",
       "      <td>1184</td>\n",
       "      <td>8787</td>\n",
       "      <td>0.134745</td>\n",
       "      <td>1.635359</td>\n",
       "      <td>129.682540</td>\n",
       "      <td>11.492063</td>\n",
       "    </tr>\n",
       "    <tr>\n",
       "      <th>2</th>\n",
       "      <td>3.586754</td>\n",
       "      <td>1.980245</td>\n",
       "      <td>2.0</td>\n",
       "      <td>3.0</td>\n",
       "      <td>4.0</td>\n",
       "      <td>16</td>\n",
       "      <td>8.530658</td>\n",
       "      <td>7.739877</td>\n",
       "      <td>4.0</td>\n",
       "      <td>6.0</td>\n",
       "      <td>11.0</td>\n",
       "      <td>72</td>\n",
       "      <td>1097</td>\n",
       "      <td>8259</td>\n",
       "      <td>0.132825</td>\n",
       "      <td>1.222965</td>\n",
       "      <td>127.533333</td>\n",
       "      <td>14.950000</td>\n",
       "    </tr>\n",
       "  </tbody>\n",
       "</table>\n",
       "</div>"
      ],
      "text/plain": [
       "   mean word length  std word length  Q1.0 word length  Q2.0 word length  \\\n",
       "0          3.805854         2.103520               2.0               4.0   \n",
       "1          3.624900         1.967809               2.0               3.0   \n",
       "2          3.586754         1.980245               2.0               3.0   \n",
       "\n",
       "   Q3.0 word length  max word length  mean sentence length  \\\n",
       "0               5.0               14              8.482407   \n",
       "1               5.0               14             11.284530   \n",
       "2               4.0               16              8.530658   \n",
       "\n",
       "   std sentence length  Q1.0 sentence length  Q2.0 sentence length  \\\n",
       "0             6.064443                   4.0                   7.0   \n",
       "1            10.199352                   4.0                   8.0   \n",
       "2             7.739877                   4.0                   6.0   \n",
       "\n",
       "   Q3.0 sentence length  max sentence length  unique words  total words  \\\n",
       "0                  11.0                   52          1537         9771   \n",
       "1                  15.0                   85          1184         8787   \n",
       "2                  11.0                   72          1097         8259   \n",
       "\n",
       "   proportion unique words  unique words per sentence  words per minute  \\\n",
       "0                 0.157302                   1.423148        130.871429   \n",
       "1                 0.134745                   1.635359        129.682540   \n",
       "2                 0.132825                   1.222965        127.533333   \n",
       "\n",
       "   sentences per minute  \n",
       "0             15.428571  \n",
       "1             11.492063  \n",
       "2             14.950000  "
      ]
     },
     "execution_count": 436,
     "metadata": {},
     "output_type": "execute_result"
    }
   ],
   "source": [
    "ws_features = [\n",
    "       'mean word length', 'std word length', 'Q1.0 word length',\n",
    "       'Q2.0 word length', 'Q3.0 word length', 'max word length',\n",
    "       'mean sentence length', 'std sentence length', 'Q1.0 sentence length',\n",
    "       'Q2.0 sentence length', 'Q3.0 sentence length', 'max sentence length',\n",
    "       'unique words', 'total words', 'proportion unique words',\n",
    "       'unique words per sentence', 'words per minute', 'sentences per minute'\n",
    "    ]\n",
    "\n",
    "words_sentences = metascripts[ws_features]\n",
    "words_sentences.head(3)"
   ]
  },
  {
   "cell_type": "markdown",
   "id": "5c7feabe",
   "metadata": {
    "slideshow": {
     "slide_type": "skip"
    }
   },
   "source": [
    "### profanity\n",
    "Select off just the relevant profanity features from the metascripts dataframe."
   ]
  },
  {
   "cell_type": "code",
   "execution_count": 437,
   "id": "c466b7b2",
   "metadata": {
    "slideshow": {
     "slide_type": "skip"
    }
   },
   "outputs": [
    {
     "data": {
      "text/html": [
       "<div>\n",
       "<style scoped>\n",
       "    .dataframe tbody tr th:only-of-type {\n",
       "        vertical-align: middle;\n",
       "    }\n",
       "\n",
       "    .dataframe tbody tr th {\n",
       "        vertical-align: top;\n",
       "    }\n",
       "\n",
       "    .dataframe thead th {\n",
       "        text-align: right;\n",
       "    }\n",
       "</style>\n",
       "<table border=\"1\" class=\"dataframe\">\n",
       "  <thead>\n",
       "    <tr style=\"text-align: right;\">\n",
       "      <th></th>\n",
       "      <th>profane count</th>\n",
       "      <th>profane proportion</th>\n",
       "      <th>profanity per sentence</th>\n",
       "      <th>profanity per minute</th>\n",
       "    </tr>\n",
       "  </thead>\n",
       "  <tbody>\n",
       "    <tr>\n",
       "      <th>0</th>\n",
       "      <td>18</td>\n",
       "      <td>0.001965</td>\n",
       "      <td>0.016667</td>\n",
       "      <td>0.257143</td>\n",
       "    </tr>\n",
       "    <tr>\n",
       "      <th>1</th>\n",
       "      <td>185</td>\n",
       "      <td>0.022652</td>\n",
       "      <td>0.255525</td>\n",
       "      <td>2.936508</td>\n",
       "    </tr>\n",
       "    <tr>\n",
       "      <th>2</th>\n",
       "      <td>79</td>\n",
       "      <td>0.010324</td>\n",
       "      <td>0.088071</td>\n",
       "      <td>1.316667</td>\n",
       "    </tr>\n",
       "  </tbody>\n",
       "</table>\n",
       "</div>"
      ],
      "text/plain": [
       "   profane count  profane proportion  profanity per sentence  \\\n",
       "0             18            0.001965                0.016667   \n",
       "1            185            0.022652                0.255525   \n",
       "2             79            0.010324                0.088071   \n",
       "\n",
       "   profanity per minute  \n",
       "0              0.257143  \n",
       "1              2.936508  \n",
       "2              1.316667  "
      ]
     },
     "execution_count": 437,
     "metadata": {},
     "output_type": "execute_result"
    }
   ],
   "source": [
    "profanity_features = ['profane count', 'profane proportion', 'profanity per sentence', 'profanity per minute']\n",
    "profanity = metascripts[profanity_features]\n",
    "profanity.head(3)"
   ]
  },
  {
   "cell_type": "markdown",
   "id": "119ac585",
   "metadata": {
    "slideshow": {
     "slide_type": "skip"
    }
   },
   "source": [
    "### sentiment: polarity and subjectivity\n",
    "Select off just the polarity and subjectivity measures from the metascripts dataframe."
   ]
  },
  {
   "cell_type": "code",
   "execution_count": 438,
   "id": "68aec00a",
   "metadata": {
    "slideshow": {
     "slide_type": "skip"
    }
   },
   "outputs": [
    {
     "data": {
      "text/html": [
       "<div>\n",
       "<style scoped>\n",
       "    .dataframe tbody tr th:only-of-type {\n",
       "        vertical-align: middle;\n",
       "    }\n",
       "\n",
       "    .dataframe tbody tr th {\n",
       "        vertical-align: top;\n",
       "    }\n",
       "\n",
       "    .dataframe thead th {\n",
       "        text-align: right;\n",
       "    }\n",
       "</style>\n",
       "<table border=\"1\" class=\"dataframe\">\n",
       "  <thead>\n",
       "    <tr style=\"text-align: right;\">\n",
       "      <th></th>\n",
       "      <th>polarity</th>\n",
       "      <th>subjectivity</th>\n",
       "      <th>mean sentence polarity</th>\n",
       "      <th>Q1.0 sentence polarity</th>\n",
       "      <th>Q2.0 sentence polarity</th>\n",
       "      <th>Q3.0 sentence polarity</th>\n",
       "      <th>std sentence polarity</th>\n",
       "      <th>mean sentence subjectivity</th>\n",
       "      <th>Q1.0 sentence subjectivity</th>\n",
       "      <th>Q2.0 sentence subjectivity</th>\n",
       "      <th>Q3.0 sentence subjectivity</th>\n",
       "      <th>std sentence subjectivity</th>\n",
       "    </tr>\n",
       "  </thead>\n",
       "  <tbody>\n",
       "    <tr>\n",
       "      <th>0</th>\n",
       "      <td>0.097589</td>\n",
       "      <td>0.517699</td>\n",
       "      <td>0.047180</td>\n",
       "      <td>0.0</td>\n",
       "      <td>0.0</td>\n",
       "      <td>0.069053</td>\n",
       "      <td>0.263120</td>\n",
       "      <td>0.251070</td>\n",
       "      <td>0.0</td>\n",
       "      <td>0.000000</td>\n",
       "      <td>0.5</td>\n",
       "      <td>0.334660</td>\n",
       "    </tr>\n",
       "    <tr>\n",
       "      <th>1</th>\n",
       "      <td>0.053696</td>\n",
       "      <td>0.561832</td>\n",
       "      <td>0.028132</td>\n",
       "      <td>0.0</td>\n",
       "      <td>0.0</td>\n",
       "      <td>0.136364</td>\n",
       "      <td>0.321037</td>\n",
       "      <td>0.321318</td>\n",
       "      <td>0.0</td>\n",
       "      <td>0.226389</td>\n",
       "      <td>0.6</td>\n",
       "      <td>0.338736</td>\n",
       "    </tr>\n",
       "    <tr>\n",
       "      <th>2</th>\n",
       "      <td>0.025106</td>\n",
       "      <td>0.576284</td>\n",
       "      <td>0.009020</td>\n",
       "      <td>0.0</td>\n",
       "      <td>0.0</td>\n",
       "      <td>0.000000</td>\n",
       "      <td>0.282668</td>\n",
       "      <td>0.288177</td>\n",
       "      <td>0.0</td>\n",
       "      <td>0.000000</td>\n",
       "      <td>0.6</td>\n",
       "      <td>0.346687</td>\n",
       "    </tr>\n",
       "  </tbody>\n",
       "</table>\n",
       "</div>"
      ],
      "text/plain": [
       "   polarity  subjectivity  mean sentence polarity  Q1.0 sentence polarity  \\\n",
       "0  0.097589      0.517699                0.047180                     0.0   \n",
       "1  0.053696      0.561832                0.028132                     0.0   \n",
       "2  0.025106      0.576284                0.009020                     0.0   \n",
       "\n",
       "   Q2.0 sentence polarity  Q3.0 sentence polarity  std sentence polarity  \\\n",
       "0                     0.0                0.069053               0.263120   \n",
       "1                     0.0                0.136364               0.321037   \n",
       "2                     0.0                0.000000               0.282668   \n",
       "\n",
       "   mean sentence subjectivity  Q1.0 sentence subjectivity  \\\n",
       "0                    0.251070                         0.0   \n",
       "1                    0.321318                         0.0   \n",
       "2                    0.288177                         0.0   \n",
       "\n",
       "   Q2.0 sentence subjectivity  Q3.0 sentence subjectivity  \\\n",
       "0                    0.000000                         0.5   \n",
       "1                    0.226389                         0.6   \n",
       "2                    0.000000                         0.6   \n",
       "\n",
       "   std sentence subjectivity  \n",
       "0                   0.334660  \n",
       "1                   0.338736  \n",
       "2                   0.346687  "
      ]
     },
     "execution_count": 438,
     "metadata": {},
     "output_type": "execute_result"
    }
   ],
   "source": [
    "sentiment_features = ['polarity', 'subjectivity',\n",
    "       'mean sentence polarity', 'Q1.0 sentence polarity',\n",
    "       'Q2.0 sentence polarity', 'Q3.0 sentence polarity',\n",
    "       'std sentence polarity', 'mean sentence subjectivity',\n",
    "       'Q1.0 sentence subjectivity', 'Q2.0 sentence subjectivity',\n",
    "       'Q3.0 sentence subjectivity', 'std sentence subjectivity']\n",
    "\n",
    "sentiment = metascripts[sentiment_features]\n",
    "sentiment.head(3)"
   ]
  },
  {
   "cell_type": "markdown",
   "id": "63e29179",
   "metadata": {
    "slideshow": {
     "slide_type": "skip"
    }
   },
   "source": [
    "### collect dataframes into a dictionary"
   ]
  },
  {
   "cell_type": "code",
   "execution_count": 439,
   "id": "707d43c2",
   "metadata": {
    "slideshow": {
     "slide_type": "skip"
    }
   },
   "outputs": [],
   "source": [
    "features_dict = {\n",
    "    'metadata':metadata,\n",
    "    'pos_props':pos_props_df.drop(columns = 'description'),\n",
    "    'pov_props':pov_props_df.drop(columns = 'description'),\n",
    "    'words_sentences':words_sentences,\n",
    "    'profanity':profanity,\n",
    "    'sentiment':sentiment,\n",
    "    'repetition':repetition.drop(columns = 'description')\n",
    "}"
   ]
  },
  {
   "cell_type": "markdown",
   "id": "cc30f97d",
   "metadata": {
    "slideshow": {
     "slide_type": "skip"
    }
   },
   "source": [
    "## cosine similarity"
   ]
  },
  {
   "cell_type": "code",
   "execution_count": 440,
   "id": "a1ae0892",
   "metadata": {
    "slideshow": {
     "slide_type": "skip"
    }
   },
   "outputs": [],
   "source": [
    "from sklearn.metrics.pairwise import cosine_similarity"
   ]
  },
  {
   "cell_type": "code",
   "execution_count": 441,
   "id": "7661928d",
   "metadata": {
    "slideshow": {
     "slide_type": "skip"
    }
   },
   "outputs": [],
   "source": [
    "def get_scaled_similarities(df):\n",
    "    scaled = StandardScaler().fit_transform(df)\n",
    "    cosims = cosine_similarity(scaled)\n",
    "    df = (pd.DataFrame(index = metascripts['description'],\n",
    "                                  columns = metascripts['description'],\n",
    "                                  data = cosims\n",
    "                    )\n",
    "         )\n",
    "    return df"
   ]
  },
  {
   "cell_type": "markdown",
   "id": "b1cd4ef9",
   "metadata": {
    "slideshow": {
     "slide_type": "skip"
    }
   },
   "source": [
    "### run get_scaled_similarities on each dataframe"
   ]
  },
  {
   "cell_type": "code",
   "execution_count": 442,
   "id": "8a67a471",
   "metadata": {
    "slideshow": {
     "slide_type": "skip"
    }
   },
   "outputs": [
    {
     "data": {
      "application/vnd.jupyter.widget-view+json": {
       "model_id": "2cf5c1a113cb42839ee05a32e109ad78",
       "version_major": 2,
       "version_minor": 0
      },
      "text/plain": [
       "  0%|          | 0/7 [00:00<?, ?it/s]"
      ]
     },
     "metadata": {},
     "output_type": "display_data"
    }
   ],
   "source": [
    "feature_cosims_dict = {key: get_scaled_similarities(df) for key, df in tqdm(features_dict.items())}\n",
    "feature_cosims_dict['bow'] = bow_cosims"
   ]
  },
  {
   "cell_type": "code",
   "execution_count": 443,
   "id": "7ebb3f9e",
   "metadata": {
    "slideshow": {
     "slide_type": "skip"
    }
   },
   "outputs": [
    {
     "name": "stdout",
     "output_type": "stream",
     "text": [
      "metadata (310, 310) <class 'pandas.core.frame.DataFrame'>\n",
      "pos_props (310, 310) <class 'pandas.core.frame.DataFrame'>\n",
      "pov_props (310, 310) <class 'pandas.core.frame.DataFrame'>\n",
      "words_sentences (310, 310) <class 'pandas.core.frame.DataFrame'>\n",
      "profanity (310, 310) <class 'pandas.core.frame.DataFrame'>\n",
      "sentiment (310, 310) <class 'pandas.core.frame.DataFrame'>\n",
      "repetition (310, 310) <class 'pandas.core.frame.DataFrame'>\n",
      "bow (310, 310) <class 'pandas.core.frame.DataFrame'>\n"
     ]
    }
   ],
   "source": [
    "for key, value in feature_cosims_dict.items():\n",
    "    print(key, value.shape, type(value))"
   ]
  },
  {
   "cell_type": "code",
   "execution_count": 444,
   "id": "d9730e74",
   "metadata": {
    "slideshow": {
     "slide_type": "skip"
    }
   },
   "outputs": [
    {
     "data": {
      "text/plain": [
       "-0.18741755228757817"
      ]
     },
     "execution_count": 444,
     "metadata": {},
     "output_type": "execute_result"
    }
   ],
   "source": [
    "# checking the calculations below on (i,j) = (0,1)\n",
    "np.mean([df.to_numpy()[0,1] for df in feature_cosims_dict.values()])"
   ]
  },
  {
   "cell_type": "code",
   "execution_count": 445,
   "id": "63e59d25",
   "metadata": {
    "slideshow": {
     "slide_type": "skip"
    }
   },
   "outputs": [
    {
     "data": {
      "text/html": [
       "<div>\n",
       "<style scoped>\n",
       "    .dataframe tbody tr th:only-of-type {\n",
       "        vertical-align: middle;\n",
       "    }\n",
       "\n",
       "    .dataframe tbody tr th {\n",
       "        vertical-align: top;\n",
       "    }\n",
       "\n",
       "    .dataframe thead th {\n",
       "        text-align: right;\n",
       "    }\n",
       "</style>\n",
       "<table border=\"1\" class=\"dataframe\">\n",
       "  <thead>\n",
       "    <tr style=\"text-align: right;\">\n",
       "      <th>description</th>\n",
       "      <th>Jim Gaffigan: Comedy Monster (2021) | Transcript</th>\n",
       "      <th>Louis C. K.: Sorry (2021) | Transcript</th>\n",
       "      <th>Drew Michael: Drew Michael (2018) | Transcript</th>\n",
       "      <th>Drew Michael: Red Blue Green (2021) | Transcript</th>\n",
       "      <th>Mo Amer: Mohammed in Texas (2021) | Transcript</th>\n",
       "      <th>Dave Chappelle: The Closer (2021) | Transcript</th>\n",
       "      <th>Kathleen Madigan: Bothering Jesus (2016) – Transcript</th>\n",
       "      <th>Kathleen Madigan: Madigan Again (2013) – Transcript</th>\n",
       "      <th>Phil Wang: Philly Philly Wang Wang (2021) – Transcript</th>\n",
       "      <th>Tom Papa: You’re Doing Great! (2020) – Transcript</th>\n",
       "      <th>...</th>\n",
       "      <th>Dave Chappelle: The Age of Spin (2017) – Transcript</th>\n",
       "      <th>GEORGE CARLIN: BACK IN TOWN (1996) – Full transcript</th>\n",
       "      <th>LOUIS C.K.: 2017 – Full transcript</th>\n",
       "      <th>George Carlin: Jamming in New York (1992) – Transcript</th>\n",
       "      <th>Reggie Watts: Spatial (2016) – Full Transcript</th>\n",
       "      <th>GEORGE CARLIN: COMPLAINTS AND GRIEVANCES (2001) – FULL TRANSCRIPT</th>\n",
       "      <th>GEORGE CARLIN: LIFE IS WORTH LOSING (2006) – Transcript</th>\n",
       "      <th>George Carlin: It’s Bad For Ya (2008) Full transcript</th>\n",
       "      <th>Dave Chappelle: 8:46 – Transcript</th>\n",
       "      <th>JIM JEFFERIES ON GUN CONTROL [FULL TRANSCRIPT]</th>\n",
       "    </tr>\n",
       "    <tr>\n",
       "      <th>description</th>\n",
       "      <th></th>\n",
       "      <th></th>\n",
       "      <th></th>\n",
       "      <th></th>\n",
       "      <th></th>\n",
       "      <th></th>\n",
       "      <th></th>\n",
       "      <th></th>\n",
       "      <th></th>\n",
       "      <th></th>\n",
       "      <th></th>\n",
       "      <th></th>\n",
       "      <th></th>\n",
       "      <th></th>\n",
       "      <th></th>\n",
       "      <th></th>\n",
       "      <th></th>\n",
       "      <th></th>\n",
       "      <th></th>\n",
       "      <th></th>\n",
       "      <th></th>\n",
       "    </tr>\n",
       "  </thead>\n",
       "  <tbody>\n",
       "    <tr>\n",
       "      <th>Jim Gaffigan: Comedy Monster (2021) | Transcript</th>\n",
       "      <td>1.000000</td>\n",
       "      <td>-0.187418</td>\n",
       "      <td>0.051541</td>\n",
       "      <td>0.235487</td>\n",
       "      <td>0.035216</td>\n",
       "      <td>-0.113008</td>\n",
       "      <td>0.193764</td>\n",
       "      <td>0.177253</td>\n",
       "      <td>0.502750</td>\n",
       "      <td>0.014002</td>\n",
       "      <td>...</td>\n",
       "      <td>-0.178831</td>\n",
       "      <td>-0.292271</td>\n",
       "      <td>-0.022739</td>\n",
       "      <td>-0.070034</td>\n",
       "      <td>-0.014805</td>\n",
       "      <td>-0.221994</td>\n",
       "      <td>-0.181535</td>\n",
       "      <td>-0.203727</td>\n",
       "      <td>0.105943</td>\n",
       "      <td>-0.192159</td>\n",
       "    </tr>\n",
       "    <tr>\n",
       "      <th>Louis C. K.: Sorry (2021) | Transcript</th>\n",
       "      <td>-0.187418</td>\n",
       "      <td>1.000000</td>\n",
       "      <td>0.108324</td>\n",
       "      <td>0.192108</td>\n",
       "      <td>-0.275118</td>\n",
       "      <td>0.580995</td>\n",
       "      <td>0.024935</td>\n",
       "      <td>0.034953</td>\n",
       "      <td>-0.033389</td>\n",
       "      <td>0.027170</td>\n",
       "      <td>...</td>\n",
       "      <td>0.321855</td>\n",
       "      <td>0.499201</td>\n",
       "      <td>0.184751</td>\n",
       "      <td>0.402349</td>\n",
       "      <td>-0.026892</td>\n",
       "      <td>0.155685</td>\n",
       "      <td>0.153242</td>\n",
       "      <td>0.203921</td>\n",
       "      <td>0.156735</td>\n",
       "      <td>0.347294</td>\n",
       "    </tr>\n",
       "    <tr>\n",
       "      <th>Drew Michael: Drew Michael (2018) | Transcript</th>\n",
       "      <td>0.051541</td>\n",
       "      <td>0.108324</td>\n",
       "      <td>1.000000</td>\n",
       "      <td>0.580078</td>\n",
       "      <td>-0.020253</td>\n",
       "      <td>0.118964</td>\n",
       "      <td>0.241776</td>\n",
       "      <td>0.528265</td>\n",
       "      <td>-0.174051</td>\n",
       "      <td>0.404041</td>\n",
       "      <td>...</td>\n",
       "      <td>-0.037459</td>\n",
       "      <td>-0.088925</td>\n",
       "      <td>-0.068119</td>\n",
       "      <td>0.008832</td>\n",
       "      <td>0.455595</td>\n",
       "      <td>-0.177821</td>\n",
       "      <td>-0.178126</td>\n",
       "      <td>-0.166148</td>\n",
       "      <td>-0.254932</td>\n",
       "      <td>0.397203</td>\n",
       "    </tr>\n",
       "  </tbody>\n",
       "</table>\n",
       "<p>3 rows × 310 columns</p>\n",
       "</div>"
      ],
      "text/plain": [
       "description                                       Jim Gaffigan: Comedy Monster (2021) | Transcript  \\\n",
       "description                                                                                          \n",
       "Jim Gaffigan: Comedy Monster (2021) | Transcript                                          1.000000   \n",
       "Louis C. K.: Sorry (2021) | Transcript                                                   -0.187418   \n",
       "Drew Michael: Drew Michael (2018) | Transcript                                            0.051541   \n",
       "\n",
       "description                                       Louis C. K.: Sorry (2021) | Transcript  \\\n",
       "description                                                                                \n",
       "Jim Gaffigan: Comedy Monster (2021) | Transcript                               -0.187418   \n",
       "Louis C. K.: Sorry (2021) | Transcript                                          1.000000   \n",
       "Drew Michael: Drew Michael (2018) | Transcript                                  0.108324   \n",
       "\n",
       "description                                       Drew Michael: Drew Michael (2018) | Transcript  \\\n",
       "description                                                                                        \n",
       "Jim Gaffigan: Comedy Monster (2021) | Transcript                                        0.051541   \n",
       "Louis C. K.: Sorry (2021) | Transcript                                                  0.108324   \n",
       "Drew Michael: Drew Michael (2018) | Transcript                                          1.000000   \n",
       "\n",
       "description                                       Drew Michael: Red Blue Green (2021) | Transcript  \\\n",
       "description                                                                                          \n",
       "Jim Gaffigan: Comedy Monster (2021) | Transcript                                          0.235487   \n",
       "Louis C. K.: Sorry (2021) | Transcript                                                    0.192108   \n",
       "Drew Michael: Drew Michael (2018) | Transcript                                            0.580078   \n",
       "\n",
       "description                                       Mo Amer: Mohammed in Texas (2021) | Transcript  \\\n",
       "description                                                                                        \n",
       "Jim Gaffigan: Comedy Monster (2021) | Transcript                                        0.035216   \n",
       "Louis C. K.: Sorry (2021) | Transcript                                                 -0.275118   \n",
       "Drew Michael: Drew Michael (2018) | Transcript                                         -0.020253   \n",
       "\n",
       "description                                       Dave Chappelle: The Closer (2021) | Transcript  \\\n",
       "description                                                                                        \n",
       "Jim Gaffigan: Comedy Monster (2021) | Transcript                                       -0.113008   \n",
       "Louis C. K.: Sorry (2021) | Transcript                                                  0.580995   \n",
       "Drew Michael: Drew Michael (2018) | Transcript                                          0.118964   \n",
       "\n",
       "description                                       Kathleen Madigan: Bothering Jesus (2016) – Transcript  \\\n",
       "description                                                                                               \n",
       "Jim Gaffigan: Comedy Monster (2021) | Transcript                                           0.193764       \n",
       "Louis C. K.: Sorry (2021) | Transcript                                                     0.024935       \n",
       "Drew Michael: Drew Michael (2018) | Transcript                                             0.241776       \n",
       "\n",
       "description                                       Kathleen Madigan: Madigan Again (2013) – Transcript  \\\n",
       "description                                                                                             \n",
       "Jim Gaffigan: Comedy Monster (2021) | Transcript                                           0.177253     \n",
       "Louis C. K.: Sorry (2021) | Transcript                                                     0.034953     \n",
       "Drew Michael: Drew Michael (2018) | Transcript                                             0.528265     \n",
       "\n",
       "description                                       Phil Wang: Philly Philly Wang Wang (2021) – Transcript  \\\n",
       "description                                                                                                \n",
       "Jim Gaffigan: Comedy Monster (2021) | Transcript                                           0.502750        \n",
       "Louis C. K.: Sorry (2021) | Transcript                                                    -0.033389        \n",
       "Drew Michael: Drew Michael (2018) | Transcript                                            -0.174051        \n",
       "\n",
       "description                                       Tom Papa: You’re Doing Great! (2020) – Transcript  \\\n",
       "description                                                                                           \n",
       "Jim Gaffigan: Comedy Monster (2021) | Transcript                                           0.014002   \n",
       "Louis C. K.: Sorry (2021) | Transcript                                                     0.027170   \n",
       "Drew Michael: Drew Michael (2018) | Transcript                                             0.404041   \n",
       "\n",
       "description                                       ...  \\\n",
       "description                                       ...   \n",
       "Jim Gaffigan: Comedy Monster (2021) | Transcript  ...   \n",
       "Louis C. K.: Sorry (2021) | Transcript            ...   \n",
       "Drew Michael: Drew Michael (2018) | Transcript    ...   \n",
       "\n",
       "description                                       Dave Chappelle: The Age of Spin (2017) – Transcript  \\\n",
       "description                                                                                             \n",
       "Jim Gaffigan: Comedy Monster (2021) | Transcript                                          -0.178831     \n",
       "Louis C. K.: Sorry (2021) | Transcript                                                     0.321855     \n",
       "Drew Michael: Drew Michael (2018) | Transcript                                            -0.037459     \n",
       "\n",
       "description                                       GEORGE CARLIN: BACK IN TOWN (1996) – Full transcript  \\\n",
       "description                                                                                              \n",
       "Jim Gaffigan: Comedy Monster (2021) | Transcript                                          -0.292271      \n",
       "Louis C. K.: Sorry (2021) | Transcript                                                     0.499201      \n",
       "Drew Michael: Drew Michael (2018) | Transcript                                            -0.088925      \n",
       "\n",
       "description                                       LOUIS C.K.: 2017 – Full transcript  \\\n",
       "description                                                                            \n",
       "Jim Gaffigan: Comedy Monster (2021) | Transcript                           -0.022739   \n",
       "Louis C. K.: Sorry (2021) | Transcript                                      0.184751   \n",
       "Drew Michael: Drew Michael (2018) | Transcript                             -0.068119   \n",
       "\n",
       "description                                       George Carlin: Jamming in New York (1992) – Transcript  \\\n",
       "description                                                                                                \n",
       "Jim Gaffigan: Comedy Monster (2021) | Transcript                                          -0.070034        \n",
       "Louis C. K.: Sorry (2021) | Transcript                                                     0.402349        \n",
       "Drew Michael: Drew Michael (2018) | Transcript                                             0.008832        \n",
       "\n",
       "description                                       Reggie Watts: Spatial (2016) – Full Transcript  \\\n",
       "description                                                                                        \n",
       "Jim Gaffigan: Comedy Monster (2021) | Transcript                                       -0.014805   \n",
       "Louis C. K.: Sorry (2021) | Transcript                                                 -0.026892   \n",
       "Drew Michael: Drew Michael (2018) | Transcript                                          0.455595   \n",
       "\n",
       "description                                       GEORGE CARLIN: COMPLAINTS AND GRIEVANCES (2001) – FULL TRANSCRIPT  \\\n",
       "description                                                                                                           \n",
       "Jim Gaffigan: Comedy Monster (2021) | Transcript                                          -0.221994                   \n",
       "Louis C. K.: Sorry (2021) | Transcript                                                     0.155685                   \n",
       "Drew Michael: Drew Michael (2018) | Transcript                                            -0.177821                   \n",
       "\n",
       "description                                       GEORGE CARLIN: LIFE IS WORTH LOSING (2006) – Transcript  \\\n",
       "description                                                                                                 \n",
       "Jim Gaffigan: Comedy Monster (2021) | Transcript                                          -0.181535         \n",
       "Louis C. K.: Sorry (2021) | Transcript                                                     0.153242         \n",
       "Drew Michael: Drew Michael (2018) | Transcript                                            -0.178126         \n",
       "\n",
       "description                                       George Carlin: It’s Bad For Ya (2008) Full transcript  \\\n",
       "description                                                                                               \n",
       "Jim Gaffigan: Comedy Monster (2021) | Transcript                                          -0.203727       \n",
       "Louis C. K.: Sorry (2021) | Transcript                                                     0.203921       \n",
       "Drew Michael: Drew Michael (2018) | Transcript                                            -0.166148       \n",
       "\n",
       "description                                       Dave Chappelle: 8:46 – Transcript  \\\n",
       "description                                                                           \n",
       "Jim Gaffigan: Comedy Monster (2021) | Transcript                           0.105943   \n",
       "Louis C. K.: Sorry (2021) | Transcript                                     0.156735   \n",
       "Drew Michael: Drew Michael (2018) | Transcript                            -0.254932   \n",
       "\n",
       "description                                       JIM JEFFERIES ON GUN CONTROL [FULL TRANSCRIPT]  \n",
       "description                                                                                       \n",
       "Jim Gaffigan: Comedy Monster (2021) | Transcript                                       -0.192159  \n",
       "Louis C. K.: Sorry (2021) | Transcript                                                  0.347294  \n",
       "Drew Michael: Drew Michael (2018) | Transcript                                          0.397203  \n",
       "\n",
       "[3 rows x 310 columns]"
      ]
     },
     "execution_count": 445,
     "metadata": {},
     "output_type": "execute_result"
    }
   ],
   "source": [
    "cosims_means = np.mean([df.to_numpy() for df in feature_cosims_dict.values()], axis = 0)\n",
    "cosims_means_df = pd.DataFrame(index = metascripts['description'],\n",
    "                         columns = metascripts['description'],\n",
    "                         data = cosims_means)\n",
    "cosims_means_df.head(3)"
   ]
  },
  {
   "cell_type": "code",
   "execution_count": 446,
   "id": "a3aed271",
   "metadata": {
    "slideshow": {
     "slide_type": "skip"
    }
   },
   "outputs": [
    {
     "data": {
      "application/vnd.plotly.v1+json": {
       "config": {
        "plotlyServerURL": "https://plotly.com"
       },
       "data": [
        {
         "alignmentgroup": "True",
         "boxpoints": "all",
         "customdata": [
          [
           "Jim Gaffigan: Comedy Monster (2021) | Transcript"
          ],
          [
           "Louis C. K.: Sorry (2021) | Transcript"
          ],
          [
           "Drew Michael: Drew Michael (2018) | Transcript"
          ],
          [
           "Drew Michael: Red Blue Green (2021) | Transcript"
          ],
          [
           "Mo Amer: Mohammed in Texas (2021) | Transcript"
          ],
          [
           "Dave Chappelle: The Closer (2021) | Transcript"
          ],
          [
           "Kathleen Madigan: Bothering Jesus (2016) – Transcript"
          ],
          [
           "Kathleen Madigan: Madigan Again (2013) – Transcript"
          ],
          [
           "Phil Wang: Philly Philly Wang Wang (2021) – Transcript"
          ],
          [
           "Tom Papa: You’re Doing Great! (2020) – Transcript"
          ],
          [
           "Tom Papa: Human Mule (2016) – Transcript"
          ],
          [
           "Tom Papa: Freaked Out (2013) – Transcript"
          ],
          [
           "Bo Burnham: Inside (2021) – Transcript"
          ],
          [
           "Tig Notaro: Boyish Girl Interrupted (2015) – Transcript"
          ],
          [
           "Joe List: I Hate Myself (2020) – Transcript"
          ],
          [
           "Nate Bargatze: The Greatest Average American (2021) – Transcript"
          ],
          [
           "Brian Regan: On The Rocks (2021) – Transcript"
          ],
          [
           "Doug Stanhope: Beer Hall Putsch (2013) – Transcript"
          ],
          [
           "Chris Rock Total Blackout: The Tamborine Extended Cut – Transcript"
          ],
          [
           "Sarah Cooper: Everything’s Fine (2020) – Transcript"
          ],
          [
           "Bo Burnham: Words, Words, Words (2010) – Transcript"
          ],
          [
           "Vir Das: Outside in – The Lockdown Special (2020) – Transcript"
          ],
          [
           "Larry the Cable Guy – Remain Seated (2020) – Transcript"
          ],
          [
           "Craig Ferguson: Just Being Honest (2015) – Transcript"
          ],
          [
           "Kevin Hart: Zero F**ks Given (2020) – Transcript"
          ],
          [
           "Sam Morril: I Got This (2020) – Transcript"
          ],
          [
           "RONNY CHIENG: ASIAN COMEDIAN DESTROYS AMERICA (2019) – TRANSCRIPT"
          ],
          [
           "Craig Ferguson: A Wee Bit o’ Revolution (2009) – Transcript"
          ],
          [
           "MICHAEL MCINTYRE: SHOWMAN (2020) – TRANSCRIPT"
          ],
          [
           "ROB SCHNEIDER: ASIAN MOMMA, MEXICAN KIDS (2020) – TRANSCRIPT"
          ],
          [
           "Sam Jay: 3 in the Morning (2020) – Transcript"
          ],
          [
           "Jack Whitehall: I’m Only Joking (2020) | Transcript"
          ],
          [
           "URZILA CARLSON: OVERQUALIFIED LOSER (2020) – FULL TRANSCRIPT"
          ],
          [
           "GEORGE LOPEZ: WE’LL DO IT FOR HALF (2020) – FULL TRANSCRIPT"
          ],
          [
           "JIM JEFFERIES: INTOLERANT (2020) – FULL TRANSCRIPT"
          ],
          [
           "George Carlin: Doin’ It Again (1990) – Transcript"
          ],
          [
           "ERIC ANDRE: LEGALIZE EVERYTHING (2020)"
          ],
          [
           "ROY WOOD JR.: FATHER FIGURE (2017) – FULL TRANSCRIPT"
          ],
          [
           "Mark Normand: Don’t Be Yourself (2017) – Transcript"
          ],
          [
           "Chris Gethard: Career Suicide (2017) – Transcript"
          ],
          [
           "RAMY YOUSSEF: FEELINGS (2019) – FULL TRANSCRIPT"
          ],
          [
           "KENNY SEBASTIAN DON’T BE THAT GUY (2017) – FULL TRANSCRIPT"
          ],
          [
           "BILLY CONNOLLY: HIGH HORSE TOUR LIVE (2016) – FULL TRANSCRIPT"
          ],
          [
           "Hannah Gadsby: Douglas (2020) – Transcript"
          ],
          [
           "Hasan Minhaj: Homecoming King (2017) – Transcript"
          ],
          [
           "PATTON OSWALT: I LOVE EVERYTHING (2020) – FULL TRANSCRIPT"
          ],
          [
           "RUSSELL PETERS: DEPORTED (2020) – FULL TRANSCRIPT"
          ],
          [
           "JIMMY O. YANG: GOOD DEAL (2020) – FULL TRANSCRIPT"
          ],
          [
           "JO KOY: LIGHTS OUT (2012) – FULL TRANSCRIPT"
          ],
          [
           "LEE MACK: GOING OUT LIVE (2010) – FULL TRANSCRIPT"
          ],
          [
           "LEE MACK: LIVE (2007) – FULL TRANSCRIPT"
          ],
          [
           "T.J. MILLER: NO REAL REASON (2011) – FULL TRANSCRIPT"
          ],
          [
           "Jerry Seinfeld: 23 Hours To Kill (2020) – Transcript"
          ],
          [
           "SINCERELY LOUIS CK (2020)"
          ],
          [
           "JIM NORTON: AMERICAN DEGENERATE (2013) – FULL TRANSCRIPT"
          ],
          [
           "Jim Norton: Monster Rain (2007) – Transcript"
          ],
          [
           "MARIA BAMFORD: WEAKNESS IS THE BRAND (2020) – FULL TRANSCRIPT"
          ],
          [
           "CHRIS D’ELIA: WHITE MALE. BLACK COMIC. (2013) – FULL TRANSCRIPT"
          ],
          [
           "Chris D’Elia: Man on Fire (2017) – Full Transcript"
          ],
          [
           "Tom Segura: Ball Hog (2020) – Transcript"
          ],
          [
           "Bert Kreischer: Hey Big Boy (2020) – Transcript"
          ],
          [
           "Marc Maron: End Times Fun (2020) – Full Transcript"
          ],
          [
           "PETE DAVIDSON: SMD (2016) – FULL TRANSCRIPT"
          ],
          [
           "PETE DAVIDSON: ALIVE FROM NEW YORK (2020) – FULL TRANSCRIPT"
          ],
          [
           "Amanda Seales: I Be Knowin’ (2019) – Transcript"
          ],
          [
           "Stewart Lee: Carpet Remnant World (2012) – Full Transcript"
          ],
          [
           "Stewart Lee: Content Provider (2018) – Transcript"
          ],
          [
           "Sara Pascoe: LadsLadsLads (2019) – Full Transcript"
          ],
          [
           "Dan Soder: Son of a Gary (2019) – Full Transcript"
          ],
          [
           "Jim Gaffigan: Quality Time (2019) – Full Transcript"
          ],
          [
           "Kevin Bridges: A Whole Different Story (2015) – Full Transcript"
          ],
          [
           "Kevin Bridges: The Story So Far… Live in Glasgow (2010) – Full Transcript"
          ],
          [
           "Kevin Bridges: The Story Continues (2012) – Full Transcript"
          ],
          [
           "Michelle Wolf: Joke Show (2019) – Full Transcript"
          ],
          [
           "Tiffany Haddish: Black Mitzvah (2019) – Transcript"
          ],
          [
           "Mike Birbiglia: The New One (2019) – Full Transcript"
          ],
          [
           "Iliza Shlesinger: Unveiled (2019) – Full Transcript"
          ],
          [
           "Seth Meyers: Lobby Baby (2019) – Full Transcript"
          ],
          [
           "Arsenio Hall: Smart and Classy (2019) – Transcript"
          ],
          [
           "Nikki Glaser: Bangin’ (2019) – Full Transcript"
          ],
          [
           "Bill Burr: Paper Tiger (2019) – Transcript"
          ],
          [
           "Dave Chappelle: Sticks & Stones (2019) – Transcript"
          ],
          [
           "Emily Heller: Ice Thickeners (2019) – Full Transcript"
          ],
          [
           "David Cross: Oh Come On (2019) – Full Transcript"
          ],
          [
           "Whitney Cummings: Can I Touch It? (2019) – Full Transcript"
          ],
          [
           "Aziz Ansari: Right Now (2019) – Transcript"
          ],
          [
           "Ralphie May: Filthy Animal Tour (2014) – Transcript"
          ],
          [
           "Mike Epps: Only One Mike (2019) – Full Transcript"
          ],
          [
           "Adam DeVine: Best Time of Our Lives (2019) – Full Transcript"
          ],
          [
           "Jo Koy: Live from Seattle (2017) – Full Transcript"
          ],
          [
           "Jo Koy: Comin’ in Hot (2019) – Full Transcript"
          ],
          [
           "Wanda Sykes: Not Normal (2019) – Full Transcript"
          ],
          [
           "Cedric the Entertainer: Live from the Ville (2016) – Transcript"
          ],
          [
           "Eddie Murphy: Raw (1987) – Transcript"
          ],
          [
           "Colin Quinn: The New York Story (2016) – Full Transcript"
          ],
          [
           "Demetri Martin: Live (At The Time) (2015) | Transcript"
          ],
          [
           "George Carlin: What Am I Doing in New Jersey? (1988) – Full Transcript"
          ],
          [
           "Chelsea Peretti: One of the Greats (2014) – Full Transcript"
          ],
          [
           "Anthony Jeselnik: Fire in the Maternity Ward (2019) – Transcript"
          ],
          [
           "Roy Wood Jr.: No One Loves You (2019) – Transcript"
          ],
          [
           "Robin Williams: Weapons of Self Destruction (2009) – Full Transcript"
          ],
          [
           "ROBIN WILLIAMS LIVE ON BROADWAY (2002) – FULL TRANSCRIPT"
          ],
          [
           "Jimmy Carr: The Best of Ultimate Gold Greatest Hits (2019) – Full Transcript"
          ],
          [
           "Nate Bargatze: The Tennessee Kid (2019) – Full Transcript"
          ],
          [
           "W. Kamau Bell: Private School Negro (2018) – Transcript"
          ],
          [
           "Kevin Hart: Irresponsible (2019) – Transcript"
          ],
          [
           "Nate Bargatze: Full Time Magic (2015) – Full Transcript"
          ],
          [
           "Amy Schumer: Growing (2019) – Full Transcript"
          ],
          [
           "Enissa Amani: Ehrenwort (2018) Full Transcript"
          ],
          [
           "Ken Jeong: You Complete Me, Ho (2019) – Full Transcript"
          ],
          [
           "Ray Romano: Right Here, Around the Corner (2019) – Full Transcript"
          ],
          [
           "Gabriel “Fluffy” Iglesias: One Show Fits All (2019) – Full Transcript"
          ],
          [
           "Sebastian Maniscalco: Stay Hungry (2019) – Full Transcript"
          ],
          [
           "Sebastian Maniscalco: Aren’t You Embarrassed? (2014) – Full Transcript"
          ],
          [
           "Sebastian Maniscalco: What’s Wrong with People? (2012) – Full Transcript"
          ],
          [
           "Oh, Hello On Broadway (2017) – Transcript"
          ],
          [
           "Ellen Degeneres: Relatable (2018) – Transcript"
          ],
          [
           "Pete Holmes: Dirty Clean (2018) – Full Transcript"
          ],
          [
           "Vir Das: Losing It (2018) – Full Transcript"
          ],
          [
           "Trevor Noah: Son of Patricia (2018) – Transcript"
          ],
          [
           "Jeff Foxworthy & Larry the Cable Guy: We’ve Been Thinking (2016) – Full Transcript"
          ],
          [
           "Adam Sandler: 100% Fresh (2018) – Full Transcript"
          ],
          [
           "Jeff Foxworthy: Totally Committed (1998) – Full Transcript"
          ],
          [
           "RON WHITE: IF YOU QUIT LISTENING, I’LL SHUT UP (2018) – FULL TRANSCRIPT"
          ],
          [
           "Mo Amer: The Vagabond (2018) – Full Transcript"
          ],
          [
           "Joe Mande’s Award-Winning Comedy Special (2017) – Full Transcript"
          ],
          [
           "Henry Rollins: Keep Talking, Pal (2018) – Full Transcript"
          ],
          [
           "Joe Rogan: Strange Times (2018) – Full Transcript"
          ],
          [
           "D.L. Hughley: Contrarian (2018) – Transcript"
          ],
          [
           "Iliza Shlesinger: Freezing Hot (2015) – Full Transcript"
          ],
          [
           "Iliza Shlesinger: War Paint (2013) – Transcript"
          ],
          [
           "Bert Kreischer: Secret Time (2018) – Transcript"
          ],
          [
           "Demetri Martin: The Overthinker (2018) | Transcript"
          ],
          [
           "BILL MAHER: LIVE FROM OKLAHOMA (2018) – Full Transcript"
          ],
          [
           "Rowan Atkinson Live (1992) – Transcript"
          ],
          [
           "Iliza Shlesinger: Confirmed Kills (2016) – Full Transcript"
          ],
          [
           "Iliza Shlesinger: Elder Millennial (2018) – Full Transcript"
          ],
          [
           "JIM GAFFIGAN: NOBLE APE (2018) – Full Transcript"
          ],
          [
           "Jim Norton: Contextually Inadequate (2015) – Transcript"
          ],
          [
           "Hannah Gadsby: Nanette (2018) – Transcript"
          ],
          [
           "BRAD WILLIAMS: DADDY ISSUES (2016) – Full Transcript"
          ],
          [
           "Deray Davis: How To Act Black (2017) – Transcript"
          ],
          [
           "RICKY GERVAIS: LIVE IV – SCIENCE (2010) – Full Transcript"
          ],
          [
           "JIM JEFFERIES: THIS IS ME NOW (2018) – Full transcript"
          ],
          [
           "RUSSELL PETERS: OUTSOURCED (2006) – Full Transcript"
          ],
          [
           "RUSSELL PETERS: ALMOST FAMOUS (2016) – Full Transcript"
          ],
          [
           "RON WHITE: A LITTLE UNPROFESSIONAL (2012) – Full Transcript"
          ],
          [
           "MICHAEL MCINTYRE: HELLO WEMBLEY! (2009) – Full Transcript"
          ],
          [
           "KEVIN SMITH: SILENT BUT DEADLY (2018) – Full Transcript"
          ],
          [
           "KEVIN JAMES: NEVER DON’T GIVE UP (2018) – Full Transcript"
          ],
          [
           "BRENT MORIN: I’M BRENT MORIN (2015) – Full Transcript"
          ],
          [
           "NIKKI GLASER: PERFECT (2016) – Full Transcript"
          ],
          [
           "Ali Wong: Hard Knock Wife (2018) – Transcript"
          ],
          [
           "KAVIN JAY: EVERYBODY CALM DOWN! (2018) – Full Transcript"
          ],
          [
           "John Mulaney: Kid Gorgeous At Radio City (2018) – Transcript"
          ],
          [
           "Eddie Griffin: Undeniable (2018) – Transcript"
          ],
          [
           "GREG DAVIES: YOU MAGNIFICENT BEAST (2018) – Full Transcript"
          ],
          [
           "George Carlin: You Are All Diseased (1999) – Transcript"
          ],
          [
           "Marlon Wayans: Woke-Ish (2018) – Transcript"
          ],
          [
           "RICKY GERVAIS: HUMANITY (2018) – Full Transcript"
          ],
          [
           "ADEL KARAM: LIVE FROM BEIRUT (2018) – Full Transcript"
          ],
          [
           "STEWART LEE: 90s COMEDIAN (2006) – Full Transcript"
          ],
          [
           "Mike Birbiglia: My Girlfriend’s Boyfriend (2013) – Transcript"
          ],
          [
           "DAVE ATTELL: ROAD WORK (2014) – Full Transcript"
          ],
          [
           "Eddie Izzard – Glorious (1997) – Transcript"
          ],
          [
           "Chris Rock: Bring the Pain (1996) – Transcript"
          ],
          [
           "ARI SHAFFIR: DOUBLE NEGATIVE (2017) – Full Transcript"
          ],
          [
           "Chris Rock: Tamborine (2018) – Transcript"
          ],
          [
           "FRED ARMISEN: STANDUP FOR DRUMMERS (2018) – Full Transcript"
          ],
          [
           "DANA CARVEY: STRAIGHT WHITE MALE, 60 (2016) – Full Transcript"
          ],
          [
           "EDDIE IZZARD: STRIPPED (2009) – Full Transcript"
          ],
          [
           "TODD GLASS: ACT HAPPY (2018) – Full Transcript"
          ],
          [
           "BRIAN REGAN: STANDING UP (2007) – Full Transcript"
          ],
          [
           "BRIAN REGAN: NUNCHUCKS AND FLAMETHROWERS (2017) – Full Transcript"
          ],
          [
           "Katt Williams: Great America (2018) – Transcript"
          ],
          [
           "JIMMY CARR: BEING FUNNY (2011) – Full Transcript"
          ],
          [
           "JIMMY CARR: LAUGHING AND JOKING (2013) – Full Transcript"
          ],
          [
           "Eddie Izzard: Unrepeatable (1994) | Transcript"
          ],
          [
           "D.L. Hughley: Unapologetic (2007) – Transcript"
          ],
          [
           "BRIDGET EVERETT: GYNECOLOGICAL WONDER (2015) – Full Transcript"
          ],
          [
           "Chris Rock: Never Scared (2004) – Transcript"
          ],
          [
           "Stewart Lee: Stand-Up Comedian (2005) – Transcript"
          ],
          [
           "JIMMY CARR: FUNNY BUSINESS (2016) – Full Transcript"
          ],
          [
           "Eddie Izzard: Dress To Kill (1999) – Transcript"
          ],
          [
           "Chris Tucker: Live (2015) – Transcript"
          ],
          [
           "Kevin Hart: What Now (2016) – Transcript"
          ],
          [
           "Kevin Hart: Let Me Explain (2013) – Transcript"
          ],
          [
           "Tom Segura: Disgraceful (2018) – Transcript"
          ],
          [
           "MICHELLE WOLF: NICE LADY (2017) – Full Transcript"
          ],
          [
           "FAHIM ANWAR: THERE’S NO BUSINESS LIKE SHOW BUSINESS (2017) – Transcript"
          ],
          [
           "ELLEN DEGENERES: THE BEGINNING (2000) – Full Transcript"
          ],
          [
           "MAZ JOBRANI: IMMIGRANT (2017) – Full Transcript"
          ],
          [
           "TODD BARRY: SPICY HONEY (2017) – Full Transcript"
          ],
          [
           "Jerry Seinfeld: I’m Telling You for the Last Time (1998) – Transcript"
          ],
          [
           "Craig Ferguson: Does This Need To Be Said? (2011) – Transcript"
          ],
          [
           "Dave Chappelle: The Bird Revelation (2017) – Transcript"
          ],
          [
           "Dave Chappelle: Equanimity (2017) – Transcript"
          ],
          [
           "CRAIG FERGUSON: I’M HERE TO HELP (2013) – Full Transcript"
          ],
          [
           "RUSSELL HOWARD: RECALIBRATE (2017) – Full Transcript"
          ],
          [
           "WHITNEY CUMMINGS: I LOVE YOU (2014) – Full Transcript"
          ],
          [
           "WHITNEY CUMMINGS: I’M YOUR GIRLFRIEND (2016) – Full Transcript"
          ],
          [
           "SARAH MILLICAN: CHATTERBOX LIVE (2011) – Full Transcript"
          ],
          [
           "Anjelah Johnson: Not Fancy (2015) – Transcript"
          ],
          [
           "RICKY GERVAIS LIVE 2: POLITICS (2004) – Full Transcript"
          ],
          [
           "Russell Howard Live: Dingledodies (2009) – Full Transcript"
          ],
          [
           "CHRISTINA PAZSITZKY: MOTHER INFERIOR (2017) – FULL TRANSCRIPT"
          ],
          [
           "Jack Whitehall: At Large (2017) – Transcript"
          ],
          [
           "CRISTELA ALONZO: LOWER CLASSY (2017) – Full Transcript"
          ],
          [
           "JUDAH FRIEDLANDER: AMERICA IS THE GREATEST COUNTRY IN THE UNITED STATES (2017) – Full Transcript"
          ],
          [
           "AZIZ ANSARI: LIVE IN MADISON SQUARE GARDEN (2015) – Full Transcript"
          ],
          [
           "AZIZ ANSARI: BURIED ALIVE (2013) – Full Transcript"
          ],
          [
           "Paul Mooney: A Piece of My Mind – Godbless America (2014) – Transcript"
          ],
          [
           "PATTON OSWALT: ANNIHILATION (2017) – Full Transcript"
          ],
          [
           "Chris Rock: Kill The Messenger – London, New York, Johannesburg (2008) – Transcript"
          ],
          [
           "BILL MAHER: LIVE FROM D.C. (2014) – Full Transcript"
          ],
          [
           "Sarah Silverman: Jesus Is Magic (2005) – Transcript"
          ],
          [
           "SARAH SILVERMAN: WE ARE MIRACLES (2013) – Full Transcript"
          ],
          [
           "Pablo Francisco: Ouch! Live From San Jose (2006) – Full Transcript"
          ],
          [
           "BILL MAHER… BUT I’M NOT WRONG (2010) – Full Transcript"
          ],
          [
           "RUSSELL BRAND: MESSIAH COMPLEX (2013) – Full Transcript"
          ],
          [
           "Chris Rock: Bigger & Blacker (1999) – Transcript"
          ],
          [
           "Gabriel Iglesias: Hot And Fluffy (2007) – Transcript"
          ],
          [
           "GABRIEL IGLESIAS: I’M NOT FAT … I’M FLUFFY (2009) – Full Transcript"
          ],
          [
           "GABRIEL IGLESIAS: I’M SORRY FOR WHAT I SAID WHEN I WAS HUNGRY (2016) – Full Transcript"
          ],
          [
           "RORY SCOVEL TRIES STAND-UP FOR THE FIRST TIME (2017) – Full Transcript"
          ],
          [
           "LISA LAMPANELLI: BACK TO THE DRAWING BOARD (2015) – Full Transcript"
          ],
          [
           "ERIK GRIFFIN: THE UGLY TRUTH (2017) – Full Transcript"
          ],
          [
           "JEN KIRKMAN: JUST KEEP LIVIN’? (2017) – Full Transcript"
          ],
          [
           "DANIEL TOSH: COMPLETELY SERIOUS (2007) – Full Transcript"
          ],
          [
           "AL MADRIGAL: WHY IS THE RABBIT CRYING? (2013) – Full Transcript"
          ],
          [
           "NEAL BRENNAN: 3 MICS (2017)- FULL TRANSCRIPT"
          ],
          [
           "John Mulaney: New In Town (2012) – Transcript"
          ],
          [
           "Donald Glover: Weirdo (2012) – Transcript"
          ],
          [
           "ALI WONG: BABY COBRA (2016) – Full Transcript"
          ],
          [
           "Norm Macdonald: Hitler’s Dog, Gossip & Trickery (2017) – Transcript"
          ],
          [
           "DANIEL TOSH: PEOPLE PLEASER (2016) – FULL TRANSCRIPT"
          ],
          [
           "Marc Maron: More Later (2015) – Full Transcript"
          ],
          [
           "Dylan Moran: Off The Hook (2015) – Transcript"
          ],
          [
           "Richard Pryor: Live And Smokin’ (1971) – Transcript"
          ],
          [
           "RICHARD PRYOR: …HERE AND NOW (1983) – Full Transcript"
          ],
          [
           "AMY SCHUMER: MOSTLY SEX STUFF (2012) – Full Transcript"
          ],
          [
           "Jim Jefferies: Alcoholocaust (2010) – Transcript"
          ],
          [
           "AMY SCHUMER: LIVE AT THE APOLLO (2015) – Full Transcript"
          ],
          [
           "Kevin Hart: Seriously Funny (2010) – Transcript"
          ],
          [
           "Hannibal Buress: Comedy Camisado (2016) – Transcript"
          ],
          [
           "Neal Brennan: Women And Black Dudes (2014) – Transcript"
          ],
          [
           "NICK OFFERMAN: AMERICAN HAM (2014) – Full Transcript"
          ],
          [
           "AZIZ ANSARI: INTIMATE MOMENTS FOR A SENSUAL EVENING (2010) – Full Transcript"
          ],
          [
           "BIG JAY OAKERSON: LIVE AT WEBSTER HALL (2016) – Full Transcript"
          ],
          [
           "George Carlin at USC (1977) – Full Transcript"
          ],
          [
           "Jim Norton: Mouthful Of Shame (2017) Transcript"
          ],
          [
           "Michael Che Matters (2016) – Transcript"
          ],
          [
           "Joe Rogan: Triggered (2016) – Transcript"
          ],
          [
           "Trevor Noah: Lost In Translation (2015) – Transcript"
          ],
          [
           "MARIA BAMFORD: OLD BABY (2017) – FULL TRANSCRIPT"
          ],
          [
           "Bo Burnham: What (2013) – Transcript"
          ],
          [
           "Bo Burnham: Make Happy (2016) – Transcript"
          ],
          [
           "ANTHONY JESELNIK: CALIGULA (2013) – Full Transcript"
          ],
          [
           "Anthony Jeselnik: Thoughts And Prayers (2015) – Full Transcript"
          ],
          [
           "John Mulaney: The Comeback Kid (2015) – Transcript"
          ],
          [
           "BILL HICKS: REVELATIONS (1993) – FULL TRANSCRIPT"
          ],
          [
           "LEWIS BLACK: BLACK TO THE FUTURE (2016) – Full Transcript"
          ],
          [
           "DOUG STANHOPE: BEFORE TURNING THE GUN ON HIMSELF (2012) – Transcript"
          ],
          [
           "DOUG STANHOPE: DEADBEAT HERO (2004) – Transcript"
          ],
          [
           "JIM JEFFERIES: CONTRABAND (2008) – Full Transcript"
          ],
          [
           "Mike Birbiglia: Thank God for Jokes (2017) – Transcript"
          ],
          [
           "SARAH SILVERMAN: A SPECK OF DUST (2017) – Full Transcript"
          ],
          [
           "GEORGE CARLIN: PLAYING WITH YOUR HEAD (1986) – Full Transcript"
          ],
          [
           "GEORGE CARLIN: AGAIN!* (1978) – Full Transcript"
          ],
          [
           "Louis C.K.: Chewed Up (2008) – Transcript"
          ],
          [
           "Tom Segura: Completely Normal (2014) – Transcript"
          ],
          [
           "GEORGE CARLIN: CARLIN ON CAMPUS (1984) – Full Transcript"
          ],
          [
           "Louis C.K.: Live at the Beacon Theatre (2011) – Transcript"
          ],
          [
           "RICKY GERVAIS: OUT OF ENGLAND 2 (2010) – Full Transcript"
          ],
          [
           "AMY SCHUMER: THE LEATHER SPECIAL (2017) – Full Transcript"
          ],
          [
           "JIM GAFFIGAN: CINCO (2017) – Full Transcript"
          ],
          [
           "JIM JEFFERIES: I SWEAR TO GOD (2009) – FULL TRANSCRIPT"
          ],
          [
           "LOUIS C.K.: HILARIOUS (2010) – Full Transcript"
          ],
          [
           "LOUIS C.K.: SHAMELESS (2007) – Full Transcript"
          ],
          [
           "BILL BURR: I’M SORRY YOU FEEL THAT WAY (2014) – Full Transcript"
          ],
          [
           "BILL BURR: YOU PEOPLE ARE ALL THE SAME (2012) – Full Transcript"
          ],
          [
           "Dave Chappelle: For What It’s Worth (2004) – Transcript"
          ],
          [
           "Dave Chappelle: Killin’ Them Softly (2000) – Transcript"
          ],
          [
           "Eddie Griffin: You Can Tell ‘Em I Said It! (2011) – Transcript"
          ],
          [
           "BILL BURR: WALK YOUR WAY OUT (2017) – Full Transcript"
          ],
          [
           "LOUIS C.K.: OH MY GOD (2013) – Full Transcript"
          ],
          [
           "LOUIS C.K.: LIVE AT  THE COMEDY STORE (2015) – Transcript"
          ],
          [
           "BILL HICKS: RELENTLESS (1991) – Transcript"
          ],
          [
           "Daniel Tosh: Happy Thoughts (2011) – Transcript"
          ],
          [
           "Patrice O’Neal: Elephant in the Room (2011) – Transcript"
          ],
          [
           "Katt Williams: Live (2006) – Transcript"
          ],
          [
           "Richard Pryor: Live in Concert (1979) – Transcript"
          ],
          [
           "RICHARD PRYOR: LIVE ON THE SUNSET STRIP (1982) – Full Transcript"
          ],
          [
           "Trevor Noah: Afraid Of The Dark (2017) – Transcript"
          ],
          [
           "JIM JEFFERIES: BARE (2014) – Full Transcript"
          ],
          [
           "Dave Chappelle: Deep in the Heart of Texas (2017) – Transcript"
          ],
          [
           "Tom Segura: Mostly Stories (2016) – Transcript"
          ],
          [
           "BILL BURR: LET IT GO (2010) – TRANSCRIPT"
          ],
          [
           "JIM JEFFERIES: FREEDUMB (2016) – Full Transcript"
          ],
          [
           "Eddie Murphy: Delirious (1983) – Transcript"
          ],
          [
           "Dave Chappelle: The Age of Spin (2017) – Transcript"
          ],
          [
           "GEORGE CARLIN: BACK IN TOWN (1996) – Full transcript"
          ],
          [
           "LOUIS C.K.: 2017 – Full transcript"
          ],
          [
           "George Carlin: Jamming in New York (1992) – Transcript"
          ],
          [
           "Reggie Watts: Spatial (2016) – Full Transcript"
          ],
          [
           "GEORGE CARLIN: COMPLAINTS AND GRIEVANCES (2001) – FULL TRANSCRIPT"
          ],
          [
           "GEORGE CARLIN: LIFE IS WORTH LOSING (2006) – Transcript"
          ],
          [
           "George Carlin: It’s Bad For Ya (2008) Full transcript"
          ],
          [
           "Dave Chappelle: 8:46 – Transcript"
          ],
          [
           "JIM JEFFERIES ON GUN CONTROL [FULL TRANSCRIPT]"
          ]
         ],
         "hovertemplate": "Reggie Watts: Spatial (2016) – Full Transcript=%{x}<br>hover_data_0=%{customdata[0]}<extra></extra>",
         "legendgroup": "",
         "marker": {
          "color": "#636efa"
         },
         "name": "",
         "notched": false,
         "offsetgroup": "",
         "orientation": "h",
         "showlegend": false,
         "type": "box",
         "x": [
          -0.014805106223135009,
          -0.026892021789136453,
          0.45559541632256306,
          0.2178698335408761,
          0.06959871630912329,
          -0.08839459331083485,
          0.20449386637404246,
          0.3863962063104837,
          -0.03357496870678291,
          0.5424185766528432,
          0.519298244395063,
          0.4252135667611626,
          -0.13184898699288716,
          0.05909495443883937,
          0.10987998158937531,
          -0.02020912787848267,
          0.24510426322752138,
          0.01774155754742869,
          -0.006025121623692134,
          0.18438373547925777,
          0.004549164745182285,
          0.6193424562989377,
          0.18689783828450424,
          0.004926013685132,
          -0.1342932324253281,
          0.22337241197021399,
          -0.06767715679145428,
          0.04370607960259178,
          0.18501134147009513,
          0.37690005432606916,
          -0.0027136453246454223,
          0.08177849910559223,
          0.2876399043757144,
          0.36127909456134544,
          -0.19512833626732082,
          0.10150902588592059,
          0.09907905510206734,
          0.21272662986717114,
          0.5106370763059019,
          0.05122618877845736,
          0.20486564332949375,
          0.3250412047024196,
          0.13382546048692515,
          -0.03303684925118114,
          0.27563612870887483,
          0.28704082073750475,
          -0.11446039994899447,
          -0.04668110843946806,
          0.19427122744025538,
          0.3065144481403216,
          0.29279392375373986,
          0.34391124252070643,
          0.4820944385350132,
          0.048873685313353704,
          0.0670801697038244,
          -0.01734624184199636,
          0.3128313359614249,
          0.34735818293519,
          -0.09833053483634165,
          0.45545343356089674,
          -0.05872773238747604,
          -0.043830216180321624,
          0.17011031160409362,
          0.23533057479943914,
          0.3758611375766035,
          -0.07370726451873821,
          -0.12112052122276358,
          0.15286590228473684,
          -0.172056664505297,
          0.2029490878097208,
          0.31790213079012364,
          0.1516202183793271,
          0.08836707962595135,
          0.25959202572925133,
          -0.052965157481921474,
          -0.08527427929139354,
          0.3619152815520018,
          -0.022960153986403123,
          0.2641158239348039,
          0.028159704538623015,
          0.09327718424785571,
          -0.26268986130106475,
          0.11718745238948244,
          0.33212956076347927,
          0.16460129443975333,
          0.2727914514831075,
          0.09183818357485522,
          0.23880248262139314,
          0.018749191748951052,
          -0.03456688308368258,
          0.1361143552579382,
          0.10752533219658975,
          -0.038833385097325535,
          -0.07982704211780821,
          0.3166580900372915,
          0.2784895688874145,
          0.25060750399886217,
          0.1643656983710141,
          -0.07026923709013906,
          0.09674535884922661,
          0.1192513437392675,
          0.13138187703813525,
          0.30566278044859796,
          0.03745815604831809,
          -0.001987685045859583,
          -0.1788603599507228,
          0.14603766102391935,
          0.5401393689877716,
          0.1892670373613804,
          -0.0232944022397885,
          0.4982581837994937,
          -0.0030095771200094185,
          0.29019042857772515,
          0.282974949570553,
          0.4712507389796068,
          0.4193908194769679,
          -0.11435711920728026,
          0.2998060867822254,
          0.3695412746103278,
          -0.0652784715243601,
          0.08923182934880307,
          -0.3352868306968987,
          0.05771701646596682,
          -0.44708482723935306,
          0.044133156244986455,
          -0.0678714375460539,
          0.17931183348111368,
          0.20428426185364418,
          0.2477361455616871,
          0.5398549203494093,
          0.553744920662193,
          -0.061679757526160756,
          0.2779985092715238,
          0.06844797006584782,
          0.3539864253885706,
          0.4175405353392055,
          0.5061643875964194,
          0.211593429129443,
          0.0838683230339072,
          0.10934079326034096,
          -0.2056626774972783,
          0.18056268022807676,
          0.28367732817271746,
          -0.4617919946104998,
          0.2781196968875478,
          0.5750503826588235,
          0.046426000197384354,
          0.11764903558121129,
          -0.14106144208030086,
          0.40536181668182125,
          0.0056592151029019044,
          0.33064864488069445,
          -0.052547529002432564,
          0.0026126615395722502,
          -0.14770888379278685,
          0.18314638332802874,
          0.022687141916833867,
          -0.008122174836230636,
          -0.05912363158152156,
          0.26098766820053865,
          0.3986893751165611,
          -0.23443277073721944,
          -0.23794242113040387,
          0.6121852389672482,
          0.09925329877175033,
          -0.014854801444633886,
          0.2603791983362145,
          0.11393620761709741,
          0.4925086359069022,
          0.24526332707010334,
          0.3309964711141238,
          0.044704518993566006,
          0.6100510970975946,
          0.2632304190122996,
          -0.08652360005969258,
          0.13607167653579916,
          0.1304935929703328,
          -0.005233834139052096,
          0.1833758432795749,
          0.1061443889102219,
          -0.21165820489803142,
          -0.17960746789648918,
          0.2622243420888832,
          0.041914076624776336,
          -0.014181232172729083,
          -0.15443208651498236,
          -0.15395282789166986,
          0.2588733992563452,
          0.4239509030438458,
          0.43112602652825815,
          0.17044985890622155,
          0.22583853921543234,
          0.04247699165186582,
          0.28804067204873957,
          -0.17007438722332166,
          0.06731715914484585,
          -0.12707968624886862,
          -0.09206123392783966,
          0.32714768130851873,
          -0.1322763278041459,
          0.24305112277644852,
          0.010730015879511903,
          0.11981777739853794,
          0.2780409051733929,
          0.4028430842046695,
          0.6710683369360659,
          0.2052931987044583,
          0.2089427020584962,
          0.34726254736607437,
          0.1321378032566486,
          0.08230969227484271,
          -0.11900832276419179,
          0.20577625827742263,
          -0.09337262688447501,
          0.3321623478290471,
          0.20579721110918692,
          0.39288104388676603,
          0.31203850873660355,
          0.32700279320323605,
          0.16479447258190316,
          0.00666530334103381,
          0.14585530982230815,
          0.20285161165834908,
          0.2140786908835121,
          0.2577859141982395,
          0.21290422660032643,
          0.11986113911475896,
          0.2961209560866934,
          0.5078824080303466,
          0.21957661606089984,
          0.07031051338508425,
          -0.005554115899158038,
          -0.07970216220996298,
          0.14175900986356174,
          0.1937002793864322,
          0.3767271214049014,
          0.1937372585525879,
          0.2093883166702068,
          -0.039029407109081024,
          0.2277909715039758,
          0.5354437177396,
          -0.36386957788935026,
          0.09640118331040615,
          -0.07087316594854874,
          0.2212441220083729,
          0.23899647441546923,
          0.2139133540462574,
          -0.2545628255385556,
          0.23200447407852207,
          0.11123458840313613,
          0.10294812294360034,
          -0.10944105028215631,
          0.03570161545675579,
          0.010778674882908276,
          0.37916498538161014,
          0.37814314800343335,
          0.25821688992182446,
          0.04225478381410992,
          0.017644848660787762,
          -0.16160465245311795,
          0.0980281220454194,
          0.011662692309745384,
          0.044737728304011765,
          -0.0037046021826229875,
          -0.3292240897934838,
          0.10796188165658918,
          0.3354615907784141,
          0.12319523355293781,
          -0.3133863801787759,
          -0.08213632137063545,
          0.11356238299783296,
          0.23966913579810392,
          -0.017447468782431585,
          0.30185071413419867,
          0.4871841905018744,
          0.28415726533435687,
          -0.18822001434046143,
          -0.005793295159756115,
          -0.03296993395938938,
          0.1503511045512583,
          0.15558966293708376,
          0.06069272244864285,
          -0.11962270215972902,
          0.2885730268839197,
          0.11115950920094925,
          0.25561795493228556,
          0.007785211708605966,
          0.1770891827064462,
          0.364888850597351,
          0.5904515993142365,
          0.022702642042468926,
          -0.06328344225097521,
          0.29109173402572064,
          0.4167381569375404,
          -0.09245793956585081,
          -0.2519594223197186,
          0.3567016159713568,
          0.557319637027299,
          -0.44215879358110577,
          -0.12372857430084694,
          -0.028525581781358722,
          0.038904613352427564,
          0.003860324954830227,
          0.039707095260972686,
          1.0000000000000004,
          0.14061971284647615,
          0.07724108794119608,
          0.07041361155908167,
          -0.18493664311784622,
          0.3599729621351156
         ],
         "x0": " ",
         "xaxis": "x",
         "y0": " ",
         "yaxis": "y"
        }
       ],
       "layout": {
        "boxmode": "group",
        "legend": {
         "tracegroupgap": 0
        },
        "margin": {
         "t": 60
        },
        "template": {
         "data": {
          "bar": [
           {
            "error_x": {
             "color": "#2a3f5f"
            },
            "error_y": {
             "color": "#2a3f5f"
            },
            "marker": {
             "line": {
              "color": "#E5ECF6",
              "width": 0.5
             },
             "pattern": {
              "fillmode": "overlay",
              "size": 10,
              "solidity": 0.2
             }
            },
            "type": "bar"
           }
          ],
          "barpolar": [
           {
            "marker": {
             "line": {
              "color": "#E5ECF6",
              "width": 0.5
             },
             "pattern": {
              "fillmode": "overlay",
              "size": 10,
              "solidity": 0.2
             }
            },
            "type": "barpolar"
           }
          ],
          "carpet": [
           {
            "aaxis": {
             "endlinecolor": "#2a3f5f",
             "gridcolor": "white",
             "linecolor": "white",
             "minorgridcolor": "white",
             "startlinecolor": "#2a3f5f"
            },
            "baxis": {
             "endlinecolor": "#2a3f5f",
             "gridcolor": "white",
             "linecolor": "white",
             "minorgridcolor": "white",
             "startlinecolor": "#2a3f5f"
            },
            "type": "carpet"
           }
          ],
          "choropleth": [
           {
            "colorbar": {
             "outlinewidth": 0,
             "ticks": ""
            },
            "type": "choropleth"
           }
          ],
          "contour": [
           {
            "colorbar": {
             "outlinewidth": 0,
             "ticks": ""
            },
            "colorscale": [
             [
              0,
              "#0d0887"
             ],
             [
              0.1111111111111111,
              "#46039f"
             ],
             [
              0.2222222222222222,
              "#7201a8"
             ],
             [
              0.3333333333333333,
              "#9c179e"
             ],
             [
              0.4444444444444444,
              "#bd3786"
             ],
             [
              0.5555555555555556,
              "#d8576b"
             ],
             [
              0.6666666666666666,
              "#ed7953"
             ],
             [
              0.7777777777777778,
              "#fb9f3a"
             ],
             [
              0.8888888888888888,
              "#fdca26"
             ],
             [
              1,
              "#f0f921"
             ]
            ],
            "type": "contour"
           }
          ],
          "contourcarpet": [
           {
            "colorbar": {
             "outlinewidth": 0,
             "ticks": ""
            },
            "type": "contourcarpet"
           }
          ],
          "heatmap": [
           {
            "colorbar": {
             "outlinewidth": 0,
             "ticks": ""
            },
            "colorscale": [
             [
              0,
              "#0d0887"
             ],
             [
              0.1111111111111111,
              "#46039f"
             ],
             [
              0.2222222222222222,
              "#7201a8"
             ],
             [
              0.3333333333333333,
              "#9c179e"
             ],
             [
              0.4444444444444444,
              "#bd3786"
             ],
             [
              0.5555555555555556,
              "#d8576b"
             ],
             [
              0.6666666666666666,
              "#ed7953"
             ],
             [
              0.7777777777777778,
              "#fb9f3a"
             ],
             [
              0.8888888888888888,
              "#fdca26"
             ],
             [
              1,
              "#f0f921"
             ]
            ],
            "type": "heatmap"
           }
          ],
          "heatmapgl": [
           {
            "colorbar": {
             "outlinewidth": 0,
             "ticks": ""
            },
            "colorscale": [
             [
              0,
              "#0d0887"
             ],
             [
              0.1111111111111111,
              "#46039f"
             ],
             [
              0.2222222222222222,
              "#7201a8"
             ],
             [
              0.3333333333333333,
              "#9c179e"
             ],
             [
              0.4444444444444444,
              "#bd3786"
             ],
             [
              0.5555555555555556,
              "#d8576b"
             ],
             [
              0.6666666666666666,
              "#ed7953"
             ],
             [
              0.7777777777777778,
              "#fb9f3a"
             ],
             [
              0.8888888888888888,
              "#fdca26"
             ],
             [
              1,
              "#f0f921"
             ]
            ],
            "type": "heatmapgl"
           }
          ],
          "histogram": [
           {
            "marker": {
             "pattern": {
              "fillmode": "overlay",
              "size": 10,
              "solidity": 0.2
             }
            },
            "type": "histogram"
           }
          ],
          "histogram2d": [
           {
            "colorbar": {
             "outlinewidth": 0,
             "ticks": ""
            },
            "colorscale": [
             [
              0,
              "#0d0887"
             ],
             [
              0.1111111111111111,
              "#46039f"
             ],
             [
              0.2222222222222222,
              "#7201a8"
             ],
             [
              0.3333333333333333,
              "#9c179e"
             ],
             [
              0.4444444444444444,
              "#bd3786"
             ],
             [
              0.5555555555555556,
              "#d8576b"
             ],
             [
              0.6666666666666666,
              "#ed7953"
             ],
             [
              0.7777777777777778,
              "#fb9f3a"
             ],
             [
              0.8888888888888888,
              "#fdca26"
             ],
             [
              1,
              "#f0f921"
             ]
            ],
            "type": "histogram2d"
           }
          ],
          "histogram2dcontour": [
           {
            "colorbar": {
             "outlinewidth": 0,
             "ticks": ""
            },
            "colorscale": [
             [
              0,
              "#0d0887"
             ],
             [
              0.1111111111111111,
              "#46039f"
             ],
             [
              0.2222222222222222,
              "#7201a8"
             ],
             [
              0.3333333333333333,
              "#9c179e"
             ],
             [
              0.4444444444444444,
              "#bd3786"
             ],
             [
              0.5555555555555556,
              "#d8576b"
             ],
             [
              0.6666666666666666,
              "#ed7953"
             ],
             [
              0.7777777777777778,
              "#fb9f3a"
             ],
             [
              0.8888888888888888,
              "#fdca26"
             ],
             [
              1,
              "#f0f921"
             ]
            ],
            "type": "histogram2dcontour"
           }
          ],
          "mesh3d": [
           {
            "colorbar": {
             "outlinewidth": 0,
             "ticks": ""
            },
            "type": "mesh3d"
           }
          ],
          "parcoords": [
           {
            "line": {
             "colorbar": {
              "outlinewidth": 0,
              "ticks": ""
             }
            },
            "type": "parcoords"
           }
          ],
          "pie": [
           {
            "automargin": true,
            "type": "pie"
           }
          ],
          "scatter": [
           {
            "marker": {
             "colorbar": {
              "outlinewidth": 0,
              "ticks": ""
             }
            },
            "type": "scatter"
           }
          ],
          "scatter3d": [
           {
            "line": {
             "colorbar": {
              "outlinewidth": 0,
              "ticks": ""
             }
            },
            "marker": {
             "colorbar": {
              "outlinewidth": 0,
              "ticks": ""
             }
            },
            "type": "scatter3d"
           }
          ],
          "scattercarpet": [
           {
            "marker": {
             "colorbar": {
              "outlinewidth": 0,
              "ticks": ""
             }
            },
            "type": "scattercarpet"
           }
          ],
          "scattergeo": [
           {
            "marker": {
             "colorbar": {
              "outlinewidth": 0,
              "ticks": ""
             }
            },
            "type": "scattergeo"
           }
          ],
          "scattergl": [
           {
            "marker": {
             "colorbar": {
              "outlinewidth": 0,
              "ticks": ""
             }
            },
            "type": "scattergl"
           }
          ],
          "scattermapbox": [
           {
            "marker": {
             "colorbar": {
              "outlinewidth": 0,
              "ticks": ""
             }
            },
            "type": "scattermapbox"
           }
          ],
          "scatterpolar": [
           {
            "marker": {
             "colorbar": {
              "outlinewidth": 0,
              "ticks": ""
             }
            },
            "type": "scatterpolar"
           }
          ],
          "scatterpolargl": [
           {
            "marker": {
             "colorbar": {
              "outlinewidth": 0,
              "ticks": ""
             }
            },
            "type": "scatterpolargl"
           }
          ],
          "scatterternary": [
           {
            "marker": {
             "colorbar": {
              "outlinewidth": 0,
              "ticks": ""
             }
            },
            "type": "scatterternary"
           }
          ],
          "surface": [
           {
            "colorbar": {
             "outlinewidth": 0,
             "ticks": ""
            },
            "colorscale": [
             [
              0,
              "#0d0887"
             ],
             [
              0.1111111111111111,
              "#46039f"
             ],
             [
              0.2222222222222222,
              "#7201a8"
             ],
             [
              0.3333333333333333,
              "#9c179e"
             ],
             [
              0.4444444444444444,
              "#bd3786"
             ],
             [
              0.5555555555555556,
              "#d8576b"
             ],
             [
              0.6666666666666666,
              "#ed7953"
             ],
             [
              0.7777777777777778,
              "#fb9f3a"
             ],
             [
              0.8888888888888888,
              "#fdca26"
             ],
             [
              1,
              "#f0f921"
             ]
            ],
            "type": "surface"
           }
          ],
          "table": [
           {
            "cells": {
             "fill": {
              "color": "#EBF0F8"
             },
             "line": {
              "color": "white"
             }
            },
            "header": {
             "fill": {
              "color": "#C8D4E3"
             },
             "line": {
              "color": "white"
             }
            },
            "type": "table"
           }
          ]
         },
         "layout": {
          "annotationdefaults": {
           "arrowcolor": "#2a3f5f",
           "arrowhead": 0,
           "arrowwidth": 1
          },
          "autotypenumbers": "strict",
          "coloraxis": {
           "colorbar": {
            "outlinewidth": 0,
            "ticks": ""
           }
          },
          "colorscale": {
           "diverging": [
            [
             0,
             "#8e0152"
            ],
            [
             0.1,
             "#c51b7d"
            ],
            [
             0.2,
             "#de77ae"
            ],
            [
             0.3,
             "#f1b6da"
            ],
            [
             0.4,
             "#fde0ef"
            ],
            [
             0.5,
             "#f7f7f7"
            ],
            [
             0.6,
             "#e6f5d0"
            ],
            [
             0.7,
             "#b8e186"
            ],
            [
             0.8,
             "#7fbc41"
            ],
            [
             0.9,
             "#4d9221"
            ],
            [
             1,
             "#276419"
            ]
           ],
           "sequential": [
            [
             0,
             "#0d0887"
            ],
            [
             0.1111111111111111,
             "#46039f"
            ],
            [
             0.2222222222222222,
             "#7201a8"
            ],
            [
             0.3333333333333333,
             "#9c179e"
            ],
            [
             0.4444444444444444,
             "#bd3786"
            ],
            [
             0.5555555555555556,
             "#d8576b"
            ],
            [
             0.6666666666666666,
             "#ed7953"
            ],
            [
             0.7777777777777778,
             "#fb9f3a"
            ],
            [
             0.8888888888888888,
             "#fdca26"
            ],
            [
             1,
             "#f0f921"
            ]
           ],
           "sequentialminus": [
            [
             0,
             "#0d0887"
            ],
            [
             0.1111111111111111,
             "#46039f"
            ],
            [
             0.2222222222222222,
             "#7201a8"
            ],
            [
             0.3333333333333333,
             "#9c179e"
            ],
            [
             0.4444444444444444,
             "#bd3786"
            ],
            [
             0.5555555555555556,
             "#d8576b"
            ],
            [
             0.6666666666666666,
             "#ed7953"
            ],
            [
             0.7777777777777778,
             "#fb9f3a"
            ],
            [
             0.8888888888888888,
             "#fdca26"
            ],
            [
             1,
             "#f0f921"
            ]
           ]
          },
          "colorway": [
           "#636efa",
           "#EF553B",
           "#00cc96",
           "#ab63fa",
           "#FFA15A",
           "#19d3f3",
           "#FF6692",
           "#B6E880",
           "#FF97FF",
           "#FECB52"
          ],
          "font": {
           "color": "#2a3f5f"
          },
          "geo": {
           "bgcolor": "white",
           "lakecolor": "white",
           "landcolor": "#E5ECF6",
           "showlakes": true,
           "showland": true,
           "subunitcolor": "white"
          },
          "hoverlabel": {
           "align": "left"
          },
          "hovermode": "closest",
          "mapbox": {
           "style": "light"
          },
          "paper_bgcolor": "white",
          "plot_bgcolor": "#E5ECF6",
          "polar": {
           "angularaxis": {
            "gridcolor": "white",
            "linecolor": "white",
            "ticks": ""
           },
           "bgcolor": "#E5ECF6",
           "radialaxis": {
            "gridcolor": "white",
            "linecolor": "white",
            "ticks": ""
           }
          },
          "scene": {
           "xaxis": {
            "backgroundcolor": "#E5ECF6",
            "gridcolor": "white",
            "gridwidth": 2,
            "linecolor": "white",
            "showbackground": true,
            "ticks": "",
            "zerolinecolor": "white"
           },
           "yaxis": {
            "backgroundcolor": "#E5ECF6",
            "gridcolor": "white",
            "gridwidth": 2,
            "linecolor": "white",
            "showbackground": true,
            "ticks": "",
            "zerolinecolor": "white"
           },
           "zaxis": {
            "backgroundcolor": "#E5ECF6",
            "gridcolor": "white",
            "gridwidth": 2,
            "linecolor": "white",
            "showbackground": true,
            "ticks": "",
            "zerolinecolor": "white"
           }
          },
          "shapedefaults": {
           "line": {
            "color": "#2a3f5f"
           }
          },
          "ternary": {
           "aaxis": {
            "gridcolor": "white",
            "linecolor": "white",
            "ticks": ""
           },
           "baxis": {
            "gridcolor": "white",
            "linecolor": "white",
            "ticks": ""
           },
           "bgcolor": "#E5ECF6",
           "caxis": {
            "gridcolor": "white",
            "linecolor": "white",
            "ticks": ""
           }
          },
          "title": {
           "x": 0.05
          },
          "xaxis": {
           "automargin": true,
           "gridcolor": "white",
           "linecolor": "white",
           "ticks": "",
           "title": {
            "standoff": 15
           },
           "zerolinecolor": "white",
           "zerolinewidth": 2
          },
          "yaxis": {
           "automargin": true,
           "gridcolor": "white",
           "linecolor": "white",
           "ticks": "",
           "title": {
            "standoff": 15
           },
           "zerolinecolor": "white",
           "zerolinewidth": 2
          }
         }
        },
        "xaxis": {
         "anchor": "y",
         "domain": [
          0,
          1
         ],
         "title": {
          "text": "Reggie Watts: Spatial (2016) – Full Transcript"
         }
        },
        "yaxis": {
         "anchor": "x",
         "domain": [
          0,
          1
         ]
        }
       }
      },
      "text/html": [
       "<div>                            <div id=\"14fbe5af-c346-4f80-ac37-d2bed880e8f9\" class=\"plotly-graph-div\" style=\"height:525px; width:100%;\"></div>            <script type=\"text/javascript\">                require([\"plotly\"], function(Plotly) {                    window.PLOTLYENV=window.PLOTLYENV || {};                                    if (document.getElementById(\"14fbe5af-c346-4f80-ac37-d2bed880e8f9\")) {                    Plotly.newPlot(                        \"14fbe5af-c346-4f80-ac37-d2bed880e8f9\",                        [{\"alignmentgroup\":\"True\",\"boxpoints\":\"all\",\"customdata\":[[\"Jim Gaffigan: Comedy Monster (2021) | Transcript\"],[\"Louis C. K.: Sorry (2021) | Transcript\"],[\"Drew Michael: Drew Michael (2018) | Transcript\"],[\"Drew Michael: Red Blue Green (2021) | Transcript\"],[\"Mo Amer: Mohammed in Texas (2021) | Transcript\"],[\"Dave Chappelle: The Closer (2021) | Transcript\"],[\"Kathleen Madigan: Bothering Jesus (2016) \\u2013 Transcript\"],[\"Kathleen Madigan: Madigan Again (2013) \\u2013 Transcript\"],[\"Phil Wang: Philly Philly Wang Wang (2021) \\u2013 Transcript\"],[\"Tom Papa: You\\u2019re Doing Great! (2020) \\u2013 Transcript\"],[\"Tom Papa: Human Mule (2016) \\u2013 Transcript\"],[\"Tom Papa: Freaked Out (2013) \\u2013 Transcript\"],[\"Bo Burnham: Inside (2021) \\u2013 Transcript\"],[\"Tig Notaro: Boyish Girl Interrupted (2015) \\u2013 Transcript\"],[\"Joe List: I Hate Myself (2020) \\u2013 Transcript\"],[\"Nate Bargatze: The Greatest Average American (2021) \\u2013 Transcript\"],[\"Brian Regan: On The Rocks (2021) \\u2013 Transcript\"],[\"Doug Stanhope: Beer Hall Putsch (2013) \\u2013 Transcript\"],[\"Chris Rock Total Blackout: The Tamborine Extended Cut \\u2013 Transcript\"],[\"Sarah Cooper: Everything\\u2019s Fine (2020) \\u2013 Transcript\"],[\"Bo Burnham: Words, Words, Words (2010) \\u2013 Transcript\"],[\"Vir Das: Outside in \\u2013 The Lockdown Special (2020) \\u2013 Transcript\"],[\"Larry the Cable Guy \\u2013 Remain Seated (2020) \\u2013 Transcript\"],[\"Craig Ferguson: Just Being Honest (2015) \\u2013 Transcript\"],[\"Kevin Hart: Zero F**ks Given (2020) \\u2013 Transcript\"],[\"Sam Morril: I Got This (2020) \\u2013 Transcript\"],[\"RONNY CHIENG: ASIAN COMEDIAN DESTROYS AMERICA (2019) \\u2013 TRANSCRIPT\"],[\"Craig Ferguson: A Wee Bit o\\u2019 Revolution (2009) \\u2013 Transcript\"],[\"MICHAEL MCINTYRE: SHOWMAN (2020) \\u2013 TRANSCRIPT\"],[\"ROB SCHNEIDER: ASIAN MOMMA, MEXICAN KIDS (2020) \\u2013 TRANSCRIPT\"],[\"Sam Jay: 3 in the Morning (2020) \\u2013 Transcript\"],[\"Jack Whitehall: I\\u2019m Only Joking (2020) | Transcript\"],[\"URZILA CARLSON: OVERQUALIFIED LOSER (2020) \\u2013 FULL TRANSCRIPT\"],[\"GEORGE LOPEZ: WE\\u2019LL DO IT FOR HALF (2020) \\u2013 FULL TRANSCRIPT\"],[\"JIM JEFFERIES: INTOLERANT (2020) \\u2013 FULL TRANSCRIPT\"],[\"George Carlin: Doin\\u2019 It Again (1990) \\u2013 Transcript\"],[\"ERIC ANDRE: LEGALIZE EVERYTHING (2020)\"],[\"ROY WOOD JR.: FATHER FIGURE (2017) \\u2013 FULL TRANSCRIPT\"],[\"Mark Normand: Don\\u2019t Be Yourself (2017) \\u2013 Transcript\"],[\"Chris Gethard: Career Suicide (2017) \\u2013 Transcript\"],[\"RAMY YOUSSEF: FEELINGS (2019) \\u2013 FULL TRANSCRIPT\"],[\"KENNY SEBASTIAN DON\\u2019T BE THAT GUY (2017) \\u2013 FULL TRANSCRIPT\"],[\"BILLY CONNOLLY: HIGH HORSE TOUR LIVE (2016) \\u2013 FULL TRANSCRIPT\"],[\"Hannah Gadsby: Douglas (2020) \\u2013 Transcript\"],[\"Hasan Minhaj: Homecoming King (2017) \\u2013 Transcript\"],[\"PATTON OSWALT: I LOVE EVERYTHING (2020) \\u2013 FULL TRANSCRIPT\"],[\"RUSSELL PETERS: DEPORTED (2020) \\u2013 FULL TRANSCRIPT\"],[\"JIMMY O. YANG: GOOD DEAL (2020) \\u2013 FULL TRANSCRIPT\"],[\"JO KOY: LIGHTS OUT (2012) \\u2013 FULL TRANSCRIPT\"],[\"LEE MACK: GOING OUT LIVE (2010) \\u2013 FULL TRANSCRIPT\"],[\"LEE MACK: LIVE (2007) \\u2013 FULL TRANSCRIPT\"],[\"T.J. MILLER: NO REAL REASON (2011) \\u2013 FULL TRANSCRIPT\"],[\"Jerry Seinfeld: 23 Hours To Kill (2020) \\u2013 Transcript\"],[\"SINCERELY LOUIS CK (2020)\"],[\"JIM NORTON: AMERICAN DEGENERATE (2013) \\u2013 FULL TRANSCRIPT\"],[\"Jim Norton: Monster Rain (2007) \\u2013 Transcript\"],[\"MARIA BAMFORD: WEAKNESS IS THE BRAND (2020) \\u2013 FULL TRANSCRIPT\"],[\"CHRIS D\\u2019ELIA: WHITE MALE. BLACK COMIC. (2013) \\u2013 FULL TRANSCRIPT\"],[\"Chris D\\u2019Elia: Man on Fire (2017) \\u2013 Full Transcript\"],[\"Tom Segura: Ball Hog (2020) \\u2013 Transcript\"],[\"Bert Kreischer: Hey Big Boy (2020) \\u2013 Transcript\"],[\"Marc Maron: End Times Fun (2020) \\u2013 Full Transcript\"],[\"PETE DAVIDSON: SMD (2016) \\u2013 FULL TRANSCRIPT\"],[\"PETE DAVIDSON: ALIVE FROM NEW YORK (2020) \\u2013 FULL TRANSCRIPT\"],[\"Amanda Seales: I Be Knowin\\u2019 (2019) \\u2013 Transcript\"],[\"Stewart Lee: Carpet Remnant World (2012) \\u2013 Full Transcript\"],[\"Stewart Lee: Content Provider (2018) \\u2013 Transcript\"],[\"Sara Pascoe: LadsLadsLads (2019) \\u2013 Full Transcript\"],[\"Dan Soder: Son of a Gary (2019) \\u2013 Full Transcript\"],[\"Jim Gaffigan: Quality Time (2019) \\u2013 Full Transcript\"],[\"Kevin Bridges: A Whole Different Story (2015) \\u2013 Full Transcript\"],[\"Kevin Bridges: The Story So Far\\u2026 Live in Glasgow (2010) \\u2013 Full Transcript\"],[\"Kevin Bridges: The Story Continues (2012) \\u2013 Full Transcript\"],[\"Michelle Wolf: Joke Show (2019) \\u2013 Full Transcript\"],[\"Tiffany Haddish: Black Mitzvah (2019) \\u2013 Transcript\"],[\"Mike Birbiglia: The New One (2019) \\u2013 Full Transcript\"],[\"Iliza Shlesinger: Unveiled (2019) \\u2013 Full Transcript\"],[\"Seth Meyers: Lobby Baby (2019) \\u2013 Full Transcript\"],[\"Arsenio Hall: Smart and Classy (2019) \\u2013 Transcript\"],[\"Nikki Glaser: Bangin\\u2019 (2019) \\u2013 Full Transcript\"],[\"Bill Burr: Paper Tiger (2019) \\u2013 Transcript\"],[\"Dave Chappelle: Sticks & Stones (2019) \\u2013 Transcript\"],[\"Emily Heller: Ice Thickeners (2019) \\u2013 Full Transcript\"],[\"David Cross: Oh Come On (2019) \\u2013 Full Transcript\"],[\"Whitney Cummings: Can I Touch It? (2019) \\u2013 Full Transcript\"],[\"Aziz Ansari: Right Now (2019) \\u2013 Transcript\"],[\"Ralphie May: Filthy Animal Tour (2014) \\u2013 Transcript\"],[\"Mike Epps: Only One Mike (2019) \\u2013 Full Transcript\"],[\"Adam DeVine: Best Time of Our Lives (2019) \\u2013 Full Transcript\"],[\"Jo Koy: Live from Seattle (2017) \\u2013 Full Transcript\"],[\"Jo Koy: Comin\\u2019 in Hot (2019) \\u2013 Full Transcript\"],[\"Wanda Sykes: Not Normal (2019) \\u2013 Full Transcript\"],[\"Cedric the Entertainer: Live from the Ville (2016) \\u2013 Transcript\"],[\"Eddie Murphy: Raw (1987) \\u2013 Transcript\"],[\"Colin Quinn: The New York Story (2016) \\u2013 Full Transcript\"],[\"Demetri Martin: Live (At The Time) (2015) | Transcript\"],[\"George Carlin: What Am I Doing in New Jersey? (1988) \\u2013 Full Transcript\"],[\"Chelsea Peretti: One of the Greats (2014) \\u2013 Full Transcript\"],[\"Anthony Jeselnik: Fire in the Maternity Ward (2019) \\u2013 Transcript\"],[\"Roy Wood Jr.: No One Loves You (2019) \\u2013 Transcript\"],[\"Robin Williams: Weapons of Self Destruction (2009) \\u2013 Full Transcript\"],[\"ROBIN WILLIAMS LIVE ON BROADWAY (2002) \\u2013 FULL TRANSCRIPT\"],[\"Jimmy Carr: The Best of Ultimate Gold Greatest Hits (2019) \\u2013 Full Transcript\"],[\"Nate Bargatze: The Tennessee Kid (2019) \\u2013 Full Transcript\"],[\"W. Kamau Bell: Private School Negro (2018) \\u2013 Transcript\"],[\"Kevin Hart: Irresponsible (2019) \\u2013 Transcript\"],[\"Nate Bargatze: Full Time Magic (2015) \\u2013 Full Transcript\"],[\"Amy Schumer: Growing (2019) \\u2013 Full Transcript\"],[\"Enissa Amani: Ehrenwort (2018) Full Transcript\"],[\"Ken Jeong: You Complete Me, Ho (2019) \\u2013 Full Transcript\"],[\"Ray Romano: Right Here, Around the Corner (2019) \\u2013 Full Transcript\"],[\"Gabriel \\u201cFluffy\\u201d Iglesias: One Show Fits All (2019) \\u2013 Full Transcript\"],[\"Sebastian Maniscalco: Stay Hungry (2019) \\u2013 Full Transcript\"],[\"Sebastian Maniscalco: Aren\\u2019t You Embarrassed? (2014) \\u2013 Full Transcript\"],[\"Sebastian Maniscalco: What\\u2019s Wrong with People? (2012) \\u2013 Full Transcript\"],[\"Oh, Hello On Broadway (2017) \\u2013 Transcript\"],[\"Ellen Degeneres: Relatable (2018) \\u2013 Transcript\"],[\"Pete Holmes: Dirty Clean (2018) \\u2013 Full Transcript\"],[\"Vir Das: Losing It (2018) \\u2013 Full Transcript\"],[\"Trevor Noah: Son of Patricia (2018) \\u2013 Transcript\"],[\"Jeff Foxworthy & Larry the Cable Guy: We\\u2019ve Been Thinking (2016) \\u2013 Full Transcript\"],[\"Adam Sandler: 100% Fresh (2018) \\u2013 Full Transcript\"],[\"Jeff Foxworthy: Totally Committed (1998) \\u2013 Full Transcript\"],[\"RON WHITE: IF YOU QUIT LISTENING, I\\u2019LL SHUT UP (2018) \\u2013 FULL TRANSCRIPT\"],[\"Mo Amer: The Vagabond (2018) \\u2013 Full Transcript\"],[\"Joe Mande\\u2019s Award-Winning Comedy Special (2017) \\u2013 Full Transcript\"],[\"Henry Rollins: Keep Talking, Pal (2018) \\u2013 Full Transcript\"],[\"Joe Rogan: Strange Times (2018) \\u2013 Full Transcript\"],[\"D.L. Hughley: Contrarian (2018) \\u2013 Transcript\"],[\"Iliza Shlesinger: Freezing Hot (2015) \\u2013 Full Transcript\"],[\"Iliza Shlesinger: War Paint (2013) \\u2013 Transcript\"],[\"Bert Kreischer: Secret Time (2018) \\u2013 Transcript\"],[\"Demetri Martin: The Overthinker (2018) | Transcript\"],[\"BILL MAHER: LIVE FROM OKLAHOMA (2018) \\u2013 Full Transcript\"],[\"Rowan Atkinson Live (1992) \\u2013 Transcript\"],[\"Iliza Shlesinger: Confirmed Kills (2016) \\u2013 Full Transcript\"],[\"Iliza Shlesinger: Elder Millennial (2018) \\u2013 Full Transcript\"],[\"JIM GAFFIGAN: NOBLE APE (2018) \\u2013 Full Transcript\"],[\"Jim Norton: Contextually Inadequate (2015) \\u2013 Transcript\"],[\"Hannah Gadsby: Nanette (2018) \\u2013 Transcript\"],[\"BRAD WILLIAMS: DADDY ISSUES (2016) \\u2013 Full Transcript\"],[\"Deray Davis: How To Act Black (2017) \\u2013 Transcript\"],[\"RICKY GERVAIS: LIVE IV \\u2013 SCIENCE (2010) \\u2013 Full Transcript\"],[\"JIM JEFFERIES: THIS IS ME NOW (2018) \\u2013 Full transcript\"],[\"RUSSELL PETERS: OUTSOURCED (2006) \\u2013 Full Transcript\"],[\"RUSSELL PETERS: ALMOST FAMOUS (2016) \\u2013 Full Transcript\"],[\"RON WHITE: A LITTLE UNPROFESSIONAL (2012) \\u2013 Full Transcript\"],[\"MICHAEL MCINTYRE: HELLO WEMBLEY! (2009) \\u2013 Full Transcript\"],[\"KEVIN SMITH: SILENT BUT DEADLY (2018) \\u2013 Full Transcript\"],[\"KEVIN JAMES: NEVER DON\\u2019T GIVE UP (2018) \\u2013 Full Transcript\"],[\"BRENT MORIN: I\\u2019M BRENT MORIN (2015) \\u2013 Full Transcript\"],[\"NIKKI GLASER: PERFECT (2016) \\u2013 Full Transcript\"],[\"Ali Wong: Hard Knock Wife (2018) \\u2013 Transcript\"],[\"KAVIN JAY: EVERYBODY CALM DOWN! (2018) \\u2013 Full Transcript\"],[\"John Mulaney: Kid Gorgeous At Radio City (2018) \\u2013 Transcript\"],[\"Eddie Griffin: Undeniable (2018) \\u2013 Transcript\"],[\"GREG DAVIES: YOU MAGNIFICENT BEAST (2018) \\u2013 Full Transcript\"],[\"George Carlin: You Are All Diseased (1999) \\u2013 Transcript\"],[\"Marlon Wayans: Woke-Ish (2018) \\u2013 Transcript\"],[\"RICKY GERVAIS: HUMANITY (2018) \\u2013 Full Transcript\"],[\"ADEL KARAM: LIVE FROM BEIRUT (2018) \\u2013 Full Transcript\"],[\"STEWART LEE: 90s COMEDIAN (2006) \\u2013 Full Transcript\"],[\"Mike Birbiglia: My Girlfriend\\u2019s Boyfriend (2013) \\u2013 Transcript\"],[\"DAVE ATTELL: ROAD WORK (2014) \\u2013 Full Transcript\"],[\"Eddie Izzard \\u2013 Glorious (1997) \\u2013 Transcript\"],[\"Chris Rock: Bring the Pain (1996) \\u2013 Transcript\"],[\"ARI SHAFFIR: DOUBLE NEGATIVE (2017) \\u2013 Full Transcript\"],[\"Chris Rock: Tamborine (2018) \\u2013 Transcript\"],[\"FRED ARMISEN: STANDUP FOR DRUMMERS (2018) \\u2013 Full Transcript\"],[\"DANA CARVEY: STRAIGHT WHITE MALE, 60 (2016) \\u2013 Full Transcript\"],[\"EDDIE IZZARD: STRIPPED (2009) \\u2013 Full Transcript\"],[\"TODD GLASS: ACT HAPPY (2018) \\u2013 Full Transcript\"],[\"BRIAN REGAN: STANDING UP (2007) \\u2013 Full Transcript\"],[\"BRIAN REGAN: NUNCHUCKS AND FLAMETHROWERS (2017) \\u2013 Full Transcript\"],[\"Katt Williams: Great America (2018) \\u2013 Transcript\"],[\"JIMMY CARR: BEING FUNNY (2011) \\u2013 Full Transcript\"],[\"JIMMY CARR: LAUGHING AND JOKING (2013) \\u2013 Full Transcript\"],[\"Eddie Izzard: Unrepeatable (1994) | Transcript\"],[\"D.L. Hughley: Unapologetic (2007) \\u2013 Transcript\"],[\"BRIDGET EVERETT: GYNECOLOGICAL WONDER (2015) \\u2013 Full Transcript\"],[\"Chris Rock: Never Scared (2004) \\u2013 Transcript\"],[\"Stewart Lee: Stand-Up Comedian (2005) \\u2013 Transcript\"],[\"JIMMY CARR: FUNNY BUSINESS (2016) \\u2013 Full Transcript\"],[\"Eddie Izzard: Dress To Kill (1999) \\u2013 Transcript\"],[\"Chris Tucker: Live (2015) \\u2013 Transcript\"],[\"Kevin Hart: What Now (2016) \\u2013 Transcript\"],[\"Kevin Hart: Let Me Explain (2013) \\u2013 Transcript\"],[\"Tom Segura: Disgraceful (2018) \\u2013 Transcript\"],[\"MICHELLE WOLF: NICE LADY (2017) \\u2013 Full Transcript\"],[\"FAHIM ANWAR: THERE\\u2019S NO BUSINESS LIKE SHOW BUSINESS (2017) \\u2013 Transcript\"],[\"ELLEN DEGENERES: THE BEGINNING (2000) \\u2013 Full Transcript\"],[\"MAZ JOBRANI: IMMIGRANT (2017) \\u2013 Full Transcript\"],[\"TODD BARRY: SPICY HONEY (2017) \\u2013 Full Transcript\"],[\"Jerry Seinfeld: I\\u2019m Telling You for the Last Time (1998) \\u2013 Transcript\"],[\"Craig Ferguson: Does This Need To Be Said? (2011) \\u2013 Transcript\"],[\"Dave Chappelle: The Bird Revelation (2017) \\u2013 Transcript\"],[\"Dave Chappelle: Equanimity (2017) \\u2013 Transcript\"],[\"CRAIG FERGUSON: I\\u2019M HERE TO HELP (2013) \\u2013 Full Transcript\"],[\"RUSSELL HOWARD: RECALIBRATE (2017) \\u2013 Full Transcript\"],[\"WHITNEY CUMMINGS: I LOVE YOU (2014) \\u2013 Full Transcript\"],[\"WHITNEY CUMMINGS: I\\u2019M YOUR GIRLFRIEND (2016) \\u2013 Full Transcript\"],[\"SARAH MILLICAN: CHATTERBOX LIVE (2011) \\u2013 Full Transcript\"],[\"Anjelah Johnson: Not Fancy (2015) \\u2013 Transcript\"],[\"RICKY GERVAIS LIVE 2: POLITICS (2004) \\u2013 Full Transcript\"],[\"Russell Howard Live: Dingledodies (2009) \\u2013 Full Transcript\"],[\"CHRISTINA PAZSITZKY: MOTHER INFERIOR (2017) \\u2013 FULL TRANSCRIPT\"],[\"Jack Whitehall: At Large (2017) \\u2013 Transcript\"],[\"CRISTELA ALONZO: LOWER CLASSY (2017) \\u2013 Full Transcript\"],[\"JUDAH FRIEDLANDER: AMERICA IS THE GREATEST COUNTRY IN THE UNITED STATES (2017) \\u2013 Full Transcript\"],[\"AZIZ ANSARI: LIVE IN MADISON SQUARE GARDEN (2015) \\u2013 Full Transcript\"],[\"AZIZ ANSARI: BURIED ALIVE (2013) \\u2013 Full Transcript\"],[\"Paul Mooney: A Piece of My Mind \\u2013 Godbless America (2014) \\u2013 Transcript\"],[\"PATTON OSWALT: ANNIHILATION (2017) \\u2013 Full Transcript\"],[\"Chris Rock: Kill The Messenger \\u2013 London, New York, Johannesburg (2008) \\u2013 Transcript\"],[\"BILL MAHER: LIVE FROM D.C. (2014) \\u2013 Full Transcript\"],[\"Sarah Silverman: Jesus Is Magic (2005) \\u2013 Transcript\"],[\"SARAH SILVERMAN: WE ARE MIRACLES (2013) \\u2013 Full Transcript\"],[\"Pablo Francisco: Ouch! Live From San Jose (2006) \\u2013 Full Transcript\"],[\"BILL MAHER\\u2026 BUT I\\u2019M NOT WRONG (2010) \\u2013 Full Transcript\"],[\"RUSSELL BRAND: MESSIAH COMPLEX (2013) \\u2013 Full Transcript\"],[\"Chris Rock: Bigger & Blacker (1999) \\u2013 Transcript\"],[\"Gabriel Iglesias: Hot And Fluffy (2007) \\u2013 Transcript\"],[\"GABRIEL IGLESIAS: I\\u2019M NOT FAT \\u2026 I\\u2019M FLUFFY (2009) \\u2013 Full Transcript\"],[\"GABRIEL IGLESIAS: I\\u2019M SORRY FOR WHAT I SAID WHEN I WAS HUNGRY (2016) \\u2013 Full Transcript\"],[\"RORY SCOVEL TRIES STAND-UP FOR THE FIRST TIME (2017) \\u2013 Full Transcript\"],[\"LISA LAMPANELLI: BACK TO THE DRAWING BOARD (2015) \\u2013 Full Transcript\"],[\"ERIK GRIFFIN: THE UGLY TRUTH (2017) \\u2013 Full Transcript\"],[\"JEN KIRKMAN: JUST KEEP LIVIN\\u2019? (2017) \\u2013 Full Transcript\"],[\"DANIEL TOSH: COMPLETELY SERIOUS (2007) \\u2013 Full Transcript\"],[\"AL MADRIGAL: WHY IS THE RABBIT CRYING? (2013) \\u2013 Full Transcript\"],[\"NEAL BRENNAN: 3 MICS (2017)- FULL TRANSCRIPT\"],[\"John Mulaney: New In Town (2012) \\u2013 Transcript\"],[\"Donald Glover: Weirdo (2012) \\u2013 Transcript\"],[\"ALI WONG: BABY COBRA (2016) \\u2013 Full Transcript\"],[\"Norm Macdonald: Hitler\\u2019s Dog, Gossip & Trickery (2017) \\u2013 Transcript\"],[\"DANIEL TOSH: PEOPLE PLEASER (2016) \\u2013 FULL TRANSCRIPT\"],[\"Marc Maron: More Later (2015) \\u2013 Full Transcript\"],[\"Dylan Moran: Off The Hook (2015) \\u2013 Transcript\"],[\"Richard Pryor: Live And Smokin\\u2019 (1971) \\u2013 Transcript\"],[\"RICHARD PRYOR: \\u2026HERE AND NOW (1983) \\u2013 Full Transcript\"],[\"AMY SCHUMER: MOSTLY SEX STUFF (2012) \\u2013 Full Transcript\"],[\"Jim Jefferies: Alcoholocaust (2010) \\u2013 Transcript\"],[\"AMY SCHUMER: LIVE AT THE APOLLO (2015) \\u2013 Full Transcript\"],[\"Kevin Hart: Seriously Funny (2010) \\u2013 Transcript\"],[\"Hannibal Buress: Comedy Camisado (2016) \\u2013 Transcript\"],[\"Neal Brennan: Women And Black Dudes (2014) \\u2013 Transcript\"],[\"NICK OFFERMAN: AMERICAN HAM (2014) \\u2013 Full Transcript\"],[\"AZIZ ANSARI: INTIMATE MOMENTS FOR A SENSUAL EVENING (2010) \\u2013 Full Transcript\"],[\"BIG JAY OAKERSON: LIVE AT WEBSTER HALL (2016) \\u2013 Full Transcript\"],[\"George Carlin at USC (1977) \\u2013 Full Transcript\"],[\"Jim Norton: Mouthful Of Shame (2017) Transcript\"],[\"Michael Che Matters (2016) \\u2013 Transcript\"],[\"Joe Rogan: Triggered (2016) \\u2013 Transcript\"],[\"Trevor Noah: Lost In Translation (2015) \\u2013 Transcript\"],[\"MARIA BAMFORD: OLD BABY (2017) \\u2013 FULL TRANSCRIPT\"],[\"Bo Burnham: What (2013) \\u2013 Transcript\"],[\"Bo Burnham: Make Happy (2016) \\u2013 Transcript\"],[\"ANTHONY JESELNIK: CALIGULA (2013) \\u2013 Full Transcript\"],[\"Anthony Jeselnik: Thoughts And Prayers (2015) \\u2013 Full Transcript\"],[\"John Mulaney: The Comeback Kid (2015) \\u2013 Transcript\"],[\"BILL HICKS: REVELATIONS (1993) \\u2013 FULL TRANSCRIPT\"],[\"LEWIS BLACK: BLACK TO THE FUTURE (2016) \\u2013 Full Transcript\"],[\"DOUG STANHOPE: BEFORE TURNING THE GUN ON HIMSELF (2012) \\u2013 Transcript\"],[\"DOUG STANHOPE: DEADBEAT HERO (2004) \\u2013 Transcript\"],[\"JIM JEFFERIES: CONTRABAND (2008) \\u2013 Full Transcript\"],[\"Mike Birbiglia: Thank God for Jokes (2017) \\u2013 Transcript\"],[\"SARAH SILVERMAN: A SPECK OF DUST (2017) \\u2013 Full Transcript\"],[\"GEORGE CARLIN: PLAYING WITH YOUR HEAD (1986) \\u2013 Full Transcript\"],[\"GEORGE CARLIN: AGAIN!* (1978) \\u2013 Full Transcript\"],[\"Louis C.K.: Chewed Up (2008) \\u2013 Transcript\"],[\"Tom Segura: Completely Normal (2014) \\u2013 Transcript\"],[\"GEORGE CARLIN: CARLIN ON CAMPUS (1984) \\u2013 Full Transcript\"],[\"Louis C.K.: Live at the Beacon Theatre (2011) \\u2013 Transcript\"],[\"RICKY GERVAIS: OUT OF ENGLAND 2 (2010) \\u2013 Full Transcript\"],[\"AMY SCHUMER: THE LEATHER SPECIAL (2017) \\u2013 Full Transcript\"],[\"JIM GAFFIGAN: CINCO (2017) \\u2013 Full Transcript\"],[\"JIM JEFFERIES: I SWEAR TO GOD (2009) \\u2013 FULL TRANSCRIPT\"],[\"LOUIS C.K.: HILARIOUS (2010) \\u2013 Full Transcript\"],[\"LOUIS C.K.: SHAMELESS (2007) \\u2013 Full Transcript\"],[\"BILL BURR: I\\u2019M SORRY YOU FEEL THAT WAY (2014) \\u2013 Full Transcript\"],[\"BILL BURR: YOU PEOPLE ARE ALL THE SAME (2012) \\u2013 Full Transcript\"],[\"Dave Chappelle: For What It\\u2019s Worth (2004) \\u2013 Transcript\"],[\"Dave Chappelle: Killin\\u2019 Them Softly (2000) \\u2013 Transcript\"],[\"Eddie Griffin: You Can Tell \\u2018Em I Said It! (2011) \\u2013 Transcript\"],[\"BILL BURR: WALK YOUR WAY OUT (2017) \\u2013 Full Transcript\"],[\"LOUIS C.K.: OH MY GOD (2013) \\u2013 Full Transcript\"],[\"LOUIS C.K.: LIVE AT  THE COMEDY STORE (2015) \\u2013 Transcript\"],[\"BILL HICKS: RELENTLESS (1991) \\u2013 Transcript\"],[\"Daniel Tosh: Happy Thoughts (2011) \\u2013 Transcript\"],[\"Patrice O\\u2019Neal: Elephant in the Room (2011) \\u2013 Transcript\"],[\"Katt Williams: Live (2006) \\u2013 Transcript\"],[\"Richard Pryor: Live in Concert (1979) \\u2013 Transcript\"],[\"RICHARD PRYOR: LIVE ON THE SUNSET STRIP (1982) \\u2013 Full Transcript\"],[\"Trevor Noah: Afraid Of The Dark (2017) \\u2013 Transcript\"],[\"JIM JEFFERIES: BARE (2014) \\u2013 Full Transcript\"],[\"Dave Chappelle: Deep in the Heart of Texas (2017) \\u2013 Transcript\"],[\"Tom Segura: Mostly Stories (2016) \\u2013 Transcript\"],[\"BILL BURR: LET IT GO (2010) \\u2013 TRANSCRIPT\"],[\"JIM JEFFERIES: FREEDUMB (2016) \\u2013 Full Transcript\"],[\"Eddie Murphy: Delirious (1983) \\u2013 Transcript\"],[\"Dave Chappelle: The Age of Spin (2017) \\u2013 Transcript\"],[\"GEORGE CARLIN: BACK IN TOWN (1996) \\u2013 Full transcript\"],[\"LOUIS C.K.: 2017 \\u2013 Full transcript\"],[\"George Carlin: Jamming in New York (1992) \\u2013 Transcript\"],[\"Reggie Watts: Spatial (2016) \\u2013 Full Transcript\"],[\"GEORGE CARLIN: COMPLAINTS AND GRIEVANCES (2001) \\u2013 FULL TRANSCRIPT\"],[\"GEORGE CARLIN: LIFE IS WORTH LOSING (2006) \\u2013 Transcript\"],[\"George Carlin: It\\u2019s Bad For Ya (2008) Full transcript\"],[\"Dave Chappelle: 8:46 \\u2013 Transcript\"],[\"JIM JEFFERIES ON GUN CONTROL [FULL TRANSCRIPT]\"]],\"hovertemplate\":\"Reggie Watts: Spatial (2016) \\u2013 Full Transcript=%{x}<br>hover_data_0=%{customdata[0]}<extra></extra>\",\"legendgroup\":\"\",\"marker\":{\"color\":\"#636efa\"},\"name\":\"\",\"notched\":false,\"offsetgroup\":\"\",\"orientation\":\"h\",\"showlegend\":false,\"type\":\"box\",\"x\":[-0.014805106223135009,-0.026892021789136453,0.45559541632256306,0.2178698335408761,0.06959871630912329,-0.08839459331083485,0.20449386637404246,0.3863962063104837,-0.03357496870678291,0.5424185766528432,0.519298244395063,0.4252135667611626,-0.13184898699288716,0.05909495443883937,0.10987998158937531,-0.02020912787848267,0.24510426322752138,0.01774155754742869,-0.006025121623692134,0.18438373547925777,0.004549164745182285,0.6193424562989377,0.18689783828450424,0.004926013685132,-0.1342932324253281,0.22337241197021399,-0.06767715679145428,0.04370607960259178,0.18501134147009513,0.37690005432606916,-0.0027136453246454223,0.08177849910559223,0.2876399043757144,0.36127909456134544,-0.19512833626732082,0.10150902588592059,0.09907905510206734,0.21272662986717114,0.5106370763059019,0.05122618877845736,0.20486564332949375,0.3250412047024196,0.13382546048692515,-0.03303684925118114,0.27563612870887483,0.28704082073750475,-0.11446039994899447,-0.04668110843946806,0.19427122744025538,0.3065144481403216,0.29279392375373986,0.34391124252070643,0.4820944385350132,0.048873685313353704,0.0670801697038244,-0.01734624184199636,0.3128313359614249,0.34735818293519,-0.09833053483634165,0.45545343356089674,-0.05872773238747604,-0.043830216180321624,0.17011031160409362,0.23533057479943914,0.3758611375766035,-0.07370726451873821,-0.12112052122276358,0.15286590228473684,-0.172056664505297,0.2029490878097208,0.31790213079012364,0.1516202183793271,0.08836707962595135,0.25959202572925133,-0.052965157481921474,-0.08527427929139354,0.3619152815520018,-0.022960153986403123,0.2641158239348039,0.028159704538623015,0.09327718424785571,-0.26268986130106475,0.11718745238948244,0.33212956076347927,0.16460129443975333,0.2727914514831075,0.09183818357485522,0.23880248262139314,0.018749191748951052,-0.03456688308368258,0.1361143552579382,0.10752533219658975,-0.038833385097325535,-0.07982704211780821,0.3166580900372915,0.2784895688874145,0.25060750399886217,0.1643656983710141,-0.07026923709013906,0.09674535884922661,0.1192513437392675,0.13138187703813525,0.30566278044859796,0.03745815604831809,-0.001987685045859583,-0.1788603599507228,0.14603766102391935,0.5401393689877716,0.1892670373613804,-0.0232944022397885,0.4982581837994937,-0.0030095771200094185,0.29019042857772515,0.282974949570553,0.4712507389796068,0.4193908194769679,-0.11435711920728026,0.2998060867822254,0.3695412746103278,-0.0652784715243601,0.08923182934880307,-0.3352868306968987,0.05771701646596682,-0.44708482723935306,0.044133156244986455,-0.0678714375460539,0.17931183348111368,0.20428426185364418,0.2477361455616871,0.5398549203494093,0.553744920662193,-0.061679757526160756,0.2779985092715238,0.06844797006584782,0.3539864253885706,0.4175405353392055,0.5061643875964194,0.211593429129443,0.0838683230339072,0.10934079326034096,-0.2056626774972783,0.18056268022807676,0.28367732817271746,-0.4617919946104998,0.2781196968875478,0.5750503826588235,0.046426000197384354,0.11764903558121129,-0.14106144208030086,0.40536181668182125,0.0056592151029019044,0.33064864488069445,-0.052547529002432564,0.0026126615395722502,-0.14770888379278685,0.18314638332802874,0.022687141916833867,-0.008122174836230636,-0.05912363158152156,0.26098766820053865,0.3986893751165611,-0.23443277073721944,-0.23794242113040387,0.6121852389672482,0.09925329877175033,-0.014854801444633886,0.2603791983362145,0.11393620761709741,0.4925086359069022,0.24526332707010334,0.3309964711141238,0.044704518993566006,0.6100510970975946,0.2632304190122996,-0.08652360005969258,0.13607167653579916,0.1304935929703328,-0.005233834139052096,0.1833758432795749,0.1061443889102219,-0.21165820489803142,-0.17960746789648918,0.2622243420888832,0.041914076624776336,-0.014181232172729083,-0.15443208651498236,-0.15395282789166986,0.2588733992563452,0.4239509030438458,0.43112602652825815,0.17044985890622155,0.22583853921543234,0.04247699165186582,0.28804067204873957,-0.17007438722332166,0.06731715914484585,-0.12707968624886862,-0.09206123392783966,0.32714768130851873,-0.1322763278041459,0.24305112277644852,0.010730015879511903,0.11981777739853794,0.2780409051733929,0.4028430842046695,0.6710683369360659,0.2052931987044583,0.2089427020584962,0.34726254736607437,0.1321378032566486,0.08230969227484271,-0.11900832276419179,0.20577625827742263,-0.09337262688447501,0.3321623478290471,0.20579721110918692,0.39288104388676603,0.31203850873660355,0.32700279320323605,0.16479447258190316,0.00666530334103381,0.14585530982230815,0.20285161165834908,0.2140786908835121,0.2577859141982395,0.21290422660032643,0.11986113911475896,0.2961209560866934,0.5078824080303466,0.21957661606089984,0.07031051338508425,-0.005554115899158038,-0.07970216220996298,0.14175900986356174,0.1937002793864322,0.3767271214049014,0.1937372585525879,0.2093883166702068,-0.039029407109081024,0.2277909715039758,0.5354437177396,-0.36386957788935026,0.09640118331040615,-0.07087316594854874,0.2212441220083729,0.23899647441546923,0.2139133540462574,-0.2545628255385556,0.23200447407852207,0.11123458840313613,0.10294812294360034,-0.10944105028215631,0.03570161545675579,0.010778674882908276,0.37916498538161014,0.37814314800343335,0.25821688992182446,0.04225478381410992,0.017644848660787762,-0.16160465245311795,0.0980281220454194,0.011662692309745384,0.044737728304011765,-0.0037046021826229875,-0.3292240897934838,0.10796188165658918,0.3354615907784141,0.12319523355293781,-0.3133863801787759,-0.08213632137063545,0.11356238299783296,0.23966913579810392,-0.017447468782431585,0.30185071413419867,0.4871841905018744,0.28415726533435687,-0.18822001434046143,-0.005793295159756115,-0.03296993395938938,0.1503511045512583,0.15558966293708376,0.06069272244864285,-0.11962270215972902,0.2885730268839197,0.11115950920094925,0.25561795493228556,0.007785211708605966,0.1770891827064462,0.364888850597351,0.5904515993142365,0.022702642042468926,-0.06328344225097521,0.29109173402572064,0.4167381569375404,-0.09245793956585081,-0.2519594223197186,0.3567016159713568,0.557319637027299,-0.44215879358110577,-0.12372857430084694,-0.028525581781358722,0.038904613352427564,0.003860324954830227,0.039707095260972686,1.0000000000000004,0.14061971284647615,0.07724108794119608,0.07041361155908167,-0.18493664311784622,0.3599729621351156],\"x0\":\" \",\"xaxis\":\"x\",\"y0\":\" \",\"yaxis\":\"y\"}],                        {\"boxmode\":\"group\",\"legend\":{\"tracegroupgap\":0},\"margin\":{\"t\":60},\"template\":{\"data\":{\"bar\":[{\"error_x\":{\"color\":\"#2a3f5f\"},\"error_y\":{\"color\":\"#2a3f5f\"},\"marker\":{\"line\":{\"color\":\"#E5ECF6\",\"width\":0.5},\"pattern\":{\"fillmode\":\"overlay\",\"size\":10,\"solidity\":0.2}},\"type\":\"bar\"}],\"barpolar\":[{\"marker\":{\"line\":{\"color\":\"#E5ECF6\",\"width\":0.5},\"pattern\":{\"fillmode\":\"overlay\",\"size\":10,\"solidity\":0.2}},\"type\":\"barpolar\"}],\"carpet\":[{\"aaxis\":{\"endlinecolor\":\"#2a3f5f\",\"gridcolor\":\"white\",\"linecolor\":\"white\",\"minorgridcolor\":\"white\",\"startlinecolor\":\"#2a3f5f\"},\"baxis\":{\"endlinecolor\":\"#2a3f5f\",\"gridcolor\":\"white\",\"linecolor\":\"white\",\"minorgridcolor\":\"white\",\"startlinecolor\":\"#2a3f5f\"},\"type\":\"carpet\"}],\"choropleth\":[{\"colorbar\":{\"outlinewidth\":0,\"ticks\":\"\"},\"type\":\"choropleth\"}],\"contour\":[{\"colorbar\":{\"outlinewidth\":0,\"ticks\":\"\"},\"colorscale\":[[0.0,\"#0d0887\"],[0.1111111111111111,\"#46039f\"],[0.2222222222222222,\"#7201a8\"],[0.3333333333333333,\"#9c179e\"],[0.4444444444444444,\"#bd3786\"],[0.5555555555555556,\"#d8576b\"],[0.6666666666666666,\"#ed7953\"],[0.7777777777777778,\"#fb9f3a\"],[0.8888888888888888,\"#fdca26\"],[1.0,\"#f0f921\"]],\"type\":\"contour\"}],\"contourcarpet\":[{\"colorbar\":{\"outlinewidth\":0,\"ticks\":\"\"},\"type\":\"contourcarpet\"}],\"heatmap\":[{\"colorbar\":{\"outlinewidth\":0,\"ticks\":\"\"},\"colorscale\":[[0.0,\"#0d0887\"],[0.1111111111111111,\"#46039f\"],[0.2222222222222222,\"#7201a8\"],[0.3333333333333333,\"#9c179e\"],[0.4444444444444444,\"#bd3786\"],[0.5555555555555556,\"#d8576b\"],[0.6666666666666666,\"#ed7953\"],[0.7777777777777778,\"#fb9f3a\"],[0.8888888888888888,\"#fdca26\"],[1.0,\"#f0f921\"]],\"type\":\"heatmap\"}],\"heatmapgl\":[{\"colorbar\":{\"outlinewidth\":0,\"ticks\":\"\"},\"colorscale\":[[0.0,\"#0d0887\"],[0.1111111111111111,\"#46039f\"],[0.2222222222222222,\"#7201a8\"],[0.3333333333333333,\"#9c179e\"],[0.4444444444444444,\"#bd3786\"],[0.5555555555555556,\"#d8576b\"],[0.6666666666666666,\"#ed7953\"],[0.7777777777777778,\"#fb9f3a\"],[0.8888888888888888,\"#fdca26\"],[1.0,\"#f0f921\"]],\"type\":\"heatmapgl\"}],\"histogram\":[{\"marker\":{\"pattern\":{\"fillmode\":\"overlay\",\"size\":10,\"solidity\":0.2}},\"type\":\"histogram\"}],\"histogram2d\":[{\"colorbar\":{\"outlinewidth\":0,\"ticks\":\"\"},\"colorscale\":[[0.0,\"#0d0887\"],[0.1111111111111111,\"#46039f\"],[0.2222222222222222,\"#7201a8\"],[0.3333333333333333,\"#9c179e\"],[0.4444444444444444,\"#bd3786\"],[0.5555555555555556,\"#d8576b\"],[0.6666666666666666,\"#ed7953\"],[0.7777777777777778,\"#fb9f3a\"],[0.8888888888888888,\"#fdca26\"],[1.0,\"#f0f921\"]],\"type\":\"histogram2d\"}],\"histogram2dcontour\":[{\"colorbar\":{\"outlinewidth\":0,\"ticks\":\"\"},\"colorscale\":[[0.0,\"#0d0887\"],[0.1111111111111111,\"#46039f\"],[0.2222222222222222,\"#7201a8\"],[0.3333333333333333,\"#9c179e\"],[0.4444444444444444,\"#bd3786\"],[0.5555555555555556,\"#d8576b\"],[0.6666666666666666,\"#ed7953\"],[0.7777777777777778,\"#fb9f3a\"],[0.8888888888888888,\"#fdca26\"],[1.0,\"#f0f921\"]],\"type\":\"histogram2dcontour\"}],\"mesh3d\":[{\"colorbar\":{\"outlinewidth\":0,\"ticks\":\"\"},\"type\":\"mesh3d\"}],\"parcoords\":[{\"line\":{\"colorbar\":{\"outlinewidth\":0,\"ticks\":\"\"}},\"type\":\"parcoords\"}],\"pie\":[{\"automargin\":true,\"type\":\"pie\"}],\"scatter\":[{\"marker\":{\"colorbar\":{\"outlinewidth\":0,\"ticks\":\"\"}},\"type\":\"scatter\"}],\"scatter3d\":[{\"line\":{\"colorbar\":{\"outlinewidth\":0,\"ticks\":\"\"}},\"marker\":{\"colorbar\":{\"outlinewidth\":0,\"ticks\":\"\"}},\"type\":\"scatter3d\"}],\"scattercarpet\":[{\"marker\":{\"colorbar\":{\"outlinewidth\":0,\"ticks\":\"\"}},\"type\":\"scattercarpet\"}],\"scattergeo\":[{\"marker\":{\"colorbar\":{\"outlinewidth\":0,\"ticks\":\"\"}},\"type\":\"scattergeo\"}],\"scattergl\":[{\"marker\":{\"colorbar\":{\"outlinewidth\":0,\"ticks\":\"\"}},\"type\":\"scattergl\"}],\"scattermapbox\":[{\"marker\":{\"colorbar\":{\"outlinewidth\":0,\"ticks\":\"\"}},\"type\":\"scattermapbox\"}],\"scatterpolar\":[{\"marker\":{\"colorbar\":{\"outlinewidth\":0,\"ticks\":\"\"}},\"type\":\"scatterpolar\"}],\"scatterpolargl\":[{\"marker\":{\"colorbar\":{\"outlinewidth\":0,\"ticks\":\"\"}},\"type\":\"scatterpolargl\"}],\"scatterternary\":[{\"marker\":{\"colorbar\":{\"outlinewidth\":0,\"ticks\":\"\"}},\"type\":\"scatterternary\"}],\"surface\":[{\"colorbar\":{\"outlinewidth\":0,\"ticks\":\"\"},\"colorscale\":[[0.0,\"#0d0887\"],[0.1111111111111111,\"#46039f\"],[0.2222222222222222,\"#7201a8\"],[0.3333333333333333,\"#9c179e\"],[0.4444444444444444,\"#bd3786\"],[0.5555555555555556,\"#d8576b\"],[0.6666666666666666,\"#ed7953\"],[0.7777777777777778,\"#fb9f3a\"],[0.8888888888888888,\"#fdca26\"],[1.0,\"#f0f921\"]],\"type\":\"surface\"}],\"table\":[{\"cells\":{\"fill\":{\"color\":\"#EBF0F8\"},\"line\":{\"color\":\"white\"}},\"header\":{\"fill\":{\"color\":\"#C8D4E3\"},\"line\":{\"color\":\"white\"}},\"type\":\"table\"}]},\"layout\":{\"annotationdefaults\":{\"arrowcolor\":\"#2a3f5f\",\"arrowhead\":0,\"arrowwidth\":1},\"autotypenumbers\":\"strict\",\"coloraxis\":{\"colorbar\":{\"outlinewidth\":0,\"ticks\":\"\"}},\"colorscale\":{\"diverging\":[[0,\"#8e0152\"],[0.1,\"#c51b7d\"],[0.2,\"#de77ae\"],[0.3,\"#f1b6da\"],[0.4,\"#fde0ef\"],[0.5,\"#f7f7f7\"],[0.6,\"#e6f5d0\"],[0.7,\"#b8e186\"],[0.8,\"#7fbc41\"],[0.9,\"#4d9221\"],[1,\"#276419\"]],\"sequential\":[[0.0,\"#0d0887\"],[0.1111111111111111,\"#46039f\"],[0.2222222222222222,\"#7201a8\"],[0.3333333333333333,\"#9c179e\"],[0.4444444444444444,\"#bd3786\"],[0.5555555555555556,\"#d8576b\"],[0.6666666666666666,\"#ed7953\"],[0.7777777777777778,\"#fb9f3a\"],[0.8888888888888888,\"#fdca26\"],[1.0,\"#f0f921\"]],\"sequentialminus\":[[0.0,\"#0d0887\"],[0.1111111111111111,\"#46039f\"],[0.2222222222222222,\"#7201a8\"],[0.3333333333333333,\"#9c179e\"],[0.4444444444444444,\"#bd3786\"],[0.5555555555555556,\"#d8576b\"],[0.6666666666666666,\"#ed7953\"],[0.7777777777777778,\"#fb9f3a\"],[0.8888888888888888,\"#fdca26\"],[1.0,\"#f0f921\"]]},\"colorway\":[\"#636efa\",\"#EF553B\",\"#00cc96\",\"#ab63fa\",\"#FFA15A\",\"#19d3f3\",\"#FF6692\",\"#B6E880\",\"#FF97FF\",\"#FECB52\"],\"font\":{\"color\":\"#2a3f5f\"},\"geo\":{\"bgcolor\":\"white\",\"lakecolor\":\"white\",\"landcolor\":\"#E5ECF6\",\"showlakes\":true,\"showland\":true,\"subunitcolor\":\"white\"},\"hoverlabel\":{\"align\":\"left\"},\"hovermode\":\"closest\",\"mapbox\":{\"style\":\"light\"},\"paper_bgcolor\":\"white\",\"plot_bgcolor\":\"#E5ECF6\",\"polar\":{\"angularaxis\":{\"gridcolor\":\"white\",\"linecolor\":\"white\",\"ticks\":\"\"},\"bgcolor\":\"#E5ECF6\",\"radialaxis\":{\"gridcolor\":\"white\",\"linecolor\":\"white\",\"ticks\":\"\"}},\"scene\":{\"xaxis\":{\"backgroundcolor\":\"#E5ECF6\",\"gridcolor\":\"white\",\"gridwidth\":2,\"linecolor\":\"white\",\"showbackground\":true,\"ticks\":\"\",\"zerolinecolor\":\"white\"},\"yaxis\":{\"backgroundcolor\":\"#E5ECF6\",\"gridcolor\":\"white\",\"gridwidth\":2,\"linecolor\":\"white\",\"showbackground\":true,\"ticks\":\"\",\"zerolinecolor\":\"white\"},\"zaxis\":{\"backgroundcolor\":\"#E5ECF6\",\"gridcolor\":\"white\",\"gridwidth\":2,\"linecolor\":\"white\",\"showbackground\":true,\"ticks\":\"\",\"zerolinecolor\":\"white\"}},\"shapedefaults\":{\"line\":{\"color\":\"#2a3f5f\"}},\"ternary\":{\"aaxis\":{\"gridcolor\":\"white\",\"linecolor\":\"white\",\"ticks\":\"\"},\"baxis\":{\"gridcolor\":\"white\",\"linecolor\":\"white\",\"ticks\":\"\"},\"bgcolor\":\"#E5ECF6\",\"caxis\":{\"gridcolor\":\"white\",\"linecolor\":\"white\",\"ticks\":\"\"}},\"title\":{\"x\":0.05},\"xaxis\":{\"automargin\":true,\"gridcolor\":\"white\",\"linecolor\":\"white\",\"ticks\":\"\",\"title\":{\"standoff\":15},\"zerolinecolor\":\"white\",\"zerolinewidth\":2},\"yaxis\":{\"automargin\":true,\"gridcolor\":\"white\",\"linecolor\":\"white\",\"ticks\":\"\",\"title\":{\"standoff\":15},\"zerolinecolor\":\"white\",\"zerolinewidth\":2}}},\"xaxis\":{\"anchor\":\"y\",\"domain\":[0.0,1.0],\"title\":{\"text\":\"Reggie Watts: Spatial (2016) \\u2013 Full Transcript\"}},\"yaxis\":{\"anchor\":\"x\",\"domain\":[0.0,1.0]}},                        {\"responsive\": true}                    ).then(function(){\n",
       "                            \n",
       "var gd = document.getElementById('14fbe5af-c346-4f80-ac37-d2bed880e8f9');\n",
       "var x = new MutationObserver(function (mutations, observer) {{\n",
       "        var display = window.getComputedStyle(gd).display;\n",
       "        if (!display || display === 'none') {{\n",
       "            console.log([gd, 'removed!']);\n",
       "            Plotly.purge(gd);\n",
       "            observer.disconnect();\n",
       "        }}\n",
       "}});\n",
       "\n",
       "// Listen for the removal of the full notebook cells\n",
       "var notebookContainer = gd.closest('#notebook-container');\n",
       "if (notebookContainer) {{\n",
       "    x.observe(notebookContainer, {childList: true});\n",
       "}}\n",
       "\n",
       "// Listen for the clearing of the current output cell\n",
       "var outputEl = gd.closest('.output');\n",
       "if (outputEl) {{\n",
       "    x.observe(outputEl, {childList: true});\n",
       "}}\n",
       "\n",
       "                        })                };                });            </script>        </div>"
      ]
     },
     "metadata": {},
     "output_type": "display_data"
    }
   ],
   "source": [
    "px.box(cosims_means_df, x = 'Reggie Watts: Spatial (2016) – Full Transcript', hover_data = [feature_cosims_df.index], points = 'all')"
   ]
  },
  {
   "cell_type": "markdown",
   "id": "ba668e22",
   "metadata": {
    "slideshow": {
     "slide_type": "skip"
    }
   },
   "source": [
    "### make cosims_means_df long"
   ]
  },
  {
   "cell_type": "code",
   "execution_count": 447,
   "id": "c1e11eb0",
   "metadata": {
    "slideshow": {
     "slide_type": "skip"
    }
   },
   "outputs": [],
   "source": [
    "cosims_means_df_long = (cosims_means_df.melt(var_name = 'other description', \n",
    "                                            value_name = 'cosine similarity', \n",
    "                                            ignore_index = False)\n",
    "                                      .reset_index()\n",
    "                       )\n",
    "#cosims_means_df_long[cosims_means_df_long['cosine similarity'] != 1]"
   ]
  },
  {
   "cell_type": "code",
   "execution_count": 448,
   "id": "392024a7",
   "metadata": {
    "slideshow": {
     "slide_type": "skip"
    }
   },
   "outputs": [
    {
     "data": {
      "text/html": [
       "<div>\n",
       "<style scoped>\n",
       "    .dataframe tbody tr th:only-of-type {\n",
       "        vertical-align: middle;\n",
       "    }\n",
       "\n",
       "    .dataframe tbody tr th {\n",
       "        vertical-align: top;\n",
       "    }\n",
       "\n",
       "    .dataframe thead th {\n",
       "        text-align: right;\n",
       "    }\n",
       "</style>\n",
       "<table border=\"1\" class=\"dataframe\">\n",
       "  <thead>\n",
       "    <tr style=\"text-align: right;\">\n",
       "      <th></th>\n",
       "      <th>description</th>\n",
       "      <th>other description</th>\n",
       "      <th>cosine similarity</th>\n",
       "      <th>fullTitle</th>\n",
       "      <th>artist</th>\n",
       "      <th>link</th>\n",
       "      <th>transcript</th>\n",
       "      <th>script characters</th>\n",
       "      <th>id</th>\n",
       "      <th>other artist</th>\n",
       "      <th>...</th>\n",
       "      <th>mean sentence polarity</th>\n",
       "      <th>Q1.0 sentence polarity</th>\n",
       "      <th>Q2.0 sentence polarity</th>\n",
       "      <th>Q3.0 sentence polarity</th>\n",
       "      <th>std sentence polarity</th>\n",
       "      <th>mean sentence subjectivity</th>\n",
       "      <th>Q1.0 sentence subjectivity</th>\n",
       "      <th>Q2.0 sentence subjectivity</th>\n",
       "      <th>Q3.0 sentence subjectivity</th>\n",
       "      <th>std sentence subjectivity</th>\n",
       "    </tr>\n",
       "  </thead>\n",
       "  <tbody>\n",
       "    <tr>\n",
       "      <th>0</th>\n",
       "      <td>Jim Gaffigan: Comedy Monster (2021) | Transcript</td>\n",
       "      <td>Jim Gaffigan: Comedy Monster (2021) | Transcript</td>\n",
       "      <td>1.000000</td>\n",
       "      <td>Jim Gaffigan: Comedy Monster (2021)</td>\n",
       "      <td>Jim Gaffigan</td>\n",
       "      <td>https://scrapsfromtheloft.com/comedy/jim-gaffi...</td>\n",
       "      <td>Thank you! Thank you! Oh, my gosh. Thank you s...</td>\n",
       "      <td>49799</td>\n",
       "      <td>tt15907298</td>\n",
       "      <td>Jim Gaffigan</td>\n",
       "      <td>...</td>\n",
       "      <td>0.04718</td>\n",
       "      <td>0.0</td>\n",
       "      <td>0.0</td>\n",
       "      <td>0.069053</td>\n",
       "      <td>0.26312</td>\n",
       "      <td>0.25107</td>\n",
       "      <td>0.0</td>\n",
       "      <td>0.0</td>\n",
       "      <td>0.5</td>\n",
       "      <td>0.33466</td>\n",
       "    </tr>\n",
       "    <tr>\n",
       "      <th>1</th>\n",
       "      <td>Louis C. K.: Sorry (2021) | Transcript</td>\n",
       "      <td>Jim Gaffigan: Comedy Monster (2021) | Transcript</td>\n",
       "      <td>-0.187418</td>\n",
       "      <td>Sorry (2021)</td>\n",
       "      <td>Louis C.K.</td>\n",
       "      <td>https://scrapsfromtheloft.com/comedy/jim-gaffi...</td>\n",
       "      <td>Thank you! Thank you! Oh, my gosh. Thank you s...</td>\n",
       "      <td>49799</td>\n",
       "      <td>tt15907298</td>\n",
       "      <td>Jim Gaffigan</td>\n",
       "      <td>...</td>\n",
       "      <td>0.04718</td>\n",
       "      <td>0.0</td>\n",
       "      <td>0.0</td>\n",
       "      <td>0.069053</td>\n",
       "      <td>0.26312</td>\n",
       "      <td>0.25107</td>\n",
       "      <td>0.0</td>\n",
       "      <td>0.0</td>\n",
       "      <td>0.5</td>\n",
       "      <td>0.33466</td>\n",
       "    </tr>\n",
       "    <tr>\n",
       "      <th>2</th>\n",
       "      <td>Drew Michael: Drew Michael (2018) | Transcript</td>\n",
       "      <td>Jim Gaffigan: Comedy Monster (2021) | Transcript</td>\n",
       "      <td>0.051541</td>\n",
       "      <td>Drew Michael: Drew Michael (2018)</td>\n",
       "      <td>Drew Michael</td>\n",
       "      <td>https://scrapsfromtheloft.com/comedy/jim-gaffi...</td>\n",
       "      <td>Thank you! Thank you! Oh, my gosh. Thank you s...</td>\n",
       "      <td>49799</td>\n",
       "      <td>tt15907298</td>\n",
       "      <td>Jim Gaffigan</td>\n",
       "      <td>...</td>\n",
       "      <td>0.04718</td>\n",
       "      <td>0.0</td>\n",
       "      <td>0.0</td>\n",
       "      <td>0.069053</td>\n",
       "      <td>0.26312</td>\n",
       "      <td>0.25107</td>\n",
       "      <td>0.0</td>\n",
       "      <td>0.0</td>\n",
       "      <td>0.5</td>\n",
       "      <td>0.33466</td>\n",
       "    </tr>\n",
       "  </tbody>\n",
       "</table>\n",
       "<p>3 rows × 62 columns</p>\n",
       "</div>"
      ],
      "text/plain": [
       "                                        description  \\\n",
       "0  Jim Gaffigan: Comedy Monster (2021) | Transcript   \n",
       "1            Louis C. K.: Sorry (2021) | Transcript   \n",
       "2    Drew Michael: Drew Michael (2018) | Transcript   \n",
       "\n",
       "                                  other description  cosine similarity  \\\n",
       "0  Jim Gaffigan: Comedy Monster (2021) | Transcript           1.000000   \n",
       "1  Jim Gaffigan: Comedy Monster (2021) | Transcript          -0.187418   \n",
       "2  Jim Gaffigan: Comedy Monster (2021) | Transcript           0.051541   \n",
       "\n",
       "                             fullTitle        artist  \\\n",
       "0  Jim Gaffigan: Comedy Monster (2021)  Jim Gaffigan   \n",
       "1                         Sorry (2021)    Louis C.K.   \n",
       "2    Drew Michael: Drew Michael (2018)  Drew Michael   \n",
       "\n",
       "                                                link  \\\n",
       "0  https://scrapsfromtheloft.com/comedy/jim-gaffi...   \n",
       "1  https://scrapsfromtheloft.com/comedy/jim-gaffi...   \n",
       "2  https://scrapsfromtheloft.com/comedy/jim-gaffi...   \n",
       "\n",
       "                                          transcript  script characters  \\\n",
       "0  Thank you! Thank you! Oh, my gosh. Thank you s...              49799   \n",
       "1  Thank you! Thank you! Oh, my gosh. Thank you s...              49799   \n",
       "2  Thank you! Thank you! Oh, my gosh. Thank you s...              49799   \n",
       "\n",
       "           id  other artist  ... mean sentence polarity  \\\n",
       "0  tt15907298  Jim Gaffigan  ...                0.04718   \n",
       "1  tt15907298  Jim Gaffigan  ...                0.04718   \n",
       "2  tt15907298  Jim Gaffigan  ...                0.04718   \n",
       "\n",
       "  Q1.0 sentence polarity  Q2.0 sentence polarity Q3.0 sentence polarity  \\\n",
       "0                    0.0                     0.0               0.069053   \n",
       "1                    0.0                     0.0               0.069053   \n",
       "2                    0.0                     0.0               0.069053   \n",
       "\n",
       "  std sentence polarity  mean sentence subjectivity  \\\n",
       "0               0.26312                     0.25107   \n",
       "1               0.26312                     0.25107   \n",
       "2               0.26312                     0.25107   \n",
       "\n",
       "  Q1.0 sentence subjectivity Q2.0 sentence subjectivity  \\\n",
       "0                        0.0                        0.0   \n",
       "1                        0.0                        0.0   \n",
       "2                        0.0                        0.0   \n",
       "\n",
       "  Q3.0 sentence subjectivity std sentence subjectivity  \n",
       "0                        0.5                   0.33466  \n",
       "1                        0.5                   0.33466  \n",
       "2                        0.5                   0.33466  \n",
       "\n",
       "[3 rows x 62 columns]"
      ]
     },
     "execution_count": 448,
     "metadata": {},
     "output_type": "execute_result"
    }
   ],
   "source": [
    "widget_df = (cosims_means_df_long\n",
    "                .merge(metascripts[['description', 'fullTitle', 'artist']])\n",
    "                .merge(metascripts, \n",
    "                       left_on = 'other description', \n",
    "                       right_on = 'description')\n",
    "                    .rename(columns = {'description_x': 'description',\n",
    "                                       'fullTitle_x': 'fullTitle',\n",
    "                                       'fullTitle_y': 'other fullTitle',\n",
    "                                       'artist_x': 'artist',\n",
    "                                       'artist_y': 'other artist'})\n",
    "                    .drop(columns = 'description_y')\n",
    "        )\n",
    "\n",
    "widget_df.head(3)"
   ]
  },
  {
   "cell_type": "code",
   "execution_count": 449,
   "id": "1aa20c8b",
   "metadata": {
    "slideshow": {
     "slide_type": "skip"
    }
   },
   "outputs": [],
   "source": [
    "widget_df['image html'] = widget_df['image'].apply(lambda x: f\"<img src='{x}' width='100px'>\")"
   ]
  },
  {
   "cell_type": "code",
   "execution_count": 450,
   "id": "789b1cff",
   "metadata": {
    "slideshow": {
     "slide_type": "skip"
    }
   },
   "outputs": [],
   "source": [
    "from ipywidgets import interact\n",
    "import ipywidgets\n",
    "from IPython.display import Image, HTML\n",
    "from random import randrange\n",
    "\n",
    "def show_df(NewArtistsOnly, Show):\n",
    "    if NewArtistsOnly:\n",
    "        filtered = widget_df[(widget_df['fullTitle'] == Show) \n",
    "                             & \n",
    "                             (\n",
    "                                 (widget_df['artist'] != widget_df['other artist']) \n",
    "                                 | \n",
    "                                 (widget_df['cosine similarity'] >= 0.9999999)\n",
    "                             )\n",
    "                            ]\n",
    "        tops = filtered.nlargest(6, 'cosine similarity')\n",
    "        bottom = filtered.nsmallest(1, 'cosine similarity')\n",
    "        topbottom = pd.concat([tops, bottom]).reset_index()\n",
    "        output_df = topbottom[['title', 'year', 'image html', 'cosine similarity']].T\n",
    "        output_df.columns = ['Selection', 'Recommendation 1', 'Recommendation 2', 'Recommendation 3', 'Recommendation 4', 'Recommendation 5', 'Something Different']\n",
    "        output_df.index = output_df.index.str.title()\n",
    "        output = HTML(output_df.to_html(escape=False))\n",
    "    else:\n",
    "        filtered = widget_df[widget_df['fullTitle'] == Show]\n",
    "        tops = filtered.nlargest(6, 'cosine similarity')\n",
    "        bottom = filtered.nsmallest(1, 'cosine similarity')\n",
    "        topbottom = pd.concat([tops, bottom]).reset_index()\n",
    "        output_df = topbottom[['title', 'year', 'image html', 'cosine similarity']].T\n",
    "        output_df.columns = ['Selection', 'Recommendation 1', 'Recommendation 2', 'Recommendation 3', 'Recommendation 4', 'Recommendation 5', 'Something Different']\n",
    "        output_df.index = output_df.index.str.title()\n",
    "        output = HTML(output_df.to_html(escape=False))\n",
    "    return output\n",
    "\n",
    "def what_should_i_watch():\n",
    "    unique_show_titles = widget_df['fullTitle'].sort_values().unique()\n",
    "    random_index = randrange(len(unique_show_titles))\n",
    "    starting_show = unique_show_titles[random_index]\n",
    "    show_selection_combobox = ipywidgets.Combobox(\n",
    "                                value=starting_show,\n",
    "                                placeholder='Start typing a show or artist',\n",
    "                                options=list(unique_show_titles),\n",
    "                                description='Select a Show',\n",
    "                                ensure_option=True,\n",
    "                                disabled=False\n",
    "                            )\n",
    "#     show_selection_widget = ipywidgets.Dropdown(\n",
    "#                                     options = unique_show_titles,\n",
    "#                                     value = starting_show,\n",
    "#                                     description = 'Select a Show',\n",
    "#                                     disabled = False,\n",
    "#                                 )\n",
    "    new_artists_filter_widget = ipywidgets.Checkbox(\n",
    "                                    value = False,\n",
    "                                    description ='Show Only Other Artists?',\n",
    "                                    disabled =False,\n",
    "                                )\n",
    "    return interact(show_df, NewArtistsOnly = new_artists_filter_widget, Show = show_selection_combobox)"
   ]
  },
  {
   "cell_type": "code",
   "execution_count": 451,
   "id": "a785b421",
   "metadata": {
    "slideshow": {
     "slide_type": "slide"
    }
   },
   "outputs": [
    {
     "data": {
      "application/vnd.jupyter.widget-view+json": {
       "model_id": "b931e8f4d9e140039e3a04708107c0ee",
       "version_major": 2,
       "version_minor": 0
      },
      "text/plain": [
       "interactive(children=(Checkbox(value=False, description='Show Only Other Artists?'), Combobox(value='Ralphie M…"
      ]
     },
     "metadata": {},
     "output_type": "display_data"
    },
    {
     "data": {
      "text/plain": [
       "<function __main__.show_df(NewArtistsOnly, Show)>"
      ]
     },
     "execution_count": 451,
     "metadata": {},
     "output_type": "execute_result"
    }
   ],
   "source": [
    "what_should_i_watch()"
   ]
  },
  {
   "cell_type": "markdown",
   "id": "5c46db33",
   "metadata": {
    "slideshow": {
     "slide_type": "skip"
    }
   },
   "source": [
    "## appendix"
   ]
  },
  {
   "cell_type": "markdown",
   "id": "14956a0b",
   "metadata": {
    "slideshow": {
     "slide_type": "skip"
    }
   },
   "source": [
    "### original cosine similarity code"
   ]
  },
  {
   "cell_type": "code",
   "execution_count": null,
   "id": "090f9d67",
   "metadata": {
    "slideshow": {
     "slide_type": "skip"
    }
   },
   "outputs": [],
   "source": [
    "def token_filter(token):\n",
    "    return not (token.is_punct | token.is_space | token.is_stop)\n",
    "\n",
    "filtered_tokens = []\n",
    "for scripts_subset in tqdm(chunker(scripts, 2), total = np.ceil(len(scripts)/2)):\n",
    "    for doc in nlp.pipe(scripts_subset):\n",
    "        tokens = [token.lemma_.lower() for token in doc if token_filter(token)]\n",
    "        filtered_tokens.append(tokens)\n",
    "        \n",
    "tokens_no_sw = [[token for token in tokenized_script if token not in sw] for tokenized_script in filtered_tokens]\n",
    "\n",
    "scripts_counters = {description: Counter(tokenized_script) for description, tokenized_script in zip(descriptions, tokens_no_sw)}\n",
    "scripts_df = pd.DataFrame.from_dict(scripts_counters, orient = 'index').fillna(0)\n",
    "\n",
    "cosims = cosine_similarity(scripts_df)\n",
    "cosims_df = (pd.DataFrame(index=scripts_df.index, \n",
    "                          columns=scripts_df.index, \n",
    "                          data = cosims)\n",
    "                .melt(var_name='other_show', \n",
    "                      value_name='cosine_similarity', \n",
    "                      ignore_index=False)\n",
    "                .reset_index()\n",
    "                .rename(columns = {'index':'show'})\n",
    "        )"
   ]
  },
  {
   "cell_type": "markdown",
   "id": "5d544c6c",
   "metadata": {
    "slideshow": {
     "slide_type": "skip"
    }
   },
   "source": [
    "### render image or thumbnail"
   ]
  },
  {
   "cell_type": "code",
   "execution_count": null,
   "id": "4ea70ff2",
   "metadata": {
    "slideshow": {
     "slide_type": "skip"
    }
   },
   "outputs": [],
   "source": [
    "from IPython.display import Image, HTML\n",
    "\n",
    "#HTML(metascripts.loc[:5,['image']].to_html(escape = False))\n",
    "Image(url= f\"{metascripts.loc[0,'image']}\")"
   ]
  },
  {
   "cell_type": "markdown",
   "id": "83e37c7d",
   "metadata": {
    "slideshow": {
     "slide_type": "skip"
    }
   },
   "source": [
    "### kmeans clustering"
   ]
  },
  {
   "cell_type": "code",
   "execution_count": 33,
   "id": "3de9fb3a",
   "metadata": {
    "slideshow": {
     "slide_type": "skip"
    }
   },
   "outputs": [],
   "source": [
    "from sklearn.cluster import KMeans\n",
    "from sklearn.metrics import silhouette_samples, silhouette_score\n",
    "from jupyterthemes import jtplot\n",
    "jtplot.style()"
   ]
  },
  {
   "cell_type": "code",
   "execution_count": 47,
   "id": "22d61587",
   "metadata": {
    "slideshow": {
     "slide_type": "skip"
    }
   },
   "outputs": [
    {
     "data": {
      "application/vnd.jupyter.widget-view+json": {
       "model_id": "",
       "version_major": 2,
       "version_minor": 0
      },
      "text/plain": [
       "  0%|          | 0/59 [00:00<?, ?it/s]"
      ]
     },
     "metadata": {},
     "output_type": "display_data"
    },
    {
     "data": {
      "image/png": "[encoded data removed]",
      "text/plain": [
       "<Figure size 1440x432 with 2 Axes>"
      ]
     },
     "metadata": {},
     "output_type": "display_data"
    }
   ],
   "source": [
    "inertias = []\n",
    "sil_scores = []\n",
    "max_clusters = 60\n",
    "for n_clusters in tqdm(range(2, max_clusters+1)):\n",
    "    \n",
    "    pipeline = Pipeline(\n",
    "        steps = [\n",
    "            ('scaler', StandardScaler()),\n",
    "            ('cluster', KMeans(n_clusters = n_clusters))\n",
    "        ]\n",
    "    )\n",
    "\n",
    "    pipeline.fit(metascripts[features])\n",
    "    inertias.append(pipeline['cluster'].inertia_)\n",
    "\n",
    "    \n",
    "    features_scaled = pipeline['scaler'].transform(metascripts[features])\n",
    "    features_clusters = pipeline.predict(metascripts[features])\n",
    "    sil_score = silhouette_score(features_scaled, features_clusters)\n",
    "    sil_scores.append(sil_score)\n",
    "        \n",
    "fig, (ax1, ax2) = plt.subplots(1, 2, figsize = (20,6))\n",
    "\n",
    "ax1.plot(range(2, max_clusters + 1), inertias)\n",
    "ax1.scatter(range(2, max_clusters + 1), inertias, s = 100)\n",
    "ax1.set_xlabel(\"number of clusters\")\n",
    "ax1.set_ylabel(\"inertia\")\n",
    "ax1.set_title(\"inertia by kmeans cluster size\")\n",
    "\n",
    "ax2.plot(range(2, max_clusters + 1), sil_scores)\n",
    "ax2.scatter(range(2, max_clusters + 1), sil_scores, s = 100)\n",
    "ax2.set_xlabel(\"number of clusters\")\n",
    "ax2.set_ylabel(\"silhoutte score\")\n",
    "ax2.set_title(\"silhouette score by kmeans cluster size\");"
   ]
  },
  {
   "cell_type": "code",
   "execution_count": 57,
   "id": "a41ae23a",
   "metadata": {
    "slideshow": {
     "slide_type": "skip"
    }
   },
   "outputs": [
    {
     "data": {
      "image/png": "[encoded data removed]",
      "text/plain": [
       "<Figure size 720x432 with 1 Axes>"
      ]
     },
     "metadata": {},
     "output_type": "display_data"
    }
   ],
   "source": [
    "n_clusters = 39\n",
    "    \n",
    "pipeline = Pipeline(\n",
    "    steps = [\n",
    "        ('scaler', StandardScaler()),\n",
    "        ('cluster', KMeans(n_clusters = n_clusters))\n",
    "    ]\n",
    ")\n",
    "\n",
    "pipeline.fit(metascripts[features])\n",
    "inertias.append(pipeline['cluster'].inertia_)\n",
    "\n",
    "\n",
    "features_scaled = pipeline['scaler'].transform(metascripts[features])\n",
    "features_clusters = pipeline.predict(metascripts[features])\n",
    "sil_score = silhouette_score(features_scaled, features_clusters)\n",
    "sil_scores.append(sil_score)\n",
    "\n",
    "i = 13\n",
    "j = 19\n",
    "\n",
    "plt.figure(figsize = (10,6))\n",
    "sns.scatterplot(data = metascripts[features],\n",
    "               x = features[i],\n",
    "               y = features[j],\n",
    "               hue = pipeline[1].labels_)\n",
    "\n",
    "sns.scatterplot(x = pipeline['scaler'].inverse_transform(pipeline['cluster'].cluster_centers_)[:,i],\n",
    "                y = pipeline['scaler'].inverse_transform(pipeline['cluster'].cluster_centers_)[:,j],\n",
    "                s = 500, \n",
    "                hue = list(range(n_clusters)), \n",
    "                marker = 'D',\n",
    "                legend = False);"
   ]
  }
 ],
 "metadata": {
  "kernelspec": {
   "display_name": "Python 3",
   "language": "python",
   "name": "python3"
  },
  "language_info": {
   "codemirror_mode": {
    "name": "ipython",
    "version": 3
   },
   "file_extension": ".py",
   "mimetype": "text/x-python",
   "name": "python",
   "nbconvert_exporter": "python",
   "pygments_lexer": "ipython3",
   "version": "3.8.8"
  }
 },
 "nbformat": 4,
 "nbformat_minor": 5
}
