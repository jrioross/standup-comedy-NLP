{
 "cells": [
  {
   "cell_type": "markdown",
   "id": "54a888c2",
   "metadata": {
    "slideshow": {
     "slide_type": "skip"
    }
   },
   "source": [
    "# Clustering and Recommendations"
   ]
  },
  {
   "cell_type": "markdown",
   "id": "26ac55de",
   "metadata": {
    "slideshow": {
     "slide_type": "skip"
    }
   },
   "source": [
    "We've made a lot of features, many of which we don't want to give equal weight. This notebook creates similarity measures for the following groupings of features:\n",
    "    - metadata\n",
    "    - words and sentences\n",
    "    - repetition\n",
    "    - profanity\n",
    "    - parts of speech\n",
    "    - point of view\n",
    "    - sentiment\n",
    "    - bag of words"
   ]
  },
  {
   "cell_type": "markdown",
   "id": "878be292",
   "metadata": {
    "slideshow": {
     "slide_type": "skip"
    }
   },
   "source": [
    "## import"
   ]
  },
  {
   "cell_type": "code",
   "execution_count": 544,
   "id": "80172314",
   "metadata": {
    "slideshow": {
     "slide_type": "skip"
    }
   },
   "outputs": [],
   "source": [
    "import pickle\n",
    "import numpy as np\n",
    "import pandas as pd\n",
    "from datetime import date\n",
    "import json\n",
    "from tqdm.notebook import tqdm\n",
    "\n",
    "import matplotlib.pyplot as plt\n",
    "import seaborn as sns\n",
    "import plotly.express as px\n",
    "\n",
    "import nltk\n",
    "from nltk.corpus import stopwords\n",
    "from nltk.tokenize import word_tokenize, sent_tokenize, regexp_tokenize\n",
    "import gensim\n",
    "from gensim.corpora.dictionary import Dictionary\n",
    "\n",
    "import spacy\n",
    "from sklearn.metrics.pairwise import cosine_similarity\n",
    "from sklearn.pipeline import Pipeline\n",
    "from sklearn.preprocessing import StandardScaler"
   ]
  },
  {
   "cell_type": "code",
   "execution_count": 545,
   "id": "5bc9db6d",
   "metadata": {
    "slideshow": {
     "slide_type": "skip"
    }
   },
   "outputs": [],
   "source": [
    "sw = stopwords.words(\"english\")"
   ]
  },
  {
   "cell_type": "code",
   "execution_count": 546,
   "id": "4c5fcf32",
   "metadata": {
    "slideshow": {
     "slide_type": "skip"
    }
   },
   "outputs": [],
   "source": [
    "with open(f'../data/metascripts_df_sentiment.pickle', 'rb') as file:\n",
    "    metascripts = pickle.load(file)\n",
    "    \n",
    "with open(f'../data/metascripts_repetition_df.pickle', 'rb') as file:\n",
    "    metascripts_rep = pickle.load(file)\n",
    "    \n",
    "with open('../data/cosims_df.pickle', 'rb') as file:\n",
    "    bow_cosims = pickle.load(file)\n",
    "    \n",
    "with open('../data/pos_props_df.pickle', 'rb') as file:\n",
    "    pos_props_df = pickle.load(file)\n",
    "    \n",
    "with open('../data/pos_props_df.pickle', 'rb') as file:\n",
    "    pos_props_df = pickle.load(file)\n",
    "    \n",
    "with open('../data/pov_props_relative_df.pickle', 'rb') as file:\n",
    "    pov_props_df = pickle.load(file)"
   ]
  },
  {
   "cell_type": "markdown",
   "id": "b7c94301",
   "metadata": {
    "slideshow": {
     "slide_type": "skip"
    }
   },
   "source": [
    "## prepare the data for unsupervised learning"
   ]
  },
  {
   "cell_type": "markdown",
   "id": "c7a590cf",
   "metadata": {
    "slideshow": {
     "slide_type": "skip"
    }
   },
   "source": [
    "### bow cosims\n",
    "Use wide bag-of-words cosims dataframe in preparation for later steps"
   ]
  },
  {
   "cell_type": "code",
   "execution_count": 547,
   "id": "da923e4a",
   "metadata": {
    "slideshow": {
     "slide_type": "skip"
    }
   },
   "outputs": [
    {
     "data": {
      "text/plain": [
       "Jim Gaffigan: Comedy Monster (2021) | Transcript                     1\n",
       "Louis C. K.: Sorry (2021) | Transcript                               1\n",
       "Drew Michael: Drew Michael (2018) | Transcript                       1\n",
       "Drew Michael: Red Blue Green (2021) | Transcript                     1\n",
       "Mo Amer: Mohammed in Texas (2021) | Transcript                       1\n",
       "                                                                    ..\n",
       "GEORGE CARLIN: COMPLAINTS AND GRIEVANCES (2001) – FULL TRANSCRIPT    1\n",
       "GEORGE CARLIN: LIFE IS WORTH LOSING (2006) – Transcript              1\n",
       "George Carlin: It’s Bad For Ya (2008) Full transcript                1\n",
       "Dave Chappelle: 8:46 – Transcript                                    1\n",
       "JIM JEFFERIES ON GUN CONTROL [FULL TRANSCRIPT]                       1\n",
       "Length: 310, dtype: int64"
      ]
     },
     "execution_count": 547,
     "metadata": {},
     "output_type": "execute_result"
    }
   ],
   "source": [
    "(bow_cosims > 0.99999).sum()"
   ]
  },
  {
   "cell_type": "markdown",
   "id": "0d91faf9",
   "metadata": {
    "slideshow": {
     "slide_type": "skip"
    }
   },
   "source": [
    "### metadata\n",
    "Dummify categorical variables and combine metadata variables into one dataframe."
   ]
  },
  {
   "cell_type": "code",
   "execution_count": 548,
   "id": "dcb153e1",
   "metadata": {
    "slideshow": {
     "slide_type": "skip"
    }
   },
   "outputs": [
    {
     "data": {
      "text/html": [
       "<div>\n",
       "<style scoped>\n",
       "    .dataframe tbody tr th:only-of-type {\n",
       "        vertical-align: middle;\n",
       "    }\n",
       "\n",
       "    .dataframe tbody tr th {\n",
       "        vertical-align: top;\n",
       "    }\n",
       "\n",
       "    .dataframe thead th {\n",
       "        text-align: right;\n",
       "    }\n",
       "</style>\n",
       "<table border=\"1\" class=\"dataframe\">\n",
       "  <thead>\n",
       "    <tr style=\"text-align: right;\">\n",
       "      <th></th>\n",
       "      <th></th>\n",
       "      <th>3 Arts Entertainment</th>\n",
       "      <th>A24</th>\n",
       "      <th>Another Mulligan Entertainment</th>\n",
       "      <th>Art &amp; Industry</th>\n",
       "      <th>Attic Bedroom</th>\n",
       "      <th>BBC Comedy</th>\n",
       "      <th>Black Gold Films</th>\n",
       "      <th>Blue Wolf Productions</th>\n",
       "      <th>Brillstein Entertainment Partners</th>\n",
       "      <th>...</th>\n",
       "      <th>The Nacelle Company</th>\n",
       "      <th>Three T's Entertainment</th>\n",
       "      <th>Tiger Aspect Productions</th>\n",
       "      <th>Triage Entertainment</th>\n",
       "      <th>Universal Pictures</th>\n",
       "      <th>Universal Pictures UK</th>\n",
       "      <th>Universal Studios</th>\n",
       "      <th>Weirdass Comedy</th>\n",
       "      <th>What's Wrong with People?</th>\n",
       "      <th>e&amp;a Film Berlin</th>\n",
       "    </tr>\n",
       "  </thead>\n",
       "  <tbody>\n",
       "    <tr>\n",
       "      <th>0</th>\n",
       "      <td>0</td>\n",
       "      <td>0</td>\n",
       "      <td>0</td>\n",
       "      <td>0</td>\n",
       "      <td>0</td>\n",
       "      <td>0</td>\n",
       "      <td>0</td>\n",
       "      <td>0</td>\n",
       "      <td>0</td>\n",
       "      <td>0</td>\n",
       "      <td>...</td>\n",
       "      <td>1</td>\n",
       "      <td>0</td>\n",
       "      <td>0</td>\n",
       "      <td>0</td>\n",
       "      <td>0</td>\n",
       "      <td>0</td>\n",
       "      <td>0</td>\n",
       "      <td>0</td>\n",
       "      <td>0</td>\n",
       "      <td>0</td>\n",
       "    </tr>\n",
       "    <tr>\n",
       "      <th>1</th>\n",
       "      <td>1</td>\n",
       "      <td>0</td>\n",
       "      <td>0</td>\n",
       "      <td>0</td>\n",
       "      <td>0</td>\n",
       "      <td>0</td>\n",
       "      <td>0</td>\n",
       "      <td>0</td>\n",
       "      <td>0</td>\n",
       "      <td>0</td>\n",
       "      <td>...</td>\n",
       "      <td>0</td>\n",
       "      <td>0</td>\n",
       "      <td>0</td>\n",
       "      <td>0</td>\n",
       "      <td>0</td>\n",
       "      <td>0</td>\n",
       "      <td>0</td>\n",
       "      <td>0</td>\n",
       "      <td>0</td>\n",
       "      <td>0</td>\n",
       "    </tr>\n",
       "    <tr>\n",
       "      <th>2</th>\n",
       "      <td>0</td>\n",
       "      <td>0</td>\n",
       "      <td>0</td>\n",
       "      <td>0</td>\n",
       "      <td>0</td>\n",
       "      <td>0</td>\n",
       "      <td>0</td>\n",
       "      <td>0</td>\n",
       "      <td>0</td>\n",
       "      <td>0</td>\n",
       "      <td>...</td>\n",
       "      <td>0</td>\n",
       "      <td>0</td>\n",
       "      <td>0</td>\n",
       "      <td>0</td>\n",
       "      <td>0</td>\n",
       "      <td>0</td>\n",
       "      <td>0</td>\n",
       "      <td>0</td>\n",
       "      <td>0</td>\n",
       "      <td>0</td>\n",
       "    </tr>\n",
       "  </tbody>\n",
       "</table>\n",
       "<p>3 rows × 182 columns</p>\n",
       "</div>"
      ],
      "text/plain": [
       "       3 Arts Entertainment   A24   Another Mulligan Entertainment  \\\n",
       "0  0                      0     0                                0   \n",
       "1  1                      0     0                                0   \n",
       "2  0                      0     0                                0   \n",
       "\n",
       "    Art & Industry   Attic Bedroom   BBC Comedy   Black Gold Films  \\\n",
       "0                0               0            0                  0   \n",
       "1                0               0            0                  0   \n",
       "2                0               0            0                  0   \n",
       "\n",
       "    Blue Wolf Productions   Brillstein Entertainment Partners  ...  \\\n",
       "0                       0                                   0  ...   \n",
       "1                       0                                   0  ...   \n",
       "2                       0                                   0  ...   \n",
       "\n",
       "   The Nacelle Company  Three T's Entertainment  Tiger Aspect Productions  \\\n",
       "0                    1                        0                         0   \n",
       "1                    0                        0                         0   \n",
       "2                    0                        0                         0   \n",
       "\n",
       "   Triage Entertainment  Universal Pictures  Universal Pictures UK  \\\n",
       "0                     0                   0                      0   \n",
       "1                     0                   0                      0   \n",
       "2                     0                   0                      0   \n",
       "\n",
       "   Universal Studios  Weirdass Comedy  What's Wrong with People?  \\\n",
       "0                  0                0                          0   \n",
       "1                  0                0                          0   \n",
       "2                  0                0                          0   \n",
       "\n",
       "   e&a Film Berlin  \n",
       "0                0  \n",
       "1                0  \n",
       "2                0  \n",
       "\n",
       "[3 rows x 182 columns]"
      ]
     },
     "execution_count": 548,
     "metadata": {},
     "output_type": "execute_result"
    }
   ],
   "source": [
    "companies_dummy = pd.get_dummies(metascripts['companies'].str.split(\",\").explode()).sum(level=0)\n",
    "companies_dummy.head(3)"
   ]
  },
  {
   "cell_type": "code",
   "execution_count": 549,
   "id": "267449c4",
   "metadata": {
    "slideshow": {
     "slide_type": "skip"
    }
   },
   "outputs": [
    {
     "data": {
      "text/html": [
       "<div>\n",
       "<style scoped>\n",
       "    .dataframe tbody tr th:only-of-type {\n",
       "        vertical-align: middle;\n",
       "    }\n",
       "\n",
       "    .dataframe tbody tr th {\n",
       "        vertical-align: top;\n",
       "    }\n",
       "\n",
       "    .dataframe thead th {\n",
       "        text-align: right;\n",
       "    }\n",
       "</style>\n",
       "<table border=\"1\" class=\"dataframe\">\n",
       "  <thead>\n",
       "    <tr style=\"text-align: right;\">\n",
       "      <th></th>\n",
       "      <th>Not Rated</th>\n",
       "      <th>PG</th>\n",
       "      <th>R</th>\n",
       "      <th>TV-14</th>\n",
       "      <th>TV-G</th>\n",
       "      <th>TV-MA</th>\n",
       "      <th>TV-PG</th>\n",
       "      <th>Unrated</th>\n",
       "    </tr>\n",
       "  </thead>\n",
       "  <tbody>\n",
       "    <tr>\n",
       "      <th>0</th>\n",
       "      <td>0</td>\n",
       "      <td>0</td>\n",
       "      <td>0</td>\n",
       "      <td>1</td>\n",
       "      <td>0</td>\n",
       "      <td>0</td>\n",
       "      <td>0</td>\n",
       "      <td>0</td>\n",
       "    </tr>\n",
       "    <tr>\n",
       "      <th>1</th>\n",
       "      <td>0</td>\n",
       "      <td>0</td>\n",
       "      <td>0</td>\n",
       "      <td>0</td>\n",
       "      <td>0</td>\n",
       "      <td>0</td>\n",
       "      <td>0</td>\n",
       "      <td>0</td>\n",
       "    </tr>\n",
       "    <tr>\n",
       "      <th>2</th>\n",
       "      <td>0</td>\n",
       "      <td>0</td>\n",
       "      <td>0</td>\n",
       "      <td>0</td>\n",
       "      <td>0</td>\n",
       "      <td>1</td>\n",
       "      <td>0</td>\n",
       "      <td>0</td>\n",
       "    </tr>\n",
       "  </tbody>\n",
       "</table>\n",
       "</div>"
      ],
      "text/plain": [
       "   Not Rated  PG  R  TV-14  TV-G  TV-MA  TV-PG  Unrated\n",
       "0          0   0  0      1     0      0      0        0\n",
       "1          0   0  0      0     0      0      0        0\n",
       "2          0   0  0      0     0      1      0        0"
      ]
     },
     "execution_count": 549,
     "metadata": {},
     "output_type": "execute_result"
    }
   ],
   "source": [
    "ratings_dummy = pd.get_dummies(metascripts['contentRating'])\n",
    "ratings_dummy.head(3)"
   ]
  },
  {
   "cell_type": "code",
   "execution_count": 550,
   "id": "08be21b4",
   "metadata": {
    "slideshow": {
     "slide_type": "skip"
    }
   },
   "outputs": [],
   "source": [
    "meta_num_features = ['year', 'runtimeMins', 'imDbRating', 'imDbRatingVotes']"
   ]
  },
  {
   "cell_type": "code",
   "execution_count": 551,
   "id": "234e5b19",
   "metadata": {
    "slideshow": {
     "slide_type": "skip"
    }
   },
   "outputs": [],
   "source": [
    "metadata = pd.concat([metascripts[meta_num_features], companies_dummy, ratings_dummy], axis = 1).fillna(0)"
   ]
  },
  {
   "cell_type": "markdown",
   "id": "4d360117",
   "metadata": {
    "slideshow": {
     "slide_type": "skip"
    }
   },
   "source": [
    "### part-of-speech proportions\n",
    "These are ready for cosine similarity besides dropping SYM (symbols)."
   ]
  },
  {
   "cell_type": "code",
   "execution_count": 552,
   "id": "63b03140",
   "metadata": {
    "slideshow": {
     "slide_type": "skip"
    }
   },
   "outputs": [
    {
     "data": {
      "text/html": [
       "<div>\n",
       "<style scoped>\n",
       "    .dataframe tbody tr th:only-of-type {\n",
       "        vertical-align: middle;\n",
       "    }\n",
       "\n",
       "    .dataframe tbody tr th {\n",
       "        vertical-align: top;\n",
       "    }\n",
       "\n",
       "    .dataframe thead th {\n",
       "        text-align: right;\n",
       "    }\n",
       "</style>\n",
       "<table border=\"1\" class=\"dataframe\">\n",
       "  <thead>\n",
       "    <tr style=\"text-align: right;\">\n",
       "      <th></th>\n",
       "      <th>description</th>\n",
       "      <th>VERB</th>\n",
       "      <th>PRON</th>\n",
       "      <th>INTJ</th>\n",
       "      <th>NOUN</th>\n",
       "      <th>ADV</th>\n",
       "      <th>AUX</th>\n",
       "      <th>ADJ</th>\n",
       "      <th>PART</th>\n",
       "      <th>ADP</th>\n",
       "      <th>DET</th>\n",
       "      <th>SCONJ</th>\n",
       "      <th>CCONJ</th>\n",
       "      <th>PROPN</th>\n",
       "      <th>NUM</th>\n",
       "    </tr>\n",
       "  </thead>\n",
       "  <tbody>\n",
       "    <tr>\n",
       "      <th>0</th>\n",
       "      <td>Jim Gaffigan: Comedy Monster (2021) | Transcript</td>\n",
       "      <td>0.146510</td>\n",
       "      <td>0.184963</td>\n",
       "      <td>0.017147</td>\n",
       "      <td>0.145698</td>\n",
       "      <td>0.062906</td>\n",
       "      <td>0.106230</td>\n",
       "      <td>0.053673</td>\n",
       "      <td>0.037845</td>\n",
       "      <td>0.081981</td>\n",
       "      <td>0.077922</td>\n",
       "      <td>0.024046</td>\n",
       "      <td>0.027902</td>\n",
       "      <td>0.025974</td>\n",
       "      <td>0.007204</td>\n",
       "    </tr>\n",
       "    <tr>\n",
       "      <th>1</th>\n",
       "      <td>Louis C. K.: Sorry (2021) | Transcript</td>\n",
       "      <td>0.140020</td>\n",
       "      <td>0.206552</td>\n",
       "      <td>0.016381</td>\n",
       "      <td>0.133737</td>\n",
       "      <td>0.057669</td>\n",
       "      <td>0.106361</td>\n",
       "      <td>0.057556</td>\n",
       "      <td>0.039942</td>\n",
       "      <td>0.076517</td>\n",
       "      <td>0.074274</td>\n",
       "      <td>0.030405</td>\n",
       "      <td>0.029507</td>\n",
       "      <td>0.021317</td>\n",
       "      <td>0.008639</td>\n",
       "    </tr>\n",
       "    <tr>\n",
       "      <th>2</th>\n",
       "      <td>Drew Michael: Drew Michael (2018) | Transcript</td>\n",
       "      <td>0.136785</td>\n",
       "      <td>0.216978</td>\n",
       "      <td>0.043468</td>\n",
       "      <td>0.119326</td>\n",
       "      <td>0.058519</td>\n",
       "      <td>0.116918</td>\n",
       "      <td>0.053341</td>\n",
       "      <td>0.040698</td>\n",
       "      <td>0.083925</td>\n",
       "      <td>0.060566</td>\n",
       "      <td>0.027694</td>\n",
       "      <td>0.026851</td>\n",
       "      <td>0.007586</td>\n",
       "      <td>0.007345</td>\n",
       "    </tr>\n",
       "  </tbody>\n",
       "</table>\n",
       "</div>"
      ],
      "text/plain": [
       "                                        description      VERB      PRON  \\\n",
       "0  Jim Gaffigan: Comedy Monster (2021) | Transcript  0.146510  0.184963   \n",
       "1            Louis C. K.: Sorry (2021) | Transcript  0.140020  0.206552   \n",
       "2    Drew Michael: Drew Michael (2018) | Transcript  0.136785  0.216978   \n",
       "\n",
       "       INTJ      NOUN       ADV       AUX       ADJ      PART       ADP  \\\n",
       "0  0.017147  0.145698  0.062906  0.106230  0.053673  0.037845  0.081981   \n",
       "1  0.016381  0.133737  0.057669  0.106361  0.057556  0.039942  0.076517   \n",
       "2  0.043468  0.119326  0.058519  0.116918  0.053341  0.040698  0.083925   \n",
       "\n",
       "        DET     SCONJ     CCONJ     PROPN       NUM  \n",
       "0  0.077922  0.024046  0.027902  0.025974  0.007204  \n",
       "1  0.074274  0.030405  0.029507  0.021317  0.008639  \n",
       "2  0.060566  0.027694  0.026851  0.007586  0.007345  "
      ]
     },
     "execution_count": 552,
     "metadata": {},
     "output_type": "execute_result"
    }
   ],
   "source": [
    "pos_props_df = pos_props_df.drop(columns = 'SYM')\n",
    "pos_props_df.head(3)"
   ]
  },
  {
   "cell_type": "markdown",
   "id": "f64e3f23",
   "metadata": {
    "slideshow": {
     "slide_type": "skip"
    }
   },
   "source": [
    "### point-of-view proportions\n",
    "These are also ready for cosine similarity."
   ]
  },
  {
   "cell_type": "code",
   "execution_count": 553,
   "id": "0a5e5fdf",
   "metadata": {
    "slideshow": {
     "slide_type": "skip"
    }
   },
   "outputs": [
    {
     "data": {
      "text/html": [
       "<div>\n",
       "<style scoped>\n",
       "    .dataframe tbody tr th:only-of-type {\n",
       "        vertical-align: middle;\n",
       "    }\n",
       "\n",
       "    .dataframe tbody tr th {\n",
       "        vertical-align: top;\n",
       "    }\n",
       "\n",
       "    .dataframe thead th {\n",
       "        text-align: right;\n",
       "    }\n",
       "</style>\n",
       "<table border=\"1\" class=\"dataframe\">\n",
       "  <thead>\n",
       "    <tr style=\"text-align: right;\">\n",
       "      <th></th>\n",
       "      <th>description</th>\n",
       "      <th>third_person</th>\n",
       "      <th>first_person</th>\n",
       "      <th>second_person</th>\n",
       "    </tr>\n",
       "  </thead>\n",
       "  <tbody>\n",
       "    <tr>\n",
       "      <th>0</th>\n",
       "      <td>Jim Gaffigan: Comedy Monster (2021) | Transcript</td>\n",
       "      <td>0.695040</td>\n",
       "      <td>0.202955</td>\n",
       "      <td>0.102005</td>\n",
       "    </tr>\n",
       "    <tr>\n",
       "      <th>1</th>\n",
       "      <td>Louis C. K.: Sorry (2021) | Transcript</td>\n",
       "      <td>0.718351</td>\n",
       "      <td>0.179794</td>\n",
       "      <td>0.101856</td>\n",
       "    </tr>\n",
       "    <tr>\n",
       "      <th>2</th>\n",
       "      <td>Drew Michael: Drew Michael (2018) | Transcript</td>\n",
       "      <td>0.614692</td>\n",
       "      <td>0.235545</td>\n",
       "      <td>0.149763</td>\n",
       "    </tr>\n",
       "  </tbody>\n",
       "</table>\n",
       "</div>"
      ],
      "text/plain": [
       "                                        description  third_person  \\\n",
       "0  Jim Gaffigan: Comedy Monster (2021) | Transcript      0.695040   \n",
       "1            Louis C. K.: Sorry (2021) | Transcript      0.718351   \n",
       "2    Drew Michael: Drew Michael (2018) | Transcript      0.614692   \n",
       "\n",
       "   first_person  second_person  \n",
       "0      0.202955       0.102005  \n",
       "1      0.179794       0.101856  \n",
       "2      0.235545       0.149763  "
      ]
     },
     "execution_count": 553,
     "metadata": {},
     "output_type": "execute_result"
    }
   ],
   "source": [
    "pov_props_df.head(3)"
   ]
  },
  {
   "cell_type": "markdown",
   "id": "fa3c867f",
   "metadata": {
    "slideshow": {
     "slide_type": "skip"
    }
   },
   "source": [
    "### word and sentence lengths\n",
    "Select off just the relevant word and sentence features from the metascripts dataframe."
   ]
  },
  {
   "cell_type": "code",
   "execution_count": 554,
   "id": "d17526c3",
   "metadata": {
    "slideshow": {
     "slide_type": "skip"
    }
   },
   "outputs": [
    {
     "data": {
      "text/html": [
       "<div>\n",
       "<style scoped>\n",
       "    .dataframe tbody tr th:only-of-type {\n",
       "        vertical-align: middle;\n",
       "    }\n",
       "\n",
       "    .dataframe tbody tr th {\n",
       "        vertical-align: top;\n",
       "    }\n",
       "\n",
       "    .dataframe thead th {\n",
       "        text-align: right;\n",
       "    }\n",
       "</style>\n",
       "<table border=\"1\" class=\"dataframe\">\n",
       "  <thead>\n",
       "    <tr style=\"text-align: right;\">\n",
       "      <th></th>\n",
       "      <th>mean word length</th>\n",
       "      <th>std word length</th>\n",
       "      <th>max word length</th>\n",
       "      <th>mean sentence length</th>\n",
       "      <th>std sentence length</th>\n",
       "      <th>Q1.0 sentence length</th>\n",
       "      <th>Q2.0 sentence length</th>\n",
       "      <th>Q3.0 sentence length</th>\n",
       "      <th>max sentence length</th>\n",
       "    </tr>\n",
       "  </thead>\n",
       "  <tbody>\n",
       "    <tr>\n",
       "      <th>0</th>\n",
       "      <td>3.805854</td>\n",
       "      <td>2.103520</td>\n",
       "      <td>14</td>\n",
       "      <td>8.482407</td>\n",
       "      <td>6.064443</td>\n",
       "      <td>4.0</td>\n",
       "      <td>7.0</td>\n",
       "      <td>11.0</td>\n",
       "      <td>52</td>\n",
       "    </tr>\n",
       "    <tr>\n",
       "      <th>1</th>\n",
       "      <td>3.624900</td>\n",
       "      <td>1.967809</td>\n",
       "      <td>14</td>\n",
       "      <td>11.284530</td>\n",
       "      <td>10.199352</td>\n",
       "      <td>4.0</td>\n",
       "      <td>8.0</td>\n",
       "      <td>15.0</td>\n",
       "      <td>85</td>\n",
       "    </tr>\n",
       "    <tr>\n",
       "      <th>2</th>\n",
       "      <td>3.586754</td>\n",
       "      <td>1.980245</td>\n",
       "      <td>16</td>\n",
       "      <td>8.530658</td>\n",
       "      <td>7.739877</td>\n",
       "      <td>4.0</td>\n",
       "      <td>6.0</td>\n",
       "      <td>11.0</td>\n",
       "      <td>72</td>\n",
       "    </tr>\n",
       "  </tbody>\n",
       "</table>\n",
       "</div>"
      ],
      "text/plain": [
       "   mean word length  std word length  max word length  mean sentence length  \\\n",
       "0          3.805854         2.103520               14              8.482407   \n",
       "1          3.624900         1.967809               14             11.284530   \n",
       "2          3.586754         1.980245               16              8.530658   \n",
       "\n",
       "   std sentence length  Q1.0 sentence length  Q2.0 sentence length  \\\n",
       "0             6.064443                   4.0                   7.0   \n",
       "1            10.199352                   4.0                   8.0   \n",
       "2             7.739877                   4.0                   6.0   \n",
       "\n",
       "   Q3.0 sentence length  max sentence length  \n",
       "0                  11.0                   52  \n",
       "1                  15.0                   85  \n",
       "2                  11.0                   72  "
      ]
     },
     "execution_count": 554,
     "metadata": {},
     "output_type": "execute_result"
    }
   ],
   "source": [
    "ws_features = [\n",
    "       'mean word length', 'std word length', 'max word length',\n",
    "       'mean sentence length', 'std sentence length', 'Q1.0 sentence length',\n",
    "       'Q2.0 sentence length', 'Q3.0 sentence length', 'max sentence length'\n",
    "    ]\n",
    "\n",
    "word_sentence_lengths = metascripts[ws_features]\n",
    "word_sentence_lengths.head(3)"
   ]
  },
  {
   "cell_type": "markdown",
   "metadata": {},
   "source": [
    "###  speed, uniqueness, and repetition"
   ]
  },
  {
   "cell_type": "code",
   "execution_count": 555,
   "metadata": {},
   "outputs": [],
   "source": [
    "sur_features = [\n",
    "       'unique words', 'total words', 'proportion unique words',\n",
    "       'unique words per sentence', 'words per minute', 'sentences per minute'\n",
    "]\n",
    "\n",
    "sur = pd.concat([metascripts[sur_features], metascripts_rep['threepeat proportions']], axis = 1)"
   ]
  },
  {
   "cell_type": "markdown",
   "id": "1da5006f",
   "metadata": {
    "slideshow": {
     "slide_type": "skip"
    }
   },
   "source": [
    "### profanity\n",
    "Select off just the relevant profanity features from the metascripts dataframe."
   ]
  },
  {
   "cell_type": "code",
   "execution_count": 556,
   "id": "07acd9c2",
   "metadata": {
    "slideshow": {
     "slide_type": "skip"
    }
   },
   "outputs": [
    {
     "data": {
      "text/html": [
       "<div>\n",
       "<style scoped>\n",
       "    .dataframe tbody tr th:only-of-type {\n",
       "        vertical-align: middle;\n",
       "    }\n",
       "\n",
       "    .dataframe tbody tr th {\n",
       "        vertical-align: top;\n",
       "    }\n",
       "\n",
       "    .dataframe thead th {\n",
       "        text-align: right;\n",
       "    }\n",
       "</style>\n",
       "<table border=\"1\" class=\"dataframe\">\n",
       "  <thead>\n",
       "    <tr style=\"text-align: right;\">\n",
       "      <th></th>\n",
       "      <th>profane count</th>\n",
       "      <th>profane proportion</th>\n",
       "      <th>profanity per sentence</th>\n",
       "      <th>profanity per minute</th>\n",
       "    </tr>\n",
       "  </thead>\n",
       "  <tbody>\n",
       "    <tr>\n",
       "      <th>0</th>\n",
       "      <td>18</td>\n",
       "      <td>0.001965</td>\n",
       "      <td>0.016667</td>\n",
       "      <td>0.257143</td>\n",
       "    </tr>\n",
       "    <tr>\n",
       "      <th>1</th>\n",
       "      <td>185</td>\n",
       "      <td>0.022652</td>\n",
       "      <td>0.255525</td>\n",
       "      <td>2.936508</td>\n",
       "    </tr>\n",
       "    <tr>\n",
       "      <th>2</th>\n",
       "      <td>79</td>\n",
       "      <td>0.010324</td>\n",
       "      <td>0.088071</td>\n",
       "      <td>1.316667</td>\n",
       "    </tr>\n",
       "  </tbody>\n",
       "</table>\n",
       "</div>"
      ],
      "text/plain": [
       "   profane count  profane proportion  profanity per sentence  \\\n",
       "0             18            0.001965                0.016667   \n",
       "1            185            0.022652                0.255525   \n",
       "2             79            0.010324                0.088071   \n",
       "\n",
       "   profanity per minute  \n",
       "0              0.257143  \n",
       "1              2.936508  \n",
       "2              1.316667  "
      ]
     },
     "execution_count": 556,
     "metadata": {},
     "output_type": "execute_result"
    }
   ],
   "source": [
    "profanity_features = ['profane count', 'profane proportion', 'profanity per sentence', 'profanity per minute']\n",
    "profanity = metascripts[profanity_features]\n",
    "profanity.head(3)"
   ]
  },
  {
   "cell_type": "markdown",
   "id": "91565134",
   "metadata": {
    "slideshow": {
     "slide_type": "skip"
    }
   },
   "source": [
    "### sentiment: polarity and subjectivity\n",
    "Select off just the polarity and subjectivity measures from the metascripts dataframe."
   ]
  },
  {
   "cell_type": "code",
   "execution_count": 557,
   "id": "450684e4",
   "metadata": {
    "slideshow": {
     "slide_type": "skip"
    }
   },
   "outputs": [
    {
     "data": {
      "text/html": [
       "<div>\n",
       "<style scoped>\n",
       "    .dataframe tbody tr th:only-of-type {\n",
       "        vertical-align: middle;\n",
       "    }\n",
       "\n",
       "    .dataframe tbody tr th {\n",
       "        vertical-align: top;\n",
       "    }\n",
       "\n",
       "    .dataframe thead th {\n",
       "        text-align: right;\n",
       "    }\n",
       "</style>\n",
       "<table border=\"1\" class=\"dataframe\">\n",
       "  <thead>\n",
       "    <tr style=\"text-align: right;\">\n",
       "      <th></th>\n",
       "      <th>polarity</th>\n",
       "      <th>subjectivity</th>\n",
       "      <th>mean sentence polarity</th>\n",
       "      <th>std sentence polarity</th>\n",
       "      <th>Q1.0 sentence polarity</th>\n",
       "      <th>Q3.0 sentence polarity</th>\n",
       "      <th>mean sentence subjectivity</th>\n",
       "      <th>std sentence subjectivity</th>\n",
       "      <th>Q2.0 sentence subjectivity</th>\n",
       "      <th>Q3.0 sentence subjectivity</th>\n",
       "    </tr>\n",
       "  </thead>\n",
       "  <tbody>\n",
       "    <tr>\n",
       "      <th>0</th>\n",
       "      <td>0.097589</td>\n",
       "      <td>0.517699</td>\n",
       "      <td>0.047180</td>\n",
       "      <td>0.263120</td>\n",
       "      <td>0.0</td>\n",
       "      <td>0.069053</td>\n",
       "      <td>0.251070</td>\n",
       "      <td>0.334660</td>\n",
       "      <td>0.000000</td>\n",
       "      <td>0.5</td>\n",
       "    </tr>\n",
       "    <tr>\n",
       "      <th>1</th>\n",
       "      <td>0.053696</td>\n",
       "      <td>0.561832</td>\n",
       "      <td>0.028132</td>\n",
       "      <td>0.321037</td>\n",
       "      <td>0.0</td>\n",
       "      <td>0.136364</td>\n",
       "      <td>0.321318</td>\n",
       "      <td>0.338736</td>\n",
       "      <td>0.226389</td>\n",
       "      <td>0.6</td>\n",
       "    </tr>\n",
       "    <tr>\n",
       "      <th>2</th>\n",
       "      <td>0.025106</td>\n",
       "      <td>0.576284</td>\n",
       "      <td>0.009020</td>\n",
       "      <td>0.282668</td>\n",
       "      <td>0.0</td>\n",
       "      <td>0.000000</td>\n",
       "      <td>0.288177</td>\n",
       "      <td>0.346687</td>\n",
       "      <td>0.000000</td>\n",
       "      <td>0.6</td>\n",
       "    </tr>\n",
       "  </tbody>\n",
       "</table>\n",
       "</div>"
      ],
      "text/plain": [
       "   polarity  subjectivity  mean sentence polarity  std sentence polarity  \\\n",
       "0  0.097589      0.517699                0.047180               0.263120   \n",
       "1  0.053696      0.561832                0.028132               0.321037   \n",
       "2  0.025106      0.576284                0.009020               0.282668   \n",
       "\n",
       "   Q1.0 sentence polarity  Q3.0 sentence polarity  mean sentence subjectivity  \\\n",
       "0                     0.0                0.069053                    0.251070   \n",
       "1                     0.0                0.136364                    0.321318   \n",
       "2                     0.0                0.000000                    0.288177   \n",
       "\n",
       "   std sentence subjectivity  Q2.0 sentence subjectivity  \\\n",
       "0                   0.334660                    0.000000   \n",
       "1                   0.338736                    0.226389   \n",
       "2                   0.346687                    0.000000   \n",
       "\n",
       "   Q3.0 sentence subjectivity  \n",
       "0                         0.5  \n",
       "1                         0.6  \n",
       "2                         0.6  "
      ]
     },
     "execution_count": 557,
     "metadata": {},
     "output_type": "execute_result"
    }
   ],
   "source": [
    "sentiment_features = [\n",
    "        'polarity', 'subjectivity',\n",
    "       'mean sentence polarity', 'std sentence polarity',\n",
    "        'Q1.0 sentence polarity', 'Q3.0 sentence polarity', \n",
    "        'mean sentence subjectivity', 'std sentence subjectivity',\n",
    "        'Q2.0 sentence subjectivity', 'Q3.0 sentence subjectivity'\n",
    "    ]\n",
    "\n",
    "sentiment = metascripts[sentiment_features]\n",
    "sentiment.head(3)"
   ]
  },
  {
   "cell_type": "markdown",
   "id": "16d3e075",
   "metadata": {
    "slideshow": {
     "slide_type": "skip"
    }
   },
   "source": [
    "### collect dataframes into a dictionary"
   ]
  },
  {
   "cell_type": "code",
   "execution_count": 558,
   "id": "8430a179",
   "metadata": {
    "slideshow": {
     "slide_type": "skip"
    }
   },
   "outputs": [],
   "source": [
    "features_dict = {\n",
    "    'metadata':metadata,\n",
    "    'pos_props':pos_props_df.drop(columns = 'description'),\n",
    "    'pov_props':pov_props_df.drop(columns = 'description'),\n",
    "    'word_sentence_lengths':word_sentence_lengths,\n",
    "    'profanity':profanity,\n",
    "    'sentiment':sentiment,\n",
    "    'sur':sur\n",
    "}"
   ]
  },
  {
   "cell_type": "markdown",
   "id": "fde32f78",
   "metadata": {
    "slideshow": {
     "slide_type": "skip"
    }
   },
   "source": [
    "## cosine similarity"
   ]
  },
  {
   "cell_type": "code",
   "execution_count": 559,
   "id": "92695d18",
   "metadata": {
    "slideshow": {
     "slide_type": "skip"
    }
   },
   "outputs": [],
   "source": [
    "from sklearn.metrics.pairwise import cosine_similarity"
   ]
  },
  {
   "cell_type": "code",
   "execution_count": 560,
   "id": "feb5c913",
   "metadata": {
    "slideshow": {
     "slide_type": "skip"
    }
   },
   "outputs": [],
   "source": [
    "def get_scaled_similarities(df):\n",
    "    scaled = StandardScaler().fit_transform(df)\n",
    "    cosims = cosine_similarity(scaled)\n",
    "    df = (pd.DataFrame(index = metascripts['description'],\n",
    "                                  columns = metascripts['description'],\n",
    "                                  data = cosims\n",
    "                    )\n",
    "         )\n",
    "    return df"
   ]
  },
  {
   "cell_type": "markdown",
   "id": "4123e577",
   "metadata": {
    "slideshow": {
     "slide_type": "skip"
    }
   },
   "source": [
    "### run get_scaled_similarities on each dataframe"
   ]
  },
  {
   "cell_type": "code",
   "execution_count": 561,
   "id": "3e05e0eb",
   "metadata": {
    "slideshow": {
     "slide_type": "skip"
    }
   },
   "outputs": [
    {
     "data": {
      "application/vnd.jupyter.widget-view+json": {
       "model_id": "5ba166e57da6418eb80cab33957a6ad5",
       "version_major": 2,
       "version_minor": 0
      },
      "text/plain": [
       "  0%|          | 0/7 [00:00<?, ?it/s]"
      ]
     },
     "metadata": {},
     "output_type": "display_data"
    }
   ],
   "source": [
    "feature_cosims_dict = {key: get_scaled_similarities(df) for key, df in tqdm(features_dict.items())}\n",
    "feature_cosims_dict['bow'] = bow_cosims"
   ]
  },
  {
   "cell_type": "code",
   "execution_count": 562,
   "id": "6ec0a064",
   "metadata": {
    "slideshow": {
     "slide_type": "skip"
    }
   },
   "outputs": [
    {
     "name": "stdout",
     "output_type": "stream",
     "text": [
      "metadata (310, 310) <class 'pandas.core.frame.DataFrame'>\n",
      "pos_props (310, 310) <class 'pandas.core.frame.DataFrame'>\n",
      "pov_props (310, 310) <class 'pandas.core.frame.DataFrame'>\n",
      "word_sentence_lengths (310, 310) <class 'pandas.core.frame.DataFrame'>\n",
      "profanity (310, 310) <class 'pandas.core.frame.DataFrame'>\n",
      "sentiment (310, 310) <class 'pandas.core.frame.DataFrame'>\n",
      "sur (310, 310) <class 'pandas.core.frame.DataFrame'>\n",
      "bow (310, 310) <class 'pandas.core.frame.DataFrame'>\n"
     ]
    }
   ],
   "source": [
    "for key, value in feature_cosims_dict.items():\n",
    "    print(key, value.shape, type(value))"
   ]
  },
  {
   "cell_type": "code",
   "execution_count": 563,
   "id": "4494bcf0",
   "metadata": {
    "slideshow": {
     "slide_type": "skip"
    }
   },
   "outputs": [
    {
     "data": {
      "text/plain": [
       "-0.1549427416275974"
      ]
     },
     "execution_count": 563,
     "metadata": {},
     "output_type": "execute_result"
    }
   ],
   "source": [
    "# checking the calculations below on (i,j) = (0,1)\n",
    "np.mean([df.to_numpy()[0,1] for df in feature_cosims_dict.values()])"
   ]
  },
  {
   "cell_type": "code",
   "execution_count": 564,
   "id": "8afe5731",
   "metadata": {
    "slideshow": {
     "slide_type": "skip"
    }
   },
   "outputs": [
    {
     "data": {
      "text/html": [
       "<div>\n",
       "<style scoped>\n",
       "    .dataframe tbody tr th:only-of-type {\n",
       "        vertical-align: middle;\n",
       "    }\n",
       "\n",
       "    .dataframe tbody tr th {\n",
       "        vertical-align: top;\n",
       "    }\n",
       "\n",
       "    .dataframe thead th {\n",
       "        text-align: right;\n",
       "    }\n",
       "</style>\n",
       "<table border=\"1\" class=\"dataframe\">\n",
       "  <thead>\n",
       "    <tr style=\"text-align: right;\">\n",
       "      <th>description</th>\n",
       "      <th>Jim Gaffigan: Comedy Monster (2021) | Transcript</th>\n",
       "      <th>Louis C. K.: Sorry (2021) | Transcript</th>\n",
       "      <th>Drew Michael: Drew Michael (2018) | Transcript</th>\n",
       "      <th>Drew Michael: Red Blue Green (2021) | Transcript</th>\n",
       "      <th>Mo Amer: Mohammed in Texas (2021) | Transcript</th>\n",
       "      <th>Dave Chappelle: The Closer (2021) | Transcript</th>\n",
       "      <th>Kathleen Madigan: Bothering Jesus (2016) – Transcript</th>\n",
       "      <th>Kathleen Madigan: Madigan Again (2013) – Transcript</th>\n",
       "      <th>Phil Wang: Philly Philly Wang Wang (2021) – Transcript</th>\n",
       "      <th>Tom Papa: You’re Doing Great! (2020) – Transcript</th>\n",
       "      <th>...</th>\n",
       "      <th>Dave Chappelle: The Age of Spin (2017) – Transcript</th>\n",
       "      <th>GEORGE CARLIN: BACK IN TOWN (1996) – Full transcript</th>\n",
       "      <th>LOUIS C.K.: 2017 – Full transcript</th>\n",
       "      <th>George Carlin: Jamming in New York (1992) – Transcript</th>\n",
       "      <th>Reggie Watts: Spatial (2016) – Full Transcript</th>\n",
       "      <th>GEORGE CARLIN: COMPLAINTS AND GRIEVANCES (2001) – FULL TRANSCRIPT</th>\n",
       "      <th>GEORGE CARLIN: LIFE IS WORTH LOSING (2006) – Transcript</th>\n",
       "      <th>George Carlin: It’s Bad For Ya (2008) Full transcript</th>\n",
       "      <th>Dave Chappelle: 8:46 – Transcript</th>\n",
       "      <th>JIM JEFFERIES ON GUN CONTROL [FULL TRANSCRIPT]</th>\n",
       "    </tr>\n",
       "    <tr>\n",
       "      <th>description</th>\n",
       "      <th></th>\n",
       "      <th></th>\n",
       "      <th></th>\n",
       "      <th></th>\n",
       "      <th></th>\n",
       "      <th></th>\n",
       "      <th></th>\n",
       "      <th></th>\n",
       "      <th></th>\n",
       "      <th></th>\n",
       "      <th></th>\n",
       "      <th></th>\n",
       "      <th></th>\n",
       "      <th></th>\n",
       "      <th></th>\n",
       "      <th></th>\n",
       "      <th></th>\n",
       "      <th></th>\n",
       "      <th></th>\n",
       "      <th></th>\n",
       "      <th></th>\n",
       "    </tr>\n",
       "  </thead>\n",
       "  <tbody>\n",
       "    <tr>\n",
       "      <th>Jim Gaffigan: Comedy Monster (2021) | Transcript</th>\n",
       "      <td>1.000000</td>\n",
       "      <td>-0.154943</td>\n",
       "      <td>0.141693</td>\n",
       "      <td>0.329559</td>\n",
       "      <td>-0.009725</td>\n",
       "      <td>-0.019625</td>\n",
       "      <td>0.431304</td>\n",
       "      <td>0.278187</td>\n",
       "      <td>0.462494</td>\n",
       "      <td>0.146955</td>\n",
       "      <td>...</td>\n",
       "      <td>0.042228</td>\n",
       "      <td>-0.124570</td>\n",
       "      <td>-0.116686</td>\n",
       "      <td>0.061520</td>\n",
       "      <td>0.110182</td>\n",
       "      <td>-0.064278</td>\n",
       "      <td>0.041994</td>\n",
       "      <td>-0.054789</td>\n",
       "      <td>0.001545</td>\n",
       "      <td>-0.036900</td>\n",
       "    </tr>\n",
       "    <tr>\n",
       "      <th>Louis C. K.: Sorry (2021) | Transcript</th>\n",
       "      <td>-0.154943</td>\n",
       "      <td>1.000000</td>\n",
       "      <td>0.031414</td>\n",
       "      <td>0.142308</td>\n",
       "      <td>-0.225860</td>\n",
       "      <td>0.559375</td>\n",
       "      <td>-0.195237</td>\n",
       "      <td>-0.142806</td>\n",
       "      <td>-0.016128</td>\n",
       "      <td>-0.153343</td>\n",
       "      <td>...</td>\n",
       "      <td>0.152969</td>\n",
       "      <td>0.338568</td>\n",
       "      <td>0.315551</td>\n",
       "      <td>0.301056</td>\n",
       "      <td>-0.189797</td>\n",
       "      <td>-0.009733</td>\n",
       "      <td>-0.068756</td>\n",
       "      <td>0.008952</td>\n",
       "      <td>0.278203</td>\n",
       "      <td>0.223669</td>\n",
       "    </tr>\n",
       "    <tr>\n",
       "      <th>Drew Michael: Drew Michael (2018) | Transcript</th>\n",
       "      <td>0.141693</td>\n",
       "      <td>0.031414</td>\n",
       "      <td>1.000000</td>\n",
       "      <td>0.428442</td>\n",
       "      <td>0.134513</td>\n",
       "      <td>-0.059238</td>\n",
       "      <td>0.072290</td>\n",
       "      <td>0.440812</td>\n",
       "      <td>-0.071091</td>\n",
       "      <td>0.304731</td>\n",
       "      <td>...</td>\n",
       "      <td>-0.223830</td>\n",
       "      <td>-0.351939</td>\n",
       "      <td>0.139302</td>\n",
       "      <td>-0.226945</td>\n",
       "      <td>0.367835</td>\n",
       "      <td>-0.424469</td>\n",
       "      <td>-0.458003</td>\n",
       "      <td>-0.434341</td>\n",
       "      <td>-0.227022</td>\n",
       "      <td>0.171154</td>\n",
       "    </tr>\n",
       "  </tbody>\n",
       "</table>\n",
       "<p>3 rows × 310 columns</p>\n",
       "</div>"
      ],
      "text/plain": [
       "description                                       Jim Gaffigan: Comedy Monster (2021) | Transcript  \\\n",
       "description                                                                                          \n",
       "Jim Gaffigan: Comedy Monster (2021) | Transcript                                          1.000000   \n",
       "Louis C. K.: Sorry (2021) | Transcript                                                   -0.154943   \n",
       "Drew Michael: Drew Michael (2018) | Transcript                                            0.141693   \n",
       "\n",
       "description                                       Louis C. K.: Sorry (2021) | Transcript  \\\n",
       "description                                                                                \n",
       "Jim Gaffigan: Comedy Monster (2021) | Transcript                               -0.154943   \n",
       "Louis C. K.: Sorry (2021) | Transcript                                          1.000000   \n",
       "Drew Michael: Drew Michael (2018) | Transcript                                  0.031414   \n",
       "\n",
       "description                                       Drew Michael: Drew Michael (2018) | Transcript  \\\n",
       "description                                                                                        \n",
       "Jim Gaffigan: Comedy Monster (2021) | Transcript                                        0.141693   \n",
       "Louis C. K.: Sorry (2021) | Transcript                                                  0.031414   \n",
       "Drew Michael: Drew Michael (2018) | Transcript                                          1.000000   \n",
       "\n",
       "description                                       Drew Michael: Red Blue Green (2021) | Transcript  \\\n",
       "description                                                                                          \n",
       "Jim Gaffigan: Comedy Monster (2021) | Transcript                                          0.329559   \n",
       "Louis C. K.: Sorry (2021) | Transcript                                                    0.142308   \n",
       "Drew Michael: Drew Michael (2018) | Transcript                                            0.428442   \n",
       "\n",
       "description                                       Mo Amer: Mohammed in Texas (2021) | Transcript  \\\n",
       "description                                                                                        \n",
       "Jim Gaffigan: Comedy Monster (2021) | Transcript                                       -0.009725   \n",
       "Louis C. K.: Sorry (2021) | Transcript                                                 -0.225860   \n",
       "Drew Michael: Drew Michael (2018) | Transcript                                          0.134513   \n",
       "\n",
       "description                                       Dave Chappelle: The Closer (2021) | Transcript  \\\n",
       "description                                                                                        \n",
       "Jim Gaffigan: Comedy Monster (2021) | Transcript                                       -0.019625   \n",
       "Louis C. K.: Sorry (2021) | Transcript                                                  0.559375   \n",
       "Drew Michael: Drew Michael (2018) | Transcript                                         -0.059238   \n",
       "\n",
       "description                                       Kathleen Madigan: Bothering Jesus (2016) – Transcript  \\\n",
       "description                                                                                               \n",
       "Jim Gaffigan: Comedy Monster (2021) | Transcript                                           0.431304       \n",
       "Louis C. K.: Sorry (2021) | Transcript                                                    -0.195237       \n",
       "Drew Michael: Drew Michael (2018) | Transcript                                             0.072290       \n",
       "\n",
       "description                                       Kathleen Madigan: Madigan Again (2013) – Transcript  \\\n",
       "description                                                                                             \n",
       "Jim Gaffigan: Comedy Monster (2021) | Transcript                                           0.278187     \n",
       "Louis C. K.: Sorry (2021) | Transcript                                                    -0.142806     \n",
       "Drew Michael: Drew Michael (2018) | Transcript                                             0.440812     \n",
       "\n",
       "description                                       Phil Wang: Philly Philly Wang Wang (2021) – Transcript  \\\n",
       "description                                                                                                \n",
       "Jim Gaffigan: Comedy Monster (2021) | Transcript                                           0.462494        \n",
       "Louis C. K.: Sorry (2021) | Transcript                                                    -0.016128        \n",
       "Drew Michael: Drew Michael (2018) | Transcript                                            -0.071091        \n",
       "\n",
       "description                                       Tom Papa: You’re Doing Great! (2020) – Transcript  \\\n",
       "description                                                                                           \n",
       "Jim Gaffigan: Comedy Monster (2021) | Transcript                                           0.146955   \n",
       "Louis C. K.: Sorry (2021) | Transcript                                                    -0.153343   \n",
       "Drew Michael: Drew Michael (2018) | Transcript                                             0.304731   \n",
       "\n",
       "description                                       ...  \\\n",
       "description                                       ...   \n",
       "Jim Gaffigan: Comedy Monster (2021) | Transcript  ...   \n",
       "Louis C. K.: Sorry (2021) | Transcript            ...   \n",
       "Drew Michael: Drew Michael (2018) | Transcript    ...   \n",
       "\n",
       "description                                       Dave Chappelle: The Age of Spin (2017) – Transcript  \\\n",
       "description                                                                                             \n",
       "Jim Gaffigan: Comedy Monster (2021) | Transcript                                           0.042228     \n",
       "Louis C. K.: Sorry (2021) | Transcript                                                     0.152969     \n",
       "Drew Michael: Drew Michael (2018) | Transcript                                            -0.223830     \n",
       "\n",
       "description                                       GEORGE CARLIN: BACK IN TOWN (1996) – Full transcript  \\\n",
       "description                                                                                              \n",
       "Jim Gaffigan: Comedy Monster (2021) | Transcript                                          -0.124570      \n",
       "Louis C. K.: Sorry (2021) | Transcript                                                     0.338568      \n",
       "Drew Michael: Drew Michael (2018) | Transcript                                            -0.351939      \n",
       "\n",
       "description                                       LOUIS C.K.: 2017 – Full transcript  \\\n",
       "description                                                                            \n",
       "Jim Gaffigan: Comedy Monster (2021) | Transcript                           -0.116686   \n",
       "Louis C. K.: Sorry (2021) | Transcript                                      0.315551   \n",
       "Drew Michael: Drew Michael (2018) | Transcript                              0.139302   \n",
       "\n",
       "description                                       George Carlin: Jamming in New York (1992) – Transcript  \\\n",
       "description                                                                                                \n",
       "Jim Gaffigan: Comedy Monster (2021) | Transcript                                           0.061520        \n",
       "Louis C. K.: Sorry (2021) | Transcript                                                     0.301056        \n",
       "Drew Michael: Drew Michael (2018) | Transcript                                            -0.226945        \n",
       "\n",
       "description                                       Reggie Watts: Spatial (2016) – Full Transcript  \\\n",
       "description                                                                                        \n",
       "Jim Gaffigan: Comedy Monster (2021) | Transcript                                        0.110182   \n",
       "Louis C. K.: Sorry (2021) | Transcript                                                 -0.189797   \n",
       "Drew Michael: Drew Michael (2018) | Transcript                                          0.367835   \n",
       "\n",
       "description                                       GEORGE CARLIN: COMPLAINTS AND GRIEVANCES (2001) – FULL TRANSCRIPT  \\\n",
       "description                                                                                                           \n",
       "Jim Gaffigan: Comedy Monster (2021) | Transcript                                          -0.064278                   \n",
       "Louis C. K.: Sorry (2021) | Transcript                                                    -0.009733                   \n",
       "Drew Michael: Drew Michael (2018) | Transcript                                            -0.424469                   \n",
       "\n",
       "description                                       GEORGE CARLIN: LIFE IS WORTH LOSING (2006) – Transcript  \\\n",
       "description                                                                                                 \n",
       "Jim Gaffigan: Comedy Monster (2021) | Transcript                                           0.041994         \n",
       "Louis C. K.: Sorry (2021) | Transcript                                                    -0.068756         \n",
       "Drew Michael: Drew Michael (2018) | Transcript                                            -0.458003         \n",
       "\n",
       "description                                       George Carlin: It’s Bad For Ya (2008) Full transcript  \\\n",
       "description                                                                                               \n",
       "Jim Gaffigan: Comedy Monster (2021) | Transcript                                          -0.054789       \n",
       "Louis C. K.: Sorry (2021) | Transcript                                                     0.008952       \n",
       "Drew Michael: Drew Michael (2018) | Transcript                                            -0.434341       \n",
       "\n",
       "description                                       Dave Chappelle: 8:46 – Transcript  \\\n",
       "description                                                                           \n",
       "Jim Gaffigan: Comedy Monster (2021) | Transcript                           0.001545   \n",
       "Louis C. K.: Sorry (2021) | Transcript                                     0.278203   \n",
       "Drew Michael: Drew Michael (2018) | Transcript                            -0.227022   \n",
       "\n",
       "description                                       JIM JEFFERIES ON GUN CONTROL [FULL TRANSCRIPT]  \n",
       "description                                                                                       \n",
       "Jim Gaffigan: Comedy Monster (2021) | Transcript                                       -0.036900  \n",
       "Louis C. K.: Sorry (2021) | Transcript                                                  0.223669  \n",
       "Drew Michael: Drew Michael (2018) | Transcript                                          0.171154  \n",
       "\n",
       "[3 rows x 310 columns]"
      ]
     },
     "execution_count": 564,
     "metadata": {},
     "output_type": "execute_result"
    }
   ],
   "source": [
    "cosims_means = np.mean([df.to_numpy() for df in feature_cosims_dict.values()], axis = 0)\n",
    "cosims_means_df = pd.DataFrame(index = metascripts['description'],\n",
    "                         columns = metascripts['description'],\n",
    "                         data = cosims_means)\n",
    "cosims_means_df.head(3)"
   ]
  },
  {
   "cell_type": "code",
   "execution_count": 565,
   "id": "da793cc8",
   "metadata": {
    "slideshow": {
     "slide_type": "skip"
    }
   },
   "outputs": [
    {
     "data": {
      "application/vnd.plotly.v1+json": {
       "config": {
        "plotlyServerURL": "https://plotly.com"
       },
       "data": [
        {
         "alignmentgroup": "True",
         "boxpoints": "all",
         "customdata": [
          [
           "Jim Gaffigan: Comedy Monster (2021) | Transcript"
          ],
          [
           "Louis C. K.: Sorry (2021) | Transcript"
          ],
          [
           "Drew Michael: Drew Michael (2018) | Transcript"
          ],
          [
           "Drew Michael: Red Blue Green (2021) | Transcript"
          ],
          [
           "Mo Amer: Mohammed in Texas (2021) | Transcript"
          ],
          [
           "Dave Chappelle: The Closer (2021) | Transcript"
          ],
          [
           "Kathleen Madigan: Bothering Jesus (2016) – Transcript"
          ],
          [
           "Kathleen Madigan: Madigan Again (2013) – Transcript"
          ],
          [
           "Phil Wang: Philly Philly Wang Wang (2021) – Transcript"
          ],
          [
           "Tom Papa: You’re Doing Great! (2020) – Transcript"
          ],
          [
           "Tom Papa: Human Mule (2016) – Transcript"
          ],
          [
           "Tom Papa: Freaked Out (2013) – Transcript"
          ],
          [
           "Bo Burnham: Inside (2021) – Transcript"
          ],
          [
           "Tig Notaro: Boyish Girl Interrupted (2015) – Transcript"
          ],
          [
           "Joe List: I Hate Myself (2020) – Transcript"
          ],
          [
           "Nate Bargatze: The Greatest Average American (2021) – Transcript"
          ],
          [
           "Brian Regan: On The Rocks (2021) – Transcript"
          ],
          [
           "Doug Stanhope: Beer Hall Putsch (2013) – Transcript"
          ],
          [
           "Chris Rock Total Blackout: The Tamborine Extended Cut – Transcript"
          ],
          [
           "Sarah Cooper: Everything’s Fine (2020) – Transcript"
          ],
          [
           "Bo Burnham: Words, Words, Words (2010) – Transcript"
          ],
          [
           "Vir Das: Outside in – The Lockdown Special (2020) – Transcript"
          ],
          [
           "Larry the Cable Guy – Remain Seated (2020) – Transcript"
          ],
          [
           "Craig Ferguson: Just Being Honest (2015) – Transcript"
          ],
          [
           "Kevin Hart: Zero F**ks Given (2020) – Transcript"
          ],
          [
           "Sam Morril: I Got This (2020) – Transcript"
          ],
          [
           "RONNY CHIENG: ASIAN COMEDIAN DESTROYS AMERICA (2019) – TRANSCRIPT"
          ],
          [
           "Craig Ferguson: A Wee Bit o’ Revolution (2009) – Transcript"
          ],
          [
           "MICHAEL MCINTYRE: SHOWMAN (2020) – TRANSCRIPT"
          ],
          [
           "ROB SCHNEIDER: ASIAN MOMMA, MEXICAN KIDS (2020) – TRANSCRIPT"
          ],
          [
           "Sam Jay: 3 in the Morning (2020) – Transcript"
          ],
          [
           "Jack Whitehall: I’m Only Joking (2020) | Transcript"
          ],
          [
           "URZILA CARLSON: OVERQUALIFIED LOSER (2020) – FULL TRANSCRIPT"
          ],
          [
           "GEORGE LOPEZ: WE’LL DO IT FOR HALF (2020) – FULL TRANSCRIPT"
          ],
          [
           "JIM JEFFERIES: INTOLERANT (2020) – FULL TRANSCRIPT"
          ],
          [
           "George Carlin: Doin’ It Again (1990) – Transcript"
          ],
          [
           "ERIC ANDRE: LEGALIZE EVERYTHING (2020)"
          ],
          [
           "ROY WOOD JR.: FATHER FIGURE (2017) – FULL TRANSCRIPT"
          ],
          [
           "Mark Normand: Don’t Be Yourself (2017) – Transcript"
          ],
          [
           "Chris Gethard: Career Suicide (2017) – Transcript"
          ],
          [
           "RAMY YOUSSEF: FEELINGS (2019) – FULL TRANSCRIPT"
          ],
          [
           "KENNY SEBASTIAN DON’T BE THAT GUY (2017) – FULL TRANSCRIPT"
          ],
          [
           "BILLY CONNOLLY: HIGH HORSE TOUR LIVE (2016) – FULL TRANSCRIPT"
          ],
          [
           "Hannah Gadsby: Douglas (2020) – Transcript"
          ],
          [
           "Hasan Minhaj: Homecoming King (2017) – Transcript"
          ],
          [
           "PATTON OSWALT: I LOVE EVERYTHING (2020) – FULL TRANSCRIPT"
          ],
          [
           "RUSSELL PETERS: DEPORTED (2020) – FULL TRANSCRIPT"
          ],
          [
           "JIMMY O. YANG: GOOD DEAL (2020) – FULL TRANSCRIPT"
          ],
          [
           "JO KOY: LIGHTS OUT (2012) – FULL TRANSCRIPT"
          ],
          [
           "LEE MACK: GOING OUT LIVE (2010) – FULL TRANSCRIPT"
          ],
          [
           "LEE MACK: LIVE (2007) – FULL TRANSCRIPT"
          ],
          [
           "T.J. MILLER: NO REAL REASON (2011) – FULL TRANSCRIPT"
          ],
          [
           "Jerry Seinfeld: 23 Hours To Kill (2020) – Transcript"
          ],
          [
           "SINCERELY LOUIS CK (2020)"
          ],
          [
           "JIM NORTON: AMERICAN DEGENERATE (2013) – FULL TRANSCRIPT"
          ],
          [
           "Jim Norton: Monster Rain (2007) – Transcript"
          ],
          [
           "MARIA BAMFORD: WEAKNESS IS THE BRAND (2020) – FULL TRANSCRIPT"
          ],
          [
           "CHRIS D’ELIA: WHITE MALE. BLACK COMIC. (2013) – FULL TRANSCRIPT"
          ],
          [
           "Chris D’Elia: Man on Fire (2017) – Full Transcript"
          ],
          [
           "Tom Segura: Ball Hog (2020) – Transcript"
          ],
          [
           "Bert Kreischer: Hey Big Boy (2020) – Transcript"
          ],
          [
           "Marc Maron: End Times Fun (2020) – Full Transcript"
          ],
          [
           "PETE DAVIDSON: SMD (2016) – FULL TRANSCRIPT"
          ],
          [
           "PETE DAVIDSON: ALIVE FROM NEW YORK (2020) – FULL TRANSCRIPT"
          ],
          [
           "Amanda Seales: I Be Knowin’ (2019) – Transcript"
          ],
          [
           "Stewart Lee: Carpet Remnant World (2012) – Full Transcript"
          ],
          [
           "Stewart Lee: Content Provider (2018) – Transcript"
          ],
          [
           "Sara Pascoe: LadsLadsLads (2019) – Full Transcript"
          ],
          [
           "Dan Soder: Son of a Gary (2019) – Full Transcript"
          ],
          [
           "Jim Gaffigan: Quality Time (2019) – Full Transcript"
          ],
          [
           "Kevin Bridges: A Whole Different Story (2015) – Full Transcript"
          ],
          [
           "Kevin Bridges: The Story So Far… Live in Glasgow (2010) – Full Transcript"
          ],
          [
           "Kevin Bridges: The Story Continues (2012) – Full Transcript"
          ],
          [
           "Michelle Wolf: Joke Show (2019) – Full Transcript"
          ],
          [
           "Tiffany Haddish: Black Mitzvah (2019) – Transcript"
          ],
          [
           "Mike Birbiglia: The New One (2019) – Full Transcript"
          ],
          [
           "Iliza Shlesinger: Unveiled (2019) – Full Transcript"
          ],
          [
           "Seth Meyers: Lobby Baby (2019) – Full Transcript"
          ],
          [
           "Arsenio Hall: Smart and Classy (2019) – Transcript"
          ],
          [
           "Nikki Glaser: Bangin’ (2019) – Full Transcript"
          ],
          [
           "Bill Burr: Paper Tiger (2019) – Transcript"
          ],
          [
           "Dave Chappelle: Sticks & Stones (2019) – Transcript"
          ],
          [
           "Emily Heller: Ice Thickeners (2019) – Full Transcript"
          ],
          [
           "David Cross: Oh Come On (2019) – Full Transcript"
          ],
          [
           "Whitney Cummings: Can I Touch It? (2019) – Full Transcript"
          ],
          [
           "Aziz Ansari: Right Now (2019) – Transcript"
          ],
          [
           "Ralphie May: Filthy Animal Tour (2014) – Transcript"
          ],
          [
           "Mike Epps: Only One Mike (2019) – Full Transcript"
          ],
          [
           "Adam DeVine: Best Time of Our Lives (2019) – Full Transcript"
          ],
          [
           "Jo Koy: Live from Seattle (2017) – Full Transcript"
          ],
          [
           "Jo Koy: Comin’ in Hot (2019) – Full Transcript"
          ],
          [
           "Wanda Sykes: Not Normal (2019) – Full Transcript"
          ],
          [
           "Cedric the Entertainer: Live from the Ville (2016) – Transcript"
          ],
          [
           "Eddie Murphy: Raw (1987) – Transcript"
          ],
          [
           "Colin Quinn: The New York Story (2016) – Full Transcript"
          ],
          [
           "Demetri Martin: Live (At The Time) (2015) | Transcript"
          ],
          [
           "George Carlin: What Am I Doing in New Jersey? (1988) – Full Transcript"
          ],
          [
           "Chelsea Peretti: One of the Greats (2014) – Full Transcript"
          ],
          [
           "Anthony Jeselnik: Fire in the Maternity Ward (2019) – Transcript"
          ],
          [
           "Roy Wood Jr.: No One Loves You (2019) – Transcript"
          ],
          [
           "Robin Williams: Weapons of Self Destruction (2009) – Full Transcript"
          ],
          [
           "ROBIN WILLIAMS LIVE ON BROADWAY (2002) – FULL TRANSCRIPT"
          ],
          [
           "Jimmy Carr: The Best of Ultimate Gold Greatest Hits (2019) – Full Transcript"
          ],
          [
           "Nate Bargatze: The Tennessee Kid (2019) – Full Transcript"
          ],
          [
           "W. Kamau Bell: Private School Negro (2018) – Transcript"
          ],
          [
           "Kevin Hart: Irresponsible (2019) – Transcript"
          ],
          [
           "Nate Bargatze: Full Time Magic (2015) – Full Transcript"
          ],
          [
           "Amy Schumer: Growing (2019) – Full Transcript"
          ],
          [
           "Enissa Amani: Ehrenwort (2018) Full Transcript"
          ],
          [
           "Ken Jeong: You Complete Me, Ho (2019) – Full Transcript"
          ],
          [
           "Ray Romano: Right Here, Around the Corner (2019) – Full Transcript"
          ],
          [
           "Gabriel “Fluffy” Iglesias: One Show Fits All (2019) – Full Transcript"
          ],
          [
           "Sebastian Maniscalco: Stay Hungry (2019) – Full Transcript"
          ],
          [
           "Sebastian Maniscalco: Aren’t You Embarrassed? (2014) – Full Transcript"
          ],
          [
           "Sebastian Maniscalco: What’s Wrong with People? (2012) – Full Transcript"
          ],
          [
           "Oh, Hello On Broadway (2017) – Transcript"
          ],
          [
           "Ellen Degeneres: Relatable (2018) – Transcript"
          ],
          [
           "Pete Holmes: Dirty Clean (2018) – Full Transcript"
          ],
          [
           "Vir Das: Losing It (2018) – Full Transcript"
          ],
          [
           "Trevor Noah: Son of Patricia (2018) – Transcript"
          ],
          [
           "Jeff Foxworthy & Larry the Cable Guy: We’ve Been Thinking (2016) – Full Transcript"
          ],
          [
           "Adam Sandler: 100% Fresh (2018) – Full Transcript"
          ],
          [
           "Jeff Foxworthy: Totally Committed (1998) – Full Transcript"
          ],
          [
           "RON WHITE: IF YOU QUIT LISTENING, I’LL SHUT UP (2018) – FULL TRANSCRIPT"
          ],
          [
           "Mo Amer: The Vagabond (2018) – Full Transcript"
          ],
          [
           "Joe Mande’s Award-Winning Comedy Special (2017) – Full Transcript"
          ],
          [
           "Henry Rollins: Keep Talking, Pal (2018) – Full Transcript"
          ],
          [
           "Joe Rogan: Strange Times (2018) – Full Transcript"
          ],
          [
           "D.L. Hughley: Contrarian (2018) – Transcript"
          ],
          [
           "Iliza Shlesinger: Freezing Hot (2015) – Full Transcript"
          ],
          [
           "Iliza Shlesinger: War Paint (2013) – Transcript"
          ],
          [
           "Bert Kreischer: Secret Time (2018) – Transcript"
          ],
          [
           "Demetri Martin: The Overthinker (2018) | Transcript"
          ],
          [
           "BILL MAHER: LIVE FROM OKLAHOMA (2018) – Full Transcript"
          ],
          [
           "Rowan Atkinson Live (1992) – Transcript"
          ],
          [
           "Iliza Shlesinger: Confirmed Kills (2016) – Full Transcript"
          ],
          [
           "Iliza Shlesinger: Elder Millennial (2018) – Full Transcript"
          ],
          [
           "JIM GAFFIGAN: NOBLE APE (2018) – Full Transcript"
          ],
          [
           "Jim Norton: Contextually Inadequate (2015) – Transcript"
          ],
          [
           "Hannah Gadsby: Nanette (2018) – Transcript"
          ],
          [
           "BRAD WILLIAMS: DADDY ISSUES (2016) – Full Transcript"
          ],
          [
           "Deray Davis: How To Act Black (2017) – Transcript"
          ],
          [
           "RICKY GERVAIS: LIVE IV – SCIENCE (2010) – Full Transcript"
          ],
          [
           "JIM JEFFERIES: THIS IS ME NOW (2018) – Full transcript"
          ],
          [
           "RUSSELL PETERS: OUTSOURCED (2006) – Full Transcript"
          ],
          [
           "RUSSELL PETERS: ALMOST FAMOUS (2016) – Full Transcript"
          ],
          [
           "RON WHITE: A LITTLE UNPROFESSIONAL (2012) – Full Transcript"
          ],
          [
           "MICHAEL MCINTYRE: HELLO WEMBLEY! (2009) – Full Transcript"
          ],
          [
           "KEVIN SMITH: SILENT BUT DEADLY (2018) – Full Transcript"
          ],
          [
           "KEVIN JAMES: NEVER DON’T GIVE UP (2018) – Full Transcript"
          ],
          [
           "BRENT MORIN: I’M BRENT MORIN (2015) – Full Transcript"
          ],
          [
           "NIKKI GLASER: PERFECT (2016) – Full Transcript"
          ],
          [
           "Ali Wong: Hard Knock Wife (2018) – Transcript"
          ],
          [
           "KAVIN JAY: EVERYBODY CALM DOWN! (2018) – Full Transcript"
          ],
          [
           "John Mulaney: Kid Gorgeous At Radio City (2018) – Transcript"
          ],
          [
           "Eddie Griffin: Undeniable (2018) – Transcript"
          ],
          [
           "GREG DAVIES: YOU MAGNIFICENT BEAST (2018) – Full Transcript"
          ],
          [
           "George Carlin: You Are All Diseased (1999) – Transcript"
          ],
          [
           "Marlon Wayans: Woke-Ish (2018) – Transcript"
          ],
          [
           "RICKY GERVAIS: HUMANITY (2018) – Full Transcript"
          ],
          [
           "ADEL KARAM: LIVE FROM BEIRUT (2018) – Full Transcript"
          ],
          [
           "STEWART LEE: 90s COMEDIAN (2006) – Full Transcript"
          ],
          [
           "Mike Birbiglia: My Girlfriend’s Boyfriend (2013) – Transcript"
          ],
          [
           "DAVE ATTELL: ROAD WORK (2014) – Full Transcript"
          ],
          [
           "Eddie Izzard – Glorious (1997) – Transcript"
          ],
          [
           "Chris Rock: Bring the Pain (1996) – Transcript"
          ],
          [
           "ARI SHAFFIR: DOUBLE NEGATIVE (2017) – Full Transcript"
          ],
          [
           "Chris Rock: Tamborine (2018) – Transcript"
          ],
          [
           "FRED ARMISEN: STANDUP FOR DRUMMERS (2018) – Full Transcript"
          ],
          [
           "DANA CARVEY: STRAIGHT WHITE MALE, 60 (2016) – Full Transcript"
          ],
          [
           "EDDIE IZZARD: STRIPPED (2009) – Full Transcript"
          ],
          [
           "TODD GLASS: ACT HAPPY (2018) – Full Transcript"
          ],
          [
           "BRIAN REGAN: STANDING UP (2007) – Full Transcript"
          ],
          [
           "BRIAN REGAN: NUNCHUCKS AND FLAMETHROWERS (2017) – Full Transcript"
          ],
          [
           "Katt Williams: Great America (2018) – Transcript"
          ],
          [
           "JIMMY CARR: BEING FUNNY (2011) – Full Transcript"
          ],
          [
           "JIMMY CARR: LAUGHING AND JOKING (2013) – Full Transcript"
          ],
          [
           "Eddie Izzard: Unrepeatable (1994) | Transcript"
          ],
          [
           "D.L. Hughley: Unapologetic (2007) – Transcript"
          ],
          [
           "BRIDGET EVERETT: GYNECOLOGICAL WONDER (2015) – Full Transcript"
          ],
          [
           "Chris Rock: Never Scared (2004) – Transcript"
          ],
          [
           "Stewart Lee: Stand-Up Comedian (2005) – Transcript"
          ],
          [
           "JIMMY CARR: FUNNY BUSINESS (2016) – Full Transcript"
          ],
          [
           "Eddie Izzard: Dress To Kill (1999) – Transcript"
          ],
          [
           "Chris Tucker: Live (2015) – Transcript"
          ],
          [
           "Kevin Hart: What Now (2016) – Transcript"
          ],
          [
           "Kevin Hart: Let Me Explain (2013) – Transcript"
          ],
          [
           "Tom Segura: Disgraceful (2018) – Transcript"
          ],
          [
           "MICHELLE WOLF: NICE LADY (2017) – Full Transcript"
          ],
          [
           "FAHIM ANWAR: THERE’S NO BUSINESS LIKE SHOW BUSINESS (2017) – Transcript"
          ],
          [
           "ELLEN DEGENERES: THE BEGINNING (2000) – Full Transcript"
          ],
          [
           "MAZ JOBRANI: IMMIGRANT (2017) – Full Transcript"
          ],
          [
           "TODD BARRY: SPICY HONEY (2017) – Full Transcript"
          ],
          [
           "Jerry Seinfeld: I’m Telling You for the Last Time (1998) – Transcript"
          ],
          [
           "Craig Ferguson: Does This Need To Be Said? (2011) – Transcript"
          ],
          [
           "Dave Chappelle: The Bird Revelation (2017) – Transcript"
          ],
          [
           "Dave Chappelle: Equanimity (2017) – Transcript"
          ],
          [
           "CRAIG FERGUSON: I’M HERE TO HELP (2013) – Full Transcript"
          ],
          [
           "RUSSELL HOWARD: RECALIBRATE (2017) – Full Transcript"
          ],
          [
           "WHITNEY CUMMINGS: I LOVE YOU (2014) – Full Transcript"
          ],
          [
           "WHITNEY CUMMINGS: I’M YOUR GIRLFRIEND (2016) – Full Transcript"
          ],
          [
           "SARAH MILLICAN: CHATTERBOX LIVE (2011) – Full Transcript"
          ],
          [
           "Anjelah Johnson: Not Fancy (2015) – Transcript"
          ],
          [
           "RICKY GERVAIS LIVE 2: POLITICS (2004) – Full Transcript"
          ],
          [
           "Russell Howard Live: Dingledodies (2009) – Full Transcript"
          ],
          [
           "CHRISTINA PAZSITZKY: MOTHER INFERIOR (2017) – FULL TRANSCRIPT"
          ],
          [
           "Jack Whitehall: At Large (2017) – Transcript"
          ],
          [
           "CRISTELA ALONZO: LOWER CLASSY (2017) – Full Transcript"
          ],
          [
           "JUDAH FRIEDLANDER: AMERICA IS THE GREATEST COUNTRY IN THE UNITED STATES (2017) – Full Transcript"
          ],
          [
           "AZIZ ANSARI: LIVE IN MADISON SQUARE GARDEN (2015) – Full Transcript"
          ],
          [
           "AZIZ ANSARI: BURIED ALIVE (2013) – Full Transcript"
          ],
          [
           "Paul Mooney: A Piece of My Mind – Godbless America (2014) – Transcript"
          ],
          [
           "PATTON OSWALT: ANNIHILATION (2017) – Full Transcript"
          ],
          [
           "Chris Rock: Kill The Messenger – London, New York, Johannesburg (2008) – Transcript"
          ],
          [
           "BILL MAHER: LIVE FROM D.C. (2014) – Full Transcript"
          ],
          [
           "Sarah Silverman: Jesus Is Magic (2005) – Transcript"
          ],
          [
           "SARAH SILVERMAN: WE ARE MIRACLES (2013) – Full Transcript"
          ],
          [
           "Pablo Francisco: Ouch! Live From San Jose (2006) – Full Transcript"
          ],
          [
           "BILL MAHER… BUT I’M NOT WRONG (2010) – Full Transcript"
          ],
          [
           "RUSSELL BRAND: MESSIAH COMPLEX (2013) – Full Transcript"
          ],
          [
           "Chris Rock: Bigger & Blacker (1999) – Transcript"
          ],
          [
           "Gabriel Iglesias: Hot And Fluffy (2007) – Transcript"
          ],
          [
           "GABRIEL IGLESIAS: I’M NOT FAT … I’M FLUFFY (2009) – Full Transcript"
          ],
          [
           "GABRIEL IGLESIAS: I’M SORRY FOR WHAT I SAID WHEN I WAS HUNGRY (2016) – Full Transcript"
          ],
          [
           "RORY SCOVEL TRIES STAND-UP FOR THE FIRST TIME (2017) – Full Transcript"
          ],
          [
           "LISA LAMPANELLI: BACK TO THE DRAWING BOARD (2015) – Full Transcript"
          ],
          [
           "ERIK GRIFFIN: THE UGLY TRUTH (2017) – Full Transcript"
          ],
          [
           "JEN KIRKMAN: JUST KEEP LIVIN’? (2017) – Full Transcript"
          ],
          [
           "DANIEL TOSH: COMPLETELY SERIOUS (2007) – Full Transcript"
          ],
          [
           "AL MADRIGAL: WHY IS THE RABBIT CRYING? (2013) – Full Transcript"
          ],
          [
           "NEAL BRENNAN: 3 MICS (2017)- FULL TRANSCRIPT"
          ],
          [
           "John Mulaney: New In Town (2012) – Transcript"
          ],
          [
           "Donald Glover: Weirdo (2012) – Transcript"
          ],
          [
           "ALI WONG: BABY COBRA (2016) – Full Transcript"
          ],
          [
           "Norm Macdonald: Hitler’s Dog, Gossip & Trickery (2017) – Transcript"
          ],
          [
           "DANIEL TOSH: PEOPLE PLEASER (2016) – FULL TRANSCRIPT"
          ],
          [
           "Marc Maron: More Later (2015) – Full Transcript"
          ],
          [
           "Dylan Moran: Off The Hook (2015) – Transcript"
          ],
          [
           "Richard Pryor: Live And Smokin’ (1971) – Transcript"
          ],
          [
           "RICHARD PRYOR: …HERE AND NOW (1983) – Full Transcript"
          ],
          [
           "AMY SCHUMER: MOSTLY SEX STUFF (2012) – Full Transcript"
          ],
          [
           "Jim Jefferies: Alcoholocaust (2010) – Transcript"
          ],
          [
           "AMY SCHUMER: LIVE AT THE APOLLO (2015) – Full Transcript"
          ],
          [
           "Kevin Hart: Seriously Funny (2010) – Transcript"
          ],
          [
           "Hannibal Buress: Comedy Camisado (2016) – Transcript"
          ],
          [
           "Neal Brennan: Women And Black Dudes (2014) – Transcript"
          ],
          [
           "NICK OFFERMAN: AMERICAN HAM (2014) – Full Transcript"
          ],
          [
           "AZIZ ANSARI: INTIMATE MOMENTS FOR A SENSUAL EVENING (2010) – Full Transcript"
          ],
          [
           "BIG JAY OAKERSON: LIVE AT WEBSTER HALL (2016) – Full Transcript"
          ],
          [
           "George Carlin at USC (1977) – Full Transcript"
          ],
          [
           "Jim Norton: Mouthful Of Shame (2017) Transcript"
          ],
          [
           "Michael Che Matters (2016) – Transcript"
          ],
          [
           "Joe Rogan: Triggered (2016) – Transcript"
          ],
          [
           "Trevor Noah: Lost In Translation (2015) – Transcript"
          ],
          [
           "MARIA BAMFORD: OLD BABY (2017) – FULL TRANSCRIPT"
          ],
          [
           "Bo Burnham: What (2013) – Transcript"
          ],
          [
           "Bo Burnham: Make Happy (2016) – Transcript"
          ],
          [
           "ANTHONY JESELNIK: CALIGULA (2013) – Full Transcript"
          ],
          [
           "Anthony Jeselnik: Thoughts And Prayers (2015) – Full Transcript"
          ],
          [
           "John Mulaney: The Comeback Kid (2015) – Transcript"
          ],
          [
           "BILL HICKS: REVELATIONS (1993) – FULL TRANSCRIPT"
          ],
          [
           "LEWIS BLACK: BLACK TO THE FUTURE (2016) – Full Transcript"
          ],
          [
           "DOUG STANHOPE: BEFORE TURNING THE GUN ON HIMSELF (2012) – Transcript"
          ],
          [
           "DOUG STANHOPE: DEADBEAT HERO (2004) – Transcript"
          ],
          [
           "JIM JEFFERIES: CONTRABAND (2008) – Full Transcript"
          ],
          [
           "Mike Birbiglia: Thank God for Jokes (2017) – Transcript"
          ],
          [
           "SARAH SILVERMAN: A SPECK OF DUST (2017) – Full Transcript"
          ],
          [
           "GEORGE CARLIN: PLAYING WITH YOUR HEAD (1986) – Full Transcript"
          ],
          [
           "GEORGE CARLIN: AGAIN!* (1978) – Full Transcript"
          ],
          [
           "Louis C.K.: Chewed Up (2008) – Transcript"
          ],
          [
           "Tom Segura: Completely Normal (2014) – Transcript"
          ],
          [
           "GEORGE CARLIN: CARLIN ON CAMPUS (1984) – Full Transcript"
          ],
          [
           "Louis C.K.: Live at the Beacon Theatre (2011) – Transcript"
          ],
          [
           "RICKY GERVAIS: OUT OF ENGLAND 2 (2010) – Full Transcript"
          ],
          [
           "AMY SCHUMER: THE LEATHER SPECIAL (2017) – Full Transcript"
          ],
          [
           "JIM GAFFIGAN: CINCO (2017) – Full Transcript"
          ],
          [
           "JIM JEFFERIES: I SWEAR TO GOD (2009) – FULL TRANSCRIPT"
          ],
          [
           "LOUIS C.K.: HILARIOUS (2010) – Full Transcript"
          ],
          [
           "LOUIS C.K.: SHAMELESS (2007) – Full Transcript"
          ],
          [
           "BILL BURR: I’M SORRY YOU FEEL THAT WAY (2014) – Full Transcript"
          ],
          [
           "BILL BURR: YOU PEOPLE ARE ALL THE SAME (2012) – Full Transcript"
          ],
          [
           "Dave Chappelle: For What It’s Worth (2004) – Transcript"
          ],
          [
           "Dave Chappelle: Killin’ Them Softly (2000) – Transcript"
          ],
          [
           "Eddie Griffin: You Can Tell ‘Em I Said It! (2011) – Transcript"
          ],
          [
           "BILL BURR: WALK YOUR WAY OUT (2017) – Full Transcript"
          ],
          [
           "LOUIS C.K.: OH MY GOD (2013) – Full Transcript"
          ],
          [
           "LOUIS C.K.: LIVE AT  THE COMEDY STORE (2015) – Transcript"
          ],
          [
           "BILL HICKS: RELENTLESS (1991) – Transcript"
          ],
          [
           "Daniel Tosh: Happy Thoughts (2011) – Transcript"
          ],
          [
           "Patrice O’Neal: Elephant in the Room (2011) – Transcript"
          ],
          [
           "Katt Williams: Live (2006) – Transcript"
          ],
          [
           "Richard Pryor: Live in Concert (1979) – Transcript"
          ],
          [
           "RICHARD PRYOR: LIVE ON THE SUNSET STRIP (1982) – Full Transcript"
          ],
          [
           "Trevor Noah: Afraid Of The Dark (2017) – Transcript"
          ],
          [
           "JIM JEFFERIES: BARE (2014) – Full Transcript"
          ],
          [
           "Dave Chappelle: Deep in the Heart of Texas (2017) – Transcript"
          ],
          [
           "Tom Segura: Mostly Stories (2016) – Transcript"
          ],
          [
           "BILL BURR: LET IT GO (2010) – TRANSCRIPT"
          ],
          [
           "JIM JEFFERIES: FREEDUMB (2016) – Full Transcript"
          ],
          [
           "Eddie Murphy: Delirious (1983) – Transcript"
          ],
          [
           "Dave Chappelle: The Age of Spin (2017) – Transcript"
          ],
          [
           "GEORGE CARLIN: BACK IN TOWN (1996) – Full transcript"
          ],
          [
           "LOUIS C.K.: 2017 – Full transcript"
          ],
          [
           "George Carlin: Jamming in New York (1992) – Transcript"
          ],
          [
           "Reggie Watts: Spatial (2016) – Full Transcript"
          ],
          [
           "GEORGE CARLIN: COMPLAINTS AND GRIEVANCES (2001) – FULL TRANSCRIPT"
          ],
          [
           "GEORGE CARLIN: LIFE IS WORTH LOSING (2006) – Transcript"
          ],
          [
           "George Carlin: It’s Bad For Ya (2008) Full transcript"
          ],
          [
           "Dave Chappelle: 8:46 – Transcript"
          ],
          [
           "JIM JEFFERIES ON GUN CONTROL [FULL TRANSCRIPT]"
          ]
         ],
         "hovertemplate": "Reggie Watts: Spatial (2016) – Full Transcript=%{x}<br>description=%{customdata[0]}<extra></extra>",
         "legendgroup": "",
         "marker": {
          "color": "#636efa"
         },
         "name": "",
         "notched": false,
         "offsetgroup": "",
         "orientation": "h",
         "showlegend": false,
         "type": "box",
         "x": [
          0.11018194775138507,
          -0.18979682899740422,
          0.3678346410347588,
          0.03032564343243442,
          0.16115162895046875,
          -0.2738300471895388,
          0.025140333306927068,
          0.18250263700416613,
          0.13002585558991092,
          0.4155120628980322,
          0.37383186122260176,
          0.3051867629882413,
          -0.033577264167434784,
          0.13344611272629997,
          -0.13586356605582509,
          -0.016140089353776838,
          0.1360217150235499,
          -0.1408212545405812,
          0.1502150138138305,
          0.3254103321815696,
          0.04956728779606016,
          0.5072809190759175,
          0.014614236628087973,
          0.062305077945490034,
          -0.014321591112133117,
          0.00405430665552374,
          0.056293988406646844,
          0.16938590283267807,
          -0.01578621865159173,
          0.5737227484020883,
          -0.1508652181061364,
          -0.030001402852497097,
          0.08454736300172509,
          0.29209227587520764,
          -0.38956142693600493,
          -0.06783630470589024,
          0.10145463177039026,
          0.2968843433392159,
          0.404360272406773,
          -0.19396386393605727,
          0.1289212658954416,
          0.5609640142682035,
          -0.06237896786507899,
          0.10535412634100594,
          0.12232356649973664,
          0.1621204638805016,
          -0.08409141072825696,
          -0.017011022696349597,
          0.3643499005342766,
          0.48523264899562096,
          0.16682019453899852,
          0.20294913194493308,
          0.36880727584855033,
          -0.07529199442052037,
          -0.09259394328152185,
          -0.16259936059584407,
          0.19533230488731074,
          0.4973206511678088,
          0.0157135709095981,
          0.3347503126717585,
          0.05240775962139276,
          -0.006567764307978952,
          0.2805260857479349,
          0.06165818896716529,
          0.33057428002640377,
          -0.00127454129478842,
          -0.1117411935585727,
          -0.008406431452486499,
          -0.44267452532905943,
          -0.030309289973081792,
          0.22081432930568792,
          0.2997108052382599,
          -0.07266653661724527,
          0.08289503464935542,
          0.1443050508829934,
          -0.030560533540358426,
          0.18502732657119564,
          -0.24147862591170116,
          0.15850336078649702,
          -0.2190142814401056,
          -0.06649562771874723,
          -0.08990448891083266,
          -0.024295275257605567,
          0.14248668951087023,
          -0.04981247249725636,
          0.33081046738339925,
          -0.07186833457801102,
          0.1526417303491721,
          0.1675837123632633,
          0.11734776990055995,
          0.29152424682946393,
          0.3346435376005893,
          0.15625560384330678,
          0.029373923778031164,
          0.16669689697963522,
          0.20013760467278266,
          0.16832954245088827,
          -0.055849215340373896,
          0.013285126350273638,
          0.1911049303388994,
          0.013350757510634637,
          0.01786300383695652,
          0.1644905333496925,
          0.06109064294684945,
          0.02166792999720471,
          -0.07376269366595518,
          0.24007874503300947,
          0.5171085052042278,
          -0.015697592103017514,
          -0.15305348531578378,
          0.42872660991372924,
          0.1548476829169541,
          0.24152334388074473,
          0.24862701477949584,
          0.40692027252339413,
          0.3207948665444528,
          -0.015408189056936236,
          0.5395025984452296,
          0.27981587108638273,
          0.01475392278738831,
          -0.14123782525456918,
          -0.27216632566275095,
          -0.07387284439009228,
          -0.3511618577056589,
          0.1754875045086327,
          0.02365107603919773,
          -0.009611116158557614,
          0.09324522911936166,
          0.1335229455231983,
          0.39728891495175855,
          0.4173520014278713,
          -0.18187798961282703,
          0.1637569918343474,
          -0.08876301496254162,
          0.20048695245818446,
          0.20139771444207757,
          0.3070246623700927,
          0.03842622794418224,
          -0.1251866471103099,
          0.0397978014935359,
          -0.20192425817420978,
          0.07389817041419866,
          0.18414858471296133,
          -0.4024112628394676,
          0.41928047494933507,
          0.47400857772357946,
          -0.1349595461729607,
          0.22355676130724605,
          -0.3663806896382078,
          0.2964302570239962,
          0.10728414078289754,
          0.11450904134184156,
          -0.22273250711512904,
          0.1062420503792843,
          -0.09955668563914702,
          0.10477846148838771,
          0.13515922675602668,
          -0.19508918959767596,
          0.06776875900634015,
          0.11409445833055126,
          0.32993105703110814,
          -0.20419539815723292,
          -0.26300712885280214,
          0.5824569175328488,
          0.2386645233562734,
          0.1281671920640306,
          0.15072999765720854,
          0.31256601940063555,
          0.45369463651038444,
          0.413481227489196,
          0.17256658857356844,
          0.12721745254422265,
          0.549905947013531,
          0.1786850324539651,
          0.05038124555856358,
          -0.03849996767267588,
          -0.033746083080904,
          0.00787266816777911,
          -0.012422968126091255,
          0.18857638387624898,
          -0.1407128860187596,
          -0.13394434148438567,
          0.13616092833183138,
          0.1565593132767678,
          0.12283755368094831,
          -0.03889745660933287,
          -0.055065838202989006,
          0.11886790115616373,
          0.2621781660870316,
          0.3379284194649504,
          0.009985468887929567,
          0.40480941354418437,
          0.21708158404293698,
          0.11195275415729196,
          -0.011110380066804357,
          -0.033065799164172134,
          -0.2834067484342881,
          -0.045629701901669234,
          0.18459671108935927,
          -0.07714277552606319,
          0.10767530147965239,
          -0.14130177934161708,
          0.3214595957503988,
          0.14361355193895994,
          0.29134407674885354,
          0.6373833809897673,
          0.10305901956698885,
          0.4423400177737185,
          0.19192577251144113,
          0.23895019471033818,
          0.13358954614298962,
          -0.02293419435958617,
          0.02951417853660196,
          0.02242433007151006,
          0.2475944291906942,
          0.4120163829465945,
          0.2927887840258885,
          0.5138542512334184,
          0.19008663596687136,
          -0.009589377731724455,
          0.1696128609299403,
          0.25678080096465433,
          0.33059569833900726,
          0.31245037848928875,
          0.48008919946656803,
          0.07515642101535465,
          0.30040869136458914,
          0.0739433833659909,
          0.40112287470300234,
          0.03323836702872401,
          -0.1381094184246721,
          -0.2544197301750428,
          -0.04930086354947823,
          -0.04277699279882284,
          0.28179708434058104,
          0.19703204947516573,
          0.003964621130607984,
          -0.003033121420363327,
          0.1282576533328557,
          0.13521685992178525,
          0.4111558618197888,
          -0.2964814194779098,
          0.20465827636282796,
          0.0656177515977129,
          0.0821385301871494,
          0.09700076271307564,
          0.07238117555333506,
          -0.19404701842216052,
          0.08582038765367996,
          -0.09478378155616973,
          -0.04519932435549766,
          0.06935616210305795,
          -0.1267000591857521,
          0.09472784215094876,
          0.21542570271926342,
          0.568954969129153,
          0.34553424972941066,
          0.187375311245514,
          0.17960897427529815,
          -0.16719574370366713,
          -0.03751616345446977,
          0.08957129205501013,
          -0.1345031559786465,
          -0.19476178158025265,
          -0.5160813143035449,
          -0.04426167870260876,
          0.2512139274101891,
          0.24494821861085453,
          -0.2939524827227521,
          -0.2527859065629774,
          -0.058478540717833496,
          0.04108575050213448,
          -0.14824348475081628,
          0.1645407250382177,
          0.456045052255014,
          0.12018227706353915,
          -0.35499607080138273,
          -0.158570497708945,
          -0.22677700507757464,
          -0.024870908243225978,
          0.030250445622760684,
          -0.026356206173193245,
          0.03805180801968401,
          0.22975955093926165,
          -0.012926316760429477,
          0.12419843202116942,
          0.13370044832232542,
          0.036991574432099494,
          0.30112969963727343,
          0.4379440170321117,
          0.08173870426545246,
          0.028958293032084623,
          0.1966929203150063,
          0.27790823369760365,
          -0.33671965293342804,
          -0.19269417812422307,
          0.2140354025329736,
          0.4924314952128859,
          -0.44669493352472467,
          -0.041263475582648125,
          -0.1721436847490569,
          -0.12485644739226885,
          0.19110463976826442,
          -0.14274029527598972,
          1.0000000000000004,
          -0.019626209083483143,
          -0.12359218103353654,
          -0.16124885512141401,
          -0.10990664433373229,
          0.1567808116510368
         ],
         "x0": " ",
         "xaxis": "x",
         "y0": " ",
         "yaxis": "y"
        }
       ],
       "layout": {
        "boxmode": "group",
        "legend": {
         "tracegroupgap": 0
        },
        "margin": {
         "t": 60
        },
        "template": {
         "data": {
          "bar": [
           {
            "error_x": {
             "color": "#2a3f5f"
            },
            "error_y": {
             "color": "#2a3f5f"
            },
            "marker": {
             "line": {
              "color": "#E5ECF6",
              "width": 0.5
             },
             "pattern": {
              "fillmode": "overlay",
              "size": 10,
              "solidity": 0.2
             }
            },
            "type": "bar"
           }
          ],
          "barpolar": [
           {
            "marker": {
             "line": {
              "color": "#E5ECF6",
              "width": 0.5
             },
             "pattern": {
              "fillmode": "overlay",
              "size": 10,
              "solidity": 0.2
             }
            },
            "type": "barpolar"
           }
          ],
          "carpet": [
           {
            "aaxis": {
             "endlinecolor": "#2a3f5f",
             "gridcolor": "white",
             "linecolor": "white",
             "minorgridcolor": "white",
             "startlinecolor": "#2a3f5f"
            },
            "baxis": {
             "endlinecolor": "#2a3f5f",
             "gridcolor": "white",
             "linecolor": "white",
             "minorgridcolor": "white",
             "startlinecolor": "#2a3f5f"
            },
            "type": "carpet"
           }
          ],
          "choropleth": [
           {
            "colorbar": {
             "outlinewidth": 0,
             "ticks": ""
            },
            "type": "choropleth"
           }
          ],
          "contour": [
           {
            "colorbar": {
             "outlinewidth": 0,
             "ticks": ""
            },
            "colorscale": [
             [
              0,
              "#0d0887"
             ],
             [
              0.1111111111111111,
              "#46039f"
             ],
             [
              0.2222222222222222,
              "#7201a8"
             ],
             [
              0.3333333333333333,
              "#9c179e"
             ],
             [
              0.4444444444444444,
              "#bd3786"
             ],
             [
              0.5555555555555556,
              "#d8576b"
             ],
             [
              0.6666666666666666,
              "#ed7953"
             ],
             [
              0.7777777777777778,
              "#fb9f3a"
             ],
             [
              0.8888888888888888,
              "#fdca26"
             ],
             [
              1,
              "#f0f921"
             ]
            ],
            "type": "contour"
           }
          ],
          "contourcarpet": [
           {
            "colorbar": {
             "outlinewidth": 0,
             "ticks": ""
            },
            "type": "contourcarpet"
           }
          ],
          "heatmap": [
           {
            "colorbar": {
             "outlinewidth": 0,
             "ticks": ""
            },
            "colorscale": [
             [
              0,
              "#0d0887"
             ],
             [
              0.1111111111111111,
              "#46039f"
             ],
             [
              0.2222222222222222,
              "#7201a8"
             ],
             [
              0.3333333333333333,
              "#9c179e"
             ],
             [
              0.4444444444444444,
              "#bd3786"
             ],
             [
              0.5555555555555556,
              "#d8576b"
             ],
             [
              0.6666666666666666,
              "#ed7953"
             ],
             [
              0.7777777777777778,
              "#fb9f3a"
             ],
             [
              0.8888888888888888,
              "#fdca26"
             ],
             [
              1,
              "#f0f921"
             ]
            ],
            "type": "heatmap"
           }
          ],
          "heatmapgl": [
           {
            "colorbar": {
             "outlinewidth": 0,
             "ticks": ""
            },
            "colorscale": [
             [
              0,
              "#0d0887"
             ],
             [
              0.1111111111111111,
              "#46039f"
             ],
             [
              0.2222222222222222,
              "#7201a8"
             ],
             [
              0.3333333333333333,
              "#9c179e"
             ],
             [
              0.4444444444444444,
              "#bd3786"
             ],
             [
              0.5555555555555556,
              "#d8576b"
             ],
             [
              0.6666666666666666,
              "#ed7953"
             ],
             [
              0.7777777777777778,
              "#fb9f3a"
             ],
             [
              0.8888888888888888,
              "#fdca26"
             ],
             [
              1,
              "#f0f921"
             ]
            ],
            "type": "heatmapgl"
           }
          ],
          "histogram": [
           {
            "marker": {
             "pattern": {
              "fillmode": "overlay",
              "size": 10,
              "solidity": 0.2
             }
            },
            "type": "histogram"
           }
          ],
          "histogram2d": [
           {
            "colorbar": {
             "outlinewidth": 0,
             "ticks": ""
            },
            "colorscale": [
             [
              0,
              "#0d0887"
             ],
             [
              0.1111111111111111,
              "#46039f"
             ],
             [
              0.2222222222222222,
              "#7201a8"
             ],
             [
              0.3333333333333333,
              "#9c179e"
             ],
             [
              0.4444444444444444,
              "#bd3786"
             ],
             [
              0.5555555555555556,
              "#d8576b"
             ],
             [
              0.6666666666666666,
              "#ed7953"
             ],
             [
              0.7777777777777778,
              "#fb9f3a"
             ],
             [
              0.8888888888888888,
              "#fdca26"
             ],
             [
              1,
              "#f0f921"
             ]
            ],
            "type": "histogram2d"
           }
          ],
          "histogram2dcontour": [
           {
            "colorbar": {
             "outlinewidth": 0,
             "ticks": ""
            },
            "colorscale": [
             [
              0,
              "#0d0887"
             ],
             [
              0.1111111111111111,
              "#46039f"
             ],
             [
              0.2222222222222222,
              "#7201a8"
             ],
             [
              0.3333333333333333,
              "#9c179e"
             ],
             [
              0.4444444444444444,
              "#bd3786"
             ],
             [
              0.5555555555555556,
              "#d8576b"
             ],
             [
              0.6666666666666666,
              "#ed7953"
             ],
             [
              0.7777777777777778,
              "#fb9f3a"
             ],
             [
              0.8888888888888888,
              "#fdca26"
             ],
             [
              1,
              "#f0f921"
             ]
            ],
            "type": "histogram2dcontour"
           }
          ],
          "mesh3d": [
           {
            "colorbar": {
             "outlinewidth": 0,
             "ticks": ""
            },
            "type": "mesh3d"
           }
          ],
          "parcoords": [
           {
            "line": {
             "colorbar": {
              "outlinewidth": 0,
              "ticks": ""
             }
            },
            "type": "parcoords"
           }
          ],
          "pie": [
           {
            "automargin": true,
            "type": "pie"
           }
          ],
          "scatter": [
           {
            "marker": {
             "colorbar": {
              "outlinewidth": 0,
              "ticks": ""
             }
            },
            "type": "scatter"
           }
          ],
          "scatter3d": [
           {
            "line": {
             "colorbar": {
              "outlinewidth": 0,
              "ticks": ""
             }
            },
            "marker": {
             "colorbar": {
              "outlinewidth": 0,
              "ticks": ""
             }
            },
            "type": "scatter3d"
           }
          ],
          "scattercarpet": [
           {
            "marker": {
             "colorbar": {
              "outlinewidth": 0,
              "ticks": ""
             }
            },
            "type": "scattercarpet"
           }
          ],
          "scattergeo": [
           {
            "marker": {
             "colorbar": {
              "outlinewidth": 0,
              "ticks": ""
             }
            },
            "type": "scattergeo"
           }
          ],
          "scattergl": [
           {
            "marker": {
             "colorbar": {
              "outlinewidth": 0,
              "ticks": ""
             }
            },
            "type": "scattergl"
           }
          ],
          "scattermapbox": [
           {
            "marker": {
             "colorbar": {
              "outlinewidth": 0,
              "ticks": ""
             }
            },
            "type": "scattermapbox"
           }
          ],
          "scatterpolar": [
           {
            "marker": {
             "colorbar": {
              "outlinewidth": 0,
              "ticks": ""
             }
            },
            "type": "scatterpolar"
           }
          ],
          "scatterpolargl": [
           {
            "marker": {
             "colorbar": {
              "outlinewidth": 0,
              "ticks": ""
             }
            },
            "type": "scatterpolargl"
           }
          ],
          "scatterternary": [
           {
            "marker": {
             "colorbar": {
              "outlinewidth": 0,
              "ticks": ""
             }
            },
            "type": "scatterternary"
           }
          ],
          "surface": [
           {
            "colorbar": {
             "outlinewidth": 0,
             "ticks": ""
            },
            "colorscale": [
             [
              0,
              "#0d0887"
             ],
             [
              0.1111111111111111,
              "#46039f"
             ],
             [
              0.2222222222222222,
              "#7201a8"
             ],
             [
              0.3333333333333333,
              "#9c179e"
             ],
             [
              0.4444444444444444,
              "#bd3786"
             ],
             [
              0.5555555555555556,
              "#d8576b"
             ],
             [
              0.6666666666666666,
              "#ed7953"
             ],
             [
              0.7777777777777778,
              "#fb9f3a"
             ],
             [
              0.8888888888888888,
              "#fdca26"
             ],
             [
              1,
              "#f0f921"
             ]
            ],
            "type": "surface"
           }
          ],
          "table": [
           {
            "cells": {
             "fill": {
              "color": "#EBF0F8"
             },
             "line": {
              "color": "white"
             }
            },
            "header": {
             "fill": {
              "color": "#C8D4E3"
             },
             "line": {
              "color": "white"
             }
            },
            "type": "table"
           }
          ]
         },
         "layout": {
          "annotationdefaults": {
           "arrowcolor": "#2a3f5f",
           "arrowhead": 0,
           "arrowwidth": 1
          },
          "autotypenumbers": "strict",
          "coloraxis": {
           "colorbar": {
            "outlinewidth": 0,
            "ticks": ""
           }
          },
          "colorscale": {
           "diverging": [
            [
             0,
             "#8e0152"
            ],
            [
             0.1,
             "#c51b7d"
            ],
            [
             0.2,
             "#de77ae"
            ],
            [
             0.3,
             "#f1b6da"
            ],
            [
             0.4,
             "#fde0ef"
            ],
            [
             0.5,
             "#f7f7f7"
            ],
            [
             0.6,
             "#e6f5d0"
            ],
            [
             0.7,
             "#b8e186"
            ],
            [
             0.8,
             "#7fbc41"
            ],
            [
             0.9,
             "#4d9221"
            ],
            [
             1,
             "#276419"
            ]
           ],
           "sequential": [
            [
             0,
             "#0d0887"
            ],
            [
             0.1111111111111111,
             "#46039f"
            ],
            [
             0.2222222222222222,
             "#7201a8"
            ],
            [
             0.3333333333333333,
             "#9c179e"
            ],
            [
             0.4444444444444444,
             "#bd3786"
            ],
            [
             0.5555555555555556,
             "#d8576b"
            ],
            [
             0.6666666666666666,
             "#ed7953"
            ],
            [
             0.7777777777777778,
             "#fb9f3a"
            ],
            [
             0.8888888888888888,
             "#fdca26"
            ],
            [
             1,
             "#f0f921"
            ]
           ],
           "sequentialminus": [
            [
             0,
             "#0d0887"
            ],
            [
             0.1111111111111111,
             "#46039f"
            ],
            [
             0.2222222222222222,
             "#7201a8"
            ],
            [
             0.3333333333333333,
             "#9c179e"
            ],
            [
             0.4444444444444444,
             "#bd3786"
            ],
            [
             0.5555555555555556,
             "#d8576b"
            ],
            [
             0.6666666666666666,
             "#ed7953"
            ],
            [
             0.7777777777777778,
             "#fb9f3a"
            ],
            [
             0.8888888888888888,
             "#fdca26"
            ],
            [
             1,
             "#f0f921"
            ]
           ]
          },
          "colorway": [
           "#636efa",
           "#EF553B",
           "#00cc96",
           "#ab63fa",
           "#FFA15A",
           "#19d3f3",
           "#FF6692",
           "#B6E880",
           "#FF97FF",
           "#FECB52"
          ],
          "font": {
           "color": "#2a3f5f"
          },
          "geo": {
           "bgcolor": "white",
           "lakecolor": "white",
           "landcolor": "#E5ECF6",
           "showlakes": true,
           "showland": true,
           "subunitcolor": "white"
          },
          "hoverlabel": {
           "align": "left"
          },
          "hovermode": "closest",
          "mapbox": {
           "style": "light"
          },
          "paper_bgcolor": "white",
          "plot_bgcolor": "#E5ECF6",
          "polar": {
           "angularaxis": {
            "gridcolor": "white",
            "linecolor": "white",
            "ticks": ""
           },
           "bgcolor": "#E5ECF6",
           "radialaxis": {
            "gridcolor": "white",
            "linecolor": "white",
            "ticks": ""
           }
          },
          "scene": {
           "xaxis": {
            "backgroundcolor": "#E5ECF6",
            "gridcolor": "white",
            "gridwidth": 2,
            "linecolor": "white",
            "showbackground": true,
            "ticks": "",
            "zerolinecolor": "white"
           },
           "yaxis": {
            "backgroundcolor": "#E5ECF6",
            "gridcolor": "white",
            "gridwidth": 2,
            "linecolor": "white",
            "showbackground": true,
            "ticks": "",
            "zerolinecolor": "white"
           },
           "zaxis": {
            "backgroundcolor": "#E5ECF6",
            "gridcolor": "white",
            "gridwidth": 2,
            "linecolor": "white",
            "showbackground": true,
            "ticks": "",
            "zerolinecolor": "white"
           }
          },
          "shapedefaults": {
           "line": {
            "color": "#2a3f5f"
           }
          },
          "ternary": {
           "aaxis": {
            "gridcolor": "white",
            "linecolor": "white",
            "ticks": ""
           },
           "baxis": {
            "gridcolor": "white",
            "linecolor": "white",
            "ticks": ""
           },
           "bgcolor": "#E5ECF6",
           "caxis": {
            "gridcolor": "white",
            "linecolor": "white",
            "ticks": ""
           }
          },
          "title": {
           "x": 0.05
          },
          "xaxis": {
           "automargin": true,
           "gridcolor": "white",
           "linecolor": "white",
           "ticks": "",
           "title": {
            "standoff": 15
           },
           "zerolinecolor": "white",
           "zerolinewidth": 2
          },
          "yaxis": {
           "automargin": true,
           "gridcolor": "white",
           "linecolor": "white",
           "ticks": "",
           "title": {
            "standoff": 15
           },
           "zerolinecolor": "white",
           "zerolinewidth": 2
          }
         }
        },
        "xaxis": {
         "anchor": "y",
         "domain": [
          0,
          1
         ],
         "title": {
          "text": "Reggie Watts: Spatial (2016) – Full Transcript"
         }
        },
        "yaxis": {
         "anchor": "x",
         "domain": [
          0,
          1
         ]
        }
       }
      },
      "text/html": [
       "<div>                            <div id=\"3cd9fc9c-b303-42fe-ad84-85b51bbcfcf8\" class=\"plotly-graph-div\" style=\"height:525px; width:100%;\"></div>            <script type=\"text/javascript\">                require([\"plotly\"], function(Plotly) {                    window.PLOTLYENV=window.PLOTLYENV || {};                                    if (document.getElementById(\"3cd9fc9c-b303-42fe-ad84-85b51bbcfcf8\")) {                    Plotly.newPlot(                        \"3cd9fc9c-b303-42fe-ad84-85b51bbcfcf8\",                        [{\"alignmentgroup\":\"True\",\"boxpoints\":\"all\",\"customdata\":[[\"Jim Gaffigan: Comedy Monster (2021) | Transcript\"],[\"Louis C. K.: Sorry (2021) | Transcript\"],[\"Drew Michael: Drew Michael (2018) | Transcript\"],[\"Drew Michael: Red Blue Green (2021) | Transcript\"],[\"Mo Amer: Mohammed in Texas (2021) | Transcript\"],[\"Dave Chappelle: The Closer (2021) | Transcript\"],[\"Kathleen Madigan: Bothering Jesus (2016) \\u2013 Transcript\"],[\"Kathleen Madigan: Madigan Again (2013) \\u2013 Transcript\"],[\"Phil Wang: Philly Philly Wang Wang (2021) \\u2013 Transcript\"],[\"Tom Papa: You\\u2019re Doing Great! (2020) \\u2013 Transcript\"],[\"Tom Papa: Human Mule (2016) \\u2013 Transcript\"],[\"Tom Papa: Freaked Out (2013) \\u2013 Transcript\"],[\"Bo Burnham: Inside (2021) \\u2013 Transcript\"],[\"Tig Notaro: Boyish Girl Interrupted (2015) \\u2013 Transcript\"],[\"Joe List: I Hate Myself (2020) \\u2013 Transcript\"],[\"Nate Bargatze: The Greatest Average American (2021) \\u2013 Transcript\"],[\"Brian Regan: On The Rocks (2021) \\u2013 Transcript\"],[\"Doug Stanhope: Beer Hall Putsch (2013) \\u2013 Transcript\"],[\"Chris Rock Total Blackout: The Tamborine Extended Cut \\u2013 Transcript\"],[\"Sarah Cooper: Everything\\u2019s Fine (2020) \\u2013 Transcript\"],[\"Bo Burnham: Words, Words, Words (2010) \\u2013 Transcript\"],[\"Vir Das: Outside in \\u2013 The Lockdown Special (2020) \\u2013 Transcript\"],[\"Larry the Cable Guy \\u2013 Remain Seated (2020) \\u2013 Transcript\"],[\"Craig Ferguson: Just Being Honest (2015) \\u2013 Transcript\"],[\"Kevin Hart: Zero F**ks Given (2020) \\u2013 Transcript\"],[\"Sam Morril: I Got This (2020) \\u2013 Transcript\"],[\"RONNY CHIENG: ASIAN COMEDIAN DESTROYS AMERICA (2019) \\u2013 TRANSCRIPT\"],[\"Craig Ferguson: A Wee Bit o\\u2019 Revolution (2009) \\u2013 Transcript\"],[\"MICHAEL MCINTYRE: SHOWMAN (2020) \\u2013 TRANSCRIPT\"],[\"ROB SCHNEIDER: ASIAN MOMMA, MEXICAN KIDS (2020) \\u2013 TRANSCRIPT\"],[\"Sam Jay: 3 in the Morning (2020) \\u2013 Transcript\"],[\"Jack Whitehall: I\\u2019m Only Joking (2020) | Transcript\"],[\"URZILA CARLSON: OVERQUALIFIED LOSER (2020) \\u2013 FULL TRANSCRIPT\"],[\"GEORGE LOPEZ: WE\\u2019LL DO IT FOR HALF (2020) \\u2013 FULL TRANSCRIPT\"],[\"JIM JEFFERIES: INTOLERANT (2020) \\u2013 FULL TRANSCRIPT\"],[\"George Carlin: Doin\\u2019 It Again (1990) \\u2013 Transcript\"],[\"ERIC ANDRE: LEGALIZE EVERYTHING (2020)\"],[\"ROY WOOD JR.: FATHER FIGURE (2017) \\u2013 FULL TRANSCRIPT\"],[\"Mark Normand: Don\\u2019t Be Yourself (2017) \\u2013 Transcript\"],[\"Chris Gethard: Career Suicide (2017) \\u2013 Transcript\"],[\"RAMY YOUSSEF: FEELINGS (2019) \\u2013 FULL TRANSCRIPT\"],[\"KENNY SEBASTIAN DON\\u2019T BE THAT GUY (2017) \\u2013 FULL TRANSCRIPT\"],[\"BILLY CONNOLLY: HIGH HORSE TOUR LIVE (2016) \\u2013 FULL TRANSCRIPT\"],[\"Hannah Gadsby: Douglas (2020) \\u2013 Transcript\"],[\"Hasan Minhaj: Homecoming King (2017) \\u2013 Transcript\"],[\"PATTON OSWALT: I LOVE EVERYTHING (2020) \\u2013 FULL TRANSCRIPT\"],[\"RUSSELL PETERS: DEPORTED (2020) \\u2013 FULL TRANSCRIPT\"],[\"JIMMY O. YANG: GOOD DEAL (2020) \\u2013 FULL TRANSCRIPT\"],[\"JO KOY: LIGHTS OUT (2012) \\u2013 FULL TRANSCRIPT\"],[\"LEE MACK: GOING OUT LIVE (2010) \\u2013 FULL TRANSCRIPT\"],[\"LEE MACK: LIVE (2007) \\u2013 FULL TRANSCRIPT\"],[\"T.J. MILLER: NO REAL REASON (2011) \\u2013 FULL TRANSCRIPT\"],[\"Jerry Seinfeld: 23 Hours To Kill (2020) \\u2013 Transcript\"],[\"SINCERELY LOUIS CK (2020)\"],[\"JIM NORTON: AMERICAN DEGENERATE (2013) \\u2013 FULL TRANSCRIPT\"],[\"Jim Norton: Monster Rain (2007) \\u2013 Transcript\"],[\"MARIA BAMFORD: WEAKNESS IS THE BRAND (2020) \\u2013 FULL TRANSCRIPT\"],[\"CHRIS D\\u2019ELIA: WHITE MALE. BLACK COMIC. (2013) \\u2013 FULL TRANSCRIPT\"],[\"Chris D\\u2019Elia: Man on Fire (2017) \\u2013 Full Transcript\"],[\"Tom Segura: Ball Hog (2020) \\u2013 Transcript\"],[\"Bert Kreischer: Hey Big Boy (2020) \\u2013 Transcript\"],[\"Marc Maron: End Times Fun (2020) \\u2013 Full Transcript\"],[\"PETE DAVIDSON: SMD (2016) \\u2013 FULL TRANSCRIPT\"],[\"PETE DAVIDSON: ALIVE FROM NEW YORK (2020) \\u2013 FULL TRANSCRIPT\"],[\"Amanda Seales: I Be Knowin\\u2019 (2019) \\u2013 Transcript\"],[\"Stewart Lee: Carpet Remnant World (2012) \\u2013 Full Transcript\"],[\"Stewart Lee: Content Provider (2018) \\u2013 Transcript\"],[\"Sara Pascoe: LadsLadsLads (2019) \\u2013 Full Transcript\"],[\"Dan Soder: Son of a Gary (2019) \\u2013 Full Transcript\"],[\"Jim Gaffigan: Quality Time (2019) \\u2013 Full Transcript\"],[\"Kevin Bridges: A Whole Different Story (2015) \\u2013 Full Transcript\"],[\"Kevin Bridges: The Story So Far\\u2026 Live in Glasgow (2010) \\u2013 Full Transcript\"],[\"Kevin Bridges: The Story Continues (2012) \\u2013 Full Transcript\"],[\"Michelle Wolf: Joke Show (2019) \\u2013 Full Transcript\"],[\"Tiffany Haddish: Black Mitzvah (2019) \\u2013 Transcript\"],[\"Mike Birbiglia: The New One (2019) \\u2013 Full Transcript\"],[\"Iliza Shlesinger: Unveiled (2019) \\u2013 Full Transcript\"],[\"Seth Meyers: Lobby Baby (2019) \\u2013 Full Transcript\"],[\"Arsenio Hall: Smart and Classy (2019) \\u2013 Transcript\"],[\"Nikki Glaser: Bangin\\u2019 (2019) \\u2013 Full Transcript\"],[\"Bill Burr: Paper Tiger (2019) \\u2013 Transcript\"],[\"Dave Chappelle: Sticks & Stones (2019) \\u2013 Transcript\"],[\"Emily Heller: Ice Thickeners (2019) \\u2013 Full Transcript\"],[\"David Cross: Oh Come On (2019) \\u2013 Full Transcript\"],[\"Whitney Cummings: Can I Touch It? (2019) \\u2013 Full Transcript\"],[\"Aziz Ansari: Right Now (2019) \\u2013 Transcript\"],[\"Ralphie May: Filthy Animal Tour (2014) \\u2013 Transcript\"],[\"Mike Epps: Only One Mike (2019) \\u2013 Full Transcript\"],[\"Adam DeVine: Best Time of Our Lives (2019) \\u2013 Full Transcript\"],[\"Jo Koy: Live from Seattle (2017) \\u2013 Full Transcript\"],[\"Jo Koy: Comin\\u2019 in Hot (2019) \\u2013 Full Transcript\"],[\"Wanda Sykes: Not Normal (2019) \\u2013 Full Transcript\"],[\"Cedric the Entertainer: Live from the Ville (2016) \\u2013 Transcript\"],[\"Eddie Murphy: Raw (1987) \\u2013 Transcript\"],[\"Colin Quinn: The New York Story (2016) \\u2013 Full Transcript\"],[\"Demetri Martin: Live (At The Time) (2015) | Transcript\"],[\"George Carlin: What Am I Doing in New Jersey? (1988) \\u2013 Full Transcript\"],[\"Chelsea Peretti: One of the Greats (2014) \\u2013 Full Transcript\"],[\"Anthony Jeselnik: Fire in the Maternity Ward (2019) \\u2013 Transcript\"],[\"Roy Wood Jr.: No One Loves You (2019) \\u2013 Transcript\"],[\"Robin Williams: Weapons of Self Destruction (2009) \\u2013 Full Transcript\"],[\"ROBIN WILLIAMS LIVE ON BROADWAY (2002) \\u2013 FULL TRANSCRIPT\"],[\"Jimmy Carr: The Best of Ultimate Gold Greatest Hits (2019) \\u2013 Full Transcript\"],[\"Nate Bargatze: The Tennessee Kid (2019) \\u2013 Full Transcript\"],[\"W. Kamau Bell: Private School Negro (2018) \\u2013 Transcript\"],[\"Kevin Hart: Irresponsible (2019) \\u2013 Transcript\"],[\"Nate Bargatze: Full Time Magic (2015) \\u2013 Full Transcript\"],[\"Amy Schumer: Growing (2019) \\u2013 Full Transcript\"],[\"Enissa Amani: Ehrenwort (2018) Full Transcript\"],[\"Ken Jeong: You Complete Me, Ho (2019) \\u2013 Full Transcript\"],[\"Ray Romano: Right Here, Around the Corner (2019) \\u2013 Full Transcript\"],[\"Gabriel \\u201cFluffy\\u201d Iglesias: One Show Fits All (2019) \\u2013 Full Transcript\"],[\"Sebastian Maniscalco: Stay Hungry (2019) \\u2013 Full Transcript\"],[\"Sebastian Maniscalco: Aren\\u2019t You Embarrassed? (2014) \\u2013 Full Transcript\"],[\"Sebastian Maniscalco: What\\u2019s Wrong with People? (2012) \\u2013 Full Transcript\"],[\"Oh, Hello On Broadway (2017) \\u2013 Transcript\"],[\"Ellen Degeneres: Relatable (2018) \\u2013 Transcript\"],[\"Pete Holmes: Dirty Clean (2018) \\u2013 Full Transcript\"],[\"Vir Das: Losing It (2018) \\u2013 Full Transcript\"],[\"Trevor Noah: Son of Patricia (2018) \\u2013 Transcript\"],[\"Jeff Foxworthy & Larry the Cable Guy: We\\u2019ve Been Thinking (2016) \\u2013 Full Transcript\"],[\"Adam Sandler: 100% Fresh (2018) \\u2013 Full Transcript\"],[\"Jeff Foxworthy: Totally Committed (1998) \\u2013 Full Transcript\"],[\"RON WHITE: IF YOU QUIT LISTENING, I\\u2019LL SHUT UP (2018) \\u2013 FULL TRANSCRIPT\"],[\"Mo Amer: The Vagabond (2018) \\u2013 Full Transcript\"],[\"Joe Mande\\u2019s Award-Winning Comedy Special (2017) \\u2013 Full Transcript\"],[\"Henry Rollins: Keep Talking, Pal (2018) \\u2013 Full Transcript\"],[\"Joe Rogan: Strange Times (2018) \\u2013 Full Transcript\"],[\"D.L. Hughley: Contrarian (2018) \\u2013 Transcript\"],[\"Iliza Shlesinger: Freezing Hot (2015) \\u2013 Full Transcript\"],[\"Iliza Shlesinger: War Paint (2013) \\u2013 Transcript\"],[\"Bert Kreischer: Secret Time (2018) \\u2013 Transcript\"],[\"Demetri Martin: The Overthinker (2018) | Transcript\"],[\"BILL MAHER: LIVE FROM OKLAHOMA (2018) \\u2013 Full Transcript\"],[\"Rowan Atkinson Live (1992) \\u2013 Transcript\"],[\"Iliza Shlesinger: Confirmed Kills (2016) \\u2013 Full Transcript\"],[\"Iliza Shlesinger: Elder Millennial (2018) \\u2013 Full Transcript\"],[\"JIM GAFFIGAN: NOBLE APE (2018) \\u2013 Full Transcript\"],[\"Jim Norton: Contextually Inadequate (2015) \\u2013 Transcript\"],[\"Hannah Gadsby: Nanette (2018) \\u2013 Transcript\"],[\"BRAD WILLIAMS: DADDY ISSUES (2016) \\u2013 Full Transcript\"],[\"Deray Davis: How To Act Black (2017) \\u2013 Transcript\"],[\"RICKY GERVAIS: LIVE IV \\u2013 SCIENCE (2010) \\u2013 Full Transcript\"],[\"JIM JEFFERIES: THIS IS ME NOW (2018) \\u2013 Full transcript\"],[\"RUSSELL PETERS: OUTSOURCED (2006) \\u2013 Full Transcript\"],[\"RUSSELL PETERS: ALMOST FAMOUS (2016) \\u2013 Full Transcript\"],[\"RON WHITE: A LITTLE UNPROFESSIONAL (2012) \\u2013 Full Transcript\"],[\"MICHAEL MCINTYRE: HELLO WEMBLEY! (2009) \\u2013 Full Transcript\"],[\"KEVIN SMITH: SILENT BUT DEADLY (2018) \\u2013 Full Transcript\"],[\"KEVIN JAMES: NEVER DON\\u2019T GIVE UP (2018) \\u2013 Full Transcript\"],[\"BRENT MORIN: I\\u2019M BRENT MORIN (2015) \\u2013 Full Transcript\"],[\"NIKKI GLASER: PERFECT (2016) \\u2013 Full Transcript\"],[\"Ali Wong: Hard Knock Wife (2018) \\u2013 Transcript\"],[\"KAVIN JAY: EVERYBODY CALM DOWN! (2018) \\u2013 Full Transcript\"],[\"John Mulaney: Kid Gorgeous At Radio City (2018) \\u2013 Transcript\"],[\"Eddie Griffin: Undeniable (2018) \\u2013 Transcript\"],[\"GREG DAVIES: YOU MAGNIFICENT BEAST (2018) \\u2013 Full Transcript\"],[\"George Carlin: You Are All Diseased (1999) \\u2013 Transcript\"],[\"Marlon Wayans: Woke-Ish (2018) \\u2013 Transcript\"],[\"RICKY GERVAIS: HUMANITY (2018) \\u2013 Full Transcript\"],[\"ADEL KARAM: LIVE FROM BEIRUT (2018) \\u2013 Full Transcript\"],[\"STEWART LEE: 90s COMEDIAN (2006) \\u2013 Full Transcript\"],[\"Mike Birbiglia: My Girlfriend\\u2019s Boyfriend (2013) \\u2013 Transcript\"],[\"DAVE ATTELL: ROAD WORK (2014) \\u2013 Full Transcript\"],[\"Eddie Izzard \\u2013 Glorious (1997) \\u2013 Transcript\"],[\"Chris Rock: Bring the Pain (1996) \\u2013 Transcript\"],[\"ARI SHAFFIR: DOUBLE NEGATIVE (2017) \\u2013 Full Transcript\"],[\"Chris Rock: Tamborine (2018) \\u2013 Transcript\"],[\"FRED ARMISEN: STANDUP FOR DRUMMERS (2018) \\u2013 Full Transcript\"],[\"DANA CARVEY: STRAIGHT WHITE MALE, 60 (2016) \\u2013 Full Transcript\"],[\"EDDIE IZZARD: STRIPPED (2009) \\u2013 Full Transcript\"],[\"TODD GLASS: ACT HAPPY (2018) \\u2013 Full Transcript\"],[\"BRIAN REGAN: STANDING UP (2007) \\u2013 Full Transcript\"],[\"BRIAN REGAN: NUNCHUCKS AND FLAMETHROWERS (2017) \\u2013 Full Transcript\"],[\"Katt Williams: Great America (2018) \\u2013 Transcript\"],[\"JIMMY CARR: BEING FUNNY (2011) \\u2013 Full Transcript\"],[\"JIMMY CARR: LAUGHING AND JOKING (2013) \\u2013 Full Transcript\"],[\"Eddie Izzard: Unrepeatable (1994) | Transcript\"],[\"D.L. Hughley: Unapologetic (2007) \\u2013 Transcript\"],[\"BRIDGET EVERETT: GYNECOLOGICAL WONDER (2015) \\u2013 Full Transcript\"],[\"Chris Rock: Never Scared (2004) \\u2013 Transcript\"],[\"Stewart Lee: Stand-Up Comedian (2005) \\u2013 Transcript\"],[\"JIMMY CARR: FUNNY BUSINESS (2016) \\u2013 Full Transcript\"],[\"Eddie Izzard: Dress To Kill (1999) \\u2013 Transcript\"],[\"Chris Tucker: Live (2015) \\u2013 Transcript\"],[\"Kevin Hart: What Now (2016) \\u2013 Transcript\"],[\"Kevin Hart: Let Me Explain (2013) \\u2013 Transcript\"],[\"Tom Segura: Disgraceful (2018) \\u2013 Transcript\"],[\"MICHELLE WOLF: NICE LADY (2017) \\u2013 Full Transcript\"],[\"FAHIM ANWAR: THERE\\u2019S NO BUSINESS LIKE SHOW BUSINESS (2017) \\u2013 Transcript\"],[\"ELLEN DEGENERES: THE BEGINNING (2000) \\u2013 Full Transcript\"],[\"MAZ JOBRANI: IMMIGRANT (2017) \\u2013 Full Transcript\"],[\"TODD BARRY: SPICY HONEY (2017) \\u2013 Full Transcript\"],[\"Jerry Seinfeld: I\\u2019m Telling You for the Last Time (1998) \\u2013 Transcript\"],[\"Craig Ferguson: Does This Need To Be Said? (2011) \\u2013 Transcript\"],[\"Dave Chappelle: The Bird Revelation (2017) \\u2013 Transcript\"],[\"Dave Chappelle: Equanimity (2017) \\u2013 Transcript\"],[\"CRAIG FERGUSON: I\\u2019M HERE TO HELP (2013) \\u2013 Full Transcript\"],[\"RUSSELL HOWARD: RECALIBRATE (2017) \\u2013 Full Transcript\"],[\"WHITNEY CUMMINGS: I LOVE YOU (2014) \\u2013 Full Transcript\"],[\"WHITNEY CUMMINGS: I\\u2019M YOUR GIRLFRIEND (2016) \\u2013 Full Transcript\"],[\"SARAH MILLICAN: CHATTERBOX LIVE (2011) \\u2013 Full Transcript\"],[\"Anjelah Johnson: Not Fancy (2015) \\u2013 Transcript\"],[\"RICKY GERVAIS LIVE 2: POLITICS (2004) \\u2013 Full Transcript\"],[\"Russell Howard Live: Dingledodies (2009) \\u2013 Full Transcript\"],[\"CHRISTINA PAZSITZKY: MOTHER INFERIOR (2017) \\u2013 FULL TRANSCRIPT\"],[\"Jack Whitehall: At Large (2017) \\u2013 Transcript\"],[\"CRISTELA ALONZO: LOWER CLASSY (2017) \\u2013 Full Transcript\"],[\"JUDAH FRIEDLANDER: AMERICA IS THE GREATEST COUNTRY IN THE UNITED STATES (2017) \\u2013 Full Transcript\"],[\"AZIZ ANSARI: LIVE IN MADISON SQUARE GARDEN (2015) \\u2013 Full Transcript\"],[\"AZIZ ANSARI: BURIED ALIVE (2013) \\u2013 Full Transcript\"],[\"Paul Mooney: A Piece of My Mind \\u2013 Godbless America (2014) \\u2013 Transcript\"],[\"PATTON OSWALT: ANNIHILATION (2017) \\u2013 Full Transcript\"],[\"Chris Rock: Kill The Messenger \\u2013 London, New York, Johannesburg (2008) \\u2013 Transcript\"],[\"BILL MAHER: LIVE FROM D.C. (2014) \\u2013 Full Transcript\"],[\"Sarah Silverman: Jesus Is Magic (2005) \\u2013 Transcript\"],[\"SARAH SILVERMAN: WE ARE MIRACLES (2013) \\u2013 Full Transcript\"],[\"Pablo Francisco: Ouch! Live From San Jose (2006) \\u2013 Full Transcript\"],[\"BILL MAHER\\u2026 BUT I\\u2019M NOT WRONG (2010) \\u2013 Full Transcript\"],[\"RUSSELL BRAND: MESSIAH COMPLEX (2013) \\u2013 Full Transcript\"],[\"Chris Rock: Bigger & Blacker (1999) \\u2013 Transcript\"],[\"Gabriel Iglesias: Hot And Fluffy (2007) \\u2013 Transcript\"],[\"GABRIEL IGLESIAS: I\\u2019M NOT FAT \\u2026 I\\u2019M FLUFFY (2009) \\u2013 Full Transcript\"],[\"GABRIEL IGLESIAS: I\\u2019M SORRY FOR WHAT I SAID WHEN I WAS HUNGRY (2016) \\u2013 Full Transcript\"],[\"RORY SCOVEL TRIES STAND-UP FOR THE FIRST TIME (2017) \\u2013 Full Transcript\"],[\"LISA LAMPANELLI: BACK TO THE DRAWING BOARD (2015) \\u2013 Full Transcript\"],[\"ERIK GRIFFIN: THE UGLY TRUTH (2017) \\u2013 Full Transcript\"],[\"JEN KIRKMAN: JUST KEEP LIVIN\\u2019? (2017) \\u2013 Full Transcript\"],[\"DANIEL TOSH: COMPLETELY SERIOUS (2007) \\u2013 Full Transcript\"],[\"AL MADRIGAL: WHY IS THE RABBIT CRYING? (2013) \\u2013 Full Transcript\"],[\"NEAL BRENNAN: 3 MICS (2017)- FULL TRANSCRIPT\"],[\"John Mulaney: New In Town (2012) \\u2013 Transcript\"],[\"Donald Glover: Weirdo (2012) \\u2013 Transcript\"],[\"ALI WONG: BABY COBRA (2016) \\u2013 Full Transcript\"],[\"Norm Macdonald: Hitler\\u2019s Dog, Gossip & Trickery (2017) \\u2013 Transcript\"],[\"DANIEL TOSH: PEOPLE PLEASER (2016) \\u2013 FULL TRANSCRIPT\"],[\"Marc Maron: More Later (2015) \\u2013 Full Transcript\"],[\"Dylan Moran: Off The Hook (2015) \\u2013 Transcript\"],[\"Richard Pryor: Live And Smokin\\u2019 (1971) \\u2013 Transcript\"],[\"RICHARD PRYOR: \\u2026HERE AND NOW (1983) \\u2013 Full Transcript\"],[\"AMY SCHUMER: MOSTLY SEX STUFF (2012) \\u2013 Full Transcript\"],[\"Jim Jefferies: Alcoholocaust (2010) \\u2013 Transcript\"],[\"AMY SCHUMER: LIVE AT THE APOLLO (2015) \\u2013 Full Transcript\"],[\"Kevin Hart: Seriously Funny (2010) \\u2013 Transcript\"],[\"Hannibal Buress: Comedy Camisado (2016) \\u2013 Transcript\"],[\"Neal Brennan: Women And Black Dudes (2014) \\u2013 Transcript\"],[\"NICK OFFERMAN: AMERICAN HAM (2014) \\u2013 Full Transcript\"],[\"AZIZ ANSARI: INTIMATE MOMENTS FOR A SENSUAL EVENING (2010) \\u2013 Full Transcript\"],[\"BIG JAY OAKERSON: LIVE AT WEBSTER HALL (2016) \\u2013 Full Transcript\"],[\"George Carlin at USC (1977) \\u2013 Full Transcript\"],[\"Jim Norton: Mouthful Of Shame (2017) Transcript\"],[\"Michael Che Matters (2016) \\u2013 Transcript\"],[\"Joe Rogan: Triggered (2016) \\u2013 Transcript\"],[\"Trevor Noah: Lost In Translation (2015) \\u2013 Transcript\"],[\"MARIA BAMFORD: OLD BABY (2017) \\u2013 FULL TRANSCRIPT\"],[\"Bo Burnham: What (2013) \\u2013 Transcript\"],[\"Bo Burnham: Make Happy (2016) \\u2013 Transcript\"],[\"ANTHONY JESELNIK: CALIGULA (2013) \\u2013 Full Transcript\"],[\"Anthony Jeselnik: Thoughts And Prayers (2015) \\u2013 Full Transcript\"],[\"John Mulaney: The Comeback Kid (2015) \\u2013 Transcript\"],[\"BILL HICKS: REVELATIONS (1993) \\u2013 FULL TRANSCRIPT\"],[\"LEWIS BLACK: BLACK TO THE FUTURE (2016) \\u2013 Full Transcript\"],[\"DOUG STANHOPE: BEFORE TURNING THE GUN ON HIMSELF (2012) \\u2013 Transcript\"],[\"DOUG STANHOPE: DEADBEAT HERO (2004) \\u2013 Transcript\"],[\"JIM JEFFERIES: CONTRABAND (2008) \\u2013 Full Transcript\"],[\"Mike Birbiglia: Thank God for Jokes (2017) \\u2013 Transcript\"],[\"SARAH SILVERMAN: A SPECK OF DUST (2017) \\u2013 Full Transcript\"],[\"GEORGE CARLIN: PLAYING WITH YOUR HEAD (1986) \\u2013 Full Transcript\"],[\"GEORGE CARLIN: AGAIN!* (1978) \\u2013 Full Transcript\"],[\"Louis C.K.: Chewed Up (2008) \\u2013 Transcript\"],[\"Tom Segura: Completely Normal (2014) \\u2013 Transcript\"],[\"GEORGE CARLIN: CARLIN ON CAMPUS (1984) \\u2013 Full Transcript\"],[\"Louis C.K.: Live at the Beacon Theatre (2011) \\u2013 Transcript\"],[\"RICKY GERVAIS: OUT OF ENGLAND 2 (2010) \\u2013 Full Transcript\"],[\"AMY SCHUMER: THE LEATHER SPECIAL (2017) \\u2013 Full Transcript\"],[\"JIM GAFFIGAN: CINCO (2017) \\u2013 Full Transcript\"],[\"JIM JEFFERIES: I SWEAR TO GOD (2009) \\u2013 FULL TRANSCRIPT\"],[\"LOUIS C.K.: HILARIOUS (2010) \\u2013 Full Transcript\"],[\"LOUIS C.K.: SHAMELESS (2007) \\u2013 Full Transcript\"],[\"BILL BURR: I\\u2019M SORRY YOU FEEL THAT WAY (2014) \\u2013 Full Transcript\"],[\"BILL BURR: YOU PEOPLE ARE ALL THE SAME (2012) \\u2013 Full Transcript\"],[\"Dave Chappelle: For What It\\u2019s Worth (2004) \\u2013 Transcript\"],[\"Dave Chappelle: Killin\\u2019 Them Softly (2000) \\u2013 Transcript\"],[\"Eddie Griffin: You Can Tell \\u2018Em I Said It! (2011) \\u2013 Transcript\"],[\"BILL BURR: WALK YOUR WAY OUT (2017) \\u2013 Full Transcript\"],[\"LOUIS C.K.: OH MY GOD (2013) \\u2013 Full Transcript\"],[\"LOUIS C.K.: LIVE AT  THE COMEDY STORE (2015) \\u2013 Transcript\"],[\"BILL HICKS: RELENTLESS (1991) \\u2013 Transcript\"],[\"Daniel Tosh: Happy Thoughts (2011) \\u2013 Transcript\"],[\"Patrice O\\u2019Neal: Elephant in the Room (2011) \\u2013 Transcript\"],[\"Katt Williams: Live (2006) \\u2013 Transcript\"],[\"Richard Pryor: Live in Concert (1979) \\u2013 Transcript\"],[\"RICHARD PRYOR: LIVE ON THE SUNSET STRIP (1982) \\u2013 Full Transcript\"],[\"Trevor Noah: Afraid Of The Dark (2017) \\u2013 Transcript\"],[\"JIM JEFFERIES: BARE (2014) \\u2013 Full Transcript\"],[\"Dave Chappelle: Deep in the Heart of Texas (2017) \\u2013 Transcript\"],[\"Tom Segura: Mostly Stories (2016) \\u2013 Transcript\"],[\"BILL BURR: LET IT GO (2010) \\u2013 TRANSCRIPT\"],[\"JIM JEFFERIES: FREEDUMB (2016) \\u2013 Full Transcript\"],[\"Eddie Murphy: Delirious (1983) \\u2013 Transcript\"],[\"Dave Chappelle: The Age of Spin (2017) \\u2013 Transcript\"],[\"GEORGE CARLIN: BACK IN TOWN (1996) \\u2013 Full transcript\"],[\"LOUIS C.K.: 2017 \\u2013 Full transcript\"],[\"George Carlin: Jamming in New York (1992) \\u2013 Transcript\"],[\"Reggie Watts: Spatial (2016) \\u2013 Full Transcript\"],[\"GEORGE CARLIN: COMPLAINTS AND GRIEVANCES (2001) \\u2013 FULL TRANSCRIPT\"],[\"GEORGE CARLIN: LIFE IS WORTH LOSING (2006) \\u2013 Transcript\"],[\"George Carlin: It\\u2019s Bad For Ya (2008) Full transcript\"],[\"Dave Chappelle: 8:46 \\u2013 Transcript\"],[\"JIM JEFFERIES ON GUN CONTROL [FULL TRANSCRIPT]\"]],\"hovertemplate\":\"Reggie Watts: Spatial (2016) \\u2013 Full Transcript=%{x}<br>description=%{customdata[0]}<extra></extra>\",\"legendgroup\":\"\",\"marker\":{\"color\":\"#636efa\"},\"name\":\"\",\"notched\":false,\"offsetgroup\":\"\",\"orientation\":\"h\",\"showlegend\":false,\"type\":\"box\",\"x\":[0.11018194775138507,-0.18979682899740422,0.3678346410347588,0.03032564343243442,0.16115162895046875,-0.2738300471895388,0.025140333306927068,0.18250263700416613,0.13002585558991092,0.4155120628980322,0.37383186122260176,0.3051867629882413,-0.033577264167434784,0.13344611272629997,-0.13586356605582509,-0.016140089353776838,0.1360217150235499,-0.1408212545405812,0.1502150138138305,0.3254103321815696,0.04956728779606016,0.5072809190759175,0.014614236628087973,0.062305077945490034,-0.014321591112133117,0.00405430665552374,0.056293988406646844,0.16938590283267807,-0.01578621865159173,0.5737227484020883,-0.1508652181061364,-0.030001402852497097,0.08454736300172509,0.29209227587520764,-0.38956142693600493,-0.06783630470589024,0.10145463177039026,0.2968843433392159,0.404360272406773,-0.19396386393605727,0.1289212658954416,0.5609640142682035,-0.06237896786507899,0.10535412634100594,0.12232356649973664,0.1621204638805016,-0.08409141072825696,-0.017011022696349597,0.3643499005342766,0.48523264899562096,0.16682019453899852,0.20294913194493308,0.36880727584855033,-0.07529199442052037,-0.09259394328152185,-0.16259936059584407,0.19533230488731074,0.4973206511678088,0.0157135709095981,0.3347503126717585,0.05240775962139276,-0.006567764307978952,0.2805260857479349,0.06165818896716529,0.33057428002640377,-0.00127454129478842,-0.1117411935585727,-0.008406431452486499,-0.44267452532905943,-0.030309289973081792,0.22081432930568792,0.2997108052382599,-0.07266653661724527,0.08289503464935542,0.1443050508829934,-0.030560533540358426,0.18502732657119564,-0.24147862591170116,0.15850336078649702,-0.2190142814401056,-0.06649562771874723,-0.08990448891083266,-0.024295275257605567,0.14248668951087023,-0.04981247249725636,0.33081046738339925,-0.07186833457801102,0.1526417303491721,0.1675837123632633,0.11734776990055995,0.29152424682946393,0.3346435376005893,0.15625560384330678,0.029373923778031164,0.16669689697963522,0.20013760467278266,0.16832954245088827,-0.055849215340373896,0.013285126350273638,0.1911049303388994,0.013350757510634637,0.01786300383695652,0.1644905333496925,0.06109064294684945,0.02166792999720471,-0.07376269366595518,0.24007874503300947,0.5171085052042278,-0.015697592103017514,-0.15305348531578378,0.42872660991372924,0.1548476829169541,0.24152334388074473,0.24862701477949584,0.40692027252339413,0.3207948665444528,-0.015408189056936236,0.5395025984452296,0.27981587108638273,0.01475392278738831,-0.14123782525456918,-0.27216632566275095,-0.07387284439009228,-0.3511618577056589,0.1754875045086327,0.02365107603919773,-0.009611116158557614,0.09324522911936166,0.1335229455231983,0.39728891495175855,0.4173520014278713,-0.18187798961282703,0.1637569918343474,-0.08876301496254162,0.20048695245818446,0.20139771444207757,0.3070246623700927,0.03842622794418224,-0.1251866471103099,0.0397978014935359,-0.20192425817420978,0.07389817041419866,0.18414858471296133,-0.4024112628394676,0.41928047494933507,0.47400857772357946,-0.1349595461729607,0.22355676130724605,-0.3663806896382078,0.2964302570239962,0.10728414078289754,0.11450904134184156,-0.22273250711512904,0.1062420503792843,-0.09955668563914702,0.10477846148838771,0.13515922675602668,-0.19508918959767596,0.06776875900634015,0.11409445833055126,0.32993105703110814,-0.20419539815723292,-0.26300712885280214,0.5824569175328488,0.2386645233562734,0.1281671920640306,0.15072999765720854,0.31256601940063555,0.45369463651038444,0.413481227489196,0.17256658857356844,0.12721745254422265,0.549905947013531,0.1786850324539651,0.05038124555856358,-0.03849996767267588,-0.033746083080904,0.00787266816777911,-0.012422968126091255,0.18857638387624898,-0.1407128860187596,-0.13394434148438567,0.13616092833183138,0.1565593132767678,0.12283755368094831,-0.03889745660933287,-0.055065838202989006,0.11886790115616373,0.2621781660870316,0.3379284194649504,0.009985468887929567,0.40480941354418437,0.21708158404293698,0.11195275415729196,-0.011110380066804357,-0.033065799164172134,-0.2834067484342881,-0.045629701901669234,0.18459671108935927,-0.07714277552606319,0.10767530147965239,-0.14130177934161708,0.3214595957503988,0.14361355193895994,0.29134407674885354,0.6373833809897673,0.10305901956698885,0.4423400177737185,0.19192577251144113,0.23895019471033818,0.13358954614298962,-0.02293419435958617,0.02951417853660196,0.02242433007151006,0.2475944291906942,0.4120163829465945,0.2927887840258885,0.5138542512334184,0.19008663596687136,-0.009589377731724455,0.1696128609299403,0.25678080096465433,0.33059569833900726,0.31245037848928875,0.48008919946656803,0.07515642101535465,0.30040869136458914,0.0739433833659909,0.40112287470300234,0.03323836702872401,-0.1381094184246721,-0.2544197301750428,-0.04930086354947823,-0.04277699279882284,0.28179708434058104,0.19703204947516573,0.003964621130607984,-0.003033121420363327,0.1282576533328557,0.13521685992178525,0.4111558618197888,-0.2964814194779098,0.20465827636282796,0.0656177515977129,0.0821385301871494,0.09700076271307564,0.07238117555333506,-0.19404701842216052,0.08582038765367996,-0.09478378155616973,-0.04519932435549766,0.06935616210305795,-0.1267000591857521,0.09472784215094876,0.21542570271926342,0.568954969129153,0.34553424972941066,0.187375311245514,0.17960897427529815,-0.16719574370366713,-0.03751616345446977,0.08957129205501013,-0.1345031559786465,-0.19476178158025265,-0.5160813143035449,-0.04426167870260876,0.2512139274101891,0.24494821861085453,-0.2939524827227521,-0.2527859065629774,-0.058478540717833496,0.04108575050213448,-0.14824348475081628,0.1645407250382177,0.456045052255014,0.12018227706353915,-0.35499607080138273,-0.158570497708945,-0.22677700507757464,-0.024870908243225978,0.030250445622760684,-0.026356206173193245,0.03805180801968401,0.22975955093926165,-0.012926316760429477,0.12419843202116942,0.13370044832232542,0.036991574432099494,0.30112969963727343,0.4379440170321117,0.08173870426545246,0.028958293032084623,0.1966929203150063,0.27790823369760365,-0.33671965293342804,-0.19269417812422307,0.2140354025329736,0.4924314952128859,-0.44669493352472467,-0.041263475582648125,-0.1721436847490569,-0.12485644739226885,0.19110463976826442,-0.14274029527598972,1.0000000000000004,-0.019626209083483143,-0.12359218103353654,-0.16124885512141401,-0.10990664433373229,0.1567808116510368],\"x0\":\" \",\"xaxis\":\"x\",\"y0\":\" \",\"yaxis\":\"y\"}],                        {\"boxmode\":\"group\",\"legend\":{\"tracegroupgap\":0},\"margin\":{\"t\":60},\"template\":{\"data\":{\"bar\":[{\"error_x\":{\"color\":\"#2a3f5f\"},\"error_y\":{\"color\":\"#2a3f5f\"},\"marker\":{\"line\":{\"color\":\"#E5ECF6\",\"width\":0.5},\"pattern\":{\"fillmode\":\"overlay\",\"size\":10,\"solidity\":0.2}},\"type\":\"bar\"}],\"barpolar\":[{\"marker\":{\"line\":{\"color\":\"#E5ECF6\",\"width\":0.5},\"pattern\":{\"fillmode\":\"overlay\",\"size\":10,\"solidity\":0.2}},\"type\":\"barpolar\"}],\"carpet\":[{\"aaxis\":{\"endlinecolor\":\"#2a3f5f\",\"gridcolor\":\"white\",\"linecolor\":\"white\",\"minorgridcolor\":\"white\",\"startlinecolor\":\"#2a3f5f\"},\"baxis\":{\"endlinecolor\":\"#2a3f5f\",\"gridcolor\":\"white\",\"linecolor\":\"white\",\"minorgridcolor\":\"white\",\"startlinecolor\":\"#2a3f5f\"},\"type\":\"carpet\"}],\"choropleth\":[{\"colorbar\":{\"outlinewidth\":0,\"ticks\":\"\"},\"type\":\"choropleth\"}],\"contour\":[{\"colorbar\":{\"outlinewidth\":0,\"ticks\":\"\"},\"colorscale\":[[0.0,\"#0d0887\"],[0.1111111111111111,\"#46039f\"],[0.2222222222222222,\"#7201a8\"],[0.3333333333333333,\"#9c179e\"],[0.4444444444444444,\"#bd3786\"],[0.5555555555555556,\"#d8576b\"],[0.6666666666666666,\"#ed7953\"],[0.7777777777777778,\"#fb9f3a\"],[0.8888888888888888,\"#fdca26\"],[1.0,\"#f0f921\"]],\"type\":\"contour\"}],\"contourcarpet\":[{\"colorbar\":{\"outlinewidth\":0,\"ticks\":\"\"},\"type\":\"contourcarpet\"}],\"heatmap\":[{\"colorbar\":{\"outlinewidth\":0,\"ticks\":\"\"},\"colorscale\":[[0.0,\"#0d0887\"],[0.1111111111111111,\"#46039f\"],[0.2222222222222222,\"#7201a8\"],[0.3333333333333333,\"#9c179e\"],[0.4444444444444444,\"#bd3786\"],[0.5555555555555556,\"#d8576b\"],[0.6666666666666666,\"#ed7953\"],[0.7777777777777778,\"#fb9f3a\"],[0.8888888888888888,\"#fdca26\"],[1.0,\"#f0f921\"]],\"type\":\"heatmap\"}],\"heatmapgl\":[{\"colorbar\":{\"outlinewidth\":0,\"ticks\":\"\"},\"colorscale\":[[0.0,\"#0d0887\"],[0.1111111111111111,\"#46039f\"],[0.2222222222222222,\"#7201a8\"],[0.3333333333333333,\"#9c179e\"],[0.4444444444444444,\"#bd3786\"],[0.5555555555555556,\"#d8576b\"],[0.6666666666666666,\"#ed7953\"],[0.7777777777777778,\"#fb9f3a\"],[0.8888888888888888,\"#fdca26\"],[1.0,\"#f0f921\"]],\"type\":\"heatmapgl\"}],\"histogram\":[{\"marker\":{\"pattern\":{\"fillmode\":\"overlay\",\"size\":10,\"solidity\":0.2}},\"type\":\"histogram\"}],\"histogram2d\":[{\"colorbar\":{\"outlinewidth\":0,\"ticks\":\"\"},\"colorscale\":[[0.0,\"#0d0887\"],[0.1111111111111111,\"#46039f\"],[0.2222222222222222,\"#7201a8\"],[0.3333333333333333,\"#9c179e\"],[0.4444444444444444,\"#bd3786\"],[0.5555555555555556,\"#d8576b\"],[0.6666666666666666,\"#ed7953\"],[0.7777777777777778,\"#fb9f3a\"],[0.8888888888888888,\"#fdca26\"],[1.0,\"#f0f921\"]],\"type\":\"histogram2d\"}],\"histogram2dcontour\":[{\"colorbar\":{\"outlinewidth\":0,\"ticks\":\"\"},\"colorscale\":[[0.0,\"#0d0887\"],[0.1111111111111111,\"#46039f\"],[0.2222222222222222,\"#7201a8\"],[0.3333333333333333,\"#9c179e\"],[0.4444444444444444,\"#bd3786\"],[0.5555555555555556,\"#d8576b\"],[0.6666666666666666,\"#ed7953\"],[0.7777777777777778,\"#fb9f3a\"],[0.8888888888888888,\"#fdca26\"],[1.0,\"#f0f921\"]],\"type\":\"histogram2dcontour\"}],\"mesh3d\":[{\"colorbar\":{\"outlinewidth\":0,\"ticks\":\"\"},\"type\":\"mesh3d\"}],\"parcoords\":[{\"line\":{\"colorbar\":{\"outlinewidth\":0,\"ticks\":\"\"}},\"type\":\"parcoords\"}],\"pie\":[{\"automargin\":true,\"type\":\"pie\"}],\"scatter\":[{\"marker\":{\"colorbar\":{\"outlinewidth\":0,\"ticks\":\"\"}},\"type\":\"scatter\"}],\"scatter3d\":[{\"line\":{\"colorbar\":{\"outlinewidth\":0,\"ticks\":\"\"}},\"marker\":{\"colorbar\":{\"outlinewidth\":0,\"ticks\":\"\"}},\"type\":\"scatter3d\"}],\"scattercarpet\":[{\"marker\":{\"colorbar\":{\"outlinewidth\":0,\"ticks\":\"\"}},\"type\":\"scattercarpet\"}],\"scattergeo\":[{\"marker\":{\"colorbar\":{\"outlinewidth\":0,\"ticks\":\"\"}},\"type\":\"scattergeo\"}],\"scattergl\":[{\"marker\":{\"colorbar\":{\"outlinewidth\":0,\"ticks\":\"\"}},\"type\":\"scattergl\"}],\"scattermapbox\":[{\"marker\":{\"colorbar\":{\"outlinewidth\":0,\"ticks\":\"\"}},\"type\":\"scattermapbox\"}],\"scatterpolar\":[{\"marker\":{\"colorbar\":{\"outlinewidth\":0,\"ticks\":\"\"}},\"type\":\"scatterpolar\"}],\"scatterpolargl\":[{\"marker\":{\"colorbar\":{\"outlinewidth\":0,\"ticks\":\"\"}},\"type\":\"scatterpolargl\"}],\"scatterternary\":[{\"marker\":{\"colorbar\":{\"outlinewidth\":0,\"ticks\":\"\"}},\"type\":\"scatterternary\"}],\"surface\":[{\"colorbar\":{\"outlinewidth\":0,\"ticks\":\"\"},\"colorscale\":[[0.0,\"#0d0887\"],[0.1111111111111111,\"#46039f\"],[0.2222222222222222,\"#7201a8\"],[0.3333333333333333,\"#9c179e\"],[0.4444444444444444,\"#bd3786\"],[0.5555555555555556,\"#d8576b\"],[0.6666666666666666,\"#ed7953\"],[0.7777777777777778,\"#fb9f3a\"],[0.8888888888888888,\"#fdca26\"],[1.0,\"#f0f921\"]],\"type\":\"surface\"}],\"table\":[{\"cells\":{\"fill\":{\"color\":\"#EBF0F8\"},\"line\":{\"color\":\"white\"}},\"header\":{\"fill\":{\"color\":\"#C8D4E3\"},\"line\":{\"color\":\"white\"}},\"type\":\"table\"}]},\"layout\":{\"annotationdefaults\":{\"arrowcolor\":\"#2a3f5f\",\"arrowhead\":0,\"arrowwidth\":1},\"autotypenumbers\":\"strict\",\"coloraxis\":{\"colorbar\":{\"outlinewidth\":0,\"ticks\":\"\"}},\"colorscale\":{\"diverging\":[[0,\"#8e0152\"],[0.1,\"#c51b7d\"],[0.2,\"#de77ae\"],[0.3,\"#f1b6da\"],[0.4,\"#fde0ef\"],[0.5,\"#f7f7f7\"],[0.6,\"#e6f5d0\"],[0.7,\"#b8e186\"],[0.8,\"#7fbc41\"],[0.9,\"#4d9221\"],[1,\"#276419\"]],\"sequential\":[[0.0,\"#0d0887\"],[0.1111111111111111,\"#46039f\"],[0.2222222222222222,\"#7201a8\"],[0.3333333333333333,\"#9c179e\"],[0.4444444444444444,\"#bd3786\"],[0.5555555555555556,\"#d8576b\"],[0.6666666666666666,\"#ed7953\"],[0.7777777777777778,\"#fb9f3a\"],[0.8888888888888888,\"#fdca26\"],[1.0,\"#f0f921\"]],\"sequentialminus\":[[0.0,\"#0d0887\"],[0.1111111111111111,\"#46039f\"],[0.2222222222222222,\"#7201a8\"],[0.3333333333333333,\"#9c179e\"],[0.4444444444444444,\"#bd3786\"],[0.5555555555555556,\"#d8576b\"],[0.6666666666666666,\"#ed7953\"],[0.7777777777777778,\"#fb9f3a\"],[0.8888888888888888,\"#fdca26\"],[1.0,\"#f0f921\"]]},\"colorway\":[\"#636efa\",\"#EF553B\",\"#00cc96\",\"#ab63fa\",\"#FFA15A\",\"#19d3f3\",\"#FF6692\",\"#B6E880\",\"#FF97FF\",\"#FECB52\"],\"font\":{\"color\":\"#2a3f5f\"},\"geo\":{\"bgcolor\":\"white\",\"lakecolor\":\"white\",\"landcolor\":\"#E5ECF6\",\"showlakes\":true,\"showland\":true,\"subunitcolor\":\"white\"},\"hoverlabel\":{\"align\":\"left\"},\"hovermode\":\"closest\",\"mapbox\":{\"style\":\"light\"},\"paper_bgcolor\":\"white\",\"plot_bgcolor\":\"#E5ECF6\",\"polar\":{\"angularaxis\":{\"gridcolor\":\"white\",\"linecolor\":\"white\",\"ticks\":\"\"},\"bgcolor\":\"#E5ECF6\",\"radialaxis\":{\"gridcolor\":\"white\",\"linecolor\":\"white\",\"ticks\":\"\"}},\"scene\":{\"xaxis\":{\"backgroundcolor\":\"#E5ECF6\",\"gridcolor\":\"white\",\"gridwidth\":2,\"linecolor\":\"white\",\"showbackground\":true,\"ticks\":\"\",\"zerolinecolor\":\"white\"},\"yaxis\":{\"backgroundcolor\":\"#E5ECF6\",\"gridcolor\":\"white\",\"gridwidth\":2,\"linecolor\":\"white\",\"showbackground\":true,\"ticks\":\"\",\"zerolinecolor\":\"white\"},\"zaxis\":{\"backgroundcolor\":\"#E5ECF6\",\"gridcolor\":\"white\",\"gridwidth\":2,\"linecolor\":\"white\",\"showbackground\":true,\"ticks\":\"\",\"zerolinecolor\":\"white\"}},\"shapedefaults\":{\"line\":{\"color\":\"#2a3f5f\"}},\"ternary\":{\"aaxis\":{\"gridcolor\":\"white\",\"linecolor\":\"white\",\"ticks\":\"\"},\"baxis\":{\"gridcolor\":\"white\",\"linecolor\":\"white\",\"ticks\":\"\"},\"bgcolor\":\"#E5ECF6\",\"caxis\":{\"gridcolor\":\"white\",\"linecolor\":\"white\",\"ticks\":\"\"}},\"title\":{\"x\":0.05},\"xaxis\":{\"automargin\":true,\"gridcolor\":\"white\",\"linecolor\":\"white\",\"ticks\":\"\",\"title\":{\"standoff\":15},\"zerolinecolor\":\"white\",\"zerolinewidth\":2},\"yaxis\":{\"automargin\":true,\"gridcolor\":\"white\",\"linecolor\":\"white\",\"ticks\":\"\",\"title\":{\"standoff\":15},\"zerolinecolor\":\"white\",\"zerolinewidth\":2}}},\"xaxis\":{\"anchor\":\"y\",\"domain\":[0.0,1.0],\"title\":{\"text\":\"Reggie Watts: Spatial (2016) \\u2013 Full Transcript\"}},\"yaxis\":{\"anchor\":\"x\",\"domain\":[0.0,1.0]}},                        {\"responsive\": true}                    ).then(function(){\n",
       "                            \n",
       "var gd = document.getElementById('3cd9fc9c-b303-42fe-ad84-85b51bbcfcf8');\n",
       "var x = new MutationObserver(function (mutations, observer) {{\n",
       "        var display = window.getComputedStyle(gd).display;\n",
       "        if (!display || display === 'none') {{\n",
       "            console.log([gd, 'removed!']);\n",
       "            Plotly.purge(gd);\n",
       "            observer.disconnect();\n",
       "        }}\n",
       "}});\n",
       "\n",
       "// Listen for the removal of the full notebook cells\n",
       "var notebookContainer = gd.closest('#notebook-container');\n",
       "if (notebookContainer) {{\n",
       "    x.observe(notebookContainer, {childList: true});\n",
       "}}\n",
       "\n",
       "// Listen for the clearing of the current output cell\n",
       "var outputEl = gd.closest('.output');\n",
       "if (outputEl) {{\n",
       "    x.observe(outputEl, {childList: true});\n",
       "}}\n",
       "\n",
       "                        })                };                });            </script>        </div>"
      ]
     },
     "metadata": {},
     "output_type": "display_data"
    }
   ],
   "source": [
    "px.box(cosims_means_df, x = 'Reggie Watts: Spatial (2016) – Full Transcript', hover_data = [cosims_means_df.index], points = 'all')"
   ]
  },
  {
   "cell_type": "markdown",
   "id": "2dc05890",
   "metadata": {
    "slideshow": {
     "slide_type": "skip"
    }
   },
   "source": [
    "### make cosims_means_df long"
   ]
  },
  {
   "cell_type": "code",
   "execution_count": 566,
   "id": "b5c072e9",
   "metadata": {
    "slideshow": {
     "slide_type": "skip"
    }
   },
   "outputs": [],
   "source": [
    "cosims_means_df_long = (cosims_means_df.melt(var_name = 'other description', \n",
    "                                            value_name = 'cosine similarity', \n",
    "                                            ignore_index = False)\n",
    "                                      .reset_index()\n",
    "                       )\n",
    "#cosims_means_df_long[cosims_means_df_long['cosine similarity'] != 1]"
   ]
  },
  {
   "cell_type": "code",
   "execution_count": 567,
   "id": "59fe3081",
   "metadata": {
    "slideshow": {
     "slide_type": "skip"
    }
   },
   "outputs": [
    {
     "data": {
      "text/html": [
       "<div>\n",
       "<style scoped>\n",
       "    .dataframe tbody tr th:only-of-type {\n",
       "        vertical-align: middle;\n",
       "    }\n",
       "\n",
       "    .dataframe tbody tr th {\n",
       "        vertical-align: top;\n",
       "    }\n",
       "\n",
       "    .dataframe thead th {\n",
       "        text-align: right;\n",
       "    }\n",
       "</style>\n",
       "<table border=\"1\" class=\"dataframe\">\n",
       "  <thead>\n",
       "    <tr style=\"text-align: right;\">\n",
       "      <th></th>\n",
       "      <th>description</th>\n",
       "      <th>other description</th>\n",
       "      <th>cosine similarity</th>\n",
       "      <th>fullTitle</th>\n",
       "      <th>artist</th>\n",
       "      <th>link</th>\n",
       "      <th>transcript</th>\n",
       "      <th>script characters</th>\n",
       "      <th>id</th>\n",
       "      <th>other artist</th>\n",
       "      <th>...</th>\n",
       "      <th>mean sentence polarity</th>\n",
       "      <th>Q1.0 sentence polarity</th>\n",
       "      <th>Q2.0 sentence polarity</th>\n",
       "      <th>Q3.0 sentence polarity</th>\n",
       "      <th>std sentence polarity</th>\n",
       "      <th>mean sentence subjectivity</th>\n",
       "      <th>Q1.0 sentence subjectivity</th>\n",
       "      <th>Q2.0 sentence subjectivity</th>\n",
       "      <th>Q3.0 sentence subjectivity</th>\n",
       "      <th>std sentence subjectivity</th>\n",
       "    </tr>\n",
       "  </thead>\n",
       "  <tbody>\n",
       "    <tr>\n",
       "      <th>0</th>\n",
       "      <td>Jim Gaffigan: Comedy Monster (2021) | Transcript</td>\n",
       "      <td>Jim Gaffigan: Comedy Monster (2021) | Transcript</td>\n",
       "      <td>1.000000</td>\n",
       "      <td>Jim Gaffigan: Comedy Monster (2021)</td>\n",
       "      <td>Jim Gaffigan</td>\n",
       "      <td>https://scrapsfromtheloft.com/comedy/jim-gaffi...</td>\n",
       "      <td>Thank you! Thank you! Oh, my gosh. Thank you s...</td>\n",
       "      <td>49799</td>\n",
       "      <td>tt15907298</td>\n",
       "      <td>Jim Gaffigan</td>\n",
       "      <td>...</td>\n",
       "      <td>0.04718</td>\n",
       "      <td>0.0</td>\n",
       "      <td>0.0</td>\n",
       "      <td>0.069053</td>\n",
       "      <td>0.26312</td>\n",
       "      <td>0.25107</td>\n",
       "      <td>0.0</td>\n",
       "      <td>0.0</td>\n",
       "      <td>0.5</td>\n",
       "      <td>0.33466</td>\n",
       "    </tr>\n",
       "    <tr>\n",
       "      <th>1</th>\n",
       "      <td>Louis C. K.: Sorry (2021) | Transcript</td>\n",
       "      <td>Jim Gaffigan: Comedy Monster (2021) | Transcript</td>\n",
       "      <td>-0.154943</td>\n",
       "      <td>Sorry (2021)</td>\n",
       "      <td>Louis C.K.</td>\n",
       "      <td>https://scrapsfromtheloft.com/comedy/jim-gaffi...</td>\n",
       "      <td>Thank you! Thank you! Oh, my gosh. Thank you s...</td>\n",
       "      <td>49799</td>\n",
       "      <td>tt15907298</td>\n",
       "      <td>Jim Gaffigan</td>\n",
       "      <td>...</td>\n",
       "      <td>0.04718</td>\n",
       "      <td>0.0</td>\n",
       "      <td>0.0</td>\n",
       "      <td>0.069053</td>\n",
       "      <td>0.26312</td>\n",
       "      <td>0.25107</td>\n",
       "      <td>0.0</td>\n",
       "      <td>0.0</td>\n",
       "      <td>0.5</td>\n",
       "      <td>0.33466</td>\n",
       "    </tr>\n",
       "    <tr>\n",
       "      <th>2</th>\n",
       "      <td>Drew Michael: Drew Michael (2018) | Transcript</td>\n",
       "      <td>Jim Gaffigan: Comedy Monster (2021) | Transcript</td>\n",
       "      <td>0.141693</td>\n",
       "      <td>Drew Michael: Drew Michael (2018)</td>\n",
       "      <td>Drew Michael</td>\n",
       "      <td>https://scrapsfromtheloft.com/comedy/jim-gaffi...</td>\n",
       "      <td>Thank you! Thank you! Oh, my gosh. Thank you s...</td>\n",
       "      <td>49799</td>\n",
       "      <td>tt15907298</td>\n",
       "      <td>Jim Gaffigan</td>\n",
       "      <td>...</td>\n",
       "      <td>0.04718</td>\n",
       "      <td>0.0</td>\n",
       "      <td>0.0</td>\n",
       "      <td>0.069053</td>\n",
       "      <td>0.26312</td>\n",
       "      <td>0.25107</td>\n",
       "      <td>0.0</td>\n",
       "      <td>0.0</td>\n",
       "      <td>0.5</td>\n",
       "      <td>0.33466</td>\n",
       "    </tr>\n",
       "  </tbody>\n",
       "</table>\n",
       "<p>3 rows × 62 columns</p>\n",
       "</div>"
      ],
      "text/plain": [
       "                                        description  \\\n",
       "0  Jim Gaffigan: Comedy Monster (2021) | Transcript   \n",
       "1            Louis C. K.: Sorry (2021) | Transcript   \n",
       "2    Drew Michael: Drew Michael (2018) | Transcript   \n",
       "\n",
       "                                  other description  cosine similarity  \\\n",
       "0  Jim Gaffigan: Comedy Monster (2021) | Transcript           1.000000   \n",
       "1  Jim Gaffigan: Comedy Monster (2021) | Transcript          -0.154943   \n",
       "2  Jim Gaffigan: Comedy Monster (2021) | Transcript           0.141693   \n",
       "\n",
       "                             fullTitle        artist  \\\n",
       "0  Jim Gaffigan: Comedy Monster (2021)  Jim Gaffigan   \n",
       "1                         Sorry (2021)    Louis C.K.   \n",
       "2    Drew Michael: Drew Michael (2018)  Drew Michael   \n",
       "\n",
       "                                                link  \\\n",
       "0  https://scrapsfromtheloft.com/comedy/jim-gaffi...   \n",
       "1  https://scrapsfromtheloft.com/comedy/jim-gaffi...   \n",
       "2  https://scrapsfromtheloft.com/comedy/jim-gaffi...   \n",
       "\n",
       "                                          transcript  script characters  \\\n",
       "0  Thank you! Thank you! Oh, my gosh. Thank you s...              49799   \n",
       "1  Thank you! Thank you! Oh, my gosh. Thank you s...              49799   \n",
       "2  Thank you! Thank you! Oh, my gosh. Thank you s...              49799   \n",
       "\n",
       "           id  other artist  ... mean sentence polarity  \\\n",
       "0  tt15907298  Jim Gaffigan  ...                0.04718   \n",
       "1  tt15907298  Jim Gaffigan  ...                0.04718   \n",
       "2  tt15907298  Jim Gaffigan  ...                0.04718   \n",
       "\n",
       "  Q1.0 sentence polarity  Q2.0 sentence polarity Q3.0 sentence polarity  \\\n",
       "0                    0.0                     0.0               0.069053   \n",
       "1                    0.0                     0.0               0.069053   \n",
       "2                    0.0                     0.0               0.069053   \n",
       "\n",
       "  std sentence polarity  mean sentence subjectivity  \\\n",
       "0               0.26312                     0.25107   \n",
       "1               0.26312                     0.25107   \n",
       "2               0.26312                     0.25107   \n",
       "\n",
       "  Q1.0 sentence subjectivity Q2.0 sentence subjectivity  \\\n",
       "0                        0.0                        0.0   \n",
       "1                        0.0                        0.0   \n",
       "2                        0.0                        0.0   \n",
       "\n",
       "  Q3.0 sentence subjectivity std sentence subjectivity  \n",
       "0                        0.5                   0.33466  \n",
       "1                        0.5                   0.33466  \n",
       "2                        0.5                   0.33466  \n",
       "\n",
       "[3 rows x 62 columns]"
      ]
     },
     "execution_count": 567,
     "metadata": {},
     "output_type": "execute_result"
    }
   ],
   "source": [
    "widget_df = (cosims_means_df_long\n",
    "                .merge(metascripts[['description', 'fullTitle', 'artist']])\n",
    "                .merge(metascripts, \n",
    "                       left_on = 'other description', \n",
    "                       right_on = 'description')\n",
    "                    .rename(columns = {'description_x': 'description',\n",
    "                                       'fullTitle_x': 'fullTitle',\n",
    "                                       'fullTitle_y': 'other fullTitle',\n",
    "                                       'artist_x': 'artist',\n",
    "                                       'artist_y': 'other artist'})\n",
    "                    .drop(columns = 'description_y')\n",
    "        )\n",
    "\n",
    "widget_df.head(3)"
   ]
  },
  {
   "cell_type": "code",
   "execution_count": 568,
   "id": "44e8e398",
   "metadata": {
    "slideshow": {
     "slide_type": "skip"
    }
   },
   "outputs": [],
   "source": [
    "widget_df['image html'] = widget_df['image'].apply(lambda x: f\"<img src='{x}' width='100px'>\")"
   ]
  },
  {
   "cell_type": "code",
   "execution_count": 569,
   "id": "8b3f1b52",
   "metadata": {
    "slideshow": {
     "slide_type": "skip"
    }
   },
   "outputs": [],
   "source": [
    "from ipywidgets import interact\n",
    "import ipywidgets\n",
    "from IPython.display import Image, HTML\n",
    "from random import randrange\n",
    "\n",
    "def show_df(NewArtistsOnly, Show):\n",
    "    if NewArtistsOnly:\n",
    "        filtered = widget_df[(widget_df['fullTitle'] == Show) \n",
    "                             & \n",
    "                             (\n",
    "                                 (widget_df['artist'] != widget_df['other artist']) \n",
    "                                 | \n",
    "                                 (widget_df['cosine similarity'] >= 0.9999999)\n",
    "                             )\n",
    "                            ]\n",
    "        tops = filtered.nlargest(6, 'cosine similarity')\n",
    "        bottom = filtered.nsmallest(1, 'cosine similarity')\n",
    "        topbottom = pd.concat([tops, bottom]).reset_index()\n",
    "        output_df = topbottom[['title', 'year', 'image html', 'cosine similarity']].T\n",
    "        output_df.columns = ['Selection', 'Recommendation 1', 'Recommendation 2', 'Recommendation 3', 'Recommendation 4', 'Recommendation 5', 'Something Different']\n",
    "        output_df.index = output_df.index.str.title()\n",
    "        output = HTML(output_df.to_html(escape=False))\n",
    "    else:\n",
    "        filtered = widget_df[widget_df['fullTitle'] == Show]\n",
    "        tops = filtered.nlargest(6, 'cosine similarity')\n",
    "        bottom = filtered.nsmallest(1, 'cosine similarity')\n",
    "        topbottom = pd.concat([tops, bottom]).reset_index()\n",
    "        output_df = topbottom[['title', 'year', 'image html', 'cosine similarity']].T\n",
    "        output_df.columns = ['Selection', 'Recommendation 1', 'Recommendation 2', 'Recommendation 3', 'Recommendation 4', 'Recommendation 5', 'Something Different']\n",
    "        output_df.index = output_df.index.str.title()\n",
    "        output = HTML(output_df.to_html(escape=False))\n",
    "    return output\n",
    "\n",
    "def what_should_i_watch():\n",
    "    unique_show_titles = widget_df['fullTitle'].sort_values().unique()\n",
    "    random_index = randrange(len(unique_show_titles))\n",
    "    starting_show = unique_show_titles[random_index]\n",
    "    show_selection_combobox = ipywidgets.Combobox(\n",
    "                                value=starting_show,\n",
    "                                placeholder='Start typing a show or artist',\n",
    "                                options=list(unique_show_titles),\n",
    "                                description='Select a Show',\n",
    "                                ensure_option=True,\n",
    "                                disabled=False\n",
    "                            )\n",
    "#     show_selection_widget = ipywidgets.Dropdown(\n",
    "#                                     options = unique_show_titles,\n",
    "#                                     value = starting_show,\n",
    "#                                     description = 'Select a Show',\n",
    "#                                     disabled = False,\n",
    "#                                 )\n",
    "    new_artists_filter_widget = ipywidgets.Checkbox(\n",
    "                                    value = False,\n",
    "                                    description ='Show Only Other Artists?',\n",
    "                                    disabled =False,\n",
    "                                )\n",
    "    return interact(show_df, NewArtistsOnly = new_artists_filter_widget, Show = show_selection_combobox)"
   ]
  },
  {
   "cell_type": "code",
   "execution_count": 570,
   "id": "b83bcb3c",
   "metadata": {
    "slideshow": {
     "slide_type": "slide"
    }
   },
   "outputs": [
    {
     "data": {
      "application/vnd.jupyter.widget-view+json": {
       "model_id": "3affd462a0244e3982ab2d105c2e4885",
       "version_major": 2,
       "version_minor": 0
      },
      "text/plain": [
       "interactive(children=(Checkbox(value=False, description='Show Only Other Artists?'), Combobox(value='Michael M…"
      ]
     },
     "metadata": {},
     "output_type": "display_data"
    },
    {
     "data": {
      "text/plain": [
       "<function __main__.show_df(NewArtistsOnly, Show)>"
      ]
     },
     "execution_count": 570,
     "metadata": {},
     "output_type": "execute_result"
    }
   ],
   "source": [
    "what_should_i_watch()"
   ]
  },
  {
   "cell_type": "code",
   "execution_count": 669,
   "metadata": {},
   "outputs": [
    {
     "data": {
      "text/html": [
       "<div>\n",
       "<style scoped>\n",
       "    .dataframe tbody tr th:only-of-type {\n",
       "        vertical-align: middle;\n",
       "    }\n",
       "\n",
       "    .dataframe tbody tr th {\n",
       "        vertical-align: top;\n",
       "    }\n",
       "\n",
       "    .dataframe thead th {\n",
       "        text-align: right;\n",
       "    }\n",
       "</style>\n",
       "<table border=\"1\" class=\"dataframe\">\n",
       "  <thead>\n",
       "    <tr style=\"text-align: right;\">\n",
       "      <th></th>\n",
       "      <th>description</th>\n",
       "      <th>other description</th>\n",
       "      <th>cosine similarity</th>\n",
       "      <th>fullTitle</th>\n",
       "      <th>artist</th>\n",
       "      <th>link</th>\n",
       "      <th>transcript</th>\n",
       "      <th>script characters</th>\n",
       "      <th>id</th>\n",
       "      <th>other artist</th>\n",
       "      <th>...</th>\n",
       "      <th>Q1.0 sentence polarity</th>\n",
       "      <th>Q2.0 sentence polarity</th>\n",
       "      <th>Q3.0 sentence polarity</th>\n",
       "      <th>std sentence polarity</th>\n",
       "      <th>mean sentence subjectivity</th>\n",
       "      <th>Q1.0 sentence subjectivity</th>\n",
       "      <th>Q2.0 sentence subjectivity</th>\n",
       "      <th>Q3.0 sentence subjectivity</th>\n",
       "      <th>std sentence subjectivity</th>\n",
       "      <th>image html</th>\n",
       "    </tr>\n",
       "  </thead>\n",
       "  <tbody>\n",
       "    <tr>\n",
       "      <th>32033</th>\n",
       "      <td>Nate Bargatze: The Tennessee Kid (2019) – Full...</td>\n",
       "      <td>Nate Bargatze: The Tennessee Kid (2019) – Full...</td>\n",
       "      <td>1.000000</td>\n",
       "      <td>Nate Bargatze: The Tennessee Kid (2019)</td>\n",
       "      <td>Nate Bargatze</td>\n",
       "      <td>https://scrapsfromtheloft.com/comedy/nate-barg...</td>\n",
       "      <td>Please welcome my daddy, Nate Bargatze. We're ...</td>\n",
       "      <td>51406</td>\n",
       "      <td>tt9861504</td>\n",
       "      <td>Nate Bargatze</td>\n",
       "      <td>...</td>\n",
       "      <td>0.000</td>\n",
       "      <td>0.0</td>\n",
       "      <td>0.100000</td>\n",
       "      <td>0.237583</td>\n",
       "      <td>0.236536</td>\n",
       "      <td>0.0</td>\n",
       "      <td>0.000000</td>\n",
       "      <td>0.500000</td>\n",
       "      <td>0.313811</td>\n",
       "      <td>&lt;img src='https://imdb-api.com/images/original...</td>\n",
       "    </tr>\n",
       "    <tr>\n",
       "      <th>46913</th>\n",
       "      <td>Nate Bargatze: The Tennessee Kid (2019) – Full...</td>\n",
       "      <td>NIKKI GLASER: PERFECT (2016) – Full Transcript</td>\n",
       "      <td>0.804317</td>\n",
       "      <td>Nate Bargatze: The Tennessee Kid (2019)</td>\n",
       "      <td>Nate Bargatze</td>\n",
       "      <td>https://scrapsfromtheloft.com/comedy/nikki-gla...</td>\n",
       "      <td>* * Ooh, ooh, ooh, ooh, ooh, ooh, ooh, ooh * *...</td>\n",
       "      <td>58705</td>\n",
       "      <td>tt5675632</td>\n",
       "      <td>Nikki Glaser</td>\n",
       "      <td>...</td>\n",
       "      <td>0.000</td>\n",
       "      <td>0.0</td>\n",
       "      <td>0.200000</td>\n",
       "      <td>0.290229</td>\n",
       "      <td>0.276549</td>\n",
       "      <td>0.0</td>\n",
       "      <td>0.000000</td>\n",
       "      <td>0.550000</td>\n",
       "      <td>0.337490</td>\n",
       "      <td>&lt;img src='https://imdb-api.com/images/original...</td>\n",
       "    </tr>\n",
       "    <tr>\n",
       "      <th>4753</th>\n",
       "      <td>Nate Bargatze: The Tennessee Kid (2019) – Full...</td>\n",
       "      <td>Nate Bargatze: The Greatest Average American (...</td>\n",
       "      <td>0.790999</td>\n",
       "      <td>Nate Bargatze: The Tennessee Kid (2019)</td>\n",
       "      <td>Nate Bargatze</td>\n",
       "      <td>https://scrapsfromtheloft.com/comedy/nate-barg...</td>\n",
       "      <td>♪ Family ♪\\n♪ Singin' in the kitchen ♪\\n♪ Fam...</td>\n",
       "      <td>56879</td>\n",
       "      <td>tt14078164</td>\n",
       "      <td>Nate Bargatze</td>\n",
       "      <td>...</td>\n",
       "      <td>0.000</td>\n",
       "      <td>0.0</td>\n",
       "      <td>0.000000</td>\n",
       "      <td>0.216212</td>\n",
       "      <td>0.212798</td>\n",
       "      <td>0.0</td>\n",
       "      <td>0.000000</td>\n",
       "      <td>0.467857</td>\n",
       "      <td>0.302321</td>\n",
       "      <td>&lt;img src='https://imdb-api.com/images/original...</td>\n",
       "    </tr>\n",
       "    <tr>\n",
       "      <th>32963</th>\n",
       "      <td>Nate Bargatze: The Tennessee Kid (2019) – Full...</td>\n",
       "      <td>Nate Bargatze: Full Time Magic (2015) – Full T...</td>\n",
       "      <td>0.753768</td>\n",
       "      <td>Nate Bargatze: The Tennessee Kid (2019)</td>\n",
       "      <td>Nate Bargatze</td>\n",
       "      <td>https://scrapsfromtheloft.com/comedy/nate-barg...</td>\n",
       "      <td>Thank you. Wow. Wow. So… thank you. Thank you....</td>\n",
       "      <td>37039</td>\n",
       "      <td>tt4653606</td>\n",
       "      <td>Nate Bargatze</td>\n",
       "      <td>...</td>\n",
       "      <td>0.000</td>\n",
       "      <td>0.0</td>\n",
       "      <td>0.068182</td>\n",
       "      <td>0.244885</td>\n",
       "      <td>0.218473</td>\n",
       "      <td>0.0</td>\n",
       "      <td>0.000000</td>\n",
       "      <td>0.500000</td>\n",
       "      <td>0.307880</td>\n",
       "      <td>&lt;img src='https://imdb-api.com/images/original...</td>\n",
       "    </tr>\n",
       "    <tr>\n",
       "      <th>70473</th>\n",
       "      <td>Nate Bargatze: The Tennessee Kid (2019) – Full...</td>\n",
       "      <td>JEN KIRKMAN: JUST KEEP LIVIN’? (2017) – Full T...</td>\n",
       "      <td>0.691762</td>\n",
       "      <td>Nate Bargatze: The Tennessee Kid (2019)</td>\n",
       "      <td>Nate Bargatze</td>\n",
       "      <td>https://scrapsfromtheloft.com/comedy/jen-kirkm...</td>\n",
       "      <td>Hello. I should use a microphone, really. Hi. ...</td>\n",
       "      <td>64369</td>\n",
       "      <td>tt6386352</td>\n",
       "      <td>Jen Kirkman</td>\n",
       "      <td>...</td>\n",
       "      <td>0.000</td>\n",
       "      <td>0.0</td>\n",
       "      <td>0.050000</td>\n",
       "      <td>0.260657</td>\n",
       "      <td>0.254636</td>\n",
       "      <td>0.0</td>\n",
       "      <td>0.000000</td>\n",
       "      <td>0.520625</td>\n",
       "      <td>0.335632</td>\n",
       "      <td>&lt;img src='https://imdb-api.com/images/original...</td>\n",
       "    </tr>\n",
       "    <tr>\n",
       "      <th>...</th>\n",
       "      <td>...</td>\n",
       "      <td>...</td>\n",
       "      <td>...</td>\n",
       "      <td>...</td>\n",
       "      <td>...</td>\n",
       "      <td>...</td>\n",
       "      <td>...</td>\n",
       "      <td>...</td>\n",
       "      <td>...</td>\n",
       "      <td>...</td>\n",
       "      <td>...</td>\n",
       "      <td>...</td>\n",
       "      <td>...</td>\n",
       "      <td>...</td>\n",
       "      <td>...</td>\n",
       "      <td>...</td>\n",
       "      <td>...</td>\n",
       "      <td>...</td>\n",
       "      <td>...</td>\n",
       "      <td>...</td>\n",
       "      <td>...</td>\n",
       "    </tr>\n",
       "    <tr>\n",
       "      <th>22423</th>\n",
       "      <td>Nate Bargatze: The Tennessee Kid (2019) – Full...</td>\n",
       "      <td>Kevin Bridges: The Story Continues (2012) – Fu...</td>\n",
       "      <td>-0.462994</td>\n",
       "      <td>Nate Bargatze: The Tennessee Kid (2019)</td>\n",
       "      <td>Nate Bargatze</td>\n",
       "      <td>https://scrapsfromtheloft.com/comedy/kevin-bri...</td>\n",
       "      <td>Oh!      ANNOUNCER: Ladies and Gentlemen, pl...</td>\n",
       "      <td>52203</td>\n",
       "      <td>tt2970510</td>\n",
       "      <td>Kevin Bridges</td>\n",
       "      <td>...</td>\n",
       "      <td>0.000</td>\n",
       "      <td>0.0</td>\n",
       "      <td>0.000000</td>\n",
       "      <td>0.267901</td>\n",
       "      <td>0.239452</td>\n",
       "      <td>0.0</td>\n",
       "      <td>0.000000</td>\n",
       "      <td>0.500000</td>\n",
       "      <td>0.320953</td>\n",
       "      <td>&lt;img src='https://imdb-api.com/images/original...</td>\n",
       "    </tr>\n",
       "    <tr>\n",
       "      <th>31413</th>\n",
       "      <td>Nate Bargatze: The Tennessee Kid (2019) – Full...</td>\n",
       "      <td>ROBIN WILLIAMS LIVE ON BROADWAY (2002) – FULL ...</td>\n",
       "      <td>-0.476264</td>\n",
       "      <td>Nate Bargatze: The Tennessee Kid (2019)</td>\n",
       "      <td>Nate Bargatze</td>\n",
       "      <td>https://scrapsfromtheloft.com/comedy/robin-wil...</td>\n",
       "      <td>Ladies and gentlemen, please welcome Robin Wil...</td>\n",
       "      <td>61997</td>\n",
       "      <td>tt0330829</td>\n",
       "      <td>Robin Williams</td>\n",
       "      <td>...</td>\n",
       "      <td>0.000</td>\n",
       "      <td>0.0</td>\n",
       "      <td>0.000000</td>\n",
       "      <td>0.279958</td>\n",
       "      <td>0.241736</td>\n",
       "      <td>0.0</td>\n",
       "      <td>0.000000</td>\n",
       "      <td>0.500000</td>\n",
       "      <td>0.330735</td>\n",
       "      <td>&lt;img src='https://imdb-api.com/images/original...</td>\n",
       "    </tr>\n",
       "    <tr>\n",
       "      <th>5373</th>\n",
       "      <td>Nate Bargatze: The Tennessee Kid (2019) – Full...</td>\n",
       "      <td>Doug Stanhope: Beer Hall Putsch (2013) – Trans...</td>\n",
       "      <td>-0.502936</td>\n",
       "      <td>Nate Bargatze: The Tennessee Kid (2019)</td>\n",
       "      <td>Nate Bargatze</td>\n",
       "      <td>https://scrapsfromtheloft.com/comedy/doug-stan...</td>\n",
       "      <td>Recorded live at Dante's in Portland, Oregon W...</td>\n",
       "      <td>48170</td>\n",
       "      <td>tt2833398</td>\n",
       "      <td>Doug Stanhope</td>\n",
       "      <td>...</td>\n",
       "      <td>-0.025</td>\n",
       "      <td>0.0</td>\n",
       "      <td>0.000000</td>\n",
       "      <td>0.284070</td>\n",
       "      <td>0.284051</td>\n",
       "      <td>0.0</td>\n",
       "      <td>0.066667</td>\n",
       "      <td>0.585714</td>\n",
       "      <td>0.333280</td>\n",
       "      <td>&lt;img src='https://imdb-api.com/images/original...</td>\n",
       "    </tr>\n",
       "    <tr>\n",
       "      <th>93413</th>\n",
       "      <td>Nate Bargatze: The Tennessee Kid (2019) – Full...</td>\n",
       "      <td>GEORGE CARLIN: BACK IN TOWN (1996) – Full tran...</td>\n",
       "      <td>-0.533851</td>\n",
       "      <td>Nate Bargatze: The Tennessee Kid (2019)</td>\n",
       "      <td>Nate Bargatze</td>\n",
       "      <td>https://scrapsfromtheloft.com/comedy/george-ca...</td>\n",
       "      <td>Back in Town is George Carlin's 15th album and...</td>\n",
       "      <td>45875</td>\n",
       "      <td>tt0246641</td>\n",
       "      <td>George Carlin</td>\n",
       "      <td>...</td>\n",
       "      <td>0.000</td>\n",
       "      <td>0.0</td>\n",
       "      <td>0.000000</td>\n",
       "      <td>0.267680</td>\n",
       "      <td>0.301267</td>\n",
       "      <td>0.0</td>\n",
       "      <td>0.200000</td>\n",
       "      <td>0.567619</td>\n",
       "      <td>0.333200</td>\n",
       "      <td>&lt;img src='https://imdb-api.com/images/original...</td>\n",
       "    </tr>\n",
       "    <tr>\n",
       "      <th>80703</th>\n",
       "      <td>Nate Bargatze: The Tennessee Kid (2019) – Full...</td>\n",
       "      <td>BILL HICKS: REVELATIONS (1993) – FULL TRANSCRIPT</td>\n",
       "      <td>-0.561622</td>\n",
       "      <td>Nate Bargatze: The Tennessee Kid (2019)</td>\n",
       "      <td>Nate Bargatze</td>\n",
       "      <td>https://scrapsfromtheloft.com/comedy/bill-hick...</td>\n",
       "      <td>Recorded at the London Dominion Theatre in Nov...</td>\n",
       "      <td>44937</td>\n",
       "      <td>tt0152183</td>\n",
       "      <td>Bill Hicks</td>\n",
       "      <td>...</td>\n",
       "      <td>0.000</td>\n",
       "      <td>0.0</td>\n",
       "      <td>0.003000</td>\n",
       "      <td>0.291216</td>\n",
       "      <td>0.288664</td>\n",
       "      <td>0.0</td>\n",
       "      <td>0.050000</td>\n",
       "      <td>0.593080</td>\n",
       "      <td>0.339042</td>\n",
       "      <td>&lt;img src='https://imdb-api.com/images/original...</td>\n",
       "    </tr>\n",
       "  </tbody>\n",
       "</table>\n",
       "<p>310 rows × 63 columns</p>\n",
       "</div>"
      ],
      "text/plain": [
       "                                             description  \\\n",
       "32033  Nate Bargatze: The Tennessee Kid (2019) – Full...   \n",
       "46913  Nate Bargatze: The Tennessee Kid (2019) – Full...   \n",
       "4753   Nate Bargatze: The Tennessee Kid (2019) – Full...   \n",
       "32963  Nate Bargatze: The Tennessee Kid (2019) – Full...   \n",
       "70473  Nate Bargatze: The Tennessee Kid (2019) – Full...   \n",
       "...                                                  ...   \n",
       "22423  Nate Bargatze: The Tennessee Kid (2019) – Full...   \n",
       "31413  Nate Bargatze: The Tennessee Kid (2019) – Full...   \n",
       "5373   Nate Bargatze: The Tennessee Kid (2019) – Full...   \n",
       "93413  Nate Bargatze: The Tennessee Kid (2019) – Full...   \n",
       "80703  Nate Bargatze: The Tennessee Kid (2019) – Full...   \n",
       "\n",
       "                                       other description  cosine similarity  \\\n",
       "32033  Nate Bargatze: The Tennessee Kid (2019) – Full...           1.000000   \n",
       "46913     NIKKI GLASER: PERFECT (2016) – Full Transcript           0.804317   \n",
       "4753   Nate Bargatze: The Greatest Average American (...           0.790999   \n",
       "32963  Nate Bargatze: Full Time Magic (2015) – Full T...           0.753768   \n",
       "70473  JEN KIRKMAN: JUST KEEP LIVIN’? (2017) – Full T...           0.691762   \n",
       "...                                                  ...                ...   \n",
       "22423  Kevin Bridges: The Story Continues (2012) – Fu...          -0.462994   \n",
       "31413  ROBIN WILLIAMS LIVE ON BROADWAY (2002) – FULL ...          -0.476264   \n",
       "5373   Doug Stanhope: Beer Hall Putsch (2013) – Trans...          -0.502936   \n",
       "93413  GEORGE CARLIN: BACK IN TOWN (1996) – Full tran...          -0.533851   \n",
       "80703   BILL HICKS: REVELATIONS (1993) – FULL TRANSCRIPT          -0.561622   \n",
       "\n",
       "                                     fullTitle         artist  \\\n",
       "32033  Nate Bargatze: The Tennessee Kid (2019)  Nate Bargatze   \n",
       "46913  Nate Bargatze: The Tennessee Kid (2019)  Nate Bargatze   \n",
       "4753   Nate Bargatze: The Tennessee Kid (2019)  Nate Bargatze   \n",
       "32963  Nate Bargatze: The Tennessee Kid (2019)  Nate Bargatze   \n",
       "70473  Nate Bargatze: The Tennessee Kid (2019)  Nate Bargatze   \n",
       "...                                        ...            ...   \n",
       "22423  Nate Bargatze: The Tennessee Kid (2019)  Nate Bargatze   \n",
       "31413  Nate Bargatze: The Tennessee Kid (2019)  Nate Bargatze   \n",
       "5373   Nate Bargatze: The Tennessee Kid (2019)  Nate Bargatze   \n",
       "93413  Nate Bargatze: The Tennessee Kid (2019)  Nate Bargatze   \n",
       "80703  Nate Bargatze: The Tennessee Kid (2019)  Nate Bargatze   \n",
       "\n",
       "                                                    link  \\\n",
       "32033  https://scrapsfromtheloft.com/comedy/nate-barg...   \n",
       "46913  https://scrapsfromtheloft.com/comedy/nikki-gla...   \n",
       "4753   https://scrapsfromtheloft.com/comedy/nate-barg...   \n",
       "32963  https://scrapsfromtheloft.com/comedy/nate-barg...   \n",
       "70473  https://scrapsfromtheloft.com/comedy/jen-kirkm...   \n",
       "...                                                  ...   \n",
       "22423  https://scrapsfromtheloft.com/comedy/kevin-bri...   \n",
       "31413  https://scrapsfromtheloft.com/comedy/robin-wil...   \n",
       "5373   https://scrapsfromtheloft.com/comedy/doug-stan...   \n",
       "93413  https://scrapsfromtheloft.com/comedy/george-ca...   \n",
       "80703  https://scrapsfromtheloft.com/comedy/bill-hick...   \n",
       "\n",
       "                                              transcript  script characters  \\\n",
       "32033  Please welcome my daddy, Nate Bargatze. We're ...              51406   \n",
       "46913  * * Ooh, ooh, ooh, ooh, ooh, ooh, ooh, ooh * *...              58705   \n",
       "4753    ♪ Family ♪\\n♪ Singin' in the kitchen ♪\\n♪ Fam...              56879   \n",
       "32963  Thank you. Wow. Wow. So… thank you. Thank you....              37039   \n",
       "70473  Hello. I should use a microphone, really. Hi. ...              64369   \n",
       "...                                                  ...                ...   \n",
       "22423    Oh!      ANNOUNCER: Ladies and Gentlemen, pl...              52203   \n",
       "31413  Ladies and gentlemen, please welcome Robin Wil...              61997   \n",
       "5373   Recorded live at Dante's in Portland, Oregon W...              48170   \n",
       "93413  Back in Town is George Carlin's 15th album and...              45875   \n",
       "80703  Recorded at the London Dominion Theatre in Nov...              44937   \n",
       "\n",
       "               id    other artist  ... Q1.0 sentence polarity  \\\n",
       "32033   tt9861504   Nate Bargatze  ...                  0.000   \n",
       "46913   tt5675632    Nikki Glaser  ...                  0.000   \n",
       "4753   tt14078164   Nate Bargatze  ...                  0.000   \n",
       "32963   tt4653606   Nate Bargatze  ...                  0.000   \n",
       "70473   tt6386352     Jen Kirkman  ...                  0.000   \n",
       "...           ...             ...  ...                    ...   \n",
       "22423   tt2970510   Kevin Bridges  ...                  0.000   \n",
       "31413   tt0330829  Robin Williams  ...                  0.000   \n",
       "5373    tt2833398   Doug Stanhope  ...                 -0.025   \n",
       "93413   tt0246641   George Carlin  ...                  0.000   \n",
       "80703   tt0152183      Bill Hicks  ...                  0.000   \n",
       "\n",
       "      Q2.0 sentence polarity  Q3.0 sentence polarity std sentence polarity  \\\n",
       "32033                    0.0                0.100000              0.237583   \n",
       "46913                    0.0                0.200000              0.290229   \n",
       "4753                     0.0                0.000000              0.216212   \n",
       "32963                    0.0                0.068182              0.244885   \n",
       "70473                    0.0                0.050000              0.260657   \n",
       "...                      ...                     ...                   ...   \n",
       "22423                    0.0                0.000000              0.267901   \n",
       "31413                    0.0                0.000000              0.279958   \n",
       "5373                     0.0                0.000000              0.284070   \n",
       "93413                    0.0                0.000000              0.267680   \n",
       "80703                    0.0                0.003000              0.291216   \n",
       "\n",
       "      mean sentence subjectivity  Q1.0 sentence subjectivity  \\\n",
       "32033                   0.236536                         0.0   \n",
       "46913                   0.276549                         0.0   \n",
       "4753                    0.212798                         0.0   \n",
       "32963                   0.218473                         0.0   \n",
       "70473                   0.254636                         0.0   \n",
       "...                          ...                         ...   \n",
       "22423                   0.239452                         0.0   \n",
       "31413                   0.241736                         0.0   \n",
       "5373                    0.284051                         0.0   \n",
       "93413                   0.301267                         0.0   \n",
       "80703                   0.288664                         0.0   \n",
       "\n",
       "      Q2.0 sentence subjectivity Q3.0 sentence subjectivity  \\\n",
       "32033                   0.000000                   0.500000   \n",
       "46913                   0.000000                   0.550000   \n",
       "4753                    0.000000                   0.467857   \n",
       "32963                   0.000000                   0.500000   \n",
       "70473                   0.000000                   0.520625   \n",
       "...                          ...                        ...   \n",
       "22423                   0.000000                   0.500000   \n",
       "31413                   0.000000                   0.500000   \n",
       "5373                    0.066667                   0.585714   \n",
       "93413                   0.200000                   0.567619   \n",
       "80703                   0.050000                   0.593080   \n",
       "\n",
       "      std sentence subjectivity  \\\n",
       "32033                  0.313811   \n",
       "46913                  0.337490   \n",
       "4753                   0.302321   \n",
       "32963                  0.307880   \n",
       "70473                  0.335632   \n",
       "...                         ...   \n",
       "22423                  0.320953   \n",
       "31413                  0.330735   \n",
       "5373                   0.333280   \n",
       "93413                  0.333200   \n",
       "80703                  0.339042   \n",
       "\n",
       "                                              image html  \n",
       "32033  <img src='https://imdb-api.com/images/original...  \n",
       "46913  <img src='https://imdb-api.com/images/original...  \n",
       "4753   <img src='https://imdb-api.com/images/original...  \n",
       "32963  <img src='https://imdb-api.com/images/original...  \n",
       "70473  <img src='https://imdb-api.com/images/original...  \n",
       "...                                                  ...  \n",
       "22423  <img src='https://imdb-api.com/images/original...  \n",
       "31413  <img src='https://imdb-api.com/images/original...  \n",
       "5373   <img src='https://imdb-api.com/images/original...  \n",
       "93413  <img src='https://imdb-api.com/images/original...  \n",
       "80703  <img src='https://imdb-api.com/images/original...  \n",
       "\n",
       "[310 rows x 63 columns]"
      ]
     },
     "execution_count": 669,
     "metadata": {},
     "output_type": "execute_result"
    }
   ],
   "source": [
    "widget_df[widget_df['fullTitle'] == 'Nate Bargatze: The Tennessee Kid (2019)'].sort_values('cosine similarity', ascending = False)"
   ]
  },
  {
   "cell_type": "markdown",
   "id": "0b0f46f2",
   "metadata": {},
   "source": [
    "## make SQLite DB"
   ]
  },
  {
   "cell_type": "code",
   "execution_count": 571,
   "id": "62676f70",
   "metadata": {},
   "outputs": [
    {
     "data": {
      "text/plain": [
       "Index(['description', 'other description', 'cosine similarity'], dtype='object')"
      ]
     },
     "execution_count": 571,
     "metadata": {},
     "output_type": "execute_result"
    }
   ],
   "source": [
    "metacols = ['description', 'link', 'script characters', 'id',\n",
    "           'artist', 'title', 'fullTitle', 'year', 'image', 'releaseDate',\n",
    "           'runtimeMins', 'runtimeStr', 'awards', 'genres',\n",
    "           'companies', 'contentRating', 'imDbRating',\n",
    "           'imDbRatingVotes', 'similars', 'languages']\n",
    "cosims_means_df_long.columns"
   ]
  },
  {
   "cell_type": "code",
   "execution_count": 572,
   "id": "2410f32f",
   "metadata": {},
   "outputs": [
    {
     "data": {
      "text/plain": [
       "(96100, 40)"
      ]
     },
     "execution_count": 572,
     "metadata": {},
     "output_type": "execute_result"
    }
   ],
   "source": [
    "widget_df_export = (cosims_means_df_long.rename(columns = {'other description': 'description comparison'})\n",
    "                .merge(metascripts[metacols].drop(columns = 'similars'))\n",
    "                .merge(metascripts[metacols].drop(columns = 'similars'), \n",
    "                       left_on = 'description comparison', \n",
    "                       right_on = 'description',\n",
    "                       suffixes = (\" selection\", \" comparison\"))\n",
    "        )\n",
    "\n",
    "widget_df_export.shape"
   ]
  },
  {
   "cell_type": "code",
   "execution_count": 573,
   "id": "ab82829d",
   "metadata": {},
   "outputs": [
    {
     "data": {
      "text/plain": [
       "(96100, 39)"
      ]
     },
     "execution_count": 573,
     "metadata": {},
     "output_type": "execute_result"
    }
   ],
   "source": [
    "keepind = [ind for ind, col in enumerate(widget_df_export.columns) if ind != 1]\n",
    "widget_df_export = widget_df_export.iloc[:, keepind]\n",
    "widget_df_export.shape"
   ]
  },
  {
   "cell_type": "code",
   "execution_count": 574,
   "id": "d2b75b0a",
   "metadata": {},
   "outputs": [
    {
     "data": {
      "text/plain": [
       "Index(['description selection', 'cosine similarity', 'link selection',\n",
       "       'script characters selection', 'id selection', 'artist selection',\n",
       "       'title selection', 'fullTitle selection', 'year selection',\n",
       "       'image selection', 'releaseDate selection', 'runtimeMins selection',\n",
       "       'runtimeStr selection', 'awards selection', 'genres selection',\n",
       "       'companies selection', 'contentRating selection',\n",
       "       'imDbRating selection', 'imDbRatingVotes selection',\n",
       "       'languages selection', 'description comparison', 'link comparison',\n",
       "       'script characters comparison', 'id comparison', 'artist comparison',\n",
       "       'title comparison', 'fullTitle comparison', 'year comparison',\n",
       "       'image comparison', 'releaseDate comparison', 'runtimeMins comparison',\n",
       "       'runtimeStr comparison', 'awards comparison', 'genres comparison',\n",
       "       'companies comparison', 'contentRating comparison',\n",
       "       'imDbRating comparison', 'imDbRatingVotes comparison',\n",
       "       'languages comparison'],\n",
       "      dtype='object')"
      ]
     },
     "execution_count": 574,
     "metadata": {},
     "output_type": "execute_result"
    }
   ],
   "source": [
    "widget_df_export.columns"
   ]
  },
  {
   "cell_type": "code",
   "execution_count": 575,
   "id": "1c7938f2",
   "metadata": {},
   "outputs": [],
   "source": [
    "# import sqlite3\n",
    "\n",
    "# with sqlite3.connect('../StandupRecommenderShiny/data/overall_recommender_df_2.sqlite') as db:\n",
    "#     widget_df_export.to_sql('overallfull', db, if_exists = 'append', index = False)"
   ]
  },
  {
   "cell_type": "markdown",
   "metadata": {},
   "source": [
    "## analyze Neo4J Louvain results"
   ]
  },
  {
   "cell_type": "code",
   "execution_count": 642,
   "metadata": {},
   "outputs": [],
   "source": [
    "import re\n",
    "\n",
    "descriptions = [re.search('(?<=\\\":).+(?=,\\\")', string).group(0) for string in pd.read_csv('../data/graph_coms_df.csv')['s'].values]\n",
    "communities = [int(re.search('(?<=\\\"meanCommunity\\\":)\\d+', string).group(0)) for string in pd.read_csv('../data/graph_coms_df.csv')['s'].values]\n",
    "descom_df = pd.DataFrame({\n",
    "        'description': descriptions,\n",
    "        'community':communities\n",
    "    })\n",
    "\n",
    "graph_coms_df = graph_df.merge(descom_df, left_on = 'description selection', right_on = 'description').drop(columns = 'description')"
   ]
  },
  {
   "cell_type": "code",
   "execution_count": 643,
   "metadata": {},
   "outputs": [],
   "source": [
    "graph_coms_df.to_csv('../data/graph_coms_meta.csv', index = False)"
   ]
  },
  {
   "cell_type": "code",
   "execution_count": 644,
   "metadata": {},
   "outputs": [
    {
     "data": {
      "text/plain": [
       "1    0.370968\n",
       "2    0.316129\n",
       "0    0.312903\n",
       "Name: community, dtype: float64"
      ]
     },
     "execution_count": 644,
     "metadata": {},
     "output_type": "execute_result"
    }
   ],
   "source": [
    "descom_df['community'].value_counts(normalize = True)"
   ]
  },
  {
   "cell_type": "code",
   "execution_count": 667,
   "metadata": {},
   "outputs": [
    {
     "data": {
      "text/html": [
       "<div>\n",
       "<style scoped>\n",
       "    .dataframe tbody tr th:only-of-type {\n",
       "        vertical-align: middle;\n",
       "    }\n",
       "\n",
       "    .dataframe tbody tr th {\n",
       "        vertical-align: top;\n",
       "    }\n",
       "\n",
       "    .dataframe thead th {\n",
       "        text-align: right;\n",
       "    }\n",
       "</style>\n",
       "<table border=\"1\" class=\"dataframe\">\n",
       "  <thead>\n",
       "    <tr style=\"text-align: right;\">\n",
       "      <th></th>\n",
       "      <th>description</th>\n",
       "      <th>community</th>\n",
       "    </tr>\n",
       "  </thead>\n",
       "  <tbody>\n",
       "    <tr>\n",
       "      <th>215</th>\n",
       "      <td>JIMMY O. YANG: GOOD DEAL (2020) – FULL TRANSCRIPT</td>\n",
       "      <td>0</td>\n",
       "    </tr>\n",
       "    <tr>\n",
       "      <th>218</th>\n",
       "      <td>JO KOY: LIGHTS OUT (2012) – FULL TRANSCRIPT</td>\n",
       "      <td>0</td>\n",
       "    </tr>\n",
       "    <tr>\n",
       "      <th>23</th>\n",
       "      <td>Joe List: I Hate Myself (2020) – Transcript</td>\n",
       "      <td>0</td>\n",
       "    </tr>\n",
       "    <tr>\n",
       "      <th>170</th>\n",
       "      <td>Joe Mande’s Award-Winning Comedy Special (2017...</td>\n",
       "      <td>0</td>\n",
       "    </tr>\n",
       "    <tr>\n",
       "      <th>274</th>\n",
       "      <td>KAVIN JAY: EVERYBODY CALM DOWN! (2018) – Full ...</td>\n",
       "      <td>0</td>\n",
       "    </tr>\n",
       "    <tr>\n",
       "      <th>232</th>\n",
       "      <td>KENNY SEBASTIAN DON’T BE THAT GUY (2017) – FUL...</td>\n",
       "      <td>0</td>\n",
       "    </tr>\n",
       "    <tr>\n",
       "      <th>66</th>\n",
       "      <td>KEVIN JAMES: NEVER DON’T GIVE UP (2018) – Full...</td>\n",
       "      <td>0</td>\n",
       "    </tr>\n",
       "    <tr>\n",
       "      <th>199</th>\n",
       "      <td>Kathleen Madigan: Madigan Again (2013) – Trans...</td>\n",
       "      <td>0</td>\n",
       "    </tr>\n",
       "    <tr>\n",
       "      <th>51</th>\n",
       "      <td>LOUIS C.K.: LIVE AT  THE COMEDY STORE (2015) –...</td>\n",
       "      <td>0</td>\n",
       "    </tr>\n",
       "    <tr>\n",
       "      <th>288</th>\n",
       "      <td>LOUIS C.K.: OH MY GOD (2013) – Full Transcript</td>\n",
       "      <td>0</td>\n",
       "    </tr>\n",
       "    <tr>\n",
       "      <th>255</th>\n",
       "      <td>Larry the Cable Guy – Remain Seated (2020) – T...</td>\n",
       "      <td>0</td>\n",
       "    </tr>\n",
       "    <tr>\n",
       "      <th>7</th>\n",
       "      <td>MARIA BAMFORD: OLD BABY (2017) – FULL TRANSCRIPT</td>\n",
       "      <td>0</td>\n",
       "    </tr>\n",
       "    <tr>\n",
       "      <th>261</th>\n",
       "      <td>MICHAEL MCINTYRE: HELLO WEMBLEY! (2009) – Full...</td>\n",
       "      <td>0</td>\n",
       "    </tr>\n",
       "    <tr>\n",
       "      <th>195</th>\n",
       "      <td>MICHAEL MCINTYRE: SHOWMAN (2020) – TRANSCRIPT</td>\n",
       "      <td>0</td>\n",
       "    </tr>\n",
       "    <tr>\n",
       "      <th>1</th>\n",
       "      <td>MICHELLE WOLF: NICE LADY (2017) – Full Transcript</td>\n",
       "      <td>0</td>\n",
       "    </tr>\n",
       "    <tr>\n",
       "      <th>187</th>\n",
       "      <td>Marc Maron: More Later (2015) – Full Transcript</td>\n",
       "      <td>0</td>\n",
       "    </tr>\n",
       "    <tr>\n",
       "      <th>158</th>\n",
       "      <td>Mark Normand: Don’t Be Yourself (2017) – Trans...</td>\n",
       "      <td>0</td>\n",
       "    </tr>\n",
       "    <tr>\n",
       "      <th>36</th>\n",
       "      <td>Michelle Wolf: Joke Show (2019) – Full Transcript</td>\n",
       "      <td>0</td>\n",
       "    </tr>\n",
       "    <tr>\n",
       "      <th>74</th>\n",
       "      <td>Mike Birbiglia: My Girlfriend’s Boyfriend (201...</td>\n",
       "      <td>0</td>\n",
       "    </tr>\n",
       "    <tr>\n",
       "      <th>186</th>\n",
       "      <td>Mo Amer: The Vagabond (2018) – Full Transcript</td>\n",
       "      <td>0</td>\n",
       "    </tr>\n",
       "  </tbody>\n",
       "</table>\n",
       "</div>"
      ],
      "text/plain": [
       "                                           description  community\n",
       "215  JIMMY O. YANG: GOOD DEAL (2020) – FULL TRANSCRIPT          0\n",
       "218        JO KOY: LIGHTS OUT (2012) – FULL TRANSCRIPT          0\n",
       "23         Joe List: I Hate Myself (2020) – Transcript          0\n",
       "170  Joe Mande’s Award-Winning Comedy Special (2017...          0\n",
       "274  KAVIN JAY: EVERYBODY CALM DOWN! (2018) – Full ...          0\n",
       "232  KENNY SEBASTIAN DON’T BE THAT GUY (2017) – FUL...          0\n",
       "66   KEVIN JAMES: NEVER DON’T GIVE UP (2018) – Full...          0\n",
       "199  Kathleen Madigan: Madigan Again (2013) – Trans...          0\n",
       "51   LOUIS C.K.: LIVE AT  THE COMEDY STORE (2015) –...          0\n",
       "288     LOUIS C.K.: OH MY GOD (2013) – Full Transcript          0\n",
       "255  Larry the Cable Guy – Remain Seated (2020) – T...          0\n",
       "7     MARIA BAMFORD: OLD BABY (2017) – FULL TRANSCRIPT          0\n",
       "261  MICHAEL MCINTYRE: HELLO WEMBLEY! (2009) – Full...          0\n",
       "195      MICHAEL MCINTYRE: SHOWMAN (2020) – TRANSCRIPT          0\n",
       "1    MICHELLE WOLF: NICE LADY (2017) – Full Transcript          0\n",
       "187    Marc Maron: More Later (2015) – Full Transcript          0\n",
       "158  Mark Normand: Don’t Be Yourself (2017) – Trans...          0\n",
       "36   Michelle Wolf: Joke Show (2019) – Full Transcript          0\n",
       "74   Mike Birbiglia: My Girlfriend’s Boyfriend (201...          0\n",
       "186     Mo Amer: The Vagabond (2018) – Full Transcript          0"
      ]
     },
     "execution_count": 667,
     "metadata": {},
     "output_type": "execute_result"
    }
   ],
   "source": [
    "community_list = descom_df['community'].unique()\n",
    "com = community_list[0]\n",
    "descom_df[descom_df['community'] == com].sort_values('description')[40:60]"
   ]
  },
  {
   "cell_type": "code",
   "execution_count": 648,
   "metadata": {},
   "outputs": [
    {
     "name": "stdout",
     "output_type": "stream",
     "text": [
      "28 out of 68, i.e, 41.18%, of comedians with multiple shows in the dataset had shows in different communities.\n"
     ]
    }
   ],
   "source": [
    "comedians_between = (metascripts.merge(descom_df).groupby('artist')['community'].nunique() > 1).sum()\n",
    "comedians_multiple = (metascripts.groupby('artist')['fullTitle'].count() > 1).sum()\n",
    "print(f'{comedians_between} out of {comedians_multiple}, i.e, {round(100*comedians_between/comedians_multiple,2)}%, of comedians with multiple shows in the dataset had shows in different communities.')"
   ]
  },
  {
   "cell_type": "markdown",
   "metadata": {},
   "source": [
    "## unsupervised analysis of mean cosine similarities and communities"
   ]
  },
  {
   "cell_type": "code",
   "execution_count": 649,
   "metadata": {},
   "outputs": [],
   "source": [
    "from sklearn.decomposition import PCA\n",
    "from sklearn.preprocessing import StandardScaler, OneHotEncoder\n",
    "from sklearn.compose import ColumnTransformer\n",
    "from sklearn.pipeline import Pipeline\n",
    "from umap import UMAP"
   ]
  },
  {
   "cell_type": "code",
   "execution_count": 650,
   "metadata": {},
   "outputs": [],
   "source": [
    "cosims_means_com = cosims_means_df.merge(descom_df.set_index('description'), left_index = True, right_index = True)\n",
    "cosims_means_com['community'] = cosims_means_com['community'].astype(str)\n",
    "X = cosims_means_com.drop(columns = 'community')"
   ]
  },
  {
   "cell_type": "markdown",
   "metadata": {},
   "source": [
    "### pca and feature importances"
   ]
  },
  {
   "cell_type": "code",
   "execution_count": 651,
   "metadata": {},
   "outputs": [
    {
     "data": {
      "application/vnd.plotly.v1+json": {
       "config": {
        "plotlyServerURL": "https://plotly.com"
       },
       "data": [
        {
         "customdata": [
          [
           "Jim Gaffigan: Comedy Monster (2021) | Transcript"
          ],
          [
           "Kathleen Madigan: Bothering Jesus (2016) – Transcript"
          ],
          [
           "Phil Wang: Philly Philly Wang Wang (2021) – Transcript"
          ],
          [
           "Tom Papa: Freaked Out (2013) – Transcript"
          ],
          [
           "Bo Burnham: Inside (2021) – Transcript"
          ],
          [
           "Brian Regan: On The Rocks (2021) – Transcript"
          ],
          [
           "Sarah Cooper: Everything’s Fine (2020) – Transcript"
          ],
          [
           "Bo Burnham: Words, Words, Words (2010) – Transcript"
          ],
          [
           "RONNY CHIENG: ASIAN COMEDIAN DESTROYS AMERICA (2019) – TRANSCRIPT"
          ],
          [
           "Craig Ferguson: A Wee Bit o’ Revolution (2009) – Transcript"
          ],
          [
           "Jack Whitehall: I’m Only Joking (2020) | Transcript"
          ],
          [
           "ROY WOOD JR.: FATHER FIGURE (2017) – FULL TRANSCRIPT"
          ],
          [
           "BILLY CONNOLLY: HIGH HORSE TOUR LIVE (2016) – FULL TRANSCRIPT"
          ],
          [
           "Hannah Gadsby: Douglas (2020) – Transcript"
          ],
          [
           "PATTON OSWALT: I LOVE EVERYTHING (2020) – FULL TRANSCRIPT"
          ],
          [
           "LEE MACK: GOING OUT LIVE (2010) – FULL TRANSCRIPT"
          ],
          [
           "Jerry Seinfeld: 23 Hours To Kill (2020) – Transcript"
          ],
          [
           "MARIA BAMFORD: WEAKNESS IS THE BRAND (2020) – FULL TRANSCRIPT"
          ],
          [
           "Amanda Seales: I Be Knowin’ (2019) – Transcript"
          ],
          [
           "Stewart Lee: Carpet Remnant World (2012) – Full Transcript"
          ],
          [
           "Stewart Lee: Content Provider (2018) – Transcript"
          ],
          [
           "Jim Gaffigan: Quality Time (2019) – Full Transcript"
          ],
          [
           "Kevin Bridges: A Whole Different Story (2015) – Full Transcript"
          ],
          [
           "Kevin Bridges: The Story So Far… Live in Glasgow (2010) – Full Transcript"
          ],
          [
           "Kevin Bridges: The Story Continues (2012) – Full Transcript"
          ],
          [
           "Mike Birbiglia: The New One (2019) – Full Transcript"
          ],
          [
           "Iliza Shlesinger: Unveiled (2019) – Full Transcript"
          ],
          [
           "David Cross: Oh Come On (2019) – Full Transcript"
          ],
          [
           "Colin Quinn: The New York Story (2016) – Full Transcript"
          ],
          [
           "George Carlin: What Am I Doing in New Jersey? (1988) – Full Transcript"
          ],
          [
           "Roy Wood Jr.: No One Loves You (2019) – Transcript"
          ],
          [
           "Jimmy Carr: The Best of Ultimate Gold Greatest Hits (2019) – Full Transcript"
          ],
          [
           "W. Kamau Bell: Private School Negro (2018) – Transcript"
          ],
          [
           "Sebastian Maniscalco: Aren’t You Embarrassed? (2014) – Full Transcript"
          ],
          [
           "Sebastian Maniscalco: What’s Wrong with People? (2012) – Full Transcript"
          ],
          [
           "Oh, Hello On Broadway (2017) – Transcript"
          ],
          [
           "Vir Das: Losing It (2018) – Full Transcript"
          ],
          [
           "Jeff Foxworthy & Larry the Cable Guy: We’ve Been Thinking (2016) – Full Transcript"
          ],
          [
           "Jeff Foxworthy: Totally Committed (1998) – Full Transcript"
          ],
          [
           "BILL MAHER: LIVE FROM OKLAHOMA (2018) – Full Transcript"
          ],
          [
           "Rowan Atkinson Live (1992) – Transcript"
          ],
          [
           "Iliza Shlesinger: Confirmed Kills (2016) – Full Transcript"
          ],
          [
           "JIM GAFFIGAN: NOBLE APE (2018) – Full Transcript"
          ],
          [
           "Hannah Gadsby: Nanette (2018) – Transcript"
          ],
          [
           "RICKY GERVAIS: LIVE IV – SCIENCE (2010) – Full Transcript"
          ],
          [
           "RON WHITE: A LITTLE UNPROFESSIONAL (2012) – Full Transcript"
          ],
          [
           "Ali Wong: Hard Knock Wife (2018) – Transcript"
          ],
          [
           "John Mulaney: Kid Gorgeous At Radio City (2018) – Transcript"
          ],
          [
           "George Carlin: You Are All Diseased (1999) – Transcript"
          ],
          [
           "RICKY GERVAIS: HUMANITY (2018) – Full Transcript"
          ],
          [
           "ADEL KARAM: LIVE FROM BEIRUT (2018) – Full Transcript"
          ],
          [
           "STEWART LEE: 90s COMEDIAN (2006) – Full Transcript"
          ],
          [
           "DAVE ATTELL: ROAD WORK (2014) – Full Transcript"
          ],
          [
           "Eddie Izzard – Glorious (1997) – Transcript"
          ],
          [
           "FRED ARMISEN: STANDUP FOR DRUMMERS (2018) – Full Transcript"
          ],
          [
           "DANA CARVEY: STRAIGHT WHITE MALE, 60 (2016) – Full Transcript"
          ],
          [
           "EDDIE IZZARD: STRIPPED (2009) – Full Transcript"
          ],
          [
           "BRIAN REGAN: STANDING UP (2007) – Full Transcript"
          ],
          [
           "BRIAN REGAN: NUNCHUCKS AND FLAMETHROWERS (2017) – Full Transcript"
          ],
          [
           "Eddie Izzard: Unrepeatable (1994) | Transcript"
          ],
          [
           "Stewart Lee: Stand-Up Comedian (2005) – Transcript"
          ],
          [
           "JIMMY CARR: FUNNY BUSINESS (2016) – Full Transcript"
          ],
          [
           "Eddie Izzard: Dress To Kill (1999) – Transcript"
          ],
          [
           "FAHIM ANWAR: THERE’S NO BUSINESS LIKE SHOW BUSINESS (2017) – Transcript"
          ],
          [
           "MAZ JOBRANI: IMMIGRANT (2017) – Full Transcript"
          ],
          [
           "TODD BARRY: SPICY HONEY (2017) – Full Transcript"
          ],
          [
           "Jerry Seinfeld: I’m Telling You for the Last Time (1998) – Transcript"
          ],
          [
           "RICKY GERVAIS LIVE 2: POLITICS (2004) – Full Transcript"
          ],
          [
           "CHRISTINA PAZSITZKY: MOTHER INFERIOR (2017) – FULL TRANSCRIPT"
          ],
          [
           "Jack Whitehall: At Large (2017) – Transcript"
          ],
          [
           "JUDAH FRIEDLANDER: AMERICA IS THE GREATEST COUNTRY IN THE UNITED STATES (2017) – Full Transcript"
          ],
          [
           "PATTON OSWALT: ANNIHILATION (2017) – Full Transcript"
          ],
          [
           "BILL MAHER: LIVE FROM D.C. (2014) – Full Transcript"
          ],
          [
           "Pablo Francisco: Ouch! Live From San Jose (2006) – Full Transcript"
          ],
          [
           "BILL MAHER… BUT I’M NOT WRONG (2010) – Full Transcript"
          ],
          [
           "RUSSELL BRAND: MESSIAH COMPLEX (2013) – Full Transcript"
          ],
          [
           "AL MADRIGAL: WHY IS THE RABBIT CRYING? (2013) – Full Transcript"
          ],
          [
           "NEAL BRENNAN: 3 MICS (2017)- FULL TRANSCRIPT"
          ],
          [
           "John Mulaney: New In Town (2012) – Transcript"
          ],
          [
           "ALI WONG: BABY COBRA (2016) – Full Transcript"
          ],
          [
           "Dylan Moran: Off The Hook (2015) – Transcript"
          ],
          [
           "Hannibal Buress: Comedy Camisado (2016) – Transcript"
          ],
          [
           "Neal Brennan: Women And Black Dudes (2014) – Transcript"
          ],
          [
           "NICK OFFERMAN: AMERICAN HAM (2014) – Full Transcript"
          ],
          [
           "Bo Burnham: What (2013) – Transcript"
          ],
          [
           "John Mulaney: The Comeback Kid (2015) – Transcript"
          ],
          [
           "LEWIS BLACK: BLACK TO THE FUTURE (2016) – Full Transcript"
          ],
          [
           "Mike Birbiglia: Thank God for Jokes (2017) – Transcript"
          ],
          [
           "GEORGE CARLIN: PLAYING WITH YOUR HEAD (1986) – Full Transcript"
          ],
          [
           "GEORGE CARLIN: CARLIN ON CAMPUS (1984) – Full Transcript"
          ],
          [
           "RICKY GERVAIS: OUT OF ENGLAND 2 (2010) – Full Transcript"
          ],
          [
           "JIM GAFFIGAN: CINCO (2017) – Full Transcript"
          ],
          [
           "BILL HICKS: RELENTLESS (1991) – Transcript"
          ],
          [
           "Daniel Tosh: Happy Thoughts (2011) – Transcript"
          ],
          [
           "George Carlin: Jamming in New York (1992) – Transcript"
          ],
          [
           "GEORGE CARLIN: COMPLAINTS AND GRIEVANCES (2001) – FULL TRANSCRIPT"
          ],
          [
           "GEORGE CARLIN: LIFE IS WORTH LOSING (2006) – Transcript"
          ],
          [
           "Dave Chappelle: 8:46 – Transcript"
          ]
         ],
         "hovertemplate": "color=2<br>x=%{x}<br>y=%{y}<br>hover_data_0=%{customdata[0]}<extra></extra>",
         "legendgroup": "2",
         "marker": {
          "color": "#636efa",
          "symbol": "circle"
         },
         "mode": "markers",
         "name": "2",
         "orientation": "v",
         "showlegend": true,
         "type": "scatter",
         "x": [
          -2.605444074791742,
          -1.766331429569207,
          -3.725770709837039,
          -2.2657714496561523,
          -1.8574410379800301,
          -3.2241321886589067,
          -3.106756965695772,
          -1.9071851906292852,
          -3.6745661792069284,
          -2.1216264037037287,
          -2.9066858155539093,
          -1.2347967484428473,
          -2.271033807084365,
          -1.841935259795043,
          -4.086741373534276,
          -1.603727609323167,
          -1.87848536292169,
          -3.3362645179979307,
          -2.720156204814955,
          -3.6021584382896092,
          -4.040403553505578,
          -2.8214073976637093,
          -3.166394417242796,
          -4.137724031963507,
          -1.0769764470053536,
          -2.9479273949879463,
          -2.5417582105956793,
          -2.8128957130377414,
          -2.6228355728527006,
          -4.124443783180409,
          -1.6941432780164656,
          -3.2677837883535243,
          -2.4982383860827073,
          -2.482237309900671,
          -0.5693372932191313,
          -3.5045753164015743,
          -4.408888212463925,
          -2.949830700847724,
          -3.9647774787278003,
          -3.8339261322626172,
          -4.454900918841181,
          -0.8244036796879881,
          -3.452368604229572,
          -2.8261494536426666,
          -1.8267101646921073,
          -0.9339523432009099,
          -2.312236041452752,
          -3.926513065562465,
          -1.2531295878698956,
          -2.511449688804253,
          -2.5059023368694233,
          -3.7221219131972934,
          -1.2419026663051347,
          -2.501564840293169,
          -2.574127457257603,
          -3.7074927452349598,
          -2.81234529094336,
          -2.0277094410559835,
          -3.1312092484585725,
          -3.177281740849565,
          -4.410884331470166,
          -0.5233042450107763,
          -3.1117560244390976,
          -2.231638702796909,
          -2.0574644927657304,
          -3.6162397064290595,
          -3.6323259606532274,
          -3.863173071395729,
          -2.10865032705544,
          -3.6610704457317227,
          -3.666855559304366,
          -2.7494558487586964,
          -4.334090699511473,
          -1.695485375993177,
          -4.1853846020273355,
          -3.711852608763955,
          -3.1025743838503357,
          -3.447769922750016,
          -2.914309643451324,
          -2.803562510375048,
          -2.288701538230191,
          -2.651894690319094,
          -3.668607582591784,
          -1.1412885555455017,
          -0.003254479006365129,
          -3.356938048570701,
          -4.267678953140872,
          -3.2111143062244114,
          -2.5431786007875745,
          -2.190184914465364,
          -1.882445508457123,
          -2.3779416934152326,
          -1.1651115870971713,
          -3.197827591248909,
          -2.921697062190633,
          -0.786709722816839,
          -0.7091481776540685,
          -1.2864543537949538
         ],
         "xaxis": "x",
         "y": [
          -2.0131640172233434,
          -1.8205379795900771,
          0.24321855508288548,
          -0.2621386623092629,
          2.7563406690172445,
          -0.8011124704442562,
          -0.49775104101294937,
          3.1858114801885433,
          0.5478623507355111,
          -1.7791315269769281,
          0.8874515967126978,
          0.4184655031789497,
          1.1829565302970508,
          -0.8341343793526327,
          0.49691378241893963,
          -0.1153673753057378,
          -0.8397682684019405,
          -1.224567685536175,
          0.19593592031909335,
          1.0443409991929502,
          1.510004695267972,
          -1.740971841014889,
          2.1763845454445185,
          1.3760514287807337,
          4.485998372919763,
          -1.4493315981203412,
          -0.34853906258625916,
          0.6208703375182926,
          0.2438939107242666,
          2.069175726299222,
          1.1712437168546974,
          0.5717604775486588,
          -0.3001244310945494,
          -0.9124815338345184,
          -1.3372425388125437,
          0.19886623968359046,
          1.0909622135398134,
          0.5073303417565183,
          0.5106226161339762,
          1.5216413135102151,
          1.586965308838051,
          -0.17397428135599563,
          -0.8494932968512338,
          0.003433982883333842,
          -0.7058588551465014,
          2.5840265218237186,
          3.893090757028902,
          0.26278504568794964,
          5.354385095828829,
          -0.9957059788586017,
          -0.5457495962768348,
          1.1381987688143567,
          -1.0405345234524896,
          0.23450668096248334,
          -0.9340582114067701,
          0.01739934984279655,
          0.3588684774233629,
          -0.3726192001724661,
          -0.9146964090430266,
          1.3040751840135432,
          1.6932634399226276,
          0.6907035713428126,
          1.1134742308739451,
          -0.14395586372439265,
          -0.6303101838011395,
          -0.19553794319319245,
          1.2304367767417626,
          1.0752345854802832,
          -0.6758674350263278,
          0.30428250889172614,
          1.0855474595980257,
          0.8279683320808165,
          1.2637928341021505,
          -0.6084059338744858,
          1.3650064741399714,
          1.5409060091995095,
          0.9206642641741782,
          1.1245658509385945,
          -0.48628442803858174,
          -0.30284520779047147,
          1.0048083262995846,
          0.029689584523528125,
          0.36963968001986097,
          3.7462902118248094,
          0.11069500497855596,
          -0.4018634507273392,
          1.115669605034645,
          0.38875087075202464,
          0.8344207828637997,
          2.033038561211059,
          -0.9593196333797707,
          -1.6410583183896488,
          4.007283073407007,
          0.9510632167673893,
          3.9007894365474556,
          4.545899863020395,
          3.9507879333501212,
          3.649786390975048
         ],
         "yaxis": "y"
        },
        {
         "customdata": [
          [
           "Louis C. K.: Sorry (2021) | Transcript"
          ],
          [
           "Mo Amer: Mohammed in Texas (2021) | Transcript"
          ],
          [
           "Dave Chappelle: The Closer (2021) | Transcript"
          ],
          [
           "Doug Stanhope: Beer Hall Putsch (2013) – Transcript"
          ],
          [
           "Chris Rock Total Blackout: The Tamborine Extended Cut – Transcript"
          ],
          [
           "Kevin Hart: Zero F**ks Given (2020) – Transcript"
          ],
          [
           "Sam Jay: 3 in the Morning (2020) – Transcript"
          ],
          [
           "GEORGE LOPEZ: WE’LL DO IT FOR HALF (2020) – FULL TRANSCRIPT"
          ],
          [
           "JIM JEFFERIES: INTOLERANT (2020) – FULL TRANSCRIPT"
          ],
          [
           "George Carlin: Doin’ It Again (1990) – Transcript"
          ],
          [
           "ERIC ANDRE: LEGALIZE EVERYTHING (2020)"
          ],
          [
           "RUSSELL PETERS: DEPORTED (2020) – FULL TRANSCRIPT"
          ],
          [
           "LEE MACK: LIVE (2007) – FULL TRANSCRIPT"
          ],
          [
           "JIM NORTON: AMERICAN DEGENERATE (2013) – FULL TRANSCRIPT"
          ],
          [
           "Jim Norton: Monster Rain (2007) – Transcript"
          ],
          [
           "Chris D’Elia: Man on Fire (2017) – Full Transcript"
          ],
          [
           "Marc Maron: End Times Fun (2020) – Full Transcript"
          ],
          [
           "PETE DAVIDSON: ALIVE FROM NEW YORK (2020) – FULL TRANSCRIPT"
          ],
          [
           "Dan Soder: Son of a Gary (2019) – Full Transcript"
          ],
          [
           "Tiffany Haddish: Black Mitzvah (2019) – Transcript"
          ],
          [
           "Arsenio Hall: Smart and Classy (2019) – Transcript"
          ],
          [
           "Nikki Glaser: Bangin’ (2019) – Full Transcript"
          ],
          [
           "Bill Burr: Paper Tiger (2019) – Transcript"
          ],
          [
           "Dave Chappelle: Sticks & Stones (2019) – Transcript"
          ],
          [
           "Ralphie May: Filthy Animal Tour (2014) – Transcript"
          ],
          [
           "Mike Epps: Only One Mike (2019) – Full Transcript"
          ],
          [
           "Adam DeVine: Best Time of Our Lives (2019) – Full Transcript"
          ],
          [
           "Jo Koy: Live from Seattle (2017) – Full Transcript"
          ],
          [
           "Jo Koy: Comin’ in Hot (2019) – Full Transcript"
          ],
          [
           "Cedric the Entertainer: Live from the Ville (2016) – Transcript"
          ],
          [
           "Eddie Murphy: Raw (1987) – Transcript"
          ],
          [
           "Robin Williams: Weapons of Self Destruction (2009) – Full Transcript"
          ],
          [
           "ROBIN WILLIAMS LIVE ON BROADWAY (2002) – FULL TRANSCRIPT"
          ],
          [
           "Kevin Hart: Irresponsible (2019) – Transcript"
          ],
          [
           "Ken Jeong: You Complete Me, Ho (2019) – Full Transcript"
          ],
          [
           "Adam Sandler: 100% Fresh (2018) – Full Transcript"
          ],
          [
           "RON WHITE: IF YOU QUIT LISTENING, I’LL SHUT UP (2018) – FULL TRANSCRIPT"
          ],
          [
           "Joe Rogan: Strange Times (2018) – Full Transcript"
          ],
          [
           "D.L. Hughley: Contrarian (2018) – Transcript"
          ],
          [
           "Bert Kreischer: Secret Time (2018) – Transcript"
          ],
          [
           "Jim Norton: Contextually Inadequate (2015) – Transcript"
          ],
          [
           "BRAD WILLIAMS: DADDY ISSUES (2016) – Full Transcript"
          ],
          [
           "Deray Davis: How To Act Black (2017) – Transcript"
          ],
          [
           "JIM JEFFERIES: THIS IS ME NOW (2018) – Full transcript"
          ],
          [
           "KEVIN SMITH: SILENT BUT DEADLY (2018) – Full Transcript"
          ],
          [
           "BRENT MORIN: I’M BRENT MORIN (2015) – Full Transcript"
          ],
          [
           "Eddie Griffin: Undeniable (2018) – Transcript"
          ],
          [
           "Marlon Wayans: Woke-Ish (2018) – Transcript"
          ],
          [
           "Chris Rock: Bring the Pain (1996) – Transcript"
          ],
          [
           "ARI SHAFFIR: DOUBLE NEGATIVE (2017) – Full Transcript"
          ],
          [
           "Chris Rock: Tamborine (2018) – Transcript"
          ],
          [
           "Katt Williams: Great America (2018) – Transcript"
          ],
          [
           "JIMMY CARR: BEING FUNNY (2011) – Full Transcript"
          ],
          [
           "JIMMY CARR: LAUGHING AND JOKING (2013) – Full Transcript"
          ],
          [
           "D.L. Hughley: Unapologetic (2007) – Transcript"
          ],
          [
           "BRIDGET EVERETT: GYNECOLOGICAL WONDER (2015) – Full Transcript"
          ],
          [
           "Chris Rock: Never Scared (2004) – Transcript"
          ],
          [
           "Chris Tucker: Live (2015) – Transcript"
          ],
          [
           "Kevin Hart: What Now (2016) – Transcript"
          ],
          [
           "Kevin Hart: Let Me Explain (2013) – Transcript"
          ],
          [
           "Tom Segura: Disgraceful (2018) – Transcript"
          ],
          [
           "Craig Ferguson: Does This Need To Be Said? (2011) – Transcript"
          ],
          [
           "Dave Chappelle: The Bird Revelation (2017) – Transcript"
          ],
          [
           "Dave Chappelle: Equanimity (2017) – Transcript"
          ],
          [
           "CRAIG FERGUSON: I’M HERE TO HELP (2013) – Full Transcript"
          ],
          [
           "WHITNEY CUMMINGS: I LOVE YOU (2014) – Full Transcript"
          ],
          [
           "WHITNEY CUMMINGS: I’M YOUR GIRLFRIEND (2016) – Full Transcript"
          ],
          [
           "Russell Howard Live: Dingledodies (2009) – Full Transcript"
          ],
          [
           "Paul Mooney: A Piece of My Mind – Godbless America (2014) – Transcript"
          ],
          [
           "Chris Rock: Kill The Messenger – London, New York, Johannesburg (2008) – Transcript"
          ],
          [
           "Chris Rock: Bigger & Blacker (1999) – Transcript"
          ],
          [
           "LISA LAMPANELLI: BACK TO THE DRAWING BOARD (2015) – Full Transcript"
          ],
          [
           "ERIK GRIFFIN: THE UGLY TRUTH (2017) – Full Transcript"
          ],
          [
           "Richard Pryor: Live And Smokin’ (1971) – Transcript"
          ],
          [
           "RICHARD PRYOR: …HERE AND NOW (1983) – Full Transcript"
          ],
          [
           "Jim Jefferies: Alcoholocaust (2010) – Transcript"
          ],
          [
           "Kevin Hart: Seriously Funny (2010) – Transcript"
          ],
          [
           "AZIZ ANSARI: INTIMATE MOMENTS FOR A SENSUAL EVENING (2010) – Full Transcript"
          ],
          [
           "BIG JAY OAKERSON: LIVE AT WEBSTER HALL (2016) – Full Transcript"
          ],
          [
           "George Carlin at USC (1977) – Full Transcript"
          ],
          [
           "Jim Norton: Mouthful Of Shame (2017) Transcript"
          ],
          [
           "Michael Che Matters (2016) – Transcript"
          ],
          [
           "Joe Rogan: Triggered (2016) – Transcript"
          ],
          [
           "Bo Burnham: Make Happy (2016) – Transcript"
          ],
          [
           "BILL HICKS: REVELATIONS (1993) – FULL TRANSCRIPT"
          ],
          [
           "DOUG STANHOPE: BEFORE TURNING THE GUN ON HIMSELF (2012) – Transcript"
          ],
          [
           "DOUG STANHOPE: DEADBEAT HERO (2004) – Transcript"
          ],
          [
           "JIM JEFFERIES: CONTRABAND (2008) – Full Transcript"
          ],
          [
           "GEORGE CARLIN: AGAIN!* (1978) – Full Transcript"
          ],
          [
           "Louis C.K.: Chewed Up (2008) – Transcript"
          ],
          [
           "Tom Segura: Completely Normal (2014) – Transcript"
          ],
          [
           "Louis C.K.: Live at the Beacon Theatre (2011) – Transcript"
          ],
          [
           "JIM JEFFERIES: I SWEAR TO GOD (2009) – FULL TRANSCRIPT"
          ],
          [
           "LOUIS C.K.: HILARIOUS (2010) – Full Transcript"
          ],
          [
           "LOUIS C.K.: SHAMELESS (2007) – Full Transcript"
          ],
          [
           "BILL BURR: I’M SORRY YOU FEEL THAT WAY (2014) – Full Transcript"
          ],
          [
           "BILL BURR: YOU PEOPLE ARE ALL THE SAME (2012) – Full Transcript"
          ],
          [
           "Dave Chappelle: For What It’s Worth (2004) – Transcript"
          ],
          [
           "Dave Chappelle: Killin’ Them Softly (2000) – Transcript"
          ],
          [
           "Eddie Griffin: You Can Tell ‘Em I Said It! (2011) – Transcript"
          ],
          [
           "BILL BURR: WALK YOUR WAY OUT (2017) – Full Transcript"
          ],
          [
           "Katt Williams: Live (2006) – Transcript"
          ],
          [
           "Richard Pryor: Live in Concert (1979) – Transcript"
          ],
          [
           "RICHARD PRYOR: LIVE ON THE SUNSET STRIP (1982) – Full Transcript"
          ],
          [
           "JIM JEFFERIES: BARE (2014) – Full Transcript"
          ],
          [
           "Dave Chappelle: Deep in the Heart of Texas (2017) – Transcript"
          ],
          [
           "Tom Segura: Mostly Stories (2016) – Transcript"
          ],
          [
           "JIM JEFFERIES: FREEDUMB (2016) – Full Transcript"
          ],
          [
           "Eddie Murphy: Delirious (1983) – Transcript"
          ],
          [
           "Dave Chappelle: The Age of Spin (2017) – Transcript"
          ],
          [
           "GEORGE CARLIN: BACK IN TOWN (1996) – Full transcript"
          ],
          [
           "LOUIS C.K.: 2017 – Full transcript"
          ],
          [
           "George Carlin: It’s Bad For Ya (2008) Full transcript"
          ],
          [
           "JIM JEFFERIES ON GUN CONTROL [FULL TRANSCRIPT]"
          ]
         ],
         "hovertemplate": "color=1<br>x=%{x}<br>y=%{y}<br>hover_data_0=%{customdata[0]}<extra></extra>",
         "legendgroup": "1",
         "marker": {
          "color": "#EF553B",
          "symbol": "circle"
         },
         "mode": "markers",
         "name": "1",
         "orientation": "v",
         "showlegend": true,
         "type": "scatter",
         "x": [
          0.9996046966188589,
          2.845348465371668,
          1.0209991569016976,
          0.414449172753329,
          3.208113407911701,
          4.011871105556326,
          4.227739397241133,
          4.403086015102675,
          1.2799916868991292,
          -0.6452630096942962,
          -0.20871121192883693,
          4.189140280042189,
          3.105878759310014,
          1.7716566118294785,
          -0.22876816202211614,
          5.41620530657315,
          2.727570312290756,
          4.577843785733985,
          2.240913668499873,
          3.108169347912522,
          3.4130542522806855,
          3.2627442620531903,
          4.602071216999517,
          1.0442304008453467,
          1.9208501253887205,
          3.774395182111922,
          4.079260496433006,
          5.290541459204859,
          4.869206864466485,
          2.632560467467565,
          4.7229164825248855,
          1.2024716013639614,
          0.3454374187129956,
          4.366070287379543,
          0.9377126922798071,
          0.7998902244323529,
          0.23792197965256637,
          3.6365274343877774,
          0.7414384540857498,
          1.511525648376127,
          -0.706674440436259,
          3.5829762375783543,
          4.6101778815247085,
          0.696621567241486,
          3.531124226965551,
          5.307318754153252,
          0.6050997414377257,
          4.110140185024317,
          3.6491477259230356,
          3.268477472729332,
          3.1308239463248984,
          2.04504896469358,
          -0.22688820371522836,
          -0.14881869515969035,
          2.84495984204734,
          2.3965213104362415,
          1.4954049186902862,
          5.1408483973951755,
          4.318414872297965,
          4.869321586637202,
          3.273200385948762,
          2.7743344687832097,
          0.5635087005400988,
          0.5109817346384817,
          2.109357390465293,
          3.3508776516967083,
          2.1427700576684243,
          0.6876232197851883,
          1.9405406505670626,
          3.0441794965859956,
          3.7482201090192535,
          1.5244211999735129,
          4.000806755901161,
          2.1285499603953846,
          5.119548465541382,
          -0.5707362862345216,
          4.19916842866071,
          0.919837366596418,
          3.754109898263247,
          0.05701755133375151,
          4.185510052975199,
          4.439756321937793,
          2.352079349563103,
          0.7089617001406684,
          -0.20476995435137668,
          0.012241660870037148,
          0.5255839387265099,
          -0.39995659104666503,
          0.7587055246646627,
          2.2295311472320627,
          4.661252631277556,
          3.9235867091145216,
          0.06604132579639864,
          4.476686397336856,
          3.8926769495723614,
          3.6311075995748188,
          4.570745942016382,
          1.8297504130773572,
          3.4395721093968366,
          2.1389856882382623,
          3.230081037539541,
          2.5341304851170787,
          4.3206977796526616,
          4.085853595451334,
          3.0686825337747003,
          3.475211251101964,
          4.466901939402244,
          1.5368553596345256,
          2.217374415524968,
          0.3149028121852997,
          -0.5727316070404401,
          2.525991551198288,
          0.03733289563552158,
          0.022939639142399066
         ],
         "xaxis": "x",
         "y": [
          2.6075241074008004,
          -0.5235237941421494,
          2.6160230858344558,
          4.787715386834839,
          2.3255509591077734,
          -0.6052539583416522,
          -0.16707939431607657,
          1.2134920046447457,
          2.7518219849443013,
          4.695652103198662,
          2.266874088917921,
          -1.2296086233659547,
          0.30228070244172156,
          1.7293065796104818,
          4.119567556903004,
          -0.8681449577449354,
          -1.4150887211574656,
          -1.082305007268327,
          1.533147734861448,
          -1.0909412521062107,
          2.0890762748416427,
          -0.6860839111529802,
          0.518594888473752,
          3.222863108270763,
          3.1267245865563016,
          1.876282415890753,
          0.7403723390241552,
          -0.5765071536956003,
          0.019542836798493553,
          2.0088931071417746,
          0.6125797709873749,
          3.265485501578261,
          4.105840107390285,
          -0.12513427574860067,
          1.198185677181832,
          3.3863743196965674,
          3.7344445391815313,
          2.0388822649245597,
          3.788699343316913,
          1.3548548665243996,
          3.3226391002802718,
          -0.23146627263051772,
          -0.291406121660148,
          2.950966468870775,
          0.26972401529578355,
          -1.1790133789568586,
          3.828147803059803,
          1.684623876859515,
          1.6239244358380522,
          -2.112974882328611,
          2.10390494586982,
          3.9403645734229262,
          3.309878033739325,
          2.41814463521954,
          2.9702556346790194,
          0.878077528760669,
          4.081160183026538,
          -0.8418665498389718,
          -0.525949249815272,
          -0.3331008876874382,
          -2.457391369304349,
          0.9345979570392464,
          3.77709038261175,
          3.442156991005679,
          2.1241207933755124,
          1.1221278450426082,
          -0.8695900794082158,
          -0.018590032445937595,
          2.2207683713582016,
          2.7731295121171806,
          2.3876498402525437,
          2.687866698491225,
          0.9638354844961672,
          0.9028929316397599,
          0.1456828334882697,
          2.9625559414597338,
          -1.4636292823581782,
          1.7313096809270303,
          1.2986264549208308,
          3.793075070462987,
          -0.6380410111751611,
          -0.2260221242140055,
          3.025459826422492,
          1.9028706423457507,
          4.844871887410012,
          4.907733954803903,
          5.190186651114072,
          2.934143766446874,
          4.575742736297718,
          1.3081163585403235,
          -1.240450278136609,
          0.07571191800681376,
          3.827879303953347,
          -0.5132471491246052,
          0.4295582823204427,
          1.3906242750732984,
          0.397791581182682,
          2.5545789579525966,
          0.1421510903562704,
          2.3200115923912716,
          1.575277520539758,
          1.4448863547053665,
          1.3960781818977857,
          -0.2147454539707302,
          0.8189000084806344,
          0.511936451327802,
          -1.6942795947994436,
          2.5661124289422377,
          3.8848598305154622,
          3.5240272594493334,
          5.28865262039327,
          1.2611685046289998,
          4.239863200093783,
          1.7020684590471375
         ],
         "yaxis": "y"
        },
        {
         "customdata": [
          [
           "Drew Michael: Drew Michael (2018) | Transcript"
          ],
          [
           "Drew Michael: Red Blue Green (2021) | Transcript"
          ],
          [
           "Kathleen Madigan: Madigan Again (2013) – Transcript"
          ],
          [
           "Tom Papa: You’re Doing Great! (2020) – Transcript"
          ],
          [
           "Tom Papa: Human Mule (2016) – Transcript"
          ],
          [
           "Tig Notaro: Boyish Girl Interrupted (2015) – Transcript"
          ],
          [
           "Joe List: I Hate Myself (2020) – Transcript"
          ],
          [
           "Nate Bargatze: The Greatest Average American (2021) – Transcript"
          ],
          [
           "Vir Das: Outside in – The Lockdown Special (2020) – Transcript"
          ],
          [
           "Larry the Cable Guy – Remain Seated (2020) – Transcript"
          ],
          [
           "Craig Ferguson: Just Being Honest (2015) – Transcript"
          ],
          [
           "Sam Morril: I Got This (2020) – Transcript"
          ],
          [
           "MICHAEL MCINTYRE: SHOWMAN (2020) – TRANSCRIPT"
          ],
          [
           "ROB SCHNEIDER: ASIAN MOMMA, MEXICAN KIDS (2020) – TRANSCRIPT"
          ],
          [
           "URZILA CARLSON: OVERQUALIFIED LOSER (2020) – FULL TRANSCRIPT"
          ],
          [
           "Mark Normand: Don’t Be Yourself (2017) – Transcript"
          ],
          [
           "Chris Gethard: Career Suicide (2017) – Transcript"
          ],
          [
           "RAMY YOUSSEF: FEELINGS (2019) – FULL TRANSCRIPT"
          ],
          [
           "KENNY SEBASTIAN DON’T BE THAT GUY (2017) – FULL TRANSCRIPT"
          ],
          [
           "Hasan Minhaj: Homecoming King (2017) – Transcript"
          ],
          [
           "JIMMY O. YANG: GOOD DEAL (2020) – FULL TRANSCRIPT"
          ],
          [
           "JO KOY: LIGHTS OUT (2012) – FULL TRANSCRIPT"
          ],
          [
           "T.J. MILLER: NO REAL REASON (2011) – FULL TRANSCRIPT"
          ],
          [
           "CHRIS D’ELIA: WHITE MALE. BLACK COMIC. (2013) – FULL TRANSCRIPT"
          ],
          [
           "Tom Segura: Ball Hog (2020) – Transcript"
          ],
          [
           "Bert Kreischer: Hey Big Boy (2020) – Transcript"
          ],
          [
           "PETE DAVIDSON: SMD (2016) – FULL TRANSCRIPT"
          ],
          [
           "Sara Pascoe: LadsLadsLads (2019) – Full Transcript"
          ],
          [
           "Michelle Wolf: Joke Show (2019) – Full Transcript"
          ],
          [
           "Seth Meyers: Lobby Baby (2019) – Full Transcript"
          ],
          [
           "Emily Heller: Ice Thickeners (2019) – Full Transcript"
          ],
          [
           "Whitney Cummings: Can I Touch It? (2019) – Full Transcript"
          ],
          [
           "Aziz Ansari: Right Now (2019) – Transcript"
          ],
          [
           "Wanda Sykes: Not Normal (2019) – Full Transcript"
          ],
          [
           "Demetri Martin: Live (At The Time) (2015) | Transcript"
          ],
          [
           "Chelsea Peretti: One of the Greats (2014) – Full Transcript"
          ],
          [
           "Anthony Jeselnik: Fire in the Maternity Ward (2019) – Transcript"
          ],
          [
           "Nate Bargatze: The Tennessee Kid (2019) – Full Transcript"
          ],
          [
           "Nate Bargatze: Full Time Magic (2015) – Full Transcript"
          ],
          [
           "Amy Schumer: Growing (2019) – Full Transcript"
          ],
          [
           "Enissa Amani: Ehrenwort (2018) Full Transcript"
          ],
          [
           "Ray Romano: Right Here, Around the Corner (2019) – Full Transcript"
          ],
          [
           "Gabriel “Fluffy” Iglesias: One Show Fits All (2019) – Full Transcript"
          ],
          [
           "Sebastian Maniscalco: Stay Hungry (2019) – Full Transcript"
          ],
          [
           "Ellen Degeneres: Relatable (2018) – Transcript"
          ],
          [
           "Pete Holmes: Dirty Clean (2018) – Full Transcript"
          ],
          [
           "Trevor Noah: Son of Patricia (2018) – Transcript"
          ],
          [
           "Mo Amer: The Vagabond (2018) – Full Transcript"
          ],
          [
           "Joe Mande’s Award-Winning Comedy Special (2017) – Full Transcript"
          ],
          [
           "Henry Rollins: Keep Talking, Pal (2018) – Full Transcript"
          ],
          [
           "Iliza Shlesinger: Freezing Hot (2015) – Full Transcript"
          ],
          [
           "Iliza Shlesinger: War Paint (2013) – Transcript"
          ],
          [
           "Demetri Martin: The Overthinker (2018) | Transcript"
          ],
          [
           "Iliza Shlesinger: Elder Millennial (2018) – Full Transcript"
          ],
          [
           "RUSSELL PETERS: OUTSOURCED (2006) – Full Transcript"
          ],
          [
           "RUSSELL PETERS: ALMOST FAMOUS (2016) – Full Transcript"
          ],
          [
           "MICHAEL MCINTYRE: HELLO WEMBLEY! (2009) – Full Transcript"
          ],
          [
           "KEVIN JAMES: NEVER DON’T GIVE UP (2018) – Full Transcript"
          ],
          [
           "NIKKI GLASER: PERFECT (2016) – Full Transcript"
          ],
          [
           "KAVIN JAY: EVERYBODY CALM DOWN! (2018) – Full Transcript"
          ],
          [
           "GREG DAVIES: YOU MAGNIFICENT BEAST (2018) – Full Transcript"
          ],
          [
           "Mike Birbiglia: My Girlfriend’s Boyfriend (2013) – Transcript"
          ],
          [
           "TODD GLASS: ACT HAPPY (2018) – Full Transcript"
          ],
          [
           "MICHELLE WOLF: NICE LADY (2017) – Full Transcript"
          ],
          [
           "ELLEN DEGENERES: THE BEGINNING (2000) – Full Transcript"
          ],
          [
           "RUSSELL HOWARD: RECALIBRATE (2017) – Full Transcript"
          ],
          [
           "SARAH MILLICAN: CHATTERBOX LIVE (2011) – Full Transcript"
          ],
          [
           "Anjelah Johnson: Not Fancy (2015) – Transcript"
          ],
          [
           "CRISTELA ALONZO: LOWER CLASSY (2017) – Full Transcript"
          ],
          [
           "AZIZ ANSARI: LIVE IN MADISON SQUARE GARDEN (2015) – Full Transcript"
          ],
          [
           "AZIZ ANSARI: BURIED ALIVE (2013) – Full Transcript"
          ],
          [
           "Sarah Silverman: Jesus Is Magic (2005) – Transcript"
          ],
          [
           "SARAH SILVERMAN: WE ARE MIRACLES (2013) – Full Transcript"
          ],
          [
           "Gabriel Iglesias: Hot And Fluffy (2007) – Transcript"
          ],
          [
           "GABRIEL IGLESIAS: I’M NOT FAT … I’M FLUFFY (2009) – Full Transcript"
          ],
          [
           "GABRIEL IGLESIAS: I’M SORRY FOR WHAT I SAID WHEN I WAS HUNGRY (2016) – Full Transcript"
          ],
          [
           "RORY SCOVEL TRIES STAND-UP FOR THE FIRST TIME (2017) – Full Transcript"
          ],
          [
           "JEN KIRKMAN: JUST KEEP LIVIN’? (2017) – Full Transcript"
          ],
          [
           "DANIEL TOSH: COMPLETELY SERIOUS (2007) – Full Transcript"
          ],
          [
           "Donald Glover: Weirdo (2012) – Transcript"
          ],
          [
           "Norm Macdonald: Hitler’s Dog, Gossip & Trickery (2017) – Transcript"
          ],
          [
           "DANIEL TOSH: PEOPLE PLEASER (2016) – FULL TRANSCRIPT"
          ],
          [
           "Marc Maron: More Later (2015) – Full Transcript"
          ],
          [
           "AMY SCHUMER: MOSTLY SEX STUFF (2012) – Full Transcript"
          ],
          [
           "AMY SCHUMER: LIVE AT THE APOLLO (2015) – Full Transcript"
          ],
          [
           "Trevor Noah: Lost In Translation (2015) – Transcript"
          ],
          [
           "MARIA BAMFORD: OLD BABY (2017) – FULL TRANSCRIPT"
          ],
          [
           "ANTHONY JESELNIK: CALIGULA (2013) – Full Transcript"
          ],
          [
           "Anthony Jeselnik: Thoughts And Prayers (2015) – Full Transcript"
          ],
          [
           "SARAH SILVERMAN: A SPECK OF DUST (2017) – Full Transcript"
          ],
          [
           "AMY SCHUMER: THE LEATHER SPECIAL (2017) – Full Transcript"
          ],
          [
           "LOUIS C.K.: OH MY GOD (2013) – Full Transcript"
          ],
          [
           "LOUIS C.K.: LIVE AT  THE COMEDY STORE (2015) – Transcript"
          ],
          [
           "Patrice O’Neal: Elephant in the Room (2011) – Transcript"
          ],
          [
           "Trevor Noah: Afraid Of The Dark (2017) – Transcript"
          ],
          [
           "BILL BURR: LET IT GO (2010) – TRANSCRIPT"
          ],
          [
           "Reggie Watts: Spatial (2016) – Full Transcript"
          ]
         ],
         "hovertemplate": "color=0<br>x=%{x}<br>y=%{y}<br>hover_data_0=%{customdata[0]}<extra></extra>",
         "legendgroup": "0",
         "marker": {
          "color": "#00cc96",
          "symbol": "circle"
         },
         "mode": "markers",
         "name": "0",
         "orientation": "v",
         "showlegend": true,
         "type": "scatter",
         "x": [
          1.9178563273287725,
          -0.9597763239680299,
          0.5316913613127413,
          0.05087976002490401,
          -0.1272300523934509,
          -2.0419529823654003,
          0.3728480699094047,
          -0.021941182138521288,
          -0.9835127477824956,
          -1.8254380123414933,
          -0.9004971488849497,
          -0.33995340490287596,
          -1.3289894602278824,
          2.0873107625881353,
          0.21775093380679073,
          2.00597303642119,
          -2.3619044795613724,
          0.9687733568867114,
          -0.049673649059788265,
          -0.8948589375554754,
          -0.9824509073447968,
          2.3071284842476114,
          -1.1867718619551508,
          1.4635308141691015,
          0.7802275857873001,
          0.22602869408838994,
          0.595843133731601,
          -2.0593924112157653,
          0.07362913175842369,
          -2.654135551266084,
          -1.8398026430726173,
          -0.37520362558978626,
          -1.0119045077093098,
          0.24313842274594294,
          -0.8109844715066669,
          -1.3644349817669255,
          -1.696549647686474,
          0.2624842803218759,
          0.1921659772009923,
          -0.14371221710113982,
          -1.6778500441126092,
          1.0425358461001413,
          -0.652439572512774,
          -0.6263919402338414,
          -1.7919022513343283,
          1.609431227267987,
          -0.9307275121069776,
          -1.0481697372503596,
          -1.5062067124524507,
          -2.2941595148221343,
          0.7024828857510951,
          0.962120720975895,
          -0.9427628477347497,
          -1.290700464665132,
          0.7964862462844887,
          0.8192072179874444,
          0.29012073960952406,
          0.734046251834654,
          1.3410685677884115,
          -1.540655433935807,
          -0.32602594246547434,
          -1.971896746558918,
          0.9408992612202925,
          -0.40406800986646774,
          -1.2849485977403923,
          1.2830297435372715,
          0.5762638937180478,
          -2.161042938260017,
          1.163991782837582,
          0.5704027575610906,
          -0.010241386227326147,
          0.6007170243516767,
          0.43309996516292265,
          0.3459242867477489,
          0.3973176471111159,
          -0.6934033340335237,
          0.7700476614112488,
          0.4487617788639165,
          0.016268980464450883,
          0.5920087254952003,
          -0.19540203507120588,
          -1.3315760467349367,
          1.4813793052209638,
          1.033784755060392,
          0.052959000260455795,
          0.003999535922140329,
          -2.708429846541807,
          -0.912448397357714,
          -0.08933912250877896,
          -1.3661353238794405,
          0.13161514062936436,
          0.22614192682322867,
          1.0911728628673092,
          1.4075920535531894,
          0.6269185144021482,
          1.3017550520879915,
          -0.12510612880079913
         ],
         "xaxis": "x",
         "y": [
          -3.3365630761772307,
          -1.1302233943356124,
          -3.3106103117299237,
          -1.65040563735032,
          -1.9237819650843988,
          -2.1946685427164585,
          -2.977919827545798,
          -3.4189777680706053,
          -2.2114055897160725,
          -2.181104024517949,
          -1.5124751539373853,
          -2.9896730403453224,
          -2.6503475842708317,
          -3.1646883935553323,
          -0.46753812296339475,
          -3.046677826219583,
          -1.687872261549011,
          -2.7879370252825173,
          -1.7416592347923403,
          -2.9738419840518038,
          -2.2689334122290403,
          -2.3750124568496784,
          -2.0802235025467635,
          -3.1684045141183748,
          -3.848911508479862,
          -2.6655860066875956,
          -4.16772581136191,
          -0.948503888394206,
          -1.791314238552052,
          -0.9937856831473936,
          -1.3262167786284078,
          -1.3755616603411858,
          -1.5766359178811267,
          -1.275838737545736,
          -3.1409303080338034,
          -2.3531731899819004,
          -0.5910497199468354,
          -4.074124730014051,
          -3.8437002782624727,
          -3.522402531112768,
          -2.162608787852241,
          -4.171556090702238,
          -3.3550326617894735,
          -2.960440609917762,
          -2.0875970029197806,
          -2.5208623283811855,
          -3.1592097619390906,
          -2.6646488124875147,
          -2.380219375949541,
          -2.4849852810224573,
          -2.0369095958423773,
          -2.8309005978916324,
          -2.994146209686673,
          -1.917899350429248,
          -2.3455250949293736,
          -3.21596193143675,
          -2.5465439696407266,
          -4.090148268705955,
          -4.099027870654484,
          -2.1575391545672695,
          -1.548691890827472,
          -1.2868451285196885,
          -3.5985321464483064,
          -1.5892733069036804,
          -1.3024421311242143,
          -2.5426729546803104,
          -2.5028960644897165,
          -2.275086545466753,
          -3.081071318964235,
          -2.609666782546291,
          -1.7214736932842571,
          -2.4800117135613484,
          -0.8982826782785356,
          -3.5808136778880124,
          -3.710445471621909,
          -2.1699903676719923,
          -3.788850338799426,
          -3.873247437405418,
          -2.336754037327037,
          -2.2189055377297575,
          -2.2880804760497937,
          -0.929552199222142,
          -3.189595291167691,
          -4.302545415639217,
          -2.670750860087761,
          -3.1061531641781674,
          -1.6182549152276393,
          -1.8931980410943616,
          -2.0821026957792075,
          -3.343128097127352,
          -3.692557242659691,
          0.7233937881370898,
          -2.5395705350493056,
          -3.30443271003953,
          -3.3343159705944947,
          -2.28204875929326,
          -1.3805591533604333
         ],
         "yaxis": "y"
        }
       ],
       "layout": {
        "legend": {
         "title": {
          "text": "color"
         },
         "tracegroupgap": 0
        },
        "margin": {
         "t": 60
        },
        "template": {
         "data": {
          "bar": [
           {
            "error_x": {
             "color": "#2a3f5f"
            },
            "error_y": {
             "color": "#2a3f5f"
            },
            "marker": {
             "line": {
              "color": "#E5ECF6",
              "width": 0.5
             },
             "pattern": {
              "fillmode": "overlay",
              "size": 10,
              "solidity": 0.2
             }
            },
            "type": "bar"
           }
          ],
          "barpolar": [
           {
            "marker": {
             "line": {
              "color": "#E5ECF6",
              "width": 0.5
             },
             "pattern": {
              "fillmode": "overlay",
              "size": 10,
              "solidity": 0.2
             }
            },
            "type": "barpolar"
           }
          ],
          "carpet": [
           {
            "aaxis": {
             "endlinecolor": "#2a3f5f",
             "gridcolor": "white",
             "linecolor": "white",
             "minorgridcolor": "white",
             "startlinecolor": "#2a3f5f"
            },
            "baxis": {
             "endlinecolor": "#2a3f5f",
             "gridcolor": "white",
             "linecolor": "white",
             "minorgridcolor": "white",
             "startlinecolor": "#2a3f5f"
            },
            "type": "carpet"
           }
          ],
          "choropleth": [
           {
            "colorbar": {
             "outlinewidth": 0,
             "ticks": ""
            },
            "type": "choropleth"
           }
          ],
          "contour": [
           {
            "colorbar": {
             "outlinewidth": 0,
             "ticks": ""
            },
            "colorscale": [
             [
              0,
              "#0d0887"
             ],
             [
              0.1111111111111111,
              "#46039f"
             ],
             [
              0.2222222222222222,
              "#7201a8"
             ],
             [
              0.3333333333333333,
              "#9c179e"
             ],
             [
              0.4444444444444444,
              "#bd3786"
             ],
             [
              0.5555555555555556,
              "#d8576b"
             ],
             [
              0.6666666666666666,
              "#ed7953"
             ],
             [
              0.7777777777777778,
              "#fb9f3a"
             ],
             [
              0.8888888888888888,
              "#fdca26"
             ],
             [
              1,
              "#f0f921"
             ]
            ],
            "type": "contour"
           }
          ],
          "contourcarpet": [
           {
            "colorbar": {
             "outlinewidth": 0,
             "ticks": ""
            },
            "type": "contourcarpet"
           }
          ],
          "heatmap": [
           {
            "colorbar": {
             "outlinewidth": 0,
             "ticks": ""
            },
            "colorscale": [
             [
              0,
              "#0d0887"
             ],
             [
              0.1111111111111111,
              "#46039f"
             ],
             [
              0.2222222222222222,
              "#7201a8"
             ],
             [
              0.3333333333333333,
              "#9c179e"
             ],
             [
              0.4444444444444444,
              "#bd3786"
             ],
             [
              0.5555555555555556,
              "#d8576b"
             ],
             [
              0.6666666666666666,
              "#ed7953"
             ],
             [
              0.7777777777777778,
              "#fb9f3a"
             ],
             [
              0.8888888888888888,
              "#fdca26"
             ],
             [
              1,
              "#f0f921"
             ]
            ],
            "type": "heatmap"
           }
          ],
          "heatmapgl": [
           {
            "colorbar": {
             "outlinewidth": 0,
             "ticks": ""
            },
            "colorscale": [
             [
              0,
              "#0d0887"
             ],
             [
              0.1111111111111111,
              "#46039f"
             ],
             [
              0.2222222222222222,
              "#7201a8"
             ],
             [
              0.3333333333333333,
              "#9c179e"
             ],
             [
              0.4444444444444444,
              "#bd3786"
             ],
             [
              0.5555555555555556,
              "#d8576b"
             ],
             [
              0.6666666666666666,
              "#ed7953"
             ],
             [
              0.7777777777777778,
              "#fb9f3a"
             ],
             [
              0.8888888888888888,
              "#fdca26"
             ],
             [
              1,
              "#f0f921"
             ]
            ],
            "type": "heatmapgl"
           }
          ],
          "histogram": [
           {
            "marker": {
             "pattern": {
              "fillmode": "overlay",
              "size": 10,
              "solidity": 0.2
             }
            },
            "type": "histogram"
           }
          ],
          "histogram2d": [
           {
            "colorbar": {
             "outlinewidth": 0,
             "ticks": ""
            },
            "colorscale": [
             [
              0,
              "#0d0887"
             ],
             [
              0.1111111111111111,
              "#46039f"
             ],
             [
              0.2222222222222222,
              "#7201a8"
             ],
             [
              0.3333333333333333,
              "#9c179e"
             ],
             [
              0.4444444444444444,
              "#bd3786"
             ],
             [
              0.5555555555555556,
              "#d8576b"
             ],
             [
              0.6666666666666666,
              "#ed7953"
             ],
             [
              0.7777777777777778,
              "#fb9f3a"
             ],
             [
              0.8888888888888888,
              "#fdca26"
             ],
             [
              1,
              "#f0f921"
             ]
            ],
            "type": "histogram2d"
           }
          ],
          "histogram2dcontour": [
           {
            "colorbar": {
             "outlinewidth": 0,
             "ticks": ""
            },
            "colorscale": [
             [
              0,
              "#0d0887"
             ],
             [
              0.1111111111111111,
              "#46039f"
             ],
             [
              0.2222222222222222,
              "#7201a8"
             ],
             [
              0.3333333333333333,
              "#9c179e"
             ],
             [
              0.4444444444444444,
              "#bd3786"
             ],
             [
              0.5555555555555556,
              "#d8576b"
             ],
             [
              0.6666666666666666,
              "#ed7953"
             ],
             [
              0.7777777777777778,
              "#fb9f3a"
             ],
             [
              0.8888888888888888,
              "#fdca26"
             ],
             [
              1,
              "#f0f921"
             ]
            ],
            "type": "histogram2dcontour"
           }
          ],
          "mesh3d": [
           {
            "colorbar": {
             "outlinewidth": 0,
             "ticks": ""
            },
            "type": "mesh3d"
           }
          ],
          "parcoords": [
           {
            "line": {
             "colorbar": {
              "outlinewidth": 0,
              "ticks": ""
             }
            },
            "type": "parcoords"
           }
          ],
          "pie": [
           {
            "automargin": true,
            "type": "pie"
           }
          ],
          "scatter": [
           {
            "marker": {
             "colorbar": {
              "outlinewidth": 0,
              "ticks": ""
             }
            },
            "type": "scatter"
           }
          ],
          "scatter3d": [
           {
            "line": {
             "colorbar": {
              "outlinewidth": 0,
              "ticks": ""
             }
            },
            "marker": {
             "colorbar": {
              "outlinewidth": 0,
              "ticks": ""
             }
            },
            "type": "scatter3d"
           }
          ],
          "scattercarpet": [
           {
            "marker": {
             "colorbar": {
              "outlinewidth": 0,
              "ticks": ""
             }
            },
            "type": "scattercarpet"
           }
          ],
          "scattergeo": [
           {
            "marker": {
             "colorbar": {
              "outlinewidth": 0,
              "ticks": ""
             }
            },
            "type": "scattergeo"
           }
          ],
          "scattergl": [
           {
            "marker": {
             "colorbar": {
              "outlinewidth": 0,
              "ticks": ""
             }
            },
            "type": "scattergl"
           }
          ],
          "scattermapbox": [
           {
            "marker": {
             "colorbar": {
              "outlinewidth": 0,
              "ticks": ""
             }
            },
            "type": "scattermapbox"
           }
          ],
          "scatterpolar": [
           {
            "marker": {
             "colorbar": {
              "outlinewidth": 0,
              "ticks": ""
             }
            },
            "type": "scatterpolar"
           }
          ],
          "scatterpolargl": [
           {
            "marker": {
             "colorbar": {
              "outlinewidth": 0,
              "ticks": ""
             }
            },
            "type": "scatterpolargl"
           }
          ],
          "scatterternary": [
           {
            "marker": {
             "colorbar": {
              "outlinewidth": 0,
              "ticks": ""
             }
            },
            "type": "scatterternary"
           }
          ],
          "surface": [
           {
            "colorbar": {
             "outlinewidth": 0,
             "ticks": ""
            },
            "colorscale": [
             [
              0,
              "#0d0887"
             ],
             [
              0.1111111111111111,
              "#46039f"
             ],
             [
              0.2222222222222222,
              "#7201a8"
             ],
             [
              0.3333333333333333,
              "#9c179e"
             ],
             [
              0.4444444444444444,
              "#bd3786"
             ],
             [
              0.5555555555555556,
              "#d8576b"
             ],
             [
              0.6666666666666666,
              "#ed7953"
             ],
             [
              0.7777777777777778,
              "#fb9f3a"
             ],
             [
              0.8888888888888888,
              "#fdca26"
             ],
             [
              1,
              "#f0f921"
             ]
            ],
            "type": "surface"
           }
          ],
          "table": [
           {
            "cells": {
             "fill": {
              "color": "#EBF0F8"
             },
             "line": {
              "color": "white"
             }
            },
            "header": {
             "fill": {
              "color": "#C8D4E3"
             },
             "line": {
              "color": "white"
             }
            },
            "type": "table"
           }
          ]
         },
         "layout": {
          "annotationdefaults": {
           "arrowcolor": "#2a3f5f",
           "arrowhead": 0,
           "arrowwidth": 1
          },
          "autotypenumbers": "strict",
          "coloraxis": {
           "colorbar": {
            "outlinewidth": 0,
            "ticks": ""
           }
          },
          "colorscale": {
           "diverging": [
            [
             0,
             "#8e0152"
            ],
            [
             0.1,
             "#c51b7d"
            ],
            [
             0.2,
             "#de77ae"
            ],
            [
             0.3,
             "#f1b6da"
            ],
            [
             0.4,
             "#fde0ef"
            ],
            [
             0.5,
             "#f7f7f7"
            ],
            [
             0.6,
             "#e6f5d0"
            ],
            [
             0.7,
             "#b8e186"
            ],
            [
             0.8,
             "#7fbc41"
            ],
            [
             0.9,
             "#4d9221"
            ],
            [
             1,
             "#276419"
            ]
           ],
           "sequential": [
            [
             0,
             "#0d0887"
            ],
            [
             0.1111111111111111,
             "#46039f"
            ],
            [
             0.2222222222222222,
             "#7201a8"
            ],
            [
             0.3333333333333333,
             "#9c179e"
            ],
            [
             0.4444444444444444,
             "#bd3786"
            ],
            [
             0.5555555555555556,
             "#d8576b"
            ],
            [
             0.6666666666666666,
             "#ed7953"
            ],
            [
             0.7777777777777778,
             "#fb9f3a"
            ],
            [
             0.8888888888888888,
             "#fdca26"
            ],
            [
             1,
             "#f0f921"
            ]
           ],
           "sequentialminus": [
            [
             0,
             "#0d0887"
            ],
            [
             0.1111111111111111,
             "#46039f"
            ],
            [
             0.2222222222222222,
             "#7201a8"
            ],
            [
             0.3333333333333333,
             "#9c179e"
            ],
            [
             0.4444444444444444,
             "#bd3786"
            ],
            [
             0.5555555555555556,
             "#d8576b"
            ],
            [
             0.6666666666666666,
             "#ed7953"
            ],
            [
             0.7777777777777778,
             "#fb9f3a"
            ],
            [
             0.8888888888888888,
             "#fdca26"
            ],
            [
             1,
             "#f0f921"
            ]
           ]
          },
          "colorway": [
           "#636efa",
           "#EF553B",
           "#00cc96",
           "#ab63fa",
           "#FFA15A",
           "#19d3f3",
           "#FF6692",
           "#B6E880",
           "#FF97FF",
           "#FECB52"
          ],
          "font": {
           "color": "#2a3f5f"
          },
          "geo": {
           "bgcolor": "white",
           "lakecolor": "white",
           "landcolor": "#E5ECF6",
           "showlakes": true,
           "showland": true,
           "subunitcolor": "white"
          },
          "hoverlabel": {
           "align": "left"
          },
          "hovermode": "closest",
          "mapbox": {
           "style": "light"
          },
          "paper_bgcolor": "white",
          "plot_bgcolor": "#E5ECF6",
          "polar": {
           "angularaxis": {
            "gridcolor": "white",
            "linecolor": "white",
            "ticks": ""
           },
           "bgcolor": "#E5ECF6",
           "radialaxis": {
            "gridcolor": "white",
            "linecolor": "white",
            "ticks": ""
           }
          },
          "scene": {
           "xaxis": {
            "backgroundcolor": "#E5ECF6",
            "gridcolor": "white",
            "gridwidth": 2,
            "linecolor": "white",
            "showbackground": true,
            "ticks": "",
            "zerolinecolor": "white"
           },
           "yaxis": {
            "backgroundcolor": "#E5ECF6",
            "gridcolor": "white",
            "gridwidth": 2,
            "linecolor": "white",
            "showbackground": true,
            "ticks": "",
            "zerolinecolor": "white"
           },
           "zaxis": {
            "backgroundcolor": "#E5ECF6",
            "gridcolor": "white",
            "gridwidth": 2,
            "linecolor": "white",
            "showbackground": true,
            "ticks": "",
            "zerolinecolor": "white"
           }
          },
          "shapedefaults": {
           "line": {
            "color": "#2a3f5f"
           }
          },
          "ternary": {
           "aaxis": {
            "gridcolor": "white",
            "linecolor": "white",
            "ticks": ""
           },
           "baxis": {
            "gridcolor": "white",
            "linecolor": "white",
            "ticks": ""
           },
           "bgcolor": "#E5ECF6",
           "caxis": {
            "gridcolor": "white",
            "linecolor": "white",
            "ticks": ""
           }
          },
          "title": {
           "x": 0.05
          },
          "xaxis": {
           "automargin": true,
           "gridcolor": "white",
           "linecolor": "white",
           "ticks": "",
           "title": {
            "standoff": 15
           },
           "zerolinecolor": "white",
           "zerolinewidth": 2
          },
          "yaxis": {
           "automargin": true,
           "gridcolor": "white",
           "linecolor": "white",
           "ticks": "",
           "title": {
            "standoff": 15
           },
           "zerolinecolor": "white",
           "zerolinewidth": 2
          }
         }
        },
        "xaxis": {
         "anchor": "y",
         "domain": [
          0,
          1
         ],
         "title": {
          "text": "x"
         }
        },
        "yaxis": {
         "anchor": "x",
         "domain": [
          0,
          1
         ],
         "title": {
          "text": "y"
         }
        }
       }
      },
      "text/html": [
       "<div>                            <div id=\"6c266fe9-b1f0-4028-a6a0-ee713705d013\" class=\"plotly-graph-div\" style=\"height:525px; width:100%;\"></div>            <script type=\"text/javascript\">                require([\"plotly\"], function(Plotly) {                    window.PLOTLYENV=window.PLOTLYENV || {};                                    if (document.getElementById(\"6c266fe9-b1f0-4028-a6a0-ee713705d013\")) {                    Plotly.newPlot(                        \"6c266fe9-b1f0-4028-a6a0-ee713705d013\",                        [{\"customdata\":[[\"Jim Gaffigan: Comedy Monster (2021) | Transcript\"],[\"Kathleen Madigan: Bothering Jesus (2016) \\u2013 Transcript\"],[\"Phil Wang: Philly Philly Wang Wang (2021) \\u2013 Transcript\"],[\"Tom Papa: Freaked Out (2013) \\u2013 Transcript\"],[\"Bo Burnham: Inside (2021) \\u2013 Transcript\"],[\"Brian Regan: On The Rocks (2021) \\u2013 Transcript\"],[\"Sarah Cooper: Everything\\u2019s Fine (2020) \\u2013 Transcript\"],[\"Bo Burnham: Words, Words, Words (2010) \\u2013 Transcript\"],[\"RONNY CHIENG: ASIAN COMEDIAN DESTROYS AMERICA (2019) \\u2013 TRANSCRIPT\"],[\"Craig Ferguson: A Wee Bit o\\u2019 Revolution (2009) \\u2013 Transcript\"],[\"Jack Whitehall: I\\u2019m Only Joking (2020) | Transcript\"],[\"ROY WOOD JR.: FATHER FIGURE (2017) \\u2013 FULL TRANSCRIPT\"],[\"BILLY CONNOLLY: HIGH HORSE TOUR LIVE (2016) \\u2013 FULL TRANSCRIPT\"],[\"Hannah Gadsby: Douglas (2020) \\u2013 Transcript\"],[\"PATTON OSWALT: I LOVE EVERYTHING (2020) \\u2013 FULL TRANSCRIPT\"],[\"LEE MACK: GOING OUT LIVE (2010) \\u2013 FULL TRANSCRIPT\"],[\"Jerry Seinfeld: 23 Hours To Kill (2020) \\u2013 Transcript\"],[\"MARIA BAMFORD: WEAKNESS IS THE BRAND (2020) \\u2013 FULL TRANSCRIPT\"],[\"Amanda Seales: I Be Knowin\\u2019 (2019) \\u2013 Transcript\"],[\"Stewart Lee: Carpet Remnant World (2012) \\u2013 Full Transcript\"],[\"Stewart Lee: Content Provider (2018) \\u2013 Transcript\"],[\"Jim Gaffigan: Quality Time (2019) \\u2013 Full Transcript\"],[\"Kevin Bridges: A Whole Different Story (2015) \\u2013 Full Transcript\"],[\"Kevin Bridges: The Story So Far\\u2026 Live in Glasgow (2010) \\u2013 Full Transcript\"],[\"Kevin Bridges: The Story Continues (2012) \\u2013 Full Transcript\"],[\"Mike Birbiglia: The New One (2019) \\u2013 Full Transcript\"],[\"Iliza Shlesinger: Unveiled (2019) \\u2013 Full Transcript\"],[\"David Cross: Oh Come On (2019) \\u2013 Full Transcript\"],[\"Colin Quinn: The New York Story (2016) \\u2013 Full Transcript\"],[\"George Carlin: What Am I Doing in New Jersey? (1988) \\u2013 Full Transcript\"],[\"Roy Wood Jr.: No One Loves You (2019) \\u2013 Transcript\"],[\"Jimmy Carr: The Best of Ultimate Gold Greatest Hits (2019) \\u2013 Full Transcript\"],[\"W. Kamau Bell: Private School Negro (2018) \\u2013 Transcript\"],[\"Sebastian Maniscalco: Aren\\u2019t You Embarrassed? (2014) \\u2013 Full Transcript\"],[\"Sebastian Maniscalco: What\\u2019s Wrong with People? (2012) \\u2013 Full Transcript\"],[\"Oh, Hello On Broadway (2017) \\u2013 Transcript\"],[\"Vir Das: Losing It (2018) \\u2013 Full Transcript\"],[\"Jeff Foxworthy & Larry the Cable Guy: We\\u2019ve Been Thinking (2016) \\u2013 Full Transcript\"],[\"Jeff Foxworthy: Totally Committed (1998) \\u2013 Full Transcript\"],[\"BILL MAHER: LIVE FROM OKLAHOMA (2018) \\u2013 Full Transcript\"],[\"Rowan Atkinson Live (1992) \\u2013 Transcript\"],[\"Iliza Shlesinger: Confirmed Kills (2016) \\u2013 Full Transcript\"],[\"JIM GAFFIGAN: NOBLE APE (2018) \\u2013 Full Transcript\"],[\"Hannah Gadsby: Nanette (2018) \\u2013 Transcript\"],[\"RICKY GERVAIS: LIVE IV \\u2013 SCIENCE (2010) \\u2013 Full Transcript\"],[\"RON WHITE: A LITTLE UNPROFESSIONAL (2012) \\u2013 Full Transcript\"],[\"Ali Wong: Hard Knock Wife (2018) \\u2013 Transcript\"],[\"John Mulaney: Kid Gorgeous At Radio City (2018) \\u2013 Transcript\"],[\"George Carlin: You Are All Diseased (1999) \\u2013 Transcript\"],[\"RICKY GERVAIS: HUMANITY (2018) \\u2013 Full Transcript\"],[\"ADEL KARAM: LIVE FROM BEIRUT (2018) \\u2013 Full Transcript\"],[\"STEWART LEE: 90s COMEDIAN (2006) \\u2013 Full Transcript\"],[\"DAVE ATTELL: ROAD WORK (2014) \\u2013 Full Transcript\"],[\"Eddie Izzard \\u2013 Glorious (1997) \\u2013 Transcript\"],[\"FRED ARMISEN: STANDUP FOR DRUMMERS (2018) \\u2013 Full Transcript\"],[\"DANA CARVEY: STRAIGHT WHITE MALE, 60 (2016) \\u2013 Full Transcript\"],[\"EDDIE IZZARD: STRIPPED (2009) \\u2013 Full Transcript\"],[\"BRIAN REGAN: STANDING UP (2007) \\u2013 Full Transcript\"],[\"BRIAN REGAN: NUNCHUCKS AND FLAMETHROWERS (2017) \\u2013 Full Transcript\"],[\"Eddie Izzard: Unrepeatable (1994) | Transcript\"],[\"Stewart Lee: Stand-Up Comedian (2005) \\u2013 Transcript\"],[\"JIMMY CARR: FUNNY BUSINESS (2016) \\u2013 Full Transcript\"],[\"Eddie Izzard: Dress To Kill (1999) \\u2013 Transcript\"],[\"FAHIM ANWAR: THERE\\u2019S NO BUSINESS LIKE SHOW BUSINESS (2017) \\u2013 Transcript\"],[\"MAZ JOBRANI: IMMIGRANT (2017) \\u2013 Full Transcript\"],[\"TODD BARRY: SPICY HONEY (2017) \\u2013 Full Transcript\"],[\"Jerry Seinfeld: I\\u2019m Telling You for the Last Time (1998) \\u2013 Transcript\"],[\"RICKY GERVAIS LIVE 2: POLITICS (2004) \\u2013 Full Transcript\"],[\"CHRISTINA PAZSITZKY: MOTHER INFERIOR (2017) \\u2013 FULL TRANSCRIPT\"],[\"Jack Whitehall: At Large (2017) \\u2013 Transcript\"],[\"JUDAH FRIEDLANDER: AMERICA IS THE GREATEST COUNTRY IN THE UNITED STATES (2017) \\u2013 Full Transcript\"],[\"PATTON OSWALT: ANNIHILATION (2017) \\u2013 Full Transcript\"],[\"BILL MAHER: LIVE FROM D.C. (2014) \\u2013 Full Transcript\"],[\"Pablo Francisco: Ouch! Live From San Jose (2006) \\u2013 Full Transcript\"],[\"BILL MAHER\\u2026 BUT I\\u2019M NOT WRONG (2010) \\u2013 Full Transcript\"],[\"RUSSELL BRAND: MESSIAH COMPLEX (2013) \\u2013 Full Transcript\"],[\"AL MADRIGAL: WHY IS THE RABBIT CRYING? (2013) \\u2013 Full Transcript\"],[\"NEAL BRENNAN: 3 MICS (2017)- FULL TRANSCRIPT\"],[\"John Mulaney: New In Town (2012) \\u2013 Transcript\"],[\"ALI WONG: BABY COBRA (2016) \\u2013 Full Transcript\"],[\"Dylan Moran: Off The Hook (2015) \\u2013 Transcript\"],[\"Hannibal Buress: Comedy Camisado (2016) \\u2013 Transcript\"],[\"Neal Brennan: Women And Black Dudes (2014) \\u2013 Transcript\"],[\"NICK OFFERMAN: AMERICAN HAM (2014) \\u2013 Full Transcript\"],[\"Bo Burnham: What (2013) \\u2013 Transcript\"],[\"John Mulaney: The Comeback Kid (2015) \\u2013 Transcript\"],[\"LEWIS BLACK: BLACK TO THE FUTURE (2016) \\u2013 Full Transcript\"],[\"Mike Birbiglia: Thank God for Jokes (2017) \\u2013 Transcript\"],[\"GEORGE CARLIN: PLAYING WITH YOUR HEAD (1986) \\u2013 Full Transcript\"],[\"GEORGE CARLIN: CARLIN ON CAMPUS (1984) \\u2013 Full Transcript\"],[\"RICKY GERVAIS: OUT OF ENGLAND 2 (2010) \\u2013 Full Transcript\"],[\"JIM GAFFIGAN: CINCO (2017) \\u2013 Full Transcript\"],[\"BILL HICKS: RELENTLESS (1991) \\u2013 Transcript\"],[\"Daniel Tosh: Happy Thoughts (2011) \\u2013 Transcript\"],[\"George Carlin: Jamming in New York (1992) \\u2013 Transcript\"],[\"GEORGE CARLIN: COMPLAINTS AND GRIEVANCES (2001) \\u2013 FULL TRANSCRIPT\"],[\"GEORGE CARLIN: LIFE IS WORTH LOSING (2006) \\u2013 Transcript\"],[\"Dave Chappelle: 8:46 \\u2013 Transcript\"]],\"hovertemplate\":\"color=2<br>x=%{x}<br>y=%{y}<br>hover_data_0=%{customdata[0]}<extra></extra>\",\"legendgroup\":\"2\",\"marker\":{\"color\":\"#636efa\",\"symbol\":\"circle\"},\"mode\":\"markers\",\"name\":\"2\",\"orientation\":\"v\",\"showlegend\":true,\"type\":\"scatter\",\"x\":[-2.605444074791742,-1.766331429569207,-3.725770709837039,-2.2657714496561523,-1.8574410379800301,-3.2241321886589067,-3.106756965695772,-1.9071851906292852,-3.6745661792069284,-2.1216264037037287,-2.9066858155539093,-1.2347967484428473,-2.271033807084365,-1.841935259795043,-4.086741373534276,-1.603727609323167,-1.87848536292169,-3.3362645179979307,-2.720156204814955,-3.6021584382896092,-4.040403553505578,-2.8214073976637093,-3.166394417242796,-4.137724031963507,-1.0769764470053536,-2.9479273949879463,-2.5417582105956793,-2.8128957130377414,-2.6228355728527006,-4.124443783180409,-1.6941432780164656,-3.2677837883535243,-2.4982383860827073,-2.482237309900671,-0.5693372932191313,-3.5045753164015743,-4.408888212463925,-2.949830700847724,-3.9647774787278003,-3.8339261322626172,-4.454900918841181,-0.8244036796879881,-3.452368604229572,-2.8261494536426666,-1.8267101646921073,-0.9339523432009099,-2.312236041452752,-3.926513065562465,-1.2531295878698956,-2.511449688804253,-2.5059023368694233,-3.7221219131972934,-1.2419026663051347,-2.501564840293169,-2.574127457257603,-3.7074927452349598,-2.81234529094336,-2.0277094410559835,-3.1312092484585725,-3.177281740849565,-4.410884331470166,-0.5233042450107763,-3.1117560244390976,-2.231638702796909,-2.0574644927657304,-3.6162397064290595,-3.6323259606532274,-3.863173071395729,-2.10865032705544,-3.6610704457317227,-3.666855559304366,-2.7494558487586964,-4.334090699511473,-1.695485375993177,-4.1853846020273355,-3.711852608763955,-3.1025743838503357,-3.447769922750016,-2.914309643451324,-2.803562510375048,-2.288701538230191,-2.651894690319094,-3.668607582591784,-1.1412885555455017,-0.003254479006365129,-3.356938048570701,-4.267678953140872,-3.2111143062244114,-2.5431786007875745,-2.190184914465364,-1.882445508457123,-2.3779416934152326,-1.1651115870971713,-3.197827591248909,-2.921697062190633,-0.786709722816839,-0.7091481776540685,-1.2864543537949538],\"xaxis\":\"x\",\"y\":[-2.0131640172233434,-1.8205379795900771,0.24321855508288548,-0.2621386623092629,2.7563406690172445,-0.8011124704442562,-0.49775104101294937,3.1858114801885433,0.5478623507355111,-1.7791315269769281,0.8874515967126978,0.4184655031789497,1.1829565302970508,-0.8341343793526327,0.49691378241893963,-0.1153673753057378,-0.8397682684019405,-1.224567685536175,0.19593592031909335,1.0443409991929502,1.510004695267972,-1.740971841014889,2.1763845454445185,1.3760514287807337,4.485998372919763,-1.4493315981203412,-0.34853906258625916,0.6208703375182926,0.2438939107242666,2.069175726299222,1.1712437168546974,0.5717604775486588,-0.3001244310945494,-0.9124815338345184,-1.3372425388125437,0.19886623968359046,1.0909622135398134,0.5073303417565183,0.5106226161339762,1.5216413135102151,1.586965308838051,-0.17397428135599563,-0.8494932968512338,0.003433982883333842,-0.7058588551465014,2.5840265218237186,3.893090757028902,0.26278504568794964,5.354385095828829,-0.9957059788586017,-0.5457495962768348,1.1381987688143567,-1.0405345234524896,0.23450668096248334,-0.9340582114067701,0.01739934984279655,0.3588684774233629,-0.3726192001724661,-0.9146964090430266,1.3040751840135432,1.6932634399226276,0.6907035713428126,1.1134742308739451,-0.14395586372439265,-0.6303101838011395,-0.19553794319319245,1.2304367767417626,1.0752345854802832,-0.6758674350263278,0.30428250889172614,1.0855474595980257,0.8279683320808165,1.2637928341021505,-0.6084059338744858,1.3650064741399714,1.5409060091995095,0.9206642641741782,1.1245658509385945,-0.48628442803858174,-0.30284520779047147,1.0048083262995846,0.029689584523528125,0.36963968001986097,3.7462902118248094,0.11069500497855596,-0.4018634507273392,1.115669605034645,0.38875087075202464,0.8344207828637997,2.033038561211059,-0.9593196333797707,-1.6410583183896488,4.007283073407007,0.9510632167673893,3.9007894365474556,4.545899863020395,3.9507879333501212,3.649786390975048],\"yaxis\":\"y\"},{\"customdata\":[[\"Louis C. K.: Sorry (2021) | Transcript\"],[\"Mo Amer: Mohammed in Texas (2021) | Transcript\"],[\"Dave Chappelle: The Closer (2021) | Transcript\"],[\"Doug Stanhope: Beer Hall Putsch (2013) \\u2013 Transcript\"],[\"Chris Rock Total Blackout: The Tamborine Extended Cut \\u2013 Transcript\"],[\"Kevin Hart: Zero F**ks Given (2020) \\u2013 Transcript\"],[\"Sam Jay: 3 in the Morning (2020) \\u2013 Transcript\"],[\"GEORGE LOPEZ: WE\\u2019LL DO IT FOR HALF (2020) \\u2013 FULL TRANSCRIPT\"],[\"JIM JEFFERIES: INTOLERANT (2020) \\u2013 FULL TRANSCRIPT\"],[\"George Carlin: Doin\\u2019 It Again (1990) \\u2013 Transcript\"],[\"ERIC ANDRE: LEGALIZE EVERYTHING (2020)\"],[\"RUSSELL PETERS: DEPORTED (2020) \\u2013 FULL TRANSCRIPT\"],[\"LEE MACK: LIVE (2007) \\u2013 FULL TRANSCRIPT\"],[\"JIM NORTON: AMERICAN DEGENERATE (2013) \\u2013 FULL TRANSCRIPT\"],[\"Jim Norton: Monster Rain (2007) \\u2013 Transcript\"],[\"Chris D\\u2019Elia: Man on Fire (2017) \\u2013 Full Transcript\"],[\"Marc Maron: End Times Fun (2020) \\u2013 Full Transcript\"],[\"PETE DAVIDSON: ALIVE FROM NEW YORK (2020) \\u2013 FULL TRANSCRIPT\"],[\"Dan Soder: Son of a Gary (2019) \\u2013 Full Transcript\"],[\"Tiffany Haddish: Black Mitzvah (2019) \\u2013 Transcript\"],[\"Arsenio Hall: Smart and Classy (2019) \\u2013 Transcript\"],[\"Nikki Glaser: Bangin\\u2019 (2019) \\u2013 Full Transcript\"],[\"Bill Burr: Paper Tiger (2019) \\u2013 Transcript\"],[\"Dave Chappelle: Sticks & Stones (2019) \\u2013 Transcript\"],[\"Ralphie May: Filthy Animal Tour (2014) \\u2013 Transcript\"],[\"Mike Epps: Only One Mike (2019) \\u2013 Full Transcript\"],[\"Adam DeVine: Best Time of Our Lives (2019) \\u2013 Full Transcript\"],[\"Jo Koy: Live from Seattle (2017) \\u2013 Full Transcript\"],[\"Jo Koy: Comin\\u2019 in Hot (2019) \\u2013 Full Transcript\"],[\"Cedric the Entertainer: Live from the Ville (2016) \\u2013 Transcript\"],[\"Eddie Murphy: Raw (1987) \\u2013 Transcript\"],[\"Robin Williams: Weapons of Self Destruction (2009) \\u2013 Full Transcript\"],[\"ROBIN WILLIAMS LIVE ON BROADWAY (2002) \\u2013 FULL TRANSCRIPT\"],[\"Kevin Hart: Irresponsible (2019) \\u2013 Transcript\"],[\"Ken Jeong: You Complete Me, Ho (2019) \\u2013 Full Transcript\"],[\"Adam Sandler: 100% Fresh (2018) \\u2013 Full Transcript\"],[\"RON WHITE: IF YOU QUIT LISTENING, I\\u2019LL SHUT UP (2018) \\u2013 FULL TRANSCRIPT\"],[\"Joe Rogan: Strange Times (2018) \\u2013 Full Transcript\"],[\"D.L. Hughley: Contrarian (2018) \\u2013 Transcript\"],[\"Bert Kreischer: Secret Time (2018) \\u2013 Transcript\"],[\"Jim Norton: Contextually Inadequate (2015) \\u2013 Transcript\"],[\"BRAD WILLIAMS: DADDY ISSUES (2016) \\u2013 Full Transcript\"],[\"Deray Davis: How To Act Black (2017) \\u2013 Transcript\"],[\"JIM JEFFERIES: THIS IS ME NOW (2018) \\u2013 Full transcript\"],[\"KEVIN SMITH: SILENT BUT DEADLY (2018) \\u2013 Full Transcript\"],[\"BRENT MORIN: I\\u2019M BRENT MORIN (2015) \\u2013 Full Transcript\"],[\"Eddie Griffin: Undeniable (2018) \\u2013 Transcript\"],[\"Marlon Wayans: Woke-Ish (2018) \\u2013 Transcript\"],[\"Chris Rock: Bring the Pain (1996) \\u2013 Transcript\"],[\"ARI SHAFFIR: DOUBLE NEGATIVE (2017) \\u2013 Full Transcript\"],[\"Chris Rock: Tamborine (2018) \\u2013 Transcript\"],[\"Katt Williams: Great America (2018) \\u2013 Transcript\"],[\"JIMMY CARR: BEING FUNNY (2011) \\u2013 Full Transcript\"],[\"JIMMY CARR: LAUGHING AND JOKING (2013) \\u2013 Full Transcript\"],[\"D.L. Hughley: Unapologetic (2007) \\u2013 Transcript\"],[\"BRIDGET EVERETT: GYNECOLOGICAL WONDER (2015) \\u2013 Full Transcript\"],[\"Chris Rock: Never Scared (2004) \\u2013 Transcript\"],[\"Chris Tucker: Live (2015) \\u2013 Transcript\"],[\"Kevin Hart: What Now (2016) \\u2013 Transcript\"],[\"Kevin Hart: Let Me Explain (2013) \\u2013 Transcript\"],[\"Tom Segura: Disgraceful (2018) \\u2013 Transcript\"],[\"Craig Ferguson: Does This Need To Be Said? (2011) \\u2013 Transcript\"],[\"Dave Chappelle: The Bird Revelation (2017) \\u2013 Transcript\"],[\"Dave Chappelle: Equanimity (2017) \\u2013 Transcript\"],[\"CRAIG FERGUSON: I\\u2019M HERE TO HELP (2013) \\u2013 Full Transcript\"],[\"WHITNEY CUMMINGS: I LOVE YOU (2014) \\u2013 Full Transcript\"],[\"WHITNEY CUMMINGS: I\\u2019M YOUR GIRLFRIEND (2016) \\u2013 Full Transcript\"],[\"Russell Howard Live: Dingledodies (2009) \\u2013 Full Transcript\"],[\"Paul Mooney: A Piece of My Mind \\u2013 Godbless America (2014) \\u2013 Transcript\"],[\"Chris Rock: Kill The Messenger \\u2013 London, New York, Johannesburg (2008) \\u2013 Transcript\"],[\"Chris Rock: Bigger & Blacker (1999) \\u2013 Transcript\"],[\"LISA LAMPANELLI: BACK TO THE DRAWING BOARD (2015) \\u2013 Full Transcript\"],[\"ERIK GRIFFIN: THE UGLY TRUTH (2017) \\u2013 Full Transcript\"],[\"Richard Pryor: Live And Smokin\\u2019 (1971) \\u2013 Transcript\"],[\"RICHARD PRYOR: \\u2026HERE AND NOW (1983) \\u2013 Full Transcript\"],[\"Jim Jefferies: Alcoholocaust (2010) \\u2013 Transcript\"],[\"Kevin Hart: Seriously Funny (2010) \\u2013 Transcript\"],[\"AZIZ ANSARI: INTIMATE MOMENTS FOR A SENSUAL EVENING (2010) \\u2013 Full Transcript\"],[\"BIG JAY OAKERSON: LIVE AT WEBSTER HALL (2016) \\u2013 Full Transcript\"],[\"George Carlin at USC (1977) \\u2013 Full Transcript\"],[\"Jim Norton: Mouthful Of Shame (2017) Transcript\"],[\"Michael Che Matters (2016) \\u2013 Transcript\"],[\"Joe Rogan: Triggered (2016) \\u2013 Transcript\"],[\"Bo Burnham: Make Happy (2016) \\u2013 Transcript\"],[\"BILL HICKS: REVELATIONS (1993) \\u2013 FULL TRANSCRIPT\"],[\"DOUG STANHOPE: BEFORE TURNING THE GUN ON HIMSELF (2012) \\u2013 Transcript\"],[\"DOUG STANHOPE: DEADBEAT HERO (2004) \\u2013 Transcript\"],[\"JIM JEFFERIES: CONTRABAND (2008) \\u2013 Full Transcript\"],[\"GEORGE CARLIN: AGAIN!* (1978) \\u2013 Full Transcript\"],[\"Louis C.K.: Chewed Up (2008) \\u2013 Transcript\"],[\"Tom Segura: Completely Normal (2014) \\u2013 Transcript\"],[\"Louis C.K.: Live at the Beacon Theatre (2011) \\u2013 Transcript\"],[\"JIM JEFFERIES: I SWEAR TO GOD (2009) \\u2013 FULL TRANSCRIPT\"],[\"LOUIS C.K.: HILARIOUS (2010) \\u2013 Full Transcript\"],[\"LOUIS C.K.: SHAMELESS (2007) \\u2013 Full Transcript\"],[\"BILL BURR: I\\u2019M SORRY YOU FEEL THAT WAY (2014) \\u2013 Full Transcript\"],[\"BILL BURR: YOU PEOPLE ARE ALL THE SAME (2012) \\u2013 Full Transcript\"],[\"Dave Chappelle: For What It\\u2019s Worth (2004) \\u2013 Transcript\"],[\"Dave Chappelle: Killin\\u2019 Them Softly (2000) \\u2013 Transcript\"],[\"Eddie Griffin: You Can Tell \\u2018Em I Said It! (2011) \\u2013 Transcript\"],[\"BILL BURR: WALK YOUR WAY OUT (2017) \\u2013 Full Transcript\"],[\"Katt Williams: Live (2006) \\u2013 Transcript\"],[\"Richard Pryor: Live in Concert (1979) \\u2013 Transcript\"],[\"RICHARD PRYOR: LIVE ON THE SUNSET STRIP (1982) \\u2013 Full Transcript\"],[\"JIM JEFFERIES: BARE (2014) \\u2013 Full Transcript\"],[\"Dave Chappelle: Deep in the Heart of Texas (2017) \\u2013 Transcript\"],[\"Tom Segura: Mostly Stories (2016) \\u2013 Transcript\"],[\"JIM JEFFERIES: FREEDUMB (2016) \\u2013 Full Transcript\"],[\"Eddie Murphy: Delirious (1983) \\u2013 Transcript\"],[\"Dave Chappelle: The Age of Spin (2017) \\u2013 Transcript\"],[\"GEORGE CARLIN: BACK IN TOWN (1996) \\u2013 Full transcript\"],[\"LOUIS C.K.: 2017 \\u2013 Full transcript\"],[\"George Carlin: It\\u2019s Bad For Ya (2008) Full transcript\"],[\"JIM JEFFERIES ON GUN CONTROL [FULL TRANSCRIPT]\"]],\"hovertemplate\":\"color=1<br>x=%{x}<br>y=%{y}<br>hover_data_0=%{customdata[0]}<extra></extra>\",\"legendgroup\":\"1\",\"marker\":{\"color\":\"#EF553B\",\"symbol\":\"circle\"},\"mode\":\"markers\",\"name\":\"1\",\"orientation\":\"v\",\"showlegend\":true,\"type\":\"scatter\",\"x\":[0.9996046966188589,2.845348465371668,1.0209991569016976,0.414449172753329,3.208113407911701,4.011871105556326,4.227739397241133,4.403086015102675,1.2799916868991292,-0.6452630096942962,-0.20871121192883693,4.189140280042189,3.105878759310014,1.7716566118294785,-0.22876816202211614,5.41620530657315,2.727570312290756,4.577843785733985,2.240913668499873,3.108169347912522,3.4130542522806855,3.2627442620531903,4.602071216999517,1.0442304008453467,1.9208501253887205,3.774395182111922,4.079260496433006,5.290541459204859,4.869206864466485,2.632560467467565,4.7229164825248855,1.2024716013639614,0.3454374187129956,4.366070287379543,0.9377126922798071,0.7998902244323529,0.23792197965256637,3.6365274343877774,0.7414384540857498,1.511525648376127,-0.706674440436259,3.5829762375783543,4.6101778815247085,0.696621567241486,3.531124226965551,5.307318754153252,0.6050997414377257,4.110140185024317,3.6491477259230356,3.268477472729332,3.1308239463248984,2.04504896469358,-0.22688820371522836,-0.14881869515969035,2.84495984204734,2.3965213104362415,1.4954049186902862,5.1408483973951755,4.318414872297965,4.869321586637202,3.273200385948762,2.7743344687832097,0.5635087005400988,0.5109817346384817,2.109357390465293,3.3508776516967083,2.1427700576684243,0.6876232197851883,1.9405406505670626,3.0441794965859956,3.7482201090192535,1.5244211999735129,4.000806755901161,2.1285499603953846,5.119548465541382,-0.5707362862345216,4.19916842866071,0.919837366596418,3.754109898263247,0.05701755133375151,4.185510052975199,4.439756321937793,2.352079349563103,0.7089617001406684,-0.20476995435137668,0.012241660870037148,0.5255839387265099,-0.39995659104666503,0.7587055246646627,2.2295311472320627,4.661252631277556,3.9235867091145216,0.06604132579639864,4.476686397336856,3.8926769495723614,3.6311075995748188,4.570745942016382,1.8297504130773572,3.4395721093968366,2.1389856882382623,3.230081037539541,2.5341304851170787,4.3206977796526616,4.085853595451334,3.0686825337747003,3.475211251101964,4.466901939402244,1.5368553596345256,2.217374415524968,0.3149028121852997,-0.5727316070404401,2.525991551198288,0.03733289563552158,0.022939639142399066],\"xaxis\":\"x\",\"y\":[2.6075241074008004,-0.5235237941421494,2.6160230858344558,4.787715386834839,2.3255509591077734,-0.6052539583416522,-0.16707939431607657,1.2134920046447457,2.7518219849443013,4.695652103198662,2.266874088917921,-1.2296086233659547,0.30228070244172156,1.7293065796104818,4.119567556903004,-0.8681449577449354,-1.4150887211574656,-1.082305007268327,1.533147734861448,-1.0909412521062107,2.0890762748416427,-0.6860839111529802,0.518594888473752,3.222863108270763,3.1267245865563016,1.876282415890753,0.7403723390241552,-0.5765071536956003,0.019542836798493553,2.0088931071417746,0.6125797709873749,3.265485501578261,4.105840107390285,-0.12513427574860067,1.198185677181832,3.3863743196965674,3.7344445391815313,2.0388822649245597,3.788699343316913,1.3548548665243996,3.3226391002802718,-0.23146627263051772,-0.291406121660148,2.950966468870775,0.26972401529578355,-1.1790133789568586,3.828147803059803,1.684623876859515,1.6239244358380522,-2.112974882328611,2.10390494586982,3.9403645734229262,3.309878033739325,2.41814463521954,2.9702556346790194,0.878077528760669,4.081160183026538,-0.8418665498389718,-0.525949249815272,-0.3331008876874382,-2.457391369304349,0.9345979570392464,3.77709038261175,3.442156991005679,2.1241207933755124,1.1221278450426082,-0.8695900794082158,-0.018590032445937595,2.2207683713582016,2.7731295121171806,2.3876498402525437,2.687866698491225,0.9638354844961672,0.9028929316397599,0.1456828334882697,2.9625559414597338,-1.4636292823581782,1.7313096809270303,1.2986264549208308,3.793075070462987,-0.6380410111751611,-0.2260221242140055,3.025459826422492,1.9028706423457507,4.844871887410012,4.907733954803903,5.190186651114072,2.934143766446874,4.575742736297718,1.3081163585403235,-1.240450278136609,0.07571191800681376,3.827879303953347,-0.5132471491246052,0.4295582823204427,1.3906242750732984,0.397791581182682,2.5545789579525966,0.1421510903562704,2.3200115923912716,1.575277520539758,1.4448863547053665,1.3960781818977857,-0.2147454539707302,0.8189000084806344,0.511936451327802,-1.6942795947994436,2.5661124289422377,3.8848598305154622,3.5240272594493334,5.28865262039327,1.2611685046289998,4.239863200093783,1.7020684590471375],\"yaxis\":\"y\"},{\"customdata\":[[\"Drew Michael: Drew Michael (2018) | Transcript\"],[\"Drew Michael: Red Blue Green (2021) | Transcript\"],[\"Kathleen Madigan: Madigan Again (2013) \\u2013 Transcript\"],[\"Tom Papa: You\\u2019re Doing Great! (2020) \\u2013 Transcript\"],[\"Tom Papa: Human Mule (2016) \\u2013 Transcript\"],[\"Tig Notaro: Boyish Girl Interrupted (2015) \\u2013 Transcript\"],[\"Joe List: I Hate Myself (2020) \\u2013 Transcript\"],[\"Nate Bargatze: The Greatest Average American (2021) \\u2013 Transcript\"],[\"Vir Das: Outside in \\u2013 The Lockdown Special (2020) \\u2013 Transcript\"],[\"Larry the Cable Guy \\u2013 Remain Seated (2020) \\u2013 Transcript\"],[\"Craig Ferguson: Just Being Honest (2015) \\u2013 Transcript\"],[\"Sam Morril: I Got This (2020) \\u2013 Transcript\"],[\"MICHAEL MCINTYRE: SHOWMAN (2020) \\u2013 TRANSCRIPT\"],[\"ROB SCHNEIDER: ASIAN MOMMA, MEXICAN KIDS (2020) \\u2013 TRANSCRIPT\"],[\"URZILA CARLSON: OVERQUALIFIED LOSER (2020) \\u2013 FULL TRANSCRIPT\"],[\"Mark Normand: Don\\u2019t Be Yourself (2017) \\u2013 Transcript\"],[\"Chris Gethard: Career Suicide (2017) \\u2013 Transcript\"],[\"RAMY YOUSSEF: FEELINGS (2019) \\u2013 FULL TRANSCRIPT\"],[\"KENNY SEBASTIAN DON\\u2019T BE THAT GUY (2017) \\u2013 FULL TRANSCRIPT\"],[\"Hasan Minhaj: Homecoming King (2017) \\u2013 Transcript\"],[\"JIMMY O. YANG: GOOD DEAL (2020) \\u2013 FULL TRANSCRIPT\"],[\"JO KOY: LIGHTS OUT (2012) \\u2013 FULL TRANSCRIPT\"],[\"T.J. MILLER: NO REAL REASON (2011) \\u2013 FULL TRANSCRIPT\"],[\"CHRIS D\\u2019ELIA: WHITE MALE. BLACK COMIC. (2013) \\u2013 FULL TRANSCRIPT\"],[\"Tom Segura: Ball Hog (2020) \\u2013 Transcript\"],[\"Bert Kreischer: Hey Big Boy (2020) \\u2013 Transcript\"],[\"PETE DAVIDSON: SMD (2016) \\u2013 FULL TRANSCRIPT\"],[\"Sara Pascoe: LadsLadsLads (2019) \\u2013 Full Transcript\"],[\"Michelle Wolf: Joke Show (2019) \\u2013 Full Transcript\"],[\"Seth Meyers: Lobby Baby (2019) \\u2013 Full Transcript\"],[\"Emily Heller: Ice Thickeners (2019) \\u2013 Full Transcript\"],[\"Whitney Cummings: Can I Touch It? (2019) \\u2013 Full Transcript\"],[\"Aziz Ansari: Right Now (2019) \\u2013 Transcript\"],[\"Wanda Sykes: Not Normal (2019) \\u2013 Full Transcript\"],[\"Demetri Martin: Live (At The Time) (2015) | Transcript\"],[\"Chelsea Peretti: One of the Greats (2014) \\u2013 Full Transcript\"],[\"Anthony Jeselnik: Fire in the Maternity Ward (2019) \\u2013 Transcript\"],[\"Nate Bargatze: The Tennessee Kid (2019) \\u2013 Full Transcript\"],[\"Nate Bargatze: Full Time Magic (2015) \\u2013 Full Transcript\"],[\"Amy Schumer: Growing (2019) \\u2013 Full Transcript\"],[\"Enissa Amani: Ehrenwort (2018) Full Transcript\"],[\"Ray Romano: Right Here, Around the Corner (2019) \\u2013 Full Transcript\"],[\"Gabriel \\u201cFluffy\\u201d Iglesias: One Show Fits All (2019) \\u2013 Full Transcript\"],[\"Sebastian Maniscalco: Stay Hungry (2019) \\u2013 Full Transcript\"],[\"Ellen Degeneres: Relatable (2018) \\u2013 Transcript\"],[\"Pete Holmes: Dirty Clean (2018) \\u2013 Full Transcript\"],[\"Trevor Noah: Son of Patricia (2018) \\u2013 Transcript\"],[\"Mo Amer: The Vagabond (2018) \\u2013 Full Transcript\"],[\"Joe Mande\\u2019s Award-Winning Comedy Special (2017) \\u2013 Full Transcript\"],[\"Henry Rollins: Keep Talking, Pal (2018) \\u2013 Full Transcript\"],[\"Iliza Shlesinger: Freezing Hot (2015) \\u2013 Full Transcript\"],[\"Iliza Shlesinger: War Paint (2013) \\u2013 Transcript\"],[\"Demetri Martin: The Overthinker (2018) | Transcript\"],[\"Iliza Shlesinger: Elder Millennial (2018) \\u2013 Full Transcript\"],[\"RUSSELL PETERS: OUTSOURCED (2006) \\u2013 Full Transcript\"],[\"RUSSELL PETERS: ALMOST FAMOUS (2016) \\u2013 Full Transcript\"],[\"MICHAEL MCINTYRE: HELLO WEMBLEY! (2009) \\u2013 Full Transcript\"],[\"KEVIN JAMES: NEVER DON\\u2019T GIVE UP (2018) \\u2013 Full Transcript\"],[\"NIKKI GLASER: PERFECT (2016) \\u2013 Full Transcript\"],[\"KAVIN JAY: EVERYBODY CALM DOWN! (2018) \\u2013 Full Transcript\"],[\"GREG DAVIES: YOU MAGNIFICENT BEAST (2018) \\u2013 Full Transcript\"],[\"Mike Birbiglia: My Girlfriend\\u2019s Boyfriend (2013) \\u2013 Transcript\"],[\"TODD GLASS: ACT HAPPY (2018) \\u2013 Full Transcript\"],[\"MICHELLE WOLF: NICE LADY (2017) \\u2013 Full Transcript\"],[\"ELLEN DEGENERES: THE BEGINNING (2000) \\u2013 Full Transcript\"],[\"RUSSELL HOWARD: RECALIBRATE (2017) \\u2013 Full Transcript\"],[\"SARAH MILLICAN: CHATTERBOX LIVE (2011) \\u2013 Full Transcript\"],[\"Anjelah Johnson: Not Fancy (2015) \\u2013 Transcript\"],[\"CRISTELA ALONZO: LOWER CLASSY (2017) \\u2013 Full Transcript\"],[\"AZIZ ANSARI: LIVE IN MADISON SQUARE GARDEN (2015) \\u2013 Full Transcript\"],[\"AZIZ ANSARI: BURIED ALIVE (2013) \\u2013 Full Transcript\"],[\"Sarah Silverman: Jesus Is Magic (2005) \\u2013 Transcript\"],[\"SARAH SILVERMAN: WE ARE MIRACLES (2013) \\u2013 Full Transcript\"],[\"Gabriel Iglesias: Hot And Fluffy (2007) \\u2013 Transcript\"],[\"GABRIEL IGLESIAS: I\\u2019M NOT FAT \\u2026 I\\u2019M FLUFFY (2009) \\u2013 Full Transcript\"],[\"GABRIEL IGLESIAS: I\\u2019M SORRY FOR WHAT I SAID WHEN I WAS HUNGRY (2016) \\u2013 Full Transcript\"],[\"RORY SCOVEL TRIES STAND-UP FOR THE FIRST TIME (2017) \\u2013 Full Transcript\"],[\"JEN KIRKMAN: JUST KEEP LIVIN\\u2019? (2017) \\u2013 Full Transcript\"],[\"DANIEL TOSH: COMPLETELY SERIOUS (2007) \\u2013 Full Transcript\"],[\"Donald Glover: Weirdo (2012) \\u2013 Transcript\"],[\"Norm Macdonald: Hitler\\u2019s Dog, Gossip & Trickery (2017) \\u2013 Transcript\"],[\"DANIEL TOSH: PEOPLE PLEASER (2016) \\u2013 FULL TRANSCRIPT\"],[\"Marc Maron: More Later (2015) \\u2013 Full Transcript\"],[\"AMY SCHUMER: MOSTLY SEX STUFF (2012) \\u2013 Full Transcript\"],[\"AMY SCHUMER: LIVE AT THE APOLLO (2015) \\u2013 Full Transcript\"],[\"Trevor Noah: Lost In Translation (2015) \\u2013 Transcript\"],[\"MARIA BAMFORD: OLD BABY (2017) \\u2013 FULL TRANSCRIPT\"],[\"ANTHONY JESELNIK: CALIGULA (2013) \\u2013 Full Transcript\"],[\"Anthony Jeselnik: Thoughts And Prayers (2015) \\u2013 Full Transcript\"],[\"SARAH SILVERMAN: A SPECK OF DUST (2017) \\u2013 Full Transcript\"],[\"AMY SCHUMER: THE LEATHER SPECIAL (2017) \\u2013 Full Transcript\"],[\"LOUIS C.K.: OH MY GOD (2013) \\u2013 Full Transcript\"],[\"LOUIS C.K.: LIVE AT  THE COMEDY STORE (2015) \\u2013 Transcript\"],[\"Patrice O\\u2019Neal: Elephant in the Room (2011) \\u2013 Transcript\"],[\"Trevor Noah: Afraid Of The Dark (2017) \\u2013 Transcript\"],[\"BILL BURR: LET IT GO (2010) \\u2013 TRANSCRIPT\"],[\"Reggie Watts: Spatial (2016) \\u2013 Full Transcript\"]],\"hovertemplate\":\"color=0<br>x=%{x}<br>y=%{y}<br>hover_data_0=%{customdata[0]}<extra></extra>\",\"legendgroup\":\"0\",\"marker\":{\"color\":\"#00cc96\",\"symbol\":\"circle\"},\"mode\":\"markers\",\"name\":\"0\",\"orientation\":\"v\",\"showlegend\":true,\"type\":\"scatter\",\"x\":[1.9178563273287725,-0.9597763239680299,0.5316913613127413,0.05087976002490401,-0.1272300523934509,-2.0419529823654003,0.3728480699094047,-0.021941182138521288,-0.9835127477824956,-1.8254380123414933,-0.9004971488849497,-0.33995340490287596,-1.3289894602278824,2.0873107625881353,0.21775093380679073,2.00597303642119,-2.3619044795613724,0.9687733568867114,-0.049673649059788265,-0.8948589375554754,-0.9824509073447968,2.3071284842476114,-1.1867718619551508,1.4635308141691015,0.7802275857873001,0.22602869408838994,0.595843133731601,-2.0593924112157653,0.07362913175842369,-2.654135551266084,-1.8398026430726173,-0.37520362558978626,-1.0119045077093098,0.24313842274594294,-0.8109844715066669,-1.3644349817669255,-1.696549647686474,0.2624842803218759,0.1921659772009923,-0.14371221710113982,-1.6778500441126092,1.0425358461001413,-0.652439572512774,-0.6263919402338414,-1.7919022513343283,1.609431227267987,-0.9307275121069776,-1.0481697372503596,-1.5062067124524507,-2.2941595148221343,0.7024828857510951,0.962120720975895,-0.9427628477347497,-1.290700464665132,0.7964862462844887,0.8192072179874444,0.29012073960952406,0.734046251834654,1.3410685677884115,-1.540655433935807,-0.32602594246547434,-1.971896746558918,0.9408992612202925,-0.40406800986646774,-1.2849485977403923,1.2830297435372715,0.5762638937180478,-2.161042938260017,1.163991782837582,0.5704027575610906,-0.010241386227326147,0.6007170243516767,0.43309996516292265,0.3459242867477489,0.3973176471111159,-0.6934033340335237,0.7700476614112488,0.4487617788639165,0.016268980464450883,0.5920087254952003,-0.19540203507120588,-1.3315760467349367,1.4813793052209638,1.033784755060392,0.052959000260455795,0.003999535922140329,-2.708429846541807,-0.912448397357714,-0.08933912250877896,-1.3661353238794405,0.13161514062936436,0.22614192682322867,1.0911728628673092,1.4075920535531894,0.6269185144021482,1.3017550520879915,-0.12510612880079913],\"xaxis\":\"x\",\"y\":[-3.3365630761772307,-1.1302233943356124,-3.3106103117299237,-1.65040563735032,-1.9237819650843988,-2.1946685427164585,-2.977919827545798,-3.4189777680706053,-2.2114055897160725,-2.181104024517949,-1.5124751539373853,-2.9896730403453224,-2.6503475842708317,-3.1646883935553323,-0.46753812296339475,-3.046677826219583,-1.687872261549011,-2.7879370252825173,-1.7416592347923403,-2.9738419840518038,-2.2689334122290403,-2.3750124568496784,-2.0802235025467635,-3.1684045141183748,-3.848911508479862,-2.6655860066875956,-4.16772581136191,-0.948503888394206,-1.791314238552052,-0.9937856831473936,-1.3262167786284078,-1.3755616603411858,-1.5766359178811267,-1.275838737545736,-3.1409303080338034,-2.3531731899819004,-0.5910497199468354,-4.074124730014051,-3.8437002782624727,-3.522402531112768,-2.162608787852241,-4.171556090702238,-3.3550326617894735,-2.960440609917762,-2.0875970029197806,-2.5208623283811855,-3.1592097619390906,-2.6646488124875147,-2.380219375949541,-2.4849852810224573,-2.0369095958423773,-2.8309005978916324,-2.994146209686673,-1.917899350429248,-2.3455250949293736,-3.21596193143675,-2.5465439696407266,-4.090148268705955,-4.099027870654484,-2.1575391545672695,-1.548691890827472,-1.2868451285196885,-3.5985321464483064,-1.5892733069036804,-1.3024421311242143,-2.5426729546803104,-2.5028960644897165,-2.275086545466753,-3.081071318964235,-2.609666782546291,-1.7214736932842571,-2.4800117135613484,-0.8982826782785356,-3.5808136778880124,-3.710445471621909,-2.1699903676719923,-3.788850338799426,-3.873247437405418,-2.336754037327037,-2.2189055377297575,-2.2880804760497937,-0.929552199222142,-3.189595291167691,-4.302545415639217,-2.670750860087761,-3.1061531641781674,-1.6182549152276393,-1.8931980410943616,-2.0821026957792075,-3.343128097127352,-3.692557242659691,0.7233937881370898,-2.5395705350493056,-3.30443271003953,-3.3343159705944947,-2.28204875929326,-1.3805591533604333],\"yaxis\":\"y\"}],                        {\"legend\":{\"title\":{\"text\":\"color\"},\"tracegroupgap\":0},\"margin\":{\"t\":60},\"template\":{\"data\":{\"bar\":[{\"error_x\":{\"color\":\"#2a3f5f\"},\"error_y\":{\"color\":\"#2a3f5f\"},\"marker\":{\"line\":{\"color\":\"#E5ECF6\",\"width\":0.5},\"pattern\":{\"fillmode\":\"overlay\",\"size\":10,\"solidity\":0.2}},\"type\":\"bar\"}],\"barpolar\":[{\"marker\":{\"line\":{\"color\":\"#E5ECF6\",\"width\":0.5},\"pattern\":{\"fillmode\":\"overlay\",\"size\":10,\"solidity\":0.2}},\"type\":\"barpolar\"}],\"carpet\":[{\"aaxis\":{\"endlinecolor\":\"#2a3f5f\",\"gridcolor\":\"white\",\"linecolor\":\"white\",\"minorgridcolor\":\"white\",\"startlinecolor\":\"#2a3f5f\"},\"baxis\":{\"endlinecolor\":\"#2a3f5f\",\"gridcolor\":\"white\",\"linecolor\":\"white\",\"minorgridcolor\":\"white\",\"startlinecolor\":\"#2a3f5f\"},\"type\":\"carpet\"}],\"choropleth\":[{\"colorbar\":{\"outlinewidth\":0,\"ticks\":\"\"},\"type\":\"choropleth\"}],\"contour\":[{\"colorbar\":{\"outlinewidth\":0,\"ticks\":\"\"},\"colorscale\":[[0.0,\"#0d0887\"],[0.1111111111111111,\"#46039f\"],[0.2222222222222222,\"#7201a8\"],[0.3333333333333333,\"#9c179e\"],[0.4444444444444444,\"#bd3786\"],[0.5555555555555556,\"#d8576b\"],[0.6666666666666666,\"#ed7953\"],[0.7777777777777778,\"#fb9f3a\"],[0.8888888888888888,\"#fdca26\"],[1.0,\"#f0f921\"]],\"type\":\"contour\"}],\"contourcarpet\":[{\"colorbar\":{\"outlinewidth\":0,\"ticks\":\"\"},\"type\":\"contourcarpet\"}],\"heatmap\":[{\"colorbar\":{\"outlinewidth\":0,\"ticks\":\"\"},\"colorscale\":[[0.0,\"#0d0887\"],[0.1111111111111111,\"#46039f\"],[0.2222222222222222,\"#7201a8\"],[0.3333333333333333,\"#9c179e\"],[0.4444444444444444,\"#bd3786\"],[0.5555555555555556,\"#d8576b\"],[0.6666666666666666,\"#ed7953\"],[0.7777777777777778,\"#fb9f3a\"],[0.8888888888888888,\"#fdca26\"],[1.0,\"#f0f921\"]],\"type\":\"heatmap\"}],\"heatmapgl\":[{\"colorbar\":{\"outlinewidth\":0,\"ticks\":\"\"},\"colorscale\":[[0.0,\"#0d0887\"],[0.1111111111111111,\"#46039f\"],[0.2222222222222222,\"#7201a8\"],[0.3333333333333333,\"#9c179e\"],[0.4444444444444444,\"#bd3786\"],[0.5555555555555556,\"#d8576b\"],[0.6666666666666666,\"#ed7953\"],[0.7777777777777778,\"#fb9f3a\"],[0.8888888888888888,\"#fdca26\"],[1.0,\"#f0f921\"]],\"type\":\"heatmapgl\"}],\"histogram\":[{\"marker\":{\"pattern\":{\"fillmode\":\"overlay\",\"size\":10,\"solidity\":0.2}},\"type\":\"histogram\"}],\"histogram2d\":[{\"colorbar\":{\"outlinewidth\":0,\"ticks\":\"\"},\"colorscale\":[[0.0,\"#0d0887\"],[0.1111111111111111,\"#46039f\"],[0.2222222222222222,\"#7201a8\"],[0.3333333333333333,\"#9c179e\"],[0.4444444444444444,\"#bd3786\"],[0.5555555555555556,\"#d8576b\"],[0.6666666666666666,\"#ed7953\"],[0.7777777777777778,\"#fb9f3a\"],[0.8888888888888888,\"#fdca26\"],[1.0,\"#f0f921\"]],\"type\":\"histogram2d\"}],\"histogram2dcontour\":[{\"colorbar\":{\"outlinewidth\":0,\"ticks\":\"\"},\"colorscale\":[[0.0,\"#0d0887\"],[0.1111111111111111,\"#46039f\"],[0.2222222222222222,\"#7201a8\"],[0.3333333333333333,\"#9c179e\"],[0.4444444444444444,\"#bd3786\"],[0.5555555555555556,\"#d8576b\"],[0.6666666666666666,\"#ed7953\"],[0.7777777777777778,\"#fb9f3a\"],[0.8888888888888888,\"#fdca26\"],[1.0,\"#f0f921\"]],\"type\":\"histogram2dcontour\"}],\"mesh3d\":[{\"colorbar\":{\"outlinewidth\":0,\"ticks\":\"\"},\"type\":\"mesh3d\"}],\"parcoords\":[{\"line\":{\"colorbar\":{\"outlinewidth\":0,\"ticks\":\"\"}},\"type\":\"parcoords\"}],\"pie\":[{\"automargin\":true,\"type\":\"pie\"}],\"scatter\":[{\"marker\":{\"colorbar\":{\"outlinewidth\":0,\"ticks\":\"\"}},\"type\":\"scatter\"}],\"scatter3d\":[{\"line\":{\"colorbar\":{\"outlinewidth\":0,\"ticks\":\"\"}},\"marker\":{\"colorbar\":{\"outlinewidth\":0,\"ticks\":\"\"}},\"type\":\"scatter3d\"}],\"scattercarpet\":[{\"marker\":{\"colorbar\":{\"outlinewidth\":0,\"ticks\":\"\"}},\"type\":\"scattercarpet\"}],\"scattergeo\":[{\"marker\":{\"colorbar\":{\"outlinewidth\":0,\"ticks\":\"\"}},\"type\":\"scattergeo\"}],\"scattergl\":[{\"marker\":{\"colorbar\":{\"outlinewidth\":0,\"ticks\":\"\"}},\"type\":\"scattergl\"}],\"scattermapbox\":[{\"marker\":{\"colorbar\":{\"outlinewidth\":0,\"ticks\":\"\"}},\"type\":\"scattermapbox\"}],\"scatterpolar\":[{\"marker\":{\"colorbar\":{\"outlinewidth\":0,\"ticks\":\"\"}},\"type\":\"scatterpolar\"}],\"scatterpolargl\":[{\"marker\":{\"colorbar\":{\"outlinewidth\":0,\"ticks\":\"\"}},\"type\":\"scatterpolargl\"}],\"scatterternary\":[{\"marker\":{\"colorbar\":{\"outlinewidth\":0,\"ticks\":\"\"}},\"type\":\"scatterternary\"}],\"surface\":[{\"colorbar\":{\"outlinewidth\":0,\"ticks\":\"\"},\"colorscale\":[[0.0,\"#0d0887\"],[0.1111111111111111,\"#46039f\"],[0.2222222222222222,\"#7201a8\"],[0.3333333333333333,\"#9c179e\"],[0.4444444444444444,\"#bd3786\"],[0.5555555555555556,\"#d8576b\"],[0.6666666666666666,\"#ed7953\"],[0.7777777777777778,\"#fb9f3a\"],[0.8888888888888888,\"#fdca26\"],[1.0,\"#f0f921\"]],\"type\":\"surface\"}],\"table\":[{\"cells\":{\"fill\":{\"color\":\"#EBF0F8\"},\"line\":{\"color\":\"white\"}},\"header\":{\"fill\":{\"color\":\"#C8D4E3\"},\"line\":{\"color\":\"white\"}},\"type\":\"table\"}]},\"layout\":{\"annotationdefaults\":{\"arrowcolor\":\"#2a3f5f\",\"arrowhead\":0,\"arrowwidth\":1},\"autotypenumbers\":\"strict\",\"coloraxis\":{\"colorbar\":{\"outlinewidth\":0,\"ticks\":\"\"}},\"colorscale\":{\"diverging\":[[0,\"#8e0152\"],[0.1,\"#c51b7d\"],[0.2,\"#de77ae\"],[0.3,\"#f1b6da\"],[0.4,\"#fde0ef\"],[0.5,\"#f7f7f7\"],[0.6,\"#e6f5d0\"],[0.7,\"#b8e186\"],[0.8,\"#7fbc41\"],[0.9,\"#4d9221\"],[1,\"#276419\"]],\"sequential\":[[0.0,\"#0d0887\"],[0.1111111111111111,\"#46039f\"],[0.2222222222222222,\"#7201a8\"],[0.3333333333333333,\"#9c179e\"],[0.4444444444444444,\"#bd3786\"],[0.5555555555555556,\"#d8576b\"],[0.6666666666666666,\"#ed7953\"],[0.7777777777777778,\"#fb9f3a\"],[0.8888888888888888,\"#fdca26\"],[1.0,\"#f0f921\"]],\"sequentialminus\":[[0.0,\"#0d0887\"],[0.1111111111111111,\"#46039f\"],[0.2222222222222222,\"#7201a8\"],[0.3333333333333333,\"#9c179e\"],[0.4444444444444444,\"#bd3786\"],[0.5555555555555556,\"#d8576b\"],[0.6666666666666666,\"#ed7953\"],[0.7777777777777778,\"#fb9f3a\"],[0.8888888888888888,\"#fdca26\"],[1.0,\"#f0f921\"]]},\"colorway\":[\"#636efa\",\"#EF553B\",\"#00cc96\",\"#ab63fa\",\"#FFA15A\",\"#19d3f3\",\"#FF6692\",\"#B6E880\",\"#FF97FF\",\"#FECB52\"],\"font\":{\"color\":\"#2a3f5f\"},\"geo\":{\"bgcolor\":\"white\",\"lakecolor\":\"white\",\"landcolor\":\"#E5ECF6\",\"showlakes\":true,\"showland\":true,\"subunitcolor\":\"white\"},\"hoverlabel\":{\"align\":\"left\"},\"hovermode\":\"closest\",\"mapbox\":{\"style\":\"light\"},\"paper_bgcolor\":\"white\",\"plot_bgcolor\":\"#E5ECF6\",\"polar\":{\"angularaxis\":{\"gridcolor\":\"white\",\"linecolor\":\"white\",\"ticks\":\"\"},\"bgcolor\":\"#E5ECF6\",\"radialaxis\":{\"gridcolor\":\"white\",\"linecolor\":\"white\",\"ticks\":\"\"}},\"scene\":{\"xaxis\":{\"backgroundcolor\":\"#E5ECF6\",\"gridcolor\":\"white\",\"gridwidth\":2,\"linecolor\":\"white\",\"showbackground\":true,\"ticks\":\"\",\"zerolinecolor\":\"white\"},\"yaxis\":{\"backgroundcolor\":\"#E5ECF6\",\"gridcolor\":\"white\",\"gridwidth\":2,\"linecolor\":\"white\",\"showbackground\":true,\"ticks\":\"\",\"zerolinecolor\":\"white\"},\"zaxis\":{\"backgroundcolor\":\"#E5ECF6\",\"gridcolor\":\"white\",\"gridwidth\":2,\"linecolor\":\"white\",\"showbackground\":true,\"ticks\":\"\",\"zerolinecolor\":\"white\"}},\"shapedefaults\":{\"line\":{\"color\":\"#2a3f5f\"}},\"ternary\":{\"aaxis\":{\"gridcolor\":\"white\",\"linecolor\":\"white\",\"ticks\":\"\"},\"baxis\":{\"gridcolor\":\"white\",\"linecolor\":\"white\",\"ticks\":\"\"},\"bgcolor\":\"#E5ECF6\",\"caxis\":{\"gridcolor\":\"white\",\"linecolor\":\"white\",\"ticks\":\"\"}},\"title\":{\"x\":0.05},\"xaxis\":{\"automargin\":true,\"gridcolor\":\"white\",\"linecolor\":\"white\",\"ticks\":\"\",\"title\":{\"standoff\":15},\"zerolinecolor\":\"white\",\"zerolinewidth\":2},\"yaxis\":{\"automargin\":true,\"gridcolor\":\"white\",\"linecolor\":\"white\",\"ticks\":\"\",\"title\":{\"standoff\":15},\"zerolinecolor\":\"white\",\"zerolinewidth\":2}}},\"xaxis\":{\"anchor\":\"y\",\"domain\":[0.0,1.0],\"title\":{\"text\":\"x\"}},\"yaxis\":{\"anchor\":\"x\",\"domain\":[0.0,1.0],\"title\":{\"text\":\"y\"}}},                        {\"responsive\": true}                    ).then(function(){\n",
       "                            \n",
       "var gd = document.getElementById('6c266fe9-b1f0-4028-a6a0-ee713705d013');\n",
       "var x = new MutationObserver(function (mutations, observer) {{\n",
       "        var display = window.getComputedStyle(gd).display;\n",
       "        if (!display || display === 'none') {{\n",
       "            console.log([gd, 'removed!']);\n",
       "            Plotly.purge(gd);\n",
       "            observer.disconnect();\n",
       "        }}\n",
       "}});\n",
       "\n",
       "// Listen for the removal of the full notebook cells\n",
       "var notebookContainer = gd.closest('#notebook-container');\n",
       "if (notebookContainer) {{\n",
       "    x.observe(notebookContainer, {childList: true});\n",
       "}}\n",
       "\n",
       "// Listen for the clearing of the current output cell\n",
       "var outputEl = gd.closest('.output');\n",
       "if (outputEl) {{\n",
       "    x.observe(outputEl, {childList: true});\n",
       "}}\n",
       "\n",
       "                        })                };                });            </script>        </div>"
      ]
     },
     "metadata": {},
     "output_type": "display_data"
    }
   ],
   "source": [
    "pca = PCA()\n",
    "cosims_means_pca = pca.fit_transform(X)\n",
    "\n",
    "px.scatter(x = cosims_means_pca[:,0],\n",
    "           y = cosims_means_pca[:,1],\n",
    "           color=cosims_means_com['community'],\n",
    "           hover_data = [cosims_means_com.index]\n",
    "           )"
   ]
  },
  {
   "cell_type": "code",
   "execution_count": 652,
   "metadata": {},
   "outputs": [
    {
     "data": {
      "text/html": [
       "<div>\n",
       "<style scoped>\n",
       "    .dataframe tbody tr th:only-of-type {\n",
       "        vertical-align: middle;\n",
       "    }\n",
       "\n",
       "    .dataframe tbody tr th {\n",
       "        vertical-align: top;\n",
       "    }\n",
       "\n",
       "    .dataframe thead th {\n",
       "        text-align: right;\n",
       "    }\n",
       "</style>\n",
       "<table border=\"1\" class=\"dataframe\">\n",
       "  <thead>\n",
       "    <tr style=\"text-align: right;\">\n",
       "      <th></th>\n",
       "      <th>description</th>\n",
       "      <th>coefficient</th>\n",
       "      <th>community</th>\n",
       "    </tr>\n",
       "  </thead>\n",
       "  <tbody>\n",
       "    <tr>\n",
       "      <th>0</th>\n",
       "      <td>Chris D’Elia: Man on Fire (2017) – Full Transc...</td>\n",
       "      <td>0.115888</td>\n",
       "      <td>1</td>\n",
       "    </tr>\n",
       "    <tr>\n",
       "      <th>1</th>\n",
       "      <td>BRENT MORIN: I’M BRENT MORIN (2015) – Full Tra...</td>\n",
       "      <td>0.113781</td>\n",
       "      <td>1</td>\n",
       "    </tr>\n",
       "    <tr>\n",
       "      <th>2</th>\n",
       "      <td>Jo Koy: Live from Seattle (2017) – Full Transc...</td>\n",
       "      <td>0.112823</td>\n",
       "      <td>1</td>\n",
       "    </tr>\n",
       "    <tr>\n",
       "      <th>3</th>\n",
       "      <td>Chris Tucker: Live (2015) – Transcript</td>\n",
       "      <td>0.109472</td>\n",
       "      <td>1</td>\n",
       "    </tr>\n",
       "    <tr>\n",
       "      <th>4</th>\n",
       "      <td>RICHARD PRYOR: …HERE AND NOW (1983) – Full Tra...</td>\n",
       "      <td>0.108695</td>\n",
       "      <td>1</td>\n",
       "    </tr>\n",
       "    <tr>\n",
       "      <th>5</th>\n",
       "      <td>Jo Koy: Comin’ in Hot (2019) – Full Transcript</td>\n",
       "      <td>0.103745</td>\n",
       "      <td>1</td>\n",
       "    </tr>\n",
       "    <tr>\n",
       "      <th>6</th>\n",
       "      <td>Kevin Hart: Let Me Explain (2013) – Transcript</td>\n",
       "      <td>0.103295</td>\n",
       "      <td>1</td>\n",
       "    </tr>\n",
       "    <tr>\n",
       "      <th>7</th>\n",
       "      <td>Eddie Murphy: Raw (1987) – Transcript</td>\n",
       "      <td>0.100529</td>\n",
       "      <td>1</td>\n",
       "    </tr>\n",
       "    <tr>\n",
       "      <th>8</th>\n",
       "      <td>Tom Segura: Completely Normal (2014) – Transcript</td>\n",
       "      <td>0.099082</td>\n",
       "      <td>1</td>\n",
       "    </tr>\n",
       "    <tr>\n",
       "      <th>9</th>\n",
       "      <td>Deray Davis: How To Act Black (2017) – Transcript</td>\n",
       "      <td>0.098013</td>\n",
       "      <td>1</td>\n",
       "    </tr>\n",
       "  </tbody>\n",
       "</table>\n",
       "</div>"
      ],
      "text/plain": [
       "                                         description  coefficient  community\n",
       "0  Chris D’Elia: Man on Fire (2017) – Full Transc...     0.115888          1\n",
       "1  BRENT MORIN: I’M BRENT MORIN (2015) – Full Tra...     0.113781          1\n",
       "2  Jo Koy: Live from Seattle (2017) – Full Transc...     0.112823          1\n",
       "3             Chris Tucker: Live (2015) – Transcript     0.109472          1\n",
       "4  RICHARD PRYOR: …HERE AND NOW (1983) – Full Tra...     0.108695          1\n",
       "5     Jo Koy: Comin’ in Hot (2019) – Full Transcript     0.103745          1\n",
       "6     Kevin Hart: Let Me Explain (2013) – Transcript     0.103295          1\n",
       "7              Eddie Murphy: Raw (1987) – Transcript     0.100529          1\n",
       "8  Tom Segura: Completely Normal (2014) – Transcript     0.099082          1\n",
       "9  Deray Davis: How To Act Black (2017) – Transcript     0.098013          1"
      ]
     },
     "execution_count": 652,
     "metadata": {},
     "output_type": "execute_result"
    }
   ],
   "source": [
    "component_num = 0\n",
    "\n",
    "components = pd.DataFrame({\n",
    "    'description': pca.feature_names_in_,\n",
    "    'coefficient': pca.components_[component_num]\n",
    "})\n",
    "\n",
    "components.sort_values('coefficient', ascending=False).merge(descom_df).head(10)"
   ]
  },
  {
   "cell_type": "markdown",
   "metadata": {},
   "source": [
    "### umap"
   ]
  },
  {
   "cell_type": "code",
   "execution_count": 653,
   "metadata": {},
   "outputs": [
    {
     "data": {
      "application/vnd.plotly.v1+json": {
       "config": {
        "plotlyServerURL": "https://plotly.com"
       },
       "data": [
        {
         "customdata": [
          [
           "Jim Gaffigan: Comedy Monster (2021) | Transcript"
          ],
          [
           "Kathleen Madigan: Bothering Jesus (2016) – Transcript"
          ],
          [
           "Phil Wang: Philly Philly Wang Wang (2021) – Transcript"
          ],
          [
           "Tom Papa: Freaked Out (2013) – Transcript"
          ],
          [
           "Bo Burnham: Inside (2021) – Transcript"
          ],
          [
           "Brian Regan: On The Rocks (2021) – Transcript"
          ],
          [
           "Sarah Cooper: Everything’s Fine (2020) – Transcript"
          ],
          [
           "Bo Burnham: Words, Words, Words (2010) – Transcript"
          ],
          [
           "RONNY CHIENG: ASIAN COMEDIAN DESTROYS AMERICA (2019) – TRANSCRIPT"
          ],
          [
           "Craig Ferguson: A Wee Bit o’ Revolution (2009) – Transcript"
          ],
          [
           "Jack Whitehall: I’m Only Joking (2020) | Transcript"
          ],
          [
           "ROY WOOD JR.: FATHER FIGURE (2017) – FULL TRANSCRIPT"
          ],
          [
           "BILLY CONNOLLY: HIGH HORSE TOUR LIVE (2016) – FULL TRANSCRIPT"
          ],
          [
           "Hannah Gadsby: Douglas (2020) – Transcript"
          ],
          [
           "PATTON OSWALT: I LOVE EVERYTHING (2020) – FULL TRANSCRIPT"
          ],
          [
           "LEE MACK: GOING OUT LIVE (2010) – FULL TRANSCRIPT"
          ],
          [
           "Jerry Seinfeld: 23 Hours To Kill (2020) – Transcript"
          ],
          [
           "MARIA BAMFORD: WEAKNESS IS THE BRAND (2020) – FULL TRANSCRIPT"
          ],
          [
           "Amanda Seales: I Be Knowin’ (2019) – Transcript"
          ],
          [
           "Stewart Lee: Carpet Remnant World (2012) – Full Transcript"
          ],
          [
           "Stewart Lee: Content Provider (2018) – Transcript"
          ],
          [
           "Jim Gaffigan: Quality Time (2019) – Full Transcript"
          ],
          [
           "Kevin Bridges: A Whole Different Story (2015) – Full Transcript"
          ],
          [
           "Kevin Bridges: The Story So Far… Live in Glasgow (2010) – Full Transcript"
          ],
          [
           "Kevin Bridges: The Story Continues (2012) – Full Transcript"
          ],
          [
           "Mike Birbiglia: The New One (2019) – Full Transcript"
          ],
          [
           "Iliza Shlesinger: Unveiled (2019) – Full Transcript"
          ],
          [
           "David Cross: Oh Come On (2019) – Full Transcript"
          ],
          [
           "Colin Quinn: The New York Story (2016) – Full Transcript"
          ],
          [
           "George Carlin: What Am I Doing in New Jersey? (1988) – Full Transcript"
          ],
          [
           "Roy Wood Jr.: No One Loves You (2019) – Transcript"
          ],
          [
           "Jimmy Carr: The Best of Ultimate Gold Greatest Hits (2019) – Full Transcript"
          ],
          [
           "W. Kamau Bell: Private School Negro (2018) – Transcript"
          ],
          [
           "Sebastian Maniscalco: Aren’t You Embarrassed? (2014) – Full Transcript"
          ],
          [
           "Sebastian Maniscalco: What’s Wrong with People? (2012) – Full Transcript"
          ],
          [
           "Oh, Hello On Broadway (2017) – Transcript"
          ],
          [
           "Vir Das: Losing It (2018) – Full Transcript"
          ],
          [
           "Jeff Foxworthy & Larry the Cable Guy: We’ve Been Thinking (2016) – Full Transcript"
          ],
          [
           "Jeff Foxworthy: Totally Committed (1998) – Full Transcript"
          ],
          [
           "BILL MAHER: LIVE FROM OKLAHOMA (2018) – Full Transcript"
          ],
          [
           "Rowan Atkinson Live (1992) – Transcript"
          ],
          [
           "Iliza Shlesinger: Confirmed Kills (2016) – Full Transcript"
          ],
          [
           "JIM GAFFIGAN: NOBLE APE (2018) – Full Transcript"
          ],
          [
           "Hannah Gadsby: Nanette (2018) – Transcript"
          ],
          [
           "RICKY GERVAIS: LIVE IV – SCIENCE (2010) – Full Transcript"
          ],
          [
           "RON WHITE: A LITTLE UNPROFESSIONAL (2012) – Full Transcript"
          ],
          [
           "Ali Wong: Hard Knock Wife (2018) – Transcript"
          ],
          [
           "John Mulaney: Kid Gorgeous At Radio City (2018) – Transcript"
          ],
          [
           "George Carlin: You Are All Diseased (1999) – Transcript"
          ],
          [
           "RICKY GERVAIS: HUMANITY (2018) – Full Transcript"
          ],
          [
           "ADEL KARAM: LIVE FROM BEIRUT (2018) – Full Transcript"
          ],
          [
           "STEWART LEE: 90s COMEDIAN (2006) – Full Transcript"
          ],
          [
           "DAVE ATTELL: ROAD WORK (2014) – Full Transcript"
          ],
          [
           "Eddie Izzard – Glorious (1997) – Transcript"
          ],
          [
           "FRED ARMISEN: STANDUP FOR DRUMMERS (2018) – Full Transcript"
          ],
          [
           "DANA CARVEY: STRAIGHT WHITE MALE, 60 (2016) – Full Transcript"
          ],
          [
           "EDDIE IZZARD: STRIPPED (2009) – Full Transcript"
          ],
          [
           "BRIAN REGAN: STANDING UP (2007) – Full Transcript"
          ],
          [
           "BRIAN REGAN: NUNCHUCKS AND FLAMETHROWERS (2017) – Full Transcript"
          ],
          [
           "Eddie Izzard: Unrepeatable (1994) | Transcript"
          ],
          [
           "Stewart Lee: Stand-Up Comedian (2005) – Transcript"
          ],
          [
           "JIMMY CARR: FUNNY BUSINESS (2016) – Full Transcript"
          ],
          [
           "Eddie Izzard: Dress To Kill (1999) – Transcript"
          ],
          [
           "FAHIM ANWAR: THERE’S NO BUSINESS LIKE SHOW BUSINESS (2017) – Transcript"
          ],
          [
           "MAZ JOBRANI: IMMIGRANT (2017) – Full Transcript"
          ],
          [
           "TODD BARRY: SPICY HONEY (2017) – Full Transcript"
          ],
          [
           "Jerry Seinfeld: I’m Telling You for the Last Time (1998) – Transcript"
          ],
          [
           "RICKY GERVAIS LIVE 2: POLITICS (2004) – Full Transcript"
          ],
          [
           "CHRISTINA PAZSITZKY: MOTHER INFERIOR (2017) – FULL TRANSCRIPT"
          ],
          [
           "Jack Whitehall: At Large (2017) – Transcript"
          ],
          [
           "JUDAH FRIEDLANDER: AMERICA IS THE GREATEST COUNTRY IN THE UNITED STATES (2017) – Full Transcript"
          ],
          [
           "PATTON OSWALT: ANNIHILATION (2017) – Full Transcript"
          ],
          [
           "BILL MAHER: LIVE FROM D.C. (2014) – Full Transcript"
          ],
          [
           "Pablo Francisco: Ouch! Live From San Jose (2006) – Full Transcript"
          ],
          [
           "BILL MAHER… BUT I’M NOT WRONG (2010) – Full Transcript"
          ],
          [
           "RUSSELL BRAND: MESSIAH COMPLEX (2013) – Full Transcript"
          ],
          [
           "AL MADRIGAL: WHY IS THE RABBIT CRYING? (2013) – Full Transcript"
          ],
          [
           "NEAL BRENNAN: 3 MICS (2017)- FULL TRANSCRIPT"
          ],
          [
           "John Mulaney: New In Town (2012) – Transcript"
          ],
          [
           "ALI WONG: BABY COBRA (2016) – Full Transcript"
          ],
          [
           "Dylan Moran: Off The Hook (2015) – Transcript"
          ],
          [
           "Hannibal Buress: Comedy Camisado (2016) – Transcript"
          ],
          [
           "Neal Brennan: Women And Black Dudes (2014) – Transcript"
          ],
          [
           "NICK OFFERMAN: AMERICAN HAM (2014) – Full Transcript"
          ],
          [
           "Bo Burnham: What (2013) – Transcript"
          ],
          [
           "John Mulaney: The Comeback Kid (2015) – Transcript"
          ],
          [
           "LEWIS BLACK: BLACK TO THE FUTURE (2016) – Full Transcript"
          ],
          [
           "Mike Birbiglia: Thank God for Jokes (2017) – Transcript"
          ],
          [
           "GEORGE CARLIN: PLAYING WITH YOUR HEAD (1986) – Full Transcript"
          ],
          [
           "GEORGE CARLIN: CARLIN ON CAMPUS (1984) – Full Transcript"
          ],
          [
           "RICKY GERVAIS: OUT OF ENGLAND 2 (2010) – Full Transcript"
          ],
          [
           "JIM GAFFIGAN: CINCO (2017) – Full Transcript"
          ],
          [
           "BILL HICKS: RELENTLESS (1991) – Transcript"
          ],
          [
           "Daniel Tosh: Happy Thoughts (2011) – Transcript"
          ],
          [
           "George Carlin: Jamming in New York (1992) – Transcript"
          ],
          [
           "GEORGE CARLIN: COMPLAINTS AND GRIEVANCES (2001) – FULL TRANSCRIPT"
          ],
          [
           "GEORGE CARLIN: LIFE IS WORTH LOSING (2006) – Transcript"
          ],
          [
           "Dave Chappelle: 8:46 – Transcript"
          ]
         ],
         "hovertemplate": "color=2<br>x=%{x}<br>y=%{y}<br>hover_data_0=%{customdata[0]}<extra></extra>",
         "legendgroup": "2",
         "marker": {
          "color": "#636efa",
          "symbol": "circle"
         },
         "mode": "markers",
         "name": "2",
         "orientation": "v",
         "showlegend": true,
         "type": "scatter",
         "x": [
          8.410459518432617,
          8.886007308959961,
          8.674309730529785,
          9.599059104919434,
          0.2457304298877716,
          9.068700790405273,
          8.935410499572754,
          0.05694936215877533,
          8.569925308227539,
          8.770042419433594,
          7.3420000076293945,
          10.05080509185791,
          7.856866359710693,
          8.616456985473633,
          8.302383422851562,
          10.196162223815918,
          10.358715057373047,
          8.007386207580566,
          9.422030448913574,
          8.06726360321045,
          7.269955635070801,
          8.372754096984863,
          8.235405921936035,
          8.107385635375977,
          -1.2412687540054321,
          7.3983154296875,
          10.598755836486816,
          7.099063873291016,
          8.928011894226074,
          7.949632167816162,
          10.011322021484375,
          8.620819091796875,
          8.370563507080078,
          9.43537425994873,
          10.575643539428711,
          8.6539945602417,
          8.208084106445312,
          7.666941165924072,
          6.87086820602417,
          6.915605545043945,
          8.02204418182373,
          10.90573501586914,
          8.017328262329102,
          7.43375301361084,
          8.845385551452637,
          0.31012606620788574,
          0.11946051567792892,
          6.936454772949219,
          -0.3923834264278412,
          8.823548316955566,
          9.576122283935547,
          6.9198102951049805,
          10.736349105834961,
          8.870776176452637,
          9.963065147399902,
          8.925712585449219,
          8.664772033691406,
          10.068923950195312,
          9.211979866027832,
          7.438233375549316,
          6.948017597198486,
          10.685818672180176,
          8.586348533630371,
          9.842514991760254,
          9.324871063232422,
          8.827362060546875,
          7.843443870544434,
          8.181025505065918,
          10.431742668151855,
          8.686580657958984,
          8.416242599487305,
          7.243862628936768,
          8.192549705505371,
          9.771074295043945,
          8.09095287322998,
          7.32598352432251,
          7.998514652252197,
          7.028041362762451,
          7.01833963394165,
          7.042827606201172,
          6.960090160369873,
          7.827485084533691,
          6.804920196533203,
          -0.1579161286354065,
          10.832771301269531,
          6.953920841217041,
          7.706705570220947,
          6.912829399108887,
          9.895326614379883,
          6.896779537200928,
          8.917631149291992,
          8.660408973693848,
          -0.16648678481578827,
          8.430601119995117,
          -0.022465147078037262,
          -1.173821210861206,
          -1.3852185010910034,
          0.019984234124422073
         ],
         "xaxis": "x",
         "y": [
          5.621988773345947,
          5.806798458099365,
          8.201642990112305,
          7.245136737823486,
          2.488509178161621,
          7.906520366668701,
          7.955225467681885,
          2.5120437145233154,
          8.092890739440918,
          5.857583045959473,
          6.655457973480225,
          7.80986213684082,
          7.3841071128845215,
          6.307776927947998,
          8.257241249084473,
          7.082751750946045,
          7.039797782897949,
          5.475999355316162,
          7.9305806159973145,
          7.449314117431641,
          7.082572937011719,
          5.648032188415527,
          8.349895477294922,
          8.20395565032959,
          2.4799184799194336,
          5.444151878356934,
          6.443901062011719,
          7.017986297607422,
          7.383529186248779,
          8.2351713180542,
          7.9066619873046875,
          8.284538269042969,
          7.220911979675293,
          7.873056411743164,
          7.116669654846191,
          7.746700763702393,
          8.355565071105957,
          7.418515682220459,
          6.395218372344971,
          6.465648651123047,
          8.229846000671387,
          6.328584671020508,
          5.8770432472229,
          6.42629337310791,
          7.089632987976074,
          2.1178441047668457,
          2.426607847213745,
          6.272525787353516,
          2.768202543258667,
          6.896742820739746,
          7.71790075302124,
          6.533934593200684,
          6.9768805503845215,
          7.367372512817383,
          7.465195178985596,
          8.147432327270508,
          7.42032527923584,
          7.368295669555664,
          7.9615349769592285,
          7.3535685539245605,
          6.7069196701049805,
          6.549505710601807,
          7.471699237823486,
          7.7047343254089355,
          7.474464416503906,
          8.168194770812988,
          8.105181694030762,
          8.033295631408691,
          7.0804524421691895,
          8.098116874694824,
          7.803646087646484,
          6.770345687866211,
          8.362123489379883,
          7.346676826477051,
          8.10031795501709,
          6.904277324676514,
          7.472200393676758,
          6.4638352394104,
          5.248844146728516,
          4.891677379608154,
          7.067327499389648,
          6.611688137054443,
          6.510274887084961,
          2.5751914978027344,
          6.838804721832275,
          6.069517612457275,
          7.969527244567871,
          6.294908046722412,
          7.796987533569336,
          7.171942234039307,
          7.119637489318848,
          6.001418113708496,
          2.69235897064209,
          8.38183879852295,
          2.664839267730713,
          2.5645151138305664,
          2.4043612480163574,
          2.2876968383789062
         ],
         "yaxis": "y"
        },
        {
         "customdata": [
          [
           "Louis C. K.: Sorry (2021) | Transcript"
          ],
          [
           "Mo Amer: Mohammed in Texas (2021) | Transcript"
          ],
          [
           "Dave Chappelle: The Closer (2021) | Transcript"
          ],
          [
           "Doug Stanhope: Beer Hall Putsch (2013) – Transcript"
          ],
          [
           "Chris Rock Total Blackout: The Tamborine Extended Cut – Transcript"
          ],
          [
           "Kevin Hart: Zero F**ks Given (2020) – Transcript"
          ],
          [
           "Sam Jay: 3 in the Morning (2020) – Transcript"
          ],
          [
           "GEORGE LOPEZ: WE’LL DO IT FOR HALF (2020) – FULL TRANSCRIPT"
          ],
          [
           "JIM JEFFERIES: INTOLERANT (2020) – FULL TRANSCRIPT"
          ],
          [
           "George Carlin: Doin’ It Again (1990) – Transcript"
          ],
          [
           "ERIC ANDRE: LEGALIZE EVERYTHING (2020)"
          ],
          [
           "RUSSELL PETERS: DEPORTED (2020) – FULL TRANSCRIPT"
          ],
          [
           "LEE MACK: LIVE (2007) – FULL TRANSCRIPT"
          ],
          [
           "JIM NORTON: AMERICAN DEGENERATE (2013) – FULL TRANSCRIPT"
          ],
          [
           "Jim Norton: Monster Rain (2007) – Transcript"
          ],
          [
           "Chris D’Elia: Man on Fire (2017) – Full Transcript"
          ],
          [
           "Marc Maron: End Times Fun (2020) – Full Transcript"
          ],
          [
           "PETE DAVIDSON: ALIVE FROM NEW YORK (2020) – FULL TRANSCRIPT"
          ],
          [
           "Dan Soder: Son of a Gary (2019) – Full Transcript"
          ],
          [
           "Tiffany Haddish: Black Mitzvah (2019) – Transcript"
          ],
          [
           "Arsenio Hall: Smart and Classy (2019) – Transcript"
          ],
          [
           "Nikki Glaser: Bangin’ (2019) – Full Transcript"
          ],
          [
           "Bill Burr: Paper Tiger (2019) – Transcript"
          ],
          [
           "Dave Chappelle: Sticks & Stones (2019) – Transcript"
          ],
          [
           "Ralphie May: Filthy Animal Tour (2014) – Transcript"
          ],
          [
           "Mike Epps: Only One Mike (2019) – Full Transcript"
          ],
          [
           "Adam DeVine: Best Time of Our Lives (2019) – Full Transcript"
          ],
          [
           "Jo Koy: Live from Seattle (2017) – Full Transcript"
          ],
          [
           "Jo Koy: Comin’ in Hot (2019) – Full Transcript"
          ],
          [
           "Cedric the Entertainer: Live from the Ville (2016) – Transcript"
          ],
          [
           "Eddie Murphy: Raw (1987) – Transcript"
          ],
          [
           "Robin Williams: Weapons of Self Destruction (2009) – Full Transcript"
          ],
          [
           "ROBIN WILLIAMS LIVE ON BROADWAY (2002) – FULL TRANSCRIPT"
          ],
          [
           "Kevin Hart: Irresponsible (2019) – Transcript"
          ],
          [
           "Ken Jeong: You Complete Me, Ho (2019) – Full Transcript"
          ],
          [
           "Adam Sandler: 100% Fresh (2018) – Full Transcript"
          ],
          [
           "RON WHITE: IF YOU QUIT LISTENING, I’LL SHUT UP (2018) – FULL TRANSCRIPT"
          ],
          [
           "Joe Rogan: Strange Times (2018) – Full Transcript"
          ],
          [
           "D.L. Hughley: Contrarian (2018) – Transcript"
          ],
          [
           "Bert Kreischer: Secret Time (2018) – Transcript"
          ],
          [
           "Jim Norton: Contextually Inadequate (2015) – Transcript"
          ],
          [
           "BRAD WILLIAMS: DADDY ISSUES (2016) – Full Transcript"
          ],
          [
           "Deray Davis: How To Act Black (2017) – Transcript"
          ],
          [
           "JIM JEFFERIES: THIS IS ME NOW (2018) – Full transcript"
          ],
          [
           "KEVIN SMITH: SILENT BUT DEADLY (2018) – Full Transcript"
          ],
          [
           "BRENT MORIN: I’M BRENT MORIN (2015) – Full Transcript"
          ],
          [
           "Eddie Griffin: Undeniable (2018) – Transcript"
          ],
          [
           "Marlon Wayans: Woke-Ish (2018) – Transcript"
          ],
          [
           "Chris Rock: Bring the Pain (1996) – Transcript"
          ],
          [
           "ARI SHAFFIR: DOUBLE NEGATIVE (2017) – Full Transcript"
          ],
          [
           "Chris Rock: Tamborine (2018) – Transcript"
          ],
          [
           "Katt Williams: Great America (2018) – Transcript"
          ],
          [
           "JIMMY CARR: BEING FUNNY (2011) – Full Transcript"
          ],
          [
           "JIMMY CARR: LAUGHING AND JOKING (2013) – Full Transcript"
          ],
          [
           "D.L. Hughley: Unapologetic (2007) – Transcript"
          ],
          [
           "BRIDGET EVERETT: GYNECOLOGICAL WONDER (2015) – Full Transcript"
          ],
          [
           "Chris Rock: Never Scared (2004) – Transcript"
          ],
          [
           "Chris Tucker: Live (2015) – Transcript"
          ],
          [
           "Kevin Hart: What Now (2016) – Transcript"
          ],
          [
           "Kevin Hart: Let Me Explain (2013) – Transcript"
          ],
          [
           "Tom Segura: Disgraceful (2018) – Transcript"
          ],
          [
           "Craig Ferguson: Does This Need To Be Said? (2011) – Transcript"
          ],
          [
           "Dave Chappelle: The Bird Revelation (2017) – Transcript"
          ],
          [
           "Dave Chappelle: Equanimity (2017) – Transcript"
          ],
          [
           "CRAIG FERGUSON: I’M HERE TO HELP (2013) – Full Transcript"
          ],
          [
           "WHITNEY CUMMINGS: I LOVE YOU (2014) – Full Transcript"
          ],
          [
           "WHITNEY CUMMINGS: I’M YOUR GIRLFRIEND (2016) – Full Transcript"
          ],
          [
           "Russell Howard Live: Dingledodies (2009) – Full Transcript"
          ],
          [
           "Paul Mooney: A Piece of My Mind – Godbless America (2014) – Transcript"
          ],
          [
           "Chris Rock: Kill The Messenger – London, New York, Johannesburg (2008) – Transcript"
          ],
          [
           "Chris Rock: Bigger & Blacker (1999) – Transcript"
          ],
          [
           "LISA LAMPANELLI: BACK TO THE DRAWING BOARD (2015) – Full Transcript"
          ],
          [
           "ERIK GRIFFIN: THE UGLY TRUTH (2017) – Full Transcript"
          ],
          [
           "Richard Pryor: Live And Smokin’ (1971) – Transcript"
          ],
          [
           "RICHARD PRYOR: …HERE AND NOW (1983) – Full Transcript"
          ],
          [
           "Jim Jefferies: Alcoholocaust (2010) – Transcript"
          ],
          [
           "Kevin Hart: Seriously Funny (2010) – Transcript"
          ],
          [
           "AZIZ ANSARI: INTIMATE MOMENTS FOR A SENSUAL EVENING (2010) – Full Transcript"
          ],
          [
           "BIG JAY OAKERSON: LIVE AT WEBSTER HALL (2016) – Full Transcript"
          ],
          [
           "George Carlin at USC (1977) – Full Transcript"
          ],
          [
           "Jim Norton: Mouthful Of Shame (2017) Transcript"
          ],
          [
           "Michael Che Matters (2016) – Transcript"
          ],
          [
           "Joe Rogan: Triggered (2016) – Transcript"
          ],
          [
           "Bo Burnham: Make Happy (2016) – Transcript"
          ],
          [
           "BILL HICKS: REVELATIONS (1993) – FULL TRANSCRIPT"
          ],
          [
           "DOUG STANHOPE: BEFORE TURNING THE GUN ON HIMSELF (2012) – Transcript"
          ],
          [
           "DOUG STANHOPE: DEADBEAT HERO (2004) – Transcript"
          ],
          [
           "JIM JEFFERIES: CONTRABAND (2008) – Full Transcript"
          ],
          [
           "GEORGE CARLIN: AGAIN!* (1978) – Full Transcript"
          ],
          [
           "Louis C.K.: Chewed Up (2008) – Transcript"
          ],
          [
           "Tom Segura: Completely Normal (2014) – Transcript"
          ],
          [
           "Louis C.K.: Live at the Beacon Theatre (2011) – Transcript"
          ],
          [
           "JIM JEFFERIES: I SWEAR TO GOD (2009) – FULL TRANSCRIPT"
          ],
          [
           "LOUIS C.K.: HILARIOUS (2010) – Full Transcript"
          ],
          [
           "LOUIS C.K.: SHAMELESS (2007) – Full Transcript"
          ],
          [
           "BILL BURR: I’M SORRY YOU FEEL THAT WAY (2014) – Full Transcript"
          ],
          [
           "BILL BURR: YOU PEOPLE ARE ALL THE SAME (2012) – Full Transcript"
          ],
          [
           "Dave Chappelle: For What It’s Worth (2004) – Transcript"
          ],
          [
           "Dave Chappelle: Killin’ Them Softly (2000) – Transcript"
          ],
          [
           "Eddie Griffin: You Can Tell ‘Em I Said It! (2011) – Transcript"
          ],
          [
           "BILL BURR: WALK YOUR WAY OUT (2017) – Full Transcript"
          ],
          [
           "Katt Williams: Live (2006) – Transcript"
          ],
          [
           "Richard Pryor: Live in Concert (1979) – Transcript"
          ],
          [
           "RICHARD PRYOR: LIVE ON THE SUNSET STRIP (1982) – Full Transcript"
          ],
          [
           "JIM JEFFERIES: BARE (2014) – Full Transcript"
          ],
          [
           "Dave Chappelle: Deep in the Heart of Texas (2017) – Transcript"
          ],
          [
           "Tom Segura: Mostly Stories (2016) – Transcript"
          ],
          [
           "JIM JEFFERIES: FREEDUMB (2016) – Full Transcript"
          ],
          [
           "Eddie Murphy: Delirious (1983) – Transcript"
          ],
          [
           "Dave Chappelle: The Age of Spin (2017) – Transcript"
          ],
          [
           "GEORGE CARLIN: BACK IN TOWN (1996) – Full transcript"
          ],
          [
           "LOUIS C.K.: 2017 – Full transcript"
          ],
          [
           "George Carlin: It’s Bad For Ya (2008) Full transcript"
          ],
          [
           "JIM JEFFERIES ON GUN CONTROL [FULL TRANSCRIPT]"
          ]
         ],
         "hovertemplate": "color=1<br>x=%{x}<br>y=%{y}<br>hover_data_0=%{customdata[0]}<extra></extra>",
         "legendgroup": "1",
         "marker": {
          "color": "#EF553B",
          "symbol": "circle"
         },
         "mode": "markers",
         "name": "1",
         "orientation": "v",
         "showlegend": true,
         "type": "scatter",
         "x": [
          0.7602328658103943,
          -1.1550453901290894,
          0.8632603883743286,
          -1.046364665031433,
          -1.9001247882843018,
          -0.9979830384254456,
          -0.28510183095932007,
          -2.0519654750823975,
          0.8251796364784241,
          -0.7135426998138428,
          -1.2388328313827515,
          -0.021538861095905304,
          -2.048734426498413,
          0.8898363709449768,
          -0.2679581046104431,
          -0.0983990728855133,
          0.22454030811786652,
          0.32723522186279297,
          0.6339132785797119,
          -0.6850671768188477,
          -2.298011302947998,
          0.7044017910957336,
          -1.5833643674850464,
          0.3747990131378174,
          -1.362822413444519,
          -2.331305980682373,
          -2.0379462242126465,
          -0.5758326053619385,
          -1.5199142694473267,
          -2.3719778060913086,
          -1.5455899238586426,
          -1.5863699913024902,
          -1.4967221021652222,
          -0.5554881691932678,
          0.20609170198440552,
          0.5706642270088196,
          0.6286527514457703,
          -2.2036690711975098,
          -1.2839064598083496,
          -0.08794315159320831,
          0.06456176191568375,
          0.6447399258613586,
          -1.000017523765564,
          0.8080870509147644,
          0.5281149744987488,
          -0.34475386142730713,
          -1.528375267982483,
          -2.0341875553131104,
          -2.246528387069702,
          -0.8720630407333374,
          -2.1271169185638428,
          -1.5722687244415283,
          -1.1509042978286743,
          -1.4720755815505981,
          -1.4526708126068115,
          -1.1313157081604004,
          -1.5485990047454834,
          -0.730976402759552,
          -0.6991047263145447,
          -0.48320451378822327,
          -0.7072340250015259,
          -0.35425442457199097,
          -0.5994049906730652,
          0.7295206785202026,
          -1.4650142192840576,
          0.8227176070213318,
          8.323369979858398,
          10.872908592224121,
          -2.1609740257263184,
          -1.7900880575180054,
          -2.2451391220092773,
          -0.8254812359809875,
          -2.059737205505371,
          -0.36197221279144287,
          -1.2961993217468262,
          0.6665748953819275,
          -0.824603259563446,
          0.23330003023147583,
          -2.1410977840423584,
          -0.5844737887382507,
          0.0975007563829422,
          -0.3970922827720642,
          -1.6769213676452637,
          -0.4896223247051239,
          -0.8347451686859131,
          -0.37933653593063354,
          -0.6317976713180542,
          0.7429044842720032,
          -0.6241647005081177,
          0.82951420545578,
          -0.43688899278640747,
          0.31122660636901855,
          0.7250664234161377,
          0.04629754275083542,
          0.6973962187767029,
          -2.119297504425049,
          -1.801340103149414,
          -2.0558559894561768,
          -0.3221278488636017,
          -2.2032034397125244,
          -2.1508734226226807,
          -2.1444461345672607,
          -1.6031417846679688,
          -1.1580469608306885,
          0.7426902651786804,
          -0.16395674645900726,
          -0.656735897064209,
          0.6745812296867371,
          -1.5929479598999023,
          -0.9632226824760437,
          -0.7075197696685791,
          -2.219435930252075,
          -1.336657166481018,
          -0.17807915806770325
         ],
         "xaxis": "x",
         "y": [
          1.4413063526153564,
          -0.9503604173660278,
          1.4297816753387451,
          2.470991373062134,
          0.7493341565132141,
          -0.8649676442146301,
          -0.4810733199119568,
          0.5475788712501526,
          1.4917669296264648,
          2.707082509994507,
          2.0619053840637207,
          -0.8828063607215881,
          0.016875382512807846,
          0.673780083656311,
          2.2388665676116943,
          -0.6867600083351135,
          -0.7687638401985168,
          -0.4840638041496277,
          0.5850034952163696,
          -0.4864982068538666,
          0.8782473206520081,
          -0.06464133411645889,
          -0.25426435470581055,
          1.5433580875396729,
          1.5872929096221924,
          0.8117140531539917,
          0.12039487808942795,
          -0.5952147841453552,
          -0.29916149377822876,
          1.306034803390503,
          -0.2885710895061493,
          2.113018035888672,
          2.319420576095581,
          -0.5969761610031128,
          0.8697845935821533,
          1.611573576927185,
          1.8221179246902466,
          0.4079471528530121,
          2.1919779777526855,
          0.7477573752403259,
          2.5373690128326416,
          -0.07266087085008621,
          -0.8010478019714355,
          1.52475905418396,
          -0.011941131204366684,
          -0.8770439624786377,
          2.3282501697540283,
          0.6262290477752686,
          0.7756587266921997,
          -1.0528223514556885,
          0.8976870775222778,
          1.377954125404358,
          2.470855712890625,
          2.251265525817871,
          1.0901697874069214,
          0.7875080108642578,
          1.8337510824203491,
          -0.7751773595809937,
          -0.650860607624054,
          -0.7366828322410583,
          -1.0628610849380493,
          0.22851085662841797,
          2.145742893218994,
          1.6666460037231445,
          1.428876519203186,
          0.3862607777118683,
          3.624168634414673,
          6.181731700897217,
          1.4492238759994507,
          1.0479979515075684,
          0.836818516254425,
          1.504234790802002,
          0.5448967218399048,
          0.4347035586833954,
          -0.429474800825119,
          1.9161311388015747,
          -0.8789333701133728,
          1.0082200765609741,
          0.01764148660004139,
          2.6392672061920166,
          -0.6725574135780334,
          -0.44402751326560974,
          1.5281211137771606,
          1.6956830024719238,
          2.552485704421997,
          2.7454187870025635,
          2.6689305305480957,
          1.8774322271347046,
          2.6926913261413574,
          0.5438312888145447,
          -0.8375792503356934,
          -0.181946262717247,
          1.8537235260009766,
          -0.6388521790504456,
          0.12380990386009216,
          0.07708464562892914,
          -0.2227831482887268,
          1.4787788391113281,
          -0.18646401166915894,
          1.1984490156173706,
          0.14994513988494873,
          0.2709425389766693,
          0.5261432528495789,
          -0.7102687358856201,
          0.29482945799827576,
          -0.15664449334144592,
          -1.012381672859192,
          1.3138301372528076,
          1.223578691482544,
          2.15908145904541,
          2.657762289047241,
          1.1991790533065796,
          2.433720588684082,
          1.8325233459472656
         ],
         "yaxis": "y"
        },
        {
         "customdata": [
          [
           "Drew Michael: Drew Michael (2018) | Transcript"
          ],
          [
           "Drew Michael: Red Blue Green (2021) | Transcript"
          ],
          [
           "Kathleen Madigan: Madigan Again (2013) – Transcript"
          ],
          [
           "Tom Papa: You’re Doing Great! (2020) – Transcript"
          ],
          [
           "Tom Papa: Human Mule (2016) – Transcript"
          ],
          [
           "Tig Notaro: Boyish Girl Interrupted (2015) – Transcript"
          ],
          [
           "Joe List: I Hate Myself (2020) – Transcript"
          ],
          [
           "Nate Bargatze: The Greatest Average American (2021) – Transcript"
          ],
          [
           "Vir Das: Outside in – The Lockdown Special (2020) – Transcript"
          ],
          [
           "Larry the Cable Guy – Remain Seated (2020) – Transcript"
          ],
          [
           "Craig Ferguson: Just Being Honest (2015) – Transcript"
          ],
          [
           "Sam Morril: I Got This (2020) – Transcript"
          ],
          [
           "MICHAEL MCINTYRE: SHOWMAN (2020) – TRANSCRIPT"
          ],
          [
           "ROB SCHNEIDER: ASIAN MOMMA, MEXICAN KIDS (2020) – TRANSCRIPT"
          ],
          [
           "URZILA CARLSON: OVERQUALIFIED LOSER (2020) – FULL TRANSCRIPT"
          ],
          [
           "Mark Normand: Don’t Be Yourself (2017) – Transcript"
          ],
          [
           "Chris Gethard: Career Suicide (2017) – Transcript"
          ],
          [
           "RAMY YOUSSEF: FEELINGS (2019) – FULL TRANSCRIPT"
          ],
          [
           "KENNY SEBASTIAN DON’T BE THAT GUY (2017) – FULL TRANSCRIPT"
          ],
          [
           "Hasan Minhaj: Homecoming King (2017) – Transcript"
          ],
          [
           "JIMMY O. YANG: GOOD DEAL (2020) – FULL TRANSCRIPT"
          ],
          [
           "JO KOY: LIGHTS OUT (2012) – FULL TRANSCRIPT"
          ],
          [
           "T.J. MILLER: NO REAL REASON (2011) – FULL TRANSCRIPT"
          ],
          [
           "CHRIS D’ELIA: WHITE MALE. BLACK COMIC. (2013) – FULL TRANSCRIPT"
          ],
          [
           "Tom Segura: Ball Hog (2020) – Transcript"
          ],
          [
           "Bert Kreischer: Hey Big Boy (2020) – Transcript"
          ],
          [
           "PETE DAVIDSON: SMD (2016) – FULL TRANSCRIPT"
          ],
          [
           "Sara Pascoe: LadsLadsLads (2019) – Full Transcript"
          ],
          [
           "Michelle Wolf: Joke Show (2019) – Full Transcript"
          ],
          [
           "Seth Meyers: Lobby Baby (2019) – Full Transcript"
          ],
          [
           "Emily Heller: Ice Thickeners (2019) – Full Transcript"
          ],
          [
           "Whitney Cummings: Can I Touch It? (2019) – Full Transcript"
          ],
          [
           "Aziz Ansari: Right Now (2019) – Transcript"
          ],
          [
           "Wanda Sykes: Not Normal (2019) – Full Transcript"
          ],
          [
           "Demetri Martin: Live (At The Time) (2015) | Transcript"
          ],
          [
           "Chelsea Peretti: One of the Greats (2014) – Full Transcript"
          ],
          [
           "Anthony Jeselnik: Fire in the Maternity Ward (2019) – Transcript"
          ],
          [
           "Nate Bargatze: The Tennessee Kid (2019) – Full Transcript"
          ],
          [
           "Nate Bargatze: Full Time Magic (2015) – Full Transcript"
          ],
          [
           "Amy Schumer: Growing (2019) – Full Transcript"
          ],
          [
           "Enissa Amani: Ehrenwort (2018) Full Transcript"
          ],
          [
           "Ray Romano: Right Here, Around the Corner (2019) – Full Transcript"
          ],
          [
           "Gabriel “Fluffy” Iglesias: One Show Fits All (2019) – Full Transcript"
          ],
          [
           "Sebastian Maniscalco: Stay Hungry (2019) – Full Transcript"
          ],
          [
           "Ellen Degeneres: Relatable (2018) – Transcript"
          ],
          [
           "Pete Holmes: Dirty Clean (2018) – Full Transcript"
          ],
          [
           "Trevor Noah: Son of Patricia (2018) – Transcript"
          ],
          [
           "Mo Amer: The Vagabond (2018) – Full Transcript"
          ],
          [
           "Joe Mande’s Award-Winning Comedy Special (2017) – Full Transcript"
          ],
          [
           "Henry Rollins: Keep Talking, Pal (2018) – Full Transcript"
          ],
          [
           "Iliza Shlesinger: Freezing Hot (2015) – Full Transcript"
          ],
          [
           "Iliza Shlesinger: War Paint (2013) – Transcript"
          ],
          [
           "Demetri Martin: The Overthinker (2018) | Transcript"
          ],
          [
           "Iliza Shlesinger: Elder Millennial (2018) – Full Transcript"
          ],
          [
           "RUSSELL PETERS: OUTSOURCED (2006) – Full Transcript"
          ],
          [
           "RUSSELL PETERS: ALMOST FAMOUS (2016) – Full Transcript"
          ],
          [
           "MICHAEL MCINTYRE: HELLO WEMBLEY! (2009) – Full Transcript"
          ],
          [
           "KEVIN JAMES: NEVER DON’T GIVE UP (2018) – Full Transcript"
          ],
          [
           "NIKKI GLASER: PERFECT (2016) – Full Transcript"
          ],
          [
           "KAVIN JAY: EVERYBODY CALM DOWN! (2018) – Full Transcript"
          ],
          [
           "GREG DAVIES: YOU MAGNIFICENT BEAST (2018) – Full Transcript"
          ],
          [
           "Mike Birbiglia: My Girlfriend’s Boyfriend (2013) – Transcript"
          ],
          [
           "TODD GLASS: ACT HAPPY (2018) – Full Transcript"
          ],
          [
           "MICHELLE WOLF: NICE LADY (2017) – Full Transcript"
          ],
          [
           "ELLEN DEGENERES: THE BEGINNING (2000) – Full Transcript"
          ],
          [
           "RUSSELL HOWARD: RECALIBRATE (2017) – Full Transcript"
          ],
          [
           "SARAH MILLICAN: CHATTERBOX LIVE (2011) – Full Transcript"
          ],
          [
           "Anjelah Johnson: Not Fancy (2015) – Transcript"
          ],
          [
           "CRISTELA ALONZO: LOWER CLASSY (2017) – Full Transcript"
          ],
          [
           "AZIZ ANSARI: LIVE IN MADISON SQUARE GARDEN (2015) – Full Transcript"
          ],
          [
           "AZIZ ANSARI: BURIED ALIVE (2013) – Full Transcript"
          ],
          [
           "Sarah Silverman: Jesus Is Magic (2005) – Transcript"
          ],
          [
           "SARAH SILVERMAN: WE ARE MIRACLES (2013) – Full Transcript"
          ],
          [
           "Gabriel Iglesias: Hot And Fluffy (2007) – Transcript"
          ],
          [
           "GABRIEL IGLESIAS: I’M NOT FAT … I’M FLUFFY (2009) – Full Transcript"
          ],
          [
           "GABRIEL IGLESIAS: I’M SORRY FOR WHAT I SAID WHEN I WAS HUNGRY (2016) – Full Transcript"
          ],
          [
           "RORY SCOVEL TRIES STAND-UP FOR THE FIRST TIME (2017) – Full Transcript"
          ],
          [
           "JEN KIRKMAN: JUST KEEP LIVIN’? (2017) – Full Transcript"
          ],
          [
           "DANIEL TOSH: COMPLETELY SERIOUS (2007) – Full Transcript"
          ],
          [
           "Donald Glover: Weirdo (2012) – Transcript"
          ],
          [
           "Norm Macdonald: Hitler’s Dog, Gossip & Trickery (2017) – Transcript"
          ],
          [
           "DANIEL TOSH: PEOPLE PLEASER (2016) – FULL TRANSCRIPT"
          ],
          [
           "Marc Maron: More Later (2015) – Full Transcript"
          ],
          [
           "AMY SCHUMER: MOSTLY SEX STUFF (2012) – Full Transcript"
          ],
          [
           "AMY SCHUMER: LIVE AT THE APOLLO (2015) – Full Transcript"
          ],
          [
           "Trevor Noah: Lost In Translation (2015) – Transcript"
          ],
          [
           "MARIA BAMFORD: OLD BABY (2017) – FULL TRANSCRIPT"
          ],
          [
           "ANTHONY JESELNIK: CALIGULA (2013) – Full Transcript"
          ],
          [
           "Anthony Jeselnik: Thoughts And Prayers (2015) – Full Transcript"
          ],
          [
           "SARAH SILVERMAN: A SPECK OF DUST (2017) – Full Transcript"
          ],
          [
           "AMY SCHUMER: THE LEATHER SPECIAL (2017) – Full Transcript"
          ],
          [
           "LOUIS C.K.: OH MY GOD (2013) – Full Transcript"
          ],
          [
           "LOUIS C.K.: LIVE AT  THE COMEDY STORE (2015) – Transcript"
          ],
          [
           "Patrice O’Neal: Elephant in the Room (2011) – Transcript"
          ],
          [
           "Trevor Noah: Afraid Of The Dark (2017) – Transcript"
          ],
          [
           "BILL BURR: LET IT GO (2010) – TRANSCRIPT"
          ],
          [
           "Reggie Watts: Spatial (2016) – Full Transcript"
          ]
         ],
         "hovertemplate": "color=0<br>x=%{x}<br>y=%{y}<br>hover_data_0=%{customdata[0]}<extra></extra>",
         "legendgroup": "0",
         "marker": {
          "color": "#00cc96",
          "symbol": "circle"
         },
         "mode": "markers",
         "name": "0",
         "orientation": "v",
         "showlegend": true,
         "type": "scatter",
         "x": [
          9.93399429321289,
          7.271470546722412,
          9.813702583312988,
          11.097277641296387,
          11.142744064331055,
          7.497385025024414,
          8.966985702514648,
          9.409465789794922,
          11.08502197265625,
          8.843180656433105,
          8.780070304870605,
          8.31490707397461,
          8.591479301452637,
          10.422755241394043,
          7.383869647979736,
          10.629335403442383,
          7.216174125671387,
          8.881117820739746,
          10.998775482177734,
          9.699549674987793,
          8.134943008422852,
          10.09994888305664,
          7.448509693145752,
          10.922666549682617,
          9.793554306030273,
          9.957637786865234,
          9.411251068115234,
          7.119269371032715,
          7.620663166046143,
          7.069557189941406,
          7.163768768310547,
          8.697978973388672,
          11.116415023803711,
          9.924520492553711,
          8.885931968688965,
          7.599301815032959,
          7.165404319763184,
          9.3503999710083,
          9.345450401306152,
          9.310114860534668,
          8.730324745178223,
          10.797660827636719,
          9.922578811645508,
          9.813955307006836,
          7.3003363609313965,
          10.19102954864502,
          9.746825218200684,
          9.775126457214355,
          8.816327095031738,
          8.610457420349121,
          11.1021089553833,
          11.113117218017578,
          8.745671272277832,
          10.891695976257324,
          11.084099769592285,
          11.092963218688965,
          11.084559440612793,
          10.793699264526367,
          9.292957305908203,
          8.311125755310059,
          8.685507774353027,
          7.181183815002441,
          9.205463409423828,
          7.535571575164795,
          7.2101969718933105,
          10.08143424987793,
          9.18362045288086,
          8.738184928894043,
          10.2321138381958,
          10.735322952270508,
          10.995254516601562,
          9.067309379577637,
          8.59632682800293,
          10.691038131713867,
          10.731477737426758,
          11.167730331420898,
          10.980022430419922,
          9.161571502685547,
          11.14290714263916,
          8.766618728637695,
          7.669009208679199,
          10.862372398376465,
          9.042994499206543,
          9.885674476623535,
          8.611239433288574,
          10.011557579040527,
          8.094042778015137,
          8.146871566772461,
          8.721711158752441,
          9.061768531799316,
          9.360347747802734,
          7.164222717285156,
          8.783879280090332,
          10.967844009399414,
          11.010147094726562,
          10.257150650024414,
          10.782231330871582
         ],
         "xaxis": "x",
         "y": [
          3.6814146041870117,
          4.41998291015625,
          4.236988067626953,
          5.799915790557861,
          5.79964017868042,
          4.815478801727295,
          3.2219157218933105,
          3.4290060997009277,
          6.294677734375,
          5.627634048461914,
          5.30964469909668,
          3.916288375854492,
          4.99544620513916,
          4.057711124420166,
          3.9574942588806152,
          4.287876605987549,
          5.085103988647461,
          3.517054557800293,
          6.59084939956665,
          5.0924482345581055,
          4.265453815460205,
          3.8430898189544678,
          4.364915370941162,
          4.68289852142334,
          3.6887779235839844,
          4.865551471710205,
          3.6130928993225098,
          4.687649250030518,
          4.01400899887085,
          4.947843074798584,
          4.588541030883789,
          5.032322883605957,
          6.124814510345459,
          4.795846939086914,
          4.722114086151123,
          4.437934398651123,
          4.550748348236084,
          3.3878047466278076,
          3.5009684562683105,
          3.8778738975524902,
          5.171567916870117,
          4.623055458068848,
          4.853688716888428,
          4.797053337097168,
          4.703856945037842,
          3.9402618408203125,
          4.976630210876465,
          5.00424861907959,
          5.399524688720703,
          5.309531211853027,
          5.705323696136475,
          5.324219226837158,
          4.839656352996826,
          6.252702236175537,
          5.278520107269287,
          5.059514999389648,
          5.568243026733398,
          4.563896179199219,
          3.2540886402130127,
          4.611088752746582,
          4.245753288269043,
          4.995624542236328,
          3.338853359222412,
          3.987027168273926,
          4.5388665199279785,
          4.8221435546875,
          3.2189266681671143,
          5.444576263427734,
          3.990870714187622,
          5.000154972076416,
          5.752468585968018,
          4.001999378204346,
          3.8697099685668945,
          4.658127307891846,
          4.766743183135986,
          5.921173095703125,
          4.725335121154785,
          3.239102363586426,
          5.750119209289551,
          3.533628225326538,
          3.9166057109832764,
          6.100637435913086,
          3.28928804397583,
          3.9392223358154297,
          3.707515001296997,
          4.737679958343506,
          5.310900688171387,
          4.239276885986328,
          4.050906658172607,
          4.965875625610352,
          3.906309127807617,
          3.850545644760132,
          3.5833115577697754,
          4.6483154296875,
          4.854348182678223,
          3.9593546390533447,
          6.847131252288818
         ],
         "yaxis": "y"
        }
       ],
       "layout": {
        "legend": {
         "title": {
          "text": "color"
         },
         "tracegroupgap": 0
        },
        "margin": {
         "t": 60
        },
        "template": {
         "data": {
          "bar": [
           {
            "error_x": {
             "color": "#2a3f5f"
            },
            "error_y": {
             "color": "#2a3f5f"
            },
            "marker": {
             "line": {
              "color": "#E5ECF6",
              "width": 0.5
             },
             "pattern": {
              "fillmode": "overlay",
              "size": 10,
              "solidity": 0.2
             }
            },
            "type": "bar"
           }
          ],
          "barpolar": [
           {
            "marker": {
             "line": {
              "color": "#E5ECF6",
              "width": 0.5
             },
             "pattern": {
              "fillmode": "overlay",
              "size": 10,
              "solidity": 0.2
             }
            },
            "type": "barpolar"
           }
          ],
          "carpet": [
           {
            "aaxis": {
             "endlinecolor": "#2a3f5f",
             "gridcolor": "white",
             "linecolor": "white",
             "minorgridcolor": "white",
             "startlinecolor": "#2a3f5f"
            },
            "baxis": {
             "endlinecolor": "#2a3f5f",
             "gridcolor": "white",
             "linecolor": "white",
             "minorgridcolor": "white",
             "startlinecolor": "#2a3f5f"
            },
            "type": "carpet"
           }
          ],
          "choropleth": [
           {
            "colorbar": {
             "outlinewidth": 0,
             "ticks": ""
            },
            "type": "choropleth"
           }
          ],
          "contour": [
           {
            "colorbar": {
             "outlinewidth": 0,
             "ticks": ""
            },
            "colorscale": [
             [
              0,
              "#0d0887"
             ],
             [
              0.1111111111111111,
              "#46039f"
             ],
             [
              0.2222222222222222,
              "#7201a8"
             ],
             [
              0.3333333333333333,
              "#9c179e"
             ],
             [
              0.4444444444444444,
              "#bd3786"
             ],
             [
              0.5555555555555556,
              "#d8576b"
             ],
             [
              0.6666666666666666,
              "#ed7953"
             ],
             [
              0.7777777777777778,
              "#fb9f3a"
             ],
             [
              0.8888888888888888,
              "#fdca26"
             ],
             [
              1,
              "#f0f921"
             ]
            ],
            "type": "contour"
           }
          ],
          "contourcarpet": [
           {
            "colorbar": {
             "outlinewidth": 0,
             "ticks": ""
            },
            "type": "contourcarpet"
           }
          ],
          "heatmap": [
           {
            "colorbar": {
             "outlinewidth": 0,
             "ticks": ""
            },
            "colorscale": [
             [
              0,
              "#0d0887"
             ],
             [
              0.1111111111111111,
              "#46039f"
             ],
             [
              0.2222222222222222,
              "#7201a8"
             ],
             [
              0.3333333333333333,
              "#9c179e"
             ],
             [
              0.4444444444444444,
              "#bd3786"
             ],
             [
              0.5555555555555556,
              "#d8576b"
             ],
             [
              0.6666666666666666,
              "#ed7953"
             ],
             [
              0.7777777777777778,
              "#fb9f3a"
             ],
             [
              0.8888888888888888,
              "#fdca26"
             ],
             [
              1,
              "#f0f921"
             ]
            ],
            "type": "heatmap"
           }
          ],
          "heatmapgl": [
           {
            "colorbar": {
             "outlinewidth": 0,
             "ticks": ""
            },
            "colorscale": [
             [
              0,
              "#0d0887"
             ],
             [
              0.1111111111111111,
              "#46039f"
             ],
             [
              0.2222222222222222,
              "#7201a8"
             ],
             [
              0.3333333333333333,
              "#9c179e"
             ],
             [
              0.4444444444444444,
              "#bd3786"
             ],
             [
              0.5555555555555556,
              "#d8576b"
             ],
             [
              0.6666666666666666,
              "#ed7953"
             ],
             [
              0.7777777777777778,
              "#fb9f3a"
             ],
             [
              0.8888888888888888,
              "#fdca26"
             ],
             [
              1,
              "#f0f921"
             ]
            ],
            "type": "heatmapgl"
           }
          ],
          "histogram": [
           {
            "marker": {
             "pattern": {
              "fillmode": "overlay",
              "size": 10,
              "solidity": 0.2
             }
            },
            "type": "histogram"
           }
          ],
          "histogram2d": [
           {
            "colorbar": {
             "outlinewidth": 0,
             "ticks": ""
            },
            "colorscale": [
             [
              0,
              "#0d0887"
             ],
             [
              0.1111111111111111,
              "#46039f"
             ],
             [
              0.2222222222222222,
              "#7201a8"
             ],
             [
              0.3333333333333333,
              "#9c179e"
             ],
             [
              0.4444444444444444,
              "#bd3786"
             ],
             [
              0.5555555555555556,
              "#d8576b"
             ],
             [
              0.6666666666666666,
              "#ed7953"
             ],
             [
              0.7777777777777778,
              "#fb9f3a"
             ],
             [
              0.8888888888888888,
              "#fdca26"
             ],
             [
              1,
              "#f0f921"
             ]
            ],
            "type": "histogram2d"
           }
          ],
          "histogram2dcontour": [
           {
            "colorbar": {
             "outlinewidth": 0,
             "ticks": ""
            },
            "colorscale": [
             [
              0,
              "#0d0887"
             ],
             [
              0.1111111111111111,
              "#46039f"
             ],
             [
              0.2222222222222222,
              "#7201a8"
             ],
             [
              0.3333333333333333,
              "#9c179e"
             ],
             [
              0.4444444444444444,
              "#bd3786"
             ],
             [
              0.5555555555555556,
              "#d8576b"
             ],
             [
              0.6666666666666666,
              "#ed7953"
             ],
             [
              0.7777777777777778,
              "#fb9f3a"
             ],
             [
              0.8888888888888888,
              "#fdca26"
             ],
             [
              1,
              "#f0f921"
             ]
            ],
            "type": "histogram2dcontour"
           }
          ],
          "mesh3d": [
           {
            "colorbar": {
             "outlinewidth": 0,
             "ticks": ""
            },
            "type": "mesh3d"
           }
          ],
          "parcoords": [
           {
            "line": {
             "colorbar": {
              "outlinewidth": 0,
              "ticks": ""
             }
            },
            "type": "parcoords"
           }
          ],
          "pie": [
           {
            "automargin": true,
            "type": "pie"
           }
          ],
          "scatter": [
           {
            "marker": {
             "colorbar": {
              "outlinewidth": 0,
              "ticks": ""
             }
            },
            "type": "scatter"
           }
          ],
          "scatter3d": [
           {
            "line": {
             "colorbar": {
              "outlinewidth": 0,
              "ticks": ""
             }
            },
            "marker": {
             "colorbar": {
              "outlinewidth": 0,
              "ticks": ""
             }
            },
            "type": "scatter3d"
           }
          ],
          "scattercarpet": [
           {
            "marker": {
             "colorbar": {
              "outlinewidth": 0,
              "ticks": ""
             }
            },
            "type": "scattercarpet"
           }
          ],
          "scattergeo": [
           {
            "marker": {
             "colorbar": {
              "outlinewidth": 0,
              "ticks": ""
             }
            },
            "type": "scattergeo"
           }
          ],
          "scattergl": [
           {
            "marker": {
             "colorbar": {
              "outlinewidth": 0,
              "ticks": ""
             }
            },
            "type": "scattergl"
           }
          ],
          "scattermapbox": [
           {
            "marker": {
             "colorbar": {
              "outlinewidth": 0,
              "ticks": ""
             }
            },
            "type": "scattermapbox"
           }
          ],
          "scatterpolar": [
           {
            "marker": {
             "colorbar": {
              "outlinewidth": 0,
              "ticks": ""
             }
            },
            "type": "scatterpolar"
           }
          ],
          "scatterpolargl": [
           {
            "marker": {
             "colorbar": {
              "outlinewidth": 0,
              "ticks": ""
             }
            },
            "type": "scatterpolargl"
           }
          ],
          "scatterternary": [
           {
            "marker": {
             "colorbar": {
              "outlinewidth": 0,
              "ticks": ""
             }
            },
            "type": "scatterternary"
           }
          ],
          "surface": [
           {
            "colorbar": {
             "outlinewidth": 0,
             "ticks": ""
            },
            "colorscale": [
             [
              0,
              "#0d0887"
             ],
             [
              0.1111111111111111,
              "#46039f"
             ],
             [
              0.2222222222222222,
              "#7201a8"
             ],
             [
              0.3333333333333333,
              "#9c179e"
             ],
             [
              0.4444444444444444,
              "#bd3786"
             ],
             [
              0.5555555555555556,
              "#d8576b"
             ],
             [
              0.6666666666666666,
              "#ed7953"
             ],
             [
              0.7777777777777778,
              "#fb9f3a"
             ],
             [
              0.8888888888888888,
              "#fdca26"
             ],
             [
              1,
              "#f0f921"
             ]
            ],
            "type": "surface"
           }
          ],
          "table": [
           {
            "cells": {
             "fill": {
              "color": "#EBF0F8"
             },
             "line": {
              "color": "white"
             }
            },
            "header": {
             "fill": {
              "color": "#C8D4E3"
             },
             "line": {
              "color": "white"
             }
            },
            "type": "table"
           }
          ]
         },
         "layout": {
          "annotationdefaults": {
           "arrowcolor": "#2a3f5f",
           "arrowhead": 0,
           "arrowwidth": 1
          },
          "autotypenumbers": "strict",
          "coloraxis": {
           "colorbar": {
            "outlinewidth": 0,
            "ticks": ""
           }
          },
          "colorscale": {
           "diverging": [
            [
             0,
             "#8e0152"
            ],
            [
             0.1,
             "#c51b7d"
            ],
            [
             0.2,
             "#de77ae"
            ],
            [
             0.3,
             "#f1b6da"
            ],
            [
             0.4,
             "#fde0ef"
            ],
            [
             0.5,
             "#f7f7f7"
            ],
            [
             0.6,
             "#e6f5d0"
            ],
            [
             0.7,
             "#b8e186"
            ],
            [
             0.8,
             "#7fbc41"
            ],
            [
             0.9,
             "#4d9221"
            ],
            [
             1,
             "#276419"
            ]
           ],
           "sequential": [
            [
             0,
             "#0d0887"
            ],
            [
             0.1111111111111111,
             "#46039f"
            ],
            [
             0.2222222222222222,
             "#7201a8"
            ],
            [
             0.3333333333333333,
             "#9c179e"
            ],
            [
             0.4444444444444444,
             "#bd3786"
            ],
            [
             0.5555555555555556,
             "#d8576b"
            ],
            [
             0.6666666666666666,
             "#ed7953"
            ],
            [
             0.7777777777777778,
             "#fb9f3a"
            ],
            [
             0.8888888888888888,
             "#fdca26"
            ],
            [
             1,
             "#f0f921"
            ]
           ],
           "sequentialminus": [
            [
             0,
             "#0d0887"
            ],
            [
             0.1111111111111111,
             "#46039f"
            ],
            [
             0.2222222222222222,
             "#7201a8"
            ],
            [
             0.3333333333333333,
             "#9c179e"
            ],
            [
             0.4444444444444444,
             "#bd3786"
            ],
            [
             0.5555555555555556,
             "#d8576b"
            ],
            [
             0.6666666666666666,
             "#ed7953"
            ],
            [
             0.7777777777777778,
             "#fb9f3a"
            ],
            [
             0.8888888888888888,
             "#fdca26"
            ],
            [
             1,
             "#f0f921"
            ]
           ]
          },
          "colorway": [
           "#636efa",
           "#EF553B",
           "#00cc96",
           "#ab63fa",
           "#FFA15A",
           "#19d3f3",
           "#FF6692",
           "#B6E880",
           "#FF97FF",
           "#FECB52"
          ],
          "font": {
           "color": "#2a3f5f"
          },
          "geo": {
           "bgcolor": "white",
           "lakecolor": "white",
           "landcolor": "#E5ECF6",
           "showlakes": true,
           "showland": true,
           "subunitcolor": "white"
          },
          "hoverlabel": {
           "align": "left"
          },
          "hovermode": "closest",
          "mapbox": {
           "style": "light"
          },
          "paper_bgcolor": "white",
          "plot_bgcolor": "#E5ECF6",
          "polar": {
           "angularaxis": {
            "gridcolor": "white",
            "linecolor": "white",
            "ticks": ""
           },
           "bgcolor": "#E5ECF6",
           "radialaxis": {
            "gridcolor": "white",
            "linecolor": "white",
            "ticks": ""
           }
          },
          "scene": {
           "xaxis": {
            "backgroundcolor": "#E5ECF6",
            "gridcolor": "white",
            "gridwidth": 2,
            "linecolor": "white",
            "showbackground": true,
            "ticks": "",
            "zerolinecolor": "white"
           },
           "yaxis": {
            "backgroundcolor": "#E5ECF6",
            "gridcolor": "white",
            "gridwidth": 2,
            "linecolor": "white",
            "showbackground": true,
            "ticks": "",
            "zerolinecolor": "white"
           },
           "zaxis": {
            "backgroundcolor": "#E5ECF6",
            "gridcolor": "white",
            "gridwidth": 2,
            "linecolor": "white",
            "showbackground": true,
            "ticks": "",
            "zerolinecolor": "white"
           }
          },
          "shapedefaults": {
           "line": {
            "color": "#2a3f5f"
           }
          },
          "ternary": {
           "aaxis": {
            "gridcolor": "white",
            "linecolor": "white",
            "ticks": ""
           },
           "baxis": {
            "gridcolor": "white",
            "linecolor": "white",
            "ticks": ""
           },
           "bgcolor": "#E5ECF6",
           "caxis": {
            "gridcolor": "white",
            "linecolor": "white",
            "ticks": ""
           }
          },
          "title": {
           "x": 0.05
          },
          "xaxis": {
           "automargin": true,
           "gridcolor": "white",
           "linecolor": "white",
           "ticks": "",
           "title": {
            "standoff": 15
           },
           "zerolinecolor": "white",
           "zerolinewidth": 2
          },
          "yaxis": {
           "automargin": true,
           "gridcolor": "white",
           "linecolor": "white",
           "ticks": "",
           "title": {
            "standoff": 15
           },
           "zerolinecolor": "white",
           "zerolinewidth": 2
          }
         }
        },
        "xaxis": {
         "anchor": "y",
         "domain": [
          0,
          1
         ],
         "title": {
          "text": "x"
         }
        },
        "yaxis": {
         "anchor": "x",
         "domain": [
          0,
          1
         ],
         "title": {
          "text": "y"
         }
        }
       }
      },
      "text/html": [
       "<div>                            <div id=\"6c7dadc0-b8cc-4c2c-9ed8-146177918c38\" class=\"plotly-graph-div\" style=\"height:525px; width:100%;\"></div>            <script type=\"text/javascript\">                require([\"plotly\"], function(Plotly) {                    window.PLOTLYENV=window.PLOTLYENV || {};                                    if (document.getElementById(\"6c7dadc0-b8cc-4c2c-9ed8-146177918c38\")) {                    Plotly.newPlot(                        \"6c7dadc0-b8cc-4c2c-9ed8-146177918c38\",                        [{\"customdata\":[[\"Jim Gaffigan: Comedy Monster (2021) | Transcript\"],[\"Kathleen Madigan: Bothering Jesus (2016) \\u2013 Transcript\"],[\"Phil Wang: Philly Philly Wang Wang (2021) \\u2013 Transcript\"],[\"Tom Papa: Freaked Out (2013) \\u2013 Transcript\"],[\"Bo Burnham: Inside (2021) \\u2013 Transcript\"],[\"Brian Regan: On The Rocks (2021) \\u2013 Transcript\"],[\"Sarah Cooper: Everything\\u2019s Fine (2020) \\u2013 Transcript\"],[\"Bo Burnham: Words, Words, Words (2010) \\u2013 Transcript\"],[\"RONNY CHIENG: ASIAN COMEDIAN DESTROYS AMERICA (2019) \\u2013 TRANSCRIPT\"],[\"Craig Ferguson: A Wee Bit o\\u2019 Revolution (2009) \\u2013 Transcript\"],[\"Jack Whitehall: I\\u2019m Only Joking (2020) | Transcript\"],[\"ROY WOOD JR.: FATHER FIGURE (2017) \\u2013 FULL TRANSCRIPT\"],[\"BILLY CONNOLLY: HIGH HORSE TOUR LIVE (2016) \\u2013 FULL TRANSCRIPT\"],[\"Hannah Gadsby: Douglas (2020) \\u2013 Transcript\"],[\"PATTON OSWALT: I LOVE EVERYTHING (2020) \\u2013 FULL TRANSCRIPT\"],[\"LEE MACK: GOING OUT LIVE (2010) \\u2013 FULL TRANSCRIPT\"],[\"Jerry Seinfeld: 23 Hours To Kill (2020) \\u2013 Transcript\"],[\"MARIA BAMFORD: WEAKNESS IS THE BRAND (2020) \\u2013 FULL TRANSCRIPT\"],[\"Amanda Seales: I Be Knowin\\u2019 (2019) \\u2013 Transcript\"],[\"Stewart Lee: Carpet Remnant World (2012) \\u2013 Full Transcript\"],[\"Stewart Lee: Content Provider (2018) \\u2013 Transcript\"],[\"Jim Gaffigan: Quality Time (2019) \\u2013 Full Transcript\"],[\"Kevin Bridges: A Whole Different Story (2015) \\u2013 Full Transcript\"],[\"Kevin Bridges: The Story So Far\\u2026 Live in Glasgow (2010) \\u2013 Full Transcript\"],[\"Kevin Bridges: The Story Continues (2012) \\u2013 Full Transcript\"],[\"Mike Birbiglia: The New One (2019) \\u2013 Full Transcript\"],[\"Iliza Shlesinger: Unveiled (2019) \\u2013 Full Transcript\"],[\"David Cross: Oh Come On (2019) \\u2013 Full Transcript\"],[\"Colin Quinn: The New York Story (2016) \\u2013 Full Transcript\"],[\"George Carlin: What Am I Doing in New Jersey? (1988) \\u2013 Full Transcript\"],[\"Roy Wood Jr.: No One Loves You (2019) \\u2013 Transcript\"],[\"Jimmy Carr: The Best of Ultimate Gold Greatest Hits (2019) \\u2013 Full Transcript\"],[\"W. Kamau Bell: Private School Negro (2018) \\u2013 Transcript\"],[\"Sebastian Maniscalco: Aren\\u2019t You Embarrassed? (2014) \\u2013 Full Transcript\"],[\"Sebastian Maniscalco: What\\u2019s Wrong with People? (2012) \\u2013 Full Transcript\"],[\"Oh, Hello On Broadway (2017) \\u2013 Transcript\"],[\"Vir Das: Losing It (2018) \\u2013 Full Transcript\"],[\"Jeff Foxworthy & Larry the Cable Guy: We\\u2019ve Been Thinking (2016) \\u2013 Full Transcript\"],[\"Jeff Foxworthy: Totally Committed (1998) \\u2013 Full Transcript\"],[\"BILL MAHER: LIVE FROM OKLAHOMA (2018) \\u2013 Full Transcript\"],[\"Rowan Atkinson Live (1992) \\u2013 Transcript\"],[\"Iliza Shlesinger: Confirmed Kills (2016) \\u2013 Full Transcript\"],[\"JIM GAFFIGAN: NOBLE APE (2018) \\u2013 Full Transcript\"],[\"Hannah Gadsby: Nanette (2018) \\u2013 Transcript\"],[\"RICKY GERVAIS: LIVE IV \\u2013 SCIENCE (2010) \\u2013 Full Transcript\"],[\"RON WHITE: A LITTLE UNPROFESSIONAL (2012) \\u2013 Full Transcript\"],[\"Ali Wong: Hard Knock Wife (2018) \\u2013 Transcript\"],[\"John Mulaney: Kid Gorgeous At Radio City (2018) \\u2013 Transcript\"],[\"George Carlin: You Are All Diseased (1999) \\u2013 Transcript\"],[\"RICKY GERVAIS: HUMANITY (2018) \\u2013 Full Transcript\"],[\"ADEL KARAM: LIVE FROM BEIRUT (2018) \\u2013 Full Transcript\"],[\"STEWART LEE: 90s COMEDIAN (2006) \\u2013 Full Transcript\"],[\"DAVE ATTELL: ROAD WORK (2014) \\u2013 Full Transcript\"],[\"Eddie Izzard \\u2013 Glorious (1997) \\u2013 Transcript\"],[\"FRED ARMISEN: STANDUP FOR DRUMMERS (2018) \\u2013 Full Transcript\"],[\"DANA CARVEY: STRAIGHT WHITE MALE, 60 (2016) \\u2013 Full Transcript\"],[\"EDDIE IZZARD: STRIPPED (2009) \\u2013 Full Transcript\"],[\"BRIAN REGAN: STANDING UP (2007) \\u2013 Full Transcript\"],[\"BRIAN REGAN: NUNCHUCKS AND FLAMETHROWERS (2017) \\u2013 Full Transcript\"],[\"Eddie Izzard: Unrepeatable (1994) | Transcript\"],[\"Stewart Lee: Stand-Up Comedian (2005) \\u2013 Transcript\"],[\"JIMMY CARR: FUNNY BUSINESS (2016) \\u2013 Full Transcript\"],[\"Eddie Izzard: Dress To Kill (1999) \\u2013 Transcript\"],[\"FAHIM ANWAR: THERE\\u2019S NO BUSINESS LIKE SHOW BUSINESS (2017) \\u2013 Transcript\"],[\"MAZ JOBRANI: IMMIGRANT (2017) \\u2013 Full Transcript\"],[\"TODD BARRY: SPICY HONEY (2017) \\u2013 Full Transcript\"],[\"Jerry Seinfeld: I\\u2019m Telling You for the Last Time (1998) \\u2013 Transcript\"],[\"RICKY GERVAIS LIVE 2: POLITICS (2004) \\u2013 Full Transcript\"],[\"CHRISTINA PAZSITZKY: MOTHER INFERIOR (2017) \\u2013 FULL TRANSCRIPT\"],[\"Jack Whitehall: At Large (2017) \\u2013 Transcript\"],[\"JUDAH FRIEDLANDER: AMERICA IS THE GREATEST COUNTRY IN THE UNITED STATES (2017) \\u2013 Full Transcript\"],[\"PATTON OSWALT: ANNIHILATION (2017) \\u2013 Full Transcript\"],[\"BILL MAHER: LIVE FROM D.C. (2014) \\u2013 Full Transcript\"],[\"Pablo Francisco: Ouch! Live From San Jose (2006) \\u2013 Full Transcript\"],[\"BILL MAHER\\u2026 BUT I\\u2019M NOT WRONG (2010) \\u2013 Full Transcript\"],[\"RUSSELL BRAND: MESSIAH COMPLEX (2013) \\u2013 Full Transcript\"],[\"AL MADRIGAL: WHY IS THE RABBIT CRYING? (2013) \\u2013 Full Transcript\"],[\"NEAL BRENNAN: 3 MICS (2017)- FULL TRANSCRIPT\"],[\"John Mulaney: New In Town (2012) \\u2013 Transcript\"],[\"ALI WONG: BABY COBRA (2016) \\u2013 Full Transcript\"],[\"Dylan Moran: Off The Hook (2015) \\u2013 Transcript\"],[\"Hannibal Buress: Comedy Camisado (2016) \\u2013 Transcript\"],[\"Neal Brennan: Women And Black Dudes (2014) \\u2013 Transcript\"],[\"NICK OFFERMAN: AMERICAN HAM (2014) \\u2013 Full Transcript\"],[\"Bo Burnham: What (2013) \\u2013 Transcript\"],[\"John Mulaney: The Comeback Kid (2015) \\u2013 Transcript\"],[\"LEWIS BLACK: BLACK TO THE FUTURE (2016) \\u2013 Full Transcript\"],[\"Mike Birbiglia: Thank God for Jokes (2017) \\u2013 Transcript\"],[\"GEORGE CARLIN: PLAYING WITH YOUR HEAD (1986) \\u2013 Full Transcript\"],[\"GEORGE CARLIN: CARLIN ON CAMPUS (1984) \\u2013 Full Transcript\"],[\"RICKY GERVAIS: OUT OF ENGLAND 2 (2010) \\u2013 Full Transcript\"],[\"JIM GAFFIGAN: CINCO (2017) \\u2013 Full Transcript\"],[\"BILL HICKS: RELENTLESS (1991) \\u2013 Transcript\"],[\"Daniel Tosh: Happy Thoughts (2011) \\u2013 Transcript\"],[\"George Carlin: Jamming in New York (1992) \\u2013 Transcript\"],[\"GEORGE CARLIN: COMPLAINTS AND GRIEVANCES (2001) \\u2013 FULL TRANSCRIPT\"],[\"GEORGE CARLIN: LIFE IS WORTH LOSING (2006) \\u2013 Transcript\"],[\"Dave Chappelle: 8:46 \\u2013 Transcript\"]],\"hovertemplate\":\"color=2<br>x=%{x}<br>y=%{y}<br>hover_data_0=%{customdata[0]}<extra></extra>\",\"legendgroup\":\"2\",\"marker\":{\"color\":\"#636efa\",\"symbol\":\"circle\"},\"mode\":\"markers\",\"name\":\"2\",\"orientation\":\"v\",\"showlegend\":true,\"type\":\"scatter\",\"x\":[8.410459518432617,8.886007308959961,8.674309730529785,9.599059104919434,0.2457304298877716,9.068700790405273,8.935410499572754,0.05694936215877533,8.569925308227539,8.770042419433594,7.3420000076293945,10.05080509185791,7.856866359710693,8.616456985473633,8.302383422851562,10.196162223815918,10.358715057373047,8.007386207580566,9.422030448913574,8.06726360321045,7.269955635070801,8.372754096984863,8.235405921936035,8.107385635375977,-1.2412687540054321,7.3983154296875,10.598755836486816,7.099063873291016,8.928011894226074,7.949632167816162,10.011322021484375,8.620819091796875,8.370563507080078,9.43537425994873,10.575643539428711,8.6539945602417,8.208084106445312,7.666941165924072,6.87086820602417,6.915605545043945,8.02204418182373,10.90573501586914,8.017328262329102,7.43375301361084,8.845385551452637,0.31012606620788574,0.11946051567792892,6.936454772949219,-0.3923834264278412,8.823548316955566,9.576122283935547,6.9198102951049805,10.736349105834961,8.870776176452637,9.963065147399902,8.925712585449219,8.664772033691406,10.068923950195312,9.211979866027832,7.438233375549316,6.948017597198486,10.685818672180176,8.586348533630371,9.842514991760254,9.324871063232422,8.827362060546875,7.843443870544434,8.181025505065918,10.431742668151855,8.686580657958984,8.416242599487305,7.243862628936768,8.192549705505371,9.771074295043945,8.09095287322998,7.32598352432251,7.998514652252197,7.028041362762451,7.01833963394165,7.042827606201172,6.960090160369873,7.827485084533691,6.804920196533203,-0.1579161286354065,10.832771301269531,6.953920841217041,7.706705570220947,6.912829399108887,9.895326614379883,6.896779537200928,8.917631149291992,8.660408973693848,-0.16648678481578827,8.430601119995117,-0.022465147078037262,-1.173821210861206,-1.3852185010910034,0.019984234124422073],\"xaxis\":\"x\",\"y\":[5.621988773345947,5.806798458099365,8.201642990112305,7.245136737823486,2.488509178161621,7.906520366668701,7.955225467681885,2.5120437145233154,8.092890739440918,5.857583045959473,6.655457973480225,7.80986213684082,7.3841071128845215,6.307776927947998,8.257241249084473,7.082751750946045,7.039797782897949,5.475999355316162,7.9305806159973145,7.449314117431641,7.082572937011719,5.648032188415527,8.349895477294922,8.20395565032959,2.4799184799194336,5.444151878356934,6.443901062011719,7.017986297607422,7.383529186248779,8.2351713180542,7.9066619873046875,8.284538269042969,7.220911979675293,7.873056411743164,7.116669654846191,7.746700763702393,8.355565071105957,7.418515682220459,6.395218372344971,6.465648651123047,8.229846000671387,6.328584671020508,5.8770432472229,6.42629337310791,7.089632987976074,2.1178441047668457,2.426607847213745,6.272525787353516,2.768202543258667,6.896742820739746,7.71790075302124,6.533934593200684,6.9768805503845215,7.367372512817383,7.465195178985596,8.147432327270508,7.42032527923584,7.368295669555664,7.9615349769592285,7.3535685539245605,6.7069196701049805,6.549505710601807,7.471699237823486,7.7047343254089355,7.474464416503906,8.168194770812988,8.105181694030762,8.033295631408691,7.0804524421691895,8.098116874694824,7.803646087646484,6.770345687866211,8.362123489379883,7.346676826477051,8.10031795501709,6.904277324676514,7.472200393676758,6.4638352394104,5.248844146728516,4.891677379608154,7.067327499389648,6.611688137054443,6.510274887084961,2.5751914978027344,6.838804721832275,6.069517612457275,7.969527244567871,6.294908046722412,7.796987533569336,7.171942234039307,7.119637489318848,6.001418113708496,2.69235897064209,8.38183879852295,2.664839267730713,2.5645151138305664,2.4043612480163574,2.2876968383789062],\"yaxis\":\"y\"},{\"customdata\":[[\"Louis C. K.: Sorry (2021) | Transcript\"],[\"Mo Amer: Mohammed in Texas (2021) | Transcript\"],[\"Dave Chappelle: The Closer (2021) | Transcript\"],[\"Doug Stanhope: Beer Hall Putsch (2013) \\u2013 Transcript\"],[\"Chris Rock Total Blackout: The Tamborine Extended Cut \\u2013 Transcript\"],[\"Kevin Hart: Zero F**ks Given (2020) \\u2013 Transcript\"],[\"Sam Jay: 3 in the Morning (2020) \\u2013 Transcript\"],[\"GEORGE LOPEZ: WE\\u2019LL DO IT FOR HALF (2020) \\u2013 FULL TRANSCRIPT\"],[\"JIM JEFFERIES: INTOLERANT (2020) \\u2013 FULL TRANSCRIPT\"],[\"George Carlin: Doin\\u2019 It Again (1990) \\u2013 Transcript\"],[\"ERIC ANDRE: LEGALIZE EVERYTHING (2020)\"],[\"RUSSELL PETERS: DEPORTED (2020) \\u2013 FULL TRANSCRIPT\"],[\"LEE MACK: LIVE (2007) \\u2013 FULL TRANSCRIPT\"],[\"JIM NORTON: AMERICAN DEGENERATE (2013) \\u2013 FULL TRANSCRIPT\"],[\"Jim Norton: Monster Rain (2007) \\u2013 Transcript\"],[\"Chris D\\u2019Elia: Man on Fire (2017) \\u2013 Full Transcript\"],[\"Marc Maron: End Times Fun (2020) \\u2013 Full Transcript\"],[\"PETE DAVIDSON: ALIVE FROM NEW YORK (2020) \\u2013 FULL TRANSCRIPT\"],[\"Dan Soder: Son of a Gary (2019) \\u2013 Full Transcript\"],[\"Tiffany Haddish: Black Mitzvah (2019) \\u2013 Transcript\"],[\"Arsenio Hall: Smart and Classy (2019) \\u2013 Transcript\"],[\"Nikki Glaser: Bangin\\u2019 (2019) \\u2013 Full Transcript\"],[\"Bill Burr: Paper Tiger (2019) \\u2013 Transcript\"],[\"Dave Chappelle: Sticks & Stones (2019) \\u2013 Transcript\"],[\"Ralphie May: Filthy Animal Tour (2014) \\u2013 Transcript\"],[\"Mike Epps: Only One Mike (2019) \\u2013 Full Transcript\"],[\"Adam DeVine: Best Time of Our Lives (2019) \\u2013 Full Transcript\"],[\"Jo Koy: Live from Seattle (2017) \\u2013 Full Transcript\"],[\"Jo Koy: Comin\\u2019 in Hot (2019) \\u2013 Full Transcript\"],[\"Cedric the Entertainer: Live from the Ville (2016) \\u2013 Transcript\"],[\"Eddie Murphy: Raw (1987) \\u2013 Transcript\"],[\"Robin Williams: Weapons of Self Destruction (2009) \\u2013 Full Transcript\"],[\"ROBIN WILLIAMS LIVE ON BROADWAY (2002) \\u2013 FULL TRANSCRIPT\"],[\"Kevin Hart: Irresponsible (2019) \\u2013 Transcript\"],[\"Ken Jeong: You Complete Me, Ho (2019) \\u2013 Full Transcript\"],[\"Adam Sandler: 100% Fresh (2018) \\u2013 Full Transcript\"],[\"RON WHITE: IF YOU QUIT LISTENING, I\\u2019LL SHUT UP (2018) \\u2013 FULL TRANSCRIPT\"],[\"Joe Rogan: Strange Times (2018) \\u2013 Full Transcript\"],[\"D.L. Hughley: Contrarian (2018) \\u2013 Transcript\"],[\"Bert Kreischer: Secret Time (2018) \\u2013 Transcript\"],[\"Jim Norton: Contextually Inadequate (2015) \\u2013 Transcript\"],[\"BRAD WILLIAMS: DADDY ISSUES (2016) \\u2013 Full Transcript\"],[\"Deray Davis: How To Act Black (2017) \\u2013 Transcript\"],[\"JIM JEFFERIES: THIS IS ME NOW (2018) \\u2013 Full transcript\"],[\"KEVIN SMITH: SILENT BUT DEADLY (2018) \\u2013 Full Transcript\"],[\"BRENT MORIN: I\\u2019M BRENT MORIN (2015) \\u2013 Full Transcript\"],[\"Eddie Griffin: Undeniable (2018) \\u2013 Transcript\"],[\"Marlon Wayans: Woke-Ish (2018) \\u2013 Transcript\"],[\"Chris Rock: Bring the Pain (1996) \\u2013 Transcript\"],[\"ARI SHAFFIR: DOUBLE NEGATIVE (2017) \\u2013 Full Transcript\"],[\"Chris Rock: Tamborine (2018) \\u2013 Transcript\"],[\"Katt Williams: Great America (2018) \\u2013 Transcript\"],[\"JIMMY CARR: BEING FUNNY (2011) \\u2013 Full Transcript\"],[\"JIMMY CARR: LAUGHING AND JOKING (2013) \\u2013 Full Transcript\"],[\"D.L. Hughley: Unapologetic (2007) \\u2013 Transcript\"],[\"BRIDGET EVERETT: GYNECOLOGICAL WONDER (2015) \\u2013 Full Transcript\"],[\"Chris Rock: Never Scared (2004) \\u2013 Transcript\"],[\"Chris Tucker: Live (2015) \\u2013 Transcript\"],[\"Kevin Hart: What Now (2016) \\u2013 Transcript\"],[\"Kevin Hart: Let Me Explain (2013) \\u2013 Transcript\"],[\"Tom Segura: Disgraceful (2018) \\u2013 Transcript\"],[\"Craig Ferguson: Does This Need To Be Said? (2011) \\u2013 Transcript\"],[\"Dave Chappelle: The Bird Revelation (2017) \\u2013 Transcript\"],[\"Dave Chappelle: Equanimity (2017) \\u2013 Transcript\"],[\"CRAIG FERGUSON: I\\u2019M HERE TO HELP (2013) \\u2013 Full Transcript\"],[\"WHITNEY CUMMINGS: I LOVE YOU (2014) \\u2013 Full Transcript\"],[\"WHITNEY CUMMINGS: I\\u2019M YOUR GIRLFRIEND (2016) \\u2013 Full Transcript\"],[\"Russell Howard Live: Dingledodies (2009) \\u2013 Full Transcript\"],[\"Paul Mooney: A Piece of My Mind \\u2013 Godbless America (2014) \\u2013 Transcript\"],[\"Chris Rock: Kill The Messenger \\u2013 London, New York, Johannesburg (2008) \\u2013 Transcript\"],[\"Chris Rock: Bigger & Blacker (1999) \\u2013 Transcript\"],[\"LISA LAMPANELLI: BACK TO THE DRAWING BOARD (2015) \\u2013 Full Transcript\"],[\"ERIK GRIFFIN: THE UGLY TRUTH (2017) \\u2013 Full Transcript\"],[\"Richard Pryor: Live And Smokin\\u2019 (1971) \\u2013 Transcript\"],[\"RICHARD PRYOR: \\u2026HERE AND NOW (1983) \\u2013 Full Transcript\"],[\"Jim Jefferies: Alcoholocaust (2010) \\u2013 Transcript\"],[\"Kevin Hart: Seriously Funny (2010) \\u2013 Transcript\"],[\"AZIZ ANSARI: INTIMATE MOMENTS FOR A SENSUAL EVENING (2010) \\u2013 Full Transcript\"],[\"BIG JAY OAKERSON: LIVE AT WEBSTER HALL (2016) \\u2013 Full Transcript\"],[\"George Carlin at USC (1977) \\u2013 Full Transcript\"],[\"Jim Norton: Mouthful Of Shame (2017) Transcript\"],[\"Michael Che Matters (2016) \\u2013 Transcript\"],[\"Joe Rogan: Triggered (2016) \\u2013 Transcript\"],[\"Bo Burnham: Make Happy (2016) \\u2013 Transcript\"],[\"BILL HICKS: REVELATIONS (1993) \\u2013 FULL TRANSCRIPT\"],[\"DOUG STANHOPE: BEFORE TURNING THE GUN ON HIMSELF (2012) \\u2013 Transcript\"],[\"DOUG STANHOPE: DEADBEAT HERO (2004) \\u2013 Transcript\"],[\"JIM JEFFERIES: CONTRABAND (2008) \\u2013 Full Transcript\"],[\"GEORGE CARLIN: AGAIN!* (1978) \\u2013 Full Transcript\"],[\"Louis C.K.: Chewed Up (2008) \\u2013 Transcript\"],[\"Tom Segura: Completely Normal (2014) \\u2013 Transcript\"],[\"Louis C.K.: Live at the Beacon Theatre (2011) \\u2013 Transcript\"],[\"JIM JEFFERIES: I SWEAR TO GOD (2009) \\u2013 FULL TRANSCRIPT\"],[\"LOUIS C.K.: HILARIOUS (2010) \\u2013 Full Transcript\"],[\"LOUIS C.K.: SHAMELESS (2007) \\u2013 Full Transcript\"],[\"BILL BURR: I\\u2019M SORRY YOU FEEL THAT WAY (2014) \\u2013 Full Transcript\"],[\"BILL BURR: YOU PEOPLE ARE ALL THE SAME (2012) \\u2013 Full Transcript\"],[\"Dave Chappelle: For What It\\u2019s Worth (2004) \\u2013 Transcript\"],[\"Dave Chappelle: Killin\\u2019 Them Softly (2000) \\u2013 Transcript\"],[\"Eddie Griffin: You Can Tell \\u2018Em I Said It! (2011) \\u2013 Transcript\"],[\"BILL BURR: WALK YOUR WAY OUT (2017) \\u2013 Full Transcript\"],[\"Katt Williams: Live (2006) \\u2013 Transcript\"],[\"Richard Pryor: Live in Concert (1979) \\u2013 Transcript\"],[\"RICHARD PRYOR: LIVE ON THE SUNSET STRIP (1982) \\u2013 Full Transcript\"],[\"JIM JEFFERIES: BARE (2014) \\u2013 Full Transcript\"],[\"Dave Chappelle: Deep in the Heart of Texas (2017) \\u2013 Transcript\"],[\"Tom Segura: Mostly Stories (2016) \\u2013 Transcript\"],[\"JIM JEFFERIES: FREEDUMB (2016) \\u2013 Full Transcript\"],[\"Eddie Murphy: Delirious (1983) \\u2013 Transcript\"],[\"Dave Chappelle: The Age of Spin (2017) \\u2013 Transcript\"],[\"GEORGE CARLIN: BACK IN TOWN (1996) \\u2013 Full transcript\"],[\"LOUIS C.K.: 2017 \\u2013 Full transcript\"],[\"George Carlin: It\\u2019s Bad For Ya (2008) Full transcript\"],[\"JIM JEFFERIES ON GUN CONTROL [FULL TRANSCRIPT]\"]],\"hovertemplate\":\"color=1<br>x=%{x}<br>y=%{y}<br>hover_data_0=%{customdata[0]}<extra></extra>\",\"legendgroup\":\"1\",\"marker\":{\"color\":\"#EF553B\",\"symbol\":\"circle\"},\"mode\":\"markers\",\"name\":\"1\",\"orientation\":\"v\",\"showlegend\":true,\"type\":\"scatter\",\"x\":[0.7602328658103943,-1.1550453901290894,0.8632603883743286,-1.046364665031433,-1.9001247882843018,-0.9979830384254456,-0.28510183095932007,-2.0519654750823975,0.8251796364784241,-0.7135426998138428,-1.2388328313827515,-0.021538861095905304,-2.048734426498413,0.8898363709449768,-0.2679581046104431,-0.0983990728855133,0.22454030811786652,0.32723522186279297,0.6339132785797119,-0.6850671768188477,-2.298011302947998,0.7044017910957336,-1.5833643674850464,0.3747990131378174,-1.362822413444519,-2.331305980682373,-2.0379462242126465,-0.5758326053619385,-1.5199142694473267,-2.3719778060913086,-1.5455899238586426,-1.5863699913024902,-1.4967221021652222,-0.5554881691932678,0.20609170198440552,0.5706642270088196,0.6286527514457703,-2.2036690711975098,-1.2839064598083496,-0.08794315159320831,0.06456176191568375,0.6447399258613586,-1.000017523765564,0.8080870509147644,0.5281149744987488,-0.34475386142730713,-1.528375267982483,-2.0341875553131104,-2.246528387069702,-0.8720630407333374,-2.1271169185638428,-1.5722687244415283,-1.1509042978286743,-1.4720755815505981,-1.4526708126068115,-1.1313157081604004,-1.5485990047454834,-0.730976402759552,-0.6991047263145447,-0.48320451378822327,-0.7072340250015259,-0.35425442457199097,-0.5994049906730652,0.7295206785202026,-1.4650142192840576,0.8227176070213318,8.323369979858398,10.872908592224121,-2.1609740257263184,-1.7900880575180054,-2.2451391220092773,-0.8254812359809875,-2.059737205505371,-0.36197221279144287,-1.2961993217468262,0.6665748953819275,-0.824603259563446,0.23330003023147583,-2.1410977840423584,-0.5844737887382507,0.0975007563829422,-0.3970922827720642,-1.6769213676452637,-0.4896223247051239,-0.8347451686859131,-0.37933653593063354,-0.6317976713180542,0.7429044842720032,-0.6241647005081177,0.82951420545578,-0.43688899278640747,0.31122660636901855,0.7250664234161377,0.04629754275083542,0.6973962187767029,-2.119297504425049,-1.801340103149414,-2.0558559894561768,-0.3221278488636017,-2.2032034397125244,-2.1508734226226807,-2.1444461345672607,-1.6031417846679688,-1.1580469608306885,0.7426902651786804,-0.16395674645900726,-0.656735897064209,0.6745812296867371,-1.5929479598999023,-0.9632226824760437,-0.7075197696685791,-2.219435930252075,-1.336657166481018,-0.17807915806770325],\"xaxis\":\"x\",\"y\":[1.4413063526153564,-0.9503604173660278,1.4297816753387451,2.470991373062134,0.7493341565132141,-0.8649676442146301,-0.4810733199119568,0.5475788712501526,1.4917669296264648,2.707082509994507,2.0619053840637207,-0.8828063607215881,0.016875382512807846,0.673780083656311,2.2388665676116943,-0.6867600083351135,-0.7687638401985168,-0.4840638041496277,0.5850034952163696,-0.4864982068538666,0.8782473206520081,-0.06464133411645889,-0.25426435470581055,1.5433580875396729,1.5872929096221924,0.8117140531539917,0.12039487808942795,-0.5952147841453552,-0.29916149377822876,1.306034803390503,-0.2885710895061493,2.113018035888672,2.319420576095581,-0.5969761610031128,0.8697845935821533,1.611573576927185,1.8221179246902466,0.4079471528530121,2.1919779777526855,0.7477573752403259,2.5373690128326416,-0.07266087085008621,-0.8010478019714355,1.52475905418396,-0.011941131204366684,-0.8770439624786377,2.3282501697540283,0.6262290477752686,0.7756587266921997,-1.0528223514556885,0.8976870775222778,1.377954125404358,2.470855712890625,2.251265525817871,1.0901697874069214,0.7875080108642578,1.8337510824203491,-0.7751773595809937,-0.650860607624054,-0.7366828322410583,-1.0628610849380493,0.22851085662841797,2.145742893218994,1.6666460037231445,1.428876519203186,0.3862607777118683,3.624168634414673,6.181731700897217,1.4492238759994507,1.0479979515075684,0.836818516254425,1.504234790802002,0.5448967218399048,0.4347035586833954,-0.429474800825119,1.9161311388015747,-0.8789333701133728,1.0082200765609741,0.01764148660004139,2.6392672061920166,-0.6725574135780334,-0.44402751326560974,1.5281211137771606,1.6956830024719238,2.552485704421997,2.7454187870025635,2.6689305305480957,1.8774322271347046,2.6926913261413574,0.5438312888145447,-0.8375792503356934,-0.181946262717247,1.8537235260009766,-0.6388521790504456,0.12380990386009216,0.07708464562892914,-0.2227831482887268,1.4787788391113281,-0.18646401166915894,1.1984490156173706,0.14994513988494873,0.2709425389766693,0.5261432528495789,-0.7102687358856201,0.29482945799827576,-0.15664449334144592,-1.012381672859192,1.3138301372528076,1.223578691482544,2.15908145904541,2.657762289047241,1.1991790533065796,2.433720588684082,1.8325233459472656],\"yaxis\":\"y\"},{\"customdata\":[[\"Drew Michael: Drew Michael (2018) | Transcript\"],[\"Drew Michael: Red Blue Green (2021) | Transcript\"],[\"Kathleen Madigan: Madigan Again (2013) \\u2013 Transcript\"],[\"Tom Papa: You\\u2019re Doing Great! (2020) \\u2013 Transcript\"],[\"Tom Papa: Human Mule (2016) \\u2013 Transcript\"],[\"Tig Notaro: Boyish Girl Interrupted (2015) \\u2013 Transcript\"],[\"Joe List: I Hate Myself (2020) \\u2013 Transcript\"],[\"Nate Bargatze: The Greatest Average American (2021) \\u2013 Transcript\"],[\"Vir Das: Outside in \\u2013 The Lockdown Special (2020) \\u2013 Transcript\"],[\"Larry the Cable Guy \\u2013 Remain Seated (2020) \\u2013 Transcript\"],[\"Craig Ferguson: Just Being Honest (2015) \\u2013 Transcript\"],[\"Sam Morril: I Got This (2020) \\u2013 Transcript\"],[\"MICHAEL MCINTYRE: SHOWMAN (2020) \\u2013 TRANSCRIPT\"],[\"ROB SCHNEIDER: ASIAN MOMMA, MEXICAN KIDS (2020) \\u2013 TRANSCRIPT\"],[\"URZILA CARLSON: OVERQUALIFIED LOSER (2020) \\u2013 FULL TRANSCRIPT\"],[\"Mark Normand: Don\\u2019t Be Yourself (2017) \\u2013 Transcript\"],[\"Chris Gethard: Career Suicide (2017) \\u2013 Transcript\"],[\"RAMY YOUSSEF: FEELINGS (2019) \\u2013 FULL TRANSCRIPT\"],[\"KENNY SEBASTIAN DON\\u2019T BE THAT GUY (2017) \\u2013 FULL TRANSCRIPT\"],[\"Hasan Minhaj: Homecoming King (2017) \\u2013 Transcript\"],[\"JIMMY O. YANG: GOOD DEAL (2020) \\u2013 FULL TRANSCRIPT\"],[\"JO KOY: LIGHTS OUT (2012) \\u2013 FULL TRANSCRIPT\"],[\"T.J. MILLER: NO REAL REASON (2011) \\u2013 FULL TRANSCRIPT\"],[\"CHRIS D\\u2019ELIA: WHITE MALE. BLACK COMIC. (2013) \\u2013 FULL TRANSCRIPT\"],[\"Tom Segura: Ball Hog (2020) \\u2013 Transcript\"],[\"Bert Kreischer: Hey Big Boy (2020) \\u2013 Transcript\"],[\"PETE DAVIDSON: SMD (2016) \\u2013 FULL TRANSCRIPT\"],[\"Sara Pascoe: LadsLadsLads (2019) \\u2013 Full Transcript\"],[\"Michelle Wolf: Joke Show (2019) \\u2013 Full Transcript\"],[\"Seth Meyers: Lobby Baby (2019) \\u2013 Full Transcript\"],[\"Emily Heller: Ice Thickeners (2019) \\u2013 Full Transcript\"],[\"Whitney Cummings: Can I Touch It? (2019) \\u2013 Full Transcript\"],[\"Aziz Ansari: Right Now (2019) \\u2013 Transcript\"],[\"Wanda Sykes: Not Normal (2019) \\u2013 Full Transcript\"],[\"Demetri Martin: Live (At The Time) (2015) | Transcript\"],[\"Chelsea Peretti: One of the Greats (2014) \\u2013 Full Transcript\"],[\"Anthony Jeselnik: Fire in the Maternity Ward (2019) \\u2013 Transcript\"],[\"Nate Bargatze: The Tennessee Kid (2019) \\u2013 Full Transcript\"],[\"Nate Bargatze: Full Time Magic (2015) \\u2013 Full Transcript\"],[\"Amy Schumer: Growing (2019) \\u2013 Full Transcript\"],[\"Enissa Amani: Ehrenwort (2018) Full Transcript\"],[\"Ray Romano: Right Here, Around the Corner (2019) \\u2013 Full Transcript\"],[\"Gabriel \\u201cFluffy\\u201d Iglesias: One Show Fits All (2019) \\u2013 Full Transcript\"],[\"Sebastian Maniscalco: Stay Hungry (2019) \\u2013 Full Transcript\"],[\"Ellen Degeneres: Relatable (2018) \\u2013 Transcript\"],[\"Pete Holmes: Dirty Clean (2018) \\u2013 Full Transcript\"],[\"Trevor Noah: Son of Patricia (2018) \\u2013 Transcript\"],[\"Mo Amer: The Vagabond (2018) \\u2013 Full Transcript\"],[\"Joe Mande\\u2019s Award-Winning Comedy Special (2017) \\u2013 Full Transcript\"],[\"Henry Rollins: Keep Talking, Pal (2018) \\u2013 Full Transcript\"],[\"Iliza Shlesinger: Freezing Hot (2015) \\u2013 Full Transcript\"],[\"Iliza Shlesinger: War Paint (2013) \\u2013 Transcript\"],[\"Demetri Martin: The Overthinker (2018) | Transcript\"],[\"Iliza Shlesinger: Elder Millennial (2018) \\u2013 Full Transcript\"],[\"RUSSELL PETERS: OUTSOURCED (2006) \\u2013 Full Transcript\"],[\"RUSSELL PETERS: ALMOST FAMOUS (2016) \\u2013 Full Transcript\"],[\"MICHAEL MCINTYRE: HELLO WEMBLEY! (2009) \\u2013 Full Transcript\"],[\"KEVIN JAMES: NEVER DON\\u2019T GIVE UP (2018) \\u2013 Full Transcript\"],[\"NIKKI GLASER: PERFECT (2016) \\u2013 Full Transcript\"],[\"KAVIN JAY: EVERYBODY CALM DOWN! (2018) \\u2013 Full Transcript\"],[\"GREG DAVIES: YOU MAGNIFICENT BEAST (2018) \\u2013 Full Transcript\"],[\"Mike Birbiglia: My Girlfriend\\u2019s Boyfriend (2013) \\u2013 Transcript\"],[\"TODD GLASS: ACT HAPPY (2018) \\u2013 Full Transcript\"],[\"MICHELLE WOLF: NICE LADY (2017) \\u2013 Full Transcript\"],[\"ELLEN DEGENERES: THE BEGINNING (2000) \\u2013 Full Transcript\"],[\"RUSSELL HOWARD: RECALIBRATE (2017) \\u2013 Full Transcript\"],[\"SARAH MILLICAN: CHATTERBOX LIVE (2011) \\u2013 Full Transcript\"],[\"Anjelah Johnson: Not Fancy (2015) \\u2013 Transcript\"],[\"CRISTELA ALONZO: LOWER CLASSY (2017) \\u2013 Full Transcript\"],[\"AZIZ ANSARI: LIVE IN MADISON SQUARE GARDEN (2015) \\u2013 Full Transcript\"],[\"AZIZ ANSARI: BURIED ALIVE (2013) \\u2013 Full Transcript\"],[\"Sarah Silverman: Jesus Is Magic (2005) \\u2013 Transcript\"],[\"SARAH SILVERMAN: WE ARE MIRACLES (2013) \\u2013 Full Transcript\"],[\"Gabriel Iglesias: Hot And Fluffy (2007) \\u2013 Transcript\"],[\"GABRIEL IGLESIAS: I\\u2019M NOT FAT \\u2026 I\\u2019M FLUFFY (2009) \\u2013 Full Transcript\"],[\"GABRIEL IGLESIAS: I\\u2019M SORRY FOR WHAT I SAID WHEN I WAS HUNGRY (2016) \\u2013 Full Transcript\"],[\"RORY SCOVEL TRIES STAND-UP FOR THE FIRST TIME (2017) \\u2013 Full Transcript\"],[\"JEN KIRKMAN: JUST KEEP LIVIN\\u2019? (2017) \\u2013 Full Transcript\"],[\"DANIEL TOSH: COMPLETELY SERIOUS (2007) \\u2013 Full Transcript\"],[\"Donald Glover: Weirdo (2012) \\u2013 Transcript\"],[\"Norm Macdonald: Hitler\\u2019s Dog, Gossip & Trickery (2017) \\u2013 Transcript\"],[\"DANIEL TOSH: PEOPLE PLEASER (2016) \\u2013 FULL TRANSCRIPT\"],[\"Marc Maron: More Later (2015) \\u2013 Full Transcript\"],[\"AMY SCHUMER: MOSTLY SEX STUFF (2012) \\u2013 Full Transcript\"],[\"AMY SCHUMER: LIVE AT THE APOLLO (2015) \\u2013 Full Transcript\"],[\"Trevor Noah: Lost In Translation (2015) \\u2013 Transcript\"],[\"MARIA BAMFORD: OLD BABY (2017) \\u2013 FULL TRANSCRIPT\"],[\"ANTHONY JESELNIK: CALIGULA (2013) \\u2013 Full Transcript\"],[\"Anthony Jeselnik: Thoughts And Prayers (2015) \\u2013 Full Transcript\"],[\"SARAH SILVERMAN: A SPECK OF DUST (2017) \\u2013 Full Transcript\"],[\"AMY SCHUMER: THE LEATHER SPECIAL (2017) \\u2013 Full Transcript\"],[\"LOUIS C.K.: OH MY GOD (2013) \\u2013 Full Transcript\"],[\"LOUIS C.K.: LIVE AT  THE COMEDY STORE (2015) \\u2013 Transcript\"],[\"Patrice O\\u2019Neal: Elephant in the Room (2011) \\u2013 Transcript\"],[\"Trevor Noah: Afraid Of The Dark (2017) \\u2013 Transcript\"],[\"BILL BURR: LET IT GO (2010) \\u2013 TRANSCRIPT\"],[\"Reggie Watts: Spatial (2016) \\u2013 Full Transcript\"]],\"hovertemplate\":\"color=0<br>x=%{x}<br>y=%{y}<br>hover_data_0=%{customdata[0]}<extra></extra>\",\"legendgroup\":\"0\",\"marker\":{\"color\":\"#00cc96\",\"symbol\":\"circle\"},\"mode\":\"markers\",\"name\":\"0\",\"orientation\":\"v\",\"showlegend\":true,\"type\":\"scatter\",\"x\":[9.93399429321289,7.271470546722412,9.813702583312988,11.097277641296387,11.142744064331055,7.497385025024414,8.966985702514648,9.409465789794922,11.08502197265625,8.843180656433105,8.780070304870605,8.31490707397461,8.591479301452637,10.422755241394043,7.383869647979736,10.629335403442383,7.216174125671387,8.881117820739746,10.998775482177734,9.699549674987793,8.134943008422852,10.09994888305664,7.448509693145752,10.922666549682617,9.793554306030273,9.957637786865234,9.411251068115234,7.119269371032715,7.620663166046143,7.069557189941406,7.163768768310547,8.697978973388672,11.116415023803711,9.924520492553711,8.885931968688965,7.599301815032959,7.165404319763184,9.3503999710083,9.345450401306152,9.310114860534668,8.730324745178223,10.797660827636719,9.922578811645508,9.813955307006836,7.3003363609313965,10.19102954864502,9.746825218200684,9.775126457214355,8.816327095031738,8.610457420349121,11.1021089553833,11.113117218017578,8.745671272277832,10.891695976257324,11.084099769592285,11.092963218688965,11.084559440612793,10.793699264526367,9.292957305908203,8.311125755310059,8.685507774353027,7.181183815002441,9.205463409423828,7.535571575164795,7.2101969718933105,10.08143424987793,9.18362045288086,8.738184928894043,10.2321138381958,10.735322952270508,10.995254516601562,9.067309379577637,8.59632682800293,10.691038131713867,10.731477737426758,11.167730331420898,10.980022430419922,9.161571502685547,11.14290714263916,8.766618728637695,7.669009208679199,10.862372398376465,9.042994499206543,9.885674476623535,8.611239433288574,10.011557579040527,8.094042778015137,8.146871566772461,8.721711158752441,9.061768531799316,9.360347747802734,7.164222717285156,8.783879280090332,10.967844009399414,11.010147094726562,10.257150650024414,10.782231330871582],\"xaxis\":\"x\",\"y\":[3.6814146041870117,4.41998291015625,4.236988067626953,5.799915790557861,5.79964017868042,4.815478801727295,3.2219157218933105,3.4290060997009277,6.294677734375,5.627634048461914,5.30964469909668,3.916288375854492,4.99544620513916,4.057711124420166,3.9574942588806152,4.287876605987549,5.085103988647461,3.517054557800293,6.59084939956665,5.0924482345581055,4.265453815460205,3.8430898189544678,4.364915370941162,4.68289852142334,3.6887779235839844,4.865551471710205,3.6130928993225098,4.687649250030518,4.01400899887085,4.947843074798584,4.588541030883789,5.032322883605957,6.124814510345459,4.795846939086914,4.722114086151123,4.437934398651123,4.550748348236084,3.3878047466278076,3.5009684562683105,3.8778738975524902,5.171567916870117,4.623055458068848,4.853688716888428,4.797053337097168,4.703856945037842,3.9402618408203125,4.976630210876465,5.00424861907959,5.399524688720703,5.309531211853027,5.705323696136475,5.324219226837158,4.839656352996826,6.252702236175537,5.278520107269287,5.059514999389648,5.568243026733398,4.563896179199219,3.2540886402130127,4.611088752746582,4.245753288269043,4.995624542236328,3.338853359222412,3.987027168273926,4.5388665199279785,4.8221435546875,3.2189266681671143,5.444576263427734,3.990870714187622,5.000154972076416,5.752468585968018,4.001999378204346,3.8697099685668945,4.658127307891846,4.766743183135986,5.921173095703125,4.725335121154785,3.239102363586426,5.750119209289551,3.533628225326538,3.9166057109832764,6.100637435913086,3.28928804397583,3.9392223358154297,3.707515001296997,4.737679958343506,5.310900688171387,4.239276885986328,4.050906658172607,4.965875625610352,3.906309127807617,3.850545644760132,3.5833115577697754,4.6483154296875,4.854348182678223,3.9593546390533447,6.847131252288818],\"yaxis\":\"y\"}],                        {\"legend\":{\"title\":{\"text\":\"color\"},\"tracegroupgap\":0},\"margin\":{\"t\":60},\"template\":{\"data\":{\"bar\":[{\"error_x\":{\"color\":\"#2a3f5f\"},\"error_y\":{\"color\":\"#2a3f5f\"},\"marker\":{\"line\":{\"color\":\"#E5ECF6\",\"width\":0.5},\"pattern\":{\"fillmode\":\"overlay\",\"size\":10,\"solidity\":0.2}},\"type\":\"bar\"}],\"barpolar\":[{\"marker\":{\"line\":{\"color\":\"#E5ECF6\",\"width\":0.5},\"pattern\":{\"fillmode\":\"overlay\",\"size\":10,\"solidity\":0.2}},\"type\":\"barpolar\"}],\"carpet\":[{\"aaxis\":{\"endlinecolor\":\"#2a3f5f\",\"gridcolor\":\"white\",\"linecolor\":\"white\",\"minorgridcolor\":\"white\",\"startlinecolor\":\"#2a3f5f\"},\"baxis\":{\"endlinecolor\":\"#2a3f5f\",\"gridcolor\":\"white\",\"linecolor\":\"white\",\"minorgridcolor\":\"white\",\"startlinecolor\":\"#2a3f5f\"},\"type\":\"carpet\"}],\"choropleth\":[{\"colorbar\":{\"outlinewidth\":0,\"ticks\":\"\"},\"type\":\"choropleth\"}],\"contour\":[{\"colorbar\":{\"outlinewidth\":0,\"ticks\":\"\"},\"colorscale\":[[0.0,\"#0d0887\"],[0.1111111111111111,\"#46039f\"],[0.2222222222222222,\"#7201a8\"],[0.3333333333333333,\"#9c179e\"],[0.4444444444444444,\"#bd3786\"],[0.5555555555555556,\"#d8576b\"],[0.6666666666666666,\"#ed7953\"],[0.7777777777777778,\"#fb9f3a\"],[0.8888888888888888,\"#fdca26\"],[1.0,\"#f0f921\"]],\"type\":\"contour\"}],\"contourcarpet\":[{\"colorbar\":{\"outlinewidth\":0,\"ticks\":\"\"},\"type\":\"contourcarpet\"}],\"heatmap\":[{\"colorbar\":{\"outlinewidth\":0,\"ticks\":\"\"},\"colorscale\":[[0.0,\"#0d0887\"],[0.1111111111111111,\"#46039f\"],[0.2222222222222222,\"#7201a8\"],[0.3333333333333333,\"#9c179e\"],[0.4444444444444444,\"#bd3786\"],[0.5555555555555556,\"#d8576b\"],[0.6666666666666666,\"#ed7953\"],[0.7777777777777778,\"#fb9f3a\"],[0.8888888888888888,\"#fdca26\"],[1.0,\"#f0f921\"]],\"type\":\"heatmap\"}],\"heatmapgl\":[{\"colorbar\":{\"outlinewidth\":0,\"ticks\":\"\"},\"colorscale\":[[0.0,\"#0d0887\"],[0.1111111111111111,\"#46039f\"],[0.2222222222222222,\"#7201a8\"],[0.3333333333333333,\"#9c179e\"],[0.4444444444444444,\"#bd3786\"],[0.5555555555555556,\"#d8576b\"],[0.6666666666666666,\"#ed7953\"],[0.7777777777777778,\"#fb9f3a\"],[0.8888888888888888,\"#fdca26\"],[1.0,\"#f0f921\"]],\"type\":\"heatmapgl\"}],\"histogram\":[{\"marker\":{\"pattern\":{\"fillmode\":\"overlay\",\"size\":10,\"solidity\":0.2}},\"type\":\"histogram\"}],\"histogram2d\":[{\"colorbar\":{\"outlinewidth\":0,\"ticks\":\"\"},\"colorscale\":[[0.0,\"#0d0887\"],[0.1111111111111111,\"#46039f\"],[0.2222222222222222,\"#7201a8\"],[0.3333333333333333,\"#9c179e\"],[0.4444444444444444,\"#bd3786\"],[0.5555555555555556,\"#d8576b\"],[0.6666666666666666,\"#ed7953\"],[0.7777777777777778,\"#fb9f3a\"],[0.8888888888888888,\"#fdca26\"],[1.0,\"#f0f921\"]],\"type\":\"histogram2d\"}],\"histogram2dcontour\":[{\"colorbar\":{\"outlinewidth\":0,\"ticks\":\"\"},\"colorscale\":[[0.0,\"#0d0887\"],[0.1111111111111111,\"#46039f\"],[0.2222222222222222,\"#7201a8\"],[0.3333333333333333,\"#9c179e\"],[0.4444444444444444,\"#bd3786\"],[0.5555555555555556,\"#d8576b\"],[0.6666666666666666,\"#ed7953\"],[0.7777777777777778,\"#fb9f3a\"],[0.8888888888888888,\"#fdca26\"],[1.0,\"#f0f921\"]],\"type\":\"histogram2dcontour\"}],\"mesh3d\":[{\"colorbar\":{\"outlinewidth\":0,\"ticks\":\"\"},\"type\":\"mesh3d\"}],\"parcoords\":[{\"line\":{\"colorbar\":{\"outlinewidth\":0,\"ticks\":\"\"}},\"type\":\"parcoords\"}],\"pie\":[{\"automargin\":true,\"type\":\"pie\"}],\"scatter\":[{\"marker\":{\"colorbar\":{\"outlinewidth\":0,\"ticks\":\"\"}},\"type\":\"scatter\"}],\"scatter3d\":[{\"line\":{\"colorbar\":{\"outlinewidth\":0,\"ticks\":\"\"}},\"marker\":{\"colorbar\":{\"outlinewidth\":0,\"ticks\":\"\"}},\"type\":\"scatter3d\"}],\"scattercarpet\":[{\"marker\":{\"colorbar\":{\"outlinewidth\":0,\"ticks\":\"\"}},\"type\":\"scattercarpet\"}],\"scattergeo\":[{\"marker\":{\"colorbar\":{\"outlinewidth\":0,\"ticks\":\"\"}},\"type\":\"scattergeo\"}],\"scattergl\":[{\"marker\":{\"colorbar\":{\"outlinewidth\":0,\"ticks\":\"\"}},\"type\":\"scattergl\"}],\"scattermapbox\":[{\"marker\":{\"colorbar\":{\"outlinewidth\":0,\"ticks\":\"\"}},\"type\":\"scattermapbox\"}],\"scatterpolar\":[{\"marker\":{\"colorbar\":{\"outlinewidth\":0,\"ticks\":\"\"}},\"type\":\"scatterpolar\"}],\"scatterpolargl\":[{\"marker\":{\"colorbar\":{\"outlinewidth\":0,\"ticks\":\"\"}},\"type\":\"scatterpolargl\"}],\"scatterternary\":[{\"marker\":{\"colorbar\":{\"outlinewidth\":0,\"ticks\":\"\"}},\"type\":\"scatterternary\"}],\"surface\":[{\"colorbar\":{\"outlinewidth\":0,\"ticks\":\"\"},\"colorscale\":[[0.0,\"#0d0887\"],[0.1111111111111111,\"#46039f\"],[0.2222222222222222,\"#7201a8\"],[0.3333333333333333,\"#9c179e\"],[0.4444444444444444,\"#bd3786\"],[0.5555555555555556,\"#d8576b\"],[0.6666666666666666,\"#ed7953\"],[0.7777777777777778,\"#fb9f3a\"],[0.8888888888888888,\"#fdca26\"],[1.0,\"#f0f921\"]],\"type\":\"surface\"}],\"table\":[{\"cells\":{\"fill\":{\"color\":\"#EBF0F8\"},\"line\":{\"color\":\"white\"}},\"header\":{\"fill\":{\"color\":\"#C8D4E3\"},\"line\":{\"color\":\"white\"}},\"type\":\"table\"}]},\"layout\":{\"annotationdefaults\":{\"arrowcolor\":\"#2a3f5f\",\"arrowhead\":0,\"arrowwidth\":1},\"autotypenumbers\":\"strict\",\"coloraxis\":{\"colorbar\":{\"outlinewidth\":0,\"ticks\":\"\"}},\"colorscale\":{\"diverging\":[[0,\"#8e0152\"],[0.1,\"#c51b7d\"],[0.2,\"#de77ae\"],[0.3,\"#f1b6da\"],[0.4,\"#fde0ef\"],[0.5,\"#f7f7f7\"],[0.6,\"#e6f5d0\"],[0.7,\"#b8e186\"],[0.8,\"#7fbc41\"],[0.9,\"#4d9221\"],[1,\"#276419\"]],\"sequential\":[[0.0,\"#0d0887\"],[0.1111111111111111,\"#46039f\"],[0.2222222222222222,\"#7201a8\"],[0.3333333333333333,\"#9c179e\"],[0.4444444444444444,\"#bd3786\"],[0.5555555555555556,\"#d8576b\"],[0.6666666666666666,\"#ed7953\"],[0.7777777777777778,\"#fb9f3a\"],[0.8888888888888888,\"#fdca26\"],[1.0,\"#f0f921\"]],\"sequentialminus\":[[0.0,\"#0d0887\"],[0.1111111111111111,\"#46039f\"],[0.2222222222222222,\"#7201a8\"],[0.3333333333333333,\"#9c179e\"],[0.4444444444444444,\"#bd3786\"],[0.5555555555555556,\"#d8576b\"],[0.6666666666666666,\"#ed7953\"],[0.7777777777777778,\"#fb9f3a\"],[0.8888888888888888,\"#fdca26\"],[1.0,\"#f0f921\"]]},\"colorway\":[\"#636efa\",\"#EF553B\",\"#00cc96\",\"#ab63fa\",\"#FFA15A\",\"#19d3f3\",\"#FF6692\",\"#B6E880\",\"#FF97FF\",\"#FECB52\"],\"font\":{\"color\":\"#2a3f5f\"},\"geo\":{\"bgcolor\":\"white\",\"lakecolor\":\"white\",\"landcolor\":\"#E5ECF6\",\"showlakes\":true,\"showland\":true,\"subunitcolor\":\"white\"},\"hoverlabel\":{\"align\":\"left\"},\"hovermode\":\"closest\",\"mapbox\":{\"style\":\"light\"},\"paper_bgcolor\":\"white\",\"plot_bgcolor\":\"#E5ECF6\",\"polar\":{\"angularaxis\":{\"gridcolor\":\"white\",\"linecolor\":\"white\",\"ticks\":\"\"},\"bgcolor\":\"#E5ECF6\",\"radialaxis\":{\"gridcolor\":\"white\",\"linecolor\":\"white\",\"ticks\":\"\"}},\"scene\":{\"xaxis\":{\"backgroundcolor\":\"#E5ECF6\",\"gridcolor\":\"white\",\"gridwidth\":2,\"linecolor\":\"white\",\"showbackground\":true,\"ticks\":\"\",\"zerolinecolor\":\"white\"},\"yaxis\":{\"backgroundcolor\":\"#E5ECF6\",\"gridcolor\":\"white\",\"gridwidth\":2,\"linecolor\":\"white\",\"showbackground\":true,\"ticks\":\"\",\"zerolinecolor\":\"white\"},\"zaxis\":{\"backgroundcolor\":\"#E5ECF6\",\"gridcolor\":\"white\",\"gridwidth\":2,\"linecolor\":\"white\",\"showbackground\":true,\"ticks\":\"\",\"zerolinecolor\":\"white\"}},\"shapedefaults\":{\"line\":{\"color\":\"#2a3f5f\"}},\"ternary\":{\"aaxis\":{\"gridcolor\":\"white\",\"linecolor\":\"white\",\"ticks\":\"\"},\"baxis\":{\"gridcolor\":\"white\",\"linecolor\":\"white\",\"ticks\":\"\"},\"bgcolor\":\"#E5ECF6\",\"caxis\":{\"gridcolor\":\"white\",\"linecolor\":\"white\",\"ticks\":\"\"}},\"title\":{\"x\":0.05},\"xaxis\":{\"automargin\":true,\"gridcolor\":\"white\",\"linecolor\":\"white\",\"ticks\":\"\",\"title\":{\"standoff\":15},\"zerolinecolor\":\"white\",\"zerolinewidth\":2},\"yaxis\":{\"automargin\":true,\"gridcolor\":\"white\",\"linecolor\":\"white\",\"ticks\":\"\",\"title\":{\"standoff\":15},\"zerolinecolor\":\"white\",\"zerolinewidth\":2}}},\"xaxis\":{\"anchor\":\"y\",\"domain\":[0.0,1.0],\"title\":{\"text\":\"x\"}},\"yaxis\":{\"anchor\":\"x\",\"domain\":[0.0,1.0],\"title\":{\"text\":\"y\"}}},                        {\"responsive\": true}                    ).then(function(){\n",
       "                            \n",
       "var gd = document.getElementById('6c7dadc0-b8cc-4c2c-9ed8-146177918c38');\n",
       "var x = new MutationObserver(function (mutations, observer) {{\n",
       "        var display = window.getComputedStyle(gd).display;\n",
       "        if (!display || display === 'none') {{\n",
       "            console.log([gd, 'removed!']);\n",
       "            Plotly.purge(gd);\n",
       "            observer.disconnect();\n",
       "        }}\n",
       "}});\n",
       "\n",
       "// Listen for the removal of the full notebook cells\n",
       "var notebookContainer = gd.closest('#notebook-container');\n",
       "if (notebookContainer) {{\n",
       "    x.observe(notebookContainer, {childList: true});\n",
       "}}\n",
       "\n",
       "// Listen for the clearing of the current output cell\n",
       "var outputEl = gd.closest('.output');\n",
       "if (outputEl) {{\n",
       "    x.observe(outputEl, {childList: true});\n",
       "}}\n",
       "\n",
       "                        })                };                });            </script>        </div>"
      ]
     },
     "metadata": {},
     "output_type": "display_data"
    }
   ],
   "source": [
    "umapper = UMAP()\n",
    "cosims_means_umap = umapper.fit_transform(X)\n",
    "\n",
    "px.scatter(x = cosims_means_umap[:,0],\n",
    "           y = cosims_means_umap[:,1],\n",
    "           color=cosims_means_com['community'],\n",
    "           hover_data = [cosims_means_com.index]\n",
    "           )"
   ]
  },
  {
   "cell_type": "markdown",
   "metadata": {},
   "source": [
    "## repeat unsupervised models to determine which features were most important for each feature group"
   ]
  },
  {
   "cell_type": "code",
   "execution_count": 654,
   "metadata": {},
   "outputs": [
    {
     "data": {
      "text/plain": [
       "dict_keys(['metadata', 'pos_props', 'pov_props', 'word_sentence_lengths', 'profanity', 'sentiment', 'sur'])"
      ]
     },
     "execution_count": 654,
     "metadata": {},
     "output_type": "execute_result"
    }
   ],
   "source": [
    "features_dict.keys()"
   ]
  },
  {
   "cell_type": "code",
   "execution_count": 662,
   "metadata": {},
   "outputs": [
    {
     "data": {
      "application/vnd.plotly.v1+json": {
       "config": {
        "plotlyServerURL": "https://plotly.com"
       },
       "data": [
        {
         "customdata": [
          [
           "Jim Gaffigan: Comedy Monster (2021) | Transcript"
          ],
          [
           "Kathleen Madigan: Bothering Jesus (2016) – Transcript"
          ],
          [
           "Phil Wang: Philly Philly Wang Wang (2021) – Transcript"
          ],
          [
           "Tom Papa: Freaked Out (2013) – Transcript"
          ],
          [
           "Bo Burnham: Inside (2021) – Transcript"
          ],
          [
           "Brian Regan: On The Rocks (2021) – Transcript"
          ],
          [
           "Sarah Cooper: Everything’s Fine (2020) – Transcript"
          ],
          [
           "Bo Burnham: Words, Words, Words (2010) – Transcript"
          ],
          [
           "RONNY CHIENG: ASIAN COMEDIAN DESTROYS AMERICA (2019) – TRANSCRIPT"
          ],
          [
           "Craig Ferguson: A Wee Bit o’ Revolution (2009) – Transcript"
          ],
          [
           "Jack Whitehall: I’m Only Joking (2020) | Transcript"
          ],
          [
           "ROY WOOD JR.: FATHER FIGURE (2017) – FULL TRANSCRIPT"
          ],
          [
           "BILLY CONNOLLY: HIGH HORSE TOUR LIVE (2016) – FULL TRANSCRIPT"
          ],
          [
           "Hannah Gadsby: Douglas (2020) – Transcript"
          ],
          [
           "PATTON OSWALT: I LOVE EVERYTHING (2020) – FULL TRANSCRIPT"
          ],
          [
           "LEE MACK: GOING OUT LIVE (2010) – FULL TRANSCRIPT"
          ],
          [
           "Jerry Seinfeld: 23 Hours To Kill (2020) – Transcript"
          ],
          [
           "MARIA BAMFORD: WEAKNESS IS THE BRAND (2020) – FULL TRANSCRIPT"
          ],
          [
           "Amanda Seales: I Be Knowin’ (2019) – Transcript"
          ],
          [
           "Stewart Lee: Carpet Remnant World (2012) – Full Transcript"
          ],
          [
           "Stewart Lee: Content Provider (2018) – Transcript"
          ],
          [
           "Jim Gaffigan: Quality Time (2019) – Full Transcript"
          ],
          [
           "Kevin Bridges: A Whole Different Story (2015) – Full Transcript"
          ],
          [
           "Kevin Bridges: The Story So Far… Live in Glasgow (2010) – Full Transcript"
          ],
          [
           "Kevin Bridges: The Story Continues (2012) – Full Transcript"
          ],
          [
           "Mike Birbiglia: The New One (2019) – Full Transcript"
          ],
          [
           "Iliza Shlesinger: Unveiled (2019) – Full Transcript"
          ],
          [
           "David Cross: Oh Come On (2019) – Full Transcript"
          ],
          [
           "Colin Quinn: The New York Story (2016) – Full Transcript"
          ],
          [
           "George Carlin: What Am I Doing in New Jersey? (1988) – Full Transcript"
          ],
          [
           "Roy Wood Jr.: No One Loves You (2019) – Transcript"
          ],
          [
           "Jimmy Carr: The Best of Ultimate Gold Greatest Hits (2019) – Full Transcript"
          ],
          [
           "W. Kamau Bell: Private School Negro (2018) – Transcript"
          ],
          [
           "Sebastian Maniscalco: Aren’t You Embarrassed? (2014) – Full Transcript"
          ],
          [
           "Sebastian Maniscalco: What’s Wrong with People? (2012) – Full Transcript"
          ],
          [
           "Oh, Hello On Broadway (2017) – Transcript"
          ],
          [
           "Vir Das: Losing It (2018) – Full Transcript"
          ],
          [
           "Jeff Foxworthy & Larry the Cable Guy: We’ve Been Thinking (2016) – Full Transcript"
          ],
          [
           "Jeff Foxworthy: Totally Committed (1998) – Full Transcript"
          ],
          [
           "BILL MAHER: LIVE FROM OKLAHOMA (2018) – Full Transcript"
          ],
          [
           "Rowan Atkinson Live (1992) – Transcript"
          ],
          [
           "Iliza Shlesinger: Confirmed Kills (2016) – Full Transcript"
          ],
          [
           "JIM GAFFIGAN: NOBLE APE (2018) – Full Transcript"
          ],
          [
           "Hannah Gadsby: Nanette (2018) – Transcript"
          ],
          [
           "RICKY GERVAIS: LIVE IV – SCIENCE (2010) – Full Transcript"
          ],
          [
           "RON WHITE: A LITTLE UNPROFESSIONAL (2012) – Full Transcript"
          ],
          [
           "Ali Wong: Hard Knock Wife (2018) – Transcript"
          ],
          [
           "John Mulaney: Kid Gorgeous At Radio City (2018) – Transcript"
          ],
          [
           "George Carlin: You Are All Diseased (1999) – Transcript"
          ],
          [
           "RICKY GERVAIS: HUMANITY (2018) – Full Transcript"
          ],
          [
           "ADEL KARAM: LIVE FROM BEIRUT (2018) – Full Transcript"
          ],
          [
           "STEWART LEE: 90s COMEDIAN (2006) – Full Transcript"
          ],
          [
           "DAVE ATTELL: ROAD WORK (2014) – Full Transcript"
          ],
          [
           "Eddie Izzard – Glorious (1997) – Transcript"
          ],
          [
           "FRED ARMISEN: STANDUP FOR DRUMMERS (2018) – Full Transcript"
          ],
          [
           "DANA CARVEY: STRAIGHT WHITE MALE, 60 (2016) – Full Transcript"
          ],
          [
           "EDDIE IZZARD: STRIPPED (2009) – Full Transcript"
          ],
          [
           "BRIAN REGAN: STANDING UP (2007) – Full Transcript"
          ],
          [
           "BRIAN REGAN: NUNCHUCKS AND FLAMETHROWERS (2017) – Full Transcript"
          ],
          [
           "Eddie Izzard: Unrepeatable (1994) | Transcript"
          ],
          [
           "Stewart Lee: Stand-Up Comedian (2005) – Transcript"
          ],
          [
           "JIMMY CARR: FUNNY BUSINESS (2016) – Full Transcript"
          ],
          [
           "Eddie Izzard: Dress To Kill (1999) – Transcript"
          ],
          [
           "FAHIM ANWAR: THERE’S NO BUSINESS LIKE SHOW BUSINESS (2017) – Transcript"
          ],
          [
           "MAZ JOBRANI: IMMIGRANT (2017) – Full Transcript"
          ],
          [
           "TODD BARRY: SPICY HONEY (2017) – Full Transcript"
          ],
          [
           "Jerry Seinfeld: I’m Telling You for the Last Time (1998) – Transcript"
          ],
          [
           "RICKY GERVAIS LIVE 2: POLITICS (2004) – Full Transcript"
          ],
          [
           "CHRISTINA PAZSITZKY: MOTHER INFERIOR (2017) – FULL TRANSCRIPT"
          ],
          [
           "Jack Whitehall: At Large (2017) – Transcript"
          ],
          [
           "JUDAH FRIEDLANDER: AMERICA IS THE GREATEST COUNTRY IN THE UNITED STATES (2017) – Full Transcript"
          ],
          [
           "PATTON OSWALT: ANNIHILATION (2017) – Full Transcript"
          ],
          [
           "BILL MAHER: LIVE FROM D.C. (2014) – Full Transcript"
          ],
          [
           "Pablo Francisco: Ouch! Live From San Jose (2006) – Full Transcript"
          ],
          [
           "BILL MAHER… BUT I’M NOT WRONG (2010) – Full Transcript"
          ],
          [
           "RUSSELL BRAND: MESSIAH COMPLEX (2013) – Full Transcript"
          ],
          [
           "AL MADRIGAL: WHY IS THE RABBIT CRYING? (2013) – Full Transcript"
          ],
          [
           "NEAL BRENNAN: 3 MICS (2017)- FULL TRANSCRIPT"
          ],
          [
           "John Mulaney: New In Town (2012) – Transcript"
          ],
          [
           "ALI WONG: BABY COBRA (2016) – Full Transcript"
          ],
          [
           "Dylan Moran: Off The Hook (2015) – Transcript"
          ],
          [
           "Hannibal Buress: Comedy Camisado (2016) – Transcript"
          ],
          [
           "Neal Brennan: Women And Black Dudes (2014) – Transcript"
          ],
          [
           "NICK OFFERMAN: AMERICAN HAM (2014) – Full Transcript"
          ],
          [
           "Bo Burnham: What (2013) – Transcript"
          ],
          [
           "John Mulaney: The Comeback Kid (2015) – Transcript"
          ],
          [
           "LEWIS BLACK: BLACK TO THE FUTURE (2016) – Full Transcript"
          ],
          [
           "Mike Birbiglia: Thank God for Jokes (2017) – Transcript"
          ],
          [
           "GEORGE CARLIN: PLAYING WITH YOUR HEAD (1986) – Full Transcript"
          ],
          [
           "GEORGE CARLIN: CARLIN ON CAMPUS (1984) – Full Transcript"
          ],
          [
           "RICKY GERVAIS: OUT OF ENGLAND 2 (2010) – Full Transcript"
          ],
          [
           "JIM GAFFIGAN: CINCO (2017) – Full Transcript"
          ],
          [
           "BILL HICKS: RELENTLESS (1991) – Transcript"
          ],
          [
           "Daniel Tosh: Happy Thoughts (2011) – Transcript"
          ],
          [
           "George Carlin: Jamming in New York (1992) – Transcript"
          ],
          [
           "GEORGE CARLIN: COMPLAINTS AND GRIEVANCES (2001) – FULL TRANSCRIPT"
          ],
          [
           "GEORGE CARLIN: LIFE IS WORTH LOSING (2006) – Transcript"
          ],
          [
           "Dave Chappelle: 8:46 – Transcript"
          ]
         ],
         "hovertemplate": "color=2<br>x=%{x}<br>y=%{y}<br>hover_data_0=%{customdata[0]}<extra></extra>",
         "legendgroup": "2",
         "marker": {
          "color": "#1F77B4",
          "symbol": "circle"
         },
         "mode": "markers",
         "name": "2",
         "orientation": "v",
         "showlegend": true,
         "type": "scatter",
         "x": [
          117.81407470351,
          58.04932476126609,
          206.69928857164388,
          173.25160370405828,
          58.5222824346917,
          110.56415660928435,
          149.13040735801306,
          463.0273721015345,
          63.103259476321966,
          -14.16459361055192,
          340.48783339251634,
          -147.04210968251567,
          223.12547844764197,
          30.348471140612972,
          120.25889217971502,
          126.89756332731214,
          183.9023471317407,
          345.624795076009,
          60.197797887324,
          151.6092480072988,
          175.54410407860618,
          163.8858597203231,
          335.9645564846148,
          258.4317034885526,
          295.8324788694433,
          115.98080152786166,
          204.35044900586826,
          168.44777444424156,
          229.5191118597517,
          127.85106354317354,
          -76.64206765017346,
          116.95830011027,
          -47.911271625467236,
          -36.54799755664083,
          -79.25752085684492,
          458.5248901187236,
          180.11019966660754,
          189.94666236777402,
          79.7713337947599,
          202.16251746783396,
          123.92595130285423,
          307.91178559915255,
          134.88398783731395,
          119.89471692589103,
          94.00948966170213,
          104.3470472589597,
          365.0585030942033,
          79.39562668101,
          499.47413105426887,
          141.9882320461099,
          24.92834469041345,
          100.59259552908571,
          9.708602345889133,
          186.84969277345405,
          -67.10744631963745,
          213.13111790315685,
          316.2364783273623,
          32.95394289215814,
          87.33871804302602,
          36.839470000386655,
          290.4041285494131,
          136.9376083538291,
          575.6466751148338,
          29.04433397157271,
          -174.72413851038604,
          136.3187156715592,
          85.56231901166936,
          160.80793861692217,
          221.37042727360773,
          290.7924775919528,
          266.30294689506167,
          118.46449793990668,
          189.10983150497748,
          19.08625864037161,
          368.8788734936923,
          503.4779829519216,
          228.04276010500536,
          173.84977540196186,
          27.006619957572667,
          172.19423851596324,
          216.2195784680173,
          75.90296438739563,
          40.073688758690615,
          476.5302715786964,
          198.72451655222093,
          52.10517443382833,
          26.827151668419052,
          62.19569859304912,
          11.193574298615701,
          155.012070543119,
          37.45592086558504,
          164.44319821306829,
          183.56637074748073,
          230.3459721102526,
          270.6530129881945,
          352.37680644021697,
          549.0500895926957,
          -90.70493021118442
         ],
         "xaxis": "x",
         "y": [
          -1.902346530188432,
          4.918694830101512,
          3.323425864390911,
          15.77942214171021,
          -35.02009273526647,
          -6.332997935581375,
          24.38599311675654,
          6.012703710741972,
          9.65045568363736,
          -13.590937027412526,
          19.42617760551917,
          7.140417086642314,
          -22.758241432562013,
          4.983170497680274,
          1.6012879081396876,
          -7.044594050309635,
          10.441997938681427,
          -8.801462996228697,
          -21.129246341837064,
          -51.482980223906374,
          -46.9878640473134,
          -0.352335690717524,
          -24.84248499796188,
          -54.34805329595897,
          -1.8149460364776142,
          -17.558054583457935,
          -6.364675012634211,
          8.119330757719576,
          30.15896294843639,
          -0.5168092390259502,
          8.43684718216213,
          17.050495524876055,
          11.907148682008314,
          -11.790228517493286,
          -19.887171603931947,
          -29.08605406390872,
          -2.89743428734739,
          4.765667082351581,
          12.983225385884356,
          -2.0224736877224023,
          -27.166212198560842,
          0.7363846052345896,
          -27.48313966232803,
          -2.919665406822625,
          -9.93276667269908,
          -55.418590250709194,
          -6.652350976752783,
          6.754144302776475,
          15.354680249560081,
          -8.117686368276845,
          -1.647604001361847,
          8.855849084956983,
          -10.645523027015665,
          -31.70549962833438,
          -11.528082249369415,
          0.600307809726687,
          -26.471935117292194,
          -23.407761722872813,
          -5.1824373092781295,
          0.8313541295020458,
          0.5437806490011771,
          18.97163704065974,
          -36.36912331932444,
          -22.186023308403612,
          -56.47833939772811,
          7.958019655351723,
          -14.421371583459939,
          2.4928618412348102,
          -1.7063234562595644,
          8.210770993686184,
          -13.225064796987656,
          7.017886610927549,
          7.514647829307156,
          -6.537317819222316,
          -6.307328188765285,
          -22.35170395003138,
          10.194267807587632,
          8.929532527138107,
          23.806086808944908,
          4.151349082478841,
          5.009226417831452,
          -18.22713231496672,
          9.106277081758652,
          -7.312805248515485,
          -1.360350106880348,
          16.111877665949056,
          -1.2433964760918064,
          -6.80478042535767,
          5.306586065104734,
          10.172108368711054,
          3.8102993913120082,
          -2.530479444500561,
          -2.8586432614206077,
          -8.269858217501946,
          17.234903455294745,
          28.428911237518857,
          18.282095344655946,
          31.904278483728557
         ],
         "yaxis": "y"
        },
        {
         "customdata": [
          [
           "Louis C. K.: Sorry (2021) | Transcript"
          ],
          [
           "Mo Amer: Mohammed in Texas (2021) | Transcript"
          ],
          [
           "Dave Chappelle: The Closer (2021) | Transcript"
          ],
          [
           "Doug Stanhope: Beer Hall Putsch (2013) – Transcript"
          ],
          [
           "Chris Rock Total Blackout: The Tamborine Extended Cut – Transcript"
          ],
          [
           "Kevin Hart: Zero F**ks Given (2020) – Transcript"
          ],
          [
           "Sam Jay: 3 in the Morning (2020) – Transcript"
          ],
          [
           "GEORGE LOPEZ: WE’LL DO IT FOR HALF (2020) – FULL TRANSCRIPT"
          ],
          [
           "JIM JEFFERIES: INTOLERANT (2020) – FULL TRANSCRIPT"
          ],
          [
           "George Carlin: Doin’ It Again (1990) – Transcript"
          ],
          [
           "ERIC ANDRE: LEGALIZE EVERYTHING (2020)"
          ],
          [
           "RUSSELL PETERS: DEPORTED (2020) – FULL TRANSCRIPT"
          ],
          [
           "LEE MACK: LIVE (2007) – FULL TRANSCRIPT"
          ],
          [
           "JIM NORTON: AMERICAN DEGENERATE (2013) – FULL TRANSCRIPT"
          ],
          [
           "Jim Norton: Monster Rain (2007) – Transcript"
          ],
          [
           "Chris D’Elia: Man on Fire (2017) – Full Transcript"
          ],
          [
           "Marc Maron: End Times Fun (2020) – Full Transcript"
          ],
          [
           "PETE DAVIDSON: ALIVE FROM NEW YORK (2020) – FULL TRANSCRIPT"
          ],
          [
           "Dan Soder: Son of a Gary (2019) – Full Transcript"
          ],
          [
           "Tiffany Haddish: Black Mitzvah (2019) – Transcript"
          ],
          [
           "Arsenio Hall: Smart and Classy (2019) – Transcript"
          ],
          [
           "Nikki Glaser: Bangin’ (2019) – Full Transcript"
          ],
          [
           "Bill Burr: Paper Tiger (2019) – Transcript"
          ],
          [
           "Dave Chappelle: Sticks & Stones (2019) – Transcript"
          ],
          [
           "Ralphie May: Filthy Animal Tour (2014) – Transcript"
          ],
          [
           "Mike Epps: Only One Mike (2019) – Full Transcript"
          ],
          [
           "Adam DeVine: Best Time of Our Lives (2019) – Full Transcript"
          ],
          [
           "Jo Koy: Live from Seattle (2017) – Full Transcript"
          ],
          [
           "Jo Koy: Comin’ in Hot (2019) – Full Transcript"
          ],
          [
           "Cedric the Entertainer: Live from the Ville (2016) – Transcript"
          ],
          [
           "Eddie Murphy: Raw (1987) – Transcript"
          ],
          [
           "Robin Williams: Weapons of Self Destruction (2009) – Full Transcript"
          ],
          [
           "ROBIN WILLIAMS LIVE ON BROADWAY (2002) – FULL TRANSCRIPT"
          ],
          [
           "Kevin Hart: Irresponsible (2019) – Transcript"
          ],
          [
           "Ken Jeong: You Complete Me, Ho (2019) – Full Transcript"
          ],
          [
           "Adam Sandler: 100% Fresh (2018) – Full Transcript"
          ],
          [
           "RON WHITE: IF YOU QUIT LISTENING, I’LL SHUT UP (2018) – FULL TRANSCRIPT"
          ],
          [
           "Joe Rogan: Strange Times (2018) – Full Transcript"
          ],
          [
           "D.L. Hughley: Contrarian (2018) – Transcript"
          ],
          [
           "Bert Kreischer: Secret Time (2018) – Transcript"
          ],
          [
           "Jim Norton: Contextually Inadequate (2015) – Transcript"
          ],
          [
           "BRAD WILLIAMS: DADDY ISSUES (2016) – Full Transcript"
          ],
          [
           "Deray Davis: How To Act Black (2017) – Transcript"
          ],
          [
           "JIM JEFFERIES: THIS IS ME NOW (2018) – Full transcript"
          ],
          [
           "KEVIN SMITH: SILENT BUT DEADLY (2018) – Full Transcript"
          ],
          [
           "BRENT MORIN: I’M BRENT MORIN (2015) – Full Transcript"
          ],
          [
           "Eddie Griffin: Undeniable (2018) – Transcript"
          ],
          [
           "Marlon Wayans: Woke-Ish (2018) – Transcript"
          ],
          [
           "Chris Rock: Bring the Pain (1996) – Transcript"
          ],
          [
           "ARI SHAFFIR: DOUBLE NEGATIVE (2017) – Full Transcript"
          ],
          [
           "Chris Rock: Tamborine (2018) – Transcript"
          ],
          [
           "Katt Williams: Great America (2018) – Transcript"
          ],
          [
           "JIMMY CARR: BEING FUNNY (2011) – Full Transcript"
          ],
          [
           "JIMMY CARR: LAUGHING AND JOKING (2013) – Full Transcript"
          ],
          [
           "D.L. Hughley: Unapologetic (2007) – Transcript"
          ],
          [
           "BRIDGET EVERETT: GYNECOLOGICAL WONDER (2015) – Full Transcript"
          ],
          [
           "Chris Rock: Never Scared (2004) – Transcript"
          ],
          [
           "Chris Tucker: Live (2015) – Transcript"
          ],
          [
           "Kevin Hart: What Now (2016) – Transcript"
          ],
          [
           "Kevin Hart: Let Me Explain (2013) – Transcript"
          ],
          [
           "Tom Segura: Disgraceful (2018) – Transcript"
          ],
          [
           "Craig Ferguson: Does This Need To Be Said? (2011) – Transcript"
          ],
          [
           "Dave Chappelle: The Bird Revelation (2017) – Transcript"
          ],
          [
           "Dave Chappelle: Equanimity (2017) – Transcript"
          ],
          [
           "CRAIG FERGUSON: I’M HERE TO HELP (2013) – Full Transcript"
          ],
          [
           "WHITNEY CUMMINGS: I LOVE YOU (2014) – Full Transcript"
          ],
          [
           "WHITNEY CUMMINGS: I’M YOUR GIRLFRIEND (2016) – Full Transcript"
          ],
          [
           "Russell Howard Live: Dingledodies (2009) – Full Transcript"
          ],
          [
           "Paul Mooney: A Piece of My Mind – Godbless America (2014) – Transcript"
          ],
          [
           "Chris Rock: Kill The Messenger – London, New York, Johannesburg (2008) – Transcript"
          ],
          [
           "Chris Rock: Bigger & Blacker (1999) – Transcript"
          ],
          [
           "LISA LAMPANELLI: BACK TO THE DRAWING BOARD (2015) – Full Transcript"
          ],
          [
           "ERIK GRIFFIN: THE UGLY TRUTH (2017) – Full Transcript"
          ],
          [
           "Richard Pryor: Live And Smokin’ (1971) – Transcript"
          ],
          [
           "RICHARD PRYOR: …HERE AND NOW (1983) – Full Transcript"
          ],
          [
           "Jim Jefferies: Alcoholocaust (2010) – Transcript"
          ],
          [
           "Kevin Hart: Seriously Funny (2010) – Transcript"
          ],
          [
           "AZIZ ANSARI: INTIMATE MOMENTS FOR A SENSUAL EVENING (2010) – Full Transcript"
          ],
          [
           "BIG JAY OAKERSON: LIVE AT WEBSTER HALL (2016) – Full Transcript"
          ],
          [
           "George Carlin at USC (1977) – Full Transcript"
          ],
          [
           "Jim Norton: Mouthful Of Shame (2017) Transcript"
          ],
          [
           "Michael Che Matters (2016) – Transcript"
          ],
          [
           "Joe Rogan: Triggered (2016) – Transcript"
          ],
          [
           "Bo Burnham: Make Happy (2016) – Transcript"
          ],
          [
           "BILL HICKS: REVELATIONS (1993) – FULL TRANSCRIPT"
          ],
          [
           "DOUG STANHOPE: BEFORE TURNING THE GUN ON HIMSELF (2012) – Transcript"
          ],
          [
           "DOUG STANHOPE: DEADBEAT HERO (2004) – Transcript"
          ],
          [
           "JIM JEFFERIES: CONTRABAND (2008) – Full Transcript"
          ],
          [
           "GEORGE CARLIN: AGAIN!* (1978) – Full Transcript"
          ],
          [
           "Louis C.K.: Chewed Up (2008) – Transcript"
          ],
          [
           "Tom Segura: Completely Normal (2014) – Transcript"
          ],
          [
           "Louis C.K.: Live at the Beacon Theatre (2011) – Transcript"
          ],
          [
           "JIM JEFFERIES: I SWEAR TO GOD (2009) – FULL TRANSCRIPT"
          ],
          [
           "LOUIS C.K.: HILARIOUS (2010) – Full Transcript"
          ],
          [
           "LOUIS C.K.: SHAMELESS (2007) – Full Transcript"
          ],
          [
           "BILL BURR: I’M SORRY YOU FEEL THAT WAY (2014) – Full Transcript"
          ],
          [
           "BILL BURR: YOU PEOPLE ARE ALL THE SAME (2012) – Full Transcript"
          ],
          [
           "Dave Chappelle: For What It’s Worth (2004) – Transcript"
          ],
          [
           "Dave Chappelle: Killin’ Them Softly (2000) – Transcript"
          ],
          [
           "Eddie Griffin: You Can Tell ‘Em I Said It! (2011) – Transcript"
          ],
          [
           "BILL BURR: WALK YOUR WAY OUT (2017) – Full Transcript"
          ],
          [
           "Katt Williams: Live (2006) – Transcript"
          ],
          [
           "Richard Pryor: Live in Concert (1979) – Transcript"
          ],
          [
           "RICHARD PRYOR: LIVE ON THE SUNSET STRIP (1982) – Full Transcript"
          ],
          [
           "JIM JEFFERIES: BARE (2014) – Full Transcript"
          ],
          [
           "Dave Chappelle: Deep in the Heart of Texas (2017) – Transcript"
          ],
          [
           "Tom Segura: Mostly Stories (2016) – Transcript"
          ],
          [
           "JIM JEFFERIES: FREEDUMB (2016) – Full Transcript"
          ],
          [
           "Eddie Murphy: Delirious (1983) – Transcript"
          ],
          [
           "Dave Chappelle: The Age of Spin (2017) – Transcript"
          ],
          [
           "GEORGE CARLIN: BACK IN TOWN (1996) – Full transcript"
          ],
          [
           "LOUIS C.K.: 2017 – Full transcript"
          ],
          [
           "George Carlin: It’s Bad For Ya (2008) Full transcript"
          ],
          [
           "JIM JEFFERIES ON GUN CONTROL [FULL TRANSCRIPT]"
          ]
         ],
         "hovertemplate": "color=1<br>x=%{x}<br>y=%{y}<br>hover_data_0=%{customdata[0]}<extra></extra>",
         "legendgroup": "1",
         "marker": {
          "color": "#FF7F0E",
          "symbol": "circle"
         },
         "mode": "markers",
         "name": "1",
         "orientation": "v",
         "showlegend": true,
         "type": "scatter",
         "x": [
          -151.77327827510803,
          -55.706972311993376,
          -19.53655759936299,
          372.66698228354915,
          -101.75912422005577,
          -223.3972964575531,
          -154.2792490501103,
          -127.96322495938188,
          -120.22466811095273,
          252.44171484620222,
          289.923850938065,
          -325.76519621711543,
          73.52974792540628,
          73.13479138004932,
          277.8738558819774,
          -372.3067878894641,
          -153.30740250222416,
          -243.43267451202342,
          47.32673047905125,
          -155.0036016263102,
          -23.506876969994263,
          -165.44641243999013,
          -77.7584952895675,
          -15.401142919547317,
          49.51662288951691,
          -293.33127541253964,
          -55.631010713779425,
          -296.246726772475,
          -315.15976727307225,
          -131.03686862355983,
          -414.55641098537984,
          365.9994519857241,
          558.3878384964944,
          -322.8012639810522,
          40.144262568609605,
          -30.03085472378911,
          58.445945161774404,
          -78.13078208587346,
          150.27519029964793,
          -44.63682082707189,
          160.88099117532235,
          -196.90594654833018,
          -200.51477598906345,
          -81.15968800898415,
          -288.3032107217839,
          -220.71640161313852,
          14.352688955792704,
          -10.550701716238091,
          -247.48248407263137,
          -207.25957857447852,
          -127.40513230272138,
          -101.27666233088702,
          212.78029997856407,
          189.7988743414734,
          20.743169455459405,
          -253.0096547565598,
          -67.44706601209799,
          -526.1747247306795,
          -401.82513489986803,
          -474.13732549195925,
          -67.55236099639035,
          -143.83137461397627,
          37.812903916543085,
          23.035185406389186,
          -82.84206787254269,
          -139.82967229508637,
          -75.51389631034999,
          253.68523448455488,
          -92.09286652174997,
          -267.65229117923025,
          -153.52185902834705,
          185.20667148609593,
          -114.6836940497205,
          -135.4935871547823,
          -386.68647822218367,
          -27.444465149280823,
          -538.5083388949176,
          -41.26082139378849,
          -53.01292861302502,
          117.46410954102186,
          61.84113795825088,
          -180.85932551146823,
          -2.588063996512443,
          103.510433679694,
          359.5475916370457,
          255.86093789829403,
          302.60938703077744,
          -6.28794602352445,
          26.23189900559733,
          -133.99759049797353,
          -176.17099627253626,
          -130.84774232460038,
          -25.599847315383773,
          -180.5358248435636,
          -269.4980885615343,
          19.52916152507458,
          -37.94629200371472,
          -27.357110295377744,
          -152.01479214684574,
          -52.5954614990269,
          -46.07982524186913,
          -173.7942965598035,
          -357.0899515913276,
          -177.23204275245365,
          -203.94978272275438,
          -62.08134494031532,
          -80.07478735024809,
          -147.97664587988965,
          -182.2562044026823,
          72.98963951549665,
          438.6185168138036,
          -152.46590201856816,
          92.55249397837567,
          -270.6743290539314
         ],
         "xaxis": "x",
         "y": [
          -2.3717291094254227,
          9.933997247692504,
          -3.863718283083294,
          21.959369593536167,
          -36.832540661177696,
          11.18934209583915,
          19.067259225242047,
          6.831652831421751,
          -0.49347418311269003,
          13.10489290478345,
          20.09642326185897,
          12.178981328424404,
          19.953611670691412,
          7.305585655980541,
          11.241915713500441,
          11.06158439779682,
          3.780486958315395,
          37.49689355774866,
          9.514963431496863,
          8.781533919303737,
          5.591539901121199,
          19.41889949843873,
          15.74532871470114,
          -3.5150340089206322,
          -11.891043139532233,
          -4.225517753510338,
          12.964881152962725,
          -2.553180900509816,
          -3.390126457118837,
          5.031889014047899,
          -24.576292653459394,
          -4.279705711567725,
          -24.30142902994866,
          26.77318828503435,
          10.887500250902644,
          -7.201024892011103,
          1.8004894339080066,
          7.7378008196650185,
          8.623620852316185,
          11.770038779533387,
          22.179207131094746,
          25.554103365213546,
          2.0570754747900004,
          -6.923421434581404,
          43.95560375334688,
          11.601922331166659,
          -14.516611772646053,
          0.7310475962005129,
          7.33775030503144,
          63.251203484275365,
          -50.54149951107795,
          2.026407559378048,
          -25.860170437325863,
          -11.406030761026365,
          28.578179968449902,
          -11.571940356491206,
          -8.030079330327926,
          -33.374628635933995,
          -37.701942475252366,
          -3.463800736298022,
          -2.001453213298022,
          1.7216993405165626,
          19.42713670644022,
          9.703852006898085,
          -9.897427316412015,
          13.758733920519061,
          -7.498636079303,
          5.705136627194616,
          -22.239872932880534,
          -16.6102149508216,
          -7.731571872374217,
          13.18427293030663,
          -4.8653915234701515,
          5.301553090777901,
          -23.44116693421111,
          -60.740010774686006,
          4.6971125846212844,
          33.394345368419984,
          4.554458583596989,
          -17.318358631288273,
          21.369545903182946,
          -1.9964811243482243,
          16.45260325405296,
          0.7831737241606017,
          23.364600194721607,
          4.628786832812669,
          -26.53010962667987,
          2.626972653552243,
          -10.05475090071974,
          -0.5927025235985762,
          2.0639766498531342,
          1.844641670844102,
          5.335804322645535,
          -15.683692096641167,
          22.91558173223891,
          -3.5546066438075226,
          19.583395227361322,
          6.376991062949421,
          6.507862186715854,
          -31.786174605391796,
          3.3978613060530414,
          -19.62104034589617,
          -20.321953854840903,
          -24.524804708461996,
          -9.931792651846562,
          5.193600739609505,
          -7.640442822651603,
          -23.561738573071395,
          -13.632039645629524,
          3.267958143841348,
          18.459232293199204,
          -19.62102879466807,
          4.914390289290778,
          -53.31495636442482
         ],
         "yaxis": "y"
        },
        {
         "customdata": [
          [
           "Drew Michael: Drew Michael (2018) | Transcript"
          ],
          [
           "Drew Michael: Red Blue Green (2021) | Transcript"
          ],
          [
           "Kathleen Madigan: Madigan Again (2013) – Transcript"
          ],
          [
           "Tom Papa: You’re Doing Great! (2020) – Transcript"
          ],
          [
           "Tom Papa: Human Mule (2016) – Transcript"
          ],
          [
           "Tig Notaro: Boyish Girl Interrupted (2015) – Transcript"
          ],
          [
           "Joe List: I Hate Myself (2020) – Transcript"
          ],
          [
           "Nate Bargatze: The Greatest Average American (2021) – Transcript"
          ],
          [
           "Vir Das: Outside in – The Lockdown Special (2020) – Transcript"
          ],
          [
           "Larry the Cable Guy – Remain Seated (2020) – Transcript"
          ],
          [
           "Craig Ferguson: Just Being Honest (2015) – Transcript"
          ],
          [
           "Sam Morril: I Got This (2020) – Transcript"
          ],
          [
           "MICHAEL MCINTYRE: SHOWMAN (2020) – TRANSCRIPT"
          ],
          [
           "ROB SCHNEIDER: ASIAN MOMMA, MEXICAN KIDS (2020) – TRANSCRIPT"
          ],
          [
           "URZILA CARLSON: OVERQUALIFIED LOSER (2020) – FULL TRANSCRIPT"
          ],
          [
           "Mark Normand: Don’t Be Yourself (2017) – Transcript"
          ],
          [
           "Chris Gethard: Career Suicide (2017) – Transcript"
          ],
          [
           "RAMY YOUSSEF: FEELINGS (2019) – FULL TRANSCRIPT"
          ],
          [
           "KENNY SEBASTIAN DON’T BE THAT GUY (2017) – FULL TRANSCRIPT"
          ],
          [
           "Hasan Minhaj: Homecoming King (2017) – Transcript"
          ],
          [
           "JIMMY O. YANG: GOOD DEAL (2020) – FULL TRANSCRIPT"
          ],
          [
           "JO KOY: LIGHTS OUT (2012) – FULL TRANSCRIPT"
          ],
          [
           "T.J. MILLER: NO REAL REASON (2011) – FULL TRANSCRIPT"
          ],
          [
           "CHRIS D’ELIA: WHITE MALE. BLACK COMIC. (2013) – FULL TRANSCRIPT"
          ],
          [
           "Tom Segura: Ball Hog (2020) – Transcript"
          ],
          [
           "Bert Kreischer: Hey Big Boy (2020) – Transcript"
          ],
          [
           "PETE DAVIDSON: SMD (2016) – FULL TRANSCRIPT"
          ],
          [
           "Sara Pascoe: LadsLadsLads (2019) – Full Transcript"
          ],
          [
           "Michelle Wolf: Joke Show (2019) – Full Transcript"
          ],
          [
           "Seth Meyers: Lobby Baby (2019) – Full Transcript"
          ],
          [
           "Emily Heller: Ice Thickeners (2019) – Full Transcript"
          ],
          [
           "Whitney Cummings: Can I Touch It? (2019) – Full Transcript"
          ],
          [
           "Aziz Ansari: Right Now (2019) – Transcript"
          ],
          [
           "Wanda Sykes: Not Normal (2019) – Full Transcript"
          ],
          [
           "Demetri Martin: Live (At The Time) (2015) | Transcript"
          ],
          [
           "Chelsea Peretti: One of the Greats (2014) – Full Transcript"
          ],
          [
           "Anthony Jeselnik: Fire in the Maternity Ward (2019) – Transcript"
          ],
          [
           "Nate Bargatze: The Tennessee Kid (2019) – Full Transcript"
          ],
          [
           "Nate Bargatze: Full Time Magic (2015) – Full Transcript"
          ],
          [
           "Amy Schumer: Growing (2019) – Full Transcript"
          ],
          [
           "Enissa Amani: Ehrenwort (2018) Full Transcript"
          ],
          [
           "Ray Romano: Right Here, Around the Corner (2019) – Full Transcript"
          ],
          [
           "Gabriel “Fluffy” Iglesias: One Show Fits All (2019) – Full Transcript"
          ],
          [
           "Sebastian Maniscalco: Stay Hungry (2019) – Full Transcript"
          ],
          [
           "Ellen Degeneres: Relatable (2018) – Transcript"
          ],
          [
           "Pete Holmes: Dirty Clean (2018) – Full Transcript"
          ],
          [
           "Trevor Noah: Son of Patricia (2018) – Transcript"
          ],
          [
           "Mo Amer: The Vagabond (2018) – Full Transcript"
          ],
          [
           "Joe Mande’s Award-Winning Comedy Special (2017) – Full Transcript"
          ],
          [
           "Henry Rollins: Keep Talking, Pal (2018) – Full Transcript"
          ],
          [
           "Iliza Shlesinger: Freezing Hot (2015) – Full Transcript"
          ],
          [
           "Iliza Shlesinger: War Paint (2013) – Transcript"
          ],
          [
           "Demetri Martin: The Overthinker (2018) | Transcript"
          ],
          [
           "Iliza Shlesinger: Elder Millennial (2018) – Full Transcript"
          ],
          [
           "RUSSELL PETERS: OUTSOURCED (2006) – Full Transcript"
          ],
          [
           "RUSSELL PETERS: ALMOST FAMOUS (2016) – Full Transcript"
          ],
          [
           "MICHAEL MCINTYRE: HELLO WEMBLEY! (2009) – Full Transcript"
          ],
          [
           "KEVIN JAMES: NEVER DON’T GIVE UP (2018) – Full Transcript"
          ],
          [
           "NIKKI GLASER: PERFECT (2016) – Full Transcript"
          ],
          [
           "KAVIN JAY: EVERYBODY CALM DOWN! (2018) – Full Transcript"
          ],
          [
           "GREG DAVIES: YOU MAGNIFICENT BEAST (2018) – Full Transcript"
          ],
          [
           "Mike Birbiglia: My Girlfriend’s Boyfriend (2013) – Transcript"
          ],
          [
           "TODD GLASS: ACT HAPPY (2018) – Full Transcript"
          ],
          [
           "MICHELLE WOLF: NICE LADY (2017) – Full Transcript"
          ],
          [
           "ELLEN DEGENERES: THE BEGINNING (2000) – Full Transcript"
          ],
          [
           "RUSSELL HOWARD: RECALIBRATE (2017) – Full Transcript"
          ],
          [
           "SARAH MILLICAN: CHATTERBOX LIVE (2011) – Full Transcript"
          ],
          [
           "Anjelah Johnson: Not Fancy (2015) – Transcript"
          ],
          [
           "CRISTELA ALONZO: LOWER CLASSY (2017) – Full Transcript"
          ],
          [
           "AZIZ ANSARI: LIVE IN MADISON SQUARE GARDEN (2015) – Full Transcript"
          ],
          [
           "AZIZ ANSARI: BURIED ALIVE (2013) – Full Transcript"
          ],
          [
           "Sarah Silverman: Jesus Is Magic (2005) – Transcript"
          ],
          [
           "SARAH SILVERMAN: WE ARE MIRACLES (2013) – Full Transcript"
          ],
          [
           "Gabriel Iglesias: Hot And Fluffy (2007) – Transcript"
          ],
          [
           "GABRIEL IGLESIAS: I’M NOT FAT … I’M FLUFFY (2009) – Full Transcript"
          ],
          [
           "GABRIEL IGLESIAS: I’M SORRY FOR WHAT I SAID WHEN I WAS HUNGRY (2016) – Full Transcript"
          ],
          [
           "RORY SCOVEL TRIES STAND-UP FOR THE FIRST TIME (2017) – Full Transcript"
          ],
          [
           "JEN KIRKMAN: JUST KEEP LIVIN’? (2017) – Full Transcript"
          ],
          [
           "DANIEL TOSH: COMPLETELY SERIOUS (2007) – Full Transcript"
          ],
          [
           "Donald Glover: Weirdo (2012) – Transcript"
          ],
          [
           "Norm Macdonald: Hitler’s Dog, Gossip & Trickery (2017) – Transcript"
          ],
          [
           "DANIEL TOSH: PEOPLE PLEASER (2016) – FULL TRANSCRIPT"
          ],
          [
           "Marc Maron: More Later (2015) – Full Transcript"
          ],
          [
           "AMY SCHUMER: MOSTLY SEX STUFF (2012) – Full Transcript"
          ],
          [
           "AMY SCHUMER: LIVE AT THE APOLLO (2015) – Full Transcript"
          ],
          [
           "Trevor Noah: Lost In Translation (2015) – Transcript"
          ],
          [
           "MARIA BAMFORD: OLD BABY (2017) – FULL TRANSCRIPT"
          ],
          [
           "ANTHONY JESELNIK: CALIGULA (2013) – Full Transcript"
          ],
          [
           "Anthony Jeselnik: Thoughts And Prayers (2015) – Full Transcript"
          ],
          [
           "SARAH SILVERMAN: A SPECK OF DUST (2017) – Full Transcript"
          ],
          [
           "AMY SCHUMER: THE LEATHER SPECIAL (2017) – Full Transcript"
          ],
          [
           "LOUIS C.K.: OH MY GOD (2013) – Full Transcript"
          ],
          [
           "LOUIS C.K.: LIVE AT  THE COMEDY STORE (2015) – Transcript"
          ],
          [
           "Patrice O’Neal: Elephant in the Room (2011) – Transcript"
          ],
          [
           "Trevor Noah: Afraid Of The Dark (2017) – Transcript"
          ],
          [
           "BILL BURR: LET IT GO (2010) – TRANSCRIPT"
          ],
          [
           "Reggie Watts: Spatial (2016) – Full Transcript"
          ]
         ],
         "hovertemplate": "color=0<br>x=%{x}<br>y=%{y}<br>hover_data_0=%{customdata[0]}<extra></extra>",
         "legendgroup": "0",
         "marker": {
          "color": "#2CA02C",
          "symbol": "circle"
         },
         "mode": "markers",
         "name": "0",
         "orientation": "v",
         "showlegend": true,
         "type": "scatter",
         "x": [
          -194.3949721677279,
          110.70270924889665,
          19.67914858561949,
          64.01399707836028,
          19.871825801678288,
          -146.0024415810357,
          -101.46486717659809,
          -361.11951341773005,
          44.8669137361677,
          129.88712829187497,
          -191.82353656987263,
          41.53252401503017,
          40.952449243039055,
          -226.36936423640734,
          -57.79995469771628,
          -72.61238085120442,
          -36.968690134843975,
          -216.76800634880843,
          -87.1122693694361,
          108.32605382956504,
          -63.79173957902457,
          -293.89731947154485,
          19.585976279126275,
          -375.6696828266524,
          -57.11040899185345,
          -58.28742455410596,
          -275.932859851653,
          -70.57632592775846,
          -140.67908775677304,
          -112.9359483220109,
          -38.714137045794175,
          -2.8599608400897893,
          -78.2244313358712,
          -49.97756866648896,
          34.33383752003965,
          91.28655092829501,
          -81.626539547332,
          -366.06656930614673,
          -340.6375602768257,
          -51.62243042554529,
          -116.30849682312866,
          -251.28266736992438,
          -157.31923884189655,
          -85.00374818664015,
          -85.85835913072894,
          -65.23045971330117,
          -218.02310504887936,
          8.984139325435775,
          98.1838834849036,
          92.99968177131555,
          131.93337247466215,
          101.88116725954637,
          36.15393094907438,
          139.20927331412835,
          -273.7982763238498,
          -172.6343212872302,
          -64.01609751657715,
          -44.678062652916026,
          -346.18265645543545,
          -217.82915429309082,
          62.17666875002609,
          -60.4451671809676,
          -167.63768857645096,
          -50.45731079817181,
          -58.036269530987134,
          12.603533752725138,
          -262.8994551887044,
          -2.0186226949155617,
          -141.57207834941158,
          -177.30433276472607,
          -133.15558977721824,
          6.926458200411565,
          28.150550230190273,
          -67.41716351514343,
          -159.463758089879,
          -45.52786427361279,
          -53.895742974507385,
          -268.97356386042446,
          340.0999750957442,
          -322.4159004029148,
          -152.76064186731625,
          191.5444097549822,
          -284.3760374536554,
          -44.79234771914575,
          -74.13138768888004,
          -198.13216954627273,
          352.188625092313,
          -130.17547115366938,
          -108.46283619250451,
          43.68108940803711,
          -56.97294913848773,
          -108.7148571449663,
          -285.4117210867304,
          -178.77260523114,
          -173.3199161834703,
          -88.18369614686613,
          -30.873110872449708
         ],
         "xaxis": "x",
         "y": [
          -1.4662864789582133,
          19.354725456622308,
          9.604895616163006,
          15.125284514355377,
          21.37998181419278,
          -20.466059434562812,
          40.329646995127256,
          28.489623695660676,
          27.89834184799756,
          11.926365062882354,
          -3.212415306571409,
          50.14655365753821,
          18.51948921833031,
          16.287223432097424,
          9.767523975361957,
          21.496329096652282,
          -12.441604195345164,
          -3.031654697333952,
          -3.9845253735626334,
          0.6847471294471006,
          18.13471550375645,
          -16.969174204269326,
          1.4237240555075306,
          8.119303802199807,
          -3.4674441472037243,
          8.898518180658428,
          1.6946203040818681,
          -41.94283856741744,
          4.606600609484662,
          13.48611130697224,
          -11.389784283654894,
          21.382273951772184,
          6.646263587649693,
          -7.311905918397018,
          7.229462111856095,
          -2.6211788171092625,
          -25.05019477518909,
          18.943458688797456,
          -15.78490816714319,
          -8.971785904362132,
          27.138959811325417,
          4.455872041760494,
          -27.58503674338532,
          -12.26878288624426,
          -5.338137709348226,
          1.7610793058924383,
          18.424163851072116,
          25.72792647357705,
          16.310174427258342,
          26.18078728976116,
          10.702472561673183,
          7.579949552579552,
          18.183687882896738,
          -0.2674134540650767,
          -6.704095231664221,
          -11.425843974370839,
          -1.6708880380957614,
          11.565418765741509,
          24.171882346501228,
          9.958657705873918,
          2.4378616220020515,
          -1.2795229975629092,
          10.276523287585126,
          7.725486251713796,
          -8.91126577205175,
          1.3200389502047605,
          -27.381222385487508,
          -41.60790531686018,
          -16.357181312365007,
          29.61786062867045,
          -4.627863606720324,
          -22.38170913802984,
          -2.2671201377115824,
          41.8756461178971,
          23.577739900108128,
          -14.015575069885356,
          -3.6944460032974504,
          17.18819124239021,
          21.63457086770347,
          8.809658536562141,
          -1.1481037975437787,
          21.515940362580377,
          -6.516524808574863,
          5.5018448336584065,
          1.5792785266271419,
          12.891403982377291,
          6.955357918114388,
          -16.625201424294957,
          -5.434092589563311,
          -5.488192064646301,
          -4.897992110595518,
          3.473195787149434,
          -7.132812850567542,
          -17.798304531042415,
          4.371175355986347,
          -6.7372467243826,
          -33.243206161833214
         ],
         "yaxis": "y"
        }
       ],
       "layout": {
        "legend": {
         "title": {
          "text": "color"
         },
         "tracegroupgap": 0
        },
        "margin": {
         "t": 60
        },
        "template": {
         "data": {
          "bar": [
           {
            "error_x": {
             "color": "rgb(36,36,36)"
            },
            "error_y": {
             "color": "rgb(36,36,36)"
            },
            "marker": {
             "line": {
              "color": "white",
              "width": 0.5
             },
             "pattern": {
              "fillmode": "overlay",
              "size": 10,
              "solidity": 0.2
             }
            },
            "type": "bar"
           }
          ],
          "barpolar": [
           {
            "marker": {
             "line": {
              "color": "white",
              "width": 0.5
             },
             "pattern": {
              "fillmode": "overlay",
              "size": 10,
              "solidity": 0.2
             }
            },
            "type": "barpolar"
           }
          ],
          "carpet": [
           {
            "aaxis": {
             "endlinecolor": "rgb(36,36,36)",
             "gridcolor": "white",
             "linecolor": "white",
             "minorgridcolor": "white",
             "startlinecolor": "rgb(36,36,36)"
            },
            "baxis": {
             "endlinecolor": "rgb(36,36,36)",
             "gridcolor": "white",
             "linecolor": "white",
             "minorgridcolor": "white",
             "startlinecolor": "rgb(36,36,36)"
            },
            "type": "carpet"
           }
          ],
          "choropleth": [
           {
            "colorbar": {
             "outlinewidth": 1,
             "tickcolor": "rgb(36,36,36)",
             "ticks": "outside"
            },
            "type": "choropleth"
           }
          ],
          "contour": [
           {
            "colorbar": {
             "outlinewidth": 1,
             "tickcolor": "rgb(36,36,36)",
             "ticks": "outside"
            },
            "colorscale": [
             [
              0,
              "#440154"
             ],
             [
              0.1111111111111111,
              "#482878"
             ],
             [
              0.2222222222222222,
              "#3e4989"
             ],
             [
              0.3333333333333333,
              "#31688e"
             ],
             [
              0.4444444444444444,
              "#26828e"
             ],
             [
              0.5555555555555556,
              "#1f9e89"
             ],
             [
              0.6666666666666666,
              "#35b779"
             ],
             [
              0.7777777777777778,
              "#6ece58"
             ],
             [
              0.8888888888888888,
              "#b5de2b"
             ],
             [
              1,
              "#fde725"
             ]
            ],
            "type": "contour"
           }
          ],
          "contourcarpet": [
           {
            "colorbar": {
             "outlinewidth": 1,
             "tickcolor": "rgb(36,36,36)",
             "ticks": "outside"
            },
            "type": "contourcarpet"
           }
          ],
          "heatmap": [
           {
            "colorbar": {
             "outlinewidth": 1,
             "tickcolor": "rgb(36,36,36)",
             "ticks": "outside"
            },
            "colorscale": [
             [
              0,
              "#440154"
             ],
             [
              0.1111111111111111,
              "#482878"
             ],
             [
              0.2222222222222222,
              "#3e4989"
             ],
             [
              0.3333333333333333,
              "#31688e"
             ],
             [
              0.4444444444444444,
              "#26828e"
             ],
             [
              0.5555555555555556,
              "#1f9e89"
             ],
             [
              0.6666666666666666,
              "#35b779"
             ],
             [
              0.7777777777777778,
              "#6ece58"
             ],
             [
              0.8888888888888888,
              "#b5de2b"
             ],
             [
              1,
              "#fde725"
             ]
            ],
            "type": "heatmap"
           }
          ],
          "heatmapgl": [
           {
            "colorbar": {
             "outlinewidth": 1,
             "tickcolor": "rgb(36,36,36)",
             "ticks": "outside"
            },
            "colorscale": [
             [
              0,
              "#440154"
             ],
             [
              0.1111111111111111,
              "#482878"
             ],
             [
              0.2222222222222222,
              "#3e4989"
             ],
             [
              0.3333333333333333,
              "#31688e"
             ],
             [
              0.4444444444444444,
              "#26828e"
             ],
             [
              0.5555555555555556,
              "#1f9e89"
             ],
             [
              0.6666666666666666,
              "#35b779"
             ],
             [
              0.7777777777777778,
              "#6ece58"
             ],
             [
              0.8888888888888888,
              "#b5de2b"
             ],
             [
              1,
              "#fde725"
             ]
            ],
            "type": "heatmapgl"
           }
          ],
          "histogram": [
           {
            "marker": {
             "line": {
              "color": "white",
              "width": 0.6
             }
            },
            "type": "histogram"
           }
          ],
          "histogram2d": [
           {
            "colorbar": {
             "outlinewidth": 1,
             "tickcolor": "rgb(36,36,36)",
             "ticks": "outside"
            },
            "colorscale": [
             [
              0,
              "#440154"
             ],
             [
              0.1111111111111111,
              "#482878"
             ],
             [
              0.2222222222222222,
              "#3e4989"
             ],
             [
              0.3333333333333333,
              "#31688e"
             ],
             [
              0.4444444444444444,
              "#26828e"
             ],
             [
              0.5555555555555556,
              "#1f9e89"
             ],
             [
              0.6666666666666666,
              "#35b779"
             ],
             [
              0.7777777777777778,
              "#6ece58"
             ],
             [
              0.8888888888888888,
              "#b5de2b"
             ],
             [
              1,
              "#fde725"
             ]
            ],
            "type": "histogram2d"
           }
          ],
          "histogram2dcontour": [
           {
            "colorbar": {
             "outlinewidth": 1,
             "tickcolor": "rgb(36,36,36)",
             "ticks": "outside"
            },
            "colorscale": [
             [
              0,
              "#440154"
             ],
             [
              0.1111111111111111,
              "#482878"
             ],
             [
              0.2222222222222222,
              "#3e4989"
             ],
             [
              0.3333333333333333,
              "#31688e"
             ],
             [
              0.4444444444444444,
              "#26828e"
             ],
             [
              0.5555555555555556,
              "#1f9e89"
             ],
             [
              0.6666666666666666,
              "#35b779"
             ],
             [
              0.7777777777777778,
              "#6ece58"
             ],
             [
              0.8888888888888888,
              "#b5de2b"
             ],
             [
              1,
              "#fde725"
             ]
            ],
            "type": "histogram2dcontour"
           }
          ],
          "mesh3d": [
           {
            "colorbar": {
             "outlinewidth": 1,
             "tickcolor": "rgb(36,36,36)",
             "ticks": "outside"
            },
            "type": "mesh3d"
           }
          ],
          "parcoords": [
           {
            "line": {
             "colorbar": {
              "outlinewidth": 1,
              "tickcolor": "rgb(36,36,36)",
              "ticks": "outside"
             }
            },
            "type": "parcoords"
           }
          ],
          "pie": [
           {
            "automargin": true,
            "type": "pie"
           }
          ],
          "scatter": [
           {
            "marker": {
             "colorbar": {
              "outlinewidth": 1,
              "tickcolor": "rgb(36,36,36)",
              "ticks": "outside"
             }
            },
            "type": "scatter"
           }
          ],
          "scatter3d": [
           {
            "line": {
             "colorbar": {
              "outlinewidth": 1,
              "tickcolor": "rgb(36,36,36)",
              "ticks": "outside"
             }
            },
            "marker": {
             "colorbar": {
              "outlinewidth": 1,
              "tickcolor": "rgb(36,36,36)",
              "ticks": "outside"
             }
            },
            "type": "scatter3d"
           }
          ],
          "scattercarpet": [
           {
            "marker": {
             "colorbar": {
              "outlinewidth": 1,
              "tickcolor": "rgb(36,36,36)",
              "ticks": "outside"
             }
            },
            "type": "scattercarpet"
           }
          ],
          "scattergeo": [
           {
            "marker": {
             "colorbar": {
              "outlinewidth": 1,
              "tickcolor": "rgb(36,36,36)",
              "ticks": "outside"
             }
            },
            "type": "scattergeo"
           }
          ],
          "scattergl": [
           {
            "marker": {
             "colorbar": {
              "outlinewidth": 1,
              "tickcolor": "rgb(36,36,36)",
              "ticks": "outside"
             }
            },
            "type": "scattergl"
           }
          ],
          "scattermapbox": [
           {
            "marker": {
             "colorbar": {
              "outlinewidth": 1,
              "tickcolor": "rgb(36,36,36)",
              "ticks": "outside"
             }
            },
            "type": "scattermapbox"
           }
          ],
          "scatterpolar": [
           {
            "marker": {
             "colorbar": {
              "outlinewidth": 1,
              "tickcolor": "rgb(36,36,36)",
              "ticks": "outside"
             }
            },
            "type": "scatterpolar"
           }
          ],
          "scatterpolargl": [
           {
            "marker": {
             "colorbar": {
              "outlinewidth": 1,
              "tickcolor": "rgb(36,36,36)",
              "ticks": "outside"
             }
            },
            "type": "scatterpolargl"
           }
          ],
          "scatterternary": [
           {
            "marker": {
             "colorbar": {
              "outlinewidth": 1,
              "tickcolor": "rgb(36,36,36)",
              "ticks": "outside"
             }
            },
            "type": "scatterternary"
           }
          ],
          "surface": [
           {
            "colorbar": {
             "outlinewidth": 1,
             "tickcolor": "rgb(36,36,36)",
             "ticks": "outside"
            },
            "colorscale": [
             [
              0,
              "#440154"
             ],
             [
              0.1111111111111111,
              "#482878"
             ],
             [
              0.2222222222222222,
              "#3e4989"
             ],
             [
              0.3333333333333333,
              "#31688e"
             ],
             [
              0.4444444444444444,
              "#26828e"
             ],
             [
              0.5555555555555556,
              "#1f9e89"
             ],
             [
              0.6666666666666666,
              "#35b779"
             ],
             [
              0.7777777777777778,
              "#6ece58"
             ],
             [
              0.8888888888888888,
              "#b5de2b"
             ],
             [
              1,
              "#fde725"
             ]
            ],
            "type": "surface"
           }
          ],
          "table": [
           {
            "cells": {
             "fill": {
              "color": "rgb(237,237,237)"
             },
             "line": {
              "color": "white"
             }
            },
            "header": {
             "fill": {
              "color": "rgb(217,217,217)"
             },
             "line": {
              "color": "white"
             }
            },
            "type": "table"
           }
          ]
         },
         "layout": {
          "annotationdefaults": {
           "arrowhead": 0,
           "arrowwidth": 1
          },
          "autotypenumbers": "strict",
          "coloraxis": {
           "colorbar": {
            "outlinewidth": 1,
            "tickcolor": "rgb(36,36,36)",
            "ticks": "outside"
           }
          },
          "colorscale": {
           "diverging": [
            [
             0,
             "rgb(103,0,31)"
            ],
            [
             0.1,
             "rgb(178,24,43)"
            ],
            [
             0.2,
             "rgb(214,96,77)"
            ],
            [
             0.3,
             "rgb(244,165,130)"
            ],
            [
             0.4,
             "rgb(253,219,199)"
            ],
            [
             0.5,
             "rgb(247,247,247)"
            ],
            [
             0.6,
             "rgb(209,229,240)"
            ],
            [
             0.7,
             "rgb(146,197,222)"
            ],
            [
             0.8,
             "rgb(67,147,195)"
            ],
            [
             0.9,
             "rgb(33,102,172)"
            ],
            [
             1,
             "rgb(5,48,97)"
            ]
           ],
           "sequential": [
            [
             0,
             "#440154"
            ],
            [
             0.1111111111111111,
             "#482878"
            ],
            [
             0.2222222222222222,
             "#3e4989"
            ],
            [
             0.3333333333333333,
             "#31688e"
            ],
            [
             0.4444444444444444,
             "#26828e"
            ],
            [
             0.5555555555555556,
             "#1f9e89"
            ],
            [
             0.6666666666666666,
             "#35b779"
            ],
            [
             0.7777777777777778,
             "#6ece58"
            ],
            [
             0.8888888888888888,
             "#b5de2b"
            ],
            [
             1,
             "#fde725"
            ]
           ],
           "sequentialminus": [
            [
             0,
             "#440154"
            ],
            [
             0.1111111111111111,
             "#482878"
            ],
            [
             0.2222222222222222,
             "#3e4989"
            ],
            [
             0.3333333333333333,
             "#31688e"
            ],
            [
             0.4444444444444444,
             "#26828e"
            ],
            [
             0.5555555555555556,
             "#1f9e89"
            ],
            [
             0.6666666666666666,
             "#35b779"
            ],
            [
             0.7777777777777778,
             "#6ece58"
            ],
            [
             0.8888888888888888,
             "#b5de2b"
            ],
            [
             1,
             "#fde725"
            ]
           ]
          },
          "colorway": [
           "#1F77B4",
           "#FF7F0E",
           "#2CA02C",
           "#D62728",
           "#9467BD",
           "#8C564B",
           "#E377C2",
           "#7F7F7F",
           "#BCBD22",
           "#17BECF"
          ],
          "font": {
           "color": "rgb(36,36,36)"
          },
          "geo": {
           "bgcolor": "white",
           "lakecolor": "white",
           "landcolor": "white",
           "showlakes": true,
           "showland": true,
           "subunitcolor": "white"
          },
          "hoverlabel": {
           "align": "left"
          },
          "hovermode": "closest",
          "mapbox": {
           "style": "light"
          },
          "paper_bgcolor": "white",
          "plot_bgcolor": "white",
          "polar": {
           "angularaxis": {
            "gridcolor": "rgb(232,232,232)",
            "linecolor": "rgb(36,36,36)",
            "showgrid": false,
            "showline": true,
            "ticks": "outside"
           },
           "bgcolor": "white",
           "radialaxis": {
            "gridcolor": "rgb(232,232,232)",
            "linecolor": "rgb(36,36,36)",
            "showgrid": false,
            "showline": true,
            "ticks": "outside"
           }
          },
          "scene": {
           "xaxis": {
            "backgroundcolor": "white",
            "gridcolor": "rgb(232,232,232)",
            "gridwidth": 2,
            "linecolor": "rgb(36,36,36)",
            "showbackground": true,
            "showgrid": false,
            "showline": true,
            "ticks": "outside",
            "zeroline": false,
            "zerolinecolor": "rgb(36,36,36)"
           },
           "yaxis": {
            "backgroundcolor": "white",
            "gridcolor": "rgb(232,232,232)",
            "gridwidth": 2,
            "linecolor": "rgb(36,36,36)",
            "showbackground": true,
            "showgrid": false,
            "showline": true,
            "ticks": "outside",
            "zeroline": false,
            "zerolinecolor": "rgb(36,36,36)"
           },
           "zaxis": {
            "backgroundcolor": "white",
            "gridcolor": "rgb(232,232,232)",
            "gridwidth": 2,
            "linecolor": "rgb(36,36,36)",
            "showbackground": true,
            "showgrid": false,
            "showline": true,
            "ticks": "outside",
            "zeroline": false,
            "zerolinecolor": "rgb(36,36,36)"
           }
          },
          "shapedefaults": {
           "fillcolor": "black",
           "line": {
            "width": 0
           },
           "opacity": 0.3
          },
          "ternary": {
           "aaxis": {
            "gridcolor": "rgb(232,232,232)",
            "linecolor": "rgb(36,36,36)",
            "showgrid": false,
            "showline": true,
            "ticks": "outside"
           },
           "baxis": {
            "gridcolor": "rgb(232,232,232)",
            "linecolor": "rgb(36,36,36)",
            "showgrid": false,
            "showline": true,
            "ticks": "outside"
           },
           "bgcolor": "white",
           "caxis": {
            "gridcolor": "rgb(232,232,232)",
            "linecolor": "rgb(36,36,36)",
            "showgrid": false,
            "showline": true,
            "ticks": "outside"
           }
          },
          "title": {
           "x": 0.05
          },
          "xaxis": {
           "automargin": true,
           "gridcolor": "rgb(232,232,232)",
           "linecolor": "rgb(36,36,36)",
           "showgrid": false,
           "showline": true,
           "ticks": "outside",
           "title": {
            "standoff": 15
           },
           "zeroline": false,
           "zerolinecolor": "rgb(36,36,36)"
          },
          "yaxis": {
           "automargin": true,
           "gridcolor": "rgb(232,232,232)",
           "linecolor": "rgb(36,36,36)",
           "showgrid": false,
           "showline": true,
           "ticks": "outside",
           "title": {
            "standoff": 15
           },
           "zeroline": false,
           "zerolinecolor": "rgb(36,36,36)"
          }
         }
        },
        "xaxis": {
         "anchor": "y",
         "domain": [
          0,
          1
         ],
         "title": {
          "text": "x"
         }
        },
        "yaxis": {
         "anchor": "x",
         "domain": [
          0,
          1
         ],
         "title": {
          "text": "y"
         }
        }
       }
      },
      "text/html": [
       "<div>                            <div id=\"34b1cba2-e6c4-412e-8c6c-97d60fefec65\" class=\"plotly-graph-div\" style=\"height:525px; width:100%;\"></div>            <script type=\"text/javascript\">                require([\"plotly\"], function(Plotly) {                    window.PLOTLYENV=window.PLOTLYENV || {};                                    if (document.getElementById(\"34b1cba2-e6c4-412e-8c6c-97d60fefec65\")) {                    Plotly.newPlot(                        \"34b1cba2-e6c4-412e-8c6c-97d60fefec65\",                        [{\"customdata\":[[\"Jim Gaffigan: Comedy Monster (2021) | Transcript\"],[\"Kathleen Madigan: Bothering Jesus (2016) \\u2013 Transcript\"],[\"Phil Wang: Philly Philly Wang Wang (2021) \\u2013 Transcript\"],[\"Tom Papa: Freaked Out (2013) \\u2013 Transcript\"],[\"Bo Burnham: Inside (2021) \\u2013 Transcript\"],[\"Brian Regan: On The Rocks (2021) \\u2013 Transcript\"],[\"Sarah Cooper: Everything\\u2019s Fine (2020) \\u2013 Transcript\"],[\"Bo Burnham: Words, Words, Words (2010) \\u2013 Transcript\"],[\"RONNY CHIENG: ASIAN COMEDIAN DESTROYS AMERICA (2019) \\u2013 TRANSCRIPT\"],[\"Craig Ferguson: A Wee Bit o\\u2019 Revolution (2009) \\u2013 Transcript\"],[\"Jack Whitehall: I\\u2019m Only Joking (2020) | Transcript\"],[\"ROY WOOD JR.: FATHER FIGURE (2017) \\u2013 FULL TRANSCRIPT\"],[\"BILLY CONNOLLY: HIGH HORSE TOUR LIVE (2016) \\u2013 FULL TRANSCRIPT\"],[\"Hannah Gadsby: Douglas (2020) \\u2013 Transcript\"],[\"PATTON OSWALT: I LOVE EVERYTHING (2020) \\u2013 FULL TRANSCRIPT\"],[\"LEE MACK: GOING OUT LIVE (2010) \\u2013 FULL TRANSCRIPT\"],[\"Jerry Seinfeld: 23 Hours To Kill (2020) \\u2013 Transcript\"],[\"MARIA BAMFORD: WEAKNESS IS THE BRAND (2020) \\u2013 FULL TRANSCRIPT\"],[\"Amanda Seales: I Be Knowin\\u2019 (2019) \\u2013 Transcript\"],[\"Stewart Lee: Carpet Remnant World (2012) \\u2013 Full Transcript\"],[\"Stewart Lee: Content Provider (2018) \\u2013 Transcript\"],[\"Jim Gaffigan: Quality Time (2019) \\u2013 Full Transcript\"],[\"Kevin Bridges: A Whole Different Story (2015) \\u2013 Full Transcript\"],[\"Kevin Bridges: The Story So Far\\u2026 Live in Glasgow (2010) \\u2013 Full Transcript\"],[\"Kevin Bridges: The Story Continues (2012) \\u2013 Full Transcript\"],[\"Mike Birbiglia: The New One (2019) \\u2013 Full Transcript\"],[\"Iliza Shlesinger: Unveiled (2019) \\u2013 Full Transcript\"],[\"David Cross: Oh Come On (2019) \\u2013 Full Transcript\"],[\"Colin Quinn: The New York Story (2016) \\u2013 Full Transcript\"],[\"George Carlin: What Am I Doing in New Jersey? (1988) \\u2013 Full Transcript\"],[\"Roy Wood Jr.: No One Loves You (2019) \\u2013 Transcript\"],[\"Jimmy Carr: The Best of Ultimate Gold Greatest Hits (2019) \\u2013 Full Transcript\"],[\"W. Kamau Bell: Private School Negro (2018) \\u2013 Transcript\"],[\"Sebastian Maniscalco: Aren\\u2019t You Embarrassed? (2014) \\u2013 Full Transcript\"],[\"Sebastian Maniscalco: What\\u2019s Wrong with People? (2012) \\u2013 Full Transcript\"],[\"Oh, Hello On Broadway (2017) \\u2013 Transcript\"],[\"Vir Das: Losing It (2018) \\u2013 Full Transcript\"],[\"Jeff Foxworthy & Larry the Cable Guy: We\\u2019ve Been Thinking (2016) \\u2013 Full Transcript\"],[\"Jeff Foxworthy: Totally Committed (1998) \\u2013 Full Transcript\"],[\"BILL MAHER: LIVE FROM OKLAHOMA (2018) \\u2013 Full Transcript\"],[\"Rowan Atkinson Live (1992) \\u2013 Transcript\"],[\"Iliza Shlesinger: Confirmed Kills (2016) \\u2013 Full Transcript\"],[\"JIM GAFFIGAN: NOBLE APE (2018) \\u2013 Full Transcript\"],[\"Hannah Gadsby: Nanette (2018) \\u2013 Transcript\"],[\"RICKY GERVAIS: LIVE IV \\u2013 SCIENCE (2010) \\u2013 Full Transcript\"],[\"RON WHITE: A LITTLE UNPROFESSIONAL (2012) \\u2013 Full Transcript\"],[\"Ali Wong: Hard Knock Wife (2018) \\u2013 Transcript\"],[\"John Mulaney: Kid Gorgeous At Radio City (2018) \\u2013 Transcript\"],[\"George Carlin: You Are All Diseased (1999) \\u2013 Transcript\"],[\"RICKY GERVAIS: HUMANITY (2018) \\u2013 Full Transcript\"],[\"ADEL KARAM: LIVE FROM BEIRUT (2018) \\u2013 Full Transcript\"],[\"STEWART LEE: 90s COMEDIAN (2006) \\u2013 Full Transcript\"],[\"DAVE ATTELL: ROAD WORK (2014) \\u2013 Full Transcript\"],[\"Eddie Izzard \\u2013 Glorious (1997) \\u2013 Transcript\"],[\"FRED ARMISEN: STANDUP FOR DRUMMERS (2018) \\u2013 Full Transcript\"],[\"DANA CARVEY: STRAIGHT WHITE MALE, 60 (2016) \\u2013 Full Transcript\"],[\"EDDIE IZZARD: STRIPPED (2009) \\u2013 Full Transcript\"],[\"BRIAN REGAN: STANDING UP (2007) \\u2013 Full Transcript\"],[\"BRIAN REGAN: NUNCHUCKS AND FLAMETHROWERS (2017) \\u2013 Full Transcript\"],[\"Eddie Izzard: Unrepeatable (1994) | Transcript\"],[\"Stewart Lee: Stand-Up Comedian (2005) \\u2013 Transcript\"],[\"JIMMY CARR: FUNNY BUSINESS (2016) \\u2013 Full Transcript\"],[\"Eddie Izzard: Dress To Kill (1999) \\u2013 Transcript\"],[\"FAHIM ANWAR: THERE\\u2019S NO BUSINESS LIKE SHOW BUSINESS (2017) \\u2013 Transcript\"],[\"MAZ JOBRANI: IMMIGRANT (2017) \\u2013 Full Transcript\"],[\"TODD BARRY: SPICY HONEY (2017) \\u2013 Full Transcript\"],[\"Jerry Seinfeld: I\\u2019m Telling You for the Last Time (1998) \\u2013 Transcript\"],[\"RICKY GERVAIS LIVE 2: POLITICS (2004) \\u2013 Full Transcript\"],[\"CHRISTINA PAZSITZKY: MOTHER INFERIOR (2017) \\u2013 FULL TRANSCRIPT\"],[\"Jack Whitehall: At Large (2017) \\u2013 Transcript\"],[\"JUDAH FRIEDLANDER: AMERICA IS THE GREATEST COUNTRY IN THE UNITED STATES (2017) \\u2013 Full Transcript\"],[\"PATTON OSWALT: ANNIHILATION (2017) \\u2013 Full Transcript\"],[\"BILL MAHER: LIVE FROM D.C. (2014) \\u2013 Full Transcript\"],[\"Pablo Francisco: Ouch! Live From San Jose (2006) \\u2013 Full Transcript\"],[\"BILL MAHER\\u2026 BUT I\\u2019M NOT WRONG (2010) \\u2013 Full Transcript\"],[\"RUSSELL BRAND: MESSIAH COMPLEX (2013) \\u2013 Full Transcript\"],[\"AL MADRIGAL: WHY IS THE RABBIT CRYING? (2013) \\u2013 Full Transcript\"],[\"NEAL BRENNAN: 3 MICS (2017)- FULL TRANSCRIPT\"],[\"John Mulaney: New In Town (2012) \\u2013 Transcript\"],[\"ALI WONG: BABY COBRA (2016) \\u2013 Full Transcript\"],[\"Dylan Moran: Off The Hook (2015) \\u2013 Transcript\"],[\"Hannibal Buress: Comedy Camisado (2016) \\u2013 Transcript\"],[\"Neal Brennan: Women And Black Dudes (2014) \\u2013 Transcript\"],[\"NICK OFFERMAN: AMERICAN HAM (2014) \\u2013 Full Transcript\"],[\"Bo Burnham: What (2013) \\u2013 Transcript\"],[\"John Mulaney: The Comeback Kid (2015) \\u2013 Transcript\"],[\"LEWIS BLACK: BLACK TO THE FUTURE (2016) \\u2013 Full Transcript\"],[\"Mike Birbiglia: Thank God for Jokes (2017) \\u2013 Transcript\"],[\"GEORGE CARLIN: PLAYING WITH YOUR HEAD (1986) \\u2013 Full Transcript\"],[\"GEORGE CARLIN: CARLIN ON CAMPUS (1984) \\u2013 Full Transcript\"],[\"RICKY GERVAIS: OUT OF ENGLAND 2 (2010) \\u2013 Full Transcript\"],[\"JIM GAFFIGAN: CINCO (2017) \\u2013 Full Transcript\"],[\"BILL HICKS: RELENTLESS (1991) \\u2013 Transcript\"],[\"Daniel Tosh: Happy Thoughts (2011) \\u2013 Transcript\"],[\"George Carlin: Jamming in New York (1992) \\u2013 Transcript\"],[\"GEORGE CARLIN: COMPLAINTS AND GRIEVANCES (2001) \\u2013 FULL TRANSCRIPT\"],[\"GEORGE CARLIN: LIFE IS WORTH LOSING (2006) \\u2013 Transcript\"],[\"Dave Chappelle: 8:46 \\u2013 Transcript\"]],\"hovertemplate\":\"color=2<br>x=%{x}<br>y=%{y}<br>hover_data_0=%{customdata[0]}<extra></extra>\",\"legendgroup\":\"2\",\"marker\":{\"color\":\"#1F77B4\",\"symbol\":\"circle\"},\"mode\":\"markers\",\"name\":\"2\",\"orientation\":\"v\",\"showlegend\":true,\"type\":\"scatter\",\"x\":[117.81407470351,58.04932476126609,206.69928857164388,173.25160370405828,58.5222824346917,110.56415660928435,149.13040735801306,463.0273721015345,63.103259476321966,-14.16459361055192,340.48783339251634,-147.04210968251567,223.12547844764197,30.348471140612972,120.25889217971502,126.89756332731214,183.9023471317407,345.624795076009,60.197797887324,151.6092480072988,175.54410407860618,163.8858597203231,335.9645564846148,258.4317034885526,295.8324788694433,115.98080152786166,204.35044900586826,168.44777444424156,229.5191118597517,127.85106354317354,-76.64206765017346,116.95830011027,-47.911271625467236,-36.54799755664083,-79.25752085684492,458.5248901187236,180.11019966660754,189.94666236777402,79.7713337947599,202.16251746783396,123.92595130285423,307.91178559915255,134.88398783731395,119.89471692589103,94.00948966170213,104.3470472589597,365.0585030942033,79.39562668101,499.47413105426887,141.9882320461099,24.92834469041345,100.59259552908571,9.708602345889133,186.84969277345405,-67.10744631963745,213.13111790315685,316.2364783273623,32.95394289215814,87.33871804302602,36.839470000386655,290.4041285494131,136.9376083538291,575.6466751148338,29.04433397157271,-174.72413851038604,136.3187156715592,85.56231901166936,160.80793861692217,221.37042727360773,290.7924775919528,266.30294689506167,118.46449793990668,189.10983150497748,19.08625864037161,368.8788734936923,503.4779829519216,228.04276010500536,173.84977540196186,27.006619957572667,172.19423851596324,216.2195784680173,75.90296438739563,40.073688758690615,476.5302715786964,198.72451655222093,52.10517443382833,26.827151668419052,62.19569859304912,11.193574298615701,155.012070543119,37.45592086558504,164.44319821306829,183.56637074748073,230.3459721102526,270.6530129881945,352.37680644021697,549.0500895926957,-90.70493021118442],\"xaxis\":\"x\",\"y\":[-1.902346530188432,4.918694830101512,3.323425864390911,15.77942214171021,-35.02009273526647,-6.332997935581375,24.38599311675654,6.012703710741972,9.65045568363736,-13.590937027412526,19.42617760551917,7.140417086642314,-22.758241432562013,4.983170497680274,1.6012879081396876,-7.044594050309635,10.441997938681427,-8.801462996228697,-21.129246341837064,-51.482980223906374,-46.9878640473134,-0.352335690717524,-24.84248499796188,-54.34805329595897,-1.8149460364776142,-17.558054583457935,-6.364675012634211,8.119330757719576,30.15896294843639,-0.5168092390259502,8.43684718216213,17.050495524876055,11.907148682008314,-11.790228517493286,-19.887171603931947,-29.08605406390872,-2.89743428734739,4.765667082351581,12.983225385884356,-2.0224736877224023,-27.166212198560842,0.7363846052345896,-27.48313966232803,-2.919665406822625,-9.93276667269908,-55.418590250709194,-6.652350976752783,6.754144302776475,15.354680249560081,-8.117686368276845,-1.647604001361847,8.855849084956983,-10.645523027015665,-31.70549962833438,-11.528082249369415,0.600307809726687,-26.471935117292194,-23.407761722872813,-5.1824373092781295,0.8313541295020458,0.5437806490011771,18.97163704065974,-36.36912331932444,-22.186023308403612,-56.47833939772811,7.958019655351723,-14.421371583459939,2.4928618412348102,-1.7063234562595644,8.210770993686184,-13.225064796987656,7.017886610927549,7.514647829307156,-6.537317819222316,-6.307328188765285,-22.35170395003138,10.194267807587632,8.929532527138107,23.806086808944908,4.151349082478841,5.009226417831452,-18.22713231496672,9.106277081758652,-7.312805248515485,-1.360350106880348,16.111877665949056,-1.2433964760918064,-6.80478042535767,5.306586065104734,10.172108368711054,3.8102993913120082,-2.530479444500561,-2.8586432614206077,-8.269858217501946,17.234903455294745,28.428911237518857,18.282095344655946,31.904278483728557],\"yaxis\":\"y\"},{\"customdata\":[[\"Louis C. K.: Sorry (2021) | Transcript\"],[\"Mo Amer: Mohammed in Texas (2021) | Transcript\"],[\"Dave Chappelle: The Closer (2021) | Transcript\"],[\"Doug Stanhope: Beer Hall Putsch (2013) \\u2013 Transcript\"],[\"Chris Rock Total Blackout: The Tamborine Extended Cut \\u2013 Transcript\"],[\"Kevin Hart: Zero F**ks Given (2020) \\u2013 Transcript\"],[\"Sam Jay: 3 in the Morning (2020) \\u2013 Transcript\"],[\"GEORGE LOPEZ: WE\\u2019LL DO IT FOR HALF (2020) \\u2013 FULL TRANSCRIPT\"],[\"JIM JEFFERIES: INTOLERANT (2020) \\u2013 FULL TRANSCRIPT\"],[\"George Carlin: Doin\\u2019 It Again (1990) \\u2013 Transcript\"],[\"ERIC ANDRE: LEGALIZE EVERYTHING (2020)\"],[\"RUSSELL PETERS: DEPORTED (2020) \\u2013 FULL TRANSCRIPT\"],[\"LEE MACK: LIVE (2007) \\u2013 FULL TRANSCRIPT\"],[\"JIM NORTON: AMERICAN DEGENERATE (2013) \\u2013 FULL TRANSCRIPT\"],[\"Jim Norton: Monster Rain (2007) \\u2013 Transcript\"],[\"Chris D\\u2019Elia: Man on Fire (2017) \\u2013 Full Transcript\"],[\"Marc Maron: End Times Fun (2020) \\u2013 Full Transcript\"],[\"PETE DAVIDSON: ALIVE FROM NEW YORK (2020) \\u2013 FULL TRANSCRIPT\"],[\"Dan Soder: Son of a Gary (2019) \\u2013 Full Transcript\"],[\"Tiffany Haddish: Black Mitzvah (2019) \\u2013 Transcript\"],[\"Arsenio Hall: Smart and Classy (2019) \\u2013 Transcript\"],[\"Nikki Glaser: Bangin\\u2019 (2019) \\u2013 Full Transcript\"],[\"Bill Burr: Paper Tiger (2019) \\u2013 Transcript\"],[\"Dave Chappelle: Sticks & Stones (2019) \\u2013 Transcript\"],[\"Ralphie May: Filthy Animal Tour (2014) \\u2013 Transcript\"],[\"Mike Epps: Only One Mike (2019) \\u2013 Full Transcript\"],[\"Adam DeVine: Best Time of Our Lives (2019) \\u2013 Full Transcript\"],[\"Jo Koy: Live from Seattle (2017) \\u2013 Full Transcript\"],[\"Jo Koy: Comin\\u2019 in Hot (2019) \\u2013 Full Transcript\"],[\"Cedric the Entertainer: Live from the Ville (2016) \\u2013 Transcript\"],[\"Eddie Murphy: Raw (1987) \\u2013 Transcript\"],[\"Robin Williams: Weapons of Self Destruction (2009) \\u2013 Full Transcript\"],[\"ROBIN WILLIAMS LIVE ON BROADWAY (2002) \\u2013 FULL TRANSCRIPT\"],[\"Kevin Hart: Irresponsible (2019) \\u2013 Transcript\"],[\"Ken Jeong: You Complete Me, Ho (2019) \\u2013 Full Transcript\"],[\"Adam Sandler: 100% Fresh (2018) \\u2013 Full Transcript\"],[\"RON WHITE: IF YOU QUIT LISTENING, I\\u2019LL SHUT UP (2018) \\u2013 FULL TRANSCRIPT\"],[\"Joe Rogan: Strange Times (2018) \\u2013 Full Transcript\"],[\"D.L. Hughley: Contrarian (2018) \\u2013 Transcript\"],[\"Bert Kreischer: Secret Time (2018) \\u2013 Transcript\"],[\"Jim Norton: Contextually Inadequate (2015) \\u2013 Transcript\"],[\"BRAD WILLIAMS: DADDY ISSUES (2016) \\u2013 Full Transcript\"],[\"Deray Davis: How To Act Black (2017) \\u2013 Transcript\"],[\"JIM JEFFERIES: THIS IS ME NOW (2018) \\u2013 Full transcript\"],[\"KEVIN SMITH: SILENT BUT DEADLY (2018) \\u2013 Full Transcript\"],[\"BRENT MORIN: I\\u2019M BRENT MORIN (2015) \\u2013 Full Transcript\"],[\"Eddie Griffin: Undeniable (2018) \\u2013 Transcript\"],[\"Marlon Wayans: Woke-Ish (2018) \\u2013 Transcript\"],[\"Chris Rock: Bring the Pain (1996) \\u2013 Transcript\"],[\"ARI SHAFFIR: DOUBLE NEGATIVE (2017) \\u2013 Full Transcript\"],[\"Chris Rock: Tamborine (2018) \\u2013 Transcript\"],[\"Katt Williams: Great America (2018) \\u2013 Transcript\"],[\"JIMMY CARR: BEING FUNNY (2011) \\u2013 Full Transcript\"],[\"JIMMY CARR: LAUGHING AND JOKING (2013) \\u2013 Full Transcript\"],[\"D.L. Hughley: Unapologetic (2007) \\u2013 Transcript\"],[\"BRIDGET EVERETT: GYNECOLOGICAL WONDER (2015) \\u2013 Full Transcript\"],[\"Chris Rock: Never Scared (2004) \\u2013 Transcript\"],[\"Chris Tucker: Live (2015) \\u2013 Transcript\"],[\"Kevin Hart: What Now (2016) \\u2013 Transcript\"],[\"Kevin Hart: Let Me Explain (2013) \\u2013 Transcript\"],[\"Tom Segura: Disgraceful (2018) \\u2013 Transcript\"],[\"Craig Ferguson: Does This Need To Be Said? (2011) \\u2013 Transcript\"],[\"Dave Chappelle: The Bird Revelation (2017) \\u2013 Transcript\"],[\"Dave Chappelle: Equanimity (2017) \\u2013 Transcript\"],[\"CRAIG FERGUSON: I\\u2019M HERE TO HELP (2013) \\u2013 Full Transcript\"],[\"WHITNEY CUMMINGS: I LOVE YOU (2014) \\u2013 Full Transcript\"],[\"WHITNEY CUMMINGS: I\\u2019M YOUR GIRLFRIEND (2016) \\u2013 Full Transcript\"],[\"Russell Howard Live: Dingledodies (2009) \\u2013 Full Transcript\"],[\"Paul Mooney: A Piece of My Mind \\u2013 Godbless America (2014) \\u2013 Transcript\"],[\"Chris Rock: Kill The Messenger \\u2013 London, New York, Johannesburg (2008) \\u2013 Transcript\"],[\"Chris Rock: Bigger & Blacker (1999) \\u2013 Transcript\"],[\"LISA LAMPANELLI: BACK TO THE DRAWING BOARD (2015) \\u2013 Full Transcript\"],[\"ERIK GRIFFIN: THE UGLY TRUTH (2017) \\u2013 Full Transcript\"],[\"Richard Pryor: Live And Smokin\\u2019 (1971) \\u2013 Transcript\"],[\"RICHARD PRYOR: \\u2026HERE AND NOW (1983) \\u2013 Full Transcript\"],[\"Jim Jefferies: Alcoholocaust (2010) \\u2013 Transcript\"],[\"Kevin Hart: Seriously Funny (2010) \\u2013 Transcript\"],[\"AZIZ ANSARI: INTIMATE MOMENTS FOR A SENSUAL EVENING (2010) \\u2013 Full Transcript\"],[\"BIG JAY OAKERSON: LIVE AT WEBSTER HALL (2016) \\u2013 Full Transcript\"],[\"George Carlin at USC (1977) \\u2013 Full Transcript\"],[\"Jim Norton: Mouthful Of Shame (2017) Transcript\"],[\"Michael Che Matters (2016) \\u2013 Transcript\"],[\"Joe Rogan: Triggered (2016) \\u2013 Transcript\"],[\"Bo Burnham: Make Happy (2016) \\u2013 Transcript\"],[\"BILL HICKS: REVELATIONS (1993) \\u2013 FULL TRANSCRIPT\"],[\"DOUG STANHOPE: BEFORE TURNING THE GUN ON HIMSELF (2012) \\u2013 Transcript\"],[\"DOUG STANHOPE: DEADBEAT HERO (2004) \\u2013 Transcript\"],[\"JIM JEFFERIES: CONTRABAND (2008) \\u2013 Full Transcript\"],[\"GEORGE CARLIN: AGAIN!* (1978) \\u2013 Full Transcript\"],[\"Louis C.K.: Chewed Up (2008) \\u2013 Transcript\"],[\"Tom Segura: Completely Normal (2014) \\u2013 Transcript\"],[\"Louis C.K.: Live at the Beacon Theatre (2011) \\u2013 Transcript\"],[\"JIM JEFFERIES: I SWEAR TO GOD (2009) \\u2013 FULL TRANSCRIPT\"],[\"LOUIS C.K.: HILARIOUS (2010) \\u2013 Full Transcript\"],[\"LOUIS C.K.: SHAMELESS (2007) \\u2013 Full Transcript\"],[\"BILL BURR: I\\u2019M SORRY YOU FEEL THAT WAY (2014) \\u2013 Full Transcript\"],[\"BILL BURR: YOU PEOPLE ARE ALL THE SAME (2012) \\u2013 Full Transcript\"],[\"Dave Chappelle: For What It\\u2019s Worth (2004) \\u2013 Transcript\"],[\"Dave Chappelle: Killin\\u2019 Them Softly (2000) \\u2013 Transcript\"],[\"Eddie Griffin: You Can Tell \\u2018Em I Said It! (2011) \\u2013 Transcript\"],[\"BILL BURR: WALK YOUR WAY OUT (2017) \\u2013 Full Transcript\"],[\"Katt Williams: Live (2006) \\u2013 Transcript\"],[\"Richard Pryor: Live in Concert (1979) \\u2013 Transcript\"],[\"RICHARD PRYOR: LIVE ON THE SUNSET STRIP (1982) \\u2013 Full Transcript\"],[\"JIM JEFFERIES: BARE (2014) \\u2013 Full Transcript\"],[\"Dave Chappelle: Deep in the Heart of Texas (2017) \\u2013 Transcript\"],[\"Tom Segura: Mostly Stories (2016) \\u2013 Transcript\"],[\"JIM JEFFERIES: FREEDUMB (2016) \\u2013 Full Transcript\"],[\"Eddie Murphy: Delirious (1983) \\u2013 Transcript\"],[\"Dave Chappelle: The Age of Spin (2017) \\u2013 Transcript\"],[\"GEORGE CARLIN: BACK IN TOWN (1996) \\u2013 Full transcript\"],[\"LOUIS C.K.: 2017 \\u2013 Full transcript\"],[\"George Carlin: It\\u2019s Bad For Ya (2008) Full transcript\"],[\"JIM JEFFERIES ON GUN CONTROL [FULL TRANSCRIPT]\"]],\"hovertemplate\":\"color=1<br>x=%{x}<br>y=%{y}<br>hover_data_0=%{customdata[0]}<extra></extra>\",\"legendgroup\":\"1\",\"marker\":{\"color\":\"#FF7F0E\",\"symbol\":\"circle\"},\"mode\":\"markers\",\"name\":\"1\",\"orientation\":\"v\",\"showlegend\":true,\"type\":\"scatter\",\"x\":[-151.77327827510803,-55.706972311993376,-19.53655759936299,372.66698228354915,-101.75912422005577,-223.3972964575531,-154.2792490501103,-127.96322495938188,-120.22466811095273,252.44171484620222,289.923850938065,-325.76519621711543,73.52974792540628,73.13479138004932,277.8738558819774,-372.3067878894641,-153.30740250222416,-243.43267451202342,47.32673047905125,-155.0036016263102,-23.506876969994263,-165.44641243999013,-77.7584952895675,-15.401142919547317,49.51662288951691,-293.33127541253964,-55.631010713779425,-296.246726772475,-315.15976727307225,-131.03686862355983,-414.55641098537984,365.9994519857241,558.3878384964944,-322.8012639810522,40.144262568609605,-30.03085472378911,58.445945161774404,-78.13078208587346,150.27519029964793,-44.63682082707189,160.88099117532235,-196.90594654833018,-200.51477598906345,-81.15968800898415,-288.3032107217839,-220.71640161313852,14.352688955792704,-10.550701716238091,-247.48248407263137,-207.25957857447852,-127.40513230272138,-101.27666233088702,212.78029997856407,189.7988743414734,20.743169455459405,-253.0096547565598,-67.44706601209799,-526.1747247306795,-401.82513489986803,-474.13732549195925,-67.55236099639035,-143.83137461397627,37.812903916543085,23.035185406389186,-82.84206787254269,-139.82967229508637,-75.51389631034999,253.68523448455488,-92.09286652174997,-267.65229117923025,-153.52185902834705,185.20667148609593,-114.6836940497205,-135.4935871547823,-386.68647822218367,-27.444465149280823,-538.5083388949176,-41.26082139378849,-53.01292861302502,117.46410954102186,61.84113795825088,-180.85932551146823,-2.588063996512443,103.510433679694,359.5475916370457,255.86093789829403,302.60938703077744,-6.28794602352445,26.23189900559733,-133.99759049797353,-176.17099627253626,-130.84774232460038,-25.599847315383773,-180.5358248435636,-269.4980885615343,19.52916152507458,-37.94629200371472,-27.357110295377744,-152.01479214684574,-52.5954614990269,-46.07982524186913,-173.7942965598035,-357.0899515913276,-177.23204275245365,-203.94978272275438,-62.08134494031532,-80.07478735024809,-147.97664587988965,-182.2562044026823,72.98963951549665,438.6185168138036,-152.46590201856816,92.55249397837567,-270.6743290539314],\"xaxis\":\"x\",\"y\":[-2.3717291094254227,9.933997247692504,-3.863718283083294,21.959369593536167,-36.832540661177696,11.18934209583915,19.067259225242047,6.831652831421751,-0.49347418311269003,13.10489290478345,20.09642326185897,12.178981328424404,19.953611670691412,7.305585655980541,11.241915713500441,11.06158439779682,3.780486958315395,37.49689355774866,9.514963431496863,8.781533919303737,5.591539901121199,19.41889949843873,15.74532871470114,-3.5150340089206322,-11.891043139532233,-4.225517753510338,12.964881152962725,-2.553180900509816,-3.390126457118837,5.031889014047899,-24.576292653459394,-4.279705711567725,-24.30142902994866,26.77318828503435,10.887500250902644,-7.201024892011103,1.8004894339080066,7.7378008196650185,8.623620852316185,11.770038779533387,22.179207131094746,25.554103365213546,2.0570754747900004,-6.923421434581404,43.95560375334688,11.601922331166659,-14.516611772646053,0.7310475962005129,7.33775030503144,63.251203484275365,-50.54149951107795,2.026407559378048,-25.860170437325863,-11.406030761026365,28.578179968449902,-11.571940356491206,-8.030079330327926,-33.374628635933995,-37.701942475252366,-3.463800736298022,-2.001453213298022,1.7216993405165626,19.42713670644022,9.703852006898085,-9.897427316412015,13.758733920519061,-7.498636079303,5.705136627194616,-22.239872932880534,-16.6102149508216,-7.731571872374217,13.18427293030663,-4.8653915234701515,5.301553090777901,-23.44116693421111,-60.740010774686006,4.6971125846212844,33.394345368419984,4.554458583596989,-17.318358631288273,21.369545903182946,-1.9964811243482243,16.45260325405296,0.7831737241606017,23.364600194721607,4.628786832812669,-26.53010962667987,2.626972653552243,-10.05475090071974,-0.5927025235985762,2.0639766498531342,1.844641670844102,5.335804322645535,-15.683692096641167,22.91558173223891,-3.5546066438075226,19.583395227361322,6.376991062949421,6.507862186715854,-31.786174605391796,3.3978613060530414,-19.62104034589617,-20.321953854840903,-24.524804708461996,-9.931792651846562,5.193600739609505,-7.640442822651603,-23.561738573071395,-13.632039645629524,3.267958143841348,18.459232293199204,-19.62102879466807,4.914390289290778,-53.31495636442482],\"yaxis\":\"y\"},{\"customdata\":[[\"Drew Michael: Drew Michael (2018) | Transcript\"],[\"Drew Michael: Red Blue Green (2021) | Transcript\"],[\"Kathleen Madigan: Madigan Again (2013) \\u2013 Transcript\"],[\"Tom Papa: You\\u2019re Doing Great! (2020) \\u2013 Transcript\"],[\"Tom Papa: Human Mule (2016) \\u2013 Transcript\"],[\"Tig Notaro: Boyish Girl Interrupted (2015) \\u2013 Transcript\"],[\"Joe List: I Hate Myself (2020) \\u2013 Transcript\"],[\"Nate Bargatze: The Greatest Average American (2021) \\u2013 Transcript\"],[\"Vir Das: Outside in \\u2013 The Lockdown Special (2020) \\u2013 Transcript\"],[\"Larry the Cable Guy \\u2013 Remain Seated (2020) \\u2013 Transcript\"],[\"Craig Ferguson: Just Being Honest (2015) \\u2013 Transcript\"],[\"Sam Morril: I Got This (2020) \\u2013 Transcript\"],[\"MICHAEL MCINTYRE: SHOWMAN (2020) \\u2013 TRANSCRIPT\"],[\"ROB SCHNEIDER: ASIAN MOMMA, MEXICAN KIDS (2020) \\u2013 TRANSCRIPT\"],[\"URZILA CARLSON: OVERQUALIFIED LOSER (2020) \\u2013 FULL TRANSCRIPT\"],[\"Mark Normand: Don\\u2019t Be Yourself (2017) \\u2013 Transcript\"],[\"Chris Gethard: Career Suicide (2017) \\u2013 Transcript\"],[\"RAMY YOUSSEF: FEELINGS (2019) \\u2013 FULL TRANSCRIPT\"],[\"KENNY SEBASTIAN DON\\u2019T BE THAT GUY (2017) \\u2013 FULL TRANSCRIPT\"],[\"Hasan Minhaj: Homecoming King (2017) \\u2013 Transcript\"],[\"JIMMY O. YANG: GOOD DEAL (2020) \\u2013 FULL TRANSCRIPT\"],[\"JO KOY: LIGHTS OUT (2012) \\u2013 FULL TRANSCRIPT\"],[\"T.J. MILLER: NO REAL REASON (2011) \\u2013 FULL TRANSCRIPT\"],[\"CHRIS D\\u2019ELIA: WHITE MALE. BLACK COMIC. (2013) \\u2013 FULL TRANSCRIPT\"],[\"Tom Segura: Ball Hog (2020) \\u2013 Transcript\"],[\"Bert Kreischer: Hey Big Boy (2020) \\u2013 Transcript\"],[\"PETE DAVIDSON: SMD (2016) \\u2013 FULL TRANSCRIPT\"],[\"Sara Pascoe: LadsLadsLads (2019) \\u2013 Full Transcript\"],[\"Michelle Wolf: Joke Show (2019) \\u2013 Full Transcript\"],[\"Seth Meyers: Lobby Baby (2019) \\u2013 Full Transcript\"],[\"Emily Heller: Ice Thickeners (2019) \\u2013 Full Transcript\"],[\"Whitney Cummings: Can I Touch It? (2019) \\u2013 Full Transcript\"],[\"Aziz Ansari: Right Now (2019) \\u2013 Transcript\"],[\"Wanda Sykes: Not Normal (2019) \\u2013 Full Transcript\"],[\"Demetri Martin: Live (At The Time) (2015) | Transcript\"],[\"Chelsea Peretti: One of the Greats (2014) \\u2013 Full Transcript\"],[\"Anthony Jeselnik: Fire in the Maternity Ward (2019) \\u2013 Transcript\"],[\"Nate Bargatze: The Tennessee Kid (2019) \\u2013 Full Transcript\"],[\"Nate Bargatze: Full Time Magic (2015) \\u2013 Full Transcript\"],[\"Amy Schumer: Growing (2019) \\u2013 Full Transcript\"],[\"Enissa Amani: Ehrenwort (2018) Full Transcript\"],[\"Ray Romano: Right Here, Around the Corner (2019) \\u2013 Full Transcript\"],[\"Gabriel \\u201cFluffy\\u201d Iglesias: One Show Fits All (2019) \\u2013 Full Transcript\"],[\"Sebastian Maniscalco: Stay Hungry (2019) \\u2013 Full Transcript\"],[\"Ellen Degeneres: Relatable (2018) \\u2013 Transcript\"],[\"Pete Holmes: Dirty Clean (2018) \\u2013 Full Transcript\"],[\"Trevor Noah: Son of Patricia (2018) \\u2013 Transcript\"],[\"Mo Amer: The Vagabond (2018) \\u2013 Full Transcript\"],[\"Joe Mande\\u2019s Award-Winning Comedy Special (2017) \\u2013 Full Transcript\"],[\"Henry Rollins: Keep Talking, Pal (2018) \\u2013 Full Transcript\"],[\"Iliza Shlesinger: Freezing Hot (2015) \\u2013 Full Transcript\"],[\"Iliza Shlesinger: War Paint (2013) \\u2013 Transcript\"],[\"Demetri Martin: The Overthinker (2018) | Transcript\"],[\"Iliza Shlesinger: Elder Millennial (2018) \\u2013 Full Transcript\"],[\"RUSSELL PETERS: OUTSOURCED (2006) \\u2013 Full Transcript\"],[\"RUSSELL PETERS: ALMOST FAMOUS (2016) \\u2013 Full Transcript\"],[\"MICHAEL MCINTYRE: HELLO WEMBLEY! (2009) \\u2013 Full Transcript\"],[\"KEVIN JAMES: NEVER DON\\u2019T GIVE UP (2018) \\u2013 Full Transcript\"],[\"NIKKI GLASER: PERFECT (2016) \\u2013 Full Transcript\"],[\"KAVIN JAY: EVERYBODY CALM DOWN! (2018) \\u2013 Full Transcript\"],[\"GREG DAVIES: YOU MAGNIFICENT BEAST (2018) \\u2013 Full Transcript\"],[\"Mike Birbiglia: My Girlfriend\\u2019s Boyfriend (2013) \\u2013 Transcript\"],[\"TODD GLASS: ACT HAPPY (2018) \\u2013 Full Transcript\"],[\"MICHELLE WOLF: NICE LADY (2017) \\u2013 Full Transcript\"],[\"ELLEN DEGENERES: THE BEGINNING (2000) \\u2013 Full Transcript\"],[\"RUSSELL HOWARD: RECALIBRATE (2017) \\u2013 Full Transcript\"],[\"SARAH MILLICAN: CHATTERBOX LIVE (2011) \\u2013 Full Transcript\"],[\"Anjelah Johnson: Not Fancy (2015) \\u2013 Transcript\"],[\"CRISTELA ALONZO: LOWER CLASSY (2017) \\u2013 Full Transcript\"],[\"AZIZ ANSARI: LIVE IN MADISON SQUARE GARDEN (2015) \\u2013 Full Transcript\"],[\"AZIZ ANSARI: BURIED ALIVE (2013) \\u2013 Full Transcript\"],[\"Sarah Silverman: Jesus Is Magic (2005) \\u2013 Transcript\"],[\"SARAH SILVERMAN: WE ARE MIRACLES (2013) \\u2013 Full Transcript\"],[\"Gabriel Iglesias: Hot And Fluffy (2007) \\u2013 Transcript\"],[\"GABRIEL IGLESIAS: I\\u2019M NOT FAT \\u2026 I\\u2019M FLUFFY (2009) \\u2013 Full Transcript\"],[\"GABRIEL IGLESIAS: I\\u2019M SORRY FOR WHAT I SAID WHEN I WAS HUNGRY (2016) \\u2013 Full Transcript\"],[\"RORY SCOVEL TRIES STAND-UP FOR THE FIRST TIME (2017) \\u2013 Full Transcript\"],[\"JEN KIRKMAN: JUST KEEP LIVIN\\u2019? (2017) \\u2013 Full Transcript\"],[\"DANIEL TOSH: COMPLETELY SERIOUS (2007) \\u2013 Full Transcript\"],[\"Donald Glover: Weirdo (2012) \\u2013 Transcript\"],[\"Norm Macdonald: Hitler\\u2019s Dog, Gossip & Trickery (2017) \\u2013 Transcript\"],[\"DANIEL TOSH: PEOPLE PLEASER (2016) \\u2013 FULL TRANSCRIPT\"],[\"Marc Maron: More Later (2015) \\u2013 Full Transcript\"],[\"AMY SCHUMER: MOSTLY SEX STUFF (2012) \\u2013 Full Transcript\"],[\"AMY SCHUMER: LIVE AT THE APOLLO (2015) \\u2013 Full Transcript\"],[\"Trevor Noah: Lost In Translation (2015) \\u2013 Transcript\"],[\"MARIA BAMFORD: OLD BABY (2017) \\u2013 FULL TRANSCRIPT\"],[\"ANTHONY JESELNIK: CALIGULA (2013) \\u2013 Full Transcript\"],[\"Anthony Jeselnik: Thoughts And Prayers (2015) \\u2013 Full Transcript\"],[\"SARAH SILVERMAN: A SPECK OF DUST (2017) \\u2013 Full Transcript\"],[\"AMY SCHUMER: THE LEATHER SPECIAL (2017) \\u2013 Full Transcript\"],[\"LOUIS C.K.: OH MY GOD (2013) \\u2013 Full Transcript\"],[\"LOUIS C.K.: LIVE AT  THE COMEDY STORE (2015) \\u2013 Transcript\"],[\"Patrice O\\u2019Neal: Elephant in the Room (2011) \\u2013 Transcript\"],[\"Trevor Noah: Afraid Of The Dark (2017) \\u2013 Transcript\"],[\"BILL BURR: LET IT GO (2010) \\u2013 TRANSCRIPT\"],[\"Reggie Watts: Spatial (2016) \\u2013 Full Transcript\"]],\"hovertemplate\":\"color=0<br>x=%{x}<br>y=%{y}<br>hover_data_0=%{customdata[0]}<extra></extra>\",\"legendgroup\":\"0\",\"marker\":{\"color\":\"#2CA02C\",\"symbol\":\"circle\"},\"mode\":\"markers\",\"name\":\"0\",\"orientation\":\"v\",\"showlegend\":true,\"type\":\"scatter\",\"x\":[-194.3949721677279,110.70270924889665,19.67914858561949,64.01399707836028,19.871825801678288,-146.0024415810357,-101.46486717659809,-361.11951341773005,44.8669137361677,129.88712829187497,-191.82353656987263,41.53252401503017,40.952449243039055,-226.36936423640734,-57.79995469771628,-72.61238085120442,-36.968690134843975,-216.76800634880843,-87.1122693694361,108.32605382956504,-63.79173957902457,-293.89731947154485,19.585976279126275,-375.6696828266524,-57.11040899185345,-58.28742455410596,-275.932859851653,-70.57632592775846,-140.67908775677304,-112.9359483220109,-38.714137045794175,-2.8599608400897893,-78.2244313358712,-49.97756866648896,34.33383752003965,91.28655092829501,-81.626539547332,-366.06656930614673,-340.6375602768257,-51.62243042554529,-116.30849682312866,-251.28266736992438,-157.31923884189655,-85.00374818664015,-85.85835913072894,-65.23045971330117,-218.02310504887936,8.984139325435775,98.1838834849036,92.99968177131555,131.93337247466215,101.88116725954637,36.15393094907438,139.20927331412835,-273.7982763238498,-172.6343212872302,-64.01609751657715,-44.678062652916026,-346.18265645543545,-217.82915429309082,62.17666875002609,-60.4451671809676,-167.63768857645096,-50.45731079817181,-58.036269530987134,12.603533752725138,-262.8994551887044,-2.0186226949155617,-141.57207834941158,-177.30433276472607,-133.15558977721824,6.926458200411565,28.150550230190273,-67.41716351514343,-159.463758089879,-45.52786427361279,-53.895742974507385,-268.97356386042446,340.0999750957442,-322.4159004029148,-152.76064186731625,191.5444097549822,-284.3760374536554,-44.79234771914575,-74.13138768888004,-198.13216954627273,352.188625092313,-130.17547115366938,-108.46283619250451,43.68108940803711,-56.97294913848773,-108.7148571449663,-285.4117210867304,-178.77260523114,-173.3199161834703,-88.18369614686613,-30.873110872449708],\"xaxis\":\"x\",\"y\":[-1.4662864789582133,19.354725456622308,9.604895616163006,15.125284514355377,21.37998181419278,-20.466059434562812,40.329646995127256,28.489623695660676,27.89834184799756,11.926365062882354,-3.212415306571409,50.14655365753821,18.51948921833031,16.287223432097424,9.767523975361957,21.496329096652282,-12.441604195345164,-3.031654697333952,-3.9845253735626334,0.6847471294471006,18.13471550375645,-16.969174204269326,1.4237240555075306,8.119303802199807,-3.4674441472037243,8.898518180658428,1.6946203040818681,-41.94283856741744,4.606600609484662,13.48611130697224,-11.389784283654894,21.382273951772184,6.646263587649693,-7.311905918397018,7.229462111856095,-2.6211788171092625,-25.05019477518909,18.943458688797456,-15.78490816714319,-8.971785904362132,27.138959811325417,4.455872041760494,-27.58503674338532,-12.26878288624426,-5.338137709348226,1.7610793058924383,18.424163851072116,25.72792647357705,16.310174427258342,26.18078728976116,10.702472561673183,7.579949552579552,18.183687882896738,-0.2674134540650767,-6.704095231664221,-11.425843974370839,-1.6708880380957614,11.565418765741509,24.171882346501228,9.958657705873918,2.4378616220020515,-1.2795229975629092,10.276523287585126,7.725486251713796,-8.91126577205175,1.3200389502047605,-27.381222385487508,-41.60790531686018,-16.357181312365007,29.61786062867045,-4.627863606720324,-22.38170913802984,-2.2671201377115824,41.8756461178971,23.577739900108128,-14.015575069885356,-3.6944460032974504,17.18819124239021,21.63457086770347,8.809658536562141,-1.1481037975437787,21.515940362580377,-6.516524808574863,5.5018448336584065,1.5792785266271419,12.891403982377291,6.955357918114388,-16.625201424294957,-5.434092589563311,-5.488192064646301,-4.897992110595518,3.473195787149434,-7.132812850567542,-17.798304531042415,4.371175355986347,-6.7372467243826,-33.243206161833214],\"yaxis\":\"y\"}],                        {\"legend\":{\"title\":{\"text\":\"color\"},\"tracegroupgap\":0},\"margin\":{\"t\":60},\"template\":{\"data\":{\"bar\":[{\"error_x\":{\"color\":\"rgb(36,36,36)\"},\"error_y\":{\"color\":\"rgb(36,36,36)\"},\"marker\":{\"line\":{\"color\":\"white\",\"width\":0.5},\"pattern\":{\"fillmode\":\"overlay\",\"size\":10,\"solidity\":0.2}},\"type\":\"bar\"}],\"barpolar\":[{\"marker\":{\"line\":{\"color\":\"white\",\"width\":0.5},\"pattern\":{\"fillmode\":\"overlay\",\"size\":10,\"solidity\":0.2}},\"type\":\"barpolar\"}],\"carpet\":[{\"aaxis\":{\"endlinecolor\":\"rgb(36,36,36)\",\"gridcolor\":\"white\",\"linecolor\":\"white\",\"minorgridcolor\":\"white\",\"startlinecolor\":\"rgb(36,36,36)\"},\"baxis\":{\"endlinecolor\":\"rgb(36,36,36)\",\"gridcolor\":\"white\",\"linecolor\":\"white\",\"minorgridcolor\":\"white\",\"startlinecolor\":\"rgb(36,36,36)\"},\"type\":\"carpet\"}],\"choropleth\":[{\"colorbar\":{\"outlinewidth\":1,\"tickcolor\":\"rgb(36,36,36)\",\"ticks\":\"outside\"},\"type\":\"choropleth\"}],\"contour\":[{\"colorbar\":{\"outlinewidth\":1,\"tickcolor\":\"rgb(36,36,36)\",\"ticks\":\"outside\"},\"colorscale\":[[0.0,\"#440154\"],[0.1111111111111111,\"#482878\"],[0.2222222222222222,\"#3e4989\"],[0.3333333333333333,\"#31688e\"],[0.4444444444444444,\"#26828e\"],[0.5555555555555556,\"#1f9e89\"],[0.6666666666666666,\"#35b779\"],[0.7777777777777778,\"#6ece58\"],[0.8888888888888888,\"#b5de2b\"],[1.0,\"#fde725\"]],\"type\":\"contour\"}],\"contourcarpet\":[{\"colorbar\":{\"outlinewidth\":1,\"tickcolor\":\"rgb(36,36,36)\",\"ticks\":\"outside\"},\"type\":\"contourcarpet\"}],\"heatmap\":[{\"colorbar\":{\"outlinewidth\":1,\"tickcolor\":\"rgb(36,36,36)\",\"ticks\":\"outside\"},\"colorscale\":[[0.0,\"#440154\"],[0.1111111111111111,\"#482878\"],[0.2222222222222222,\"#3e4989\"],[0.3333333333333333,\"#31688e\"],[0.4444444444444444,\"#26828e\"],[0.5555555555555556,\"#1f9e89\"],[0.6666666666666666,\"#35b779\"],[0.7777777777777778,\"#6ece58\"],[0.8888888888888888,\"#b5de2b\"],[1.0,\"#fde725\"]],\"type\":\"heatmap\"}],\"heatmapgl\":[{\"colorbar\":{\"outlinewidth\":1,\"tickcolor\":\"rgb(36,36,36)\",\"ticks\":\"outside\"},\"colorscale\":[[0.0,\"#440154\"],[0.1111111111111111,\"#482878\"],[0.2222222222222222,\"#3e4989\"],[0.3333333333333333,\"#31688e\"],[0.4444444444444444,\"#26828e\"],[0.5555555555555556,\"#1f9e89\"],[0.6666666666666666,\"#35b779\"],[0.7777777777777778,\"#6ece58\"],[0.8888888888888888,\"#b5de2b\"],[1.0,\"#fde725\"]],\"type\":\"heatmapgl\"}],\"histogram\":[{\"marker\":{\"line\":{\"color\":\"white\",\"width\":0.6}},\"type\":\"histogram\"}],\"histogram2d\":[{\"colorbar\":{\"outlinewidth\":1,\"tickcolor\":\"rgb(36,36,36)\",\"ticks\":\"outside\"},\"colorscale\":[[0.0,\"#440154\"],[0.1111111111111111,\"#482878\"],[0.2222222222222222,\"#3e4989\"],[0.3333333333333333,\"#31688e\"],[0.4444444444444444,\"#26828e\"],[0.5555555555555556,\"#1f9e89\"],[0.6666666666666666,\"#35b779\"],[0.7777777777777778,\"#6ece58\"],[0.8888888888888888,\"#b5de2b\"],[1.0,\"#fde725\"]],\"type\":\"histogram2d\"}],\"histogram2dcontour\":[{\"colorbar\":{\"outlinewidth\":1,\"tickcolor\":\"rgb(36,36,36)\",\"ticks\":\"outside\"},\"colorscale\":[[0.0,\"#440154\"],[0.1111111111111111,\"#482878\"],[0.2222222222222222,\"#3e4989\"],[0.3333333333333333,\"#31688e\"],[0.4444444444444444,\"#26828e\"],[0.5555555555555556,\"#1f9e89\"],[0.6666666666666666,\"#35b779\"],[0.7777777777777778,\"#6ece58\"],[0.8888888888888888,\"#b5de2b\"],[1.0,\"#fde725\"]],\"type\":\"histogram2dcontour\"}],\"mesh3d\":[{\"colorbar\":{\"outlinewidth\":1,\"tickcolor\":\"rgb(36,36,36)\",\"ticks\":\"outside\"},\"type\":\"mesh3d\"}],\"parcoords\":[{\"line\":{\"colorbar\":{\"outlinewidth\":1,\"tickcolor\":\"rgb(36,36,36)\",\"ticks\":\"outside\"}},\"type\":\"parcoords\"}],\"pie\":[{\"automargin\":true,\"type\":\"pie\"}],\"scatter\":[{\"marker\":{\"colorbar\":{\"outlinewidth\":1,\"tickcolor\":\"rgb(36,36,36)\",\"ticks\":\"outside\"}},\"type\":\"scatter\"}],\"scatter3d\":[{\"line\":{\"colorbar\":{\"outlinewidth\":1,\"tickcolor\":\"rgb(36,36,36)\",\"ticks\":\"outside\"}},\"marker\":{\"colorbar\":{\"outlinewidth\":1,\"tickcolor\":\"rgb(36,36,36)\",\"ticks\":\"outside\"}},\"type\":\"scatter3d\"}],\"scattercarpet\":[{\"marker\":{\"colorbar\":{\"outlinewidth\":1,\"tickcolor\":\"rgb(36,36,36)\",\"ticks\":\"outside\"}},\"type\":\"scattercarpet\"}],\"scattergeo\":[{\"marker\":{\"colorbar\":{\"outlinewidth\":1,\"tickcolor\":\"rgb(36,36,36)\",\"ticks\":\"outside\"}},\"type\":\"scattergeo\"}],\"scattergl\":[{\"marker\":{\"colorbar\":{\"outlinewidth\":1,\"tickcolor\":\"rgb(36,36,36)\",\"ticks\":\"outside\"}},\"type\":\"scattergl\"}],\"scattermapbox\":[{\"marker\":{\"colorbar\":{\"outlinewidth\":1,\"tickcolor\":\"rgb(36,36,36)\",\"ticks\":\"outside\"}},\"type\":\"scattermapbox\"}],\"scatterpolar\":[{\"marker\":{\"colorbar\":{\"outlinewidth\":1,\"tickcolor\":\"rgb(36,36,36)\",\"ticks\":\"outside\"}},\"type\":\"scatterpolar\"}],\"scatterpolargl\":[{\"marker\":{\"colorbar\":{\"outlinewidth\":1,\"tickcolor\":\"rgb(36,36,36)\",\"ticks\":\"outside\"}},\"type\":\"scatterpolargl\"}],\"scatterternary\":[{\"marker\":{\"colorbar\":{\"outlinewidth\":1,\"tickcolor\":\"rgb(36,36,36)\",\"ticks\":\"outside\"}},\"type\":\"scatterternary\"}],\"surface\":[{\"colorbar\":{\"outlinewidth\":1,\"tickcolor\":\"rgb(36,36,36)\",\"ticks\":\"outside\"},\"colorscale\":[[0.0,\"#440154\"],[0.1111111111111111,\"#482878\"],[0.2222222222222222,\"#3e4989\"],[0.3333333333333333,\"#31688e\"],[0.4444444444444444,\"#26828e\"],[0.5555555555555556,\"#1f9e89\"],[0.6666666666666666,\"#35b779\"],[0.7777777777777778,\"#6ece58\"],[0.8888888888888888,\"#b5de2b\"],[1.0,\"#fde725\"]],\"type\":\"surface\"}],\"table\":[{\"cells\":{\"fill\":{\"color\":\"rgb(237,237,237)\"},\"line\":{\"color\":\"white\"}},\"header\":{\"fill\":{\"color\":\"rgb(217,217,217)\"},\"line\":{\"color\":\"white\"}},\"type\":\"table\"}]},\"layout\":{\"annotationdefaults\":{\"arrowhead\":0,\"arrowwidth\":1},\"autotypenumbers\":\"strict\",\"coloraxis\":{\"colorbar\":{\"outlinewidth\":1,\"tickcolor\":\"rgb(36,36,36)\",\"ticks\":\"outside\"}},\"colorscale\":{\"diverging\":[[0.0,\"rgb(103,0,31)\"],[0.1,\"rgb(178,24,43)\"],[0.2,\"rgb(214,96,77)\"],[0.3,\"rgb(244,165,130)\"],[0.4,\"rgb(253,219,199)\"],[0.5,\"rgb(247,247,247)\"],[0.6,\"rgb(209,229,240)\"],[0.7,\"rgb(146,197,222)\"],[0.8,\"rgb(67,147,195)\"],[0.9,\"rgb(33,102,172)\"],[1.0,\"rgb(5,48,97)\"]],\"sequential\":[[0.0,\"#440154\"],[0.1111111111111111,\"#482878\"],[0.2222222222222222,\"#3e4989\"],[0.3333333333333333,\"#31688e\"],[0.4444444444444444,\"#26828e\"],[0.5555555555555556,\"#1f9e89\"],[0.6666666666666666,\"#35b779\"],[0.7777777777777778,\"#6ece58\"],[0.8888888888888888,\"#b5de2b\"],[1.0,\"#fde725\"]],\"sequentialminus\":[[0.0,\"#440154\"],[0.1111111111111111,\"#482878\"],[0.2222222222222222,\"#3e4989\"],[0.3333333333333333,\"#31688e\"],[0.4444444444444444,\"#26828e\"],[0.5555555555555556,\"#1f9e89\"],[0.6666666666666666,\"#35b779\"],[0.7777777777777778,\"#6ece58\"],[0.8888888888888888,\"#b5de2b\"],[1.0,\"#fde725\"]]},\"colorway\":[\"#1F77B4\",\"#FF7F0E\",\"#2CA02C\",\"#D62728\",\"#9467BD\",\"#8C564B\",\"#E377C2\",\"#7F7F7F\",\"#BCBD22\",\"#17BECF\"],\"font\":{\"color\":\"rgb(36,36,36)\"},\"geo\":{\"bgcolor\":\"white\",\"lakecolor\":\"white\",\"landcolor\":\"white\",\"showlakes\":true,\"showland\":true,\"subunitcolor\":\"white\"},\"hoverlabel\":{\"align\":\"left\"},\"hovermode\":\"closest\",\"mapbox\":{\"style\":\"light\"},\"paper_bgcolor\":\"white\",\"plot_bgcolor\":\"white\",\"polar\":{\"angularaxis\":{\"gridcolor\":\"rgb(232,232,232)\",\"linecolor\":\"rgb(36,36,36)\",\"showgrid\":false,\"showline\":true,\"ticks\":\"outside\"},\"bgcolor\":\"white\",\"radialaxis\":{\"gridcolor\":\"rgb(232,232,232)\",\"linecolor\":\"rgb(36,36,36)\",\"showgrid\":false,\"showline\":true,\"ticks\":\"outside\"}},\"scene\":{\"xaxis\":{\"backgroundcolor\":\"white\",\"gridcolor\":\"rgb(232,232,232)\",\"gridwidth\":2,\"linecolor\":\"rgb(36,36,36)\",\"showbackground\":true,\"showgrid\":false,\"showline\":true,\"ticks\":\"outside\",\"zeroline\":false,\"zerolinecolor\":\"rgb(36,36,36)\"},\"yaxis\":{\"backgroundcolor\":\"white\",\"gridcolor\":\"rgb(232,232,232)\",\"gridwidth\":2,\"linecolor\":\"rgb(36,36,36)\",\"showbackground\":true,\"showgrid\":false,\"showline\":true,\"ticks\":\"outside\",\"zeroline\":false,\"zerolinecolor\":\"rgb(36,36,36)\"},\"zaxis\":{\"backgroundcolor\":\"white\",\"gridcolor\":\"rgb(232,232,232)\",\"gridwidth\":2,\"linecolor\":\"rgb(36,36,36)\",\"showbackground\":true,\"showgrid\":false,\"showline\":true,\"ticks\":\"outside\",\"zeroline\":false,\"zerolinecolor\":\"rgb(36,36,36)\"}},\"shapedefaults\":{\"fillcolor\":\"black\",\"line\":{\"width\":0},\"opacity\":0.3},\"ternary\":{\"aaxis\":{\"gridcolor\":\"rgb(232,232,232)\",\"linecolor\":\"rgb(36,36,36)\",\"showgrid\":false,\"showline\":true,\"ticks\":\"outside\"},\"baxis\":{\"gridcolor\":\"rgb(232,232,232)\",\"linecolor\":\"rgb(36,36,36)\",\"showgrid\":false,\"showline\":true,\"ticks\":\"outside\"},\"bgcolor\":\"white\",\"caxis\":{\"gridcolor\":\"rgb(232,232,232)\",\"linecolor\":\"rgb(36,36,36)\",\"showgrid\":false,\"showline\":true,\"ticks\":\"outside\"}},\"title\":{\"x\":0.05},\"xaxis\":{\"automargin\":true,\"gridcolor\":\"rgb(232,232,232)\",\"linecolor\":\"rgb(36,36,36)\",\"showgrid\":false,\"showline\":true,\"ticks\":\"outside\",\"title\":{\"standoff\":15},\"zeroline\":false,\"zerolinecolor\":\"rgb(36,36,36)\"},\"yaxis\":{\"automargin\":true,\"gridcolor\":\"rgb(232,232,232)\",\"linecolor\":\"rgb(36,36,36)\",\"showgrid\":false,\"showline\":true,\"ticks\":\"outside\",\"title\":{\"standoff\":15},\"zeroline\":false,\"zerolinecolor\":\"rgb(36,36,36)\"}}},\"xaxis\":{\"anchor\":\"y\",\"domain\":[0.0,1.0],\"title\":{\"text\":\"x\"}},\"yaxis\":{\"anchor\":\"x\",\"domain\":[0.0,1.0],\"title\":{\"text\":\"y\"}}},                        {\"responsive\": true}                    ).then(function(){\n",
       "                            \n",
       "var gd = document.getElementById('34b1cba2-e6c4-412e-8c6c-97d60fefec65');\n",
       "var x = new MutationObserver(function (mutations, observer) {{\n",
       "        var display = window.getComputedStyle(gd).display;\n",
       "        if (!display || display === 'none') {{\n",
       "            console.log([gd, 'removed!']);\n",
       "            Plotly.purge(gd);\n",
       "            observer.disconnect();\n",
       "        }}\n",
       "}});\n",
       "\n",
       "// Listen for the removal of the full notebook cells\n",
       "var notebookContainer = gd.closest('#notebook-container');\n",
       "if (notebookContainer) {{\n",
       "    x.observe(notebookContainer, {childList: true});\n",
       "}}\n",
       "\n",
       "// Listen for the clearing of the current output cell\n",
       "var outputEl = gd.closest('.output');\n",
       "if (outputEl) {{\n",
       "    x.observe(outputEl, {childList: true});\n",
       "}}\n",
       "\n",
       "                        })                };                });            </script>        </div>"
      ]
     },
     "metadata": {},
     "output_type": "display_data"
    }
   ],
   "source": [
    "feature_group = 'sur'\n",
    "df = features_dict[feature_group].set_index(metascripts['description']).merge(descom_df.set_index('description'), left_index = True, right_index = True)\n",
    "X = df.drop(columns = 'community')\n",
    "scaled = StandardScaler().fit_transform(X)\n",
    "pca = PCA()\n",
    "feature_group_pca = pca.fit_transform(X)\n",
    "px.scatter(x = feature_group_pca[:,1],\n",
    "          y = feature_group_pca[:,2],\n",
    "          color = df['community'].astype(str),\n",
    "          hover_data = [df.index],\n",
    "          template = 'simple_white')"
   ]
  },
  {
   "cell_type": "code",
   "execution_count": 661,
   "metadata": {},
   "outputs": [
    {
     "data": {
      "text/html": [
       "<div>\n",
       "<style scoped>\n",
       "    .dataframe tbody tr th:only-of-type {\n",
       "        vertical-align: middle;\n",
       "    }\n",
       "\n",
       "    .dataframe tbody tr th {\n",
       "        vertical-align: top;\n",
       "    }\n",
       "\n",
       "    .dataframe thead th {\n",
       "        text-align: right;\n",
       "    }\n",
       "</style>\n",
       "<table border=\"1\" class=\"dataframe\">\n",
       "  <thead>\n",
       "    <tr style=\"text-align: right;\">\n",
       "      <th></th>\n",
       "      <th>description</th>\n",
       "      <th>coefficient</th>\n",
       "    </tr>\n",
       "  </thead>\n",
       "  <tbody>\n",
       "    <tr>\n",
       "      <th>4</th>\n",
       "      <td>words per minute</td>\n",
       "      <td>0.994251</td>\n",
       "    </tr>\n",
       "    <tr>\n",
       "      <th>5</th>\n",
       "      <td>sentences per minute</td>\n",
       "      <td>0.104801</td>\n",
       "    </tr>\n",
       "    <tr>\n",
       "      <th>0</th>\n",
       "      <td>unique words</td>\n",
       "      <td>0.020269</td>\n",
       "    </tr>\n",
       "    <tr>\n",
       "      <th>6</th>\n",
       "      <td>threepeat proportions</td>\n",
       "      <td>-0.000017</td>\n",
       "    </tr>\n",
       "    <tr>\n",
       "      <th>2</th>\n",
       "      <td>proportion unique words</td>\n",
       "      <td>-0.000071</td>\n",
       "    </tr>\n",
       "    <tr>\n",
       "      <th>3</th>\n",
       "      <td>unique words per sentence</td>\n",
       "      <td>-0.000437</td>\n",
       "    </tr>\n",
       "    <tr>\n",
       "      <th>1</th>\n",
       "      <td>total words</td>\n",
       "      <td>-0.008415</td>\n",
       "    </tr>\n",
       "  </tbody>\n",
       "</table>\n",
       "</div>"
      ],
      "text/plain": [
       "                 description  coefficient\n",
       "4           words per minute     0.994251\n",
       "5       sentences per minute     0.104801\n",
       "0               unique words     0.020269\n",
       "6      threepeat proportions    -0.000017\n",
       "2    proportion unique words    -0.000071\n",
       "3  unique words per sentence    -0.000437\n",
       "1                total words    -0.008415"
      ]
     },
     "execution_count": 661,
     "metadata": {},
     "output_type": "execute_result"
    }
   ],
   "source": [
    "component_num = 2\n",
    "\n",
    "components = pd.DataFrame({\n",
    "    'description': pca.feature_names_in_,\n",
    "    'coefficient': pca.components_[component_num]\n",
    "})\n",
    "\n",
    "components.sort_values('coefficient', ascending=False)"
   ]
  },
  {
   "cell_type": "markdown",
   "metadata": {},
   "source": [
    "## create dataframe for each feature group similarity for each pair of shows"
   ]
  },
  {
   "cell_type": "code",
   "execution_count": 663,
   "metadata": {},
   "outputs": [
    {
     "data": {
      "text/plain": [
       "dict_keys(['metadata', 'pos_props', 'pov_props', 'word_sentence_lengths', 'profanity', 'sentiment', 'sur', 'bow'])"
      ]
     },
     "execution_count": 663,
     "metadata": {},
     "output_type": "execute_result"
    }
   ],
   "source": [
    "feature_cosims_dict.keys()"
   ]
  },
  {
   "cell_type": "code",
   "execution_count": 582,
   "metadata": {},
   "outputs": [],
   "source": [
    "all_features = pd.DataFrame()"
   ]
  },
  {
   "cell_type": "code",
   "execution_count": 583,
   "metadata": {
    "scrolled": false
   },
   "outputs": [],
   "source": [
    "for feature_group in feature_cosims_dict.keys():\n",
    "    try:\n",
    "        features = (feature_cosims_dict[feature_group]\n",
    "                            .set_index(metascripts['description'])\n",
    "                            .melt(var_name = 'description comparison', \n",
    "                                    value_name = f'{feature_group} similarity', \n",
    "                                    ignore_index = False)\n",
    "                                .reset_index()\n",
    "                                .rename(columns = {'description': 'description selection'})\n",
    "                    )\n",
    "        all_features = all_features.merge(features)\n",
    "    except:\n",
    "        all_features = (feature_cosims_dict[feature_group]\n",
    "                            .set_index(metascripts['description'])\n",
    "                            .melt(var_name = 'description comparison', \n",
    "                                    value_name = f'{feature_group} similarity', \n",
    "                                    ignore_index = False)\n",
    "                                .reset_index()\n",
    "                                .rename(columns = {'description': 'description selection'})\n",
    "                    )"
   ]
  },
  {
   "cell_type": "code",
   "execution_count": 584,
   "metadata": {},
   "outputs": [],
   "source": [
    "all_features['mean similarity'] = all_features.mean(axis = 1)"
   ]
  },
  {
   "cell_type": "code",
   "execution_count": 590,
   "metadata": {},
   "outputs": [
    {
     "data": {
      "text/html": [
       "<div>\n",
       "<style scoped>\n",
       "    .dataframe tbody tr th:only-of-type {\n",
       "        vertical-align: middle;\n",
       "    }\n",
       "\n",
       "    .dataframe tbody tr th {\n",
       "        vertical-align: top;\n",
       "    }\n",
       "\n",
       "    .dataframe thead th {\n",
       "        text-align: right;\n",
       "    }\n",
       "</style>\n",
       "<table border=\"1\" class=\"dataframe\">\n",
       "  <thead>\n",
       "    <tr style=\"text-align: right;\">\n",
       "      <th></th>\n",
       "      <th>description selection</th>\n",
       "      <th>description comparison</th>\n",
       "      <th>metadata similarity</th>\n",
       "      <th>pos_props similarity</th>\n",
       "      <th>pov_props similarity</th>\n",
       "      <th>word_sentence_lengths similarity</th>\n",
       "      <th>profanity similarity</th>\n",
       "      <th>sentiment similarity</th>\n",
       "      <th>sur similarity</th>\n",
       "      <th>bow similarity</th>\n",
       "      <th>mean similarity</th>\n",
       "    </tr>\n",
       "  </thead>\n",
       "  <tbody>\n",
       "    <tr>\n",
       "      <th>95788</th>\n",
       "      <td>Dave Chappelle: 8:46 – Transcript</td>\n",
       "      <td>Dave Chappelle: 8:46 – Transcript</td>\n",
       "      <td>1.000000</td>\n",
       "      <td>1.000000</td>\n",
       "      <td>1.000000</td>\n",
       "      <td>1.000000</td>\n",
       "      <td>1.000000</td>\n",
       "      <td>1.000000</td>\n",
       "      <td>1.000000</td>\n",
       "      <td>1.000000</td>\n",
       "      <td>1.000000</td>\n",
       "    </tr>\n",
       "    <tr>\n",
       "      <th>17358</th>\n",
       "      <td>Dave Chappelle: 8:46 – Transcript</td>\n",
       "      <td>Jim Norton: Monster Rain (2007) – Transcript</td>\n",
       "      <td>-0.001491</td>\n",
       "      <td>0.352629</td>\n",
       "      <td>0.990257</td>\n",
       "      <td>0.705117</td>\n",
       "      <td>0.595303</td>\n",
       "      <td>0.529058</td>\n",
       "      <td>0.583896</td>\n",
       "      <td>0.570685</td>\n",
       "      <td>0.540682</td>\n",
       "    </tr>\n",
       "    <tr>\n",
       "      <th>38438</th>\n",
       "      <td>Dave Chappelle: 8:46 – Transcript</td>\n",
       "      <td>RON WHITE: IF YOU QUIT LISTENING, I’LL SHUT UP...</td>\n",
       "      <td>-0.004067</td>\n",
       "      <td>0.741962</td>\n",
       "      <td>0.746372</td>\n",
       "      <td>0.279639</td>\n",
       "      <td>0.562586</td>\n",
       "      <td>0.693233</td>\n",
       "      <td>0.713993</td>\n",
       "      <td>0.585026</td>\n",
       "      <td>0.539843</td>\n",
       "    </tr>\n",
       "    <tr>\n",
       "      <th>61068</th>\n",
       "      <td>Dave Chappelle: 8:46 – Transcript</td>\n",
       "      <td>Dave Chappelle: Equanimity (2017) – Transcript</td>\n",
       "      <td>0.152373</td>\n",
       "      <td>0.359049</td>\n",
       "      <td>0.608664</td>\n",
       "      <td>0.789574</td>\n",
       "      <td>0.517559</td>\n",
       "      <td>0.351492</td>\n",
       "      <td>0.819109</td>\n",
       "      <td>0.647235</td>\n",
       "      <td>0.530632</td>\n",
       "    </tr>\n",
       "    <tr>\n",
       "      <th>60758</th>\n",
       "      <td>Dave Chappelle: 8:46 – Transcript</td>\n",
       "      <td>Dave Chappelle: The Bird Revelation (2017) – T...</td>\n",
       "      <td>0.096014</td>\n",
       "      <td>0.481987</td>\n",
       "      <td>0.999951</td>\n",
       "      <td>0.258119</td>\n",
       "      <td>0.585456</td>\n",
       "      <td>0.289099</td>\n",
       "      <td>0.867569</td>\n",
       "      <td>0.598771</td>\n",
       "      <td>0.522121</td>\n",
       "    </tr>\n",
       "    <tr>\n",
       "      <th>25418</th>\n",
       "      <td>Dave Chappelle: 8:46 – Transcript</td>\n",
       "      <td>Dave Chappelle: Sticks &amp; Stones (2019) – Trans...</td>\n",
       "      <td>0.018200</td>\n",
       "      <td>0.530608</td>\n",
       "      <td>0.925894</td>\n",
       "      <td>0.079403</td>\n",
       "      <td>0.508017</td>\n",
       "      <td>0.666506</td>\n",
       "      <td>0.625626</td>\n",
       "      <td>0.629758</td>\n",
       "      <td>0.498002</td>\n",
       "    </tr>\n",
       "  </tbody>\n",
       "</table>\n",
       "</div>"
      ],
      "text/plain": [
       "                   description selection  \\\n",
       "95788  Dave Chappelle: 8:46 – Transcript   \n",
       "17358  Dave Chappelle: 8:46 – Transcript   \n",
       "38438  Dave Chappelle: 8:46 – Transcript   \n",
       "61068  Dave Chappelle: 8:46 – Transcript   \n",
       "60758  Dave Chappelle: 8:46 – Transcript   \n",
       "25418  Dave Chappelle: 8:46 – Transcript   \n",
       "\n",
       "                                  description comparison  metadata similarity  \\\n",
       "95788                  Dave Chappelle: 8:46 – Transcript             1.000000   \n",
       "17358       Jim Norton: Monster Rain (2007) – Transcript            -0.001491   \n",
       "38438  RON WHITE: IF YOU QUIT LISTENING, I’LL SHUT UP...            -0.004067   \n",
       "61068     Dave Chappelle: Equanimity (2017) – Transcript             0.152373   \n",
       "60758  Dave Chappelle: The Bird Revelation (2017) – T...             0.096014   \n",
       "25418  Dave Chappelle: Sticks & Stones (2019) – Trans...             0.018200   \n",
       "\n",
       "       pos_props similarity  pov_props similarity  \\\n",
       "95788              1.000000              1.000000   \n",
       "17358              0.352629              0.990257   \n",
       "38438              0.741962              0.746372   \n",
       "61068              0.359049              0.608664   \n",
       "60758              0.481987              0.999951   \n",
       "25418              0.530608              0.925894   \n",
       "\n",
       "       word_sentence_lengths similarity  profanity similarity  \\\n",
       "95788                          1.000000              1.000000   \n",
       "17358                          0.705117              0.595303   \n",
       "38438                          0.279639              0.562586   \n",
       "61068                          0.789574              0.517559   \n",
       "60758                          0.258119              0.585456   \n",
       "25418                          0.079403              0.508017   \n",
       "\n",
       "       sentiment similarity  sur similarity  bow similarity  mean similarity  \n",
       "95788              1.000000        1.000000        1.000000         1.000000  \n",
       "17358              0.529058        0.583896        0.570685         0.540682  \n",
       "38438              0.693233        0.713993        0.585026         0.539843  \n",
       "61068              0.351492        0.819109        0.647235         0.530632  \n",
       "60758              0.289099        0.867569        0.598771         0.522121  \n",
       "25418              0.666506        0.625626        0.629758         0.498002  "
      ]
     },
     "execution_count": 590,
     "metadata": {},
     "output_type": "execute_result"
    }
   ],
   "source": [
    "all_features[all_features['description selection'] == 'Dave Chappelle: 8:46 – Transcript'].nlargest(6, 'mean similarity')"
   ]
  },
  {
   "cell_type": "code",
   "execution_count": 593,
   "metadata": {},
   "outputs": [],
   "source": [
    "metacols = ['description', 'link', 'script characters', 'id',\n",
    "           'artist', 'title', 'fullTitle', 'year', 'image', 'releaseDate',\n",
    "           'runtimeMins', 'runtimeStr', 'awards', 'genres',\n",
    "           'companies', 'contentRating', 'imDbRating',\n",
    "           'imDbRatingVotes', 'similars', 'languages']\n",
    "\n",
    "metacosims = (all_features\n",
    "                .merge(metascripts[metacols].drop(columns = 'similars'),\n",
    "                       left_on = 'description selection',\n",
    "                       right_on = 'description')\n",
    "                .drop(columns = 'description')\n",
    "                .merge(metascripts[metacols].drop(columns = 'similars'), \n",
    "                       left_on = 'description comparison', \n",
    "                       right_on = 'description',\n",
    "                       suffixes = (\" selection\", \" comparison\"))\n",
    "    )\n",
    "\n",
    "keepind = [ind for ind, col in enumerate(metacosims.columns) if ind != 1]\n",
    "metacosims = metacosims.iloc[:, keepind]"
   ]
  },
  {
   "cell_type": "code",
   "execution_count": 598,
   "metadata": {},
   "outputs": [
    {
     "name": "stderr",
     "output_type": "stream",
     "text": [
      "C:\\Users\\jrior\\anaconda3\\lib\\site-packages\\pandas\\core\\generic.py:2779: UserWarning:\n",
      "\n",
      "The spaces in these column names will not be changed. In pandas versions < 0.14, spaces were converted to underscores.\n",
      "\n"
     ]
    }
   ],
   "source": [
    "with sqlite3.connect('../StandupRecommenderShiny/data/metacosims_recommender.sqlite') as db:\n",
    "     metacosims.to_sql('metacosims', db, if_exists = 'append', index = False)"
   ]
  },
  {
   "cell_type": "code",
   "execution_count": 629,
   "metadata": {},
   "outputs": [],
   "source": [
    "graph_df_all_features = (all_features.loc[all_features['mean similarity'] < 0.99999]\n",
    "                            .sort_values(['mean similarity', 'description selection', 'description comparison'], ascending = [False, True, True])\n",
    "                            .drop_duplicates(subset = 'mean similarity', keep = 'first')\n",
    "        )\n",
    "graph_df_all_features.to_csv('../data/graph_df_all_features.csv', index = False)"
   ]
  },
  {
   "cell_type": "markdown",
   "metadata": {},
   "source": [
    "## explore feature similarities"
   ]
  },
  {
   "cell_type": "code",
   "execution_count": 670,
   "metadata": {},
   "outputs": [
    {
     "data": {
      "text/html": [
       "<div>\n",
       "<style scoped>\n",
       "    .dataframe tbody tr th:only-of-type {\n",
       "        vertical-align: middle;\n",
       "    }\n",
       "\n",
       "    .dataframe tbody tr th {\n",
       "        vertical-align: top;\n",
       "    }\n",
       "\n",
       "    .dataframe thead th {\n",
       "        text-align: right;\n",
       "    }\n",
       "</style>\n",
       "<table border=\"1\" class=\"dataframe\">\n",
       "  <thead>\n",
       "    <tr style=\"text-align: right;\">\n",
       "      <th></th>\n",
       "      <th>description selection</th>\n",
       "      <th>description comparison</th>\n",
       "      <th>metadata similarity</th>\n",
       "      <th>pos_props similarity</th>\n",
       "      <th>pov_props similarity</th>\n",
       "      <th>word_sentence_lengths similarity</th>\n",
       "      <th>profanity similarity</th>\n",
       "      <th>sentiment similarity</th>\n",
       "      <th>sur similarity</th>\n",
       "      <th>bow similarity</th>\n",
       "      <th>mean similarity</th>\n",
       "    </tr>\n",
       "  </thead>\n",
       "  <tbody>\n",
       "    <tr>\n",
       "      <th>33444</th>\n",
       "      <td>AMY SCHUMER: THE LEATHER SPECIAL (2017) – Full...</td>\n",
       "      <td>Amy Schumer: Growing (2019) – Full Transcript</td>\n",
       "      <td>0.771152</td>\n",
       "      <td>0.875391</td>\n",
       "      <td>0.941863</td>\n",
       "      <td>0.890914</td>\n",
       "      <td>0.921391</td>\n",
       "      <td>0.884636</td>\n",
       "      <td>0.983386</td>\n",
       "      <td>0.918217</td>\n",
       "      <td>0.898369</td>\n",
       "    </tr>\n",
       "    <tr>\n",
       "      <th>22818</th>\n",
       "      <td>MICHELLE WOLF: NICE LADY (2017) – Full Transcript</td>\n",
       "      <td>Michelle Wolf: Joke Show (2019) – Full Transcript</td>\n",
       "      <td>0.993647</td>\n",
       "      <td>0.911067</td>\n",
       "      <td>0.684838</td>\n",
       "      <td>0.953441</td>\n",
       "      <td>0.980728</td>\n",
       "      <td>0.709517</td>\n",
       "      <td>0.914405</td>\n",
       "      <td>0.883013</td>\n",
       "      <td>0.878832</td>\n",
       "    </tr>\n",
       "    <tr>\n",
       "      <th>78247</th>\n",
       "      <td>Joe Rogan: Strange Times (2018) – Full Transcript</td>\n",
       "      <td>Joe Rogan: Triggered (2016) – Transcript</td>\n",
       "      <td>0.999781</td>\n",
       "      <td>0.699512</td>\n",
       "      <td>0.864862</td>\n",
       "      <td>0.677203</td>\n",
       "      <td>0.994301</td>\n",
       "      <td>0.903583</td>\n",
       "      <td>0.808753</td>\n",
       "      <td>0.854879</td>\n",
       "      <td>0.850359</td>\n",
       "    </tr>\n",
       "    <tr>\n",
       "      <th>56894</th>\n",
       "      <td>Eddie Izzard – Glorious (1997) – Transcript</td>\n",
       "      <td>Eddie Izzard: Dress To Kill (1999) – Transcript</td>\n",
       "      <td>0.991747</td>\n",
       "      <td>0.902456</td>\n",
       "      <td>0.999804</td>\n",
       "      <td>0.671641</td>\n",
       "      <td>0.885147</td>\n",
       "      <td>0.937691</td>\n",
       "      <td>0.668950</td>\n",
       "      <td>0.733113</td>\n",
       "      <td>0.848819</td>\n",
       "    </tr>\n",
       "    <tr>\n",
       "      <th>44628</th>\n",
       "      <td>JIM JEFFERIES: FREEDUMB (2016) – Full Transcript</td>\n",
       "      <td>JIM JEFFERIES: THIS IS ME NOW (2018) – Full tr...</td>\n",
       "      <td>0.960751</td>\n",
       "      <td>0.764876</td>\n",
       "      <td>0.999999</td>\n",
       "      <td>0.831150</td>\n",
       "      <td>0.935880</td>\n",
       "      <td>0.818476</td>\n",
       "      <td>0.534409</td>\n",
       "      <td>0.839531</td>\n",
       "      <td>0.835634</td>\n",
       "    </tr>\n",
       "    <tr>\n",
       "      <th>...</th>\n",
       "      <td>...</td>\n",
       "      <td>...</td>\n",
       "      <td>...</td>\n",
       "      <td>...</td>\n",
       "      <td>...</td>\n",
       "      <td>...</td>\n",
       "      <td>...</td>\n",
       "      <td>...</td>\n",
       "      <td>...</td>\n",
       "      <td>...</td>\n",
       "      <td>...</td>\n",
       "    </tr>\n",
       "    <tr>\n",
       "      <th>58273</th>\n",
       "      <td>George Carlin: Jamming in New York (1992) – Tr...</td>\n",
       "      <td>Tom Segura: Disgraceful (2018) – Transcript</td>\n",
       "      <td>-0.091174</td>\n",
       "      <td>-0.761736</td>\n",
       "      <td>-0.984069</td>\n",
       "      <td>-0.916358</td>\n",
       "      <td>-0.967245</td>\n",
       "      <td>-0.663716</td>\n",
       "      <td>-0.849553</td>\n",
       "      <td>0.614105</td>\n",
       "      <td>-0.577468</td>\n",
       "    </tr>\n",
       "    <tr>\n",
       "      <th>46882</th>\n",
       "      <td>Kevin Bridges: The Story Continues (2012) – Fu...</td>\n",
       "      <td>NIKKI GLASER: PERFECT (2016) – Full Transcript</td>\n",
       "      <td>-0.121794</td>\n",
       "      <td>-0.850130</td>\n",
       "      <td>-0.998799</td>\n",
       "      <td>-0.889890</td>\n",
       "      <td>-0.892360</td>\n",
       "      <td>-0.651469</td>\n",
       "      <td>-0.556125</td>\n",
       "      <td>0.328521</td>\n",
       "      <td>-0.579006</td>\n",
       "    </tr>\n",
       "    <tr>\n",
       "      <th>61873</th>\n",
       "      <td>Eddie Izzard: Dress To Kill (1999) – Transcript</td>\n",
       "      <td>WHITNEY CUMMINGS: I LOVE YOU (2014) – Full Tra...</td>\n",
       "      <td>-0.139609</td>\n",
       "      <td>-0.647851</td>\n",
       "      <td>-0.853549</td>\n",
       "      <td>-0.782621</td>\n",
       "      <td>-0.923322</td>\n",
       "      <td>-0.869197</td>\n",
       "      <td>-0.916330</td>\n",
       "      <td>0.478036</td>\n",
       "      <td>-0.581805</td>\n",
       "    </tr>\n",
       "    <tr>\n",
       "      <th>41598</th>\n",
       "      <td>Chris D’Elia: Man on Fire (2017) – Full Transc...</td>\n",
       "      <td>Rowan Atkinson Live (1992) – Transcript</td>\n",
       "      <td>-0.036335</td>\n",
       "      <td>-0.710092</td>\n",
       "      <td>-0.984481</td>\n",
       "      <td>-0.886327</td>\n",
       "      <td>-0.987176</td>\n",
       "      <td>-0.663465</td>\n",
       "      <td>-0.873841</td>\n",
       "      <td>0.436208</td>\n",
       "      <td>-0.588189</td>\n",
       "    </tr>\n",
       "    <tr>\n",
       "      <th>24560</th>\n",
       "      <td>Kevin Bridges: A Whole Different Story (2015) ...</td>\n",
       "      <td>Nikki Glaser: Bangin’ (2019) – Full Transcript</td>\n",
       "      <td>-0.000162</td>\n",
       "      <td>-0.855774</td>\n",
       "      <td>-0.999875</td>\n",
       "      <td>-0.838673</td>\n",
       "      <td>-0.937061</td>\n",
       "      <td>-0.885829</td>\n",
       "      <td>-0.639548</td>\n",
       "      <td>0.323440</td>\n",
       "      <td>-0.604185</td>\n",
       "    </tr>\n",
       "  </tbody>\n",
       "</table>\n",
       "<p>47895 rows × 11 columns</p>\n",
       "</div>"
      ],
      "text/plain": [
       "                                   description selection  \\\n",
       "33444  AMY SCHUMER: THE LEATHER SPECIAL (2017) – Full...   \n",
       "22818  MICHELLE WOLF: NICE LADY (2017) – Full Transcript   \n",
       "78247  Joe Rogan: Strange Times (2018) – Full Transcript   \n",
       "56894        Eddie Izzard – Glorious (1997) – Transcript   \n",
       "44628   JIM JEFFERIES: FREEDUMB (2016) – Full Transcript   \n",
       "...                                                  ...   \n",
       "58273  George Carlin: Jamming in New York (1992) – Tr...   \n",
       "46882  Kevin Bridges: The Story Continues (2012) – Fu...   \n",
       "61873    Eddie Izzard: Dress To Kill (1999) – Transcript   \n",
       "41598  Chris D’Elia: Man on Fire (2017) – Full Transc...   \n",
       "24560  Kevin Bridges: A Whole Different Story (2015) ...   \n",
       "\n",
       "                                  description comparison  metadata similarity  \\\n",
       "33444      Amy Schumer: Growing (2019) – Full Transcript             0.771152   \n",
       "22818  Michelle Wolf: Joke Show (2019) – Full Transcript             0.993647   \n",
       "78247           Joe Rogan: Triggered (2016) – Transcript             0.999781   \n",
       "56894    Eddie Izzard: Dress To Kill (1999) – Transcript             0.991747   \n",
       "44628  JIM JEFFERIES: THIS IS ME NOW (2018) – Full tr...             0.960751   \n",
       "...                                                  ...                  ...   \n",
       "58273        Tom Segura: Disgraceful (2018) – Transcript            -0.091174   \n",
       "46882     NIKKI GLASER: PERFECT (2016) – Full Transcript            -0.121794   \n",
       "61873  WHITNEY CUMMINGS: I LOVE YOU (2014) – Full Tra...            -0.139609   \n",
       "41598            Rowan Atkinson Live (1992) – Transcript            -0.036335   \n",
       "24560     Nikki Glaser: Bangin’ (2019) – Full Transcript            -0.000162   \n",
       "\n",
       "       pos_props similarity  pov_props similarity  \\\n",
       "33444              0.875391              0.941863   \n",
       "22818              0.911067              0.684838   \n",
       "78247              0.699512              0.864862   \n",
       "56894              0.902456              0.999804   \n",
       "44628              0.764876              0.999999   \n",
       "...                     ...                   ...   \n",
       "58273             -0.761736             -0.984069   \n",
       "46882             -0.850130             -0.998799   \n",
       "61873             -0.647851             -0.853549   \n",
       "41598             -0.710092             -0.984481   \n",
       "24560             -0.855774             -0.999875   \n",
       "\n",
       "       word_sentence_lengths similarity  profanity similarity  \\\n",
       "33444                          0.890914              0.921391   \n",
       "22818                          0.953441              0.980728   \n",
       "78247                          0.677203              0.994301   \n",
       "56894                          0.671641              0.885147   \n",
       "44628                          0.831150              0.935880   \n",
       "...                                 ...                   ...   \n",
       "58273                         -0.916358             -0.967245   \n",
       "46882                         -0.889890             -0.892360   \n",
       "61873                         -0.782621             -0.923322   \n",
       "41598                         -0.886327             -0.987176   \n",
       "24560                         -0.838673             -0.937061   \n",
       "\n",
       "       sentiment similarity  sur similarity  bow similarity  mean similarity  \n",
       "33444              0.884636        0.983386        0.918217         0.898369  \n",
       "22818              0.709517        0.914405        0.883013         0.878832  \n",
       "78247              0.903583        0.808753        0.854879         0.850359  \n",
       "56894              0.937691        0.668950        0.733113         0.848819  \n",
       "44628              0.818476        0.534409        0.839531         0.835634  \n",
       "...                     ...             ...             ...              ...  \n",
       "58273             -0.663716       -0.849553        0.614105        -0.577468  \n",
       "46882             -0.651469       -0.556125        0.328521        -0.579006  \n",
       "61873             -0.869197       -0.916330        0.478036        -0.581805  \n",
       "41598             -0.663465       -0.873841        0.436208        -0.588189  \n",
       "24560             -0.885829       -0.639548        0.323440        -0.604185  \n",
       "\n",
       "[47895 rows x 11 columns]"
      ]
     },
     "execution_count": 670,
     "metadata": {},
     "output_type": "execute_result"
    }
   ],
   "source": [
    "graph_df_all_features.sort_values('mean similarity', ascending = False)"
   ]
  },
  {
   "cell_type": "markdown",
   "metadata": {},
   "source": [
    "## explore feature groups by overall community"
   ]
  },
  {
   "cell_type": "code",
   "execution_count": 673,
   "metadata": {},
   "outputs": [
    {
     "data": {
      "text/plain": [
       "dict_keys(['metadata', 'pos_props', 'pov_props', 'word_sentence_lengths', 'profanity', 'sentiment', 'sur'])"
      ]
     },
     "execution_count": 673,
     "metadata": {},
     "output_type": "execute_result"
    }
   ],
   "source": [
    "feature_mean_coms = {group: pd.concat([df, metascripts['description']], axis = 1).merge(descom_df) for group, df in features_dict.items()}\n",
    "feature_mean_coms.keys()"
   ]
  },
  {
   "cell_type": "code",
   "execution_count": 693,
   "metadata": {},
   "outputs": [
    {
     "name": "stdout",
     "output_type": "stream",
     "text": [
      "                 description   coefficient\n",
      "1                total words  9.964812e-01\n",
      "0               unique words  8.354876e-02\n",
      "4           words per minute  6.643825e-03\n",
      "5       sentences per minute  8.236408e-04\n",
      "6      threepeat proportions -2.622217e-08\n",
      "2    proportion unique words -7.207553e-06\n",
      "3  unique words per sentence -7.836074e-05 \n",
      "\n",
      "                  description  coefficient\n",
      "0               unique words     0.996292\n",
      "3  unique words per sentence     0.001235\n",
      "2    proportion unique words     0.000098\n",
      "6      threepeat proportions    -0.000004\n",
      "5       sentences per minute    -0.005413\n",
      "4           words per minute    -0.020446\n",
      "1                total words    -0.083392\n"
     ]
    },
    {
     "data": {
      "application/vnd.plotly.v1+json": {
       "config": {
        "plotlyServerURL": "https://plotly.com"
       },
       "data": [
        {
         "customdata": [
          [
           "Jim Gaffigan: Comedy Monster (2021) | Transcript"
          ],
          [
           "Kathleen Madigan: Bothering Jesus (2016) – Transcript"
          ],
          [
           "Phil Wang: Philly Philly Wang Wang (2021) – Transcript"
          ],
          [
           "Tom Papa: Freaked Out (2013) – Transcript"
          ],
          [
           "Bo Burnham: Inside (2021) – Transcript"
          ],
          [
           "Brian Regan: On The Rocks (2021) – Transcript"
          ],
          [
           "Sarah Cooper: Everything’s Fine (2020) – Transcript"
          ],
          [
           "Bo Burnham: Words, Words, Words (2010) – Transcript"
          ],
          [
           "RONNY CHIENG: ASIAN COMEDIAN DESTROYS AMERICA (2019) – TRANSCRIPT"
          ],
          [
           "Craig Ferguson: A Wee Bit o’ Revolution (2009) – Transcript"
          ],
          [
           "Jack Whitehall: I’m Only Joking (2020) | Transcript"
          ],
          [
           "ROY WOOD JR.: FATHER FIGURE (2017) – FULL TRANSCRIPT"
          ],
          [
           "BILLY CONNOLLY: HIGH HORSE TOUR LIVE (2016) – FULL TRANSCRIPT"
          ],
          [
           "Hannah Gadsby: Douglas (2020) – Transcript"
          ],
          [
           "PATTON OSWALT: I LOVE EVERYTHING (2020) – FULL TRANSCRIPT"
          ],
          [
           "LEE MACK: GOING OUT LIVE (2010) – FULL TRANSCRIPT"
          ],
          [
           "Jerry Seinfeld: 23 Hours To Kill (2020) – Transcript"
          ],
          [
           "MARIA BAMFORD: WEAKNESS IS THE BRAND (2020) – FULL TRANSCRIPT"
          ],
          [
           "Amanda Seales: I Be Knowin’ (2019) – Transcript"
          ],
          [
           "Stewart Lee: Carpet Remnant World (2012) – Full Transcript"
          ],
          [
           "Stewart Lee: Content Provider (2018) – Transcript"
          ],
          [
           "Jim Gaffigan: Quality Time (2019) – Full Transcript"
          ],
          [
           "Kevin Bridges: A Whole Different Story (2015) – Full Transcript"
          ],
          [
           "Kevin Bridges: The Story So Far… Live in Glasgow (2010) – Full Transcript"
          ],
          [
           "Kevin Bridges: The Story Continues (2012) – Full Transcript"
          ],
          [
           "Mike Birbiglia: The New One (2019) – Full Transcript"
          ],
          [
           "Iliza Shlesinger: Unveiled (2019) – Full Transcript"
          ],
          [
           "David Cross: Oh Come On (2019) – Full Transcript"
          ],
          [
           "Colin Quinn: The New York Story (2016) – Full Transcript"
          ],
          [
           "George Carlin: What Am I Doing in New Jersey? (1988) – Full Transcript"
          ],
          [
           "Roy Wood Jr.: No One Loves You (2019) – Transcript"
          ],
          [
           "Jimmy Carr: The Best of Ultimate Gold Greatest Hits (2019) – Full Transcript"
          ],
          [
           "W. Kamau Bell: Private School Negro (2018) – Transcript"
          ],
          [
           "Sebastian Maniscalco: Aren’t You Embarrassed? (2014) – Full Transcript"
          ],
          [
           "Sebastian Maniscalco: What’s Wrong with People? (2012) – Full Transcript"
          ],
          [
           "Oh, Hello On Broadway (2017) – Transcript"
          ],
          [
           "Vir Das: Losing It (2018) – Full Transcript"
          ],
          [
           "Jeff Foxworthy & Larry the Cable Guy: We’ve Been Thinking (2016) – Full Transcript"
          ],
          [
           "Jeff Foxworthy: Totally Committed (1998) – Full Transcript"
          ],
          [
           "BILL MAHER: LIVE FROM OKLAHOMA (2018) – Full Transcript"
          ],
          [
           "Rowan Atkinson Live (1992) – Transcript"
          ],
          [
           "Iliza Shlesinger: Confirmed Kills (2016) – Full Transcript"
          ],
          [
           "JIM GAFFIGAN: NOBLE APE (2018) – Full Transcript"
          ],
          [
           "Hannah Gadsby: Nanette (2018) – Transcript"
          ],
          [
           "RICKY GERVAIS: LIVE IV – SCIENCE (2010) – Full Transcript"
          ],
          [
           "RON WHITE: A LITTLE UNPROFESSIONAL (2012) – Full Transcript"
          ],
          [
           "Ali Wong: Hard Knock Wife (2018) – Transcript"
          ],
          [
           "John Mulaney: Kid Gorgeous At Radio City (2018) – Transcript"
          ],
          [
           "George Carlin: You Are All Diseased (1999) – Transcript"
          ],
          [
           "RICKY GERVAIS: HUMANITY (2018) – Full Transcript"
          ],
          [
           "ADEL KARAM: LIVE FROM BEIRUT (2018) – Full Transcript"
          ],
          [
           "STEWART LEE: 90s COMEDIAN (2006) – Full Transcript"
          ],
          [
           "DAVE ATTELL: ROAD WORK (2014) – Full Transcript"
          ],
          [
           "Eddie Izzard – Glorious (1997) – Transcript"
          ],
          [
           "FRED ARMISEN: STANDUP FOR DRUMMERS (2018) – Full Transcript"
          ],
          [
           "DANA CARVEY: STRAIGHT WHITE MALE, 60 (2016) – Full Transcript"
          ],
          [
           "EDDIE IZZARD: STRIPPED (2009) – Full Transcript"
          ],
          [
           "BRIAN REGAN: STANDING UP (2007) – Full Transcript"
          ],
          [
           "BRIAN REGAN: NUNCHUCKS AND FLAMETHROWERS (2017) – Full Transcript"
          ],
          [
           "Eddie Izzard: Unrepeatable (1994) | Transcript"
          ],
          [
           "Stewart Lee: Stand-Up Comedian (2005) – Transcript"
          ],
          [
           "JIMMY CARR: FUNNY BUSINESS (2016) – Full Transcript"
          ],
          [
           "Eddie Izzard: Dress To Kill (1999) – Transcript"
          ],
          [
           "FAHIM ANWAR: THERE’S NO BUSINESS LIKE SHOW BUSINESS (2017) – Transcript"
          ],
          [
           "MAZ JOBRANI: IMMIGRANT (2017) – Full Transcript"
          ],
          [
           "TODD BARRY: SPICY HONEY (2017) – Full Transcript"
          ],
          [
           "Jerry Seinfeld: I’m Telling You for the Last Time (1998) – Transcript"
          ],
          [
           "RICKY GERVAIS LIVE 2: POLITICS (2004) – Full Transcript"
          ],
          [
           "CHRISTINA PAZSITZKY: MOTHER INFERIOR (2017) – FULL TRANSCRIPT"
          ],
          [
           "Jack Whitehall: At Large (2017) – Transcript"
          ],
          [
           "JUDAH FRIEDLANDER: AMERICA IS THE GREATEST COUNTRY IN THE UNITED STATES (2017) – Full Transcript"
          ],
          [
           "PATTON OSWALT: ANNIHILATION (2017) – Full Transcript"
          ],
          [
           "BILL MAHER: LIVE FROM D.C. (2014) – Full Transcript"
          ],
          [
           "Pablo Francisco: Ouch! Live From San Jose (2006) – Full Transcript"
          ],
          [
           "BILL MAHER… BUT I’M NOT WRONG (2010) – Full Transcript"
          ],
          [
           "RUSSELL BRAND: MESSIAH COMPLEX (2013) – Full Transcript"
          ],
          [
           "AL MADRIGAL: WHY IS THE RABBIT CRYING? (2013) – Full Transcript"
          ],
          [
           "NEAL BRENNAN: 3 MICS (2017)- FULL TRANSCRIPT"
          ],
          [
           "John Mulaney: New In Town (2012) – Transcript"
          ],
          [
           "ALI WONG: BABY COBRA (2016) – Full Transcript"
          ],
          [
           "Dylan Moran: Off The Hook (2015) – Transcript"
          ],
          [
           "Hannibal Buress: Comedy Camisado (2016) – Transcript"
          ],
          [
           "Neal Brennan: Women And Black Dudes (2014) – Transcript"
          ],
          [
           "NICK OFFERMAN: AMERICAN HAM (2014) – Full Transcript"
          ],
          [
           "Bo Burnham: What (2013) – Transcript"
          ],
          [
           "John Mulaney: The Comeback Kid (2015) – Transcript"
          ],
          [
           "LEWIS BLACK: BLACK TO THE FUTURE (2016) – Full Transcript"
          ],
          [
           "Mike Birbiglia: Thank God for Jokes (2017) – Transcript"
          ],
          [
           "GEORGE CARLIN: PLAYING WITH YOUR HEAD (1986) – Full Transcript"
          ],
          [
           "GEORGE CARLIN: CARLIN ON CAMPUS (1984) – Full Transcript"
          ],
          [
           "RICKY GERVAIS: OUT OF ENGLAND 2 (2010) – Full Transcript"
          ],
          [
           "JIM GAFFIGAN: CINCO (2017) – Full Transcript"
          ],
          [
           "BILL HICKS: RELENTLESS (1991) – Transcript"
          ],
          [
           "Daniel Tosh: Happy Thoughts (2011) – Transcript"
          ],
          [
           "George Carlin: Jamming in New York (1992) – Transcript"
          ],
          [
           "GEORGE CARLIN: COMPLAINTS AND GRIEVANCES (2001) – FULL TRANSCRIPT"
          ],
          [
           "GEORGE CARLIN: LIFE IS WORTH LOSING (2006) – Transcript"
          ],
          [
           "Dave Chappelle: 8:46 – Transcript"
          ]
         ],
         "hovertemplate": "color=2<br>x=%{x}<br>y=%{y}<br>hover_data_0=%{customdata[0]}<extra></extra>",
         "legendgroup": "2",
         "marker": {
          "color": "#1F77B4",
          "symbol": "circle"
         },
         "mode": "markers",
         "name": "2",
         "orientation": "v",
         "showlegend": true,
         "type": "scatter",
         "x": [
          63.040626666034505,
          1671.7745882382196,
          -1333.415627201092,
          -578.4441899327845,
          -1507.7124645396627,
          -3476.054634454728,
          -2531.2533464806565,
          -1529.7119495360218,
          -472.3082017482068,
          1675.6103655473144,
          -1256.855710311219,
          -3148.271129966214,
          3420.4605556802667,
          1906.2907202216895,
          -637.1903951253701,
          -451.05337152343714,
          -1206.8124715324245,
          -724.7925152895708,
          -4451.81244403037,
          5752.460496461048,
          7369.18170742533,
          1536.0786649165123,
          -1012.7453921619914,
          -703.3712189410026,
          202.37679523890966,
          1728.6152440423907,
          1438.0571945337133,
          1383.9939687636675,
          1523.7678665583317,
          -2247.240955629791,
          -505.08857229465735,
          -829.0104209383608,
          839.0667191633524,
          -2594.2650961422028,
          -909.9688477628441,
          3008.5900451333555,
          -1529.376207546536,
          2193.6082590693936,
          -1808.5958423793438,
          -1780.414980642241,
          -6024.082371755586,
          2152.2672080119128,
          883.1338796107124,
          -559.9866296099632,
          3927.5866342291656,
          667.593582400815,
          -2919.8789455920337,
          -354.56092884937766,
          -243.06632997343442,
          1607.4397715131533,
          -2707.451072004712,
          1199.691445982699,
          -3122.255354847479,
          2897.5216942663637,
          -2122.1504893032466,
          -1612.8859940969962,
          5350.989158569894,
          -4688.937866579227,
          -2612.94413835424,
          2093.453214938224,
          1834.6856444581824,
          464.2234435606302,
          4605.917122418725,
          -3732.8902428204296,
          476.64186569390233,
          -1620.256263824711,
          -506.7602508810625,
          -211.30270677291287,
          -2859.605289378686,
          -111.06138851858532,
          1395.0158686961406,
          65.1765536219455,
          -1519.5036174480094,
          -2804.318703673814,
          649.0021292379656,
          3380.7032984387647,
          876.1955464627133,
          -140.91386827950757,
          397.85955106808234,
          -1915.336343103153,
          3161.2033476318434,
          997.6967308186863,
          -1047.2574394488802,
          -119.73469484951163,
          -2769.172724997162,
          4.505498647793261,
          -4465.477818936251,
          -600.9766129748552,
          -1432.0519055341133,
          -1352.7398324858161,
          2180.840180398132,
          835.6432717532473,
          -2420.224226346285,
          -3407.841753343198,
          -1021.8724709680129,
          -1161.4525776429498,
          3054.699726717001,
          -6172.004728904504
         ],
         "xaxis": "x",
         "y": [
          117.81407470351,
          58.04932476126609,
          206.69928857164388,
          173.25160370405828,
          58.5222824346917,
          110.56415660928435,
          149.13040735801306,
          463.0273721015345,
          63.103259476321966,
          -14.16459361055192,
          340.48783339251634,
          -147.04210968251567,
          223.12547844764197,
          30.348471140612972,
          120.25889217971502,
          126.89756332731214,
          183.9023471317407,
          345.624795076009,
          60.197797887324,
          151.6092480072988,
          175.54410407860618,
          163.8858597203231,
          335.9645564846148,
          258.4317034885526,
          295.8324788694433,
          115.98080152786166,
          204.35044900586826,
          168.44777444424156,
          229.5191118597517,
          127.85106354317354,
          -76.64206765017346,
          116.95830011027,
          -47.911271625467236,
          -36.54799755664083,
          -79.25752085684492,
          458.5248901187236,
          180.11019966660754,
          189.94666236777402,
          79.7713337947599,
          202.16251746783396,
          123.92595130285423,
          307.91178559915255,
          134.88398783731395,
          119.89471692589103,
          94.00948966170213,
          104.3470472589597,
          365.0585030942033,
          79.39562668101,
          499.47413105426887,
          141.9882320461099,
          24.92834469041345,
          100.59259552908571,
          9.708602345889133,
          186.84969277345405,
          -67.10744631963745,
          213.13111790315685,
          316.2364783273623,
          32.95394289215814,
          87.33871804302602,
          36.839470000386655,
          290.4041285494131,
          136.9376083538291,
          575.6466751148338,
          29.04433397157271,
          -174.72413851038604,
          136.3187156715592,
          85.56231901166936,
          160.80793861692217,
          221.37042727360773,
          290.7924775919528,
          266.30294689506167,
          118.46449793990668,
          189.10983150497748,
          19.08625864037161,
          368.8788734936923,
          503.4779829519216,
          228.04276010500536,
          173.84977540196186,
          27.006619957572667,
          172.19423851596324,
          216.2195784680173,
          75.90296438739563,
          40.073688758690615,
          476.5302715786964,
          198.72451655222093,
          52.10517443382833,
          26.827151668419052,
          62.19569859304912,
          11.193574298615701,
          155.012070543119,
          37.45592086558504,
          164.44319821306829,
          183.56637074748073,
          230.3459721102526,
          270.6530129881945,
          352.37680644021697,
          549.0500895926957,
          -90.70493021118442
         ],
         "yaxis": "y"
        },
        {
         "customdata": [
          [
           "Louis C. K.: Sorry (2021) | Transcript"
          ],
          [
           "Mo Amer: Mohammed in Texas (2021) | Transcript"
          ],
          [
           "Dave Chappelle: The Closer (2021) | Transcript"
          ],
          [
           "Doug Stanhope: Beer Hall Putsch (2013) – Transcript"
          ],
          [
           "Chris Rock Total Blackout: The Tamborine Extended Cut – Transcript"
          ],
          [
           "Kevin Hart: Zero F**ks Given (2020) – Transcript"
          ],
          [
           "Sam Jay: 3 in the Morning (2020) – Transcript"
          ],
          [
           "GEORGE LOPEZ: WE’LL DO IT FOR HALF (2020) – FULL TRANSCRIPT"
          ],
          [
           "JIM JEFFERIES: INTOLERANT (2020) – FULL TRANSCRIPT"
          ],
          [
           "George Carlin: Doin’ It Again (1990) – Transcript"
          ],
          [
           "ERIC ANDRE: LEGALIZE EVERYTHING (2020)"
          ],
          [
           "RUSSELL PETERS: DEPORTED (2020) – FULL TRANSCRIPT"
          ],
          [
           "LEE MACK: LIVE (2007) – FULL TRANSCRIPT"
          ],
          [
           "JIM NORTON: AMERICAN DEGENERATE (2013) – FULL TRANSCRIPT"
          ],
          [
           "Jim Norton: Monster Rain (2007) – Transcript"
          ],
          [
           "Chris D’Elia: Man on Fire (2017) – Full Transcript"
          ],
          [
           "Marc Maron: End Times Fun (2020) – Full Transcript"
          ],
          [
           "PETE DAVIDSON: ALIVE FROM NEW YORK (2020) – FULL TRANSCRIPT"
          ],
          [
           "Dan Soder: Son of a Gary (2019) – Full Transcript"
          ],
          [
           "Tiffany Haddish: Black Mitzvah (2019) – Transcript"
          ],
          [
           "Arsenio Hall: Smart and Classy (2019) – Transcript"
          ],
          [
           "Nikki Glaser: Bangin’ (2019) – Full Transcript"
          ],
          [
           "Bill Burr: Paper Tiger (2019) – Transcript"
          ],
          [
           "Dave Chappelle: Sticks & Stones (2019) – Transcript"
          ],
          [
           "Ralphie May: Filthy Animal Tour (2014) – Transcript"
          ],
          [
           "Mike Epps: Only One Mike (2019) – Full Transcript"
          ],
          [
           "Adam DeVine: Best Time of Our Lives (2019) – Full Transcript"
          ],
          [
           "Jo Koy: Live from Seattle (2017) – Full Transcript"
          ],
          [
           "Jo Koy: Comin’ in Hot (2019) – Full Transcript"
          ],
          [
           "Cedric the Entertainer: Live from the Ville (2016) – Transcript"
          ],
          [
           "Eddie Murphy: Raw (1987) – Transcript"
          ],
          [
           "Robin Williams: Weapons of Self Destruction (2009) – Full Transcript"
          ],
          [
           "ROBIN WILLIAMS LIVE ON BROADWAY (2002) – FULL TRANSCRIPT"
          ],
          [
           "Kevin Hart: Irresponsible (2019) – Transcript"
          ],
          [
           "Ken Jeong: You Complete Me, Ho (2019) – Full Transcript"
          ],
          [
           "Adam Sandler: 100% Fresh (2018) – Full Transcript"
          ],
          [
           "RON WHITE: IF YOU QUIT LISTENING, I’LL SHUT UP (2018) – FULL TRANSCRIPT"
          ],
          [
           "Joe Rogan: Strange Times (2018) – Full Transcript"
          ],
          [
           "D.L. Hughley: Contrarian (2018) – Transcript"
          ],
          [
           "Bert Kreischer: Secret Time (2018) – Transcript"
          ],
          [
           "Jim Norton: Contextually Inadequate (2015) – Transcript"
          ],
          [
           "BRAD WILLIAMS: DADDY ISSUES (2016) – Full Transcript"
          ],
          [
           "Deray Davis: How To Act Black (2017) – Transcript"
          ],
          [
           "JIM JEFFERIES: THIS IS ME NOW (2018) – Full transcript"
          ],
          [
           "KEVIN SMITH: SILENT BUT DEADLY (2018) – Full Transcript"
          ],
          [
           "BRENT MORIN: I’M BRENT MORIN (2015) – Full Transcript"
          ],
          [
           "Eddie Griffin: Undeniable (2018) – Transcript"
          ],
          [
           "Marlon Wayans: Woke-Ish (2018) – Transcript"
          ],
          [
           "Chris Rock: Bring the Pain (1996) – Transcript"
          ],
          [
           "ARI SHAFFIR: DOUBLE NEGATIVE (2017) – Full Transcript"
          ],
          [
           "Chris Rock: Tamborine (2018) – Transcript"
          ],
          [
           "Katt Williams: Great America (2018) – Transcript"
          ],
          [
           "JIMMY CARR: BEING FUNNY (2011) – Full Transcript"
          ],
          [
           "JIMMY CARR: LAUGHING AND JOKING (2013) – Full Transcript"
          ],
          [
           "D.L. Hughley: Unapologetic (2007) – Transcript"
          ],
          [
           "BRIDGET EVERETT: GYNECOLOGICAL WONDER (2015) – Full Transcript"
          ],
          [
           "Chris Rock: Never Scared (2004) – Transcript"
          ],
          [
           "Chris Tucker: Live (2015) – Transcript"
          ],
          [
           "Kevin Hart: What Now (2016) – Transcript"
          ],
          [
           "Kevin Hart: Let Me Explain (2013) – Transcript"
          ],
          [
           "Tom Segura: Disgraceful (2018) – Transcript"
          ],
          [
           "Craig Ferguson: Does This Need To Be Said? (2011) – Transcript"
          ],
          [
           "Dave Chappelle: The Bird Revelation (2017) – Transcript"
          ],
          [
           "Dave Chappelle: Equanimity (2017) – Transcript"
          ],
          [
           "CRAIG FERGUSON: I’M HERE TO HELP (2013) – Full Transcript"
          ],
          [
           "WHITNEY CUMMINGS: I LOVE YOU (2014) – Full Transcript"
          ],
          [
           "WHITNEY CUMMINGS: I’M YOUR GIRLFRIEND (2016) – Full Transcript"
          ],
          [
           "Russell Howard Live: Dingledodies (2009) – Full Transcript"
          ],
          [
           "Paul Mooney: A Piece of My Mind – Godbless America (2014) – Transcript"
          ],
          [
           "Chris Rock: Kill The Messenger – London, New York, Johannesburg (2008) – Transcript"
          ],
          [
           "Chris Rock: Bigger & Blacker (1999) – Transcript"
          ],
          [
           "LISA LAMPANELLI: BACK TO THE DRAWING BOARD (2015) – Full Transcript"
          ],
          [
           "ERIK GRIFFIN: THE UGLY TRUTH (2017) – Full Transcript"
          ],
          [
           "Richard Pryor: Live And Smokin’ (1971) – Transcript"
          ],
          [
           "RICHARD PRYOR: …HERE AND NOW (1983) – Full Transcript"
          ],
          [
           "Jim Jefferies: Alcoholocaust (2010) – Transcript"
          ],
          [
           "Kevin Hart: Seriously Funny (2010) – Transcript"
          ],
          [
           "AZIZ ANSARI: INTIMATE MOMENTS FOR A SENSUAL EVENING (2010) – Full Transcript"
          ],
          [
           "BIG JAY OAKERSON: LIVE AT WEBSTER HALL (2016) – Full Transcript"
          ],
          [
           "George Carlin at USC (1977) – Full Transcript"
          ],
          [
           "Jim Norton: Mouthful Of Shame (2017) Transcript"
          ],
          [
           "Michael Che Matters (2016) – Transcript"
          ],
          [
           "Joe Rogan: Triggered (2016) – Transcript"
          ],
          [
           "Bo Burnham: Make Happy (2016) – Transcript"
          ],
          [
           "BILL HICKS: REVELATIONS (1993) – FULL TRANSCRIPT"
          ],
          [
           "DOUG STANHOPE: BEFORE TURNING THE GUN ON HIMSELF (2012) – Transcript"
          ],
          [
           "DOUG STANHOPE: DEADBEAT HERO (2004) – Transcript"
          ],
          [
           "JIM JEFFERIES: CONTRABAND (2008) – Full Transcript"
          ],
          [
           "GEORGE CARLIN: AGAIN!* (1978) – Full Transcript"
          ],
          [
           "Louis C.K.: Chewed Up (2008) – Transcript"
          ],
          [
           "Tom Segura: Completely Normal (2014) – Transcript"
          ],
          [
           "Louis C.K.: Live at the Beacon Theatre (2011) – Transcript"
          ],
          [
           "JIM JEFFERIES: I SWEAR TO GOD (2009) – FULL TRANSCRIPT"
          ],
          [
           "LOUIS C.K.: HILARIOUS (2010) – Full Transcript"
          ],
          [
           "LOUIS C.K.: SHAMELESS (2007) – Full Transcript"
          ],
          [
           "BILL BURR: I’M SORRY YOU FEEL THAT WAY (2014) – Full Transcript"
          ],
          [
           "BILL BURR: YOU PEOPLE ARE ALL THE SAME (2012) – Full Transcript"
          ],
          [
           "Dave Chappelle: For What It’s Worth (2004) – Transcript"
          ],
          [
           "Dave Chappelle: Killin’ Them Softly (2000) – Transcript"
          ],
          [
           "Eddie Griffin: You Can Tell ‘Em I Said It! (2011) – Transcript"
          ],
          [
           "BILL BURR: WALK YOUR WAY OUT (2017) – Full Transcript"
          ],
          [
           "Katt Williams: Live (2006) – Transcript"
          ],
          [
           "Richard Pryor: Live in Concert (1979) – Transcript"
          ],
          [
           "RICHARD PRYOR: LIVE ON THE SUNSET STRIP (1982) – Full Transcript"
          ],
          [
           "JIM JEFFERIES: BARE (2014) – Full Transcript"
          ],
          [
           "Dave Chappelle: Deep in the Heart of Texas (2017) – Transcript"
          ],
          [
           "Tom Segura: Mostly Stories (2016) – Transcript"
          ],
          [
           "JIM JEFFERIES: FREEDUMB (2016) – Full Transcript"
          ],
          [
           "Eddie Murphy: Delirious (1983) – Transcript"
          ],
          [
           "Dave Chappelle: The Age of Spin (2017) – Transcript"
          ],
          [
           "GEORGE CARLIN: BACK IN TOWN (1996) – Full transcript"
          ],
          [
           "LOUIS C.K.: 2017 – Full transcript"
          ],
          [
           "George Carlin: It’s Bad For Ya (2008) Full transcript"
          ],
          [
           "JIM JEFFERIES ON GUN CONTROL [FULL TRANSCRIPT]"
          ]
         ],
         "hovertemplate": "color=1<br>x=%{x}<br>y=%{y}<br>hover_data_0=%{customdata[0]}<extra></extra>",
         "legendgroup": "1",
         "marker": {
          "color": "#FF7F0E",
          "symbol": "circle"
         },
         "mode": "markers",
         "name": "1",
         "orientation": "v",
         "showlegend": true,
         "type": "scatter",
         "x": [
          -947.0007421154777,
          369.7507369473566,
          265.27988011145226,
          -121.15430747079907,
          2390.6263602231775,
          2404.939368608111,
          1926.082895988723,
          -2957.0074403158715,
          -174.63621149163276,
          -1150.8791305750754,
          -2665.0201208121093,
          2153.5231381679737,
          2764.0373460082683,
          -1129.8066662389824,
          -1441.7969443796717,
          1739.1757401503341,
          2145.806502025854,
          -725.5286449530905,
          194.72109681650267,
          -1952.7129255023242,
          -515.7179373491613,
          1867.947068712857,
          2043.8494665616827,
          -1208.5572217311794,
          2160.641500032456,
          -1197.701300247652,
          -864.5621695481321,
          -1103.5981773105407,
          -1607.9573445362214,
          -1232.2104114893355,
          5459.442414869794,
          5075.355910248149,
          2283.406129070008,
          1575.8621692553754,
          -450.13482781878355,
          463.0723652869233,
          -1252.509980387466,
          -20.51205145723359,
          -1978.3468775802562,
          -1354.3796489180675,
          -480.0786818399932,
          1559.2899121011621,
          410.7535012532097,
          -124.25521728375402,
          2165.9575846755674,
          2205.4628610650575,
          -806.753559540228,
          -142.36498397131226,
          -1172.6928889731896,
          5455.4573711040675,
          -2171.681040153186,
          -1634.1690610375904,
          4466.251085284767,
          5430.851962464843,
          -1240.3852025913307,
          -5027.880290549419,
          2668.7083504245384,
          3465.0439136003374,
          2988.7007533498313,
          3304.0685045168916,
          813.2219861863239,
          225.82495442713827,
          -2758.379564408643,
          -1047.6749887476726,
          2960.435629365849,
          -1416.5209575325644,
          -275.31981866847605,
          3372.080569650828,
          1709.1584730703355,
          1263.9975638171716,
          -1248.2492799647428,
          -1258.8645460348241,
          -2107.008657004046,
          -3752.4483219936396,
          1691.5194526645496,
          -1134.7841253348888,
          3746.327412319157,
          443.40932139378907,
          865.6741080451807,
          1411.6257089464107,
          557.307780172238,
          -1462.23395931456,
          859.9589607399677,
          -2280.377353437911,
          -1173.9409254433922,
          -160.1800414648731,
          1958.9139598282068,
          1254.9199147289064,
          2162.7209638789764,
          -1326.8413191467544,
          2897.5315559758355,
          -635.1216322467319,
          -1579.6408446592225,
          2894.0061688638702,
          199.42794365750711,
          3126.610208898395,
          3291.593589010801,
          -1319.8613862380555,
          -1712.6367750146617,
          -1572.1751934712604,
          3787.5238381693716,
          2383.739142367388,
          572.0720639071964,
          151.55908397373565,
          1843.4035920514266,
          387.23906035856936,
          832.1976346064058,
          1933.27311037989,
          -1322.9593454073217,
          -205.59940483193427,
          -954.6168777457726,
          -874.9476894202398,
          793.5613975577802,
          -7308.729607428088
         ],
         "xaxis": "x",
         "y": [
          -151.77327827510803,
          -55.706972311993376,
          -19.53655759936299,
          372.66698228354915,
          -101.75912422005577,
          -223.3972964575531,
          -154.2792490501103,
          -127.96322495938188,
          -120.22466811095273,
          252.44171484620222,
          289.923850938065,
          -325.76519621711543,
          73.52974792540628,
          73.13479138004932,
          277.8738558819774,
          -372.3067878894641,
          -153.30740250222416,
          -243.43267451202342,
          47.32673047905125,
          -155.0036016263102,
          -23.506876969994263,
          -165.44641243999013,
          -77.7584952895675,
          -15.401142919547317,
          49.51662288951691,
          -293.33127541253964,
          -55.631010713779425,
          -296.246726772475,
          -315.15976727307225,
          -131.03686862355983,
          -414.55641098537984,
          365.9994519857241,
          558.3878384964944,
          -322.8012639810522,
          40.144262568609605,
          -30.03085472378911,
          58.445945161774404,
          -78.13078208587346,
          150.27519029964793,
          -44.63682082707189,
          160.88099117532235,
          -196.90594654833018,
          -200.51477598906345,
          -81.15968800898415,
          -288.3032107217839,
          -220.71640161313852,
          14.352688955792704,
          -10.550701716238091,
          -247.48248407263137,
          -207.25957857447852,
          -127.40513230272138,
          -101.27666233088702,
          212.78029997856407,
          189.7988743414734,
          20.743169455459405,
          -253.0096547565598,
          -67.44706601209799,
          -526.1747247306795,
          -401.82513489986803,
          -474.13732549195925,
          -67.55236099639035,
          -143.83137461397627,
          37.812903916543085,
          23.035185406389186,
          -82.84206787254269,
          -139.82967229508637,
          -75.51389631034999,
          253.68523448455488,
          -92.09286652174997,
          -267.65229117923025,
          -153.52185902834705,
          185.20667148609593,
          -114.6836940497205,
          -135.4935871547823,
          -386.68647822218367,
          -27.444465149280823,
          -538.5083388949176,
          -41.26082139378849,
          -53.01292861302502,
          117.46410954102186,
          61.84113795825088,
          -180.85932551146823,
          -2.588063996512443,
          103.510433679694,
          359.5475916370457,
          255.86093789829403,
          302.60938703077744,
          -6.28794602352445,
          26.23189900559733,
          -133.99759049797353,
          -176.17099627253626,
          -130.84774232460038,
          -25.599847315383773,
          -180.5358248435636,
          -269.4980885615343,
          19.52916152507458,
          -37.94629200371472,
          -27.357110295377744,
          -152.01479214684574,
          -52.5954614990269,
          -46.07982524186913,
          -173.7942965598035,
          -357.0899515913276,
          -177.23204275245365,
          -203.94978272275438,
          -62.08134494031532,
          -80.07478735024809,
          -147.97664587988965,
          -182.2562044026823,
          72.98963951549665,
          438.6185168138036,
          -152.46590201856816,
          92.55249397837567,
          -270.6743290539314
         ],
         "yaxis": "y"
        },
        {
         "customdata": [
          [
           "Drew Michael: Drew Michael (2018) | Transcript"
          ],
          [
           "Drew Michael: Red Blue Green (2021) | Transcript"
          ],
          [
           "Kathleen Madigan: Madigan Again (2013) – Transcript"
          ],
          [
           "Tom Papa: You’re Doing Great! (2020) – Transcript"
          ],
          [
           "Tom Papa: Human Mule (2016) – Transcript"
          ],
          [
           "Tig Notaro: Boyish Girl Interrupted (2015) – Transcript"
          ],
          [
           "Joe List: I Hate Myself (2020) – Transcript"
          ],
          [
           "Nate Bargatze: The Greatest Average American (2021) – Transcript"
          ],
          [
           "Vir Das: Outside in – The Lockdown Special (2020) – Transcript"
          ],
          [
           "Larry the Cable Guy – Remain Seated (2020) – Transcript"
          ],
          [
           "Craig Ferguson: Just Being Honest (2015) – Transcript"
          ],
          [
           "Sam Morril: I Got This (2020) – Transcript"
          ],
          [
           "MICHAEL MCINTYRE: SHOWMAN (2020) – TRANSCRIPT"
          ],
          [
           "ROB SCHNEIDER: ASIAN MOMMA, MEXICAN KIDS (2020) – TRANSCRIPT"
          ],
          [
           "URZILA CARLSON: OVERQUALIFIED LOSER (2020) – FULL TRANSCRIPT"
          ],
          [
           "Mark Normand: Don’t Be Yourself (2017) – Transcript"
          ],
          [
           "Chris Gethard: Career Suicide (2017) – Transcript"
          ],
          [
           "RAMY YOUSSEF: FEELINGS (2019) – FULL TRANSCRIPT"
          ],
          [
           "KENNY SEBASTIAN DON’T BE THAT GUY (2017) – FULL TRANSCRIPT"
          ],
          [
           "Hasan Minhaj: Homecoming King (2017) – Transcript"
          ],
          [
           "JIMMY O. YANG: GOOD DEAL (2020) – FULL TRANSCRIPT"
          ],
          [
           "JO KOY: LIGHTS OUT (2012) – FULL TRANSCRIPT"
          ],
          [
           "T.J. MILLER: NO REAL REASON (2011) – FULL TRANSCRIPT"
          ],
          [
           "CHRIS D’ELIA: WHITE MALE. BLACK COMIC. (2013) – FULL TRANSCRIPT"
          ],
          [
           "Tom Segura: Ball Hog (2020) – Transcript"
          ],
          [
           "Bert Kreischer: Hey Big Boy (2020) – Transcript"
          ],
          [
           "PETE DAVIDSON: SMD (2016) – FULL TRANSCRIPT"
          ],
          [
           "Sara Pascoe: LadsLadsLads (2019) – Full Transcript"
          ],
          [
           "Michelle Wolf: Joke Show (2019) – Full Transcript"
          ],
          [
           "Seth Meyers: Lobby Baby (2019) – Full Transcript"
          ],
          [
           "Emily Heller: Ice Thickeners (2019) – Full Transcript"
          ],
          [
           "Whitney Cummings: Can I Touch It? (2019) – Full Transcript"
          ],
          [
           "Aziz Ansari: Right Now (2019) – Transcript"
          ],
          [
           "Wanda Sykes: Not Normal (2019) – Full Transcript"
          ],
          [
           "Demetri Martin: Live (At The Time) (2015) | Transcript"
          ],
          [
           "Chelsea Peretti: One of the Greats (2014) – Full Transcript"
          ],
          [
           "Anthony Jeselnik: Fire in the Maternity Ward (2019) – Transcript"
          ],
          [
           "Nate Bargatze: The Tennessee Kid (2019) – Full Transcript"
          ],
          [
           "Nate Bargatze: Full Time Magic (2015) – Full Transcript"
          ],
          [
           "Amy Schumer: Growing (2019) – Full Transcript"
          ],
          [
           "Enissa Amani: Ehrenwort (2018) Full Transcript"
          ],
          [
           "Ray Romano: Right Here, Around the Corner (2019) – Full Transcript"
          ],
          [
           "Gabriel “Fluffy” Iglesias: One Show Fits All (2019) – Full Transcript"
          ],
          [
           "Sebastian Maniscalco: Stay Hungry (2019) – Full Transcript"
          ],
          [
           "Ellen Degeneres: Relatable (2018) – Transcript"
          ],
          [
           "Pete Holmes: Dirty Clean (2018) – Full Transcript"
          ],
          [
           "Trevor Noah: Son of Patricia (2018) – Transcript"
          ],
          [
           "Mo Amer: The Vagabond (2018) – Full Transcript"
          ],
          [
           "Joe Mande’s Award-Winning Comedy Special (2017) – Full Transcript"
          ],
          [
           "Henry Rollins: Keep Talking, Pal (2018) – Full Transcript"
          ],
          [
           "Iliza Shlesinger: Freezing Hot (2015) – Full Transcript"
          ],
          [
           "Iliza Shlesinger: War Paint (2013) – Transcript"
          ],
          [
           "Demetri Martin: The Overthinker (2018) | Transcript"
          ],
          [
           "Iliza Shlesinger: Elder Millennial (2018) – Full Transcript"
          ],
          [
           "RUSSELL PETERS: OUTSOURCED (2006) – Full Transcript"
          ],
          [
           "RUSSELL PETERS: ALMOST FAMOUS (2016) – Full Transcript"
          ],
          [
           "MICHAEL MCINTYRE: HELLO WEMBLEY! (2009) – Full Transcript"
          ],
          [
           "KEVIN JAMES: NEVER DON’T GIVE UP (2018) – Full Transcript"
          ],
          [
           "NIKKI GLASER: PERFECT (2016) – Full Transcript"
          ],
          [
           "KAVIN JAY: EVERYBODY CALM DOWN! (2018) – Full Transcript"
          ],
          [
           "GREG DAVIES: YOU MAGNIFICENT BEAST (2018) – Full Transcript"
          ],
          [
           "Mike Birbiglia: My Girlfriend’s Boyfriend (2013) – Transcript"
          ],
          [
           "TODD GLASS: ACT HAPPY (2018) – Full Transcript"
          ],
          [
           "MICHELLE WOLF: NICE LADY (2017) – Full Transcript"
          ],
          [
           "ELLEN DEGENERES: THE BEGINNING (2000) – Full Transcript"
          ],
          [
           "RUSSELL HOWARD: RECALIBRATE (2017) – Full Transcript"
          ],
          [
           "SARAH MILLICAN: CHATTERBOX LIVE (2011) – Full Transcript"
          ],
          [
           "Anjelah Johnson: Not Fancy (2015) – Transcript"
          ],
          [
           "CRISTELA ALONZO: LOWER CLASSY (2017) – Full Transcript"
          ],
          [
           "AZIZ ANSARI: LIVE IN MADISON SQUARE GARDEN (2015) – Full Transcript"
          ],
          [
           "AZIZ ANSARI: BURIED ALIVE (2013) – Full Transcript"
          ],
          [
           "Sarah Silverman: Jesus Is Magic (2005) – Transcript"
          ],
          [
           "SARAH SILVERMAN: WE ARE MIRACLES (2013) – Full Transcript"
          ],
          [
           "Gabriel Iglesias: Hot And Fluffy (2007) – Transcript"
          ],
          [
           "GABRIEL IGLESIAS: I’M NOT FAT … I’M FLUFFY (2009) – Full Transcript"
          ],
          [
           "GABRIEL IGLESIAS: I’M SORRY FOR WHAT I SAID WHEN I WAS HUNGRY (2016) – Full Transcript"
          ],
          [
           "RORY SCOVEL TRIES STAND-UP FOR THE FIRST TIME (2017) – Full Transcript"
          ],
          [
           "JEN KIRKMAN: JUST KEEP LIVIN’? (2017) – Full Transcript"
          ],
          [
           "DANIEL TOSH: COMPLETELY SERIOUS (2007) – Full Transcript"
          ],
          [
           "Donald Glover: Weirdo (2012) – Transcript"
          ],
          [
           "Norm Macdonald: Hitler’s Dog, Gossip & Trickery (2017) – Transcript"
          ],
          [
           "DANIEL TOSH: PEOPLE PLEASER (2016) – FULL TRANSCRIPT"
          ],
          [
           "Marc Maron: More Later (2015) – Full Transcript"
          ],
          [
           "AMY SCHUMER: MOSTLY SEX STUFF (2012) – Full Transcript"
          ],
          [
           "AMY SCHUMER: LIVE AT THE APOLLO (2015) – Full Transcript"
          ],
          [
           "Trevor Noah: Lost In Translation (2015) – Transcript"
          ],
          [
           "MARIA BAMFORD: OLD BABY (2017) – FULL TRANSCRIPT"
          ],
          [
           "ANTHONY JESELNIK: CALIGULA (2013) – Full Transcript"
          ],
          [
           "Anthony Jeselnik: Thoughts And Prayers (2015) – Full Transcript"
          ],
          [
           "SARAH SILVERMAN: A SPECK OF DUST (2017) – Full Transcript"
          ],
          [
           "AMY SCHUMER: THE LEATHER SPECIAL (2017) – Full Transcript"
          ],
          [
           "LOUIS C.K.: OH MY GOD (2013) – Full Transcript"
          ],
          [
           "LOUIS C.K.: LIVE AT  THE COMEDY STORE (2015) – Transcript"
          ],
          [
           "Patrice O’Neal: Elephant in the Room (2011) – Transcript"
          ],
          [
           "Trevor Noah: Afraid Of The Dark (2017) – Transcript"
          ],
          [
           "BILL BURR: LET IT GO (2010) – TRANSCRIPT"
          ],
          [
           "Reggie Watts: Spatial (2016) – Full Transcript"
          ]
         ],
         "hovertemplate": "color=0<br>x=%{x}<br>y=%{y}<br>hover_data_0=%{customdata[0]}<extra></extra>",
         "legendgroup": "0",
         "marker": {
          "color": "#2CA02C",
          "symbol": "circle"
         },
         "mode": "markers",
         "name": "0",
         "orientation": "v",
         "showlegend": true,
         "type": "scatter",
         "x": [
          -1480.422955656425,
          -527.4526919199564,
          488.4501525048563,
          -376.849521620186,
          88.15838435431135,
          -4877.501708413339,
          1434.936057034343,
          2092.4963218981366,
          -1803.3583228563484,
          909.1411454605382,
          2379.357800499975,
          -703.5809796193971,
          591.6625752624401,
          -3569.2880549557312,
          -191.4031865332975,
          -676.2424087507011,
          5681.81329365408,
          -1680.0045656604075,
          -2316.43766078139,
          1276.5429340697317,
          -696.6090201307427,
          -3485.9075989884227,
          -130.80590264478045,
          -27.345404088278542,
          437.7587511574086,
          -377.10235287779534,
          -1669.8626966493139,
          -4311.401529840521,
          -1332.3725492879228,
          -205.01847770183042,
          -1407.268282891886,
          60.16258379853748,
          387.90718098922696,
          -2674.629704492783,
          -978.5084159268855,
          1480.8101179002433,
          -4040.2253513990927,
          1100.512999349301,
          -1923.2982547476636,
          -2786.1743478750604,
          1088.369088628164,
          -1126.8708326811977,
          1997.6877683762527,
          -2016.2766648237268,
          -415.6596462224915,
          -2111.845915963261,
          1381.8455769732027,
          -405.4499381458824,
          1321.987455662799,
          17.045286867843462,
          2309.2294051859144,
          3398.5293579284835,
          -1086.6450516304942,
          1052.3194003741387,
          999.6393013309261,
          45.680142564989175,
          4972.153691169356,
          -133.08637793041825,
          2621.567640348635,
          -2424.6033199399335,
          -471.4434790787663,
          2380.331953776284,
          316.2287594754653,
          -1331.8201673712426,
          -1548.3566940624773,
          658.3906982759859,
          7577.518828323699,
          -2124.9858088443807,
          -2178.599192863407,
          1049.1648038213614,
          3690.853762392048,
          -2379.975031274074,
          -3607.355616621344,
          2680.171253341539,
          813.7752256109982,
          3749.2884920221454,
          -833.4470338471336,
          3641.5367583570387,
          -295.4841084132219,
          1444.276929634846,
          -1677.6433766338769,
          638.4104513830807,
          2550.213248476495,
          -812.5372903188946,
          -1239.5214064399909,
          547.5221489745636,
          -1213.8334014388192,
          -3822.4364251156994,
          -2719.6505349189765,
          -201.10117081206764,
          -2890.954667466946,
          -1749.1830435285117,
          -453.4480166510101,
          982.4086125679218,
          600.7078292808204,
          -1369.2190245975346,
          -5385.794018518262
         ],
         "xaxis": "x",
         "y": [
          -194.3949721677279,
          110.70270924889665,
          19.67914858561949,
          64.01399707836028,
          19.871825801678288,
          -146.0024415810357,
          -101.46486717659809,
          -361.11951341773005,
          44.8669137361677,
          129.88712829187497,
          -191.82353656987263,
          41.53252401503017,
          40.952449243039055,
          -226.36936423640734,
          -57.79995469771628,
          -72.61238085120442,
          -36.968690134843975,
          -216.76800634880843,
          -87.1122693694361,
          108.32605382956504,
          -63.79173957902457,
          -293.89731947154485,
          19.585976279126275,
          -375.6696828266524,
          -57.11040899185345,
          -58.28742455410596,
          -275.932859851653,
          -70.57632592775846,
          -140.67908775677304,
          -112.9359483220109,
          -38.714137045794175,
          -2.8599608400897893,
          -78.2244313358712,
          -49.97756866648896,
          34.33383752003965,
          91.28655092829501,
          -81.626539547332,
          -366.06656930614673,
          -340.6375602768257,
          -51.62243042554529,
          -116.30849682312866,
          -251.28266736992438,
          -157.31923884189655,
          -85.00374818664015,
          -85.85835913072894,
          -65.23045971330117,
          -218.02310504887936,
          8.984139325435775,
          98.1838834849036,
          92.99968177131555,
          131.93337247466215,
          101.88116725954637,
          36.15393094907438,
          139.20927331412835,
          -273.7982763238498,
          -172.6343212872302,
          -64.01609751657715,
          -44.678062652916026,
          -346.18265645543545,
          -217.82915429309082,
          62.17666875002609,
          -60.4451671809676,
          -167.63768857645096,
          -50.45731079817181,
          -58.036269530987134,
          12.603533752725138,
          -262.8994551887044,
          -2.0186226949155617,
          -141.57207834941158,
          -177.30433276472607,
          -133.15558977721824,
          6.926458200411565,
          28.150550230190273,
          -67.41716351514343,
          -159.463758089879,
          -45.52786427361279,
          -53.895742974507385,
          -268.97356386042446,
          340.0999750957442,
          -322.4159004029148,
          -152.76064186731625,
          191.5444097549822,
          -284.3760374536554,
          -44.79234771914575,
          -74.13138768888004,
          -198.13216954627273,
          352.188625092313,
          -130.17547115366938,
          -108.46283619250451,
          43.68108940803711,
          -56.97294913848773,
          -108.7148571449663,
          -285.4117210867304,
          -178.77260523114,
          -173.3199161834703,
          -88.18369614686613,
          -30.873110872449708
         ],
         "yaxis": "y"
        }
       ],
       "layout": {
        "legend": {
         "title": {
          "text": "color"
         },
         "tracegroupgap": 0
        },
        "margin": {
         "t": 60
        },
        "template": {
         "data": {
          "bar": [
           {
            "error_x": {
             "color": "rgb(36,36,36)"
            },
            "error_y": {
             "color": "rgb(36,36,36)"
            },
            "marker": {
             "line": {
              "color": "white",
              "width": 0.5
             },
             "pattern": {
              "fillmode": "overlay",
              "size": 10,
              "solidity": 0.2
             }
            },
            "type": "bar"
           }
          ],
          "barpolar": [
           {
            "marker": {
             "line": {
              "color": "white",
              "width": 0.5
             },
             "pattern": {
              "fillmode": "overlay",
              "size": 10,
              "solidity": 0.2
             }
            },
            "type": "barpolar"
           }
          ],
          "carpet": [
           {
            "aaxis": {
             "endlinecolor": "rgb(36,36,36)",
             "gridcolor": "white",
             "linecolor": "white",
             "minorgridcolor": "white",
             "startlinecolor": "rgb(36,36,36)"
            },
            "baxis": {
             "endlinecolor": "rgb(36,36,36)",
             "gridcolor": "white",
             "linecolor": "white",
             "minorgridcolor": "white",
             "startlinecolor": "rgb(36,36,36)"
            },
            "type": "carpet"
           }
          ],
          "choropleth": [
           {
            "colorbar": {
             "outlinewidth": 1,
             "tickcolor": "rgb(36,36,36)",
             "ticks": "outside"
            },
            "type": "choropleth"
           }
          ],
          "contour": [
           {
            "colorbar": {
             "outlinewidth": 1,
             "tickcolor": "rgb(36,36,36)",
             "ticks": "outside"
            },
            "colorscale": [
             [
              0,
              "#440154"
             ],
             [
              0.1111111111111111,
              "#482878"
             ],
             [
              0.2222222222222222,
              "#3e4989"
             ],
             [
              0.3333333333333333,
              "#31688e"
             ],
             [
              0.4444444444444444,
              "#26828e"
             ],
             [
              0.5555555555555556,
              "#1f9e89"
             ],
             [
              0.6666666666666666,
              "#35b779"
             ],
             [
              0.7777777777777778,
              "#6ece58"
             ],
             [
              0.8888888888888888,
              "#b5de2b"
             ],
             [
              1,
              "#fde725"
             ]
            ],
            "type": "contour"
           }
          ],
          "contourcarpet": [
           {
            "colorbar": {
             "outlinewidth": 1,
             "tickcolor": "rgb(36,36,36)",
             "ticks": "outside"
            },
            "type": "contourcarpet"
           }
          ],
          "heatmap": [
           {
            "colorbar": {
             "outlinewidth": 1,
             "tickcolor": "rgb(36,36,36)",
             "ticks": "outside"
            },
            "colorscale": [
             [
              0,
              "#440154"
             ],
             [
              0.1111111111111111,
              "#482878"
             ],
             [
              0.2222222222222222,
              "#3e4989"
             ],
             [
              0.3333333333333333,
              "#31688e"
             ],
             [
              0.4444444444444444,
              "#26828e"
             ],
             [
              0.5555555555555556,
              "#1f9e89"
             ],
             [
              0.6666666666666666,
              "#35b779"
             ],
             [
              0.7777777777777778,
              "#6ece58"
             ],
             [
              0.8888888888888888,
              "#b5de2b"
             ],
             [
              1,
              "#fde725"
             ]
            ],
            "type": "heatmap"
           }
          ],
          "heatmapgl": [
           {
            "colorbar": {
             "outlinewidth": 1,
             "tickcolor": "rgb(36,36,36)",
             "ticks": "outside"
            },
            "colorscale": [
             [
              0,
              "#440154"
             ],
             [
              0.1111111111111111,
              "#482878"
             ],
             [
              0.2222222222222222,
              "#3e4989"
             ],
             [
              0.3333333333333333,
              "#31688e"
             ],
             [
              0.4444444444444444,
              "#26828e"
             ],
             [
              0.5555555555555556,
              "#1f9e89"
             ],
             [
              0.6666666666666666,
              "#35b779"
             ],
             [
              0.7777777777777778,
              "#6ece58"
             ],
             [
              0.8888888888888888,
              "#b5de2b"
             ],
             [
              1,
              "#fde725"
             ]
            ],
            "type": "heatmapgl"
           }
          ],
          "histogram": [
           {
            "marker": {
             "line": {
              "color": "white",
              "width": 0.6
             }
            },
            "type": "histogram"
           }
          ],
          "histogram2d": [
           {
            "colorbar": {
             "outlinewidth": 1,
             "tickcolor": "rgb(36,36,36)",
             "ticks": "outside"
            },
            "colorscale": [
             [
              0,
              "#440154"
             ],
             [
              0.1111111111111111,
              "#482878"
             ],
             [
              0.2222222222222222,
              "#3e4989"
             ],
             [
              0.3333333333333333,
              "#31688e"
             ],
             [
              0.4444444444444444,
              "#26828e"
             ],
             [
              0.5555555555555556,
              "#1f9e89"
             ],
             [
              0.6666666666666666,
              "#35b779"
             ],
             [
              0.7777777777777778,
              "#6ece58"
             ],
             [
              0.8888888888888888,
              "#b5de2b"
             ],
             [
              1,
              "#fde725"
             ]
            ],
            "type": "histogram2d"
           }
          ],
          "histogram2dcontour": [
           {
            "colorbar": {
             "outlinewidth": 1,
             "tickcolor": "rgb(36,36,36)",
             "ticks": "outside"
            },
            "colorscale": [
             [
              0,
              "#440154"
             ],
             [
              0.1111111111111111,
              "#482878"
             ],
             [
              0.2222222222222222,
              "#3e4989"
             ],
             [
              0.3333333333333333,
              "#31688e"
             ],
             [
              0.4444444444444444,
              "#26828e"
             ],
             [
              0.5555555555555556,
              "#1f9e89"
             ],
             [
              0.6666666666666666,
              "#35b779"
             ],
             [
              0.7777777777777778,
              "#6ece58"
             ],
             [
              0.8888888888888888,
              "#b5de2b"
             ],
             [
              1,
              "#fde725"
             ]
            ],
            "type": "histogram2dcontour"
           }
          ],
          "mesh3d": [
           {
            "colorbar": {
             "outlinewidth": 1,
             "tickcolor": "rgb(36,36,36)",
             "ticks": "outside"
            },
            "type": "mesh3d"
           }
          ],
          "parcoords": [
           {
            "line": {
             "colorbar": {
              "outlinewidth": 1,
              "tickcolor": "rgb(36,36,36)",
              "ticks": "outside"
             }
            },
            "type": "parcoords"
           }
          ],
          "pie": [
           {
            "automargin": true,
            "type": "pie"
           }
          ],
          "scatter": [
           {
            "marker": {
             "colorbar": {
              "outlinewidth": 1,
              "tickcolor": "rgb(36,36,36)",
              "ticks": "outside"
             }
            },
            "type": "scatter"
           }
          ],
          "scatter3d": [
           {
            "line": {
             "colorbar": {
              "outlinewidth": 1,
              "tickcolor": "rgb(36,36,36)",
              "ticks": "outside"
             }
            },
            "marker": {
             "colorbar": {
              "outlinewidth": 1,
              "tickcolor": "rgb(36,36,36)",
              "ticks": "outside"
             }
            },
            "type": "scatter3d"
           }
          ],
          "scattercarpet": [
           {
            "marker": {
             "colorbar": {
              "outlinewidth": 1,
              "tickcolor": "rgb(36,36,36)",
              "ticks": "outside"
             }
            },
            "type": "scattercarpet"
           }
          ],
          "scattergeo": [
           {
            "marker": {
             "colorbar": {
              "outlinewidth": 1,
              "tickcolor": "rgb(36,36,36)",
              "ticks": "outside"
             }
            },
            "type": "scattergeo"
           }
          ],
          "scattergl": [
           {
            "marker": {
             "colorbar": {
              "outlinewidth": 1,
              "tickcolor": "rgb(36,36,36)",
              "ticks": "outside"
             }
            },
            "type": "scattergl"
           }
          ],
          "scattermapbox": [
           {
            "marker": {
             "colorbar": {
              "outlinewidth": 1,
              "tickcolor": "rgb(36,36,36)",
              "ticks": "outside"
             }
            },
            "type": "scattermapbox"
           }
          ],
          "scatterpolar": [
           {
            "marker": {
             "colorbar": {
              "outlinewidth": 1,
              "tickcolor": "rgb(36,36,36)",
              "ticks": "outside"
             }
            },
            "type": "scatterpolar"
           }
          ],
          "scatterpolargl": [
           {
            "marker": {
             "colorbar": {
              "outlinewidth": 1,
              "tickcolor": "rgb(36,36,36)",
              "ticks": "outside"
             }
            },
            "type": "scatterpolargl"
           }
          ],
          "scatterternary": [
           {
            "marker": {
             "colorbar": {
              "outlinewidth": 1,
              "tickcolor": "rgb(36,36,36)",
              "ticks": "outside"
             }
            },
            "type": "scatterternary"
           }
          ],
          "surface": [
           {
            "colorbar": {
             "outlinewidth": 1,
             "tickcolor": "rgb(36,36,36)",
             "ticks": "outside"
            },
            "colorscale": [
             [
              0,
              "#440154"
             ],
             [
              0.1111111111111111,
              "#482878"
             ],
             [
              0.2222222222222222,
              "#3e4989"
             ],
             [
              0.3333333333333333,
              "#31688e"
             ],
             [
              0.4444444444444444,
              "#26828e"
             ],
             [
              0.5555555555555556,
              "#1f9e89"
             ],
             [
              0.6666666666666666,
              "#35b779"
             ],
             [
              0.7777777777777778,
              "#6ece58"
             ],
             [
              0.8888888888888888,
              "#b5de2b"
             ],
             [
              1,
              "#fde725"
             ]
            ],
            "type": "surface"
           }
          ],
          "table": [
           {
            "cells": {
             "fill": {
              "color": "rgb(237,237,237)"
             },
             "line": {
              "color": "white"
             }
            },
            "header": {
             "fill": {
              "color": "rgb(217,217,217)"
             },
             "line": {
              "color": "white"
             }
            },
            "type": "table"
           }
          ]
         },
         "layout": {
          "annotationdefaults": {
           "arrowhead": 0,
           "arrowwidth": 1
          },
          "autotypenumbers": "strict",
          "coloraxis": {
           "colorbar": {
            "outlinewidth": 1,
            "tickcolor": "rgb(36,36,36)",
            "ticks": "outside"
           }
          },
          "colorscale": {
           "diverging": [
            [
             0,
             "rgb(103,0,31)"
            ],
            [
             0.1,
             "rgb(178,24,43)"
            ],
            [
             0.2,
             "rgb(214,96,77)"
            ],
            [
             0.3,
             "rgb(244,165,130)"
            ],
            [
             0.4,
             "rgb(253,219,199)"
            ],
            [
             0.5,
             "rgb(247,247,247)"
            ],
            [
             0.6,
             "rgb(209,229,240)"
            ],
            [
             0.7,
             "rgb(146,197,222)"
            ],
            [
             0.8,
             "rgb(67,147,195)"
            ],
            [
             0.9,
             "rgb(33,102,172)"
            ],
            [
             1,
             "rgb(5,48,97)"
            ]
           ],
           "sequential": [
            [
             0,
             "#440154"
            ],
            [
             0.1111111111111111,
             "#482878"
            ],
            [
             0.2222222222222222,
             "#3e4989"
            ],
            [
             0.3333333333333333,
             "#31688e"
            ],
            [
             0.4444444444444444,
             "#26828e"
            ],
            [
             0.5555555555555556,
             "#1f9e89"
            ],
            [
             0.6666666666666666,
             "#35b779"
            ],
            [
             0.7777777777777778,
             "#6ece58"
            ],
            [
             0.8888888888888888,
             "#b5de2b"
            ],
            [
             1,
             "#fde725"
            ]
           ],
           "sequentialminus": [
            [
             0,
             "#440154"
            ],
            [
             0.1111111111111111,
             "#482878"
            ],
            [
             0.2222222222222222,
             "#3e4989"
            ],
            [
             0.3333333333333333,
             "#31688e"
            ],
            [
             0.4444444444444444,
             "#26828e"
            ],
            [
             0.5555555555555556,
             "#1f9e89"
            ],
            [
             0.6666666666666666,
             "#35b779"
            ],
            [
             0.7777777777777778,
             "#6ece58"
            ],
            [
             0.8888888888888888,
             "#b5de2b"
            ],
            [
             1,
             "#fde725"
            ]
           ]
          },
          "colorway": [
           "#1F77B4",
           "#FF7F0E",
           "#2CA02C",
           "#D62728",
           "#9467BD",
           "#8C564B",
           "#E377C2",
           "#7F7F7F",
           "#BCBD22",
           "#17BECF"
          ],
          "font": {
           "color": "rgb(36,36,36)"
          },
          "geo": {
           "bgcolor": "white",
           "lakecolor": "white",
           "landcolor": "white",
           "showlakes": true,
           "showland": true,
           "subunitcolor": "white"
          },
          "hoverlabel": {
           "align": "left"
          },
          "hovermode": "closest",
          "mapbox": {
           "style": "light"
          },
          "paper_bgcolor": "white",
          "plot_bgcolor": "white",
          "polar": {
           "angularaxis": {
            "gridcolor": "rgb(232,232,232)",
            "linecolor": "rgb(36,36,36)",
            "showgrid": false,
            "showline": true,
            "ticks": "outside"
           },
           "bgcolor": "white",
           "radialaxis": {
            "gridcolor": "rgb(232,232,232)",
            "linecolor": "rgb(36,36,36)",
            "showgrid": false,
            "showline": true,
            "ticks": "outside"
           }
          },
          "scene": {
           "xaxis": {
            "backgroundcolor": "white",
            "gridcolor": "rgb(232,232,232)",
            "gridwidth": 2,
            "linecolor": "rgb(36,36,36)",
            "showbackground": true,
            "showgrid": false,
            "showline": true,
            "ticks": "outside",
            "zeroline": false,
            "zerolinecolor": "rgb(36,36,36)"
           },
           "yaxis": {
            "backgroundcolor": "white",
            "gridcolor": "rgb(232,232,232)",
            "gridwidth": 2,
            "linecolor": "rgb(36,36,36)",
            "showbackground": true,
            "showgrid": false,
            "showline": true,
            "ticks": "outside",
            "zeroline": false,
            "zerolinecolor": "rgb(36,36,36)"
           },
           "zaxis": {
            "backgroundcolor": "white",
            "gridcolor": "rgb(232,232,232)",
            "gridwidth": 2,
            "linecolor": "rgb(36,36,36)",
            "showbackground": true,
            "showgrid": false,
            "showline": true,
            "ticks": "outside",
            "zeroline": false,
            "zerolinecolor": "rgb(36,36,36)"
           }
          },
          "shapedefaults": {
           "fillcolor": "black",
           "line": {
            "width": 0
           },
           "opacity": 0.3
          },
          "ternary": {
           "aaxis": {
            "gridcolor": "rgb(232,232,232)",
            "linecolor": "rgb(36,36,36)",
            "showgrid": false,
            "showline": true,
            "ticks": "outside"
           },
           "baxis": {
            "gridcolor": "rgb(232,232,232)",
            "linecolor": "rgb(36,36,36)",
            "showgrid": false,
            "showline": true,
            "ticks": "outside"
           },
           "bgcolor": "white",
           "caxis": {
            "gridcolor": "rgb(232,232,232)",
            "linecolor": "rgb(36,36,36)",
            "showgrid": false,
            "showline": true,
            "ticks": "outside"
           }
          },
          "title": {
           "x": 0.05
          },
          "xaxis": {
           "automargin": true,
           "gridcolor": "rgb(232,232,232)",
           "linecolor": "rgb(36,36,36)",
           "showgrid": false,
           "showline": true,
           "ticks": "outside",
           "title": {
            "standoff": 15
           },
           "zeroline": false,
           "zerolinecolor": "rgb(36,36,36)"
          },
          "yaxis": {
           "automargin": true,
           "gridcolor": "rgb(232,232,232)",
           "linecolor": "rgb(36,36,36)",
           "showgrid": false,
           "showline": true,
           "ticks": "outside",
           "title": {
            "standoff": 15
           },
           "zeroline": false,
           "zerolinecolor": "rgb(36,36,36)"
          }
         }
        },
        "xaxis": {
         "anchor": "y",
         "domain": [
          0,
          1
         ],
         "title": {
          "text": "x"
         }
        },
        "yaxis": {
         "anchor": "x",
         "domain": [
          0,
          1
         ],
         "title": {
          "text": "y"
         }
        }
       }
      },
      "text/html": [
       "<div>                            <div id=\"d21fbfa2-9d96-4d4e-bfd6-f0bf3b2ff2e7\" class=\"plotly-graph-div\" style=\"height:525px; width:100%;\"></div>            <script type=\"text/javascript\">                require([\"plotly\"], function(Plotly) {                    window.PLOTLYENV=window.PLOTLYENV || {};                                    if (document.getElementById(\"d21fbfa2-9d96-4d4e-bfd6-f0bf3b2ff2e7\")) {                    Plotly.newPlot(                        \"d21fbfa2-9d96-4d4e-bfd6-f0bf3b2ff2e7\",                        [{\"customdata\":[[\"Jim Gaffigan: Comedy Monster (2021) | Transcript\"],[\"Kathleen Madigan: Bothering Jesus (2016) \\u2013 Transcript\"],[\"Phil Wang: Philly Philly Wang Wang (2021) \\u2013 Transcript\"],[\"Tom Papa: Freaked Out (2013) \\u2013 Transcript\"],[\"Bo Burnham: Inside (2021) \\u2013 Transcript\"],[\"Brian Regan: On The Rocks (2021) \\u2013 Transcript\"],[\"Sarah Cooper: Everything\\u2019s Fine (2020) \\u2013 Transcript\"],[\"Bo Burnham: Words, Words, Words (2010) \\u2013 Transcript\"],[\"RONNY CHIENG: ASIAN COMEDIAN DESTROYS AMERICA (2019) \\u2013 TRANSCRIPT\"],[\"Craig Ferguson: A Wee Bit o\\u2019 Revolution (2009) \\u2013 Transcript\"],[\"Jack Whitehall: I\\u2019m Only Joking (2020) | Transcript\"],[\"ROY WOOD JR.: FATHER FIGURE (2017) \\u2013 FULL TRANSCRIPT\"],[\"BILLY CONNOLLY: HIGH HORSE TOUR LIVE (2016) \\u2013 FULL TRANSCRIPT\"],[\"Hannah Gadsby: Douglas (2020) \\u2013 Transcript\"],[\"PATTON OSWALT: I LOVE EVERYTHING (2020) \\u2013 FULL TRANSCRIPT\"],[\"LEE MACK: GOING OUT LIVE (2010) \\u2013 FULL TRANSCRIPT\"],[\"Jerry Seinfeld: 23 Hours To Kill (2020) \\u2013 Transcript\"],[\"MARIA BAMFORD: WEAKNESS IS THE BRAND (2020) \\u2013 FULL TRANSCRIPT\"],[\"Amanda Seales: I Be Knowin\\u2019 (2019) \\u2013 Transcript\"],[\"Stewart Lee: Carpet Remnant World (2012) \\u2013 Full Transcript\"],[\"Stewart Lee: Content Provider (2018) \\u2013 Transcript\"],[\"Jim Gaffigan: Quality Time (2019) \\u2013 Full Transcript\"],[\"Kevin Bridges: A Whole Different Story (2015) \\u2013 Full Transcript\"],[\"Kevin Bridges: The Story So Far\\u2026 Live in Glasgow (2010) \\u2013 Full Transcript\"],[\"Kevin Bridges: The Story Continues (2012) \\u2013 Full Transcript\"],[\"Mike Birbiglia: The New One (2019) \\u2013 Full Transcript\"],[\"Iliza Shlesinger: Unveiled (2019) \\u2013 Full Transcript\"],[\"David Cross: Oh Come On (2019) \\u2013 Full Transcript\"],[\"Colin Quinn: The New York Story (2016) \\u2013 Full Transcript\"],[\"George Carlin: What Am I Doing in New Jersey? (1988) \\u2013 Full Transcript\"],[\"Roy Wood Jr.: No One Loves You (2019) \\u2013 Transcript\"],[\"Jimmy Carr: The Best of Ultimate Gold Greatest Hits (2019) \\u2013 Full Transcript\"],[\"W. Kamau Bell: Private School Negro (2018) \\u2013 Transcript\"],[\"Sebastian Maniscalco: Aren\\u2019t You Embarrassed? (2014) \\u2013 Full Transcript\"],[\"Sebastian Maniscalco: What\\u2019s Wrong with People? (2012) \\u2013 Full Transcript\"],[\"Oh, Hello On Broadway (2017) \\u2013 Transcript\"],[\"Vir Das: Losing It (2018) \\u2013 Full Transcript\"],[\"Jeff Foxworthy & Larry the Cable Guy: We\\u2019ve Been Thinking (2016) \\u2013 Full Transcript\"],[\"Jeff Foxworthy: Totally Committed (1998) \\u2013 Full Transcript\"],[\"BILL MAHER: LIVE FROM OKLAHOMA (2018) \\u2013 Full Transcript\"],[\"Rowan Atkinson Live (1992) \\u2013 Transcript\"],[\"Iliza Shlesinger: Confirmed Kills (2016) \\u2013 Full Transcript\"],[\"JIM GAFFIGAN: NOBLE APE (2018) \\u2013 Full Transcript\"],[\"Hannah Gadsby: Nanette (2018) \\u2013 Transcript\"],[\"RICKY GERVAIS: LIVE IV \\u2013 SCIENCE (2010) \\u2013 Full Transcript\"],[\"RON WHITE: A LITTLE UNPROFESSIONAL (2012) \\u2013 Full Transcript\"],[\"Ali Wong: Hard Knock Wife (2018) \\u2013 Transcript\"],[\"John Mulaney: Kid Gorgeous At Radio City (2018) \\u2013 Transcript\"],[\"George Carlin: You Are All Diseased (1999) \\u2013 Transcript\"],[\"RICKY GERVAIS: HUMANITY (2018) \\u2013 Full Transcript\"],[\"ADEL KARAM: LIVE FROM BEIRUT (2018) \\u2013 Full Transcript\"],[\"STEWART LEE: 90s COMEDIAN (2006) \\u2013 Full Transcript\"],[\"DAVE ATTELL: ROAD WORK (2014) \\u2013 Full Transcript\"],[\"Eddie Izzard \\u2013 Glorious (1997) \\u2013 Transcript\"],[\"FRED ARMISEN: STANDUP FOR DRUMMERS (2018) \\u2013 Full Transcript\"],[\"DANA CARVEY: STRAIGHT WHITE MALE, 60 (2016) \\u2013 Full Transcript\"],[\"EDDIE IZZARD: STRIPPED (2009) \\u2013 Full Transcript\"],[\"BRIAN REGAN: STANDING UP (2007) \\u2013 Full Transcript\"],[\"BRIAN REGAN: NUNCHUCKS AND FLAMETHROWERS (2017) \\u2013 Full Transcript\"],[\"Eddie Izzard: Unrepeatable (1994) | Transcript\"],[\"Stewart Lee: Stand-Up Comedian (2005) \\u2013 Transcript\"],[\"JIMMY CARR: FUNNY BUSINESS (2016) \\u2013 Full Transcript\"],[\"Eddie Izzard: Dress To Kill (1999) \\u2013 Transcript\"],[\"FAHIM ANWAR: THERE\\u2019S NO BUSINESS LIKE SHOW BUSINESS (2017) \\u2013 Transcript\"],[\"MAZ JOBRANI: IMMIGRANT (2017) \\u2013 Full Transcript\"],[\"TODD BARRY: SPICY HONEY (2017) \\u2013 Full Transcript\"],[\"Jerry Seinfeld: I\\u2019m Telling You for the Last Time (1998) \\u2013 Transcript\"],[\"RICKY GERVAIS LIVE 2: POLITICS (2004) \\u2013 Full Transcript\"],[\"CHRISTINA PAZSITZKY: MOTHER INFERIOR (2017) \\u2013 FULL TRANSCRIPT\"],[\"Jack Whitehall: At Large (2017) \\u2013 Transcript\"],[\"JUDAH FRIEDLANDER: AMERICA IS THE GREATEST COUNTRY IN THE UNITED STATES (2017) \\u2013 Full Transcript\"],[\"PATTON OSWALT: ANNIHILATION (2017) \\u2013 Full Transcript\"],[\"BILL MAHER: LIVE FROM D.C. (2014) \\u2013 Full Transcript\"],[\"Pablo Francisco: Ouch! Live From San Jose (2006) \\u2013 Full Transcript\"],[\"BILL MAHER\\u2026 BUT I\\u2019M NOT WRONG (2010) \\u2013 Full Transcript\"],[\"RUSSELL BRAND: MESSIAH COMPLEX (2013) \\u2013 Full Transcript\"],[\"AL MADRIGAL: WHY IS THE RABBIT CRYING? (2013) \\u2013 Full Transcript\"],[\"NEAL BRENNAN: 3 MICS (2017)- FULL TRANSCRIPT\"],[\"John Mulaney: New In Town (2012) \\u2013 Transcript\"],[\"ALI WONG: BABY COBRA (2016) \\u2013 Full Transcript\"],[\"Dylan Moran: Off The Hook (2015) \\u2013 Transcript\"],[\"Hannibal Buress: Comedy Camisado (2016) \\u2013 Transcript\"],[\"Neal Brennan: Women And Black Dudes (2014) \\u2013 Transcript\"],[\"NICK OFFERMAN: AMERICAN HAM (2014) \\u2013 Full Transcript\"],[\"Bo Burnham: What (2013) \\u2013 Transcript\"],[\"John Mulaney: The Comeback Kid (2015) \\u2013 Transcript\"],[\"LEWIS BLACK: BLACK TO THE FUTURE (2016) \\u2013 Full Transcript\"],[\"Mike Birbiglia: Thank God for Jokes (2017) \\u2013 Transcript\"],[\"GEORGE CARLIN: PLAYING WITH YOUR HEAD (1986) \\u2013 Full Transcript\"],[\"GEORGE CARLIN: CARLIN ON CAMPUS (1984) \\u2013 Full Transcript\"],[\"RICKY GERVAIS: OUT OF ENGLAND 2 (2010) \\u2013 Full Transcript\"],[\"JIM GAFFIGAN: CINCO (2017) \\u2013 Full Transcript\"],[\"BILL HICKS: RELENTLESS (1991) \\u2013 Transcript\"],[\"Daniel Tosh: Happy Thoughts (2011) \\u2013 Transcript\"],[\"George Carlin: Jamming in New York (1992) \\u2013 Transcript\"],[\"GEORGE CARLIN: COMPLAINTS AND GRIEVANCES (2001) \\u2013 FULL TRANSCRIPT\"],[\"GEORGE CARLIN: LIFE IS WORTH LOSING (2006) \\u2013 Transcript\"],[\"Dave Chappelle: 8:46 \\u2013 Transcript\"]],\"hovertemplate\":\"color=2<br>x=%{x}<br>y=%{y}<br>hover_data_0=%{customdata[0]}<extra></extra>\",\"legendgroup\":\"2\",\"marker\":{\"color\":\"#1F77B4\",\"symbol\":\"circle\"},\"mode\":\"markers\",\"name\":\"2\",\"orientation\":\"v\",\"showlegend\":true,\"type\":\"scatter\",\"x\":[63.040626666034505,1671.7745882382196,-1333.415627201092,-578.4441899327845,-1507.7124645396627,-3476.054634454728,-2531.2533464806565,-1529.7119495360218,-472.3082017482068,1675.6103655473144,-1256.855710311219,-3148.271129966214,3420.4605556802667,1906.2907202216895,-637.1903951253701,-451.05337152343714,-1206.8124715324245,-724.7925152895708,-4451.81244403037,5752.460496461048,7369.18170742533,1536.0786649165123,-1012.7453921619914,-703.3712189410026,202.37679523890966,1728.6152440423907,1438.0571945337133,1383.9939687636675,1523.7678665583317,-2247.240955629791,-505.08857229465735,-829.0104209383608,839.0667191633524,-2594.2650961422028,-909.9688477628441,3008.5900451333555,-1529.376207546536,2193.6082590693936,-1808.5958423793438,-1780.414980642241,-6024.082371755586,2152.2672080119128,883.1338796107124,-559.9866296099632,3927.5866342291656,667.593582400815,-2919.8789455920337,-354.56092884937766,-243.06632997343442,1607.4397715131533,-2707.451072004712,1199.691445982699,-3122.255354847479,2897.5216942663637,-2122.1504893032466,-1612.8859940969962,5350.989158569894,-4688.937866579227,-2612.94413835424,2093.453214938224,1834.6856444581824,464.2234435606302,4605.917122418725,-3732.8902428204296,476.64186569390233,-1620.256263824711,-506.7602508810625,-211.30270677291287,-2859.605289378686,-111.06138851858532,1395.0158686961406,65.1765536219455,-1519.5036174480094,-2804.318703673814,649.0021292379656,3380.7032984387647,876.1955464627133,-140.91386827950757,397.85955106808234,-1915.336343103153,3161.2033476318434,997.6967308186863,-1047.2574394488802,-119.73469484951163,-2769.172724997162,4.505498647793261,-4465.477818936251,-600.9766129748552,-1432.0519055341133,-1352.7398324858161,2180.840180398132,835.6432717532473,-2420.224226346285,-3407.841753343198,-1021.8724709680129,-1161.4525776429498,3054.699726717001,-6172.004728904504],\"xaxis\":\"x\",\"y\":[117.81407470351,58.04932476126609,206.69928857164388,173.25160370405828,58.5222824346917,110.56415660928435,149.13040735801306,463.0273721015345,63.103259476321966,-14.16459361055192,340.48783339251634,-147.04210968251567,223.12547844764197,30.348471140612972,120.25889217971502,126.89756332731214,183.9023471317407,345.624795076009,60.197797887324,151.6092480072988,175.54410407860618,163.8858597203231,335.9645564846148,258.4317034885526,295.8324788694433,115.98080152786166,204.35044900586826,168.44777444424156,229.5191118597517,127.85106354317354,-76.64206765017346,116.95830011027,-47.911271625467236,-36.54799755664083,-79.25752085684492,458.5248901187236,180.11019966660754,189.94666236777402,79.7713337947599,202.16251746783396,123.92595130285423,307.91178559915255,134.88398783731395,119.89471692589103,94.00948966170213,104.3470472589597,365.0585030942033,79.39562668101,499.47413105426887,141.9882320461099,24.92834469041345,100.59259552908571,9.708602345889133,186.84969277345405,-67.10744631963745,213.13111790315685,316.2364783273623,32.95394289215814,87.33871804302602,36.839470000386655,290.4041285494131,136.9376083538291,575.6466751148338,29.04433397157271,-174.72413851038604,136.3187156715592,85.56231901166936,160.80793861692217,221.37042727360773,290.7924775919528,266.30294689506167,118.46449793990668,189.10983150497748,19.08625864037161,368.8788734936923,503.4779829519216,228.04276010500536,173.84977540196186,27.006619957572667,172.19423851596324,216.2195784680173,75.90296438739563,40.073688758690615,476.5302715786964,198.72451655222093,52.10517443382833,26.827151668419052,62.19569859304912,11.193574298615701,155.012070543119,37.45592086558504,164.44319821306829,183.56637074748073,230.3459721102526,270.6530129881945,352.37680644021697,549.0500895926957,-90.70493021118442],\"yaxis\":\"y\"},{\"customdata\":[[\"Louis C. K.: Sorry (2021) | Transcript\"],[\"Mo Amer: Mohammed in Texas (2021) | Transcript\"],[\"Dave Chappelle: The Closer (2021) | Transcript\"],[\"Doug Stanhope: Beer Hall Putsch (2013) \\u2013 Transcript\"],[\"Chris Rock Total Blackout: The Tamborine Extended Cut \\u2013 Transcript\"],[\"Kevin Hart: Zero F**ks Given (2020) \\u2013 Transcript\"],[\"Sam Jay: 3 in the Morning (2020) \\u2013 Transcript\"],[\"GEORGE LOPEZ: WE\\u2019LL DO IT FOR HALF (2020) \\u2013 FULL TRANSCRIPT\"],[\"JIM JEFFERIES: INTOLERANT (2020) \\u2013 FULL TRANSCRIPT\"],[\"George Carlin: Doin\\u2019 It Again (1990) \\u2013 Transcript\"],[\"ERIC ANDRE: LEGALIZE EVERYTHING (2020)\"],[\"RUSSELL PETERS: DEPORTED (2020) \\u2013 FULL TRANSCRIPT\"],[\"LEE MACK: LIVE (2007) \\u2013 FULL TRANSCRIPT\"],[\"JIM NORTON: AMERICAN DEGENERATE (2013) \\u2013 FULL TRANSCRIPT\"],[\"Jim Norton: Monster Rain (2007) \\u2013 Transcript\"],[\"Chris D\\u2019Elia: Man on Fire (2017) \\u2013 Full Transcript\"],[\"Marc Maron: End Times Fun (2020) \\u2013 Full Transcript\"],[\"PETE DAVIDSON: ALIVE FROM NEW YORK (2020) \\u2013 FULL TRANSCRIPT\"],[\"Dan Soder: Son of a Gary (2019) \\u2013 Full Transcript\"],[\"Tiffany Haddish: Black Mitzvah (2019) \\u2013 Transcript\"],[\"Arsenio Hall: Smart and Classy (2019) \\u2013 Transcript\"],[\"Nikki Glaser: Bangin\\u2019 (2019) \\u2013 Full Transcript\"],[\"Bill Burr: Paper Tiger (2019) \\u2013 Transcript\"],[\"Dave Chappelle: Sticks & Stones (2019) \\u2013 Transcript\"],[\"Ralphie May: Filthy Animal Tour (2014) \\u2013 Transcript\"],[\"Mike Epps: Only One Mike (2019) \\u2013 Full Transcript\"],[\"Adam DeVine: Best Time of Our Lives (2019) \\u2013 Full Transcript\"],[\"Jo Koy: Live from Seattle (2017) \\u2013 Full Transcript\"],[\"Jo Koy: Comin\\u2019 in Hot (2019) \\u2013 Full Transcript\"],[\"Cedric the Entertainer: Live from the Ville (2016) \\u2013 Transcript\"],[\"Eddie Murphy: Raw (1987) \\u2013 Transcript\"],[\"Robin Williams: Weapons of Self Destruction (2009) \\u2013 Full Transcript\"],[\"ROBIN WILLIAMS LIVE ON BROADWAY (2002) \\u2013 FULL TRANSCRIPT\"],[\"Kevin Hart: Irresponsible (2019) \\u2013 Transcript\"],[\"Ken Jeong: You Complete Me, Ho (2019) \\u2013 Full Transcript\"],[\"Adam Sandler: 100% Fresh (2018) \\u2013 Full Transcript\"],[\"RON WHITE: IF YOU QUIT LISTENING, I\\u2019LL SHUT UP (2018) \\u2013 FULL TRANSCRIPT\"],[\"Joe Rogan: Strange Times (2018) \\u2013 Full Transcript\"],[\"D.L. Hughley: Contrarian (2018) \\u2013 Transcript\"],[\"Bert Kreischer: Secret Time (2018) \\u2013 Transcript\"],[\"Jim Norton: Contextually Inadequate (2015) \\u2013 Transcript\"],[\"BRAD WILLIAMS: DADDY ISSUES (2016) \\u2013 Full Transcript\"],[\"Deray Davis: How To Act Black (2017) \\u2013 Transcript\"],[\"JIM JEFFERIES: THIS IS ME NOW (2018) \\u2013 Full transcript\"],[\"KEVIN SMITH: SILENT BUT DEADLY (2018) \\u2013 Full Transcript\"],[\"BRENT MORIN: I\\u2019M BRENT MORIN (2015) \\u2013 Full Transcript\"],[\"Eddie Griffin: Undeniable (2018) \\u2013 Transcript\"],[\"Marlon Wayans: Woke-Ish (2018) \\u2013 Transcript\"],[\"Chris Rock: Bring the Pain (1996) \\u2013 Transcript\"],[\"ARI SHAFFIR: DOUBLE NEGATIVE (2017) \\u2013 Full Transcript\"],[\"Chris Rock: Tamborine (2018) \\u2013 Transcript\"],[\"Katt Williams: Great America (2018) \\u2013 Transcript\"],[\"JIMMY CARR: BEING FUNNY (2011) \\u2013 Full Transcript\"],[\"JIMMY CARR: LAUGHING AND JOKING (2013) \\u2013 Full Transcript\"],[\"D.L. Hughley: Unapologetic (2007) \\u2013 Transcript\"],[\"BRIDGET EVERETT: GYNECOLOGICAL WONDER (2015) \\u2013 Full Transcript\"],[\"Chris Rock: Never Scared (2004) \\u2013 Transcript\"],[\"Chris Tucker: Live (2015) \\u2013 Transcript\"],[\"Kevin Hart: What Now (2016) \\u2013 Transcript\"],[\"Kevin Hart: Let Me Explain (2013) \\u2013 Transcript\"],[\"Tom Segura: Disgraceful (2018) \\u2013 Transcript\"],[\"Craig Ferguson: Does This Need To Be Said? (2011) \\u2013 Transcript\"],[\"Dave Chappelle: The Bird Revelation (2017) \\u2013 Transcript\"],[\"Dave Chappelle: Equanimity (2017) \\u2013 Transcript\"],[\"CRAIG FERGUSON: I\\u2019M HERE TO HELP (2013) \\u2013 Full Transcript\"],[\"WHITNEY CUMMINGS: I LOVE YOU (2014) \\u2013 Full Transcript\"],[\"WHITNEY CUMMINGS: I\\u2019M YOUR GIRLFRIEND (2016) \\u2013 Full Transcript\"],[\"Russell Howard Live: Dingledodies (2009) \\u2013 Full Transcript\"],[\"Paul Mooney: A Piece of My Mind \\u2013 Godbless America (2014) \\u2013 Transcript\"],[\"Chris Rock: Kill The Messenger \\u2013 London, New York, Johannesburg (2008) \\u2013 Transcript\"],[\"Chris Rock: Bigger & Blacker (1999) \\u2013 Transcript\"],[\"LISA LAMPANELLI: BACK TO THE DRAWING BOARD (2015) \\u2013 Full Transcript\"],[\"ERIK GRIFFIN: THE UGLY TRUTH (2017) \\u2013 Full Transcript\"],[\"Richard Pryor: Live And Smokin\\u2019 (1971) \\u2013 Transcript\"],[\"RICHARD PRYOR: \\u2026HERE AND NOW (1983) \\u2013 Full Transcript\"],[\"Jim Jefferies: Alcoholocaust (2010) \\u2013 Transcript\"],[\"Kevin Hart: Seriously Funny (2010) \\u2013 Transcript\"],[\"AZIZ ANSARI: INTIMATE MOMENTS FOR A SENSUAL EVENING (2010) \\u2013 Full Transcript\"],[\"BIG JAY OAKERSON: LIVE AT WEBSTER HALL (2016) \\u2013 Full Transcript\"],[\"George Carlin at USC (1977) \\u2013 Full Transcript\"],[\"Jim Norton: Mouthful Of Shame (2017) Transcript\"],[\"Michael Che Matters (2016) \\u2013 Transcript\"],[\"Joe Rogan: Triggered (2016) \\u2013 Transcript\"],[\"Bo Burnham: Make Happy (2016) \\u2013 Transcript\"],[\"BILL HICKS: REVELATIONS (1993) \\u2013 FULL TRANSCRIPT\"],[\"DOUG STANHOPE: BEFORE TURNING THE GUN ON HIMSELF (2012) \\u2013 Transcript\"],[\"DOUG STANHOPE: DEADBEAT HERO (2004) \\u2013 Transcript\"],[\"JIM JEFFERIES: CONTRABAND (2008) \\u2013 Full Transcript\"],[\"GEORGE CARLIN: AGAIN!* (1978) \\u2013 Full Transcript\"],[\"Louis C.K.: Chewed Up (2008) \\u2013 Transcript\"],[\"Tom Segura: Completely Normal (2014) \\u2013 Transcript\"],[\"Louis C.K.: Live at the Beacon Theatre (2011) \\u2013 Transcript\"],[\"JIM JEFFERIES: I SWEAR TO GOD (2009) \\u2013 FULL TRANSCRIPT\"],[\"LOUIS C.K.: HILARIOUS (2010) \\u2013 Full Transcript\"],[\"LOUIS C.K.: SHAMELESS (2007) \\u2013 Full Transcript\"],[\"BILL BURR: I\\u2019M SORRY YOU FEEL THAT WAY (2014) \\u2013 Full Transcript\"],[\"BILL BURR: YOU PEOPLE ARE ALL THE SAME (2012) \\u2013 Full Transcript\"],[\"Dave Chappelle: For What It\\u2019s Worth (2004) \\u2013 Transcript\"],[\"Dave Chappelle: Killin\\u2019 Them Softly (2000) \\u2013 Transcript\"],[\"Eddie Griffin: You Can Tell \\u2018Em I Said It! (2011) \\u2013 Transcript\"],[\"BILL BURR: WALK YOUR WAY OUT (2017) \\u2013 Full Transcript\"],[\"Katt Williams: Live (2006) \\u2013 Transcript\"],[\"Richard Pryor: Live in Concert (1979) \\u2013 Transcript\"],[\"RICHARD PRYOR: LIVE ON THE SUNSET STRIP (1982) \\u2013 Full Transcript\"],[\"JIM JEFFERIES: BARE (2014) \\u2013 Full Transcript\"],[\"Dave Chappelle: Deep in the Heart of Texas (2017) \\u2013 Transcript\"],[\"Tom Segura: Mostly Stories (2016) \\u2013 Transcript\"],[\"JIM JEFFERIES: FREEDUMB (2016) \\u2013 Full Transcript\"],[\"Eddie Murphy: Delirious (1983) \\u2013 Transcript\"],[\"Dave Chappelle: The Age of Spin (2017) \\u2013 Transcript\"],[\"GEORGE CARLIN: BACK IN TOWN (1996) \\u2013 Full transcript\"],[\"LOUIS C.K.: 2017 \\u2013 Full transcript\"],[\"George Carlin: It\\u2019s Bad For Ya (2008) Full transcript\"],[\"JIM JEFFERIES ON GUN CONTROL [FULL TRANSCRIPT]\"]],\"hovertemplate\":\"color=1<br>x=%{x}<br>y=%{y}<br>hover_data_0=%{customdata[0]}<extra></extra>\",\"legendgroup\":\"1\",\"marker\":{\"color\":\"#FF7F0E\",\"symbol\":\"circle\"},\"mode\":\"markers\",\"name\":\"1\",\"orientation\":\"v\",\"showlegend\":true,\"type\":\"scatter\",\"x\":[-947.0007421154777,369.7507369473566,265.27988011145226,-121.15430747079907,2390.6263602231775,2404.939368608111,1926.082895988723,-2957.0074403158715,-174.63621149163276,-1150.8791305750754,-2665.0201208121093,2153.5231381679737,2764.0373460082683,-1129.8066662389824,-1441.7969443796717,1739.1757401503341,2145.806502025854,-725.5286449530905,194.72109681650267,-1952.7129255023242,-515.7179373491613,1867.947068712857,2043.8494665616827,-1208.5572217311794,2160.641500032456,-1197.701300247652,-864.5621695481321,-1103.5981773105407,-1607.9573445362214,-1232.2104114893355,5459.442414869794,5075.355910248149,2283.406129070008,1575.8621692553754,-450.13482781878355,463.0723652869233,-1252.509980387466,-20.51205145723359,-1978.3468775802562,-1354.3796489180675,-480.0786818399932,1559.2899121011621,410.7535012532097,-124.25521728375402,2165.9575846755674,2205.4628610650575,-806.753559540228,-142.36498397131226,-1172.6928889731896,5455.4573711040675,-2171.681040153186,-1634.1690610375904,4466.251085284767,5430.851962464843,-1240.3852025913307,-5027.880290549419,2668.7083504245384,3465.0439136003374,2988.7007533498313,3304.0685045168916,813.2219861863239,225.82495442713827,-2758.379564408643,-1047.6749887476726,2960.435629365849,-1416.5209575325644,-275.31981866847605,3372.080569650828,1709.1584730703355,1263.9975638171716,-1248.2492799647428,-1258.8645460348241,-2107.008657004046,-3752.4483219936396,1691.5194526645496,-1134.7841253348888,3746.327412319157,443.40932139378907,865.6741080451807,1411.6257089464107,557.307780172238,-1462.23395931456,859.9589607399677,-2280.377353437911,-1173.9409254433922,-160.1800414648731,1958.9139598282068,1254.9199147289064,2162.7209638789764,-1326.8413191467544,2897.5315559758355,-635.1216322467319,-1579.6408446592225,2894.0061688638702,199.42794365750711,3126.610208898395,3291.593589010801,-1319.8613862380555,-1712.6367750146617,-1572.1751934712604,3787.5238381693716,2383.739142367388,572.0720639071964,151.55908397373565,1843.4035920514266,387.23906035856936,832.1976346064058,1933.27311037989,-1322.9593454073217,-205.59940483193427,-954.6168777457726,-874.9476894202398,793.5613975577802,-7308.729607428088],\"xaxis\":\"x\",\"y\":[-151.77327827510803,-55.706972311993376,-19.53655759936299,372.66698228354915,-101.75912422005577,-223.3972964575531,-154.2792490501103,-127.96322495938188,-120.22466811095273,252.44171484620222,289.923850938065,-325.76519621711543,73.52974792540628,73.13479138004932,277.8738558819774,-372.3067878894641,-153.30740250222416,-243.43267451202342,47.32673047905125,-155.0036016263102,-23.506876969994263,-165.44641243999013,-77.7584952895675,-15.401142919547317,49.51662288951691,-293.33127541253964,-55.631010713779425,-296.246726772475,-315.15976727307225,-131.03686862355983,-414.55641098537984,365.9994519857241,558.3878384964944,-322.8012639810522,40.144262568609605,-30.03085472378911,58.445945161774404,-78.13078208587346,150.27519029964793,-44.63682082707189,160.88099117532235,-196.90594654833018,-200.51477598906345,-81.15968800898415,-288.3032107217839,-220.71640161313852,14.352688955792704,-10.550701716238091,-247.48248407263137,-207.25957857447852,-127.40513230272138,-101.27666233088702,212.78029997856407,189.7988743414734,20.743169455459405,-253.0096547565598,-67.44706601209799,-526.1747247306795,-401.82513489986803,-474.13732549195925,-67.55236099639035,-143.83137461397627,37.812903916543085,23.035185406389186,-82.84206787254269,-139.82967229508637,-75.51389631034999,253.68523448455488,-92.09286652174997,-267.65229117923025,-153.52185902834705,185.20667148609593,-114.6836940497205,-135.4935871547823,-386.68647822218367,-27.444465149280823,-538.5083388949176,-41.26082139378849,-53.01292861302502,117.46410954102186,61.84113795825088,-180.85932551146823,-2.588063996512443,103.510433679694,359.5475916370457,255.86093789829403,302.60938703077744,-6.28794602352445,26.23189900559733,-133.99759049797353,-176.17099627253626,-130.84774232460038,-25.599847315383773,-180.5358248435636,-269.4980885615343,19.52916152507458,-37.94629200371472,-27.357110295377744,-152.01479214684574,-52.5954614990269,-46.07982524186913,-173.7942965598035,-357.0899515913276,-177.23204275245365,-203.94978272275438,-62.08134494031532,-80.07478735024809,-147.97664587988965,-182.2562044026823,72.98963951549665,438.6185168138036,-152.46590201856816,92.55249397837567,-270.6743290539314],\"yaxis\":\"y\"},{\"customdata\":[[\"Drew Michael: Drew Michael (2018) | Transcript\"],[\"Drew Michael: Red Blue Green (2021) | Transcript\"],[\"Kathleen Madigan: Madigan Again (2013) \\u2013 Transcript\"],[\"Tom Papa: You\\u2019re Doing Great! (2020) \\u2013 Transcript\"],[\"Tom Papa: Human Mule (2016) \\u2013 Transcript\"],[\"Tig Notaro: Boyish Girl Interrupted (2015) \\u2013 Transcript\"],[\"Joe List: I Hate Myself (2020) \\u2013 Transcript\"],[\"Nate Bargatze: The Greatest Average American (2021) \\u2013 Transcript\"],[\"Vir Das: Outside in \\u2013 The Lockdown Special (2020) \\u2013 Transcript\"],[\"Larry the Cable Guy \\u2013 Remain Seated (2020) \\u2013 Transcript\"],[\"Craig Ferguson: Just Being Honest (2015) \\u2013 Transcript\"],[\"Sam Morril: I Got This (2020) \\u2013 Transcript\"],[\"MICHAEL MCINTYRE: SHOWMAN (2020) \\u2013 TRANSCRIPT\"],[\"ROB SCHNEIDER: ASIAN MOMMA, MEXICAN KIDS (2020) \\u2013 TRANSCRIPT\"],[\"URZILA CARLSON: OVERQUALIFIED LOSER (2020) \\u2013 FULL TRANSCRIPT\"],[\"Mark Normand: Don\\u2019t Be Yourself (2017) \\u2013 Transcript\"],[\"Chris Gethard: Career Suicide (2017) \\u2013 Transcript\"],[\"RAMY YOUSSEF: FEELINGS (2019) \\u2013 FULL TRANSCRIPT\"],[\"KENNY SEBASTIAN DON\\u2019T BE THAT GUY (2017) \\u2013 FULL TRANSCRIPT\"],[\"Hasan Minhaj: Homecoming King (2017) \\u2013 Transcript\"],[\"JIMMY O. YANG: GOOD DEAL (2020) \\u2013 FULL TRANSCRIPT\"],[\"JO KOY: LIGHTS OUT (2012) \\u2013 FULL TRANSCRIPT\"],[\"T.J. MILLER: NO REAL REASON (2011) \\u2013 FULL TRANSCRIPT\"],[\"CHRIS D\\u2019ELIA: WHITE MALE. BLACK COMIC. (2013) \\u2013 FULL TRANSCRIPT\"],[\"Tom Segura: Ball Hog (2020) \\u2013 Transcript\"],[\"Bert Kreischer: Hey Big Boy (2020) \\u2013 Transcript\"],[\"PETE DAVIDSON: SMD (2016) \\u2013 FULL TRANSCRIPT\"],[\"Sara Pascoe: LadsLadsLads (2019) \\u2013 Full Transcript\"],[\"Michelle Wolf: Joke Show (2019) \\u2013 Full Transcript\"],[\"Seth Meyers: Lobby Baby (2019) \\u2013 Full Transcript\"],[\"Emily Heller: Ice Thickeners (2019) \\u2013 Full Transcript\"],[\"Whitney Cummings: Can I Touch It? (2019) \\u2013 Full Transcript\"],[\"Aziz Ansari: Right Now (2019) \\u2013 Transcript\"],[\"Wanda Sykes: Not Normal (2019) \\u2013 Full Transcript\"],[\"Demetri Martin: Live (At The Time) (2015) | Transcript\"],[\"Chelsea Peretti: One of the Greats (2014) \\u2013 Full Transcript\"],[\"Anthony Jeselnik: Fire in the Maternity Ward (2019) \\u2013 Transcript\"],[\"Nate Bargatze: The Tennessee Kid (2019) \\u2013 Full Transcript\"],[\"Nate Bargatze: Full Time Magic (2015) \\u2013 Full Transcript\"],[\"Amy Schumer: Growing (2019) \\u2013 Full Transcript\"],[\"Enissa Amani: Ehrenwort (2018) Full Transcript\"],[\"Ray Romano: Right Here, Around the Corner (2019) \\u2013 Full Transcript\"],[\"Gabriel \\u201cFluffy\\u201d Iglesias: One Show Fits All (2019) \\u2013 Full Transcript\"],[\"Sebastian Maniscalco: Stay Hungry (2019) \\u2013 Full Transcript\"],[\"Ellen Degeneres: Relatable (2018) \\u2013 Transcript\"],[\"Pete Holmes: Dirty Clean (2018) \\u2013 Full Transcript\"],[\"Trevor Noah: Son of Patricia (2018) \\u2013 Transcript\"],[\"Mo Amer: The Vagabond (2018) \\u2013 Full Transcript\"],[\"Joe Mande\\u2019s Award-Winning Comedy Special (2017) \\u2013 Full Transcript\"],[\"Henry Rollins: Keep Talking, Pal (2018) \\u2013 Full Transcript\"],[\"Iliza Shlesinger: Freezing Hot (2015) \\u2013 Full Transcript\"],[\"Iliza Shlesinger: War Paint (2013) \\u2013 Transcript\"],[\"Demetri Martin: The Overthinker (2018) | Transcript\"],[\"Iliza Shlesinger: Elder Millennial (2018) \\u2013 Full Transcript\"],[\"RUSSELL PETERS: OUTSOURCED (2006) \\u2013 Full Transcript\"],[\"RUSSELL PETERS: ALMOST FAMOUS (2016) \\u2013 Full Transcript\"],[\"MICHAEL MCINTYRE: HELLO WEMBLEY! (2009) \\u2013 Full Transcript\"],[\"KEVIN JAMES: NEVER DON\\u2019T GIVE UP (2018) \\u2013 Full Transcript\"],[\"NIKKI GLASER: PERFECT (2016) \\u2013 Full Transcript\"],[\"KAVIN JAY: EVERYBODY CALM DOWN! (2018) \\u2013 Full Transcript\"],[\"GREG DAVIES: YOU MAGNIFICENT BEAST (2018) \\u2013 Full Transcript\"],[\"Mike Birbiglia: My Girlfriend\\u2019s Boyfriend (2013) \\u2013 Transcript\"],[\"TODD GLASS: ACT HAPPY (2018) \\u2013 Full Transcript\"],[\"MICHELLE WOLF: NICE LADY (2017) \\u2013 Full Transcript\"],[\"ELLEN DEGENERES: THE BEGINNING (2000) \\u2013 Full Transcript\"],[\"RUSSELL HOWARD: RECALIBRATE (2017) \\u2013 Full Transcript\"],[\"SARAH MILLICAN: CHATTERBOX LIVE (2011) \\u2013 Full Transcript\"],[\"Anjelah Johnson: Not Fancy (2015) \\u2013 Transcript\"],[\"CRISTELA ALONZO: LOWER CLASSY (2017) \\u2013 Full Transcript\"],[\"AZIZ ANSARI: LIVE IN MADISON SQUARE GARDEN (2015) \\u2013 Full Transcript\"],[\"AZIZ ANSARI: BURIED ALIVE (2013) \\u2013 Full Transcript\"],[\"Sarah Silverman: Jesus Is Magic (2005) \\u2013 Transcript\"],[\"SARAH SILVERMAN: WE ARE MIRACLES (2013) \\u2013 Full Transcript\"],[\"Gabriel Iglesias: Hot And Fluffy (2007) \\u2013 Transcript\"],[\"GABRIEL IGLESIAS: I\\u2019M NOT FAT \\u2026 I\\u2019M FLUFFY (2009) \\u2013 Full Transcript\"],[\"GABRIEL IGLESIAS: I\\u2019M SORRY FOR WHAT I SAID WHEN I WAS HUNGRY (2016) \\u2013 Full Transcript\"],[\"RORY SCOVEL TRIES STAND-UP FOR THE FIRST TIME (2017) \\u2013 Full Transcript\"],[\"JEN KIRKMAN: JUST KEEP LIVIN\\u2019? (2017) \\u2013 Full Transcript\"],[\"DANIEL TOSH: COMPLETELY SERIOUS (2007) \\u2013 Full Transcript\"],[\"Donald Glover: Weirdo (2012) \\u2013 Transcript\"],[\"Norm Macdonald: Hitler\\u2019s Dog, Gossip & Trickery (2017) \\u2013 Transcript\"],[\"DANIEL TOSH: PEOPLE PLEASER (2016) \\u2013 FULL TRANSCRIPT\"],[\"Marc Maron: More Later (2015) \\u2013 Full Transcript\"],[\"AMY SCHUMER: MOSTLY SEX STUFF (2012) \\u2013 Full Transcript\"],[\"AMY SCHUMER: LIVE AT THE APOLLO (2015) \\u2013 Full Transcript\"],[\"Trevor Noah: Lost In Translation (2015) \\u2013 Transcript\"],[\"MARIA BAMFORD: OLD BABY (2017) \\u2013 FULL TRANSCRIPT\"],[\"ANTHONY JESELNIK: CALIGULA (2013) \\u2013 Full Transcript\"],[\"Anthony Jeselnik: Thoughts And Prayers (2015) \\u2013 Full Transcript\"],[\"SARAH SILVERMAN: A SPECK OF DUST (2017) \\u2013 Full Transcript\"],[\"AMY SCHUMER: THE LEATHER SPECIAL (2017) \\u2013 Full Transcript\"],[\"LOUIS C.K.: OH MY GOD (2013) \\u2013 Full Transcript\"],[\"LOUIS C.K.: LIVE AT  THE COMEDY STORE (2015) \\u2013 Transcript\"],[\"Patrice O\\u2019Neal: Elephant in the Room (2011) \\u2013 Transcript\"],[\"Trevor Noah: Afraid Of The Dark (2017) \\u2013 Transcript\"],[\"BILL BURR: LET IT GO (2010) \\u2013 TRANSCRIPT\"],[\"Reggie Watts: Spatial (2016) \\u2013 Full Transcript\"]],\"hovertemplate\":\"color=0<br>x=%{x}<br>y=%{y}<br>hover_data_0=%{customdata[0]}<extra></extra>\",\"legendgroup\":\"0\",\"marker\":{\"color\":\"#2CA02C\",\"symbol\":\"circle\"},\"mode\":\"markers\",\"name\":\"0\",\"orientation\":\"v\",\"showlegend\":true,\"type\":\"scatter\",\"x\":[-1480.422955656425,-527.4526919199564,488.4501525048563,-376.849521620186,88.15838435431135,-4877.501708413339,1434.936057034343,2092.4963218981366,-1803.3583228563484,909.1411454605382,2379.357800499975,-703.5809796193971,591.6625752624401,-3569.2880549557312,-191.4031865332975,-676.2424087507011,5681.81329365408,-1680.0045656604075,-2316.43766078139,1276.5429340697317,-696.6090201307427,-3485.9075989884227,-130.80590264478045,-27.345404088278542,437.7587511574086,-377.10235287779534,-1669.8626966493139,-4311.401529840521,-1332.3725492879228,-205.01847770183042,-1407.268282891886,60.16258379853748,387.90718098922696,-2674.629704492783,-978.5084159268855,1480.8101179002433,-4040.2253513990927,1100.512999349301,-1923.2982547476636,-2786.1743478750604,1088.369088628164,-1126.8708326811977,1997.6877683762527,-2016.2766648237268,-415.6596462224915,-2111.845915963261,1381.8455769732027,-405.4499381458824,1321.987455662799,17.045286867843462,2309.2294051859144,3398.5293579284835,-1086.6450516304942,1052.3194003741387,999.6393013309261,45.680142564989175,4972.153691169356,-133.08637793041825,2621.567640348635,-2424.6033199399335,-471.4434790787663,2380.331953776284,316.2287594754653,-1331.8201673712426,-1548.3566940624773,658.3906982759859,7577.518828323699,-2124.9858088443807,-2178.599192863407,1049.1648038213614,3690.853762392048,-2379.975031274074,-3607.355616621344,2680.171253341539,813.7752256109982,3749.2884920221454,-833.4470338471336,3641.5367583570387,-295.4841084132219,1444.276929634846,-1677.6433766338769,638.4104513830807,2550.213248476495,-812.5372903188946,-1239.5214064399909,547.5221489745636,-1213.8334014388192,-3822.4364251156994,-2719.6505349189765,-201.10117081206764,-2890.954667466946,-1749.1830435285117,-453.4480166510101,982.4086125679218,600.7078292808204,-1369.2190245975346,-5385.794018518262],\"xaxis\":\"x\",\"y\":[-194.3949721677279,110.70270924889665,19.67914858561949,64.01399707836028,19.871825801678288,-146.0024415810357,-101.46486717659809,-361.11951341773005,44.8669137361677,129.88712829187497,-191.82353656987263,41.53252401503017,40.952449243039055,-226.36936423640734,-57.79995469771628,-72.61238085120442,-36.968690134843975,-216.76800634880843,-87.1122693694361,108.32605382956504,-63.79173957902457,-293.89731947154485,19.585976279126275,-375.6696828266524,-57.11040899185345,-58.28742455410596,-275.932859851653,-70.57632592775846,-140.67908775677304,-112.9359483220109,-38.714137045794175,-2.8599608400897893,-78.2244313358712,-49.97756866648896,34.33383752003965,91.28655092829501,-81.626539547332,-366.06656930614673,-340.6375602768257,-51.62243042554529,-116.30849682312866,-251.28266736992438,-157.31923884189655,-85.00374818664015,-85.85835913072894,-65.23045971330117,-218.02310504887936,8.984139325435775,98.1838834849036,92.99968177131555,131.93337247466215,101.88116725954637,36.15393094907438,139.20927331412835,-273.7982763238498,-172.6343212872302,-64.01609751657715,-44.678062652916026,-346.18265645543545,-217.82915429309082,62.17666875002609,-60.4451671809676,-167.63768857645096,-50.45731079817181,-58.036269530987134,12.603533752725138,-262.8994551887044,-2.0186226949155617,-141.57207834941158,-177.30433276472607,-133.15558977721824,6.926458200411565,28.150550230190273,-67.41716351514343,-159.463758089879,-45.52786427361279,-53.895742974507385,-268.97356386042446,340.0999750957442,-322.4159004029148,-152.76064186731625,191.5444097549822,-284.3760374536554,-44.79234771914575,-74.13138768888004,-198.13216954627273,352.188625092313,-130.17547115366938,-108.46283619250451,43.68108940803711,-56.97294913848773,-108.7148571449663,-285.4117210867304,-178.77260523114,-173.3199161834703,-88.18369614686613,-30.873110872449708],\"yaxis\":\"y\"}],                        {\"legend\":{\"title\":{\"text\":\"color\"},\"tracegroupgap\":0},\"margin\":{\"t\":60},\"template\":{\"data\":{\"bar\":[{\"error_x\":{\"color\":\"rgb(36,36,36)\"},\"error_y\":{\"color\":\"rgb(36,36,36)\"},\"marker\":{\"line\":{\"color\":\"white\",\"width\":0.5},\"pattern\":{\"fillmode\":\"overlay\",\"size\":10,\"solidity\":0.2}},\"type\":\"bar\"}],\"barpolar\":[{\"marker\":{\"line\":{\"color\":\"white\",\"width\":0.5},\"pattern\":{\"fillmode\":\"overlay\",\"size\":10,\"solidity\":0.2}},\"type\":\"barpolar\"}],\"carpet\":[{\"aaxis\":{\"endlinecolor\":\"rgb(36,36,36)\",\"gridcolor\":\"white\",\"linecolor\":\"white\",\"minorgridcolor\":\"white\",\"startlinecolor\":\"rgb(36,36,36)\"},\"baxis\":{\"endlinecolor\":\"rgb(36,36,36)\",\"gridcolor\":\"white\",\"linecolor\":\"white\",\"minorgridcolor\":\"white\",\"startlinecolor\":\"rgb(36,36,36)\"},\"type\":\"carpet\"}],\"choropleth\":[{\"colorbar\":{\"outlinewidth\":1,\"tickcolor\":\"rgb(36,36,36)\",\"ticks\":\"outside\"},\"type\":\"choropleth\"}],\"contour\":[{\"colorbar\":{\"outlinewidth\":1,\"tickcolor\":\"rgb(36,36,36)\",\"ticks\":\"outside\"},\"colorscale\":[[0.0,\"#440154\"],[0.1111111111111111,\"#482878\"],[0.2222222222222222,\"#3e4989\"],[0.3333333333333333,\"#31688e\"],[0.4444444444444444,\"#26828e\"],[0.5555555555555556,\"#1f9e89\"],[0.6666666666666666,\"#35b779\"],[0.7777777777777778,\"#6ece58\"],[0.8888888888888888,\"#b5de2b\"],[1.0,\"#fde725\"]],\"type\":\"contour\"}],\"contourcarpet\":[{\"colorbar\":{\"outlinewidth\":1,\"tickcolor\":\"rgb(36,36,36)\",\"ticks\":\"outside\"},\"type\":\"contourcarpet\"}],\"heatmap\":[{\"colorbar\":{\"outlinewidth\":1,\"tickcolor\":\"rgb(36,36,36)\",\"ticks\":\"outside\"},\"colorscale\":[[0.0,\"#440154\"],[0.1111111111111111,\"#482878\"],[0.2222222222222222,\"#3e4989\"],[0.3333333333333333,\"#31688e\"],[0.4444444444444444,\"#26828e\"],[0.5555555555555556,\"#1f9e89\"],[0.6666666666666666,\"#35b779\"],[0.7777777777777778,\"#6ece58\"],[0.8888888888888888,\"#b5de2b\"],[1.0,\"#fde725\"]],\"type\":\"heatmap\"}],\"heatmapgl\":[{\"colorbar\":{\"outlinewidth\":1,\"tickcolor\":\"rgb(36,36,36)\",\"ticks\":\"outside\"},\"colorscale\":[[0.0,\"#440154\"],[0.1111111111111111,\"#482878\"],[0.2222222222222222,\"#3e4989\"],[0.3333333333333333,\"#31688e\"],[0.4444444444444444,\"#26828e\"],[0.5555555555555556,\"#1f9e89\"],[0.6666666666666666,\"#35b779\"],[0.7777777777777778,\"#6ece58\"],[0.8888888888888888,\"#b5de2b\"],[1.0,\"#fde725\"]],\"type\":\"heatmapgl\"}],\"histogram\":[{\"marker\":{\"line\":{\"color\":\"white\",\"width\":0.6}},\"type\":\"histogram\"}],\"histogram2d\":[{\"colorbar\":{\"outlinewidth\":1,\"tickcolor\":\"rgb(36,36,36)\",\"ticks\":\"outside\"},\"colorscale\":[[0.0,\"#440154\"],[0.1111111111111111,\"#482878\"],[0.2222222222222222,\"#3e4989\"],[0.3333333333333333,\"#31688e\"],[0.4444444444444444,\"#26828e\"],[0.5555555555555556,\"#1f9e89\"],[0.6666666666666666,\"#35b779\"],[0.7777777777777778,\"#6ece58\"],[0.8888888888888888,\"#b5de2b\"],[1.0,\"#fde725\"]],\"type\":\"histogram2d\"}],\"histogram2dcontour\":[{\"colorbar\":{\"outlinewidth\":1,\"tickcolor\":\"rgb(36,36,36)\",\"ticks\":\"outside\"},\"colorscale\":[[0.0,\"#440154\"],[0.1111111111111111,\"#482878\"],[0.2222222222222222,\"#3e4989\"],[0.3333333333333333,\"#31688e\"],[0.4444444444444444,\"#26828e\"],[0.5555555555555556,\"#1f9e89\"],[0.6666666666666666,\"#35b779\"],[0.7777777777777778,\"#6ece58\"],[0.8888888888888888,\"#b5de2b\"],[1.0,\"#fde725\"]],\"type\":\"histogram2dcontour\"}],\"mesh3d\":[{\"colorbar\":{\"outlinewidth\":1,\"tickcolor\":\"rgb(36,36,36)\",\"ticks\":\"outside\"},\"type\":\"mesh3d\"}],\"parcoords\":[{\"line\":{\"colorbar\":{\"outlinewidth\":1,\"tickcolor\":\"rgb(36,36,36)\",\"ticks\":\"outside\"}},\"type\":\"parcoords\"}],\"pie\":[{\"automargin\":true,\"type\":\"pie\"}],\"scatter\":[{\"marker\":{\"colorbar\":{\"outlinewidth\":1,\"tickcolor\":\"rgb(36,36,36)\",\"ticks\":\"outside\"}},\"type\":\"scatter\"}],\"scatter3d\":[{\"line\":{\"colorbar\":{\"outlinewidth\":1,\"tickcolor\":\"rgb(36,36,36)\",\"ticks\":\"outside\"}},\"marker\":{\"colorbar\":{\"outlinewidth\":1,\"tickcolor\":\"rgb(36,36,36)\",\"ticks\":\"outside\"}},\"type\":\"scatter3d\"}],\"scattercarpet\":[{\"marker\":{\"colorbar\":{\"outlinewidth\":1,\"tickcolor\":\"rgb(36,36,36)\",\"ticks\":\"outside\"}},\"type\":\"scattercarpet\"}],\"scattergeo\":[{\"marker\":{\"colorbar\":{\"outlinewidth\":1,\"tickcolor\":\"rgb(36,36,36)\",\"ticks\":\"outside\"}},\"type\":\"scattergeo\"}],\"scattergl\":[{\"marker\":{\"colorbar\":{\"outlinewidth\":1,\"tickcolor\":\"rgb(36,36,36)\",\"ticks\":\"outside\"}},\"type\":\"scattergl\"}],\"scattermapbox\":[{\"marker\":{\"colorbar\":{\"outlinewidth\":1,\"tickcolor\":\"rgb(36,36,36)\",\"ticks\":\"outside\"}},\"type\":\"scattermapbox\"}],\"scatterpolar\":[{\"marker\":{\"colorbar\":{\"outlinewidth\":1,\"tickcolor\":\"rgb(36,36,36)\",\"ticks\":\"outside\"}},\"type\":\"scatterpolar\"}],\"scatterpolargl\":[{\"marker\":{\"colorbar\":{\"outlinewidth\":1,\"tickcolor\":\"rgb(36,36,36)\",\"ticks\":\"outside\"}},\"type\":\"scatterpolargl\"}],\"scatterternary\":[{\"marker\":{\"colorbar\":{\"outlinewidth\":1,\"tickcolor\":\"rgb(36,36,36)\",\"ticks\":\"outside\"}},\"type\":\"scatterternary\"}],\"surface\":[{\"colorbar\":{\"outlinewidth\":1,\"tickcolor\":\"rgb(36,36,36)\",\"ticks\":\"outside\"},\"colorscale\":[[0.0,\"#440154\"],[0.1111111111111111,\"#482878\"],[0.2222222222222222,\"#3e4989\"],[0.3333333333333333,\"#31688e\"],[0.4444444444444444,\"#26828e\"],[0.5555555555555556,\"#1f9e89\"],[0.6666666666666666,\"#35b779\"],[0.7777777777777778,\"#6ece58\"],[0.8888888888888888,\"#b5de2b\"],[1.0,\"#fde725\"]],\"type\":\"surface\"}],\"table\":[{\"cells\":{\"fill\":{\"color\":\"rgb(237,237,237)\"},\"line\":{\"color\":\"white\"}},\"header\":{\"fill\":{\"color\":\"rgb(217,217,217)\"},\"line\":{\"color\":\"white\"}},\"type\":\"table\"}]},\"layout\":{\"annotationdefaults\":{\"arrowhead\":0,\"arrowwidth\":1},\"autotypenumbers\":\"strict\",\"coloraxis\":{\"colorbar\":{\"outlinewidth\":1,\"tickcolor\":\"rgb(36,36,36)\",\"ticks\":\"outside\"}},\"colorscale\":{\"diverging\":[[0.0,\"rgb(103,0,31)\"],[0.1,\"rgb(178,24,43)\"],[0.2,\"rgb(214,96,77)\"],[0.3,\"rgb(244,165,130)\"],[0.4,\"rgb(253,219,199)\"],[0.5,\"rgb(247,247,247)\"],[0.6,\"rgb(209,229,240)\"],[0.7,\"rgb(146,197,222)\"],[0.8,\"rgb(67,147,195)\"],[0.9,\"rgb(33,102,172)\"],[1.0,\"rgb(5,48,97)\"]],\"sequential\":[[0.0,\"#440154\"],[0.1111111111111111,\"#482878\"],[0.2222222222222222,\"#3e4989\"],[0.3333333333333333,\"#31688e\"],[0.4444444444444444,\"#26828e\"],[0.5555555555555556,\"#1f9e89\"],[0.6666666666666666,\"#35b779\"],[0.7777777777777778,\"#6ece58\"],[0.8888888888888888,\"#b5de2b\"],[1.0,\"#fde725\"]],\"sequentialminus\":[[0.0,\"#440154\"],[0.1111111111111111,\"#482878\"],[0.2222222222222222,\"#3e4989\"],[0.3333333333333333,\"#31688e\"],[0.4444444444444444,\"#26828e\"],[0.5555555555555556,\"#1f9e89\"],[0.6666666666666666,\"#35b779\"],[0.7777777777777778,\"#6ece58\"],[0.8888888888888888,\"#b5de2b\"],[1.0,\"#fde725\"]]},\"colorway\":[\"#1F77B4\",\"#FF7F0E\",\"#2CA02C\",\"#D62728\",\"#9467BD\",\"#8C564B\",\"#E377C2\",\"#7F7F7F\",\"#BCBD22\",\"#17BECF\"],\"font\":{\"color\":\"rgb(36,36,36)\"},\"geo\":{\"bgcolor\":\"white\",\"lakecolor\":\"white\",\"landcolor\":\"white\",\"showlakes\":true,\"showland\":true,\"subunitcolor\":\"white\"},\"hoverlabel\":{\"align\":\"left\"},\"hovermode\":\"closest\",\"mapbox\":{\"style\":\"light\"},\"paper_bgcolor\":\"white\",\"plot_bgcolor\":\"white\",\"polar\":{\"angularaxis\":{\"gridcolor\":\"rgb(232,232,232)\",\"linecolor\":\"rgb(36,36,36)\",\"showgrid\":false,\"showline\":true,\"ticks\":\"outside\"},\"bgcolor\":\"white\",\"radialaxis\":{\"gridcolor\":\"rgb(232,232,232)\",\"linecolor\":\"rgb(36,36,36)\",\"showgrid\":false,\"showline\":true,\"ticks\":\"outside\"}},\"scene\":{\"xaxis\":{\"backgroundcolor\":\"white\",\"gridcolor\":\"rgb(232,232,232)\",\"gridwidth\":2,\"linecolor\":\"rgb(36,36,36)\",\"showbackground\":true,\"showgrid\":false,\"showline\":true,\"ticks\":\"outside\",\"zeroline\":false,\"zerolinecolor\":\"rgb(36,36,36)\"},\"yaxis\":{\"backgroundcolor\":\"white\",\"gridcolor\":\"rgb(232,232,232)\",\"gridwidth\":2,\"linecolor\":\"rgb(36,36,36)\",\"showbackground\":true,\"showgrid\":false,\"showline\":true,\"ticks\":\"outside\",\"zeroline\":false,\"zerolinecolor\":\"rgb(36,36,36)\"},\"zaxis\":{\"backgroundcolor\":\"white\",\"gridcolor\":\"rgb(232,232,232)\",\"gridwidth\":2,\"linecolor\":\"rgb(36,36,36)\",\"showbackground\":true,\"showgrid\":false,\"showline\":true,\"ticks\":\"outside\",\"zeroline\":false,\"zerolinecolor\":\"rgb(36,36,36)\"}},\"shapedefaults\":{\"fillcolor\":\"black\",\"line\":{\"width\":0},\"opacity\":0.3},\"ternary\":{\"aaxis\":{\"gridcolor\":\"rgb(232,232,232)\",\"linecolor\":\"rgb(36,36,36)\",\"showgrid\":false,\"showline\":true,\"ticks\":\"outside\"},\"baxis\":{\"gridcolor\":\"rgb(232,232,232)\",\"linecolor\":\"rgb(36,36,36)\",\"showgrid\":false,\"showline\":true,\"ticks\":\"outside\"},\"bgcolor\":\"white\",\"caxis\":{\"gridcolor\":\"rgb(232,232,232)\",\"linecolor\":\"rgb(36,36,36)\",\"showgrid\":false,\"showline\":true,\"ticks\":\"outside\"}},\"title\":{\"x\":0.05},\"xaxis\":{\"automargin\":true,\"gridcolor\":\"rgb(232,232,232)\",\"linecolor\":\"rgb(36,36,36)\",\"showgrid\":false,\"showline\":true,\"ticks\":\"outside\",\"title\":{\"standoff\":15},\"zeroline\":false,\"zerolinecolor\":\"rgb(36,36,36)\"},\"yaxis\":{\"automargin\":true,\"gridcolor\":\"rgb(232,232,232)\",\"linecolor\":\"rgb(36,36,36)\",\"showgrid\":false,\"showline\":true,\"ticks\":\"outside\",\"title\":{\"standoff\":15},\"zeroline\":false,\"zerolinecolor\":\"rgb(36,36,36)\"}}},\"xaxis\":{\"anchor\":\"y\",\"domain\":[0.0,1.0],\"title\":{\"text\":\"x\"}},\"yaxis\":{\"anchor\":\"x\",\"domain\":[0.0,1.0],\"title\":{\"text\":\"y\"}}},                        {\"responsive\": true}                    ).then(function(){\n",
       "                            \n",
       "var gd = document.getElementById('d21fbfa2-9d96-4d4e-bfd6-f0bf3b2ff2e7');\n",
       "var x = new MutationObserver(function (mutations, observer) {{\n",
       "        var display = window.getComputedStyle(gd).display;\n",
       "        if (!display || display === 'none') {{\n",
       "            console.log([gd, 'removed!']);\n",
       "            Plotly.purge(gd);\n",
       "            observer.disconnect();\n",
       "        }}\n",
       "}});\n",
       "\n",
       "// Listen for the removal of the full notebook cells\n",
       "var notebookContainer = gd.closest('#notebook-container');\n",
       "if (notebookContainer) {{\n",
       "    x.observe(notebookContainer, {childList: true});\n",
       "}}\n",
       "\n",
       "// Listen for the clearing of the current output cell\n",
       "var outputEl = gd.closest('.output');\n",
       "if (outputEl) {{\n",
       "    x.observe(outputEl, {childList: true});\n",
       "}}\n",
       "\n",
       "                        })                };                });            </script>        </div>"
      ]
     },
     "metadata": {},
     "output_type": "display_data"
    }
   ],
   "source": [
    "def feature_reduction_map(feature_mean_com_group, mapping = 'umap', show_component_weights = False, component_x = 0, component_y = 1):\n",
    "    \n",
    "    if mapping == 'umap':\n",
    "        mapper = UMAP()\n",
    "    else:\n",
    "        mapper = PCA()\n",
    "    \n",
    "    X = feature_mean_com_group.drop(columns = ['description', 'community'])\n",
    "    feature_group_map = mapper.fit_transform(X)\n",
    "\n",
    "    fig = px.scatter(x = feature_group_map[:,component_x],\n",
    "               y = feature_group_map[:,component_y],\n",
    "               color=feature_mean_com_group['community'].astype(str),\n",
    "               hover_data = [feature_mean_com_group['description']],\n",
    "               template = 'simple_white'\n",
    "               )\n",
    "    if show_component_weights:\n",
    "        comp_x_weights = pca_component_weights(feature_mean_com_group, component_x)\n",
    "        comp_y_weights = pca_component_weights(feature_mean_com_group, component_y)\n",
    "        print(comp_x_weights,'\\n\\n', comp_y_weights)\n",
    "        return fig\n",
    "    else:\n",
    "        return fig\n",
    "\n",
    "def pca_component_weights(feature_mean_com_group, component = 0):\n",
    "\n",
    "    mapper = PCA()\n",
    "    X = feature_mean_com_group.drop(columns = ['description', 'community'])\n",
    "    feature_group_map = mapper.fit_transform(X)\n",
    "\n",
    "    component_num = component\n",
    "    \n",
    "    components = pd.DataFrame({\n",
    "        'description': pca.feature_names_in_,\n",
    "        'coefficient': pca.components_[component_num]\n",
    "    })\n",
    "\n",
    "    return components.sort_values('coefficient', ascending=False)\n",
    "    \n",
    "feature_reduction_map(feature_mean_coms['sur'].fillna(0), \n",
    "                      mapping = 'pca', \n",
    "                      show_component_weights = True,\n",
    "                      component_x = 0, \n",
    "                      component_y = 1)"
   ]
  },
  {
   "cell_type": "markdown",
   "metadata": {},
   "source": [
    "## explore feature groups by feature community"
   ]
  },
  {
   "cell_type": "markdown",
   "id": "5c46db33",
   "metadata": {
    "slideshow": {
     "slide_type": "skip"
    }
   },
   "source": [
    "# appendix\n",
    "not for project use"
   ]
  },
  {
   "cell_type": "markdown",
   "id": "eafc2d1e",
   "metadata": {
    "slideshow": {
     "slide_type": "skip"
    }
   },
   "source": [
    "### original cosine similarity code"
   ]
  },
  {
   "cell_type": "code",
   "execution_count": null,
   "id": "40004f5f",
   "metadata": {
    "slideshow": {
     "slide_type": "skip"
    }
   },
   "outputs": [],
   "source": [
    "def token_filter(token):\n",
    "    return not (token.is_punct | token.is_space | token.is_stop)\n",
    "\n",
    "filtered_tokens = []\n",
    "for scripts_subset in tqdm(chunker(scripts, 2), total = np.ceil(len(scripts)/2)):\n",
    "    for doc in nlp.pipe(scripts_subset):\n",
    "        tokens = [token.lemma_.lower() for token in doc if token_filter(token)]\n",
    "        filtered_tokens.append(tokens)\n",
    "        \n",
    "tokens_no_sw = [[token for token in tokenized_script if token not in sw] for tokenized_script in filtered_tokens]\n",
    "\n",
    "scripts_counters = {description: Counter(tokenized_script) for description, tokenized_script in zip(descriptions, tokens_no_sw)}\n",
    "scripts_df = pd.DataFrame.from_dict(scripts_counters, orient = 'index').fillna(0)\n",
    "\n",
    "cosims = cosine_similarity(scripts_df)\n",
    "cosims_df = (pd.DataFrame(index=scripts_df.index, \n",
    "                          columns=scripts_df.index, \n",
    "                          data = cosims)\n",
    "                .melt(var_name='other_show', \n",
    "                      value_name='cosine_similarity', \n",
    "                      ignore_index=False)\n",
    "                .reset_index()\n",
    "                .rename(columns = {'index':'show'})\n",
    "        )"
   ]
  },
  {
   "cell_type": "markdown",
   "id": "cf763612",
   "metadata": {
    "slideshow": {
     "slide_type": "skip"
    }
   },
   "source": [
    "### render image or thumbnail"
   ]
  },
  {
   "cell_type": "code",
   "execution_count": null,
   "id": "af163bd8",
   "metadata": {
    "slideshow": {
     "slide_type": "skip"
    }
   },
   "outputs": [],
   "source": [
    "from IPython.display import Image, HTML\n",
    "\n",
    "#HTML(metascripts.loc[:5,['image']].to_html(escape = False))\n",
    "Image(url= f\"{metascripts.loc[0,'image']}\")"
   ]
  },
  {
   "cell_type": "markdown",
   "id": "cbb56c2b",
   "metadata": {
    "slideshow": {
     "slide_type": "skip"
    }
   },
   "source": [
    "### kmeans clustering"
   ]
  },
  {
   "cell_type": "code",
   "execution_count": 33,
   "id": "49718d45",
   "metadata": {
    "slideshow": {
     "slide_type": "skip"
    }
   },
   "outputs": [],
   "source": [
    "from sklearn.cluster import KMeans\n",
    "from sklearn.metrics import silhouette_samples, silhouette_score\n",
    "from jupyterthemes import jtplot\n",
    "jtplot.style()"
   ]
  },
  {
   "cell_type": "code",
   "execution_count": 47,
   "id": "32984fdf",
   "metadata": {
    "slideshow": {
     "slide_type": "skip"
    }
   },
   "outputs": [
    {
     "data": {
      "application/vnd.jupyter.widget-view+json": {
       "model_id": "",
       "version_major": 2,
       "version_minor": 0
      },
      "text/plain": [
       "  0%|          | 0/59 [00:00<?, ?it/s]"
      ]
     },
     "metadata": {},
     "output_type": "display_data"
    },
    {
     "data": {
      "image/png": "[encoded data removed]",
      "text/plain": [
       "<Figure size 1440x432 with 2 Axes>"
      ]
     },
     "metadata": {},
     "output_type": "display_data"
    }
   ],
   "source": [
    "inertias = []\n",
    "sil_scores = []\n",
    "max_clusters = 60\n",
    "for n_clusters in tqdm(range(2, max_clusters+1)):\n",
    "    \n",
    "    pipeline = Pipeline(\n",
    "        steps = [\n",
    "            ('scaler', StandardScaler()),\n",
    "            ('cluster', KMeans(n_clusters = n_clusters))\n",
    "        ]\n",
    "    )\n",
    "\n",
    "    pipeline.fit(metascripts[features])\n",
    "    inertias.append(pipeline['cluster'].inertia_)\n",
    "\n",
    "    \n",
    "    features_scaled = pipeline['scaler'].transform(metascripts[features])\n",
    "    features_clusters = pipeline.predict(metascripts[features])\n",
    "    sil_score = silhouette_score(features_scaled, features_clusters)\n",
    "    sil_scores.append(sil_score)\n",
    "        \n",
    "fig, (ax1, ax2) = plt.subplots(1, 2, figsize = (20,6))\n",
    "\n",
    "ax1.plot(range(2, max_clusters + 1), inertias)\n",
    "ax1.scatter(range(2, max_clusters + 1), inertias, s = 100)\n",
    "ax1.set_xlabel(\"number of clusters\")\n",
    "ax1.set_ylabel(\"inertia\")\n",
    "ax1.set_title(\"inertia by kmeans cluster size\")\n",
    "\n",
    "ax2.plot(range(2, max_clusters + 1), sil_scores)\n",
    "ax2.scatter(range(2, max_clusters + 1), sil_scores, s = 100)\n",
    "ax2.set_xlabel(\"number of clusters\")\n",
    "ax2.set_ylabel(\"silhoutte score\")\n",
    "ax2.set_title(\"silhouette score by kmeans cluster size\");"
   ]
  },
  {
   "cell_type": "code",
   "execution_count": 57,
   "id": "3b15d3a0",
   "metadata": {
    "slideshow": {
     "slide_type": "skip"
    }
   },
   "outputs": [
    {
     "data": {
      "image/png": "[encoded data removed]",
      "text/plain": [
       "<Figure size 720x432 with 1 Axes>"
      ]
     },
     "metadata": {},
     "output_type": "display_data"
    }
   ],
   "source": [
    "n_clusters = 39\n",
    "    \n",
    "pipeline = Pipeline(\n",
    "    steps = [\n",
    "        ('scaler', StandardScaler()),\n",
    "        ('cluster', KMeans(n_clusters = n_clusters))\n",
    "    ]\n",
    ")\n",
    "\n",
    "pipeline.fit(metascripts[features])\n",
    "inertias.append(pipeline['cluster'].inertia_)\n",
    "\n",
    "\n",
    "features_scaled = pipeline['scaler'].transform(metascripts[features])\n",
    "features_clusters = pipeline.predict(metascripts[features])\n",
    "sil_score = silhouette_score(features_scaled, features_clusters)\n",
    "sil_scores.append(sil_score)\n",
    "\n",
    "i = 13\n",
    "j = 19\n",
    "\n",
    "plt.figure(figsize = (10,6))\n",
    "sns.scatterplot(data = metascripts[features],\n",
    "               x = features[i],\n",
    "               y = features[j],\n",
    "               hue = pipeline[1].labels_)\n",
    "\n",
    "sns.scatterplot(x = pipeline['scaler'].inverse_transform(pipeline['cluster'].cluster_centers_)[:,i],\n",
    "                y = pipeline['scaler'].inverse_transform(pipeline['cluster'].cluster_centers_)[:,j],\n",
    "                s = 500, \n",
    "                hue = list(range(n_clusters)), \n",
    "                marker = 'D',\n",
    "                legend = False);"
   ]
  },
  {
   "cell_type": "markdown",
   "metadata": {},
   "source": [
    "## run Louvain algorithm on cosine similarities"
   ]
  },
  {
   "cell_type": "code",
   "execution_count": 434,
   "metadata": {},
   "outputs": [],
   "source": [
    "import community as community_louvain\n",
    "import matplotlib.cm as cm\n",
    "import matplotlib.pyplot as plt\n",
    "import networkx as nx"
   ]
  },
  {
   "cell_type": "code",
   "execution_count": 435,
   "metadata": {},
   "outputs": [
    {
     "data": {
      "text/plain": [
       "310"
      ]
     },
     "execution_count": 435,
     "metadata": {},
     "output_type": "execute_result"
    }
   ],
   "source": [
    "graph_df = (widget_df_export.loc[widget_df_export['cosine similarity'] < 0.99999, ['description selection', 'description comparison', 'cosine similarity']]\n",
    "                            .sort_values(['cosine similarity', 'description comparison'], ascending = False)\n",
    "                            .drop_duplicates(subset = 'cosine similarity', keep = 'first')\n",
    "        )\n",
    "\n",
    "#G = nx.Graph()\n",
    "G = nx.from_pandas_edgelist(graph_df, \n",
    "                        'description selection', \n",
    "                        'description comparison', \n",
    "                        edge_attr='cosine similarity')\n",
    "\n",
    "len(G.nodes())"
   ]
  },
  {
   "cell_type": "code",
   "execution_count": 436,
   "metadata": {},
   "outputs": [],
   "source": [
    "graph_df.to_csv('../data/graph_df.csv', index = False) # for Neo4J"
   ]
  },
  {
   "cell_type": "markdown",
   "metadata": {},
   "source": [
    "note that these weights failed in Python but ran in Neo4J's Louvain algorithm. I'll filter out negative weights below and then check python's Louvain."
   ]
  },
  {
   "cell_type": "markdown",
   "metadata": {},
   "source": [
    "## run Louvain without negative weights"
   ]
  },
  {
   "cell_type": "code",
   "execution_count": 437,
   "metadata": {},
   "outputs": [
    {
     "data": {
      "text/plain": [
       "310"
      ]
     },
     "execution_count": 437,
     "metadata": {},
     "output_type": "execute_result"
    }
   ],
   "source": [
    "graph_df = (widget_df_export.loc[widget_df_export['cosine similarity'].between(0, 0.99999), ['description selection', 'description comparison', 'cosine similarity']]\n",
    "                            .sort_values(['cosine similarity', 'description comparison'], ascending = False)\n",
    "                            .drop_duplicates(subset = 'cosine similarity', keep = 'first')\n",
    "        )\n",
    "\n",
    "#G = nx.Graph()\n",
    "G = nx.from_pandas_edgelist(graph_df, \n",
    "                        'description selection', \n",
    "                        'description comparison', \n",
    "                        edge_attr='cosine similarity')\n",
    "\n",
    "len(G.nodes())"
   ]
  },
  {
   "cell_type": "code",
   "execution_count": 438,
   "metadata": {},
   "outputs": [],
   "source": [
    "communities = community_louvain.best_partition(G, weight = 'cosine similarity')"
   ]
  },
  {
   "cell_type": "code",
   "execution_count": 439,
   "metadata": {},
   "outputs": [
    {
     "data": {
      "application/vnd.jupyter.widget-view+json": {
       "model_id": "",
       "version_major": 2,
       "version_minor": 0
      },
      "text/plain": [
       "  0%|          | 0/30621 [00:00<?, ?it/s]"
      ]
     },
     "metadata": {},
     "output_type": "display_data"
    }
   ],
   "source": [
    "communities_values = [communities.get(node) for node in tqdm(graph_df['description selection'])]\n",
    "graph_df['community selection'] = communities_values"
   ]
  },
  {
   "cell_type": "code",
   "execution_count": 440,
   "metadata": {},
   "outputs": [
    {
     "data": {
      "text/plain": [
       "1    0.391757\n",
       "0    0.371575\n",
       "2    0.236668\n",
       "Name: community selection, dtype: float64"
      ]
     },
     "execution_count": 440,
     "metadata": {},
     "output_type": "execute_result"
    }
   ],
   "source": [
    "graph_df['community selection'].value_counts(normalize = True)"
   ]
  },
  {
   "cell_type": "code",
   "execution_count": 441,
   "metadata": {},
   "outputs": [
    {
     "data": {
      "image/png": "[encoded data removed]",
      "text/plain": [
       "<Figure size 432x288 with 1 Axes>"
      ]
     },
     "metadata": {},
     "output_type": "display_data"
    }
   ],
   "source": [
    "# draw the graph\n",
    "pos = nx.spring_layout(G)\n",
    "# color the nodes according to their partition\n",
    "cmap = cm.get_cmap('viridis', max(communities.values()) + 1)\n",
    "nx.draw_networkx_nodes(G, pos, communities.keys(), node_size=40,\n",
    "                       cmap=cmap, node_color=list(communities.values()))\n",
    "nx.draw_networkx_edges(G, pos, alpha=0.5)\n",
    "plt.show()"
   ]
  }
 ],
 "metadata": {
  "kernelspec": {
   "display_name": "Python 3",
   "language": "python",
   "name": "python3"
  },
  "language_info": {
   "codemirror_mode": {
    "name": "ipython",
    "version": 3
   },
   "file_extension": ".py",
   "mimetype": "text/x-python",
   "name": "python",
   "nbconvert_exporter": "python",
   "pygments_lexer": "ipython3",
   "version": "3.8.8"
  }
 },
 "nbformat": 4,
 "nbformat_minor": 5
}
