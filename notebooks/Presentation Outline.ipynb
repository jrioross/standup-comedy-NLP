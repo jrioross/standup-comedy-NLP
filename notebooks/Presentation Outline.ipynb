{
 "cells": [
  {
   "cell_type": "markdown",
   "id": "348f654c",
   "metadata": {},
   "source": [
    "# Standup Comedy Recommender\n",
    "## Joshua Rio-Ross\n",
    "### DS5 Capstone Project"
   ]
  },
  {
   "cell_type": "markdown",
   "id": "5c2cb61b",
   "metadata": {},
   "source": [
    "# The Interest\n",
    "\n",
    "## I'm fascinated with language\n",
    "## I'm fascinated with comedy\n",
    "## I'm fascinated with machine learning"
   ]
  },
  {
   "cell_type": "markdown",
   "id": "0a3d0c89",
   "metadata": {},
   "source": [
    "# The Problem\n",
    "\n",
    "## The transitive property closes communities in on themselves, as we've seen on our social media platforms.\n",
    "\n",
    "## Recommenders should simultaneously learn what we like while also opening us up to new things and people."
   ]
  },
  {
   "cell_type": "markdown",
   "id": "1e6c1769",
   "metadata": {},
   "source": [
    "# The Goal\n",
    "\n",
    "## Write a recommender based upon similarities in comedian style."
   ]
  },
  {
   "cell_type": "markdown",
   "id": "6a6365c6",
   "metadata": {},
   "source": [
    "# The Data\n",
    "\n",
    "## Scraped standup comedy transcripts from Scraps from the Loft"
   ]
  },
  {
   "cell_type": "markdown",
   "id": "02c76dd1",
   "metadata": {},
   "source": [
    "# The Method\n",
    "\n",
    "## Use NLP techniques to engineer features\n",
    "\n",
    "## Use unsupervised learning to cluster the shows together\n",
    "\n",
    "## Offer top-5 recommendations based upon model proximity"
   ]
  },
  {
   "cell_type": "markdown",
   "id": "1ee271c9",
   "metadata": {},
   "source": [
    "# The Features\n",
    "\n",
    "   - bag-of-words cosine similarity\n",
    "   - word lengths\n",
    "   - sentence lengths\n",
    "   - distinct words\n",
    "   - words per minute\n",
    "   - sentences per minute\n",
    "   - repetitiveness\n",
    "   - profanity\n",
    "   - part-of-speech frequencies\n",
    "   - point-of-view frequencies\n",
    "   - sentiment: polarity\n",
    "   - sentiment: subjectivity\n",
    "   - topic community\n",
    "   - word community"
   ]
  },
  {
   "cell_type": "markdown",
   "id": "915b1bc5",
   "metadata": {},
   "source": [
    "# The Recommender"
   ]
  },
  {
   "cell_type": "code",
   "execution_count": null,
   "id": "2f8b9e8f",
   "metadata": {},
   "outputs": [],
   "source": []
  }
 ],
 "metadata": {
  "kernelspec": {
   "display_name": "Python 3",
   "language": "python",
   "name": "python3"
  },
  "language_info": {
   "codemirror_mode": {
    "name": "ipython",
    "version": 3
   },
   "file_extension": ".py",
   "mimetype": "text/x-python",
   "name": "python",
   "nbconvert_exporter": "python",
   "pygments_lexer": "ipython3",
   "version": "3.8.8"
  }
 },
 "nbformat": 4,
 "nbformat_minor": 5
}
